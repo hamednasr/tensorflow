{
  "nbformat": 4,
  "nbformat_minor": 0,
  "metadata": {
    "colab": {
      "name": "04-transfer learning in tensorflow.ipynb",
      "provenance": [],
      "collapsed_sections": [],
      "authorship_tag": "ABX9TyMnnMxQHgxvd9TdUo4Bdxih",
      "include_colab_link": true
    },
    "kernelspec": {
      "name": "python3",
      "display_name": "Python 3"
    },
    "language_info": {
      "name": "python"
    }
  },
  "cells": [
    {
      "cell_type": "markdown",
      "metadata": {
        "id": "view-in-github",
        "colab_type": "text"
      },
      "source": [
        "<a href=\"https://colab.research.google.com/github/hamednasr/tensorflow/blob/main/04_transfer_learning_in_tensorflow.ipynb\" target=\"_parent\"><img src=\"https://colab.research.google.com/assets/colab-badge.svg\" alt=\"Open In Colab\"/></a>"
      ]
    },
    {
      "cell_type": "markdown",
      "source": [
        "# transfer learning in tensorflow: feature extraction"
      ],
      "metadata": {
        "id": "AE4I-jLVJsqw"
      }
    },
    {
      "cell_type": "markdown",
      "source": [
        "## load data"
      ],
      "metadata": {
        "id": "9iyfMZQXKiyq"
      }
    },
    {
      "cell_type": "code",
      "execution_count": 3,
      "metadata": {
        "colab": {
          "base_uri": "https://localhost:8080/"
        },
        "id": "3HKqZDErIrUj",
        "outputId": "03b99664-b3dc-41d6-feca-64730fec1497"
      },
      "outputs": [
        {
          "output_type": "stream",
          "name": "stdout",
          "text": [
            "--2022-02-26 03:51:18--  https://storage.googleapis.com/ztm_tf_course/food_vision/10_food_classes_10_percent.zip\n",
            "Resolving storage.googleapis.com (storage.googleapis.com)... 74.125.199.128, 74.125.197.128, 74.125.142.128, ...\n",
            "Connecting to storage.googleapis.com (storage.googleapis.com)|74.125.199.128|:443... connected.\n",
            "HTTP request sent, awaiting response... 200 OK\n",
            "Length: 168546183 (161M) [application/zip]\n",
            "Saving to: ‘10_food_classes_10_percent.zip’\n",
            "\n",
            "10_food_classes_10_ 100%[===================>] 160.74M   204MB/s    in 0.8s    \n",
            "\n",
            "2022-02-26 03:51:19 (204 MB/s) - ‘10_food_classes_10_percent.zip’ saved [168546183/168546183]\n",
            "\n"
          ]
        }
      ],
      "source": [
        "!wget https://storage.googleapis.com/ztm_tf_course/food_vision/10_food_classes_10_percent.zip"
      ]
    },
    {
      "cell_type": "code",
      "source": [
        "import zipfile\n",
        "zip_ref = zipfile.ZipFile('10_food_classes_10_percent.zip')\n",
        "zip_ref.extractall()\n",
        "zip_ref.close()"
      ],
      "metadata": {
        "id": "i6DqA77WKLx3"
      },
      "execution_count": 5,
      "outputs": []
    },
    {
      "cell_type": "code",
      "source": [
        "import os\n",
        "for dirpath, dirnames,filenames in os.walk('10_food_classes_10_percent'):\n",
        "  print(f'there are {len(dirnames)} folders and {len(filenames)} images in {dirpath}')"
      ],
      "metadata": {
        "colab": {
          "base_uri": "https://localhost:8080/"
        },
        "id": "wpXu5P3hK9Z6",
        "outputId": "f540d97b-b8de-4218-8ee7-616c6a58f829"
      },
      "execution_count": 6,
      "outputs": [
        {
          "output_type": "stream",
          "name": "stdout",
          "text": [
            "there are 2 folders and 0 images in 10_food_classes_10_percent\n",
            "there are 10 folders and 0 images in 10_food_classes_10_percent/train\n",
            "there are 0 folders and 75 images in 10_food_classes_10_percent/train/ice_cream\n",
            "there are 0 folders and 75 images in 10_food_classes_10_percent/train/fried_rice\n",
            "there are 0 folders and 75 images in 10_food_classes_10_percent/train/grilled_salmon\n",
            "there are 0 folders and 75 images in 10_food_classes_10_percent/train/hamburger\n",
            "there are 0 folders and 75 images in 10_food_classes_10_percent/train/chicken_curry\n",
            "there are 0 folders and 75 images in 10_food_classes_10_percent/train/pizza\n",
            "there are 0 folders and 75 images in 10_food_classes_10_percent/train/sushi\n",
            "there are 0 folders and 75 images in 10_food_classes_10_percent/train/ramen\n",
            "there are 0 folders and 75 images in 10_food_classes_10_percent/train/steak\n",
            "there are 0 folders and 75 images in 10_food_classes_10_percent/train/chicken_wings\n",
            "there are 10 folders and 0 images in 10_food_classes_10_percent/test\n",
            "there are 0 folders and 250 images in 10_food_classes_10_percent/test/ice_cream\n",
            "there are 0 folders and 250 images in 10_food_classes_10_percent/test/fried_rice\n",
            "there are 0 folders and 250 images in 10_food_classes_10_percent/test/grilled_salmon\n",
            "there are 0 folders and 250 images in 10_food_classes_10_percent/test/hamburger\n",
            "there are 0 folders and 250 images in 10_food_classes_10_percent/test/chicken_curry\n",
            "there are 0 folders and 250 images in 10_food_classes_10_percent/test/pizza\n",
            "there are 0 folders and 250 images in 10_food_classes_10_percent/test/sushi\n",
            "there are 0 folders and 250 images in 10_food_classes_10_percent/test/ramen\n",
            "there are 0 folders and 250 images in 10_food_classes_10_percent/test/steak\n",
            "there are 0 folders and 250 images in 10_food_classes_10_percent/test/chicken_wings\n"
          ]
        }
      ]
    },
    {
      "cell_type": "markdown",
      "source": [
        "## preprocess the data"
      ],
      "metadata": {
        "id": "yCDqszU9MoPK"
      }
    },
    {
      "cell_type": "code",
      "source": [
        "from tensorflow.keras.preprocessing.image import ImageDataGenerator\n",
        "image_shape = (224, 224)\n",
        "batch_size = 32\n",
        "\n",
        "train_dir = '10_food_classes_10_percent/train'\n",
        "test_dir = '10_food_classes_10_percent/test'\n",
        "\n",
        "train_datagen = ImageDataGenerator(rescale=1/255) \n",
        "test_datagen = ImageDataGenerator(rescale=1/255) \n",
        "\n",
        "print('Training images:')\n",
        "train_data_10_percent = train_datagen.flow_from_directory(directory=train_dir,\n",
        "                                                          target_size=image_shape,\n",
        "                                                          batch_size=batch_size,\n",
        "                                                          class_mode='categorical')\n",
        "print('\\nTraining images:')\n",
        "test_data = test_datagen.flow_from_directory(directory=test_dir,\n",
        "                                              target_size=image_shape,\n",
        "                                              batch_size=batch_size,\n",
        "                                              class_mode='categorical')"
      ],
      "metadata": {
        "colab": {
          "base_uri": "https://localhost:8080/"
        },
        "id": "6_WNlALPLqOS",
        "outputId": "badc823f-7200-4e80-dd86-48cee318a6c5"
      },
      "execution_count": 12,
      "outputs": [
        {
          "output_type": "stream",
          "name": "stdout",
          "text": [
            "Training images:\n",
            "Found 750 images belonging to 10 classes.\n",
            "\n",
            "Training images:\n",
            "Found 2500 images belonging to 10 classes.\n"
          ]
        }
      ]
    },
    {
      "cell_type": "code",
      "source": [
        ""
      ],
      "metadata": {
        "id": "blJ_CpNcPL_J"
      },
      "execution_count": null,
      "outputs": []
    }
  ]
}