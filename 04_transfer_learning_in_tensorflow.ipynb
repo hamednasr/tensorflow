{
  "nbformat": 4,
  "nbformat_minor": 0,
  "metadata": {
    "colab": {
      "name": "04-transfer learning in tensorflow.ipynb",
      "provenance": [],
      "collapsed_sections": [],
      "authorship_tag": "ABX9TyPrruWhwJn8MIH04wQtfG1Q",
      "include_colab_link": true
    },
    "kernelspec": {
      "name": "python3",
      "display_name": "Python 3"
    },
    "language_info": {
      "name": "python"
    },
    "accelerator": "GPU"
  },
  "cells": [
    {
      "cell_type": "markdown",
      "metadata": {
        "id": "view-in-github",
        "colab_type": "text"
      },
      "source": [
        "<a href=\"https://colab.research.google.com/github/hamednasr/tensorflow/blob/main/04_transfer_learning_in_tensorflow.ipynb\" target=\"_parent\"><img src=\"https://colab.research.google.com/assets/colab-badge.svg\" alt=\"Open In Colab\"/></a>"
      ]
    },
    {
      "cell_type": "markdown",
      "source": [
        "# transfer learning in tensorflow: feature extraction"
      ],
      "metadata": {
        "id": "AE4I-jLVJsqw"
      }
    },
    {
      "cell_type": "markdown",
      "source": [
        "## load data"
      ],
      "metadata": {
        "id": "9iyfMZQXKiyq"
      }
    },
    {
      "cell_type": "code",
      "execution_count": 1,
      "metadata": {
        "colab": {
          "base_uri": "https://localhost:8080/"
        },
        "id": "3HKqZDErIrUj",
        "outputId": "ad1e92bb-11e0-47fa-8904-e3a4c41df159"
      },
      "outputs": [
        {
          "output_type": "stream",
          "name": "stdout",
          "text": [
            "--2022-02-27 18:41:13--  https://storage.googleapis.com/ztm_tf_course/food_vision/10_food_classes_10_percent.zip\n",
            "Resolving storage.googleapis.com (storage.googleapis.com)... 64.233.181.128, 64.233.183.128, 173.194.194.128, ...\n",
            "Connecting to storage.googleapis.com (storage.googleapis.com)|64.233.181.128|:443... connected.\n",
            "HTTP request sent, awaiting response... 200 OK\n",
            "Length: 168546183 (161M) [application/zip]\n",
            "Saving to: ‘10_food_classes_10_percent.zip’\n",
            "\n",
            "10_food_classes_10_ 100%[===================>] 160.74M   195MB/s    in 0.8s    \n",
            "\n",
            "2022-02-27 18:41:14 (195 MB/s) - ‘10_food_classes_10_percent.zip’ saved [168546183/168546183]\n",
            "\n"
          ]
        }
      ],
      "source": [
        "!wget https://storage.googleapis.com/ztm_tf_course/food_vision/10_food_classes_10_percent.zip"
      ]
    },
    {
      "cell_type": "code",
      "source": [
        "import zipfile\n",
        "zip_ref = zipfile.ZipFile('10_food_classes_10_percent.zip')\n",
        "zip_ref.extractall()\n",
        "zip_ref.close()"
      ],
      "metadata": {
        "id": "i6DqA77WKLx3"
      },
      "execution_count": 2,
      "outputs": []
    },
    {
      "cell_type": "code",
      "source": [
        "import os\n",
        "for dirpath, dirnames,filenames in os.walk('10_food_classes_10_percent'):\n",
        "  print(f'there are {len(dirnames)} folders and {len(filenames)} images in {dirpath}')"
      ],
      "metadata": {
        "colab": {
          "base_uri": "https://localhost:8080/"
        },
        "id": "wpXu5P3hK9Z6",
        "outputId": "e214f6c1-a355-47e9-f369-c58283f77745"
      },
      "execution_count": 3,
      "outputs": [
        {
          "output_type": "stream",
          "name": "stdout",
          "text": [
            "there are 2 folders and 0 images in 10_food_classes_10_percent\n",
            "there are 10 folders and 0 images in 10_food_classes_10_percent/test\n",
            "there are 0 folders and 250 images in 10_food_classes_10_percent/test/fried_rice\n",
            "there are 0 folders and 250 images in 10_food_classes_10_percent/test/chicken_wings\n",
            "there are 0 folders and 250 images in 10_food_classes_10_percent/test/pizza\n",
            "there are 0 folders and 250 images in 10_food_classes_10_percent/test/steak\n",
            "there are 0 folders and 250 images in 10_food_classes_10_percent/test/grilled_salmon\n",
            "there are 0 folders and 250 images in 10_food_classes_10_percent/test/sushi\n",
            "there are 0 folders and 250 images in 10_food_classes_10_percent/test/chicken_curry\n",
            "there are 0 folders and 250 images in 10_food_classes_10_percent/test/ramen\n",
            "there are 0 folders and 250 images in 10_food_classes_10_percent/test/hamburger\n",
            "there are 0 folders and 250 images in 10_food_classes_10_percent/test/ice_cream\n",
            "there are 10 folders and 0 images in 10_food_classes_10_percent/train\n",
            "there are 0 folders and 75 images in 10_food_classes_10_percent/train/fried_rice\n",
            "there are 0 folders and 75 images in 10_food_classes_10_percent/train/chicken_wings\n",
            "there are 0 folders and 75 images in 10_food_classes_10_percent/train/pizza\n",
            "there are 0 folders and 75 images in 10_food_classes_10_percent/train/steak\n",
            "there are 0 folders and 75 images in 10_food_classes_10_percent/train/grilled_salmon\n",
            "there are 0 folders and 75 images in 10_food_classes_10_percent/train/sushi\n",
            "there are 0 folders and 75 images in 10_food_classes_10_percent/train/chicken_curry\n",
            "there are 0 folders and 75 images in 10_food_classes_10_percent/train/ramen\n",
            "there are 0 folders and 75 images in 10_food_classes_10_percent/train/hamburger\n",
            "there are 0 folders and 75 images in 10_food_classes_10_percent/train/ice_cream\n"
          ]
        }
      ]
    },
    {
      "cell_type": "markdown",
      "source": [
        "## preprocess the data"
      ],
      "metadata": {
        "id": "yCDqszU9MoPK"
      }
    },
    {
      "cell_type": "code",
      "source": [
        "from tensorflow.keras.preprocessing.image import ImageDataGenerator\n",
        "image_shape = (224, 224)\n",
        "batch_size = 32\n",
        "\n",
        "train_dir = '10_food_classes_10_percent/train'\n",
        "test_dir = '10_food_classes_10_percent/test'\n",
        "\n",
        "train_datagen = ImageDataGenerator(rescale=1/255) \n",
        "test_datagen = ImageDataGenerator(rescale=1/255) \n",
        "\n",
        "print('Training images:')\n",
        "train_data_10_percent = train_datagen.flow_from_directory(directory=train_dir,\n",
        "                                                          target_size=image_shape,\n",
        "                                                          batch_size=batch_size,\n",
        "                                                          class_mode='categorical')\n",
        "print('\\nTest images:')\n",
        "test_data = test_datagen.flow_from_directory(directory=test_dir,\n",
        "                                              target_size=image_shape,\n",
        "                                              batch_size=batch_size,\n",
        "                                              class_mode='categorical')"
      ],
      "metadata": {
        "colab": {
          "base_uri": "https://localhost:8080/"
        },
        "id": "6_WNlALPLqOS",
        "outputId": "bdf628f3-f733-43f3-d83e-c89075ec1418"
      },
      "execution_count": 4,
      "outputs": [
        {
          "output_type": "stream",
          "name": "stdout",
          "text": [
            "Training images:\n",
            "Found 750 images belonging to 10 classes.\n",
            "\n",
            "Test images:\n",
            "Found 2500 images belonging to 10 classes.\n"
          ]
        }
      ]
    },
    {
      "cell_type": "markdown",
      "source": [
        "## create a tensorboard callback"
      ],
      "metadata": {
        "id": "9BrlwT5uUV97"
      }
    },
    {
      "cell_type": "code",
      "source": [
        "import datetime\n",
        "\n",
        "def create_tensorboard_callback(dir_name, experiment_name):\n",
        "  log_dir = dir_name + '/' + experiment_name + '/' + datetime.datetime.now().strftime('%y%m%d-%H%M%S')\n",
        "  tensorboard_callback = tf.keras.callbacks.TensorBoard(log_dir=log_dir)\n",
        "  print(f'saving tensorboard log files to: {log_dir}')\n",
        "  return tensorboard_callback"
      ],
      "metadata": {
        "id": "blJ_CpNcPL_J"
      },
      "execution_count": 5,
      "outputs": []
    },
    {
      "cell_type": "markdown",
      "source": [
        "## create models using tensorflow hub"
      ],
      "metadata": {
        "id": "kanMFzyIr0UT"
      }
    },
    {
      "cell_type": "code",
      "source": [
        "import tensorflow as tf\n",
        "import tensorflow_hub as hub\n",
        "from tensorflow.keras import layers, optimizers"
      ],
      "metadata": {
        "id": "L3r3i_0zRAz2"
      },
      "execution_count": 6,
      "outputs": []
    },
    {
      "cell_type": "code",
      "source": [
        "# two models from tensorflow hub\n",
        "\n",
        "resnet_url = 'https://tfhub.dev/google/imagenet/resnet_v2_101/feature_vector/5'\n",
        "efficiennet_url='https://tfhub.dev/google/imagenet/efficientnet_v2_imagenet1k_b0/feature_vector/2'"
      ],
      "metadata": {
        "id": "Vs0fTW29oIt4"
      },
      "execution_count": 7,
      "outputs": []
    },
    {
      "cell_type": "code",
      "source": [
        "def create_model(model_url, num_classes = 10):\n",
        "  '''\n",
        "  takes a tensorflow hub URL and creates a keras sequential model withit\n",
        "  \n",
        "  Args:\n",
        "  model_url: the URL of model from tensorflow hub\n",
        "  num_classes\n",
        "  '''\n",
        "  \n",
        "  feature_extractor_layer = hub.KerasLayer(model_url,trainable=False,\n",
        "                                           name='feature_extractor_layer',\n",
        "                                           input_shape=image_shape+(3,))   \n",
        "  \n",
        "  model = tf.keras.Sequential([\n",
        "                feature_extractor_layer,\n",
        "\n",
        "                layers.Dense(num_classes, activation= 'softmax', name='output_layer')\n",
        "      ])\n",
        "  \n",
        "  return model"
      ],
      "metadata": {
        "id": "bEi0y7x0QopS"
      },
      "execution_count": 8,
      "outputs": []
    },
    {
      "cell_type": "markdown",
      "source": [
        "### resnet model"
      ],
      "metadata": {
        "id": "8th_-pK5hNVx"
      }
    },
    {
      "cell_type": "code",
      "source": [
        "resnet_model=create_model(resnet_url,train_data_10_percent.num_classes)"
      ],
      "metadata": {
        "id": "8CLITeRcRgz8"
      },
      "execution_count": 9,
      "outputs": []
    },
    {
      "cell_type": "code",
      "source": [
        "resnet_model.summary()"
      ],
      "metadata": {
        "colab": {
          "base_uri": "https://localhost:8080/"
        },
        "id": "930kJPNgRgxX",
        "outputId": "bd0aba6c-c80d-4e9c-c362-37c402fd80af"
      },
      "execution_count": 10,
      "outputs": [
        {
          "output_type": "stream",
          "name": "stdout",
          "text": [
            "Model: \"sequential\"\n",
            "_________________________________________________________________\n",
            " Layer (type)                Output Shape              Param #   \n",
            "=================================================================\n",
            " feature_extractor_layer (Ke  (None, 2048)             42626560  \n",
            " rasLayer)                                                       \n",
            "                                                                 \n",
            " output_layer (Dense)        (None, 10)                20490     \n",
            "                                                                 \n",
            "=================================================================\n",
            "Total params: 42,647,050\n",
            "Trainable params: 20,490\n",
            "Non-trainable params: 42,626,560\n",
            "_________________________________________________________________\n"
          ]
        }
      ]
    },
    {
      "cell_type": "code",
      "source": [
        "resnet_model.compile(loss = 'categorical_crossentropy',\n",
        "                     optimizer = optimizers.Adam(),\n",
        "                     metrics = ['accuracy'])"
      ],
      "metadata": {
        "id": "4WFo78t2Rgu4"
      },
      "execution_count": 11,
      "outputs": []
    },
    {
      "cell_type": "code",
      "source": [
        "resnet_model.fit(train_data_10_percent,epochs=20,\n",
        "                 callbacks=[create_tensorboard_callback('tensorboard','resnet')])"
      ],
      "metadata": {
        "colab": {
          "base_uri": "https://localhost:8080/"
        },
        "id": "lXoN85EpjY1b",
        "outputId": "32995491-03c1-42a7-8d38-9c7941113719"
      },
      "execution_count": 12,
      "outputs": [
        {
          "output_type": "stream",
          "name": "stdout",
          "text": [
            "saving tensorboard log files to: tensorboard/resnet/220227-184132\n",
            "Epoch 1/20\n",
            "24/24 [==============================] - 28s 356ms/step - loss: 1.8644 - accuracy: 0.3960\n",
            "Epoch 2/20\n",
            "24/24 [==============================] - 8s 311ms/step - loss: 0.8407 - accuracy: 0.7547\n",
            "Epoch 3/20\n",
            "24/24 [==============================] - 8s 312ms/step - loss: 0.5691 - accuracy: 0.8267\n",
            "Epoch 4/20\n",
            "24/24 [==============================] - 8s 314ms/step - loss: 0.4302 - accuracy: 0.8893\n",
            "Epoch 5/20\n",
            "24/24 [==============================] - 8s 313ms/step - loss: 0.3318 - accuracy: 0.9293\n",
            "Epoch 6/20\n",
            "24/24 [==============================] - 8s 339ms/step - loss: 0.2762 - accuracy: 0.9520\n",
            "Epoch 7/20\n",
            "24/24 [==============================] - 8s 316ms/step - loss: 0.2211 - accuracy: 0.9693\n",
            "Epoch 8/20\n",
            "24/24 [==============================] - 8s 320ms/step - loss: 0.1838 - accuracy: 0.9733\n",
            "Epoch 9/20\n",
            "24/24 [==============================] - 8s 318ms/step - loss: 0.1530 - accuracy: 0.9853\n",
            "Epoch 10/20\n",
            "24/24 [==============================] - 8s 329ms/step - loss: 0.1312 - accuracy: 0.9867\n",
            "Epoch 11/20\n",
            "24/24 [==============================] - 8s 324ms/step - loss: 0.1159 - accuracy: 0.9920\n",
            "Epoch 12/20\n",
            "24/24 [==============================] - 8s 317ms/step - loss: 0.0973 - accuracy: 0.9947\n",
            "Epoch 13/20\n",
            "24/24 [==============================] - 8s 321ms/step - loss: 0.0856 - accuracy: 0.9987\n",
            "Epoch 14/20\n",
            "24/24 [==============================] - 8s 317ms/step - loss: 0.0767 - accuracy: 0.9987\n",
            "Epoch 15/20\n",
            "24/24 [==============================] - 8s 318ms/step - loss: 0.0685 - accuracy: 0.9987\n",
            "Epoch 16/20\n",
            "24/24 [==============================] - 8s 317ms/step - loss: 0.0614 - accuracy: 0.9987\n",
            "Epoch 17/20\n",
            "24/24 [==============================] - 8s 318ms/step - loss: 0.0579 - accuracy: 1.0000\n",
            "Epoch 18/20\n",
            "24/24 [==============================] - 8s 316ms/step - loss: 0.0506 - accuracy: 1.0000\n",
            "Epoch 19/20\n",
            "24/24 [==============================] - 8s 317ms/step - loss: 0.0464 - accuracy: 1.0000\n",
            "Epoch 20/20\n",
            "24/24 [==============================] - 8s 316ms/step - loss: 0.0426 - accuracy: 1.0000\n"
          ]
        },
        {
          "output_type": "execute_result",
          "data": {
            "text/plain": [
              "<keras.callbacks.History at 0x7f71da0ad650>"
            ]
          },
          "metadata": {},
          "execution_count": 12
        }
      ]
    },
    {
      "cell_type": "code",
      "source": [
        "resnet_model.evaluate(test_data)"
      ],
      "metadata": {
        "colab": {
          "base_uri": "https://localhost:8080/"
        },
        "id": "0p03R2_9l1nW",
        "outputId": "c95217c6-6168-4b37-c54d-14ba2c86b060"
      },
      "execution_count": 13,
      "outputs": [
        {
          "output_type": "stream",
          "name": "stdout",
          "text": [
            "79/79 [==============================] - 27s 329ms/step - loss: 0.5970 - accuracy: 0.8068\n"
          ]
        },
        {
          "output_type": "execute_result",
          "data": {
            "text/plain": [
              "[0.596977710723877, 0.8068000078201294]"
            ]
          },
          "metadata": {},
          "execution_count": 13
        }
      ]
    },
    {
      "cell_type": "markdown",
      "source": [
        "### efficient model"
      ],
      "metadata": {
        "id": "4iL6vIxjxyGl"
      }
    },
    {
      "cell_type": "code",
      "source": [
        "eff_model = create_model(efficiennet_url,train_data_10_percent.num_classes)"
      ],
      "metadata": {
        "id": "iS9_uM6zxgwq"
      },
      "execution_count": 14,
      "outputs": []
    },
    {
      "cell_type": "code",
      "source": [
        "eff_model.summary()"
      ],
      "metadata": {
        "colab": {
          "base_uri": "https://localhost:8080/"
        },
        "id": "SKT5H_gOyVHb",
        "outputId": "1fac9839-33bc-4b82-9fca-5fb73f66f87c"
      },
      "execution_count": 15,
      "outputs": [
        {
          "output_type": "stream",
          "name": "stdout",
          "text": [
            "Model: \"sequential_1\"\n",
            "_________________________________________________________________\n",
            " Layer (type)                Output Shape              Param #   \n",
            "=================================================================\n",
            " feature_extractor_layer (Ke  (None, 1280)             5919312   \n",
            " rasLayer)                                                       \n",
            "                                                                 \n",
            " output_layer (Dense)        (None, 10)                12810     \n",
            "                                                                 \n",
            "=================================================================\n",
            "Total params: 5,932,122\n",
            "Trainable params: 12,810\n",
            "Non-trainable params: 5,919,312\n",
            "_________________________________________________________________\n"
          ]
        }
      ]
    },
    {
      "cell_type": "code",
      "source": [
        "eff_model.compile(loss = 'categorical_crossentropy',\n",
        "                 optimizer=optimizers.Adam(),\n",
        "                 metrics=['accuracy'])"
      ],
      "metadata": {
        "id": "8AseqN18yEGb"
      },
      "execution_count": 16,
      "outputs": []
    },
    {
      "cell_type": "code",
      "source": [
        "eff_model.fit(train_data_10_percent,epochs=20,\n",
        "                 callbacks=[create_tensorboard_callback('tensorboard','efficientnet')])"
      ],
      "metadata": {
        "colab": {
          "base_uri": "https://localhost:8080/"
        },
        "id": "gjz4EsVDyRwj",
        "outputId": "d7e63fd6-8856-4e3c-ecdc-d03694e97d3f"
      },
      "execution_count": 17,
      "outputs": [
        {
          "output_type": "stream",
          "name": "stdout",
          "text": [
            "saving tensorboard log files to: tensorboard/efficientnet/220227-184525\n",
            "Epoch 1/20\n",
            "24/24 [==============================] - 14s 199ms/step - loss: 1.9866 - accuracy: 0.3413\n",
            "Epoch 2/20\n",
            "24/24 [==============================] - 4s 180ms/step - loss: 1.3125 - accuracy: 0.6840\n",
            "Epoch 3/20\n",
            "24/24 [==============================] - 4s 177ms/step - loss: 1.0071 - accuracy: 0.7440\n",
            "Epoch 4/20\n",
            "24/24 [==============================] - 4s 179ms/step - loss: 0.8426 - accuracy: 0.7920\n",
            "Epoch 5/20\n",
            "24/24 [==============================] - 4s 184ms/step - loss: 0.7348 - accuracy: 0.8200\n",
            "Epoch 6/20\n",
            "24/24 [==============================] - 4s 184ms/step - loss: 0.6526 - accuracy: 0.8480\n",
            "Epoch 7/20\n",
            "24/24 [==============================] - 5s 216ms/step - loss: 0.5888 - accuracy: 0.8680\n",
            "Epoch 8/20\n",
            "24/24 [==============================] - 5s 192ms/step - loss: 0.5385 - accuracy: 0.8853\n",
            "Epoch 9/20\n",
            "24/24 [==============================] - 5s 196ms/step - loss: 0.4944 - accuracy: 0.9067\n",
            "Epoch 10/20\n",
            "24/24 [==============================] - 5s 193ms/step - loss: 0.4535 - accuracy: 0.9213\n",
            "Epoch 11/20\n",
            "24/24 [==============================] - 5s 197ms/step - loss: 0.4196 - accuracy: 0.9280\n",
            "Epoch 12/20\n",
            "24/24 [==============================] - 5s 194ms/step - loss: 0.3903 - accuracy: 0.9360\n",
            "Epoch 13/20\n",
            "24/24 [==============================] - 4s 181ms/step - loss: 0.3638 - accuracy: 0.9387\n",
            "Epoch 14/20\n",
            "24/24 [==============================] - 5s 189ms/step - loss: 0.3381 - accuracy: 0.9480\n",
            "Epoch 15/20\n",
            "24/24 [==============================] - 5s 201ms/step - loss: 0.3179 - accuracy: 0.9547\n",
            "Epoch 16/20\n",
            "24/24 [==============================] - 5s 194ms/step - loss: 0.2980 - accuracy: 0.9560\n",
            "Epoch 17/20\n",
            "24/24 [==============================] - 5s 206ms/step - loss: 0.2817 - accuracy: 0.9627\n",
            "Epoch 18/20\n",
            "24/24 [==============================] - 5s 194ms/step - loss: 0.2628 - accuracy: 0.9667\n",
            "Epoch 19/20\n",
            "24/24 [==============================] - 5s 192ms/step - loss: 0.2478 - accuracy: 0.9680\n",
            "Epoch 20/20\n",
            "24/24 [==============================] - 5s 186ms/step - loss: 0.2325 - accuracy: 0.9733\n"
          ]
        },
        {
          "output_type": "execute_result",
          "data": {
            "text/plain": [
              "<keras.callbacks.History at 0x7f715e723f10>"
            ]
          },
          "metadata": {},
          "execution_count": 17
        }
      ]
    },
    {
      "cell_type": "code",
      "source": [
        "eff_model.evaluate(test_data)"
      ],
      "metadata": {
        "colab": {
          "base_uri": "https://localhost:8080/"
        },
        "id": "hXRAt5Hhymnb",
        "outputId": "6ccbc6fa-e60f-4adb-9723-1f834cbfdf7f"
      },
      "execution_count": 18,
      "outputs": [
        {
          "output_type": "stream",
          "name": "stdout",
          "text": [
            "79/79 [==============================] - 17s 196ms/step - loss: 0.6107 - accuracy: 0.7944\n"
          ]
        },
        {
          "output_type": "execute_result",
          "data": {
            "text/plain": [
              "[0.6107074022293091, 0.7943999767303467]"
            ]
          },
          "metadata": {},
          "execution_count": 18
        }
      ]
    },
    {
      "cell_type": "code",
      "source": [
        "!nvidia-smi"
      ],
      "metadata": {
        "colab": {
          "base_uri": "https://localhost:8080/"
        },
        "id": "8FHRpj0IyuiU",
        "outputId": "58ca1888-8ea7-4a1e-a32a-2135a8708eff"
      },
      "execution_count": 19,
      "outputs": [
        {
          "output_type": "stream",
          "name": "stdout",
          "text": [
            "Sun Feb 27 18:48:10 2022       \n",
            "+-----------------------------------------------------------------------------+\n",
            "| NVIDIA-SMI 460.32.03    Driver Version: 460.32.03    CUDA Version: 11.2     |\n",
            "|-------------------------------+----------------------+----------------------+\n",
            "| GPU  Name        Persistence-M| Bus-Id        Disp.A | Volatile Uncorr. ECC |\n",
            "| Fan  Temp  Perf  Pwr:Usage/Cap|         Memory-Usage | GPU-Util  Compute M. |\n",
            "|                               |                      |               MIG M. |\n",
            "|===============================+======================+======================|\n",
            "|   0  Tesla K80           Off  | 00000000:00:04.0 Off |                    0 |\n",
            "| N/A   54C    P0    62W / 149W |   8457MiB / 11441MiB |      0%      Default |\n",
            "|                               |                      |                  N/A |\n",
            "+-------------------------------+----------------------+----------------------+\n",
            "                                                                               \n",
            "+-----------------------------------------------------------------------------+\n",
            "| Processes:                                                                  |\n",
            "|  GPU   GI   CI        PID   Type   Process name                  GPU Memory |\n",
            "|        ID   ID                                                   Usage      |\n",
            "|=============================================================================|\n",
            "+-----------------------------------------------------------------------------+\n"
          ]
        }
      ]
    },
    {
      "cell_type": "code",
      "source": [
        "!tensorboard dev upload --logdir ./tensorboard/ \\\n",
        "--name \"efffient net vs. resnet\" \\\n",
        "--description 'comparing two different tensorflow hub feature extraction model architechture' \\\n",
        "--one_shot"
      ],
      "metadata": {
        "colab": {
          "base_uri": "https://localhost:8080/"
        },
        "id": "TIP2OvVig9QK",
        "outputId": "ca30c16c-bb7d-4f0b-8f95-d1bbd2848e74"
      },
      "execution_count": 21,
      "outputs": [
        {
          "output_type": "stream",
          "name": "stdout",
          "text": [
            "\n",
            "\n",
            "\n",
            "New experiment created. View your TensorBoard at: https://tensorboard.dev/experiment/YQvKfa5ZS66UqBWy8nMHgQ/\n",
            "\n",
            "\u001b[1m[2022-02-27T18:53:57]\u001b[0m Started scanning logdir.\n",
            "\u001b[1m[2022-02-27T18:53:59]\u001b[0m Total uploaded: 80 scalars, 0 tensors, 2 binary objects (5.8 MB)\n",
            "\u001b[1m[2022-02-27T18:53:59]\u001b[0m Done scanning logdir.\n",
            "\n",
            "\n",
            "Done. View your TensorBoard at https://tensorboard.dev/experiment/YQvKfa5ZS66UqBWy8nMHgQ/\n"
          ]
        }
      ]
    },
    {
      "cell_type": "code",
      "source": [
        "!tensorboard dev list"
      ],
      "metadata": {
        "colab": {
          "base_uri": "https://localhost:8080/"
        },
        "id": "lubRL1eDg9Nk",
        "outputId": "9c32f64a-f3b6-4fd2-ef3b-32793c64dabe"
      },
      "execution_count": 22,
      "outputs": [
        {
          "output_type": "stream",
          "name": "stdout",
          "text": [
            "https://tensorboard.dev/experiment/YQvKfa5ZS66UqBWy8nMHgQ/\n",
            "\tName                 efffient net vs. resnet\n",
            "\tDescription          comparing two different tensorflow hub feature extraction model architechture\n",
            "\tId                   YQvKfa5ZS66UqBWy8nMHgQ\n",
            "\tCreated              2022-02-27 18:53:57 (12 minutes ago)\n",
            "\tUpdated              2022-02-27 18:53:59 (12 minutes ago)\n",
            "\tRuns                 2\n",
            "\tTags                 3\n",
            "\tScalars              80\n",
            "\tTensor bytes         0\n",
            "\tBinary object bytes  6050481\n",
            "Total: 1 experiment(s)\n"
          ]
        }
      ]
    },
    {
      "cell_type": "code",
      "source": [
        ""
      ],
      "metadata": {
        "id": "4wauJ_hlg9LF"
      },
      "execution_count": null,
      "outputs": []
    }
  ]
}