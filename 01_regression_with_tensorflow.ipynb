{
  "nbformat": 4,
  "nbformat_minor": 0,
  "metadata": {
    "colab": {
      "name": "01_regression with tensorflow.ipynb",
      "provenance": [],
      "collapsed_sections": [],
      "authorship_tag": "ABX9TyMH5+32nVlugySE5iQz70/7",
      "include_colab_link": true
    },
    "kernelspec": {
      "name": "python3",
      "display_name": "Python 3"
    },
    "language_info": {
      "name": "python"
    }
  },
  "cells": [
    {
      "cell_type": "markdown",
      "metadata": {
        "id": "view-in-github",
        "colab_type": "text"
      },
      "source": [
        "<a href=\"https://colab.research.google.com/github/hamednasr/tensorflow/blob/main/01_regression_with_tensorflow.ipynb\" target=\"_parent\"><img src=\"https://colab.research.google.com/assets/colab-badge.svg\" alt=\"Open In Colab\"/></a>"
      ]
    },
    {
      "cell_type": "code",
      "execution_count": 2,
      "metadata": {
        "id": "RebmLDRF8ijO"
      },
      "outputs": [],
      "source": [
        "import tensorflow as tf\n",
        "import numpy as np\n",
        "import matplotlib.pyplot as plt"
      ]
    },
    {
      "cell_type": "code",
      "source": [
        "X = tf.expand_dims(tf.range(3,18,3),axis=-1)\n",
        "X"
      ],
      "metadata": {
        "colab": {
          "base_uri": "https://localhost:8080/"
        },
        "id": "H_oUwoOS9r8N",
        "outputId": "02df516f-1395-441d-c9d4-6fb6a32f039b"
      },
      "execution_count": 3,
      "outputs": [
        {
          "output_type": "execute_result",
          "data": {
            "text/plain": [
              "<tf.Tensor: shape=(5, 1), dtype=int32, numpy=\n",
              "array([[ 3],\n",
              "       [ 6],\n",
              "       [ 9],\n",
              "       [12],\n",
              "       [15]], dtype=int32)>"
            ]
          },
          "metadata": {},
          "execution_count": 3
        }
      ]
    },
    {
      "cell_type": "code",
      "source": [
        "y = tf.range(3,18,3)+5\n",
        "y"
      ],
      "metadata": {
        "colab": {
          "base_uri": "https://localhost:8080/"
        },
        "id": "D2C2cHQVJYbm",
        "outputId": "e96fd1a2-5a51-4b1e-e92d-67dd2da0ce03"
      },
      "execution_count": 4,
      "outputs": [
        {
          "output_type": "execute_result",
          "data": {
            "text/plain": [
              "<tf.Tensor: shape=(5,), dtype=int32, numpy=array([ 8, 11, 14, 17, 20], dtype=int32)>"
            ]
          },
          "metadata": {},
          "execution_count": 4
        }
      ]
    },
    {
      "cell_type": "code",
      "source": [
        ""
      ],
      "metadata": {
        "id": "ApxqzaQiJYZT"
      },
      "execution_count": 4,
      "outputs": []
    },
    {
      "cell_type": "code",
      "source": [
        "tf.random.set_seed(10)"
      ],
      "metadata": {
        "id": "PJibAqFtJYW-"
      },
      "execution_count": 5,
      "outputs": []
    },
    {
      "cell_type": "code",
      "source": [
        "model.fit?"
      ],
      "metadata": {
        "id": "uhgn6mj1Ulcd",
        "colab": {
          "base_uri": "https://localhost:8080/"
        },
        "outputId": "108daa7c-c2f4-4bb9-a19b-73a474d3796d"
      },
      "execution_count": 6,
      "outputs": [
        {
          "output_type": "stream",
          "name": "stdout",
          "text": [
            "Object `model.fit` not found.\n"
          ]
        }
      ]
    },
    {
      "cell_type": "code",
      "source": [
        "model = tf.keras.Sequential([\n",
        "                              tf.keras.layers.Dense(1)\n",
        "                              ])\n",
        "\n",
        "model.compile(loss=tf.keras.losses.mse,\n",
        "              optimizer=tf.keras.optimizers.SGD(),\n",
        "              metrics = ['mae'])\n",
        "\n",
        "model.fit(X,y,epochs=200)"
      ],
      "metadata": {
        "colab": {
          "base_uri": "https://localhost:8080/"
        },
        "id": "xPXqcc-DJdCG",
        "outputId": "fcb31041-c0d4-4e97-99e7-12fa962f1393"
      },
      "execution_count": 7,
      "outputs": [
        {
          "output_type": "stream",
          "name": "stdout",
          "text": [
            "Epoch 1/200\n",
            "1/1 [==============================] - 1s 911ms/step - loss: 94.8722 - mae: 9.5058\n",
            "Epoch 2/200\n",
            "1/1 [==============================] - 0s 55ms/step - loss: 94.1892 - mae: 7.9610\n",
            "Epoch 3/200\n",
            "1/1 [==============================] - 0s 18ms/step - loss: 93.5110 - mae: 9.4374\n",
            "Epoch 4/200\n",
            "1/1 [==============================] - 0s 21ms/step - loss: 92.8377 - mae: 7.9037\n",
            "Epoch 5/200\n",
            "1/1 [==============================] - 0s 19ms/step - loss: 92.1693 - mae: 9.3694\n",
            "Epoch 6/200\n",
            "1/1 [==============================] - 0s 13ms/step - loss: 91.5057 - mae: 7.8468\n",
            "Epoch 7/200\n",
            "1/1 [==============================] - 0s 15ms/step - loss: 90.8468 - mae: 9.3020\n",
            "Epoch 8/200\n",
            "1/1 [==============================] - 0s 40ms/step - loss: 90.1928 - mae: 7.7903\n",
            "Epoch 9/200\n",
            "1/1 [==============================] - 0s 19ms/step - loss: 89.5434 - mae: 9.2350\n",
            "Epoch 10/200\n",
            "1/1 [==============================] - 0s 25ms/step - loss: 88.8986 - mae: 7.7342\n",
            "Epoch 11/200\n",
            "1/1 [==============================] - 0s 20ms/step - loss: 88.2586 - mae: 9.1685\n",
            "Epoch 12/200\n",
            "1/1 [==============================] - 0s 17ms/step - loss: 87.6231 - mae: 7.6785\n",
            "Epoch 13/200\n",
            "1/1 [==============================] - 0s 22ms/step - loss: 86.9922 - mae: 9.1025\n",
            "Epoch 14/200\n",
            "1/1 [==============================] - 0s 15ms/step - loss: 86.3659 - mae: 7.6232\n",
            "Epoch 15/200\n",
            "1/1 [==============================] - 0s 8ms/step - loss: 85.7440 - mae: 9.0370\n",
            "Epoch 16/200\n",
            "1/1 [==============================] - 0s 32ms/step - loss: 85.1267 - mae: 7.5683\n",
            "Epoch 17/200\n",
            "1/1 [==============================] - 0s 14ms/step - loss: 84.5137 - mae: 8.9719\n",
            "Epoch 18/200\n",
            "1/1 [==============================] - 0s 15ms/step - loss: 83.9053 - mae: 7.5138\n",
            "Epoch 19/200\n",
            "1/1 [==============================] - 0s 10ms/step - loss: 83.3012 - mae: 8.9073\n",
            "Epoch 20/200\n",
            "1/1 [==============================] - 0s 8ms/step - loss: 82.7014 - mae: 7.4598\n",
            "Epoch 21/200\n",
            "1/1 [==============================] - 0s 16ms/step - loss: 82.1060 - mae: 8.8432\n",
            "Epoch 22/200\n",
            "1/1 [==============================] - 0s 20ms/step - loss: 81.5148 - mae: 7.4060\n",
            "Epoch 23/200\n",
            "1/1 [==============================] - 0s 13ms/step - loss: 80.9279 - mae: 8.7795\n",
            "Epoch 24/200\n",
            "1/1 [==============================] - 0s 17ms/step - loss: 80.3452 - mae: 7.3527\n",
            "Epoch 25/200\n",
            "1/1 [==============================] - 0s 35ms/step - loss: 79.7667 - mae: 8.7163\n",
            "Epoch 26/200\n",
            "1/1 [==============================] - 0s 17ms/step - loss: 79.1924 - mae: 7.2998\n",
            "Epoch 27/200\n",
            "1/1 [==============================] - 0s 13ms/step - loss: 78.6222 - mae: 8.6535\n",
            "Epoch 28/200\n",
            "1/1 [==============================] - 0s 10ms/step - loss: 78.0561 - mae: 7.2472\n",
            "Epoch 29/200\n",
            "1/1 [==============================] - 0s 19ms/step - loss: 77.4941 - mae: 8.5912\n",
            "Epoch 30/200\n",
            "1/1 [==============================] - 0s 10ms/step - loss: 76.9361 - mae: 7.1950\n",
            "Epoch 31/200\n",
            "1/1 [==============================] - 0s 20ms/step - loss: 76.3822 - mae: 8.5294\n",
            "Epoch 32/200\n",
            "1/1 [==============================] - 0s 14ms/step - loss: 75.8322 - mae: 7.1432\n",
            "Epoch 33/200\n",
            "1/1 [==============================] - 0s 17ms/step - loss: 75.2862 - mae: 8.4679\n",
            "Epoch 34/200\n",
            "1/1 [==============================] - 0s 21ms/step - loss: 74.7442 - mae: 7.0918\n",
            "Epoch 35/200\n",
            "1/1 [==============================] - 0s 24ms/step - loss: 74.2060 - mae: 8.4070\n",
            "Epoch 36/200\n",
            "1/1 [==============================] - 0s 25ms/step - loss: 73.6717 - mae: 7.0407\n",
            "Epoch 37/200\n",
            "1/1 [==============================] - 0s 20ms/step - loss: 73.1413 - mae: 8.3464\n",
            "Epoch 38/200\n",
            "1/1 [==============================] - 0s 13ms/step - loss: 72.6147 - mae: 6.9900\n",
            "Epoch 39/200\n",
            "1/1 [==============================] - 0s 21ms/step - loss: 72.0918 - mae: 8.2863\n",
            "Epoch 40/200\n",
            "1/1 [==============================] - 0s 21ms/step - loss: 71.5727 - mae: 6.9397\n",
            "Epoch 41/200\n",
            "1/1 [==============================] - 0s 19ms/step - loss: 71.0574 - mae: 8.2267\n",
            "Epoch 42/200\n",
            "1/1 [==============================] - 0s 21ms/step - loss: 70.5458 - mae: 6.8897\n",
            "Epoch 43/200\n",
            "1/1 [==============================] - 0s 16ms/step - loss: 70.0378 - mae: 8.1674\n",
            "Epoch 44/200\n",
            "1/1 [==============================] - 0s 13ms/step - loss: 69.5335 - mae: 6.8401\n",
            "Epoch 45/200\n",
            "1/1 [==============================] - 0s 24ms/step - loss: 69.0329 - mae: 8.1086\n",
            "Epoch 46/200\n",
            "1/1 [==============================] - 0s 25ms/step - loss: 68.5359 - mae: 6.7909\n",
            "Epoch 47/200\n",
            "1/1 [==============================] - 0s 8ms/step - loss: 68.0424 - mae: 8.0503\n",
            "Epoch 48/200\n",
            "1/1 [==============================] - 0s 15ms/step - loss: 67.5525 - mae: 6.7420\n",
            "Epoch 49/200\n",
            "1/1 [==============================] - 0s 16ms/step - loss: 67.0661 - mae: 7.9923\n",
            "Epoch 50/200\n",
            "1/1 [==============================] - 0s 22ms/step - loss: 66.5833 - mae: 6.6935\n",
            "Epoch 51/200\n",
            "1/1 [==============================] - 0s 16ms/step - loss: 66.1039 - mae: 7.9348\n",
            "Epoch 52/200\n",
            "1/1 [==============================] - 0s 13ms/step - loss: 65.6280 - mae: 6.6453\n",
            "Epoch 53/200\n",
            "1/1 [==============================] - 0s 30ms/step - loss: 65.1554 - mae: 7.8776\n",
            "Epoch 54/200\n",
            "1/1 [==============================] - 0s 17ms/step - loss: 64.6863 - mae: 6.5974\n",
            "Epoch 55/200\n",
            "1/1 [==============================] - 0s 10ms/step - loss: 64.2206 - mae: 7.8209\n",
            "Epoch 56/200\n",
            "1/1 [==============================] - 0s 17ms/step - loss: 63.7582 - mae: 6.5499\n",
            "Epoch 57/200\n",
            "1/1 [==============================] - 0s 14ms/step - loss: 63.2991 - mae: 7.7646\n",
            "Epoch 58/200\n",
            "1/1 [==============================] - 0s 19ms/step - loss: 62.8433 - mae: 6.5028\n",
            "Epoch 59/200\n",
            "1/1 [==============================] - 0s 23ms/step - loss: 62.3909 - mae: 7.7087\n",
            "Epoch 60/200\n",
            "1/1 [==============================] - 0s 24ms/step - loss: 61.9417 - mae: 6.4559\n",
            "Epoch 61/200\n",
            "1/1 [==============================] - 0s 9ms/step - loss: 61.4957 - mae: 7.6532\n",
            "Epoch 62/200\n",
            "1/1 [==============================] - 0s 17ms/step - loss: 61.0529 - mae: 6.4095\n",
            "Epoch 63/200\n",
            "1/1 [==============================] - 0s 19ms/step - loss: 60.6133 - mae: 7.5981\n",
            "Epoch 64/200\n",
            "1/1 [==============================] - 0s 27ms/step - loss: 60.1769 - mae: 6.3633\n",
            "Epoch 65/200\n",
            "1/1 [==============================] - 0s 21ms/step - loss: 59.7436 - mae: 7.5434\n",
            "Epoch 66/200\n",
            "1/1 [==============================] - 0s 17ms/step - loss: 59.3135 - mae: 6.3175\n",
            "Epoch 67/200\n",
            "1/1 [==============================] - 0s 18ms/step - loss: 58.8864 - mae: 7.4891\n",
            "Epoch 68/200\n",
            "1/1 [==============================] - 0s 11ms/step - loss: 58.4625 - mae: 6.2720\n",
            "Epoch 69/200\n",
            "1/1 [==============================] - 0s 17ms/step - loss: 58.0415 - mae: 7.4351\n",
            "Epoch 70/200\n",
            "1/1 [==============================] - 0s 6ms/step - loss: 57.6236 - mae: 6.2268\n",
            "Epoch 71/200\n",
            "1/1 [==============================] - 0s 8ms/step - loss: 57.2087 - mae: 7.3816\n",
            "Epoch 72/200\n",
            "1/1 [==============================] - 0s 13ms/step - loss: 56.7968 - mae: 6.1820\n",
            "Epoch 73/200\n",
            "1/1 [==============================] - 0s 14ms/step - loss: 56.3879 - mae: 7.3285\n",
            "Epoch 74/200\n",
            "1/1 [==============================] - 0s 12ms/step - loss: 55.9819 - mae: 6.1375\n",
            "Epoch 75/200\n",
            "1/1 [==============================] - 0s 8ms/step - loss: 55.5789 - mae: 7.2757\n",
            "Epoch 76/200\n",
            "1/1 [==============================] - 0s 11ms/step - loss: 55.1787 - mae: 6.0933\n",
            "Epoch 77/200\n",
            "1/1 [==============================] - 0s 17ms/step - loss: 54.7814 - mae: 7.2233\n",
            "Epoch 78/200\n",
            "1/1 [==============================] - 0s 9ms/step - loss: 54.3870 - mae: 6.0494\n",
            "Epoch 79/200\n",
            "1/1 [==============================] - 0s 10ms/step - loss: 53.9954 - mae: 7.1713\n",
            "Epoch 80/200\n",
            "1/1 [==============================] - 0s 6ms/step - loss: 53.6066 - mae: 6.0059\n",
            "Epoch 81/200\n",
            "1/1 [==============================] - 0s 6ms/step - loss: 53.2207 - mae: 7.1197\n",
            "Epoch 82/200\n",
            "1/1 [==============================] - 0s 7ms/step - loss: 52.8375 - mae: 5.9626\n",
            "Epoch 83/200\n",
            "1/1 [==============================] - 0s 6ms/step - loss: 52.4571 - mae: 7.0684\n",
            "Epoch 84/200\n",
            "1/1 [==============================] - 0s 7ms/step - loss: 52.0794 - mae: 5.9197\n",
            "Epoch 85/200\n",
            "1/1 [==============================] - 0s 6ms/step - loss: 51.7044 - mae: 7.0175\n",
            "Epoch 86/200\n",
            "1/1 [==============================] - 0s 7ms/step - loss: 51.3322 - mae: 5.8771\n",
            "Epoch 87/200\n",
            "1/1 [==============================] - 0s 11ms/step - loss: 50.9626 - mae: 6.9670\n",
            "Epoch 88/200\n",
            "1/1 [==============================] - 0s 9ms/step - loss: 50.5957 - mae: 5.8348\n",
            "Epoch 89/200\n",
            "1/1 [==============================] - 0s 14ms/step - loss: 50.2314 - mae: 6.9168\n",
            "Epoch 90/200\n",
            "1/1 [==============================] - 0s 15ms/step - loss: 49.8697 - mae: 5.7928\n",
            "Epoch 91/200\n",
            "1/1 [==============================] - 0s 11ms/step - loss: 49.5106 - mae: 6.8670\n",
            "Epoch 92/200\n",
            "1/1 [==============================] - 0s 12ms/step - loss: 49.1542 - mae: 5.7511\n",
            "Epoch 93/200\n",
            "1/1 [==============================] - 0s 22ms/step - loss: 48.8003 - mae: 6.8176\n",
            "Epoch 94/200\n",
            "1/1 [==============================] - 0s 12ms/step - loss: 48.4489 - mae: 5.7097\n",
            "Epoch 95/200\n",
            "1/1 [==============================] - 0s 23ms/step - loss: 48.1001 - mae: 6.7685\n",
            "Epoch 96/200\n",
            "1/1 [==============================] - 0s 18ms/step - loss: 47.7537 - mae: 5.6685\n",
            "Epoch 97/200\n",
            "1/1 [==============================] - 0s 38ms/step - loss: 47.4099 - mae: 6.7198\n",
            "Epoch 98/200\n",
            "1/1 [==============================] - 0s 14ms/step - loss: 47.0685 - mae: 5.6277\n",
            "Epoch 99/200\n",
            "1/1 [==============================] - 0s 31ms/step - loss: 46.7296 - mae: 6.6714\n",
            "Epoch 100/200\n",
            "1/1 [==============================] - 0s 30ms/step - loss: 46.3932 - mae: 5.5872\n",
            "Epoch 101/200\n",
            "1/1 [==============================] - 0s 11ms/step - loss: 46.0591 - mae: 6.6234\n",
            "Epoch 102/200\n",
            "1/1 [==============================] - 0s 14ms/step - loss: 45.7275 - mae: 5.5470\n",
            "Epoch 103/200\n",
            "1/1 [==============================] - 0s 12ms/step - loss: 45.3983 - mae: 6.5757\n",
            "Epoch 104/200\n",
            "1/1 [==============================] - 0s 19ms/step - loss: 45.0714 - mae: 5.5070\n",
            "Epoch 105/200\n",
            "1/1 [==============================] - 0s 23ms/step - loss: 44.7469 - mae: 6.5283\n",
            "Epoch 106/200\n",
            "1/1 [==============================] - 0s 9ms/step - loss: 44.4247 - mae: 5.4674\n",
            "Epoch 107/200\n",
            "1/1 [==============================] - 0s 13ms/step - loss: 44.1048 - mae: 6.4813\n",
            "Epoch 108/200\n",
            "1/1 [==============================] - 0s 16ms/step - loss: 43.7873 - mae: 5.4280\n",
            "Epoch 109/200\n",
            "1/1 [==============================] - 0s 40ms/step - loss: 43.4720 - mae: 6.4346\n",
            "Epoch 110/200\n",
            "1/1 [==============================] - 0s 51ms/step - loss: 43.1590 - mae: 5.3889\n",
            "Epoch 111/200\n",
            "1/1 [==============================] - 0s 29ms/step - loss: 42.8483 - mae: 6.3883\n",
            "Epoch 112/200\n",
            "1/1 [==============================] - 0s 27ms/step - loss: 42.5398 - mae: 5.3501\n",
            "Epoch 113/200\n",
            "1/1 [==============================] - 0s 27ms/step - loss: 42.2335 - mae: 6.3423\n",
            "Epoch 114/200\n",
            "1/1 [==============================] - 0s 22ms/step - loss: 41.9294 - mae: 5.3116\n",
            "Epoch 115/200\n",
            "1/1 [==============================] - 0s 16ms/step - loss: 41.6275 - mae: 6.2967\n",
            "Epoch 116/200\n",
            "1/1 [==============================] - 0s 16ms/step - loss: 41.3278 - mae: 5.2734\n",
            "Epoch 117/200\n",
            "1/1 [==============================] - 0s 17ms/step - loss: 41.0302 - mae: 6.2513\n",
            "Epoch 118/200\n",
            "1/1 [==============================] - 0s 22ms/step - loss: 40.7348 - mae: 5.2354\n",
            "Epoch 119/200\n",
            "1/1 [==============================] - 0s 16ms/step - loss: 40.4415 - mae: 6.2063\n",
            "Epoch 120/200\n",
            "1/1 [==============================] - 0s 11ms/step - loss: 40.1504 - mae: 5.1977\n",
            "Epoch 121/200\n",
            "1/1 [==============================] - 0s 43ms/step - loss: 39.8613 - mae: 6.1616\n",
            "Epoch 122/200\n",
            "1/1 [==============================] - 0s 24ms/step - loss: 39.5743 - mae: 5.1603\n",
            "Epoch 123/200\n",
            "1/1 [==============================] - 0s 20ms/step - loss: 39.2893 - mae: 6.1173\n",
            "Epoch 124/200\n",
            "1/1 [==============================] - 0s 25ms/step - loss: 39.0064 - mae: 5.1231\n",
            "Epoch 125/200\n",
            "1/1 [==============================] - 0s 20ms/step - loss: 38.7256 - mae: 6.0732\n",
            "Epoch 126/200\n",
            "1/1 [==============================] - 0s 21ms/step - loss: 38.4467 - mae: 5.0862\n",
            "Epoch 127/200\n",
            "1/1 [==============================] - 0s 33ms/step - loss: 38.1699 - mae: 6.0295\n",
            "Epoch 128/200\n",
            "1/1 [==============================] - 0s 26ms/step - loss: 37.8951 - mae: 5.0496\n",
            "Epoch 129/200\n",
            "1/1 [==============================] - 0s 21ms/step - loss: 37.6223 - mae: 5.9861\n",
            "Epoch 130/200\n",
            "1/1 [==============================] - 0s 22ms/step - loss: 37.3514 - mae: 5.0133\n",
            "Epoch 131/200\n",
            "1/1 [==============================] - 0s 40ms/step - loss: 37.0825 - mae: 5.9430\n",
            "Epoch 132/200\n",
            "1/1 [==============================] - 0s 17ms/step - loss: 36.8155 - mae: 4.9772\n",
            "Epoch 133/200\n",
            "1/1 [==============================] - 0s 18ms/step - loss: 36.5504 - mae: 5.9002\n",
            "Epoch 134/200\n",
            "1/1 [==============================] - 0s 11ms/step - loss: 36.2872 - mae: 4.9413\n",
            "Epoch 135/200\n",
            "1/1 [==============================] - 0s 16ms/step - loss: 36.0260 - mae: 5.8577\n",
            "Epoch 136/200\n",
            "1/1 [==============================] - 0s 13ms/step - loss: 35.7666 - mae: 4.9058\n",
            "Epoch 137/200\n",
            "1/1 [==============================] - 0s 32ms/step - loss: 35.5091 - mae: 5.8155\n",
            "Epoch 138/200\n",
            "1/1 [==============================] - 0s 28ms/step - loss: 35.2534 - mae: 4.8704\n",
            "Epoch 139/200\n",
            "1/1 [==============================] - 0s 29ms/step - loss: 34.9996 - mae: 5.7737\n",
            "Epoch 140/200\n",
            "1/1 [==============================] - 0s 15ms/step - loss: 34.7476 - mae: 4.8354\n",
            "Epoch 141/200\n",
            "1/1 [==============================] - 0s 10ms/step - loss: 34.4974 - mae: 5.7321\n",
            "Epoch 142/200\n",
            "1/1 [==============================] - 0s 6ms/step - loss: 34.2490 - mae: 4.8006\n",
            "Epoch 143/200\n",
            "1/1 [==============================] - 0s 14ms/step - loss: 34.0024 - mae: 5.6908\n",
            "Epoch 144/200\n",
            "1/1 [==============================] - 0s 19ms/step - loss: 33.7576 - mae: 4.7660\n",
            "Epoch 145/200\n",
            "1/1 [==============================] - 0s 14ms/step - loss: 33.5145 - mae: 5.6498\n",
            "Epoch 146/200\n",
            "1/1 [==============================] - 0s 10ms/step - loss: 33.2733 - mae: 4.7317\n",
            "Epoch 147/200\n",
            "1/1 [==============================] - 0s 10ms/step - loss: 33.0337 - mae: 5.6092\n",
            "Epoch 148/200\n",
            "1/1 [==============================] - 0s 8ms/step - loss: 32.7959 - mae: 4.6976\n",
            "Epoch 149/200\n",
            "1/1 [==============================] - 0s 8ms/step - loss: 32.5598 - mae: 5.5688\n",
            "Epoch 150/200\n",
            "1/1 [==============================] - 0s 12ms/step - loss: 32.3253 - mae: 4.6638\n",
            "Epoch 151/200\n",
            "1/1 [==============================] - 0s 10ms/step - loss: 32.0926 - mae: 5.5287\n",
            "Epoch 152/200\n",
            "1/1 [==============================] - 0s 21ms/step - loss: 31.8615 - mae: 4.6302\n",
            "Epoch 153/200\n",
            "1/1 [==============================] - 0s 23ms/step - loss: 31.6321 - mae: 5.4889\n",
            "Epoch 154/200\n",
            "1/1 [==============================] - 0s 27ms/step - loss: 31.4043 - mae: 4.5969\n",
            "Epoch 155/200\n",
            "1/1 [==============================] - 0s 21ms/step - loss: 31.1782 - mae: 5.4494\n",
            "Epoch 156/200\n",
            "1/1 [==============================] - 0s 23ms/step - loss: 30.9537 - mae: 4.5638\n",
            "Epoch 157/200\n",
            "1/1 [==============================] - 0s 18ms/step - loss: 30.7309 - mae: 5.4101\n",
            "Epoch 158/200\n",
            "1/1 [==============================] - 0s 17ms/step - loss: 30.5096 - mae: 4.5309\n",
            "Epoch 159/200\n",
            "1/1 [==============================] - 0s 21ms/step - loss: 30.2899 - mae: 5.3712\n",
            "Epoch 160/200\n",
            "1/1 [==============================] - 0s 21ms/step - loss: 30.0718 - mae: 4.4983\n",
            "Epoch 161/200\n",
            "1/1 [==============================] - 0s 12ms/step - loss: 29.8553 - mae: 5.3325\n",
            "Epoch 162/200\n",
            "1/1 [==============================] - 0s 20ms/step - loss: 29.6404 - mae: 4.4659\n",
            "Epoch 163/200\n",
            "1/1 [==============================] - 0s 12ms/step - loss: 29.4270 - mae: 5.2941\n",
            "Epoch 164/200\n",
            "1/1 [==============================] - 0s 14ms/step - loss: 29.2151 - mae: 4.4338\n",
            "Epoch 165/200\n",
            "1/1 [==============================] - 0s 24ms/step - loss: 29.0047 - mae: 5.2560\n",
            "Epoch 166/200\n",
            "1/1 [==============================] - 0s 16ms/step - loss: 28.7959 - mae: 4.4018\n",
            "Epoch 167/200\n",
            "1/1 [==============================] - 0s 13ms/step - loss: 28.5885 - mae: 5.2181\n",
            "Epoch 168/200\n",
            "1/1 [==============================] - 0s 17ms/step - loss: 28.3827 - mae: 4.3701\n",
            "Epoch 169/200\n",
            "1/1 [==============================] - 0s 27ms/step - loss: 28.1784 - mae: 5.1806\n",
            "Epoch 170/200\n",
            "1/1 [==============================] - 0s 37ms/step - loss: 27.9755 - mae: 4.3387\n",
            "Epoch 171/200\n",
            "1/1 [==============================] - 0s 15ms/step - loss: 27.7740 - mae: 5.1433\n",
            "Epoch 172/200\n",
            "1/1 [==============================] - 0s 15ms/step - loss: 27.5741 - mae: 4.3074\n",
            "Epoch 173/200\n",
            "1/1 [==============================] - 0s 12ms/step - loss: 27.3755 - mae: 5.1062\n",
            "Epoch 174/200\n",
            "1/1 [==============================] - 0s 14ms/step - loss: 27.1784 - mae: 4.2764\n",
            "Epoch 175/200\n",
            "1/1 [==============================] - 0s 25ms/step - loss: 26.9827 - mae: 5.0695\n",
            "Epoch 176/200\n",
            "1/1 [==============================] - 0s 14ms/step - loss: 26.7884 - mae: 4.2456\n",
            "Epoch 177/200\n",
            "1/1 [==============================] - 0s 12ms/step - loss: 26.5956 - mae: 5.0330\n",
            "Epoch 178/200\n",
            "1/1 [==============================] - 0s 8ms/step - loss: 26.4041 - mae: 4.2151\n",
            "Epoch 179/200\n",
            "1/1 [==============================] - 0s 10ms/step - loss: 26.2140 - mae: 4.9967\n",
            "Epoch 180/200\n",
            "1/1 [==============================] - 0s 30ms/step - loss: 26.0252 - mae: 4.1847\n",
            "Epoch 181/200\n",
            "1/1 [==============================] - 0s 17ms/step - loss: 25.8378 - mae: 4.9608\n",
            "Epoch 182/200\n",
            "1/1 [==============================] - 0s 13ms/step - loss: 25.6518 - mae: 4.1546\n",
            "Epoch 183/200\n",
            "1/1 [==============================] - 0s 10ms/step - loss: 25.4671 - mae: 4.9250\n",
            "Epoch 184/200\n",
            "1/1 [==============================] - 0s 11ms/step - loss: 25.2838 - mae: 4.1247\n",
            "Epoch 185/200\n",
            "1/1 [==============================] - 0s 8ms/step - loss: 25.1017 - mae: 4.8896\n",
            "Epoch 186/200\n",
            "1/1 [==============================] - 0s 7ms/step - loss: 24.9210 - mae: 4.0950\n",
            "Epoch 187/200\n",
            "1/1 [==============================] - 0s 8ms/step - loss: 24.7416 - mae: 4.8544\n",
            "Epoch 188/200\n",
            "1/1 [==============================] - 0s 7ms/step - loss: 24.5634 - mae: 4.0655\n",
            "Epoch 189/200\n",
            "1/1 [==============================] - 0s 13ms/step - loss: 24.3865 - mae: 4.8194\n",
            "Epoch 190/200\n",
            "1/1 [==============================] - 0s 19ms/step - loss: 24.2110 - mae: 4.0362\n",
            "Epoch 191/200\n",
            "1/1 [==============================] - 0s 14ms/step - loss: 24.0366 - mae: 4.7847\n",
            "Epoch 192/200\n",
            "1/1 [==============================] - 0s 9ms/step - loss: 23.8636 - mae: 4.0072\n",
            "Epoch 193/200\n",
            "1/1 [==============================] - 0s 7ms/step - loss: 23.6918 - mae: 4.7503\n",
            "Epoch 194/200\n",
            "1/1 [==============================] - 0s 7ms/step - loss: 23.5212 - mae: 3.9783\n",
            "Epoch 195/200\n",
            "1/1 [==============================] - 0s 6ms/step - loss: 23.3518 - mae: 4.7161\n",
            "Epoch 196/200\n",
            "1/1 [==============================] - 0s 9ms/step - loss: 23.1837 - mae: 3.9497\n",
            "Epoch 197/200\n",
            "1/1 [==============================] - 0s 7ms/step - loss: 23.0168 - mae: 4.6821\n",
            "Epoch 198/200\n",
            "1/1 [==============================] - 0s 7ms/step - loss: 22.8510 - mae: 3.9212\n",
            "Epoch 199/200\n",
            "1/1 [==============================] - 0s 6ms/step - loss: 22.6865 - mae: 4.6484\n",
            "Epoch 200/200\n",
            "1/1 [==============================] - 0s 6ms/step - loss: 22.5232 - mae: 3.8930\n"
          ]
        },
        {
          "output_type": "execute_result",
          "data": {
            "text/plain": [
              "<keras.callbacks.History at 0x7f730163e650>"
            ]
          },
          "metadata": {},
          "execution_count": 7
        }
      ]
    },
    {
      "cell_type": "code",
      "source": [
        "model.predict(X)"
      ],
      "metadata": {
        "colab": {
          "base_uri": "https://localhost:8080/"
        },
        "id": "u_WbS8XDRE-5",
        "outputId": "6501e689-ec0a-4b0c-d9f5-8c2d1b0e4f8f"
      },
      "execution_count": 8,
      "outputs": [
        {
          "output_type": "execute_result",
          "data": {
            "text/plain": [
              "array([[ 4.843402],\n",
              "       [ 7.114233],\n",
              "       [ 9.385065],\n",
              "       [11.655896],\n",
              "       [13.926728]], dtype=float32)"
            ]
          },
          "metadata": {},
          "execution_count": 8
        }
      ]
    },
    {
      "cell_type": "code",
      "source": [
        "plt.scatter(X,y)"
      ],
      "metadata": {
        "colab": {
          "base_uri": "https://localhost:8080/",
          "height": 282
        },
        "id": "jjMIq-w3TpKS",
        "outputId": "2507a7e4-5f9e-4800-cecb-d0a51a17cc42"
      },
      "execution_count": 9,
      "outputs": [
        {
          "output_type": "execute_result",
          "data": {
            "text/plain": [
              "<matplotlib.collections.PathCollection at 0x7f73015bb1d0>"
            ]
          },
          "metadata": {},
          "execution_count": 9
        },
        {
          "output_type": "display_data",
          "data": {
            "image/png": "[encoded data removed]",
            "text/plain": [
              "<Figure size 432x288 with 1 Axes>"
            ]
          },
          "metadata": {
            "needs_background": "light"
          }
        }
      ]
    },
    {
      "cell_type": "code",
      "source": [
        "plt.scatter(X,model.predict(X))"
      ],
      "metadata": {
        "colab": {
          "base_uri": "https://localhost:8080/",
          "height": 282
        },
        "id": "qHYemA34SHEW",
        "outputId": "06ecb37c-e360-4b46-f1dc-18a11864b214"
      },
      "execution_count": 10,
      "outputs": [
        {
          "output_type": "execute_result",
          "data": {
            "text/plain": [
              "<matplotlib.collections.PathCollection at 0x7f73015167d0>"
            ]
          },
          "metadata": {},
          "execution_count": 10
        },
        {
          "output_type": "display_data",
          "data": {
            "image/png": "[encoded data removed]",
            "text/plain": [
              "<Figure size 432x288 with 1 Axes>"
            ]
          },
          "metadata": {
            "needs_background": "light"
          }
        }
      ]
    },
    {
      "cell_type": "code",
      "source": [
        "model = tf.keras.Sequential([ \n",
        "                              tf.keras.layers.Dense(256,activation='relu'),\n",
        "                              tf.keras.layers.Dense(512,activation='relu'),\n",
        "                             tf.keras.layers.Dense(512,activation='relu'),\n",
        "                              tf.keras.layers.Dense(128,activation='relu'),\n",
        "                              tf.keras.layers.Dense(1)\n",
        "                           ])\n",
        "\n",
        "model.compile(loss=tf.keras.losses.mse,\n",
        "              optimizer=tf.keras.optimizers.Adam(lr=0.001),\n",
        "              metrics = ['mae'])\n",
        "\n",
        "model.fit(X,y,epochs=200)"
      ],
      "metadata": {
        "id": "bsRyLS4ZTm2h",
        "colab": {
          "base_uri": "https://localhost:8080/"
        },
        "outputId": "31978f7c-e544-4019-fde0-4398f641d394"
      },
      "execution_count": 11,
      "outputs": [
        {
          "output_type": "stream",
          "name": "stdout",
          "text": [
            "Epoch 1/200\n"
          ]
        },
        {
          "output_type": "stream",
          "name": "stderr",
          "text": [
            "/usr/local/lib/python3.7/dist-packages/keras/optimizer_v2/adam.py:105: UserWarning: The `lr` argument is deprecated, use `learning_rate` instead.\n",
            "  super(Adam, self).__init__(name, **kwargs)\n"
          ]
        },
        {
          "output_type": "stream",
          "name": "stdout",
          "text": [
            "1/1 [==============================] - 2s 2s/step - loss: 214.4284 - mae: 14.0134\n",
            "Epoch 2/200\n",
            "1/1 [==============================] - 0s 21ms/step - loss: 172.8761 - mae: 12.6429\n",
            "Epoch 3/200\n",
            "1/1 [==============================] - 0s 19ms/step - loss: 139.4823 - mae: 11.4132\n",
            "Epoch 4/200\n",
            "1/1 [==============================] - 0s 34ms/step - loss: 106.8457 - mae: 10.0529\n",
            "Epoch 5/200\n",
            "1/1 [==============================] - 0s 29ms/step - loss: 72.1000 - mae: 8.3371\n",
            "Epoch 6/200\n",
            "1/1 [==============================] - 0s 18ms/step - loss: 38.3194 - mae: 6.1608\n",
            "Epoch 7/200\n",
            "1/1 [==============================] - 0s 17ms/step - loss: 12.1188 - mae: 3.4172\n",
            "Epoch 8/200\n",
            "1/1 [==============================] - 0s 17ms/step - loss: 4.6523 - mae: 1.8631\n",
            "Epoch 9/200\n",
            "1/1 [==============================] - 0s 17ms/step - loss: 21.4887 - mae: 3.7900\n",
            "Epoch 10/200\n",
            "1/1 [==============================] - 0s 16ms/step - loss: 40.6020 - mae: 5.2545\n",
            "Epoch 11/200\n",
            "1/1 [==============================] - 0s 14ms/step - loss: 40.2469 - mae: 5.2314\n",
            "Epoch 12/200\n",
            "1/1 [==============================] - 0s 21ms/step - loss: 26.8906 - mae: 4.2634\n",
            "Epoch 13/200\n",
            "1/1 [==============================] - 0s 13ms/step - loss: 13.0264 - mae: 2.9934\n",
            "Epoch 14/200\n",
            "1/1 [==============================] - 0s 14ms/step - loss: 5.3101 - mae: 1.9836\n",
            "Epoch 15/200\n",
            "1/1 [==============================] - 0s 16ms/step - loss: 4.3609 - mae: 1.7107\n",
            "Epoch 16/200\n",
            "1/1 [==============================] - 0s 16ms/step - loss: 7.5170 - mae: 2.5348\n",
            "Epoch 17/200\n",
            "1/1 [==============================] - 0s 19ms/step - loss: 11.8296 - mae: 3.3769\n",
            "Epoch 18/200\n",
            "1/1 [==============================] - 0s 16ms/step - loss: 15.2482 - mae: 3.8827\n",
            "Epoch 19/200\n",
            "1/1 [==============================] - 0s 40ms/step - loss: 16.7225 - mae: 4.0766\n",
            "Epoch 20/200\n",
            "1/1 [==============================] - 0s 20ms/step - loss: 16.1170 - mae: 3.9990\n",
            "Epoch 21/200\n",
            "1/1 [==============================] - 0s 18ms/step - loss: 13.8244 - mae: 3.6851\n",
            "Epoch 22/200\n",
            "1/1 [==============================] - 0s 18ms/step - loss: 10.5534 - mae: 3.1656\n",
            "Epoch 23/200\n",
            "1/1 [==============================] - 0s 19ms/step - loss: 7.2177 - mae: 2.4760\n",
            "Epoch 24/200\n",
            "1/1 [==============================] - 0s 18ms/step - loss: 4.7621 - mae: 1.7970\n",
            "Epoch 25/200\n",
            "1/1 [==============================] - 0s 18ms/step - loss: 3.8943 - mae: 1.6908\n",
            "Epoch 26/200\n",
            "1/1 [==============================] - 0s 17ms/step - loss: 4.7377 - mae: 1.8512\n",
            "Epoch 27/200\n",
            "1/1 [==============================] - 0s 41ms/step - loss: 6.5992 - mae: 2.2378\n",
            "Epoch 28/200\n",
            "1/1 [==============================] - 0s 28ms/step - loss: 8.2139 - mae: 2.4680\n",
            "Epoch 29/200\n",
            "1/1 [==============================] - 0s 20ms/step - loss: 8.6054 - mae: 2.5160\n",
            "Epoch 30/200\n",
            "1/1 [==============================] - 0s 28ms/step - loss: 7.6459 - mae: 2.3913\n",
            "Epoch 31/200\n",
            "1/1 [==============================] - 0s 37ms/step - loss: 5.9947 - mae: 2.1344\n",
            "Epoch 32/200\n",
            "1/1 [==============================] - 0s 23ms/step - loss: 4.5257 - mae: 1.8084\n",
            "Epoch 33/200\n",
            "1/1 [==============================] - 0s 32ms/step - loss: 3.7977 - mae: 1.6928\n",
            "Epoch 34/200\n",
            "1/1 [==============================] - 0s 24ms/step - loss: 3.8755 - mae: 1.5936\n",
            "Epoch 35/200\n",
            "1/1 [==============================] - 0s 30ms/step - loss: 4.4606 - mae: 1.7405\n",
            "Epoch 36/200\n",
            "1/1 [==============================] - 0s 16ms/step - loss: 5.1347 - mae: 1.8904\n",
            "Epoch 37/200\n",
            "1/1 [==============================] - 0s 15ms/step - loss: 5.5568 - mae: 2.0442\n",
            "Epoch 38/200\n",
            "1/1 [==============================] - 0s 20ms/step - loss: 5.5627 - mae: 2.0501\n",
            "Epoch 39/200\n",
            "1/1 [==============================] - 0s 17ms/step - loss: 5.1770 - mae: 1.9207\n",
            "Epoch 40/200\n",
            "1/1 [==============================] - 0s 18ms/step - loss: 4.5704 - mae: 1.7562\n",
            "Epoch 41/200\n",
            "1/1 [==============================] - 0s 14ms/step - loss: 3.9819 - mae: 1.6414\n",
            "Epoch 42/200\n",
            "1/1 [==============================] - 0s 12ms/step - loss: 3.6236 - mae: 1.5807\n",
            "Epoch 43/200\n",
            "1/1 [==============================] - 0s 16ms/step - loss: 3.5920 - mae: 1.6445\n",
            "Epoch 44/200\n",
            "1/1 [==============================] - 0s 14ms/step - loss: 3.8236 - mae: 1.6990\n",
            "Epoch 45/200\n",
            "1/1 [==============================] - 0s 13ms/step - loss: 4.1292 - mae: 1.7361\n",
            "Epoch 46/200\n",
            "1/1 [==============================] - 0s 16ms/step - loss: 4.3022 - mae: 1.7684\n",
            "Epoch 47/200\n",
            "1/1 [==============================] - 0s 17ms/step - loss: 4.2374 - mae: 1.7513\n",
            "Epoch 48/200\n",
            "1/1 [==============================] - 0s 20ms/step - loss: 3.9792 - mae: 1.7121\n",
            "Epoch 49/200\n",
            "1/1 [==============================] - 0s 18ms/step - loss: 3.6717 - mae: 1.6673\n",
            "Epoch 50/200\n",
            "1/1 [==============================] - 0s 21ms/step - loss: 3.4580 - mae: 1.6153\n",
            "Epoch 51/200\n",
            "1/1 [==============================] - 0s 13ms/step - loss: 3.4033 - mae: 1.5637\n",
            "Epoch 52/200\n",
            "1/1 [==============================] - 0s 14ms/step - loss: 3.4788 - mae: 1.5188\n",
            "Epoch 53/200\n",
            "1/1 [==============================] - 0s 15ms/step - loss: 3.5991 - mae: 1.5516\n",
            "Epoch 54/200\n",
            "1/1 [==============================] - 0s 20ms/step - loss: 3.6759 - mae: 1.5757\n",
            "Epoch 55/200\n",
            "1/1 [==============================] - 0s 21ms/step - loss: 3.6601 - mae: 1.5727\n",
            "Epoch 56/200\n",
            "1/1 [==============================] - 0s 16ms/step - loss: 3.5568 - mae: 1.5446\n",
            "Epoch 57/200\n",
            "1/1 [==============================] - 0s 13ms/step - loss: 3.4135 - mae: 1.4965\n",
            "Epoch 58/200\n",
            "1/1 [==============================] - 0s 17ms/step - loss: 3.2916 - mae: 1.5120\n",
            "Epoch 59/200\n",
            "1/1 [==============================] - 0s 14ms/step - loss: 3.2341 - mae: 1.5392\n",
            "Epoch 60/200\n",
            "1/1 [==============================] - 0s 28ms/step - loss: 3.2447 - mae: 1.5635\n",
            "Epoch 61/200\n",
            "1/1 [==============================] - 0s 20ms/step - loss: 3.2895 - mae: 1.5809\n",
            "Epoch 62/200\n",
            "1/1 [==============================] - 0s 29ms/step - loss: 3.3207 - mae: 1.5882\n",
            "Epoch 63/200\n",
            "1/1 [==============================] - 0s 19ms/step - loss: 3.3055 - mae: 1.5844\n",
            "Epoch 64/200\n",
            "1/1 [==============================] - 0s 38ms/step - loss: 3.2443 - mae: 1.5703\n",
            "Epoch 65/200\n",
            "1/1 [==============================] - 0s 23ms/step - loss: 3.1648 - mae: 1.5482\n",
            "Epoch 66/200\n",
            "1/1 [==============================] - 0s 23ms/step - loss: 3.1007 - mae: 1.5219\n",
            "Epoch 67/200\n",
            "1/1 [==============================] - 0s 13ms/step - loss: 3.0707 - mae: 1.4950\n",
            "Epoch 68/200\n",
            "1/1 [==============================] - 0s 21ms/step - loss: 3.0706 - mae: 1.4712\n",
            "Epoch 69/200\n",
            "1/1 [==============================] - 0s 19ms/step - loss: 3.0803 - mae: 1.4530\n",
            "Epoch 70/200\n",
            "1/1 [==============================] - 0s 19ms/step - loss: 3.0784 - mae: 1.4419\n",
            "Epoch 71/200\n",
            "1/1 [==============================] - 0s 18ms/step - loss: 3.0540 - mae: 1.4381\n",
            "Epoch 72/200\n",
            "1/1 [==============================] - 0s 37ms/step - loss: 3.0112 - mae: 1.4408\n",
            "Epoch 73/200\n",
            "1/1 [==============================] - 0s 27ms/step - loss: 2.9642 - mae: 1.4483\n",
            "Epoch 74/200\n",
            "1/1 [==============================] - 0s 29ms/step - loss: 2.9274 - mae: 1.4582\n",
            "Epoch 75/200\n",
            "1/1 [==============================] - 0s 21ms/step - loss: 2.9074 - mae: 1.4678\n",
            "Epoch 76/200\n",
            "1/1 [==============================] - 0s 25ms/step - loss: 2.8995 - mae: 1.4747\n",
            "Epoch 77/200\n",
            "1/1 [==============================] - 0s 19ms/step - loss: 2.8926 - mae: 1.4771\n",
            "Epoch 78/200\n",
            "1/1 [==============================] - 0s 20ms/step - loss: 2.8768 - mae: 1.4741\n",
            "Epoch 79/200\n",
            "1/1 [==============================] - 0s 30ms/step - loss: 2.8496 - mae: 1.4658\n",
            "Epoch 80/200\n",
            "1/1 [==============================] - 0s 20ms/step - loss: 2.8163 - mae: 1.4532\n",
            "Epoch 81/200\n",
            "1/1 [==============================] - 0s 23ms/step - loss: 2.7852 - mae: 1.4381\n",
            "Epoch 82/200\n",
            "1/1 [==============================] - 0s 19ms/step - loss: 2.7618 - mae: 1.4224\n",
            "Epoch 83/200\n",
            "1/1 [==============================] - 0s 38ms/step - loss: 2.7459 - mae: 1.4080\n",
            "Epoch 84/200\n",
            "1/1 [==============================] - 0s 36ms/step - loss: 2.7325 - mae: 1.3964\n",
            "Epoch 85/200\n",
            "1/1 [==============================] - 0s 22ms/step - loss: 2.7162 - mae: 1.3884\n",
            "Epoch 86/200\n",
            "1/1 [==============================] - 0s 15ms/step - loss: 2.6943 - mae: 1.3842\n",
            "Epoch 87/200\n",
            "1/1 [==============================] - 0s 16ms/step - loss: 2.6684 - mae: 1.3832\n",
            "Epoch 88/200\n",
            "1/1 [==============================] - 0s 15ms/step - loss: 2.6423 - mae: 1.3844\n",
            "Epoch 89/200\n",
            "1/1 [==============================] - 0s 18ms/step - loss: 2.6195 - mae: 1.3865\n",
            "Epoch 90/200\n",
            "1/1 [==============================] - 0s 18ms/step - loss: 2.6006 - mae: 1.3880\n",
            "Epoch 91/200\n",
            "1/1 [==============================] - 0s 17ms/step - loss: 2.5839 - mae: 1.3878\n",
            "Epoch 92/200\n",
            "1/1 [==============================] - 0s 35ms/step - loss: 2.5662 - mae: 1.3850\n",
            "Epoch 93/200\n",
            "1/1 [==============================] - 0s 26ms/step - loss: 2.5459 - mae: 1.3794\n",
            "Epoch 94/200\n",
            "1/1 [==============================] - 0s 18ms/step - loss: 2.5232 - mae: 1.3713\n",
            "Epoch 95/200\n",
            "1/1 [==============================] - 0s 18ms/step - loss: 2.5002 - mae: 1.3615\n",
            "Epoch 96/200\n",
            "1/1 [==============================] - 0s 29ms/step - loss: 2.4787 - mae: 1.3510\n",
            "Epoch 97/200\n",
            "1/1 [==============================] - 0s 16ms/step - loss: 2.4593 - mae: 1.3408\n",
            "Epoch 98/200\n",
            "1/1 [==============================] - 0s 24ms/step - loss: 2.4411 - mae: 1.3318\n",
            "Epoch 99/200\n",
            "1/1 [==============================] - 0s 22ms/step - loss: 2.4224 - mae: 1.3246\n",
            "Epoch 100/200\n",
            "1/1 [==============================] - 0s 16ms/step - loss: 2.4025 - mae: 1.3193\n",
            "Epoch 101/200\n",
            "1/1 [==============================] - 0s 32ms/step - loss: 2.3814 - mae: 1.3157\n",
            "Epoch 102/200\n",
            "1/1 [==============================] - 0s 32ms/step - loss: 2.3602 - mae: 1.3134\n",
            "Epoch 103/200\n",
            "1/1 [==============================] - 0s 17ms/step - loss: 2.3397 - mae: 1.3116\n",
            "Epoch 104/200\n",
            "1/1 [==============================] - 0s 18ms/step - loss: 2.3203 - mae: 1.3095\n",
            "Epoch 105/200\n",
            "1/1 [==============================] - 0s 17ms/step - loss: 2.3015 - mae: 1.3065\n",
            "Epoch 106/200\n",
            "1/1 [==============================] - 0s 20ms/step - loss: 2.2825 - mae: 1.3022\n",
            "Epoch 107/200\n",
            "1/1 [==============================] - 0s 17ms/step - loss: 2.2628 - mae: 1.2965\n",
            "Epoch 108/200\n",
            "1/1 [==============================] - 0s 25ms/step - loss: 2.2426 - mae: 1.2895\n",
            "Epoch 109/200\n",
            "1/1 [==============================] - 0s 20ms/step - loss: 2.2223 - mae: 1.2816\n",
            "Epoch 110/200\n",
            "1/1 [==============================] - 0s 19ms/step - loss: 2.2026 - mae: 1.2735\n",
            "Epoch 111/200\n",
            "1/1 [==============================] - 0s 18ms/step - loss: 2.1834 - mae: 1.2656\n",
            "Epoch 112/200\n",
            "1/1 [==============================] - 0s 16ms/step - loss: 2.1645 - mae: 1.2585\n",
            "Epoch 113/200\n",
            "1/1 [==============================] - 0s 16ms/step - loss: 2.1454 - mae: 1.2523\n",
            "Epoch 114/200\n",
            "1/1 [==============================] - 0s 18ms/step - loss: 2.1259 - mae: 1.2471\n",
            "Epoch 115/200\n",
            "1/1 [==============================] - 0s 19ms/step - loss: 2.1063 - mae: 1.2427\n",
            "Epoch 116/200\n",
            "1/1 [==============================] - 0s 18ms/step - loss: 2.0868 - mae: 1.2388\n",
            "Epoch 117/200\n",
            "1/1 [==============================] - 0s 19ms/step - loss: 2.0676 - mae: 1.2350\n",
            "Epoch 118/200\n",
            "1/1 [==============================] - 0s 17ms/step - loss: 2.0486 - mae: 1.2308\n",
            "Epoch 119/200\n",
            "1/1 [==============================] - 0s 18ms/step - loss: 2.0297 - mae: 1.2261\n",
            "Epoch 120/200\n",
            "1/1 [==============================] - 0s 19ms/step - loss: 2.0107 - mae: 1.2205\n",
            "Epoch 121/200\n",
            "1/1 [==============================] - 0s 20ms/step - loss: 1.9916 - mae: 1.2143\n",
            "Epoch 122/200\n",
            "1/1 [==============================] - 0s 24ms/step - loss: 1.9724 - mae: 1.2075\n",
            "Epoch 123/200\n",
            "1/1 [==============================] - 0s 23ms/step - loss: 1.9534 - mae: 1.2005\n",
            "Epoch 124/200\n",
            "1/1 [==============================] - 0s 17ms/step - loss: 1.9345 - mae: 1.1935\n",
            "Epoch 125/200\n",
            "1/1 [==============================] - 0s 21ms/step - loss: 1.9158 - mae: 1.1868\n",
            "Epoch 126/200\n",
            "1/1 [==============================] - 0s 17ms/step - loss: 1.8971 - mae: 1.1806\n",
            "Epoch 127/200\n",
            "1/1 [==============================] - 0s 12ms/step - loss: 1.8783 - mae: 1.1749\n",
            "Epoch 128/200\n",
            "1/1 [==============================] - 0s 33ms/step - loss: 1.8595 - mae: 1.1697\n",
            "Epoch 129/200\n",
            "1/1 [==============================] - 0s 20ms/step - loss: 1.8407 - mae: 1.1647\n",
            "Epoch 130/200\n",
            "1/1 [==============================] - 0s 21ms/step - loss: 1.8220 - mae: 1.1598\n",
            "Epoch 131/200\n",
            "1/1 [==============================] - 0s 25ms/step - loss: 1.8035 - mae: 1.1547\n",
            "Epoch 132/200\n",
            "1/1 [==============================] - 0s 22ms/step - loss: 1.7849 - mae: 1.1493\n",
            "Epoch 133/200\n",
            "1/1 [==============================] - 0s 22ms/step - loss: 1.7664 - mae: 1.1434\n",
            "Epoch 134/200\n",
            "1/1 [==============================] - 0s 38ms/step - loss: 1.7479 - mae: 1.1372\n",
            "Epoch 135/200\n",
            "1/1 [==============================] - 0s 24ms/step - loss: 1.7294 - mae: 1.1307\n",
            "Epoch 136/200\n",
            "1/1 [==============================] - 0s 21ms/step - loss: 1.7109 - mae: 1.1240\n",
            "Epoch 137/200\n",
            "1/1 [==============================] - 0s 21ms/step - loss: 1.6925 - mae: 1.1174\n",
            "Epoch 138/200\n",
            "1/1 [==============================] - 0s 23ms/step - loss: 1.6742 - mae: 1.1109\n",
            "Epoch 139/200\n",
            "1/1 [==============================] - 0s 24ms/step - loss: 1.6559 - mae: 1.1047\n",
            "Epoch 140/200\n",
            "1/1 [==============================] - 0s 23ms/step - loss: 1.6377 - mae: 1.0988\n",
            "Epoch 141/200\n",
            "1/1 [==============================] - 0s 61ms/step - loss: 1.6194 - mae: 1.0931\n",
            "Epoch 142/200\n",
            "1/1 [==============================] - 0s 35ms/step - loss: 1.6012 - mae: 1.0875\n",
            "Epoch 143/200\n",
            "1/1 [==============================] - 0s 50ms/step - loss: 1.5831 - mae: 1.0818\n",
            "Epoch 144/200\n",
            "1/1 [==============================] - 0s 26ms/step - loss: 1.5650 - mae: 1.0760\n",
            "Epoch 145/200\n",
            "1/1 [==============================] - 0s 23ms/step - loss: 1.5466 - mae: 1.0695\n",
            "Epoch 146/200\n",
            "1/1 [==============================] - 0s 18ms/step - loss: 1.5285 - mae: 1.0628\n",
            "Epoch 147/200\n",
            "1/1 [==============================] - 0s 19ms/step - loss: 1.5104 - mae: 1.0557\n",
            "Epoch 148/200\n",
            "1/1 [==============================] - 0s 19ms/step - loss: 1.4923 - mae: 1.0486\n",
            "Epoch 149/200\n",
            "1/1 [==============================] - 0s 19ms/step - loss: 1.4740 - mae: 1.0418\n",
            "Epoch 150/200\n",
            "1/1 [==============================] - 0s 20ms/step - loss: 1.4556 - mae: 1.0354\n",
            "Epoch 151/200\n",
            "1/1 [==============================] - 0s 34ms/step - loss: 1.4370 - mae: 1.0296\n",
            "Epoch 152/200\n",
            "1/1 [==============================] - 0s 23ms/step - loss: 1.4183 - mae: 1.0241\n",
            "Epoch 153/200\n",
            "1/1 [==============================] - 0s 37ms/step - loss: 1.3996 - mae: 1.0185\n",
            "Epoch 154/200\n",
            "1/1 [==============================] - 0s 37ms/step - loss: 1.3807 - mae: 1.0122\n",
            "Epoch 155/200\n",
            "1/1 [==============================] - 0s 24ms/step - loss: 1.3616 - mae: 1.0049\n",
            "Epoch 156/200\n",
            "1/1 [==============================] - 0s 30ms/step - loss: 1.3422 - mae: 0.9968\n",
            "Epoch 157/200\n",
            "1/1 [==============================] - 0s 29ms/step - loss: 1.3227 - mae: 0.9885\n",
            "Epoch 158/200\n",
            "1/1 [==============================] - 0s 34ms/step - loss: 1.3029 - mae: 0.9808\n",
            "Epoch 159/200\n",
            "1/1 [==============================] - 0s 29ms/step - loss: 1.2828 - mae: 0.9740\n",
            "Epoch 160/200\n",
            "1/1 [==============================] - 0s 21ms/step - loss: 1.2625 - mae: 0.9675\n",
            "Epoch 161/200\n",
            "1/1 [==============================] - 0s 55ms/step - loss: 1.2420 - mae: 0.9603\n",
            "Epoch 162/200\n",
            "1/1 [==============================] - 0s 29ms/step - loss: 1.2211 - mae: 0.9517\n",
            "Epoch 163/200\n",
            "1/1 [==============================] - 0s 23ms/step - loss: 1.1999 - mae: 0.9424\n",
            "Epoch 164/200\n",
            "1/1 [==============================] - 0s 18ms/step - loss: 1.1786 - mae: 0.9334\n",
            "Epoch 165/200\n",
            "1/1 [==============================] - 0s 31ms/step - loss: 1.1580 - mae: 0.9257\n",
            "Epoch 166/200\n",
            "1/1 [==============================] - 0s 24ms/step - loss: 1.1377 - mae: 0.9120\n",
            "Epoch 167/200\n",
            "1/1 [==============================] - 0s 22ms/step - loss: 1.1180 - mae: 0.9018\n",
            "Epoch 168/200\n",
            "1/1 [==============================] - 0s 17ms/step - loss: 1.0951 - mae: 0.8959\n",
            "Epoch 169/200\n",
            "1/1 [==============================] - 0s 20ms/step - loss: 1.0728 - mae: 0.8923\n",
            "Epoch 170/200\n",
            "1/1 [==============================] - 0s 18ms/step - loss: 1.0526 - mae: 0.8877\n",
            "Epoch 171/200\n",
            "1/1 [==============================] - 0s 21ms/step - loss: 1.0302 - mae: 0.8752\n",
            "Epoch 172/200\n",
            "1/1 [==============================] - 0s 42ms/step - loss: 1.0093 - mae: 0.8618\n",
            "Epoch 173/200\n",
            "1/1 [==============================] - 0s 24ms/step - loss: 0.9889 - mae: 0.8501\n",
            "Epoch 174/200\n",
            "1/1 [==============================] - 0s 18ms/step - loss: 0.9668 - mae: 0.8414\n",
            "Epoch 175/200\n",
            "1/1 [==============================] - 0s 24ms/step - loss: 0.9437 - mae: 0.8353\n",
            "Epoch 176/200\n",
            "1/1 [==============================] - 0s 18ms/step - loss: 0.9219 - mae: 0.8293\n",
            "Epoch 177/200\n",
            "1/1 [==============================] - 0s 19ms/step - loss: 0.9002 - mae: 0.8211\n",
            "Epoch 178/200\n",
            "1/1 [==============================] - 0s 24ms/step - loss: 0.8771 - mae: 0.8095\n",
            "Epoch 179/200\n",
            "1/1 [==============================] - 0s 19ms/step - loss: 0.8539 - mae: 0.7955\n",
            "Epoch 180/200\n",
            "1/1 [==============================] - 0s 20ms/step - loss: 0.8316 - mae: 0.7819\n",
            "Epoch 181/200\n",
            "1/1 [==============================] - 0s 24ms/step - loss: 0.8087 - mae: 0.7709\n",
            "Epoch 182/200\n",
            "1/1 [==============================] - 0s 26ms/step - loss: 0.7849 - mae: 0.7628\n",
            "Epoch 183/200\n",
            "1/1 [==============================] - 0s 26ms/step - loss: 0.7624 - mae: 0.7547\n",
            "Epoch 184/200\n",
            "1/1 [==============================] - 0s 22ms/step - loss: 0.7397 - mae: 0.7376\n",
            "Epoch 185/200\n",
            "1/1 [==============================] - 0s 21ms/step - loss: 0.7187 - mae: 0.7229\n",
            "Epoch 186/200\n",
            "1/1 [==============================] - 0s 20ms/step - loss: 0.6948 - mae: 0.7130\n",
            "Epoch 187/200\n",
            "1/1 [==============================] - 0s 28ms/step - loss: 0.6707 - mae: 0.7061\n",
            "Epoch 188/200\n",
            "1/1 [==============================] - 0s 25ms/step - loss: 0.6532 - mae: 0.6997\n",
            "Epoch 189/200\n",
            "1/1 [==============================] - 0s 24ms/step - loss: 0.6253 - mae: 0.6802\n",
            "Epoch 190/200\n",
            "1/1 [==============================] - 0s 31ms/step - loss: 0.6049 - mae: 0.6635\n",
            "Epoch 191/200\n",
            "1/1 [==============================] - 0s 25ms/step - loss: 0.5817 - mae: 0.6511\n",
            "Epoch 192/200\n",
            "1/1 [==============================] - 0s 24ms/step - loss: 0.5576 - mae: 0.6427\n",
            "Epoch 193/200\n",
            "1/1 [==============================] - 0s 26ms/step - loss: 0.5392 - mae: 0.6356\n",
            "Epoch 194/200\n",
            "1/1 [==============================] - 0s 23ms/step - loss: 0.5132 - mae: 0.6171\n",
            "Epoch 195/200\n",
            "1/1 [==============================] - 0s 23ms/step - loss: 0.4923 - mae: 0.6001\n",
            "Epoch 196/200\n",
            "1/1 [==============================] - 0s 24ms/step - loss: 0.4706 - mae: 0.5863\n",
            "Epoch 197/200\n",
            "1/1 [==============================] - 0s 29ms/step - loss: 0.4478 - mae: 0.5758\n",
            "Epoch 198/200\n",
            "1/1 [==============================] - 0s 20ms/step - loss: 0.4283 - mae: 0.5663\n",
            "Epoch 199/200\n",
            "1/1 [==============================] - 0s 23ms/step - loss: 0.4054 - mae: 0.5468\n",
            "Epoch 200/200\n",
            "1/1 [==============================] - 0s 16ms/step - loss: 0.3860 - mae: 0.5301\n"
          ]
        },
        {
          "output_type": "execute_result",
          "data": {
            "text/plain": [
              "<keras.callbacks.History at 0x7f73015d47d0>"
            ]
          },
          "metadata": {},
          "execution_count": 11
        }
      ]
    },
    {
      "cell_type": "code",
      "source": [
        "model.predict(X)"
      ],
      "metadata": {
        "colab": {
          "base_uri": "https://localhost:8080/"
        },
        "outputId": "9130cf72-df14-4439-ec95-12d1b8c8a563",
        "id": "Fm9i9fUuLdPH"
      },
      "execution_count": 12,
      "outputs": [
        {
          "output_type": "execute_result",
          "data": {
            "text/plain": [
              "array([[ 6.9751687],\n",
              "       [10.365131 ],\n",
              "       [13.75506  ],\n",
              "       [17.144989 ],\n",
              "       [20.536743 ]], dtype=float32)"
            ]
          },
          "metadata": {},
          "execution_count": 12
        }
      ]
    },
    {
      "cell_type": "code",
      "source": [
        "plt.scatter(X,y)"
      ],
      "metadata": {
        "colab": {
          "base_uri": "https://localhost:8080/",
          "height": 282
        },
        "outputId": "a37d7b90-289c-4c63-e121-a64413445c92",
        "id": "rI1rwu7KLdPs"
      },
      "execution_count": 13,
      "outputs": [
        {
          "output_type": "execute_result",
          "data": {
            "text/plain": [
              "<matplotlib.collections.PathCollection at 0x7f72fec609d0>"
            ]
          },
          "metadata": {},
          "execution_count": 13
        },
        {
          "output_type": "display_data",
          "data": {
            "image/png": "[encoded data removed]",
            "text/plain": [
              "<Figure size 432x288 with 1 Axes>"
            ]
          },
          "metadata": {
            "needs_background": "light"
          }
        }
      ]
    },
    {
      "cell_type": "code",
      "source": [
        "plt.scatter(X,model.predict(X))"
      ],
      "metadata": {
        "colab": {
          "base_uri": "https://localhost:8080/",
          "height": 282
        },
        "outputId": "ac664db9-2c16-4440-eaa2-7ed1bbc99891",
        "id": "ECl7F199LdPu"
      },
      "execution_count": 14,
      "outputs": [
        {
          "output_type": "execute_result",
          "data": {
            "text/plain": [
              "<matplotlib.collections.PathCollection at 0x7f72febc6f50>"
            ]
          },
          "metadata": {},
          "execution_count": 14
        },
        {
          "output_type": "display_data",
          "data": {
            "image/png": "[encoded data removed]",
            "text/plain": [
              "<Figure size 432x288 with 1 Axes>"
            ]
          },
          "metadata": {
            "needs_background": "light"
          }
        }
      ]
    },
    {
      "cell_type": "markdown",
      "source": [
        "## increasing the data"
      ],
      "metadata": {
        "id": "91QdaDf-R4Gj"
      }
    },
    {
      "cell_type": "code",
      "source": [
        "X = np.expand_dims(np.arange(3,55,3),axis=-1)\n",
        "X"
      ],
      "metadata": {
        "colab": {
          "base_uri": "https://localhost:8080/"
        },
        "id": "0buHeqHnBGCE",
        "outputId": "6bf047fa-207d-46fa-a18a-3ef7a4367b16"
      },
      "execution_count": 15,
      "outputs": [
        {
          "output_type": "execute_result",
          "data": {
            "text/plain": [
              "array([[ 3],\n",
              "       [ 6],\n",
              "       [ 9],\n",
              "       [12],\n",
              "       [15],\n",
              "       [18],\n",
              "       [21],\n",
              "       [24],\n",
              "       [27],\n",
              "       [30],\n",
              "       [33],\n",
              "       [36],\n",
              "       [39],\n",
              "       [42],\n",
              "       [45],\n",
              "       [48],\n",
              "       [51],\n",
              "       [54]])"
            ]
          },
          "metadata": {},
          "execution_count": 15
        }
      ]
    },
    {
      "cell_type": "code",
      "source": [
        "y = np.squeeze(X + 5)\n",
        "y"
      ],
      "metadata": {
        "colab": {
          "base_uri": "https://localhost:8080/"
        },
        "id": "dCDfU_QQIwh3",
        "outputId": "73fafaca-f0b5-408b-fb62-1b70db952848"
      },
      "execution_count": 16,
      "outputs": [
        {
          "output_type": "execute_result",
          "data": {
            "text/plain": [
              "array([ 8, 11, 14, 17, 20, 23, 26, 29, 32, 35, 38, 41, 44, 47, 50, 53, 56,\n",
              "       59])"
            ]
          },
          "metadata": {},
          "execution_count": 16
        }
      ]
    },
    {
      "cell_type": "code",
      "source": [
        "from sklearn.model_selection import train_test_split\n",
        "X_train, X_test, y_train, y_test = train_test_split(X, y, test_size=.1)"
      ],
      "metadata": {
        "id": "3NNDLynUAsSc"
      },
      "execution_count": 17,
      "outputs": []
    },
    {
      "cell_type": "code",
      "source": [
        "model = tf.keras.Sequential([ \n",
        "                              tf.keras.layers.Dense(256,input_shape=[1],activation='relu',name='input_layer'),\n",
        "                              tf.keras.layers.Dense(128,activation='relu',name='hidden_layer'),\n",
        "                              tf.keras.layers.Dense(1,name='output_layer')\n",
        "                           ],name='model_22')\n",
        "\n",
        "model.compile(loss=tf.keras.losses.mse,\n",
        "              optimizer=tf.keras.optimizers.Adam(learning_rate=0.001),\n",
        "              metrics = ['mae'])\n",
        "\n",
        "model.fit(X_train,y_train,epochs=200,verbose=0)"
      ],
      "metadata": {
        "colab": {
          "base_uri": "https://localhost:8080/"
        },
        "id": "no4w2jGWTXHl",
        "outputId": "a6db13ee-3e1c-45b6-9a18-9e9db3a7dfc7"
      },
      "execution_count": 18,
      "outputs": [
        {
          "output_type": "execute_result",
          "data": {
            "text/plain": [
              "<keras.callbacks.History at 0x7f72fbd6e510>"
            ]
          },
          "metadata": {},
          "execution_count": 18
        }
      ]
    },
    {
      "cell_type": "code",
      "source": [
        "model.summary()"
      ],
      "metadata": {
        "colab": {
          "base_uri": "https://localhost:8080/"
        },
        "id": "KUUnq3P5Tdnh",
        "outputId": "ef0cdc31-5f26-460e-d0b5-ffce2cc15252"
      },
      "execution_count": 19,
      "outputs": [
        {
          "output_type": "stream",
          "name": "stdout",
          "text": [
            "Model: \"model_22\"\n",
            "_________________________________________________________________\n",
            " Layer (type)                Output Shape              Param #   \n",
            "=================================================================\n",
            " input_layer (Dense)         (None, 256)               512       \n",
            "                                                                 \n",
            " hidden_layer (Dense)        (None, 128)               32896     \n",
            "                                                                 \n",
            " output_layer (Dense)        (None, 1)                 129       \n",
            "                                                                 \n",
            "=================================================================\n",
            "Total params: 33,537\n",
            "Trainable params: 33,537\n",
            "Non-trainable params: 0\n",
            "_________________________________________________________________\n"
          ]
        }
      ]
    },
    {
      "cell_type": "code",
      "source": [
        "from tensorflow.keras.utils import plot_model"
      ],
      "metadata": {
        "id": "AQB0u5lkZO50"
      },
      "execution_count": 20,
      "outputs": []
    },
    {
      "cell_type": "code",
      "source": [
        "plot_model(model,show_shapes=True)"
      ],
      "metadata": {
        "colab": {
          "base_uri": "https://localhost:8080/",
          "height": 422
        },
        "id": "GblArPzxlc6J",
        "outputId": "288c9a48-5b52-4339-a6c5-f8eaf742b9a3"
      },
      "execution_count": 21,
      "outputs": [
        {
          "output_type": "execute_result",
          "data": {
            "image/png": "[encoded data removed]",
            "text/plain": [
              "<IPython.core.display.Image object>"
            ]
          },
          "metadata": {},
          "execution_count": 21
        }
      ]
    },
    {
      "cell_type": "code",
      "source": [
        "model.evaluate(X_train,y_train)"
      ],
      "metadata": {
        "colab": {
          "base_uri": "https://localhost:8080/"
        },
        "id": "ehJYuNG4KIJO",
        "outputId": "6cb68492-f18e-410a-b244-3ad121cb9fbe"
      },
      "execution_count": 22,
      "outputs": [
        {
          "output_type": "stream",
          "name": "stdout",
          "text": [
            "1/1 [==============================] - 0s 142ms/step - loss: 4.2847 - mae: 1.7669\n"
          ]
        },
        {
          "output_type": "execute_result",
          "data": {
            "text/plain": [
              "[4.284698486328125, 1.7668753862380981]"
            ]
          },
          "metadata": {},
          "execution_count": 22
        }
      ]
    },
    {
      "cell_type": "code",
      "source": [
        "model.evaluate(X_test,y_test)"
      ],
      "metadata": {
        "colab": {
          "base_uri": "https://localhost:8080/"
        },
        "id": "HUl8K2Ouqbd3",
        "outputId": "10f40210-d288-4c0a-dff2-218ff16d01b2"
      },
      "execution_count": 23,
      "outputs": [
        {
          "output_type": "stream",
          "name": "stdout",
          "text": [
            "1/1 [==============================] - 0s 18ms/step - loss: 0.4547 - mae: 0.6691\n"
          ]
        },
        {
          "output_type": "execute_result",
          "data": {
            "text/plain": [
              "[0.45471274852752686, 0.6691398620605469]"
            ]
          },
          "metadata": {},
          "execution_count": 23
        }
      ]
    },
    {
      "cell_type": "code",
      "source": [
        "model.predict(X_test)"
      ],
      "metadata": {
        "colab": {
          "base_uri": "https://localhost:8080/"
        },
        "id": "gnnIRr8XLGwA",
        "outputId": "dfc9538b-248f-4327-e8c7-a41d29149e4a"
      },
      "execution_count": 24,
      "outputs": [
        {
          "output_type": "execute_result",
          "data": {
            "text/plain": [
              "array([[47.585682],\n",
              "       [34.247406]], dtype=float32)"
            ]
          },
          "metadata": {},
          "execution_count": 24
        }
      ]
    },
    {
      "cell_type": "code",
      "source": [
        "y_test"
      ],
      "metadata": {
        "colab": {
          "base_uri": "https://localhost:8080/"
        },
        "id": "JuW3nuacLOE9",
        "outputId": "1a3947a0-f084-454e-a94c-998c6fb5598e"
      },
      "execution_count": 25,
      "outputs": [
        {
          "output_type": "execute_result",
          "data": {
            "text/plain": [
              "array([47, 35])"
            ]
          },
          "metadata": {},
          "execution_count": 25
        }
      ]
    },
    {
      "cell_type": "code",
      "source": [
        "tf.metrics.mean_squared_error(y_test,np.squeeze(model.predict(X_test)))"
      ],
      "metadata": {
        "colab": {
          "base_uri": "https://localhost:8080/"
        },
        "id": "6L1LeSl1KF2k",
        "outputId": "0ffb8267-d22f-41c6-eda2-1ac7df085caf"
      },
      "execution_count": 26,
      "outputs": [
        {
          "output_type": "execute_result",
          "data": {
            "text/plain": [
              "<tf.Tensor: shape=(), dtype=float32, numpy=0.4547105>"
            ]
          },
          "metadata": {},
          "execution_count": 26
        }
      ]
    },
    {
      "cell_type": "code",
      "source": [
        "tf.metrics.mean_absolute_error(y_test,np.squeeze(model.predict(X_test)))"
      ],
      "metadata": {
        "colab": {
          "base_uri": "https://localhost:8080/"
        },
        "id": "llPFYzEBKfWU",
        "outputId": "1e1dc8e0-4081-4aa1-b14e-e7ca26dbd383"
      },
      "execution_count": 27,
      "outputs": [
        {
          "output_type": "execute_result",
          "data": {
            "text/plain": [
              "<tf.Tensor: shape=(), dtype=float32, numpy=0.66913795>"
            ]
          },
          "metadata": {},
          "execution_count": 27
        }
      ]
    },
    {
      "cell_type": "code",
      "source": [
        "tf.metrics.mean_absolute_percentage_error(y_test,np.squeeze(model.predict(X_test)))"
      ],
      "metadata": {
        "colab": {
          "base_uri": "https://localhost:8080/"
        },
        "id": "kQrz9iFlMkgp",
        "outputId": "971b28a5-047d-46ea-b178-2048d5634f0d"
      },
      "execution_count": 28,
      "outputs": [
        {
          "output_type": "execute_result",
          "data": {
            "text/plain": [
              "<tf.Tensor: shape=(), dtype=float32, numpy=1.6982>"
            ]
          },
          "metadata": {},
          "execution_count": 28
        }
      ]
    },
    {
      "cell_type": "code",
      "source": [
        "model2 = tf.keras.Sequential([  \n",
        "                            tf.keras.layers.Dense(10),\n",
        "                            tf.keras.layers.Dense(10),\n",
        "                            tf.keras.layers.Dense(10),\n",
        "                            tf.keras.layers.Dense(1)                          \n",
        "])\n",
        "\n",
        "model2.compile(loss = tf.keras.losses.MSE,\n",
        "               optimizer = tf.keras.optimizers.Adam(),\n",
        "               metrics = ['mse'])\n",
        "\n",
        "model2.fit(X_train,y_train,epochs=200)"
      ],
      "metadata": {
        "colab": {
          "base_uri": "https://localhost:8080/"
        },
        "id": "f7uvhGQaMoZ5",
        "outputId": "40282dd0-6d1e-4651-f59e-83fdd0a5dee0"
      },
      "execution_count": 29,
      "outputs": [
        {
          "output_type": "stream",
          "name": "stdout",
          "text": [
            "Epoch 1/200\n",
            "1/1 [==============================] - 0s 469ms/step - loss: 6.3774 - mse: 6.3774\n",
            "Epoch 2/200\n",
            "1/1 [==============================] - 0s 8ms/step - loss: 9.2443 - mse: 9.2443\n",
            "Epoch 3/200\n",
            "1/1 [==============================] - 0s 9ms/step - loss: 6.4660 - mse: 6.4660\n",
            "Epoch 4/200\n",
            "1/1 [==============================] - 0s 9ms/step - loss: 6.9439 - mse: 6.9439\n",
            "Epoch 5/200\n",
            "1/1 [==============================] - 0s 9ms/step - loss: 7.9457 - mse: 7.9457\n",
            "Epoch 6/200\n",
            "1/1 [==============================] - 0s 6ms/step - loss: 7.4359 - mse: 7.4359\n",
            "Epoch 7/200\n",
            "1/1 [==============================] - 0s 7ms/step - loss: 6.4884 - mse: 6.4884\n",
            "Epoch 8/200\n",
            "1/1 [==============================] - 0s 8ms/step - loss: 6.1423 - mse: 6.1423\n",
            "Epoch 9/200\n",
            "1/1 [==============================] - 0s 10ms/step - loss: 6.5001 - mse: 6.5001\n",
            "Epoch 10/200\n",
            "1/1 [==============================] - 0s 9ms/step - loss: 6.8841 - mse: 6.8841\n",
            "Epoch 11/200\n",
            "1/1 [==============================] - 0s 6ms/step - loss: 6.7864 - mse: 6.7864\n",
            "Epoch 12/200\n",
            "1/1 [==============================] - 0s 17ms/step - loss: 6.3507 - mse: 6.3507\n",
            "Epoch 13/200\n",
            "1/1 [==============================] - 0s 11ms/step - loss: 5.9994 - mse: 5.9994\n",
            "Epoch 14/200\n",
            "1/1 [==============================] - 0s 7ms/step - loss: 5.9829 - mse: 5.9829\n",
            "Epoch 15/200\n",
            "1/1 [==============================] - 0s 6ms/step - loss: 6.1907 - mse: 6.1907\n",
            "Epoch 16/200\n",
            "1/1 [==============================] - 0s 6ms/step - loss: 6.3163 - mse: 6.3163\n",
            "Epoch 17/200\n",
            "1/1 [==============================] - 0s 9ms/step - loss: 6.1999 - mse: 6.1999\n",
            "Epoch 18/200\n",
            "1/1 [==============================] - 0s 7ms/step - loss: 5.9471 - mse: 5.9471\n",
            "Epoch 19/200\n",
            "1/1 [==============================] - 0s 8ms/step - loss: 5.7687 - mse: 5.7687\n",
            "Epoch 20/200\n",
            "1/1 [==============================] - 0s 9ms/step - loss: 5.7690 - mse: 5.7690\n",
            "Epoch 21/200\n",
            "1/1 [==============================] - 0s 9ms/step - loss: 5.8680 - mse: 5.8680\n",
            "Epoch 22/200\n",
            "1/1 [==============================] - 0s 9ms/step - loss: 5.9056 - mse: 5.9056\n",
            "Epoch 23/200\n",
            "1/1 [==============================] - 0s 10ms/step - loss: 5.8113 - mse: 5.8113\n",
            "Epoch 24/200\n",
            "1/1 [==============================] - 0s 10ms/step - loss: 5.6554 - mse: 5.6554\n",
            "Epoch 25/200\n",
            "1/1 [==============================] - 0s 9ms/step - loss: 5.5555 - mse: 5.5555\n",
            "Epoch 26/200\n",
            "1/1 [==============================] - 0s 16ms/step - loss: 5.5570 - mse: 5.5570\n",
            "Epoch 27/200\n",
            "1/1 [==============================] - 0s 9ms/step - loss: 5.5992 - mse: 5.5992\n",
            "Epoch 28/200\n",
            "1/1 [==============================] - 0s 10ms/step - loss: 5.5913 - mse: 5.5913\n",
            "Epoch 29/200\n",
            "1/1 [==============================] - 0s 11ms/step - loss: 5.5089 - mse: 5.5089\n",
            "Epoch 30/200\n",
            "1/1 [==============================] - 0s 9ms/step - loss: 5.4072 - mse: 5.4072\n",
            "Epoch 31/200\n",
            "1/1 [==============================] - 0s 12ms/step - loss: 5.3522 - mse: 5.3522\n",
            "Epoch 32/200\n",
            "1/1 [==============================] - 0s 10ms/step - loss: 5.3522 - mse: 5.3522\n",
            "Epoch 33/200\n",
            "1/1 [==============================] - 0s 8ms/step - loss: 5.3577 - mse: 5.3577\n",
            "Epoch 34/200\n",
            "1/1 [==============================] - 0s 10ms/step - loss: 5.3220 - mse: 5.3220\n",
            "Epoch 35/200\n",
            "1/1 [==============================] - 0s 8ms/step - loss: 5.2503 - mse: 5.2503\n",
            "Epoch 36/200\n",
            "1/1 [==============================] - 0s 18ms/step - loss: 5.1855 - mse: 5.1855\n",
            "Epoch 37/200\n",
            "1/1 [==============================] - 0s 8ms/step - loss: 5.1569 - mse: 5.1569\n",
            "Epoch 38/200\n",
            "1/1 [==============================] - 0s 9ms/step - loss: 5.1500 - mse: 5.1500\n",
            "Epoch 39/200\n",
            "1/1 [==============================] - 0s 9ms/step - loss: 5.1294 - mse: 5.1294\n",
            "Epoch 40/200\n",
            "1/1 [==============================] - 0s 12ms/step - loss: 5.0807 - mse: 5.0807\n",
            "Epoch 41/200\n",
            "1/1 [==============================] - 0s 9ms/step - loss: 5.0239 - mse: 5.0239\n",
            "Epoch 42/200\n",
            "1/1 [==============================] - 0s 9ms/step - loss: 4.9848 - mse: 4.9848\n",
            "Epoch 43/200\n",
            "1/1 [==============================] - 0s 15ms/step - loss: 4.9654 - mse: 4.9654\n",
            "Epoch 44/200\n",
            "1/1 [==============================] - 0s 14ms/step - loss: 4.9450 - mse: 4.9450\n",
            "Epoch 45/200\n",
            "1/1 [==============================] - 0s 13ms/step - loss: 4.9077 - mse: 4.9077\n",
            "Epoch 46/200\n",
            "1/1 [==============================] - 0s 11ms/step - loss: 4.8603 - mse: 4.8603\n",
            "Epoch 47/200\n",
            "1/1 [==============================] - 0s 10ms/step - loss: 4.8208 - mse: 4.8208\n",
            "Epoch 48/200\n",
            "1/1 [==============================] - 0s 15ms/step - loss: 4.7949 - mse: 4.7949\n",
            "Epoch 49/200\n",
            "1/1 [==============================] - 0s 8ms/step - loss: 4.7715 - mse: 4.7715\n",
            "Epoch 50/200\n",
            "1/1 [==============================] - 0s 9ms/step - loss: 4.7384 - mse: 4.7384\n",
            "Epoch 51/200\n",
            "1/1 [==============================] - 0s 11ms/step - loss: 4.6974 - mse: 4.6974\n",
            "Epoch 52/200\n",
            "1/1 [==============================] - 0s 8ms/step - loss: 4.6602 - mse: 4.6602\n",
            "Epoch 53/200\n",
            "1/1 [==============================] - 0s 9ms/step - loss: 4.6318 - mse: 4.6318\n",
            "Epoch 54/200\n",
            "1/1 [==============================] - 0s 7ms/step - loss: 4.6057 - mse: 4.6057\n",
            "Epoch 55/200\n",
            "1/1 [==============================] - 0s 11ms/step - loss: 4.5737 - mse: 4.5737\n",
            "Epoch 56/200\n",
            "1/1 [==============================] - 0s 7ms/step - loss: 4.5367 - mse: 4.5367\n",
            "Epoch 57/200\n",
            "1/1 [==============================] - 0s 7ms/step - loss: 4.5022 - mse: 4.5022\n",
            "Epoch 58/200\n",
            "1/1 [==============================] - 0s 12ms/step - loss: 4.4733 - mse: 4.4733\n",
            "Epoch 59/200\n",
            "1/1 [==============================] - 0s 10ms/step - loss: 4.4455 - mse: 4.4455\n",
            "Epoch 60/200\n",
            "1/1 [==============================] - 0s 7ms/step - loss: 4.4138 - mse: 4.4138\n",
            "Epoch 61/200\n",
            "1/1 [==============================] - 0s 12ms/step - loss: 4.3794 - mse: 4.3794\n",
            "Epoch 62/200\n",
            "1/1 [==============================] - 0s 7ms/step - loss: 4.3470 - mse: 4.3470\n",
            "Epoch 63/200\n",
            "1/1 [==============================] - 0s 7ms/step - loss: 4.3181 - mse: 4.3181\n",
            "Epoch 64/200\n",
            "1/1 [==============================] - 0s 8ms/step - loss: 4.2893 - mse: 4.2893\n",
            "Epoch 65/200\n",
            "1/1 [==============================] - 0s 18ms/step - loss: 4.2579 - mse: 4.2579\n",
            "Epoch 66/200\n",
            "1/1 [==============================] - 0s 7ms/step - loss: 4.2253 - mse: 4.2253\n",
            "Epoch 67/200\n",
            "1/1 [==============================] - 0s 11ms/step - loss: 4.1947 - mse: 4.1947\n",
            "Epoch 68/200\n",
            "1/1 [==============================] - 0s 12ms/step - loss: 4.1659 - mse: 4.1659\n",
            "Epoch 69/200\n",
            "1/1 [==============================] - 0s 7ms/step - loss: 4.1366 - mse: 4.1366\n",
            "Epoch 70/200\n",
            "1/1 [==============================] - 0s 7ms/step - loss: 4.1056 - mse: 4.1056\n",
            "Epoch 71/200\n",
            "1/1 [==============================] - 0s 7ms/step - loss: 4.0746 - mse: 4.0746\n",
            "Epoch 72/200\n",
            "1/1 [==============================] - 0s 13ms/step - loss: 4.0452 - mse: 4.0452\n",
            "Epoch 73/200\n",
            "1/1 [==============================] - 0s 7ms/step - loss: 4.0165 - mse: 4.0165\n",
            "Epoch 74/200\n",
            "1/1 [==============================] - 0s 7ms/step - loss: 3.9870 - mse: 3.9870\n",
            "Epoch 75/200\n",
            "1/1 [==============================] - 0s 7ms/step - loss: 3.9567 - mse: 3.9567\n",
            "Epoch 76/200\n",
            "1/1 [==============================] - 0s 8ms/step - loss: 3.9270 - mse: 3.9270\n",
            "Epoch 77/200\n",
            "1/1 [==============================] - 0s 11ms/step - loss: 3.8983 - mse: 3.8983\n",
            "Epoch 78/200\n",
            "1/1 [==============================] - 0s 7ms/step - loss: 3.8697 - mse: 3.8697\n",
            "Epoch 79/200\n",
            "1/1 [==============================] - 0s 10ms/step - loss: 3.8404 - mse: 3.8404\n",
            "Epoch 80/200\n",
            "1/1 [==============================] - 0s 9ms/step - loss: 3.8110 - mse: 3.8110\n",
            "Epoch 81/200\n",
            "1/1 [==============================] - 0s 9ms/step - loss: 3.7823 - mse: 3.7823\n",
            "Epoch 82/200\n",
            "1/1 [==============================] - 0s 9ms/step - loss: 3.7541 - mse: 3.7541\n",
            "Epoch 83/200\n",
            "1/1 [==============================] - 0s 10ms/step - loss: 3.7255 - mse: 3.7255\n",
            "Epoch 84/200\n",
            "1/1 [==============================] - 0s 13ms/step - loss: 3.6967 - mse: 3.6967\n",
            "Epoch 85/200\n",
            "1/1 [==============================] - 0s 8ms/step - loss: 3.6683 - mse: 3.6683\n",
            "Epoch 86/200\n",
            "1/1 [==============================] - 0s 18ms/step - loss: 3.6403 - mse: 3.6403\n",
            "Epoch 87/200\n",
            "1/1 [==============================] - 0s 14ms/step - loss: 3.6123 - mse: 3.6123\n",
            "Epoch 88/200\n",
            "1/1 [==============================] - 0s 12ms/step - loss: 3.5841 - mse: 3.5841\n",
            "Epoch 89/200\n",
            "1/1 [==============================] - 0s 20ms/step - loss: 3.5560 - mse: 3.5560\n",
            "Epoch 90/200\n",
            "1/1 [==============================] - 0s 8ms/step - loss: 3.5283 - mse: 3.5283\n",
            "Epoch 91/200\n",
            "1/1 [==============================] - 0s 7ms/step - loss: 3.5007 - mse: 3.5007\n",
            "Epoch 92/200\n",
            "1/1 [==============================] - 0s 6ms/step - loss: 3.4731 - mse: 3.4731\n",
            "Epoch 93/200\n",
            "1/1 [==============================] - 0s 6ms/step - loss: 3.4455 - mse: 3.4455\n",
            "Epoch 94/200\n",
            "1/1 [==============================] - 0s 6ms/step - loss: 3.4181 - mse: 3.4181\n",
            "Epoch 95/200\n",
            "1/1 [==============================] - 0s 6ms/step - loss: 3.3909 - mse: 3.3909\n",
            "Epoch 96/200\n",
            "1/1 [==============================] - 0s 7ms/step - loss: 3.3637 - mse: 3.3637\n",
            "Epoch 97/200\n",
            "1/1 [==============================] - 0s 7ms/step - loss: 3.3365 - mse: 3.3365\n",
            "Epoch 98/200\n",
            "1/1 [==============================] - 0s 7ms/step - loss: 3.3095 - mse: 3.3095\n",
            "Epoch 99/200\n",
            "1/1 [==============================] - 0s 8ms/step - loss: 3.2827 - mse: 3.2827\n",
            "Epoch 100/200\n",
            "1/1 [==============================] - 0s 6ms/step - loss: 3.2560 - mse: 3.2560\n",
            "Epoch 101/200\n",
            "1/1 [==============================] - 0s 7ms/step - loss: 3.2292 - mse: 3.2292\n",
            "Epoch 102/200\n",
            "1/1 [==============================] - 0s 6ms/step - loss: 3.2026 - mse: 3.2026\n",
            "Epoch 103/200\n",
            "1/1 [==============================] - 0s 7ms/step - loss: 3.1762 - mse: 3.1762\n",
            "Epoch 104/200\n",
            "1/1 [==============================] - 0s 7ms/step - loss: 3.1498 - mse: 3.1498\n",
            "Epoch 105/200\n",
            "1/1 [==============================] - 0s 7ms/step - loss: 3.1235 - mse: 3.1235\n",
            "Epoch 106/200\n",
            "1/1 [==============================] - 0s 6ms/step - loss: 3.0973 - mse: 3.0973\n",
            "Epoch 107/200\n",
            "1/1 [==============================] - 0s 6ms/step - loss: 3.0713 - mse: 3.0713\n",
            "Epoch 108/200\n",
            "1/1 [==============================] - 0s 6ms/step - loss: 3.0453 - mse: 3.0453\n",
            "Epoch 109/200\n",
            "1/1 [==============================] - 0s 6ms/step - loss: 3.0194 - mse: 3.0194\n",
            "Epoch 110/200\n",
            "1/1 [==============================] - 0s 6ms/step - loss: 2.9936 - mse: 2.9936\n",
            "Epoch 111/200\n",
            "1/1 [==============================] - 0s 6ms/step - loss: 2.9680 - mse: 2.9680\n",
            "Epoch 112/200\n",
            "1/1 [==============================] - 0s 6ms/step - loss: 2.9424 - mse: 2.9424\n",
            "Epoch 113/200\n",
            "1/1 [==============================] - 0s 7ms/step - loss: 2.9169 - mse: 2.9169\n",
            "Epoch 114/200\n",
            "1/1 [==============================] - 0s 6ms/step - loss: 2.8915 - mse: 2.8915\n",
            "Epoch 115/200\n",
            "1/1 [==============================] - 0s 6ms/step - loss: 2.8662 - mse: 2.8662\n",
            "Epoch 116/200\n",
            "1/1 [==============================] - 0s 6ms/step - loss: 2.8410 - mse: 2.8410\n",
            "Epoch 117/200\n",
            "1/1 [==============================] - 0s 6ms/step - loss: 2.8160 - mse: 2.8160\n",
            "Epoch 118/200\n",
            "1/1 [==============================] - 0s 6ms/step - loss: 2.7910 - mse: 2.7910\n",
            "Epoch 119/200\n",
            "1/1 [==============================] - 0s 6ms/step - loss: 2.7661 - mse: 2.7661\n",
            "Epoch 120/200\n",
            "1/1 [==============================] - 0s 6ms/step - loss: 2.7413 - mse: 2.7413\n",
            "Epoch 121/200\n",
            "1/1 [==============================] - 0s 6ms/step - loss: 2.7166 - mse: 2.7166\n",
            "Epoch 122/200\n",
            "1/1 [==============================] - 0s 6ms/step - loss: 2.6920 - mse: 2.6920\n",
            "Epoch 123/200\n",
            "1/1 [==============================] - 0s 6ms/step - loss: 2.6675 - mse: 2.6675\n",
            "Epoch 124/200\n",
            "1/1 [==============================] - 0s 6ms/step - loss: 2.6431 - mse: 2.6431\n",
            "Epoch 125/200\n",
            "1/1 [==============================] - 0s 5ms/step - loss: 2.6188 - mse: 2.6188\n",
            "Epoch 126/200\n",
            "1/1 [==============================] - 0s 7ms/step - loss: 2.5946 - mse: 2.5946\n",
            "Epoch 127/200\n",
            "1/1 [==============================] - 0s 6ms/step - loss: 2.5705 - mse: 2.5705\n",
            "Epoch 128/200\n",
            "1/1 [==============================] - 0s 10ms/step - loss: 2.5464 - mse: 2.5464\n",
            "Epoch 129/200\n",
            "1/1 [==============================] - 0s 6ms/step - loss: 2.5225 - mse: 2.5225\n",
            "Epoch 130/200\n",
            "1/1 [==============================] - 0s 7ms/step - loss: 2.4987 - mse: 2.4987\n",
            "Epoch 131/200\n",
            "1/1 [==============================] - 0s 7ms/step - loss: 2.4750 - mse: 2.4750\n",
            "Epoch 132/200\n",
            "1/1 [==============================] - 0s 9ms/step - loss: 2.4514 - mse: 2.4514\n",
            "Epoch 133/200\n",
            "1/1 [==============================] - 0s 7ms/step - loss: 2.4279 - mse: 2.4279\n",
            "Epoch 134/200\n",
            "1/1 [==============================] - 0s 7ms/step - loss: 2.4044 - mse: 2.4044\n",
            "Epoch 135/200\n",
            "1/1 [==============================] - 0s 10ms/step - loss: 2.3811 - mse: 2.3811\n",
            "Epoch 136/200\n",
            "1/1 [==============================] - 0s 13ms/step - loss: 2.3579 - mse: 2.3579\n",
            "Epoch 137/200\n",
            "1/1 [==============================] - 0s 11ms/step - loss: 2.3347 - mse: 2.3347\n",
            "Epoch 138/200\n",
            "1/1 [==============================] - 0s 8ms/step - loss: 2.3117 - mse: 2.3117\n",
            "Epoch 139/200\n",
            "1/1 [==============================] - 0s 11ms/step - loss: 2.2888 - mse: 2.2888\n",
            "Epoch 140/200\n",
            "1/1 [==============================] - 0s 7ms/step - loss: 2.2660 - mse: 2.2660\n",
            "Epoch 141/200\n",
            "1/1 [==============================] - 0s 15ms/step - loss: 2.2432 - mse: 2.2432\n",
            "Epoch 142/200\n",
            "1/1 [==============================] - 0s 11ms/step - loss: 2.2206 - mse: 2.2206\n",
            "Epoch 143/200\n",
            "1/1 [==============================] - 0s 11ms/step - loss: 2.1981 - mse: 2.1981\n",
            "Epoch 144/200\n",
            "1/1 [==============================] - 0s 8ms/step - loss: 2.1756 - mse: 2.1756\n",
            "Epoch 145/200\n",
            "1/1 [==============================] - 0s 10ms/step - loss: 2.1533 - mse: 2.1533\n",
            "Epoch 146/200\n",
            "1/1 [==============================] - 0s 7ms/step - loss: 2.1311 - mse: 2.1311\n",
            "Epoch 147/200\n",
            "1/1 [==============================] - 0s 8ms/step - loss: 2.1089 - mse: 2.1089\n",
            "Epoch 148/200\n",
            "1/1 [==============================] - 0s 8ms/step - loss: 2.0869 - mse: 2.0869\n",
            "Epoch 149/200\n",
            "1/1 [==============================] - 0s 24ms/step - loss: 2.0650 - mse: 2.0650\n",
            "Epoch 150/200\n",
            "1/1 [==============================] - 0s 12ms/step - loss: 2.0431 - mse: 2.0431\n",
            "Epoch 151/200\n",
            "1/1 [==============================] - 0s 13ms/step - loss: 2.0214 - mse: 2.0214\n",
            "Epoch 152/200\n",
            "1/1 [==============================] - 0s 12ms/step - loss: 1.9998 - mse: 1.9998\n",
            "Epoch 153/200\n",
            "1/1 [==============================] - 0s 14ms/step - loss: 1.9783 - mse: 1.9783\n",
            "Epoch 154/200\n",
            "1/1 [==============================] - 0s 18ms/step - loss: 1.9569 - mse: 1.9569\n",
            "Epoch 155/200\n",
            "1/1 [==============================] - 0s 7ms/step - loss: 1.9355 - mse: 1.9355\n",
            "Epoch 156/200\n",
            "1/1 [==============================] - 0s 8ms/step - loss: 1.9143 - mse: 1.9143\n",
            "Epoch 157/200\n",
            "1/1 [==============================] - 0s 6ms/step - loss: 1.8932 - mse: 1.8932\n",
            "Epoch 158/200\n",
            "1/1 [==============================] - 0s 14ms/step - loss: 1.8722 - mse: 1.8722\n",
            "Epoch 159/200\n",
            "1/1 [==============================] - 0s 7ms/step - loss: 1.8513 - mse: 1.8513\n",
            "Epoch 160/200\n",
            "1/1 [==============================] - 0s 7ms/step - loss: 1.8305 - mse: 1.8305\n",
            "Epoch 161/200\n",
            "1/1 [==============================] - 0s 6ms/step - loss: 1.8098 - mse: 1.8098\n",
            "Epoch 162/200\n",
            "1/1 [==============================] - 0s 9ms/step - loss: 1.7893 - mse: 1.7893\n",
            "Epoch 163/200\n",
            "1/1 [==============================] - 0s 8ms/step - loss: 1.7688 - mse: 1.7688\n",
            "Epoch 164/200\n",
            "1/1 [==============================] - 0s 6ms/step - loss: 1.7484 - mse: 1.7484\n",
            "Epoch 165/200\n",
            "1/1 [==============================] - 0s 9ms/step - loss: 1.7281 - mse: 1.7281\n",
            "Epoch 166/200\n",
            "1/1 [==============================] - 0s 6ms/step - loss: 1.7080 - mse: 1.7080\n",
            "Epoch 167/200\n",
            "1/1 [==============================] - 0s 10ms/step - loss: 1.6880 - mse: 1.6880\n",
            "Epoch 168/200\n",
            "1/1 [==============================] - 0s 7ms/step - loss: 1.6680 - mse: 1.6680\n",
            "Epoch 169/200\n",
            "1/1 [==============================] - 0s 16ms/step - loss: 1.6482 - mse: 1.6482\n",
            "Epoch 170/200\n",
            "1/1 [==============================] - 0s 9ms/step - loss: 1.6285 - mse: 1.6285\n",
            "Epoch 171/200\n",
            "1/1 [==============================] - 0s 7ms/step - loss: 1.6089 - mse: 1.6089\n",
            "Epoch 172/200\n",
            "1/1 [==============================] - 0s 7ms/step - loss: 1.5894 - mse: 1.5894\n",
            "Epoch 173/200\n",
            "1/1 [==============================] - 0s 8ms/step - loss: 1.5700 - mse: 1.5700\n",
            "Epoch 174/200\n",
            "1/1 [==============================] - 0s 7ms/step - loss: 1.5507 - mse: 1.5507\n",
            "Epoch 175/200\n",
            "1/1 [==============================] - 0s 18ms/step - loss: 1.5316 - mse: 1.5316\n",
            "Epoch 176/200\n",
            "1/1 [==============================] - 0s 8ms/step - loss: 1.5125 - mse: 1.5125\n",
            "Epoch 177/200\n",
            "1/1 [==============================] - 0s 12ms/step - loss: 1.4936 - mse: 1.4936\n",
            "Epoch 178/200\n",
            "1/1 [==============================] - 0s 9ms/step - loss: 1.4748 - mse: 1.4748\n",
            "Epoch 179/200\n",
            "1/1 [==============================] - 0s 12ms/step - loss: 1.4560 - mse: 1.4560\n",
            "Epoch 180/200\n",
            "1/1 [==============================] - 0s 9ms/step - loss: 1.4375 - mse: 1.4375\n",
            "Epoch 181/200\n",
            "1/1 [==============================] - 0s 8ms/step - loss: 1.4190 - mse: 1.4190\n",
            "Epoch 182/200\n",
            "1/1 [==============================] - 0s 9ms/step - loss: 1.4006 - mse: 1.4006\n",
            "Epoch 183/200\n",
            "1/1 [==============================] - 0s 13ms/step - loss: 1.3824 - mse: 1.3824\n",
            "Epoch 184/200\n",
            "1/1 [==============================] - 0s 14ms/step - loss: 1.3642 - mse: 1.3642\n",
            "Epoch 185/200\n",
            "1/1 [==============================] - 0s 12ms/step - loss: 1.3462 - mse: 1.3462\n",
            "Epoch 186/200\n",
            "1/1 [==============================] - 0s 10ms/step - loss: 1.3283 - mse: 1.3283\n",
            "Epoch 187/200\n",
            "1/1 [==============================] - 0s 12ms/step - loss: 1.3106 - mse: 1.3106\n",
            "Epoch 188/200\n",
            "1/1 [==============================] - 0s 9ms/step - loss: 1.2929 - mse: 1.2929\n",
            "Epoch 189/200\n",
            "1/1 [==============================] - 0s 14ms/step - loss: 1.2754 - mse: 1.2754\n",
            "Epoch 190/200\n",
            "1/1 [==============================] - 0s 8ms/step - loss: 1.2580 - mse: 1.2580\n",
            "Epoch 191/200\n",
            "1/1 [==============================] - 0s 11ms/step - loss: 1.2407 - mse: 1.2407\n",
            "Epoch 192/200\n",
            "1/1 [==============================] - 0s 10ms/step - loss: 1.2235 - mse: 1.2235\n",
            "Epoch 193/200\n",
            "1/1 [==============================] - 0s 8ms/step - loss: 1.2065 - mse: 1.2065\n",
            "Epoch 194/200\n",
            "1/1 [==============================] - 0s 10ms/step - loss: 1.1895 - mse: 1.1895\n",
            "Epoch 195/200\n",
            "1/1 [==============================] - 0s 11ms/step - loss: 1.1727 - mse: 1.1727\n",
            "Epoch 196/200\n",
            "1/1 [==============================] - 0s 14ms/step - loss: 1.1561 - mse: 1.1561\n",
            "Epoch 197/200\n",
            "1/1 [==============================] - 0s 17ms/step - loss: 1.1395 - mse: 1.1395\n",
            "Epoch 198/200\n",
            "1/1 [==============================] - 0s 9ms/step - loss: 1.1231 - mse: 1.1231\n",
            "Epoch 199/200\n",
            "1/1 [==============================] - 0s 10ms/step - loss: 1.1068 - mse: 1.1068\n",
            "Epoch 200/200\n",
            "1/1 [==============================] - 0s 17ms/step - loss: 1.0906 - mse: 1.0906\n"
          ]
        },
        {
          "output_type": "execute_result",
          "data": {
            "text/plain": [
              "<keras.callbacks.History at 0x7f72ffdce110>"
            ]
          },
          "metadata": {},
          "execution_count": 29
        }
      ]
    },
    {
      "cell_type": "code",
      "source": [
        "np.squeeze(model2.predict(X_train))"
      ],
      "metadata": {
        "colab": {
          "base_uri": "https://localhost:8080/"
        },
        "id": "a2S8LkNhMyVR",
        "outputId": "aec5b269-4a7d-481c-c991-c2bd7a371792"
      },
      "execution_count": 30,
      "outputs": [
        {
          "output_type": "execute_result",
          "data": {
            "text/plain": [
              "array([50.447304 , 12.447468 , 59.947258 , 15.614119 , 37.780697 ,\n",
              "       40.947346 ,  6.1141634, 44.114002 , 25.11408  , 56.780624 ,\n",
              "       31.44739  , 18.780777 , 53.613968 , 21.947426 ,  9.280815 ,\n",
              "       28.280733 ], dtype=float32)"
            ]
          },
          "metadata": {},
          "execution_count": 30
        }
      ]
    },
    {
      "cell_type": "code",
      "source": [
        "model2.evaluate(X_test,y_test)"
      ],
      "metadata": {
        "colab": {
          "base_uri": "https://localhost:8080/"
        },
        "id": "XHQMExQcgFyZ",
        "outputId": "f647fee5-58d5-4055-ab22-5bd65aa956cd"
      },
      "execution_count": 31,
      "outputs": [
        {
          "output_type": "stream",
          "name": "stdout",
          "text": [
            "1/1 [==============================] - 0s 178ms/step - loss: 0.1139 - mse: 0.1139\n"
          ]
        },
        {
          "output_type": "execute_result",
          "data": {
            "text/plain": [
              "[0.11386279761791229, 0.11386279761791229]"
            ]
          },
          "metadata": {},
          "execution_count": 31
        }
      ]
    },
    {
      "cell_type": "code",
      "source": [
        "model2.save('mymodel')"
      ],
      "metadata": {
        "colab": {
          "base_uri": "https://localhost:8080/"
        },
        "id": "4gs9Is-ggRoY",
        "outputId": "0d0fccff-3410-408a-8198-137e247627ca"
      },
      "execution_count": 32,
      "outputs": [
        {
          "output_type": "stream",
          "name": "stdout",
          "text": [
            "INFO:tensorflow:Assets written to: mymodel/assets\n"
          ]
        }
      ]
    },
    {
      "cell_type": "code",
      "source": [
        "model2.save('mymodel.h5')"
      ],
      "metadata": {
        "id": "y4cCHX-vnwCk"
      },
      "execution_count": 33,
      "outputs": []
    },
    {
      "cell_type": "code",
      "source": [
        ""
      ],
      "metadata": {
        "id": "YAbiaJyjpN87"
      },
      "execution_count": null,
      "outputs": []
    },
    {
      "cell_type": "code",
      "source": [
        ""
      ],
      "metadata": {
        "id": "mDBa3_6Jpq-x"
      },
      "execution_count": null,
      "outputs": []
    }
  ]
}