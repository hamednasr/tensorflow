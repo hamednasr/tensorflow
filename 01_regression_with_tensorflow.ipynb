{
  "nbformat": 4,
  "nbformat_minor": 0,
  "metadata": {
    "colab": {
      "name": "01_regression with tensorflow.ipynb",
      "provenance": [],
      "collapsed_sections": [],
      "authorship_tag": "ABX9TyPdOAOLT/QG41clUFMg2GF/",
      "include_colab_link": true
    },
    "kernelspec": {
      "name": "python3",
      "display_name": "Python 3"
    },
    "language_info": {
      "name": "python"
    }
  },
  "cells": [
    {
      "cell_type": "markdown",
      "metadata": {
        "id": "view-in-github",
        "colab_type": "text"
      },
      "source": [
        "<a href=\"https://colab.research.google.com/github/hamednasr/tensorflow/blob/main/01_regression_with_tensorflow.ipynb\" target=\"_parent\"><img src=\"https://colab.research.google.com/assets/colab-badge.svg\" alt=\"Open In Colab\"/></a>"
      ]
    },
    {
      "cell_type": "code",
      "execution_count": 2,
      "metadata": {
        "id": "RebmLDRF8ijO"
      },
      "outputs": [],
      "source": [
        "import tensorflow as tf\n",
        "import numpy as np\n",
        "import matplotlib.pyplot as plt"
      ]
    },
    {
      "cell_type": "code",
      "source": [
        "X = tf.expand_dims(tf.range(3,18,3),axis=-1)\n",
        "X"
      ],
      "metadata": {
        "colab": {
          "base_uri": "https://localhost:8080/"
        },
        "id": "H_oUwoOS9r8N",
        "outputId": "cd101518-a457-45e5-b46d-7b5756c4a700"
      },
      "execution_count": 3,
      "outputs": [
        {
          "output_type": "execute_result",
          "data": {
            "text/plain": [
              "<tf.Tensor: shape=(5, 1), dtype=int32, numpy=\n",
              "array([[ 3],\n",
              "       [ 6],\n",
              "       [ 9],\n",
              "       [12],\n",
              "       [15]], dtype=int32)>"
            ]
          },
          "metadata": {},
          "execution_count": 3
        }
      ]
    },
    {
      "cell_type": "code",
      "source": [
        "y = tf.range(3,18,3)+5\n",
        "y"
      ],
      "metadata": {
        "colab": {
          "base_uri": "https://localhost:8080/"
        },
        "id": "D2C2cHQVJYbm",
        "outputId": "b9bbf293-2628-47c7-ab3d-1026204f8bbc"
      },
      "execution_count": 4,
      "outputs": [
        {
          "output_type": "execute_result",
          "data": {
            "text/plain": [
              "<tf.Tensor: shape=(5,), dtype=int32, numpy=array([ 8, 11, 14, 17, 20], dtype=int32)>"
            ]
          },
          "metadata": {},
          "execution_count": 4
        }
      ]
    },
    {
      "cell_type": "code",
      "source": [
        ""
      ],
      "metadata": {
        "id": "ApxqzaQiJYZT"
      },
      "execution_count": 4,
      "outputs": []
    },
    {
      "cell_type": "code",
      "source": [
        "tf.random.set_seed(10)"
      ],
      "metadata": {
        "id": "PJibAqFtJYW-"
      },
      "execution_count": 5,
      "outputs": []
    },
    {
      "cell_type": "code",
      "source": [
        "model.fit?"
      ],
      "metadata": {
        "id": "uhgn6mj1Ulcd",
        "colab": {
          "base_uri": "https://localhost:8080/"
        },
        "outputId": "a100b305-d844-485f-b8d0-35187c1b1495"
      },
      "execution_count": 6,
      "outputs": [
        {
          "output_type": "stream",
          "name": "stdout",
          "text": [
            "Object `model.fit` not found.\n"
          ]
        }
      ]
    },
    {
      "cell_type": "code",
      "source": [
        "model = tf.keras.Sequential([\n",
        "                              tf.keras.layers.Dense(1)\n",
        "                              ])\n",
        "\n",
        "model.compile(loss=tf.keras.losses.mse,\n",
        "              optimizer=tf.keras.optimizers.SGD(),\n",
        "              metrics = ['mae'])\n",
        "\n",
        "model.fit(X,y,epochs=200)"
      ],
      "metadata": {
        "colab": {
          "base_uri": "https://localhost:8080/"
        },
        "id": "xPXqcc-DJdCG",
        "outputId": "8334eea0-6d52-4b19-9c90-066f66d3fa4e"
      },
      "execution_count": 7,
      "outputs": [
        {
          "output_type": "stream",
          "name": "stdout",
          "text": [
            "Epoch 1/200\n",
            "1/1 [==============================] - 0s 499ms/step - loss: 94.8722 - mae: 9.5058\n",
            "Epoch 2/200\n",
            "1/1 [==============================] - 0s 7ms/step - loss: 94.1892 - mae: 7.9610\n",
            "Epoch 3/200\n",
            "1/1 [==============================] - 0s 7ms/step - loss: 93.5110 - mae: 9.4374\n",
            "Epoch 4/200\n",
            "1/1 [==============================] - 0s 8ms/step - loss: 92.8377 - mae: 7.9037\n",
            "Epoch 5/200\n",
            "1/1 [==============================] - 0s 8ms/step - loss: 92.1693 - mae: 9.3694\n",
            "Epoch 6/200\n",
            "1/1 [==============================] - 0s 7ms/step - loss: 91.5057 - mae: 7.8468\n",
            "Epoch 7/200\n",
            "1/1 [==============================] - 0s 7ms/step - loss: 90.8468 - mae: 9.3020\n",
            "Epoch 8/200\n",
            "1/1 [==============================] - 0s 7ms/step - loss: 90.1928 - mae: 7.7903\n",
            "Epoch 9/200\n",
            "1/1 [==============================] - 0s 8ms/step - loss: 89.5434 - mae: 9.2350\n",
            "Epoch 10/200\n",
            "1/1 [==============================] - 0s 7ms/step - loss: 88.8986 - mae: 7.7342\n",
            "Epoch 11/200\n",
            "1/1 [==============================] - 0s 9ms/step - loss: 88.2586 - mae: 9.1685\n",
            "Epoch 12/200\n",
            "1/1 [==============================] - 0s 5ms/step - loss: 87.6231 - mae: 7.6785\n",
            "Epoch 13/200\n",
            "1/1 [==============================] - 0s 6ms/step - loss: 86.9922 - mae: 9.1025\n",
            "Epoch 14/200\n",
            "1/1 [==============================] - 0s 5ms/step - loss: 86.3659 - mae: 7.6232\n",
            "Epoch 15/200\n",
            "1/1 [==============================] - 0s 6ms/step - loss: 85.7440 - mae: 9.0370\n",
            "Epoch 16/200\n",
            "1/1 [==============================] - 0s 7ms/step - loss: 85.1267 - mae: 7.5683\n",
            "Epoch 17/200\n",
            "1/1 [==============================] - 0s 5ms/step - loss: 84.5137 - mae: 8.9719\n",
            "Epoch 18/200\n",
            "1/1 [==============================] - 0s 10ms/step - loss: 83.9053 - mae: 7.5138\n",
            "Epoch 19/200\n",
            "1/1 [==============================] - 0s 5ms/step - loss: 83.3012 - mae: 8.9073\n",
            "Epoch 20/200\n",
            "1/1 [==============================] - 0s 5ms/step - loss: 82.7014 - mae: 7.4598\n",
            "Epoch 21/200\n",
            "1/1 [==============================] - 0s 6ms/step - loss: 82.1060 - mae: 8.8432\n",
            "Epoch 22/200\n",
            "1/1 [==============================] - 0s 5ms/step - loss: 81.5148 - mae: 7.4060\n",
            "Epoch 23/200\n",
            "1/1 [==============================] - 0s 10ms/step - loss: 80.9279 - mae: 8.7795\n",
            "Epoch 24/200\n",
            "1/1 [==============================] - 0s 9ms/step - loss: 80.3452 - mae: 7.3527\n",
            "Epoch 25/200\n",
            "1/1 [==============================] - 0s 15ms/step - loss: 79.7667 - mae: 8.7163\n",
            "Epoch 26/200\n",
            "1/1 [==============================] - 0s 9ms/step - loss: 79.1924 - mae: 7.2998\n",
            "Epoch 27/200\n",
            "1/1 [==============================] - 0s 13ms/step - loss: 78.6222 - mae: 8.6535\n",
            "Epoch 28/200\n",
            "1/1 [==============================] - 0s 6ms/step - loss: 78.0561 - mae: 7.2472\n",
            "Epoch 29/200\n",
            "1/1 [==============================] - 0s 6ms/step - loss: 77.4941 - mae: 8.5912\n",
            "Epoch 30/200\n",
            "1/1 [==============================] - 0s 5ms/step - loss: 76.9361 - mae: 7.1950\n",
            "Epoch 31/200\n",
            "1/1 [==============================] - 0s 10ms/step - loss: 76.3822 - mae: 8.5294\n",
            "Epoch 32/200\n",
            "1/1 [==============================] - 0s 5ms/step - loss: 75.8322 - mae: 7.1432\n",
            "Epoch 33/200\n",
            "1/1 [==============================] - 0s 5ms/step - loss: 75.2862 - mae: 8.4679\n",
            "Epoch 34/200\n",
            "1/1 [==============================] - 0s 11ms/step - loss: 74.7442 - mae: 7.0918\n",
            "Epoch 35/200\n",
            "1/1 [==============================] - 0s 9ms/step - loss: 74.2060 - mae: 8.4070\n",
            "Epoch 36/200\n",
            "1/1 [==============================] - 0s 9ms/step - loss: 73.6717 - mae: 7.0407\n",
            "Epoch 37/200\n",
            "1/1 [==============================] - 0s 12ms/step - loss: 73.1413 - mae: 8.3464\n",
            "Epoch 38/200\n",
            "1/1 [==============================] - 0s 8ms/step - loss: 72.6147 - mae: 6.9900\n",
            "Epoch 39/200\n",
            "1/1 [==============================] - 0s 5ms/step - loss: 72.0918 - mae: 8.2863\n",
            "Epoch 40/200\n",
            "1/1 [==============================] - 0s 9ms/step - loss: 71.5727 - mae: 6.9397\n",
            "Epoch 41/200\n",
            "1/1 [==============================] - 0s 5ms/step - loss: 71.0574 - mae: 8.2267\n",
            "Epoch 42/200\n",
            "1/1 [==============================] - 0s 7ms/step - loss: 70.5458 - mae: 6.8897\n",
            "Epoch 43/200\n",
            "1/1 [==============================] - 0s 13ms/step - loss: 70.0378 - mae: 8.1674\n",
            "Epoch 44/200\n",
            "1/1 [==============================] - 0s 8ms/step - loss: 69.5335 - mae: 6.8401\n",
            "Epoch 45/200\n",
            "1/1 [==============================] - 0s 10ms/step - loss: 69.0329 - mae: 8.1086\n",
            "Epoch 46/200\n",
            "1/1 [==============================] - 0s 16ms/step - loss: 68.5359 - mae: 6.7909\n",
            "Epoch 47/200\n",
            "1/1 [==============================] - 0s 5ms/step - loss: 68.0424 - mae: 8.0503\n",
            "Epoch 48/200\n",
            "1/1 [==============================] - 0s 5ms/step - loss: 67.5525 - mae: 6.7420\n",
            "Epoch 49/200\n",
            "1/1 [==============================] - 0s 7ms/step - loss: 67.0661 - mae: 7.9923\n",
            "Epoch 50/200\n",
            "1/1 [==============================] - 0s 6ms/step - loss: 66.5833 - mae: 6.6935\n",
            "Epoch 51/200\n",
            "1/1 [==============================] - 0s 5ms/step - loss: 66.1039 - mae: 7.9348\n",
            "Epoch 52/200\n",
            "1/1 [==============================] - 0s 8ms/step - loss: 65.6280 - mae: 6.6453\n",
            "Epoch 53/200\n",
            "1/1 [==============================] - 0s 9ms/step - loss: 65.1554 - mae: 7.8776\n",
            "Epoch 54/200\n",
            "1/1 [==============================] - 0s 5ms/step - loss: 64.6863 - mae: 6.5974\n",
            "Epoch 55/200\n",
            "1/1 [==============================] - 0s 7ms/step - loss: 64.2206 - mae: 7.8209\n",
            "Epoch 56/200\n",
            "1/1 [==============================] - 0s 5ms/step - loss: 63.7582 - mae: 6.5499\n",
            "Epoch 57/200\n",
            "1/1 [==============================] - 0s 6ms/step - loss: 63.2991 - mae: 7.7646\n",
            "Epoch 58/200\n",
            "1/1 [==============================] - 0s 7ms/step - loss: 62.8433 - mae: 6.5028\n",
            "Epoch 59/200\n",
            "1/1 [==============================] - 0s 6ms/step - loss: 62.3909 - mae: 7.7087\n",
            "Epoch 60/200\n",
            "1/1 [==============================] - 0s 7ms/step - loss: 61.9417 - mae: 6.4559\n",
            "Epoch 61/200\n",
            "1/1 [==============================] - 0s 7ms/step - loss: 61.4957 - mae: 7.6532\n",
            "Epoch 62/200\n",
            "1/1 [==============================] - 0s 5ms/step - loss: 61.0529 - mae: 6.4095\n",
            "Epoch 63/200\n",
            "1/1 [==============================] - 0s 7ms/step - loss: 60.6133 - mae: 7.5981\n",
            "Epoch 64/200\n",
            "1/1 [==============================] - 0s 5ms/step - loss: 60.1769 - mae: 6.3633\n",
            "Epoch 65/200\n",
            "1/1 [==============================] - 0s 6ms/step - loss: 59.7436 - mae: 7.5434\n",
            "Epoch 66/200\n",
            "1/1 [==============================] - 0s 6ms/step - loss: 59.3135 - mae: 6.3175\n",
            "Epoch 67/200\n",
            "1/1 [==============================] - 0s 5ms/step - loss: 58.8864 - mae: 7.4891\n",
            "Epoch 68/200\n",
            "1/1 [==============================] - 0s 8ms/step - loss: 58.4625 - mae: 6.2720\n",
            "Epoch 69/200\n",
            "1/1 [==============================] - 0s 6ms/step - loss: 58.0415 - mae: 7.4351\n",
            "Epoch 70/200\n",
            "1/1 [==============================] - 0s 6ms/step - loss: 57.6236 - mae: 6.2268\n",
            "Epoch 71/200\n",
            "1/1 [==============================] - 0s 11ms/step - loss: 57.2087 - mae: 7.3816\n",
            "Epoch 72/200\n",
            "1/1 [==============================] - 0s 6ms/step - loss: 56.7968 - mae: 6.1820\n",
            "Epoch 73/200\n",
            "1/1 [==============================] - 0s 5ms/step - loss: 56.3879 - mae: 7.3285\n",
            "Epoch 74/200\n",
            "1/1 [==============================] - 0s 5ms/step - loss: 55.9819 - mae: 6.1375\n",
            "Epoch 75/200\n",
            "1/1 [==============================] - 0s 8ms/step - loss: 55.5789 - mae: 7.2757\n",
            "Epoch 76/200\n",
            "1/1 [==============================] - 0s 5ms/step - loss: 55.1787 - mae: 6.0933\n",
            "Epoch 77/200\n",
            "1/1 [==============================] - 0s 9ms/step - loss: 54.7814 - mae: 7.2233\n",
            "Epoch 78/200\n",
            "1/1 [==============================] - 0s 5ms/step - loss: 54.3870 - mae: 6.0494\n",
            "Epoch 79/200\n",
            "1/1 [==============================] - 0s 5ms/step - loss: 53.9954 - mae: 7.1713\n",
            "Epoch 80/200\n",
            "1/1 [==============================] - 0s 5ms/step - loss: 53.6066 - mae: 6.0059\n",
            "Epoch 81/200\n",
            "1/1 [==============================] - 0s 10ms/step - loss: 53.2207 - mae: 7.1197\n",
            "Epoch 82/200\n",
            "1/1 [==============================] - 0s 5ms/step - loss: 52.8375 - mae: 5.9626\n",
            "Epoch 83/200\n",
            "1/1 [==============================] - 0s 5ms/step - loss: 52.4571 - mae: 7.0684\n",
            "Epoch 84/200\n",
            "1/1 [==============================] - 0s 6ms/step - loss: 52.0794 - mae: 5.9197\n",
            "Epoch 85/200\n",
            "1/1 [==============================] - 0s 6ms/step - loss: 51.7044 - mae: 7.0175\n",
            "Epoch 86/200\n",
            "1/1 [==============================] - 0s 9ms/step - loss: 51.3322 - mae: 5.8771\n",
            "Epoch 87/200\n",
            "1/1 [==============================] - 0s 6ms/step - loss: 50.9626 - mae: 6.9670\n",
            "Epoch 88/200\n",
            "1/1 [==============================] - 0s 6ms/step - loss: 50.5957 - mae: 5.8348\n",
            "Epoch 89/200\n",
            "1/1 [==============================] - 0s 6ms/step - loss: 50.2314 - mae: 6.9168\n",
            "Epoch 90/200\n",
            "1/1 [==============================] - 0s 6ms/step - loss: 49.8697 - mae: 5.7928\n",
            "Epoch 91/200\n",
            "1/1 [==============================] - 0s 8ms/step - loss: 49.5106 - mae: 6.8670\n",
            "Epoch 92/200\n",
            "1/1 [==============================] - 0s 6ms/step - loss: 49.1542 - mae: 5.7511\n",
            "Epoch 93/200\n",
            "1/1 [==============================] - 0s 6ms/step - loss: 48.8003 - mae: 6.8176\n",
            "Epoch 94/200\n",
            "1/1 [==============================] - 0s 5ms/step - loss: 48.4489 - mae: 5.7097\n",
            "Epoch 95/200\n",
            "1/1 [==============================] - 0s 9ms/step - loss: 48.1001 - mae: 6.7685\n",
            "Epoch 96/200\n",
            "1/1 [==============================] - 0s 6ms/step - loss: 47.7537 - mae: 5.6685\n",
            "Epoch 97/200\n",
            "1/1 [==============================] - 0s 6ms/step - loss: 47.4099 - mae: 6.7198\n",
            "Epoch 98/200\n",
            "1/1 [==============================] - 0s 6ms/step - loss: 47.0685 - mae: 5.6277\n",
            "Epoch 99/200\n",
            "1/1 [==============================] - 0s 8ms/step - loss: 46.7296 - mae: 6.6714\n",
            "Epoch 100/200\n",
            "1/1 [==============================] - 0s 6ms/step - loss: 46.3932 - mae: 5.5872\n",
            "Epoch 101/200\n",
            "1/1 [==============================] - 0s 16ms/step - loss: 46.0591 - mae: 6.6234\n",
            "Epoch 102/200\n",
            "1/1 [==============================] - 0s 13ms/step - loss: 45.7275 - mae: 5.5470\n",
            "Epoch 103/200\n",
            "1/1 [==============================] - 0s 10ms/step - loss: 45.3983 - mae: 6.5757\n",
            "Epoch 104/200\n",
            "1/1 [==============================] - 0s 11ms/step - loss: 45.0714 - mae: 5.5070\n",
            "Epoch 105/200\n",
            "1/1 [==============================] - 0s 6ms/step - loss: 44.7469 - mae: 6.5283\n",
            "Epoch 106/200\n",
            "1/1 [==============================] - 0s 10ms/step - loss: 44.4247 - mae: 5.4674\n",
            "Epoch 107/200\n",
            "1/1 [==============================] - 0s 13ms/step - loss: 44.1048 - mae: 6.4813\n",
            "Epoch 108/200\n",
            "1/1 [==============================] - 0s 10ms/step - loss: 43.7873 - mae: 5.4280\n",
            "Epoch 109/200\n",
            "1/1 [==============================] - 0s 8ms/step - loss: 43.4720 - mae: 6.4346\n",
            "Epoch 110/200\n",
            "1/1 [==============================] - 0s 10ms/step - loss: 43.1590 - mae: 5.3889\n",
            "Epoch 111/200\n",
            "1/1 [==============================] - 0s 15ms/step - loss: 42.8483 - mae: 6.3883\n",
            "Epoch 112/200\n",
            "1/1 [==============================] - 0s 10ms/step - loss: 42.5398 - mae: 5.3501\n",
            "Epoch 113/200\n",
            "1/1 [==============================] - 0s 7ms/step - loss: 42.2335 - mae: 6.3423\n",
            "Epoch 114/200\n",
            "1/1 [==============================] - 0s 6ms/step - loss: 41.9294 - mae: 5.3116\n",
            "Epoch 115/200\n",
            "1/1 [==============================] - 0s 6ms/step - loss: 41.6275 - mae: 6.2967\n",
            "Epoch 116/200\n",
            "1/1 [==============================] - 0s 6ms/step - loss: 41.3278 - mae: 5.2734\n",
            "Epoch 117/200\n",
            "1/1 [==============================] - 0s 7ms/step - loss: 41.0302 - mae: 6.2513\n",
            "Epoch 118/200\n",
            "1/1 [==============================] - 0s 7ms/step - loss: 40.7348 - mae: 5.2354\n",
            "Epoch 119/200\n",
            "1/1 [==============================] - 0s 6ms/step - loss: 40.4415 - mae: 6.2063\n",
            "Epoch 120/200\n",
            "1/1 [==============================] - 0s 6ms/step - loss: 40.1504 - mae: 5.1977\n",
            "Epoch 121/200\n",
            "1/1 [==============================] - 0s 6ms/step - loss: 39.8613 - mae: 6.1616\n",
            "Epoch 122/200\n",
            "1/1 [==============================] - 0s 6ms/step - loss: 39.5743 - mae: 5.1603\n",
            "Epoch 123/200\n",
            "1/1 [==============================] - 0s 6ms/step - loss: 39.2893 - mae: 6.1173\n",
            "Epoch 124/200\n",
            "1/1 [==============================] - 0s 7ms/step - loss: 39.0064 - mae: 5.1231\n",
            "Epoch 125/200\n",
            "1/1 [==============================] - 0s 7ms/step - loss: 38.7256 - mae: 6.0732\n",
            "Epoch 126/200\n",
            "1/1 [==============================] - 0s 7ms/step - loss: 38.4467 - mae: 5.0862\n",
            "Epoch 127/200\n",
            "1/1 [==============================] - 0s 9ms/step - loss: 38.1699 - mae: 6.0295\n",
            "Epoch 128/200\n",
            "1/1 [==============================] - 0s 6ms/step - loss: 37.8951 - mae: 5.0496\n",
            "Epoch 129/200\n",
            "1/1 [==============================] - 0s 6ms/step - loss: 37.6223 - mae: 5.9861\n",
            "Epoch 130/200\n",
            "1/1 [==============================] - 0s 7ms/step - loss: 37.3514 - mae: 5.0133\n",
            "Epoch 131/200\n",
            "1/1 [==============================] - 0s 6ms/step - loss: 37.0825 - mae: 5.9430\n",
            "Epoch 132/200\n",
            "1/1 [==============================] - 0s 7ms/step - loss: 36.8155 - mae: 4.9772\n",
            "Epoch 133/200\n",
            "1/1 [==============================] - 0s 6ms/step - loss: 36.5504 - mae: 5.9002\n",
            "Epoch 134/200\n",
            "1/1 [==============================] - 0s 6ms/step - loss: 36.2872 - mae: 4.9413\n",
            "Epoch 135/200\n",
            "1/1 [==============================] - 0s 6ms/step - loss: 36.0260 - mae: 5.8577\n",
            "Epoch 136/200\n",
            "1/1 [==============================] - 0s 6ms/step - loss: 35.7666 - mae: 4.9058\n",
            "Epoch 137/200\n",
            "1/1 [==============================] - 0s 8ms/step - loss: 35.5091 - mae: 5.8155\n",
            "Epoch 138/200\n",
            "1/1 [==============================] - 0s 6ms/step - loss: 35.2534 - mae: 4.8704\n",
            "Epoch 139/200\n",
            "1/1 [==============================] - 0s 6ms/step - loss: 34.9996 - mae: 5.7737\n",
            "Epoch 140/200\n",
            "1/1 [==============================] - 0s 5ms/step - loss: 34.7476 - mae: 4.8354\n",
            "Epoch 141/200\n",
            "1/1 [==============================] - 0s 7ms/step - loss: 34.4974 - mae: 5.7321\n",
            "Epoch 142/200\n",
            "1/1 [==============================] - 0s 6ms/step - loss: 34.2490 - mae: 4.8006\n",
            "Epoch 143/200\n",
            "1/1 [==============================] - 0s 5ms/step - loss: 34.0024 - mae: 5.6908\n",
            "Epoch 144/200\n",
            "1/1 [==============================] - 0s 6ms/step - loss: 33.7576 - mae: 4.7660\n",
            "Epoch 145/200\n",
            "1/1 [==============================] - 0s 7ms/step - loss: 33.5145 - mae: 5.6498\n",
            "Epoch 146/200\n",
            "1/1 [==============================] - 0s 7ms/step - loss: 33.2733 - mae: 4.7317\n",
            "Epoch 147/200\n",
            "1/1 [==============================] - 0s 5ms/step - loss: 33.0337 - mae: 5.6092\n",
            "Epoch 148/200\n",
            "1/1 [==============================] - 0s 6ms/step - loss: 32.7959 - mae: 4.6976\n",
            "Epoch 149/200\n",
            "1/1 [==============================] - 0s 5ms/step - loss: 32.5598 - mae: 5.5688\n",
            "Epoch 150/200\n",
            "1/1 [==============================] - 0s 5ms/step - loss: 32.3253 - mae: 4.6638\n",
            "Epoch 151/200\n",
            "1/1 [==============================] - 0s 7ms/step - loss: 32.0926 - mae: 5.5287\n",
            "Epoch 152/200\n",
            "1/1 [==============================] - 0s 5ms/step - loss: 31.8615 - mae: 4.6302\n",
            "Epoch 153/200\n",
            "1/1 [==============================] - 0s 5ms/step - loss: 31.6321 - mae: 5.4889\n",
            "Epoch 154/200\n",
            "1/1 [==============================] - 0s 5ms/step - loss: 31.4043 - mae: 4.5969\n",
            "Epoch 155/200\n",
            "1/1 [==============================] - 0s 5ms/step - loss: 31.1782 - mae: 5.4494\n",
            "Epoch 156/200\n",
            "1/1 [==============================] - 0s 5ms/step - loss: 30.9537 - mae: 4.5638\n",
            "Epoch 157/200\n",
            "1/1 [==============================] - 0s 6ms/step - loss: 30.7309 - mae: 5.4101\n",
            "Epoch 158/200\n",
            "1/1 [==============================] - 0s 7ms/step - loss: 30.5096 - mae: 4.5309\n",
            "Epoch 159/200\n",
            "1/1 [==============================] - 0s 5ms/step - loss: 30.2899 - mae: 5.3712\n",
            "Epoch 160/200\n",
            "1/1 [==============================] - 0s 5ms/step - loss: 30.0718 - mae: 4.4983\n",
            "Epoch 161/200\n",
            "1/1 [==============================] - 0s 5ms/step - loss: 29.8553 - mae: 5.3325\n",
            "Epoch 162/200\n",
            "1/1 [==============================] - 0s 5ms/step - loss: 29.6404 - mae: 4.4659\n",
            "Epoch 163/200\n",
            "1/1 [==============================] - 0s 5ms/step - loss: 29.4270 - mae: 5.2941\n",
            "Epoch 164/200\n",
            "1/1 [==============================] - 0s 6ms/step - loss: 29.2151 - mae: 4.4338\n",
            "Epoch 165/200\n",
            "1/1 [==============================] - 0s 6ms/step - loss: 29.0047 - mae: 5.2560\n",
            "Epoch 166/200\n",
            "1/1 [==============================] - 0s 5ms/step - loss: 28.7959 - mae: 4.4018\n",
            "Epoch 167/200\n",
            "1/1 [==============================] - 0s 5ms/step - loss: 28.5885 - mae: 5.2181\n",
            "Epoch 168/200\n",
            "1/1 [==============================] - 0s 6ms/step - loss: 28.3827 - mae: 4.3701\n",
            "Epoch 169/200\n",
            "1/1 [==============================] - 0s 5ms/step - loss: 28.1784 - mae: 5.1806\n",
            "Epoch 170/200\n",
            "1/1 [==============================] - 0s 5ms/step - loss: 27.9755 - mae: 4.3387\n",
            "Epoch 171/200\n",
            "1/1 [==============================] - 0s 5ms/step - loss: 27.7740 - mae: 5.1433\n",
            "Epoch 172/200\n",
            "1/1 [==============================] - 0s 6ms/step - loss: 27.5741 - mae: 4.3074\n",
            "Epoch 173/200\n",
            "1/1 [==============================] - 0s 5ms/step - loss: 27.3755 - mae: 5.1062\n",
            "Epoch 174/200\n",
            "1/1 [==============================] - 0s 5ms/step - loss: 27.1784 - mae: 4.2764\n",
            "Epoch 175/200\n",
            "1/1 [==============================] - 0s 6ms/step - loss: 26.9827 - mae: 5.0695\n",
            "Epoch 176/200\n",
            "1/1 [==============================] - 0s 6ms/step - loss: 26.7884 - mae: 4.2456\n",
            "Epoch 177/200\n",
            "1/1 [==============================] - 0s 6ms/step - loss: 26.5956 - mae: 5.0330\n",
            "Epoch 178/200\n",
            "1/1 [==============================] - 0s 13ms/step - loss: 26.4041 - mae: 4.2151\n",
            "Epoch 179/200\n",
            "1/1 [==============================] - 0s 8ms/step - loss: 26.2140 - mae: 4.9967\n",
            "Epoch 180/200\n",
            "1/1 [==============================] - 0s 8ms/step - loss: 26.0252 - mae: 4.1847\n",
            "Epoch 181/200\n",
            "1/1 [==============================] - 0s 5ms/step - loss: 25.8378 - mae: 4.9608\n",
            "Epoch 182/200\n",
            "1/1 [==============================] - 0s 6ms/step - loss: 25.6518 - mae: 4.1546\n",
            "Epoch 183/200\n",
            "1/1 [==============================] - 0s 5ms/step - loss: 25.4671 - mae: 4.9250\n",
            "Epoch 184/200\n",
            "1/1 [==============================] - 0s 8ms/step - loss: 25.2838 - mae: 4.1247\n",
            "Epoch 185/200\n",
            "1/1 [==============================] - 0s 5ms/step - loss: 25.1017 - mae: 4.8896\n",
            "Epoch 186/200\n",
            "1/1 [==============================] - 0s 5ms/step - loss: 24.9210 - mae: 4.0950\n",
            "Epoch 187/200\n",
            "1/1 [==============================] - 0s 5ms/step - loss: 24.7416 - mae: 4.8544\n",
            "Epoch 188/200\n",
            "1/1 [==============================] - 0s 5ms/step - loss: 24.5634 - mae: 4.0655\n",
            "Epoch 189/200\n",
            "1/1 [==============================] - 0s 5ms/step - loss: 24.3865 - mae: 4.8194\n",
            "Epoch 190/200\n",
            "1/1 [==============================] - 0s 5ms/step - loss: 24.2110 - mae: 4.0362\n",
            "Epoch 191/200\n",
            "1/1 [==============================] - 0s 5ms/step - loss: 24.0366 - mae: 4.7847\n",
            "Epoch 192/200\n",
            "1/1 [==============================] - 0s 5ms/step - loss: 23.8636 - mae: 4.0072\n",
            "Epoch 193/200\n",
            "1/1 [==============================] - 0s 5ms/step - loss: 23.6918 - mae: 4.7503\n",
            "Epoch 194/200\n",
            "1/1 [==============================] - 0s 5ms/step - loss: 23.5212 - mae: 3.9783\n",
            "Epoch 195/200\n",
            "1/1 [==============================] - 0s 5ms/step - loss: 23.3518 - mae: 4.7161\n",
            "Epoch 196/200\n",
            "1/1 [==============================] - 0s 5ms/step - loss: 23.1837 - mae: 3.9497\n",
            "Epoch 197/200\n",
            "1/1 [==============================] - 0s 5ms/step - loss: 23.0168 - mae: 4.6821\n",
            "Epoch 198/200\n",
            "1/1 [==============================] - 0s 5ms/step - loss: 22.8510 - mae: 3.9212\n",
            "Epoch 199/200\n",
            "1/1 [==============================] - 0s 5ms/step - loss: 22.6865 - mae: 4.6484\n",
            "Epoch 200/200\n",
            "1/1 [==============================] - 0s 4ms/step - loss: 22.5232 - mae: 3.8930\n"
          ]
        },
        {
          "output_type": "execute_result",
          "data": {
            "text/plain": [
              "<keras.callbacks.History at 0x7efc82156a10>"
            ]
          },
          "metadata": {},
          "execution_count": 7
        }
      ]
    },
    {
      "cell_type": "code",
      "source": [
        "model.predict(X)"
      ],
      "metadata": {
        "colab": {
          "base_uri": "https://localhost:8080/"
        },
        "id": "u_WbS8XDRE-5",
        "outputId": "0931cd74-2efd-4c9d-e065-4fb0d2102bc2"
      },
      "execution_count": 8,
      "outputs": [
        {
          "output_type": "execute_result",
          "data": {
            "text/plain": [
              "array([[ 4.843402],\n",
              "       [ 7.114233],\n",
              "       [ 9.385065],\n",
              "       [11.655896],\n",
              "       [13.926728]], dtype=float32)"
            ]
          },
          "metadata": {},
          "execution_count": 8
        }
      ]
    },
    {
      "cell_type": "code",
      "source": [
        "plt.scatter(X,y)"
      ],
      "metadata": {
        "colab": {
          "base_uri": "https://localhost:8080/",
          "height": 282
        },
        "id": "jjMIq-w3TpKS",
        "outputId": "2841ee2e-7bec-45f5-894c-2ddfddd56781"
      },
      "execution_count": 9,
      "outputs": [
        {
          "output_type": "execute_result",
          "data": {
            "text/plain": [
              "<matplotlib.collections.PathCollection at 0x7efc820c9450>"
            ]
          },
          "metadata": {},
          "execution_count": 9
        },
        {
          "output_type": "display_data",
          "data": {
            "image/png": "[encoded data removed]",
            "text/plain": [
              "<Figure size 432x288 with 1 Axes>"
            ]
          },
          "metadata": {
            "needs_background": "light"
          }
        }
      ]
    },
    {
      "cell_type": "code",
      "source": [
        "plt.scatter(X,model.predict(X))"
      ],
      "metadata": {
        "colab": {
          "base_uri": "https://localhost:8080/",
          "height": 282
        },
        "id": "qHYemA34SHEW",
        "outputId": "766e6779-0c06-4d59-9cd0-4c09c64de0c3"
      },
      "execution_count": 10,
      "outputs": [
        {
          "output_type": "execute_result",
          "data": {
            "text/plain": [
              "<matplotlib.collections.PathCollection at 0x7efc81b8e550>"
            ]
          },
          "metadata": {},
          "execution_count": 10
        },
        {
          "output_type": "display_data",
          "data": {
            "image/png": "[encoded data removed]",
            "text/plain": [
              "<Figure size 432x288 with 1 Axes>"
            ]
          },
          "metadata": {
            "needs_background": "light"
          }
        }
      ]
    },
    {
      "cell_type": "code",
      "source": [
        "model = tf.keras.Sequential([ \n",
        "                              tf.keras.layers.Dense(256,activation='relu'),\n",
        "                              tf.keras.layers.Dense(512,activation='relu'),\n",
        "                             tf.keras.layers.Dense(512,activation='relu'),\n",
        "                              tf.keras.layers.Dense(128,activation='relu'),\n",
        "                              tf.keras.layers.Dense(1)\n",
        "                           ])\n",
        "\n",
        "model.compile(loss=tf.keras.losses.mse,\n",
        "              optimizer=tf.keras.optimizers.Adam(lr=0.001),\n",
        "              metrics = ['mae'])\n",
        "\n",
        "model.fit(X,y,epochs=200)"
      ],
      "metadata": {
        "id": "bsRyLS4ZTm2h",
        "colab": {
          "base_uri": "https://localhost:8080/"
        },
        "outputId": "a62de1b3-fff9-4c60-822e-3460b8da2bd0"
      },
      "execution_count": 64,
      "outputs": [
        {
          "output_type": "stream",
          "name": "stdout",
          "text": [
            "Epoch 1/200\n"
          ]
        },
        {
          "output_type": "stream",
          "name": "stderr",
          "text": [
            "/usr/local/lib/python3.7/dist-packages/keras/optimizer_v2/adam.py:105: UserWarning: The `lr` argument is deprecated, use `learning_rate` instead.\n",
            "  super(Adam, self).__init__(name, **kwargs)\n"
          ]
        },
        {
          "output_type": "stream",
          "name": "stdout",
          "text": [
            "1/1 [==============================] - 1s 518ms/step - loss: 220.2995 - mae: 14.1954\n",
            "Epoch 2/200\n",
            "1/1 [==============================] - 0s 17ms/step - loss: 162.3362 - mae: 12.2697\n",
            "Epoch 3/200\n",
            "1/1 [==============================] - 0s 18ms/step - loss: 119.2824 - mae: 10.5948\n",
            "Epoch 4/200\n",
            "1/1 [==============================] - 0s 19ms/step - loss: 78.4052 - mae: 8.6784\n",
            "Epoch 5/200\n",
            "1/1 [==============================] - 0s 17ms/step - loss: 42.0936 - mae: 6.4478\n",
            "Epoch 6/200\n",
            "1/1 [==============================] - 0s 20ms/step - loss: 14.2896 - mae: 3.7420\n",
            "Epoch 7/200\n",
            "1/1 [==============================] - 0s 20ms/step - loss: 4.3669 - mae: 1.8206\n",
            "Epoch 8/200\n",
            "1/1 [==============================] - 0s 14ms/step - loss: 18.8452 - mae: 3.5267\n",
            "Epoch 9/200\n",
            "1/1 [==============================] - 0s 15ms/step - loss: 37.4646 - mae: 5.0463\n",
            "Epoch 10/200\n",
            "1/1 [==============================] - 0s 17ms/step - loss: 38.0212 - mae: 5.0839\n",
            "Epoch 11/200\n",
            "1/1 [==============================] - 0s 14ms/step - loss: 26.0204 - mae: 4.1886\n",
            "Epoch 12/200\n",
            "1/1 [==============================] - 0s 11ms/step - loss: 13.0309 - mae: 3.0047\n",
            "Epoch 13/200\n",
            "1/1 [==============================] - 0s 16ms/step - loss: 5.5351 - mae: 2.0283\n",
            "Epoch 14/200\n",
            "1/1 [==============================] - 0s 12ms/step - loss: 4.3936 - mae: 1.7077\n",
            "Epoch 15/200\n",
            "1/1 [==============================] - 0s 16ms/step - loss: 7.2617 - mae: 2.4555\n",
            "Epoch 16/200\n",
            "1/1 [==============================] - 0s 20ms/step - loss: 11.2379 - mae: 3.2723\n",
            "Epoch 17/200\n",
            "1/1 [==============================] - 0s 18ms/step - loss: 14.3362 - mae: 3.7529\n",
            "Epoch 18/200\n",
            "1/1 [==============================] - 0s 12ms/step - loss: 15.5883 - mae: 3.9259\n",
            "Epoch 19/200\n",
            "1/1 [==============================] - 0s 14ms/step - loss: 14.9013 - mae: 3.8329\n",
            "Epoch 20/200\n",
            "1/1 [==============================] - 0s 14ms/step - loss: 12.6621 - mae: 3.5064\n",
            "Epoch 21/200\n",
            "1/1 [==============================] - 0s 11ms/step - loss: 9.5956 - mae: 2.9799\n",
            "Epoch 22/200\n",
            "1/1 [==============================] - 0s 15ms/step - loss: 6.6028 - mae: 2.2930\n",
            "Epoch 23/200\n",
            "1/1 [==============================] - 0s 14ms/step - loss: 4.5646 - mae: 1.7606\n",
            "Epoch 24/200\n",
            "1/1 [==============================] - 0s 15ms/step - loss: 4.0645 - mae: 1.7475\n",
            "Epoch 25/200\n",
            "1/1 [==============================] - 0s 14ms/step - loss: 5.0744 - mae: 1.9289\n",
            "Epoch 26/200\n",
            "1/1 [==============================] - 0s 12ms/step - loss: 6.8133 - mae: 2.2742\n",
            "Epoch 27/200\n",
            "1/1 [==============================] - 0s 15ms/step - loss: 8.1236 - mae: 2.4632\n",
            "Epoch 28/200\n",
            "1/1 [==============================] - 0s 13ms/step - loss: 8.2288 - mae: 2.4762\n",
            "Epoch 29/200\n",
            "1/1 [==============================] - 0s 12ms/step - loss: 7.1801 - mae: 2.3299\n",
            "Epoch 30/200\n",
            "1/1 [==============================] - 0s 11ms/step - loss: 5.6544 - mae: 2.0666\n",
            "Epoch 31/200\n",
            "1/1 [==============================] - 0s 14ms/step - loss: 4.4198 - mae: 1.8136\n",
            "Epoch 32/200\n",
            "1/1 [==============================] - 0s 16ms/step - loss: 3.9065 - mae: 1.7027\n",
            "Epoch 33/200\n",
            "1/1 [==============================] - 0s 15ms/step - loss: 4.0985 - mae: 1.6503\n",
            "Epoch 34/200\n",
            "1/1 [==============================] - 0s 16ms/step - loss: 4.6833 - mae: 1.7826\n",
            "Epoch 35/200\n",
            "1/1 [==============================] - 0s 17ms/step - loss: 5.2736 - mae: 1.9042\n",
            "Epoch 36/200\n",
            "1/1 [==============================] - 0s 16ms/step - loss: 5.5798 - mae: 2.0189\n",
            "Epoch 37/200\n",
            "1/1 [==============================] - 0s 16ms/step - loss: 5.4871 - mae: 1.9908\n",
            "Epoch 38/200\n",
            "1/1 [==============================] - 0s 14ms/step - loss: 5.0575 - mae: 1.8367\n",
            "Epoch 39/200\n",
            "1/1 [==============================] - 0s 13ms/step - loss: 4.4787 - mae: 1.7447\n",
            "Epoch 40/200\n",
            "1/1 [==============================] - 0s 14ms/step - loss: 3.9813 - mae: 1.6279\n",
            "Epoch 41/200\n",
            "1/1 [==============================] - 0s 17ms/step - loss: 3.7445 - mae: 1.6402\n",
            "Epoch 42/200\n",
            "1/1 [==============================] - 0s 11ms/step - loss: 3.8158 - mae: 1.7016\n",
            "Epoch 43/200\n",
            "1/1 [==============================] - 0s 16ms/step - loss: 4.0838 - mae: 1.7505\n",
            "Epoch 44/200\n",
            "1/1 [==============================] - 0s 14ms/step - loss: 4.3396 - mae: 1.7791\n",
            "Epoch 45/200\n",
            "1/1 [==============================] - 0s 13ms/step - loss: 4.4107 - mae: 1.7840\n",
            "Epoch 46/200\n",
            "1/1 [==============================] - 0s 18ms/step - loss: 4.2593 - mae: 1.7660\n",
            "Epoch 47/200\n",
            "1/1 [==============================] - 0s 18ms/step - loss: 3.9808 - mae: 1.7296\n",
            "Epoch 48/200\n",
            "1/1 [==============================] - 0s 18ms/step - loss: 3.7234 - mae: 1.6819\n",
            "Epoch 49/200\n",
            "1/1 [==============================] - 0s 16ms/step - loss: 3.5938 - mae: 1.6305\n",
            "Epoch 50/200\n",
            "1/1 [==============================] - 0s 16ms/step - loss: 3.6093 - mae: 1.5828\n",
            "Epoch 51/200\n",
            "1/1 [==============================] - 0s 22ms/step - loss: 3.7105 - mae: 1.5629\n",
            "Epoch 52/200\n",
            "1/1 [==============================] - 0s 17ms/step - loss: 3.8091 - mae: 1.5987\n",
            "Epoch 53/200\n",
            "1/1 [==============================] - 0s 16ms/step - loss: 3.8373 - mae: 1.6083\n",
            "Epoch 54/200\n",
            "1/1 [==============================] - 0s 18ms/step - loss: 3.7754 - mae: 1.5922\n",
            "Epoch 55/200\n",
            "1/1 [==============================] - 0s 18ms/step - loss: 3.6524 - mae: 1.5541\n",
            "Epoch 56/200\n",
            "1/1 [==============================] - 0s 13ms/step - loss: 3.5242 - mae: 1.5460\n",
            "Epoch 57/200\n",
            "1/1 [==============================] - 0s 14ms/step - loss: 3.4424 - mae: 1.5726\n",
            "Epoch 58/200\n",
            "1/1 [==============================] - 0s 11ms/step - loss: 3.4276 - mae: 1.5985\n",
            "Epoch 59/200\n",
            "1/1 [==============================] - 0s 14ms/step - loss: 3.4610 - mae: 1.6191\n",
            "Epoch 60/200\n",
            "1/1 [==============================] - 0s 11ms/step - loss: 3.4997 - mae: 1.6308\n",
            "Epoch 61/200\n",
            "1/1 [==============================] - 0s 13ms/step - loss: 3.5040 - mae: 1.6318\n",
            "Epoch 62/200\n",
            "1/1 [==============================] - 0s 18ms/step - loss: 3.4614 - mae: 1.6219\n",
            "Epoch 63/200\n",
            "1/1 [==============================] - 0s 12ms/step - loss: 3.3897 - mae: 1.6032\n",
            "Epoch 64/200\n",
            "1/1 [==============================] - 0s 16ms/step - loss: 3.3212 - mae: 1.5787\n",
            "Epoch 65/200\n",
            "1/1 [==============================] - 0s 18ms/step - loss: 3.2806 - mae: 1.5523\n",
            "Epoch 66/200\n",
            "1/1 [==============================] - 0s 15ms/step - loss: 3.2718 - mae: 1.5278\n",
            "Epoch 67/200\n",
            "1/1 [==============================] - 0s 18ms/step - loss: 3.2798 - mae: 1.5080\n",
            "Epoch 68/200\n",
            "1/1 [==============================] - 0s 14ms/step - loss: 3.2831 - mae: 1.4949\n",
            "Epoch 69/200\n",
            "1/1 [==============================] - 0s 19ms/step - loss: 3.2670 - mae: 1.4891\n",
            "Epoch 70/200\n",
            "1/1 [==============================] - 0s 11ms/step - loss: 3.2309 - mae: 1.4902\n",
            "Epoch 71/200\n",
            "1/1 [==============================] - 0s 13ms/step - loss: 3.1860 - mae: 1.4967\n",
            "Epoch 72/200\n",
            "1/1 [==============================] - 0s 13ms/step - loss: 3.1471 - mae: 1.5063\n",
            "Epoch 73/200\n",
            "1/1 [==============================] - 0s 18ms/step - loss: 3.1233 - mae: 1.5165\n",
            "Epoch 74/200\n",
            "1/1 [==============================] - 0s 14ms/step - loss: 3.1132 - mae: 1.5246\n",
            "Epoch 75/200\n",
            "1/1 [==============================] - 0s 19ms/step - loss: 3.1071 - mae: 1.5287\n",
            "Epoch 76/200\n",
            "1/1 [==============================] - 0s 12ms/step - loss: 3.0946 - mae: 1.5275\n",
            "Epoch 77/200\n",
            "1/1 [==============================] - 0s 16ms/step - loss: 3.0710 - mae: 1.5209\n",
            "Epoch 78/200\n",
            "1/1 [==============================] - 0s 13ms/step - loss: 3.0399 - mae: 1.5096\n",
            "Epoch 79/200\n",
            "1/1 [==============================] - 0s 16ms/step - loss: 3.0089 - mae: 1.4953\n",
            "Epoch 80/200\n",
            "1/1 [==============================] - 0s 21ms/step - loss: 2.9845 - mae: 1.4800\n",
            "Epoch 81/200\n",
            "1/1 [==============================] - 0s 14ms/step - loss: 2.9677 - mae: 1.4656\n",
            "Epoch 82/200\n",
            "1/1 [==============================] - 0s 15ms/step - loss: 2.9546 - mae: 1.4537\n",
            "Epoch 83/200\n",
            "1/1 [==============================] - 0s 18ms/step - loss: 2.9396 - mae: 1.4453\n",
            "Epoch 84/200\n",
            "1/1 [==============================] - 0s 15ms/step - loss: 2.9194 - mae: 1.4408\n",
            "Epoch 85/200\n",
            "1/1 [==============================] - 0s 19ms/step - loss: 2.8948 - mae: 1.4396\n",
            "Epoch 86/200\n",
            "1/1 [==============================] - 0s 15ms/step - loss: 2.8693 - mae: 1.4409\n",
            "Epoch 87/200\n",
            "1/1 [==============================] - 0s 14ms/step - loss: 2.8465 - mae: 1.4432\n",
            "Epoch 88/200\n",
            "1/1 [==============================] - 0s 17ms/step - loss: 2.8276 - mae: 1.4453\n",
            "Epoch 89/200\n",
            "1/1 [==============================] - 0s 14ms/step - loss: 2.8111 - mae: 1.4457\n",
            "Epoch 90/200\n",
            "1/1 [==============================] - 0s 15ms/step - loss: 2.7941 - mae: 1.4436\n",
            "Epoch 91/200\n",
            "1/1 [==============================] - 0s 17ms/step - loss: 2.7745 - mae: 1.4387\n",
            "Epoch 92/200\n",
            "1/1 [==============================] - 0s 16ms/step - loss: 2.7525 - mae: 1.4312\n",
            "Epoch 93/200\n",
            "1/1 [==============================] - 0s 17ms/step - loss: 2.7300 - mae: 1.4219\n",
            "Epoch 94/200\n",
            "1/1 [==============================] - 0s 15ms/step - loss: 2.7088 - mae: 1.4117\n",
            "Epoch 95/200\n",
            "1/1 [==============================] - 0s 13ms/step - loss: 2.6895 - mae: 1.4017\n",
            "Epoch 96/200\n",
            "1/1 [==============================] - 0s 15ms/step - loss: 2.6715 - mae: 1.3929\n",
            "Epoch 97/200\n",
            "1/1 [==============================] - 0s 17ms/step - loss: 2.6532 - mae: 1.3859\n",
            "Epoch 98/200\n",
            "1/1 [==============================] - 0s 20ms/step - loss: 2.6337 - mae: 1.3808\n",
            "Epoch 99/200\n",
            "1/1 [==============================] - 0s 16ms/step - loss: 2.6129 - mae: 1.3776\n",
            "Epoch 100/200\n",
            "1/1 [==============================] - 0s 17ms/step - loss: 2.5919 - mae: 1.3756\n",
            "Epoch 101/200\n",
            "1/1 [==============================] - 0s 21ms/step - loss: 2.5717 - mae: 1.3741\n",
            "Epoch 102/200\n",
            "1/1 [==============================] - 0s 19ms/step - loss: 2.5525 - mae: 1.3724\n",
            "Epoch 103/200\n",
            "1/1 [==============================] - 0s 13ms/step - loss: 2.5338 - mae: 1.3697\n",
            "Epoch 104/200\n",
            "1/1 [==============================] - 0s 11ms/step - loss: 2.5149 - mae: 1.3657\n",
            "Epoch 105/200\n",
            "1/1 [==============================] - 0s 18ms/step - loss: 2.4953 - mae: 1.3602\n",
            "Epoch 106/200\n",
            "1/1 [==============================] - 0s 15ms/step - loss: 2.4752 - mae: 1.3534\n",
            "Epoch 107/200\n",
            "1/1 [==============================] - 0s 16ms/step - loss: 2.4551 - mae: 1.3458\n",
            "Epoch 108/200\n",
            "1/1 [==============================] - 0s 12ms/step - loss: 2.4355 - mae: 1.3380\n",
            "Epoch 109/200\n",
            "1/1 [==============================] - 0s 14ms/step - loss: 2.4164 - mae: 1.3304\n",
            "Epoch 110/200\n",
            "1/1 [==============================] - 0s 16ms/step - loss: 2.3974 - mae: 1.3236\n",
            "Epoch 111/200\n",
            "1/1 [==============================] - 0s 13ms/step - loss: 2.3783 - mae: 1.3177\n",
            "Epoch 112/200\n",
            "1/1 [==============================] - 0s 20ms/step - loss: 2.3587 - mae: 1.3129\n",
            "Epoch 113/200\n",
            "1/1 [==============================] - 0s 17ms/step - loss: 2.3391 - mae: 1.3090\n",
            "Epoch 114/200\n",
            "1/1 [==============================] - 0s 15ms/step - loss: 2.3195 - mae: 1.3054\n",
            "Epoch 115/200\n",
            "1/1 [==============================] - 0s 17ms/step - loss: 2.3002 - mae: 1.3019\n",
            "Epoch 116/200\n",
            "1/1 [==============================] - 0s 20ms/step - loss: 2.2811 - mae: 1.2979\n",
            "Epoch 117/200\n",
            "1/1 [==============================] - 0s 15ms/step - loss: 2.2620 - mae: 1.2933\n",
            "Epoch 118/200\n",
            "1/1 [==============================] - 0s 14ms/step - loss: 2.2428 - mae: 1.2879\n",
            "Epoch 119/200\n",
            "1/1 [==============================] - 0s 18ms/step - loss: 2.2234 - mae: 1.2818\n",
            "Epoch 120/200\n",
            "1/1 [==============================] - 0s 19ms/step - loss: 2.2041 - mae: 1.2751\n",
            "Epoch 121/200\n",
            "1/1 [==============================] - 0s 17ms/step - loss: 2.1848 - mae: 1.2683\n",
            "Epoch 122/200\n",
            "1/1 [==============================] - 0s 15ms/step - loss: 2.1657 - mae: 1.2616\n",
            "Epoch 123/200\n",
            "1/1 [==============================] - 0s 15ms/step - loss: 2.1466 - mae: 1.2552\n",
            "Epoch 124/200\n",
            "1/1 [==============================] - 0s 13ms/step - loss: 2.1275 - mae: 1.2494\n",
            "Epoch 125/200\n",
            "1/1 [==============================] - 0s 11ms/step - loss: 2.1084 - mae: 1.2441\n",
            "Epoch 126/200\n",
            "1/1 [==============================] - 0s 12ms/step - loss: 2.0891 - mae: 1.2392\n",
            "Epoch 127/200\n",
            "1/1 [==============================] - 0s 14ms/step - loss: 2.0700 - mae: 1.2345\n",
            "Epoch 128/200\n",
            "1/1 [==============================] - 0s 17ms/step - loss: 2.0509 - mae: 1.2298\n",
            "Epoch 129/200\n",
            "1/1 [==============================] - 0s 16ms/step - loss: 2.0319 - mae: 1.2249\n",
            "Epoch 130/200\n",
            "1/1 [==============================] - 0s 17ms/step - loss: 2.0129 - mae: 1.2195\n",
            "Epoch 131/200\n",
            "1/1 [==============================] - 0s 20ms/step - loss: 1.9938 - mae: 1.2137\n",
            "Epoch 132/200\n",
            "1/1 [==============================] - 0s 16ms/step - loss: 1.9747 - mae: 1.2075\n",
            "Epoch 133/200\n",
            "1/1 [==============================] - 0s 15ms/step - loss: 1.9556 - mae: 1.2011\n",
            "Epoch 134/200\n",
            "1/1 [==============================] - 0s 20ms/step - loss: 1.9366 - mae: 1.1946\n",
            "Epoch 135/200\n",
            "1/1 [==============================] - 0s 12ms/step - loss: 1.9176 - mae: 1.1882\n",
            "Epoch 136/200\n",
            "1/1 [==============================] - 0s 14ms/step - loss: 1.8987 - mae: 1.1821\n",
            "Epoch 137/200\n",
            "1/1 [==============================] - 0s 16ms/step - loss: 1.8797 - mae: 1.1762\n",
            "Epoch 138/200\n",
            "1/1 [==============================] - 0s 17ms/step - loss: 1.8607 - mae: 1.1705\n",
            "Epoch 139/200\n",
            "1/1 [==============================] - 0s 19ms/step - loss: 1.8416 - mae: 1.1650\n",
            "Epoch 140/200\n",
            "1/1 [==============================] - 0s 16ms/step - loss: 1.8227 - mae: 1.1596\n",
            "Epoch 141/200\n",
            "1/1 [==============================] - 0s 17ms/step - loss: 1.8037 - mae: 1.1540\n",
            "Epoch 142/200\n",
            "1/1 [==============================] - 0s 18ms/step - loss: 1.7848 - mae: 1.1483\n",
            "Epoch 143/200\n",
            "1/1 [==============================] - 0s 15ms/step - loss: 1.7658 - mae: 1.1423\n",
            "Epoch 144/200\n",
            "1/1 [==============================] - 0s 22ms/step - loss: 1.7469 - mae: 1.1360\n",
            "Epoch 145/200\n",
            "1/1 [==============================] - 0s 19ms/step - loss: 1.7279 - mae: 1.1296\n",
            "Epoch 146/200\n",
            "1/1 [==============================] - 0s 22ms/step - loss: 1.7090 - mae: 1.1231\n",
            "Epoch 147/200\n",
            "1/1 [==============================] - 0s 17ms/step - loss: 1.6900 - mae: 1.1166\n",
            "Epoch 148/200\n",
            "1/1 [==============================] - 0s 18ms/step - loss: 1.6711 - mae: 1.1101\n",
            "Epoch 149/200\n",
            "1/1 [==============================] - 0s 22ms/step - loss: 1.6522 - mae: 1.1038\n",
            "Epoch 150/200\n",
            "1/1 [==============================] - 0s 20ms/step - loss: 1.6332 - mae: 1.0976\n",
            "Epoch 151/200\n",
            "1/1 [==============================] - 0s 16ms/step - loss: 1.6143 - mae: 1.0915\n",
            "Epoch 152/200\n",
            "1/1 [==============================] - 0s 26ms/step - loss: 1.5953 - mae: 1.0854\n",
            "Epoch 153/200\n",
            "1/1 [==============================] - 0s 16ms/step - loss: 1.5764 - mae: 1.0793\n",
            "Epoch 154/200\n",
            "1/1 [==============================] - 0s 13ms/step - loss: 1.5575 - mae: 1.0730\n",
            "Epoch 155/200\n",
            "1/1 [==============================] - 0s 12ms/step - loss: 1.5385 - mae: 1.0665\n",
            "Epoch 156/200\n",
            "1/1 [==============================] - 0s 16ms/step - loss: 1.5196 - mae: 1.0599\n",
            "Epoch 157/200\n",
            "1/1 [==============================] - 0s 17ms/step - loss: 1.5006 - mae: 1.0531\n",
            "Epoch 158/200\n",
            "1/1 [==============================] - 0s 16ms/step - loss: 1.4817 - mae: 1.0459\n",
            "Epoch 159/200\n",
            "1/1 [==============================] - 0s 20ms/step - loss: 1.4628 - mae: 1.0386\n",
            "Epoch 160/200\n",
            "1/1 [==============================] - 0s 19ms/step - loss: 1.4438 - mae: 1.0320\n",
            "Epoch 161/200\n",
            "1/1 [==============================] - 0s 18ms/step - loss: 1.4248 - mae: 1.0259\n",
            "Epoch 162/200\n",
            "1/1 [==============================] - 0s 20ms/step - loss: 1.4058 - mae: 1.0197\n",
            "Epoch 163/200\n",
            "1/1 [==============================] - 0s 20ms/step - loss: 1.3868 - mae: 1.0129\n",
            "Epoch 164/200\n",
            "1/1 [==============================] - 0s 22ms/step - loss: 1.3677 - mae: 1.0056\n",
            "Epoch 165/200\n",
            "1/1 [==============================] - 0s 18ms/step - loss: 1.3486 - mae: 0.9979\n",
            "Epoch 166/200\n",
            "1/1 [==============================] - 0s 17ms/step - loss: 1.3294 - mae: 0.9902\n",
            "Epoch 167/200\n",
            "1/1 [==============================] - 0s 18ms/step - loss: 1.3100 - mae: 0.9828\n",
            "Epoch 168/200\n",
            "1/1 [==============================] - 0s 18ms/step - loss: 1.2904 - mae: 0.9758\n",
            "Epoch 169/200\n",
            "1/1 [==============================] - 0s 18ms/step - loss: 1.2706 - mae: 0.9690\n",
            "Epoch 170/200\n",
            "1/1 [==============================] - 0s 20ms/step - loss: 1.2507 - mae: 0.9623\n",
            "Epoch 171/200\n",
            "1/1 [==============================] - 0s 21ms/step - loss: 1.2306 - mae: 0.9554\n",
            "Epoch 172/200\n",
            "1/1 [==============================] - 0s 24ms/step - loss: 1.2103 - mae: 0.9479\n",
            "Epoch 173/200\n",
            "1/1 [==============================] - 0s 18ms/step - loss: 1.1897 - mae: 0.9394\n",
            "Epoch 174/200\n",
            "1/1 [==============================] - 0s 16ms/step - loss: 1.1687 - mae: 0.9304\n",
            "Epoch 175/200\n",
            "1/1 [==============================] - 0s 14ms/step - loss: 1.1475 - mae: 0.9212\n",
            "Epoch 176/200\n",
            "1/1 [==============================] - 0s 14ms/step - loss: 1.1261 - mae: 0.9125\n",
            "Epoch 177/200\n",
            "1/1 [==============================] - 0s 17ms/step - loss: 1.1043 - mae: 0.9043\n",
            "Epoch 178/200\n",
            "1/1 [==============================] - 0s 23ms/step - loss: 1.0821 - mae: 0.8961\n",
            "Epoch 179/200\n",
            "1/1 [==============================] - 0s 19ms/step - loss: 1.0634 - mae: 0.8883\n",
            "Epoch 180/200\n",
            "1/1 [==============================] - 0s 20ms/step - loss: 1.0386 - mae: 0.8739\n",
            "Epoch 181/200\n",
            "1/1 [==============================] - 0s 23ms/step - loss: 1.0178 - mae: 0.8621\n",
            "Epoch 182/200\n",
            "1/1 [==============================] - 0s 12ms/step - loss: 0.9950 - mae: 0.8536\n",
            "Epoch 183/200\n",
            "1/1 [==============================] - 0s 16ms/step - loss: 0.9715 - mae: 0.8474\n",
            "Epoch 184/200\n",
            "1/1 [==============================] - 0s 16ms/step - loss: 0.9520 - mae: 0.8423\n",
            "Epoch 185/200\n",
            "1/1 [==============================] - 0s 18ms/step - loss: 0.9265 - mae: 0.8297\n",
            "Epoch 186/200\n",
            "1/1 [==============================] - 0s 20ms/step - loss: 0.9040 - mae: 0.8171\n",
            "Epoch 187/200\n",
            "1/1 [==============================] - 0s 19ms/step - loss: 0.8816 - mae: 0.8052\n",
            "Epoch 188/200\n",
            "1/1 [==============================] - 0s 19ms/step - loss: 0.8584 - mae: 0.7950\n",
            "Epoch 189/200\n",
            "1/1 [==============================] - 0s 19ms/step - loss: 0.8347 - mae: 0.7860\n",
            "Epoch 190/200\n",
            "1/1 [==============================] - 0s 20ms/step - loss: 0.8112 - mae: 0.7772\n",
            "Epoch 191/200\n",
            "1/1 [==============================] - 0s 18ms/step - loss: 0.7876 - mae: 0.7669\n",
            "Epoch 192/200\n",
            "1/1 [==============================] - 0s 18ms/step - loss: 0.7634 - mae: 0.7543\n",
            "Epoch 193/200\n",
            "1/1 [==============================] - 0s 20ms/step - loss: 0.7391 - mae: 0.7403\n",
            "Epoch 194/200\n",
            "1/1 [==============================] - 0s 18ms/step - loss: 0.7159 - mae: 0.7268\n",
            "Epoch 195/200\n",
            "1/1 [==============================] - 0s 22ms/step - loss: 0.6940 - mae: 0.7088\n",
            "Epoch 196/200\n",
            "1/1 [==============================] - 0s 21ms/step - loss: 0.6696 - mae: 0.6969\n",
            "Epoch 197/200\n",
            "1/1 [==============================] - 0s 22ms/step - loss: 0.6431 - mae: 0.6897\n",
            "Epoch 198/200\n",
            "1/1 [==============================] - 0s 18ms/step - loss: 0.6260 - mae: 0.6848\n",
            "Epoch 199/200\n",
            "1/1 [==============================] - 0s 19ms/step - loss: 0.5969 - mae: 0.6671\n",
            "Epoch 200/200\n",
            "1/1 [==============================] - 0s 17ms/step - loss: 0.5748 - mae: 0.6454\n"
          ]
        },
        {
          "output_type": "execute_result",
          "data": {
            "text/plain": [
              "<keras.callbacks.History at 0x7efc6d64a550>"
            ]
          },
          "metadata": {},
          "execution_count": 64
        }
      ]
    },
    {
      "cell_type": "code",
      "source": [
        "model.predict(X)"
      ],
      "metadata": {
        "colab": {
          "base_uri": "https://localhost:8080/"
        },
        "outputId": "305df58e-16ae-4a17-c08c-3aa71ec29d1c",
        "id": "Fm9i9fUuLdPH"
      },
      "execution_count": 65,
      "outputs": [
        {
          "output_type": "execute_result",
          "data": {
            "text/plain": [
              "array([[ 6.722186],\n",
              "       [10.189577],\n",
              "       [13.656776],\n",
              "       [17.123976],\n",
              "       [20.591928]], dtype=float32)"
            ]
          },
          "metadata": {},
          "execution_count": 65
        }
      ]
    },
    {
      "cell_type": "code",
      "source": [
        "plt.scatter(X,y)"
      ],
      "metadata": {
        "colab": {
          "base_uri": "https://localhost:8080/",
          "height": 282
        },
        "outputId": "9c988b46-b19a-4438-9c63-119964a13529",
        "id": "rI1rwu7KLdPs"
      },
      "execution_count": 66,
      "outputs": [
        {
          "output_type": "execute_result",
          "data": {
            "text/plain": [
              "<matplotlib.collections.PathCollection at 0x7efc6dcd05d0>"
            ]
          },
          "metadata": {},
          "execution_count": 66
        },
        {
          "output_type": "display_data",
          "data": {
            "image/png": "[encoded data removed]",
            "text/plain": [
              "<Figure size 432x288 with 1 Axes>"
            ]
          },
          "metadata": {
            "needs_background": "light"
          }
        }
      ]
    },
    {
      "cell_type": "code",
      "source": [
        "plt.scatter(X,model.predict(X))"
      ],
      "metadata": {
        "colab": {
          "base_uri": "https://localhost:8080/",
          "height": 282
        },
        "outputId": "eff1a3ab-0b06-4f91-e7ee-3bacc90edfb8",
        "id": "ECl7F199LdPu"
      },
      "execution_count": 67,
      "outputs": [
        {
          "output_type": "execute_result",
          "data": {
            "text/plain": [
              "<matplotlib.collections.PathCollection at 0x7efc6dcb9bd0>"
            ]
          },
          "metadata": {},
          "execution_count": 67
        },
        {
          "output_type": "display_data",
          "data": {
            "image/png": "[encoded data removed]",
            "text/plain": [
              "<Figure size 432x288 with 1 Axes>"
            ]
          },
          "metadata": {
            "needs_background": "light"
          }
        }
      ]
    },
    {
      "cell_type": "markdown",
      "source": [
        "## evaluating the model"
      ],
      "metadata": {
        "id": "91QdaDf-R4Gj"
      }
    },
    {
      "cell_type": "code",
      "source": [
        ""
      ],
      "metadata": {
        "id": "m5OcsFvPLeXf"
      },
      "execution_count": 67,
      "outputs": []
    }
  ]
}