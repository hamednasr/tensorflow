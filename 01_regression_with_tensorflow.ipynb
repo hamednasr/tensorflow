{
  "nbformat": 4,
  "nbformat_minor": 0,
  "metadata": {
    "colab": {
      "name": "01_regression with tensorflow.ipynb",
      "provenance": [],
      "collapsed_sections": [],
      "authorship_tag": "ABX9TyMAsuUSLDX8RlVnzuiP7Rnl",
      "include_colab_link": true
    },
    "kernelspec": {
      "name": "python3",
      "display_name": "Python 3"
    },
    "language_info": {
      "name": "python"
    }
  },
  "cells": [
    {
      "cell_type": "markdown",
      "metadata": {
        "id": "view-in-github",
        "colab_type": "text"
      },
      "source": [
        "<a href=\"https://colab.research.google.com/github/hamednasr/tensorflow/blob/main/01_regression_with_tensorflow.ipynb\" target=\"_parent\"><img src=\"https://colab.research.google.com/assets/colab-badge.svg\" alt=\"Open In Colab\"/></a>"
      ]
    },
    {
      "cell_type": "code",
      "execution_count": 22,
      "metadata": {
        "id": "RebmLDRF8ijO"
      },
      "outputs": [],
      "source": [
        "import tensorflow as tf\n",
        "import numpy as np\n",
        "import matplotlib.pyplot as plt\n",
        "import pandas as pd\n",
        "from IPython import display\n",
        "display.set_matplotlib_formats('svg')\n",
        "from sklearn.model_selection import train_test_split"
      ]
    },
    {
      "cell_type": "code",
      "source": [
        "X = tf.expand_dims(tf.range(3,18,3),axis=-1)"
      ],
      "metadata": {
        "colab": {
          "base_uri": "https://localhost:8080/"
        },
        "id": "H_oUwoOS9r8N",
        "outputId": "02df516f-1395-441d-c9d4-6fb6a32f039b"
      },
      "execution_count": null,
      "outputs": [
        {
          "output_type": "execute_result",
          "data": {
            "text/plain": [
              "<tf.Tensor: shape=(5, 1), dtype=int32, numpy=\n",
              "array([[ 3],\n",
              "       [ 6],\n",
              "       [ 9],\n",
              "       [12],\n",
              "       [15]], dtype=int32)>"
            ]
          },
          "metadata": {},
          "execution_count": 3
        }
      ]
    },
    {
      "cell_type": "code",
      "source": [
        "y = tf.range(3,18,3)+5\n",
        "y"
      ],
      "metadata": {
        "colab": {
          "base_uri": "https://localhost:8080/"
        },
        "id": "D2C2cHQVJYbm",
        "outputId": "e96fd1a2-5a51-4b1e-e92d-67dd2da0ce03"
      },
      "execution_count": null,
      "outputs": [
        {
          "output_type": "execute_result",
          "data": {
            "text/plain": [
              "<tf.Tensor: shape=(5,), dtype=int32, numpy=array([ 8, 11, 14, 17, 20], dtype=int32)>"
            ]
          },
          "metadata": {},
          "execution_count": 4
        }
      ]
    },
    {
      "cell_type": "code",
      "source": [
        ""
      ],
      "metadata": {
        "id": "ApxqzaQiJYZT"
      },
      "execution_count": null,
      "outputs": []
    },
    {
      "cell_type": "code",
      "source": [
        "tf.random.set_seed(10)"
      ],
      "metadata": {
        "id": "PJibAqFtJYW-"
      },
      "execution_count": null,
      "outputs": []
    },
    {
      "cell_type": "code",
      "source": [
        "model.fit?"
      ],
      "metadata": {
        "id": "uhgn6mj1Ulcd",
        "colab": {
          "base_uri": "https://localhost:8080/"
        },
        "outputId": "108daa7c-c2f4-4bb9-a19b-73a474d3796d"
      },
      "execution_count": null,
      "outputs": [
        {
          "output_type": "stream",
          "name": "stdout",
          "text": [
            "Object `model.fit` not found.\n"
          ]
        }
      ]
    },
    {
      "cell_type": "code",
      "source": [
        "model = tf.keras.Sequential([\n",
        "                              tf.keras.layers.Dense(1)\n",
        "                              ])\n",
        "\n",
        "model.compile(loss=tf.keras.losses.mse,\n",
        "              optimizer=tf.keras.optimizers.SGD(),\n",
        "              metrics = ['mae'])\n",
        "\n",
        "model.fit(X,y,epochs=200)"
      ],
      "metadata": {
        "colab": {
          "base_uri": "https://localhost:8080/"
        },
        "id": "xPXqcc-DJdCG",
        "outputId": "fcb31041-c0d4-4e97-99e7-12fa962f1393"
      },
      "execution_count": null,
      "outputs": [
        {
          "output_type": "stream",
          "name": "stdout",
          "text": [
            "Epoch 1/200\n",
            "1/1 [==============================] - 1s 911ms/step - loss: 94.8722 - mae: 9.5058\n",
            "Epoch 2/200\n",
            "1/1 [==============================] - 0s 55ms/step - loss: 94.1892 - mae: 7.9610\n",
            "Epoch 3/200\n",
            "1/1 [==============================] - 0s 18ms/step - loss: 93.5110 - mae: 9.4374\n",
            "Epoch 4/200\n",
            "1/1 [==============================] - 0s 21ms/step - loss: 92.8377 - mae: 7.9037\n",
            "Epoch 5/200\n",
            "1/1 [==============================] - 0s 19ms/step - loss: 92.1693 - mae: 9.3694\n",
            "Epoch 6/200\n",
            "1/1 [==============================] - 0s 13ms/step - loss: 91.5057 - mae: 7.8468\n",
            "Epoch 7/200\n",
            "1/1 [==============================] - 0s 15ms/step - loss: 90.8468 - mae: 9.3020\n",
            "Epoch 8/200\n",
            "1/1 [==============================] - 0s 40ms/step - loss: 90.1928 - mae: 7.7903\n",
            "Epoch 9/200\n",
            "1/1 [==============================] - 0s 19ms/step - loss: 89.5434 - mae: 9.2350\n",
            "Epoch 10/200\n",
            "1/1 [==============================] - 0s 25ms/step - loss: 88.8986 - mae: 7.7342\n",
            "Epoch 11/200\n",
            "1/1 [==============================] - 0s 20ms/step - loss: 88.2586 - mae: 9.1685\n",
            "Epoch 12/200\n",
            "1/1 [==============================] - 0s 17ms/step - loss: 87.6231 - mae: 7.6785\n",
            "Epoch 13/200\n",
            "1/1 [==============================] - 0s 22ms/step - loss: 86.9922 - mae: 9.1025\n",
            "Epoch 14/200\n",
            "1/1 [==============================] - 0s 15ms/step - loss: 86.3659 - mae: 7.6232\n",
            "Epoch 15/200\n",
            "1/1 [==============================] - 0s 8ms/step - loss: 85.7440 - mae: 9.0370\n",
            "Epoch 16/200\n",
            "1/1 [==============================] - 0s 32ms/step - loss: 85.1267 - mae: 7.5683\n",
            "Epoch 17/200\n",
            "1/1 [==============================] - 0s 14ms/step - loss: 84.5137 - mae: 8.9719\n",
            "Epoch 18/200\n",
            "1/1 [==============================] - 0s 15ms/step - loss: 83.9053 - mae: 7.5138\n",
            "Epoch 19/200\n",
            "1/1 [==============================] - 0s 10ms/step - loss: 83.3012 - mae: 8.9073\n",
            "Epoch 20/200\n",
            "1/1 [==============================] - 0s 8ms/step - loss: 82.7014 - mae: 7.4598\n",
            "Epoch 21/200\n",
            "1/1 [==============================] - 0s 16ms/step - loss: 82.1060 - mae: 8.8432\n",
            "Epoch 22/200\n",
            "1/1 [==============================] - 0s 20ms/step - loss: 81.5148 - mae: 7.4060\n",
            "Epoch 23/200\n",
            "1/1 [==============================] - 0s 13ms/step - loss: 80.9279 - mae: 8.7795\n",
            "Epoch 24/200\n",
            "1/1 [==============================] - 0s 17ms/step - loss: 80.3452 - mae: 7.3527\n",
            "Epoch 25/200\n",
            "1/1 [==============================] - 0s 35ms/step - loss: 79.7667 - mae: 8.7163\n",
            "Epoch 26/200\n",
            "1/1 [==============================] - 0s 17ms/step - loss: 79.1924 - mae: 7.2998\n",
            "Epoch 27/200\n",
            "1/1 [==============================] - 0s 13ms/step - loss: 78.6222 - mae: 8.6535\n",
            "Epoch 28/200\n",
            "1/1 [==============================] - 0s 10ms/step - loss: 78.0561 - mae: 7.2472\n",
            "Epoch 29/200\n",
            "1/1 [==============================] - 0s 19ms/step - loss: 77.4941 - mae: 8.5912\n",
            "Epoch 30/200\n",
            "1/1 [==============================] - 0s 10ms/step - loss: 76.9361 - mae: 7.1950\n",
            "Epoch 31/200\n",
            "1/1 [==============================] - 0s 20ms/step - loss: 76.3822 - mae: 8.5294\n",
            "Epoch 32/200\n",
            "1/1 [==============================] - 0s 14ms/step - loss: 75.8322 - mae: 7.1432\n",
            "Epoch 33/200\n",
            "1/1 [==============================] - 0s 17ms/step - loss: 75.2862 - mae: 8.4679\n",
            "Epoch 34/200\n",
            "1/1 [==============================] - 0s 21ms/step - loss: 74.7442 - mae: 7.0918\n",
            "Epoch 35/200\n",
            "1/1 [==============================] - 0s 24ms/step - loss: 74.2060 - mae: 8.4070\n",
            "Epoch 36/200\n",
            "1/1 [==============================] - 0s 25ms/step - loss: 73.6717 - mae: 7.0407\n",
            "Epoch 37/200\n",
            "1/1 [==============================] - 0s 20ms/step - loss: 73.1413 - mae: 8.3464\n",
            "Epoch 38/200\n",
            "1/1 [==============================] - 0s 13ms/step - loss: 72.6147 - mae: 6.9900\n",
            "Epoch 39/200\n",
            "1/1 [==============================] - 0s 21ms/step - loss: 72.0918 - mae: 8.2863\n",
            "Epoch 40/200\n",
            "1/1 [==============================] - 0s 21ms/step - loss: 71.5727 - mae: 6.9397\n",
            "Epoch 41/200\n",
            "1/1 [==============================] - 0s 19ms/step - loss: 71.0574 - mae: 8.2267\n",
            "Epoch 42/200\n",
            "1/1 [==============================] - 0s 21ms/step - loss: 70.5458 - mae: 6.8897\n",
            "Epoch 43/200\n",
            "1/1 [==============================] - 0s 16ms/step - loss: 70.0378 - mae: 8.1674\n",
            "Epoch 44/200\n",
            "1/1 [==============================] - 0s 13ms/step - loss: 69.5335 - mae: 6.8401\n",
            "Epoch 45/200\n",
            "1/1 [==============================] - 0s 24ms/step - loss: 69.0329 - mae: 8.1086\n",
            "Epoch 46/200\n",
            "1/1 [==============================] - 0s 25ms/step - loss: 68.5359 - mae: 6.7909\n",
            "Epoch 47/200\n",
            "1/1 [==============================] - 0s 8ms/step - loss: 68.0424 - mae: 8.0503\n",
            "Epoch 48/200\n",
            "1/1 [==============================] - 0s 15ms/step - loss: 67.5525 - mae: 6.7420\n",
            "Epoch 49/200\n",
            "1/1 [==============================] - 0s 16ms/step - loss: 67.0661 - mae: 7.9923\n",
            "Epoch 50/200\n",
            "1/1 [==============================] - 0s 22ms/step - loss: 66.5833 - mae: 6.6935\n",
            "Epoch 51/200\n",
            "1/1 [==============================] - 0s 16ms/step - loss: 66.1039 - mae: 7.9348\n",
            "Epoch 52/200\n",
            "1/1 [==============================] - 0s 13ms/step - loss: 65.6280 - mae: 6.6453\n",
            "Epoch 53/200\n",
            "1/1 [==============================] - 0s 30ms/step - loss: 65.1554 - mae: 7.8776\n",
            "Epoch 54/200\n",
            "1/1 [==============================] - 0s 17ms/step - loss: 64.6863 - mae: 6.5974\n",
            "Epoch 55/200\n",
            "1/1 [==============================] - 0s 10ms/step - loss: 64.2206 - mae: 7.8209\n",
            "Epoch 56/200\n",
            "1/1 [==============================] - 0s 17ms/step - loss: 63.7582 - mae: 6.5499\n",
            "Epoch 57/200\n",
            "1/1 [==============================] - 0s 14ms/step - loss: 63.2991 - mae: 7.7646\n",
            "Epoch 58/200\n",
            "1/1 [==============================] - 0s 19ms/step - loss: 62.8433 - mae: 6.5028\n",
            "Epoch 59/200\n",
            "1/1 [==============================] - 0s 23ms/step - loss: 62.3909 - mae: 7.7087\n",
            "Epoch 60/200\n",
            "1/1 [==============================] - 0s 24ms/step - loss: 61.9417 - mae: 6.4559\n",
            "Epoch 61/200\n",
            "1/1 [==============================] - 0s 9ms/step - loss: 61.4957 - mae: 7.6532\n",
            "Epoch 62/200\n",
            "1/1 [==============================] - 0s 17ms/step - loss: 61.0529 - mae: 6.4095\n",
            "Epoch 63/200\n",
            "1/1 [==============================] - 0s 19ms/step - loss: 60.6133 - mae: 7.5981\n",
            "Epoch 64/200\n",
            "1/1 [==============================] - 0s 27ms/step - loss: 60.1769 - mae: 6.3633\n",
            "Epoch 65/200\n",
            "1/1 [==============================] - 0s 21ms/step - loss: 59.7436 - mae: 7.5434\n",
            "Epoch 66/200\n",
            "1/1 [==============================] - 0s 17ms/step - loss: 59.3135 - mae: 6.3175\n",
            "Epoch 67/200\n",
            "1/1 [==============================] - 0s 18ms/step - loss: 58.8864 - mae: 7.4891\n",
            "Epoch 68/200\n",
            "1/1 [==============================] - 0s 11ms/step - loss: 58.4625 - mae: 6.2720\n",
            "Epoch 69/200\n",
            "1/1 [==============================] - 0s 17ms/step - loss: 58.0415 - mae: 7.4351\n",
            "Epoch 70/200\n",
            "1/1 [==============================] - 0s 6ms/step - loss: 57.6236 - mae: 6.2268\n",
            "Epoch 71/200\n",
            "1/1 [==============================] - 0s 8ms/step - loss: 57.2087 - mae: 7.3816\n",
            "Epoch 72/200\n",
            "1/1 [==============================] - 0s 13ms/step - loss: 56.7968 - mae: 6.1820\n",
            "Epoch 73/200\n",
            "1/1 [==============================] - 0s 14ms/step - loss: 56.3879 - mae: 7.3285\n",
            "Epoch 74/200\n",
            "1/1 [==============================] - 0s 12ms/step - loss: 55.9819 - mae: 6.1375\n",
            "Epoch 75/200\n",
            "1/1 [==============================] - 0s 8ms/step - loss: 55.5789 - mae: 7.2757\n",
            "Epoch 76/200\n",
            "1/1 [==============================] - 0s 11ms/step - loss: 55.1787 - mae: 6.0933\n",
            "Epoch 77/200\n",
            "1/1 [==============================] - 0s 17ms/step - loss: 54.7814 - mae: 7.2233\n",
            "Epoch 78/200\n",
            "1/1 [==============================] - 0s 9ms/step - loss: 54.3870 - mae: 6.0494\n",
            "Epoch 79/200\n",
            "1/1 [==============================] - 0s 10ms/step - loss: 53.9954 - mae: 7.1713\n",
            "Epoch 80/200\n",
            "1/1 [==============================] - 0s 6ms/step - loss: 53.6066 - mae: 6.0059\n",
            "Epoch 81/200\n",
            "1/1 [==============================] - 0s 6ms/step - loss: 53.2207 - mae: 7.1197\n",
            "Epoch 82/200\n",
            "1/1 [==============================] - 0s 7ms/step - loss: 52.8375 - mae: 5.9626\n",
            "Epoch 83/200\n",
            "1/1 [==============================] - 0s 6ms/step - loss: 52.4571 - mae: 7.0684\n",
            "Epoch 84/200\n",
            "1/1 [==============================] - 0s 7ms/step - loss: 52.0794 - mae: 5.9197\n",
            "Epoch 85/200\n",
            "1/1 [==============================] - 0s 6ms/step - loss: 51.7044 - mae: 7.0175\n",
            "Epoch 86/200\n",
            "1/1 [==============================] - 0s 7ms/step - loss: 51.3322 - mae: 5.8771\n",
            "Epoch 87/200\n",
            "1/1 [==============================] - 0s 11ms/step - loss: 50.9626 - mae: 6.9670\n",
            "Epoch 88/200\n",
            "1/1 [==============================] - 0s 9ms/step - loss: 50.5957 - mae: 5.8348\n",
            "Epoch 89/200\n",
            "1/1 [==============================] - 0s 14ms/step - loss: 50.2314 - mae: 6.9168\n",
            "Epoch 90/200\n",
            "1/1 [==============================] - 0s 15ms/step - loss: 49.8697 - mae: 5.7928\n",
            "Epoch 91/200\n",
            "1/1 [==============================] - 0s 11ms/step - loss: 49.5106 - mae: 6.8670\n",
            "Epoch 92/200\n",
            "1/1 [==============================] - 0s 12ms/step - loss: 49.1542 - mae: 5.7511\n",
            "Epoch 93/200\n",
            "1/1 [==============================] - 0s 22ms/step - loss: 48.8003 - mae: 6.8176\n",
            "Epoch 94/200\n",
            "1/1 [==============================] - 0s 12ms/step - loss: 48.4489 - mae: 5.7097\n",
            "Epoch 95/200\n",
            "1/1 [==============================] - 0s 23ms/step - loss: 48.1001 - mae: 6.7685\n",
            "Epoch 96/200\n",
            "1/1 [==============================] - 0s 18ms/step - loss: 47.7537 - mae: 5.6685\n",
            "Epoch 97/200\n",
            "1/1 [==============================] - 0s 38ms/step - loss: 47.4099 - mae: 6.7198\n",
            "Epoch 98/200\n",
            "1/1 [==============================] - 0s 14ms/step - loss: 47.0685 - mae: 5.6277\n",
            "Epoch 99/200\n",
            "1/1 [==============================] - 0s 31ms/step - loss: 46.7296 - mae: 6.6714\n",
            "Epoch 100/200\n",
            "1/1 [==============================] - 0s 30ms/step - loss: 46.3932 - mae: 5.5872\n",
            "Epoch 101/200\n",
            "1/1 [==============================] - 0s 11ms/step - loss: 46.0591 - mae: 6.6234\n",
            "Epoch 102/200\n",
            "1/1 [==============================] - 0s 14ms/step - loss: 45.7275 - mae: 5.5470\n",
            "Epoch 103/200\n",
            "1/1 [==============================] - 0s 12ms/step - loss: 45.3983 - mae: 6.5757\n",
            "Epoch 104/200\n",
            "1/1 [==============================] - 0s 19ms/step - loss: 45.0714 - mae: 5.5070\n",
            "Epoch 105/200\n",
            "1/1 [==============================] - 0s 23ms/step - loss: 44.7469 - mae: 6.5283\n",
            "Epoch 106/200\n",
            "1/1 [==============================] - 0s 9ms/step - loss: 44.4247 - mae: 5.4674\n",
            "Epoch 107/200\n",
            "1/1 [==============================] - 0s 13ms/step - loss: 44.1048 - mae: 6.4813\n",
            "Epoch 108/200\n",
            "1/1 [==============================] - 0s 16ms/step - loss: 43.7873 - mae: 5.4280\n",
            "Epoch 109/200\n",
            "1/1 [==============================] - 0s 40ms/step - loss: 43.4720 - mae: 6.4346\n",
            "Epoch 110/200\n",
            "1/1 [==============================] - 0s 51ms/step - loss: 43.1590 - mae: 5.3889\n",
            "Epoch 111/200\n",
            "1/1 [==============================] - 0s 29ms/step - loss: 42.8483 - mae: 6.3883\n",
            "Epoch 112/200\n",
            "1/1 [==============================] - 0s 27ms/step - loss: 42.5398 - mae: 5.3501\n",
            "Epoch 113/200\n",
            "1/1 [==============================] - 0s 27ms/step - loss: 42.2335 - mae: 6.3423\n",
            "Epoch 114/200\n",
            "1/1 [==============================] - 0s 22ms/step - loss: 41.9294 - mae: 5.3116\n",
            "Epoch 115/200\n",
            "1/1 [==============================] - 0s 16ms/step - loss: 41.6275 - mae: 6.2967\n",
            "Epoch 116/200\n",
            "1/1 [==============================] - 0s 16ms/step - loss: 41.3278 - mae: 5.2734\n",
            "Epoch 117/200\n",
            "1/1 [==============================] - 0s 17ms/step - loss: 41.0302 - mae: 6.2513\n",
            "Epoch 118/200\n",
            "1/1 [==============================] - 0s 22ms/step - loss: 40.7348 - mae: 5.2354\n",
            "Epoch 119/200\n",
            "1/1 [==============================] - 0s 16ms/step - loss: 40.4415 - mae: 6.2063\n",
            "Epoch 120/200\n",
            "1/1 [==============================] - 0s 11ms/step - loss: 40.1504 - mae: 5.1977\n",
            "Epoch 121/200\n",
            "1/1 [==============================] - 0s 43ms/step - loss: 39.8613 - mae: 6.1616\n",
            "Epoch 122/200\n",
            "1/1 [==============================] - 0s 24ms/step - loss: 39.5743 - mae: 5.1603\n",
            "Epoch 123/200\n",
            "1/1 [==============================] - 0s 20ms/step - loss: 39.2893 - mae: 6.1173\n",
            "Epoch 124/200\n",
            "1/1 [==============================] - 0s 25ms/step - loss: 39.0064 - mae: 5.1231\n",
            "Epoch 125/200\n",
            "1/1 [==============================] - 0s 20ms/step - loss: 38.7256 - mae: 6.0732\n",
            "Epoch 126/200\n",
            "1/1 [==============================] - 0s 21ms/step - loss: 38.4467 - mae: 5.0862\n",
            "Epoch 127/200\n",
            "1/1 [==============================] - 0s 33ms/step - loss: 38.1699 - mae: 6.0295\n",
            "Epoch 128/200\n",
            "1/1 [==============================] - 0s 26ms/step - loss: 37.8951 - mae: 5.0496\n",
            "Epoch 129/200\n",
            "1/1 [==============================] - 0s 21ms/step - loss: 37.6223 - mae: 5.9861\n",
            "Epoch 130/200\n",
            "1/1 [==============================] - 0s 22ms/step - loss: 37.3514 - mae: 5.0133\n",
            "Epoch 131/200\n",
            "1/1 [==============================] - 0s 40ms/step - loss: 37.0825 - mae: 5.9430\n",
            "Epoch 132/200\n",
            "1/1 [==============================] - 0s 17ms/step - loss: 36.8155 - mae: 4.9772\n",
            "Epoch 133/200\n",
            "1/1 [==============================] - 0s 18ms/step - loss: 36.5504 - mae: 5.9002\n",
            "Epoch 134/200\n",
            "1/1 [==============================] - 0s 11ms/step - loss: 36.2872 - mae: 4.9413\n",
            "Epoch 135/200\n",
            "1/1 [==============================] - 0s 16ms/step - loss: 36.0260 - mae: 5.8577\n",
            "Epoch 136/200\n",
            "1/1 [==============================] - 0s 13ms/step - loss: 35.7666 - mae: 4.9058\n",
            "Epoch 137/200\n",
            "1/1 [==============================] - 0s 32ms/step - loss: 35.5091 - mae: 5.8155\n",
            "Epoch 138/200\n",
            "1/1 [==============================] - 0s 28ms/step - loss: 35.2534 - mae: 4.8704\n",
            "Epoch 139/200\n",
            "1/1 [==============================] - 0s 29ms/step - loss: 34.9996 - mae: 5.7737\n",
            "Epoch 140/200\n",
            "1/1 [==============================] - 0s 15ms/step - loss: 34.7476 - mae: 4.8354\n",
            "Epoch 141/200\n",
            "1/1 [==============================] - 0s 10ms/step - loss: 34.4974 - mae: 5.7321\n",
            "Epoch 142/200\n",
            "1/1 [==============================] - 0s 6ms/step - loss: 34.2490 - mae: 4.8006\n",
            "Epoch 143/200\n",
            "1/1 [==============================] - 0s 14ms/step - loss: 34.0024 - mae: 5.6908\n",
            "Epoch 144/200\n",
            "1/1 [==============================] - 0s 19ms/step - loss: 33.7576 - mae: 4.7660\n",
            "Epoch 145/200\n",
            "1/1 [==============================] - 0s 14ms/step - loss: 33.5145 - mae: 5.6498\n",
            "Epoch 146/200\n",
            "1/1 [==============================] - 0s 10ms/step - loss: 33.2733 - mae: 4.7317\n",
            "Epoch 147/200\n",
            "1/1 [==============================] - 0s 10ms/step - loss: 33.0337 - mae: 5.6092\n",
            "Epoch 148/200\n",
            "1/1 [==============================] - 0s 8ms/step - loss: 32.7959 - mae: 4.6976\n",
            "Epoch 149/200\n",
            "1/1 [==============================] - 0s 8ms/step - loss: 32.5598 - mae: 5.5688\n",
            "Epoch 150/200\n",
            "1/1 [==============================] - 0s 12ms/step - loss: 32.3253 - mae: 4.6638\n",
            "Epoch 151/200\n",
            "1/1 [==============================] - 0s 10ms/step - loss: 32.0926 - mae: 5.5287\n",
            "Epoch 152/200\n",
            "1/1 [==============================] - 0s 21ms/step - loss: 31.8615 - mae: 4.6302\n",
            "Epoch 153/200\n",
            "1/1 [==============================] - 0s 23ms/step - loss: 31.6321 - mae: 5.4889\n",
            "Epoch 154/200\n",
            "1/1 [==============================] - 0s 27ms/step - loss: 31.4043 - mae: 4.5969\n",
            "Epoch 155/200\n",
            "1/1 [==============================] - 0s 21ms/step - loss: 31.1782 - mae: 5.4494\n",
            "Epoch 156/200\n",
            "1/1 [==============================] - 0s 23ms/step - loss: 30.9537 - mae: 4.5638\n",
            "Epoch 157/200\n",
            "1/1 [==============================] - 0s 18ms/step - loss: 30.7309 - mae: 5.4101\n",
            "Epoch 158/200\n",
            "1/1 [==============================] - 0s 17ms/step - loss: 30.5096 - mae: 4.5309\n",
            "Epoch 159/200\n",
            "1/1 [==============================] - 0s 21ms/step - loss: 30.2899 - mae: 5.3712\n",
            "Epoch 160/200\n",
            "1/1 [==============================] - 0s 21ms/step - loss: 30.0718 - mae: 4.4983\n",
            "Epoch 161/200\n",
            "1/1 [==============================] - 0s 12ms/step - loss: 29.8553 - mae: 5.3325\n",
            "Epoch 162/200\n",
            "1/1 [==============================] - 0s 20ms/step - loss: 29.6404 - mae: 4.4659\n",
            "Epoch 163/200\n",
            "1/1 [==============================] - 0s 12ms/step - loss: 29.4270 - mae: 5.2941\n",
            "Epoch 164/200\n",
            "1/1 [==============================] - 0s 14ms/step - loss: 29.2151 - mae: 4.4338\n",
            "Epoch 165/200\n",
            "1/1 [==============================] - 0s 24ms/step - loss: 29.0047 - mae: 5.2560\n",
            "Epoch 166/200\n",
            "1/1 [==============================] - 0s 16ms/step - loss: 28.7959 - mae: 4.4018\n",
            "Epoch 167/200\n",
            "1/1 [==============================] - 0s 13ms/step - loss: 28.5885 - mae: 5.2181\n",
            "Epoch 168/200\n",
            "1/1 [==============================] - 0s 17ms/step - loss: 28.3827 - mae: 4.3701\n",
            "Epoch 169/200\n",
            "1/1 [==============================] - 0s 27ms/step - loss: 28.1784 - mae: 5.1806\n",
            "Epoch 170/200\n",
            "1/1 [==============================] - 0s 37ms/step - loss: 27.9755 - mae: 4.3387\n",
            "Epoch 171/200\n",
            "1/1 [==============================] - 0s 15ms/step - loss: 27.7740 - mae: 5.1433\n",
            "Epoch 172/200\n",
            "1/1 [==============================] - 0s 15ms/step - loss: 27.5741 - mae: 4.3074\n",
            "Epoch 173/200\n",
            "1/1 [==============================] - 0s 12ms/step - loss: 27.3755 - mae: 5.1062\n",
            "Epoch 174/200\n",
            "1/1 [==============================] - 0s 14ms/step - loss: 27.1784 - mae: 4.2764\n",
            "Epoch 175/200\n",
            "1/1 [==============================] - 0s 25ms/step - loss: 26.9827 - mae: 5.0695\n",
            "Epoch 176/200\n",
            "1/1 [==============================] - 0s 14ms/step - loss: 26.7884 - mae: 4.2456\n",
            "Epoch 177/200\n",
            "1/1 [==============================] - 0s 12ms/step - loss: 26.5956 - mae: 5.0330\n",
            "Epoch 178/200\n",
            "1/1 [==============================] - 0s 8ms/step - loss: 26.4041 - mae: 4.2151\n",
            "Epoch 179/200\n",
            "1/1 [==============================] - 0s 10ms/step - loss: 26.2140 - mae: 4.9967\n",
            "Epoch 180/200\n",
            "1/1 [==============================] - 0s 30ms/step - loss: 26.0252 - mae: 4.1847\n",
            "Epoch 181/200\n",
            "1/1 [==============================] - 0s 17ms/step - loss: 25.8378 - mae: 4.9608\n",
            "Epoch 182/200\n",
            "1/1 [==============================] - 0s 13ms/step - loss: 25.6518 - mae: 4.1546\n",
            "Epoch 183/200\n",
            "1/1 [==============================] - 0s 10ms/step - loss: 25.4671 - mae: 4.9250\n",
            "Epoch 184/200\n",
            "1/1 [==============================] - 0s 11ms/step - loss: 25.2838 - mae: 4.1247\n",
            "Epoch 185/200\n",
            "1/1 [==============================] - 0s 8ms/step - loss: 25.1017 - mae: 4.8896\n",
            "Epoch 186/200\n",
            "1/1 [==============================] - 0s 7ms/step - loss: 24.9210 - mae: 4.0950\n",
            "Epoch 187/200\n",
            "1/1 [==============================] - 0s 8ms/step - loss: 24.7416 - mae: 4.8544\n",
            "Epoch 188/200\n",
            "1/1 [==============================] - 0s 7ms/step - loss: 24.5634 - mae: 4.0655\n",
            "Epoch 189/200\n",
            "1/1 [==============================] - 0s 13ms/step - loss: 24.3865 - mae: 4.8194\n",
            "Epoch 190/200\n",
            "1/1 [==============================] - 0s 19ms/step - loss: 24.2110 - mae: 4.0362\n",
            "Epoch 191/200\n",
            "1/1 [==============================] - 0s 14ms/step - loss: 24.0366 - mae: 4.7847\n",
            "Epoch 192/200\n",
            "1/1 [==============================] - 0s 9ms/step - loss: 23.8636 - mae: 4.0072\n",
            "Epoch 193/200\n",
            "1/1 [==============================] - 0s 7ms/step - loss: 23.6918 - mae: 4.7503\n",
            "Epoch 194/200\n",
            "1/1 [==============================] - 0s 7ms/step - loss: 23.5212 - mae: 3.9783\n",
            "Epoch 195/200\n",
            "1/1 [==============================] - 0s 6ms/step - loss: 23.3518 - mae: 4.7161\n",
            "Epoch 196/200\n",
            "1/1 [==============================] - 0s 9ms/step - loss: 23.1837 - mae: 3.9497\n",
            "Epoch 197/200\n",
            "1/1 [==============================] - 0s 7ms/step - loss: 23.0168 - mae: 4.6821\n",
            "Epoch 198/200\n",
            "1/1 [==============================] - 0s 7ms/step - loss: 22.8510 - mae: 3.9212\n",
            "Epoch 199/200\n",
            "1/1 [==============================] - 0s 6ms/step - loss: 22.6865 - mae: 4.6484\n",
            "Epoch 200/200\n",
            "1/1 [==============================] - 0s 6ms/step - loss: 22.5232 - mae: 3.8930\n"
          ]
        },
        {
          "output_type": "execute_result",
          "data": {
            "text/plain": [
              "<keras.callbacks.History at 0x7f730163e650>"
            ]
          },
          "metadata": {},
          "execution_count": 7
        }
      ]
    },
    {
      "cell_type": "code",
      "source": [
        "model.predict(X)"
      ],
      "metadata": {
        "colab": {
          "base_uri": "https://localhost:8080/"
        },
        "id": "u_WbS8XDRE-5",
        "outputId": "6501e689-ec0a-4b0c-d9f5-8c2d1b0e4f8f"
      },
      "execution_count": null,
      "outputs": [
        {
          "output_type": "execute_result",
          "data": {
            "text/plain": [
              "array([[ 4.843402],\n",
              "       [ 7.114233],\n",
              "       [ 9.385065],\n",
              "       [11.655896],\n",
              "       [13.926728]], dtype=float32)"
            ]
          },
          "metadata": {},
          "execution_count": 8
        }
      ]
    },
    {
      "cell_type": "code",
      "source": [
        "plt.scatter(X,y)"
      ],
      "metadata": {
        "colab": {
          "base_uri": "https://localhost:8080/",
          "height": 282
        },
        "id": "jjMIq-w3TpKS",
        "outputId": "2507a7e4-5f9e-4800-cecb-d0a51a17cc42"
      },
      "execution_count": null,
      "outputs": [
        {
          "output_type": "execute_result",
          "data": {
            "text/plain": [
              "<matplotlib.collections.PathCollection at 0x7f73015bb1d0>"
            ]
          },
          "metadata": {},
          "execution_count": 9
        },
        {
          "output_type": "display_data",
          "data": {
            "image/png": "[encoded data removed]",
            "text/plain": [
              "<Figure size 432x288 with 1 Axes>"
            ]
          },
          "metadata": {
            "needs_background": "light"
          }
        }
      ]
    },
    {
      "cell_type": "code",
      "source": [
        "plt.scatter(X,model.predict(X))"
      ],
      "metadata": {
        "colab": {
          "base_uri": "https://localhost:8080/",
          "height": 282
        },
        "id": "qHYemA34SHEW",
        "outputId": "06ecb37c-e360-4b46-f1dc-18a11864b214"
      },
      "execution_count": null,
      "outputs": [
        {
          "output_type": "execute_result",
          "data": {
            "text/plain": [
              "<matplotlib.collections.PathCollection at 0x7f73015167d0>"
            ]
          },
          "metadata": {},
          "execution_count": 10
        },
        {
          "output_type": "display_data",
          "data": {
            "image/png": "[encoded data removed]",
            "text/plain": [
              "<Figure size 432x288 with 1 Axes>"
            ]
          },
          "metadata": {
            "needs_background": "light"
          }
        }
      ]
    },
    {
      "cell_type": "code",
      "source": [
        "model = tf.keras.Sequential([ \n",
        "                              tf.keras.layers.Dense(256,activation='relu'),\n",
        "                              tf.keras.layers.Dense(512,activation='relu'),\n",
        "                             tf.keras.layers.Dense(512,activation='relu'),\n",
        "                              tf.keras.layers.Dense(128,activation='relu'),\n",
        "                              tf.keras.layers.Dense(1)\n",
        "                           ])\n",
        "\n",
        "model.compile(loss=tf.keras.losses.mse,\n",
        "              optimizer=tf.keras.optimizers.Adam(lr=0.001),\n",
        "              metrics = ['mae'])\n",
        "\n",
        "model.fit(X,y,epochs=200)"
      ],
      "metadata": {
        "id": "bsRyLS4ZTm2h",
        "colab": {
          "base_uri": "https://localhost:8080/"
        },
        "outputId": "31978f7c-e544-4019-fde0-4398f641d394"
      },
      "execution_count": null,
      "outputs": [
        {
          "output_type": "stream",
          "name": "stdout",
          "text": [
            "Epoch 1/200\n"
          ]
        },
        {
          "output_type": "stream",
          "name": "stderr",
          "text": [
            "/usr/local/lib/python3.7/dist-packages/keras/optimizer_v2/adam.py:105: UserWarning: The `lr` argument is deprecated, use `learning_rate` instead.\n",
            "  super(Adam, self).__init__(name, **kwargs)\n"
          ]
        },
        {
          "output_type": "stream",
          "name": "stdout",
          "text": [
            "1/1 [==============================] - 2s 2s/step - loss: 214.4284 - mae: 14.0134\n",
            "Epoch 2/200\n",
            "1/1 [==============================] - 0s 21ms/step - loss: 172.8761 - mae: 12.6429\n",
            "Epoch 3/200\n",
            "1/1 [==============================] - 0s 19ms/step - loss: 139.4823 - mae: 11.4132\n",
            "Epoch 4/200\n",
            "1/1 [==============================] - 0s 34ms/step - loss: 106.8457 - mae: 10.0529\n",
            "Epoch 5/200\n",
            "1/1 [==============================] - 0s 29ms/step - loss: 72.1000 - mae: 8.3371\n",
            "Epoch 6/200\n",
            "1/1 [==============================] - 0s 18ms/step - loss: 38.3194 - mae: 6.1608\n",
            "Epoch 7/200\n",
            "1/1 [==============================] - 0s 17ms/step - loss: 12.1188 - mae: 3.4172\n",
            "Epoch 8/200\n",
            "1/1 [==============================] - 0s 17ms/step - loss: 4.6523 - mae: 1.8631\n",
            "Epoch 9/200\n",
            "1/1 [==============================] - 0s 17ms/step - loss: 21.4887 - mae: 3.7900\n",
            "Epoch 10/200\n",
            "1/1 [==============================] - 0s 16ms/step - loss: 40.6020 - mae: 5.2545\n",
            "Epoch 11/200\n",
            "1/1 [==============================] - 0s 14ms/step - loss: 40.2469 - mae: 5.2314\n",
            "Epoch 12/200\n",
            "1/1 [==============================] - 0s 21ms/step - loss: 26.8906 - mae: 4.2634\n",
            "Epoch 13/200\n",
            "1/1 [==============================] - 0s 13ms/step - loss: 13.0264 - mae: 2.9934\n",
            "Epoch 14/200\n",
            "1/1 [==============================] - 0s 14ms/step - loss: 5.3101 - mae: 1.9836\n",
            "Epoch 15/200\n",
            "1/1 [==============================] - 0s 16ms/step - loss: 4.3609 - mae: 1.7107\n",
            "Epoch 16/200\n",
            "1/1 [==============================] - 0s 16ms/step - loss: 7.5170 - mae: 2.5348\n",
            "Epoch 17/200\n",
            "1/1 [==============================] - 0s 19ms/step - loss: 11.8296 - mae: 3.3769\n",
            "Epoch 18/200\n",
            "1/1 [==============================] - 0s 16ms/step - loss: 15.2482 - mae: 3.8827\n",
            "Epoch 19/200\n",
            "1/1 [==============================] - 0s 40ms/step - loss: 16.7225 - mae: 4.0766\n",
            "Epoch 20/200\n",
            "1/1 [==============================] - 0s 20ms/step - loss: 16.1170 - mae: 3.9990\n",
            "Epoch 21/200\n",
            "1/1 [==============================] - 0s 18ms/step - loss: 13.8244 - mae: 3.6851\n",
            "Epoch 22/200\n",
            "1/1 [==============================] - 0s 18ms/step - loss: 10.5534 - mae: 3.1656\n",
            "Epoch 23/200\n",
            "1/1 [==============================] - 0s 19ms/step - loss: 7.2177 - mae: 2.4760\n",
            "Epoch 24/200\n",
            "1/1 [==============================] - 0s 18ms/step - loss: 4.7621 - mae: 1.7970\n",
            "Epoch 25/200\n",
            "1/1 [==============================] - 0s 18ms/step - loss: 3.8943 - mae: 1.6908\n",
            "Epoch 26/200\n",
            "1/1 [==============================] - 0s 17ms/step - loss: 4.7377 - mae: 1.8512\n",
            "Epoch 27/200\n",
            "1/1 [==============================] - 0s 41ms/step - loss: 6.5992 - mae: 2.2378\n",
            "Epoch 28/200\n",
            "1/1 [==============================] - 0s 28ms/step - loss: 8.2139 - mae: 2.4680\n",
            "Epoch 29/200\n",
            "1/1 [==============================] - 0s 20ms/step - loss: 8.6054 - mae: 2.5160\n",
            "Epoch 30/200\n",
            "1/1 [==============================] - 0s 28ms/step - loss: 7.6459 - mae: 2.3913\n",
            "Epoch 31/200\n",
            "1/1 [==============================] - 0s 37ms/step - loss: 5.9947 - mae: 2.1344\n",
            "Epoch 32/200\n",
            "1/1 [==============================] - 0s 23ms/step - loss: 4.5257 - mae: 1.8084\n",
            "Epoch 33/200\n",
            "1/1 [==============================] - 0s 32ms/step - loss: 3.7977 - mae: 1.6928\n",
            "Epoch 34/200\n",
            "1/1 [==============================] - 0s 24ms/step - loss: 3.8755 - mae: 1.5936\n",
            "Epoch 35/200\n",
            "1/1 [==============================] - 0s 30ms/step - loss: 4.4606 - mae: 1.7405\n",
            "Epoch 36/200\n",
            "1/1 [==============================] - 0s 16ms/step - loss: 5.1347 - mae: 1.8904\n",
            "Epoch 37/200\n",
            "1/1 [==============================] - 0s 15ms/step - loss: 5.5568 - mae: 2.0442\n",
            "Epoch 38/200\n",
            "1/1 [==============================] - 0s 20ms/step - loss: 5.5627 - mae: 2.0501\n",
            "Epoch 39/200\n",
            "1/1 [==============================] - 0s 17ms/step - loss: 5.1770 - mae: 1.9207\n",
            "Epoch 40/200\n",
            "1/1 [==============================] - 0s 18ms/step - loss: 4.5704 - mae: 1.7562\n",
            "Epoch 41/200\n",
            "1/1 [==============================] - 0s 14ms/step - loss: 3.9819 - mae: 1.6414\n",
            "Epoch 42/200\n",
            "1/1 [==============================] - 0s 12ms/step - loss: 3.6236 - mae: 1.5807\n",
            "Epoch 43/200\n",
            "1/1 [==============================] - 0s 16ms/step - loss: 3.5920 - mae: 1.6445\n",
            "Epoch 44/200\n",
            "1/1 [==============================] - 0s 14ms/step - loss: 3.8236 - mae: 1.6990\n",
            "Epoch 45/200\n",
            "1/1 [==============================] - 0s 13ms/step - loss: 4.1292 - mae: 1.7361\n",
            "Epoch 46/200\n",
            "1/1 [==============================] - 0s 16ms/step - loss: 4.3022 - mae: 1.7684\n",
            "Epoch 47/200\n",
            "1/1 [==============================] - 0s 17ms/step - loss: 4.2374 - mae: 1.7513\n",
            "Epoch 48/200\n",
            "1/1 [==============================] - 0s 20ms/step - loss: 3.9792 - mae: 1.7121\n",
            "Epoch 49/200\n",
            "1/1 [==============================] - 0s 18ms/step - loss: 3.6717 - mae: 1.6673\n",
            "Epoch 50/200\n",
            "1/1 [==============================] - 0s 21ms/step - loss: 3.4580 - mae: 1.6153\n",
            "Epoch 51/200\n",
            "1/1 [==============================] - 0s 13ms/step - loss: 3.4033 - mae: 1.5637\n",
            "Epoch 52/200\n",
            "1/1 [==============================] - 0s 14ms/step - loss: 3.4788 - mae: 1.5188\n",
            "Epoch 53/200\n",
            "1/1 [==============================] - 0s 15ms/step - loss: 3.5991 - mae: 1.5516\n",
            "Epoch 54/200\n",
            "1/1 [==============================] - 0s 20ms/step - loss: 3.6759 - mae: 1.5757\n",
            "Epoch 55/200\n",
            "1/1 [==============================] - 0s 21ms/step - loss: 3.6601 - mae: 1.5727\n",
            "Epoch 56/200\n",
            "1/1 [==============================] - 0s 16ms/step - loss: 3.5568 - mae: 1.5446\n",
            "Epoch 57/200\n",
            "1/1 [==============================] - 0s 13ms/step - loss: 3.4135 - mae: 1.4965\n",
            "Epoch 58/200\n",
            "1/1 [==============================] - 0s 17ms/step - loss: 3.2916 - mae: 1.5120\n",
            "Epoch 59/200\n",
            "1/1 [==============================] - 0s 14ms/step - loss: 3.2341 - mae: 1.5392\n",
            "Epoch 60/200\n",
            "1/1 [==============================] - 0s 28ms/step - loss: 3.2447 - mae: 1.5635\n",
            "Epoch 61/200\n",
            "1/1 [==============================] - 0s 20ms/step - loss: 3.2895 - mae: 1.5809\n",
            "Epoch 62/200\n",
            "1/1 [==============================] - 0s 29ms/step - loss: 3.3207 - mae: 1.5882\n",
            "Epoch 63/200\n",
            "1/1 [==============================] - 0s 19ms/step - loss: 3.3055 - mae: 1.5844\n",
            "Epoch 64/200\n",
            "1/1 [==============================] - 0s 38ms/step - loss: 3.2443 - mae: 1.5703\n",
            "Epoch 65/200\n",
            "1/1 [==============================] - 0s 23ms/step - loss: 3.1648 - mae: 1.5482\n",
            "Epoch 66/200\n",
            "1/1 [==============================] - 0s 23ms/step - loss: 3.1007 - mae: 1.5219\n",
            "Epoch 67/200\n",
            "1/1 [==============================] - 0s 13ms/step - loss: 3.0707 - mae: 1.4950\n",
            "Epoch 68/200\n",
            "1/1 [==============================] - 0s 21ms/step - loss: 3.0706 - mae: 1.4712\n",
            "Epoch 69/200\n",
            "1/1 [==============================] - 0s 19ms/step - loss: 3.0803 - mae: 1.4530\n",
            "Epoch 70/200\n",
            "1/1 [==============================] - 0s 19ms/step - loss: 3.0784 - mae: 1.4419\n",
            "Epoch 71/200\n",
            "1/1 [==============================] - 0s 18ms/step - loss: 3.0540 - mae: 1.4381\n",
            "Epoch 72/200\n",
            "1/1 [==============================] - 0s 37ms/step - loss: 3.0112 - mae: 1.4408\n",
            "Epoch 73/200\n",
            "1/1 [==============================] - 0s 27ms/step - loss: 2.9642 - mae: 1.4483\n",
            "Epoch 74/200\n",
            "1/1 [==============================] - 0s 29ms/step - loss: 2.9274 - mae: 1.4582\n",
            "Epoch 75/200\n",
            "1/1 [==============================] - 0s 21ms/step - loss: 2.9074 - mae: 1.4678\n",
            "Epoch 76/200\n",
            "1/1 [==============================] - 0s 25ms/step - loss: 2.8995 - mae: 1.4747\n",
            "Epoch 77/200\n",
            "1/1 [==============================] - 0s 19ms/step - loss: 2.8926 - mae: 1.4771\n",
            "Epoch 78/200\n",
            "1/1 [==============================] - 0s 20ms/step - loss: 2.8768 - mae: 1.4741\n",
            "Epoch 79/200\n",
            "1/1 [==============================] - 0s 30ms/step - loss: 2.8496 - mae: 1.4658\n",
            "Epoch 80/200\n",
            "1/1 [==============================] - 0s 20ms/step - loss: 2.8163 - mae: 1.4532\n",
            "Epoch 81/200\n",
            "1/1 [==============================] - 0s 23ms/step - loss: 2.7852 - mae: 1.4381\n",
            "Epoch 82/200\n",
            "1/1 [==============================] - 0s 19ms/step - loss: 2.7618 - mae: 1.4224\n",
            "Epoch 83/200\n",
            "1/1 [==============================] - 0s 38ms/step - loss: 2.7459 - mae: 1.4080\n",
            "Epoch 84/200\n",
            "1/1 [==============================] - 0s 36ms/step - loss: 2.7325 - mae: 1.3964\n",
            "Epoch 85/200\n",
            "1/1 [==============================] - 0s 22ms/step - loss: 2.7162 - mae: 1.3884\n",
            "Epoch 86/200\n",
            "1/1 [==============================] - 0s 15ms/step - loss: 2.6943 - mae: 1.3842\n",
            "Epoch 87/200\n",
            "1/1 [==============================] - 0s 16ms/step - loss: 2.6684 - mae: 1.3832\n",
            "Epoch 88/200\n",
            "1/1 [==============================] - 0s 15ms/step - loss: 2.6423 - mae: 1.3844\n",
            "Epoch 89/200\n",
            "1/1 [==============================] - 0s 18ms/step - loss: 2.6195 - mae: 1.3865\n",
            "Epoch 90/200\n",
            "1/1 [==============================] - 0s 18ms/step - loss: 2.6006 - mae: 1.3880\n",
            "Epoch 91/200\n",
            "1/1 [==============================] - 0s 17ms/step - loss: 2.5839 - mae: 1.3878\n",
            "Epoch 92/200\n",
            "1/1 [==============================] - 0s 35ms/step - loss: 2.5662 - mae: 1.3850\n",
            "Epoch 93/200\n",
            "1/1 [==============================] - 0s 26ms/step - loss: 2.5459 - mae: 1.3794\n",
            "Epoch 94/200\n",
            "1/1 [==============================] - 0s 18ms/step - loss: 2.5232 - mae: 1.3713\n",
            "Epoch 95/200\n",
            "1/1 [==============================] - 0s 18ms/step - loss: 2.5002 - mae: 1.3615\n",
            "Epoch 96/200\n",
            "1/1 [==============================] - 0s 29ms/step - loss: 2.4787 - mae: 1.3510\n",
            "Epoch 97/200\n",
            "1/1 [==============================] - 0s 16ms/step - loss: 2.4593 - mae: 1.3408\n",
            "Epoch 98/200\n",
            "1/1 [==============================] - 0s 24ms/step - loss: 2.4411 - mae: 1.3318\n",
            "Epoch 99/200\n",
            "1/1 [==============================] - 0s 22ms/step - loss: 2.4224 - mae: 1.3246\n",
            "Epoch 100/200\n",
            "1/1 [==============================] - 0s 16ms/step - loss: 2.4025 - mae: 1.3193\n",
            "Epoch 101/200\n",
            "1/1 [==============================] - 0s 32ms/step - loss: 2.3814 - mae: 1.3157\n",
            "Epoch 102/200\n",
            "1/1 [==============================] - 0s 32ms/step - loss: 2.3602 - mae: 1.3134\n",
            "Epoch 103/200\n",
            "1/1 [==============================] - 0s 17ms/step - loss: 2.3397 - mae: 1.3116\n",
            "Epoch 104/200\n",
            "1/1 [==============================] - 0s 18ms/step - loss: 2.3203 - mae: 1.3095\n",
            "Epoch 105/200\n",
            "1/1 [==============================] - 0s 17ms/step - loss: 2.3015 - mae: 1.3065\n",
            "Epoch 106/200\n",
            "1/1 [==============================] - 0s 20ms/step - loss: 2.2825 - mae: 1.3022\n",
            "Epoch 107/200\n",
            "1/1 [==============================] - 0s 17ms/step - loss: 2.2628 - mae: 1.2965\n",
            "Epoch 108/200\n",
            "1/1 [==============================] - 0s 25ms/step - loss: 2.2426 - mae: 1.2895\n",
            "Epoch 109/200\n",
            "1/1 [==============================] - 0s 20ms/step - loss: 2.2223 - mae: 1.2816\n",
            "Epoch 110/200\n",
            "1/1 [==============================] - 0s 19ms/step - loss: 2.2026 - mae: 1.2735\n",
            "Epoch 111/200\n",
            "1/1 [==============================] - 0s 18ms/step - loss: 2.1834 - mae: 1.2656\n",
            "Epoch 112/200\n",
            "1/1 [==============================] - 0s 16ms/step - loss: 2.1645 - mae: 1.2585\n",
            "Epoch 113/200\n",
            "1/1 [==============================] - 0s 16ms/step - loss: 2.1454 - mae: 1.2523\n",
            "Epoch 114/200\n",
            "1/1 [==============================] - 0s 18ms/step - loss: 2.1259 - mae: 1.2471\n",
            "Epoch 115/200\n",
            "1/1 [==============================] - 0s 19ms/step - loss: 2.1063 - mae: 1.2427\n",
            "Epoch 116/200\n",
            "1/1 [==============================] - 0s 18ms/step - loss: 2.0868 - mae: 1.2388\n",
            "Epoch 117/200\n",
            "1/1 [==============================] - 0s 19ms/step - loss: 2.0676 - mae: 1.2350\n",
            "Epoch 118/200\n",
            "1/1 [==============================] - 0s 17ms/step - loss: 2.0486 - mae: 1.2308\n",
            "Epoch 119/200\n",
            "1/1 [==============================] - 0s 18ms/step - loss: 2.0297 - mae: 1.2261\n",
            "Epoch 120/200\n",
            "1/1 [==============================] - 0s 19ms/step - loss: 2.0107 - mae: 1.2205\n",
            "Epoch 121/200\n",
            "1/1 [==============================] - 0s 20ms/step - loss: 1.9916 - mae: 1.2143\n",
            "Epoch 122/200\n",
            "1/1 [==============================] - 0s 24ms/step - loss: 1.9724 - mae: 1.2075\n",
            "Epoch 123/200\n",
            "1/1 [==============================] - 0s 23ms/step - loss: 1.9534 - mae: 1.2005\n",
            "Epoch 124/200\n",
            "1/1 [==============================] - 0s 17ms/step - loss: 1.9345 - mae: 1.1935\n",
            "Epoch 125/200\n",
            "1/1 [==============================] - 0s 21ms/step - loss: 1.9158 - mae: 1.1868\n",
            "Epoch 126/200\n",
            "1/1 [==============================] - 0s 17ms/step - loss: 1.8971 - mae: 1.1806\n",
            "Epoch 127/200\n",
            "1/1 [==============================] - 0s 12ms/step - loss: 1.8783 - mae: 1.1749\n",
            "Epoch 128/200\n",
            "1/1 [==============================] - 0s 33ms/step - loss: 1.8595 - mae: 1.1697\n",
            "Epoch 129/200\n",
            "1/1 [==============================] - 0s 20ms/step - loss: 1.8407 - mae: 1.1647\n",
            "Epoch 130/200\n",
            "1/1 [==============================] - 0s 21ms/step - loss: 1.8220 - mae: 1.1598\n",
            "Epoch 131/200\n",
            "1/1 [==============================] - 0s 25ms/step - loss: 1.8035 - mae: 1.1547\n",
            "Epoch 132/200\n",
            "1/1 [==============================] - 0s 22ms/step - loss: 1.7849 - mae: 1.1493\n",
            "Epoch 133/200\n",
            "1/1 [==============================] - 0s 22ms/step - loss: 1.7664 - mae: 1.1434\n",
            "Epoch 134/200\n",
            "1/1 [==============================] - 0s 38ms/step - loss: 1.7479 - mae: 1.1372\n",
            "Epoch 135/200\n",
            "1/1 [==============================] - 0s 24ms/step - loss: 1.7294 - mae: 1.1307\n",
            "Epoch 136/200\n",
            "1/1 [==============================] - 0s 21ms/step - loss: 1.7109 - mae: 1.1240\n",
            "Epoch 137/200\n",
            "1/1 [==============================] - 0s 21ms/step - loss: 1.6925 - mae: 1.1174\n",
            "Epoch 138/200\n",
            "1/1 [==============================] - 0s 23ms/step - loss: 1.6742 - mae: 1.1109\n",
            "Epoch 139/200\n",
            "1/1 [==============================] - 0s 24ms/step - loss: 1.6559 - mae: 1.1047\n",
            "Epoch 140/200\n",
            "1/1 [==============================] - 0s 23ms/step - loss: 1.6377 - mae: 1.0988\n",
            "Epoch 141/200\n",
            "1/1 [==============================] - 0s 61ms/step - loss: 1.6194 - mae: 1.0931\n",
            "Epoch 142/200\n",
            "1/1 [==============================] - 0s 35ms/step - loss: 1.6012 - mae: 1.0875\n",
            "Epoch 143/200\n",
            "1/1 [==============================] - 0s 50ms/step - loss: 1.5831 - mae: 1.0818\n",
            "Epoch 144/200\n",
            "1/1 [==============================] - 0s 26ms/step - loss: 1.5650 - mae: 1.0760\n",
            "Epoch 145/200\n",
            "1/1 [==============================] - 0s 23ms/step - loss: 1.5466 - mae: 1.0695\n",
            "Epoch 146/200\n",
            "1/1 [==============================] - 0s 18ms/step - loss: 1.5285 - mae: 1.0628\n",
            "Epoch 147/200\n",
            "1/1 [==============================] - 0s 19ms/step - loss: 1.5104 - mae: 1.0557\n",
            "Epoch 148/200\n",
            "1/1 [==============================] - 0s 19ms/step - loss: 1.4923 - mae: 1.0486\n",
            "Epoch 149/200\n",
            "1/1 [==============================] - 0s 19ms/step - loss: 1.4740 - mae: 1.0418\n",
            "Epoch 150/200\n",
            "1/1 [==============================] - 0s 20ms/step - loss: 1.4556 - mae: 1.0354\n",
            "Epoch 151/200\n",
            "1/1 [==============================] - 0s 34ms/step - loss: 1.4370 - mae: 1.0296\n",
            "Epoch 152/200\n",
            "1/1 [==============================] - 0s 23ms/step - loss: 1.4183 - mae: 1.0241\n",
            "Epoch 153/200\n",
            "1/1 [==============================] - 0s 37ms/step - loss: 1.3996 - mae: 1.0185\n",
            "Epoch 154/200\n",
            "1/1 [==============================] - 0s 37ms/step - loss: 1.3807 - mae: 1.0122\n",
            "Epoch 155/200\n",
            "1/1 [==============================] - 0s 24ms/step - loss: 1.3616 - mae: 1.0049\n",
            "Epoch 156/200\n",
            "1/1 [==============================] - 0s 30ms/step - loss: 1.3422 - mae: 0.9968\n",
            "Epoch 157/200\n",
            "1/1 [==============================] - 0s 29ms/step - loss: 1.3227 - mae: 0.9885\n",
            "Epoch 158/200\n",
            "1/1 [==============================] - 0s 34ms/step - loss: 1.3029 - mae: 0.9808\n",
            "Epoch 159/200\n",
            "1/1 [==============================] - 0s 29ms/step - loss: 1.2828 - mae: 0.9740\n",
            "Epoch 160/200\n",
            "1/1 [==============================] - 0s 21ms/step - loss: 1.2625 - mae: 0.9675\n",
            "Epoch 161/200\n",
            "1/1 [==============================] - 0s 55ms/step - loss: 1.2420 - mae: 0.9603\n",
            "Epoch 162/200\n",
            "1/1 [==============================] - 0s 29ms/step - loss: 1.2211 - mae: 0.9517\n",
            "Epoch 163/200\n",
            "1/1 [==============================] - 0s 23ms/step - loss: 1.1999 - mae: 0.9424\n",
            "Epoch 164/200\n",
            "1/1 [==============================] - 0s 18ms/step - loss: 1.1786 - mae: 0.9334\n",
            "Epoch 165/200\n",
            "1/1 [==============================] - 0s 31ms/step - loss: 1.1580 - mae: 0.9257\n",
            "Epoch 166/200\n",
            "1/1 [==============================] - 0s 24ms/step - loss: 1.1377 - mae: 0.9120\n",
            "Epoch 167/200\n",
            "1/1 [==============================] - 0s 22ms/step - loss: 1.1180 - mae: 0.9018\n",
            "Epoch 168/200\n",
            "1/1 [==============================] - 0s 17ms/step - loss: 1.0951 - mae: 0.8959\n",
            "Epoch 169/200\n",
            "1/1 [==============================] - 0s 20ms/step - loss: 1.0728 - mae: 0.8923\n",
            "Epoch 170/200\n",
            "1/1 [==============================] - 0s 18ms/step - loss: 1.0526 - mae: 0.8877\n",
            "Epoch 171/200\n",
            "1/1 [==============================] - 0s 21ms/step - loss: 1.0302 - mae: 0.8752\n",
            "Epoch 172/200\n",
            "1/1 [==============================] - 0s 42ms/step - loss: 1.0093 - mae: 0.8618\n",
            "Epoch 173/200\n",
            "1/1 [==============================] - 0s 24ms/step - loss: 0.9889 - mae: 0.8501\n",
            "Epoch 174/200\n",
            "1/1 [==============================] - 0s 18ms/step - loss: 0.9668 - mae: 0.8414\n",
            "Epoch 175/200\n",
            "1/1 [==============================] - 0s 24ms/step - loss: 0.9437 - mae: 0.8353\n",
            "Epoch 176/200\n",
            "1/1 [==============================] - 0s 18ms/step - loss: 0.9219 - mae: 0.8293\n",
            "Epoch 177/200\n",
            "1/1 [==============================] - 0s 19ms/step - loss: 0.9002 - mae: 0.8211\n",
            "Epoch 178/200\n",
            "1/1 [==============================] - 0s 24ms/step - loss: 0.8771 - mae: 0.8095\n",
            "Epoch 179/200\n",
            "1/1 [==============================] - 0s 19ms/step - loss: 0.8539 - mae: 0.7955\n",
            "Epoch 180/200\n",
            "1/1 [==============================] - 0s 20ms/step - loss: 0.8316 - mae: 0.7819\n",
            "Epoch 181/200\n",
            "1/1 [==============================] - 0s 24ms/step - loss: 0.8087 - mae: 0.7709\n",
            "Epoch 182/200\n",
            "1/1 [==============================] - 0s 26ms/step - loss: 0.7849 - mae: 0.7628\n",
            "Epoch 183/200\n",
            "1/1 [==============================] - 0s 26ms/step - loss: 0.7624 - mae: 0.7547\n",
            "Epoch 184/200\n",
            "1/1 [==============================] - 0s 22ms/step - loss: 0.7397 - mae: 0.7376\n",
            "Epoch 185/200\n",
            "1/1 [==============================] - 0s 21ms/step - loss: 0.7187 - mae: 0.7229\n",
            "Epoch 186/200\n",
            "1/1 [==============================] - 0s 20ms/step - loss: 0.6948 - mae: 0.7130\n",
            "Epoch 187/200\n",
            "1/1 [==============================] - 0s 28ms/step - loss: 0.6707 - mae: 0.7061\n",
            "Epoch 188/200\n",
            "1/1 [==============================] - 0s 25ms/step - loss: 0.6532 - mae: 0.6997\n",
            "Epoch 189/200\n",
            "1/1 [==============================] - 0s 24ms/step - loss: 0.6253 - mae: 0.6802\n",
            "Epoch 190/200\n",
            "1/1 [==============================] - 0s 31ms/step - loss: 0.6049 - mae: 0.6635\n",
            "Epoch 191/200\n",
            "1/1 [==============================] - 0s 25ms/step - loss: 0.5817 - mae: 0.6511\n",
            "Epoch 192/200\n",
            "1/1 [==============================] - 0s 24ms/step - loss: 0.5576 - mae: 0.6427\n",
            "Epoch 193/200\n",
            "1/1 [==============================] - 0s 26ms/step - loss: 0.5392 - mae: 0.6356\n",
            "Epoch 194/200\n",
            "1/1 [==============================] - 0s 23ms/step - loss: 0.5132 - mae: 0.6171\n",
            "Epoch 195/200\n",
            "1/1 [==============================] - 0s 23ms/step - loss: 0.4923 - mae: 0.6001\n",
            "Epoch 196/200\n",
            "1/1 [==============================] - 0s 24ms/step - loss: 0.4706 - mae: 0.5863\n",
            "Epoch 197/200\n",
            "1/1 [==============================] - 0s 29ms/step - loss: 0.4478 - mae: 0.5758\n",
            "Epoch 198/200\n",
            "1/1 [==============================] - 0s 20ms/step - loss: 0.4283 - mae: 0.5663\n",
            "Epoch 199/200\n",
            "1/1 [==============================] - 0s 23ms/step - loss: 0.4054 - mae: 0.5468\n",
            "Epoch 200/200\n",
            "1/1 [==============================] - 0s 16ms/step - loss: 0.3860 - mae: 0.5301\n"
          ]
        },
        {
          "output_type": "execute_result",
          "data": {
            "text/plain": [
              "<keras.callbacks.History at 0x7f73015d47d0>"
            ]
          },
          "metadata": {},
          "execution_count": 11
        }
      ]
    },
    {
      "cell_type": "code",
      "source": [
        "model.predict(X)"
      ],
      "metadata": {
        "colab": {
          "base_uri": "https://localhost:8080/"
        },
        "outputId": "9130cf72-df14-4439-ec95-12d1b8c8a563",
        "id": "Fm9i9fUuLdPH"
      },
      "execution_count": null,
      "outputs": [
        {
          "output_type": "execute_result",
          "data": {
            "text/plain": [
              "array([[ 6.9751687],\n",
              "       [10.365131 ],\n",
              "       [13.75506  ],\n",
              "       [17.144989 ],\n",
              "       [20.536743 ]], dtype=float32)"
            ]
          },
          "metadata": {},
          "execution_count": 12
        }
      ]
    },
    {
      "cell_type": "code",
      "source": [
        "plt.scatter(X,y)"
      ],
      "metadata": {
        "colab": {
          "base_uri": "https://localhost:8080/",
          "height": 282
        },
        "outputId": "a37d7b90-289c-4c63-e121-a64413445c92",
        "id": "rI1rwu7KLdPs"
      },
      "execution_count": null,
      "outputs": [
        {
          "output_type": "execute_result",
          "data": {
            "text/plain": [
              "<matplotlib.collections.PathCollection at 0x7f72fec609d0>"
            ]
          },
          "metadata": {},
          "execution_count": 13
        },
        {
          "output_type": "display_data",
          "data": {
            "image/png": "[encoded data removed]",
            "text/plain": [
              "<Figure size 432x288 with 1 Axes>"
            ]
          },
          "metadata": {
            "needs_background": "light"
          }
        }
      ]
    },
    {
      "cell_type": "code",
      "source": [
        "plt.scatter(X,model.predict(X))"
      ],
      "metadata": {
        "colab": {
          "base_uri": "https://localhost:8080/",
          "height": 282
        },
        "outputId": "ac664db9-2c16-4440-eaa2-7ed1bbc99891",
        "id": "ECl7F199LdPu"
      },
      "execution_count": null,
      "outputs": [
        {
          "output_type": "execute_result",
          "data": {
            "text/plain": [
              "<matplotlib.collections.PathCollection at 0x7f72febc6f50>"
            ]
          },
          "metadata": {},
          "execution_count": 14
        },
        {
          "output_type": "display_data",
          "data": {
            "image/png": "[encoded data removed]",
            "text/plain": [
              "<Figure size 432x288 with 1 Axes>"
            ]
          },
          "metadata": {
            "needs_background": "light"
          }
        }
      ]
    },
    {
      "cell_type": "markdown",
      "source": [
        "## increasing the data"
      ],
      "metadata": {
        "id": "91QdaDf-R4Gj"
      }
    },
    {
      "cell_type": "code",
      "source": [
        "X = np.expand_dims(np.arange(3,55,3),axis=-1)\n",
        "X"
      ],
      "metadata": {
        "colab": {
          "base_uri": "https://localhost:8080/"
        },
        "id": "0buHeqHnBGCE",
        "outputId": "6bf047fa-207d-46fa-a18a-3ef7a4367b16"
      },
      "execution_count": null,
      "outputs": [
        {
          "output_type": "execute_result",
          "data": {
            "text/plain": [
              "array([[ 3],\n",
              "       [ 6],\n",
              "       [ 9],\n",
              "       [12],\n",
              "       [15],\n",
              "       [18],\n",
              "       [21],\n",
              "       [24],\n",
              "       [27],\n",
              "       [30],\n",
              "       [33],\n",
              "       [36],\n",
              "       [39],\n",
              "       [42],\n",
              "       [45],\n",
              "       [48],\n",
              "       [51],\n",
              "       [54]])"
            ]
          },
          "metadata": {},
          "execution_count": 15
        }
      ]
    },
    {
      "cell_type": "code",
      "source": [
        "y = np.squeeze(X + 5)\n",
        "y"
      ],
      "metadata": {
        "colab": {
          "base_uri": "https://localhost:8080/"
        },
        "id": "dCDfU_QQIwh3",
        "outputId": "73fafaca-f0b5-408b-fb62-1b70db952848"
      },
      "execution_count": null,
      "outputs": [
        {
          "output_type": "execute_result",
          "data": {
            "text/plain": [
              "array([ 8, 11, 14, 17, 20, 23, 26, 29, 32, 35, 38, 41, 44, 47, 50, 53, 56,\n",
              "       59])"
            ]
          },
          "metadata": {},
          "execution_count": 16
        }
      ]
    },
    {
      "cell_type": "code",
      "source": [
        "from sklearn.model_selection import train_test_split\n",
        "X_train, X_test, y_train, y_test = train_test_split(X, y, test_size=.1)"
      ],
      "metadata": {
        "id": "3NNDLynUAsSc"
      },
      "execution_count": null,
      "outputs": []
    },
    {
      "cell_type": "code",
      "source": [
        "model = tf.keras.Sequential([ \n",
        "                              tf.keras.layers.Dense(256,input_shape=[1],activation='relu',name='input_layer'),\n",
        "                              tf.keras.layers.Dense(128,activation='relu',name='hidden_layer'),\n",
        "                              tf.keras.layers.Dense(1,name='output_layer')\n",
        "                           ],name='model_22')\n",
        "\n",
        "model.compile(loss=tf.keras.losses.mse,\n",
        "              optimizer=tf.keras.optimizers.Adam(learning_rate=0.001),\n",
        "              metrics = ['mae'])\n",
        "\n",
        "model.fit(X_train,y_train,epochs=200,verbose=0)"
      ],
      "metadata": {
        "colab": {
          "base_uri": "https://localhost:8080/"
        },
        "id": "no4w2jGWTXHl",
        "outputId": "a6db13ee-3e1c-45b6-9a18-9e9db3a7dfc7"
      },
      "execution_count": null,
      "outputs": [
        {
          "output_type": "execute_result",
          "data": {
            "text/plain": [
              "<keras.callbacks.History at 0x7f72fbd6e510>"
            ]
          },
          "metadata": {},
          "execution_count": 18
        }
      ]
    },
    {
      "cell_type": "code",
      "source": [
        "model.summary()"
      ],
      "metadata": {
        "colab": {
          "base_uri": "https://localhost:8080/"
        },
        "id": "KUUnq3P5Tdnh",
        "outputId": "ef0cdc31-5f26-460e-d0b5-ffce2cc15252"
      },
      "execution_count": null,
      "outputs": [
        {
          "output_type": "stream",
          "name": "stdout",
          "text": [
            "Model: \"model_22\"\n",
            "_________________________________________________________________\n",
            " Layer (type)                Output Shape              Param #   \n",
            "=================================================================\n",
            " input_layer (Dense)         (None, 256)               512       \n",
            "                                                                 \n",
            " hidden_layer (Dense)        (None, 128)               32896     \n",
            "                                                                 \n",
            " output_layer (Dense)        (None, 1)                 129       \n",
            "                                                                 \n",
            "=================================================================\n",
            "Total params: 33,537\n",
            "Trainable params: 33,537\n",
            "Non-trainable params: 0\n",
            "_________________________________________________________________\n"
          ]
        }
      ]
    },
    {
      "cell_type": "code",
      "source": [
        "from tensorflow.keras.utils import plot_model"
      ],
      "metadata": {
        "id": "AQB0u5lkZO50"
      },
      "execution_count": null,
      "outputs": []
    },
    {
      "cell_type": "code",
      "source": [
        "plot_model(model,show_shapes=True)"
      ],
      "metadata": {
        "colab": {
          "base_uri": "https://localhost:8080/",
          "height": 422
        },
        "id": "GblArPzxlc6J",
        "outputId": "288c9a48-5b52-4339-a6c5-f8eaf742b9a3"
      },
      "execution_count": null,
      "outputs": [
        {
          "output_type": "execute_result",
          "data": {
            "image/png": "[encoded data removed]",
            "text/plain": [
              "<IPython.core.display.Image object>"
            ]
          },
          "metadata": {},
          "execution_count": 21
        }
      ]
    },
    {
      "cell_type": "code",
      "source": [
        "model.evaluate(X_train,y_train)"
      ],
      "metadata": {
        "colab": {
          "base_uri": "https://localhost:8080/"
        },
        "id": "ehJYuNG4KIJO",
        "outputId": "6cb68492-f18e-410a-b244-3ad121cb9fbe"
      },
      "execution_count": null,
      "outputs": [
        {
          "output_type": "stream",
          "name": "stdout",
          "text": [
            "1/1 [==============================] - 0s 142ms/step - loss: 4.2847 - mae: 1.7669\n"
          ]
        },
        {
          "output_type": "execute_result",
          "data": {
            "text/plain": [
              "[4.284698486328125, 1.7668753862380981]"
            ]
          },
          "metadata": {},
          "execution_count": 22
        }
      ]
    },
    {
      "cell_type": "code",
      "source": [
        "model.evaluate(X_test,y_test)"
      ],
      "metadata": {
        "colab": {
          "base_uri": "https://localhost:8080/"
        },
        "id": "HUl8K2Ouqbd3",
        "outputId": "10f40210-d288-4c0a-dff2-218ff16d01b2"
      },
      "execution_count": null,
      "outputs": [
        {
          "output_type": "stream",
          "name": "stdout",
          "text": [
            "1/1 [==============================] - 0s 18ms/step - loss: 0.4547 - mae: 0.6691\n"
          ]
        },
        {
          "output_type": "execute_result",
          "data": {
            "text/plain": [
              "[0.45471274852752686, 0.6691398620605469]"
            ]
          },
          "metadata": {},
          "execution_count": 23
        }
      ]
    },
    {
      "cell_type": "code",
      "source": [
        "model.predict(X_test)"
      ],
      "metadata": {
        "colab": {
          "base_uri": "https://localhost:8080/"
        },
        "id": "gnnIRr8XLGwA",
        "outputId": "dfc9538b-248f-4327-e8c7-a41d29149e4a"
      },
      "execution_count": null,
      "outputs": [
        {
          "output_type": "execute_result",
          "data": {
            "text/plain": [
              "array([[47.585682],\n",
              "       [34.247406]], dtype=float32)"
            ]
          },
          "metadata": {},
          "execution_count": 24
        }
      ]
    },
    {
      "cell_type": "code",
      "source": [
        "y_test"
      ],
      "metadata": {
        "colab": {
          "base_uri": "https://localhost:8080/"
        },
        "id": "JuW3nuacLOE9",
        "outputId": "1a3947a0-f084-454e-a94c-998c6fb5598e"
      },
      "execution_count": null,
      "outputs": [
        {
          "output_type": "execute_result",
          "data": {
            "text/plain": [
              "array([47, 35])"
            ]
          },
          "metadata": {},
          "execution_count": 25
        }
      ]
    },
    {
      "cell_type": "code",
      "source": [
        "tf.metrics.mean_squared_error(y_test,np.squeeze(model.predict(X_test)))"
      ],
      "metadata": {
        "colab": {
          "base_uri": "https://localhost:8080/"
        },
        "id": "6L1LeSl1KF2k",
        "outputId": "0ffb8267-d22f-41c6-eda2-1ac7df085caf"
      },
      "execution_count": null,
      "outputs": [
        {
          "output_type": "execute_result",
          "data": {
            "text/plain": [
              "<tf.Tensor: shape=(), dtype=float32, numpy=0.4547105>"
            ]
          },
          "metadata": {},
          "execution_count": 26
        }
      ]
    },
    {
      "cell_type": "code",
      "source": [
        "tf.metrics.mean_absolute_error(y_test,np.squeeze(model.predict(X_test)))"
      ],
      "metadata": {
        "colab": {
          "base_uri": "https://localhost:8080/"
        },
        "id": "llPFYzEBKfWU",
        "outputId": "1e1dc8e0-4081-4aa1-b14e-e7ca26dbd383"
      },
      "execution_count": null,
      "outputs": [
        {
          "output_type": "execute_result",
          "data": {
            "text/plain": [
              "<tf.Tensor: shape=(), dtype=float32, numpy=0.66913795>"
            ]
          },
          "metadata": {},
          "execution_count": 27
        }
      ]
    },
    {
      "cell_type": "code",
      "source": [
        "tf.metrics.mean_absolute_percentage_error(y_test,np.squeeze(model.predict(X_test)))"
      ],
      "metadata": {
        "colab": {
          "base_uri": "https://localhost:8080/"
        },
        "id": "kQrz9iFlMkgp",
        "outputId": "971b28a5-047d-46ea-b178-2048d5634f0d"
      },
      "execution_count": null,
      "outputs": [
        {
          "output_type": "execute_result",
          "data": {
            "text/plain": [
              "<tf.Tensor: shape=(), dtype=float32, numpy=1.6982>"
            ]
          },
          "metadata": {},
          "execution_count": 28
        }
      ]
    },
    {
      "cell_type": "code",
      "source": [
        "model2 = tf.keras.Sequential([  \n",
        "                            tf.keras.layers.Dense(10),\n",
        "                            tf.keras.layers.Dense(10),\n",
        "                            tf.keras.layers.Dense(10),\n",
        "                            tf.keras.layers.Dense(1)                          \n",
        "])\n",
        "\n",
        "model2.compile(loss = tf.keras.losses.MSE,\n",
        "               optimizer = tf.keras.optimizers.Adam(),\n",
        "               metrics = ['mse'])\n",
        "\n",
        "model2.fit(X_train,y_train,epochs=200)"
      ],
      "metadata": {
        "colab": {
          "base_uri": "https://localhost:8080/"
        },
        "id": "f7uvhGQaMoZ5",
        "outputId": "40282dd0-6d1e-4651-f59e-83fdd0a5dee0"
      },
      "execution_count": null,
      "outputs": [
        {
          "output_type": "stream",
          "name": "stdout",
          "text": [
            "Epoch 1/200\n",
            "1/1 [==============================] - 0s 469ms/step - loss: 6.3774 - mse: 6.3774\n",
            "Epoch 2/200\n",
            "1/1 [==============================] - 0s 8ms/step - loss: 9.2443 - mse: 9.2443\n",
            "Epoch 3/200\n",
            "1/1 [==============================] - 0s 9ms/step - loss: 6.4660 - mse: 6.4660\n",
            "Epoch 4/200\n",
            "1/1 [==============================] - 0s 9ms/step - loss: 6.9439 - mse: 6.9439\n",
            "Epoch 5/200\n",
            "1/1 [==============================] - 0s 9ms/step - loss: 7.9457 - mse: 7.9457\n",
            "Epoch 6/200\n",
            "1/1 [==============================] - 0s 6ms/step - loss: 7.4359 - mse: 7.4359\n",
            "Epoch 7/200\n",
            "1/1 [==============================] - 0s 7ms/step - loss: 6.4884 - mse: 6.4884\n",
            "Epoch 8/200\n",
            "1/1 [==============================] - 0s 8ms/step - loss: 6.1423 - mse: 6.1423\n",
            "Epoch 9/200\n",
            "1/1 [==============================] - 0s 10ms/step - loss: 6.5001 - mse: 6.5001\n",
            "Epoch 10/200\n",
            "1/1 [==============================] - 0s 9ms/step - loss: 6.8841 - mse: 6.8841\n",
            "Epoch 11/200\n",
            "1/1 [==============================] - 0s 6ms/step - loss: 6.7864 - mse: 6.7864\n",
            "Epoch 12/200\n",
            "1/1 [==============================] - 0s 17ms/step - loss: 6.3507 - mse: 6.3507\n",
            "Epoch 13/200\n",
            "1/1 [==============================] - 0s 11ms/step - loss: 5.9994 - mse: 5.9994\n",
            "Epoch 14/200\n",
            "1/1 [==============================] - 0s 7ms/step - loss: 5.9829 - mse: 5.9829\n",
            "Epoch 15/200\n",
            "1/1 [==============================] - 0s 6ms/step - loss: 6.1907 - mse: 6.1907\n",
            "Epoch 16/200\n",
            "1/1 [==============================] - 0s 6ms/step - loss: 6.3163 - mse: 6.3163\n",
            "Epoch 17/200\n",
            "1/1 [==============================] - 0s 9ms/step - loss: 6.1999 - mse: 6.1999\n",
            "Epoch 18/200\n",
            "1/1 [==============================] - 0s 7ms/step - loss: 5.9471 - mse: 5.9471\n",
            "Epoch 19/200\n",
            "1/1 [==============================] - 0s 8ms/step - loss: 5.7687 - mse: 5.7687\n",
            "Epoch 20/200\n",
            "1/1 [==============================] - 0s 9ms/step - loss: 5.7690 - mse: 5.7690\n",
            "Epoch 21/200\n",
            "1/1 [==============================] - 0s 9ms/step - loss: 5.8680 - mse: 5.8680\n",
            "Epoch 22/200\n",
            "1/1 [==============================] - 0s 9ms/step - loss: 5.9056 - mse: 5.9056\n",
            "Epoch 23/200\n",
            "1/1 [==============================] - 0s 10ms/step - loss: 5.8113 - mse: 5.8113\n",
            "Epoch 24/200\n",
            "1/1 [==============================] - 0s 10ms/step - loss: 5.6554 - mse: 5.6554\n",
            "Epoch 25/200\n",
            "1/1 [==============================] - 0s 9ms/step - loss: 5.5555 - mse: 5.5555\n",
            "Epoch 26/200\n",
            "1/1 [==============================] - 0s 16ms/step - loss: 5.5570 - mse: 5.5570\n",
            "Epoch 27/200\n",
            "1/1 [==============================] - 0s 9ms/step - loss: 5.5992 - mse: 5.5992\n",
            "Epoch 28/200\n",
            "1/1 [==============================] - 0s 10ms/step - loss: 5.5913 - mse: 5.5913\n",
            "Epoch 29/200\n",
            "1/1 [==============================] - 0s 11ms/step - loss: 5.5089 - mse: 5.5089\n",
            "Epoch 30/200\n",
            "1/1 [==============================] - 0s 9ms/step - loss: 5.4072 - mse: 5.4072\n",
            "Epoch 31/200\n",
            "1/1 [==============================] - 0s 12ms/step - loss: 5.3522 - mse: 5.3522\n",
            "Epoch 32/200\n",
            "1/1 [==============================] - 0s 10ms/step - loss: 5.3522 - mse: 5.3522\n",
            "Epoch 33/200\n",
            "1/1 [==============================] - 0s 8ms/step - loss: 5.3577 - mse: 5.3577\n",
            "Epoch 34/200\n",
            "1/1 [==============================] - 0s 10ms/step - loss: 5.3220 - mse: 5.3220\n",
            "Epoch 35/200\n",
            "1/1 [==============================] - 0s 8ms/step - loss: 5.2503 - mse: 5.2503\n",
            "Epoch 36/200\n",
            "1/1 [==============================] - 0s 18ms/step - loss: 5.1855 - mse: 5.1855\n",
            "Epoch 37/200\n",
            "1/1 [==============================] - 0s 8ms/step - loss: 5.1569 - mse: 5.1569\n",
            "Epoch 38/200\n",
            "1/1 [==============================] - 0s 9ms/step - loss: 5.1500 - mse: 5.1500\n",
            "Epoch 39/200\n",
            "1/1 [==============================] - 0s 9ms/step - loss: 5.1294 - mse: 5.1294\n",
            "Epoch 40/200\n",
            "1/1 [==============================] - 0s 12ms/step - loss: 5.0807 - mse: 5.0807\n",
            "Epoch 41/200\n",
            "1/1 [==============================] - 0s 9ms/step - loss: 5.0239 - mse: 5.0239\n",
            "Epoch 42/200\n",
            "1/1 [==============================] - 0s 9ms/step - loss: 4.9848 - mse: 4.9848\n",
            "Epoch 43/200\n",
            "1/1 [==============================] - 0s 15ms/step - loss: 4.9654 - mse: 4.9654\n",
            "Epoch 44/200\n",
            "1/1 [==============================] - 0s 14ms/step - loss: 4.9450 - mse: 4.9450\n",
            "Epoch 45/200\n",
            "1/1 [==============================] - 0s 13ms/step - loss: 4.9077 - mse: 4.9077\n",
            "Epoch 46/200\n",
            "1/1 [==============================] - 0s 11ms/step - loss: 4.8603 - mse: 4.8603\n",
            "Epoch 47/200\n",
            "1/1 [==============================] - 0s 10ms/step - loss: 4.8208 - mse: 4.8208\n",
            "Epoch 48/200\n",
            "1/1 [==============================] - 0s 15ms/step - loss: 4.7949 - mse: 4.7949\n",
            "Epoch 49/200\n",
            "1/1 [==============================] - 0s 8ms/step - loss: 4.7715 - mse: 4.7715\n",
            "Epoch 50/200\n",
            "1/1 [==============================] - 0s 9ms/step - loss: 4.7384 - mse: 4.7384\n",
            "Epoch 51/200\n",
            "1/1 [==============================] - 0s 11ms/step - loss: 4.6974 - mse: 4.6974\n",
            "Epoch 52/200\n",
            "1/1 [==============================] - 0s 8ms/step - loss: 4.6602 - mse: 4.6602\n",
            "Epoch 53/200\n",
            "1/1 [==============================] - 0s 9ms/step - loss: 4.6318 - mse: 4.6318\n",
            "Epoch 54/200\n",
            "1/1 [==============================] - 0s 7ms/step - loss: 4.6057 - mse: 4.6057\n",
            "Epoch 55/200\n",
            "1/1 [==============================] - 0s 11ms/step - loss: 4.5737 - mse: 4.5737\n",
            "Epoch 56/200\n",
            "1/1 [==============================] - 0s 7ms/step - loss: 4.5367 - mse: 4.5367\n",
            "Epoch 57/200\n",
            "1/1 [==============================] - 0s 7ms/step - loss: 4.5022 - mse: 4.5022\n",
            "Epoch 58/200\n",
            "1/1 [==============================] - 0s 12ms/step - loss: 4.4733 - mse: 4.4733\n",
            "Epoch 59/200\n",
            "1/1 [==============================] - 0s 10ms/step - loss: 4.4455 - mse: 4.4455\n",
            "Epoch 60/200\n",
            "1/1 [==============================] - 0s 7ms/step - loss: 4.4138 - mse: 4.4138\n",
            "Epoch 61/200\n",
            "1/1 [==============================] - 0s 12ms/step - loss: 4.3794 - mse: 4.3794\n",
            "Epoch 62/200\n",
            "1/1 [==============================] - 0s 7ms/step - loss: 4.3470 - mse: 4.3470\n",
            "Epoch 63/200\n",
            "1/1 [==============================] - 0s 7ms/step - loss: 4.3181 - mse: 4.3181\n",
            "Epoch 64/200\n",
            "1/1 [==============================] - 0s 8ms/step - loss: 4.2893 - mse: 4.2893\n",
            "Epoch 65/200\n",
            "1/1 [==============================] - 0s 18ms/step - loss: 4.2579 - mse: 4.2579\n",
            "Epoch 66/200\n",
            "1/1 [==============================] - 0s 7ms/step - loss: 4.2253 - mse: 4.2253\n",
            "Epoch 67/200\n",
            "1/1 [==============================] - 0s 11ms/step - loss: 4.1947 - mse: 4.1947\n",
            "Epoch 68/200\n",
            "1/1 [==============================] - 0s 12ms/step - loss: 4.1659 - mse: 4.1659\n",
            "Epoch 69/200\n",
            "1/1 [==============================] - 0s 7ms/step - loss: 4.1366 - mse: 4.1366\n",
            "Epoch 70/200\n",
            "1/1 [==============================] - 0s 7ms/step - loss: 4.1056 - mse: 4.1056\n",
            "Epoch 71/200\n",
            "1/1 [==============================] - 0s 7ms/step - loss: 4.0746 - mse: 4.0746\n",
            "Epoch 72/200\n",
            "1/1 [==============================] - 0s 13ms/step - loss: 4.0452 - mse: 4.0452\n",
            "Epoch 73/200\n",
            "1/1 [==============================] - 0s 7ms/step - loss: 4.0165 - mse: 4.0165\n",
            "Epoch 74/200\n",
            "1/1 [==============================] - 0s 7ms/step - loss: 3.9870 - mse: 3.9870\n",
            "Epoch 75/200\n",
            "1/1 [==============================] - 0s 7ms/step - loss: 3.9567 - mse: 3.9567\n",
            "Epoch 76/200\n",
            "1/1 [==============================] - 0s 8ms/step - loss: 3.9270 - mse: 3.9270\n",
            "Epoch 77/200\n",
            "1/1 [==============================] - 0s 11ms/step - loss: 3.8983 - mse: 3.8983\n",
            "Epoch 78/200\n",
            "1/1 [==============================] - 0s 7ms/step - loss: 3.8697 - mse: 3.8697\n",
            "Epoch 79/200\n",
            "1/1 [==============================] - 0s 10ms/step - loss: 3.8404 - mse: 3.8404\n",
            "Epoch 80/200\n",
            "1/1 [==============================] - 0s 9ms/step - loss: 3.8110 - mse: 3.8110\n",
            "Epoch 81/200\n",
            "1/1 [==============================] - 0s 9ms/step - loss: 3.7823 - mse: 3.7823\n",
            "Epoch 82/200\n",
            "1/1 [==============================] - 0s 9ms/step - loss: 3.7541 - mse: 3.7541\n",
            "Epoch 83/200\n",
            "1/1 [==============================] - 0s 10ms/step - loss: 3.7255 - mse: 3.7255\n",
            "Epoch 84/200\n",
            "1/1 [==============================] - 0s 13ms/step - loss: 3.6967 - mse: 3.6967\n",
            "Epoch 85/200\n",
            "1/1 [==============================] - 0s 8ms/step - loss: 3.6683 - mse: 3.6683\n",
            "Epoch 86/200\n",
            "1/1 [==============================] - 0s 18ms/step - loss: 3.6403 - mse: 3.6403\n",
            "Epoch 87/200\n",
            "1/1 [==============================] - 0s 14ms/step - loss: 3.6123 - mse: 3.6123\n",
            "Epoch 88/200\n",
            "1/1 [==============================] - 0s 12ms/step - loss: 3.5841 - mse: 3.5841\n",
            "Epoch 89/200\n",
            "1/1 [==============================] - 0s 20ms/step - loss: 3.5560 - mse: 3.5560\n",
            "Epoch 90/200\n",
            "1/1 [==============================] - 0s 8ms/step - loss: 3.5283 - mse: 3.5283\n",
            "Epoch 91/200\n",
            "1/1 [==============================] - 0s 7ms/step - loss: 3.5007 - mse: 3.5007\n",
            "Epoch 92/200\n",
            "1/1 [==============================] - 0s 6ms/step - loss: 3.4731 - mse: 3.4731\n",
            "Epoch 93/200\n",
            "1/1 [==============================] - 0s 6ms/step - loss: 3.4455 - mse: 3.4455\n",
            "Epoch 94/200\n",
            "1/1 [==============================] - 0s 6ms/step - loss: 3.4181 - mse: 3.4181\n",
            "Epoch 95/200\n",
            "1/1 [==============================] - 0s 6ms/step - loss: 3.3909 - mse: 3.3909\n",
            "Epoch 96/200\n",
            "1/1 [==============================] - 0s 7ms/step - loss: 3.3637 - mse: 3.3637\n",
            "Epoch 97/200\n",
            "1/1 [==============================] - 0s 7ms/step - loss: 3.3365 - mse: 3.3365\n",
            "Epoch 98/200\n",
            "1/1 [==============================] - 0s 7ms/step - loss: 3.3095 - mse: 3.3095\n",
            "Epoch 99/200\n",
            "1/1 [==============================] - 0s 8ms/step - loss: 3.2827 - mse: 3.2827\n",
            "Epoch 100/200\n",
            "1/1 [==============================] - 0s 6ms/step - loss: 3.2560 - mse: 3.2560\n",
            "Epoch 101/200\n",
            "1/1 [==============================] - 0s 7ms/step - loss: 3.2292 - mse: 3.2292\n",
            "Epoch 102/200\n",
            "1/1 [==============================] - 0s 6ms/step - loss: 3.2026 - mse: 3.2026\n",
            "Epoch 103/200\n",
            "1/1 [==============================] - 0s 7ms/step - loss: 3.1762 - mse: 3.1762\n",
            "Epoch 104/200\n",
            "1/1 [==============================] - 0s 7ms/step - loss: 3.1498 - mse: 3.1498\n",
            "Epoch 105/200\n",
            "1/1 [==============================] - 0s 7ms/step - loss: 3.1235 - mse: 3.1235\n",
            "Epoch 106/200\n",
            "1/1 [==============================] - 0s 6ms/step - loss: 3.0973 - mse: 3.0973\n",
            "Epoch 107/200\n",
            "1/1 [==============================] - 0s 6ms/step - loss: 3.0713 - mse: 3.0713\n",
            "Epoch 108/200\n",
            "1/1 [==============================] - 0s 6ms/step - loss: 3.0453 - mse: 3.0453\n",
            "Epoch 109/200\n",
            "1/1 [==============================] - 0s 6ms/step - loss: 3.0194 - mse: 3.0194\n",
            "Epoch 110/200\n",
            "1/1 [==============================] - 0s 6ms/step - loss: 2.9936 - mse: 2.9936\n",
            "Epoch 111/200\n",
            "1/1 [==============================] - 0s 6ms/step - loss: 2.9680 - mse: 2.9680\n",
            "Epoch 112/200\n",
            "1/1 [==============================] - 0s 6ms/step - loss: 2.9424 - mse: 2.9424\n",
            "Epoch 113/200\n",
            "1/1 [==============================] - 0s 7ms/step - loss: 2.9169 - mse: 2.9169\n",
            "Epoch 114/200\n",
            "1/1 [==============================] - 0s 6ms/step - loss: 2.8915 - mse: 2.8915\n",
            "Epoch 115/200\n",
            "1/1 [==============================] - 0s 6ms/step - loss: 2.8662 - mse: 2.8662\n",
            "Epoch 116/200\n",
            "1/1 [==============================] - 0s 6ms/step - loss: 2.8410 - mse: 2.8410\n",
            "Epoch 117/200\n",
            "1/1 [==============================] - 0s 6ms/step - loss: 2.8160 - mse: 2.8160\n",
            "Epoch 118/200\n",
            "1/1 [==============================] - 0s 6ms/step - loss: 2.7910 - mse: 2.7910\n",
            "Epoch 119/200\n",
            "1/1 [==============================] - 0s 6ms/step - loss: 2.7661 - mse: 2.7661\n",
            "Epoch 120/200\n",
            "1/1 [==============================] - 0s 6ms/step - loss: 2.7413 - mse: 2.7413\n",
            "Epoch 121/200\n",
            "1/1 [==============================] - 0s 6ms/step - loss: 2.7166 - mse: 2.7166\n",
            "Epoch 122/200\n",
            "1/1 [==============================] - 0s 6ms/step - loss: 2.6920 - mse: 2.6920\n",
            "Epoch 123/200\n",
            "1/1 [==============================] - 0s 6ms/step - loss: 2.6675 - mse: 2.6675\n",
            "Epoch 124/200\n",
            "1/1 [==============================] - 0s 6ms/step - loss: 2.6431 - mse: 2.6431\n",
            "Epoch 125/200\n",
            "1/1 [==============================] - 0s 5ms/step - loss: 2.6188 - mse: 2.6188\n",
            "Epoch 126/200\n",
            "1/1 [==============================] - 0s 7ms/step - loss: 2.5946 - mse: 2.5946\n",
            "Epoch 127/200\n",
            "1/1 [==============================] - 0s 6ms/step - loss: 2.5705 - mse: 2.5705\n",
            "Epoch 128/200\n",
            "1/1 [==============================] - 0s 10ms/step - loss: 2.5464 - mse: 2.5464\n",
            "Epoch 129/200\n",
            "1/1 [==============================] - 0s 6ms/step - loss: 2.5225 - mse: 2.5225\n",
            "Epoch 130/200\n",
            "1/1 [==============================] - 0s 7ms/step - loss: 2.4987 - mse: 2.4987\n",
            "Epoch 131/200\n",
            "1/1 [==============================] - 0s 7ms/step - loss: 2.4750 - mse: 2.4750\n",
            "Epoch 132/200\n",
            "1/1 [==============================] - 0s 9ms/step - loss: 2.4514 - mse: 2.4514\n",
            "Epoch 133/200\n",
            "1/1 [==============================] - 0s 7ms/step - loss: 2.4279 - mse: 2.4279\n",
            "Epoch 134/200\n",
            "1/1 [==============================] - 0s 7ms/step - loss: 2.4044 - mse: 2.4044\n",
            "Epoch 135/200\n",
            "1/1 [==============================] - 0s 10ms/step - loss: 2.3811 - mse: 2.3811\n",
            "Epoch 136/200\n",
            "1/1 [==============================] - 0s 13ms/step - loss: 2.3579 - mse: 2.3579\n",
            "Epoch 137/200\n",
            "1/1 [==============================] - 0s 11ms/step - loss: 2.3347 - mse: 2.3347\n",
            "Epoch 138/200\n",
            "1/1 [==============================] - 0s 8ms/step - loss: 2.3117 - mse: 2.3117\n",
            "Epoch 139/200\n",
            "1/1 [==============================] - 0s 11ms/step - loss: 2.2888 - mse: 2.2888\n",
            "Epoch 140/200\n",
            "1/1 [==============================] - 0s 7ms/step - loss: 2.2660 - mse: 2.2660\n",
            "Epoch 141/200\n",
            "1/1 [==============================] - 0s 15ms/step - loss: 2.2432 - mse: 2.2432\n",
            "Epoch 142/200\n",
            "1/1 [==============================] - 0s 11ms/step - loss: 2.2206 - mse: 2.2206\n",
            "Epoch 143/200\n",
            "1/1 [==============================] - 0s 11ms/step - loss: 2.1981 - mse: 2.1981\n",
            "Epoch 144/200\n",
            "1/1 [==============================] - 0s 8ms/step - loss: 2.1756 - mse: 2.1756\n",
            "Epoch 145/200\n",
            "1/1 [==============================] - 0s 10ms/step - loss: 2.1533 - mse: 2.1533\n",
            "Epoch 146/200\n",
            "1/1 [==============================] - 0s 7ms/step - loss: 2.1311 - mse: 2.1311\n",
            "Epoch 147/200\n",
            "1/1 [==============================] - 0s 8ms/step - loss: 2.1089 - mse: 2.1089\n",
            "Epoch 148/200\n",
            "1/1 [==============================] - 0s 8ms/step - loss: 2.0869 - mse: 2.0869\n",
            "Epoch 149/200\n",
            "1/1 [==============================] - 0s 24ms/step - loss: 2.0650 - mse: 2.0650\n",
            "Epoch 150/200\n",
            "1/1 [==============================] - 0s 12ms/step - loss: 2.0431 - mse: 2.0431\n",
            "Epoch 151/200\n",
            "1/1 [==============================] - 0s 13ms/step - loss: 2.0214 - mse: 2.0214\n",
            "Epoch 152/200\n",
            "1/1 [==============================] - 0s 12ms/step - loss: 1.9998 - mse: 1.9998\n",
            "Epoch 153/200\n",
            "1/1 [==============================] - 0s 14ms/step - loss: 1.9783 - mse: 1.9783\n",
            "Epoch 154/200\n",
            "1/1 [==============================] - 0s 18ms/step - loss: 1.9569 - mse: 1.9569\n",
            "Epoch 155/200\n",
            "1/1 [==============================] - 0s 7ms/step - loss: 1.9355 - mse: 1.9355\n",
            "Epoch 156/200\n",
            "1/1 [==============================] - 0s 8ms/step - loss: 1.9143 - mse: 1.9143\n",
            "Epoch 157/200\n",
            "1/1 [==============================] - 0s 6ms/step - loss: 1.8932 - mse: 1.8932\n",
            "Epoch 158/200\n",
            "1/1 [==============================] - 0s 14ms/step - loss: 1.8722 - mse: 1.8722\n",
            "Epoch 159/200\n",
            "1/1 [==============================] - 0s 7ms/step - loss: 1.8513 - mse: 1.8513\n",
            "Epoch 160/200\n",
            "1/1 [==============================] - 0s 7ms/step - loss: 1.8305 - mse: 1.8305\n",
            "Epoch 161/200\n",
            "1/1 [==============================] - 0s 6ms/step - loss: 1.8098 - mse: 1.8098\n",
            "Epoch 162/200\n",
            "1/1 [==============================] - 0s 9ms/step - loss: 1.7893 - mse: 1.7893\n",
            "Epoch 163/200\n",
            "1/1 [==============================] - 0s 8ms/step - loss: 1.7688 - mse: 1.7688\n",
            "Epoch 164/200\n",
            "1/1 [==============================] - 0s 6ms/step - loss: 1.7484 - mse: 1.7484\n",
            "Epoch 165/200\n",
            "1/1 [==============================] - 0s 9ms/step - loss: 1.7281 - mse: 1.7281\n",
            "Epoch 166/200\n",
            "1/1 [==============================] - 0s 6ms/step - loss: 1.7080 - mse: 1.7080\n",
            "Epoch 167/200\n",
            "1/1 [==============================] - 0s 10ms/step - loss: 1.6880 - mse: 1.6880\n",
            "Epoch 168/200\n",
            "1/1 [==============================] - 0s 7ms/step - loss: 1.6680 - mse: 1.6680\n",
            "Epoch 169/200\n",
            "1/1 [==============================] - 0s 16ms/step - loss: 1.6482 - mse: 1.6482\n",
            "Epoch 170/200\n",
            "1/1 [==============================] - 0s 9ms/step - loss: 1.6285 - mse: 1.6285\n",
            "Epoch 171/200\n",
            "1/1 [==============================] - 0s 7ms/step - loss: 1.6089 - mse: 1.6089\n",
            "Epoch 172/200\n",
            "1/1 [==============================] - 0s 7ms/step - loss: 1.5894 - mse: 1.5894\n",
            "Epoch 173/200\n",
            "1/1 [==============================] - 0s 8ms/step - loss: 1.5700 - mse: 1.5700\n",
            "Epoch 174/200\n",
            "1/1 [==============================] - 0s 7ms/step - loss: 1.5507 - mse: 1.5507\n",
            "Epoch 175/200\n",
            "1/1 [==============================] - 0s 18ms/step - loss: 1.5316 - mse: 1.5316\n",
            "Epoch 176/200\n",
            "1/1 [==============================] - 0s 8ms/step - loss: 1.5125 - mse: 1.5125\n",
            "Epoch 177/200\n",
            "1/1 [==============================] - 0s 12ms/step - loss: 1.4936 - mse: 1.4936\n",
            "Epoch 178/200\n",
            "1/1 [==============================] - 0s 9ms/step - loss: 1.4748 - mse: 1.4748\n",
            "Epoch 179/200\n",
            "1/1 [==============================] - 0s 12ms/step - loss: 1.4560 - mse: 1.4560\n",
            "Epoch 180/200\n",
            "1/1 [==============================] - 0s 9ms/step - loss: 1.4375 - mse: 1.4375\n",
            "Epoch 181/200\n",
            "1/1 [==============================] - 0s 8ms/step - loss: 1.4190 - mse: 1.4190\n",
            "Epoch 182/200\n",
            "1/1 [==============================] - 0s 9ms/step - loss: 1.4006 - mse: 1.4006\n",
            "Epoch 183/200\n",
            "1/1 [==============================] - 0s 13ms/step - loss: 1.3824 - mse: 1.3824\n",
            "Epoch 184/200\n",
            "1/1 [==============================] - 0s 14ms/step - loss: 1.3642 - mse: 1.3642\n",
            "Epoch 185/200\n",
            "1/1 [==============================] - 0s 12ms/step - loss: 1.3462 - mse: 1.3462\n",
            "Epoch 186/200\n",
            "1/1 [==============================] - 0s 10ms/step - loss: 1.3283 - mse: 1.3283\n",
            "Epoch 187/200\n",
            "1/1 [==============================] - 0s 12ms/step - loss: 1.3106 - mse: 1.3106\n",
            "Epoch 188/200\n",
            "1/1 [==============================] - 0s 9ms/step - loss: 1.2929 - mse: 1.2929\n",
            "Epoch 189/200\n",
            "1/1 [==============================] - 0s 14ms/step - loss: 1.2754 - mse: 1.2754\n",
            "Epoch 190/200\n",
            "1/1 [==============================] - 0s 8ms/step - loss: 1.2580 - mse: 1.2580\n",
            "Epoch 191/200\n",
            "1/1 [==============================] - 0s 11ms/step - loss: 1.2407 - mse: 1.2407\n",
            "Epoch 192/200\n",
            "1/1 [==============================] - 0s 10ms/step - loss: 1.2235 - mse: 1.2235\n",
            "Epoch 193/200\n",
            "1/1 [==============================] - 0s 8ms/step - loss: 1.2065 - mse: 1.2065\n",
            "Epoch 194/200\n",
            "1/1 [==============================] - 0s 10ms/step - loss: 1.1895 - mse: 1.1895\n",
            "Epoch 195/200\n",
            "1/1 [==============================] - 0s 11ms/step - loss: 1.1727 - mse: 1.1727\n",
            "Epoch 196/200\n",
            "1/1 [==============================] - 0s 14ms/step - loss: 1.1561 - mse: 1.1561\n",
            "Epoch 197/200\n",
            "1/1 [==============================] - 0s 17ms/step - loss: 1.1395 - mse: 1.1395\n",
            "Epoch 198/200\n",
            "1/1 [==============================] - 0s 9ms/step - loss: 1.1231 - mse: 1.1231\n",
            "Epoch 199/200\n",
            "1/1 [==============================] - 0s 10ms/step - loss: 1.1068 - mse: 1.1068\n",
            "Epoch 200/200\n",
            "1/1 [==============================] - 0s 17ms/step - loss: 1.0906 - mse: 1.0906\n"
          ]
        },
        {
          "output_type": "execute_result",
          "data": {
            "text/plain": [
              "<keras.callbacks.History at 0x7f72ffdce110>"
            ]
          },
          "metadata": {},
          "execution_count": 29
        }
      ]
    },
    {
      "cell_type": "code",
      "source": [
        "np.squeeze(model2.predict(X_train))"
      ],
      "metadata": {
        "colab": {
          "base_uri": "https://localhost:8080/"
        },
        "id": "a2S8LkNhMyVR",
        "outputId": "aec5b269-4a7d-481c-c991-c2bd7a371792"
      },
      "execution_count": null,
      "outputs": [
        {
          "output_type": "execute_result",
          "data": {
            "text/plain": [
              "array([50.447304 , 12.447468 , 59.947258 , 15.614119 , 37.780697 ,\n",
              "       40.947346 ,  6.1141634, 44.114002 , 25.11408  , 56.780624 ,\n",
              "       31.44739  , 18.780777 , 53.613968 , 21.947426 ,  9.280815 ,\n",
              "       28.280733 ], dtype=float32)"
            ]
          },
          "metadata": {},
          "execution_count": 30
        }
      ]
    },
    {
      "cell_type": "code",
      "source": [
        "model2.evaluate(X_test,y_test)"
      ],
      "metadata": {
        "colab": {
          "base_uri": "https://localhost:8080/"
        },
        "id": "XHQMExQcgFyZ",
        "outputId": "f647fee5-58d5-4055-ab22-5bd65aa956cd"
      },
      "execution_count": null,
      "outputs": [
        {
          "output_type": "stream",
          "name": "stdout",
          "text": [
            "1/1 [==============================] - 0s 178ms/step - loss: 0.1139 - mse: 0.1139\n"
          ]
        },
        {
          "output_type": "execute_result",
          "data": {
            "text/plain": [
              "[0.11386279761791229, 0.11386279761791229]"
            ]
          },
          "metadata": {},
          "execution_count": 31
        }
      ]
    },
    {
      "cell_type": "code",
      "source": [
        "model2.save('mymodel')"
      ],
      "metadata": {
        "colab": {
          "base_uri": "https://localhost:8080/"
        },
        "id": "4gs9Is-ggRoY",
        "outputId": "0d0fccff-3410-408a-8198-137e247627ca"
      },
      "execution_count": null,
      "outputs": [
        {
          "output_type": "stream",
          "name": "stdout",
          "text": [
            "INFO:tensorflow:Assets written to: mymodel/assets\n"
          ]
        }
      ]
    },
    {
      "cell_type": "code",
      "source": [
        "model2.save('mymodel.h5')"
      ],
      "metadata": {
        "id": "y4cCHX-vnwCk"
      },
      "execution_count": null,
      "outputs": []
    },
    {
      "cell_type": "code",
      "source": [
        ""
      ],
      "metadata": {
        "id": "YAbiaJyjpN87"
      },
      "execution_count": null,
      "outputs": []
    },
    {
      "cell_type": "code",
      "source": [
        "loadedsavemodel = tf.keras.models.load_model('mymodel')"
      ],
      "metadata": {
        "id": "mDBa3_6Jpq-x"
      },
      "execution_count": null,
      "outputs": []
    },
    {
      "cell_type": "code",
      "source": [
        "loadedsavemodel.summary()"
      ],
      "metadata": {
        "colab": {
          "base_uri": "https://localhost:8080/"
        },
        "id": "EBjDZVXrqnrK",
        "outputId": "338a9d12-a67a-49a6-b064-8fa26deeda71"
      },
      "execution_count": null,
      "outputs": [
        {
          "output_type": "stream",
          "name": "stdout",
          "text": [
            "Model: \"sequential_2\"\n",
            "_________________________________________________________________\n",
            " Layer (type)                Output Shape              Param #   \n",
            "=================================================================\n",
            " dense_6 (Dense)             (None, 10)                20        \n",
            "                                                                 \n",
            " dense_7 (Dense)             (None, 10)                110       \n",
            "                                                                 \n",
            " dense_8 (Dense)             (None, 10)                110       \n",
            "                                                                 \n",
            " dense_9 (Dense)             (None, 1)                 11        \n",
            "                                                                 \n",
            "=================================================================\n",
            "Total params: 251\n",
            "Trainable params: 251\n",
            "Non-trainable params: 0\n",
            "_________________________________________________________________\n"
          ]
        }
      ]
    },
    {
      "cell_type": "code",
      "source": [
        "loadedh5model = tf.keras.models.load_model('mymodel.h5')"
      ],
      "metadata": {
        "id": "dBkHGiqEqtQ_"
      },
      "execution_count": null,
      "outputs": []
    },
    {
      "cell_type": "code",
      "source": [
        "loadedh5model.summary()"
      ],
      "metadata": {
        "id": "1z1Yn4kprPk_",
        "outputId": "f2c4addc-020f-42d7-bd0a-60831c2a1f74",
        "colab": {
          "base_uri": "https://localhost:8080/"
        }
      },
      "execution_count": null,
      "outputs": [
        {
          "output_type": "stream",
          "name": "stdout",
          "text": [
            "Model: \"sequential_2\"\n",
            "_________________________________________________________________\n",
            " Layer (type)                Output Shape              Param #   \n",
            "=================================================================\n",
            " dense_6 (Dense)             (None, 10)                20        \n",
            "                                                                 \n",
            " dense_7 (Dense)             (None, 10)                110       \n",
            "                                                                 \n",
            " dense_8 (Dense)             (None, 10)                110       \n",
            "                                                                 \n",
            " dense_9 (Dense)             (None, 1)                 11        \n",
            "                                                                 \n",
            "=================================================================\n",
            "Total params: 251\n",
            "Trainable params: 251\n",
            "Non-trainable params: 0\n",
            "_________________________________________________________________\n"
          ]
        }
      ]
    },
    {
      "cell_type": "code",
      "source": [
        "data = pd.read_csv('https://raw.githubusercontent.com/stedy/Machine-Learning-with-R-datasets/master/insurance.csv')"
      ],
      "metadata": {
        "id": "s7LlFkFPrTlo"
      },
      "execution_count": 4,
      "outputs": []
    },
    {
      "cell_type": "code",
      "source": [
        "data"
      ],
      "metadata": {
        "colab": {
          "base_uri": "https://localhost:8080/",
          "height": 423
        },
        "id": "KZMrYa4W6RL1",
        "outputId": "d18e4efe-b4eb-4b79-d450-487565ad1f05"
      },
      "execution_count": 5,
      "outputs": [
        {
          "output_type": "execute_result",
          "data": {
            "text/html": [
              "\n",
              "  <div id=\"df-a0f9631c-81bc-4a6f-a267-2725b5b902d2\">\n",
              "    <div class=\"colab-df-container\">\n",
              "      <div>\n",
              "<style scoped>\n",
              "    .dataframe tbody tr th:only-of-type {\n",
              "        vertical-align: middle;\n",
              "    }\n",
              "\n",
              "    .dataframe tbody tr th {\n",
              "        vertical-align: top;\n",
              "    }\n",
              "\n",
              "    .dataframe thead th {\n",
              "        text-align: right;\n",
              "    }\n",
              "</style>\n",
              "<table border=\"1\" class=\"dataframe\">\n",
              "  <thead>\n",
              "    <tr style=\"text-align: right;\">\n",
              "      <th></th>\n",
              "      <th>age</th>\n",
              "      <th>sex</th>\n",
              "      <th>bmi</th>\n",
              "      <th>children</th>\n",
              "      <th>smoker</th>\n",
              "      <th>region</th>\n",
              "      <th>charges</th>\n",
              "    </tr>\n",
              "  </thead>\n",
              "  <tbody>\n",
              "    <tr>\n",
              "      <th>0</th>\n",
              "      <td>19</td>\n",
              "      <td>female</td>\n",
              "      <td>27.900</td>\n",
              "      <td>0</td>\n",
              "      <td>yes</td>\n",
              "      <td>southwest</td>\n",
              "      <td>16884.92400</td>\n",
              "    </tr>\n",
              "    <tr>\n",
              "      <th>1</th>\n",
              "      <td>18</td>\n",
              "      <td>male</td>\n",
              "      <td>33.770</td>\n",
              "      <td>1</td>\n",
              "      <td>no</td>\n",
              "      <td>southeast</td>\n",
              "      <td>1725.55230</td>\n",
              "    </tr>\n",
              "    <tr>\n",
              "      <th>2</th>\n",
              "      <td>28</td>\n",
              "      <td>male</td>\n",
              "      <td>33.000</td>\n",
              "      <td>3</td>\n",
              "      <td>no</td>\n",
              "      <td>southeast</td>\n",
              "      <td>4449.46200</td>\n",
              "    </tr>\n",
              "    <tr>\n",
              "      <th>3</th>\n",
              "      <td>33</td>\n",
              "      <td>male</td>\n",
              "      <td>22.705</td>\n",
              "      <td>0</td>\n",
              "      <td>no</td>\n",
              "      <td>northwest</td>\n",
              "      <td>21984.47061</td>\n",
              "    </tr>\n",
              "    <tr>\n",
              "      <th>4</th>\n",
              "      <td>32</td>\n",
              "      <td>male</td>\n",
              "      <td>28.880</td>\n",
              "      <td>0</td>\n",
              "      <td>no</td>\n",
              "      <td>northwest</td>\n",
              "      <td>3866.85520</td>\n",
              "    </tr>\n",
              "    <tr>\n",
              "      <th>...</th>\n",
              "      <td>...</td>\n",
              "      <td>...</td>\n",
              "      <td>...</td>\n",
              "      <td>...</td>\n",
              "      <td>...</td>\n",
              "      <td>...</td>\n",
              "      <td>...</td>\n",
              "    </tr>\n",
              "    <tr>\n",
              "      <th>1333</th>\n",
              "      <td>50</td>\n",
              "      <td>male</td>\n",
              "      <td>30.970</td>\n",
              "      <td>3</td>\n",
              "      <td>no</td>\n",
              "      <td>northwest</td>\n",
              "      <td>10600.54830</td>\n",
              "    </tr>\n",
              "    <tr>\n",
              "      <th>1334</th>\n",
              "      <td>18</td>\n",
              "      <td>female</td>\n",
              "      <td>31.920</td>\n",
              "      <td>0</td>\n",
              "      <td>no</td>\n",
              "      <td>northeast</td>\n",
              "      <td>2205.98080</td>\n",
              "    </tr>\n",
              "    <tr>\n",
              "      <th>1335</th>\n",
              "      <td>18</td>\n",
              "      <td>female</td>\n",
              "      <td>36.850</td>\n",
              "      <td>0</td>\n",
              "      <td>no</td>\n",
              "      <td>southeast</td>\n",
              "      <td>1629.83350</td>\n",
              "    </tr>\n",
              "    <tr>\n",
              "      <th>1336</th>\n",
              "      <td>21</td>\n",
              "      <td>female</td>\n",
              "      <td>25.800</td>\n",
              "      <td>0</td>\n",
              "      <td>no</td>\n",
              "      <td>southwest</td>\n",
              "      <td>2007.94500</td>\n",
              "    </tr>\n",
              "    <tr>\n",
              "      <th>1337</th>\n",
              "      <td>61</td>\n",
              "      <td>female</td>\n",
              "      <td>29.070</td>\n",
              "      <td>0</td>\n",
              "      <td>yes</td>\n",
              "      <td>northwest</td>\n",
              "      <td>29141.36030</td>\n",
              "    </tr>\n",
              "  </tbody>\n",
              "</table>\n",
              "<p>1338 rows × 7 columns</p>\n",
              "</div>\n",
              "      <button class=\"colab-df-convert\" onclick=\"convertToInteractive('df-a0f9631c-81bc-4a6f-a267-2725b5b902d2')\"\n",
              "              title=\"Convert this dataframe to an interactive table.\"\n",
              "              style=\"display:none;\">\n",
              "        \n",
              "  <svg xmlns=\"http://www.w3.org/2000/svg\" height=\"24px\"viewBox=\"0 0 24 24\"\n",
              "       width=\"24px\">\n",
              "    <path d=\"M0 0h24v24H0V0z\" fill=\"none\"/>\n",
              "    <path d=\"M18.56 5.44l.94 2.06.94-2.06 2.06-.94-2.06-.94-.94-2.06-.94 2.06-2.06.94zm-11 1L8.5 8.5l.94-2.06 2.06-.94-2.06-.94L8.5 2.5l-.94 2.06-2.06.94zm10 10l.94 2.06.94-2.06 2.06-.94-2.06-.94-.94-2.06-.94 2.06-2.06.94z\"/><path d=\"M17.41 7.96l-1.37-1.37c-.4-.4-.92-.59-1.43-.59-.52 0-1.04.2-1.43.59L10.3 9.45l-7.72 7.72c-.78.78-.78 2.05 0 2.83L4 21.41c.39.39.9.59 1.41.59.51 0 1.02-.2 1.41-.59l7.78-7.78 2.81-2.81c.8-.78.8-2.07 0-2.86zM5.41 20L4 18.59l7.72-7.72 1.47 1.35L5.41 20z\"/>\n",
              "  </svg>\n",
              "      </button>\n",
              "      \n",
              "  <style>\n",
              "    .colab-df-container {\n",
              "      display:flex;\n",
              "      flex-wrap:wrap;\n",
              "      gap: 12px;\n",
              "    }\n",
              "\n",
              "    .colab-df-convert {\n",
              "      background-color: #E8F0FE;\n",
              "      border: none;\n",
              "      border-radius: 50%;\n",
              "      cursor: pointer;\n",
              "      display: none;\n",
              "      fill: #1967D2;\n",
              "      height: 32px;\n",
              "      padding: 0 0 0 0;\n",
              "      width: 32px;\n",
              "    }\n",
              "\n",
              "    .colab-df-convert:hover {\n",
              "      background-color: #E2EBFA;\n",
              "      box-shadow: 0px 1px 2px rgba(60, 64, 67, 0.3), 0px 1px 3px 1px rgba(60, 64, 67, 0.15);\n",
              "      fill: #174EA6;\n",
              "    }\n",
              "\n",
              "    [theme=dark] .colab-df-convert {\n",
              "      background-color: #3B4455;\n",
              "      fill: #D2E3FC;\n",
              "    }\n",
              "\n",
              "    [theme=dark] .colab-df-convert:hover {\n",
              "      background-color: #434B5C;\n",
              "      box-shadow: 0px 1px 3px 1px rgba(0, 0, 0, 0.15);\n",
              "      filter: drop-shadow(0px 1px 2px rgba(0, 0, 0, 0.3));\n",
              "      fill: #FFFFFF;\n",
              "    }\n",
              "  </style>\n",
              "\n",
              "      <script>\n",
              "        const buttonEl =\n",
              "          document.querySelector('#df-a0f9631c-81bc-4a6f-a267-2725b5b902d2 button.colab-df-convert');\n",
              "        buttonEl.style.display =\n",
              "          google.colab.kernel.accessAllowed ? 'block' : 'none';\n",
              "\n",
              "        async function convertToInteractive(key) {\n",
              "          const element = document.querySelector('#df-a0f9631c-81bc-4a6f-a267-2725b5b902d2');\n",
              "          const dataTable =\n",
              "            await google.colab.kernel.invokeFunction('convertToInteractive',\n",
              "                                                     [key], {});\n",
              "          if (!dataTable) return;\n",
              "\n",
              "          const docLinkHtml = 'Like what you see? Visit the ' +\n",
              "            '<a target=\"_blank\" href=https://colab.research.google.com/notebooks/data_table.ipynb>data table notebook</a>'\n",
              "            + ' to learn more about interactive tables.';\n",
              "          element.innerHTML = '';\n",
              "          dataTable['output_type'] = 'display_data';\n",
              "          await google.colab.output.renderOutput(dataTable, element);\n",
              "          const docLink = document.createElement('div');\n",
              "          docLink.innerHTML = docLinkHtml;\n",
              "          element.appendChild(docLink);\n",
              "        }\n",
              "      </script>\n",
              "    </div>\n",
              "  </div>\n",
              "  "
            ],
            "text/plain": [
              "      age     sex     bmi  children smoker     region      charges\n",
              "0      19  female  27.900         0    yes  southwest  16884.92400\n",
              "1      18    male  33.770         1     no  southeast   1725.55230\n",
              "2      28    male  33.000         3     no  southeast   4449.46200\n",
              "3      33    male  22.705         0     no  northwest  21984.47061\n",
              "4      32    male  28.880         0     no  northwest   3866.85520\n",
              "...   ...     ...     ...       ...    ...        ...          ...\n",
              "1333   50    male  30.970         3     no  northwest  10600.54830\n",
              "1334   18  female  31.920         0     no  northeast   2205.98080\n",
              "1335   18  female  36.850         0     no  southeast   1629.83350\n",
              "1336   21  female  25.800         0     no  southwest   2007.94500\n",
              "1337   61  female  29.070         0    yes  northwest  29141.36030\n",
              "\n",
              "[1338 rows x 7 columns]"
            ]
          },
          "metadata": {},
          "execution_count": 5
        }
      ]
    },
    {
      "cell_type": "code",
      "source": [
        "data.sex.unique()"
      ],
      "metadata": {
        "colab": {
          "base_uri": "https://localhost:8080/"
        },
        "id": "1-Thg8696V1b",
        "outputId": "14bbb2ab-38f3-482c-a065-8ff570af7c8e"
      },
      "execution_count": 11,
      "outputs": [
        {
          "output_type": "execute_result",
          "data": {
            "text/plain": [
              "array(['female', 'male'], dtype=object)"
            ]
          },
          "metadata": {},
          "execution_count": 11
        }
      ]
    },
    {
      "cell_type": "code",
      "source": [
        "data['sex'] = data['sex'].map({'female':1 , 'male':0})"
      ],
      "metadata": {
        "id": "a0vsXj0L8iq3"
      },
      "execution_count": 20,
      "outputs": []
    },
    {
      "cell_type": "code",
      "source": [
        "data.region.unique()"
      ],
      "metadata": {
        "colab": {
          "base_uri": "https://localhost:8080/"
        },
        "id": "8l_UTv2Z6xpF",
        "outputId": "d73192e1-1a7f-41f2-8aa1-19811b07b168"
      },
      "execution_count": 13,
      "outputs": [
        {
          "output_type": "execute_result",
          "data": {
            "text/plain": [
              "array(['southwest', 'southeast', 'northwest', 'northeast'], dtype=object)"
            ]
          },
          "metadata": {},
          "execution_count": 13
        }
      ]
    },
    {
      "cell_type": "code",
      "source": [
        "data['region'] = data['region'].map({'southwest':0, 'southeast':1, 'northwest':2, 'northeast':3})"
      ],
      "metadata": {
        "id": "cjqPdZyA8pf9"
      },
      "execution_count": 19,
      "outputs": []
    },
    {
      "cell_type": "code",
      "source": [
        "data.smoker.unique()"
      ],
      "metadata": {
        "colab": {
          "base_uri": "https://localhost:8080/"
        },
        "id": "n5prMfjo7t0l",
        "outputId": "06776653-0a0d-4876-9a90-4998ac6534df"
      },
      "execution_count": 15,
      "outputs": [
        {
          "output_type": "execute_result",
          "data": {
            "text/plain": [
              "array(['yes', 'no'], dtype=object)"
            ]
          },
          "metadata": {},
          "execution_count": 15
        }
      ]
    },
    {
      "cell_type": "code",
      "source": [
        "data['smoker'] = data['smoker'].map({'yes':1 , 'no':0})"
      ],
      "metadata": {
        "id": "W782TkO58p_v"
      },
      "execution_count": 18,
      "outputs": []
    },
    {
      "cell_type": "code",
      "source": [
        "data"
      ],
      "metadata": {
        "colab": {
          "base_uri": "https://localhost:8080/",
          "height": 423
        },
        "id": "kf9g4Bdv7w9t",
        "outputId": "750a6961-68df-486c-ff9d-aa21c6820afb"
      },
      "execution_count": 21,
      "outputs": [
        {
          "output_type": "execute_result",
          "data": {
            "text/html": [
              "\n",
              "  <div id=\"df-614eb117-7aeb-4f82-a16f-59be1f400a92\">\n",
              "    <div class=\"colab-df-container\">\n",
              "      <div>\n",
              "<style scoped>\n",
              "    .dataframe tbody tr th:only-of-type {\n",
              "        vertical-align: middle;\n",
              "    }\n",
              "\n",
              "    .dataframe tbody tr th {\n",
              "        vertical-align: top;\n",
              "    }\n",
              "\n",
              "    .dataframe thead th {\n",
              "        text-align: right;\n",
              "    }\n",
              "</style>\n",
              "<table border=\"1\" class=\"dataframe\">\n",
              "  <thead>\n",
              "    <tr style=\"text-align: right;\">\n",
              "      <th></th>\n",
              "      <th>age</th>\n",
              "      <th>sex</th>\n",
              "      <th>bmi</th>\n",
              "      <th>children</th>\n",
              "      <th>smoker</th>\n",
              "      <th>region</th>\n",
              "      <th>charges</th>\n",
              "    </tr>\n",
              "  </thead>\n",
              "  <tbody>\n",
              "    <tr>\n",
              "      <th>0</th>\n",
              "      <td>19</td>\n",
              "      <td>1</td>\n",
              "      <td>27.900</td>\n",
              "      <td>0</td>\n",
              "      <td>1</td>\n",
              "      <td>0</td>\n",
              "      <td>16884.92400</td>\n",
              "    </tr>\n",
              "    <tr>\n",
              "      <th>1</th>\n",
              "      <td>18</td>\n",
              "      <td>0</td>\n",
              "      <td>33.770</td>\n",
              "      <td>1</td>\n",
              "      <td>0</td>\n",
              "      <td>1</td>\n",
              "      <td>1725.55230</td>\n",
              "    </tr>\n",
              "    <tr>\n",
              "      <th>2</th>\n",
              "      <td>28</td>\n",
              "      <td>0</td>\n",
              "      <td>33.000</td>\n",
              "      <td>3</td>\n",
              "      <td>0</td>\n",
              "      <td>1</td>\n",
              "      <td>4449.46200</td>\n",
              "    </tr>\n",
              "    <tr>\n",
              "      <th>3</th>\n",
              "      <td>33</td>\n",
              "      <td>0</td>\n",
              "      <td>22.705</td>\n",
              "      <td>0</td>\n",
              "      <td>0</td>\n",
              "      <td>2</td>\n",
              "      <td>21984.47061</td>\n",
              "    </tr>\n",
              "    <tr>\n",
              "      <th>4</th>\n",
              "      <td>32</td>\n",
              "      <td>0</td>\n",
              "      <td>28.880</td>\n",
              "      <td>0</td>\n",
              "      <td>0</td>\n",
              "      <td>2</td>\n",
              "      <td>3866.85520</td>\n",
              "    </tr>\n",
              "    <tr>\n",
              "      <th>...</th>\n",
              "      <td>...</td>\n",
              "      <td>...</td>\n",
              "      <td>...</td>\n",
              "      <td>...</td>\n",
              "      <td>...</td>\n",
              "      <td>...</td>\n",
              "      <td>...</td>\n",
              "    </tr>\n",
              "    <tr>\n",
              "      <th>1333</th>\n",
              "      <td>50</td>\n",
              "      <td>0</td>\n",
              "      <td>30.970</td>\n",
              "      <td>3</td>\n",
              "      <td>0</td>\n",
              "      <td>2</td>\n",
              "      <td>10600.54830</td>\n",
              "    </tr>\n",
              "    <tr>\n",
              "      <th>1334</th>\n",
              "      <td>18</td>\n",
              "      <td>1</td>\n",
              "      <td>31.920</td>\n",
              "      <td>0</td>\n",
              "      <td>0</td>\n",
              "      <td>3</td>\n",
              "      <td>2205.98080</td>\n",
              "    </tr>\n",
              "    <tr>\n",
              "      <th>1335</th>\n",
              "      <td>18</td>\n",
              "      <td>1</td>\n",
              "      <td>36.850</td>\n",
              "      <td>0</td>\n",
              "      <td>0</td>\n",
              "      <td>1</td>\n",
              "      <td>1629.83350</td>\n",
              "    </tr>\n",
              "    <tr>\n",
              "      <th>1336</th>\n",
              "      <td>21</td>\n",
              "      <td>1</td>\n",
              "      <td>25.800</td>\n",
              "      <td>0</td>\n",
              "      <td>0</td>\n",
              "      <td>0</td>\n",
              "      <td>2007.94500</td>\n",
              "    </tr>\n",
              "    <tr>\n",
              "      <th>1337</th>\n",
              "      <td>61</td>\n",
              "      <td>1</td>\n",
              "      <td>29.070</td>\n",
              "      <td>0</td>\n",
              "      <td>1</td>\n",
              "      <td>2</td>\n",
              "      <td>29141.36030</td>\n",
              "    </tr>\n",
              "  </tbody>\n",
              "</table>\n",
              "<p>1338 rows × 7 columns</p>\n",
              "</div>\n",
              "      <button class=\"colab-df-convert\" onclick=\"convertToInteractive('df-614eb117-7aeb-4f82-a16f-59be1f400a92')\"\n",
              "              title=\"Convert this dataframe to an interactive table.\"\n",
              "              style=\"display:none;\">\n",
              "        \n",
              "  <svg xmlns=\"http://www.w3.org/2000/svg\" height=\"24px\"viewBox=\"0 0 24 24\"\n",
              "       width=\"24px\">\n",
              "    <path d=\"M0 0h24v24H0V0z\" fill=\"none\"/>\n",
              "    <path d=\"M18.56 5.44l.94 2.06.94-2.06 2.06-.94-2.06-.94-.94-2.06-.94 2.06-2.06.94zm-11 1L8.5 8.5l.94-2.06 2.06-.94-2.06-.94L8.5 2.5l-.94 2.06-2.06.94zm10 10l.94 2.06.94-2.06 2.06-.94-2.06-.94-.94-2.06-.94 2.06-2.06.94z\"/><path d=\"M17.41 7.96l-1.37-1.37c-.4-.4-.92-.59-1.43-.59-.52 0-1.04.2-1.43.59L10.3 9.45l-7.72 7.72c-.78.78-.78 2.05 0 2.83L4 21.41c.39.39.9.59 1.41.59.51 0 1.02-.2 1.41-.59l7.78-7.78 2.81-2.81c.8-.78.8-2.07 0-2.86zM5.41 20L4 18.59l7.72-7.72 1.47 1.35L5.41 20z\"/>\n",
              "  </svg>\n",
              "      </button>\n",
              "      \n",
              "  <style>\n",
              "    .colab-df-container {\n",
              "      display:flex;\n",
              "      flex-wrap:wrap;\n",
              "      gap: 12px;\n",
              "    }\n",
              "\n",
              "    .colab-df-convert {\n",
              "      background-color: #E8F0FE;\n",
              "      border: none;\n",
              "      border-radius: 50%;\n",
              "      cursor: pointer;\n",
              "      display: none;\n",
              "      fill: #1967D2;\n",
              "      height: 32px;\n",
              "      padding: 0 0 0 0;\n",
              "      width: 32px;\n",
              "    }\n",
              "\n",
              "    .colab-df-convert:hover {\n",
              "      background-color: #E2EBFA;\n",
              "      box-shadow: 0px 1px 2px rgba(60, 64, 67, 0.3), 0px 1px 3px 1px rgba(60, 64, 67, 0.15);\n",
              "      fill: #174EA6;\n",
              "    }\n",
              "\n",
              "    [theme=dark] .colab-df-convert {\n",
              "      background-color: #3B4455;\n",
              "      fill: #D2E3FC;\n",
              "    }\n",
              "\n",
              "    [theme=dark] .colab-df-convert:hover {\n",
              "      background-color: #434B5C;\n",
              "      box-shadow: 0px 1px 3px 1px rgba(0, 0, 0, 0.15);\n",
              "      filter: drop-shadow(0px 1px 2px rgba(0, 0, 0, 0.3));\n",
              "      fill: #FFFFFF;\n",
              "    }\n",
              "  </style>\n",
              "\n",
              "      <script>\n",
              "        const buttonEl =\n",
              "          document.querySelector('#df-614eb117-7aeb-4f82-a16f-59be1f400a92 button.colab-df-convert');\n",
              "        buttonEl.style.display =\n",
              "          google.colab.kernel.accessAllowed ? 'block' : 'none';\n",
              "\n",
              "        async function convertToInteractive(key) {\n",
              "          const element = document.querySelector('#df-614eb117-7aeb-4f82-a16f-59be1f400a92');\n",
              "          const dataTable =\n",
              "            await google.colab.kernel.invokeFunction('convertToInteractive',\n",
              "                                                     [key], {});\n",
              "          if (!dataTable) return;\n",
              "\n",
              "          const docLinkHtml = 'Like what you see? Visit the ' +\n",
              "            '<a target=\"_blank\" href=https://colab.research.google.com/notebooks/data_table.ipynb>data table notebook</a>'\n",
              "            + ' to learn more about interactive tables.';\n",
              "          element.innerHTML = '';\n",
              "          dataTable['output_type'] = 'display_data';\n",
              "          await google.colab.output.renderOutput(dataTable, element);\n",
              "          const docLink = document.createElement('div');\n",
              "          docLink.innerHTML = docLinkHtml;\n",
              "          element.appendChild(docLink);\n",
              "        }\n",
              "      </script>\n",
              "    </div>\n",
              "  </div>\n",
              "  "
            ],
            "text/plain": [
              "      age  sex     bmi  children  smoker  region      charges\n",
              "0      19    1  27.900         0       1       0  16884.92400\n",
              "1      18    0  33.770         1       0       1   1725.55230\n",
              "2      28    0  33.000         3       0       1   4449.46200\n",
              "3      33    0  22.705         0       0       2  21984.47061\n",
              "4      32    0  28.880         0       0       2   3866.85520\n",
              "...   ...  ...     ...       ...     ...     ...          ...\n",
              "1333   50    0  30.970         3       0       2  10600.54830\n",
              "1334   18    1  31.920         0       0       3   2205.98080\n",
              "1335   18    1  36.850         0       0       1   1629.83350\n",
              "1336   21    1  25.800         0       0       0   2007.94500\n",
              "1337   61    1  29.070         0       1       2  29141.36030\n",
              "\n",
              "[1338 rows x 7 columns]"
            ]
          },
          "metadata": {},
          "execution_count": 21
        }
      ]
    },
    {
      "cell_type": "code",
      "source": [
        "X = data.iloc[:,:-1]\n",
        "y = data.iloc[:,-1]"
      ],
      "metadata": {
        "id": "sVGiYny8-Do1"
      },
      "execution_count": 23,
      "outputs": []
    },
    {
      "cell_type": "code",
      "source": [
        "X_train, X_test, y_train, y_test = train_test_split(X, y, test_size=0.2) "
      ],
      "metadata": {
        "id": "Q-MuS-GL98yp"
      },
      "execution_count": 26,
      "outputs": []
    },
    {
      "cell_type": "code",
      "source": [
        "# X_trainT = tf.constant(X_train)\n",
        "# X_testT = tf.constant(X_test)\n",
        "# y_trainT = tf.constant(y_train)\n",
        "# y_testT = tf.constant(y_test)"
      ],
      "metadata": {
        "id": "NcaNyB309wf2"
      },
      "execution_count": 28,
      "outputs": []
    },
    {
      "cell_type": "code",
      "source": [
        "regmodel = tf.keras.Sequential([\n",
        "                             tf.keras.layers.Dense(128,activation='relu'),\n",
        "                             tf.keras.layers.Dense(256,activation='relu'),\n",
        "                             tf.keras.layers.Dense(128,activation='relu'),\n",
        "                             tf.keras.layers.Dense(1)\n",
        "])\n",
        "\n",
        "regmodel.compile(loss = tf.keras.losses.mae,\n",
        "              optimizer = tf.keras.optimizers.Adam(lr = 0.001),\n",
        "              metrics= ['mae'])\n",
        "\n",
        "regmodel.fit(X_train, y_train, epochs = 1000,verbose=0)"
      ],
      "metadata": {
        "colab": {
          "base_uri": "https://localhost:8080/"
        },
        "id": "neKn4__l86eF",
        "outputId": "65794a9c-fc65-4375-8dd7-c3f74b099a9a"
      },
      "execution_count": 43,
      "outputs": [
        {
          "output_type": "stream",
          "name": "stderr",
          "text": [
            "/usr/local/lib/python3.7/dist-packages/keras/optimizer_v2/adam.py:105: UserWarning: The `lr` argument is deprecated, use `learning_rate` instead.\n",
            "  super(Adam, self).__init__(name, **kwargs)\n"
          ]
        },
        {
          "output_type": "execute_result",
          "data": {
            "text/plain": [
              "<keras.callbacks.History at 0x7f8accfe8290>"
            ]
          },
          "metadata": {},
          "execution_count": 43
        }
      ]
    },
    {
      "cell_type": "code",
      "source": [
        "regmodel.summary()"
      ],
      "metadata": {
        "colab": {
          "base_uri": "https://localhost:8080/"
        },
        "id": "sZIycPiv-8_f",
        "outputId": "156660bf-915c-45e4-e747-3fe93caa681d"
      },
      "execution_count": 39,
      "outputs": [
        {
          "output_type": "stream",
          "name": "stdout",
          "text": [
            "Model: \"sequential_8\"\n",
            "_________________________________________________________________\n",
            " Layer (type)                Output Shape              Param #   \n",
            "=================================================================\n",
            " dense_32 (Dense)            (None, 64)                448       \n",
            "                                                                 \n",
            " dense_33 (Dense)            (None, 128)               8320      \n",
            "                                                                 \n",
            " dense_34 (Dense)            (None, 64)                8256      \n",
            "                                                                 \n",
            " dense_35 (Dense)            (None, 1)                 65        \n",
            "                                                                 \n",
            "=================================================================\n",
            "Total params: 17,089\n",
            "Trainable params: 17,089\n",
            "Non-trainable params: 0\n",
            "_________________________________________________________________\n"
          ]
        }
      ]
    },
    {
      "cell_type": "code",
      "source": [
        "regmodel.evaluate(X_train,y_train)"
      ],
      "metadata": {
        "colab": {
          "base_uri": "https://localhost:8080/"
        },
        "id": "c3fUNuaYDnvK",
        "outputId": "af7e4e31-2046-4a17-b9e9-1825d2d6a138"
      },
      "execution_count": 44,
      "outputs": [
        {
          "output_type": "stream",
          "name": "stdout",
          "text": [
            "34/34 [==============================] - 0s 2ms/step - loss: 1428.6711 - mae: 1428.6711\n"
          ]
        },
        {
          "output_type": "execute_result",
          "data": {
            "text/plain": [
              "[1428.671142578125, 1428.671142578125]"
            ]
          },
          "metadata": {},
          "execution_count": 44
        }
      ]
    },
    {
      "cell_type": "code",
      "source": [
        "regmodel.evaluate(X_test,y_test)"
      ],
      "metadata": {
        "colab": {
          "base_uri": "https://localhost:8080/"
        },
        "id": "KAao1YxDGk9s",
        "outputId": "8bf25a64-929e-4d3e-b7d6-01b4c618a678"
      },
      "execution_count": 45,
      "outputs": [
        {
          "output_type": "stream",
          "name": "stdout",
          "text": [
            "9/9 [==============================] - 0s 8ms/step - loss: 1845.9268 - mae: 1845.9268\n"
          ]
        },
        {
          "output_type": "execute_result",
          "data": {
            "text/plain": [
              "[1845.9267578125, 1845.9267578125]"
            ]
          },
          "metadata": {},
          "execution_count": 45
        }
      ]
    },
    {
      "cell_type": "code",
      "source": [
        "y_test_pred = regmodel.predict(X_test)\n",
        "y_train_pred = regmodel.predict(X_train)"
      ],
      "metadata": {
        "id": "KgkU_iHXHbck"
      },
      "execution_count": 51,
      "outputs": []
    },
    {
      "cell_type": "code",
      "source": [
        "np.corr"
      ],
      "metadata": {
        "id": "if9e3RuhILn4"
      },
      "execution_count": null,
      "outputs": []
    },
    {
      "cell_type": "code",
      "source": [
        "y_train.to_numpy()"
      ],
      "metadata": {
        "colab": {
          "base_uri": "https://localhost:8080/"
        },
        "id": "MUHvRsbEITDO",
        "outputId": "28a38196-b1bd-49d0-8a02-837fcbd7d835"
      },
      "execution_count": 57,
      "outputs": [
        {
          "output_type": "execute_result",
          "data": {
            "text/plain": [
              "array([1712.227  , 2709.1119 , 8733.22925, ..., 5708.867  , 2709.24395,\n",
              "       1242.816  ])"
            ]
          },
          "metadata": {},
          "execution_count": 57
        }
      ]
    },
    {
      "cell_type": "code",
      "source": [
        "np.corrcoef(y_train_pred.squeeze(),y_train.to_numpy())[0][1]"
      ],
      "metadata": {
        "colab": {
          "base_uri": "https://localhost:8080/"
        },
        "id": "qpsA_z6rIADV",
        "outputId": "f3b8657e-a35a-4dfe-9d8a-b5b75f3c1dc0"
      },
      "execution_count": 61,
      "outputs": [
        {
          "output_type": "execute_result",
          "data": {
            "text/plain": [
              "0.9368896289588785"
            ]
          },
          "metadata": {},
          "execution_count": 61
        }
      ]
    },
    {
      "cell_type": "code",
      "source": [
        "plt.scatter(y_train_pred,y_train)"
      ],
      "metadata": {
        "colab": {
          "base_uri": "https://localhost:8080/",
          "height": 369
        },
        "id": "5p08m77WH5kq",
        "outputId": "1025cd60-bb40-42be-c59f-fbbb7a3ed230"
      },
      "execution_count": 52,
      "outputs": [
        {
          "output_type": "execute_result",
          "data": {
            "text/plain": [
              "<matplotlib.collections.PathCollection at 0x7f8acc105490>"
            ]
          },
          "metadata": {},
          "execution_count": 52
        },
        {
          "output_type": "display_data",
          "data": {
            "text/plain": [
              "<Figure size 432x288 with 1 Axes>"
            ],
            "image/svg+xml": "<?xml version=\"1.0\" encoding=\"utf-8\" standalone=\"no\"?>\n<!DOCTYPE svg PUBLIC \"-//W3C//DTD SVG 1.1//EN\"\n  \"http://www.w3.org/Graphics/SVG/1.1/DTD/svg11.dtd\">\n<!-- Created with matplotlib (https://matplotlib.org/) -->\n<svg height=\"248.518125pt\" version=\"1.1\" viewBox=\"0 0 389.316255 248.518125\" width=\"389.316255pt\" xmlns=\"http://www.w3.org/2000/svg\" xmlns:xlink=\"http://www.w3.org/1999/xlink\">\n <defs>\n  <style type=\"text/css\">\n*{stroke-linecap:butt;stroke-linejoin:round;}\n  </style>\n </defs>\n <g id=\"figure_1\">\n  <g id=\"patch_1\">\n   <path d=\"M 0 248.518125 \nL 389.316255 248.518125 \nL 389.316255 0 \nL 0 0 \nz\n\" style=\"fill:none;\"/>\n  </g>\n  <g id=\"axes_1\">\n   <g id=\"patch_2\">\n    <path d=\"M 46.0125 224.64 \nL 380.8125 224.64 \nL 380.8125 7.2 \nL 46.0125 7.2 \nz\n\" style=\"fill:#ffffff;\"/>\n   </g>\n   <g id=\"PathCollection_1\">\n    <defs>\n     <path d=\"M 0 3 \nC 0.795609 3 1.55874 2.683901 2.12132 2.12132 \nC 2.683901 1.55874 3 0.795609 3 0 \nC 3 -0.795609 2.683901 -1.55874 2.12132 -2.12132 \nC 1.55874 -2.683901 0.795609 -3 0 -3 \nC -0.795609 -3 -1.55874 -2.683901 -2.12132 -2.12132 \nC -2.683901 -1.55874 -3 -0.795609 -3 0 \nC -3 0.795609 -2.683901 1.55874 -2.12132 2.12132 \nC -1.55874 2.683901 -0.795609 3 0 3 \nz\n\" id=\"mb71464ae76\" style=\"stroke:#1f77b4;\"/>\n    </defs>\n    <g clip-path=\"url(#pbe4437b528)\">\n     <use style=\"fill:#1f77b4;stroke:#1f77b4;\" x=\"64.885309\" xlink:href=\"#mb71464ae76\" y=\"212.893644\"/>\n     <use style=\"fill:#1f77b4;stroke:#1f77b4;\" x=\"70.80131\" xlink:href=\"#mb71464ae76\" y=\"209.748209\"/>\n     <use style=\"fill:#1f77b4;stroke:#1f77b4;\" x=\"107.840559\" xlink:href=\"#mb71464ae76\" y=\"190.740528\"/>\n     <use style=\"fill:#1f77b4;stroke:#1f77b4;\" x=\"66.317478\" xlink:href=\"#mb71464ae76\" y=\"212.048528\"/>\n     <use style=\"fill:#1f77b4;stroke:#1f77b4;\" x=\"76.884654\" xlink:href=\"#mb71464ae76\" y=\"206.642432\"/>\n     <use style=\"fill:#1f77b4;stroke:#1f77b4;\" x=\"98.765118\" xlink:href=\"#mb71464ae76\" y=\"195.399295\"/>\n     <use style=\"fill:#1f77b4;stroke:#1f77b4;\" x=\"137.398857\" xlink:href=\"#mb71464ae76\" y=\"175.792052\"/>\n     <use style=\"fill:#1f77b4;stroke:#1f77b4;\" x=\"132.677289\" xlink:href=\"#mb71464ae76\" y=\"178.41933\"/>\n     <use style=\"fill:#1f77b4;stroke:#1f77b4;\" x=\"215.776966\" xlink:href=\"#mb71464ae76\" y=\"135.914346\"/>\n     <use style=\"fill:#1f77b4;stroke:#1f77b4;\" x=\"106.07221\" xlink:href=\"#mb71464ae76\" y=\"191.998341\"/>\n     <use style=\"fill:#1f77b4;stroke:#1f77b4;\" x=\"63.907346\" xlink:href=\"#mb71464ae76\" y=\"213.167499\"/>\n     <use style=\"fill:#1f77b4;stroke:#1f77b4;\" x=\"98.88045\" xlink:href=\"#mb71464ae76\" y=\"195.383462\"/>\n     <use style=\"fill:#1f77b4;stroke:#1f77b4;\" x=\"105.38974\" xlink:href=\"#mb71464ae76\" y=\"192.294936\"/>\n     <use style=\"fill:#1f77b4;stroke:#1f77b4;\" x=\"88.238913\" xlink:href=\"#mb71464ae76\" y=\"201.040012\"/>\n     <use style=\"fill:#1f77b4;stroke:#1f77b4;\" x=\"131.196721\" xlink:href=\"#mb71464ae76\" y=\"178.900174\"/>\n     <use style=\"fill:#1f77b4;stroke:#1f77b4;\" x=\"279.068253\" xlink:href=\"#mb71464ae76\" y=\"95.245464\"/>\n     <use style=\"fill:#1f77b4;stroke:#1f77b4;\" x=\"107.854352\" xlink:href=\"#mb71464ae76\" y=\"191.216743\"/>\n     <use style=\"fill:#1f77b4;stroke:#1f77b4;\" x=\"76.502041\" xlink:href=\"#mb71464ae76\" y=\"207.057472\"/>\n     <use style=\"fill:#1f77b4;stroke:#1f77b4;\" x=\"118.764996\" xlink:href=\"#mb71464ae76\" y=\"185.367534\"/>\n     <use style=\"fill:#1f77b4;stroke:#1f77b4;\" x=\"61.235279\" xlink:href=\"#mb71464ae76\" y=\"214.694611\"/>\n     <use style=\"fill:#1f77b4;stroke:#1f77b4;\" x=\"74.404587\" xlink:href=\"#mb71464ae76\" y=\"207.955864\"/>\n     <use style=\"fill:#1f77b4;stroke:#1f77b4;\" x=\"65.035265\" xlink:href=\"#mb71464ae76\" y=\"212.795872\"/>\n     <use style=\"fill:#1f77b4;stroke:#1f77b4;\" x=\"202.058609\" xlink:href=\"#mb71464ae76\" y=\"142.92429\"/>\n     <use style=\"fill:#1f77b4;stroke:#1f77b4;\" x=\"140.36159\" xlink:href=\"#mb71464ae76\" y=\"174.179743\"/>\n     <use style=\"fill:#1f77b4;stroke:#1f77b4;\" x=\"139.302932\" xlink:href=\"#mb71464ae76\" y=\"174.612182\"/>\n     <use style=\"fill:#1f77b4;stroke:#1f77b4;\" x=\"64.422981\" xlink:href=\"#mb71464ae76\" y=\"213.147345\"/>\n     <use style=\"fill:#1f77b4;stroke:#1f77b4;\" x=\"114.554963\" xlink:href=\"#mb71464ae76\" y=\"187.618267\"/>\n     <use style=\"fill:#1f77b4;stroke:#1f77b4;\" x=\"102.015504\" xlink:href=\"#mb71464ae76\" y=\"193.915908\"/>\n     <use style=\"fill:#1f77b4;stroke:#1f77b4;\" x=\"143.182426\" xlink:href=\"#mb71464ae76\" y=\"172.696817\"/>\n     <use style=\"fill:#1f77b4;stroke:#1f77b4;\" x=\"93.143255\" xlink:href=\"#mb71464ae76\" y=\"198.474062\"/>\n     <use style=\"fill:#1f77b4;stroke:#1f77b4;\" x=\"115.901372\" xlink:href=\"#mb71464ae76\" y=\"186.856932\"/>\n     <use style=\"fill:#1f77b4;stroke:#1f77b4;\" x=\"114.566731\" xlink:href=\"#mb71464ae76\" y=\"187.612713\"/>\n     <use style=\"fill:#1f77b4;stroke:#1f77b4;\" x=\"117.436472\" xlink:href=\"#mb71464ae76\" y=\"138.362819\"/>\n     <use style=\"fill:#1f77b4;stroke:#1f77b4;\" x=\"107.495251\" xlink:href=\"#mb71464ae76\" y=\"191.367029\"/>\n     <use style=\"fill:#1f77b4;stroke:#1f77b4;\" x=\"160.659344\" xlink:href=\"#mb71464ae76\" y=\"161.684091\"/>\n     <use style=\"fill:#1f77b4;stroke:#1f77b4;\" x=\"107.441236\" xlink:href=\"#mb71464ae76\" y=\"191.112626\"/>\n     <use style=\"fill:#1f77b4;stroke:#1f77b4;\" x=\"103.04692\" xlink:href=\"#mb71464ae76\" y=\"193.717817\"/>\n     <use style=\"fill:#1f77b4;stroke:#1f77b4;\" x=\"112.486246\" xlink:href=\"#mb71464ae76\" y=\"188.758715\"/>\n     <use style=\"fill:#1f77b4;stroke:#1f77b4;\" x=\"99.916149\" xlink:href=\"#mb71464ae76\" y=\"194.88576\"/>\n     <use style=\"fill:#1f77b4;stroke:#1f77b4;\" x=\"304.473557\" xlink:href=\"#mb71464ae76\" y=\"33.488969\"/>\n     <use style=\"fill:#1f77b4;stroke:#1f77b4;\" x=\"74.355512\" xlink:href=\"#mb71464ae76\" y=\"207.907371\"/>\n     <use style=\"fill:#1f77b4;stroke:#1f77b4;\" x=\"150.756673\" xlink:href=\"#mb71464ae76\" y=\"169.03558\"/>\n     <use style=\"fill:#1f77b4;stroke:#1f77b4;\" x=\"124.346726\" xlink:href=\"#mb71464ae76\" y=\"182.210244\"/>\n     <use style=\"fill:#1f77b4;stroke:#1f77b4;\" x=\"79.57037\" xlink:href=\"#mb71464ae76\" y=\"205.693487\"/>\n     <use style=\"fill:#1f77b4;stroke:#1f77b4;\" x=\"267.64544\" xlink:href=\"#mb71464ae76\" y=\"108.402574\"/>\n     <use style=\"fill:#1f77b4;stroke:#1f77b4;\" x=\"108.264584\" xlink:href=\"#mb71464ae76\" y=\"190.880528\"/>\n     <use style=\"fill:#1f77b4;stroke:#1f77b4;\" x=\"189.316955\" xlink:href=\"#mb71464ae76\" y=\"156.075329\"/>\n     <use style=\"fill:#1f77b4;stroke:#1f77b4;\" x=\"315.488254\" xlink:href=\"#mb71464ae76\" y=\"64.050664\"/>\n     <use style=\"fill:#1f77b4;stroke:#1f77b4;\" x=\"77.353723\" xlink:href=\"#mb71464ae76\" y=\"206.749969\"/>\n     <use style=\"fill:#1f77b4;stroke:#1f77b4;\" x=\"79.096402\" xlink:href=\"#mb71464ae76\" y=\"205.853087\"/>\n     <use style=\"fill:#1f77b4;stroke:#1f77b4;\" x=\"98.138846\" xlink:href=\"#mb71464ae76\" y=\"195.965771\"/>\n     <use style=\"fill:#1f77b4;stroke:#1f77b4;\" x=\"322.503379\" xlink:href=\"#mb71464ae76\" y=\"81.817064\"/>\n     <use style=\"fill:#1f77b4;stroke:#1f77b4;\" x=\"81.371557\" xlink:href=\"#mb71464ae76\" y=\"179.155504\"/>\n     <use style=\"fill:#1f77b4;stroke:#1f77b4;\" x=\"91.555332\" xlink:href=\"#mb71464ae76\" y=\"199.428542\"/>\n     <use style=\"fill:#1f77b4;stroke:#1f77b4;\" x=\"126.506672\" xlink:href=\"#mb71464ae76\" y=\"181.511741\"/>\n     <use style=\"fill:#1f77b4;stroke:#1f77b4;\" x=\"127.220058\" xlink:href=\"#mb71464ae76\" y=\"181.242963\"/>\n     <use style=\"fill:#1f77b4;stroke:#1f77b4;\" x=\"71.57476\" xlink:href=\"#mb71464ae76\" y=\"209.603354\"/>\n     <use style=\"fill:#1f77b4;stroke:#1f77b4;\" x=\"70.121326\" xlink:href=\"#mb71464ae76\" y=\"209.837069\"/>\n     <use style=\"fill:#1f77b4;stroke:#1f77b4;\" x=\"148.731038\" xlink:href=\"#mb71464ae76\" y=\"168.386251\"/>\n     <use style=\"fill:#1f77b4;stroke:#1f77b4;\" x=\"240.615366\" xlink:href=\"#mb71464ae76\" y=\"111.308907\"/>\n     <use style=\"fill:#1f77b4;stroke:#1f77b4;\" x=\"127.216497\" xlink:href=\"#mb71464ae76\" y=\"180.935401\"/>\n     <use style=\"fill:#1f77b4;stroke:#1f77b4;\" x=\"79.450671\" xlink:href=\"#mb71464ae76\" y=\"205.658007\"/>\n     <use style=\"fill:#1f77b4;stroke:#1f77b4;\" x=\"95.967573\" xlink:href=\"#mb71464ae76\" y=\"196.916226\"/>\n     <use style=\"fill:#1f77b4;stroke:#1f77b4;\" x=\"84.806643\" xlink:href=\"#mb71464ae76\" y=\"202.86997\"/>\n     <use style=\"fill:#1f77b4;stroke:#1f77b4;\" x=\"100.39732\" xlink:href=\"#mb71464ae76\" y=\"194.802335\"/>\n     <use style=\"fill:#1f77b4;stroke:#1f77b4;\" x=\"122.270845\" xlink:href=\"#mb71464ae76\" y=\"183.697295\"/>\n     <use style=\"fill:#1f77b4;stroke:#1f77b4;\" x=\"158.053482\" xlink:href=\"#mb71464ae76\" y=\"164.51993\"/>\n     <use style=\"fill:#1f77b4;stroke:#1f77b4;\" x=\"70.623851\" xlink:href=\"#mb71464ae76\" y=\"209.681961\"/>\n     <use style=\"fill:#1f77b4;stroke:#1f77b4;\" x=\"61.919563\" xlink:href=\"#mb71464ae76\" y=\"214.339673\"/>\n     <use style=\"fill:#1f77b4;stroke:#1f77b4;\" x=\"122.20197\" xlink:href=\"#mb71464ae76\" y=\"183.482056\"/>\n     <use style=\"fill:#1f77b4;stroke:#1f77b4;\" x=\"67.011951\" xlink:href=\"#mb71464ae76\" y=\"211.58041\"/>\n     <use style=\"fill:#1f77b4;stroke:#1f77b4;\" x=\"160.770996\" xlink:href=\"#mb71464ae76\" y=\"165.019779\"/>\n     <use style=\"fill:#1f77b4;stroke:#1f77b4;\" x=\"69.799833\" xlink:href=\"#mb71464ae76\" y=\"210.519649\"/>\n     <use style=\"fill:#1f77b4;stroke:#1f77b4;\" x=\"68.493245\" xlink:href=\"#mb71464ae76\" y=\"210.842716\"/>\n     <use style=\"fill:#1f77b4;stroke:#1f77b4;\" x=\"265.69157\" xlink:href=\"#mb71464ae76\" y=\"101.870928\"/>\n     <use style=\"fill:#1f77b4;stroke:#1f77b4;\" x=\"82.527601\" xlink:href=\"#mb71464ae76\" y=\"203.983077\"/>\n     <use style=\"fill:#1f77b4;stroke:#1f77b4;\" x=\"131.288268\" xlink:href=\"#mb71464ae76\" y=\"178.780893\"/>\n     <use style=\"fill:#1f77b4;stroke:#1f77b4;\" x=\"61.45964\" xlink:href=\"#mb71464ae76\" y=\"214.669524\"/>\n     <use style=\"fill:#1f77b4;stroke:#1f77b4;\" x=\"65.080485\" xlink:href=\"#mb71464ae76\" y=\"212.778328\"/>\n     <use style=\"fill:#1f77b4;stroke:#1f77b4;\" x=\"142.671159\" xlink:href=\"#mb71464ae76\" y=\"173.228087\"/>\n     <use style=\"fill:#1f77b4;stroke:#1f77b4;\" x=\"69.583709\" xlink:href=\"#mb71464ae76\" y=\"210.299491\"/>\n     <use style=\"fill:#1f77b4;stroke:#1f77b4;\" x=\"88.582206\" xlink:href=\"#mb71464ae76\" y=\"200.99123\"/>\n     <use style=\"fill:#1f77b4;stroke:#1f77b4;\" x=\"93.540413\" xlink:href=\"#mb71464ae76\" y=\"198.135998\"/>\n     <use style=\"fill:#1f77b4;stroke:#1f77b4;\" x=\"67.451633\" xlink:href=\"#mb71464ae76\" y=\"211.662972\"/>\n     <use style=\"fill:#1f77b4;stroke:#1f77b4;\" x=\"61.331125\" xlink:href=\"#mb71464ae76\" y=\"214.677726\"/>\n     <use style=\"fill:#1f77b4;stroke:#1f77b4;\" x=\"191.665123\" xlink:href=\"#mb71464ae76\" y=\"148.947644\"/>\n     <use style=\"fill:#1f77b4;stroke:#1f77b4;\" x=\"133.521217\" xlink:href=\"#mb71464ae76\" y=\"177.435279\"/>\n     <use style=\"fill:#1f77b4;stroke:#1f77b4;\" x=\"127.809054\" xlink:href=\"#mb71464ae76\" y=\"180.930141\"/>\n     <use style=\"fill:#1f77b4;stroke:#1f77b4;\" x=\"78.582156\" xlink:href=\"#mb71464ae76\" y=\"205.573388\"/>\n     <use style=\"fill:#1f77b4;stroke:#1f77b4;\" x=\"124.234257\" xlink:href=\"#mb71464ae76\" y=\"182.473742\"/>\n     <use style=\"fill:#1f77b4;stroke:#1f77b4;\" x=\"101.269988\" xlink:href=\"#mb71464ae76\" y=\"194.238451\"/>\n     <use style=\"fill:#1f77b4;stroke:#1f77b4;\" x=\"275.658219\" xlink:href=\"#mb71464ae76\" y=\"104.235008\"/>\n     <use style=\"fill:#1f77b4;stroke:#1f77b4;\" x=\"207.239943\" xlink:href=\"#mb71464ae76\" y=\"141.327853\"/>\n     <use style=\"fill:#1f77b4;stroke:#1f77b4;\" x=\"98.393385\" xlink:href=\"#mb71464ae76\" y=\"195.572905\"/>\n     <use style=\"fill:#1f77b4;stroke:#1f77b4;\" x=\"77.431885\" xlink:href=\"#mb71464ae76\" y=\"206.518754\"/>\n     <use style=\"fill:#1f77b4;stroke:#1f77b4;\" x=\"96.359524\" xlink:href=\"#mb71464ae76\" y=\"196.934427\"/>\n     <use style=\"fill:#1f77b4;stroke:#1f77b4;\" x=\"82.588183\" xlink:href=\"#mb71464ae76\" y=\"203.957912\"/>\n     <use style=\"fill:#1f77b4;stroke:#1f77b4;\" x=\"79.216976\" xlink:href=\"#mb71464ae76\" y=\"205.731984\"/>\n     <use style=\"fill:#1f77b4;stroke:#1f77b4;\" x=\"232.247546\" xlink:href=\"#mb71464ae76\" y=\"125.749177\"/>\n     <use style=\"fill:#1f77b4;stroke:#1f77b4;\" x=\"178.614187\" xlink:href=\"#mb71464ae76\" y=\"154.254209\"/>\n     <use style=\"fill:#1f77b4;stroke:#1f77b4;\" x=\"122.563883\" xlink:href=\"#mb71464ae76\" y=\"183.327715\"/>\n     <use style=\"fill:#1f77b4;stroke:#1f77b4;\" x=\"255.254668\" xlink:href=\"#mb71464ae76\" y=\"108.472578\"/>\n     <use style=\"fill:#1f77b4;stroke:#1f77b4;\" x=\"301.720822\" xlink:href=\"#mb71464ae76\" y=\"91.510578\"/>\n     <use style=\"fill:#1f77b4;stroke:#1f77b4;\" x=\"69.64023\" xlink:href=\"#mb71464ae76\" y=\"210.542104\"/>\n     <use style=\"fill:#1f77b4;stroke:#1f77b4;\" x=\"132.051034\" xlink:href=\"#mb71464ae76\" y=\"178.469863\"/>\n     <use style=\"fill:#1f77b4;stroke:#1f77b4;\" x=\"124.492257\" xlink:href=\"#mb71464ae76\" y=\"182.44368\"/>\n     <use style=\"fill:#1f77b4;stroke:#1f77b4;\" x=\"100.514686\" xlink:href=\"#mb71464ae76\" y=\"194.51443\"/>\n     <use style=\"fill:#1f77b4;stroke:#1f77b4;\" x=\"154.240948\" xlink:href=\"#mb71464ae76\" y=\"165.988901\"/>\n     <use style=\"fill:#1f77b4;stroke:#1f77b4;\" x=\"88.371535\" xlink:href=\"#mb71464ae76\" y=\"201.029151\"/>\n     <use style=\"fill:#1f77b4;stroke:#1f77b4;\" x=\"79.997705\" xlink:href=\"#mb71464ae76\" y=\"204.918191\"/>\n     <use style=\"fill:#1f77b4;stroke:#1f77b4;\" x=\"130.875499\" xlink:href=\"#mb71464ae76\" y=\"179.379689\"/>\n     <use style=\"fill:#1f77b4;stroke:#1f77b4;\" x=\"76.413407\" xlink:href=\"#mb71464ae76\" y=\"136.199514\"/>\n     <use style=\"fill:#1f77b4;stroke:#1f77b4;\" x=\"185.312663\" xlink:href=\"#mb71464ae76\" y=\"150.935369\"/>\n     <use style=\"fill:#1f77b4;stroke:#1f77b4;\" x=\"98.731589\" xlink:href=\"#mb71464ae76\" y=\"195.70344\"/>\n     <use style=\"fill:#1f77b4;stroke:#1f77b4;\" x=\"355.457637\" xlink:href=\"#mb71464ae76\" y=\"64.242143\"/>\n     <use style=\"fill:#1f77b4;stroke:#1f77b4;\" x=\"117.123653\" xlink:href=\"#mb71464ae76\" y=\"185.909147\"/>\n     <use style=\"fill:#1f77b4;stroke:#1f77b4;\" x=\"81.891517\" xlink:href=\"#mb71464ae76\" y=\"204.011715\"/>\n     <use style=\"fill:#1f77b4;stroke:#1f77b4;\" x=\"125.457191\" xlink:href=\"#mb71464ae76\" y=\"181.770426\"/>\n     <use style=\"fill:#1f77b4;stroke:#1f77b4;\" x=\"116.958017\" xlink:href=\"#mb71464ae76\" y=\"186.405223\"/>\n     <use style=\"fill:#1f77b4;stroke:#1f77b4;\" x=\"69.813649\" xlink:href=\"#mb71464ae76\" y=\"210.413015\"/>\n     <use style=\"fill:#1f77b4;stroke:#1f77b4;\" x=\"328.017703\" xlink:href=\"#mb71464ae76\" y=\"78.201168\"/>\n     <use style=\"fill:#1f77b4;stroke:#1f77b4;\" x=\"122.140674\" xlink:href=\"#mb71464ae76\" y=\"183.812768\"/>\n     <use style=\"fill:#1f77b4;stroke:#1f77b4;\" x=\"87.051599\" xlink:href=\"#mb71464ae76\" y=\"201.760175\"/>\n     <use style=\"fill:#1f77b4;stroke:#1f77b4;\" x=\"67.691007\" xlink:href=\"#mb71464ae76\" y=\"211.510875\"/>\n     <use style=\"fill:#1f77b4;stroke:#1f77b4;\" x=\"138.360145\" xlink:href=\"#mb71464ae76\" y=\"175.332966\"/>\n     <use style=\"fill:#1f77b4;stroke:#1f77b4;\" x=\"119.30313\" xlink:href=\"#mb71464ae76\" y=\"184.848644\"/>\n     <use style=\"fill:#1f77b4;stroke:#1f77b4;\" x=\"281.857112\" xlink:href=\"#mb71464ae76\" y=\"100.699006\"/>\n     <use style=\"fill:#1f77b4;stroke:#1f77b4;\" x=\"66.899599\" xlink:href=\"#mb71464ae76\" y=\"211.92198\"/>\n     <use style=\"fill:#1f77b4;stroke:#1f77b4;\" x=\"77.756095\" xlink:href=\"#mb71464ae76\" y=\"206.607956\"/>\n     <use style=\"fill:#1f77b4;stroke:#1f77b4;\" x=\"65.983952\" xlink:href=\"#mb71464ae76\" y=\"212.362739\"/>\n     <use style=\"fill:#1f77b4;stroke:#1f77b4;\" x=\"75.999116\" xlink:href=\"#mb71464ae76\" y=\"207.302188\"/>\n     <use style=\"fill:#1f77b4;stroke:#1f77b4;\" x=\"185.577431\" xlink:href=\"#mb71464ae76\" y=\"151.217222\"/>\n     <use style=\"fill:#1f77b4;stroke:#1f77b4;\" x=\"119.605412\" xlink:href=\"#mb71464ae76\" y=\"184.961172\"/>\n     <use style=\"fill:#1f77b4;stroke:#1f77b4;\" x=\"67.85899\" xlink:href=\"#mb71464ae76\" y=\"211.365719\"/>\n     <use style=\"fill:#1f77b4;stroke:#1f77b4;\" x=\"127.038885\" xlink:href=\"#mb71464ae76\" y=\"180.967483\"/>\n     <use style=\"fill:#1f77b4;stroke:#1f77b4;\" x=\"266.791523\" xlink:href=\"#mb71464ae76\" y=\"109.629335\"/>\n     <use style=\"fill:#1f77b4;stroke:#1f77b4;\" x=\"159.666238\" xlink:href=\"#mb71464ae76\" y=\"163.090708\"/>\n     <use style=\"fill:#1f77b4;stroke:#1f77b4;\" x=\"83.960745\" xlink:href=\"#mb71464ae76\" y=\"202.815154\"/>\n     <use style=\"fill:#1f77b4;stroke:#1f77b4;\" x=\"263.530081\" xlink:href=\"#mb71464ae76\" y=\"110.492561\"/>\n     <use style=\"fill:#1f77b4;stroke:#1f77b4;\" x=\"188.727611\" xlink:href=\"#mb71464ae76\" y=\"150.544833\"/>\n     <use style=\"fill:#1f77b4;stroke:#1f77b4;\" x=\"330.555112\" xlink:href=\"#mb71464ae76\" y=\"52.358221\"/>\n     <use style=\"fill:#1f77b4;stroke:#1f77b4;\" x=\"266.589538\" xlink:href=\"#mb71464ae76\" y=\"110.215591\"/>\n     <use style=\"fill:#1f77b4;stroke:#1f77b4;\" x=\"148.512285\" xlink:href=\"#mb71464ae76\" y=\"170.240479\"/>\n     <use style=\"fill:#1f77b4;stroke:#1f77b4;\" x=\"102.104325\" xlink:href=\"#mb71464ae76\" y=\"193.873365\"/>\n     <use style=\"fill:#1f77b4;stroke:#1f77b4;\" x=\"92.279774\" xlink:href=\"#mb71464ae76\" y=\"198.737474\"/>\n     <use style=\"fill:#1f77b4;stroke:#1f77b4;\" x=\"102.688275\" xlink:href=\"#mb71464ae76\" y=\"151.303032\"/>\n     <use style=\"fill:#1f77b4;stroke:#1f77b4;\" x=\"86.493348\" xlink:href=\"#mb71464ae76\" y=\"202.083616\"/>\n     <use style=\"fill:#1f77b4;stroke:#1f77b4;\" x=\"132.407831\" xlink:href=\"#mb71464ae76\" y=\"178.563401\"/>\n     <use style=\"fill:#1f77b4;stroke:#1f77b4;\" x=\"282.159833\" xlink:href=\"#mb71464ae76\" y=\"138.438053\"/>\n     <use style=\"fill:#1f77b4;stroke:#1f77b4;\" x=\"137.596769\" xlink:href=\"#mb71464ae76\" y=\"175.818367\"/>\n     <use style=\"fill:#1f77b4;stroke:#1f77b4;\" x=\"169.658669\" xlink:href=\"#mb71464ae76\" y=\"159.084881\"/>\n     <use style=\"fill:#1f77b4;stroke:#1f77b4;\" x=\"343.370452\" xlink:href=\"#mb71464ae76\" y=\"71.263683\"/>\n     <use style=\"fill:#1f77b4;stroke:#1f77b4;\" x=\"91.294881\" xlink:href=\"#mb71464ae76\" y=\"199.595408\"/>\n     <use style=\"fill:#1f77b4;stroke:#1f77b4;\" x=\"122.929228\" xlink:href=\"#mb71464ae76\" y=\"183.365711\"/>\n     <use style=\"fill:#1f77b4;stroke:#1f77b4;\" x=\"79.425256\" xlink:href=\"#mb71464ae76\" y=\"205.25205\"/>\n     <use style=\"fill:#1f77b4;stroke:#1f77b4;\" x=\"123.89201\" xlink:href=\"#mb71464ae76\" y=\"182.788658\"/>\n     <use style=\"fill:#1f77b4;stroke:#1f77b4;\" x=\"130.035827\" xlink:href=\"#mb71464ae76\" y=\"123.437639\"/>\n     <use style=\"fill:#1f77b4;stroke:#1f77b4;\" x=\"64.816174\" xlink:href=\"#mb71464ae76\" y=\"212.906977\"/>\n     <use style=\"fill:#1f77b4;stroke:#1f77b4;\" x=\"86.41054\" xlink:href=\"#mb71464ae76\" y=\"201.858575\"/>\n     <use style=\"fill:#1f77b4;stroke:#1f77b4;\" x=\"132.309223\" xlink:href=\"#mb71464ae76\" y=\"178.402977\"/>\n     <use style=\"fill:#1f77b4;stroke:#1f77b4;\" x=\"92.102055\" xlink:href=\"#mb71464ae76\" y=\"199.104578\"/>\n     <use style=\"fill:#1f77b4;stroke:#1f77b4;\" x=\"115.099719\" xlink:href=\"#mb71464ae76\" y=\"187.409716\"/>\n     <use style=\"fill:#1f77b4;stroke:#1f77b4;\" x=\"176.562752\" xlink:href=\"#mb71464ae76\" y=\"155.828083\"/>\n     <use style=\"fill:#1f77b4;stroke:#1f77b4;\" x=\"136.102524\" xlink:href=\"#mb71464ae76\" y=\"176.59275\"/>\n     <use style=\"fill:#1f77b4;stroke:#1f77b4;\" x=\"88.486195\" xlink:href=\"#mb71464ae76\" y=\"200.530591\"/>\n     <use style=\"fill:#1f77b4;stroke:#1f77b4;\" x=\"94.632296\" xlink:href=\"#mb71464ae76\" y=\"197.786212\"/>\n     <use style=\"fill:#1f77b4;stroke:#1f77b4;\" x=\"80.083803\" xlink:href=\"#mb71464ae76\" y=\"205.241196\"/>\n     <use style=\"fill:#1f77b4;stroke:#1f77b4;\" x=\"338.353686\" xlink:href=\"#mb71464ae76\" y=\"74.068399\"/>\n     <use style=\"fill:#1f77b4;stroke:#1f77b4;\" x=\"118.47891\" xlink:href=\"#mb71464ae76\" y=\"185.459069\"/>\n     <use style=\"fill:#1f77b4;stroke:#1f77b4;\" x=\"103.898998\" xlink:href=\"#mb71464ae76\" y=\"192.965814\"/>\n     <use style=\"fill:#1f77b4;stroke:#1f77b4;\" x=\"64.878106\" xlink:href=\"#mb71464ae76\" y=\"212.870897\"/>\n     <use style=\"fill:#1f77b4;stroke:#1f77b4;\" x=\"311.7955\" xlink:href=\"#mb71464ae76\" y=\"85.935232\"/>\n     <use style=\"fill:#1f77b4;stroke:#1f77b4;\" x=\"345.492231\" xlink:href=\"#mb71464ae76\" y=\"68.538211\"/>\n     <use style=\"fill:#1f77b4;stroke:#1f77b4;\" x=\"65.59894\" xlink:href=\"#mb71464ae76\" y=\"212.532\"/>\n     <use style=\"fill:#1f77b4;stroke:#1f77b4;\" x=\"173.199855\" xlink:href=\"#mb71464ae76\" y=\"158.272765\"/>\n     <use style=\"fill:#1f77b4;stroke:#1f77b4;\" x=\"82.930091\" xlink:href=\"#mb71464ae76\" y=\"203.894943\"/>\n     <use style=\"fill:#1f77b4;stroke:#1f77b4;\" x=\"78.922651\" xlink:href=\"#mb71464ae76\" y=\"205.713213\"/>\n     <use style=\"fill:#1f77b4;stroke:#1f77b4;\" x=\"269.913933\" xlink:href=\"#mb71464ae76\" y=\"131.419408\"/>\n     <use style=\"fill:#1f77b4;stroke:#1f77b4;\" x=\"288.109348\" xlink:href=\"#mb71464ae76\" y=\"77.617288\"/>\n     <use style=\"fill:#1f77b4;stroke:#1f77b4;\" x=\"86.524771\" xlink:href=\"#mb71464ae76\" y=\"201.674815\"/>\n     <use style=\"fill:#1f77b4;stroke:#1f77b4;\" x=\"128.362494\" xlink:href=\"#mb71464ae76\" y=\"180.627823\"/>\n     <use style=\"fill:#1f77b4;stroke:#1f77b4;\" x=\"129.492656\" xlink:href=\"#mb71464ae76\" y=\"179.969272\"/>\n     <use style=\"fill:#1f77b4;stroke:#1f77b4;\" x=\"64.863035\" xlink:href=\"#mb71464ae76\" y=\"212.832274\"/>\n     <use style=\"fill:#1f77b4;stroke:#1f77b4;\" x=\"78.250409\" xlink:href=\"#mb71464ae76\" y=\"172.778101\"/>\n     <use style=\"fill:#1f77b4;stroke:#1f77b4;\" x=\"178.215937\" xlink:href=\"#mb71464ae76\" y=\"154.719739\"/>\n     <use style=\"fill:#1f77b4;stroke:#1f77b4;\" x=\"99.73547\" xlink:href=\"#mb71464ae76\" y=\"195.118465\"/>\n     <use style=\"fill:#1f77b4;stroke:#1f77b4;\" x=\"138.604815\" xlink:href=\"#mb71464ae76\" y=\"175.272135\"/>\n     <use style=\"fill:#1f77b4;stroke:#1f77b4;\" x=\"135.920424\" xlink:href=\"#mb71464ae76\" y=\"175.998627\"/>\n     <use style=\"fill:#1f77b4;stroke:#1f77b4;\" x=\"199.106645\" xlink:href=\"#mb71464ae76\" y=\"145.51868\"/>\n     <use style=\"fill:#1f77b4;stroke:#1f77b4;\" x=\"78.545578\" xlink:href=\"#mb71464ae76\" y=\"206.067208\"/>\n     <use style=\"fill:#1f77b4;stroke:#1f77b4;\" x=\"141.548504\" xlink:href=\"#mb71464ae76\" y=\"173.31412\"/>\n     <use style=\"fill:#1f77b4;stroke:#1f77b4;\" x=\"118.932735\" xlink:href=\"#mb71464ae76\" y=\"185.321921\"/>\n     <use style=\"fill:#1f77b4;stroke:#1f77b4;\" x=\"103.328271\" xlink:href=\"#mb71464ae76\" y=\"193.000228\"/>\n     <use style=\"fill:#1f77b4;stroke:#1f77b4;\" x=\"111.994486\" xlink:href=\"#mb71464ae76\" y=\"188.937381\"/>\n     <use style=\"fill:#1f77b4;stroke:#1f77b4;\" x=\"84.077653\" xlink:href=\"#mb71464ae76\" y=\"203.317967\"/>\n     <use style=\"fill:#1f77b4;stroke:#1f77b4;\" x=\"298.381279\" xlink:href=\"#mb71464ae76\" y=\"92.075098\"/>\n     <use style=\"fill:#1f77b4;stroke:#1f77b4;\" x=\"99.192043\" xlink:href=\"#mb71464ae76\" y=\"156.778876\"/>\n     <use style=\"fill:#1f77b4;stroke:#1f77b4;\" x=\"130.626744\" xlink:href=\"#mb71464ae76\" y=\"179.337585\"/>\n     <use style=\"fill:#1f77b4;stroke:#1f77b4;\" x=\"116.847305\" xlink:href=\"#mb71464ae76\" y=\"186.472665\"/>\n     <use style=\"fill:#1f77b4;stroke:#1f77b4;\" x=\"67.764288\" xlink:href=\"#mb71464ae76\" y=\"211.28655\"/>\n     <use style=\"fill:#1f77b4;stroke:#1f77b4;\" x=\"70.371001\" xlink:href=\"#mb71464ae76\" y=\"210.198279\"/>\n     <use style=\"fill:#1f77b4;stroke:#1f77b4;\" x=\"136.188753\" xlink:href=\"#mb71464ae76\" y=\"176.555667\"/>\n     <use style=\"fill:#1f77b4;stroke:#1f77b4;\" x=\"78.52935\" xlink:href=\"#mb71464ae76\" y=\"158.855089\"/>\n     <use style=\"fill:#1f77b4;stroke:#1f77b4;\" x=\"83.346318\" xlink:href=\"#mb71464ae76\" y=\"203.504935\"/>\n     <use style=\"fill:#1f77b4;stroke:#1f77b4;\" x=\"94.157277\" xlink:href=\"#mb71464ae76\" y=\"197.868952\"/>\n     <use style=\"fill:#1f77b4;stroke:#1f77b4;\" x=\"83.242023\" xlink:href=\"#mb71464ae76\" y=\"203.345685\"/>\n     <use style=\"fill:#1f77b4;stroke:#1f77b4;\" x=\"144.338418\" xlink:href=\"#mb71464ae76\" y=\"172.878046\"/>\n     <use style=\"fill:#1f77b4;stroke:#1f77b4;\" x=\"124.03737\" xlink:href=\"#mb71464ae76\" y=\"182.462909\"/>\n     <use style=\"fill:#1f77b4;stroke:#1f77b4;\" x=\"93.786281\" xlink:href=\"#mb71464ae76\" y=\"198.29787\"/>\n     <use style=\"fill:#1f77b4;stroke:#1f77b4;\" x=\"116.509881\" xlink:href=\"#mb71464ae76\" y=\"186.60707\"/>\n     <use style=\"fill:#1f77b4;stroke:#1f77b4;\" x=\"360.716706\" xlink:href=\"#mb71464ae76\" y=\"61.865559\"/>\n     <use style=\"fill:#1f77b4;stroke:#1f77b4;\" x=\"91.265136\" xlink:href=\"#mb71464ae76\" y=\"199.46012\"/>\n     <use style=\"fill:#1f77b4;stroke:#1f77b4;\" x=\"283.032873\" xlink:href=\"#mb71464ae76\" y=\"101.030269\"/>\n     <use style=\"fill:#1f77b4;stroke:#1f77b4;\" x=\"121.53361\" xlink:href=\"#mb71464ae76\" y=\"183.770857\"/>\n     <use style=\"fill:#1f77b4;stroke:#1f77b4;\" x=\"129.613137\" xlink:href=\"#mb71464ae76\" y=\"179.983131\"/>\n     <use style=\"fill:#1f77b4;stroke:#1f77b4;\" x=\"61.968504\" xlink:href=\"#mb71464ae76\" y=\"214.314674\"/>\n     <use style=\"fill:#1f77b4;stroke:#1f77b4;\" x=\"73.342697\" xlink:href=\"#mb71464ae76\" y=\"208.60696\"/>\n     <use style=\"fill:#1f77b4;stroke:#1f77b4;\" x=\"147.795148\" xlink:href=\"#mb71464ae76\" y=\"170.430599\"/>\n     <use style=\"fill:#1f77b4;stroke:#1f77b4;\" x=\"144.759571\" xlink:href=\"#mb71464ae76\" y=\"123.112528\"/>\n     <use style=\"fill:#1f77b4;stroke:#1f77b4;\" x=\"64.42017\" xlink:href=\"#mb71464ae76\" y=\"213.147828\"/>\n     <use style=\"fill:#1f77b4;stroke:#1f77b4;\" x=\"121.110591\" xlink:href=\"#mb71464ae76\" y=\"184.230837\"/>\n     <use style=\"fill:#1f77b4;stroke:#1f77b4;\" x=\"192.985708\" xlink:href=\"#mb71464ae76\" y=\"147.834183\"/>\n     <use style=\"fill:#1f77b4;stroke:#1f77b4;\" x=\"112.813469\" xlink:href=\"#mb71464ae76\" y=\"188.319356\"/>\n     <use style=\"fill:#1f77b4;stroke:#1f77b4;\" x=\"69.44684\" xlink:href=\"#mb71464ae76\" y=\"210.334906\"/>\n     <use style=\"fill:#1f77b4;stroke:#1f77b4;\" x=\"69.651928\" xlink:href=\"#mb71464ae76\" y=\"210.535106\"/>\n     <use style=\"fill:#1f77b4;stroke:#1f77b4;\" x=\"70.524907\" xlink:href=\"#mb71464ae76\" y=\"210.099493\"/>\n     <use style=\"fill:#1f77b4;stroke:#1f77b4;\" x=\"124.625159\" xlink:href=\"#mb71464ae76\" y=\"182.289293\"/>\n     <use style=\"fill:#1f77b4;stroke:#1f77b4;\" x=\"74.950979\" xlink:href=\"#mb71464ae76\" y=\"207.852903\"/>\n     <use style=\"fill:#1f77b4;stroke:#1f77b4;\" x=\"150.183007\" xlink:href=\"#mb71464ae76\" y=\"102.875725\"/>\n     <use style=\"fill:#1f77b4;stroke:#1f77b4;\" x=\"61.912388\" xlink:href=\"#mb71464ae76\" y=\"214.344497\"/>\n     <use style=\"fill:#1f77b4;stroke:#1f77b4;\" x=\"79.687081\" xlink:href=\"#mb71464ae76\" y=\"205.491744\"/>\n     <use style=\"fill:#1f77b4;stroke:#1f77b4;\" x=\"118.496825\" xlink:href=\"#mb71464ae76\" y=\"185.573205\"/>\n     <use style=\"fill:#1f77b4;stroke:#1f77b4;\" x=\"113.390812\" xlink:href=\"#mb71464ae76\" y=\"188.122291\"/>\n     <use style=\"fill:#1f77b4;stroke:#1f77b4;\" x=\"211.33391\" xlink:href=\"#mb71464ae76\" y=\"137.272847\"/>\n     <use style=\"fill:#1f77b4;stroke:#1f77b4;\" x=\"146.175416\" xlink:href=\"#mb71464ae76\" y=\"170.946452\"/>\n     <use style=\"fill:#1f77b4;stroke:#1f77b4;\" x=\"90.022433\" xlink:href=\"#mb71464ae76\" y=\"199.819254\"/>\n     <use style=\"fill:#1f77b4;stroke:#1f77b4;\" x=\"71.346618\" xlink:href=\"#mb71464ae76\" y=\"209.449765\"/>\n     <use style=\"fill:#1f77b4;stroke:#1f77b4;\" x=\"71.526767\" xlink:href=\"#mb71464ae76\" y=\"209.326511\"/>\n     <use style=\"fill:#1f77b4;stroke:#1f77b4;\" x=\"82.139918\" xlink:href=\"#mb71464ae76\" y=\"204.413859\"/>\n     <use style=\"fill:#1f77b4;stroke:#1f77b4;\" x=\"92.75714\" xlink:href=\"#mb71464ae76\" y=\"198.612695\"/>\n     <use style=\"fill:#1f77b4;stroke:#1f77b4;\" x=\"75.940758\" xlink:href=\"#mb71464ae76\" y=\"207.342958\"/>\n     <use style=\"fill:#1f77b4;stroke:#1f77b4;\" x=\"171.588818\" xlink:href=\"#mb71464ae76\" y=\"158.006083\"/>\n     <use style=\"fill:#1f77b4;stroke:#1f77b4;\" x=\"323.047428\" xlink:href=\"#mb71464ae76\" y=\"79.791516\"/>\n     <use style=\"fill:#1f77b4;stroke:#1f77b4;\" x=\"106.073808\" xlink:href=\"#mb71464ae76\" y=\"191.998758\"/>\n     <use style=\"fill:#1f77b4;stroke:#1f77b4;\" x=\"68.710489\" xlink:href=\"#mb71464ae76\" y=\"211.026437\"/>\n     <use style=\"fill:#1f77b4;stroke:#1f77b4;\" x=\"173.867471\" xlink:href=\"#mb71464ae76\" y=\"156.644702\"/>\n     <use style=\"fill:#1f77b4;stroke:#1f77b4;\" x=\"88.30762\" xlink:href=\"#mb71464ae76\" y=\"200.979256\"/>\n     <use style=\"fill:#1f77b4;stroke:#1f77b4;\" x=\"64.470049\" xlink:href=\"#mb71464ae76\" y=\"213.140591\"/>\n     <use style=\"fill:#1f77b4;stroke:#1f77b4;\" x=\"135.248601\" xlink:href=\"#mb71464ae76\" y=\"177.217282\"/>\n     <use style=\"fill:#1f77b4;stroke:#1f77b4;\" x=\"83.335857\" xlink:href=\"#mb71464ae76\" y=\"153.863773\"/>\n     <use style=\"fill:#1f77b4;stroke:#1f77b4;\" x=\"108.731819\" xlink:href=\"#mb71464ae76\" y=\"190.450696\"/>\n     <use style=\"fill:#1f77b4;stroke:#1f77b4;\" x=\"125.326844\" xlink:href=\"#mb71464ae76\" y=\"181.947216\"/>\n     <use style=\"fill:#1f77b4;stroke:#1f77b4;\" x=\"120.649484\" xlink:href=\"#mb71464ae76\" y=\"184.491797\"/>\n     <use style=\"fill:#1f77b4;stroke:#1f77b4;\" x=\"226.674804\" xlink:href=\"#mb71464ae76\" y=\"129.629048\"/>\n     <use style=\"fill:#1f77b4;stroke:#1f77b4;\" x=\"98.930373\" xlink:href=\"#mb71464ae76\" y=\"195.321099\"/>\n     <use style=\"fill:#1f77b4;stroke:#1f77b4;\" x=\"116.444323\" xlink:href=\"#mb71464ae76\" y=\"186.537137\"/>\n     <use style=\"fill:#1f77b4;stroke:#1f77b4;\" x=\"74.426436\" xlink:href=\"#mb71464ae76\" y=\"208.260823\"/>\n     <use style=\"fill:#1f77b4;stroke:#1f77b4;\" x=\"88.62333\" xlink:href=\"#mb71464ae76\" y=\"201.167103\"/>\n     <use style=\"fill:#1f77b4;stroke:#1f77b4;\" x=\"82.211659\" xlink:href=\"#mb71464ae76\" y=\"204.004476\"/>\n     <use style=\"fill:#1f77b4;stroke:#1f77b4;\" x=\"128.581712\" xlink:href=\"#mb71464ae76\" y=\"180.293093\"/>\n     <use style=\"fill:#1f77b4;stroke:#1f77b4;\" x=\"129.952433\" xlink:href=\"#mb71464ae76\" y=\"179.585398\"/>\n     <use style=\"fill:#1f77b4;stroke:#1f77b4;\" x=\"99.756706\" xlink:href=\"#mb71464ae76\" y=\"195.120493\"/>\n     <use style=\"fill:#1f77b4;stroke:#1f77b4;\" x=\"107.346024\" xlink:href=\"#mb71464ae76\" y=\"191.325949\"/>\n     <use style=\"fill:#1f77b4;stroke:#1f77b4;\" x=\"108.160525\" xlink:href=\"#mb71464ae76\" y=\"190.639497\"/>\n     <use style=\"fill:#1f77b4;stroke:#1f77b4;\" x=\"65.221658\" xlink:href=\"#mb71464ae76\" y=\"212.744996\"/>\n     <use style=\"fill:#1f77b4;stroke:#1f77b4;\" x=\"99.684629\" xlink:href=\"#mb71464ae76\" y=\"194.809513\"/>\n     <use style=\"fill:#1f77b4;stroke:#1f77b4;\" x=\"141.791972\" xlink:href=\"#mb71464ae76\" y=\"174.118899\"/>\n     <use style=\"fill:#1f77b4;stroke:#1f77b4;\" x=\"98.407681\" xlink:href=\"#mb71464ae76\" y=\"195.548322\"/>\n     <use style=\"fill:#1f77b4;stroke:#1f77b4;\" x=\"121.08098\" xlink:href=\"#mb71464ae76\" y=\"184.227726\"/>\n     <use style=\"fill:#1f77b4;stroke:#1f77b4;\" x=\"142.432227\" xlink:href=\"#mb71464ae76\" y=\"173.132208\"/>\n     <use style=\"fill:#1f77b4;stroke:#1f77b4;\" x=\"84.223446\" xlink:href=\"#mb71464ae76\" y=\"203.164609\"/>\n     <use style=\"fill:#1f77b4;stroke:#1f77b4;\" x=\"89.90161\" xlink:href=\"#mb71464ae76\" y=\"200.282251\"/>\n     <use style=\"fill:#1f77b4;stroke:#1f77b4;\" x=\"164.430528\" xlink:href=\"#mb71464ae76\" y=\"162.888538\"/>\n     <use style=\"fill:#1f77b4;stroke:#1f77b4;\" x=\"71.741364\" xlink:href=\"#mb71464ae76\" y=\"209.457461\"/>\n     <use style=\"fill:#1f77b4;stroke:#1f77b4;\" x=\"106.888528\" xlink:href=\"#mb71464ae76\" y=\"191.407003\"/>\n     <use style=\"fill:#1f77b4;stroke:#1f77b4;\" x=\"121.718503\" xlink:href=\"#mb71464ae76\" y=\"183.663219\"/>\n     <use style=\"fill:#1f77b4;stroke:#1f77b4;\" x=\"64.831299\" xlink:href=\"#mb71464ae76\" y=\"212.90406\"/>\n     <use style=\"fill:#1f77b4;stroke:#1f77b4;\" x=\"64.731684\" xlink:href=\"#mb71464ae76\" y=\"212.987134\"/>\n     <use style=\"fill:#1f77b4;stroke:#1f77b4;\" x=\"136.185241\" xlink:href=\"#mb71464ae76\" y=\"154.662903\"/>\n     <use style=\"fill:#1f77b4;stroke:#1f77b4;\" x=\"169.538078\" xlink:href=\"#mb71464ae76\" y=\"157.71528\"/>\n     <use style=\"fill:#1f77b4;stroke:#1f77b4;\" x=\"87.176416\" xlink:href=\"#mb71464ae76\" y=\"201.304009\"/>\n     <use style=\"fill:#1f77b4;stroke:#1f77b4;\" x=\"95.297865\" xlink:href=\"#mb71464ae76\" y=\"197.491913\"/>\n     <use style=\"fill:#1f77b4;stroke:#1f77b4;\" x=\"104.978825\" xlink:href=\"#mb71464ae76\" y=\"192.661519\"/>\n     <use style=\"fill:#1f77b4;stroke:#1f77b4;\" x=\"85.415299\" xlink:href=\"#mb71464ae76\" y=\"202.678377\"/>\n     <use style=\"fill:#1f77b4;stroke:#1f77b4;\" x=\"112.030982\" xlink:href=\"#mb71464ae76\" y=\"189.063292\"/>\n     <use style=\"fill:#1f77b4;stroke:#1f77b4;\" x=\"120.486824\" xlink:href=\"#mb71464ae76\" y=\"155.981654\"/>\n     <use style=\"fill:#1f77b4;stroke:#1f77b4;\" x=\"129.015305\" xlink:href=\"#mb71464ae76\" y=\"180.024037\"/>\n     <use style=\"fill:#1f77b4;stroke:#1f77b4;\" x=\"122.758958\" xlink:href=\"#mb71464ae76\" y=\"183.545003\"/>\n     <use style=\"fill:#1f77b4;stroke:#1f77b4;\" x=\"83.228584\" xlink:href=\"#mb71464ae76\" y=\"203.904418\"/>\n     <use style=\"fill:#1f77b4;stroke:#1f77b4;\" x=\"174.997839\" xlink:href=\"#mb71464ae76\" y=\"156.699209\"/>\n     <use style=\"fill:#1f77b4;stroke:#1f77b4;\" x=\"76.22912\" xlink:href=\"#mb71464ae76\" y=\"207.309959\"/>\n     <use style=\"fill:#1f77b4;stroke:#1f77b4;\" x=\"61.274032\" xlink:href=\"#mb71464ae76\" y=\"214.72597\"/>\n     <use style=\"fill:#1f77b4;stroke:#1f77b4;\" x=\"68.717782\" xlink:href=\"#mb71464ae76\" y=\"184.23214\"/>\n     <use style=\"fill:#1f77b4;stroke:#1f77b4;\" x=\"88.201445\" xlink:href=\"#mb71464ae76\" y=\"201.208331\"/>\n     <use style=\"fill:#1f77b4;stroke:#1f77b4;\" x=\"87.35912\" xlink:href=\"#mb71464ae76\" y=\"201.328873\"/>\n     <use style=\"fill:#1f77b4;stroke:#1f77b4;\" x=\"175.135736\" xlink:href=\"#mb71464ae76\" y=\"156.469375\"/>\n     <use style=\"fill:#1f77b4;stroke:#1f77b4;\" x=\"178.035026\" xlink:href=\"#mb71464ae76\" y=\"155.160495\"/>\n     <use style=\"fill:#1f77b4;stroke:#1f77b4;\" x=\"75.483877\" xlink:href=\"#mb71464ae76\" y=\"207.432396\"/>\n     <use style=\"fill:#1f77b4;stroke:#1f77b4;\" x=\"184.860777\" xlink:href=\"#mb71464ae76\" y=\"151.724664\"/>\n     <use style=\"fill:#1f77b4;stroke:#1f77b4;\" x=\"315.18163\" xlink:href=\"#mb71464ae76\" y=\"84.006778\"/>\n     <use style=\"fill:#1f77b4;stroke:#1f77b4;\" x=\"169.886118\" xlink:href=\"#mb71464ae76\" y=\"158.432942\"/>\n     <use style=\"fill:#1f77b4;stroke:#1f77b4;\" x=\"64.872269\" xlink:href=\"#mb71464ae76\" y=\"177.624637\"/>\n     <use style=\"fill:#1f77b4;stroke:#1f77b4;\" x=\"142.70605\" xlink:href=\"#mb71464ae76\" y=\"172.825877\"/>\n     <use style=\"fill:#1f77b4;stroke:#1f77b4;\" x=\"75.380743\" xlink:href=\"#mb71464ae76\" y=\"207.67344\"/>\n     <use style=\"fill:#1f77b4;stroke:#1f77b4;\" x=\"61.964441\" xlink:href=\"#mb71464ae76\" y=\"214.315989\"/>\n     <use style=\"fill:#1f77b4;stroke:#1f77b4;\" x=\"80.420995\" xlink:href=\"#mb71464ae76\" y=\"165.299058\"/>\n     <use style=\"fill:#1f77b4;stroke:#1f77b4;\" x=\"119.82963\" xlink:href=\"#mb71464ae76\" y=\"184.914391\"/>\n     <use style=\"fill:#1f77b4;stroke:#1f77b4;\" x=\"66.254463\" xlink:href=\"#mb71464ae76\" y=\"212.096772\"/>\n     <use style=\"fill:#1f77b4;stroke:#1f77b4;\" x=\"85.493821\" xlink:href=\"#mb71464ae76\" y=\"202.507695\"/>\n     <use style=\"fill:#1f77b4;stroke:#1f77b4;\" x=\"63.920112\" xlink:href=\"#mb71464ae76\" y=\"213.180416\"/>\n     <use style=\"fill:#1f77b4;stroke:#1f77b4;\" x=\"65.041132\" xlink:href=\"#mb71464ae76\" y=\"212.791924\"/>\n     <use style=\"fill:#1f77b4;stroke:#1f77b4;\" x=\"158.770173\" xlink:href=\"#mb71464ae76\" y=\"164.387642\"/>\n     <use style=\"fill:#1f77b4;stroke:#1f77b4;\" x=\"64.34815\" xlink:href=\"#mb71464ae76\" y=\"213.198001\"/>\n     <use style=\"fill:#1f77b4;stroke:#1f77b4;\" x=\"141.795186\" xlink:href=\"#mb71464ae76\" y=\"174.118416\"/>\n     <use style=\"fill:#1f77b4;stroke:#1f77b4;\" x=\"99.866406\" xlink:href=\"#mb71464ae76\" y=\"174.988685\"/>\n     <use style=\"fill:#1f77b4;stroke:#1f77b4;\" x=\"105.309346\" xlink:href=\"#mb71464ae76\" y=\"192.362414\"/>\n     <use style=\"fill:#1f77b4;stroke:#1f77b4;\" x=\"67.891639\" xlink:href=\"#mb71464ae76\" y=\"211.35197\"/>\n     <use style=\"fill:#1f77b4;stroke:#1f77b4;\" x=\"79.16983\" xlink:href=\"#mb71464ae76\" y=\"148.929363\"/>\n     <use style=\"fill:#1f77b4;stroke:#1f77b4;\" x=\"125.749192\" xlink:href=\"#mb71464ae76\" y=\"181.900604\"/>\n     <use style=\"fill:#1f77b4;stroke:#1f77b4;\" x=\"112.933999\" xlink:href=\"#mb71464ae76\" y=\"188.189604\"/>\n     <use style=\"fill:#1f77b4;stroke:#1f77b4;\" x=\"91.398349\" xlink:href=\"#mb71464ae76\" y=\"199.437692\"/>\n     <use style=\"fill:#1f77b4;stroke:#1f77b4;\" x=\"345.0627\" xlink:href=\"#mb71464ae76\" y=\"70.348174\"/>\n     <use style=\"fill:#1f77b4;stroke:#1f77b4;\" x=\"93.586513\" xlink:href=\"#mb71464ae76\" y=\"198.122665\"/>\n     <use style=\"fill:#1f77b4;stroke:#1f77b4;\" x=\"133.917132\" xlink:href=\"#mb71464ae76\" y=\"129.040387\"/>\n     <use style=\"fill:#1f77b4;stroke:#1f77b4;\" x=\"123.311789\" xlink:href=\"#mb71464ae76\" y=\"183.072168\"/>\n     <use style=\"fill:#1f77b4;stroke:#1f77b4;\" x=\"188.223588\" xlink:href=\"#mb71464ae76\" y=\"149.592437\"/>\n     <use style=\"fill:#1f77b4;stroke:#1f77b4;\" x=\"126.103117\" xlink:href=\"#mb71464ae76\" y=\"181.84371\"/>\n     <use style=\"fill:#1f77b4;stroke:#1f77b4;\" x=\"76.404076\" xlink:href=\"#mb71464ae76\" y=\"207.067786\"/>\n     <use style=\"fill:#1f77b4;stroke:#1f77b4;\" x=\"65.815616\" xlink:href=\"#mb71464ae76\" y=\"212.271109\"/>\n     <use style=\"fill:#1f77b4;stroke:#1f77b4;\" x=\"133.733666\" xlink:href=\"#mb71464ae76\" y=\"177.076172\"/>\n     <use style=\"fill:#1f77b4;stroke:#1f77b4;\" x=\"81.93172\" xlink:href=\"#mb71464ae76\" y=\"204.282972\"/>\n     <use style=\"fill:#1f77b4;stroke:#1f77b4;\" x=\"97.688096\" xlink:href=\"#mb71464ae76\" y=\"196.049535\"/>\n     <use style=\"fill:#1f77b4;stroke:#1f77b4;\" x=\"113.453595\" xlink:href=\"#mb71464ae76\" y=\"137.342904\"/>\n     <use style=\"fill:#1f77b4;stroke:#1f77b4;\" x=\"76.335962\" xlink:href=\"#mb71464ae76\" y=\"206.955614\"/>\n     <use style=\"fill:#1f77b4;stroke:#1f77b4;\" x=\"77.740076\" xlink:href=\"#mb71464ae76\" y=\"206.43918\"/>\n     <use style=\"fill:#1f77b4;stroke:#1f77b4;\" x=\"129.558964\" xlink:href=\"#mb71464ae76\" y=\"179.729701\"/>\n     <use style=\"fill:#1f77b4;stroke:#1f77b4;\" x=\"101.589439\" xlink:href=\"#mb71464ae76\" y=\"193.914648\"/>\n     <use style=\"fill:#1f77b4;stroke:#1f77b4;\" x=\"65.286335\" xlink:href=\"#mb71464ae76\" y=\"212.515432\"/>\n     <use style=\"fill:#1f77b4;stroke:#1f77b4;\" x=\"76.860348\" xlink:href=\"#mb71464ae76\" y=\"206.794953\"/>\n     <use style=\"fill:#1f77b4;stroke:#1f77b4;\" x=\"98.712619\" xlink:href=\"#mb71464ae76\" y=\"195.744008\"/>\n     <use style=\"fill:#1f77b4;stroke:#1f77b4;\" x=\"112.641363\" xlink:href=\"#mb71464ae76\" y=\"188.601967\"/>\n     <use style=\"fill:#1f77b4;stroke:#1f77b4;\" x=\"277.210949\" xlink:href=\"#mb71464ae76\" y=\"104.082876\"/>\n     <use style=\"fill:#1f77b4;stroke:#1f77b4;\" x=\"144.136171\" xlink:href=\"#mb71464ae76\" y=\"171.936921\"/>\n     <use style=\"fill:#1f77b4;stroke:#1f77b4;\" x=\"126.304486\" xlink:href=\"#mb71464ae76\" y=\"181.839546\"/>\n     <use style=\"fill:#1f77b4;stroke:#1f77b4;\" x=\"285.285219\" xlink:href=\"#mb71464ae76\" y=\"100.022839\"/>\n     <use style=\"fill:#1f77b4;stroke:#1f77b4;\" x=\"73.762759\" xlink:href=\"#mb71464ae76\" y=\"208.32095\"/>\n     <use style=\"fill:#1f77b4;stroke:#1f77b4;\" x=\"67.941616\" xlink:href=\"#mb71464ae76\" y=\"211.494428\"/>\n     <use style=\"fill:#1f77b4;stroke:#1f77b4;\" x=\"74.068072\" xlink:href=\"#mb71464ae76\" y=\"208.28889\"/>\n     <use style=\"fill:#1f77b4;stroke:#1f77b4;\" x=\"234.74727\" xlink:href=\"#mb71464ae76\" y=\"125.14279\"/>\n     <use style=\"fill:#1f77b4;stroke:#1f77b4;\" x=\"136.430374\" xlink:href=\"#mb71464ae76\" y=\"176.568774\"/>\n     <use style=\"fill:#1f77b4;stroke:#1f77b4;\" x=\"181.365568\" xlink:href=\"#mb71464ae76\" y=\"154.449863\"/>\n     <use style=\"fill:#1f77b4;stroke:#1f77b4;\" x=\"118.613477\" xlink:href=\"#mb71464ae76\" y=\"185.285865\"/>\n     <use style=\"fill:#1f77b4;stroke:#1f77b4;\" x=\"85.351915\" xlink:href=\"#mb71464ae76\" y=\"202.152262\"/>\n     <use style=\"fill:#1f77b4;stroke:#1f77b4;\" x=\"125.256432\" xlink:href=\"#mb71464ae76\" y=\"182.047499\"/>\n     <use style=\"fill:#1f77b4;stroke:#1f77b4;\" x=\"125.399932\" xlink:href=\"#mb71464ae76\" y=\"182.151739\"/>\n     <use style=\"fill:#1f77b4;stroke:#1f77b4;\" x=\"301.303559\" xlink:href=\"#mb71464ae76\" y=\"91.757812\"/>\n     <use style=\"fill:#1f77b4;stroke:#1f77b4;\" x=\"67.938277\" xlink:href=\"#mb71464ae76\" y=\"211.491051\"/>\n     <use style=\"fill:#1f77b4;stroke:#1f77b4;\" x=\"287.034128\" xlink:href=\"#mb71464ae76\" y=\"20.799133\"/>\n     <use style=\"fill:#1f77b4;stroke:#1f77b4;\" x=\"104.276208\" xlink:href=\"#mb71464ae76\" y=\"192.856023\"/>\n     <use style=\"fill:#1f77b4;stroke:#1f77b4;\" x=\"63.912508\" xlink:href=\"#mb71464ae76\" y=\"213.157916\"/>\n     <use style=\"fill:#1f77b4;stroke:#1f77b4;\" x=\"103.135893\" xlink:href=\"#mb71464ae76\" y=\"193.258233\"/>\n     <use style=\"fill:#1f77b4;stroke:#1f77b4;\" x=\"72.983858\" xlink:href=\"#mb71464ae76\" y=\"156.221604\"/>\n     <use style=\"fill:#1f77b4;stroke:#1f77b4;\" x=\"282.687857\" xlink:href=\"#mb71464ae76\" y=\"101.300964\"/>\n     <use style=\"fill:#1f77b4;stroke:#1f77b4;\" x=\"118.136931\" xlink:href=\"#mb71464ae76\" y=\"185.717421\"/>\n     <use style=\"fill:#1f77b4;stroke:#1f77b4;\" x=\"67.871853\" xlink:href=\"#mb71464ae76\" y=\"211.360303\"/>\n     <use style=\"fill:#1f77b4;stroke:#1f77b4;\" x=\"148.137426\" xlink:href=\"#mb71464ae76\" y=\"170.457528\"/>\n     <use style=\"fill:#1f77b4;stroke:#1f77b4;\" x=\"137.400187\" xlink:href=\"#mb71464ae76\" y=\"175.854331\"/>\n     <use style=\"fill:#1f77b4;stroke:#1f77b4;\" x=\"93.07702\" xlink:href=\"#mb71464ae76\" y=\"198.185916\"/>\n     <use style=\"fill:#1f77b4;stroke:#1f77b4;\" x=\"108.684537\" xlink:href=\"#mb71464ae76\" y=\"190.456397\"/>\n     <use style=\"fill:#1f77b4;stroke:#1f77b4;\" x=\"91.421186\" xlink:href=\"#mb71464ae76\" y=\"199.445411\"/>\n     <use style=\"fill:#1f77b4;stroke:#1f77b4;\" x=\"69.759833\" xlink:href=\"#mb71464ae76\" y=\"210.417357\"/>\n     <use style=\"fill:#1f77b4;stroke:#1f77b4;\" x=\"130.266898\" xlink:href=\"#mb71464ae76\" y=\"179.661444\"/>\n     <use style=\"fill:#1f77b4;stroke:#1f77b4;\" x=\"140.035941\" xlink:href=\"#mb71464ae76\" y=\"174.319155\"/>\n     <use style=\"fill:#1f77b4;stroke:#1f77b4;\" x=\"95.418609\" xlink:href=\"#mb71464ae76\" y=\"197.623671\"/>\n     <use style=\"fill:#1f77b4;stroke:#1f77b4;\" x=\"90.958149\" xlink:href=\"#mb71464ae76\" y=\"199.397644\"/>\n     <use style=\"fill:#1f77b4;stroke:#1f77b4;\" x=\"131.428463\" xlink:href=\"#mb71464ae76\" y=\"178.933145\"/>\n     <use style=\"fill:#1f77b4;stroke:#1f77b4;\" x=\"142.981209\" xlink:href=\"#mb71464ae76\" y=\"172.703067\"/>\n     <use style=\"fill:#1f77b4;stroke:#1f77b4;\" x=\"329.357472\" xlink:href=\"#mb71464ae76\" y=\"78.127346\"/>\n     <use style=\"fill:#1f77b4;stroke:#1f77b4;\" x=\"93.482508\" xlink:href=\"#mb71464ae76\" y=\"198.232554\"/>\n     <use style=\"fill:#1f77b4;stroke:#1f77b4;\" x=\"125.302629\" xlink:href=\"#mb71464ae76\" y=\"152.953746\"/>\n     <use style=\"fill:#1f77b4;stroke:#1f77b4;\" x=\"81.515466\" xlink:href=\"#mb71464ae76\" y=\"204.215107\"/>\n     <use style=\"fill:#1f77b4;stroke:#1f77b4;\" x=\"314.382155\" xlink:href=\"#mb71464ae76\" y=\"86.030354\"/>\n     <use style=\"fill:#1f77b4;stroke:#1f77b4;\" x=\"124.362544\" xlink:href=\"#mb71464ae76\" y=\"107.356665\"/>\n     <use style=\"fill:#1f77b4;stroke:#1f77b4;\" x=\"92.76325\" xlink:href=\"#mb71464ae76\" y=\"198.779852\"/>\n     <use style=\"fill:#1f77b4;stroke:#1f77b4;\" x=\"115.325937\" xlink:href=\"#mb71464ae76\" y=\"187.121949\"/>\n     <use style=\"fill:#1f77b4;stroke:#1f77b4;\" x=\"109.484817\" xlink:href=\"#mb71464ae76\" y=\"189.936158\"/>\n     <use style=\"fill:#1f77b4;stroke:#1f77b4;\" x=\"81.931616\" xlink:href=\"#mb71464ae76\" y=\"204.202802\"/>\n     <use style=\"fill:#1f77b4;stroke:#1f77b4;\" x=\"90.802685\" xlink:href=\"#mb71464ae76\" y=\"199.645583\"/>\n     <use style=\"fill:#1f77b4;stroke:#1f77b4;\" x=\"285.414469\" xlink:href=\"#mb71464ae76\" y=\"99.208382\"/>\n     <use style=\"fill:#1f77b4;stroke:#1f77b4;\" x=\"326.992047\" xlink:href=\"#mb71464ae76\" y=\"80.242843\"/>\n     <use style=\"fill:#1f77b4;stroke:#1f77b4;\" x=\"291.288224\" xlink:href=\"#mb71464ae76\" y=\"95.895008\"/>\n     <use style=\"fill:#1f77b4;stroke:#1f77b4;\" x=\"108.681103\" xlink:href=\"#mb71464ae76\" y=\"190.443994\"/>\n     <use style=\"fill:#1f77b4;stroke:#1f77b4;\" x=\"98.744766\" xlink:href=\"#mb71464ae76\" y=\"195.732589\"/>\n     <use style=\"fill:#1f77b4;stroke:#1f77b4;\" x=\"94.358079\" xlink:href=\"#mb71464ae76\" y=\"198.057747\"/>\n     <use style=\"fill:#1f77b4;stroke:#1f77b4;\" x=\"129.655297\" xlink:href=\"#mb71464ae76\" y=\"180.134901\"/>\n     <use style=\"fill:#1f77b4;stroke:#1f77b4;\" x=\"138.895487\" xlink:href=\"#mb71464ae76\" y=\"174.655352\"/>\n     <use style=\"fill:#1f77b4;stroke:#1f77b4;\" x=\"116.9174\" xlink:href=\"#mb71464ae76\" y=\"186.40865\"/>\n     <use style=\"fill:#1f77b4;stroke:#1f77b4;\" x=\"116.883386\" xlink:href=\"#mb71464ae76\" y=\"186.369873\"/>\n     <use style=\"fill:#1f77b4;stroke:#1f77b4;\" x=\"134.147837\" xlink:href=\"#mb71464ae76\" y=\"177.336599\"/>\n     <use style=\"fill:#1f77b4;stroke:#1f77b4;\" x=\"156.327013\" xlink:href=\"#mb71464ae76\" y=\"166.872165\"/>\n     <use style=\"fill:#1f77b4;stroke:#1f77b4;\" x=\"73.408987\" xlink:href=\"#mb71464ae76\" y=\"208.272479\"/>\n     <use style=\"fill:#1f77b4;stroke:#1f77b4;\" x=\"105.302626\" xlink:href=\"#mb71464ae76\" y=\"192.320023\"/>\n     <use style=\"fill:#1f77b4;stroke:#1f77b4;\" x=\"107.192755\" xlink:href=\"#mb71464ae76\" y=\"191.355618\"/>\n     <use style=\"fill:#1f77b4;stroke:#1f77b4;\" x=\"75.433934\" xlink:href=\"#mb71464ae76\" y=\"207.592364\"/>\n     <use style=\"fill:#1f77b4;stroke:#1f77b4;\" x=\"104.353894\" xlink:href=\"#mb71464ae76\" y=\"192.789271\"/>\n     <use style=\"fill:#1f77b4;stroke:#1f77b4;\" x=\"297.881574\" xlink:href=\"#mb71464ae76\" y=\"93.310619\"/>\n     <use style=\"fill:#1f77b4;stroke:#1f77b4;\" x=\"296.816184\" xlink:href=\"#mb71464ae76\" y=\"92.960421\"/>\n     <use style=\"fill:#1f77b4;stroke:#1f77b4;\" x=\"79.410699\" xlink:href=\"#mb71464ae76\" y=\"205.253441\"/>\n     <use style=\"fill:#1f77b4;stroke:#1f77b4;\" x=\"96.71507\" xlink:href=\"#mb71464ae76\" y=\"196.6007\"/>\n     <use style=\"fill:#1f77b4;stroke:#1f77b4;\" x=\"64.991181\" xlink:href=\"#mb71464ae76\" y=\"212.814292\"/>\n     <use style=\"fill:#1f77b4;stroke:#1f77b4;\" x=\"80.199049\" xlink:href=\"#mb71464ae76\" y=\"204.906525\"/>\n     <use style=\"fill:#1f77b4;stroke:#1f77b4;\" x=\"138.406062\" xlink:href=\"#mb71464ae76\" y=\"133.100937\"/>\n     <use style=\"fill:#1f77b4;stroke:#1f77b4;\" x=\"109.472121\" xlink:href=\"#mb71464ae76\" y=\"190.006719\"/>\n     <use style=\"fill:#1f77b4;stroke:#1f77b4;\" x=\"87.448996\" xlink:href=\"#mb71464ae76\" y=\"201.492337\"/>\n     <use style=\"fill:#1f77b4;stroke:#1f77b4;\" x=\"188.3258\" xlink:href=\"#mb71464ae76\" y=\"149.89862\"/>\n     <use style=\"fill:#1f77b4;stroke:#1f77b4;\" x=\"354.465933\" xlink:href=\"#mb71464ae76\" y=\"64.718244\"/>\n     <use style=\"fill:#1f77b4;stroke:#1f77b4;\" x=\"80.901502\" xlink:href=\"#mb71464ae76\" y=\"204.835293\"/>\n     <use style=\"fill:#1f77b4;stroke:#1f77b4;\" x=\"297.90116\" xlink:href=\"#mb71464ae76\" y=\"93.484989\"/>\n     <use style=\"fill:#1f77b4;stroke:#1f77b4;\" x=\"193.511329\" xlink:href=\"#mb71464ae76\" y=\"148.192154\"/>\n     <use style=\"fill:#1f77b4;stroke:#1f77b4;\" x=\"110.999477\" xlink:href=\"#mb71464ae76\" y=\"189.111573\"/>\n     <use style=\"fill:#1f77b4;stroke:#1f77b4;\" x=\"76.116731\" xlink:href=\"#mb71464ae76\" y=\"207.250816\"/>\n     <use style=\"fill:#1f77b4;stroke:#1f77b4;\" x=\"116.264882\" xlink:href=\"#mb71464ae76\" y=\"186.771811\"/>\n     <use style=\"fill:#1f77b4;stroke:#1f77b4;\" x=\"114.688713\" xlink:href=\"#mb71464ae76\" y=\"187.371782\"/>\n     <use style=\"fill:#1f77b4;stroke:#1f77b4;\" x=\"95.62238\" xlink:href=\"#mb71464ae76\" y=\"197.262415\"/>\n     <use style=\"fill:#1f77b4;stroke:#1f77b4;\" x=\"201.649298\" xlink:href=\"#mb71464ae76\" y=\"143.178043\"/>\n     <use style=\"fill:#1f77b4;stroke:#1f77b4;\" x=\"211.831542\" xlink:href=\"#mb71464ae76\" y=\"138.208324\"/>\n     <use style=\"fill:#1f77b4;stroke:#1f77b4;\" x=\"284.266441\" xlink:href=\"#mb71464ae76\" y=\"100.083122\"/>\n     <use style=\"fill:#1f77b4;stroke:#1f77b4;\" x=\"337.380227\" xlink:href=\"#mb71464ae76\" y=\"72.795871\"/>\n     <use style=\"fill:#1f77b4;stroke:#1f77b4;\" x=\"87.684817\" xlink:href=\"#mb71464ae76\" y=\"201.309695\"/>\n     <use style=\"fill:#1f77b4;stroke:#1f77b4;\" x=\"298.648121\" xlink:href=\"#mb71464ae76\" y=\"93.355899\"/>\n     <use style=\"fill:#1f77b4;stroke:#1f77b4;\" x=\"72.452925\" xlink:href=\"#mb71464ae76\" y=\"209.136736\"/>\n     <use style=\"fill:#1f77b4;stroke:#1f77b4;\" x=\"82.425767\" xlink:href=\"#mb71464ae76\" y=\"204.082773\"/>\n     <use style=\"fill:#1f77b4;stroke:#1f77b4;\" x=\"218.836788\" xlink:href=\"#mb71464ae76\" y=\"132.984415\"/>\n     <use style=\"fill:#1f77b4;stroke:#1f77b4;\" x=\"136.852503\" xlink:href=\"#mb71464ae76\" y=\"176.035336\"/>\n     <use style=\"fill:#1f77b4;stroke:#1f77b4;\" x=\"137.805364\" xlink:href=\"#mb71464ae76\" y=\"101.833459\"/>\n     <use style=\"fill:#1f77b4;stroke:#1f77b4;\" x=\"95.711421\" xlink:href=\"#mb71464ae76\" y=\"197.301712\"/>\n     <use style=\"fill:#1f77b4;stroke:#1f77b4;\" x=\"68.369586\" xlink:href=\"#mb71464ae76\" y=\"211.194193\"/>\n     <use style=\"fill:#1f77b4;stroke:#1f77b4;\" x=\"105.909837\" xlink:href=\"#mb71464ae76\" y=\"192.168621\"/>\n     <use style=\"fill:#1f77b4;stroke:#1f77b4;\" x=\"76.839693\" xlink:href=\"#mb71464ae76\" y=\"206.506639\"/>\n     <use style=\"fill:#1f77b4;stroke:#1f77b4;\" x=\"108.039714\" xlink:href=\"#mb71464ae76\" y=\"128.469217\"/>\n     <use style=\"fill:#1f77b4;stroke:#1f77b4;\" x=\"86.838117\" xlink:href=\"#mb71464ae76\" y=\"201.800487\"/>\n     <use style=\"fill:#1f77b4;stroke:#1f77b4;\" x=\"92.154536\" xlink:href=\"#mb71464ae76\" y=\"199.152785\"/>\n     <use style=\"fill:#1f77b4;stroke:#1f77b4;\" x=\"80.06944\" xlink:href=\"#mb71464ae76\" y=\"205.440195\"/>\n     <use style=\"fill:#1f77b4;stroke:#1f77b4;\" x=\"122.308109\" xlink:href=\"#mb71464ae76\" y=\"183.643481\"/>\n     <use style=\"fill:#1f77b4;stroke:#1f77b4;\" x=\"72.620841\" xlink:href=\"#mb71464ae76\" y=\"208.761566\"/>\n     <use style=\"fill:#1f77b4;stroke:#1f77b4;\" x=\"89.071021\" xlink:href=\"#mb71464ae76\" y=\"200.642957\"/>\n     <use style=\"fill:#1f77b4;stroke:#1f77b4;\" x=\"326.301015\" xlink:href=\"#mb71464ae76\" y=\"77.882512\"/>\n     <use style=\"fill:#1f77b4;stroke:#1f77b4;\" x=\"78.345099\" xlink:href=\"#mb71464ae76\" y=\"206.123923\"/>\n     <use style=\"fill:#1f77b4;stroke:#1f77b4;\" x=\"64.422981\" xlink:href=\"#mb71464ae76\" y=\"173.702707\"/>\n     <use style=\"fill:#1f77b4;stroke:#1f77b4;\" x=\"92.439497\" xlink:href=\"#mb71464ae76\" y=\"198.777308\"/>\n     <use style=\"fill:#1f77b4;stroke:#1f77b4;\" x=\"111.085908\" xlink:href=\"#mb71464ae76\" y=\"188.946242\"/>\n     <use style=\"fill:#1f77b4;stroke:#1f77b4;\" x=\"68.677171\" xlink:href=\"#mb71464ae76\" y=\"210.967687\"/>\n     <use style=\"fill:#1f77b4;stroke:#1f77b4;\" x=\"128.585761\" xlink:href=\"#mb71464ae76\" y=\"180.473492\"/>\n     <use style=\"fill:#1f77b4;stroke:#1f77b4;\" x=\"101.626739\" xlink:href=\"#mb71464ae76\" y=\"193.900119\"/>\n     <use style=\"fill:#1f77b4;stroke:#1f77b4;\" x=\"170.658776\" xlink:href=\"#mb71464ae76\" y=\"163.176916\"/>\n     <use style=\"fill:#1f77b4;stroke:#1f77b4;\" x=\"130.165101\" xlink:href=\"#mb71464ae76\" y=\"179.695215\"/>\n     <use style=\"fill:#1f77b4;stroke:#1f77b4;\" x=\"74.170241\" xlink:href=\"#mb71464ae76\" y=\"208.178845\"/>\n     <use style=\"fill:#1f77b4;stroke:#1f77b4;\" x=\"122.353879\" xlink:href=\"#mb71464ae76\" y=\"183.660188\"/>\n     <use style=\"fill:#1f77b4;stroke:#1f77b4;\" x=\"87.533097\" xlink:href=\"#mb71464ae76\" y=\"201.265266\"/>\n     <use style=\"fill:#1f77b4;stroke:#1f77b4;\" x=\"63.756317\" xlink:href=\"#mb71464ae76\" y=\"213.480255\"/>\n     <use style=\"fill:#1f77b4;stroke:#1f77b4;\" x=\"288.401581\" xlink:href=\"#mb71464ae76\" y=\"97.503991\"/>\n     <use style=\"fill:#1f77b4;stroke:#1f77b4;\" x=\"282.39177\" xlink:href=\"#mb71464ae76\" y=\"101.708357\"/>\n     <use style=\"fill:#1f77b4;stroke:#1f77b4;\" x=\"96.671605\" xlink:href=\"#mb71464ae76\" y=\"196.371186\"/>\n     <use style=\"fill:#1f77b4;stroke:#1f77b4;\" x=\"84.86753\" xlink:href=\"#mb71464ae76\" y=\"202.735524\"/>\n     <use style=\"fill:#1f77b4;stroke:#1f77b4;\" x=\"86.249423\" xlink:href=\"#mb71464ae76\" y=\"201.661065\"/>\n     <use style=\"fill:#1f77b4;stroke:#1f77b4;\" x=\"96.752023\" xlink:href=\"#mb71464ae76\" y=\"196.842087\"/>\n     <use style=\"fill:#1f77b4;stroke:#1f77b4;\" x=\"346.521278\" xlink:href=\"#mb71464ae76\" y=\"68.724416\"/>\n     <use style=\"fill:#1f77b4;stroke:#1f77b4;\" x=\"340.483515\" xlink:href=\"#mb71464ae76\" y=\"72.742183\"/>\n     <use style=\"fill:#1f77b4;stroke:#1f77b4;\" x=\"70.843687\" xlink:href=\"#mb71464ae76\" y=\"209.716126\"/>\n     <use style=\"fill:#1f77b4;stroke:#1f77b4;\" x=\"199.231883\" xlink:href=\"#mb71464ae76\" y=\"144.757863\"/>\n     <use style=\"fill:#1f77b4;stroke:#1f77b4;\" x=\"85.661347\" xlink:href=\"#mb71464ae76\" y=\"202.124763\"/>\n     <use style=\"fill:#1f77b4;stroke:#1f77b4;\" x=\"65.844493\" xlink:href=\"#mb71464ae76\" y=\"212.54007\"/>\n     <use style=\"fill:#1f77b4;stroke:#1f77b4;\" x=\"123.447167\" xlink:href=\"#mb71464ae76\" y=\"183.066332\"/>\n     <use style=\"fill:#1f77b4;stroke:#1f77b4;\" x=\"67.451904\" xlink:href=\"#mb71464ae76\" y=\"211.657139\"/>\n     <use style=\"fill:#1f77b4;stroke:#1f77b4;\" x=\"85.544113\" xlink:href=\"#mb71464ae76\" y=\"202.421188\"/>\n     <use style=\"fill:#1f77b4;stroke:#1f77b4;\" x=\"115.174509\" xlink:href=\"#mb71464ae76\" y=\"187.174315\"/>\n     <use style=\"fill:#1f77b4;stroke:#1f77b4;\" x=\"99.777454\" xlink:href=\"#mb71464ae76\" y=\"195.110844\"/>\n     <use style=\"fill:#1f77b4;stroke:#1f77b4;\" x=\"92.121227\" xlink:href=\"#mb71464ae76\" y=\"199.177882\"/>\n     <use style=\"fill:#1f77b4;stroke:#1f77b4;\" x=\"164.433565\" xlink:href=\"#mb71464ae76\" y=\"164.400855\"/>\n     <use style=\"fill:#1f77b4;stroke:#1f77b4;\" x=\"75.063983\" xlink:href=\"#mb71464ae76\" y=\"207.982098\"/>\n     <use style=\"fill:#1f77b4;stroke:#1f77b4;\" x=\"83.88208\" xlink:href=\"#mb71464ae76\" y=\"203.320204\"/>\n     <use style=\"fill:#1f77b4;stroke:#1f77b4;\" x=\"79.210495\" xlink:href=\"#mb71464ae76\" y=\"205.70717\"/>\n     <use style=\"fill:#1f77b4;stroke:#1f77b4;\" x=\"144.257347\" xlink:href=\"#mb71464ae76\" y=\"172.31801\"/>\n     <use style=\"fill:#1f77b4;stroke:#1f77b4;\" x=\"113.381641\" xlink:href=\"#mb71464ae76\" y=\"188.307564\"/>\n     <use style=\"fill:#1f77b4;stroke:#1f77b4;\" x=\"80.063324\" xlink:href=\"#mb71464ae76\" y=\"205.078414\"/>\n     <use style=\"fill:#1f77b4;stroke:#1f77b4;\" x=\"67.756729\" xlink:href=\"#mb71464ae76\" y=\"211.498594\"/>\n     <use style=\"fill:#1f77b4;stroke:#1f77b4;\" x=\"68.386352\" xlink:href=\"#mb71464ae76\" y=\"211.181693\"/>\n     <use style=\"fill:#1f77b4;stroke:#1f77b4;\" x=\"74.482331\" xlink:href=\"#mb71464ae76\" y=\"208.113753\"/>\n     <use style=\"fill:#1f77b4;stroke:#1f77b4;\" x=\"124.626233\" xlink:href=\"#mb71464ae76\" y=\"182.498064\"/>\n     <use style=\"fill:#1f77b4;stroke:#1f77b4;\" x=\"96.285703\" xlink:href=\"#mb71464ae76\" y=\"196.899209\"/>\n     <use style=\"fill:#1f77b4;stroke:#1f77b4;\" x=\"124.519368\" xlink:href=\"#mb71464ae76\" y=\"182.335943\"/>\n     <use style=\"fill:#1f77b4;stroke:#1f77b4;\" x=\"354.225044\" xlink:href=\"#mb71464ae76\" y=\"65.210452\"/>\n     <use style=\"fill:#1f77b4;stroke:#1f77b4;\" x=\"78.615206\" xlink:href=\"#mb71464ae76\" y=\"206.113036\"/>\n     <use style=\"fill:#1f77b4;stroke:#1f77b4;\" x=\"101.647533\" xlink:href=\"#mb71464ae76\" y=\"194.209768\"/>\n     <use style=\"fill:#1f77b4;stroke:#1f77b4;\" x=\"98.471803\" xlink:href=\"#mb71464ae76\" y=\"195.704185\"/>\n     <use style=\"fill:#1f77b4;stroke:#1f77b4;\" x=\"175.377076\" xlink:href=\"#mb71464ae76\" y=\"156.719486\"/>\n     <use style=\"fill:#1f77b4;stroke:#1f77b4;\" x=\"64.351974\" xlink:href=\"#mb71464ae76\" y=\"213.178704\"/>\n     <use style=\"fill:#1f77b4;stroke:#1f77b4;\" x=\"120.703901\" xlink:href=\"#mb71464ae76\" y=\"184.067444\"/>\n     <use style=\"fill:#1f77b4;stroke:#1f77b4;\" x=\"84.112911\" xlink:href=\"#mb71464ae76\" y=\"202.851933\"/>\n     <use style=\"fill:#1f77b4;stroke:#1f77b4;\" x=\"81.454716\" xlink:href=\"#mb71464ae76\" y=\"204.321862\"/>\n     <use style=\"fill:#1f77b4;stroke:#1f77b4;\" x=\"153.515714\" xlink:href=\"#mb71464ae76\" y=\"167.543348\"/>\n     <use style=\"fill:#1f77b4;stroke:#1f77b4;\" x=\"123.941366\" xlink:href=\"#mb71464ae76\" y=\"182.753571\"/>\n     <use style=\"fill:#1f77b4;stroke:#1f77b4;\" x=\"105.531088\" xlink:href=\"#mb71464ae76\" y=\"192.178402\"/>\n     <use style=\"fill:#1f77b4;stroke:#1f77b4;\" x=\"76.625156\" xlink:href=\"#mb71464ae76\" y=\"206.964104\"/>\n     <use style=\"fill:#1f77b4;stroke:#1f77b4;\" x=\"101.990052\" xlink:href=\"#mb71464ae76\" y=\"194.05532\"/>\n     <use style=\"fill:#1f77b4;stroke:#1f77b4;\" x=\"64.787583\" xlink:href=\"#mb71464ae76\" y=\"212.851599\"/>\n     <use style=\"fill:#1f77b4;stroke:#1f77b4;\" x=\"199.626986\" xlink:href=\"#mb71464ae76\" y=\"144.952722\"/>\n     <use style=\"fill:#1f77b4;stroke:#1f77b4;\" x=\"135.644716\" xlink:href=\"#mb71464ae76\" y=\"176.633165\"/>\n     <use style=\"fill:#1f77b4;stroke:#1f77b4;\" x=\"112.385894\" xlink:href=\"#mb71464ae76\" y=\"188.589614\"/>\n     <use style=\"fill:#1f77b4;stroke:#1f77b4;\" x=\"94.217088\" xlink:href=\"#mb71464ae76\" y=\"198.309646\"/>\n     <use style=\"fill:#1f77b4;stroke:#1f77b4;\" x=\"72.310862\" xlink:href=\"#mb71464ae76\" y=\"209.252898\"/>\n     <use style=\"fill:#1f77b4;stroke:#1f77b4;\" x=\"346.789266\" xlink:href=\"#mb71464ae76\" y=\"69.080409\"/>\n     <use style=\"fill:#1f77b4;stroke:#1f77b4;\" x=\"118.936065\" xlink:href=\"#mb71464ae76\" y=\"185.409118\"/>\n     <use style=\"fill:#1f77b4;stroke:#1f77b4;\" x=\"66.576321\" xlink:href=\"#mb71464ae76\" y=\"212.089696\"/>\n     <use style=\"fill:#1f77b4;stroke:#1f77b4;\" x=\"117.241317\" xlink:href=\"#mb71464ae76\" y=\"141.066421\"/>\n     <use style=\"fill:#1f77b4;stroke:#1f77b4;\" x=\"93.959875\" xlink:href=\"#mb71464ae76\" y=\"197.919971\"/>\n     <use style=\"fill:#1f77b4;stroke:#1f77b4;\" x=\"66.50141\" xlink:href=\"#mb71464ae76\" y=\"212.055643\"/>\n     <use style=\"fill:#1f77b4;stroke:#1f77b4;\" x=\"248.950844\" xlink:href=\"#mb71464ae76\" y=\"126.347487\"/>\n     <use style=\"fill:#1f77b4;stroke:#1f77b4;\" x=\"110.584538\" xlink:href=\"#mb71464ae76\" y=\"189.747257\"/>\n     <use style=\"fill:#1f77b4;stroke:#1f77b4;\" x=\"87.025729\" xlink:href=\"#mb71464ae76\" y=\"201.743509\"/>\n     <use style=\"fill:#1f77b4;stroke:#1f77b4;\" x=\"356.27804\" xlink:href=\"#mb71464ae76\" y=\"65.110697\"/>\n     <use style=\"fill:#1f77b4;stroke:#1f77b4;\" x=\"125.272829\" xlink:href=\"#mb71464ae76\" y=\"181.80144\"/>\n     <use style=\"fill:#1f77b4;stroke:#1f77b4;\" x=\"118.815474\" xlink:href=\"#mb71464ae76\" y=\"185.370786\"/>\n     <use style=\"fill:#1f77b4;stroke:#1f77b4;\" x=\"104.064259\" xlink:href=\"#mb71464ae76\" y=\"192.687201\"/>\n     <use style=\"fill:#1f77b4;stroke:#1f77b4;\" x=\"193.431679\" xlink:href=\"#mb71464ae76\" y=\"163.543885\"/>\n     <use style=\"fill:#1f77b4;stroke:#1f77b4;\" x=\"118.684828\" xlink:href=\"#mb71464ae76\" y=\"185.674113\"/>\n     <use style=\"fill:#1f77b4;stroke:#1f77b4;\" x=\"74.493625\" xlink:href=\"#mb71464ae76\" y=\"160.813063\"/>\n     <use style=\"fill:#1f77b4;stroke:#1f77b4;\" x=\"132.481658\" xlink:href=\"#mb71464ae76\" y=\"178.386174\"/>\n     <use style=\"fill:#1f77b4;stroke:#1f77b4;\" x=\"98.030386\" xlink:href=\"#mb71464ae76\" y=\"196.061903\"/>\n     <use style=\"fill:#1f77b4;stroke:#1f77b4;\" x=\"83.579072\" xlink:href=\"#mb71464ae76\" y=\"203.509378\"/>\n     <use style=\"fill:#1f77b4;stroke:#1f77b4;\" x=\"107.528478\" xlink:href=\"#mb71464ae76\" y=\"191.143985\"/>\n     <use style=\"fill:#1f77b4;stroke:#1f77b4;\" x=\"81.420459\" xlink:href=\"#mb71464ae76\" y=\"204.241356\"/>\n     <use style=\"fill:#1f77b4;stroke:#1f77b4;\" x=\"79.172102\" xlink:href=\"#mb71464ae76\" y=\"205.489863\"/>\n     <use style=\"fill:#1f77b4;stroke:#1f77b4;\" x=\"220.38814\" xlink:href=\"#mb71464ae76\" y=\"157.24065\"/>\n     <use style=\"fill:#1f77b4;stroke:#1f77b4;\" x=\"115.192169\" xlink:href=\"#mb71464ae76\" y=\"187.182035\"/>\n     <use style=\"fill:#1f77b4;stroke:#1f77b4;\" x=\"64.918601\" xlink:href=\"#mb71464ae76\" y=\"212.712832\"/>\n     <use style=\"fill:#1f77b4;stroke:#1f77b4;\" x=\"129.50515\" xlink:href=\"#mb71464ae76\" y=\"132.085734\"/>\n     <use style=\"fill:#1f77b4;stroke:#1f77b4;\" x=\"67.901533\" xlink:href=\"#mb71464ae76\" y=\"195.187855\"/>\n     <use style=\"fill:#1f77b4;stroke:#1f77b4;\" x=\"74.991948\" xlink:href=\"#mb71464ae76\" y=\"207.715676\"/>\n     <use style=\"fill:#1f77b4;stroke:#1f77b4;\" x=\"93.488259\" xlink:href=\"#mb71464ae76\" y=\"198.380297\"/>\n     <use style=\"fill:#1f77b4;stroke:#1f77b4;\" x=\"314.521966\" xlink:href=\"#mb71464ae76\" y=\"85.382205\"/>\n     <use style=\"fill:#1f77b4;stroke:#1f77b4;\" x=\"142.534762\" xlink:href=\"#mb71464ae76\" y=\"172.684799\"/>\n     <use style=\"fill:#1f77b4;stroke:#1f77b4;\" x=\"98.665982\" xlink:href=\"#mb71464ae76\" y=\"195.727605\"/>\n     <use style=\"fill:#1f77b4;stroke:#1f77b4;\" x=\"90.671892\" xlink:href=\"#mb71464ae76\" y=\"199.847603\"/>\n     <use style=\"fill:#1f77b4;stroke:#1f77b4;\" x=\"122.830724\" xlink:href=\"#mb71464ae76\" y=\"182.996162\"/>\n     <use style=\"fill:#1f77b4;stroke:#1f77b4;\" x=\"111.745328\" xlink:href=\"#mb71464ae76\" y=\"188.989996\"/>\n     <use style=\"fill:#1f77b4;stroke:#1f77b4;\" x=\"94.192571\" xlink:href=\"#mb71464ae76\" y=\"198.082255\"/>\n     <use style=\"fill:#1f77b4;stroke:#1f77b4;\" x=\"112.860763\" xlink:href=\"#mb71464ae76\" y=\"135.021623\"/>\n     <use style=\"fill:#1f77b4;stroke:#1f77b4;\" x=\"241.42283\" xlink:href=\"#mb71464ae76\" y=\"139.682073\"/>\n     <use style=\"fill:#1f77b4;stroke:#1f77b4;\" x=\"119.991588\" xlink:href=\"#mb71464ae76\" y=\"184.975033\"/>\n     <use style=\"fill:#1f77b4;stroke:#1f77b4;\" x=\"80.117113\" xlink:href=\"#mb71464ae76\" y=\"147.631686\"/>\n     <use style=\"fill:#1f77b4;stroke:#1f77b4;\" x=\"135.078142\" xlink:href=\"#mb71464ae76\" y=\"140.950898\"/>\n     <use style=\"fill:#1f77b4;stroke:#1f77b4;\" x=\"188.188477\" xlink:href=\"#mb71464ae76\" y=\"152.837099\"/>\n     <use style=\"fill:#1f77b4;stroke:#1f77b4;\" x=\"127.215216\" xlink:href=\"#mb71464ae76\" y=\"181.247927\"/>\n     <use style=\"fill:#1f77b4;stroke:#1f77b4;\" x=\"131.503601\" xlink:href=\"#mb71464ae76\" y=\"178.919396\"/>\n     <use style=\"fill:#1f77b4;stroke:#1f77b4;\" x=\"85.956348\" xlink:href=\"#mb71464ae76\" y=\"158.962214\"/>\n     <use style=\"fill:#1f77b4;stroke:#1f77b4;\" x=\"142.793079\" xlink:href=\"#mb71464ae76\" y=\"172.802691\"/>\n     <use style=\"fill:#1f77b4;stroke:#1f77b4;\" x=\"107.478585\" xlink:href=\"#mb71464ae76\" y=\"191.141284\"/>\n     <use style=\"fill:#1f77b4;stroke:#1f77b4;\" x=\"61.380664\" xlink:href=\"#mb71464ae76\" y=\"214.756364\"/>\n     <use style=\"fill:#1f77b4;stroke:#1f77b4;\" x=\"231.520196\" xlink:href=\"#mb71464ae76\" y=\"111.330662\"/>\n     <use style=\"fill:#1f77b4;stroke:#1f77b4;\" x=\"312.442115\" xlink:href=\"#mb71464ae76\" y=\"84.816855\"/>\n     <use style=\"fill:#1f77b4;stroke:#1f77b4;\" x=\"64.98703\" xlink:href=\"#mb71464ae76\" y=\"213.042659\"/>\n     <use style=\"fill:#1f77b4;stroke:#1f77b4;\" x=\"133.668517\" xlink:href=\"#mb71464ae76\" y=\"177.86006\"/>\n     <use style=\"fill:#1f77b4;stroke:#1f77b4;\" x=\"256.730784\" xlink:href=\"#mb71464ae76\" y=\"132.414817\"/>\n     <use style=\"fill:#1f77b4;stroke:#1f77b4;\" x=\"300.110675\" xlink:href=\"#mb71464ae76\" y=\"92.137908\"/>\n     <use style=\"fill:#1f77b4;stroke:#1f77b4;\" x=\"105.937143\" xlink:href=\"#mb71464ae76\" y=\"191.760254\"/>\n     <use style=\"fill:#1f77b4;stroke:#1f77b4;\" x=\"101.692584\" xlink:href=\"#mb71464ae76\" y=\"194.191793\"/>\n     <use style=\"fill:#1f77b4;stroke:#1f77b4;\" x=\"127.179203\" xlink:href=\"#mb71464ae76\" y=\"126.205115\"/>\n     <use style=\"fill:#1f77b4;stroke:#1f77b4;\" x=\"113.208511\" xlink:href=\"#mb71464ae76\" y=\"187.941489\"/>\n     <use style=\"fill:#1f77b4;stroke:#1f77b4;\" x=\"70.425305\" xlink:href=\"#mb71464ae76\" y=\"209.955962\"/>\n     <use style=\"fill:#1f77b4;stroke:#1f77b4;\" x=\"91.967043\" xlink:href=\"#mb71464ae76\" y=\"198.974696\"/>\n     <use style=\"fill:#1f77b4;stroke:#1f77b4;\" x=\"132.972302\" xlink:href=\"#mb71464ae76\" y=\"178.094425\"/>\n     <use style=\"fill:#1f77b4;stroke:#1f77b4;\" x=\"117.290819\" xlink:href=\"#mb71464ae76\" y=\"185.893315\"/>\n     <use style=\"fill:#1f77b4;stroke:#1f77b4;\" x=\"74.657408\" xlink:href=\"#mb71464ae76\" y=\"142.381529\"/>\n     <use style=\"fill:#1f77b4;stroke:#1f77b4;\" x=\"120.928217\" xlink:href=\"#mb71464ae76\" y=\"184.41851\"/>\n     <use style=\"fill:#1f77b4;stroke:#1f77b4;\" x=\"134.864388\" xlink:href=\"#mb71464ae76\" y=\"177.511589\"/>\n     <use style=\"fill:#1f77b4;stroke:#1f77b4;\" x=\"70.572967\" xlink:href=\"#mb71464ae76\" y=\"209.988387\"/>\n     <use style=\"fill:#1f77b4;stroke:#1f77b4;\" x=\"293.338391\" xlink:href=\"#mb71464ae76\" y=\"96.041193\"/>\n     <use style=\"fill:#1f77b4;stroke:#1f77b4;\" x=\"116.969707\" xlink:href=\"#mb71464ae76\" y=\"186.29821\"/>\n     <use style=\"fill:#1f77b4;stroke:#1f77b4;\" x=\"66.643749\" xlink:href=\"#mb71464ae76\" y=\"212.070994\"/>\n     <use style=\"fill:#1f77b4;stroke:#1f77b4;\" x=\"297.41104\" xlink:href=\"#mb71464ae76\" y=\"92.601438\"/>\n     <use style=\"fill:#1f77b4;stroke:#1f77b4;\" x=\"107.13049\" xlink:href=\"#mb71464ae76\" y=\"191.657329\"/>\n     <use style=\"fill:#1f77b4;stroke:#1f77b4;\" x=\"87.51581\" xlink:href=\"#mb71464ae76\" y=\"201.254653\"/>\n     <use style=\"fill:#1f77b4;stroke:#1f77b4;\" x=\"134.966478\" xlink:href=\"#mb71464ae76\" y=\"174.613101\"/>\n     <use style=\"fill:#1f77b4;stroke:#1f77b4;\" x=\"67.91143\" xlink:href=\"#mb71464ae76\" y=\"150.947546\"/>\n     <use style=\"fill:#1f77b4;stroke:#1f77b4;\" x=\"128.596176\" xlink:href=\"#mb71464ae76\" y=\"180.601413\"/>\n     <use style=\"fill:#1f77b4;stroke:#1f77b4;\" x=\"112.812865\" xlink:href=\"#mb71464ae76\" y=\"188.487186\"/>\n     <use style=\"fill:#1f77b4;stroke:#1f77b4;\" x=\"106.003134\" xlink:href=\"#mb71464ae76\" y=\"191.703388\"/>\n     <use style=\"fill:#1f77b4;stroke:#1f77b4;\" x=\"137.849347\" xlink:href=\"#mb71464ae76\" y=\"174.918005\"/>\n     <use style=\"fill:#1f77b4;stroke:#1f77b4;\" x=\"163.692495\" xlink:href=\"#mb71464ae76\" y=\"164.092894\"/>\n     <use style=\"fill:#1f77b4;stroke:#1f77b4;\" x=\"112.822347\" xlink:href=\"#mb71464ae76\" y=\"188.706407\"/>\n     <use style=\"fill:#1f77b4;stroke:#1f77b4;\" x=\"129.077448\" xlink:href=\"#mb71464ae76\" y=\"180.331007\"/>\n     <use style=\"fill:#1f77b4;stroke:#1f77b4;\" x=\"256.495236\" xlink:href=\"#mb71464ae76\" y=\"147.422494\"/>\n     <use style=\"fill:#1f77b4;stroke:#1f77b4;\" x=\"259.420479\" xlink:href=\"#mb71464ae76\" y=\"111.805091\"/>\n     <use style=\"fill:#1f77b4;stroke:#1f77b4;\" x=\"142.660731\" xlink:href=\"#mb71464ae76\" y=\"171.876736\"/>\n     <use style=\"fill:#1f77b4;stroke:#1f77b4;\" x=\"61.982038\" xlink:href=\"#mb71464ae76\" y=\"214.310288\"/>\n     <use style=\"fill:#1f77b4;stroke:#1f77b4;\" x=\"77.670934\" xlink:href=\"#mb71464ae76\" y=\"206.095223\"/>\n     <use style=\"fill:#1f77b4;stroke:#1f77b4;\" x=\"106.856844\" xlink:href=\"#mb71464ae76\" y=\"191.413241\"/>\n     <use style=\"fill:#1f77b4;stroke:#1f77b4;\" x=\"109.058761\" xlink:href=\"#mb71464ae76\" y=\"190.24228\"/>\n     <use style=\"fill:#1f77b4;stroke:#1f77b4;\" x=\"105.562766\" xlink:href=\"#mb71464ae76\" y=\"192.205155\"/>\n     <use style=\"fill:#1f77b4;stroke:#1f77b4;\" x=\"115.540312\" xlink:href=\"#mb71464ae76\" y=\"122.740128\"/>\n     <use style=\"fill:#1f77b4;stroke:#1f77b4;\" x=\"71.11625\" xlink:href=\"#mb71464ae76\" y=\"209.810104\"/>\n     <use style=\"fill:#1f77b4;stroke:#1f77b4;\" x=\"77.930708\" xlink:href=\"#mb71464ae76\" y=\"206.062253\"/>\n     <use style=\"fill:#1f77b4;stroke:#1f77b4;\" x=\"126.660319\" xlink:href=\"#mb71464ae76\" y=\"181.46121\"/>\n     <use style=\"fill:#1f77b4;stroke:#1f77b4;\" x=\"94.360859\" xlink:href=\"#mb71464ae76\" y=\"197.796781\"/>\n     <use style=\"fill:#1f77b4;stroke:#1f77b4;\" x=\"119.855466\" xlink:href=\"#mb71464ae76\" y=\"184.92267\"/>\n     <use style=\"fill:#1f77b4;stroke:#1f77b4;\" x=\"71.164388\" xlink:href=\"#mb71464ae76\" y=\"209.709686\"/>\n     <use style=\"fill:#1f77b4;stroke:#1f77b4;\" x=\"166.382678\" xlink:href=\"#mb71464ae76\" y=\"160.796372\"/>\n     <use style=\"fill:#1f77b4;stroke:#1f77b4;\" x=\"80.088008\" xlink:href=\"#mb71464ae76\" y=\"205.202659\"/>\n     <use style=\"fill:#1f77b4;stroke:#1f77b4;\" x=\"114.135145\" xlink:href=\"#mb71464ae76\" y=\"187.866009\"/>\n     <use style=\"fill:#1f77b4;stroke:#1f77b4;\" x=\"120.844652\" xlink:href=\"#mb71464ae76\" y=\"184.139639\"/>\n     <use style=\"fill:#1f77b4;stroke:#1f77b4;\" x=\"76.348962\" xlink:href=\"#mb71464ae76\" y=\"207.081723\"/>\n     <use style=\"fill:#1f77b4;stroke:#1f77b4;\" x=\"176.74165\" xlink:href=\"#mb71464ae76\" y=\"155.302127\"/>\n     <use style=\"fill:#1f77b4;stroke:#1f77b4;\" x=\"127.315562\" xlink:href=\"#mb71464ae76\" y=\"141.852527\"/>\n     <use style=\"fill:#1f77b4;stroke:#1f77b4;\" x=\"107.047377\" xlink:href=\"#mb71464ae76\" y=\"191.426705\"/>\n     <use style=\"fill:#1f77b4;stroke:#1f77b4;\" x=\"102.113737\" xlink:href=\"#mb71464ae76\" y=\"193.907099\"/>\n     <use style=\"fill:#1f77b4;stroke:#1f77b4;\" x=\"73.584853\" xlink:href=\"#mb71464ae76\" y=\"208.652461\"/>\n     <use style=\"fill:#1f77b4;stroke:#1f77b4;\" x=\"294.967758\" xlink:href=\"#mb71464ae76\" y=\"96.781818\"/>\n     <use style=\"fill:#1f77b4;stroke:#1f77b4;\" x=\"140.830788\" xlink:href=\"#mb71464ae76\" y=\"174.375456\"/>\n     <use style=\"fill:#1f77b4;stroke:#1f77b4;\" x=\"98.769304\" xlink:href=\"#mb71464ae76\" y=\"195.698133\"/>\n     <use style=\"fill:#1f77b4;stroke:#1f77b4;\" x=\"65.950385\" xlink:href=\"#mb71464ae76\" y=\"212.378967\"/>\n     <use style=\"fill:#1f77b4;stroke:#1f77b4;\" x=\"82.845414\" xlink:href=\"#mb71464ae76\" y=\"172.991742\"/>\n     <use style=\"fill:#1f77b4;stroke:#1f77b4;\" x=\"105.653673\" xlink:href=\"#mb71464ae76\" y=\"168.352061\"/>\n     <use style=\"fill:#1f77b4;stroke:#1f77b4;\" x=\"141.584591\" xlink:href=\"#mb71464ae76\" y=\"174.099689\"/>\n     <use style=\"fill:#1f77b4;stroke:#1f77b4;\" x=\"352.766856\" xlink:href=\"#mb71464ae76\" y=\"64.712063\"/>\n     <use style=\"fill:#1f77b4;stroke:#1f77b4;\" x=\"127.82311\" xlink:href=\"#mb71464ae76\" y=\"180.606125\"/>\n     <use style=\"fill:#1f77b4;stroke:#1f77b4;\" x=\"70.581491\" xlink:href=\"#mb71464ae76\" y=\"209.808153\"/>\n     <use style=\"fill:#1f77b4;stroke:#1f77b4;\" x=\"79.557331\" xlink:href=\"#mb71464ae76\" y=\"205.547144\"/>\n     <use style=\"fill:#1f77b4;stroke:#1f77b4;\" x=\"117.248116\" xlink:href=\"#mb71464ae76\" y=\"186.013089\"/>\n     <use style=\"fill:#1f77b4;stroke:#1f77b4;\" x=\"79.596232\" xlink:href=\"#mb71464ae76\" y=\"154.314336\"/>\n     <use style=\"fill:#1f77b4;stroke:#1f77b4;\" x=\"135.61874\" xlink:href=\"#mb71464ae76\" y=\"176.825475\"/>\n     <use style=\"fill:#1f77b4;stroke:#1f77b4;\" x=\"97.61591\" xlink:href=\"#mb71464ae76\" y=\"196.065763\"/>\n     <use style=\"fill:#1f77b4;stroke:#1f77b4;\" x=\"128.234586\" xlink:href=\"#mb71464ae76\" y=\"180.650322\"/>\n     <use style=\"fill:#1f77b4;stroke:#1f77b4;\" x=\"78.973192\" xlink:href=\"#mb71464ae76\" y=\"205.879641\"/>\n     <use style=\"fill:#1f77b4;stroke:#1f77b4;\" x=\"96.285758\" xlink:href=\"#mb71464ae76\" y=\"197.002585\"/>\n     <use style=\"fill:#1f77b4;stroke:#1f77b4;\" x=\"110.81817\" xlink:href=\"#mb71464ae76\" y=\"189.287184\"/>\n     <use style=\"fill:#1f77b4;stroke:#1f77b4;\" x=\"81.375524\" xlink:href=\"#mb71464ae76\" y=\"161.00328\"/>\n     <use style=\"fill:#1f77b4;stroke:#1f77b4;\" x=\"72.164578\" xlink:href=\"#mb71464ae76\" y=\"209.249653\"/>\n     <use style=\"fill:#1f77b4;stroke:#1f77b4;\" x=\"93.190221\" xlink:href=\"#mb71464ae76\" y=\"198.50485\"/>\n     <use style=\"fill:#1f77b4;stroke:#1f77b4;\" x=\"88.429632\" xlink:href=\"#mb71464ae76\" y=\"201.01152\"/>\n     <use style=\"fill:#1f77b4;stroke:#1f77b4;\" x=\"300.359077\" xlink:href=\"#mb71464ae76\" y=\"91.222188\"/>\n     <use style=\"fill:#1f77b4;stroke:#1f77b4;\" x=\"344.020969\" xlink:href=\"#mb71464ae76\" y=\"69.147303\"/>\n     <use style=\"fill:#1f77b4;stroke:#1f77b4;\" x=\"107.37644\" xlink:href=\"#mb71464ae76\" y=\"191.146754\"/>\n     <use style=\"fill:#1f77b4;stroke:#1f77b4;\" x=\"63.907478\" xlink:href=\"#mb71464ae76\" y=\"213.161666\"/>\n     <use style=\"fill:#1f77b4;stroke:#1f77b4;\" x=\"175.693749\" xlink:href=\"#mb71464ae76\" y=\"161.394242\"/>\n     <use style=\"fill:#1f77b4;stroke:#1f77b4;\" x=\"74.142296\" xlink:href=\"#mb71464ae76\" y=\"208.195398\"/>\n     <use style=\"fill:#1f77b4;stroke:#1f77b4;\" x=\"196.273943\" xlink:href=\"#mb71464ae76\" y=\"160.723662\"/>\n     <use style=\"fill:#1f77b4;stroke:#1f77b4;\" x=\"86.118996\" xlink:href=\"#mb71464ae76\" y=\"181.26016\"/>\n     <use style=\"fill:#1f77b4;stroke:#1f77b4;\" x=\"84.010162\" xlink:href=\"#mb71464ae76\" y=\"202.904854\"/>\n     <use style=\"fill:#1f77b4;stroke:#1f77b4;\" x=\"113.037808\" xlink:href=\"#mb71464ae76\" y=\"188.056458\"/>\n     <use style=\"fill:#1f77b4;stroke:#1f77b4;\" x=\"121.445722\" xlink:href=\"#mb71464ae76\" y=\"183.715442\"/>\n     <use style=\"fill:#1f77b4;stroke:#1f77b4;\" x=\"82.201058\" xlink:href=\"#mb71464ae76\" y=\"204.096414\"/>\n     <use style=\"fill:#1f77b4;stroke:#1f77b4;\" x=\"64.863419\" xlink:href=\"#mb71464ae76\" y=\"212.868002\"/>\n     <use style=\"fill:#1f77b4;stroke:#1f77b4;\" x=\"128.222805\" xlink:href=\"#mb71464ae76\" y=\"180.607823\"/>\n     <use style=\"fill:#1f77b4;stroke:#1f77b4;\" x=\"293.252363\" xlink:href=\"#mb71464ae76\" y=\"96.152747\"/>\n     <use style=\"fill:#1f77b4;stroke:#1f77b4;\" x=\"140.011391\" xlink:href=\"#mb71464ae76\" y=\"174.478377\"/>\n     <use style=\"fill:#1f77b4;stroke:#1f77b4;\" x=\"326.74123\" xlink:href=\"#mb71464ae76\" y=\"79.713242\"/>\n     <use style=\"fill:#1f77b4;stroke:#1f77b4;\" x=\"298.530115\" xlink:href=\"#mb71464ae76\" y=\"92.945062\"/>\n     <use style=\"fill:#1f77b4;stroke:#1f77b4;\" x=\"208.029052\" xlink:href=\"#mb71464ae76\" y=\"139.825271\"/>\n     <use style=\"fill:#1f77b4;stroke:#1f77b4;\" x=\"90.118254\" xlink:href=\"#mb71464ae76\" y=\"200.130013\"/>\n     <use style=\"fill:#1f77b4;stroke:#1f77b4;\" x=\"133.138761\" xlink:href=\"#mb71464ae76\" y=\"122.817897\"/>\n     <use style=\"fill:#1f77b4;stroke:#1f77b4;\" x=\"70.81417\" xlink:href=\"#mb71464ae76\" y=\"209.742792\"/>\n     <use style=\"fill:#1f77b4;stroke:#1f77b4;\" x=\"89.079454\" xlink:href=\"#mb71464ae76\" y=\"200.430357\"/>\n     <use style=\"fill:#1f77b4;stroke:#1f77b4;\" x=\"72.786579\" xlink:href=\"#mb71464ae76\" y=\"208.912019\"/>\n     <use style=\"fill:#1f77b4;stroke:#1f77b4;\" x=\"196.577774\" xlink:href=\"#mb71464ae76\" y=\"107.396441\"/>\n     <use style=\"fill:#1f77b4;stroke:#1f77b4;\" x=\"73.234026\" xlink:href=\"#mb71464ae76\" y=\"208.690875\"/>\n     <use style=\"fill:#1f77b4;stroke:#1f77b4;\" x=\"347.515763\" xlink:href=\"#mb71464ae76\" y=\"68.432193\"/>\n     <use style=\"fill:#1f77b4;stroke:#1f77b4;\" x=\"87.986703\" xlink:href=\"#mb71464ae76\" y=\"201.336508\"/>\n     <use style=\"fill:#1f77b4;stroke:#1f77b4;\" x=\"89.336018\" xlink:href=\"#mb71464ae76\" y=\"131.917965\"/>\n     <use style=\"fill:#1f77b4;stroke:#1f77b4;\" x=\"134.32701\" xlink:href=\"#mb71464ae76\" y=\"127.036039\"/>\n     <use style=\"fill:#1f77b4;stroke:#1f77b4;\" x=\"86.388472\" xlink:href=\"#mb71464ae76\" y=\"201.707346\"/>\n     <use style=\"fill:#1f77b4;stroke:#1f77b4;\" x=\"135.428414\" xlink:href=\"#mb71464ae76\" y=\"176.868807\"/>\n     <use style=\"fill:#1f77b4;stroke:#1f77b4;\" x=\"84.130375\" xlink:href=\"#mb71464ae76\" y=\"203.269767\"/>\n     <use style=\"fill:#1f77b4;stroke:#1f77b4;\" x=\"93.486405\" xlink:href=\"#mb71464ae76\" y=\"198.450335\"/>\n     <use style=\"fill:#1f77b4;stroke:#1f77b4;\" x=\"67.889557\" xlink:href=\"#mb71464ae76\" y=\"211.160325\"/>\n     <use style=\"fill:#1f77b4;stroke:#1f77b4;\" x=\"99.70739\" xlink:href=\"#mb71464ae76\" y=\"195.036285\"/>\n     <use style=\"fill:#1f77b4;stroke:#1f77b4;\" x=\"334.095444\" xlink:href=\"#mb71464ae76\" y=\"76.281035\"/>\n     <use style=\"fill:#1f77b4;stroke:#1f77b4;\" x=\"129.500095\" xlink:href=\"#mb71464ae76\" y=\"180.100692\"/>\n     <use style=\"fill:#1f77b4;stroke:#1f77b4;\" x=\"103.594405\" xlink:href=\"#mb71464ae76\" y=\"193.096734\"/>\n     <use style=\"fill:#1f77b4;stroke:#1f77b4;\" x=\"92.285628\" xlink:href=\"#mb71464ae76\" y=\"198.958198\"/>\n     <use style=\"fill:#1f77b4;stroke:#1f77b4;\" x=\"76.249644\" xlink:href=\"#mb71464ae76\" y=\"207.282568\"/>\n     <use style=\"fill:#1f77b4;stroke:#1f77b4;\" x=\"154.514381\" xlink:href=\"#mb71464ae76\" y=\"167.077254\"/>\n     <use style=\"fill:#1f77b4;stroke:#1f77b4;\" x=\"84.582072\" xlink:href=\"#mb71464ae76\" y=\"202.763073\"/>\n     <use style=\"fill:#1f77b4;stroke:#1f77b4;\" x=\"132.723657\" xlink:href=\"#mb71464ae76\" y=\"178.399156\"/>\n     <use style=\"fill:#1f77b4;stroke:#1f77b4;\" x=\"142.690672\" xlink:href=\"#mb71464ae76\" y=\"172.877542\"/>\n     <use style=\"fill:#1f77b4;stroke:#1f77b4;\" x=\"63.893538\" xlink:href=\"#mb71464ae76\" y=\"213.101252\"/>\n     <use style=\"fill:#1f77b4;stroke:#1f77b4;\" x=\"93.520135\" xlink:href=\"#mb71464ae76\" y=\"198.225558\"/>\n     <use style=\"fill:#1f77b4;stroke:#1f77b4;\" x=\"118.530656\" xlink:href=\"#mb71464ae76\" y=\"185.185003\"/>\n     <use style=\"fill:#1f77b4;stroke:#1f77b4;\" x=\"127.134719\" xlink:href=\"#mb71464ae76\" y=\"181.285937\"/>\n     <use style=\"fill:#1f77b4;stroke:#1f77b4;\" x=\"67.019247\" xlink:href=\"#mb71464ae76\" y=\"211.920796\"/>\n     <use style=\"fill:#1f77b4;stroke:#1f77b4;\" x=\"72.664488\" xlink:href=\"#mb71464ae76\" y=\"209.06051\"/>\n     <use style=\"fill:#1f77b4;stroke:#1f77b4;\" x=\"115.739486\" xlink:href=\"#mb71464ae76\" y=\"187.200631\"/>\n     <use style=\"fill:#1f77b4;stroke:#1f77b4;\" x=\"133.846324\" xlink:href=\"#mb71464ae76\" y=\"177.331775\"/>\n     <use style=\"fill:#1f77b4;stroke:#1f77b4;\" x=\"152.548237\" xlink:href=\"#mb71464ae76\" y=\"167.374117\"/>\n     <use style=\"fill:#1f77b4;stroke:#1f77b4;\" x=\"206.51208\" xlink:href=\"#mb71464ae76\" y=\"140.928266\"/>\n     <use style=\"fill:#1f77b4;stroke:#1f77b4;\" x=\"83.34901\" xlink:href=\"#mb71464ae76\" y=\"203.588583\"/>\n     <use style=\"fill:#1f77b4;stroke:#1f77b4;\" x=\"63.966524\" xlink:href=\"#mb71464ae76\" y=\"213.460825\"/>\n     <use style=\"fill:#1f77b4;stroke:#1f77b4;\" x=\"206.336646\" xlink:href=\"#mb71464ae76\" y=\"140.879566\"/>\n     <use style=\"fill:#1f77b4;stroke:#1f77b4;\" x=\"113.65033\" xlink:href=\"#mb71464ae76\" y=\"132.01219\"/>\n     <use style=\"fill:#1f77b4;stroke:#1f77b4;\" x=\"150.152201\" xlink:href=\"#mb71464ae76\" y=\"169.834143\"/>\n     <use style=\"fill:#1f77b4;stroke:#1f77b4;\" x=\"84.62826\" xlink:href=\"#mb71464ae76\" y=\"203.054259\"/>\n     <use style=\"fill:#1f77b4;stroke:#1f77b4;\" x=\"96.076941\" xlink:href=\"#mb71464ae76\" y=\"196.850274\"/>\n     <use style=\"fill:#1f77b4;stroke:#1f77b4;\" x=\"107.070414\" xlink:href=\"#mb71464ae76\" y=\"191.423328\"/>\n     <use style=\"fill:#1f77b4;stroke:#1f77b4;\" x=\"80.932003\" xlink:href=\"#mb71464ae76\" y=\"204.740302\"/>\n     <use style=\"fill:#1f77b4;stroke:#1f77b4;\" x=\"77.773201\" xlink:href=\"#mb71464ae76\" y=\"206.443039\"/>\n     <use style=\"fill:#1f77b4;stroke:#1f77b4;\" x=\"64.90474\" xlink:href=\"#mb71464ae76\" y=\"213.012265\"/>\n     <use style=\"fill:#1f77b4;stroke:#1f77b4;\" x=\"151.421826\" xlink:href=\"#mb71464ae76\" y=\"169.332217\"/>\n     <use style=\"fill:#1f77b4;stroke:#1f77b4;\" x=\"288.760841\" xlink:href=\"#mb71464ae76\" y=\"97.997799\"/>\n     <use style=\"fill:#1f77b4;stroke:#1f77b4;\" x=\"69.687264\" xlink:href=\"#mb71464ae76\" y=\"210.320237\"/>\n     <use style=\"fill:#1f77b4;stroke:#1f77b4;\" x=\"225.479128\" xlink:href=\"#mb71464ae76\" y=\"114.843084\"/>\n     <use style=\"fill:#1f77b4;stroke:#1f77b4;\" x=\"276.82298\" xlink:href=\"#mb71464ae76\" y=\"104.640372\"/>\n     <use style=\"fill:#1f77b4;stroke:#1f77b4;\" x=\"81.572444\" xlink:href=\"#mb71464ae76\" y=\"204.569151\"/>\n     <use style=\"fill:#1f77b4;stroke:#1f77b4;\" x=\"67.91143\" xlink:href=\"#mb71464ae76\" y=\"211.343637\"/>\n     <use style=\"fill:#1f77b4;stroke:#1f77b4;\" x=\"294.471101\" xlink:href=\"#mb71464ae76\" y=\"94.84542\"/>\n     <use style=\"fill:#1f77b4;stroke:#1f77b4;\" x=\"103.559718\" xlink:href=\"#mb71464ae76\" y=\"193.098817\"/>\n     <use style=\"fill:#1f77b4;stroke:#1f77b4;\" x=\"111.513123\" xlink:href=\"#mb71464ae76\" y=\"189.454058\"/>\n     <use style=\"fill:#1f77b4;stroke:#1f77b4;\" x=\"127.443721\" xlink:href=\"#mb71464ae76\" y=\"180.886064\"/>\n     <use style=\"fill:#1f77b4;stroke:#1f77b4;\" x=\"122.929539\" xlink:href=\"#mb71464ae76\" y=\"183.357378\"/>\n     <use style=\"fill:#1f77b4;stroke:#1f77b4;\" x=\"140.933214\" xlink:href=\"#mb71464ae76\" y=\"173.458179\"/>\n     <use style=\"fill:#1f77b4;stroke:#1f77b4;\" x=\"309.015252\" xlink:href=\"#mb71464ae76\" y=\"88.623777\"/>\n     <use style=\"fill:#1f77b4;stroke:#1f77b4;\" x=\"77.229454\" xlink:href=\"#mb71464ae76\" y=\"158.462358\"/>\n     <use style=\"fill:#1f77b4;stroke:#1f77b4;\" x=\"98.116031\" xlink:href=\"#mb71464ae76\" y=\"195.724821\"/>\n     <use style=\"fill:#1f77b4;stroke:#1f77b4;\" x=\"105.455042\" xlink:href=\"#mb71464ae76\" y=\"192.09948\"/>\n     <use style=\"fill:#1f77b4;stroke:#1f77b4;\" x=\"156.229045\" xlink:href=\"#mb71464ae76\" y=\"165.362504\"/>\n     <use style=\"fill:#1f77b4;stroke:#1f77b4;\" x=\"64.447269\" xlink:href=\"#mb71464ae76\" y=\"213.143486\"/>\n     <use style=\"fill:#1f77b4;stroke:#1f77b4;\" x=\"90.120062\" xlink:href=\"#mb71464ae76\" y=\"200.31168\"/>\n     <use style=\"fill:#1f77b4;stroke:#1f77b4;\" x=\"123.476985\" xlink:href=\"#mb71464ae76\" y=\"183.112517\"/>\n     <use style=\"fill:#1f77b4;stroke:#1f77b4;\" x=\"127.281774\" xlink:href=\"#mb71464ae76\" y=\"181.180799\"/>\n     <use style=\"fill:#1f77b4;stroke:#1f77b4;\" x=\"98.658994\" xlink:href=\"#mb71464ae76\" y=\"195.506375\"/>\n     <use style=\"fill:#1f77b4;stroke:#1f77b4;\" x=\"134.988888\" xlink:href=\"#mb71464ae76\" y=\"177.145468\"/>\n     <use style=\"fill:#1f77b4;stroke:#1f77b4;\" x=\"267.357573\" xlink:href=\"#mb71464ae76\" y=\"108.557305\"/>\n     <use style=\"fill:#1f77b4;stroke:#1f77b4;\" x=\"100.183542\" xlink:href=\"#mb71464ae76\" y=\"194.794491\"/>\n     <use style=\"fill:#1f77b4;stroke:#1f77b4;\" x=\"93.941767\" xlink:href=\"#mb71464ae76\" y=\"198.095253\"/>\n     <use style=\"fill:#1f77b4;stroke:#1f77b4;\" x=\"83.395079\" xlink:href=\"#mb71464ae76\" y=\"203.634421\"/>\n     <use style=\"fill:#1f77b4;stroke:#1f77b4;\" x=\"104.76998\" xlink:href=\"#mb71464ae76\" y=\"192.685904\"/>\n     <use style=\"fill:#1f77b4;stroke:#1f77b4;\" x=\"137.325378\" xlink:href=\"#mb71464ae76\" y=\"175.792228\"/>\n     <use style=\"fill:#1f77b4;stroke:#1f77b4;\" x=\"163.089467\" xlink:href=\"#mb71464ae76\" y=\"160.683525\"/>\n     <use style=\"fill:#1f77b4;stroke:#1f77b4;\" x=\"230.522187\" xlink:href=\"#mb71464ae76\" y=\"126.949799\"/>\n     <use style=\"fill:#1f77b4;stroke:#1f77b4;\" x=\"187.091439\" xlink:href=\"#mb71464ae76\" y=\"151.329872\"/>\n     <use style=\"fill:#1f77b4;stroke:#1f77b4;\" x=\"96.693368\" xlink:href=\"#mb71464ae76\" y=\"196.594329\"/>\n     <use style=\"fill:#1f77b4;stroke:#1f77b4;\" x=\"122.773605\" xlink:href=\"#mb71464ae76\" y=\"112.683264\"/>\n     <use style=\"fill:#1f77b4;stroke:#1f77b4;\" x=\"70.518694\" xlink:href=\"#mb71464ae76\" y=\"210.137131\"/>\n     <use style=\"fill:#1f77b4;stroke:#1f77b4;\" x=\"124.681205\" xlink:href=\"#mb71464ae76\" y=\"182.442014\"/>\n     <use style=\"fill:#1f77b4;stroke:#1f77b4;\" x=\"89.477192\" xlink:href=\"#mb71464ae76\" y=\"200.5782\"/>\n     <use style=\"fill:#1f77b4;stroke:#1f77b4;\" x=\"299.006601\" xlink:href=\"#mb71464ae76\" y=\"92.490419\"/>\n     <use style=\"fill:#1f77b4;stroke:#1f77b4;\" x=\"121.868942\" xlink:href=\"#mb71464ae76\" y=\"136.28196\"/>\n     <use style=\"fill:#1f77b4;stroke:#1f77b4;\" x=\"129.506364\" xlink:href=\"#mb71464ae76\" y=\"179.688869\"/>\n     <use style=\"fill:#1f77b4;stroke:#1f77b4;\" x=\"91.453312\" xlink:href=\"#mb71464ae76\" y=\"199.469067\"/>\n     <use style=\"fill:#1f77b4;stroke:#1f77b4;\" x=\"132.178095\" xlink:href=\"#mb71464ae76\" y=\"178.673612\"/>\n     <use style=\"fill:#1f77b4;stroke:#1f77b4;\" x=\"63.970694\" xlink:href=\"#mb71464ae76\" y=\"213.122918\"/>\n     <use style=\"fill:#1f77b4;stroke:#1f77b4;\" x=\"61.231941\" xlink:href=\"#mb71464ae76\" y=\"214.708602\"/>\n     <use style=\"fill:#1f77b4;stroke:#1f77b4;\" x=\"65.067306\" xlink:href=\"#mb71464ae76\" y=\"212.897431\"/>\n     <use style=\"fill:#1f77b4;stroke:#1f77b4;\" x=\"139.926875\" xlink:href=\"#mb71464ae76\" y=\"174.498113\"/>\n     <use style=\"fill:#1f77b4;stroke:#1f77b4;\" x=\"125.168385\" xlink:href=\"#mb71464ae76\" y=\"181.889408\"/>\n     <use style=\"fill:#1f77b4;stroke:#1f77b4;\" x=\"124.093208\" xlink:href=\"#mb71464ae76\" y=\"182.684163\"/>\n     <use style=\"fill:#1f77b4;stroke:#1f77b4;\" x=\"114.650857\" xlink:href=\"#mb71464ae76\" y=\"187.535785\"/>\n     <use style=\"fill:#1f77b4;stroke:#1f77b4;\" x=\"85.632608\" xlink:href=\"#mb71464ae76\" y=\"202.480503\"/>\n     <use style=\"fill:#1f77b4;stroke:#1f77b4;\" x=\"117.963191\" xlink:href=\"#mb71464ae76\" y=\"186.029546\"/>\n     <use style=\"fill:#1f77b4;stroke:#1f77b4;\" x=\"69.768345\" xlink:href=\"#mb71464ae76\" y=\"210.468028\"/>\n     <use style=\"fill:#1f77b4;stroke:#1f77b4;\" x=\"273.081882\" xlink:href=\"#mb71464ae76\" y=\"106.014285\"/>\n     <use style=\"fill:#1f77b4;stroke:#1f77b4;\" x=\"265.711644\" xlink:href=\"#mb71464ae76\" y=\"109.525258\"/>\n     <use style=\"fill:#1f77b4;stroke:#1f77b4;\" x=\"110.322245\" xlink:href=\"#mb71464ae76\" y=\"189.577596\"/>\n     <use style=\"fill:#1f77b4;stroke:#1f77b4;\" x=\"283.789907\" xlink:href=\"#mb71464ae76\" y=\"101.12892\"/>\n     <use style=\"fill:#1f77b4;stroke:#1f77b4;\" x=\"105.144168\" xlink:href=\"#mb71464ae76\" y=\"192.387983\"/>\n     <use style=\"fill:#1f77b4;stroke:#1f77b4;\" x=\"85.369742\" xlink:href=\"#mb71464ae76\" y=\"164.251466\"/>\n     <use style=\"fill:#1f77b4;stroke:#1f77b4;\" x=\"136.775567\" xlink:href=\"#mb71464ae76\" y=\"176.045423\"/>\n     <use style=\"fill:#1f77b4;stroke:#1f77b4;\" x=\"67.048683\" xlink:href=\"#mb71464ae76\" y=\"211.573327\"/>\n     <use style=\"fill:#1f77b4;stroke:#1f77b4;\" x=\"107.442053\" xlink:href=\"#mb71464ae76\" y=\"190.936274\"/>\n     <use style=\"fill:#1f77b4;stroke:#1f77b4;\" x=\"98.834045\" xlink:href=\"#mb71464ae76\" y=\"195.489243\"/>\n     <use style=\"fill:#1f77b4;stroke:#1f77b4;\" x=\"83.789969\" xlink:href=\"#mb71464ae76\" y=\"203.408994\"/>\n     <use style=\"fill:#1f77b4;stroke:#1f77b4;\" x=\"78.407649\" xlink:href=\"#mb71464ae76\" y=\"205.97131\"/>\n     <use style=\"fill:#1f77b4;stroke:#1f77b4;\" x=\"140.432447\" xlink:href=\"#mb71464ae76\" y=\"174.203075\"/>\n     <use style=\"fill:#1f77b4;stroke:#1f77b4;\" x=\"130.633031\" xlink:href=\"#mb71464ae76\" y=\"179.4109\"/>\n     <use style=\"fill:#1f77b4;stroke:#1f77b4;\" x=\"83.643249\" xlink:href=\"#mb71464ae76\" y=\"157.668703\"/>\n     <use style=\"fill:#1f77b4;stroke:#1f77b4;\" x=\"192.300945\" xlink:href=\"#mb71464ae76\" y=\"147.578349\"/>\n     <use style=\"fill:#1f77b4;stroke:#1f77b4;\" x=\"76.091963\" xlink:href=\"#mb71464ae76\" y=\"207.133785\"/>\n     <use style=\"fill:#1f77b4;stroke:#1f77b4;\" x=\"311.487925\" xlink:href=\"#mb71464ae76\" y=\"86.842819\"/>\n     <use style=\"fill:#1f77b4;stroke:#1f77b4;\" x=\"84.058408\" xlink:href=\"#mb71464ae76\" y=\"203.305292\"/>\n     <use style=\"fill:#1f77b4;stroke:#1f77b4;\" x=\"81.527467\" xlink:href=\"#mb71464ae76\" y=\"156.950414\"/>\n     <use style=\"fill:#1f77b4;stroke:#1f77b4;\" x=\"67.742892\" xlink:href=\"#mb71464ae76\" y=\"211.551311\"/>\n     <use style=\"fill:#1f77b4;stroke:#1f77b4;\" x=\"336.490724\" xlink:href=\"#mb71464ae76\" y=\"73.585652\"/>\n     <use style=\"fill:#1f77b4;stroke:#1f77b4;\" x=\"76.243903\" xlink:href=\"#mb71464ae76\" y=\"207.006641\"/>\n     <use style=\"fill:#1f77b4;stroke:#1f77b4;\" x=\"64.789317\" xlink:href=\"#mb71464ae76\" y=\"212.91781\"/>\n     <use style=\"fill:#1f77b4;stroke:#1f77b4;\" x=\"349.553343\" xlink:href=\"#mb71464ae76\" y=\"67.070584\"/>\n     <use style=\"fill:#1f77b4;stroke:#1f77b4;\" x=\"259.496849\" xlink:href=\"#mb71464ae76\" y=\"112.671131\"/>\n     <use style=\"fill:#1f77b4;stroke:#1f77b4;\" x=\"68.706402\" xlink:href=\"#mb71464ae76\" y=\"182.728991\"/>\n     <use style=\"fill:#1f77b4;stroke:#1f77b4;\" x=\"105.838504\" xlink:href=\"#mb71464ae76\" y=\"192.158972\"/>\n     <use style=\"fill:#1f77b4;stroke:#1f77b4;\" x=\"97.51129\" xlink:href=\"#mb71464ae76\" y=\"196.255053\"/>\n     <use style=\"fill:#1f77b4;stroke:#1f77b4;\" x=\"109.102257\" xlink:href=\"#mb71464ae76\" y=\"190.116716\"/>\n     <use style=\"fill:#1f77b4;stroke:#1f77b4;\" x=\"95.406587\" xlink:href=\"#mb71464ae76\" y=\"197.123745\"/>\n     <use style=\"fill:#1f77b4;stroke:#1f77b4;\" x=\"290.427844\" xlink:href=\"#mb71464ae76\" y=\"96.158503\"/>\n     <use style=\"fill:#1f77b4;stroke:#1f77b4;\" x=\"71.531996\" xlink:href=\"#mb71464ae76\" y=\"147.322738\"/>\n     <use style=\"fill:#1f77b4;stroke:#1f77b4;\" x=\"206.063096\" xlink:href=\"#mb71464ae76\" y=\"98.933405\"/>\n     <use style=\"fill:#1f77b4;stroke:#1f77b4;\" x=\"101.432075\" xlink:href=\"#mb71464ae76\" y=\"194.155961\"/>\n     <use style=\"fill:#1f77b4;stroke:#1f77b4;\" x=\"122.214464\" xlink:href=\"#mb71464ae76\" y=\"183.716593\"/>\n     <use style=\"fill:#1f77b4;stroke:#1f77b4;\" x=\"263.913001\" xlink:href=\"#mb71464ae76\" y=\"108.896394\"/>\n     <use style=\"fill:#1f77b4;stroke:#1f77b4;\" x=\"107.820491\" xlink:href=\"#mb71464ae76\" y=\"191.074002\"/>\n     <use style=\"fill:#1f77b4;stroke:#1f77b4;\" x=\"188.457575\" xlink:href=\"#mb71464ae76\" y=\"149.601839\"/>\n     <use style=\"fill:#1f77b4;stroke:#1f77b4;\" x=\"65.39947\" xlink:href=\"#mb71464ae76\" y=\"212.482538\"/>\n     <use style=\"fill:#1f77b4;stroke:#1f77b4;\" x=\"127.219546\" xlink:href=\"#mb71464ae76\" y=\"180.929568\"/>\n     <use style=\"fill:#1f77b4;stroke:#1f77b4;\" x=\"100.638353\" xlink:href=\"#mb71464ae76\" y=\"194.547426\"/>\n     <use style=\"fill:#1f77b4;stroke:#1f77b4;\" x=\"87.525713\" xlink:href=\"#mb71464ae76\" y=\"201.402653\"/>\n     <use style=\"fill:#1f77b4;stroke:#1f77b4;\" x=\"96.526614\" xlink:href=\"#mb71464ae76\" y=\"196.419962\"/>\n     <use style=\"fill:#1f77b4;stroke:#1f77b4;\" x=\"276.218464\" xlink:href=\"#mb71464ae76\" y=\"103.735483\"/>\n     <use style=\"fill:#1f77b4;stroke:#1f77b4;\" x=\"218.116756\" xlink:href=\"#mb71464ae76\" y=\"133.335911\"/>\n     <use style=\"fill:#1f77b4;stroke:#1f77b4;\" x=\"104.641206\" xlink:href=\"#mb71464ae76\" y=\"192.540647\"/>\n     <use style=\"fill:#1f77b4;stroke:#1f77b4;\" x=\"139.238551\" xlink:href=\"#mb71464ae76\" y=\"174.681579\"/>\n     <use style=\"fill:#1f77b4;stroke:#1f77b4;\" x=\"130.077225\" xlink:href=\"#mb71464ae76\" y=\"179.59526\"/>\n     <use style=\"fill:#1f77b4;stroke:#1f77b4;\" x=\"158.28659\" xlink:href=\"#mb71464ae76\" y=\"163.515216\"/>\n     <use style=\"fill:#1f77b4;stroke:#1f77b4;\" x=\"81.256957\" xlink:href=\"#mb71464ae76\" y=\"204.600935\"/>\n     <use style=\"fill:#1f77b4;stroke:#1f77b4;\" x=\"61.230682\" xlink:href=\"#mb71464ae76\" y=\"214.707155\"/>\n     <use style=\"fill:#1f77b4;stroke:#1f77b4;\" x=\"109.948509\" xlink:href=\"#mb71464ae76\" y=\"189.967628\"/>\n     <use style=\"fill:#1f77b4;stroke:#1f77b4;\" x=\"128.277808\" xlink:href=\"#mb71464ae76\" y=\"180.805421\"/>\n     <use style=\"fill:#1f77b4;stroke:#1f77b4;\" x=\"100.110188\" xlink:href=\"#mb71464ae76\" y=\"194.816272\"/>\n     <use style=\"fill:#1f77b4;stroke:#1f77b4;\" x=\"82.931558\" xlink:href=\"#mb71464ae76\" y=\"203.899201\"/>\n     <use style=\"fill:#1f77b4;stroke:#1f77b4;\" x=\"119.972088\" xlink:href=\"#mb71464ae76\" y=\"134.785493\"/>\n     <use style=\"fill:#1f77b4;stroke:#1f77b4;\" x=\"69.069304\" xlink:href=\"#mb71464ae76\" y=\"210.670041\"/>\n     <use style=\"fill:#1f77b4;stroke:#1f77b4;\" x=\"105.199305\" xlink:href=\"#mb71464ae76\" y=\"192.258036\"/>\n     <use style=\"fill:#1f77b4;stroke:#1f77b4;\" x=\"84.503084\" xlink:href=\"#mb71464ae76\" y=\"203.032323\"/>\n     <use style=\"fill:#1f77b4;stroke:#1f77b4;\" x=\"136.764536\" xlink:href=\"#mb71464ae76\" y=\"175.968185\"/>\n     <use style=\"fill:#1f77b4;stroke:#1f77b4;\" x=\"296.60432\" xlink:href=\"#mb71464ae76\" y=\"94.479063\"/>\n     <use style=\"fill:#1f77b4;stroke:#1f77b4;\" x=\"87.597268\" xlink:href=\"#mb71464ae76\" y=\"201.178791\"/>\n     <use style=\"fill:#1f77b4;stroke:#1f77b4;\" x=\"130.857267\" xlink:href=\"#mb71464ae76\" y=\"179.285917\"/>\n     <use style=\"fill:#1f77b4;stroke:#1f77b4;\" x=\"171.852574\" xlink:href=\"#mb71464ae76\" y=\"159.079005\"/>\n     <use style=\"fill:#1f77b4;stroke:#1f77b4;\" x=\"69.862267\" xlink:href=\"#mb71464ae76\" y=\"210.459329\"/>\n     <use style=\"fill:#1f77b4;stroke:#1f77b4;\" x=\"245.29975\" xlink:href=\"#mb71464ae76\" y=\"79.641642\"/>\n     <use style=\"fill:#1f77b4;stroke:#1f77b4;\" x=\"107.344427\" xlink:href=\"#mb71464ae76\" y=\"191.148838\"/>\n     <use style=\"fill:#1f77b4;stroke:#1f77b4;\" x=\"112.400425\" xlink:href=\"#mb71464ae76\" y=\"188.663996\"/>\n     <use style=\"fill:#1f77b4;stroke:#1f77b4;\" x=\"266.595489\" xlink:href=\"#mb71464ae76\" y=\"109.067746\"/>\n     <use style=\"fill:#1f77b4;stroke:#1f77b4;\" x=\"117.718778\" xlink:href=\"#mb71464ae76\" y=\"153.202181\"/>\n     <use style=\"fill:#1f77b4;stroke:#1f77b4;\" x=\"126.507111\" xlink:href=\"#mb71464ae76\" y=\"181.510908\"/>\n     <use style=\"fill:#1f77b4;stroke:#1f77b4;\" x=\"169.136804\" xlink:href=\"#mb71464ae76\" y=\"160.465742\"/>\n     <use style=\"fill:#1f77b4;stroke:#1f77b4;\" x=\"115.080639\" xlink:href=\"#mb71464ae76\" y=\"187.154315\"/>\n     <use style=\"fill:#1f77b4;stroke:#1f77b4;\" x=\"224.600783\" xlink:href=\"#mb71464ae76\" y=\"130.552303\"/>\n     <use style=\"fill:#1f77b4;stroke:#1f77b4;\" x=\"64.80222\" xlink:href=\"#mb71464ae76\" y=\"212.844554\"/>\n     <use style=\"fill:#1f77b4;stroke:#1f77b4;\" x=\"66.816349\" xlink:href=\"#mb71464ae76\" y=\"211.960575\"/>\n     <use style=\"fill:#1f77b4;stroke:#1f77b4;\" x=\"74.57072\" xlink:href=\"#mb71464ae76\" y=\"208.078052\"/>\n     <use style=\"fill:#1f77b4;stroke:#1f77b4;\" x=\"96.793235\" xlink:href=\"#mb71464ae76\" y=\"196.655858\"/>\n     <use style=\"fill:#1f77b4;stroke:#1f77b4;\" x=\"74.238336\" xlink:href=\"#mb71464ae76\" y=\"208.171602\"/>\n     <use style=\"fill:#1f77b4;stroke:#1f77b4;\" x=\"124.350055\" xlink:href=\"#mb71464ae76\" y=\"182.433593\"/>\n     <use style=\"fill:#1f77b4;stroke:#1f77b4;\" x=\"64.342066\" xlink:href=\"#mb71464ae76\" y=\"182.065428\"/>\n     <use style=\"fill:#1f77b4;stroke:#1f77b4;\" x=\"75.34679\" xlink:href=\"#mb71464ae76\" y=\"207.535699\"/>\n     <use style=\"fill:#1f77b4;stroke:#1f77b4;\" x=\"68.022211\" xlink:href=\"#mb71464ae76\" y=\"211.299055\"/>\n     <use style=\"fill:#1f77b4;stroke:#1f77b4;\" x=\"188.702878\" xlink:href=\"#mb71464ae76\" y=\"162.294949\"/>\n     <use style=\"fill:#1f77b4;stroke:#1f77b4;\" x=\"81.1945\" xlink:href=\"#mb71464ae76\" y=\"154.630293\"/>\n     <use style=\"fill:#1f77b4;stroke:#1f77b4;\" x=\"71.502065\" xlink:href=\"#mb71464ae76\" y=\"209.301512\"/>\n     <use style=\"fill:#1f77b4;stroke:#1f77b4;\" x=\"63.956972\" xlink:href=\"#mb71464ae76\" y=\"213.145\"/>\n     <use style=\"fill:#1f77b4;stroke:#1f77b4;\" x=\"83.676177\" xlink:href=\"#mb71464ae76\" y=\"203.550386\"/>\n     <use style=\"fill:#1f77b4;stroke:#1f77b4;\" x=\"83.824907\" xlink:href=\"#mb71464ae76\" y=\"203.568638\"/>\n     <use style=\"fill:#1f77b4;stroke:#1f77b4;\" x=\"276.226758\" xlink:href=\"#mb71464ae76\" y=\"104.313605\"/>\n     <use style=\"fill:#1f77b4;stroke:#1f77b4;\" x=\"317.670061\" xlink:href=\"#mb71464ae76\" y=\"83.071534\"/>\n     <use style=\"fill:#1f77b4;stroke:#1f77b4;\" x=\"66.724158\" xlink:href=\"#mb71464ae76\" y=\"211.811079\"/>\n     <use style=\"fill:#1f77b4;stroke:#1f77b4;\" x=\"76.379061\" xlink:href=\"#mb71464ae76\" y=\"207.000867\"/>\n     <use style=\"fill:#1f77b4;stroke:#1f77b4;\" x=\"289.113613\" xlink:href=\"#mb71464ae76\" y=\"97.08521\"/>\n     <use style=\"fill:#1f77b4;stroke:#1f77b4;\" x=\"72.306677\" xlink:href=\"#mb71464ae76\" y=\"178.508649\"/>\n     <use style=\"fill:#1f77b4;stroke:#1f77b4;\" x=\"78.252281\" xlink:href=\"#mb71464ae76\" y=\"206.155745\"/>\n     <use style=\"fill:#1f77b4;stroke:#1f77b4;\" x=\"67.960229\" xlink:href=\"#mb71464ae76\" y=\"211.330304\"/>\n     <use style=\"fill:#1f77b4;stroke:#1f77b4;\" x=\"117.695283\" xlink:href=\"#mb71464ae76\" y=\"186.119508\"/>\n     <use style=\"fill:#1f77b4;stroke:#1f77b4;\" x=\"120.50199\" xlink:href=\"#mb71464ae76\" y=\"184.52651\"/>\n     <use style=\"fill:#1f77b4;stroke:#1f77b4;\" x=\"103.36266\" xlink:href=\"#mb71464ae76\" y=\"192.981062\"/>\n     <use style=\"fill:#1f77b4;stroke:#1f77b4;\" x=\"134.49842\" xlink:href=\"#mb71464ae76\" y=\"177.413044\"/>\n     <use style=\"fill:#1f77b4;stroke:#1f77b4;\" x=\"134.754115\" xlink:href=\"#mb71464ae76\" y=\"177.502423\"/>\n     <use style=\"fill:#1f77b4;stroke:#1f77b4;\" x=\"203.635852\" xlink:href=\"#mb71464ae76\" y=\"142.232499\"/>\n     <use style=\"fill:#1f77b4;stroke:#1f77b4;\" x=\"136.524958\" xlink:href=\"#mb71464ae76\" y=\"176.570781\"/>\n     <use style=\"fill:#1f77b4;stroke:#1f77b4;\" x=\"193.003965\" xlink:href=\"#mb71464ae76\" y=\"155.40085\"/>\n     <use style=\"fill:#1f77b4;stroke:#1f77b4;\" x=\"128.736646\" xlink:href=\"#mb71464ae76\" y=\"180.340597\"/>\n     <use style=\"fill:#1f77b4;stroke:#1f77b4;\" x=\"115.173771\" xlink:href=\"#mb71464ae76\" y=\"187.135793\"/>\n     <use style=\"fill:#1f77b4;stroke:#1f77b4;\" x=\"160.960163\" xlink:href=\"#mb71464ae76\" y=\"164.090245\"/>\n     <use style=\"fill:#1f77b4;stroke:#1f77b4;\" x=\"170.36397\" xlink:href=\"#mb71464ae76\" y=\"158.217181\"/>\n     <use style=\"fill:#1f77b4;stroke:#1f77b4;\" x=\"64.773486\" xlink:href=\"#mb71464ae76\" y=\"212.924476\"/>\n     <use style=\"fill:#1f77b4;stroke:#1f77b4;\" x=\"124.583932\" xlink:href=\"#mb71464ae76\" y=\"182.344887\"/>\n     <use style=\"fill:#1f77b4;stroke:#1f77b4;\" x=\"100.922427\" xlink:href=\"#mb71464ae76\" y=\"194.592986\"/>\n     <use style=\"fill:#1f77b4;stroke:#1f77b4;\" x=\"70.978632\" xlink:href=\"#mb71464ae76\" y=\"209.539708\"/>\n     <use style=\"fill:#1f77b4;stroke:#1f77b4;\" x=\"109.908952\" xlink:href=\"#mb71464ae76\" y=\"190.012194\"/>\n     <use style=\"fill:#1f77b4;stroke:#1f77b4;\" x=\"129.891784\" xlink:href=\"#mb71464ae76\" y=\"179.582065\"/>\n     <use style=\"fill:#1f77b4;stroke:#1f77b4;\" x=\"281.582514\" xlink:href=\"#mb71464ae76\" y=\"102.064239\"/>\n     <use style=\"fill:#1f77b4;stroke:#1f77b4;\" x=\"81.441725\" xlink:href=\"#mb71464ae76\" y=\"204.307663\"/>\n     <use style=\"fill:#1f77b4;stroke:#1f77b4;\" x=\"101.680647\" xlink:href=\"#mb71464ae76\" y=\"193.845538\"/>\n     <use style=\"fill:#1f77b4;stroke:#1f77b4;\" x=\"75.226442\" xlink:href=\"#mb71464ae76\" y=\"207.634819\"/>\n     <use style=\"fill:#1f77b4;stroke:#1f77b4;\" x=\"126.954918\" xlink:href=\"#mb71464ae76\" y=\"153.730012\"/>\n     <use style=\"fill:#1f77b4;stroke:#1f77b4;\" x=\"344.06019\" xlink:href=\"#mb71464ae76\" y=\"70.888033\"/>\n     <use style=\"fill:#1f77b4;stroke:#1f77b4;\" x=\"108.727331\" xlink:href=\"#mb71464ae76\" y=\"190.585164\"/>\n     <use style=\"fill:#1f77b4;stroke:#1f77b4;\" x=\"77.727126\" xlink:href=\"#mb71464ae76\" y=\"206.428303\"/>\n     <use style=\"fill:#1f77b4;stroke:#1f77b4;\" x=\"82.136531\" xlink:href=\"#mb71464ae76\" y=\"204.292279\"/>\n     <use style=\"fill:#1f77b4;stroke:#1f77b4;\" x=\"65.692058\" xlink:href=\"#mb71464ae76\" y=\"212.246526\"/>\n     <use style=\"fill:#1f77b4;stroke:#1f77b4;\" x=\"66.332946\" xlink:href=\"#mb71464ae76\" y=\"214.62514\"/>\n     <use style=\"fill:#1f77b4;stroke:#1f77b4;\" x=\"117.536044\" xlink:href=\"#mb71464ae76\" y=\"186.066299\"/>\n     <use style=\"fill:#1f77b4;stroke:#1f77b4;\" x=\"82.074586\" xlink:href=\"#mb71464ae76\" y=\"204.256945\"/>\n     <use style=\"fill:#1f77b4;stroke:#1f77b4;\" x=\"99.987329\" xlink:href=\"#mb71464ae76\" y=\"161.724487\"/>\n     <use style=\"fill:#1f77b4;stroke:#1f77b4;\" x=\"277.979862\" xlink:href=\"#mb71464ae76\" y=\"103.452211\"/>\n     <use style=\"fill:#1f77b4;stroke:#1f77b4;\" x=\"135.619599\" xlink:href=\"#mb71464ae76\" y=\"176.823808\"/>\n     <use style=\"fill:#1f77b4;stroke:#1f77b4;\" x=\"155.604827\" xlink:href=\"#mb71464ae76\" y=\"166.374069\"/>\n     <use style=\"fill:#1f77b4;stroke:#1f77b4;\" x=\"82.00719\" xlink:href=\"#mb71464ae76\" y=\"204.405965\"/>\n     <use style=\"fill:#1f77b4;stroke:#1f77b4;\" x=\"142.266238\" xlink:href=\"#mb71464ae76\" y=\"173.115849\"/>\n     <use style=\"fill:#1f77b4;stroke:#1f77b4;\" x=\"119.512597\" xlink:href=\"#mb71464ae76\" y=\"184.867723\"/>\n     <use style=\"fill:#1f77b4;stroke:#1f77b4;\" x=\"126.606292\" xlink:href=\"#mb71464ae76\" y=\"181.266375\"/>\n     <use style=\"fill:#1f77b4;stroke:#1f77b4;\" x=\"66.71694\" xlink:href=\"#mb71464ae76\" y=\"212.026873\"/>\n     <use style=\"fill:#1f77b4;stroke:#1f77b4;\" x=\"138.03177\" xlink:href=\"#mb71464ae76\" y=\"175.526553\"/>\n     <use style=\"fill:#1f77b4;stroke:#1f77b4;\" x=\"136.261781\" xlink:href=\"#mb71464ae76\" y=\"176.166772\"/>\n     <use style=\"fill:#1f77b4;stroke:#1f77b4;\" x=\"229.573912\" xlink:href=\"#mb71464ae76\" y=\"115.597565\"/>\n     <use style=\"fill:#1f77b4;stroke:#1f77b4;\" x=\"91.467542\" xlink:href=\"#mb71464ae76\" y=\"199.571637\"/>\n     <use style=\"fill:#1f77b4;stroke:#1f77b4;\" x=\"67.002521\" xlink:href=\"#mb71464ae76\" y=\"211.553744\"/>\n     <use style=\"fill:#1f77b4;stroke:#1f77b4;\" x=\"66.147828\" xlink:href=\"#mb71464ae76\" y=\"212.370809\"/>\n     <use style=\"fill:#1f77b4;stroke:#1f77b4;\" x=\"144.855258\" xlink:href=\"#mb71464ae76\" y=\"118.526721\"/>\n     <use style=\"fill:#1f77b4;stroke:#1f77b4;\" x=\"65.88277\" xlink:href=\"#mb71464ae76\" y=\"212.566604\"/>\n     <use style=\"fill:#1f77b4;stroke:#1f77b4;\" x=\"346.571305\" xlink:href=\"#mb71464ae76\" y=\"69.035446\"/>\n     <use style=\"fill:#1f77b4;stroke:#1f77b4;\" x=\"350.499655\" xlink:href=\"#mb71464ae76\" y=\"67.169151\"/>\n     <use style=\"fill:#1f77b4;stroke:#1f77b4;\" x=\"304.645906\" xlink:href=\"#mb71464ae76\" y=\"90.763496\"/>\n     <use style=\"fill:#1f77b4;stroke:#1f77b4;\" x=\"101.6679\" xlink:href=\"#mb71464ae76\" y=\"194.188979\"/>\n     <use style=\"fill:#1f77b4;stroke:#1f77b4;\" x=\"331.24785\" xlink:href=\"#mb71464ae76\" y=\"77.441409\"/>\n     <use style=\"fill:#1f77b4;stroke:#1f77b4;\" x=\"80.074288\" xlink:href=\"#mb71464ae76\" y=\"205.433748\"/>\n     <use style=\"fill:#1f77b4;stroke:#1f77b4;\" x=\"108.932664\" xlink:href=\"#mb71464ae76\" y=\"190.534288\"/>\n     <use style=\"fill:#1f77b4;stroke:#1f77b4;\" x=\"110.854696\" xlink:href=\"#mb71464ae76\" y=\"189.349352\"/>\n     <use style=\"fill:#1f77b4;stroke:#1f77b4;\" x=\"105.321578\" xlink:href=\"#mb71464ae76\" y=\"192.318576\"/>\n     <use style=\"fill:#1f77b4;stroke:#1f77b4;\" x=\"61.233734\" xlink:href=\"#mb71464ae76\" y=\"214.710532\"/>\n     <use style=\"fill:#1f77b4;stroke:#1f77b4;\" x=\"338.754193\" xlink:href=\"#mb71464ae76\" y=\"72.67719\"/>\n     <use style=\"fill:#1f77b4;stroke:#1f77b4;\" x=\"69.633132\" xlink:href=\"#mb71464ae76\" y=\"210.543022\"/>\n     <use style=\"fill:#1f77b4;stroke:#1f77b4;\" x=\"153.534007\" xlink:href=\"#mb71464ae76\" y=\"167.593967\"/>\n     <use style=\"fill:#1f77b4;stroke:#1f77b4;\" x=\"87.352433\" xlink:href=\"#mb71464ae76\" y=\"201.341789\"/>\n     <use style=\"fill:#1f77b4;stroke:#1f77b4;\" x=\"121.141787\" xlink:href=\"#mb71464ae76\" y=\"184.197742\"/>\n     <use style=\"fill:#1f77b4;stroke:#1f77b4;\" x=\"307.220512\" xlink:href=\"#mb71464ae76\" y=\"88.822371\"/>\n     <use style=\"fill:#1f77b4;stroke:#1f77b4;\" x=\"310.881703\" xlink:href=\"#mb71464ae76\" y=\"86.797134\"/>\n     <use style=\"fill:#1f77b4;stroke:#1f77b4;\" x=\"89.574842\" xlink:href=\"#mb71464ae76\" y=\"200.219648\"/>\n     <use style=\"fill:#1f77b4;stroke:#1f77b4;\" x=\"107.137753\" xlink:href=\"#mb71464ae76\" y=\"191.314415\"/>\n     <use style=\"fill:#1f77b4;stroke:#1f77b4;\" x=\"81.511048\" xlink:href=\"#mb71464ae76\" y=\"204.609472\"/>\n     <use style=\"fill:#1f77b4;stroke:#1f77b4;\" x=\"288.939483\" xlink:href=\"#mb71464ae76\" y=\"99.336797\"/>\n     <use style=\"fill:#1f77b4;stroke:#1f77b4;\" x=\"167.130554\" xlink:href=\"#mb71464ae76\" y=\"159.582193\"/>\n     <use style=\"fill:#1f77b4;stroke:#1f77b4;\" x=\"68.671271\" xlink:href=\"#mb71464ae76\" y=\"180.798861\"/>\n     <use style=\"fill:#1f77b4;stroke:#1f77b4;\" x=\"307.183242\" xlink:href=\"#mb71464ae76\" y=\"89.143551\"/>\n     <use style=\"fill:#1f77b4;stroke:#1f77b4;\" x=\"83.758611\" xlink:href=\"#mb71464ae76\" y=\"203.258114\"/>\n     <use style=\"fill:#1f77b4;stroke:#1f77b4;\" x=\"66.94489\" xlink:href=\"#mb71464ae76\" y=\"211.615409\"/>\n     <use style=\"fill:#1f77b4;stroke:#1f77b4;\" x=\"68.691565\" xlink:href=\"#mb71464ae76\" y=\"176.878039\"/>\n     <use style=\"fill:#1f77b4;stroke:#1f77b4;\" x=\"228.328477\" xlink:href=\"#mb71464ae76\" y=\"143.932052\"/>\n     <use style=\"fill:#1f77b4;stroke:#1f77b4;\" x=\"69.819374\" xlink:href=\"#mb71464ae76\" y=\"139.156573\"/>\n     <use style=\"fill:#1f77b4;stroke:#1f77b4;\" x=\"139.96756\" xlink:href=\"#mb71464ae76\" y=\"174.475965\"/>\n     <use style=\"fill:#1f77b4;stroke:#1f77b4;\" x=\"112.183135\" xlink:href=\"#mb71464ae76\" y=\"189.004083\"/>\n     <use style=\"fill:#1f77b4;stroke:#1f77b4;\" x=\"65.436339\" xlink:href=\"#mb71464ae76\" y=\"212.499204\"/>\n     <use style=\"fill:#1f77b4;stroke:#1f77b4;\" x=\"71.375967\" xlink:href=\"#mb71464ae76\" y=\"209.49596\"/>\n     <use style=\"fill:#1f77b4;stroke:#1f77b4;\" x=\"134.490005\" xlink:href=\"#mb71464ae76\" y=\"177.549117\"/>\n     <use style=\"fill:#1f77b4;stroke:#1f77b4;\" x=\"134.748078\" xlink:href=\"#mb71464ae76\" y=\"177.438168\"/>\n     <use style=\"fill:#1f77b4;stroke:#1f77b4;\" x=\"128.203347\" xlink:href=\"#mb71464ae76\" y=\"180.807351\"/>\n     <use style=\"fill:#1f77b4;stroke:#1f77b4;\" x=\"103.401826\" xlink:href=\"#mb71464ae76\" y=\"193.197571\"/>\n     <use style=\"fill:#1f77b4;stroke:#1f77b4;\" x=\"137.527638\" xlink:href=\"#mb71464ae76\" y=\"175.832753\"/>\n     <use style=\"fill:#1f77b4;stroke:#1f77b4;\" x=\"66.577696\" xlink:href=\"#mb71464ae76\" y=\"130.818722\"/>\n     <use style=\"fill:#1f77b4;stroke:#1f77b4;\" x=\"89.364915\" xlink:href=\"#mb71464ae76\" y=\"200.676213\"/>\n     <use style=\"fill:#1f77b4;stroke:#1f77b4;\" x=\"94.338569\" xlink:href=\"#mb71464ae76\" y=\"197.99008\"/>\n     <use style=\"fill:#1f77b4;stroke:#1f77b4;\" x=\"63.073642\" xlink:href=\"#mb71464ae76\" y=\"213.905532\"/>\n     <use style=\"fill:#1f77b4;stroke:#1f77b4;\" x=\"64.816091\" xlink:href=\"#mb71464ae76\" y=\"212.841046\"/>\n     <use style=\"fill:#1f77b4;stroke:#1f77b4;\" x=\"88.919056\" xlink:href=\"#mb71464ae76\" y=\"200.331896\"/>\n     <use style=\"fill:#1f77b4;stroke:#1f77b4;\" x=\"116.29828\" xlink:href=\"#mb71464ae76\" y=\"186.380649\"/>\n     <use style=\"fill:#1f77b4;stroke:#1f77b4;\" x=\"318.458292\" xlink:href=\"#mb71464ae76\" y=\"82.672013\"/>\n     <use style=\"fill:#1f77b4;stroke:#1f77b4;\" x=\"106.811506\" xlink:href=\"#mb71464ae76\" y=\"191.609523\"/>\n     <use style=\"fill:#1f77b4;stroke:#1f77b4;\" x=\"64.026308\" xlink:href=\"#mb71464ae76\" y=\"165.961393\"/>\n     <use style=\"fill:#1f77b4;stroke:#1f77b4;\" x=\"183.739847\" xlink:href=\"#mb71464ae76\" y=\"97.621228\"/>\n     <use style=\"fill:#1f77b4;stroke:#1f77b4;\" x=\"154.270614\" xlink:href=\"#mb71464ae76\" y=\"166.485177\"/>\n     <use style=\"fill:#1f77b4;stroke:#1f77b4;\" x=\"118.169493\" xlink:href=\"#mb71464ae76\" y=\"185.621391\"/>\n     <use style=\"fill:#1f77b4;stroke:#1f77b4;\" x=\"314.639728\" xlink:href=\"#mb71464ae76\" y=\"85.776599\"/>\n     <use style=\"fill:#1f77b4;stroke:#1f77b4;\" x=\"313.67083\" xlink:href=\"#mb71464ae76\" y=\"80.793113\"/>\n     <use style=\"fill:#1f77b4;stroke:#1f77b4;\" x=\"94.998276\" xlink:href=\"#mb71464ae76\" y=\"197.613194\"/>\n     <use style=\"fill:#1f77b4;stroke:#1f77b4;\" x=\"128.013174\" xlink:href=\"#mb71464ae76\" y=\"180.814463\"/>\n     <use style=\"fill:#1f77b4;stroke:#1f77b4;\" x=\"121.503767\" xlink:href=\"#mb71464ae76\" y=\"184.1957\"/>\n     <use style=\"fill:#1f77b4;stroke:#1f77b4;\" x=\"111.014826\" xlink:href=\"#mb71464ae76\" y=\"135.816434\"/>\n     <use style=\"fill:#1f77b4;stroke:#1f77b4;\" x=\"80.643039\" xlink:href=\"#mb71464ae76\" y=\"204.664135\"/>\n     <use style=\"fill:#1f77b4;stroke:#1f77b4;\" x=\"238.638349\" xlink:href=\"#mb71464ae76\" y=\"159.455478\"/>\n     <use style=\"fill:#1f77b4;stroke:#1f77b4;\" x=\"67.958097\" xlink:href=\"#mb71464ae76\" y=\"211.293237\"/>\n     <use style=\"fill:#1f77b4;stroke:#1f77b4;\" x=\"262.656188\" xlink:href=\"#mb71464ae76\" y=\"111.86064\"/>\n     <use style=\"fill:#1f77b4;stroke:#1f77b4;\" x=\"99.615504\" xlink:href=\"#mb71464ae76\" y=\"195.440028\"/>\n     <use style=\"fill:#1f77b4;stroke:#1f77b4;\" x=\"146.962665\" xlink:href=\"#mb71464ae76\" y=\"170.904864\"/>\n     <use style=\"fill:#1f77b4;stroke:#1f77b4;\" x=\"131.349228\" xlink:href=\"#mb71464ae76\" y=\"179.073232\"/>\n     <use style=\"fill:#1f77b4;stroke:#1f77b4;\" x=\"125.659328\" xlink:href=\"#mb71464ae76\" y=\"181.971495\"/>\n     <use style=\"fill:#1f77b4;stroke:#1f77b4;\" x=\"95.059705\" xlink:href=\"#mb71464ae76\" y=\"197.470291\"/>\n     <use style=\"fill:#1f77b4;stroke:#1f77b4;\" x=\"295.385997\" xlink:href=\"#mb71464ae76\" y=\"95.091679\"/>\n     <use style=\"fill:#1f77b4;stroke:#1f77b4;\" x=\"68.028534\" xlink:href=\"#mb71464ae76\" y=\"211.319471\"/>\n     <use style=\"fill:#1f77b4;stroke:#1f77b4;\" x=\"354.63094\" xlink:href=\"#mb71464ae76\" y=\"66.2965\"/>\n     <use style=\"fill:#1f77b4;stroke:#1f77b4;\" x=\"102.462256\" xlink:href=\"#mb71464ae76\" y=\"193.867772\"/>\n     <use style=\"fill:#1f77b4;stroke:#1f77b4;\" x=\"306.856202\" xlink:href=\"#mb71464ae76\" y=\"89.011865\"/>\n     <use style=\"fill:#1f77b4;stroke:#1f77b4;\" x=\"266.855379\" xlink:href=\"#mb71464ae76\" y=\"108.37033\"/>\n     <use style=\"fill:#1f77b4;stroke:#1f77b4;\" x=\"189.567357\" xlink:href=\"#mb71464ae76\" y=\"152.749892\"/>\n     <use style=\"fill:#1f77b4;stroke:#1f77b4;\" x=\"288.300308\" xlink:href=\"#mb71464ae76\" y=\"99.634494\"/>\n     <use style=\"fill:#1f77b4;stroke:#1f77b4;\" x=\"71.406332\" xlink:href=\"#mb71464ae76\" y=\"209.676268\"/>\n     <use style=\"fill:#1f77b4;stroke:#1f77b4;\" x=\"81.993967\" xlink:href=\"#mb71464ae76\" y=\"204.302279\"/>\n     <use style=\"fill:#1f77b4;stroke:#1f77b4;\" x=\"104.949897\" xlink:href=\"#mb71464ae76\" y=\"192.657177\"/>\n     <use style=\"fill:#1f77b4;stroke:#1f77b4;\" x=\"138.615266\" xlink:href=\"#mb71464ae76\" y=\"174.847878\"/>\n     <use style=\"fill:#1f77b4;stroke:#1f77b4;\" x=\"95.482389\" xlink:href=\"#mb71464ae76\" y=\"197.305687\"/>\n     <use style=\"fill:#1f77b4;stroke:#1f77b4;\" x=\"74.465346\" xlink:href=\"#mb71464ae76\" y=\"207.715088\"/>\n     <use style=\"fill:#1f77b4;stroke:#1f77b4;\" x=\"67.217828\" xlink:href=\"#mb71464ae76\" y=\"211.660399\"/>\n     <use style=\"fill:#1f77b4;stroke:#1f77b4;\" x=\"116.591074\" xlink:href=\"#mb71464ae76\" y=\"186.516179\"/>\n     <use style=\"fill:#1f77b4;stroke:#1f77b4;\" x=\"115.543447\" xlink:href=\"#mb71464ae76\" y=\"187.129712\"/>\n     <use style=\"fill:#1f77b4;stroke:#1f77b4;\" x=\"143.028321\" xlink:href=\"#mb71464ae76\" y=\"130.134033\"/>\n     <use style=\"fill:#1f77b4;stroke:#1f77b4;\" x=\"261.288808\" xlink:href=\"#mb71464ae76\" y=\"110.060623\"/>\n     <use style=\"fill:#1f77b4;stroke:#1f77b4;\" x=\"64.766678\" xlink:href=\"#mb71464ae76\" y=\"212.845327\"/>\n     <use style=\"fill:#1f77b4;stroke:#1f77b4;\" x=\"107.434913\" xlink:href=\"#mb71464ae76\" y=\"152.418095\"/>\n     <use style=\"fill:#1f77b4;stroke:#1f77b4;\" x=\"328.436576\" xlink:href=\"#mb71464ae76\" y=\"78.641821\"/>\n     <use style=\"fill:#1f77b4;stroke:#1f77b4;\" x=\"122.876976\" xlink:href=\"#mb71464ae76\" y=\"183.292863\"/>\n     <use style=\"fill:#1f77b4;stroke:#1f77b4;\" x=\"149.468914\" xlink:href=\"#mb71464ae76\" y=\"169.215445\"/>\n     <use style=\"fill:#1f77b4;stroke:#1f77b4;\" x=\"122.507545\" xlink:href=\"#mb71464ae76\" y=\"137.782942\"/>\n     <use style=\"fill:#1f77b4;stroke:#1f77b4;\" x=\"79.025545\" xlink:href=\"#mb71464ae76\" y=\"205.760546\"/>\n     <use style=\"fill:#1f77b4;stroke:#1f77b4;\" x=\"64.386428\" xlink:href=\"#mb71464ae76\" y=\"213.153617\"/>\n     <use style=\"fill:#1f77b4;stroke:#1f77b4;\" x=\"112.815841\" xlink:href=\"#mb71464ae76\" y=\"188.487603\"/>\n     <use style=\"fill:#1f77b4;stroke:#1f77b4;\" x=\"116.762521\" xlink:href=\"#mb71464ae76\" y=\"186.437566\"/>\n     <use style=\"fill:#1f77b4;stroke:#1f77b4;\" x=\"81.433048\" xlink:href=\"#mb71464ae76\" y=\"204.580166\"/>\n     <use style=\"fill:#1f77b4;stroke:#1f77b4;\" x=\"70.472815\" xlink:href=\"#mb71464ae76\" y=\"209.969295\"/>\n     <use style=\"fill:#1f77b4;stroke:#1f77b4;\" x=\"93.962866\" xlink:href=\"#mb71464ae76\" y=\"198.24046\"/>\n     <use style=\"fill:#1f77b4;stroke:#1f77b4;\" x=\"111.904604\" xlink:href=\"#mb71464ae76\" y=\"189.197057\"/>\n     <use style=\"fill:#1f77b4;stroke:#1f77b4;\" x=\"119.868266\" xlink:href=\"#mb71464ae76\" y=\"184.845918\"/>\n     <use style=\"fill:#1f77b4;stroke:#1f77b4;\" x=\"160.747519\" xlink:href=\"#mb71464ae76\" y=\"162.564289\"/>\n     <use style=\"fill:#1f77b4;stroke:#1f77b4;\" x=\"342.283183\" xlink:href=\"#mb71464ae76\" y=\"72.349081\"/>\n     <use style=\"fill:#1f77b4;stroke:#1f77b4;\" x=\"66.782903\" xlink:href=\"#mb71464ae76\" y=\"212.043758\"/>\n     <use style=\"fill:#1f77b4;stroke:#1f77b4;\" x=\"68.795505\" xlink:href=\"#mb71464ae76\" y=\"210.708602\"/>\n     <use style=\"fill:#1f77b4;stroke:#1f77b4;\" x=\"80.805967\" xlink:href=\"#mb71464ae76\" y=\"204.933859\"/>\n     <use style=\"fill:#1f77b4;stroke:#1f77b4;\" x=\"141.525058\" xlink:href=\"#mb71464ae76\" y=\"173.31912\"/>\n     <use style=\"fill:#1f77b4;stroke:#1f77b4;\" x=\"70.126502\" xlink:href=\"#mb71464ae76\" y=\"210.603464\"/>\n     <use style=\"fill:#1f77b4;stroke:#1f77b4;\" x=\"115.483035\" xlink:href=\"#mb71464ae76\" y=\"187.145194\"/>\n     <use style=\"fill:#1f77b4;stroke:#1f77b4;\" x=\"66.598949\" xlink:href=\"#mb71464ae76\" y=\"212.034698\"/>\n     <use style=\"fill:#1f77b4;stroke:#1f77b4;\" x=\"80.506322\" xlink:href=\"#mb71464ae76\" y=\"204.8524\"/>\n     <use style=\"fill:#1f77b4;stroke:#1f77b4;\" x=\"154.677889\" xlink:href=\"#mb71464ae76\" y=\"166.389256\"/>\n     <use style=\"fill:#1f77b4;stroke:#1f77b4;\" x=\"108.782437\" xlink:href=\"#mb71464ae76\" y=\"190.418579\"/>\n     <use style=\"fill:#1f77b4;stroke:#1f77b4;\" x=\"63.970694\" xlink:href=\"#mb71464ae76\" y=\"213.122918\"/>\n     <use style=\"fill:#1f77b4;stroke:#1f77b4;\" x=\"115.435247\" xlink:href=\"#mb71464ae76\" y=\"187.165375\"/>\n     <use style=\"fill:#1f77b4;stroke:#1f77b4;\" x=\"83.676845\" xlink:href=\"#mb71464ae76\" y=\"203.55907\"/>\n     <use style=\"fill:#1f77b4;stroke:#1f77b4;\" x=\"66.992519\" xlink:href=\"#mb71464ae76\" y=\"211.549994\"/>\n     <use style=\"fill:#1f77b4;stroke:#1f77b4;\" x=\"68.80003\" xlink:href=\"#mb71464ae76\" y=\"211.031808\"/>\n     <use style=\"fill:#1f77b4;stroke:#1f77b4;\" x=\"71.407768\" xlink:href=\"#mb71464ae76\" y=\"209.644602\"/>\n     <use style=\"fill:#1f77b4;stroke:#1f77b4;\" x=\"70.480486\" xlink:href=\"#mb71464ae76\" y=\"209.778321\"/>\n     <use style=\"fill:#1f77b4;stroke:#1f77b4;\" x=\"103.636496\" xlink:href=\"#mb71464ae76\" y=\"192.96992\"/>\n     <use style=\"fill:#1f77b4;stroke:#1f77b4;\" x=\"94.406538\" xlink:href=\"#mb71464ae76\" y=\"197.562855\"/>\n     <use style=\"fill:#1f77b4;stroke:#1f77b4;\" x=\"143.487562\" xlink:href=\"#mb71464ae76\" y=\"172.914928\"/>\n     <use style=\"fill:#1f77b4;stroke:#1f77b4;\" x=\"198.718323\" xlink:href=\"#mb71464ae76\" y=\"144.458874\"/>\n     <use style=\"fill:#1f77b4;stroke:#1f77b4;\" x=\"82.694017\" xlink:href=\"#mb71464ae76\" y=\"162.680733\"/>\n     <use style=\"fill:#1f77b4;stroke:#1f77b4;\" x=\"305.596974\" xlink:href=\"#mb71464ae76\" y=\"89.812083\"/>\n     <use style=\"fill:#1f77b4;stroke:#1f77b4;\" x=\"110.445214\" xlink:href=\"#mb71464ae76\" y=\"189.598831\"/>\n     <use style=\"fill:#1f77b4;stroke:#1f77b4;\" x=\"97.178555\" xlink:href=\"#mb71464ae76\" y=\"196.251298\"/>\n     <use style=\"fill:#1f77b4;stroke:#1f77b4;\" x=\"187.162894\" xlink:href=\"#mb71464ae76\" y=\"151.417771\"/>\n     <use style=\"fill:#1f77b4;stroke:#1f77b4;\" x=\"119.849271\" xlink:href=\"#mb71464ae76\" y=\"184.842848\"/>\n     <use style=\"fill:#1f77b4;stroke:#1f77b4;\" x=\"129.183062\" xlink:href=\"#mb71464ae76\" y=\"148.273174\"/>\n     <use style=\"fill:#1f77b4;stroke:#1f77b4;\" x=\"94.995227\" xlink:href=\"#mb71464ae76\" y=\"197.561216\"/>\n     <use style=\"fill:#1f77b4;stroke:#1f77b4;\" x=\"96.286898\" xlink:href=\"#mb71464ae76\" y=\"197.008418\"/>\n     <use style=\"fill:#1f77b4;stroke:#1f77b4;\" x=\"98.637908\" xlink:href=\"#mb71464ae76\" y=\"195.752244\"/>\n     <use style=\"fill:#1f77b4;stroke:#1f77b4;\" x=\"107.063438\" xlink:href=\"#mb71464ae76\" y=\"157.889979\"/>\n     <use style=\"fill:#1f77b4;stroke:#1f77b4;\" x=\"75.043561\" xlink:href=\"#mb71464ae76\" y=\"161.88352\"/>\n     <use style=\"fill:#1f77b4;stroke:#1f77b4;\" x=\"98.987906\" xlink:href=\"#mb71464ae76\" y=\"195.370962\"/>\n     <use style=\"fill:#1f77b4;stroke:#1f77b4;\" x=\"115.461352\" xlink:href=\"#mb71464ae76\" y=\"187.215459\"/>\n     <use style=\"fill:#1f77b4;stroke:#1f77b4;\" x=\"86.684674\" xlink:href=\"#mb71464ae76\" y=\"201.534874\"/>\n     <use style=\"fill:#1f77b4;stroke:#1f77b4;\" x=\"100.427008\" xlink:href=\"#mb71464ae76\" y=\"158.957818\"/>\n     <use style=\"fill:#1f77b4;stroke:#1f77b4;\" x=\"289.409602\" xlink:href=\"#mb71464ae76\" y=\"97.308943\"/>\n     <use style=\"fill:#1f77b4;stroke:#1f77b4;\" x=\"113.103348\" xlink:href=\"#mb71464ae76\" y=\"188.10979\"/>\n     <use style=\"fill:#1f77b4;stroke:#1f77b4;\" x=\"74.555652\" xlink:href=\"#mb71464ae76\" y=\"208.302013\"/>\n     <use style=\"fill:#1f77b4;stroke:#1f77b4;\" x=\"79.152401\" xlink:href=\"#mb71464ae76\" y=\"205.909368\"/>\n     <use style=\"fill:#1f77b4;stroke:#1f77b4;\" x=\"113.671294\" xlink:href=\"#mb71464ae76\" y=\"187.949908\"/>\n     <use style=\"fill:#1f77b4;stroke:#1f77b4;\" x=\"83.865277\" xlink:href=\"#mb71464ae76\" y=\"203.404828\"/>\n     <use style=\"fill:#1f77b4;stroke:#1f77b4;\" x=\"94.523077\" xlink:href=\"#mb71464ae76\" y=\"197.634888\"/>\n     <use style=\"fill:#1f77b4;stroke:#1f77b4;\" x=\"343.091658\" xlink:href=\"#mb71464ae76\" y=\"71.067003\"/>\n     <use style=\"fill:#1f77b4;stroke:#1f77b4;\" x=\"114.294012\" xlink:href=\"#mb71464ae76\" y=\"187.640129\"/>\n     <use style=\"fill:#1f77b4;stroke:#1f77b4;\" x=\"92.867648\" xlink:href=\"#mb71464ae76\" y=\"199.007314\"/>\n     <use style=\"fill:#1f77b4;stroke:#1f77b4;\" x=\"110.27178\" xlink:href=\"#mb71464ae76\" y=\"189.713486\"/>\n     <use style=\"fill:#1f77b4;stroke:#1f77b4;\" x=\"365.594318\" xlink:href=\"#mb71464ae76\" y=\"17.083636\"/>\n     <use style=\"fill:#1f77b4;stroke:#1f77b4;\" x=\"84.844645\" xlink:href=\"#mb71464ae76\" y=\"203.002859\"/>\n     <use style=\"fill:#1f77b4;stroke:#1f77b4;\" x=\"109.917995\" xlink:href=\"#mb71464ae76\" y=\"190.075128\"/>\n     <use style=\"fill:#1f77b4;stroke:#1f77b4;\" x=\"92.141411\" xlink:href=\"#mb71464ae76\" y=\"199.113203\"/>\n     <use style=\"fill:#1f77b4;stroke:#1f77b4;\" x=\"315.602137\" xlink:href=\"#mb71464ae76\" y=\"85.422752\"/>\n     <use style=\"fill:#1f77b4;stroke:#1f77b4;\" x=\"74.52137\" xlink:href=\"#mb71464ae76\" y=\"208.009383\"/>\n     <use style=\"fill:#1f77b4;stroke:#1f77b4;\" x=\"80.526586\" xlink:href=\"#mb71464ae76\" y=\"158.650666\"/>\n     <use style=\"fill:#1f77b4;stroke:#1f77b4;\" x=\"346.037695\" xlink:href=\"#mb71464ae76\" y=\"69.823546\"/>\n     <use style=\"fill:#1f77b4;stroke:#1f77b4;\" x=\"92.403063\" xlink:href=\"#mb71464ae76\" y=\"198.721224\"/>\n     <use style=\"fill:#1f77b4;stroke:#1f77b4;\" x=\"114.019139\" xlink:href=\"#mb71464ae76\" y=\"187.896661\"/>\n     <use style=\"fill:#1f77b4;stroke:#1f77b4;\" x=\"156.629612\" xlink:href=\"#mb71464ae76\" y=\"165.736676\"/>\n     <use style=\"fill:#1f77b4;stroke:#1f77b4;\" x=\"64.350423\" xlink:href=\"#mb71464ae76\" y=\"213.177739\"/>\n     <use style=\"fill:#1f77b4;stroke:#1f77b4;\" x=\"89.792566\" xlink:href=\"#mb71464ae76\" y=\"200.283189\"/>\n     <use style=\"fill:#1f77b4;stroke:#1f77b4;\" x=\"70.802298\" xlink:href=\"#mb71464ae76\" y=\"209.747792\"/>\n     <use style=\"fill:#1f77b4;stroke:#1f77b4;\" x=\"61.836522\" xlink:href=\"#mb71464ae76\" y=\"214.374759\"/>\n    </g>\n   </g>\n   <g id=\"matplotlib.axis_1\">\n    <g id=\"xtick_1\">\n     <g id=\"line2d_1\">\n      <defs>\n       <path d=\"M 0 0 \nL 0 3.5 \n\" id=\"m57db90725f\" style=\"stroke:#000000;stroke-width:0.8;\"/>\n      </defs>\n      <g>\n       <use style=\"stroke:#000000;stroke-width:0.8;\" x=\"54.000654\" xlink:href=\"#m57db90725f\" y=\"224.64\"/>\n      </g>\n     </g>\n     <g id=\"text_1\">\n      <!-- 0 -->\n      <defs>\n       <path d=\"M 31.78125 66.40625 \nQ 24.171875 66.40625 20.328125 58.90625 \nQ 16.5 51.421875 16.5 36.375 \nQ 16.5 21.390625 20.328125 13.890625 \nQ 24.171875 6.390625 31.78125 6.390625 \nQ 39.453125 6.390625 43.28125 13.890625 \nQ 47.125 21.390625 47.125 36.375 \nQ 47.125 51.421875 43.28125 58.90625 \nQ 39.453125 66.40625 31.78125 66.40625 \nz\nM 31.78125 74.21875 \nQ 44.046875 74.21875 50.515625 64.515625 \nQ 56.984375 54.828125 56.984375 36.375 \nQ 56.984375 17.96875 50.515625 8.265625 \nQ 44.046875 -1.421875 31.78125 -1.421875 \nQ 19.53125 -1.421875 13.0625 8.265625 \nQ 6.59375 17.96875 6.59375 36.375 \nQ 6.59375 54.828125 13.0625 64.515625 \nQ 19.53125 74.21875 31.78125 74.21875 \nz\n\" id=\"DejaVuSans-48\"/>\n      </defs>\n      <g transform=\"translate(50.819404 239.238437)scale(0.1 -0.1)\">\n       <use xlink:href=\"#DejaVuSans-48\"/>\n      </g>\n     </g>\n    </g>\n    <g id=\"xtick_2\">\n     <g id=\"line2d_2\">\n      <g>\n       <use style=\"stroke:#000000;stroke-width:0.8;\" x=\"116.442524\" xlink:href=\"#m57db90725f\" y=\"224.64\"/>\n      </g>\n     </g>\n     <g id=\"text_2\">\n      <!-- 10000 -->\n      <defs>\n       <path d=\"M 12.40625 8.296875 \nL 28.515625 8.296875 \nL 28.515625 63.921875 \nL 10.984375 60.40625 \nL 10.984375 69.390625 \nL 28.421875 72.90625 \nL 38.28125 72.90625 \nL 38.28125 8.296875 \nL 54.390625 8.296875 \nL 54.390625 0 \nL 12.40625 0 \nz\n\" id=\"DejaVuSans-49\"/>\n      </defs>\n      <g transform=\"translate(100.536274 239.238437)scale(0.1 -0.1)\">\n       <use xlink:href=\"#DejaVuSans-49\"/>\n       <use x=\"63.623047\" xlink:href=\"#DejaVuSans-48\"/>\n       <use x=\"127.246094\" xlink:href=\"#DejaVuSans-48\"/>\n       <use x=\"190.869141\" xlink:href=\"#DejaVuSans-48\"/>\n       <use x=\"254.492188\" xlink:href=\"#DejaVuSans-48\"/>\n      </g>\n     </g>\n    </g>\n    <g id=\"xtick_3\">\n     <g id=\"line2d_3\">\n      <g>\n       <use style=\"stroke:#000000;stroke-width:0.8;\" x=\"178.884394\" xlink:href=\"#m57db90725f\" y=\"224.64\"/>\n      </g>\n     </g>\n     <g id=\"text_3\">\n      <!-- 20000 -->\n      <defs>\n       <path d=\"M 19.1875 8.296875 \nL 53.609375 8.296875 \nL 53.609375 0 \nL 7.328125 0 \nL 7.328125 8.296875 \nQ 12.9375 14.109375 22.625 23.890625 \nQ 32.328125 33.6875 34.8125 36.53125 \nQ 39.546875 41.84375 41.421875 45.53125 \nQ 43.3125 49.21875 43.3125 52.78125 \nQ 43.3125 58.59375 39.234375 62.25 \nQ 35.15625 65.921875 28.609375 65.921875 \nQ 23.96875 65.921875 18.8125 64.3125 \nQ 13.671875 62.703125 7.8125 59.421875 \nL 7.8125 69.390625 \nQ 13.765625 71.78125 18.9375 73 \nQ 24.125 74.21875 28.421875 74.21875 \nQ 39.75 74.21875 46.484375 68.546875 \nQ 53.21875 62.890625 53.21875 53.421875 \nQ 53.21875 48.921875 51.53125 44.890625 \nQ 49.859375 40.875 45.40625 35.40625 \nQ 44.1875 33.984375 37.640625 27.21875 \nQ 31.109375 20.453125 19.1875 8.296875 \nz\n\" id=\"DejaVuSans-50\"/>\n      </defs>\n      <g transform=\"translate(162.978144 239.238437)scale(0.1 -0.1)\">\n       <use xlink:href=\"#DejaVuSans-50\"/>\n       <use x=\"63.623047\" xlink:href=\"#DejaVuSans-48\"/>\n       <use x=\"127.246094\" xlink:href=\"#DejaVuSans-48\"/>\n       <use x=\"190.869141\" xlink:href=\"#DejaVuSans-48\"/>\n       <use x=\"254.492188\" xlink:href=\"#DejaVuSans-48\"/>\n      </g>\n     </g>\n    </g>\n    <g id=\"xtick_4\">\n     <g id=\"line2d_4\">\n      <g>\n       <use style=\"stroke:#000000;stroke-width:0.8;\" x=\"241.326265\" xlink:href=\"#m57db90725f\" y=\"224.64\"/>\n      </g>\n     </g>\n     <g id=\"text_4\">\n      <!-- 30000 -->\n      <defs>\n       <path d=\"M 40.578125 39.3125 \nQ 47.65625 37.796875 51.625 33 \nQ 55.609375 28.21875 55.609375 21.1875 \nQ 55.609375 10.40625 48.1875 4.484375 \nQ 40.765625 -1.421875 27.09375 -1.421875 \nQ 22.515625 -1.421875 17.65625 -0.515625 \nQ 12.796875 0.390625 7.625 2.203125 \nL 7.625 11.71875 \nQ 11.71875 9.328125 16.59375 8.109375 \nQ 21.484375 6.890625 26.8125 6.890625 \nQ 36.078125 6.890625 40.9375 10.546875 \nQ 45.796875 14.203125 45.796875 21.1875 \nQ 45.796875 27.640625 41.28125 31.265625 \nQ 36.765625 34.90625 28.71875 34.90625 \nL 20.21875 34.90625 \nL 20.21875 43.015625 \nL 29.109375 43.015625 \nQ 36.375 43.015625 40.234375 45.921875 \nQ 44.09375 48.828125 44.09375 54.296875 \nQ 44.09375 59.90625 40.109375 62.90625 \nQ 36.140625 65.921875 28.71875 65.921875 \nQ 24.65625 65.921875 20.015625 65.03125 \nQ 15.375 64.15625 9.8125 62.3125 \nL 9.8125 71.09375 \nQ 15.4375 72.65625 20.34375 73.4375 \nQ 25.25 74.21875 29.59375 74.21875 \nQ 40.828125 74.21875 47.359375 69.109375 \nQ 53.90625 64.015625 53.90625 55.328125 \nQ 53.90625 49.265625 50.4375 45.09375 \nQ 46.96875 40.921875 40.578125 39.3125 \nz\n\" id=\"DejaVuSans-51\"/>\n      </defs>\n      <g transform=\"translate(225.420015 239.238437)scale(0.1 -0.1)\">\n       <use xlink:href=\"#DejaVuSans-51\"/>\n       <use x=\"63.623047\" xlink:href=\"#DejaVuSans-48\"/>\n       <use x=\"127.246094\" xlink:href=\"#DejaVuSans-48\"/>\n       <use x=\"190.869141\" xlink:href=\"#DejaVuSans-48\"/>\n       <use x=\"254.492188\" xlink:href=\"#DejaVuSans-48\"/>\n      </g>\n     </g>\n    </g>\n    <g id=\"xtick_5\">\n     <g id=\"line2d_5\">\n      <g>\n       <use style=\"stroke:#000000;stroke-width:0.8;\" x=\"303.768135\" xlink:href=\"#m57db90725f\" y=\"224.64\"/>\n      </g>\n     </g>\n     <g id=\"text_5\">\n      <!-- 40000 -->\n      <defs>\n       <path d=\"M 37.796875 64.3125 \nL 12.890625 25.390625 \nL 37.796875 25.390625 \nz\nM 35.203125 72.90625 \nL 47.609375 72.90625 \nL 47.609375 25.390625 \nL 58.015625 25.390625 \nL 58.015625 17.1875 \nL 47.609375 17.1875 \nL 47.609375 0 \nL 37.796875 0 \nL 37.796875 17.1875 \nL 4.890625 17.1875 \nL 4.890625 26.703125 \nz\n\" id=\"DejaVuSans-52\"/>\n      </defs>\n      <g transform=\"translate(287.861885 239.238437)scale(0.1 -0.1)\">\n       <use xlink:href=\"#DejaVuSans-52\"/>\n       <use x=\"63.623047\" xlink:href=\"#DejaVuSans-48\"/>\n       <use x=\"127.246094\" xlink:href=\"#DejaVuSans-48\"/>\n       <use x=\"190.869141\" xlink:href=\"#DejaVuSans-48\"/>\n       <use x=\"254.492188\" xlink:href=\"#DejaVuSans-48\"/>\n      </g>\n     </g>\n    </g>\n    <g id=\"xtick_6\">\n     <g id=\"line2d_6\">\n      <g>\n       <use style=\"stroke:#000000;stroke-width:0.8;\" x=\"366.210005\" xlink:href=\"#m57db90725f\" y=\"224.64\"/>\n      </g>\n     </g>\n     <g id=\"text_6\">\n      <!-- 50000 -->\n      <defs>\n       <path d=\"M 10.796875 72.90625 \nL 49.515625 72.90625 \nL 49.515625 64.59375 \nL 19.828125 64.59375 \nL 19.828125 46.734375 \nQ 21.96875 47.46875 24.109375 47.828125 \nQ 26.265625 48.1875 28.421875 48.1875 \nQ 40.625 48.1875 47.75 41.5 \nQ 54.890625 34.8125 54.890625 23.390625 \nQ 54.890625 11.625 47.5625 5.09375 \nQ 40.234375 -1.421875 26.90625 -1.421875 \nQ 22.3125 -1.421875 17.546875 -0.640625 \nQ 12.796875 0.140625 7.71875 1.703125 \nL 7.71875 11.625 \nQ 12.109375 9.234375 16.796875 8.0625 \nQ 21.484375 6.890625 26.703125 6.890625 \nQ 35.15625 6.890625 40.078125 11.328125 \nQ 45.015625 15.765625 45.015625 23.390625 \nQ 45.015625 31 40.078125 35.4375 \nQ 35.15625 39.890625 26.703125 39.890625 \nQ 22.75 39.890625 18.8125 39.015625 \nQ 14.890625 38.140625 10.796875 36.28125 \nz\n\" id=\"DejaVuSans-53\"/>\n      </defs>\n      <g transform=\"translate(350.303755 239.238437)scale(0.1 -0.1)\">\n       <use xlink:href=\"#DejaVuSans-53\"/>\n       <use x=\"63.623047\" xlink:href=\"#DejaVuSans-48\"/>\n       <use x=\"127.246094\" xlink:href=\"#DejaVuSans-48\"/>\n       <use x=\"190.869141\" xlink:href=\"#DejaVuSans-48\"/>\n       <use x=\"254.492188\" xlink:href=\"#DejaVuSans-48\"/>\n      </g>\n     </g>\n    </g>\n   </g>\n   <g id=\"matplotlib.axis_2\">\n    <g id=\"ytick_1\">\n     <g id=\"line2d_7\">\n      <defs>\n       <path d=\"M 0 0 \nL -3.5 0 \n\" id=\"m17df29a914\" style=\"stroke:#000000;stroke-width:0.8;\"/>\n      </defs>\n      <g>\n       <use style=\"stroke:#000000;stroke-width:0.8;\" x=\"46.0125\" xlink:href=\"#m17df29a914\" y=\"218.296172\"/>\n      </g>\n     </g>\n     <g id=\"text_7\">\n      <!-- 0 -->\n      <g transform=\"translate(32.65 222.095391)scale(0.1 -0.1)\">\n       <use xlink:href=\"#DejaVuSans-48\"/>\n      </g>\n     </g>\n    </g>\n    <g id=\"ytick_2\">\n     <g id=\"line2d_8\">\n      <g>\n       <use style=\"stroke:#000000;stroke-width:0.8;\" x=\"46.0125\" xlink:href=\"#m17df29a914\" y=\"186.743532\"/>\n      </g>\n     </g>\n     <g id=\"text_8\">\n      <!-- 10000 -->\n      <g transform=\"translate(7.2 190.542751)scale(0.1 -0.1)\">\n       <use xlink:href=\"#DejaVuSans-49\"/>\n       <use x=\"63.623047\" xlink:href=\"#DejaVuSans-48\"/>\n       <use x=\"127.246094\" xlink:href=\"#DejaVuSans-48\"/>\n       <use x=\"190.869141\" xlink:href=\"#DejaVuSans-48\"/>\n       <use x=\"254.492188\" xlink:href=\"#DejaVuSans-48\"/>\n      </g>\n     </g>\n    </g>\n    <g id=\"ytick_3\">\n     <g id=\"line2d_9\">\n      <g>\n       <use style=\"stroke:#000000;stroke-width:0.8;\" x=\"46.0125\" xlink:href=\"#m17df29a914\" y=\"155.190892\"/>\n      </g>\n     </g>\n     <g id=\"text_9\">\n      <!-- 20000 -->\n      <g transform=\"translate(7.2 158.990111)scale(0.1 -0.1)\">\n       <use xlink:href=\"#DejaVuSans-50\"/>\n       <use x=\"63.623047\" xlink:href=\"#DejaVuSans-48\"/>\n       <use x=\"127.246094\" xlink:href=\"#DejaVuSans-48\"/>\n       <use x=\"190.869141\" xlink:href=\"#DejaVuSans-48\"/>\n       <use x=\"254.492188\" xlink:href=\"#DejaVuSans-48\"/>\n      </g>\n     </g>\n    </g>\n    <g id=\"ytick_4\">\n     <g id=\"line2d_10\">\n      <g>\n       <use style=\"stroke:#000000;stroke-width:0.8;\" x=\"46.0125\" xlink:href=\"#m17df29a914\" y=\"123.638252\"/>\n      </g>\n     </g>\n     <g id=\"text_10\">\n      <!-- 30000 -->\n      <g transform=\"translate(7.2 127.437471)scale(0.1 -0.1)\">\n       <use xlink:href=\"#DejaVuSans-51\"/>\n       <use x=\"63.623047\" xlink:href=\"#DejaVuSans-48\"/>\n       <use x=\"127.246094\" xlink:href=\"#DejaVuSans-48\"/>\n       <use x=\"190.869141\" xlink:href=\"#DejaVuSans-48\"/>\n       <use x=\"254.492188\" xlink:href=\"#DejaVuSans-48\"/>\n      </g>\n     </g>\n    </g>\n    <g id=\"ytick_5\">\n     <g id=\"line2d_11\">\n      <g>\n       <use style=\"stroke:#000000;stroke-width:0.8;\" x=\"46.0125\" xlink:href=\"#m17df29a914\" y=\"92.085612\"/>\n      </g>\n     </g>\n     <g id=\"text_11\">\n      <!-- 40000 -->\n      <g transform=\"translate(7.2 95.884831)scale(0.1 -0.1)\">\n       <use xlink:href=\"#DejaVuSans-52\"/>\n       <use x=\"63.623047\" xlink:href=\"#DejaVuSans-48\"/>\n       <use x=\"127.246094\" xlink:href=\"#DejaVuSans-48\"/>\n       <use x=\"190.869141\" xlink:href=\"#DejaVuSans-48\"/>\n       <use x=\"254.492188\" xlink:href=\"#DejaVuSans-48\"/>\n      </g>\n     </g>\n    </g>\n    <g id=\"ytick_6\">\n     <g id=\"line2d_12\">\n      <g>\n       <use style=\"stroke:#000000;stroke-width:0.8;\" x=\"46.0125\" xlink:href=\"#m17df29a914\" y=\"60.532972\"/>\n      </g>\n     </g>\n     <g id=\"text_12\">\n      <!-- 50000 -->\n      <g transform=\"translate(7.2 64.332191)scale(0.1 -0.1)\">\n       <use xlink:href=\"#DejaVuSans-53\"/>\n       <use x=\"63.623047\" xlink:href=\"#DejaVuSans-48\"/>\n       <use x=\"127.246094\" xlink:href=\"#DejaVuSans-48\"/>\n       <use x=\"190.869141\" xlink:href=\"#DejaVuSans-48\"/>\n       <use x=\"254.492188\" xlink:href=\"#DejaVuSans-48\"/>\n      </g>\n     </g>\n    </g>\n    <g id=\"ytick_7\">\n     <g id=\"line2d_13\">\n      <g>\n       <use style=\"stroke:#000000;stroke-width:0.8;\" x=\"46.0125\" xlink:href=\"#m17df29a914\" y=\"28.980332\"/>\n      </g>\n     </g>\n     <g id=\"text_13\">\n      <!-- 60000 -->\n      <defs>\n       <path d=\"M 33.015625 40.375 \nQ 26.375 40.375 22.484375 35.828125 \nQ 18.609375 31.296875 18.609375 23.390625 \nQ 18.609375 15.53125 22.484375 10.953125 \nQ 26.375 6.390625 33.015625 6.390625 \nQ 39.65625 6.390625 43.53125 10.953125 \nQ 47.40625 15.53125 47.40625 23.390625 \nQ 47.40625 31.296875 43.53125 35.828125 \nQ 39.65625 40.375 33.015625 40.375 \nz\nM 52.59375 71.296875 \nL 52.59375 62.3125 \nQ 48.875 64.0625 45.09375 64.984375 \nQ 41.3125 65.921875 37.59375 65.921875 \nQ 27.828125 65.921875 22.671875 59.328125 \nQ 17.53125 52.734375 16.796875 39.40625 \nQ 19.671875 43.65625 24.015625 45.921875 \nQ 28.375 48.1875 33.59375 48.1875 \nQ 44.578125 48.1875 50.953125 41.515625 \nQ 57.328125 34.859375 57.328125 23.390625 \nQ 57.328125 12.15625 50.6875 5.359375 \nQ 44.046875 -1.421875 33.015625 -1.421875 \nQ 20.359375 -1.421875 13.671875 8.265625 \nQ 6.984375 17.96875 6.984375 36.375 \nQ 6.984375 53.65625 15.1875 63.9375 \nQ 23.390625 74.21875 37.203125 74.21875 \nQ 40.921875 74.21875 44.703125 73.484375 \nQ 48.484375 72.75 52.59375 71.296875 \nz\n\" id=\"DejaVuSans-54\"/>\n      </defs>\n      <g transform=\"translate(7.2 32.779551)scale(0.1 -0.1)\">\n       <use xlink:href=\"#DejaVuSans-54\"/>\n       <use x=\"63.623047\" xlink:href=\"#DejaVuSans-48\"/>\n       <use x=\"127.246094\" xlink:href=\"#DejaVuSans-48\"/>\n       <use x=\"190.869141\" xlink:href=\"#DejaVuSans-48\"/>\n       <use x=\"254.492188\" xlink:href=\"#DejaVuSans-48\"/>\n      </g>\n     </g>\n    </g>\n   </g>\n   <g id=\"patch_3\">\n    <path d=\"M 46.0125 224.64 \nL 46.0125 7.2 \n\" style=\"fill:none;stroke:#000000;stroke-linecap:square;stroke-linejoin:miter;stroke-width:0.8;\"/>\n   </g>\n   <g id=\"patch_4\">\n    <path d=\"M 380.8125 224.64 \nL 380.8125 7.2 \n\" style=\"fill:none;stroke:#000000;stroke-linecap:square;stroke-linejoin:miter;stroke-width:0.8;\"/>\n   </g>\n   <g id=\"patch_5\">\n    <path d=\"M 46.0125 224.64 \nL 380.8125 224.64 \n\" style=\"fill:none;stroke:#000000;stroke-linecap:square;stroke-linejoin:miter;stroke-width:0.8;\"/>\n   </g>\n   <g id=\"patch_6\">\n    <path d=\"M 46.0125 7.2 \nL 380.8125 7.2 \n\" style=\"fill:none;stroke:#000000;stroke-linecap:square;stroke-linejoin:miter;stroke-width:0.8;\"/>\n   </g>\n  </g>\n </g>\n <defs>\n  <clipPath id=\"pbe4437b528\">\n   <rect height=\"217.44\" width=\"334.8\" x=\"46.0125\" y=\"7.2\"/>\n  </clipPath>\n </defs>\n</svg>\n"
          },
          "metadata": {
            "needs_background": "light"
          }
        }
      ]
    },
    {
      "cell_type": "code",
      "source": [
        "np.corrcoef(y_test_pred.squeeze(),y_test.to_numpy())[0][1]"
      ],
      "metadata": {
        "colab": {
          "base_uri": "https://localhost:8080/"
        },
        "id": "ihHljActIrsU",
        "outputId": "f7b675b6-3d05-4c83-b812-c7c2ca667ea7"
      },
      "execution_count": 62,
      "outputs": [
        {
          "output_type": "execute_result",
          "data": {
            "text/plain": [
              "0.8968695740670445"
            ]
          },
          "metadata": {},
          "execution_count": 62
        }
      ]
    },
    {
      "cell_type": "code",
      "source": [
        "plt.scatter(y_test_pred,y_test)"
      ],
      "metadata": {
        "colab": {
          "base_uri": "https://localhost:8080/",
          "height": 369
        },
        "id": "0zCtxURXGvhE",
        "outputId": "317892b5-5e8f-4548-c3fb-cff54f6cea27"
      },
      "execution_count": 50,
      "outputs": [
        {
          "output_type": "execute_result",
          "data": {
            "text/plain": [
              "<matplotlib.collections.PathCollection at 0x7f8acc2ee990>"
            ]
          },
          "metadata": {},
          "execution_count": 50
        },
        {
          "output_type": "display_data",
          "data": {
            "text/plain": [
              "<Figure size 432x288 with 1 Axes>"
            ],
            "image/svg+xml": "<?xml version=\"1.0\" encoding=\"utf-8\" standalone=\"no\"?>\n<!DOCTYPE svg PUBLIC \"-//W3C//DTD SVG 1.1//EN\"\n  \"http://www.w3.org/Graphics/SVG/1.1/DTD/svg11.dtd\">\n<!-- Created with matplotlib (https://matplotlib.org/) -->\n<svg height=\"248.518125pt\" version=\"1.1\" viewBox=\"0 0 399.677943 248.518125\" width=\"399.677943pt\" xmlns=\"http://www.w3.org/2000/svg\" xmlns:xlink=\"http://www.w3.org/1999/xlink\">\n <defs>\n  <style type=\"text/css\">\n*{stroke-linecap:butt;stroke-linejoin:round;}\n  </style>\n </defs>\n <g id=\"figure_1\">\n  <g id=\"patch_1\">\n   <path d=\"M 0 248.518125 \nL 399.677943 248.518125 \nL 399.677943 0 \nL 0 0 \nz\n\" style=\"fill:none;\"/>\n  </g>\n  <g id=\"axes_1\">\n   <g id=\"patch_2\">\n    <path d=\"M 46.0125 224.64 \nL 380.8125 224.64 \nL 380.8125 7.2 \nL 46.0125 7.2 \nz\n\" style=\"fill:#ffffff;\"/>\n   </g>\n   <g id=\"PathCollection_1\">\n    <defs>\n     <path d=\"M 0 3 \nC 0.795609 3 1.55874 2.683901 2.12132 2.12132 \nC 2.683901 1.55874 3 0.795609 3 0 \nC 3 -0.795609 2.683901 -1.55874 2.12132 -2.12132 \nC 1.55874 -2.683901 0.795609 -3 0 -3 \nC -0.795609 -3 -1.55874 -2.683901 -2.12132 -2.12132 \nC -2.683901 -1.55874 -3 -0.795609 -3 0 \nC -3 0.795609 -2.683901 1.55874 -2.12132 2.12132 \nC -1.55874 2.683901 -0.795609 3 0 3 \nz\n\" id=\"meacc9ccfd6\" style=\"stroke:#1f77b4;\"/>\n    </defs>\n    <g clip-path=\"url(#p3ed05c5358)\">\n     <use style=\"fill:#1f77b4;stroke:#1f77b4;\" x=\"114.520061\" xlink:href=\"#meacc9ccfd6\" y=\"187.06118\"/>\n     <use style=\"fill:#1f77b4;stroke:#1f77b4;\" x=\"106.669368\" xlink:href=\"#meacc9ccfd6\" y=\"190.670931\"/>\n     <use style=\"fill:#1f77b4;stroke:#1f77b4;\" x=\"107.389505\" xlink:href=\"#meacc9ccfd6\" y=\"190.563276\"/>\n     <use style=\"fill:#1f77b4;stroke:#1f77b4;\" x=\"133.183678\" xlink:href=\"#meacc9ccfd6\" y=\"176.359752\"/>\n     <use style=\"fill:#1f77b4;stroke:#1f77b4;\" x=\"84.971075\" xlink:href=\"#meacc9ccfd6\" y=\"202.612111\"/>\n     <use style=\"fill:#1f77b4;stroke:#1f77b4;\" x=\"68.376066\" xlink:href=\"#meacc9ccfd6\" y=\"211.180738\"/>\n     <use style=\"fill:#1f77b4;stroke:#1f77b4;\" x=\"277.769847\" xlink:href=\"#meacc9ccfd6\" y=\"144.234255\"/>\n     <use style=\"fill:#1f77b4;stroke:#1f77b4;\" x=\"125.931085\" xlink:href=\"#meacc9ccfd6\" y=\"180.616688\"/>\n     <use style=\"fill:#1f77b4;stroke:#1f77b4;\" x=\"71.828888\" xlink:href=\"#meacc9ccfd6\" y=\"208.984181\"/>\n     <use style=\"fill:#1f77b4;stroke:#1f77b4;\" x=\"207.535862\" xlink:href=\"#meacc9ccfd6\" y=\"138.113443\"/>\n     <use style=\"fill:#1f77b4;stroke:#1f77b4;\" x=\"128.71821\" xlink:href=\"#meacc9ccfd6\" y=\"179.435783\"/>\n     <use style=\"fill:#1f77b4;stroke:#1f77b4;\" x=\"116.90689\" xlink:href=\"#meacc9ccfd6\" y=\"185.301496\"/>\n     <use style=\"fill:#1f77b4;stroke:#1f77b4;\" x=\"98.03101\" xlink:href=\"#meacc9ccfd6\" y=\"195.26965\"/>\n     <use style=\"fill:#1f77b4;stroke:#1f77b4;\" x=\"70.358022\" xlink:href=\"#meacc9ccfd6\" y=\"209.89111\"/>\n     <use style=\"fill:#1f77b4;stroke:#1f77b4;\" x=\"82.800443\" xlink:href=\"#meacc9ccfd6\" y=\"203.223819\"/>\n     <use style=\"fill:#1f77b4;stroke:#1f77b4;\" x=\"81.88764\" xlink:href=\"#meacc9ccfd6\" y=\"180.546931\"/>\n     <use style=\"fill:#1f77b4;stroke:#1f77b4;\" x=\"86.717079\" xlink:href=\"#meacc9ccfd6\" y=\"201.51622\"/>\n     <use style=\"fill:#1f77b4;stroke:#1f77b4;\" x=\"117.581806\" xlink:href=\"#meacc9ccfd6\" y=\"185.142507\"/>\n     <use style=\"fill:#1f77b4;stroke:#1f77b4;\" x=\"61.831374\" xlink:href=\"#meacc9ccfd6\" y=\"214.39946\"/>\n     <use style=\"fill:#1f77b4;stroke:#1f77b4;\" x=\"148.111206\" xlink:href=\"#meacc9ccfd6\" y=\"169.59028\"/>\n     <use style=\"fill:#1f77b4;stroke:#1f77b4;\" x=\"120.388962\" xlink:href=\"#meacc9ccfd6\" y=\"183.719996\"/>\n     <use style=\"fill:#1f77b4;stroke:#1f77b4;\" x=\"108.44804\" xlink:href=\"#meacc9ccfd6\" y=\"130.495971\"/>\n     <use style=\"fill:#1f77b4;stroke:#1f77b4;\" x=\"68.033445\" xlink:href=\"#meacc9ccfd6\" y=\"211.296098\"/>\n     <use style=\"fill:#1f77b4;stroke:#1f77b4;\" x=\"197.961737\" xlink:href=\"#meacc9ccfd6\" y=\"143.111143\"/>\n     <use style=\"fill:#1f77b4;stroke:#1f77b4;\" x=\"98.066455\" xlink:href=\"#meacc9ccfd6\" y=\"195.617227\"/>\n     <use style=\"fill:#1f77b4;stroke:#1f77b4;\" x=\"64.036854\" xlink:href=\"#meacc9ccfd6\" y=\"213.419095\"/>\n     <use style=\"fill:#1f77b4;stroke:#1f77b4;\" x=\"136.760491\" xlink:href=\"#meacc9ccfd6\" y=\"174.888893\"/>\n     <use style=\"fill:#1f77b4;stroke:#1f77b4;\" x=\"344.371446\" xlink:href=\"#meacc9ccfd6\" y=\"65.152384\"/>\n     <use style=\"fill:#1f77b4;stroke:#1f77b4;\" x=\"73.835157\" xlink:href=\"#meacc9ccfd6\" y=\"207.907118\"/>\n     <use style=\"fill:#1f77b4;stroke:#1f77b4;\" x=\"68.776607\" xlink:href=\"#meacc9ccfd6\" y=\"210.67092\"/>\n     <use style=\"fill:#1f77b4;stroke:#1f77b4;\" x=\"131.918397\" xlink:href=\"#meacc9ccfd6\" y=\"177.96233\"/>\n     <use style=\"fill:#1f77b4;stroke:#1f77b4;\" x=\"72.743372\" xlink:href=\"#meacc9ccfd6\" y=\"208.843574\"/>\n     <use style=\"fill:#1f77b4;stroke:#1f77b4;\" x=\"82.16919\" xlink:href=\"#meacc9ccfd6\" y=\"203.968887\"/>\n     <use style=\"fill:#1f77b4;stroke:#1f77b4;\" x=\"115.356295\" xlink:href=\"#meacc9ccfd6\" y=\"186.720511\"/>\n     <use style=\"fill:#1f77b4;stroke:#1f77b4;\" x=\"150.449467\" xlink:href=\"#meacc9ccfd6\" y=\"168.254904\"/>\n     <use style=\"fill:#1f77b4;stroke:#1f77b4;\" x=\"99.655136\" xlink:href=\"#meacc9ccfd6\" y=\"194.577473\"/>\n     <use style=\"fill:#1f77b4;stroke:#1f77b4;\" x=\"178.77152\" xlink:href=\"#meacc9ccfd6\" y=\"153.297106\"/>\n     <use style=\"fill:#1f77b4;stroke:#1f77b4;\" x=\"73.198248\" xlink:href=\"#meacc9ccfd6\" y=\"208.289065\"/>\n     <use style=\"fill:#1f77b4;stroke:#1f77b4;\" x=\"177.959845\" xlink:href=\"#meacc9ccfd6\" y=\"153.573268\"/>\n     <use style=\"fill:#1f77b4;stroke:#1f77b4;\" x=\"76.651026\" xlink:href=\"#meacc9ccfd6\" y=\"206.629365\"/>\n     <use style=\"fill:#1f77b4;stroke:#1f77b4;\" x=\"105.702183\" xlink:href=\"#meacc9ccfd6\" y=\"191.485497\"/>\n     <use style=\"fill:#1f77b4;stroke:#1f77b4;\" x=\"74.697915\" xlink:href=\"#meacc9ccfd6\" y=\"207.78179\"/>\n     <use style=\"fill:#1f77b4;stroke:#1f77b4;\" x=\"66.281843\" xlink:href=\"#meacc9ccfd6\" y=\"212.258394\"/>\n     <use style=\"fill:#1f77b4;stroke:#1f77b4;\" x=\"87.39168\" xlink:href=\"#meacc9ccfd6\" y=\"200.890931\"/>\n     <use style=\"fill:#1f77b4;stroke:#1f77b4;\" x=\"68.859033\" xlink:href=\"#meacc9ccfd6\" y=\"210.742924\"/>\n     <use style=\"fill:#1f77b4;stroke:#1f77b4;\" x=\"76.890203\" xlink:href=\"#meacc9ccfd6\" y=\"206.492827\"/>\n     <use style=\"fill:#1f77b4;stroke:#1f77b4;\" x=\"123.775019\" xlink:href=\"#meacc9ccfd6\" y=\"181.89903\"/>\n     <use style=\"fill:#1f77b4;stroke:#1f77b4;\" x=\"136.663064\" xlink:href=\"#meacc9ccfd6\" y=\"174.999169\"/>\n     <use style=\"fill:#1f77b4;stroke:#1f77b4;\" x=\"230.307343\" xlink:href=\"#meacc9ccfd6\" y=\"106.759413\"/>\n     <use style=\"fill:#1f77b4;stroke:#1f77b4;\" x=\"100.794011\" xlink:href=\"#meacc9ccfd6\" y=\"193.937503\"/>\n     <use style=\"fill:#1f77b4;stroke:#1f77b4;\" x=\"101.501525\" xlink:href=\"#meacc9ccfd6\" y=\"193.666352\"/>\n     <use style=\"fill:#1f77b4;stroke:#1f77b4;\" x=\"100.097518\" xlink:href=\"#meacc9ccfd6\" y=\"194.410427\"/>\n     <use style=\"fill:#1f77b4;stroke:#1f77b4;\" x=\"85.677769\" xlink:href=\"#meacc9ccfd6\" y=\"202.004283\"/>\n     <use style=\"fill:#1f77b4;stroke:#1f77b4;\" x=\"82.74196\" xlink:href=\"#meacc9ccfd6\" y=\"203.748349\"/>\n     <use style=\"fill:#1f77b4;stroke:#1f77b4;\" x=\"106.739368\" xlink:href=\"#meacc9ccfd6\" y=\"123.434362\"/>\n     <use style=\"fill:#1f77b4;stroke:#1f77b4;\" x=\"64.035391\" xlink:href=\"#meacc9ccfd6\" y=\"213.091019\"/>\n     <use style=\"fill:#1f77b4;stroke:#1f77b4;\" x=\"74.262318\" xlink:href=\"#meacc9ccfd6\" y=\"207.921451\"/>\n     <use style=\"fill:#1f77b4;stroke:#1f77b4;\" x=\"109.804386\" xlink:href=\"#meacc9ccfd6\" y=\"189.352955\"/>\n     <use style=\"fill:#1f77b4;stroke:#1f77b4;\" x=\"68.152915\" xlink:href=\"#meacc9ccfd6\" y=\"211.164344\"/>\n     <use style=\"fill:#1f77b4;stroke:#1f77b4;\" x=\"139.448164\" xlink:href=\"#meacc9ccfd6\" y=\"173.489646\"/>\n     <use style=\"fill:#1f77b4;stroke:#1f77b4;\" x=\"112.90108\" xlink:href=\"#meacc9ccfd6\" y=\"187.601322\"/>\n     <use style=\"fill:#1f77b4;stroke:#1f77b4;\" x=\"327.227353\" xlink:href=\"#meacc9ccfd6\" y=\"74.32401\"/>\n     <use style=\"fill:#1f77b4;stroke:#1f77b4;\" x=\"79.486864\" xlink:href=\"#meacc9ccfd6\" y=\"205.318526\"/>\n     <use style=\"fill:#1f77b4;stroke:#1f77b4;\" x=\"61.947382\" xlink:href=\"#meacc9ccfd6\" y=\"214.352333\"/>\n     <use style=\"fill:#1f77b4;stroke:#1f77b4;\" x=\"96.396084\" xlink:href=\"#meacc9ccfd6\" y=\"196.380113\"/>\n     <use style=\"fill:#1f77b4;stroke:#1f77b4;\" x=\"83.342031\" xlink:href=\"#meacc9ccfd6\" y=\"203.400348\"/>\n     <use style=\"fill:#1f77b4;stroke:#1f77b4;\" x=\"82.444997\" xlink:href=\"#meacc9ccfd6\" y=\"203.827259\"/>\n     <use style=\"fill:#1f77b4;stroke:#1f77b4;\" x=\"92.683795\" xlink:href=\"#meacc9ccfd6\" y=\"198.520916\"/>\n     <use style=\"fill:#1f77b4;stroke:#1f77b4;\" x=\"125.669434\" xlink:href=\"#meacc9ccfd6\" y=\"180.673169\"/>\n     <use style=\"fill:#1f77b4;stroke:#1f77b4;\" x=\"66.84988\" xlink:href=\"#meacc9ccfd6\" y=\"211.70244\"/>\n     <use style=\"fill:#1f77b4;stroke:#1f77b4;\" x=\"110.681017\" xlink:href=\"#meacc9ccfd6\" y=\"188.948348\"/>\n     <use style=\"fill:#1f77b4;stroke:#1f77b4;\" x=\"82.13576\" xlink:href=\"#meacc9ccfd6\" y=\"203.685383\"/>\n     <use style=\"fill:#1f77b4;stroke:#1f77b4;\" x=\"111.332162\" xlink:href=\"#meacc9ccfd6\" y=\"188.585473\"/>\n     <use style=\"fill:#1f77b4;stroke:#1f77b4;\" x=\"79.05344\" xlink:href=\"#meacc9ccfd6\" y=\"205.28946\"/>\n     <use style=\"fill:#1f77b4;stroke:#1f77b4;\" x=\"314.737397\" xlink:href=\"#meacc9ccfd6\" y=\"81.133713\"/>\n     <use style=\"fill:#1f77b4;stroke:#1f77b4;\" x=\"137.640148\" xlink:href=\"#meacc9ccfd6\" y=\"174.551873\"/>\n     <use style=\"fill:#1f77b4;stroke:#1f77b4;\" x=\"114.291241\" xlink:href=\"#meacc9ccfd6\" y=\"186.904197\"/>\n     <use style=\"fill:#1f77b4;stroke:#1f77b4;\" x=\"150.590267\" xlink:href=\"#meacc9ccfd6\" y=\"108.684142\"/>\n     <use style=\"fill:#1f77b4;stroke:#1f77b4;\" x=\"61.808106\" xlink:href=\"#meacc9ccfd6\" y=\"214.401793\"/>\n     <use style=\"fill:#1f77b4;stroke:#1f77b4;\" x=\"208.184902\" xlink:href=\"#meacc9ccfd6\" y=\"147.798855\"/>\n     <use style=\"fill:#1f77b4;stroke:#1f77b4;\" x=\"111.045\" xlink:href=\"#meacc9ccfd6\" y=\"188.790016\"/>\n     <use style=\"fill:#1f77b4;stroke:#1f77b4;\" x=\"96.42894\" xlink:href=\"#meacc9ccfd6\" y=\"196.277946\"/>\n     <use style=\"fill:#1f77b4;stroke:#1f77b4;\" x=\"101.654264\" xlink:href=\"#meacc9ccfd6\" y=\"193.332329\"/>\n     <use style=\"fill:#1f77b4;stroke:#1f77b4;\" x=\"126.211375\" xlink:href=\"#meacc9ccfd6\" y=\"180.638816\"/>\n     <use style=\"fill:#1f77b4;stroke:#1f77b4;\" x=\"108.662894\" xlink:href=\"#meacc9ccfd6\" y=\"189.844905\"/>\n     <use style=\"fill:#1f77b4;stroke:#1f77b4;\" x=\"112.79557\" xlink:href=\"#meacc9ccfd6\" y=\"187.872195\"/>\n     <use style=\"fill:#1f77b4;stroke:#1f77b4;\" x=\"91.691272\" xlink:href=\"#meacc9ccfd6\" y=\"135.749243\"/>\n     <use style=\"fill:#1f77b4;stroke:#1f77b4;\" x=\"92.73161\" xlink:href=\"#meacc9ccfd6\" y=\"198.033774\"/>\n     <use style=\"fill:#1f77b4;stroke:#1f77b4;\" x=\"144.804443\" xlink:href=\"#meacc9ccfd6\" y=\"170.398547\"/>\n     <use style=\"fill:#1f77b4;stroke:#1f77b4;\" x=\"87.186306\" xlink:href=\"#meacc9ccfd6\" y=\"202.07023\"/>\n     <use style=\"fill:#1f77b4;stroke:#1f77b4;\" x=\"101.230826\" xlink:href=\"#meacc9ccfd6\" y=\"193.657381\"/>\n     <use style=\"fill:#1f77b4;stroke:#1f77b4;\" x=\"190.10153\" xlink:href=\"#meacc9ccfd6\" y=\"148.128055\"/>\n     <use style=\"fill:#1f77b4;stroke:#1f77b4;\" x=\"85.574141\" xlink:href=\"#meacc9ccfd6\" y=\"202.174945\"/>\n     <use style=\"fill:#1f77b4;stroke:#1f77b4;\" x=\"145.236863\" xlink:href=\"#meacc9ccfd6\" y=\"170.78386\"/>\n     <use style=\"fill:#1f77b4;stroke:#1f77b4;\" x=\"116.385983\" xlink:href=\"#meacc9ccfd6\" y=\"185.991984\"/>\n     <use style=\"fill:#1f77b4;stroke:#1f77b4;\" x=\"80.880921\" xlink:href=\"#meacc9ccfd6\" y=\"204.635008\"/>\n     <use style=\"fill:#1f77b4;stroke:#1f77b4;\" x=\"135.608028\" xlink:href=\"#meacc9ccfd6\" y=\"175.832884\"/>\n     <use style=\"fill:#1f77b4;stroke:#1f77b4;\" x=\"103.710221\" xlink:href=\"#meacc9ccfd6\" y=\"192.615961\"/>\n     <use style=\"fill:#1f77b4;stroke:#1f77b4;\" x=\"132.850967\" xlink:href=\"#meacc9ccfd6\" y=\"175.502379\"/>\n     <use style=\"fill:#1f77b4;stroke:#1f77b4;\" x=\"130.007456\" xlink:href=\"#meacc9ccfd6\" y=\"178.833417\"/>\n     <use style=\"fill:#1f77b4;stroke:#1f77b4;\" x=\"64.911426\" xlink:href=\"#meacc9ccfd6\" y=\"212.843991\"/>\n     <use style=\"fill:#1f77b4;stroke:#1f77b4;\" x=\"131.906518\" xlink:href=\"#meacc9ccfd6\" y=\"177.533655\"/>\n     <use style=\"fill:#1f77b4;stroke:#1f77b4;\" x=\"67.23066\" xlink:href=\"#meacc9ccfd6\" y=\"211.765252\"/>\n     <use style=\"fill:#1f77b4;stroke:#1f77b4;\" x=\"114.752028\" xlink:href=\"#meacc9ccfd6\" y=\"186.512649\"/>\n     <use style=\"fill:#1f77b4;stroke:#1f77b4;\" x=\"293.699997\" xlink:href=\"#meacc9ccfd6\" y=\"46.714475\"/>\n     <use style=\"fill:#1f77b4;stroke:#1f77b4;\" x=\"87.087652\" xlink:href=\"#meacc9ccfd6\" y=\"201.368205\"/>\n     <use style=\"fill:#1f77b4;stroke:#1f77b4;\" x=\"135.516547\" xlink:href=\"#meacc9ccfd6\" y=\"176.174731\"/>\n     <use style=\"fill:#1f77b4;stroke:#1f77b4;\" x=\"239.567913\" xlink:href=\"#meacc9ccfd6\" y=\"99.07869\"/>\n     <use style=\"fill:#1f77b4;stroke:#1f77b4;\" x=\"105.24324\" xlink:href=\"#meacc9ccfd6\" y=\"191.514051\"/>\n     <use style=\"fill:#1f77b4;stroke:#1f77b4;\" x=\"97.798438\" xlink:href=\"#meacc9ccfd6\" y=\"195.578095\"/>\n     <use style=\"fill:#1f77b4;stroke:#1f77b4;\" x=\"64.588826\" xlink:href=\"#meacc9ccfd6\" y=\"213.082502\"/>\n     <use style=\"fill:#1f77b4;stroke:#1f77b4;\" x=\"82.085451\" xlink:href=\"#meacc9ccfd6\" y=\"140.390949\"/>\n     <use style=\"fill:#1f77b4;stroke:#1f77b4;\" x=\"101.277137\" xlink:href=\"#meacc9ccfd6\" y=\"193.980135\"/>\n     <use style=\"fill:#1f77b4;stroke:#1f77b4;\" x=\"102.583524\" xlink:href=\"#meacc9ccfd6\" y=\"192.978201\"/>\n     <use style=\"fill:#1f77b4;stroke:#1f77b4;\" x=\"124.338895\" xlink:href=\"#meacc9ccfd6\" y=\"181.356374\"/>\n     <use style=\"fill:#1f77b4;stroke:#1f77b4;\" x=\"95.53078\" xlink:href=\"#meacc9ccfd6\" y=\"134.932231\"/>\n     <use style=\"fill:#1f77b4;stroke:#1f77b4;\" x=\"81.342941\" xlink:href=\"#meacc9ccfd6\" y=\"204.345986\"/>\n     <use style=\"fill:#1f77b4;stroke:#1f77b4;\" x=\"274.118104\" xlink:href=\"#meacc9ccfd6\" y=\"99.427639\"/>\n     <use style=\"fill:#1f77b4;stroke:#1f77b4;\" x=\"68.133546\" xlink:href=\"#meacc9ccfd6\" y=\"211.171879\"/>\n     <use style=\"fill:#1f77b4;stroke:#1f77b4;\" x=\"67.215145\" xlink:href=\"#meacc9ccfd6\" y=\"211.40295\"/>\n     <use style=\"fill:#1f77b4;stroke:#1f77b4;\" x=\"108.548456\" xlink:href=\"#meacc9ccfd6\" y=\"189.943514\"/>\n     <use style=\"fill:#1f77b4;stroke:#1f77b4;\" x=\"94.936939\" xlink:href=\"#meacc9ccfd6\" y=\"139.470864\"/>\n     <use style=\"fill:#1f77b4;stroke:#1f77b4;\" x=\"75.907787\" xlink:href=\"#meacc9ccfd6\" y=\"207.179714\"/>\n     <use style=\"fill:#1f77b4;stroke:#1f77b4;\" x=\"122.277942\" xlink:href=\"#meacc9ccfd6\" y=\"183.005825\"/>\n     <use style=\"fill:#1f77b4;stroke:#1f77b4;\" x=\"64.355412\" xlink:href=\"#meacc9ccfd6\" y=\"213.173351\"/>\n     <use style=\"fill:#1f77b4;stroke:#1f77b4;\" x=\"87.269821\" xlink:href=\"#meacc9ccfd6\" y=\"201.286418\"/>\n     <use style=\"fill:#1f77b4;stroke:#1f77b4;\" x=\"107.499215\" xlink:href=\"#meacc9ccfd6\" y=\"190.326432\"/>\n     <use style=\"fill:#1f77b4;stroke:#1f77b4;\" x=\"69.585781\" xlink:href=\"#meacc9ccfd6\" y=\"210.529249\"/>\n     <use style=\"fill:#1f77b4;stroke:#1f77b4;\" x=\"133.447069\" xlink:href=\"#meacc9ccfd6\" y=\"176.624136\"/>\n     <use style=\"fill:#1f77b4;stroke:#1f77b4;\" x=\"182.176127\" xlink:href=\"#meacc9ccfd6\" y=\"100.845143\"/>\n     <use style=\"fill:#1f77b4;stroke:#1f77b4;\" x=\"83.017851\" xlink:href=\"#meacc9ccfd6\" y=\"203.587062\"/>\n     <use style=\"fill:#1f77b4;stroke:#1f77b4;\" x=\"101.281986\" xlink:href=\"#meacc9ccfd6\" y=\"193.868929\"/>\n     <use style=\"fill:#1f77b4;stroke:#1f77b4;\" x=\"289.84563\" xlink:href=\"#meacc9ccfd6\" y=\"97.086329\"/>\n     <use style=\"fill:#1f77b4;stroke:#1f77b4;\" x=\"72.706493\" xlink:href=\"#meacc9ccfd6\" y=\"208.789039\"/>\n     <use style=\"fill:#1f77b4;stroke:#1f77b4;\" x=\"330.309489\" xlink:href=\"#meacc9ccfd6\" y=\"117.241724\"/>\n     <use style=\"fill:#1f77b4;stroke:#1f77b4;\" x=\"94.598286\" xlink:href=\"#meacc9ccfd6\" y=\"197.374934\"/>\n     <use style=\"fill:#1f77b4;stroke:#1f77b4;\" x=\"118.401539\" xlink:href=\"#meacc9ccfd6\" y=\"184.474277\"/>\n     <use style=\"fill:#1f77b4;stroke:#1f77b4;\" x=\"112.812102\" xlink:href=\"#meacc9ccfd6\" y=\"187.745958\"/>\n     <use style=\"fill:#1f77b4;stroke:#1f77b4;\" x=\"96.626802\" xlink:href=\"#meacc9ccfd6\" y=\"196.413359\"/>\n     <use style=\"fill:#1f77b4;stroke:#1f77b4;\" x=\"99.937866\" xlink:href=\"#meacc9ccfd6\" y=\"135.979577\"/>\n     <use style=\"fill:#1f77b4;stroke:#1f77b4;\" x=\"81.224328\" xlink:href=\"#meacc9ccfd6\" y=\"203.943436\"/>\n     <use style=\"fill:#1f77b4;stroke:#1f77b4;\" x=\"309.816829\" xlink:href=\"#meacc9ccfd6\" y=\"85.051248\"/>\n     <use style=\"fill:#1f77b4;stroke:#1f77b4;\" x=\"167.0015\" xlink:href=\"#meacc9ccfd6\" y=\"158.465858\"/>\n     <use style=\"fill:#1f77b4;stroke:#1f77b4;\" x=\"134.990634\" xlink:href=\"#meacc9ccfd6\" y=\"176.117525\"/>\n     <use style=\"fill:#1f77b4;stroke:#1f77b4;\" x=\"322.415839\" xlink:href=\"#meacc9ccfd6\" y=\"76.870941\"/>\n     <use style=\"fill:#1f77b4;stroke:#1f77b4;\" x=\"93.993861\" xlink:href=\"#meacc9ccfd6\" y=\"197.809517\"/>\n     <use style=\"fill:#1f77b4;stroke:#1f77b4;\" x=\"99.915445\" xlink:href=\"#meacc9ccfd6\" y=\"194.489337\"/>\n     <use style=\"fill:#1f77b4;stroke:#1f77b4;\" x=\"311.897605\" xlink:href=\"#meacc9ccfd6\" y=\"81.258206\"/>\n     <use style=\"fill:#1f77b4;stroke:#1f77b4;\" x=\"97.299206\" xlink:href=\"#meacc9ccfd6\" y=\"122.97599\"/>\n     <use style=\"fill:#1f77b4;stroke:#1f77b4;\" x=\"85.931482\" xlink:href=\"#meacc9ccfd6\" y=\"202.154355\"/>\n     <use style=\"fill:#1f77b4;stroke:#1f77b4;\" x=\"113.526186\" xlink:href=\"#meacc9ccfd6\" y=\"187.383515\"/>\n     <use style=\"fill:#1f77b4;stroke:#1f77b4;\" x=\"109.556171\" xlink:href=\"#meacc9ccfd6\" y=\"189.695784\"/>\n     <use style=\"fill:#1f77b4;stroke:#1f77b4;\" x=\"130.197153\" xlink:href=\"#meacc9ccfd6\" y=\"178.796554\"/>\n     <use style=\"fill:#1f77b4;stroke:#1f77b4;\" x=\"131.958227\" xlink:href=\"#meacc9ccfd6\" y=\"177.509274\"/>\n     <use style=\"fill:#1f77b4;stroke:#1f77b4;\" x=\"101.759296\" xlink:href=\"#meacc9ccfd6\" y=\"193.590718\"/>\n     <use style=\"fill:#1f77b4;stroke:#1f77b4;\" x=\"189.311191\" xlink:href=\"#meacc9ccfd6\" y=\"157.102235\"/>\n     <use style=\"fill:#1f77b4;stroke:#1f77b4;\" x=\"107.439102\" xlink:href=\"#meacc9ccfd6\" y=\"110.783963\"/>\n     <use style=\"fill:#1f77b4;stroke:#1f77b4;\" x=\"140.612291\" xlink:href=\"#meacc9ccfd6\" y=\"173.485519\"/>\n     <use style=\"fill:#1f77b4;stroke:#1f77b4;\" x=\"125.062632\" xlink:href=\"#meacc9ccfd6\" y=\"181.33915\"/>\n     <use style=\"fill:#1f77b4;stroke:#1f77b4;\" x=\"115.810379\" xlink:href=\"#meacc9ccfd6\" y=\"186.256333\"/>\n     <use style=\"fill:#1f77b4;stroke:#1f77b4;\" x=\"108.185291\" xlink:href=\"#meacc9ccfd6\" y=\"190.222332\"/>\n     <use style=\"fill:#1f77b4;stroke:#1f77b4;\" x=\"64.12874\" xlink:href=\"#meacc9ccfd6\" y=\"213.482741\"/>\n     <use style=\"fill:#1f77b4;stroke:#1f77b4;\" x=\"84.63977\" xlink:href=\"#meacc9ccfd6\" y=\"202.362801\"/>\n     <use style=\"fill:#1f77b4;stroke:#1f77b4;\" x=\"99.125667\" xlink:href=\"#meacc9ccfd6\" y=\"194.903373\"/>\n     <use style=\"fill:#1f77b4;stroke:#1f77b4;\" x=\"75.932765\" xlink:href=\"#meacc9ccfd6\" y=\"207.17844\"/>\n     <use style=\"fill:#1f77b4;stroke:#1f77b4;\" x=\"113.378771\" xlink:href=\"#meacc9ccfd6\" y=\"169.967266\"/>\n     <use style=\"fill:#1f77b4;stroke:#1f77b4;\" x=\"93.884883\" xlink:href=\"#meacc9ccfd6\" y=\"197.587506\"/>\n     <use style=\"fill:#1f77b4;stroke:#1f77b4;\" x=\"148.906236\" xlink:href=\"#meacc9ccfd6\" y=\"130.868269\"/>\n     <use style=\"fill:#1f77b4;stroke:#1f77b4;\" x=\"128.675921\" xlink:href=\"#meacc9ccfd6\" y=\"179.146367\"/>\n     <use style=\"fill:#1f77b4;stroke:#1f77b4;\" x=\"83.599165\" xlink:href=\"#meacc9ccfd6\" y=\"202.725911\"/>\n     <use style=\"fill:#1f77b4;stroke:#1f77b4;\" x=\"69.921253\" xlink:href=\"#meacc9ccfd6\" y=\"210.197417\"/>\n     <use style=\"fill:#1f77b4;stroke:#1f77b4;\" x=\"86.375835\" xlink:href=\"#meacc9ccfd6\" y=\"201.775753\"/>\n     <use style=\"fill:#1f77b4;stroke:#1f77b4;\" x=\"281.395261\" xlink:href=\"#meacc9ccfd6\" y=\"96.984602\"/>\n     <use style=\"fill:#1f77b4;stroke:#1f77b4;\" x=\"65.898003\" xlink:href=\"#meacc9ccfd6\" y=\"212.40203\"/>\n     <use style=\"fill:#1f77b4;stroke:#1f77b4;\" x=\"96.391951\" xlink:href=\"#meacc9ccfd6\" y=\"196.196906\"/>\n     <use style=\"fill:#1f77b4;stroke:#1f77b4;\" x=\"129.063108\" xlink:href=\"#meacc9ccfd6\" y=\"145.399206\"/>\n     <use style=\"fill:#1f77b4;stroke:#1f77b4;\" x=\"84.993499\" xlink:href=\"#meacc9ccfd6\" y=\"202.524948\"/>\n     <use style=\"fill:#1f77b4;stroke:#1f77b4;\" x=\"135.091422\" xlink:href=\"#meacc9ccfd6\" y=\"176.172277\"/>\n     <use style=\"fill:#1f77b4;stroke:#1f77b4;\" x=\"143.716917\" xlink:href=\"#meacc9ccfd6\" y=\"171.427027\"/>\n     <use style=\"fill:#1f77b4;stroke:#1f77b4;\" x=\"90.305983\" xlink:href=\"#meacc9ccfd6\" y=\"199.604065\"/>\n     <use style=\"fill:#1f77b4;stroke:#1f77b4;\" x=\"96.980231\" xlink:href=\"#meacc9ccfd6\" y=\"195.900317\"/>\n     <use style=\"fill:#1f77b4;stroke:#1f77b4;\" x=\"340.126261\" xlink:href=\"#meacc9ccfd6\" y=\"17.083636\"/>\n     <use style=\"fill:#1f77b4;stroke:#1f77b4;\" x=\"86.221847\" xlink:href=\"#meacc9ccfd6\" y=\"201.690609\"/>\n     <use style=\"fill:#1f77b4;stroke:#1f77b4;\" x=\"119.978856\" xlink:href=\"#meacc9ccfd6\" y=\"148.808179\"/>\n     <use style=\"fill:#1f77b4;stroke:#1f77b4;\" x=\"94.177833\" xlink:href=\"#meacc9ccfd6\" y=\"197.768735\"/>\n     <use style=\"fill:#1f77b4;stroke:#1f77b4;\" x=\"210.369852\" xlink:href=\"#meacc9ccfd6\" y=\"137.396575\"/>\n     <use style=\"fill:#1f77b4;stroke:#1f77b4;\" x=\"86.269208\" xlink:href=\"#meacc9ccfd6\" y=\"201.810686\"/>\n     <use style=\"fill:#1f77b4;stroke:#1f77b4;\" x=\"64.896428\" xlink:href=\"#meacc9ccfd6\" y=\"212.88034\"/>\n     <use style=\"fill:#1f77b4;stroke:#1f77b4;\" x=\"89.083057\" xlink:href=\"#meacc9ccfd6\" y=\"200.247477\"/>\n     <use style=\"fill:#1f77b4;stroke:#1f77b4;\" x=\"153.809906\" xlink:href=\"#meacc9ccfd6\" y=\"165.461065\"/>\n     <use style=\"fill:#1f77b4;stroke:#1f77b4;\" x=\"65.937536\" xlink:href=\"#meacc9ccfd6\" y=\"212.170147\"/>\n     <use style=\"fill:#1f77b4;stroke:#1f77b4;\" x=\"68.072022\" xlink:href=\"#meacc9ccfd6\" y=\"210.991482\"/>\n     <use style=\"fill:#1f77b4;stroke:#1f77b4;\" x=\"64.904265\" xlink:href=\"#meacc9ccfd6\" y=\"212.847094\"/>\n     <use style=\"fill:#1f77b4;stroke:#1f77b4;\" x=\"157.219462\" xlink:href=\"#meacc9ccfd6\" y=\"164.472104\"/>\n     <use style=\"fill:#1f77b4;stroke:#1f77b4;\" x=\"102.692061\" xlink:href=\"#meacc9ccfd6\" y=\"175.610624\"/>\n     <use style=\"fill:#1f77b4;stroke:#1f77b4;\" x=\"87.224997\" xlink:href=\"#meacc9ccfd6\" y=\"200.907367\"/>\n     <use style=\"fill:#1f77b4;stroke:#1f77b4;\" x=\"104.267814\" xlink:href=\"#meacc9ccfd6\" y=\"192.371802\"/>\n     <use style=\"fill:#1f77b4;stroke:#1f77b4;\" x=\"89.220389\" xlink:href=\"#meacc9ccfd6\" y=\"200.312256\"/>\n     <use style=\"fill:#1f77b4;stroke:#1f77b4;\" x=\"148.689452\" xlink:href=\"#meacc9ccfd6\" y=\"168.546671\"/>\n     <use style=\"fill:#1f77b4;stroke:#1f77b4;\" x=\"68.243626\" xlink:href=\"#meacc9ccfd6\" y=\"211.125778\"/>\n     <use style=\"fill:#1f77b4;stroke:#1f77b4;\" x=\"64.085851\" xlink:href=\"#meacc9ccfd6\" y=\"213.078608\"/>\n     <use style=\"fill:#1f77b4;stroke:#1f77b4;\" x=\"102.703584\" xlink:href=\"#meacc9ccfd6\" y=\"192.966536\"/>\n     <use style=\"fill:#1f77b4;stroke:#1f77b4;\" x=\"67.794984\" xlink:href=\"#meacc9ccfd6\" y=\"146.076018\"/>\n     <use style=\"fill:#1f77b4;stroke:#1f77b4;\" x=\"141.754034\" xlink:href=\"#meacc9ccfd6\" y=\"172.890999\"/>\n     <use style=\"fill:#1f77b4;stroke:#1f77b4;\" x=\"113.330978\" xlink:href=\"#meacc9ccfd6\" y=\"187.409226\"/>\n     <use style=\"fill:#1f77b4;stroke:#1f77b4;\" x=\"107.566081\" xlink:href=\"#meacc9ccfd6\" y=\"190.548991\"/>\n     <use style=\"fill:#1f77b4;stroke:#1f77b4;\" x=\"108.434843\" xlink:href=\"#meacc9ccfd6\" y=\"189.801417\"/>\n     <use style=\"fill:#1f77b4;stroke:#1f77b4;\" x=\"79.350524\" xlink:href=\"#meacc9ccfd6\" y=\"140.550247\"/>\n     <use style=\"fill:#1f77b4;stroke:#1f77b4;\" x=\"213.348609\" xlink:href=\"#meacc9ccfd6\" y=\"135.763491\"/>\n     <use style=\"fill:#1f77b4;stroke:#1f77b4;\" x=\"111.423322\" xlink:href=\"#meacc9ccfd6\" y=\"188.463798\"/>\n     <use style=\"fill:#1f77b4;stroke:#1f77b4;\" x=\"365.594318\" xlink:href=\"#meacc9ccfd6\" y=\"54.181271\"/>\n     <use style=\"fill:#1f77b4;stroke:#1f77b4;\" x=\"78.559607\" xlink:href=\"#meacc9ccfd6\" y=\"205.924545\"/>\n     <use style=\"fill:#1f77b4;stroke:#1f77b4;\" x=\"61.968333\" xlink:href=\"#meacc9ccfd6\" y=\"141.082381\"/>\n     <use style=\"fill:#1f77b4;stroke:#1f77b4;\" x=\"128.263778\" xlink:href=\"#meacc9ccfd6\" y=\"180.363609\"/>\n     <use style=\"fill:#1f77b4;stroke:#1f77b4;\" x=\"69.582803\" xlink:href=\"#meacc9ccfd6\" y=\"210.526146\"/>\n     <use style=\"fill:#1f77b4;stroke:#1f77b4;\" x=\"193.825997\" xlink:href=\"#meacc9ccfd6\" y=\"145.117832\"/>\n     <use style=\"fill:#1f77b4;stroke:#1f77b4;\" x=\"87.919642\" xlink:href=\"#meacc9ccfd6\" y=\"200.934039\"/>\n     <use style=\"fill:#1f77b4;stroke:#1f77b4;\" x=\"99.569868\" xlink:href=\"#meacc9ccfd6\" y=\"194.621792\"/>\n     <use style=\"fill:#1f77b4;stroke:#1f77b4;\" x=\"83.682055\" xlink:href=\"#meacc9ccfd6\" y=\"203.067163\"/>\n     <use style=\"fill:#1f77b4;stroke:#1f77b4;\" x=\"95.064681\" xlink:href=\"#meacc9ccfd6\" y=\"196.897906\"/>\n     <use style=\"fill:#1f77b4;stroke:#1f77b4;\" x=\"75.920328\" xlink:href=\"#meacc9ccfd6\" y=\"207.205152\"/>\n     <use style=\"fill:#1f77b4;stroke:#1f77b4;\" x=\"66.910737\" xlink:href=\"#meacc9ccfd6\" y=\"211.957804\"/>\n     <use style=\"fill:#1f77b4;stroke:#1f77b4;\" x=\"261.47806\" xlink:href=\"#meacc9ccfd6\" y=\"121.660323\"/>\n     <use style=\"fill:#1f77b4;stroke:#1f77b4;\" x=\"116.657729\" xlink:href=\"#meacc9ccfd6\" y=\"185.74465\"/>\n     <use style=\"fill:#1f77b4;stroke:#1f77b4;\" x=\"281.560204\" xlink:href=\"#meacc9ccfd6\" y=\"97.435053\"/>\n     <use style=\"fill:#1f77b4;stroke:#1f77b4;\" x=\"73.722241\" xlink:href=\"#meacc9ccfd6\" y=\"208.240097\"/>\n     <use style=\"fill:#1f77b4;stroke:#1f77b4;\" x=\"75.610693\" xlink:href=\"#meacc9ccfd6\" y=\"207.559407\"/>\n     <use style=\"fill:#1f77b4;stroke:#1f77b4;\" x=\"69.873226\" xlink:href=\"#meacc9ccfd6\" y=\"154.938784\"/>\n     <use style=\"fill:#1f77b4;stroke:#1f77b4;\" x=\"144.147433\" xlink:href=\"#meacc9ccfd6\" y=\"171.171421\"/>\n     <use style=\"fill:#1f77b4;stroke:#1f77b4;\" x=\"326.422739\" xlink:href=\"#meacc9ccfd6\" y=\"75.02678\"/>\n     <use style=\"fill:#1f77b4;stroke:#1f77b4;\" x=\"109.534859\" xlink:href=\"#meacc9ccfd6\" y=\"189.710895\"/>\n     <use style=\"fill:#1f77b4;stroke:#1f77b4;\" x=\"92.489013\" xlink:href=\"#meacc9ccfd6\" y=\"198.051034\"/>\n     <use style=\"fill:#1f77b4;stroke:#1f77b4;\" x=\"126.944002\" xlink:href=\"#meacc9ccfd6\" y=\"180.119575\"/>\n     <use style=\"fill:#1f77b4;stroke:#1f77b4;\" x=\"123.119611\" xlink:href=\"#meacc9ccfd6\" y=\"182.342051\"/>\n     <use style=\"fill:#1f77b4;stroke:#1f77b4;\" x=\"72.692278\" xlink:href=\"#meacc9ccfd6\" y=\"208.836303\"/>\n     <use style=\"fill:#1f77b4;stroke:#1f77b4;\" x=\"334.733387\" xlink:href=\"#meacc9ccfd6\" y=\"70.185618\"/>\n     <use style=\"fill:#1f77b4;stroke:#1f77b4;\" x=\"193.235393\" xlink:href=\"#meacc9ccfd6\" y=\"145.859337\"/>\n     <use style=\"fill:#1f77b4;stroke:#1f77b4;\" x=\"146.656532\" xlink:href=\"#meacc9ccfd6\" y=\"169.979536\"/>\n     <use style=\"fill:#1f77b4;stroke:#1f77b4;\" x=\"121.486582\" xlink:href=\"#meacc9ccfd6\" y=\"182.980962\"/>\n     <use style=\"fill:#1f77b4;stroke:#1f77b4;\" x=\"115.81077\" xlink:href=\"#meacc9ccfd6\" y=\"186.241304\"/>\n     <use style=\"fill:#1f77b4;stroke:#1f77b4;\" x=\"123.858096\" xlink:href=\"#meacc9ccfd6\" y=\"181.592741\"/>\n     <use style=\"fill:#1f77b4;stroke:#1f77b4;\" x=\"91.860477\" xlink:href=\"#meacc9ccfd6\" y=\"198.696395\"/>\n     <use style=\"fill:#1f77b4;stroke:#1f77b4;\" x=\"298.679404\" xlink:href=\"#meacc9ccfd6\" y=\"33.48545\"/>\n     <use style=\"fill:#1f77b4;stroke:#1f77b4;\" x=\"138.238911\" xlink:href=\"#meacc9ccfd6\" y=\"174.770986\"/>\n     <use style=\"fill:#1f77b4;stroke:#1f77b4;\" x=\"130.128616\" xlink:href=\"#meacc9ccfd6\" y=\"178.844755\"/>\n     <use style=\"fill:#1f77b4;stroke:#1f77b4;\" x=\"289.020513\" xlink:href=\"#meacc9ccfd6\" y=\"85.214925\"/>\n     <use style=\"fill:#1f77b4;stroke:#1f77b4;\" x=\"317.979078\" xlink:href=\"#meacc9ccfd6\" y=\"114.699692\"/>\n     <use style=\"fill:#1f77b4;stroke:#1f77b4;\" x=\"131.212321\" xlink:href=\"#meacc9ccfd6\" y=\"177.867191\"/>\n     <use style=\"fill:#1f77b4;stroke:#1f77b4;\" x=\"87.895374\" xlink:href=\"#meacc9ccfd6\" y=\"200.686044\"/>\n     <use style=\"fill:#1f77b4;stroke:#1f77b4;\" x=\"71.601408\" xlink:href=\"#meacc9ccfd6\" y=\"209.414007\"/>\n     <use style=\"fill:#1f77b4;stroke:#1f77b4;\" x=\"72.679548\" xlink:href=\"#meacc9ccfd6\" y=\"208.820866\"/>\n     <use style=\"fill:#1f77b4;stroke:#1f77b4;\" x=\"348.353176\" xlink:href=\"#meacc9ccfd6\" y=\"63.477415\"/>\n     <use style=\"fill:#1f77b4;stroke:#1f77b4;\" x=\"81.264672\" xlink:href=\"#meacc9ccfd6\" y=\"204.520641\"/>\n     <use style=\"fill:#1f77b4;stroke:#1f77b4;\" x=\"61.230682\" xlink:href=\"#meacc9ccfd6\" y=\"214.756364\"/>\n     <use style=\"fill:#1f77b4;stroke:#1f77b4;\" x=\"126.201829\" xlink:href=\"#meacc9ccfd6\" y=\"180.823331\"/>\n     <use style=\"fill:#1f77b4;stroke:#1f77b4;\" x=\"96.182402\" xlink:href=\"#meacc9ccfd6\" y=\"196.123909\"/>\n     <use style=\"fill:#1f77b4;stroke:#1f77b4;\" x=\"87.679561\" xlink:href=\"#meacc9ccfd6\" y=\"200.961892\"/>\n     <use style=\"fill:#1f77b4;stroke:#1f77b4;\" x=\"70.069389\" xlink:href=\"#meacc9ccfd6\" y=\"210.266865\"/>\n     <use style=\"fill:#1f77b4;stroke:#1f77b4;\" x=\"321.642322\" xlink:href=\"#meacc9ccfd6\" y=\"77.202947\"/>\n     <use style=\"fill:#1f77b4;stroke:#1f77b4;\" x=\"335.912451\" xlink:href=\"#meacc9ccfd6\" y=\"71.49074\"/>\n     <use style=\"fill:#1f77b4;stroke:#1f77b4;\" x=\"73.629098\" xlink:href=\"#meacc9ccfd6\" y=\"208.344273\"/>\n     <use style=\"fill:#1f77b4;stroke:#1f77b4;\" x=\"91.719198\" xlink:href=\"#meacc9ccfd6\" y=\"198.976977\"/>\n     <use style=\"fill:#1f77b4;stroke:#1f77b4;\" x=\"213.063477\" xlink:href=\"#meacc9ccfd6\" y=\"135.072084\"/>\n     <use style=\"fill:#1f77b4;stroke:#1f77b4;\" x=\"122.696743\" xlink:href=\"#meacc9ccfd6\" y=\"182.635746\"/>\n     <use style=\"fill:#1f77b4;stroke:#1f77b4;\" x=\"87.298616\" xlink:href=\"#meacc9ccfd6\" y=\"201.274395\"/>\n     <use style=\"fill:#1f77b4;stroke:#1f77b4;\" x=\"119.443826\" xlink:href=\"#meacc9ccfd6\" y=\"141.207893\"/>\n     <use style=\"fill:#1f77b4;stroke:#1f77b4;\" x=\"108.470183\" xlink:href=\"#meacc9ccfd6\" y=\"189.902765\"/>\n     <use style=\"fill:#1f77b4;stroke:#1f77b4;\" x=\"116.255757\" xlink:href=\"#meacc9ccfd6\" y=\"127.537151\"/>\n    </g>\n   </g>\n   <g id=\"matplotlib.axis_1\">\n    <g id=\"xtick_1\">\n     <g id=\"line2d_1\">\n      <defs>\n       <path d=\"M 0 0 \nL 0 3.5 \n\" id=\"mb1d9bc23cd\" style=\"stroke:#000000;stroke-width:0.8;\"/>\n      </defs>\n      <g>\n       <use style=\"stroke:#000000;stroke-width:0.8;\" x=\"53.747786\" xlink:href=\"#mb1d9bc23cd\" y=\"224.64\"/>\n      </g>\n     </g>\n     <g id=\"text_1\">\n      <!-- 0 -->\n      <defs>\n       <path d=\"M 31.78125 66.40625 \nQ 24.171875 66.40625 20.328125 58.90625 \nQ 16.5 51.421875 16.5 36.375 \nQ 16.5 21.390625 20.328125 13.890625 \nQ 24.171875 6.390625 31.78125 6.390625 \nQ 39.453125 6.390625 43.28125 13.890625 \nQ 47.125 21.390625 47.125 36.375 \nQ 47.125 51.421875 43.28125 58.90625 \nQ 39.453125 66.40625 31.78125 66.40625 \nz\nM 31.78125 74.21875 \nQ 44.046875 74.21875 50.515625 64.515625 \nQ 56.984375 54.828125 56.984375 36.375 \nQ 56.984375 17.96875 50.515625 8.265625 \nQ 44.046875 -1.421875 31.78125 -1.421875 \nQ 19.53125 -1.421875 13.0625 8.265625 \nQ 6.59375 17.96875 6.59375 36.375 \nQ 6.59375 54.828125 13.0625 64.515625 \nQ 19.53125 74.21875 31.78125 74.21875 \nz\n\" id=\"DejaVuSans-48\"/>\n      </defs>\n      <g transform=\"translate(50.566536 239.238437)scale(0.1 -0.1)\">\n       <use xlink:href=\"#DejaVuSans-48\"/>\n      </g>\n     </g>\n    </g>\n    <g id=\"xtick_2\">\n     <g id=\"line2d_2\">\n      <g>\n       <use style=\"stroke:#000000;stroke-width:0.8;\" x=\"118.312567\" xlink:href=\"#mb1d9bc23cd\" y=\"224.64\"/>\n      </g>\n     </g>\n     <g id=\"text_2\">\n      <!-- 10000 -->\n      <defs>\n       <path d=\"M 12.40625 8.296875 \nL 28.515625 8.296875 \nL 28.515625 63.921875 \nL 10.984375 60.40625 \nL 10.984375 69.390625 \nL 28.421875 72.90625 \nL 38.28125 72.90625 \nL 38.28125 8.296875 \nL 54.390625 8.296875 \nL 54.390625 0 \nL 12.40625 0 \nz\n\" id=\"DejaVuSans-49\"/>\n      </defs>\n      <g transform=\"translate(102.406317 239.238437)scale(0.1 -0.1)\">\n       <use xlink:href=\"#DejaVuSans-49\"/>\n       <use x=\"63.623047\" xlink:href=\"#DejaVuSans-48\"/>\n       <use x=\"127.246094\" xlink:href=\"#DejaVuSans-48\"/>\n       <use x=\"190.869141\" xlink:href=\"#DejaVuSans-48\"/>\n       <use x=\"254.492188\" xlink:href=\"#DejaVuSans-48\"/>\n      </g>\n     </g>\n    </g>\n    <g id=\"xtick_3\">\n     <g id=\"line2d_3\">\n      <g>\n       <use style=\"stroke:#000000;stroke-width:0.8;\" x=\"182.877349\" xlink:href=\"#mb1d9bc23cd\" y=\"224.64\"/>\n      </g>\n     </g>\n     <g id=\"text_3\">\n      <!-- 20000 -->\n      <defs>\n       <path d=\"M 19.1875 8.296875 \nL 53.609375 8.296875 \nL 53.609375 0 \nL 7.328125 0 \nL 7.328125 8.296875 \nQ 12.9375 14.109375 22.625 23.890625 \nQ 32.328125 33.6875 34.8125 36.53125 \nQ 39.546875 41.84375 41.421875 45.53125 \nQ 43.3125 49.21875 43.3125 52.78125 \nQ 43.3125 58.59375 39.234375 62.25 \nQ 35.15625 65.921875 28.609375 65.921875 \nQ 23.96875 65.921875 18.8125 64.3125 \nQ 13.671875 62.703125 7.8125 59.421875 \nL 7.8125 69.390625 \nQ 13.765625 71.78125 18.9375 73 \nQ 24.125 74.21875 28.421875 74.21875 \nQ 39.75 74.21875 46.484375 68.546875 \nQ 53.21875 62.890625 53.21875 53.421875 \nQ 53.21875 48.921875 51.53125 44.890625 \nQ 49.859375 40.875 45.40625 35.40625 \nQ 44.1875 33.984375 37.640625 27.21875 \nQ 31.109375 20.453125 19.1875 8.296875 \nz\n\" id=\"DejaVuSans-50\"/>\n      </defs>\n      <g transform=\"translate(166.971099 239.238437)scale(0.1 -0.1)\">\n       <use xlink:href=\"#DejaVuSans-50\"/>\n       <use x=\"63.623047\" xlink:href=\"#DejaVuSans-48\"/>\n       <use x=\"127.246094\" xlink:href=\"#DejaVuSans-48\"/>\n       <use x=\"190.869141\" xlink:href=\"#DejaVuSans-48\"/>\n       <use x=\"254.492188\" xlink:href=\"#DejaVuSans-48\"/>\n      </g>\n     </g>\n    </g>\n    <g id=\"xtick_4\">\n     <g id=\"line2d_4\">\n      <g>\n       <use style=\"stroke:#000000;stroke-width:0.8;\" x=\"247.44213\" xlink:href=\"#mb1d9bc23cd\" y=\"224.64\"/>\n      </g>\n     </g>\n     <g id=\"text_4\">\n      <!-- 30000 -->\n      <defs>\n       <path d=\"M 40.578125 39.3125 \nQ 47.65625 37.796875 51.625 33 \nQ 55.609375 28.21875 55.609375 21.1875 \nQ 55.609375 10.40625 48.1875 4.484375 \nQ 40.765625 -1.421875 27.09375 -1.421875 \nQ 22.515625 -1.421875 17.65625 -0.515625 \nQ 12.796875 0.390625 7.625 2.203125 \nL 7.625 11.71875 \nQ 11.71875 9.328125 16.59375 8.109375 \nQ 21.484375 6.890625 26.8125 6.890625 \nQ 36.078125 6.890625 40.9375 10.546875 \nQ 45.796875 14.203125 45.796875 21.1875 \nQ 45.796875 27.640625 41.28125 31.265625 \nQ 36.765625 34.90625 28.71875 34.90625 \nL 20.21875 34.90625 \nL 20.21875 43.015625 \nL 29.109375 43.015625 \nQ 36.375 43.015625 40.234375 45.921875 \nQ 44.09375 48.828125 44.09375 54.296875 \nQ 44.09375 59.90625 40.109375 62.90625 \nQ 36.140625 65.921875 28.71875 65.921875 \nQ 24.65625 65.921875 20.015625 65.03125 \nQ 15.375 64.15625 9.8125 62.3125 \nL 9.8125 71.09375 \nQ 15.4375 72.65625 20.34375 73.4375 \nQ 25.25 74.21875 29.59375 74.21875 \nQ 40.828125 74.21875 47.359375 69.109375 \nQ 53.90625 64.015625 53.90625 55.328125 \nQ 53.90625 49.265625 50.4375 45.09375 \nQ 46.96875 40.921875 40.578125 39.3125 \nz\n\" id=\"DejaVuSans-51\"/>\n      </defs>\n      <g transform=\"translate(231.53588 239.238437)scale(0.1 -0.1)\">\n       <use xlink:href=\"#DejaVuSans-51\"/>\n       <use x=\"63.623047\" xlink:href=\"#DejaVuSans-48\"/>\n       <use x=\"127.246094\" xlink:href=\"#DejaVuSans-48\"/>\n       <use x=\"190.869141\" xlink:href=\"#DejaVuSans-48\"/>\n       <use x=\"254.492188\" xlink:href=\"#DejaVuSans-48\"/>\n      </g>\n     </g>\n    </g>\n    <g id=\"xtick_5\">\n     <g id=\"line2d_5\">\n      <g>\n       <use style=\"stroke:#000000;stroke-width:0.8;\" x=\"312.006912\" xlink:href=\"#mb1d9bc23cd\" y=\"224.64\"/>\n      </g>\n     </g>\n     <g id=\"text_5\">\n      <!-- 40000 -->\n      <defs>\n       <path d=\"M 37.796875 64.3125 \nL 12.890625 25.390625 \nL 37.796875 25.390625 \nz\nM 35.203125 72.90625 \nL 47.609375 72.90625 \nL 47.609375 25.390625 \nL 58.015625 25.390625 \nL 58.015625 17.1875 \nL 47.609375 17.1875 \nL 47.609375 0 \nL 37.796875 0 \nL 37.796875 17.1875 \nL 4.890625 17.1875 \nL 4.890625 26.703125 \nz\n\" id=\"DejaVuSans-52\"/>\n      </defs>\n      <g transform=\"translate(296.100662 239.238437)scale(0.1 -0.1)\">\n       <use xlink:href=\"#DejaVuSans-52\"/>\n       <use x=\"63.623047\" xlink:href=\"#DejaVuSans-48\"/>\n       <use x=\"127.246094\" xlink:href=\"#DejaVuSans-48\"/>\n       <use x=\"190.869141\" xlink:href=\"#DejaVuSans-48\"/>\n       <use x=\"254.492188\" xlink:href=\"#DejaVuSans-48\"/>\n      </g>\n     </g>\n    </g>\n    <g id=\"xtick_6\">\n     <g id=\"line2d_6\">\n      <g>\n       <use style=\"stroke:#000000;stroke-width:0.8;\" x=\"376.571693\" xlink:href=\"#mb1d9bc23cd\" y=\"224.64\"/>\n      </g>\n     </g>\n     <g id=\"text_6\">\n      <!-- 50000 -->\n      <defs>\n       <path d=\"M 10.796875 72.90625 \nL 49.515625 72.90625 \nL 49.515625 64.59375 \nL 19.828125 64.59375 \nL 19.828125 46.734375 \nQ 21.96875 47.46875 24.109375 47.828125 \nQ 26.265625 48.1875 28.421875 48.1875 \nQ 40.625 48.1875 47.75 41.5 \nQ 54.890625 34.8125 54.890625 23.390625 \nQ 54.890625 11.625 47.5625 5.09375 \nQ 40.234375 -1.421875 26.90625 -1.421875 \nQ 22.3125 -1.421875 17.546875 -0.640625 \nQ 12.796875 0.140625 7.71875 1.703125 \nL 7.71875 11.625 \nQ 12.109375 9.234375 16.796875 8.0625 \nQ 21.484375 6.890625 26.703125 6.890625 \nQ 35.15625 6.890625 40.078125 11.328125 \nQ 45.015625 15.765625 45.015625 23.390625 \nQ 45.015625 31 40.078125 35.4375 \nQ 35.15625 39.890625 26.703125 39.890625 \nQ 22.75 39.890625 18.8125 39.015625 \nQ 14.890625 38.140625 10.796875 36.28125 \nz\n\" id=\"DejaVuSans-53\"/>\n      </defs>\n      <g transform=\"translate(360.665443 239.238437)scale(0.1 -0.1)\">\n       <use xlink:href=\"#DejaVuSans-53\"/>\n       <use x=\"63.623047\" xlink:href=\"#DejaVuSans-48\"/>\n       <use x=\"127.246094\" xlink:href=\"#DejaVuSans-48\"/>\n       <use x=\"190.869141\" xlink:href=\"#DejaVuSans-48\"/>\n       <use x=\"254.492188\" xlink:href=\"#DejaVuSans-48\"/>\n      </g>\n     </g>\n    </g>\n   </g>\n   <g id=\"matplotlib.axis_2\">\n    <g id=\"ytick_1\">\n     <g id=\"line2d_7\">\n      <defs>\n       <path d=\"M 0 0 \nL -3.5 0 \n\" id=\"m6fa515a5ef\" style=\"stroke:#000000;stroke-width:0.8;\"/>\n      </defs>\n      <g>\n       <use style=\"stroke:#000000;stroke-width:0.8;\" x=\"46.0125\" xlink:href=\"#m6fa515a5ef\" y=\"218.569606\"/>\n      </g>\n     </g>\n     <g id=\"text_7\">\n      <!-- 0 -->\n      <g transform=\"translate(32.65 222.368824)scale(0.1 -0.1)\">\n       <use xlink:href=\"#DejaVuSans-48\"/>\n      </g>\n     </g>\n    </g>\n    <g id=\"ytick_2\">\n     <g id=\"line2d_8\">\n      <g>\n       <use style=\"stroke:#000000;stroke-width:0.8;\" x=\"46.0125\" xlink:href=\"#m6fa515a5ef\" y=\"185.000583\"/>\n      </g>\n     </g>\n     <g id=\"text_8\">\n      <!-- 10000 -->\n      <g transform=\"translate(7.2 188.799802)scale(0.1 -0.1)\">\n       <use xlink:href=\"#DejaVuSans-49\"/>\n       <use x=\"63.623047\" xlink:href=\"#DejaVuSans-48\"/>\n       <use x=\"127.246094\" xlink:href=\"#DejaVuSans-48\"/>\n       <use x=\"190.869141\" xlink:href=\"#DejaVuSans-48\"/>\n       <use x=\"254.492188\" xlink:href=\"#DejaVuSans-48\"/>\n      </g>\n     </g>\n    </g>\n    <g id=\"ytick_3\">\n     <g id=\"line2d_9\">\n      <g>\n       <use style=\"stroke:#000000;stroke-width:0.8;\" x=\"46.0125\" xlink:href=\"#m6fa515a5ef\" y=\"151.431561\"/>\n      </g>\n     </g>\n     <g id=\"text_9\">\n      <!-- 20000 -->\n      <g transform=\"translate(7.2 155.230779)scale(0.1 -0.1)\">\n       <use xlink:href=\"#DejaVuSans-50\"/>\n       <use x=\"63.623047\" xlink:href=\"#DejaVuSans-48\"/>\n       <use x=\"127.246094\" xlink:href=\"#DejaVuSans-48\"/>\n       <use x=\"190.869141\" xlink:href=\"#DejaVuSans-48\"/>\n       <use x=\"254.492188\" xlink:href=\"#DejaVuSans-48\"/>\n      </g>\n     </g>\n    </g>\n    <g id=\"ytick_4\">\n     <g id=\"line2d_10\">\n      <g>\n       <use style=\"stroke:#000000;stroke-width:0.8;\" x=\"46.0125\" xlink:href=\"#m6fa515a5ef\" y=\"117.862538\"/>\n      </g>\n     </g>\n     <g id=\"text_10\">\n      <!-- 30000 -->\n      <g transform=\"translate(7.2 121.661757)scale(0.1 -0.1)\">\n       <use xlink:href=\"#DejaVuSans-51\"/>\n       <use x=\"63.623047\" xlink:href=\"#DejaVuSans-48\"/>\n       <use x=\"127.246094\" xlink:href=\"#DejaVuSans-48\"/>\n       <use x=\"190.869141\" xlink:href=\"#DejaVuSans-48\"/>\n       <use x=\"254.492188\" xlink:href=\"#DejaVuSans-48\"/>\n      </g>\n     </g>\n    </g>\n    <g id=\"ytick_5\">\n     <g id=\"line2d_11\">\n      <g>\n       <use style=\"stroke:#000000;stroke-width:0.8;\" x=\"46.0125\" xlink:href=\"#m6fa515a5ef\" y=\"84.293516\"/>\n      </g>\n     </g>\n     <g id=\"text_11\">\n      <!-- 40000 -->\n      <g transform=\"translate(7.2 88.092734)scale(0.1 -0.1)\">\n       <use xlink:href=\"#DejaVuSans-52\"/>\n       <use x=\"63.623047\" xlink:href=\"#DejaVuSans-48\"/>\n       <use x=\"127.246094\" xlink:href=\"#DejaVuSans-48\"/>\n       <use x=\"190.869141\" xlink:href=\"#DejaVuSans-48\"/>\n       <use x=\"254.492188\" xlink:href=\"#DejaVuSans-48\"/>\n      </g>\n     </g>\n    </g>\n    <g id=\"ytick_6\">\n     <g id=\"line2d_12\">\n      <g>\n       <use style=\"stroke:#000000;stroke-width:0.8;\" x=\"46.0125\" xlink:href=\"#m6fa515a5ef\" y=\"50.724493\"/>\n      </g>\n     </g>\n     <g id=\"text_12\">\n      <!-- 50000 -->\n      <g transform=\"translate(7.2 54.523712)scale(0.1 -0.1)\">\n       <use xlink:href=\"#DejaVuSans-53\"/>\n       <use x=\"63.623047\" xlink:href=\"#DejaVuSans-48\"/>\n       <use x=\"127.246094\" xlink:href=\"#DejaVuSans-48\"/>\n       <use x=\"190.869141\" xlink:href=\"#DejaVuSans-48\"/>\n       <use x=\"254.492188\" xlink:href=\"#DejaVuSans-48\"/>\n      </g>\n     </g>\n    </g>\n    <g id=\"ytick_7\">\n     <g id=\"line2d_13\">\n      <g>\n       <use style=\"stroke:#000000;stroke-width:0.8;\" x=\"46.0125\" xlink:href=\"#m6fa515a5ef\" y=\"17.155471\"/>\n      </g>\n     </g>\n     <g id=\"text_13\">\n      <!-- 60000 -->\n      <defs>\n       <path d=\"M 33.015625 40.375 \nQ 26.375 40.375 22.484375 35.828125 \nQ 18.609375 31.296875 18.609375 23.390625 \nQ 18.609375 15.53125 22.484375 10.953125 \nQ 26.375 6.390625 33.015625 6.390625 \nQ 39.65625 6.390625 43.53125 10.953125 \nQ 47.40625 15.53125 47.40625 23.390625 \nQ 47.40625 31.296875 43.53125 35.828125 \nQ 39.65625 40.375 33.015625 40.375 \nz\nM 52.59375 71.296875 \nL 52.59375 62.3125 \nQ 48.875 64.0625 45.09375 64.984375 \nQ 41.3125 65.921875 37.59375 65.921875 \nQ 27.828125 65.921875 22.671875 59.328125 \nQ 17.53125 52.734375 16.796875 39.40625 \nQ 19.671875 43.65625 24.015625 45.921875 \nQ 28.375 48.1875 33.59375 48.1875 \nQ 44.578125 48.1875 50.953125 41.515625 \nQ 57.328125 34.859375 57.328125 23.390625 \nQ 57.328125 12.15625 50.6875 5.359375 \nQ 44.046875 -1.421875 33.015625 -1.421875 \nQ 20.359375 -1.421875 13.671875 8.265625 \nQ 6.984375 17.96875 6.984375 36.375 \nQ 6.984375 53.65625 15.1875 63.9375 \nQ 23.390625 74.21875 37.203125 74.21875 \nQ 40.921875 74.21875 44.703125 73.484375 \nQ 48.484375 72.75 52.59375 71.296875 \nz\n\" id=\"DejaVuSans-54\"/>\n      </defs>\n      <g transform=\"translate(7.2 20.954689)scale(0.1 -0.1)\">\n       <use xlink:href=\"#DejaVuSans-54\"/>\n       <use x=\"63.623047\" xlink:href=\"#DejaVuSans-48\"/>\n       <use x=\"127.246094\" xlink:href=\"#DejaVuSans-48\"/>\n       <use x=\"190.869141\" xlink:href=\"#DejaVuSans-48\"/>\n       <use x=\"254.492188\" xlink:href=\"#DejaVuSans-48\"/>\n      </g>\n     </g>\n    </g>\n   </g>\n   <g id=\"patch_3\">\n    <path d=\"M 46.0125 224.64 \nL 46.0125 7.2 \n\" style=\"fill:none;stroke:#000000;stroke-linecap:square;stroke-linejoin:miter;stroke-width:0.8;\"/>\n   </g>\n   <g id=\"patch_4\">\n    <path d=\"M 380.8125 224.64 \nL 380.8125 7.2 \n\" style=\"fill:none;stroke:#000000;stroke-linecap:square;stroke-linejoin:miter;stroke-width:0.8;\"/>\n   </g>\n   <g id=\"patch_5\">\n    <path d=\"M 46.0125 224.64 \nL 380.8125 224.64 \n\" style=\"fill:none;stroke:#000000;stroke-linecap:square;stroke-linejoin:miter;stroke-width:0.8;\"/>\n   </g>\n   <g id=\"patch_6\">\n    <path d=\"M 46.0125 7.2 \nL 380.8125 7.2 \n\" style=\"fill:none;stroke:#000000;stroke-linecap:square;stroke-linejoin:miter;stroke-width:0.8;\"/>\n   </g>\n  </g>\n </g>\n <defs>\n  <clipPath id=\"p3ed05c5358\">\n   <rect height=\"217.44\" width=\"334.8\" x=\"46.0125\" y=\"7.2\"/>\n  </clipPath>\n </defs>\n</svg>\n"
          },
          "metadata": {
            "needs_background": "light"
          }
        }
      ]
    },
    {
      "cell_type": "code",
      "source": [
        ""
      ],
      "metadata": {
        "id": "dTiKLG3RHTg0"
      },
      "execution_count": null,
      "outputs": []
    }
  ]
}