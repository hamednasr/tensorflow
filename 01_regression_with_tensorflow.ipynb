{
  "nbformat": 4,
  "nbformat_minor": 0,
  "metadata": {
    "colab": {
      "name": "01_regression with tensorflow.ipynb",
      "provenance": [],
      "collapsed_sections": [],
      "authorship_tag": "ABX9TyN61PZB3jTMUXkUj1xAkaw/",
      "include_colab_link": true
    },
    "kernelspec": {
      "name": "python3",
      "display_name": "Python 3"
    },
    "language_info": {
      "name": "python"
    }
  },
  "cells": [
    {
      "cell_type": "markdown",
      "metadata": {
        "id": "view-in-github",
        "colab_type": "text"
      },
      "source": [
        "<a href=\"https://colab.research.google.com/github/hamednasr/tensorflow/blob/main/01_regression_with_tensorflow.ipynb\" target=\"_parent\"><img src=\"https://colab.research.google.com/assets/colab-badge.svg\" alt=\"Open In Colab\"/></a>"
      ]
    },
    {
      "cell_type": "code",
      "execution_count": 1,
      "metadata": {
        "id": "RebmLDRF8ijO"
      },
      "outputs": [],
      "source": [
        "import tensorflow as tf\n",
        "import numpy as np\n",
        "import matplotlib.pyplot as plt\n",
        "import pandas as pd\n",
        "from IPython import display\n",
        "display.set_matplotlib_formats('svg')\n",
        "from sklearn.model_selection import train_test_split\n",
        "import scipy.stats as stats\n",
        "from sklearn.preprocessing import Normalizer"
      ]
    },
    {
      "cell_type": "code",
      "source": [
        "X = tf.expand_dims(tf.range(3,18,3),axis=-1)"
      ],
      "metadata": {
        "colab": {
          "base_uri": "https://localhost:8080/"
        },
        "id": "H_oUwoOS9r8N",
        "outputId": "02df516f-1395-441d-c9d4-6fb6a32f039b"
      },
      "execution_count": null,
      "outputs": [
        {
          "output_type": "execute_result",
          "data": {
            "text/plain": [
              "<tf.Tensor: shape=(5, 1), dtype=int32, numpy=\n",
              "array([[ 3],\n",
              "       [ 6],\n",
              "       [ 9],\n",
              "       [12],\n",
              "       [15]], dtype=int32)>"
            ]
          },
          "metadata": {},
          "execution_count": 3
        }
      ]
    },
    {
      "cell_type": "code",
      "source": [
        "y = tf.range(3,18,3)+5\n",
        "y"
      ],
      "metadata": {
        "colab": {
          "base_uri": "https://localhost:8080/"
        },
        "id": "D2C2cHQVJYbm",
        "outputId": "e96fd1a2-5a51-4b1e-e92d-67dd2da0ce03"
      },
      "execution_count": null,
      "outputs": [
        {
          "output_type": "execute_result",
          "data": {
            "text/plain": [
              "<tf.Tensor: shape=(5,), dtype=int32, numpy=array([ 8, 11, 14, 17, 20], dtype=int32)>"
            ]
          },
          "metadata": {},
          "execution_count": 4
        }
      ]
    },
    {
      "cell_type": "code",
      "source": [
        ""
      ],
      "metadata": {
        "id": "ApxqzaQiJYZT"
      },
      "execution_count": null,
      "outputs": []
    },
    {
      "cell_type": "code",
      "source": [
        "tf.random.set_seed(10)"
      ],
      "metadata": {
        "id": "PJibAqFtJYW-"
      },
      "execution_count": null,
      "outputs": []
    },
    {
      "cell_type": "code",
      "source": [
        "model.fit?"
      ],
      "metadata": {
        "id": "uhgn6mj1Ulcd",
        "colab": {
          "base_uri": "https://localhost:8080/"
        },
        "outputId": "108daa7c-c2f4-4bb9-a19b-73a474d3796d"
      },
      "execution_count": null,
      "outputs": [
        {
          "output_type": "stream",
          "name": "stdout",
          "text": [
            "Object `model.fit` not found.\n"
          ]
        }
      ]
    },
    {
      "cell_type": "code",
      "source": [
        "model = tf.keras.Sequential([\n",
        "                              tf.keras.layers.Dense(1)\n",
        "                              ])\n",
        "\n",
        "model.compile(loss=tf.keras.losses.mse,\n",
        "              optimizer=tf.keras.optimizers.SGD(),\n",
        "              metrics = ['mae'])\n",
        "\n",
        "model.fit(X,y,epochs=200)"
      ],
      "metadata": {
        "colab": {
          "base_uri": "https://localhost:8080/"
        },
        "id": "xPXqcc-DJdCG",
        "outputId": "fcb31041-c0d4-4e97-99e7-12fa962f1393"
      },
      "execution_count": null,
      "outputs": [
        {
          "output_type": "stream",
          "name": "stdout",
          "text": [
            "Epoch 1/200\n",
            "1/1 [==============================] - 1s 911ms/step - loss: 94.8722 - mae: 9.5058\n",
            "Epoch 2/200\n",
            "1/1 [==============================] - 0s 55ms/step - loss: 94.1892 - mae: 7.9610\n",
            "Epoch 3/200\n",
            "1/1 [==============================] - 0s 18ms/step - loss: 93.5110 - mae: 9.4374\n",
            "Epoch 4/200\n",
            "1/1 [==============================] - 0s 21ms/step - loss: 92.8377 - mae: 7.9037\n",
            "Epoch 5/200\n",
            "1/1 [==============================] - 0s 19ms/step - loss: 92.1693 - mae: 9.3694\n",
            "Epoch 6/200\n",
            "1/1 [==============================] - 0s 13ms/step - loss: 91.5057 - mae: 7.8468\n",
            "Epoch 7/200\n",
            "1/1 [==============================] - 0s 15ms/step - loss: 90.8468 - mae: 9.3020\n",
            "Epoch 8/200\n",
            "1/1 [==============================] - 0s 40ms/step - loss: 90.1928 - mae: 7.7903\n",
            "Epoch 9/200\n",
            "1/1 [==============================] - 0s 19ms/step - loss: 89.5434 - mae: 9.2350\n",
            "Epoch 10/200\n",
            "1/1 [==============================] - 0s 25ms/step - loss: 88.8986 - mae: 7.7342\n",
            "Epoch 11/200\n",
            "1/1 [==============================] - 0s 20ms/step - loss: 88.2586 - mae: 9.1685\n",
            "Epoch 12/200\n",
            "1/1 [==============================] - 0s 17ms/step - loss: 87.6231 - mae: 7.6785\n",
            "Epoch 13/200\n",
            "1/1 [==============================] - 0s 22ms/step - loss: 86.9922 - mae: 9.1025\n",
            "Epoch 14/200\n",
            "1/1 [==============================] - 0s 15ms/step - loss: 86.3659 - mae: 7.6232\n",
            "Epoch 15/200\n",
            "1/1 [==============================] - 0s 8ms/step - loss: 85.7440 - mae: 9.0370\n",
            "Epoch 16/200\n",
            "1/1 [==============================] - 0s 32ms/step - loss: 85.1267 - mae: 7.5683\n",
            "Epoch 17/200\n",
            "1/1 [==============================] - 0s 14ms/step - loss: 84.5137 - mae: 8.9719\n",
            "Epoch 18/200\n",
            "1/1 [==============================] - 0s 15ms/step - loss: 83.9053 - mae: 7.5138\n",
            "Epoch 19/200\n",
            "1/1 [==============================] - 0s 10ms/step - loss: 83.3012 - mae: 8.9073\n",
            "Epoch 20/200\n",
            "1/1 [==============================] - 0s 8ms/step - loss: 82.7014 - mae: 7.4598\n",
            "Epoch 21/200\n",
            "1/1 [==============================] - 0s 16ms/step - loss: 82.1060 - mae: 8.8432\n",
            "Epoch 22/200\n",
            "1/1 [==============================] - 0s 20ms/step - loss: 81.5148 - mae: 7.4060\n",
            "Epoch 23/200\n",
            "1/1 [==============================] - 0s 13ms/step - loss: 80.9279 - mae: 8.7795\n",
            "Epoch 24/200\n",
            "1/1 [==============================] - 0s 17ms/step - loss: 80.3452 - mae: 7.3527\n",
            "Epoch 25/200\n",
            "1/1 [==============================] - 0s 35ms/step - loss: 79.7667 - mae: 8.7163\n",
            "Epoch 26/200\n",
            "1/1 [==============================] - 0s 17ms/step - loss: 79.1924 - mae: 7.2998\n",
            "Epoch 27/200\n",
            "1/1 [==============================] - 0s 13ms/step - loss: 78.6222 - mae: 8.6535\n",
            "Epoch 28/200\n",
            "1/1 [==============================] - 0s 10ms/step - loss: 78.0561 - mae: 7.2472\n",
            "Epoch 29/200\n",
            "1/1 [==============================] - 0s 19ms/step - loss: 77.4941 - mae: 8.5912\n",
            "Epoch 30/200\n",
            "1/1 [==============================] - 0s 10ms/step - loss: 76.9361 - mae: 7.1950\n",
            "Epoch 31/200\n",
            "1/1 [==============================] - 0s 20ms/step - loss: 76.3822 - mae: 8.5294\n",
            "Epoch 32/200\n",
            "1/1 [==============================] - 0s 14ms/step - loss: 75.8322 - mae: 7.1432\n",
            "Epoch 33/200\n",
            "1/1 [==============================] - 0s 17ms/step - loss: 75.2862 - mae: 8.4679\n",
            "Epoch 34/200\n",
            "1/1 [==============================] - 0s 21ms/step - loss: 74.7442 - mae: 7.0918\n",
            "Epoch 35/200\n",
            "1/1 [==============================] - 0s 24ms/step - loss: 74.2060 - mae: 8.4070\n",
            "Epoch 36/200\n",
            "1/1 [==============================] - 0s 25ms/step - loss: 73.6717 - mae: 7.0407\n",
            "Epoch 37/200\n",
            "1/1 [==============================] - 0s 20ms/step - loss: 73.1413 - mae: 8.3464\n",
            "Epoch 38/200\n",
            "1/1 [==============================] - 0s 13ms/step - loss: 72.6147 - mae: 6.9900\n",
            "Epoch 39/200\n",
            "1/1 [==============================] - 0s 21ms/step - loss: 72.0918 - mae: 8.2863\n",
            "Epoch 40/200\n",
            "1/1 [==============================] - 0s 21ms/step - loss: 71.5727 - mae: 6.9397\n",
            "Epoch 41/200\n",
            "1/1 [==============================] - 0s 19ms/step - loss: 71.0574 - mae: 8.2267\n",
            "Epoch 42/200\n",
            "1/1 [==============================] - 0s 21ms/step - loss: 70.5458 - mae: 6.8897\n",
            "Epoch 43/200\n",
            "1/1 [==============================] - 0s 16ms/step - loss: 70.0378 - mae: 8.1674\n",
            "Epoch 44/200\n",
            "1/1 [==============================] - 0s 13ms/step - loss: 69.5335 - mae: 6.8401\n",
            "Epoch 45/200\n",
            "1/1 [==============================] - 0s 24ms/step - loss: 69.0329 - mae: 8.1086\n",
            "Epoch 46/200\n",
            "1/1 [==============================] - 0s 25ms/step - loss: 68.5359 - mae: 6.7909\n",
            "Epoch 47/200\n",
            "1/1 [==============================] - 0s 8ms/step - loss: 68.0424 - mae: 8.0503\n",
            "Epoch 48/200\n",
            "1/1 [==============================] - 0s 15ms/step - loss: 67.5525 - mae: 6.7420\n",
            "Epoch 49/200\n",
            "1/1 [==============================] - 0s 16ms/step - loss: 67.0661 - mae: 7.9923\n",
            "Epoch 50/200\n",
            "1/1 [==============================] - 0s 22ms/step - loss: 66.5833 - mae: 6.6935\n",
            "Epoch 51/200\n",
            "1/1 [==============================] - 0s 16ms/step - loss: 66.1039 - mae: 7.9348\n",
            "Epoch 52/200\n",
            "1/1 [==============================] - 0s 13ms/step - loss: 65.6280 - mae: 6.6453\n",
            "Epoch 53/200\n",
            "1/1 [==============================] - 0s 30ms/step - loss: 65.1554 - mae: 7.8776\n",
            "Epoch 54/200\n",
            "1/1 [==============================] - 0s 17ms/step - loss: 64.6863 - mae: 6.5974\n",
            "Epoch 55/200\n",
            "1/1 [==============================] - 0s 10ms/step - loss: 64.2206 - mae: 7.8209\n",
            "Epoch 56/200\n",
            "1/1 [==============================] - 0s 17ms/step - loss: 63.7582 - mae: 6.5499\n",
            "Epoch 57/200\n",
            "1/1 [==============================] - 0s 14ms/step - loss: 63.2991 - mae: 7.7646\n",
            "Epoch 58/200\n",
            "1/1 [==============================] - 0s 19ms/step - loss: 62.8433 - mae: 6.5028\n",
            "Epoch 59/200\n",
            "1/1 [==============================] - 0s 23ms/step - loss: 62.3909 - mae: 7.7087\n",
            "Epoch 60/200\n",
            "1/1 [==============================] - 0s 24ms/step - loss: 61.9417 - mae: 6.4559\n",
            "Epoch 61/200\n",
            "1/1 [==============================] - 0s 9ms/step - loss: 61.4957 - mae: 7.6532\n",
            "Epoch 62/200\n",
            "1/1 [==============================] - 0s 17ms/step - loss: 61.0529 - mae: 6.4095\n",
            "Epoch 63/200\n",
            "1/1 [==============================] - 0s 19ms/step - loss: 60.6133 - mae: 7.5981\n",
            "Epoch 64/200\n",
            "1/1 [==============================] - 0s 27ms/step - loss: 60.1769 - mae: 6.3633\n",
            "Epoch 65/200\n",
            "1/1 [==============================] - 0s 21ms/step - loss: 59.7436 - mae: 7.5434\n",
            "Epoch 66/200\n",
            "1/1 [==============================] - 0s 17ms/step - loss: 59.3135 - mae: 6.3175\n",
            "Epoch 67/200\n",
            "1/1 [==============================] - 0s 18ms/step - loss: 58.8864 - mae: 7.4891\n",
            "Epoch 68/200\n",
            "1/1 [==============================] - 0s 11ms/step - loss: 58.4625 - mae: 6.2720\n",
            "Epoch 69/200\n",
            "1/1 [==============================] - 0s 17ms/step - loss: 58.0415 - mae: 7.4351\n",
            "Epoch 70/200\n",
            "1/1 [==============================] - 0s 6ms/step - loss: 57.6236 - mae: 6.2268\n",
            "Epoch 71/200\n",
            "1/1 [==============================] - 0s 8ms/step - loss: 57.2087 - mae: 7.3816\n",
            "Epoch 72/200\n",
            "1/1 [==============================] - 0s 13ms/step - loss: 56.7968 - mae: 6.1820\n",
            "Epoch 73/200\n",
            "1/1 [==============================] - 0s 14ms/step - loss: 56.3879 - mae: 7.3285\n",
            "Epoch 74/200\n",
            "1/1 [==============================] - 0s 12ms/step - loss: 55.9819 - mae: 6.1375\n",
            "Epoch 75/200\n",
            "1/1 [==============================] - 0s 8ms/step - loss: 55.5789 - mae: 7.2757\n",
            "Epoch 76/200\n",
            "1/1 [==============================] - 0s 11ms/step - loss: 55.1787 - mae: 6.0933\n",
            "Epoch 77/200\n",
            "1/1 [==============================] - 0s 17ms/step - loss: 54.7814 - mae: 7.2233\n",
            "Epoch 78/200\n",
            "1/1 [==============================] - 0s 9ms/step - loss: 54.3870 - mae: 6.0494\n",
            "Epoch 79/200\n",
            "1/1 [==============================] - 0s 10ms/step - loss: 53.9954 - mae: 7.1713\n",
            "Epoch 80/200\n",
            "1/1 [==============================] - 0s 6ms/step - loss: 53.6066 - mae: 6.0059\n",
            "Epoch 81/200\n",
            "1/1 [==============================] - 0s 6ms/step - loss: 53.2207 - mae: 7.1197\n",
            "Epoch 82/200\n",
            "1/1 [==============================] - 0s 7ms/step - loss: 52.8375 - mae: 5.9626\n",
            "Epoch 83/200\n",
            "1/1 [==============================] - 0s 6ms/step - loss: 52.4571 - mae: 7.0684\n",
            "Epoch 84/200\n",
            "1/1 [==============================] - 0s 7ms/step - loss: 52.0794 - mae: 5.9197\n",
            "Epoch 85/200\n",
            "1/1 [==============================] - 0s 6ms/step - loss: 51.7044 - mae: 7.0175\n",
            "Epoch 86/200\n",
            "1/1 [==============================] - 0s 7ms/step - loss: 51.3322 - mae: 5.8771\n",
            "Epoch 87/200\n",
            "1/1 [==============================] - 0s 11ms/step - loss: 50.9626 - mae: 6.9670\n",
            "Epoch 88/200\n",
            "1/1 [==============================] - 0s 9ms/step - loss: 50.5957 - mae: 5.8348\n",
            "Epoch 89/200\n",
            "1/1 [==============================] - 0s 14ms/step - loss: 50.2314 - mae: 6.9168\n",
            "Epoch 90/200\n",
            "1/1 [==============================] - 0s 15ms/step - loss: 49.8697 - mae: 5.7928\n",
            "Epoch 91/200\n",
            "1/1 [==============================] - 0s 11ms/step - loss: 49.5106 - mae: 6.8670\n",
            "Epoch 92/200\n",
            "1/1 [==============================] - 0s 12ms/step - loss: 49.1542 - mae: 5.7511\n",
            "Epoch 93/200\n",
            "1/1 [==============================] - 0s 22ms/step - loss: 48.8003 - mae: 6.8176\n",
            "Epoch 94/200\n",
            "1/1 [==============================] - 0s 12ms/step - loss: 48.4489 - mae: 5.7097\n",
            "Epoch 95/200\n",
            "1/1 [==============================] - 0s 23ms/step - loss: 48.1001 - mae: 6.7685\n",
            "Epoch 96/200\n",
            "1/1 [==============================] - 0s 18ms/step - loss: 47.7537 - mae: 5.6685\n",
            "Epoch 97/200\n",
            "1/1 [==============================] - 0s 38ms/step - loss: 47.4099 - mae: 6.7198\n",
            "Epoch 98/200\n",
            "1/1 [==============================] - 0s 14ms/step - loss: 47.0685 - mae: 5.6277\n",
            "Epoch 99/200\n",
            "1/1 [==============================] - 0s 31ms/step - loss: 46.7296 - mae: 6.6714\n",
            "Epoch 100/200\n",
            "1/1 [==============================] - 0s 30ms/step - loss: 46.3932 - mae: 5.5872\n",
            "Epoch 101/200\n",
            "1/1 [==============================] - 0s 11ms/step - loss: 46.0591 - mae: 6.6234\n",
            "Epoch 102/200\n",
            "1/1 [==============================] - 0s 14ms/step - loss: 45.7275 - mae: 5.5470\n",
            "Epoch 103/200\n",
            "1/1 [==============================] - 0s 12ms/step - loss: 45.3983 - mae: 6.5757\n",
            "Epoch 104/200\n",
            "1/1 [==============================] - 0s 19ms/step - loss: 45.0714 - mae: 5.5070\n",
            "Epoch 105/200\n",
            "1/1 [==============================] - 0s 23ms/step - loss: 44.7469 - mae: 6.5283\n",
            "Epoch 106/200\n",
            "1/1 [==============================] - 0s 9ms/step - loss: 44.4247 - mae: 5.4674\n",
            "Epoch 107/200\n",
            "1/1 [==============================] - 0s 13ms/step - loss: 44.1048 - mae: 6.4813\n",
            "Epoch 108/200\n",
            "1/1 [==============================] - 0s 16ms/step - loss: 43.7873 - mae: 5.4280\n",
            "Epoch 109/200\n",
            "1/1 [==============================] - 0s 40ms/step - loss: 43.4720 - mae: 6.4346\n",
            "Epoch 110/200\n",
            "1/1 [==============================] - 0s 51ms/step - loss: 43.1590 - mae: 5.3889\n",
            "Epoch 111/200\n",
            "1/1 [==============================] - 0s 29ms/step - loss: 42.8483 - mae: 6.3883\n",
            "Epoch 112/200\n",
            "1/1 [==============================] - 0s 27ms/step - loss: 42.5398 - mae: 5.3501\n",
            "Epoch 113/200\n",
            "1/1 [==============================] - 0s 27ms/step - loss: 42.2335 - mae: 6.3423\n",
            "Epoch 114/200\n",
            "1/1 [==============================] - 0s 22ms/step - loss: 41.9294 - mae: 5.3116\n",
            "Epoch 115/200\n",
            "1/1 [==============================] - 0s 16ms/step - loss: 41.6275 - mae: 6.2967\n",
            "Epoch 116/200\n",
            "1/1 [==============================] - 0s 16ms/step - loss: 41.3278 - mae: 5.2734\n",
            "Epoch 117/200\n",
            "1/1 [==============================] - 0s 17ms/step - loss: 41.0302 - mae: 6.2513\n",
            "Epoch 118/200\n",
            "1/1 [==============================] - 0s 22ms/step - loss: 40.7348 - mae: 5.2354\n",
            "Epoch 119/200\n",
            "1/1 [==============================] - 0s 16ms/step - loss: 40.4415 - mae: 6.2063\n",
            "Epoch 120/200\n",
            "1/1 [==============================] - 0s 11ms/step - loss: 40.1504 - mae: 5.1977\n",
            "Epoch 121/200\n",
            "1/1 [==============================] - 0s 43ms/step - loss: 39.8613 - mae: 6.1616\n",
            "Epoch 122/200\n",
            "1/1 [==============================] - 0s 24ms/step - loss: 39.5743 - mae: 5.1603\n",
            "Epoch 123/200\n",
            "1/1 [==============================] - 0s 20ms/step - loss: 39.2893 - mae: 6.1173\n",
            "Epoch 124/200\n",
            "1/1 [==============================] - 0s 25ms/step - loss: 39.0064 - mae: 5.1231\n",
            "Epoch 125/200\n",
            "1/1 [==============================] - 0s 20ms/step - loss: 38.7256 - mae: 6.0732\n",
            "Epoch 126/200\n",
            "1/1 [==============================] - 0s 21ms/step - loss: 38.4467 - mae: 5.0862\n",
            "Epoch 127/200\n",
            "1/1 [==============================] - 0s 33ms/step - loss: 38.1699 - mae: 6.0295\n",
            "Epoch 128/200\n",
            "1/1 [==============================] - 0s 26ms/step - loss: 37.8951 - mae: 5.0496\n",
            "Epoch 129/200\n",
            "1/1 [==============================] - 0s 21ms/step - loss: 37.6223 - mae: 5.9861\n",
            "Epoch 130/200\n",
            "1/1 [==============================] - 0s 22ms/step - loss: 37.3514 - mae: 5.0133\n",
            "Epoch 131/200\n",
            "1/1 [==============================] - 0s 40ms/step - loss: 37.0825 - mae: 5.9430\n",
            "Epoch 132/200\n",
            "1/1 [==============================] - 0s 17ms/step - loss: 36.8155 - mae: 4.9772\n",
            "Epoch 133/200\n",
            "1/1 [==============================] - 0s 18ms/step - loss: 36.5504 - mae: 5.9002\n",
            "Epoch 134/200\n",
            "1/1 [==============================] - 0s 11ms/step - loss: 36.2872 - mae: 4.9413\n",
            "Epoch 135/200\n",
            "1/1 [==============================] - 0s 16ms/step - loss: 36.0260 - mae: 5.8577\n",
            "Epoch 136/200\n",
            "1/1 [==============================] - 0s 13ms/step - loss: 35.7666 - mae: 4.9058\n",
            "Epoch 137/200\n",
            "1/1 [==============================] - 0s 32ms/step - loss: 35.5091 - mae: 5.8155\n",
            "Epoch 138/200\n",
            "1/1 [==============================] - 0s 28ms/step - loss: 35.2534 - mae: 4.8704\n",
            "Epoch 139/200\n",
            "1/1 [==============================] - 0s 29ms/step - loss: 34.9996 - mae: 5.7737\n",
            "Epoch 140/200\n",
            "1/1 [==============================] - 0s 15ms/step - loss: 34.7476 - mae: 4.8354\n",
            "Epoch 141/200\n",
            "1/1 [==============================] - 0s 10ms/step - loss: 34.4974 - mae: 5.7321\n",
            "Epoch 142/200\n",
            "1/1 [==============================] - 0s 6ms/step - loss: 34.2490 - mae: 4.8006\n",
            "Epoch 143/200\n",
            "1/1 [==============================] - 0s 14ms/step - loss: 34.0024 - mae: 5.6908\n",
            "Epoch 144/200\n",
            "1/1 [==============================] - 0s 19ms/step - loss: 33.7576 - mae: 4.7660\n",
            "Epoch 145/200\n",
            "1/1 [==============================] - 0s 14ms/step - loss: 33.5145 - mae: 5.6498\n",
            "Epoch 146/200\n",
            "1/1 [==============================] - 0s 10ms/step - loss: 33.2733 - mae: 4.7317\n",
            "Epoch 147/200\n",
            "1/1 [==============================] - 0s 10ms/step - loss: 33.0337 - mae: 5.6092\n",
            "Epoch 148/200\n",
            "1/1 [==============================] - 0s 8ms/step - loss: 32.7959 - mae: 4.6976\n",
            "Epoch 149/200\n",
            "1/1 [==============================] - 0s 8ms/step - loss: 32.5598 - mae: 5.5688\n",
            "Epoch 150/200\n",
            "1/1 [==============================] - 0s 12ms/step - loss: 32.3253 - mae: 4.6638\n",
            "Epoch 151/200\n",
            "1/1 [==============================] - 0s 10ms/step - loss: 32.0926 - mae: 5.5287\n",
            "Epoch 152/200\n",
            "1/1 [==============================] - 0s 21ms/step - loss: 31.8615 - mae: 4.6302\n",
            "Epoch 153/200\n",
            "1/1 [==============================] - 0s 23ms/step - loss: 31.6321 - mae: 5.4889\n",
            "Epoch 154/200\n",
            "1/1 [==============================] - 0s 27ms/step - loss: 31.4043 - mae: 4.5969\n",
            "Epoch 155/200\n",
            "1/1 [==============================] - 0s 21ms/step - loss: 31.1782 - mae: 5.4494\n",
            "Epoch 156/200\n",
            "1/1 [==============================] - 0s 23ms/step - loss: 30.9537 - mae: 4.5638\n",
            "Epoch 157/200\n",
            "1/1 [==============================] - 0s 18ms/step - loss: 30.7309 - mae: 5.4101\n",
            "Epoch 158/200\n",
            "1/1 [==============================] - 0s 17ms/step - loss: 30.5096 - mae: 4.5309\n",
            "Epoch 159/200\n",
            "1/1 [==============================] - 0s 21ms/step - loss: 30.2899 - mae: 5.3712\n",
            "Epoch 160/200\n",
            "1/1 [==============================] - 0s 21ms/step - loss: 30.0718 - mae: 4.4983\n",
            "Epoch 161/200\n",
            "1/1 [==============================] - 0s 12ms/step - loss: 29.8553 - mae: 5.3325\n",
            "Epoch 162/200\n",
            "1/1 [==============================] - 0s 20ms/step - loss: 29.6404 - mae: 4.4659\n",
            "Epoch 163/200\n",
            "1/1 [==============================] - 0s 12ms/step - loss: 29.4270 - mae: 5.2941\n",
            "Epoch 164/200\n",
            "1/1 [==============================] - 0s 14ms/step - loss: 29.2151 - mae: 4.4338\n",
            "Epoch 165/200\n",
            "1/1 [==============================] - 0s 24ms/step - loss: 29.0047 - mae: 5.2560\n",
            "Epoch 166/200\n",
            "1/1 [==============================] - 0s 16ms/step - loss: 28.7959 - mae: 4.4018\n",
            "Epoch 167/200\n",
            "1/1 [==============================] - 0s 13ms/step - loss: 28.5885 - mae: 5.2181\n",
            "Epoch 168/200\n",
            "1/1 [==============================] - 0s 17ms/step - loss: 28.3827 - mae: 4.3701\n",
            "Epoch 169/200\n",
            "1/1 [==============================] - 0s 27ms/step - loss: 28.1784 - mae: 5.1806\n",
            "Epoch 170/200\n",
            "1/1 [==============================] - 0s 37ms/step - loss: 27.9755 - mae: 4.3387\n",
            "Epoch 171/200\n",
            "1/1 [==============================] - 0s 15ms/step - loss: 27.7740 - mae: 5.1433\n",
            "Epoch 172/200\n",
            "1/1 [==============================] - 0s 15ms/step - loss: 27.5741 - mae: 4.3074\n",
            "Epoch 173/200\n",
            "1/1 [==============================] - 0s 12ms/step - loss: 27.3755 - mae: 5.1062\n",
            "Epoch 174/200\n",
            "1/1 [==============================] - 0s 14ms/step - loss: 27.1784 - mae: 4.2764\n",
            "Epoch 175/200\n",
            "1/1 [==============================] - 0s 25ms/step - loss: 26.9827 - mae: 5.0695\n",
            "Epoch 176/200\n",
            "1/1 [==============================] - 0s 14ms/step - loss: 26.7884 - mae: 4.2456\n",
            "Epoch 177/200\n",
            "1/1 [==============================] - 0s 12ms/step - loss: 26.5956 - mae: 5.0330\n",
            "Epoch 178/200\n",
            "1/1 [==============================] - 0s 8ms/step - loss: 26.4041 - mae: 4.2151\n",
            "Epoch 179/200\n",
            "1/1 [==============================] - 0s 10ms/step - loss: 26.2140 - mae: 4.9967\n",
            "Epoch 180/200\n",
            "1/1 [==============================] - 0s 30ms/step - loss: 26.0252 - mae: 4.1847\n",
            "Epoch 181/200\n",
            "1/1 [==============================] - 0s 17ms/step - loss: 25.8378 - mae: 4.9608\n",
            "Epoch 182/200\n",
            "1/1 [==============================] - 0s 13ms/step - loss: 25.6518 - mae: 4.1546\n",
            "Epoch 183/200\n",
            "1/1 [==============================] - 0s 10ms/step - loss: 25.4671 - mae: 4.9250\n",
            "Epoch 184/200\n",
            "1/1 [==============================] - 0s 11ms/step - loss: 25.2838 - mae: 4.1247\n",
            "Epoch 185/200\n",
            "1/1 [==============================] - 0s 8ms/step - loss: 25.1017 - mae: 4.8896\n",
            "Epoch 186/200\n",
            "1/1 [==============================] - 0s 7ms/step - loss: 24.9210 - mae: 4.0950\n",
            "Epoch 187/200\n",
            "1/1 [==============================] - 0s 8ms/step - loss: 24.7416 - mae: 4.8544\n",
            "Epoch 188/200\n",
            "1/1 [==============================] - 0s 7ms/step - loss: 24.5634 - mae: 4.0655\n",
            "Epoch 189/200\n",
            "1/1 [==============================] - 0s 13ms/step - loss: 24.3865 - mae: 4.8194\n",
            "Epoch 190/200\n",
            "1/1 [==============================] - 0s 19ms/step - loss: 24.2110 - mae: 4.0362\n",
            "Epoch 191/200\n",
            "1/1 [==============================] - 0s 14ms/step - loss: 24.0366 - mae: 4.7847\n",
            "Epoch 192/200\n",
            "1/1 [==============================] - 0s 9ms/step - loss: 23.8636 - mae: 4.0072\n",
            "Epoch 193/200\n",
            "1/1 [==============================] - 0s 7ms/step - loss: 23.6918 - mae: 4.7503\n",
            "Epoch 194/200\n",
            "1/1 [==============================] - 0s 7ms/step - loss: 23.5212 - mae: 3.9783\n",
            "Epoch 195/200\n",
            "1/1 [==============================] - 0s 6ms/step - loss: 23.3518 - mae: 4.7161\n",
            "Epoch 196/200\n",
            "1/1 [==============================] - 0s 9ms/step - loss: 23.1837 - mae: 3.9497\n",
            "Epoch 197/200\n",
            "1/1 [==============================] - 0s 7ms/step - loss: 23.0168 - mae: 4.6821\n",
            "Epoch 198/200\n",
            "1/1 [==============================] - 0s 7ms/step - loss: 22.8510 - mae: 3.9212\n",
            "Epoch 199/200\n",
            "1/1 [==============================] - 0s 6ms/step - loss: 22.6865 - mae: 4.6484\n",
            "Epoch 200/200\n",
            "1/1 [==============================] - 0s 6ms/step - loss: 22.5232 - mae: 3.8930\n"
          ]
        },
        {
          "output_type": "execute_result",
          "data": {
            "text/plain": [
              "<keras.callbacks.History at 0x7f730163e650>"
            ]
          },
          "metadata": {},
          "execution_count": 7
        }
      ]
    },
    {
      "cell_type": "code",
      "source": [
        "model.predict(X)"
      ],
      "metadata": {
        "colab": {
          "base_uri": "https://localhost:8080/"
        },
        "id": "u_WbS8XDRE-5",
        "outputId": "6501e689-ec0a-4b0c-d9f5-8c2d1b0e4f8f"
      },
      "execution_count": null,
      "outputs": [
        {
          "output_type": "execute_result",
          "data": {
            "text/plain": [
              "array([[ 4.843402],\n",
              "       [ 7.114233],\n",
              "       [ 9.385065],\n",
              "       [11.655896],\n",
              "       [13.926728]], dtype=float32)"
            ]
          },
          "metadata": {},
          "execution_count": 8
        }
      ]
    },
    {
      "cell_type": "code",
      "source": [
        "plt.scatter(X,y)"
      ],
      "metadata": {
        "colab": {
          "base_uri": "https://localhost:8080/",
          "height": 282
        },
        "id": "jjMIq-w3TpKS",
        "outputId": "2507a7e4-5f9e-4800-cecb-d0a51a17cc42"
      },
      "execution_count": null,
      "outputs": [
        {
          "output_type": "execute_result",
          "data": {
            "text/plain": [
              "<matplotlib.collections.PathCollection at 0x7f73015bb1d0>"
            ]
          },
          "metadata": {},
          "execution_count": 9
        },
        {
          "output_type": "display_data",
          "data": {
            "image/png": "[encoded data removed]",
            "text/plain": [
              "<Figure size 432x288 with 1 Axes>"
            ]
          },
          "metadata": {
            "needs_background": "light"
          }
        }
      ]
    },
    {
      "cell_type": "code",
      "source": [
        "plt.scatter(X,model.predict(X))"
      ],
      "metadata": {
        "colab": {
          "base_uri": "https://localhost:8080/",
          "height": 282
        },
        "id": "qHYemA34SHEW",
        "outputId": "06ecb37c-e360-4b46-f1dc-18a11864b214"
      },
      "execution_count": null,
      "outputs": [
        {
          "output_type": "execute_result",
          "data": {
            "text/plain": [
              "<matplotlib.collections.PathCollection at 0x7f73015167d0>"
            ]
          },
          "metadata": {},
          "execution_count": 10
        },
        {
          "output_type": "display_data",
          "data": {
            "image/png": "[encoded data removed]",
            "text/plain": [
              "<Figure size 432x288 with 1 Axes>"
            ]
          },
          "metadata": {
            "needs_background": "light"
          }
        }
      ]
    },
    {
      "cell_type": "code",
      "source": [
        "model = tf.keras.Sequential([ \n",
        "                              tf.keras.layers.Dense(256,activation='relu'),\n",
        "                              tf.keras.layers.Dense(512,activation='relu'),\n",
        "                             tf.keras.layers.Dense(512,activation='relu'),\n",
        "                              tf.keras.layers.Dense(128,activation='relu'),\n",
        "                              tf.keras.layers.Dense(1)\n",
        "                           ])\n",
        "\n",
        "model.compile(loss=tf.keras.losses.mse,\n",
        "              optimizer=tf.keras.optimizers.Adam(lr=0.001),\n",
        "              metrics = ['mae'])\n",
        "\n",
        "model.fit(X,y,epochs=200)"
      ],
      "metadata": {
        "id": "bsRyLS4ZTm2h",
        "colab": {
          "base_uri": "https://localhost:8080/"
        },
        "outputId": "31978f7c-e544-4019-fde0-4398f641d394"
      },
      "execution_count": null,
      "outputs": [
        {
          "output_type": "stream",
          "name": "stdout",
          "text": [
            "Epoch 1/200\n"
          ]
        },
        {
          "output_type": "stream",
          "name": "stderr",
          "text": [
            "/usr/local/lib/python3.7/dist-packages/keras/optimizer_v2/adam.py:105: UserWarning: The `lr` argument is deprecated, use `learning_rate` instead.\n",
            "  super(Adam, self).__init__(name, **kwargs)\n"
          ]
        },
        {
          "output_type": "stream",
          "name": "stdout",
          "text": [
            "1/1 [==============================] - 2s 2s/step - loss: 214.4284 - mae: 14.0134\n",
            "Epoch 2/200\n",
            "1/1 [==============================] - 0s 21ms/step - loss: 172.8761 - mae: 12.6429\n",
            "Epoch 3/200\n",
            "1/1 [==============================] - 0s 19ms/step - loss: 139.4823 - mae: 11.4132\n",
            "Epoch 4/200\n",
            "1/1 [==============================] - 0s 34ms/step - loss: 106.8457 - mae: 10.0529\n",
            "Epoch 5/200\n",
            "1/1 [==============================] - 0s 29ms/step - loss: 72.1000 - mae: 8.3371\n",
            "Epoch 6/200\n",
            "1/1 [==============================] - 0s 18ms/step - loss: 38.3194 - mae: 6.1608\n",
            "Epoch 7/200\n",
            "1/1 [==============================] - 0s 17ms/step - loss: 12.1188 - mae: 3.4172\n",
            "Epoch 8/200\n",
            "1/1 [==============================] - 0s 17ms/step - loss: 4.6523 - mae: 1.8631\n",
            "Epoch 9/200\n",
            "1/1 [==============================] - 0s 17ms/step - loss: 21.4887 - mae: 3.7900\n",
            "Epoch 10/200\n",
            "1/1 [==============================] - 0s 16ms/step - loss: 40.6020 - mae: 5.2545\n",
            "Epoch 11/200\n",
            "1/1 [==============================] - 0s 14ms/step - loss: 40.2469 - mae: 5.2314\n",
            "Epoch 12/200\n",
            "1/1 [==============================] - 0s 21ms/step - loss: 26.8906 - mae: 4.2634\n",
            "Epoch 13/200\n",
            "1/1 [==============================] - 0s 13ms/step - loss: 13.0264 - mae: 2.9934\n",
            "Epoch 14/200\n",
            "1/1 [==============================] - 0s 14ms/step - loss: 5.3101 - mae: 1.9836\n",
            "Epoch 15/200\n",
            "1/1 [==============================] - 0s 16ms/step - loss: 4.3609 - mae: 1.7107\n",
            "Epoch 16/200\n",
            "1/1 [==============================] - 0s 16ms/step - loss: 7.5170 - mae: 2.5348\n",
            "Epoch 17/200\n",
            "1/1 [==============================] - 0s 19ms/step - loss: 11.8296 - mae: 3.3769\n",
            "Epoch 18/200\n",
            "1/1 [==============================] - 0s 16ms/step - loss: 15.2482 - mae: 3.8827\n",
            "Epoch 19/200\n",
            "1/1 [==============================] - 0s 40ms/step - loss: 16.7225 - mae: 4.0766\n",
            "Epoch 20/200\n",
            "1/1 [==============================] - 0s 20ms/step - loss: 16.1170 - mae: 3.9990\n",
            "Epoch 21/200\n",
            "1/1 [==============================] - 0s 18ms/step - loss: 13.8244 - mae: 3.6851\n",
            "Epoch 22/200\n",
            "1/1 [==============================] - 0s 18ms/step - loss: 10.5534 - mae: 3.1656\n",
            "Epoch 23/200\n",
            "1/1 [==============================] - 0s 19ms/step - loss: 7.2177 - mae: 2.4760\n",
            "Epoch 24/200\n",
            "1/1 [==============================] - 0s 18ms/step - loss: 4.7621 - mae: 1.7970\n",
            "Epoch 25/200\n",
            "1/1 [==============================] - 0s 18ms/step - loss: 3.8943 - mae: 1.6908\n",
            "Epoch 26/200\n",
            "1/1 [==============================] - 0s 17ms/step - loss: 4.7377 - mae: 1.8512\n",
            "Epoch 27/200\n",
            "1/1 [==============================] - 0s 41ms/step - loss: 6.5992 - mae: 2.2378\n",
            "Epoch 28/200\n",
            "1/1 [==============================] - 0s 28ms/step - loss: 8.2139 - mae: 2.4680\n",
            "Epoch 29/200\n",
            "1/1 [==============================] - 0s 20ms/step - loss: 8.6054 - mae: 2.5160\n",
            "Epoch 30/200\n",
            "1/1 [==============================] - 0s 28ms/step - loss: 7.6459 - mae: 2.3913\n",
            "Epoch 31/200\n",
            "1/1 [==============================] - 0s 37ms/step - loss: 5.9947 - mae: 2.1344\n",
            "Epoch 32/200\n",
            "1/1 [==============================] - 0s 23ms/step - loss: 4.5257 - mae: 1.8084\n",
            "Epoch 33/200\n",
            "1/1 [==============================] - 0s 32ms/step - loss: 3.7977 - mae: 1.6928\n",
            "Epoch 34/200\n",
            "1/1 [==============================] - 0s 24ms/step - loss: 3.8755 - mae: 1.5936\n",
            "Epoch 35/200\n",
            "1/1 [==============================] - 0s 30ms/step - loss: 4.4606 - mae: 1.7405\n",
            "Epoch 36/200\n",
            "1/1 [==============================] - 0s 16ms/step - loss: 5.1347 - mae: 1.8904\n",
            "Epoch 37/200\n",
            "1/1 [==============================] - 0s 15ms/step - loss: 5.5568 - mae: 2.0442\n",
            "Epoch 38/200\n",
            "1/1 [==============================] - 0s 20ms/step - loss: 5.5627 - mae: 2.0501\n",
            "Epoch 39/200\n",
            "1/1 [==============================] - 0s 17ms/step - loss: 5.1770 - mae: 1.9207\n",
            "Epoch 40/200\n",
            "1/1 [==============================] - 0s 18ms/step - loss: 4.5704 - mae: 1.7562\n",
            "Epoch 41/200\n",
            "1/1 [==============================] - 0s 14ms/step - loss: 3.9819 - mae: 1.6414\n",
            "Epoch 42/200\n",
            "1/1 [==============================] - 0s 12ms/step - loss: 3.6236 - mae: 1.5807\n",
            "Epoch 43/200\n",
            "1/1 [==============================] - 0s 16ms/step - loss: 3.5920 - mae: 1.6445\n",
            "Epoch 44/200\n",
            "1/1 [==============================] - 0s 14ms/step - loss: 3.8236 - mae: 1.6990\n",
            "Epoch 45/200\n",
            "1/1 [==============================] - 0s 13ms/step - loss: 4.1292 - mae: 1.7361\n",
            "Epoch 46/200\n",
            "1/1 [==============================] - 0s 16ms/step - loss: 4.3022 - mae: 1.7684\n",
            "Epoch 47/200\n",
            "1/1 [==============================] - 0s 17ms/step - loss: 4.2374 - mae: 1.7513\n",
            "Epoch 48/200\n",
            "1/1 [==============================] - 0s 20ms/step - loss: 3.9792 - mae: 1.7121\n",
            "Epoch 49/200\n",
            "1/1 [==============================] - 0s 18ms/step - loss: 3.6717 - mae: 1.6673\n",
            "Epoch 50/200\n",
            "1/1 [==============================] - 0s 21ms/step - loss: 3.4580 - mae: 1.6153\n",
            "Epoch 51/200\n",
            "1/1 [==============================] - 0s 13ms/step - loss: 3.4033 - mae: 1.5637\n",
            "Epoch 52/200\n",
            "1/1 [==============================] - 0s 14ms/step - loss: 3.4788 - mae: 1.5188\n",
            "Epoch 53/200\n",
            "1/1 [==============================] - 0s 15ms/step - loss: 3.5991 - mae: 1.5516\n",
            "Epoch 54/200\n",
            "1/1 [==============================] - 0s 20ms/step - loss: 3.6759 - mae: 1.5757\n",
            "Epoch 55/200\n",
            "1/1 [==============================] - 0s 21ms/step - loss: 3.6601 - mae: 1.5727\n",
            "Epoch 56/200\n",
            "1/1 [==============================] - 0s 16ms/step - loss: 3.5568 - mae: 1.5446\n",
            "Epoch 57/200\n",
            "1/1 [==============================] - 0s 13ms/step - loss: 3.4135 - mae: 1.4965\n",
            "Epoch 58/200\n",
            "1/1 [==============================] - 0s 17ms/step - loss: 3.2916 - mae: 1.5120\n",
            "Epoch 59/200\n",
            "1/1 [==============================] - 0s 14ms/step - loss: 3.2341 - mae: 1.5392\n",
            "Epoch 60/200\n",
            "1/1 [==============================] - 0s 28ms/step - loss: 3.2447 - mae: 1.5635\n",
            "Epoch 61/200\n",
            "1/1 [==============================] - 0s 20ms/step - loss: 3.2895 - mae: 1.5809\n",
            "Epoch 62/200\n",
            "1/1 [==============================] - 0s 29ms/step - loss: 3.3207 - mae: 1.5882\n",
            "Epoch 63/200\n",
            "1/1 [==============================] - 0s 19ms/step - loss: 3.3055 - mae: 1.5844\n",
            "Epoch 64/200\n",
            "1/1 [==============================] - 0s 38ms/step - loss: 3.2443 - mae: 1.5703\n",
            "Epoch 65/200\n",
            "1/1 [==============================] - 0s 23ms/step - loss: 3.1648 - mae: 1.5482\n",
            "Epoch 66/200\n",
            "1/1 [==============================] - 0s 23ms/step - loss: 3.1007 - mae: 1.5219\n",
            "Epoch 67/200\n",
            "1/1 [==============================] - 0s 13ms/step - loss: 3.0707 - mae: 1.4950\n",
            "Epoch 68/200\n",
            "1/1 [==============================] - 0s 21ms/step - loss: 3.0706 - mae: 1.4712\n",
            "Epoch 69/200\n",
            "1/1 [==============================] - 0s 19ms/step - loss: 3.0803 - mae: 1.4530\n",
            "Epoch 70/200\n",
            "1/1 [==============================] - 0s 19ms/step - loss: 3.0784 - mae: 1.4419\n",
            "Epoch 71/200\n",
            "1/1 [==============================] - 0s 18ms/step - loss: 3.0540 - mae: 1.4381\n",
            "Epoch 72/200\n",
            "1/1 [==============================] - 0s 37ms/step - loss: 3.0112 - mae: 1.4408\n",
            "Epoch 73/200\n",
            "1/1 [==============================] - 0s 27ms/step - loss: 2.9642 - mae: 1.4483\n",
            "Epoch 74/200\n",
            "1/1 [==============================] - 0s 29ms/step - loss: 2.9274 - mae: 1.4582\n",
            "Epoch 75/200\n",
            "1/1 [==============================] - 0s 21ms/step - loss: 2.9074 - mae: 1.4678\n",
            "Epoch 76/200\n",
            "1/1 [==============================] - 0s 25ms/step - loss: 2.8995 - mae: 1.4747\n",
            "Epoch 77/200\n",
            "1/1 [==============================] - 0s 19ms/step - loss: 2.8926 - mae: 1.4771\n",
            "Epoch 78/200\n",
            "1/1 [==============================] - 0s 20ms/step - loss: 2.8768 - mae: 1.4741\n",
            "Epoch 79/200\n",
            "1/1 [==============================] - 0s 30ms/step - loss: 2.8496 - mae: 1.4658\n",
            "Epoch 80/200\n",
            "1/1 [==============================] - 0s 20ms/step - loss: 2.8163 - mae: 1.4532\n",
            "Epoch 81/200\n",
            "1/1 [==============================] - 0s 23ms/step - loss: 2.7852 - mae: 1.4381\n",
            "Epoch 82/200\n",
            "1/1 [==============================] - 0s 19ms/step - loss: 2.7618 - mae: 1.4224\n",
            "Epoch 83/200\n",
            "1/1 [==============================] - 0s 38ms/step - loss: 2.7459 - mae: 1.4080\n",
            "Epoch 84/200\n",
            "1/1 [==============================] - 0s 36ms/step - loss: 2.7325 - mae: 1.3964\n",
            "Epoch 85/200\n",
            "1/1 [==============================] - 0s 22ms/step - loss: 2.7162 - mae: 1.3884\n",
            "Epoch 86/200\n",
            "1/1 [==============================] - 0s 15ms/step - loss: 2.6943 - mae: 1.3842\n",
            "Epoch 87/200\n",
            "1/1 [==============================] - 0s 16ms/step - loss: 2.6684 - mae: 1.3832\n",
            "Epoch 88/200\n",
            "1/1 [==============================] - 0s 15ms/step - loss: 2.6423 - mae: 1.3844\n",
            "Epoch 89/200\n",
            "1/1 [==============================] - 0s 18ms/step - loss: 2.6195 - mae: 1.3865\n",
            "Epoch 90/200\n",
            "1/1 [==============================] - 0s 18ms/step - loss: 2.6006 - mae: 1.3880\n",
            "Epoch 91/200\n",
            "1/1 [==============================] - 0s 17ms/step - loss: 2.5839 - mae: 1.3878\n",
            "Epoch 92/200\n",
            "1/1 [==============================] - 0s 35ms/step - loss: 2.5662 - mae: 1.3850\n",
            "Epoch 93/200\n",
            "1/1 [==============================] - 0s 26ms/step - loss: 2.5459 - mae: 1.3794\n",
            "Epoch 94/200\n",
            "1/1 [==============================] - 0s 18ms/step - loss: 2.5232 - mae: 1.3713\n",
            "Epoch 95/200\n",
            "1/1 [==============================] - 0s 18ms/step - loss: 2.5002 - mae: 1.3615\n",
            "Epoch 96/200\n",
            "1/1 [==============================] - 0s 29ms/step - loss: 2.4787 - mae: 1.3510\n",
            "Epoch 97/200\n",
            "1/1 [==============================] - 0s 16ms/step - loss: 2.4593 - mae: 1.3408\n",
            "Epoch 98/200\n",
            "1/1 [==============================] - 0s 24ms/step - loss: 2.4411 - mae: 1.3318\n",
            "Epoch 99/200\n",
            "1/1 [==============================] - 0s 22ms/step - loss: 2.4224 - mae: 1.3246\n",
            "Epoch 100/200\n",
            "1/1 [==============================] - 0s 16ms/step - loss: 2.4025 - mae: 1.3193\n",
            "Epoch 101/200\n",
            "1/1 [==============================] - 0s 32ms/step - loss: 2.3814 - mae: 1.3157\n",
            "Epoch 102/200\n",
            "1/1 [==============================] - 0s 32ms/step - loss: 2.3602 - mae: 1.3134\n",
            "Epoch 103/200\n",
            "1/1 [==============================] - 0s 17ms/step - loss: 2.3397 - mae: 1.3116\n",
            "Epoch 104/200\n",
            "1/1 [==============================] - 0s 18ms/step - loss: 2.3203 - mae: 1.3095\n",
            "Epoch 105/200\n",
            "1/1 [==============================] - 0s 17ms/step - loss: 2.3015 - mae: 1.3065\n",
            "Epoch 106/200\n",
            "1/1 [==============================] - 0s 20ms/step - loss: 2.2825 - mae: 1.3022\n",
            "Epoch 107/200\n",
            "1/1 [==============================] - 0s 17ms/step - loss: 2.2628 - mae: 1.2965\n",
            "Epoch 108/200\n",
            "1/1 [==============================] - 0s 25ms/step - loss: 2.2426 - mae: 1.2895\n",
            "Epoch 109/200\n",
            "1/1 [==============================] - 0s 20ms/step - loss: 2.2223 - mae: 1.2816\n",
            "Epoch 110/200\n",
            "1/1 [==============================] - 0s 19ms/step - loss: 2.2026 - mae: 1.2735\n",
            "Epoch 111/200\n",
            "1/1 [==============================] - 0s 18ms/step - loss: 2.1834 - mae: 1.2656\n",
            "Epoch 112/200\n",
            "1/1 [==============================] - 0s 16ms/step - loss: 2.1645 - mae: 1.2585\n",
            "Epoch 113/200\n",
            "1/1 [==============================] - 0s 16ms/step - loss: 2.1454 - mae: 1.2523\n",
            "Epoch 114/200\n",
            "1/1 [==============================] - 0s 18ms/step - loss: 2.1259 - mae: 1.2471\n",
            "Epoch 115/200\n",
            "1/1 [==============================] - 0s 19ms/step - loss: 2.1063 - mae: 1.2427\n",
            "Epoch 116/200\n",
            "1/1 [==============================] - 0s 18ms/step - loss: 2.0868 - mae: 1.2388\n",
            "Epoch 117/200\n",
            "1/1 [==============================] - 0s 19ms/step - loss: 2.0676 - mae: 1.2350\n",
            "Epoch 118/200\n",
            "1/1 [==============================] - 0s 17ms/step - loss: 2.0486 - mae: 1.2308\n",
            "Epoch 119/200\n",
            "1/1 [==============================] - 0s 18ms/step - loss: 2.0297 - mae: 1.2261\n",
            "Epoch 120/200\n",
            "1/1 [==============================] - 0s 19ms/step - loss: 2.0107 - mae: 1.2205\n",
            "Epoch 121/200\n",
            "1/1 [==============================] - 0s 20ms/step - loss: 1.9916 - mae: 1.2143\n",
            "Epoch 122/200\n",
            "1/1 [==============================] - 0s 24ms/step - loss: 1.9724 - mae: 1.2075\n",
            "Epoch 123/200\n",
            "1/1 [==============================] - 0s 23ms/step - loss: 1.9534 - mae: 1.2005\n",
            "Epoch 124/200\n",
            "1/1 [==============================] - 0s 17ms/step - loss: 1.9345 - mae: 1.1935\n",
            "Epoch 125/200\n",
            "1/1 [==============================] - 0s 21ms/step - loss: 1.9158 - mae: 1.1868\n",
            "Epoch 126/200\n",
            "1/1 [==============================] - 0s 17ms/step - loss: 1.8971 - mae: 1.1806\n",
            "Epoch 127/200\n",
            "1/1 [==============================] - 0s 12ms/step - loss: 1.8783 - mae: 1.1749\n",
            "Epoch 128/200\n",
            "1/1 [==============================] - 0s 33ms/step - loss: 1.8595 - mae: 1.1697\n",
            "Epoch 129/200\n",
            "1/1 [==============================] - 0s 20ms/step - loss: 1.8407 - mae: 1.1647\n",
            "Epoch 130/200\n",
            "1/1 [==============================] - 0s 21ms/step - loss: 1.8220 - mae: 1.1598\n",
            "Epoch 131/200\n",
            "1/1 [==============================] - 0s 25ms/step - loss: 1.8035 - mae: 1.1547\n",
            "Epoch 132/200\n",
            "1/1 [==============================] - 0s 22ms/step - loss: 1.7849 - mae: 1.1493\n",
            "Epoch 133/200\n",
            "1/1 [==============================] - 0s 22ms/step - loss: 1.7664 - mae: 1.1434\n",
            "Epoch 134/200\n",
            "1/1 [==============================] - 0s 38ms/step - loss: 1.7479 - mae: 1.1372\n",
            "Epoch 135/200\n",
            "1/1 [==============================] - 0s 24ms/step - loss: 1.7294 - mae: 1.1307\n",
            "Epoch 136/200\n",
            "1/1 [==============================] - 0s 21ms/step - loss: 1.7109 - mae: 1.1240\n",
            "Epoch 137/200\n",
            "1/1 [==============================] - 0s 21ms/step - loss: 1.6925 - mae: 1.1174\n",
            "Epoch 138/200\n",
            "1/1 [==============================] - 0s 23ms/step - loss: 1.6742 - mae: 1.1109\n",
            "Epoch 139/200\n",
            "1/1 [==============================] - 0s 24ms/step - loss: 1.6559 - mae: 1.1047\n",
            "Epoch 140/200\n",
            "1/1 [==============================] - 0s 23ms/step - loss: 1.6377 - mae: 1.0988\n",
            "Epoch 141/200\n",
            "1/1 [==============================] - 0s 61ms/step - loss: 1.6194 - mae: 1.0931\n",
            "Epoch 142/200\n",
            "1/1 [==============================] - 0s 35ms/step - loss: 1.6012 - mae: 1.0875\n",
            "Epoch 143/200\n",
            "1/1 [==============================] - 0s 50ms/step - loss: 1.5831 - mae: 1.0818\n",
            "Epoch 144/200\n",
            "1/1 [==============================] - 0s 26ms/step - loss: 1.5650 - mae: 1.0760\n",
            "Epoch 145/200\n",
            "1/1 [==============================] - 0s 23ms/step - loss: 1.5466 - mae: 1.0695\n",
            "Epoch 146/200\n",
            "1/1 [==============================] - 0s 18ms/step - loss: 1.5285 - mae: 1.0628\n",
            "Epoch 147/200\n",
            "1/1 [==============================] - 0s 19ms/step - loss: 1.5104 - mae: 1.0557\n",
            "Epoch 148/200\n",
            "1/1 [==============================] - 0s 19ms/step - loss: 1.4923 - mae: 1.0486\n",
            "Epoch 149/200\n",
            "1/1 [==============================] - 0s 19ms/step - loss: 1.4740 - mae: 1.0418\n",
            "Epoch 150/200\n",
            "1/1 [==============================] - 0s 20ms/step - loss: 1.4556 - mae: 1.0354\n",
            "Epoch 151/200\n",
            "1/1 [==============================] - 0s 34ms/step - loss: 1.4370 - mae: 1.0296\n",
            "Epoch 152/200\n",
            "1/1 [==============================] - 0s 23ms/step - loss: 1.4183 - mae: 1.0241\n",
            "Epoch 153/200\n",
            "1/1 [==============================] - 0s 37ms/step - loss: 1.3996 - mae: 1.0185\n",
            "Epoch 154/200\n",
            "1/1 [==============================] - 0s 37ms/step - loss: 1.3807 - mae: 1.0122\n",
            "Epoch 155/200\n",
            "1/1 [==============================] - 0s 24ms/step - loss: 1.3616 - mae: 1.0049\n",
            "Epoch 156/200\n",
            "1/1 [==============================] - 0s 30ms/step - loss: 1.3422 - mae: 0.9968\n",
            "Epoch 157/200\n",
            "1/1 [==============================] - 0s 29ms/step - loss: 1.3227 - mae: 0.9885\n",
            "Epoch 158/200\n",
            "1/1 [==============================] - 0s 34ms/step - loss: 1.3029 - mae: 0.9808\n",
            "Epoch 159/200\n",
            "1/1 [==============================] - 0s 29ms/step - loss: 1.2828 - mae: 0.9740\n",
            "Epoch 160/200\n",
            "1/1 [==============================] - 0s 21ms/step - loss: 1.2625 - mae: 0.9675\n",
            "Epoch 161/200\n",
            "1/1 [==============================] - 0s 55ms/step - loss: 1.2420 - mae: 0.9603\n",
            "Epoch 162/200\n",
            "1/1 [==============================] - 0s 29ms/step - loss: 1.2211 - mae: 0.9517\n",
            "Epoch 163/200\n",
            "1/1 [==============================] - 0s 23ms/step - loss: 1.1999 - mae: 0.9424\n",
            "Epoch 164/200\n",
            "1/1 [==============================] - 0s 18ms/step - loss: 1.1786 - mae: 0.9334\n",
            "Epoch 165/200\n",
            "1/1 [==============================] - 0s 31ms/step - loss: 1.1580 - mae: 0.9257\n",
            "Epoch 166/200\n",
            "1/1 [==============================] - 0s 24ms/step - loss: 1.1377 - mae: 0.9120\n",
            "Epoch 167/200\n",
            "1/1 [==============================] - 0s 22ms/step - loss: 1.1180 - mae: 0.9018\n",
            "Epoch 168/200\n",
            "1/1 [==============================] - 0s 17ms/step - loss: 1.0951 - mae: 0.8959\n",
            "Epoch 169/200\n",
            "1/1 [==============================] - 0s 20ms/step - loss: 1.0728 - mae: 0.8923\n",
            "Epoch 170/200\n",
            "1/1 [==============================] - 0s 18ms/step - loss: 1.0526 - mae: 0.8877\n",
            "Epoch 171/200\n",
            "1/1 [==============================] - 0s 21ms/step - loss: 1.0302 - mae: 0.8752\n",
            "Epoch 172/200\n",
            "1/1 [==============================] - 0s 42ms/step - loss: 1.0093 - mae: 0.8618\n",
            "Epoch 173/200\n",
            "1/1 [==============================] - 0s 24ms/step - loss: 0.9889 - mae: 0.8501\n",
            "Epoch 174/200\n",
            "1/1 [==============================] - 0s 18ms/step - loss: 0.9668 - mae: 0.8414\n",
            "Epoch 175/200\n",
            "1/1 [==============================] - 0s 24ms/step - loss: 0.9437 - mae: 0.8353\n",
            "Epoch 176/200\n",
            "1/1 [==============================] - 0s 18ms/step - loss: 0.9219 - mae: 0.8293\n",
            "Epoch 177/200\n",
            "1/1 [==============================] - 0s 19ms/step - loss: 0.9002 - mae: 0.8211\n",
            "Epoch 178/200\n",
            "1/1 [==============================] - 0s 24ms/step - loss: 0.8771 - mae: 0.8095\n",
            "Epoch 179/200\n",
            "1/1 [==============================] - 0s 19ms/step - loss: 0.8539 - mae: 0.7955\n",
            "Epoch 180/200\n",
            "1/1 [==============================] - 0s 20ms/step - loss: 0.8316 - mae: 0.7819\n",
            "Epoch 181/200\n",
            "1/1 [==============================] - 0s 24ms/step - loss: 0.8087 - mae: 0.7709\n",
            "Epoch 182/200\n",
            "1/1 [==============================] - 0s 26ms/step - loss: 0.7849 - mae: 0.7628\n",
            "Epoch 183/200\n",
            "1/1 [==============================] - 0s 26ms/step - loss: 0.7624 - mae: 0.7547\n",
            "Epoch 184/200\n",
            "1/1 [==============================] - 0s 22ms/step - loss: 0.7397 - mae: 0.7376\n",
            "Epoch 185/200\n",
            "1/1 [==============================] - 0s 21ms/step - loss: 0.7187 - mae: 0.7229\n",
            "Epoch 186/200\n",
            "1/1 [==============================] - 0s 20ms/step - loss: 0.6948 - mae: 0.7130\n",
            "Epoch 187/200\n",
            "1/1 [==============================] - 0s 28ms/step - loss: 0.6707 - mae: 0.7061\n",
            "Epoch 188/200\n",
            "1/1 [==============================] - 0s 25ms/step - loss: 0.6532 - mae: 0.6997\n",
            "Epoch 189/200\n",
            "1/1 [==============================] - 0s 24ms/step - loss: 0.6253 - mae: 0.6802\n",
            "Epoch 190/200\n",
            "1/1 [==============================] - 0s 31ms/step - loss: 0.6049 - mae: 0.6635\n",
            "Epoch 191/200\n",
            "1/1 [==============================] - 0s 25ms/step - loss: 0.5817 - mae: 0.6511\n",
            "Epoch 192/200\n",
            "1/1 [==============================] - 0s 24ms/step - loss: 0.5576 - mae: 0.6427\n",
            "Epoch 193/200\n",
            "1/1 [==============================] - 0s 26ms/step - loss: 0.5392 - mae: 0.6356\n",
            "Epoch 194/200\n",
            "1/1 [==============================] - 0s 23ms/step - loss: 0.5132 - mae: 0.6171\n",
            "Epoch 195/200\n",
            "1/1 [==============================] - 0s 23ms/step - loss: 0.4923 - mae: 0.6001\n",
            "Epoch 196/200\n",
            "1/1 [==============================] - 0s 24ms/step - loss: 0.4706 - mae: 0.5863\n",
            "Epoch 197/200\n",
            "1/1 [==============================] - 0s 29ms/step - loss: 0.4478 - mae: 0.5758\n",
            "Epoch 198/200\n",
            "1/1 [==============================] - 0s 20ms/step - loss: 0.4283 - mae: 0.5663\n",
            "Epoch 199/200\n",
            "1/1 [==============================] - 0s 23ms/step - loss: 0.4054 - mae: 0.5468\n",
            "Epoch 200/200\n",
            "1/1 [==============================] - 0s 16ms/step - loss: 0.3860 - mae: 0.5301\n"
          ]
        },
        {
          "output_type": "execute_result",
          "data": {
            "text/plain": [
              "<keras.callbacks.History at 0x7f73015d47d0>"
            ]
          },
          "metadata": {},
          "execution_count": 11
        }
      ]
    },
    {
      "cell_type": "code",
      "source": [
        "model.predict(X)"
      ],
      "metadata": {
        "colab": {
          "base_uri": "https://localhost:8080/"
        },
        "outputId": "9130cf72-df14-4439-ec95-12d1b8c8a563",
        "id": "Fm9i9fUuLdPH"
      },
      "execution_count": null,
      "outputs": [
        {
          "output_type": "execute_result",
          "data": {
            "text/plain": [
              "array([[ 6.9751687],\n",
              "       [10.365131 ],\n",
              "       [13.75506  ],\n",
              "       [17.144989 ],\n",
              "       [20.536743 ]], dtype=float32)"
            ]
          },
          "metadata": {},
          "execution_count": 12
        }
      ]
    },
    {
      "cell_type": "code",
      "source": [
        "plt.scatter(X,y)"
      ],
      "metadata": {
        "colab": {
          "base_uri": "https://localhost:8080/",
          "height": 282
        },
        "outputId": "a37d7b90-289c-4c63-e121-a64413445c92",
        "id": "rI1rwu7KLdPs"
      },
      "execution_count": null,
      "outputs": [
        {
          "output_type": "execute_result",
          "data": {
            "text/plain": [
              "<matplotlib.collections.PathCollection at 0x7f72fec609d0>"
            ]
          },
          "metadata": {},
          "execution_count": 13
        },
        {
          "output_type": "display_data",
          "data": {
            "image/png": "[encoded data removed]",
            "text/plain": [
              "<Figure size 432x288 with 1 Axes>"
            ]
          },
          "metadata": {
            "needs_background": "light"
          }
        }
      ]
    },
    {
      "cell_type": "code",
      "source": [
        "plt.scatter(X,model.predict(X))"
      ],
      "metadata": {
        "colab": {
          "base_uri": "https://localhost:8080/",
          "height": 282
        },
        "outputId": "ac664db9-2c16-4440-eaa2-7ed1bbc99891",
        "id": "ECl7F199LdPu"
      },
      "execution_count": null,
      "outputs": [
        {
          "output_type": "execute_result",
          "data": {
            "text/plain": [
              "<matplotlib.collections.PathCollection at 0x7f72febc6f50>"
            ]
          },
          "metadata": {},
          "execution_count": 14
        },
        {
          "output_type": "display_data",
          "data": {
            "image/png": "[encoded data removed]",
            "text/plain": [
              "<Figure size 432x288 with 1 Axes>"
            ]
          },
          "metadata": {
            "needs_background": "light"
          }
        }
      ]
    },
    {
      "cell_type": "markdown",
      "source": [
        "## increasing the data"
      ],
      "metadata": {
        "id": "91QdaDf-R4Gj"
      }
    },
    {
      "cell_type": "code",
      "source": [
        "X = np.expand_dims(np.arange(3,55,3),axis=-1)\n",
        "X"
      ],
      "metadata": {
        "colab": {
          "base_uri": "https://localhost:8080/"
        },
        "id": "0buHeqHnBGCE",
        "outputId": "6bf047fa-207d-46fa-a18a-3ef7a4367b16"
      },
      "execution_count": null,
      "outputs": [
        {
          "output_type": "execute_result",
          "data": {
            "text/plain": [
              "array([[ 3],\n",
              "       [ 6],\n",
              "       [ 9],\n",
              "       [12],\n",
              "       [15],\n",
              "       [18],\n",
              "       [21],\n",
              "       [24],\n",
              "       [27],\n",
              "       [30],\n",
              "       [33],\n",
              "       [36],\n",
              "       [39],\n",
              "       [42],\n",
              "       [45],\n",
              "       [48],\n",
              "       [51],\n",
              "       [54]])"
            ]
          },
          "metadata": {},
          "execution_count": 15
        }
      ]
    },
    {
      "cell_type": "code",
      "source": [
        "y = np.squeeze(X + 5)\n",
        "y"
      ],
      "metadata": {
        "colab": {
          "base_uri": "https://localhost:8080/"
        },
        "id": "dCDfU_QQIwh3",
        "outputId": "73fafaca-f0b5-408b-fb62-1b70db952848"
      },
      "execution_count": null,
      "outputs": [
        {
          "output_type": "execute_result",
          "data": {
            "text/plain": [
              "array([ 8, 11, 14, 17, 20, 23, 26, 29, 32, 35, 38, 41, 44, 47, 50, 53, 56,\n",
              "       59])"
            ]
          },
          "metadata": {},
          "execution_count": 16
        }
      ]
    },
    {
      "cell_type": "code",
      "source": [
        "from sklearn.model_selection import train_test_split\n",
        "X_train, X_test, y_train, y_test = train_test_split(X, y, test_size=.1)"
      ],
      "metadata": {
        "id": "3NNDLynUAsSc"
      },
      "execution_count": null,
      "outputs": []
    },
    {
      "cell_type": "code",
      "source": [
        "model = tf.keras.Sequential([ \n",
        "                              tf.keras.layers.Dense(256,input_shape=[1],activation='relu',name='input_layer'),\n",
        "                              tf.keras.layers.Dense(128,activation='relu',name='hidden_layer'),\n",
        "                              tf.keras.layers.Dense(1,name='output_layer')\n",
        "                           ],name='model_22')\n",
        "\n",
        "model.compile(loss=tf.keras.losses.mse,\n",
        "              optimizer=tf.keras.optimizers.Adam(learning_rate=0.001),\n",
        "              metrics = ['mae'])\n",
        "\n",
        "model.fit(X_train,y_train,epochs=200,verbose=0)"
      ],
      "metadata": {
        "colab": {
          "base_uri": "https://localhost:8080/"
        },
        "id": "no4w2jGWTXHl",
        "outputId": "a6db13ee-3e1c-45b6-9a18-9e9db3a7dfc7"
      },
      "execution_count": null,
      "outputs": [
        {
          "output_type": "execute_result",
          "data": {
            "text/plain": [
              "<keras.callbacks.History at 0x7f72fbd6e510>"
            ]
          },
          "metadata": {},
          "execution_count": 18
        }
      ]
    },
    {
      "cell_type": "code",
      "source": [
        "model.summary()"
      ],
      "metadata": {
        "colab": {
          "base_uri": "https://localhost:8080/"
        },
        "id": "KUUnq3P5Tdnh",
        "outputId": "ef0cdc31-5f26-460e-d0b5-ffce2cc15252"
      },
      "execution_count": null,
      "outputs": [
        {
          "output_type": "stream",
          "name": "stdout",
          "text": [
            "Model: \"model_22\"\n",
            "_________________________________________________________________\n",
            " Layer (type)                Output Shape              Param #   \n",
            "=================================================================\n",
            " input_layer (Dense)         (None, 256)               512       \n",
            "                                                                 \n",
            " hidden_layer (Dense)        (None, 128)               32896     \n",
            "                                                                 \n",
            " output_layer (Dense)        (None, 1)                 129       \n",
            "                                                                 \n",
            "=================================================================\n",
            "Total params: 33,537\n",
            "Trainable params: 33,537\n",
            "Non-trainable params: 0\n",
            "_________________________________________________________________\n"
          ]
        }
      ]
    },
    {
      "cell_type": "code",
      "source": [
        "from tensorflow.keras.utils import plot_model"
      ],
      "metadata": {
        "id": "AQB0u5lkZO50"
      },
      "execution_count": null,
      "outputs": []
    },
    {
      "cell_type": "code",
      "source": [
        "plot_model(model,show_shapes=True)"
      ],
      "metadata": {
        "colab": {
          "base_uri": "https://localhost:8080/",
          "height": 422
        },
        "id": "GblArPzxlc6J",
        "outputId": "288c9a48-5b52-4339-a6c5-f8eaf742b9a3"
      },
      "execution_count": null,
      "outputs": [
        {
          "output_type": "execute_result",
          "data": {
            "image/png": "[encoded data removed]",
            "text/plain": [
              "<IPython.core.display.Image object>"
            ]
          },
          "metadata": {},
          "execution_count": 21
        }
      ]
    },
    {
      "cell_type": "code",
      "source": [
        "model.evaluate(X_train,y_train)"
      ],
      "metadata": {
        "colab": {
          "base_uri": "https://localhost:8080/"
        },
        "id": "ehJYuNG4KIJO",
        "outputId": "6cb68492-f18e-410a-b244-3ad121cb9fbe"
      },
      "execution_count": null,
      "outputs": [
        {
          "output_type": "stream",
          "name": "stdout",
          "text": [
            "1/1 [==============================] - 0s 142ms/step - loss: 4.2847 - mae: 1.7669\n"
          ]
        },
        {
          "output_type": "execute_result",
          "data": {
            "text/plain": [
              "[4.284698486328125, 1.7668753862380981]"
            ]
          },
          "metadata": {},
          "execution_count": 22
        }
      ]
    },
    {
      "cell_type": "code",
      "source": [
        "model.evaluate(X_test,y_test)"
      ],
      "metadata": {
        "colab": {
          "base_uri": "https://localhost:8080/"
        },
        "id": "HUl8K2Ouqbd3",
        "outputId": "10f40210-d288-4c0a-dff2-218ff16d01b2"
      },
      "execution_count": null,
      "outputs": [
        {
          "output_type": "stream",
          "name": "stdout",
          "text": [
            "1/1 [==============================] - 0s 18ms/step - loss: 0.4547 - mae: 0.6691\n"
          ]
        },
        {
          "output_type": "execute_result",
          "data": {
            "text/plain": [
              "[0.45471274852752686, 0.6691398620605469]"
            ]
          },
          "metadata": {},
          "execution_count": 23
        }
      ]
    },
    {
      "cell_type": "code",
      "source": [
        "model.predict(X_test)"
      ],
      "metadata": {
        "colab": {
          "base_uri": "https://localhost:8080/"
        },
        "id": "gnnIRr8XLGwA",
        "outputId": "dfc9538b-248f-4327-e8c7-a41d29149e4a"
      },
      "execution_count": null,
      "outputs": [
        {
          "output_type": "execute_result",
          "data": {
            "text/plain": [
              "array([[47.585682],\n",
              "       [34.247406]], dtype=float32)"
            ]
          },
          "metadata": {},
          "execution_count": 24
        }
      ]
    },
    {
      "cell_type": "code",
      "source": [
        "y_test"
      ],
      "metadata": {
        "colab": {
          "base_uri": "https://localhost:8080/"
        },
        "id": "JuW3nuacLOE9",
        "outputId": "1a3947a0-f084-454e-a94c-998c6fb5598e"
      },
      "execution_count": null,
      "outputs": [
        {
          "output_type": "execute_result",
          "data": {
            "text/plain": [
              "array([47, 35])"
            ]
          },
          "metadata": {},
          "execution_count": 25
        }
      ]
    },
    {
      "cell_type": "code",
      "source": [
        "tf.metrics.mean_squared_error(y_test,np.squeeze(model.predict(X_test)))"
      ],
      "metadata": {
        "colab": {
          "base_uri": "https://localhost:8080/"
        },
        "id": "6L1LeSl1KF2k",
        "outputId": "0ffb8267-d22f-41c6-eda2-1ac7df085caf"
      },
      "execution_count": null,
      "outputs": [
        {
          "output_type": "execute_result",
          "data": {
            "text/plain": [
              "<tf.Tensor: shape=(), dtype=float32, numpy=0.4547105>"
            ]
          },
          "metadata": {},
          "execution_count": 26
        }
      ]
    },
    {
      "cell_type": "code",
      "source": [
        "tf.metrics.mean_absolute_error(y_test,np.squeeze(model.predict(X_test)))"
      ],
      "metadata": {
        "colab": {
          "base_uri": "https://localhost:8080/"
        },
        "id": "llPFYzEBKfWU",
        "outputId": "1e1dc8e0-4081-4aa1-b14e-e7ca26dbd383"
      },
      "execution_count": null,
      "outputs": [
        {
          "output_type": "execute_result",
          "data": {
            "text/plain": [
              "<tf.Tensor: shape=(), dtype=float32, numpy=0.66913795>"
            ]
          },
          "metadata": {},
          "execution_count": 27
        }
      ]
    },
    {
      "cell_type": "code",
      "source": [
        "tf.metrics.mean_absolute_percentage_error(y_test,np.squeeze(model.predict(X_test)))"
      ],
      "metadata": {
        "colab": {
          "base_uri": "https://localhost:8080/"
        },
        "id": "kQrz9iFlMkgp",
        "outputId": "971b28a5-047d-46ea-b178-2048d5634f0d"
      },
      "execution_count": null,
      "outputs": [
        {
          "output_type": "execute_result",
          "data": {
            "text/plain": [
              "<tf.Tensor: shape=(), dtype=float32, numpy=1.6982>"
            ]
          },
          "metadata": {},
          "execution_count": 28
        }
      ]
    },
    {
      "cell_type": "code",
      "source": [
        "model2 = tf.keras.Sequential([  \n",
        "                            tf.keras.layers.Dense(10),\n",
        "                            tf.keras.layers.Dense(10),\n",
        "                            tf.keras.layers.Dense(10),\n",
        "                            tf.keras.layers.Dense(1)                          \n",
        "])\n",
        "\n",
        "model2.compile(loss = tf.keras.losses.MSE,\n",
        "               optimizer = tf.keras.optimizers.Adam(),\n",
        "               metrics = ['mse'])\n",
        "\n",
        "model2.fit(X_train,y_train,epochs=200)"
      ],
      "metadata": {
        "colab": {
          "base_uri": "https://localhost:8080/"
        },
        "id": "f7uvhGQaMoZ5",
        "outputId": "40282dd0-6d1e-4651-f59e-83fdd0a5dee0"
      },
      "execution_count": null,
      "outputs": [
        {
          "output_type": "stream",
          "name": "stdout",
          "text": [
            "Epoch 1/200\n",
            "1/1 [==============================] - 0s 469ms/step - loss: 6.3774 - mse: 6.3774\n",
            "Epoch 2/200\n",
            "1/1 [==============================] - 0s 8ms/step - loss: 9.2443 - mse: 9.2443\n",
            "Epoch 3/200\n",
            "1/1 [==============================] - 0s 9ms/step - loss: 6.4660 - mse: 6.4660\n",
            "Epoch 4/200\n",
            "1/1 [==============================] - 0s 9ms/step - loss: 6.9439 - mse: 6.9439\n",
            "Epoch 5/200\n",
            "1/1 [==============================] - 0s 9ms/step - loss: 7.9457 - mse: 7.9457\n",
            "Epoch 6/200\n",
            "1/1 [==============================] - 0s 6ms/step - loss: 7.4359 - mse: 7.4359\n",
            "Epoch 7/200\n",
            "1/1 [==============================] - 0s 7ms/step - loss: 6.4884 - mse: 6.4884\n",
            "Epoch 8/200\n",
            "1/1 [==============================] - 0s 8ms/step - loss: 6.1423 - mse: 6.1423\n",
            "Epoch 9/200\n",
            "1/1 [==============================] - 0s 10ms/step - loss: 6.5001 - mse: 6.5001\n",
            "Epoch 10/200\n",
            "1/1 [==============================] - 0s 9ms/step - loss: 6.8841 - mse: 6.8841\n",
            "Epoch 11/200\n",
            "1/1 [==============================] - 0s 6ms/step - loss: 6.7864 - mse: 6.7864\n",
            "Epoch 12/200\n",
            "1/1 [==============================] - 0s 17ms/step - loss: 6.3507 - mse: 6.3507\n",
            "Epoch 13/200\n",
            "1/1 [==============================] - 0s 11ms/step - loss: 5.9994 - mse: 5.9994\n",
            "Epoch 14/200\n",
            "1/1 [==============================] - 0s 7ms/step - loss: 5.9829 - mse: 5.9829\n",
            "Epoch 15/200\n",
            "1/1 [==============================] - 0s 6ms/step - loss: 6.1907 - mse: 6.1907\n",
            "Epoch 16/200\n",
            "1/1 [==============================] - 0s 6ms/step - loss: 6.3163 - mse: 6.3163\n",
            "Epoch 17/200\n",
            "1/1 [==============================] - 0s 9ms/step - loss: 6.1999 - mse: 6.1999\n",
            "Epoch 18/200\n",
            "1/1 [==============================] - 0s 7ms/step - loss: 5.9471 - mse: 5.9471\n",
            "Epoch 19/200\n",
            "1/1 [==============================] - 0s 8ms/step - loss: 5.7687 - mse: 5.7687\n",
            "Epoch 20/200\n",
            "1/1 [==============================] - 0s 9ms/step - loss: 5.7690 - mse: 5.7690\n",
            "Epoch 21/200\n",
            "1/1 [==============================] - 0s 9ms/step - loss: 5.8680 - mse: 5.8680\n",
            "Epoch 22/200\n",
            "1/1 [==============================] - 0s 9ms/step - loss: 5.9056 - mse: 5.9056\n",
            "Epoch 23/200\n",
            "1/1 [==============================] - 0s 10ms/step - loss: 5.8113 - mse: 5.8113\n",
            "Epoch 24/200\n",
            "1/1 [==============================] - 0s 10ms/step - loss: 5.6554 - mse: 5.6554\n",
            "Epoch 25/200\n",
            "1/1 [==============================] - 0s 9ms/step - loss: 5.5555 - mse: 5.5555\n",
            "Epoch 26/200\n",
            "1/1 [==============================] - 0s 16ms/step - loss: 5.5570 - mse: 5.5570\n",
            "Epoch 27/200\n",
            "1/1 [==============================] - 0s 9ms/step - loss: 5.5992 - mse: 5.5992\n",
            "Epoch 28/200\n",
            "1/1 [==============================] - 0s 10ms/step - loss: 5.5913 - mse: 5.5913\n",
            "Epoch 29/200\n",
            "1/1 [==============================] - 0s 11ms/step - loss: 5.5089 - mse: 5.5089\n",
            "Epoch 30/200\n",
            "1/1 [==============================] - 0s 9ms/step - loss: 5.4072 - mse: 5.4072\n",
            "Epoch 31/200\n",
            "1/1 [==============================] - 0s 12ms/step - loss: 5.3522 - mse: 5.3522\n",
            "Epoch 32/200\n",
            "1/1 [==============================] - 0s 10ms/step - loss: 5.3522 - mse: 5.3522\n",
            "Epoch 33/200\n",
            "1/1 [==============================] - 0s 8ms/step - loss: 5.3577 - mse: 5.3577\n",
            "Epoch 34/200\n",
            "1/1 [==============================] - 0s 10ms/step - loss: 5.3220 - mse: 5.3220\n",
            "Epoch 35/200\n",
            "1/1 [==============================] - 0s 8ms/step - loss: 5.2503 - mse: 5.2503\n",
            "Epoch 36/200\n",
            "1/1 [==============================] - 0s 18ms/step - loss: 5.1855 - mse: 5.1855\n",
            "Epoch 37/200\n",
            "1/1 [==============================] - 0s 8ms/step - loss: 5.1569 - mse: 5.1569\n",
            "Epoch 38/200\n",
            "1/1 [==============================] - 0s 9ms/step - loss: 5.1500 - mse: 5.1500\n",
            "Epoch 39/200\n",
            "1/1 [==============================] - 0s 9ms/step - loss: 5.1294 - mse: 5.1294\n",
            "Epoch 40/200\n",
            "1/1 [==============================] - 0s 12ms/step - loss: 5.0807 - mse: 5.0807\n",
            "Epoch 41/200\n",
            "1/1 [==============================] - 0s 9ms/step - loss: 5.0239 - mse: 5.0239\n",
            "Epoch 42/200\n",
            "1/1 [==============================] - 0s 9ms/step - loss: 4.9848 - mse: 4.9848\n",
            "Epoch 43/200\n",
            "1/1 [==============================] - 0s 15ms/step - loss: 4.9654 - mse: 4.9654\n",
            "Epoch 44/200\n",
            "1/1 [==============================] - 0s 14ms/step - loss: 4.9450 - mse: 4.9450\n",
            "Epoch 45/200\n",
            "1/1 [==============================] - 0s 13ms/step - loss: 4.9077 - mse: 4.9077\n",
            "Epoch 46/200\n",
            "1/1 [==============================] - 0s 11ms/step - loss: 4.8603 - mse: 4.8603\n",
            "Epoch 47/200\n",
            "1/1 [==============================] - 0s 10ms/step - loss: 4.8208 - mse: 4.8208\n",
            "Epoch 48/200\n",
            "1/1 [==============================] - 0s 15ms/step - loss: 4.7949 - mse: 4.7949\n",
            "Epoch 49/200\n",
            "1/1 [==============================] - 0s 8ms/step - loss: 4.7715 - mse: 4.7715\n",
            "Epoch 50/200\n",
            "1/1 [==============================] - 0s 9ms/step - loss: 4.7384 - mse: 4.7384\n",
            "Epoch 51/200\n",
            "1/1 [==============================] - 0s 11ms/step - loss: 4.6974 - mse: 4.6974\n",
            "Epoch 52/200\n",
            "1/1 [==============================] - 0s 8ms/step - loss: 4.6602 - mse: 4.6602\n",
            "Epoch 53/200\n",
            "1/1 [==============================] - 0s 9ms/step - loss: 4.6318 - mse: 4.6318\n",
            "Epoch 54/200\n",
            "1/1 [==============================] - 0s 7ms/step - loss: 4.6057 - mse: 4.6057\n",
            "Epoch 55/200\n",
            "1/1 [==============================] - 0s 11ms/step - loss: 4.5737 - mse: 4.5737\n",
            "Epoch 56/200\n",
            "1/1 [==============================] - 0s 7ms/step - loss: 4.5367 - mse: 4.5367\n",
            "Epoch 57/200\n",
            "1/1 [==============================] - 0s 7ms/step - loss: 4.5022 - mse: 4.5022\n",
            "Epoch 58/200\n",
            "1/1 [==============================] - 0s 12ms/step - loss: 4.4733 - mse: 4.4733\n",
            "Epoch 59/200\n",
            "1/1 [==============================] - 0s 10ms/step - loss: 4.4455 - mse: 4.4455\n",
            "Epoch 60/200\n",
            "1/1 [==============================] - 0s 7ms/step - loss: 4.4138 - mse: 4.4138\n",
            "Epoch 61/200\n",
            "1/1 [==============================] - 0s 12ms/step - loss: 4.3794 - mse: 4.3794\n",
            "Epoch 62/200\n",
            "1/1 [==============================] - 0s 7ms/step - loss: 4.3470 - mse: 4.3470\n",
            "Epoch 63/200\n",
            "1/1 [==============================] - 0s 7ms/step - loss: 4.3181 - mse: 4.3181\n",
            "Epoch 64/200\n",
            "1/1 [==============================] - 0s 8ms/step - loss: 4.2893 - mse: 4.2893\n",
            "Epoch 65/200\n",
            "1/1 [==============================] - 0s 18ms/step - loss: 4.2579 - mse: 4.2579\n",
            "Epoch 66/200\n",
            "1/1 [==============================] - 0s 7ms/step - loss: 4.2253 - mse: 4.2253\n",
            "Epoch 67/200\n",
            "1/1 [==============================] - 0s 11ms/step - loss: 4.1947 - mse: 4.1947\n",
            "Epoch 68/200\n",
            "1/1 [==============================] - 0s 12ms/step - loss: 4.1659 - mse: 4.1659\n",
            "Epoch 69/200\n",
            "1/1 [==============================] - 0s 7ms/step - loss: 4.1366 - mse: 4.1366\n",
            "Epoch 70/200\n",
            "1/1 [==============================] - 0s 7ms/step - loss: 4.1056 - mse: 4.1056\n",
            "Epoch 71/200\n",
            "1/1 [==============================] - 0s 7ms/step - loss: 4.0746 - mse: 4.0746\n",
            "Epoch 72/200\n",
            "1/1 [==============================] - 0s 13ms/step - loss: 4.0452 - mse: 4.0452\n",
            "Epoch 73/200\n",
            "1/1 [==============================] - 0s 7ms/step - loss: 4.0165 - mse: 4.0165\n",
            "Epoch 74/200\n",
            "1/1 [==============================] - 0s 7ms/step - loss: 3.9870 - mse: 3.9870\n",
            "Epoch 75/200\n",
            "1/1 [==============================] - 0s 7ms/step - loss: 3.9567 - mse: 3.9567\n",
            "Epoch 76/200\n",
            "1/1 [==============================] - 0s 8ms/step - loss: 3.9270 - mse: 3.9270\n",
            "Epoch 77/200\n",
            "1/1 [==============================] - 0s 11ms/step - loss: 3.8983 - mse: 3.8983\n",
            "Epoch 78/200\n",
            "1/1 [==============================] - 0s 7ms/step - loss: 3.8697 - mse: 3.8697\n",
            "Epoch 79/200\n",
            "1/1 [==============================] - 0s 10ms/step - loss: 3.8404 - mse: 3.8404\n",
            "Epoch 80/200\n",
            "1/1 [==============================] - 0s 9ms/step - loss: 3.8110 - mse: 3.8110\n",
            "Epoch 81/200\n",
            "1/1 [==============================] - 0s 9ms/step - loss: 3.7823 - mse: 3.7823\n",
            "Epoch 82/200\n",
            "1/1 [==============================] - 0s 9ms/step - loss: 3.7541 - mse: 3.7541\n",
            "Epoch 83/200\n",
            "1/1 [==============================] - 0s 10ms/step - loss: 3.7255 - mse: 3.7255\n",
            "Epoch 84/200\n",
            "1/1 [==============================] - 0s 13ms/step - loss: 3.6967 - mse: 3.6967\n",
            "Epoch 85/200\n",
            "1/1 [==============================] - 0s 8ms/step - loss: 3.6683 - mse: 3.6683\n",
            "Epoch 86/200\n",
            "1/1 [==============================] - 0s 18ms/step - loss: 3.6403 - mse: 3.6403\n",
            "Epoch 87/200\n",
            "1/1 [==============================] - 0s 14ms/step - loss: 3.6123 - mse: 3.6123\n",
            "Epoch 88/200\n",
            "1/1 [==============================] - 0s 12ms/step - loss: 3.5841 - mse: 3.5841\n",
            "Epoch 89/200\n",
            "1/1 [==============================] - 0s 20ms/step - loss: 3.5560 - mse: 3.5560\n",
            "Epoch 90/200\n",
            "1/1 [==============================] - 0s 8ms/step - loss: 3.5283 - mse: 3.5283\n",
            "Epoch 91/200\n",
            "1/1 [==============================] - 0s 7ms/step - loss: 3.5007 - mse: 3.5007\n",
            "Epoch 92/200\n",
            "1/1 [==============================] - 0s 6ms/step - loss: 3.4731 - mse: 3.4731\n",
            "Epoch 93/200\n",
            "1/1 [==============================] - 0s 6ms/step - loss: 3.4455 - mse: 3.4455\n",
            "Epoch 94/200\n",
            "1/1 [==============================] - 0s 6ms/step - loss: 3.4181 - mse: 3.4181\n",
            "Epoch 95/200\n",
            "1/1 [==============================] - 0s 6ms/step - loss: 3.3909 - mse: 3.3909\n",
            "Epoch 96/200\n",
            "1/1 [==============================] - 0s 7ms/step - loss: 3.3637 - mse: 3.3637\n",
            "Epoch 97/200\n",
            "1/1 [==============================] - 0s 7ms/step - loss: 3.3365 - mse: 3.3365\n",
            "Epoch 98/200\n",
            "1/1 [==============================] - 0s 7ms/step - loss: 3.3095 - mse: 3.3095\n",
            "Epoch 99/200\n",
            "1/1 [==============================] - 0s 8ms/step - loss: 3.2827 - mse: 3.2827\n",
            "Epoch 100/200\n",
            "1/1 [==============================] - 0s 6ms/step - loss: 3.2560 - mse: 3.2560\n",
            "Epoch 101/200\n",
            "1/1 [==============================] - 0s 7ms/step - loss: 3.2292 - mse: 3.2292\n",
            "Epoch 102/200\n",
            "1/1 [==============================] - 0s 6ms/step - loss: 3.2026 - mse: 3.2026\n",
            "Epoch 103/200\n",
            "1/1 [==============================] - 0s 7ms/step - loss: 3.1762 - mse: 3.1762\n",
            "Epoch 104/200\n",
            "1/1 [==============================] - 0s 7ms/step - loss: 3.1498 - mse: 3.1498\n",
            "Epoch 105/200\n",
            "1/1 [==============================] - 0s 7ms/step - loss: 3.1235 - mse: 3.1235\n",
            "Epoch 106/200\n",
            "1/1 [==============================] - 0s 6ms/step - loss: 3.0973 - mse: 3.0973\n",
            "Epoch 107/200\n",
            "1/1 [==============================] - 0s 6ms/step - loss: 3.0713 - mse: 3.0713\n",
            "Epoch 108/200\n",
            "1/1 [==============================] - 0s 6ms/step - loss: 3.0453 - mse: 3.0453\n",
            "Epoch 109/200\n",
            "1/1 [==============================] - 0s 6ms/step - loss: 3.0194 - mse: 3.0194\n",
            "Epoch 110/200\n",
            "1/1 [==============================] - 0s 6ms/step - loss: 2.9936 - mse: 2.9936\n",
            "Epoch 111/200\n",
            "1/1 [==============================] - 0s 6ms/step - loss: 2.9680 - mse: 2.9680\n",
            "Epoch 112/200\n",
            "1/1 [==============================] - 0s 6ms/step - loss: 2.9424 - mse: 2.9424\n",
            "Epoch 113/200\n",
            "1/1 [==============================] - 0s 7ms/step - loss: 2.9169 - mse: 2.9169\n",
            "Epoch 114/200\n",
            "1/1 [==============================] - 0s 6ms/step - loss: 2.8915 - mse: 2.8915\n",
            "Epoch 115/200\n",
            "1/1 [==============================] - 0s 6ms/step - loss: 2.8662 - mse: 2.8662\n",
            "Epoch 116/200\n",
            "1/1 [==============================] - 0s 6ms/step - loss: 2.8410 - mse: 2.8410\n",
            "Epoch 117/200\n",
            "1/1 [==============================] - 0s 6ms/step - loss: 2.8160 - mse: 2.8160\n",
            "Epoch 118/200\n",
            "1/1 [==============================] - 0s 6ms/step - loss: 2.7910 - mse: 2.7910\n",
            "Epoch 119/200\n",
            "1/1 [==============================] - 0s 6ms/step - loss: 2.7661 - mse: 2.7661\n",
            "Epoch 120/200\n",
            "1/1 [==============================] - 0s 6ms/step - loss: 2.7413 - mse: 2.7413\n",
            "Epoch 121/200\n",
            "1/1 [==============================] - 0s 6ms/step - loss: 2.7166 - mse: 2.7166\n",
            "Epoch 122/200\n",
            "1/1 [==============================] - 0s 6ms/step - loss: 2.6920 - mse: 2.6920\n",
            "Epoch 123/200\n",
            "1/1 [==============================] - 0s 6ms/step - loss: 2.6675 - mse: 2.6675\n",
            "Epoch 124/200\n",
            "1/1 [==============================] - 0s 6ms/step - loss: 2.6431 - mse: 2.6431\n",
            "Epoch 125/200\n",
            "1/1 [==============================] - 0s 5ms/step - loss: 2.6188 - mse: 2.6188\n",
            "Epoch 126/200\n",
            "1/1 [==============================] - 0s 7ms/step - loss: 2.5946 - mse: 2.5946\n",
            "Epoch 127/200\n",
            "1/1 [==============================] - 0s 6ms/step - loss: 2.5705 - mse: 2.5705\n",
            "Epoch 128/200\n",
            "1/1 [==============================] - 0s 10ms/step - loss: 2.5464 - mse: 2.5464\n",
            "Epoch 129/200\n",
            "1/1 [==============================] - 0s 6ms/step - loss: 2.5225 - mse: 2.5225\n",
            "Epoch 130/200\n",
            "1/1 [==============================] - 0s 7ms/step - loss: 2.4987 - mse: 2.4987\n",
            "Epoch 131/200\n",
            "1/1 [==============================] - 0s 7ms/step - loss: 2.4750 - mse: 2.4750\n",
            "Epoch 132/200\n",
            "1/1 [==============================] - 0s 9ms/step - loss: 2.4514 - mse: 2.4514\n",
            "Epoch 133/200\n",
            "1/1 [==============================] - 0s 7ms/step - loss: 2.4279 - mse: 2.4279\n",
            "Epoch 134/200\n",
            "1/1 [==============================] - 0s 7ms/step - loss: 2.4044 - mse: 2.4044\n",
            "Epoch 135/200\n",
            "1/1 [==============================] - 0s 10ms/step - loss: 2.3811 - mse: 2.3811\n",
            "Epoch 136/200\n",
            "1/1 [==============================] - 0s 13ms/step - loss: 2.3579 - mse: 2.3579\n",
            "Epoch 137/200\n",
            "1/1 [==============================] - 0s 11ms/step - loss: 2.3347 - mse: 2.3347\n",
            "Epoch 138/200\n",
            "1/1 [==============================] - 0s 8ms/step - loss: 2.3117 - mse: 2.3117\n",
            "Epoch 139/200\n",
            "1/1 [==============================] - 0s 11ms/step - loss: 2.2888 - mse: 2.2888\n",
            "Epoch 140/200\n",
            "1/1 [==============================] - 0s 7ms/step - loss: 2.2660 - mse: 2.2660\n",
            "Epoch 141/200\n",
            "1/1 [==============================] - 0s 15ms/step - loss: 2.2432 - mse: 2.2432\n",
            "Epoch 142/200\n",
            "1/1 [==============================] - 0s 11ms/step - loss: 2.2206 - mse: 2.2206\n",
            "Epoch 143/200\n",
            "1/1 [==============================] - 0s 11ms/step - loss: 2.1981 - mse: 2.1981\n",
            "Epoch 144/200\n",
            "1/1 [==============================] - 0s 8ms/step - loss: 2.1756 - mse: 2.1756\n",
            "Epoch 145/200\n",
            "1/1 [==============================] - 0s 10ms/step - loss: 2.1533 - mse: 2.1533\n",
            "Epoch 146/200\n",
            "1/1 [==============================] - 0s 7ms/step - loss: 2.1311 - mse: 2.1311\n",
            "Epoch 147/200\n",
            "1/1 [==============================] - 0s 8ms/step - loss: 2.1089 - mse: 2.1089\n",
            "Epoch 148/200\n",
            "1/1 [==============================] - 0s 8ms/step - loss: 2.0869 - mse: 2.0869\n",
            "Epoch 149/200\n",
            "1/1 [==============================] - 0s 24ms/step - loss: 2.0650 - mse: 2.0650\n",
            "Epoch 150/200\n",
            "1/1 [==============================] - 0s 12ms/step - loss: 2.0431 - mse: 2.0431\n",
            "Epoch 151/200\n",
            "1/1 [==============================] - 0s 13ms/step - loss: 2.0214 - mse: 2.0214\n",
            "Epoch 152/200\n",
            "1/1 [==============================] - 0s 12ms/step - loss: 1.9998 - mse: 1.9998\n",
            "Epoch 153/200\n",
            "1/1 [==============================] - 0s 14ms/step - loss: 1.9783 - mse: 1.9783\n",
            "Epoch 154/200\n",
            "1/1 [==============================] - 0s 18ms/step - loss: 1.9569 - mse: 1.9569\n",
            "Epoch 155/200\n",
            "1/1 [==============================] - 0s 7ms/step - loss: 1.9355 - mse: 1.9355\n",
            "Epoch 156/200\n",
            "1/1 [==============================] - 0s 8ms/step - loss: 1.9143 - mse: 1.9143\n",
            "Epoch 157/200\n",
            "1/1 [==============================] - 0s 6ms/step - loss: 1.8932 - mse: 1.8932\n",
            "Epoch 158/200\n",
            "1/1 [==============================] - 0s 14ms/step - loss: 1.8722 - mse: 1.8722\n",
            "Epoch 159/200\n",
            "1/1 [==============================] - 0s 7ms/step - loss: 1.8513 - mse: 1.8513\n",
            "Epoch 160/200\n",
            "1/1 [==============================] - 0s 7ms/step - loss: 1.8305 - mse: 1.8305\n",
            "Epoch 161/200\n",
            "1/1 [==============================] - 0s 6ms/step - loss: 1.8098 - mse: 1.8098\n",
            "Epoch 162/200\n",
            "1/1 [==============================] - 0s 9ms/step - loss: 1.7893 - mse: 1.7893\n",
            "Epoch 163/200\n",
            "1/1 [==============================] - 0s 8ms/step - loss: 1.7688 - mse: 1.7688\n",
            "Epoch 164/200\n",
            "1/1 [==============================] - 0s 6ms/step - loss: 1.7484 - mse: 1.7484\n",
            "Epoch 165/200\n",
            "1/1 [==============================] - 0s 9ms/step - loss: 1.7281 - mse: 1.7281\n",
            "Epoch 166/200\n",
            "1/1 [==============================] - 0s 6ms/step - loss: 1.7080 - mse: 1.7080\n",
            "Epoch 167/200\n",
            "1/1 [==============================] - 0s 10ms/step - loss: 1.6880 - mse: 1.6880\n",
            "Epoch 168/200\n",
            "1/1 [==============================] - 0s 7ms/step - loss: 1.6680 - mse: 1.6680\n",
            "Epoch 169/200\n",
            "1/1 [==============================] - 0s 16ms/step - loss: 1.6482 - mse: 1.6482\n",
            "Epoch 170/200\n",
            "1/1 [==============================] - 0s 9ms/step - loss: 1.6285 - mse: 1.6285\n",
            "Epoch 171/200\n",
            "1/1 [==============================] - 0s 7ms/step - loss: 1.6089 - mse: 1.6089\n",
            "Epoch 172/200\n",
            "1/1 [==============================] - 0s 7ms/step - loss: 1.5894 - mse: 1.5894\n",
            "Epoch 173/200\n",
            "1/1 [==============================] - 0s 8ms/step - loss: 1.5700 - mse: 1.5700\n",
            "Epoch 174/200\n",
            "1/1 [==============================] - 0s 7ms/step - loss: 1.5507 - mse: 1.5507\n",
            "Epoch 175/200\n",
            "1/1 [==============================] - 0s 18ms/step - loss: 1.5316 - mse: 1.5316\n",
            "Epoch 176/200\n",
            "1/1 [==============================] - 0s 8ms/step - loss: 1.5125 - mse: 1.5125\n",
            "Epoch 177/200\n",
            "1/1 [==============================] - 0s 12ms/step - loss: 1.4936 - mse: 1.4936\n",
            "Epoch 178/200\n",
            "1/1 [==============================] - 0s 9ms/step - loss: 1.4748 - mse: 1.4748\n",
            "Epoch 179/200\n",
            "1/1 [==============================] - 0s 12ms/step - loss: 1.4560 - mse: 1.4560\n",
            "Epoch 180/200\n",
            "1/1 [==============================] - 0s 9ms/step - loss: 1.4375 - mse: 1.4375\n",
            "Epoch 181/200\n",
            "1/1 [==============================] - 0s 8ms/step - loss: 1.4190 - mse: 1.4190\n",
            "Epoch 182/200\n",
            "1/1 [==============================] - 0s 9ms/step - loss: 1.4006 - mse: 1.4006\n",
            "Epoch 183/200\n",
            "1/1 [==============================] - 0s 13ms/step - loss: 1.3824 - mse: 1.3824\n",
            "Epoch 184/200\n",
            "1/1 [==============================] - 0s 14ms/step - loss: 1.3642 - mse: 1.3642\n",
            "Epoch 185/200\n",
            "1/1 [==============================] - 0s 12ms/step - loss: 1.3462 - mse: 1.3462\n",
            "Epoch 186/200\n",
            "1/1 [==============================] - 0s 10ms/step - loss: 1.3283 - mse: 1.3283\n",
            "Epoch 187/200\n",
            "1/1 [==============================] - 0s 12ms/step - loss: 1.3106 - mse: 1.3106\n",
            "Epoch 188/200\n",
            "1/1 [==============================] - 0s 9ms/step - loss: 1.2929 - mse: 1.2929\n",
            "Epoch 189/200\n",
            "1/1 [==============================] - 0s 14ms/step - loss: 1.2754 - mse: 1.2754\n",
            "Epoch 190/200\n",
            "1/1 [==============================] - 0s 8ms/step - loss: 1.2580 - mse: 1.2580\n",
            "Epoch 191/200\n",
            "1/1 [==============================] - 0s 11ms/step - loss: 1.2407 - mse: 1.2407\n",
            "Epoch 192/200\n",
            "1/1 [==============================] - 0s 10ms/step - loss: 1.2235 - mse: 1.2235\n",
            "Epoch 193/200\n",
            "1/1 [==============================] - 0s 8ms/step - loss: 1.2065 - mse: 1.2065\n",
            "Epoch 194/200\n",
            "1/1 [==============================] - 0s 10ms/step - loss: 1.1895 - mse: 1.1895\n",
            "Epoch 195/200\n",
            "1/1 [==============================] - 0s 11ms/step - loss: 1.1727 - mse: 1.1727\n",
            "Epoch 196/200\n",
            "1/1 [==============================] - 0s 14ms/step - loss: 1.1561 - mse: 1.1561\n",
            "Epoch 197/200\n",
            "1/1 [==============================] - 0s 17ms/step - loss: 1.1395 - mse: 1.1395\n",
            "Epoch 198/200\n",
            "1/1 [==============================] - 0s 9ms/step - loss: 1.1231 - mse: 1.1231\n",
            "Epoch 199/200\n",
            "1/1 [==============================] - 0s 10ms/step - loss: 1.1068 - mse: 1.1068\n",
            "Epoch 200/200\n",
            "1/1 [==============================] - 0s 17ms/step - loss: 1.0906 - mse: 1.0906\n"
          ]
        },
        {
          "output_type": "execute_result",
          "data": {
            "text/plain": [
              "<keras.callbacks.History at 0x7f72ffdce110>"
            ]
          },
          "metadata": {},
          "execution_count": 29
        }
      ]
    },
    {
      "cell_type": "code",
      "source": [
        "np.squeeze(model2.predict(X_train))"
      ],
      "metadata": {
        "colab": {
          "base_uri": "https://localhost:8080/"
        },
        "id": "a2S8LkNhMyVR",
        "outputId": "aec5b269-4a7d-481c-c991-c2bd7a371792"
      },
      "execution_count": null,
      "outputs": [
        {
          "output_type": "execute_result",
          "data": {
            "text/plain": [
              "array([50.447304 , 12.447468 , 59.947258 , 15.614119 , 37.780697 ,\n",
              "       40.947346 ,  6.1141634, 44.114002 , 25.11408  , 56.780624 ,\n",
              "       31.44739  , 18.780777 , 53.613968 , 21.947426 ,  9.280815 ,\n",
              "       28.280733 ], dtype=float32)"
            ]
          },
          "metadata": {},
          "execution_count": 30
        }
      ]
    },
    {
      "cell_type": "code",
      "source": [
        "model2.evaluate(X_test,y_test)"
      ],
      "metadata": {
        "colab": {
          "base_uri": "https://localhost:8080/"
        },
        "id": "XHQMExQcgFyZ",
        "outputId": "f647fee5-58d5-4055-ab22-5bd65aa956cd"
      },
      "execution_count": null,
      "outputs": [
        {
          "output_type": "stream",
          "name": "stdout",
          "text": [
            "1/1 [==============================] - 0s 178ms/step - loss: 0.1139 - mse: 0.1139\n"
          ]
        },
        {
          "output_type": "execute_result",
          "data": {
            "text/plain": [
              "[0.11386279761791229, 0.11386279761791229]"
            ]
          },
          "metadata": {},
          "execution_count": 31
        }
      ]
    },
    {
      "cell_type": "code",
      "source": [
        "model2.save('mymodel')"
      ],
      "metadata": {
        "colab": {
          "base_uri": "https://localhost:8080/"
        },
        "id": "4gs9Is-ggRoY",
        "outputId": "0d0fccff-3410-408a-8198-137e247627ca"
      },
      "execution_count": null,
      "outputs": [
        {
          "output_type": "stream",
          "name": "stdout",
          "text": [
            "INFO:tensorflow:Assets written to: mymodel/assets\n"
          ]
        }
      ]
    },
    {
      "cell_type": "code",
      "source": [
        "model2.save('mymodel.h5')"
      ],
      "metadata": {
        "id": "y4cCHX-vnwCk"
      },
      "execution_count": null,
      "outputs": []
    },
    {
      "cell_type": "code",
      "source": [
        ""
      ],
      "metadata": {
        "id": "YAbiaJyjpN87"
      },
      "execution_count": null,
      "outputs": []
    },
    {
      "cell_type": "code",
      "source": [
        "loadedsavemodel = tf.keras.models.load_model('mymodel')"
      ],
      "metadata": {
        "id": "mDBa3_6Jpq-x"
      },
      "execution_count": null,
      "outputs": []
    },
    {
      "cell_type": "code",
      "source": [
        "loadedsavemodel.summary()"
      ],
      "metadata": {
        "colab": {
          "base_uri": "https://localhost:8080/"
        },
        "id": "EBjDZVXrqnrK",
        "outputId": "338a9d12-a67a-49a6-b064-8fa26deeda71"
      },
      "execution_count": null,
      "outputs": [
        {
          "output_type": "stream",
          "name": "stdout",
          "text": [
            "Model: \"sequential_2\"\n",
            "_________________________________________________________________\n",
            " Layer (type)                Output Shape              Param #   \n",
            "=================================================================\n",
            " dense_6 (Dense)             (None, 10)                20        \n",
            "                                                                 \n",
            " dense_7 (Dense)             (None, 10)                110       \n",
            "                                                                 \n",
            " dense_8 (Dense)             (None, 10)                110       \n",
            "                                                                 \n",
            " dense_9 (Dense)             (None, 1)                 11        \n",
            "                                                                 \n",
            "=================================================================\n",
            "Total params: 251\n",
            "Trainable params: 251\n",
            "Non-trainable params: 0\n",
            "_________________________________________________________________\n"
          ]
        }
      ]
    },
    {
      "cell_type": "code",
      "source": [
        "loadedh5model = tf.keras.models.load_model('mymodel.h5')"
      ],
      "metadata": {
        "id": "dBkHGiqEqtQ_"
      },
      "execution_count": null,
      "outputs": []
    },
    {
      "cell_type": "code",
      "source": [
        "loadedh5model.summary()"
      ],
      "metadata": {
        "id": "1z1Yn4kprPk_",
        "outputId": "f2c4addc-020f-42d7-bd0a-60831c2a1f74",
        "colab": {
          "base_uri": "https://localhost:8080/"
        }
      },
      "execution_count": null,
      "outputs": [
        {
          "output_type": "stream",
          "name": "stdout",
          "text": [
            "Model: \"sequential_2\"\n",
            "_________________________________________________________________\n",
            " Layer (type)                Output Shape              Param #   \n",
            "=================================================================\n",
            " dense_6 (Dense)             (None, 10)                20        \n",
            "                                                                 \n",
            " dense_7 (Dense)             (None, 10)                110       \n",
            "                                                                 \n",
            " dense_8 (Dense)             (None, 10)                110       \n",
            "                                                                 \n",
            " dense_9 (Dense)             (None, 1)                 11        \n",
            "                                                                 \n",
            "=================================================================\n",
            "Total params: 251\n",
            "Trainable params: 251\n",
            "Non-trainable params: 0\n",
            "_________________________________________________________________\n"
          ]
        }
      ]
    },
    {
      "cell_type": "code",
      "source": [
        "data = pd.read_csv('https://raw.githubusercontent.com/stedy/Machine-Learning-with-R-datasets/master/insurance.csv')"
      ],
      "metadata": {
        "id": "s7LlFkFPrTlo"
      },
      "execution_count": null,
      "outputs": []
    },
    {
      "cell_type": "code",
      "source": [
        "data"
      ],
      "metadata": {
        "colab": {
          "base_uri": "https://localhost:8080/",
          "height": 423
        },
        "id": "KZMrYa4W6RL1",
        "outputId": "a44bf398-080b-45cc-8713-ee4d5f329c00"
      },
      "execution_count": null,
      "outputs": [
        {
          "output_type": "execute_result",
          "data": {
            "text/html": [
              "\n",
              "  <div id=\"df-97a0dd7f-1e4a-4fd5-bea6-04c2d8dc8090\">\n",
              "    <div class=\"colab-df-container\">\n",
              "      <div>\n",
              "<style scoped>\n",
              "    .dataframe tbody tr th:only-of-type {\n",
              "        vertical-align: middle;\n",
              "    }\n",
              "\n",
              "    .dataframe tbody tr th {\n",
              "        vertical-align: top;\n",
              "    }\n",
              "\n",
              "    .dataframe thead th {\n",
              "        text-align: right;\n",
              "    }\n",
              "</style>\n",
              "<table border=\"1\" class=\"dataframe\">\n",
              "  <thead>\n",
              "    <tr style=\"text-align: right;\">\n",
              "      <th></th>\n",
              "      <th>age</th>\n",
              "      <th>sex</th>\n",
              "      <th>bmi</th>\n",
              "      <th>children</th>\n",
              "      <th>smoker</th>\n",
              "      <th>region</th>\n",
              "      <th>charges</th>\n",
              "    </tr>\n",
              "  </thead>\n",
              "  <tbody>\n",
              "    <tr>\n",
              "      <th>0</th>\n",
              "      <td>19</td>\n",
              "      <td>female</td>\n",
              "      <td>27.900</td>\n",
              "      <td>0</td>\n",
              "      <td>yes</td>\n",
              "      <td>southwest</td>\n",
              "      <td>16884.92400</td>\n",
              "    </tr>\n",
              "    <tr>\n",
              "      <th>1</th>\n",
              "      <td>18</td>\n",
              "      <td>male</td>\n",
              "      <td>33.770</td>\n",
              "      <td>1</td>\n",
              "      <td>no</td>\n",
              "      <td>southeast</td>\n",
              "      <td>1725.55230</td>\n",
              "    </tr>\n",
              "    <tr>\n",
              "      <th>2</th>\n",
              "      <td>28</td>\n",
              "      <td>male</td>\n",
              "      <td>33.000</td>\n",
              "      <td>3</td>\n",
              "      <td>no</td>\n",
              "      <td>southeast</td>\n",
              "      <td>4449.46200</td>\n",
              "    </tr>\n",
              "    <tr>\n",
              "      <th>3</th>\n",
              "      <td>33</td>\n",
              "      <td>male</td>\n",
              "      <td>22.705</td>\n",
              "      <td>0</td>\n",
              "      <td>no</td>\n",
              "      <td>northwest</td>\n",
              "      <td>21984.47061</td>\n",
              "    </tr>\n",
              "    <tr>\n",
              "      <th>4</th>\n",
              "      <td>32</td>\n",
              "      <td>male</td>\n",
              "      <td>28.880</td>\n",
              "      <td>0</td>\n",
              "      <td>no</td>\n",
              "      <td>northwest</td>\n",
              "      <td>3866.85520</td>\n",
              "    </tr>\n",
              "    <tr>\n",
              "      <th>...</th>\n",
              "      <td>...</td>\n",
              "      <td>...</td>\n",
              "      <td>...</td>\n",
              "      <td>...</td>\n",
              "      <td>...</td>\n",
              "      <td>...</td>\n",
              "      <td>...</td>\n",
              "    </tr>\n",
              "    <tr>\n",
              "      <th>1333</th>\n",
              "      <td>50</td>\n",
              "      <td>male</td>\n",
              "      <td>30.970</td>\n",
              "      <td>3</td>\n",
              "      <td>no</td>\n",
              "      <td>northwest</td>\n",
              "      <td>10600.54830</td>\n",
              "    </tr>\n",
              "    <tr>\n",
              "      <th>1334</th>\n",
              "      <td>18</td>\n",
              "      <td>female</td>\n",
              "      <td>31.920</td>\n",
              "      <td>0</td>\n",
              "      <td>no</td>\n",
              "      <td>northeast</td>\n",
              "      <td>2205.98080</td>\n",
              "    </tr>\n",
              "    <tr>\n",
              "      <th>1335</th>\n",
              "      <td>18</td>\n",
              "      <td>female</td>\n",
              "      <td>36.850</td>\n",
              "      <td>0</td>\n",
              "      <td>no</td>\n",
              "      <td>southeast</td>\n",
              "      <td>1629.83350</td>\n",
              "    </tr>\n",
              "    <tr>\n",
              "      <th>1336</th>\n",
              "      <td>21</td>\n",
              "      <td>female</td>\n",
              "      <td>25.800</td>\n",
              "      <td>0</td>\n",
              "      <td>no</td>\n",
              "      <td>southwest</td>\n",
              "      <td>2007.94500</td>\n",
              "    </tr>\n",
              "    <tr>\n",
              "      <th>1337</th>\n",
              "      <td>61</td>\n",
              "      <td>female</td>\n",
              "      <td>29.070</td>\n",
              "      <td>0</td>\n",
              "      <td>yes</td>\n",
              "      <td>northwest</td>\n",
              "      <td>29141.36030</td>\n",
              "    </tr>\n",
              "  </tbody>\n",
              "</table>\n",
              "<p>1338 rows × 7 columns</p>\n",
              "</div>\n",
              "      <button class=\"colab-df-convert\" onclick=\"convertToInteractive('df-97a0dd7f-1e4a-4fd5-bea6-04c2d8dc8090')\"\n",
              "              title=\"Convert this dataframe to an interactive table.\"\n",
              "              style=\"display:none;\">\n",
              "        \n",
              "  <svg xmlns=\"http://www.w3.org/2000/svg\" height=\"24px\"viewBox=\"0 0 24 24\"\n",
              "       width=\"24px\">\n",
              "    <path d=\"M0 0h24v24H0V0z\" fill=\"none\"/>\n",
              "    <path d=\"M18.56 5.44l.94 2.06.94-2.06 2.06-.94-2.06-.94-.94-2.06-.94 2.06-2.06.94zm-11 1L8.5 8.5l.94-2.06 2.06-.94-2.06-.94L8.5 2.5l-.94 2.06-2.06.94zm10 10l.94 2.06.94-2.06 2.06-.94-2.06-.94-.94-2.06-.94 2.06-2.06.94z\"/><path d=\"M17.41 7.96l-1.37-1.37c-.4-.4-.92-.59-1.43-.59-.52 0-1.04.2-1.43.59L10.3 9.45l-7.72 7.72c-.78.78-.78 2.05 0 2.83L4 21.41c.39.39.9.59 1.41.59.51 0 1.02-.2 1.41-.59l7.78-7.78 2.81-2.81c.8-.78.8-2.07 0-2.86zM5.41 20L4 18.59l7.72-7.72 1.47 1.35L5.41 20z\"/>\n",
              "  </svg>\n",
              "      </button>\n",
              "      \n",
              "  <style>\n",
              "    .colab-df-container {\n",
              "      display:flex;\n",
              "      flex-wrap:wrap;\n",
              "      gap: 12px;\n",
              "    }\n",
              "\n",
              "    .colab-df-convert {\n",
              "      background-color: #E8F0FE;\n",
              "      border: none;\n",
              "      border-radius: 50%;\n",
              "      cursor: pointer;\n",
              "      display: none;\n",
              "      fill: #1967D2;\n",
              "      height: 32px;\n",
              "      padding: 0 0 0 0;\n",
              "      width: 32px;\n",
              "    }\n",
              "\n",
              "    .colab-df-convert:hover {\n",
              "      background-color: #E2EBFA;\n",
              "      box-shadow: 0px 1px 2px rgba(60, 64, 67, 0.3), 0px 1px 3px 1px rgba(60, 64, 67, 0.15);\n",
              "      fill: #174EA6;\n",
              "    }\n",
              "\n",
              "    [theme=dark] .colab-df-convert {\n",
              "      background-color: #3B4455;\n",
              "      fill: #D2E3FC;\n",
              "    }\n",
              "\n",
              "    [theme=dark] .colab-df-convert:hover {\n",
              "      background-color: #434B5C;\n",
              "      box-shadow: 0px 1px 3px 1px rgba(0, 0, 0, 0.15);\n",
              "      filter: drop-shadow(0px 1px 2px rgba(0, 0, 0, 0.3));\n",
              "      fill: #FFFFFF;\n",
              "    }\n",
              "  </style>\n",
              "\n",
              "      <script>\n",
              "        const buttonEl =\n",
              "          document.querySelector('#df-97a0dd7f-1e4a-4fd5-bea6-04c2d8dc8090 button.colab-df-convert');\n",
              "        buttonEl.style.display =\n",
              "          google.colab.kernel.accessAllowed ? 'block' : 'none';\n",
              "\n",
              "        async function convertToInteractive(key) {\n",
              "          const element = document.querySelector('#df-97a0dd7f-1e4a-4fd5-bea6-04c2d8dc8090');\n",
              "          const dataTable =\n",
              "            await google.colab.kernel.invokeFunction('convertToInteractive',\n",
              "                                                     [key], {});\n",
              "          if (!dataTable) return;\n",
              "\n",
              "          const docLinkHtml = 'Like what you see? Visit the ' +\n",
              "            '<a target=\"_blank\" href=https://colab.research.google.com/notebooks/data_table.ipynb>data table notebook</a>'\n",
              "            + ' to learn more about interactive tables.';\n",
              "          element.innerHTML = '';\n",
              "          dataTable['output_type'] = 'display_data';\n",
              "          await google.colab.output.renderOutput(dataTable, element);\n",
              "          const docLink = document.createElement('div');\n",
              "          docLink.innerHTML = docLinkHtml;\n",
              "          element.appendChild(docLink);\n",
              "        }\n",
              "      </script>\n",
              "    </div>\n",
              "  </div>\n",
              "  "
            ],
            "text/plain": [
              "      age     sex     bmi  children smoker     region      charges\n",
              "0      19  female  27.900         0    yes  southwest  16884.92400\n",
              "1      18    male  33.770         1     no  southeast   1725.55230\n",
              "2      28    male  33.000         3     no  southeast   4449.46200\n",
              "3      33    male  22.705         0     no  northwest  21984.47061\n",
              "4      32    male  28.880         0     no  northwest   3866.85520\n",
              "...   ...     ...     ...       ...    ...        ...          ...\n",
              "1333   50    male  30.970         3     no  northwest  10600.54830\n",
              "1334   18  female  31.920         0     no  northeast   2205.98080\n",
              "1335   18  female  36.850         0     no  southeast   1629.83350\n",
              "1336   21  female  25.800         0     no  southwest   2007.94500\n",
              "1337   61  female  29.070         0    yes  northwest  29141.36030\n",
              "\n",
              "[1338 rows x 7 columns]"
            ]
          },
          "metadata": {},
          "execution_count": 118
        }
      ]
    },
    {
      "cell_type": "code",
      "source": [
        "data.sex.unique()"
      ],
      "metadata": {
        "colab": {
          "base_uri": "https://localhost:8080/"
        },
        "id": "1-Thg8696V1b",
        "outputId": "21756185-ef8c-45e4-e2dc-e0a46dce85aa"
      },
      "execution_count": null,
      "outputs": [
        {
          "output_type": "execute_result",
          "data": {
            "text/plain": [
              "array(['female', 'male'], dtype=object)"
            ]
          },
          "metadata": {},
          "execution_count": 119
        }
      ]
    },
    {
      "cell_type": "code",
      "source": [
        "data['sex'] = data['sex'].map({'female':1 , 'male':0})"
      ],
      "metadata": {
        "id": "a0vsXj0L8iq3"
      },
      "execution_count": null,
      "outputs": []
    },
    {
      "cell_type": "code",
      "source": [
        "data.region.unique()"
      ],
      "metadata": {
        "colab": {
          "base_uri": "https://localhost:8080/"
        },
        "id": "8l_UTv2Z6xpF",
        "outputId": "9694c920-887f-4144-da38-6441bb873dbb"
      },
      "execution_count": null,
      "outputs": [
        {
          "output_type": "execute_result",
          "data": {
            "text/plain": [
              "array(['southwest', 'southeast', 'northwest', 'northeast'], dtype=object)"
            ]
          },
          "metadata": {},
          "execution_count": 121
        }
      ]
    },
    {
      "cell_type": "code",
      "source": [
        "data['region'] = data['region'].map({'southwest':0, 'southeast':1, 'northwest':2, 'northeast':3})"
      ],
      "metadata": {
        "id": "cjqPdZyA8pf9"
      },
      "execution_count": null,
      "outputs": []
    },
    {
      "cell_type": "code",
      "source": [
        "data.smoker.unique()"
      ],
      "metadata": {
        "colab": {
          "base_uri": "https://localhost:8080/"
        },
        "id": "n5prMfjo7t0l",
        "outputId": "9eff1a83-38c0-4d8f-87ee-5b754e05ba63"
      },
      "execution_count": null,
      "outputs": [
        {
          "output_type": "execute_result",
          "data": {
            "text/plain": [
              "array(['yes', 'no'], dtype=object)"
            ]
          },
          "metadata": {},
          "execution_count": 123
        }
      ]
    },
    {
      "cell_type": "code",
      "source": [
        "data['smoker'] = data['smoker'].map({'yes':1 , 'no':0})"
      ],
      "metadata": {
        "id": "W782TkO58p_v"
      },
      "execution_count": null,
      "outputs": []
    },
    {
      "cell_type": "code",
      "source": [
        "data"
      ],
      "metadata": {
        "colab": {
          "base_uri": "https://localhost:8080/",
          "height": 423
        },
        "id": "kf9g4Bdv7w9t",
        "outputId": "0671a3e5-8214-4d58-9667-efc76b2d067a"
      },
      "execution_count": null,
      "outputs": [
        {
          "output_type": "execute_result",
          "data": {
            "text/html": [
              "\n",
              "  <div id=\"df-797461fc-2e5a-49bd-af22-a36fd8702722\">\n",
              "    <div class=\"colab-df-container\">\n",
              "      <div>\n",
              "<style scoped>\n",
              "    .dataframe tbody tr th:only-of-type {\n",
              "        vertical-align: middle;\n",
              "    }\n",
              "\n",
              "    .dataframe tbody tr th {\n",
              "        vertical-align: top;\n",
              "    }\n",
              "\n",
              "    .dataframe thead th {\n",
              "        text-align: right;\n",
              "    }\n",
              "</style>\n",
              "<table border=\"1\" class=\"dataframe\">\n",
              "  <thead>\n",
              "    <tr style=\"text-align: right;\">\n",
              "      <th></th>\n",
              "      <th>age</th>\n",
              "      <th>sex</th>\n",
              "      <th>bmi</th>\n",
              "      <th>children</th>\n",
              "      <th>smoker</th>\n",
              "      <th>region</th>\n",
              "      <th>charges</th>\n",
              "    </tr>\n",
              "  </thead>\n",
              "  <tbody>\n",
              "    <tr>\n",
              "      <th>0</th>\n",
              "      <td>19</td>\n",
              "      <td>1</td>\n",
              "      <td>27.900</td>\n",
              "      <td>0</td>\n",
              "      <td>1</td>\n",
              "      <td>0</td>\n",
              "      <td>16884.92400</td>\n",
              "    </tr>\n",
              "    <tr>\n",
              "      <th>1</th>\n",
              "      <td>18</td>\n",
              "      <td>0</td>\n",
              "      <td>33.770</td>\n",
              "      <td>1</td>\n",
              "      <td>0</td>\n",
              "      <td>1</td>\n",
              "      <td>1725.55230</td>\n",
              "    </tr>\n",
              "    <tr>\n",
              "      <th>2</th>\n",
              "      <td>28</td>\n",
              "      <td>0</td>\n",
              "      <td>33.000</td>\n",
              "      <td>3</td>\n",
              "      <td>0</td>\n",
              "      <td>1</td>\n",
              "      <td>4449.46200</td>\n",
              "    </tr>\n",
              "    <tr>\n",
              "      <th>3</th>\n",
              "      <td>33</td>\n",
              "      <td>0</td>\n",
              "      <td>22.705</td>\n",
              "      <td>0</td>\n",
              "      <td>0</td>\n",
              "      <td>2</td>\n",
              "      <td>21984.47061</td>\n",
              "    </tr>\n",
              "    <tr>\n",
              "      <th>4</th>\n",
              "      <td>32</td>\n",
              "      <td>0</td>\n",
              "      <td>28.880</td>\n",
              "      <td>0</td>\n",
              "      <td>0</td>\n",
              "      <td>2</td>\n",
              "      <td>3866.85520</td>\n",
              "    </tr>\n",
              "    <tr>\n",
              "      <th>...</th>\n",
              "      <td>...</td>\n",
              "      <td>...</td>\n",
              "      <td>...</td>\n",
              "      <td>...</td>\n",
              "      <td>...</td>\n",
              "      <td>...</td>\n",
              "      <td>...</td>\n",
              "    </tr>\n",
              "    <tr>\n",
              "      <th>1333</th>\n",
              "      <td>50</td>\n",
              "      <td>0</td>\n",
              "      <td>30.970</td>\n",
              "      <td>3</td>\n",
              "      <td>0</td>\n",
              "      <td>2</td>\n",
              "      <td>10600.54830</td>\n",
              "    </tr>\n",
              "    <tr>\n",
              "      <th>1334</th>\n",
              "      <td>18</td>\n",
              "      <td>1</td>\n",
              "      <td>31.920</td>\n",
              "      <td>0</td>\n",
              "      <td>0</td>\n",
              "      <td>3</td>\n",
              "      <td>2205.98080</td>\n",
              "    </tr>\n",
              "    <tr>\n",
              "      <th>1335</th>\n",
              "      <td>18</td>\n",
              "      <td>1</td>\n",
              "      <td>36.850</td>\n",
              "      <td>0</td>\n",
              "      <td>0</td>\n",
              "      <td>1</td>\n",
              "      <td>1629.83350</td>\n",
              "    </tr>\n",
              "    <tr>\n",
              "      <th>1336</th>\n",
              "      <td>21</td>\n",
              "      <td>1</td>\n",
              "      <td>25.800</td>\n",
              "      <td>0</td>\n",
              "      <td>0</td>\n",
              "      <td>0</td>\n",
              "      <td>2007.94500</td>\n",
              "    </tr>\n",
              "    <tr>\n",
              "      <th>1337</th>\n",
              "      <td>61</td>\n",
              "      <td>1</td>\n",
              "      <td>29.070</td>\n",
              "      <td>0</td>\n",
              "      <td>1</td>\n",
              "      <td>2</td>\n",
              "      <td>29141.36030</td>\n",
              "    </tr>\n",
              "  </tbody>\n",
              "</table>\n",
              "<p>1338 rows × 7 columns</p>\n",
              "</div>\n",
              "      <button class=\"colab-df-convert\" onclick=\"convertToInteractive('df-797461fc-2e5a-49bd-af22-a36fd8702722')\"\n",
              "              title=\"Convert this dataframe to an interactive table.\"\n",
              "              style=\"display:none;\">\n",
              "        \n",
              "  <svg xmlns=\"http://www.w3.org/2000/svg\" height=\"24px\"viewBox=\"0 0 24 24\"\n",
              "       width=\"24px\">\n",
              "    <path d=\"M0 0h24v24H0V0z\" fill=\"none\"/>\n",
              "    <path d=\"M18.56 5.44l.94 2.06.94-2.06 2.06-.94-2.06-.94-.94-2.06-.94 2.06-2.06.94zm-11 1L8.5 8.5l.94-2.06 2.06-.94-2.06-.94L8.5 2.5l-.94 2.06-2.06.94zm10 10l.94 2.06.94-2.06 2.06-.94-2.06-.94-.94-2.06-.94 2.06-2.06.94z\"/><path d=\"M17.41 7.96l-1.37-1.37c-.4-.4-.92-.59-1.43-.59-.52 0-1.04.2-1.43.59L10.3 9.45l-7.72 7.72c-.78.78-.78 2.05 0 2.83L4 21.41c.39.39.9.59 1.41.59.51 0 1.02-.2 1.41-.59l7.78-7.78 2.81-2.81c.8-.78.8-2.07 0-2.86zM5.41 20L4 18.59l7.72-7.72 1.47 1.35L5.41 20z\"/>\n",
              "  </svg>\n",
              "      </button>\n",
              "      \n",
              "  <style>\n",
              "    .colab-df-container {\n",
              "      display:flex;\n",
              "      flex-wrap:wrap;\n",
              "      gap: 12px;\n",
              "    }\n",
              "\n",
              "    .colab-df-convert {\n",
              "      background-color: #E8F0FE;\n",
              "      border: none;\n",
              "      border-radius: 50%;\n",
              "      cursor: pointer;\n",
              "      display: none;\n",
              "      fill: #1967D2;\n",
              "      height: 32px;\n",
              "      padding: 0 0 0 0;\n",
              "      width: 32px;\n",
              "    }\n",
              "\n",
              "    .colab-df-convert:hover {\n",
              "      background-color: #E2EBFA;\n",
              "      box-shadow: 0px 1px 2px rgba(60, 64, 67, 0.3), 0px 1px 3px 1px rgba(60, 64, 67, 0.15);\n",
              "      fill: #174EA6;\n",
              "    }\n",
              "\n",
              "    [theme=dark] .colab-df-convert {\n",
              "      background-color: #3B4455;\n",
              "      fill: #D2E3FC;\n",
              "    }\n",
              "\n",
              "    [theme=dark] .colab-df-convert:hover {\n",
              "      background-color: #434B5C;\n",
              "      box-shadow: 0px 1px 3px 1px rgba(0, 0, 0, 0.15);\n",
              "      filter: drop-shadow(0px 1px 2px rgba(0, 0, 0, 0.3));\n",
              "      fill: #FFFFFF;\n",
              "    }\n",
              "  </style>\n",
              "\n",
              "      <script>\n",
              "        const buttonEl =\n",
              "          document.querySelector('#df-797461fc-2e5a-49bd-af22-a36fd8702722 button.colab-df-convert');\n",
              "        buttonEl.style.display =\n",
              "          google.colab.kernel.accessAllowed ? 'block' : 'none';\n",
              "\n",
              "        async function convertToInteractive(key) {\n",
              "          const element = document.querySelector('#df-797461fc-2e5a-49bd-af22-a36fd8702722');\n",
              "          const dataTable =\n",
              "            await google.colab.kernel.invokeFunction('convertToInteractive',\n",
              "                                                     [key], {});\n",
              "          if (!dataTable) return;\n",
              "\n",
              "          const docLinkHtml = 'Like what you see? Visit the ' +\n",
              "            '<a target=\"_blank\" href=https://colab.research.google.com/notebooks/data_table.ipynb>data table notebook</a>'\n",
              "            + ' to learn more about interactive tables.';\n",
              "          element.innerHTML = '';\n",
              "          dataTable['output_type'] = 'display_data';\n",
              "          await google.colab.output.renderOutput(dataTable, element);\n",
              "          const docLink = document.createElement('div');\n",
              "          docLink.innerHTML = docLinkHtml;\n",
              "          element.appendChild(docLink);\n",
              "        }\n",
              "      </script>\n",
              "    </div>\n",
              "  </div>\n",
              "  "
            ],
            "text/plain": [
              "      age  sex     bmi  children  smoker  region      charges\n",
              "0      19    1  27.900         0       1       0  16884.92400\n",
              "1      18    0  33.770         1       0       1   1725.55230\n",
              "2      28    0  33.000         3       0       1   4449.46200\n",
              "3      33    0  22.705         0       0       2  21984.47061\n",
              "4      32    0  28.880         0       0       2   3866.85520\n",
              "...   ...  ...     ...       ...     ...     ...          ...\n",
              "1333   50    0  30.970         3       0       2  10600.54830\n",
              "1334   18    1  31.920         0       0       3   2205.98080\n",
              "1335   18    1  36.850         0       0       1   1629.83350\n",
              "1336   21    1  25.800         0       0       0   2007.94500\n",
              "1337   61    1  29.070         0       1       2  29141.36030\n",
              "\n",
              "[1338 rows x 7 columns]"
            ]
          },
          "metadata": {},
          "execution_count": 125
        }
      ]
    },
    {
      "cell_type": "code",
      "source": [
        "# for i in ['age','bmi']:\n",
        "#   data[i] = stats.zscore(data[i])\n",
        "\n",
        "# data"
      ],
      "metadata": {
        "id": "kI-kqJVj_1Og"
      },
      "execution_count": null,
      "outputs": []
    },
    {
      "cell_type": "code",
      "source": [
        "X = data.iloc[:,:-1]\n",
        "y = data.iloc[:,-1]"
      ],
      "metadata": {
        "id": "sVGiYny8-Do1"
      },
      "execution_count": null,
      "outputs": []
    },
    {
      "cell_type": "code",
      "source": [
        "X_train, X_test, y_train, y_test = train_test_split(X, y, test_size=0.2) "
      ],
      "metadata": {
        "id": "Q-MuS-GL98yp"
      },
      "execution_count": null,
      "outputs": []
    },
    {
      "cell_type": "code",
      "source": [
        "# X_trainT = tf.constant(X_train)\n",
        "# X_testT = tf.constant(X_test)\n",
        "# y_trainT = tf.constant(y_train)\n",
        "# y_testT = tf.constant(y_test)"
      ],
      "metadata": {
        "id": "NcaNyB309wf2"
      },
      "execution_count": null,
      "outputs": []
    },
    {
      "cell_type": "code",
      "source": [
        "regmodel = tf.keras.Sequential([\n",
        "                             tf.keras.layers.Dense(128,activation='relu'),\n",
        "                             tf.keras.layers.Dense(256,activation='relu'),\n",
        "                             tf.keras.layers.Dense(128,activation='relu'),\n",
        "                             tf.keras.layers.Dense(1)\n",
        "])\n",
        "\n",
        "regmodel.compile(loss = tf.keras.losses.mae,\n",
        "              optimizer = tf.keras.optimizers.Adam(learning_rate = 0.001),\n",
        "              metrics= ['mae'])\n",
        "\n",
        "history = regmodel.fit(X_train, y_train, epochs = 100,verbose=0)"
      ],
      "metadata": {
        "id": "neKn4__l86eF"
      },
      "execution_count": null,
      "outputs": []
    },
    {
      "cell_type": "code",
      "source": [
        "regmodel.summary()"
      ],
      "metadata": {
        "colab": {
          "base_uri": "https://localhost:8080/"
        },
        "id": "sZIycPiv-8_f",
        "outputId": "92ec53dc-95a8-4e86-b23e-a70b5bef6d78"
      },
      "execution_count": null,
      "outputs": [
        {
          "output_type": "stream",
          "name": "stdout",
          "text": [
            "Model: \"sequential_6\"\n",
            "_________________________________________________________________\n",
            " Layer (type)                Output Shape              Param #   \n",
            "=================================================================\n",
            " dense_24 (Dense)            (None, 128)               896       \n",
            "                                                                 \n",
            " dense_25 (Dense)            (None, 256)               33024     \n",
            "                                                                 \n",
            " dense_26 (Dense)            (None, 128)               32896     \n",
            "                                                                 \n",
            " dense_27 (Dense)            (None, 1)                 129       \n",
            "                                                                 \n",
            "=================================================================\n",
            "Total params: 66,945\n",
            "Trainable params: 66,945\n",
            "Non-trainable params: 0\n",
            "_________________________________________________________________\n"
          ]
        }
      ]
    },
    {
      "cell_type": "code",
      "source": [
        "regmodel.evaluate(X_train,y_train)"
      ],
      "metadata": {
        "colab": {
          "base_uri": "https://localhost:8080/"
        },
        "id": "c3fUNuaYDnvK",
        "outputId": "a6dad034-be03-4f0d-c197-bfa5a29a7491"
      },
      "execution_count": null,
      "outputs": [
        {
          "output_type": "stream",
          "name": "stdout",
          "text": [
            "34/34 [==============================] - 0s 4ms/step - loss: 3079.5310 - mae: 3079.5310\n"
          ]
        },
        {
          "output_type": "execute_result",
          "data": {
            "text/plain": [
              "[3079.531005859375, 3079.531005859375]"
            ]
          },
          "metadata": {},
          "execution_count": 132
        }
      ]
    },
    {
      "cell_type": "code",
      "source": [
        "regmodel.evaluate(X_test,y_test)"
      ],
      "metadata": {
        "colab": {
          "base_uri": "https://localhost:8080/"
        },
        "id": "KAao1YxDGk9s",
        "outputId": "2c27884c-0505-4ab8-bf59-344545a01cf5"
      },
      "execution_count": null,
      "outputs": [
        {
          "output_type": "stream",
          "name": "stdout",
          "text": [
            "9/9 [==============================] - 0s 4ms/step - loss: 2916.0037 - mae: 2916.0037\n"
          ]
        },
        {
          "output_type": "execute_result",
          "data": {
            "text/plain": [
              "[2916.003662109375, 2916.003662109375]"
            ]
          },
          "metadata": {},
          "execution_count": 133
        }
      ]
    },
    {
      "cell_type": "code",
      "source": [
        ""
      ],
      "metadata": {
        "id": "IP4AHP70_GPB"
      },
      "execution_count": null,
      "outputs": []
    },
    {
      "cell_type": "code",
      "source": [
        "y_test_pred = regmodel.predict(X_test)\n",
        "y_train_pred = regmodel.predict(X_train)"
      ],
      "metadata": {
        "id": "KgkU_iHXHbck"
      },
      "execution_count": null,
      "outputs": []
    },
    {
      "cell_type": "code",
      "source": [
        "y_train.to_numpy()"
      ],
      "metadata": {
        "colab": {
          "base_uri": "https://localhost:8080/"
        },
        "id": "MUHvRsbEITDO",
        "outputId": "b7d34324-90de-4fc0-b6f9-26f720f2ada5"
      },
      "execution_count": null,
      "outputs": [
        {
          "output_type": "execute_result",
          "data": {
            "text/plain": [
              "array([18767.7377 ,  1708.92575,  2007.945  , ..., 17904.52705,\n",
              "       12890.05765,  9193.8385 ])"
            ]
          },
          "metadata": {},
          "execution_count": 135
        }
      ]
    },
    {
      "cell_type": "code",
      "source": [
        "np.corrcoef(y_train_pred.squeeze(),y_train.to_numpy())[0][1]"
      ],
      "metadata": {
        "colab": {
          "base_uri": "https://localhost:8080/"
        },
        "id": "qpsA_z6rIADV",
        "outputId": "6aeead1b-7b3b-48e3-a58f-f84a65008974"
      },
      "execution_count": null,
      "outputs": [
        {
          "output_type": "execute_result",
          "data": {
            "text/plain": [
              "0.8637755890140719"
            ]
          },
          "metadata": {},
          "execution_count": 136
        }
      ]
    },
    {
      "cell_type": "code",
      "source": [
        "plt.scatter(y_train_pred,y_train)"
      ],
      "metadata": {
        "colab": {
          "base_uri": "https://localhost:8080/",
          "height": 369
        },
        "id": "5p08m77WH5kq",
        "outputId": "9130618d-f7d5-459f-92aa-05e24269185d"
      },
      "execution_count": null,
      "outputs": [
        {
          "output_type": "execute_result",
          "data": {
            "text/plain": [
              "<matplotlib.collections.PathCollection at 0x7f15d1000dd0>"
            ]
          },
          "metadata": {},
          "execution_count": 137
        },
        {
          "output_type": "display_data",
          "data": {
            "text/plain": [
              "<Figure size 432x288 with 1 Axes>"
            ],
            "image/svg+xml": "<?xml version=\"1.0\" encoding=\"utf-8\" standalone=\"no\"?>\n<!DOCTYPE svg PUBLIC \"-//W3C//DTD SVG 1.1//EN\"\n  \"http://www.w3.org/Graphics/SVG/1.1/DTD/svg11.dtd\">\n<!-- Created with matplotlib (https://matplotlib.org/) -->\n<svg height=\"248.518125pt\" version=\"1.1\" viewBox=\"0 0 388.0125 248.518125\" width=\"388.0125pt\" xmlns=\"http://www.w3.org/2000/svg\" xmlns:xlink=\"http://www.w3.org/1999/xlink\">\n <defs>\n  <style type=\"text/css\">\n*{stroke-linecap:butt;stroke-linejoin:round;}\n  </style>\n </defs>\n <g id=\"figure_1\">\n  <g id=\"patch_1\">\n   <path d=\"M 0 248.518125 \nL 388.0125 248.518125 \nL 388.0125 0 \nL 0 0 \nz\n\" style=\"fill:none;\"/>\n  </g>\n  <g id=\"axes_1\">\n   <g id=\"patch_2\">\n    <path d=\"M 46.0125 224.64 \nL 380.8125 224.64 \nL 380.8125 7.2 \nL 46.0125 7.2 \nz\n\" style=\"fill:#ffffff;\"/>\n   </g>\n   <g id=\"PathCollection_1\">\n    <defs>\n     <path d=\"M 0 3 \nC 0.795609 3 1.55874 2.683901 2.12132 2.12132 \nC 2.683901 1.55874 3 0.795609 3 0 \nC 3 -0.795609 2.683901 -1.55874 2.12132 -2.12132 \nC 1.55874 -2.683901 0.795609 -3 0 -3 \nC -0.795609 -3 -1.55874 -2.683901 -2.12132 -2.12132 \nC -2.683901 -1.55874 -3 -0.795609 -3 0 \nC -3 0.795609 -2.683901 1.55874 -2.12132 2.12132 \nC -1.55874 2.683901 -0.795609 3 0 3 \nz\n\" id=\"m2468d9ad80\" style=\"stroke:#1f77b4;\"/>\n    </defs>\n    <g clip-path=\"url(#pc3f7244790)\">\n     <use style=\"fill:#1f77b4;stroke:#1f77b4;\" x=\"311.348535\" xlink:href=\"#m2468d9ad80\" y=\"158.012434\"/>\n     <use style=\"fill:#1f77b4;stroke:#1f77b4;\" x=\"67.124204\" xlink:href=\"#m2468d9ad80\" y=\"212.868577\"/>\n     <use style=\"fill:#1f77b4;stroke:#1f77b4;\" x=\"68.160809\" xlink:href=\"#m2468d9ad80\" y=\"211.907019\"/>\n     <use style=\"fill:#1f77b4;stroke:#1f77b4;\" x=\"124.254932\" xlink:href=\"#m2468d9ad80\" y=\"188.180836\"/>\n     <use style=\"fill:#1f77b4;stroke:#1f77b4;\" x=\"328.110782\" xlink:href=\"#m2468d9ad80\" y=\"94.83107\"/>\n     <use style=\"fill:#1f77b4;stroke:#1f77b4;\" x=\"115.05129\" xlink:href=\"#m2468d9ad80\" y=\"192.263116\"/>\n     <use style=\"fill:#1f77b4;stroke:#1f77b4;\" x=\"112.79275\" xlink:href=\"#m2468d9ad80\" y=\"193.467624\"/>\n     <use style=\"fill:#1f77b4;stroke:#1f77b4;\" x=\"81.465774\" xlink:href=\"#m2468d9ad80\" y=\"171.973954\"/>\n     <use style=\"fill:#1f77b4;stroke:#1f77b4;\" x=\"160.043492\" xlink:href=\"#m2468d9ad80\" y=\"169.581483\"/>\n     <use style=\"fill:#1f77b4;stroke:#1f77b4;\" x=\"329.654005\" xlink:href=\"#m2468d9ad80\" y=\"86.409945\"/>\n     <use style=\"fill:#1f77b4;stroke:#1f77b4;\" x=\"359.316459\" xlink:href=\"#m2468d9ad80\" y=\"64.241476\"/>\n     <use style=\"fill:#1f77b4;stroke:#1f77b4;\" x=\"331.194687\" xlink:href=\"#m2468d9ad80\" y=\"82.945203\"/>\n     <use style=\"fill:#1f77b4;stroke:#1f77b4;\" x=\"61.712522\" xlink:href=\"#m2468d9ad80\" y=\"214.756364\"/>\n     <use style=\"fill:#1f77b4;stroke:#1f77b4;\" x=\"137.904324\" xlink:href=\"#m2468d9ad80\" y=\"180.598929\"/>\n     <use style=\"fill:#1f77b4;stroke:#1f77b4;\" x=\"144.984713\" xlink:href=\"#m2468d9ad80\" y=\"176.720346\"/>\n     <use style=\"fill:#1f77b4;stroke:#1f77b4;\" x=\"122.102488\" xlink:href=\"#m2468d9ad80\" y=\"188.957739\"/>\n     <use style=\"fill:#1f77b4;stroke:#1f77b4;\" x=\"78.494867\" xlink:href=\"#m2468d9ad80\" y=\"140.995098\"/>\n     <use style=\"fill:#1f77b4;stroke:#1f77b4;\" x=\"149.311467\" xlink:href=\"#m2468d9ad80\" y=\"175.04582\"/>\n     <use style=\"fill:#1f77b4;stroke:#1f77b4;\" x=\"105.814826\" xlink:href=\"#m2468d9ad80\" y=\"196.30912\"/>\n     <use style=\"fill:#1f77b4;stroke:#1f77b4;\" x=\"77.381362\" xlink:href=\"#m2468d9ad80\" y=\"209.181731\"/>\n     <use style=\"fill:#1f77b4;stroke:#1f77b4;\" x=\"107.550853\" xlink:href=\"#m2468d9ad80\" y=\"196.498916\"/>\n     <use style=\"fill:#1f77b4;stroke:#1f77b4;\" x=\"80.701649\" xlink:href=\"#m2468d9ad80\" y=\"207.986505\"/>\n     <use style=\"fill:#1f77b4;stroke:#1f77b4;\" x=\"109.094941\" xlink:href=\"#m2468d9ad80\" y=\"194.499594\"/>\n     <use style=\"fill:#1f77b4;stroke:#1f77b4;\" x=\"338.948668\" xlink:href=\"#m2468d9ad80\" y=\"129.822983\"/>\n     <use style=\"fill:#1f77b4;stroke:#1f77b4;\" x=\"118.152661\" xlink:href=\"#m2468d9ad80\" y=\"191.214837\"/>\n     <use style=\"fill:#1f77b4;stroke:#1f77b4;\" x=\"151.667882\" xlink:href=\"#m2468d9ad80\" y=\"172.520241\"/>\n     <use style=\"fill:#1f77b4;stroke:#1f77b4;\" x=\"80.846905\" xlink:href=\"#m2468d9ad80\" y=\"207.455129\"/>\n     <use style=\"fill:#1f77b4;stroke:#1f77b4;\" x=\"147.470647\" xlink:href=\"#m2468d9ad80\" y=\"175.109113\"/>\n     <use style=\"fill:#1f77b4;stroke:#1f77b4;\" x=\"75.164197\" xlink:href=\"#m2468d9ad80\" y=\"210.110963\"/>\n     <use style=\"fill:#1f77b4;stroke:#1f77b4;\" x=\"89.289169\" xlink:href=\"#m2468d9ad80\" y=\"205.314269\"/>\n     <use style=\"fill:#1f77b4;stroke:#1f77b4;\" x=\"117.047518\" xlink:href=\"#m2468d9ad80\" y=\"190.902901\"/>\n     <use style=\"fill:#1f77b4;stroke:#1f77b4;\" x=\"108.076458\" xlink:href=\"#m2468d9ad80\" y=\"195.120157\"/>\n     <use style=\"fill:#1f77b4;stroke:#1f77b4;\" x=\"298.738732\" xlink:href=\"#m2468d9ad80\" y=\"159.481999\"/>\n     <use style=\"fill:#1f77b4;stroke:#1f77b4;\" x=\"336.470003\" xlink:href=\"#m2468d9ad80\" y=\"89.149649\"/>\n     <use style=\"fill:#1f77b4;stroke:#1f77b4;\" x=\"94.245232\" xlink:href=\"#m2468d9ad80\" y=\"181.940584\"/>\n     <use style=\"fill:#1f77b4;stroke:#1f77b4;\" x=\"323.086129\" xlink:href=\"#m2468d9ad80\" y=\"93.767053\"/>\n     <use style=\"fill:#1f77b4;stroke:#1f77b4;\" x=\"81.711977\" xlink:href=\"#m2468d9ad80\" y=\"134.694658\"/>\n     <use style=\"fill:#1f77b4;stroke:#1f77b4;\" x=\"333.151077\" xlink:href=\"#m2468d9ad80\" y=\"134.404027\"/>\n     <use style=\"fill:#1f77b4;stroke:#1f77b4;\" x=\"96.022226\" xlink:href=\"#m2468d9ad80\" y=\"203.077678\"/>\n     <use style=\"fill:#1f77b4;stroke:#1f77b4;\" x=\"73.999224\" xlink:href=\"#m2468d9ad80\" y=\"211.253633\"/>\n     <use style=\"fill:#1f77b4;stroke:#1f77b4;\" x=\"93.874108\" xlink:href=\"#m2468d9ad80\" y=\"202.639175\"/>\n     <use style=\"fill:#1f77b4;stroke:#1f77b4;\" x=\"94.315442\" xlink:href=\"#m2468d9ad80\" y=\"201.410208\"/>\n     <use style=\"fill:#1f77b4;stroke:#1f77b4;\" x=\"101.367628\" xlink:href=\"#m2468d9ad80\" y=\"200.004981\"/>\n     <use style=\"fill:#1f77b4;stroke:#1f77b4;\" x=\"150.021395\" xlink:href=\"#m2468d9ad80\" y=\"131.536724\"/>\n     <use style=\"fill:#1f77b4;stroke:#1f77b4;\" x=\"73.199306\" xlink:href=\"#m2468d9ad80\" y=\"211.125955\"/>\n     <use style=\"fill:#1f77b4;stroke:#1f77b4;\" x=\"319.492164\" xlink:href=\"#m2468d9ad80\" y=\"143.112237\"/>\n     <use style=\"fill:#1f77b4;stroke:#1f77b4;\" x=\"315.846822\" xlink:href=\"#m2468d9ad80\" y=\"101.962785\"/>\n     <use style=\"fill:#1f77b4;stroke:#1f77b4;\" x=\"100.735332\" xlink:href=\"#m2468d9ad80\" y=\"199.167101\"/>\n     <use style=\"fill:#1f77b4;stroke:#1f77b4;\" x=\"103.338859\" xlink:href=\"#m2468d9ad80\" y=\"197.233492\"/>\n     <use style=\"fill:#1f77b4;stroke:#1f77b4;\" x=\"338.211712\" xlink:href=\"#m2468d9ad80\" y=\"136.741949\"/>\n     <use style=\"fill:#1f77b4;stroke:#1f77b4;\" x=\"94.34994\" xlink:href=\"#m2468d9ad80\" y=\"201.424221\"/>\n     <use style=\"fill:#1f77b4;stroke:#1f77b4;\" x=\"128.475417\" xlink:href=\"#m2468d9ad80\" y=\"185.462475\"/>\n     <use style=\"fill:#1f77b4;stroke:#1f77b4;\" x=\"118.726513\" xlink:href=\"#m2468d9ad80\" y=\"190.704626\"/>\n     <use style=\"fill:#1f77b4;stroke:#1f77b4;\" x=\"116.311682\" xlink:href=\"#m2468d9ad80\" y=\"190.959716\"/>\n     <use style=\"fill:#1f77b4;stroke:#1f77b4;\" x=\"77.771319\" xlink:href=\"#m2468d9ad80\" y=\"207.498397\"/>\n     <use style=\"fill:#1f77b4;stroke:#1f77b4;\" x=\"121.539656\" xlink:href=\"#m2468d9ad80\" y=\"188.489614\"/>\n     <use style=\"fill:#1f77b4;stroke:#1f77b4;\" x=\"310.452144\" xlink:href=\"#m2468d9ad80\" y=\"154.95122\"/>\n     <use style=\"fill:#1f77b4;stroke:#1f77b4;\" x=\"82.133783\" xlink:href=\"#m2468d9ad80\" y=\"157.784229\"/>\n     <use style=\"fill:#1f77b4;stroke:#1f77b4;\" x=\"282.916156\" xlink:href=\"#m2468d9ad80\" y=\"153.511736\"/>\n     <use style=\"fill:#1f77b4;stroke:#1f77b4;\" x=\"312.973591\" xlink:href=\"#m2468d9ad80\" y=\"148.353722\"/>\n     <use style=\"fill:#1f77b4;stroke:#1f77b4;\" x=\"96.13517\" xlink:href=\"#m2468d9ad80\" y=\"200.3066\"/>\n     <use style=\"fill:#1f77b4;stroke:#1f77b4;\" x=\"139.543702\" xlink:href=\"#m2468d9ad80\" y=\"179.632906\"/>\n     <use style=\"fill:#1f77b4;stroke:#1f77b4;\" x=\"340.143119\" xlink:href=\"#m2468d9ad80\" y=\"83.305828\"/>\n     <use style=\"fill:#1f77b4;stroke:#1f77b4;\" x=\"127.723054\" xlink:href=\"#m2468d9ad80\" y=\"144.256191\"/>\n     <use style=\"fill:#1f77b4;stroke:#1f77b4;\" x=\"308.537043\" xlink:href=\"#m2468d9ad80\" y=\"101.990431\"/>\n     <use style=\"fill:#1f77b4;stroke:#1f77b4;\" x=\"129.48245\" xlink:href=\"#m2468d9ad80\" y=\"184.807868\"/>\n     <use style=\"fill:#1f77b4;stroke:#1f77b4;\" x=\"69.816669\" xlink:href=\"#m2468d9ad80\" y=\"212.03028\"/>\n     <use style=\"fill:#1f77b4;stroke:#1f77b4;\" x=\"81.132038\" xlink:href=\"#m2468d9ad80\" y=\"155.100296\"/>\n     <use style=\"fill:#1f77b4;stroke:#1f77b4;\" x=\"318.597348\" xlink:href=\"#m2468d9ad80\" y=\"99.905478\"/>\n     <use style=\"fill:#1f77b4;stroke:#1f77b4;\" x=\"66.899395\" xlink:href=\"#m2468d9ad80\" y=\"214.709654\"/>\n     <use style=\"fill:#1f77b4;stroke:#1f77b4;\" x=\"130.634279\" xlink:href=\"#m2468d9ad80\" y=\"184.351168\"/>\n     <use style=\"fill:#1f77b4;stroke:#1f77b4;\" x=\"124.846823\" xlink:href=\"#m2468d9ad80\" y=\"187.382129\"/>\n     <use style=\"fill:#1f77b4;stroke:#1f77b4;\" x=\"124.794127\" xlink:href=\"#m2468d9ad80\" y=\"187.098403\"/>\n     <use style=\"fill:#1f77b4;stroke:#1f77b4;\" x=\"93.500476\" xlink:href=\"#m2468d9ad80\" y=\"201.511216\"/>\n     <use style=\"fill:#1f77b4;stroke:#1f77b4;\" x=\"161.871441\" xlink:href=\"#m2468d9ad80\" y=\"100.732509\"/>\n     <use style=\"fill:#1f77b4;stroke:#1f77b4;\" x=\"297.260482\" xlink:href=\"#m2468d9ad80\" y=\"109.832929\"/>\n     <use style=\"fill:#1f77b4;stroke:#1f77b4;\" x=\"73.747709\" xlink:href=\"#m2468d9ad80\" y=\"210.438489\"/>\n     <use style=\"fill:#1f77b4;stroke:#1f77b4;\" x=\"126.529957\" xlink:href=\"#m2468d9ad80\" y=\"186.672766\"/>\n     <use style=\"fill:#1f77b4;stroke:#1f77b4;\" x=\"89.645549\" xlink:href=\"#m2468d9ad80\" y=\"203.187375\"/>\n     <use style=\"fill:#1f77b4;stroke:#1f77b4;\" x=\"114.060949\" xlink:href=\"#m2468d9ad80\" y=\"192.436494\"/>\n     <use style=\"fill:#1f77b4;stroke:#1f77b4;\" x=\"326.687887\" xlink:href=\"#m2468d9ad80\" y=\"139.921237\"/>\n     <use style=\"fill:#1f77b4;stroke:#1f77b4;\" x=\"135.259991\" xlink:href=\"#m2468d9ad80\" y=\"182.69014\"/>\n     <use style=\"fill:#1f77b4;stroke:#1f77b4;\" x=\"70.737799\" xlink:href=\"#m2468d9ad80\" y=\"211.603714\"/>\n     <use style=\"fill:#1f77b4;stroke:#1f77b4;\" x=\"61.372411\" xlink:href=\"#m2468d9ad80\" y=\"214.369237\"/>\n     <use style=\"fill:#1f77b4;stroke:#1f77b4;\" x=\"85.23056\" xlink:href=\"#m2468d9ad80\" y=\"207.107038\"/>\n     <use style=\"fill:#1f77b4;stroke:#1f77b4;\" x=\"81.082056\" xlink:href=\"#m2468d9ad80\" y=\"206.90999\"/>\n     <use style=\"fill:#1f77b4;stroke:#1f77b4;\" x=\"108.050356\" xlink:href=\"#m2468d9ad80\" y=\"195.339217\"/>\n     <use style=\"fill:#1f77b4;stroke:#1f77b4;\" x=\"353.250959\" xlink:href=\"#m2468d9ad80\" y=\"68.132053\"/>\n     <use style=\"fill:#1f77b4;stroke:#1f77b4;\" x=\"79.946086\" xlink:href=\"#m2468d9ad80\" y=\"207.720658\"/>\n     <use style=\"fill:#1f77b4;stroke:#1f77b4;\" x=\"332.188386\" xlink:href=\"#m2468d9ad80\" y=\"92.956081\"/>\n     <use style=\"fill:#1f77b4;stroke:#1f77b4;\" x=\"117.718409\" xlink:href=\"#m2468d9ad80\" y=\"190.6597\"/>\n     <use style=\"fill:#1f77b4;stroke:#1f77b4;\" x=\"145.901437\" xlink:href=\"#m2468d9ad80\" y=\"176.407582\"/>\n     <use style=\"fill:#1f77b4;stroke:#1f77b4;\" x=\"135.032854\" xlink:href=\"#m2468d9ad80\" y=\"182.061513\"/>\n     <use style=\"fill:#1f77b4;stroke:#1f77b4;\" x=\"115.689176\" xlink:href=\"#m2468d9ad80\" y=\"191.319734\"/>\n     <use style=\"fill:#1f77b4;stroke:#1f77b4;\" x=\"117.081089\" xlink:href=\"#m2468d9ad80\" y=\"190.620336\"/>\n     <use style=\"fill:#1f77b4;stroke:#1f77b4;\" x=\"102.864644\" xlink:href=\"#m2468d9ad80\" y=\"197.982587\"/>\n     <use style=\"fill:#1f77b4;stroke:#1f77b4;\" x=\"90.066457\" xlink:href=\"#m2468d9ad80\" y=\"203.037851\"/>\n     <use style=\"fill:#1f77b4;stroke:#1f77b4;\" x=\"139.008776\" xlink:href=\"#m2468d9ad80\" y=\"181.764973\"/>\n     <use style=\"fill:#1f77b4;stroke:#1f77b4;\" x=\"108.67424\" xlink:href=\"#m2468d9ad80\" y=\"194.508188\"/>\n     <use style=\"fill:#1f77b4;stroke:#1f77b4;\" x=\"116.222574\" xlink:href=\"#m2468d9ad80\" y=\"190.966074\"/>\n     <use style=\"fill:#1f77b4;stroke:#1f77b4;\" x=\"83.39899\" xlink:href=\"#m2468d9ad80\" y=\"207.537758\"/>\n     <use style=\"fill:#1f77b4;stroke:#1f77b4;\" x=\"64.959658\" xlink:href=\"#m2468d9ad80\" y=\"212.777089\"/>\n     <use style=\"fill:#1f77b4;stroke:#1f77b4;\" x=\"324.617054\" xlink:href=\"#m2468d9ad80\" y=\"91.161882\"/>\n     <use style=\"fill:#1f77b4;stroke:#1f77b4;\" x=\"74.423067\" xlink:href=\"#m2468d9ad80\" y=\"211.113216\"/>\n     <use style=\"fill:#1f77b4;stroke:#1f77b4;\" x=\"146.955502\" xlink:href=\"#m2468d9ad80\" y=\"176.697685\"/>\n     <use style=\"fill:#1f77b4;stroke:#1f77b4;\" x=\"84.897039\" xlink:href=\"#m2468d9ad80\" y=\"205.071401\"/>\n     <use style=\"fill:#1f77b4;stroke:#1f77b4;\" x=\"115.533078\" xlink:href=\"#m2468d9ad80\" y=\"191.864659\"/>\n     <use style=\"fill:#1f77b4;stroke:#1f77b4;\" x=\"118.515902\" xlink:href=\"#m2468d9ad80\" y=\"189.990901\"/>\n     <use style=\"fill:#1f77b4;stroke:#1f77b4;\" x=\"130.79587\" xlink:href=\"#m2468d9ad80\" y=\"184.295168\"/>\n     <use style=\"fill:#1f77b4;stroke:#1f77b4;\" x=\"101.833221\" xlink:href=\"#m2468d9ad80\" y=\"198.060782\"/>\n     <use style=\"fill:#1f77b4;stroke:#1f77b4;\" x=\"124.097514\" xlink:href=\"#m2468d9ad80\" y=\"188.164164\"/>\n     <use style=\"fill:#1f77b4;stroke:#1f77b4;\" x=\"136.72727\" xlink:href=\"#m2468d9ad80\" y=\"182.140517\"/>\n     <use style=\"fill:#1f77b4;stroke:#1f77b4;\" x=\"125.097666\" xlink:href=\"#m2468d9ad80\" y=\"187.395446\"/>\n     <use style=\"fill:#1f77b4;stroke:#1f77b4;\" x=\"88.750291\" xlink:href=\"#m2468d9ad80\" y=\"204.082341\"/>\n     <use style=\"fill:#1f77b4;stroke:#1f77b4;\" x=\"91.38009\" xlink:href=\"#m2468d9ad80\" y=\"203.085932\"/>\n     <use style=\"fill:#1f77b4;stroke:#1f77b4;\" x=\"149.295183\" xlink:href=\"#m2468d9ad80\" y=\"174.606669\"/>\n     <use style=\"fill:#1f77b4;stroke:#1f77b4;\" x=\"87.487485\" xlink:href=\"#m2468d9ad80\" y=\"157.57589\"/>\n     <use style=\"fill:#1f77b4;stroke:#1f77b4;\" x=\"78.354443\" xlink:href=\"#m2468d9ad80\" y=\"211.232826\"/>\n     <use style=\"fill:#1f77b4;stroke:#1f77b4;\" x=\"71.646577\" xlink:href=\"#m2468d9ad80\" y=\"213.436008\"/>\n     <use style=\"fill:#1f77b4;stroke:#1f77b4;\" x=\"78.112271\" xlink:href=\"#m2468d9ad80\" y=\"214.667861\"/>\n     <use style=\"fill:#1f77b4;stroke:#1f77b4;\" x=\"100.967925\" xlink:href=\"#m2468d9ad80\" y=\"198.471209\"/>\n     <use style=\"fill:#1f77b4;stroke:#1f77b4;\" x=\"121.923514\" xlink:href=\"#m2468d9ad80\" y=\"189.268176\"/>\n     <use style=\"fill:#1f77b4;stroke:#1f77b4;\" x=\"65.862112\" xlink:href=\"#m2468d9ad80\" y=\"213.114132\"/>\n     <use style=\"fill:#1f77b4;stroke:#1f77b4;\" x=\"89.869554\" xlink:href=\"#m2468d9ad80\" y=\"202.495416\"/>\n     <use style=\"fill:#1f77b4;stroke:#1f77b4;\" x=\"108.226058\" xlink:href=\"#m2468d9ad80\" y=\"196.967346\"/>\n     <use style=\"fill:#1f77b4;stroke:#1f77b4;\" x=\"139.878864\" xlink:href=\"#m2468d9ad80\" y=\"179.464695\"/>\n     <use style=\"fill:#1f77b4;stroke:#1f77b4;\" x=\"119.1228\" xlink:href=\"#m2468d9ad80\" y=\"189.97826\"/>\n     <use style=\"fill:#1f77b4;stroke:#1f77b4;\" x=\"115.664109\" xlink:href=\"#m2468d9ad80\" y=\"191.261779\"/>\n     <use style=\"fill:#1f77b4;stroke:#1f77b4;\" x=\"134.292865\" xlink:href=\"#m2468d9ad80\" y=\"110.727925\"/>\n     <use style=\"fill:#1f77b4;stroke:#1f77b4;\" x=\"99.526386\" xlink:href=\"#m2468d9ad80\" y=\"199.595442\"/>\n     <use style=\"fill:#1f77b4;stroke:#1f77b4;\" x=\"133.742207\" xlink:href=\"#m2468d9ad80\" y=\"182.72566\"/>\n     <use style=\"fill:#1f77b4;stroke:#1f77b4;\" x=\"146.458998\" xlink:href=\"#m2468d9ad80\" y=\"176.35436\"/>\n     <use style=\"fill:#1f77b4;stroke:#1f77b4;\" x=\"138.248834\" xlink:href=\"#m2468d9ad80\" y=\"181.208983\"/>\n     <use style=\"fill:#1f77b4;stroke:#1f77b4;\" x=\"119.699423\" xlink:href=\"#m2468d9ad80\" y=\"190.122134\"/>\n     <use style=\"fill:#1f77b4;stroke:#1f77b4;\" x=\"137.999587\" xlink:href=\"#m2468d9ad80\" y=\"180.823399\"/>\n     <use style=\"fill:#1f77b4;stroke:#1f77b4;\" x=\"76.149343\" xlink:href=\"#m2468d9ad80\" y=\"208.136393\"/>\n     <use style=\"fill:#1f77b4;stroke:#1f77b4;\" x=\"74.076964\" xlink:href=\"#m2468d9ad80\" y=\"209.578952\"/>\n     <use style=\"fill:#1f77b4;stroke:#1f77b4;\" x=\"79.160238\" xlink:href=\"#m2468d9ad80\" y=\"208.646728\"/>\n     <use style=\"fill:#1f77b4;stroke:#1f77b4;\" x=\"125.159558\" xlink:href=\"#m2468d9ad80\" y=\"130.42712\"/>\n     <use style=\"fill:#1f77b4;stroke:#1f77b4;\" x=\"77.755032\" xlink:href=\"#m2468d9ad80\" y=\"210.214114\"/>\n     <use style=\"fill:#1f77b4;stroke:#1f77b4;\" x=\"139.484954\" xlink:href=\"#m2468d9ad80\" y=\"180.157014\"/>\n     <use style=\"fill:#1f77b4;stroke:#1f77b4;\" x=\"115.586126\" xlink:href=\"#m2468d9ad80\" y=\"191.745892\"/>\n     <use style=\"fill:#1f77b4;stroke:#1f77b4;\" x=\"136.605407\" xlink:href=\"#m2468d9ad80\" y=\"181.170147\"/>\n     <use style=\"fill:#1f77b4;stroke:#1f77b4;\" x=\"308.736717\" xlink:href=\"#m2468d9ad80\" y=\"154.018861\"/>\n     <use style=\"fill:#1f77b4;stroke:#1f77b4;\" x=\"322.894939\" xlink:href=\"#m2468d9ad80\" y=\"86.828058\"/>\n     <use style=\"fill:#1f77b4;stroke:#1f77b4;\" x=\"287.090184\" xlink:href=\"#m2468d9ad80\" y=\"166.541883\"/>\n     <use style=\"fill:#1f77b4;stroke:#1f77b4;\" x=\"318.064903\" xlink:href=\"#m2468d9ad80\" y=\"41.064679\"/>\n     <use style=\"fill:#1f77b4;stroke:#1f77b4;\" x=\"99.738137\" xlink:href=\"#m2468d9ad80\" y=\"200.034974\"/>\n     <use style=\"fill:#1f77b4;stroke:#1f77b4;\" x=\"353.62958\" xlink:href=\"#m2468d9ad80\" y=\"70.076438\"/>\n     <use style=\"fill:#1f77b4;stroke:#1f77b4;\" x=\"144.05178\" xlink:href=\"#m2468d9ad80\" y=\"176.836365\"/>\n     <use style=\"fill:#1f77b4;stroke:#1f77b4;\" x=\"88.317776\" xlink:href=\"#m2468d9ad80\" y=\"203.805887\"/>\n     <use style=\"fill:#1f77b4;stroke:#1f77b4;\" x=\"333.467017\" xlink:href=\"#m2468d9ad80\" y=\"83.564444\"/>\n     <use style=\"fill:#1f77b4;stroke:#1f77b4;\" x=\"68.284032\" xlink:href=\"#m2468d9ad80\" y=\"212.333425\"/>\n     <use style=\"fill:#1f77b4;stroke:#1f77b4;\" x=\"281.399988\" xlink:href=\"#m2468d9ad80\" y=\"168.462059\"/>\n     <use style=\"fill:#1f77b4;stroke:#1f77b4;\" x=\"112.225793\" xlink:href=\"#m2468d9ad80\" y=\"192.84641\"/>\n     <use style=\"fill:#1f77b4;stroke:#1f77b4;\" x=\"112.37047\" xlink:href=\"#m2468d9ad80\" y=\"193.501977\"/>\n     <use style=\"fill:#1f77b4;stroke:#1f77b4;\" x=\"136.598636\" xlink:href=\"#m2468d9ad80\" y=\"151.769838\"/>\n     <use style=\"fill:#1f77b4;stroke:#1f77b4;\" x=\"64.849048\" xlink:href=\"#m2468d9ad80\" y=\"214.336607\"/>\n     <use style=\"fill:#1f77b4;stroke:#1f77b4;\" x=\"69.107535\" xlink:href=\"#m2468d9ad80\" y=\"213.889233\"/>\n     <use style=\"fill:#1f77b4;stroke:#1f77b4;\" x=\"315.219169\" xlink:href=\"#m2468d9ad80\" y=\"97.88641\"/>\n     <use style=\"fill:#1f77b4;stroke:#1f77b4;\" x=\"331.417271\" xlink:href=\"#m2468d9ad80\" y=\"135.788552\"/>\n     <use style=\"fill:#1f77b4;stroke:#1f77b4;\" x=\"155.96814\" xlink:href=\"#m2468d9ad80\" y=\"170.445069\"/>\n     <use style=\"fill:#1f77b4;stroke:#1f77b4;\" x=\"137.083236\" xlink:href=\"#m2468d9ad80\" y=\"180.876172\"/>\n     <use style=\"fill:#1f77b4;stroke:#1f77b4;\" x=\"110.18601\" xlink:href=\"#m2468d9ad80\" y=\"194.188214\"/>\n     <use style=\"fill:#1f77b4;stroke:#1f77b4;\" x=\"124.194988\" xlink:href=\"#m2468d9ad80\" y=\"188.207387\"/>\n     <use style=\"fill:#1f77b4;stroke:#1f77b4;\" x=\"68.692618\" xlink:href=\"#m2468d9ad80\" y=\"212.740437\"/>\n     <use style=\"fill:#1f77b4;stroke:#1f77b4;\" x=\"354.411749\" xlink:href=\"#m2468d9ad80\" y=\"68.514899\"/>\n     <use style=\"fill:#1f77b4;stroke:#1f77b4;\" x=\"140.332704\" xlink:href=\"#m2468d9ad80\" y=\"178.733813\"/>\n     <use style=\"fill:#1f77b4;stroke:#1f77b4;\" x=\"100.764883\" xlink:href=\"#m2468d9ad80\" y=\"198.672378\"/>\n     <use style=\"fill:#1f77b4;stroke:#1f77b4;\" x=\"145.916244\" xlink:href=\"#m2468d9ad80\" y=\"176.098861\"/>\n     <use style=\"fill:#1f77b4;stroke:#1f77b4;\" x=\"156.37448\" xlink:href=\"#m2468d9ad80\" y=\"170.165575\"/>\n     <use style=\"fill:#1f77b4;stroke:#1f77b4;\" x=\"153.502423\" xlink:href=\"#m2468d9ad80\" y=\"172.58816\"/>\n     <use style=\"fill:#1f77b4;stroke:#1f77b4;\" x=\"106.664398\" xlink:href=\"#m2468d9ad80\" y=\"195.900637\"/>\n     <use style=\"fill:#1f77b4;stroke:#1f77b4;\" x=\"74.145669\" xlink:href=\"#m2468d9ad80\" y=\"183.647409\"/>\n     <use style=\"fill:#1f77b4;stroke:#1f77b4;\" x=\"119.151155\" xlink:href=\"#m2468d9ad80\" y=\"189.952357\"/>\n     <use style=\"fill:#1f77b4;stroke:#1f77b4;\" x=\"151.197571\" xlink:href=\"#m2468d9ad80\" y=\"173.204274\"/>\n     <use style=\"fill:#1f77b4;stroke:#1f77b4;\" x=\"88.076219\" xlink:href=\"#m2468d9ad80\" y=\"157.383975\"/>\n     <use style=\"fill:#1f77b4;stroke:#1f77b4;\" x=\"103.621933\" xlink:href=\"#m2468d9ad80\" y=\"197.461127\"/>\n     <use style=\"fill:#1f77b4;stroke:#1f77b4;\" x=\"300.383438\" xlink:href=\"#m2468d9ad80\" y=\"167.489248\"/>\n     <use style=\"fill:#1f77b4;stroke:#1f77b4;\" x=\"93.697227\" xlink:href=\"#m2468d9ad80\" y=\"201.238248\"/>\n     <use style=\"fill:#1f77b4;stroke:#1f77b4;\" x=\"132.466083\" xlink:href=\"#m2468d9ad80\" y=\"183.17729\"/>\n     <use style=\"fill:#1f77b4;stroke:#1f77b4;\" x=\"327.600418\" xlink:href=\"#m2468d9ad80\" y=\"93.880745\"/>\n     <use style=\"fill:#1f77b4;stroke:#1f77b4;\" x=\"306.993045\" xlink:href=\"#m2468d9ad80\" y=\"102.117831\"/>\n     <use style=\"fill:#1f77b4;stroke:#1f77b4;\" x=\"85.335769\" xlink:href=\"#m2468d9ad80\" y=\"206.795167\"/>\n     <use style=\"fill:#1f77b4;stroke:#1f77b4;\" x=\"329.216132\" xlink:href=\"#m2468d9ad80\" y=\"92.174999\"/>\n     <use style=\"fill:#1f77b4;stroke:#1f77b4;\" x=\"132.486866\" xlink:href=\"#m2468d9ad80\" y=\"183.612353\"/>\n     <use style=\"fill:#1f77b4;stroke:#1f77b4;\" x=\"109.601387\" xlink:href=\"#m2468d9ad80\" y=\"194.435735\"/>\n     <use style=\"fill:#1f77b4;stroke:#1f77b4;\" x=\"337.97846\" xlink:href=\"#m2468d9ad80\" y=\"136.976079\"/>\n     <use style=\"fill:#1f77b4;stroke:#1f77b4;\" x=\"138.882512\" xlink:href=\"#m2468d9ad80\" y=\"180.263831\"/>\n     <use style=\"fill:#1f77b4;stroke:#1f77b4;\" x=\"99.980641\" xlink:href=\"#m2468d9ad80\" y=\"198.708445\"/>\n     <use style=\"fill:#1f77b4;stroke:#1f77b4;\" x=\"342.329832\" xlink:href=\"#m2468d9ad80\" y=\"77.12632\"/>\n     <use style=\"fill:#1f77b4;stroke:#1f77b4;\" x=\"127.22599\" xlink:href=\"#m2468d9ad80\" y=\"186.600488\"/>\n     <use style=\"fill:#1f77b4;stroke:#1f77b4;\" x=\"125.015088\" xlink:href=\"#m2468d9ad80\" y=\"187.612081\"/>\n     <use style=\"fill:#1f77b4;stroke:#1f77b4;\" x=\"72.285024\" xlink:href=\"#m2468d9ad80\" y=\"211.489914\"/>\n     <use style=\"fill:#1f77b4;stroke:#1f77b4;\" x=\"112.795776\" xlink:href=\"#m2468d9ad80\" y=\"155.668244\"/>\n     <use style=\"fill:#1f77b4;stroke:#1f77b4;\" x=\"321.7428\" xlink:href=\"#m2468d9ad80\" y=\"95.059089\"/>\n     <use style=\"fill:#1f77b4;stroke:#1f77b4;\" x=\"136.172204\" xlink:href=\"#m2468d9ad80\" y=\"181.343459\"/>\n     <use style=\"fill:#1f77b4;stroke:#1f77b4;\" x=\"112.153161\" xlink:href=\"#m2468d9ad80\" y=\"192.784585\"/>\n     <use style=\"fill:#1f77b4;stroke:#1f77b4;\" x=\"66.675318\" xlink:href=\"#m2468d9ad80\" y=\"214.711129\"/>\n     <use style=\"fill:#1f77b4;stroke:#1f77b4;\" x=\"141.858559\" xlink:href=\"#m2468d9ad80\" y=\"178.232893\"/>\n     <use style=\"fill:#1f77b4;stroke:#1f77b4;\" x=\"107.871471\" xlink:href=\"#m2468d9ad80\" y=\"195.028486\"/>\n     <use style=\"fill:#1f77b4;stroke:#1f77b4;\" x=\"142.122916\" xlink:href=\"#m2468d9ad80\" y=\"121.688313\"/>\n     <use style=\"fill:#1f77b4;stroke:#1f77b4;\" x=\"333.517896\" xlink:href=\"#m2468d9ad80\" y=\"87.418617\"/>\n     <use style=\"fill:#1f77b4;stroke:#1f77b4;\" x=\"110.379155\" xlink:href=\"#m2468d9ad80\" y=\"194.160298\"/>\n     <use style=\"fill:#1f77b4;stroke:#1f77b4;\" x=\"100.430709\" xlink:href=\"#m2468d9ad80\" y=\"198.066593\"/>\n     <use style=\"fill:#1f77b4;stroke:#1f77b4;\" x=\"134.001762\" xlink:href=\"#m2468d9ad80\" y=\"182.942406\"/>\n     <use style=\"fill:#1f77b4;stroke:#1f77b4;\" x=\"129.869528\" xlink:href=\"#m2468d9ad80\" y=\"151.5368\"/>\n     <use style=\"fill:#1f77b4;stroke:#1f77b4;\" x=\"103.510206\" xlink:href=\"#m2468d9ad80\" y=\"197.545452\"/>\n     <use style=\"fill:#1f77b4;stroke:#1f77b4;\" x=\"301.210184\" xlink:href=\"#m2468d9ad80\" y=\"107.615493\"/>\n     <use style=\"fill:#1f77b4;stroke:#1f77b4;\" x=\"82.575149\" xlink:href=\"#m2468d9ad80\" y=\"206.348605\"/>\n     <use style=\"fill:#1f77b4;stroke:#1f77b4;\" x=\"134.161094\" xlink:href=\"#m2468d9ad80\" y=\"182.755891\"/>\n     <use style=\"fill:#1f77b4;stroke:#1f77b4;\" x=\"109.58029\" xlink:href=\"#m2468d9ad80\" y=\"194.434294\"/>\n     <use style=\"fill:#1f77b4;stroke:#1f77b4;\" x=\"99.004636\" xlink:href=\"#m2468d9ad80\" y=\"200.906783\"/>\n     <use style=\"fill:#1f77b4;stroke:#1f77b4;\" x=\"105.565915\" xlink:href=\"#m2468d9ad80\" y=\"196.246412\"/>\n     <use style=\"fill:#1f77b4;stroke:#1f77b4;\" x=\"312.016842\" xlink:href=\"#m2468d9ad80\" y=\"154.263819\"/>\n     <use style=\"fill:#1f77b4;stroke:#1f77b4;\" x=\"356.179879\" xlink:href=\"#m2468d9ad80\" y=\"65.629168\"/>\n     <use style=\"fill:#1f77b4;stroke:#1f77b4;\" x=\"152.828023\" xlink:href=\"#m2468d9ad80\" y=\"173.601908\"/>\n     <use style=\"fill:#1f77b4;stroke:#1f77b4;\" x=\"104.252188\" xlink:href=\"#m2468d9ad80\" y=\"196.78597\"/>\n     <use style=\"fill:#1f77b4;stroke:#1f77b4;\" x=\"346.043408\" xlink:href=\"#m2468d9ad80\" y=\"75.58528\"/>\n     <use style=\"fill:#1f77b4;stroke:#1f77b4;\" x=\"86.948269\" xlink:href=\"#m2468d9ad80\" y=\"204.717839\"/>\n     <use style=\"fill:#1f77b4;stroke:#1f77b4;\" x=\"98.081479\" xlink:href=\"#m2468d9ad80\" y=\"200.948801\"/>\n     <use style=\"fill:#1f77b4;stroke:#1f77b4;\" x=\"138.78083\" xlink:href=\"#m2468d9ad80\" y=\"181.213226\"/>\n     <use style=\"fill:#1f77b4;stroke:#1f77b4;\" x=\"123.492426\" xlink:href=\"#m2468d9ad80\" y=\"187.544988\"/>\n     <use style=\"fill:#1f77b4;stroke:#1f77b4;\" x=\"298.419586\" xlink:href=\"#m2468d9ad80\" y=\"162.533627\"/>\n     <use style=\"fill:#1f77b4;stroke:#1f77b4;\" x=\"321.09348\" xlink:href=\"#m2468d9ad80\" y=\"96.71467\"/>\n     <use style=\"fill:#1f77b4;stroke:#1f77b4;\" x=\"135.791324\" xlink:href=\"#m2468d9ad80\" y=\"181.531203\"/>\n     <use style=\"fill:#1f77b4;stroke:#1f77b4;\" x=\"67.861004\" xlink:href=\"#m2468d9ad80\" y=\"144.135959\"/>\n     <use style=\"fill:#1f77b4;stroke:#1f77b4;\" x=\"152.019613\" xlink:href=\"#m2468d9ad80\" y=\"172.66706\"/>\n     <use style=\"fill:#1f77b4;stroke:#1f77b4;\" x=\"105.537428\" xlink:href=\"#m2468d9ad80\" y=\"196.068705\"/>\n     <use style=\"fill:#1f77b4;stroke:#1f77b4;\" x=\"88.659087\" xlink:href=\"#m2468d9ad80\" y=\"204.102018\"/>\n     <use style=\"fill:#1f77b4;stroke:#1f77b4;\" x=\"333.192089\" xlink:href=\"#m2468d9ad80\" y=\"130.83746\"/>\n     <use style=\"fill:#1f77b4;stroke:#1f77b4;\" x=\"149.197301\" xlink:href=\"#m2468d9ad80\" y=\"175.087122\"/>\n     <use style=\"fill:#1f77b4;stroke:#1f77b4;\" x=\"131.860228\" xlink:href=\"#m2468d9ad80\" y=\"183.660199\"/>\n     <use style=\"fill:#1f77b4;stroke:#1f77b4;\" x=\"322.417656\" xlink:href=\"#m2468d9ad80\" y=\"147.686995\"/>\n     <use style=\"fill:#1f77b4;stroke:#1f77b4;\" x=\"165.361852\" xlink:href=\"#m2468d9ad80\" y=\"165.447245\"/>\n     <use style=\"fill:#1f77b4;stroke:#1f77b4;\" x=\"70.225561\" xlink:href=\"#m2468d9ad80\" y=\"211.286754\"/>\n     <use style=\"fill:#1f77b4;stroke:#1f77b4;\" x=\"131.938205\" xlink:href=\"#m2468d9ad80\" y=\"184.34273\"/>\n     <use style=\"fill:#1f77b4;stroke:#1f77b4;\" x=\"319.483154\" xlink:href=\"#m2468d9ad80\" y=\"150.204439\"/>\n     <use style=\"fill:#1f77b4;stroke:#1f77b4;\" x=\"70.315896\" xlink:href=\"#m2468d9ad80\" y=\"212.038613\"/>\n     <use style=\"fill:#1f77b4;stroke:#1f77b4;\" x=\"119.373367\" xlink:href=\"#m2468d9ad80\" y=\"189.538189\"/>\n     <use style=\"fill:#1f77b4;stroke:#1f77b4;\" x=\"99.410852\" xlink:href=\"#m2468d9ad80\" y=\"139.027139\"/>\n     <use style=\"fill:#1f77b4;stroke:#1f77b4;\" x=\"138.641867\" xlink:href=\"#m2468d9ad80\" y=\"180.60603\"/>\n     <use style=\"fill:#1f77b4;stroke:#1f77b4;\" x=\"92.025514\" xlink:href=\"#m2468d9ad80\" y=\"202.533326\"/>\n     <use style=\"fill:#1f77b4;stroke:#1f77b4;\" x=\"84.375674\" xlink:href=\"#m2468d9ad80\" y=\"207.825592\"/>\n     <use style=\"fill:#1f77b4;stroke:#1f77b4;\" x=\"125.787218\" xlink:href=\"#m2468d9ad80\" y=\"186.495167\"/>\n     <use style=\"fill:#1f77b4;stroke:#1f77b4;\" x=\"105.177055\" xlink:href=\"#m2468d9ad80\" y=\"196.668434\"/>\n     <use style=\"fill:#1f77b4;stroke:#1f77b4;\" x=\"323.693137\" xlink:href=\"#m2468d9ad80\" y=\"147.155261\"/>\n     <use style=\"fill:#1f77b4;stroke:#1f77b4;\" x=\"125.140503\" xlink:href=\"#m2468d9ad80\" y=\"187.854497\"/>\n     <use style=\"fill:#1f77b4;stroke:#1f77b4;\" x=\"330.327397\" xlink:href=\"#m2468d9ad80\" y=\"142.575322\"/>\n     <use style=\"fill:#1f77b4;stroke:#1f77b4;\" x=\"72.675495\" xlink:href=\"#m2468d9ad80\" y=\"212.497614\"/>\n     <use style=\"fill:#1f77b4;stroke:#1f77b4;\" x=\"119.92817\" xlink:href=\"#m2468d9ad80\" y=\"190.070284\"/>\n     <use style=\"fill:#1f77b4;stroke:#1f77b4;\" x=\"89.992108\" xlink:href=\"#m2468d9ad80\" y=\"205.533822\"/>\n     <use style=\"fill:#1f77b4;stroke:#1f77b4;\" x=\"135.238698\" xlink:href=\"#m2468d9ad80\" y=\"182.699482\"/>\n     <use style=\"fill:#1f77b4;stroke:#1f77b4;\" x=\"309.240807\" xlink:href=\"#m2468d9ad80\" y=\"158.525262\"/>\n     <use style=\"fill:#1f77b4;stroke:#1f77b4;\" x=\"310.879515\" xlink:href=\"#m2468d9ad80\" y=\"102.530961\"/>\n     <use style=\"fill:#1f77b4;stroke:#1f77b4;\" x=\"152.40575\" xlink:href=\"#m2468d9ad80\" y=\"172.959419\"/>\n     <use style=\"fill:#1f77b4;stroke:#1f77b4;\" x=\"80.286671\" xlink:href=\"#m2468d9ad80\" y=\"209.584754\"/>\n     <use style=\"fill:#1f77b4;stroke:#1f77b4;\" x=\"81.000976\" xlink:href=\"#m2468d9ad80\" y=\"208.164997\"/>\n     <use style=\"fill:#1f77b4;stroke:#1f77b4;\" x=\"325.696206\" xlink:href=\"#m2468d9ad80\" y=\"17.083636\"/>\n     <use style=\"fill:#1f77b4;stroke:#1f77b4;\" x=\"309.763552\" xlink:href=\"#m2468d9ad80\" y=\"103.898991\"/>\n     <use style=\"fill:#1f77b4;stroke:#1f77b4;\" x=\"104.443436\" xlink:href=\"#m2468d9ad80\" y=\"196.932304\"/>\n     <use style=\"fill:#1f77b4;stroke:#1f77b4;\" x=\"74.766224\" xlink:href=\"#m2468d9ad80\" y=\"213.109639\"/>\n     <use style=\"fill:#1f77b4;stroke:#1f77b4;\" x=\"128.209954\" xlink:href=\"#m2468d9ad80\" y=\"185.862121\"/>\n     <use style=\"fill:#1f77b4;stroke:#1f77b4;\" x=\"323.403396\" xlink:href=\"#m2468d9ad80\" y=\"146.917032\"/>\n     <use style=\"fill:#1f77b4;stroke:#1f77b4;\" x=\"104.505176\" xlink:href=\"#m2468d9ad80\" y=\"196.648189\"/>\n     <use style=\"fill:#1f77b4;stroke:#1f77b4;\" x=\"123.166729\" xlink:href=\"#m2468d9ad80\" y=\"189.233758\"/>\n     <use style=\"fill:#1f77b4;stroke:#1f77b4;\" x=\"94.750158\" xlink:href=\"#m2468d9ad80\" y=\"163.28398\"/>\n     <use style=\"fill:#1f77b4;stroke:#1f77b4;\" x=\"304.296604\" xlink:href=\"#m2468d9ad80\" y=\"163.119671\"/>\n     <use style=\"fill:#1f77b4;stroke:#1f77b4;\" x=\"82.786328\" xlink:href=\"#m2468d9ad80\" y=\"206.858185\"/>\n     <use style=\"fill:#1f77b4;stroke:#1f77b4;\" x=\"68.571134\" xlink:href=\"#m2468d9ad80\" y=\"213.00983\"/>\n     <use style=\"fill:#1f77b4;stroke:#1f77b4;\" x=\"94.083454\" xlink:href=\"#m2468d9ad80\" y=\"201.470187\"/>\n     <use style=\"fill:#1f77b4;stroke:#1f77b4;\" x=\"102.910027\" xlink:href=\"#m2468d9ad80\" y=\"197.231821\"/>\n     <use style=\"fill:#1f77b4;stroke:#1f77b4;\" x=\"111.594893\" xlink:href=\"#m2468d9ad80\" y=\"193.658765\"/>\n     <use style=\"fill:#1f77b4;stroke:#1f77b4;\" x=\"75.566936\" xlink:href=\"#m2468d9ad80\" y=\"208.178371\"/>\n     <use style=\"fill:#1f77b4;stroke:#1f77b4;\" x=\"84.91197\" xlink:href=\"#m2468d9ad80\" y=\"205.397477\"/>\n     <use style=\"fill:#1f77b4;stroke:#1f77b4;\" x=\"341.776438\" xlink:href=\"#m2468d9ad80\" y=\"123.426129\"/>\n     <use style=\"fill:#1f77b4;stroke:#1f77b4;\" x=\"356.373362\" xlink:href=\"#m2468d9ad80\" y=\"69.955484\"/>\n     <use style=\"fill:#1f77b4;stroke:#1f77b4;\" x=\"305.710793\" xlink:href=\"#m2468d9ad80\" y=\"106.365232\"/>\n     <use style=\"fill:#1f77b4;stroke:#1f77b4;\" x=\"100.702776\" xlink:href=\"#m2468d9ad80\" y=\"198.430611\"/>\n     <use style=\"fill:#1f77b4;stroke:#1f77b4;\" x=\"134.045228\" xlink:href=\"#m2468d9ad80\" y=\"182.764384\"/>\n     <use style=\"fill:#1f77b4;stroke:#1f77b4;\" x=\"324.751617\" xlink:href=\"#m2468d9ad80\" y=\"146.079388\"/>\n     <use style=\"fill:#1f77b4;stroke:#1f77b4;\" x=\"148.248318\" xlink:href=\"#m2468d9ad80\" y=\"174.775056\"/>\n     <use style=\"fill:#1f77b4;stroke:#1f77b4;\" x=\"310.721407\" xlink:href=\"#m2468d9ad80\" y=\"157.134102\"/>\n     <use style=\"fill:#1f77b4;stroke:#1f77b4;\" x=\"326.746753\" xlink:href=\"#m2468d9ad80\" y=\"141.291898\"/>\n     <use style=\"fill:#1f77b4;stroke:#1f77b4;\" x=\"76.321888\" xlink:href=\"#m2468d9ad80\" y=\"209.197018\"/>\n     <use style=\"fill:#1f77b4;stroke:#1f77b4;\" x=\"75.927195\" xlink:href=\"#m2468d9ad80\" y=\"208.468944\"/>\n     <use style=\"fill:#1f77b4;stroke:#1f77b4;\" x=\"72.934055\" xlink:href=\"#m2468d9ad80\" y=\"210.46231\"/>\n     <use style=\"fill:#1f77b4;stroke:#1f77b4;\" x=\"131.463561\" xlink:href=\"#m2468d9ad80\" y=\"183.642911\"/>\n     <use style=\"fill:#1f77b4;stroke:#1f77b4;\" x=\"73.209412\" xlink:href=\"#m2468d9ad80\" y=\"209.439776\"/>\n     <use style=\"fill:#1f77b4;stroke:#1f77b4;\" x=\"147.864281\" xlink:href=\"#m2468d9ad80\" y=\"175.180137\"/>\n     <use style=\"fill:#1f77b4;stroke:#1f77b4;\" x=\"340.496424\" xlink:href=\"#m2468d9ad80\" y=\"77.666066\"/>\n     <use style=\"fill:#1f77b4;stroke:#1f77b4;\" x=\"118.254813\" xlink:href=\"#m2468d9ad80\" y=\"126.816277\"/>\n     <use style=\"fill:#1f77b4;stroke:#1f77b4;\" x=\"93.22791\" xlink:href=\"#m2468d9ad80\" y=\"157.893406\"/>\n     <use style=\"fill:#1f77b4;stroke:#1f77b4;\" x=\"65.737111\" xlink:href=\"#m2468d9ad80\" y=\"212.88259\"/>\n     <use style=\"fill:#1f77b4;stroke:#1f77b4;\" x=\"117.02668\" xlink:href=\"#m2468d9ad80\" y=\"190.865354\"/>\n     <use style=\"fill:#1f77b4;stroke:#1f77b4;\" x=\"281.115083\" xlink:href=\"#m2468d9ad80\" y=\"168.9736\"/>\n     <use style=\"fill:#1f77b4;stroke:#1f77b4;\" x=\"120.218962\" xlink:href=\"#m2468d9ad80\" y=\"189.641016\"/>\n     <use style=\"fill:#1f77b4;stroke:#1f77b4;\" x=\"73.317029\" xlink:href=\"#m2468d9ad80\" y=\"211.492394\"/>\n     <use style=\"fill:#1f77b4;stroke:#1f77b4;\" x=\"117.410323\" xlink:href=\"#m2468d9ad80\" y=\"191.209027\"/>\n     <use style=\"fill:#1f77b4;stroke:#1f77b4;\" x=\"143.549182\" xlink:href=\"#m2468d9ad80\" y=\"177.723248\"/>\n     <use style=\"fill:#1f77b4;stroke:#1f77b4;\" x=\"318.729893\" xlink:href=\"#m2468d9ad80\" y=\"99.127582\"/>\n     <use style=\"fill:#1f77b4;stroke:#1f77b4;\" x=\"141.147104\" xlink:href=\"#m2468d9ad80\" y=\"179.023574\"/>\n     <use style=\"fill:#1f77b4;stroke:#1f77b4;\" x=\"142.710102\" xlink:href=\"#m2468d9ad80\" y=\"178.182786\"/>\n     <use style=\"fill:#1f77b4;stroke:#1f77b4;\" x=\"155.359183\" xlink:href=\"#m2468d9ad80\" y=\"171.817667\"/>\n     <use style=\"fill:#1f77b4;stroke:#1f77b4;\" x=\"112.283263\" xlink:href=\"#m2468d9ad80\" y=\"193.473325\"/>\n     <use style=\"fill:#1f77b4;stroke:#1f77b4;\" x=\"123.096097\" xlink:href=\"#m2468d9ad80\" y=\"187.599341\"/>\n     <use style=\"fill:#1f77b4;stroke:#1f77b4;\" x=\"70.931293\" xlink:href=\"#m2468d9ad80\" y=\"149.725207\"/>\n     <use style=\"fill:#1f77b4;stroke:#1f77b4;\" x=\"136.109234\" xlink:href=\"#m2468d9ad80\" y=\"182.176276\"/>\n     <use style=\"fill:#1f77b4;stroke:#1f77b4;\" x=\"288.667069\" xlink:href=\"#m2468d9ad80\" y=\"167.497973\"/>\n     <use style=\"fill:#1f77b4;stroke:#1f77b4;\" x=\"117.813851\" xlink:href=\"#m2468d9ad80\" y=\"190.87711\"/>\n     <use style=\"fill:#1f77b4;stroke:#1f77b4;\" x=\"146.095708\" xlink:href=\"#m2468d9ad80\" y=\"139.53706\"/>\n     <use style=\"fill:#1f77b4;stroke:#1f77b4;\" x=\"126.803116\" xlink:href=\"#m2468d9ad80\" y=\"186.847196\"/>\n     <use style=\"fill:#1f77b4;stroke:#1f77b4;\" x=\"74.183254\" xlink:href=\"#m2468d9ad80\" y=\"211.488572\"/>\n     <use style=\"fill:#1f77b4;stroke:#1f77b4;\" x=\"340.126205\" xlink:href=\"#m2468d9ad80\" y=\"83.4675\"/>\n     <use style=\"fill:#1f77b4;stroke:#1f77b4;\" x=\"110.3393\" xlink:href=\"#m2468d9ad80\" y=\"157.888926\"/>\n     <use style=\"fill:#1f77b4;stroke:#1f77b4;\" x=\"79.904907\" xlink:href=\"#m2468d9ad80\" y=\"208.515852\"/>\n     <use style=\"fill:#1f77b4;stroke:#1f77b4;\" x=\"360.327044\" xlink:href=\"#m2468d9ad80\" y=\"65.737217\"/>\n     <use style=\"fill:#1f77b4;stroke:#1f77b4;\" x=\"90.814516\" xlink:href=\"#m2468d9ad80\" y=\"203.127099\"/>\n     <use style=\"fill:#1f77b4;stroke:#1f77b4;\" x=\"153.198435\" xlink:href=\"#m2468d9ad80\" y=\"171.891113\"/>\n     <use style=\"fill:#1f77b4;stroke:#1f77b4;\" x=\"121.540112\" xlink:href=\"#m2468d9ad80\" y=\"188.496408\"/>\n     <use style=\"fill:#1f77b4;stroke:#1f77b4;\" x=\"79.056464\" xlink:href=\"#m2468d9ad80\" y=\"210.385879\"/>\n     <use style=\"fill:#1f77b4;stroke:#1f77b4;\" x=\"69.522395\" xlink:href=\"#m2468d9ad80\" y=\"211.785657\"/>\n     <use style=\"fill:#1f77b4;stroke:#1f77b4;\" x=\"131.805591\" xlink:href=\"#m2468d9ad80\" y=\"184.404534\"/>\n     <use style=\"fill:#1f77b4;stroke:#1f77b4;\" x=\"82.873112\" xlink:href=\"#m2468d9ad80\" y=\"205.803021\"/>\n     <use style=\"fill:#1f77b4;stroke:#1f77b4;\" x=\"140.473733\" xlink:href=\"#m2468d9ad80\" y=\"146.999604\"/>\n     <use style=\"fill:#1f77b4;stroke:#1f77b4;\" x=\"278.795936\" xlink:href=\"#m2468d9ad80\" y=\"171.505049\"/>\n     <use style=\"fill:#1f77b4;stroke:#1f77b4;\" x=\"144.16701\" xlink:href=\"#m2468d9ad80\" y=\"177.697484\"/>\n     <use style=\"fill:#1f77b4;stroke:#1f77b4;\" x=\"311.524138\" xlink:href=\"#m2468d9ad80\" y=\"151.650957\"/>\n     <use style=\"fill:#1f77b4;stroke:#1f77b4;\" x=\"308.372164\" xlink:href=\"#m2468d9ad80\" y=\"105.591146\"/>\n     <use style=\"fill:#1f77b4;stroke:#1f77b4;\" x=\"298.37487\" xlink:href=\"#m2468d9ad80\" y=\"108.21298\"/>\n     <use style=\"fill:#1f77b4;stroke:#1f77b4;\" x=\"97.328819\" xlink:href=\"#m2468d9ad80\" y=\"130.331091\"/>\n     <use style=\"fill:#1f77b4;stroke:#1f77b4;\" x=\"128.780476\" xlink:href=\"#m2468d9ad80\" y=\"185.014165\"/>\n     <use style=\"fill:#1f77b4;stroke:#1f77b4;\" x=\"81.932524\" xlink:href=\"#m2468d9ad80\" y=\"207.77617\"/>\n     <use style=\"fill:#1f77b4;stroke:#1f77b4;\" x=\"102.698466\" xlink:href=\"#m2468d9ad80\" y=\"198.264413\"/>\n     <use style=\"fill:#1f77b4;stroke:#1f77b4;\" x=\"346.322979\" xlink:href=\"#m2468d9ad80\" y=\"80.548944\"/>\n     <use style=\"fill:#1f77b4;stroke:#1f77b4;\" x=\"65.698942\" xlink:href=\"#m2468d9ad80\" y=\"213.115831\"/>\n     <use style=\"fill:#1f77b4;stroke:#1f77b4;\" x=\"305.992962\" xlink:href=\"#m2468d9ad80\" y=\"153.095214\"/>\n     <use style=\"fill:#1f77b4;stroke:#1f77b4;\" x=\"107.274108\" xlink:href=\"#m2468d9ad80\" y=\"197.908889\"/>\n     <use style=\"fill:#1f77b4;stroke:#1f77b4;\" x=\"108.821173\" xlink:href=\"#m2468d9ad80\" y=\"194.427406\"/>\n     <use style=\"fill:#1f77b4;stroke:#1f77b4;\" x=\"298.564235\" xlink:href=\"#m2468d9ad80\" y=\"99.708464\"/>\n     <use style=\"fill:#1f77b4;stroke:#1f77b4;\" x=\"151.06495\" xlink:href=\"#m2468d9ad80\" y=\"173.887166\"/>\n     <use style=\"fill:#1f77b4;stroke:#1f77b4;\" x=\"111.035149\" xlink:href=\"#m2468d9ad80\" y=\"193.794985\"/>\n     <use style=\"fill:#1f77b4;stroke:#1f77b4;\" x=\"96.744718\" xlink:href=\"#m2468d9ad80\" y=\"201.840853\"/>\n     <use style=\"fill:#1f77b4;stroke:#1f77b4;\" x=\"83.547898\" xlink:href=\"#m2468d9ad80\" y=\"207.852328\"/>\n     <use style=\"fill:#1f77b4;stroke:#1f77b4;\" x=\"292.532176\" xlink:href=\"#m2468d9ad80\" y=\"165.560481\"/>\n     <use style=\"fill:#1f77b4;stroke:#1f77b4;\" x=\"154.439122\" xlink:href=\"#m2468d9ad80\" y=\"171.897482\"/>\n     <use style=\"fill:#1f77b4;stroke:#1f77b4;\" x=\"108.578144\" xlink:href=\"#m2468d9ad80\" y=\"195.338457\"/>\n     <use style=\"fill:#1f77b4;stroke:#1f77b4;\" x=\"102.540806\" xlink:href=\"#m2468d9ad80\" y=\"197.471899\"/>\n     <use style=\"fill:#1f77b4;stroke:#1f77b4;\" x=\"138.513419\" xlink:href=\"#m2468d9ad80\" y=\"180.299142\"/>\n     <use style=\"fill:#1f77b4;stroke:#1f77b4;\" x=\"94.364642\" xlink:href=\"#m2468d9ad80\" y=\"201.428892\"/>\n     <use style=\"fill:#1f77b4;stroke:#1f77b4;\" x=\"349.797803\" xlink:href=\"#m2468d9ad80\" y=\"70.881348\"/>\n     <use style=\"fill:#1f77b4;stroke:#1f77b4;\" x=\"309.152951\" xlink:href=\"#m2468d9ad80\" y=\"101.608737\"/>\n     <use style=\"fill:#1f77b4;stroke:#1f77b4;\" x=\"88.698566\" xlink:href=\"#m2468d9ad80\" y=\"204.377386\"/>\n     <use style=\"fill:#1f77b4;stroke:#1f77b4;\" x=\"79.142115\" xlink:href=\"#m2468d9ad80\" y=\"207.159394\"/>\n     <use style=\"fill:#1f77b4;stroke:#1f77b4;\" x=\"81.563498\" xlink:href=\"#m2468d9ad80\" y=\"206.920501\"/>\n     <use style=\"fill:#1f77b4;stroke:#1f77b4;\" x=\"83.236032\" xlink:href=\"#m2468d9ad80\" y=\"206.925961\"/>\n     <use style=\"fill:#1f77b4;stroke:#1f77b4;\" x=\"77.825604\" xlink:href=\"#m2468d9ad80\" y=\"211.982561\"/>\n     <use style=\"fill:#1f77b4;stroke:#1f77b4;\" x=\"122.840991\" xlink:href=\"#m2468d9ad80\" y=\"188.969361\"/>\n     <use style=\"fill:#1f77b4;stroke:#1f77b4;\" x=\"326.388445\" xlink:href=\"#m2468d9ad80\" y=\"90.618352\"/>\n     <use style=\"fill:#1f77b4;stroke:#1f77b4;\" x=\"142.698143\" xlink:href=\"#m2468d9ad80\" y=\"178.921704\"/>\n     <use style=\"fill:#1f77b4;stroke:#1f77b4;\" x=\"146.354981\" xlink:href=\"#m2468d9ad80\" y=\"176.619776\"/>\n     <use style=\"fill:#1f77b4;stroke:#1f77b4;\" x=\"68.661837\" xlink:href=\"#m2468d9ad80\" y=\"214.307554\"/>\n     <use style=\"fill:#1f77b4;stroke:#1f77b4;\" x=\"353.458399\" xlink:href=\"#m2468d9ad80\" y=\"62.34571\"/>\n     <use style=\"fill:#1f77b4;stroke:#1f77b4;\" x=\"108.888876\" xlink:href=\"#m2468d9ad80\" y=\"194.734509\"/>\n     <use style=\"fill:#1f77b4;stroke:#1f77b4;\" x=\"89.775831\" xlink:href=\"#m2468d9ad80\" y=\"205.900756\"/>\n     <use style=\"fill:#1f77b4;stroke:#1f77b4;\" x=\"138.319784\" xlink:href=\"#m2468d9ad80\" y=\"148.271213\"/>\n     <use style=\"fill:#1f77b4;stroke:#1f77b4;\" x=\"108.028056\" xlink:href=\"#m2468d9ad80\" y=\"195.296557\"/>\n     <use style=\"fill:#1f77b4;stroke:#1f77b4;\" x=\"316.203748\" xlink:href=\"#m2468d9ad80\" y=\"157.19075\"/>\n     <use style=\"fill:#1f77b4;stroke:#1f77b4;\" x=\"143.173056\" xlink:href=\"#m2468d9ad80\" y=\"177.77475\"/>\n     <use style=\"fill:#1f77b4;stroke:#1f77b4;\" x=\"140.748254\" xlink:href=\"#m2468d9ad80\" y=\"179.05405\"/>\n     <use style=\"fill:#1f77b4;stroke:#1f77b4;\" x=\"117.457036\" xlink:href=\"#m2468d9ad80\" y=\"190.47997\"/>\n     <use style=\"fill:#1f77b4;stroke:#1f77b4;\" x=\"109.682452\" xlink:href=\"#m2468d9ad80\" y=\"160.708594\"/>\n     <use style=\"fill:#1f77b4;stroke:#1f77b4;\" x=\"85.649029\" xlink:href=\"#m2468d9ad80\" y=\"205.069983\"/>\n     <use style=\"fill:#1f77b4;stroke:#1f77b4;\" x=\"94.41966\" xlink:href=\"#m2468d9ad80\" y=\"201.046312\"/>\n     <use style=\"fill:#1f77b4;stroke:#1f77b4;\" x=\"348.677335\" xlink:href=\"#m2468d9ad80\" y=\"76.221195\"/>\n     <use style=\"fill:#1f77b4;stroke:#1f77b4;\" x=\"322.266927\" xlink:href=\"#m2468d9ad80\" y=\"92.548374\"/>\n     <use style=\"fill:#1f77b4;stroke:#1f77b4;\" x=\"110.615675\" xlink:href=\"#m2468d9ad80\" y=\"193.515399\"/>\n     <use style=\"fill:#1f77b4;stroke:#1f77b4;\" x=\"89.746198\" xlink:href=\"#m2468d9ad80\" y=\"202.586405\"/>\n     <use style=\"fill:#1f77b4;stroke:#1f77b4;\" x=\"340.785558\" xlink:href=\"#m2468d9ad80\" y=\"124.653903\"/>\n     <use style=\"fill:#1f77b4;stroke:#1f77b4;\" x=\"107.355877\" xlink:href=\"#m2468d9ad80\" y=\"195.180368\"/>\n     <use style=\"fill:#1f77b4;stroke:#1f77b4;\" x=\"85.645719\" xlink:href=\"#m2468d9ad80\" y=\"207.451941\"/>\n     <use style=\"fill:#1f77b4;stroke:#1f77b4;\" x=\"112.8599\" xlink:href=\"#m2468d9ad80\" y=\"196.927297\"/>\n     <use style=\"fill:#1f77b4;stroke:#1f77b4;\" x=\"118.091516\" xlink:href=\"#m2468d9ad80\" y=\"190.69166\"/>\n     <use style=\"fill:#1f77b4;stroke:#1f77b4;\" x=\"329.786799\" xlink:href=\"#m2468d9ad80\" y=\"86.207547\"/>\n     <use style=\"fill:#1f77b4;stroke:#1f77b4;\" x=\"127.112632\" xlink:href=\"#m2468d9ad80\" y=\"185.975203\"/>\n     <use style=\"fill:#1f77b4;stroke:#1f77b4;\" x=\"135.88665\" xlink:href=\"#m2468d9ad80\" y=\"181.586782\"/>\n     <use style=\"fill:#1f77b4;stroke:#1f77b4;\" x=\"131.728071\" xlink:href=\"#m2468d9ad80\" y=\"184.272946\"/>\n     <use style=\"fill:#1f77b4;stroke:#1f77b4;\" x=\"139.291484\" xlink:href=\"#m2468d9ad80\" y=\"179.951934\"/>\n     <use style=\"fill:#1f77b4;stroke:#1f77b4;\" x=\"66.288328\" xlink:href=\"#m2468d9ad80\" y=\"212.045825\"/>\n     <use style=\"fill:#1f77b4;stroke:#1f77b4;\" x=\"308.199546\" xlink:href=\"#m2468d9ad80\" y=\"159.647691\"/>\n     <use style=\"fill:#1f77b4;stroke:#1f77b4;\" x=\"102.458007\" xlink:href=\"#m2468d9ad80\" y=\"197.597449\"/>\n     <use style=\"fill:#1f77b4;stroke:#1f77b4;\" x=\"132.572429\" xlink:href=\"#m2468d9ad80\" y=\"183.83735\"/>\n     <use style=\"fill:#1f77b4;stroke:#1f77b4;\" x=\"85.125705\" xlink:href=\"#m2468d9ad80\" y=\"205.55911\"/>\n     <use style=\"fill:#1f77b4;stroke:#1f77b4;\" x=\"129.277788\" xlink:href=\"#m2468d9ad80\" y=\"187.014341\"/>\n     <use style=\"fill:#1f77b4;stroke:#1f77b4;\" x=\"135.653798\" xlink:href=\"#m2468d9ad80\" y=\"105.299288\"/>\n     <use style=\"fill:#1f77b4;stroke:#1f77b4;\" x=\"288.979666\" xlink:href=\"#m2468d9ad80\" y=\"163.122371\"/>\n     <use style=\"fill:#1f77b4;stroke:#1f77b4;\" x=\"101.270334\" xlink:href=\"#m2468d9ad80\" y=\"199.158563\"/>\n     <use style=\"fill:#1f77b4;stroke:#1f77b4;\" x=\"141.038956\" xlink:href=\"#m2468d9ad80\" y=\"179.317006\"/>\n     <use style=\"fill:#1f77b4;stroke:#1f77b4;\" x=\"85.205566\" xlink:href=\"#m2468d9ad80\" y=\"204.745697\"/>\n     <use style=\"fill:#1f77b4;stroke:#1f77b4;\" x=\"68.894708\" xlink:href=\"#m2468d9ad80\" y=\"212.673686\"/>\n     <use style=\"fill:#1f77b4;stroke:#1f77b4;\" x=\"341.60136\" xlink:href=\"#m2468d9ad80\" y=\"82.903879\"/>\n     <use style=\"fill:#1f77b4;stroke:#1f77b4;\" x=\"113.680684\" xlink:href=\"#m2468d9ad80\" y=\"192.264438\"/>\n     <use style=\"fill:#1f77b4;stroke:#1f77b4;\" x=\"145.920127\" xlink:href=\"#m2468d9ad80\" y=\"176.097162\"/>\n     <use style=\"fill:#1f77b4;stroke:#1f77b4;\" x=\"106.08327\" xlink:href=\"#m2468d9ad80\" y=\"196.377007\"/>\n     <use style=\"fill:#1f77b4;stroke:#1f77b4;\" x=\"313.740974\" xlink:href=\"#m2468d9ad80\" y=\"102.197934\"/>\n     <use style=\"fill:#1f77b4;stroke:#1f77b4;\" x=\"309.040802\" xlink:href=\"#m2468d9ad80\" y=\"155.531499\"/>\n     <use style=\"fill:#1f77b4;stroke:#1f77b4;\" x=\"146.004273\" xlink:href=\"#m2468d9ad80\" y=\"175.861677\"/>\n     <use style=\"fill:#1f77b4;stroke:#1f77b4;\" x=\"331.356885\" xlink:href=\"#m2468d9ad80\" y=\"139.040788\"/>\n     <use style=\"fill:#1f77b4;stroke:#1f77b4;\" x=\"103.075338\" xlink:href=\"#m2468d9ad80\" y=\"197.868488\"/>\n     <use style=\"fill:#1f77b4;stroke:#1f77b4;\" x=\"292.946309\" xlink:href=\"#m2468d9ad80\" y=\"166.1639\"/>\n     <use style=\"fill:#1f77b4;stroke:#1f77b4;\" x=\"128.947145\" xlink:href=\"#m2468d9ad80\" y=\"184.846935\"/>\n     <use style=\"fill:#1f77b4;stroke:#1f77b4;\" x=\"107.492312\" xlink:href=\"#m2468d9ad80\" y=\"195.423441\"/>\n     <use style=\"fill:#1f77b4;stroke:#1f77b4;\" x=\"139.600958\" xlink:href=\"#m2468d9ad80\" y=\"179.373558\"/>\n     <use style=\"fill:#1f77b4;stroke:#1f77b4;\" x=\"93.042932\" xlink:href=\"#m2468d9ad80\" y=\"203.335721\"/>\n     <use style=\"fill:#1f77b4;stroke:#1f77b4;\" x=\"150.226347\" xlink:href=\"#m2468d9ad80\" y=\"173.843169\"/>\n     <use style=\"fill:#1f77b4;stroke:#1f77b4;\" x=\"315.506755\" xlink:href=\"#m2468d9ad80\" y=\"98.851701\"/>\n     <use style=\"fill:#1f77b4;stroke:#1f77b4;\" x=\"122.197903\" xlink:href=\"#m2468d9ad80\" y=\"188.571108\"/>\n     <use style=\"fill:#1f77b4;stroke:#1f77b4;\" x=\"131.883512\" xlink:href=\"#m2468d9ad80\" y=\"183.912041\"/>\n     <use style=\"fill:#1f77b4;stroke:#1f77b4;\" x=\"137.910321\" xlink:href=\"#m2468d9ad80\" y=\"180.537616\"/>\n     <use style=\"fill:#1f77b4;stroke:#1f77b4;\" x=\"294.017612\" xlink:href=\"#m2468d9ad80\" y=\"164.416302\"/>\n     <use style=\"fill:#1f77b4;stroke:#1f77b4;\" x=\"105.527721\" xlink:href=\"#m2468d9ad80\" y=\"196.593026\"/>\n     <use style=\"fill:#1f77b4;stroke:#1f77b4;\" x=\"109.468535\" xlink:href=\"#m2468d9ad80\" y=\"197.924077\"/>\n     <use style=\"fill:#1f77b4;stroke:#1f77b4;\" x=\"122.481882\" xlink:href=\"#m2468d9ad80\" y=\"188.100946\"/>\n     <use style=\"fill:#1f77b4;stroke:#1f77b4;\" x=\"70.601762\" xlink:href=\"#m2468d9ad80\" y=\"212.019552\"/>\n     <use style=\"fill:#1f77b4;stroke:#1f77b4;\" x=\"339.146324\" xlink:href=\"#m2468d9ad80\" y=\"84.392473\"/>\n     <use style=\"fill:#1f77b4;stroke:#1f77b4;\" x=\"294.10171\" xlink:href=\"#m2468d9ad80\" y=\"110.715559\"/>\n     <use style=\"fill:#1f77b4;stroke:#1f77b4;\" x=\"86.242501\" xlink:href=\"#m2468d9ad80\" y=\"206.250787\"/>\n     <use style=\"fill:#1f77b4;stroke:#1f77b4;\" x=\"132.277264\" xlink:href=\"#m2468d9ad80\" y=\"154.85575\"/>\n     <use style=\"fill:#1f77b4;stroke:#1f77b4;\" x=\"89.505235\" xlink:href=\"#m2468d9ad80\" y=\"155.843068\"/>\n     <use style=\"fill:#1f77b4;stroke:#1f77b4;\" x=\"126.692101\" xlink:href=\"#m2468d9ad80\" y=\"187.156612\"/>\n     <use style=\"fill:#1f77b4;stroke:#1f77b4;\" x=\"69.806118\" xlink:href=\"#m2468d9ad80\" y=\"212.233692\"/>\n     <use style=\"fill:#1f77b4;stroke:#1f77b4;\" x=\"75.81776\" xlink:href=\"#m2468d9ad80\" y=\"209.864004\"/>\n     <use style=\"fill:#1f77b4;stroke:#1f77b4;\" x=\"81.12316\" xlink:href=\"#m2468d9ad80\" y=\"207.167314\"/>\n     <use style=\"fill:#1f77b4;stroke:#1f77b4;\" x=\"65.801848\" xlink:href=\"#m2468d9ad80\" y=\"213.491076\"/>\n     <use style=\"fill:#1f77b4;stroke:#1f77b4;\" x=\"99.906672\" xlink:href=\"#m2468d9ad80\" y=\"199.144243\"/>\n     <use style=\"fill:#1f77b4;stroke:#1f77b4;\" x=\"139.924029\" xlink:href=\"#m2468d9ad80\" y=\"180.237235\"/>\n     <use style=\"fill:#1f77b4;stroke:#1f77b4;\" x=\"70.039707\" xlink:href=\"#m2468d9ad80\" y=\"211.436188\"/>\n     <use style=\"fill:#1f77b4;stroke:#1f77b4;\" x=\"351.734073\" xlink:href=\"#m2468d9ad80\" y=\"64.34193\"/>\n     <use style=\"fill:#1f77b4;stroke:#1f77b4;\" x=\"316.835796\" xlink:href=\"#m2468d9ad80\" y=\"148.001674\"/>\n     <use style=\"fill:#1f77b4;stroke:#1f77b4;\" x=\"148.39323\" xlink:href=\"#m2468d9ad80\" y=\"175.225148\"/>\n     <use style=\"fill:#1f77b4;stroke:#1f77b4;\" x=\"93.397333\" xlink:href=\"#m2468d9ad80\" y=\"202.777706\"/>\n     <use style=\"fill:#1f77b4;stroke:#1f77b4;\" x=\"105.359259\" xlink:href=\"#m2468d9ad80\" y=\"196.662489\"/>\n     <use style=\"fill:#1f77b4;stroke:#1f77b4;\" x=\"103.102664\" xlink:href=\"#m2468d9ad80\" y=\"197.306904\"/>\n     <use style=\"fill:#1f77b4;stroke:#1f77b4;\" x=\"86.226886\" xlink:href=\"#m2468d9ad80\" y=\"205.019646\"/>\n     <use style=\"fill:#1f77b4;stroke:#1f77b4;\" x=\"73.720462\" xlink:href=\"#m2468d9ad80\" y=\"211.991795\"/>\n     <use style=\"fill:#1f77b4;stroke:#1f77b4;\" x=\"69.249255\" xlink:href=\"#m2468d9ad80\" y=\"213.455809\"/>\n     <use style=\"fill:#1f77b4;stroke:#1f77b4;\" x=\"351.69143\" xlink:href=\"#m2468d9ad80\" y=\"70.021721\"/>\n     <use style=\"fill:#1f77b4;stroke:#1f77b4;\" x=\"71.486703\" xlink:href=\"#m2468d9ad80\" y=\"210.010285\"/>\n     <use style=\"fill:#1f77b4;stroke:#1f77b4;\" x=\"115.696935\" xlink:href=\"#m2468d9ad80\" y=\"191.308749\"/>\n     <use style=\"fill:#1f77b4;stroke:#1f77b4;\" x=\"125.407423\" xlink:href=\"#m2468d9ad80\" y=\"186.636835\"/>\n     <use style=\"fill:#1f77b4;stroke:#1f77b4;\" x=\"93.061279\" xlink:href=\"#m2468d9ad80\" y=\"202.184892\"/>\n     <use style=\"fill:#1f77b4;stroke:#1f77b4;\" x=\"68.338551\" xlink:href=\"#m2468d9ad80\" y=\"212.831828\"/>\n     <use style=\"fill:#1f77b4;stroke:#1f77b4;\" x=\"93.560972\" xlink:href=\"#m2468d9ad80\" y=\"201.910815\"/>\n     <use style=\"fill:#1f77b4;stroke:#1f77b4;\" x=\"293.366882\" xlink:href=\"#m2468d9ad80\" y=\"105.339825\"/>\n     <use style=\"fill:#1f77b4;stroke:#1f77b4;\" x=\"307.189486\" xlink:href=\"#m2468d9ad80\" y=\"153.569661\"/>\n     <use style=\"fill:#1f77b4;stroke:#1f77b4;\" x=\"80.756432\" xlink:href=\"#m2468d9ad80\" y=\"208.163701\"/>\n     <use style=\"fill:#1f77b4;stroke:#1f77b4;\" x=\"98.159421\" xlink:href=\"#m2468d9ad80\" y=\"200.40649\"/>\n     <use style=\"fill:#1f77b4;stroke:#1f77b4;\" x=\"324.855668\" xlink:href=\"#m2468d9ad80\" y=\"90.984172\"/>\n     <use style=\"fill:#1f77b4;stroke:#1f77b4;\" x=\"121.141746\" xlink:href=\"#m2468d9ad80\" y=\"188.698259\"/>\n     <use style=\"fill:#1f77b4;stroke:#1f77b4;\" x=\"67.990347\" xlink:href=\"#m2468d9ad80\" y=\"212.834778\"/>\n     <use style=\"fill:#1f77b4;stroke:#1f77b4;\" x=\"86.44319\" xlink:href=\"#m2468d9ad80\" y=\"153.156492\"/>\n     <use style=\"fill:#1f77b4;stroke:#1f77b4;\" x=\"114.77583\" xlink:href=\"#m2468d9ad80\" y=\"167.463127\"/>\n     <use style=\"fill:#1f77b4;stroke:#1f77b4;\" x=\"302.978729\" xlink:href=\"#m2468d9ad80\" y=\"161.564484\"/>\n     <use style=\"fill:#1f77b4;stroke:#1f77b4;\" x=\"104.021461\" xlink:href=\"#m2468d9ad80\" y=\"197.139652\"/>\n     <use style=\"fill:#1f77b4;stroke:#1f77b4;\" x=\"88.323193\" xlink:href=\"#m2468d9ad80\" y=\"203.289399\"/>\n     <use style=\"fill:#1f77b4;stroke:#1f77b4;\" x=\"106.509982\" xlink:href=\"#m2468d9ad80\" y=\"126.791143\"/>\n     <use style=\"fill:#1f77b4;stroke:#1f77b4;\" x=\"78.463871\" xlink:href=\"#m2468d9ad80\" y=\"209.047038\"/>\n     <use style=\"fill:#1f77b4;stroke:#1f77b4;\" x=\"133.204386\" xlink:href=\"#m2468d9ad80\" y=\"183.06759\"/>\n     <use style=\"fill:#1f77b4;stroke:#1f77b4;\" x=\"83.150263\" xlink:href=\"#m2468d9ad80\" y=\"206.642442\"/>\n     <use style=\"fill:#1f77b4;stroke:#1f77b4;\" x=\"305.530576\" xlink:href=\"#m2468d9ad80\" y=\"106.522927\"/>\n     <use style=\"fill:#1f77b4;stroke:#1f77b4;\" x=\"138.598208\" xlink:href=\"#m2468d9ad80\" y=\"181.138538\"/>\n     <use style=\"fill:#1f77b4;stroke:#1f77b4;\" x=\"117.960961\" xlink:href=\"#m2468d9ad80\" y=\"189.988628\"/>\n     <use style=\"fill:#1f77b4;stroke:#1f77b4;\" x=\"84.795651\" xlink:href=\"#m2468d9ad80\" y=\"205.642415\"/>\n     <use style=\"fill:#1f77b4;stroke:#1f77b4;\" x=\"348.907436\" xlink:href=\"#m2468d9ad80\" y=\"76.034375\"/>\n     <use style=\"fill:#1f77b4;stroke:#1f77b4;\" x=\"143.604517\" xlink:href=\"#m2468d9ad80\" y=\"177.392119\"/>\n     <use style=\"fill:#1f77b4;stroke:#1f77b4;\" x=\"148.82845\" xlink:href=\"#m2468d9ad80\" y=\"99.670278\"/>\n     <use style=\"fill:#1f77b4;stroke:#1f77b4;\" x=\"360.2802\" xlink:href=\"#m2468d9ad80\" y=\"65.926989\"/>\n     <use style=\"fill:#1f77b4;stroke:#1f77b4;\" x=\"281.96948\" xlink:href=\"#m2468d9ad80\" y=\"171.878865\"/>\n     <use style=\"fill:#1f77b4;stroke:#1f77b4;\" x=\"71.263544\" xlink:href=\"#m2468d9ad80\" y=\"211.428499\"/>\n     <use style=\"fill:#1f77b4;stroke:#1f77b4;\" x=\"93.96792\" xlink:href=\"#m2468d9ad80\" y=\"201.444637\"/>\n     <use style=\"fill:#1f77b4;stroke:#1f77b4;\" x=\"113.502021\" xlink:href=\"#m2468d9ad80\" y=\"192.548388\"/>\n     <use style=\"fill:#1f77b4;stroke:#1f77b4;\" x=\"78.975233\" xlink:href=\"#m2468d9ad80\" y=\"207.580203\"/>\n     <use style=\"fill:#1f77b4;stroke:#1f77b4;\" x=\"315.758441\" xlink:href=\"#m2468d9ad80\" y=\"148.656188\"/>\n     <use style=\"fill:#1f77b4;stroke:#1f77b4;\" x=\"106.825667\" xlink:href=\"#m2468d9ad80\" y=\"196.018995\"/>\n     <use style=\"fill:#1f77b4;stroke:#1f77b4;\" x=\"130.321302\" xlink:href=\"#m2468d9ad80\" y=\"184.275723\"/>\n     <use style=\"fill:#1f77b4;stroke:#1f77b4;\" x=\"345.096912\" xlink:href=\"#m2468d9ad80\" y=\"77.206093\"/>\n     <use style=\"fill:#1f77b4;stroke:#1f77b4;\" x=\"89.760835\" xlink:href=\"#m2468d9ad80\" y=\"204.013175\"/>\n     <use style=\"fill:#1f77b4;stroke:#1f77b4;\" x=\"106.385079\" xlink:href=\"#m2468d9ad80\" y=\"195.70772\"/>\n     <use style=\"fill:#1f77b4;stroke:#1f77b4;\" x=\"363.344318\" xlink:href=\"#m2468d9ad80\" y=\"61.837775\"/>\n     <use style=\"fill:#1f77b4;stroke:#1f77b4;\" x=\"111.92556\" xlink:href=\"#m2468d9ad80\" y=\"197.668901\"/>\n     <use style=\"fill:#1f77b4;stroke:#1f77b4;\" x=\"67.932492\" xlink:href=\"#m2468d9ad80\" y=\"212.43898\"/>\n     <use style=\"fill:#1f77b4;stroke:#1f77b4;\" x=\"79.694063\" xlink:href=\"#m2468d9ad80\" y=\"212.455821\"/>\n     <use style=\"fill:#1f77b4;stroke:#1f77b4;\" x=\"74.428525\" xlink:href=\"#m2468d9ad80\" y=\"210.250207\"/>\n     <use style=\"fill:#1f77b4;stroke:#1f77b4;\" x=\"72.38105\" xlink:href=\"#m2468d9ad80\" y=\"209.34811\"/>\n     <use style=\"fill:#1f77b4;stroke:#1f77b4;\" x=\"337.32306\" xlink:href=\"#m2468d9ad80\" y=\"79.270443\"/>\n     <use style=\"fill:#1f77b4;stroke:#1f77b4;\" x=\"72.938073\" xlink:href=\"#m2468d9ad80\" y=\"213.117014\"/>\n     <use style=\"fill:#1f77b4;stroke:#1f77b4;\" x=\"82.192891\" xlink:href=\"#m2468d9ad80\" y=\"209.715352\"/>\n     <use style=\"fill:#1f77b4;stroke:#1f77b4;\" x=\"330.212816\" xlink:href=\"#m2468d9ad80\" y=\"140.605182\"/>\n     <use style=\"fill:#1f77b4;stroke:#1f77b4;\" x=\"86.075331\" xlink:href=\"#m2468d9ad80\" y=\"205.739893\"/>\n     <use style=\"fill:#1f77b4;stroke:#1f77b4;\" x=\"124.44\" xlink:href=\"#m2468d9ad80\" y=\"186.919681\"/>\n     <use style=\"fill:#1f77b4;stroke:#1f77b4;\" x=\"117.547408\" xlink:href=\"#m2468d9ad80\" y=\"191.166116\"/>\n     <use style=\"fill:#1f77b4;stroke:#1f77b4;\" x=\"73.610114\" xlink:href=\"#m2468d9ad80\" y=\"212.48939\"/>\n     <use style=\"fill:#1f77b4;stroke:#1f77b4;\" x=\"312.008965\" xlink:href=\"#m2468d9ad80\" y=\"156.101465\"/>\n     <use style=\"fill:#1f77b4;stroke:#1f77b4;\" x=\"127.518495\" xlink:href=\"#m2468d9ad80\" y=\"186.885856\"/>\n     <use style=\"fill:#1f77b4;stroke:#1f77b4;\" x=\"73.018198\" xlink:href=\"#m2468d9ad80\" y=\"157.409546\"/>\n     <use style=\"fill:#1f77b4;stroke:#1f77b4;\" x=\"95.755447\" xlink:href=\"#m2468d9ad80\" y=\"204.645242\"/>\n     <use style=\"fill:#1f77b4;stroke:#1f77b4;\" x=\"315.449216\" xlink:href=\"#m2468d9ad80\" y=\"104.233263\"/>\n     <use style=\"fill:#1f77b4;stroke:#1f77b4;\" x=\"117.025561\" xlink:href=\"#m2468d9ad80\" y=\"190.847475\"/>\n     <use style=\"fill:#1f77b4;stroke:#1f77b4;\" x=\"73.571983\" xlink:href=\"#m2468d9ad80\" y=\"212.198447\"/>\n     <use style=\"fill:#1f77b4;stroke:#1f77b4;\" x=\"131.332004\" xlink:href=\"#m2468d9ad80\" y=\"133.253549\"/>\n     <use style=\"fill:#1f77b4;stroke:#1f77b4;\" x=\"321.901544\" xlink:href=\"#m2468d9ad80\" y=\"96.994914\"/>\n     <use style=\"fill:#1f77b4;stroke:#1f77b4;\" x=\"154.9913\" xlink:href=\"#m2468d9ad80\" y=\"116.68332\"/>\n     <use style=\"fill:#1f77b4;stroke:#1f77b4;\" x=\"104.971867\" xlink:href=\"#m2468d9ad80\" y=\"196.50726\"/>\n     <use style=\"fill:#1f77b4;stroke:#1f77b4;\" x=\"352.70359\" xlink:href=\"#m2468d9ad80\" y=\"68.314451\"/>\n     <use style=\"fill:#1f77b4;stroke:#1f77b4;\" x=\"336.929184\" xlink:href=\"#m2468d9ad80\" y=\"80.14177\"/>\n     <use style=\"fill:#1f77b4;stroke:#1f77b4;\" x=\"126.527788\" xlink:href=\"#m2468d9ad80\" y=\"186.687878\"/>\n     <use style=\"fill:#1f77b4;stroke:#1f77b4;\" x=\"123.603774\" xlink:href=\"#m2468d9ad80\" y=\"187.812921\"/>\n     <use style=\"fill:#1f77b4;stroke:#1f77b4;\" x=\"71.973926\" xlink:href=\"#m2468d9ad80\" y=\"212.978855\"/>\n     <use style=\"fill:#1f77b4;stroke:#1f77b4;\" x=\"307.898556\" xlink:href=\"#m2468d9ad80\" y=\"156.138863\"/>\n     <use style=\"fill:#1f77b4;stroke:#1f77b4;\" x=\"69.272152\" xlink:href=\"#m2468d9ad80\" y=\"211.300767\"/>\n     <use style=\"fill:#1f77b4;stroke:#1f77b4;\" x=\"64.535681\" xlink:href=\"#m2468d9ad80\" y=\"212.472504\"/>\n     <use style=\"fill:#1f77b4;stroke:#1f77b4;\" x=\"111.73254\" xlink:href=\"#m2468d9ad80\" y=\"193.761334\"/>\n     <use style=\"fill:#1f77b4;stroke:#1f77b4;\" x=\"106.534402\" xlink:href=\"#m2468d9ad80\" y=\"195.693178\"/>\n     <use style=\"fill:#1f77b4;stroke:#1f77b4;\" x=\"92.335458\" xlink:href=\"#m2468d9ad80\" y=\"208.951399\"/>\n     <use style=\"fill:#1f77b4;stroke:#1f77b4;\" x=\"295.529744\" xlink:href=\"#m2468d9ad80\" y=\"113.698053\"/>\n     <use style=\"fill:#1f77b4;stroke:#1f77b4;\" x=\"78.963604\" xlink:href=\"#m2468d9ad80\" y=\"209.040073\"/>\n     <use style=\"fill:#1f77b4;stroke:#1f77b4;\" x=\"140.878733\" xlink:href=\"#m2468d9ad80\" y=\"179.017107\"/>\n     <use style=\"fill:#1f77b4;stroke:#1f77b4;\" x=\"77.547437\" xlink:href=\"#m2468d9ad80\" y=\"208.148272\"/>\n     <use style=\"fill:#1f77b4;stroke:#1f77b4;\" x=\"82.753753\" xlink:href=\"#m2468d9ad80\" y=\"207.292096\"/>\n     <use style=\"fill:#1f77b4;stroke:#1f77b4;\" x=\"154.922409\" xlink:href=\"#m2468d9ad80\" y=\"171.116661\"/>\n     <use style=\"fill:#1f77b4;stroke:#1f77b4;\" x=\"70.659642\" xlink:href=\"#m2468d9ad80\" y=\"211.512352\"/>\n     <use style=\"fill:#1f77b4;stroke:#1f77b4;\" x=\"293.645292\" xlink:href=\"#m2468d9ad80\" y=\"161.894944\"/>\n     <use style=\"fill:#1f77b4;stroke:#1f77b4;\" x=\"100.911391\" xlink:href=\"#m2468d9ad80\" y=\"197.737864\"/>\n     <use style=\"fill:#1f77b4;stroke:#1f77b4;\" x=\"123.447523\" xlink:href=\"#m2468d9ad80\" y=\"188.510765\"/>\n     <use style=\"fill:#1f77b4;stroke:#1f77b4;\" x=\"93.795623\" xlink:href=\"#m2468d9ad80\" y=\"201.457376\"/>\n     <use style=\"fill:#1f77b4;stroke:#1f77b4;\" x=\"70.561814\" xlink:href=\"#m2468d9ad80\" y=\"213.069546\"/>\n     <use style=\"fill:#1f77b4;stroke:#1f77b4;\" x=\"330.253497\" xlink:href=\"#m2468d9ad80\" y=\"143.416953\"/>\n     <use style=\"fill:#1f77b4;stroke:#1f77b4;\" x=\"147.662299\" xlink:href=\"#m2468d9ad80\" y=\"175.293585\"/>\n     <use style=\"fill:#1f77b4;stroke:#1f77b4;\" x=\"327.184405\" xlink:href=\"#m2468d9ad80\" y=\"89.724983\"/>\n     <use style=\"fill:#1f77b4;stroke:#1f77b4;\" x=\"141.066786\" xlink:href=\"#m2468d9ad80\" y=\"179.436818\"/>\n     <use style=\"fill:#1f77b4;stroke:#1f77b4;\" x=\"117.045715\" xlink:href=\"#m2468d9ad80\" y=\"190.941936\"/>\n     <use style=\"fill:#1f77b4;stroke:#1f77b4;\" x=\"155.511737\" xlink:href=\"#m2468d9ad80\" y=\"171.444783\"/>\n     <use style=\"fill:#1f77b4;stroke:#1f77b4;\" x=\"86.862374\" xlink:href=\"#m2468d9ad80\" y=\"147.668364\"/>\n     <use style=\"fill:#1f77b4;stroke:#1f77b4;\" x=\"154.792994\" xlink:href=\"#m2468d9ad80\" y=\"171.999015\"/>\n     <use style=\"fill:#1f77b4;stroke:#1f77b4;\" x=\"146.547953\" xlink:href=\"#m2468d9ad80\" y=\"175.823885\"/>\n     <use style=\"fill:#1f77b4;stroke:#1f77b4;\" x=\"117.345841\" xlink:href=\"#m2468d9ad80\" y=\"190.696606\"/>\n     <use style=\"fill:#1f77b4;stroke:#1f77b4;\" x=\"122.174827\" xlink:href=\"#m2468d9ad80\" y=\"133.494203\"/>\n     <use style=\"fill:#1f77b4;stroke:#1f77b4;\" x=\"92.236243\" xlink:href=\"#m2468d9ad80\" y=\"203.09885\"/>\n     <use style=\"fill:#1f77b4;stroke:#1f77b4;\" x=\"148.932626\" xlink:href=\"#m2468d9ad80\" y=\"175.176183\"/>\n     <use style=\"fill:#1f77b4;stroke:#1f77b4;\" x=\"76.150352\" xlink:href=\"#m2468d9ad80\" y=\"208.045462\"/>\n     <use style=\"fill:#1f77b4;stroke:#1f77b4;\" x=\"151.628908\" xlink:href=\"#m2468d9ad80\" y=\"173.706801\"/>\n     <use style=\"fill:#1f77b4;stroke:#1f77b4;\" x=\"292.564124\" xlink:href=\"#m2468d9ad80\" y=\"165.954883\"/>\n     <use style=\"fill:#1f77b4;stroke:#1f77b4;\" x=\"74.033184\" xlink:href=\"#m2468d9ad80\" y=\"213.112589\"/>\n     <use style=\"fill:#1f77b4;stroke:#1f77b4;\" x=\"89.558809\" xlink:href=\"#m2468d9ad80\" y=\"203.686879\"/>\n     <use style=\"fill:#1f77b4;stroke:#1f77b4;\" x=\"135.955879\" xlink:href=\"#m2468d9ad80\" y=\"181.82469\"/>\n     <use style=\"fill:#1f77b4;stroke:#1f77b4;\" x=\"130.186975\" xlink:href=\"#m2468d9ad80\" y=\"184.897842\"/>\n     <use style=\"fill:#1f77b4;stroke:#1f77b4;\" x=\"99.802337\" xlink:href=\"#m2468d9ad80\" y=\"198.879456\"/>\n     <use style=\"fill:#1f77b4;stroke:#1f77b4;\" x=\"101.011449\" xlink:href=\"#m2468d9ad80\" y=\"198.804749\"/>\n     <use style=\"fill:#1f77b4;stroke:#1f77b4;\" x=\"135.595679\" xlink:href=\"#m2468d9ad80\" y=\"181.724004\"/>\n     <use style=\"fill:#1f77b4;stroke:#1f77b4;\" x=\"150.602176\" xlink:href=\"#m2468d9ad80\" y=\"173.726916\"/>\n     <use style=\"fill:#1f77b4;stroke:#1f77b4;\" x=\"100.980952\" xlink:href=\"#m2468d9ad80\" y=\"198.477086\"/>\n     <use style=\"fill:#1f77b4;stroke:#1f77b4;\" x=\"358.268703\" xlink:href=\"#m2468d9ad80\" y=\"62.244045\"/>\n     <use style=\"fill:#1f77b4;stroke:#1f77b4;\" x=\"69.795247\" xlink:href=\"#m2468d9ad80\" y=\"212.524656\"/>\n     <use style=\"fill:#1f77b4;stroke:#1f77b4;\" x=\"110.447541\" xlink:href=\"#m2468d9ad80\" y=\"193.797853\"/>\n     <use style=\"fill:#1f77b4;stroke:#1f77b4;\" x=\"145.359513\" xlink:href=\"#m2468d9ad80\" y=\"176.626168\"/>\n     <use style=\"fill:#1f77b4;stroke:#1f77b4;\" x=\"86.242487\" xlink:href=\"#m2468d9ad80\" y=\"205.37073\"/>\n     <use style=\"fill:#1f77b4;stroke:#1f77b4;\" x=\"326.720443\" xlink:href=\"#m2468d9ad80\" y=\"139.464362\"/>\n     <use style=\"fill:#1f77b4;stroke:#1f77b4;\" x=\"342.342738\" xlink:href=\"#m2468d9ad80\" y=\"81.502104\"/>\n     <use style=\"fill:#1f77b4;stroke:#1f77b4;\" x=\"117.849793\" xlink:href=\"#m2468d9ad80\" y=\"190.907347\"/>\n     <use style=\"fill:#1f77b4;stroke:#1f77b4;\" x=\"121.660615\" xlink:href=\"#m2468d9ad80\" y=\"134.30424\"/>\n     <use style=\"fill:#1f77b4;stroke:#1f77b4;\" x=\"152.808407\" xlink:href=\"#m2468d9ad80\" y=\"173.340436\"/>\n     <use style=\"fill:#1f77b4;stroke:#1f77b4;\" x=\"120.555589\" xlink:href=\"#m2468d9ad80\" y=\"192.368463\"/>\n     <use style=\"fill:#1f77b4;stroke:#1f77b4;\" x=\"123.563894\" xlink:href=\"#m2468d9ad80\" y=\"187.427816\"/>\n     <use style=\"fill:#1f77b4;stroke:#1f77b4;\" x=\"108.82365\" xlink:href=\"#m2468d9ad80\" y=\"174.226885\"/>\n     <use style=\"fill:#1f77b4;stroke:#1f77b4;\" x=\"103.076361\" xlink:href=\"#m2468d9ad80\" y=\"142.592224\"/>\n     <use style=\"fill:#1f77b4;stroke:#1f77b4;\" x=\"337.561922\" xlink:href=\"#m2468d9ad80\" y=\"127.998326\"/>\n     <use style=\"fill:#1f77b4;stroke:#1f77b4;\" x=\"108.691869\" xlink:href=\"#m2468d9ad80\" y=\"195.379803\"/>\n     <use style=\"fill:#1f77b4;stroke:#1f77b4;\" x=\"126.148981\" xlink:href=\"#m2468d9ad80\" y=\"187.655377\"/>\n     <use style=\"fill:#1f77b4;stroke:#1f77b4;\" x=\"103.807654\" xlink:href=\"#m2468d9ad80\" y=\"197.139154\"/>\n     <use style=\"fill:#1f77b4;stroke:#1f77b4;\" x=\"92.474891\" xlink:href=\"#m2468d9ad80\" y=\"205.519876\"/>\n     <use style=\"fill:#1f77b4;stroke:#1f77b4;\" x=\"118.804959\" xlink:href=\"#m2468d9ad80\" y=\"190.765811\"/>\n     <use style=\"fill:#1f77b4;stroke:#1f77b4;\" x=\"100.29122\" xlink:href=\"#m2468d9ad80\" y=\"199.326661\"/>\n     <use style=\"fill:#1f77b4;stroke:#1f77b4;\" x=\"93.916298\" xlink:href=\"#m2468d9ad80\" y=\"202.942554\"/>\n     <use style=\"fill:#1f77b4;stroke:#1f77b4;\" x=\"134.812625\" xlink:href=\"#m2468d9ad80\" y=\"182.506339\"/>\n     <use style=\"fill:#1f77b4;stroke:#1f77b4;\" x=\"89.518055\" xlink:href=\"#m2468d9ad80\" y=\"203.191621\"/>\n     <use style=\"fill:#1f77b4;stroke:#1f77b4;\" x=\"69.642711\" xlink:href=\"#m2468d9ad80\" y=\"210.050514\"/>\n     <use style=\"fill:#1f77b4;stroke:#1f77b4;\" x=\"123.450253\" xlink:href=\"#m2468d9ad80\" y=\"171.805913\"/>\n     <use style=\"fill:#1f77b4;stroke:#1f77b4;\" x=\"92.702395\" xlink:href=\"#m2468d9ad80\" y=\"202.807734\"/>\n     <use style=\"fill:#1f77b4;stroke:#1f77b4;\" x=\"138.890064\" xlink:href=\"#m2468d9ad80\" y=\"179.953665\"/>\n     <use style=\"fill:#1f77b4;stroke:#1f77b4;\" x=\"316.595994\" xlink:href=\"#m2468d9ad80\" y=\"93.618068\"/>\n     <use style=\"fill:#1f77b4;stroke:#1f77b4;\" x=\"85.86248\" xlink:href=\"#m2468d9ad80\" y=\"207.950121\"/>\n     <use style=\"fill:#1f77b4;stroke:#1f77b4;\" x=\"110.907424\" xlink:href=\"#m2468d9ad80\" y=\"193.500591\"/>\n     <use style=\"fill:#1f77b4;stroke:#1f77b4;\" x=\"141.655085\" xlink:href=\"#m2468d9ad80\" y=\"178.091737\"/>\n     <use style=\"fill:#1f77b4;stroke:#1f77b4;\" x=\"80.140129\" xlink:href=\"#m2468d9ad80\" y=\"207.580802\"/>\n     <use style=\"fill:#1f77b4;stroke:#1f77b4;\" x=\"120.34553\" xlink:href=\"#m2468d9ad80\" y=\"189.524459\"/>\n     <use style=\"fill:#1f77b4;stroke:#1f77b4;\" x=\"303.545996\" xlink:href=\"#m2468d9ad80\" y=\"160.667424\"/>\n     <use style=\"fill:#1f77b4;stroke:#1f77b4;\" x=\"120.080613\" xlink:href=\"#m2468d9ad80\" y=\"189.095265\"/>\n     <use style=\"fill:#1f77b4;stroke:#1f77b4;\" x=\"93.516339\" xlink:href=\"#m2468d9ad80\" y=\"202.558589\"/>\n     <use style=\"fill:#1f77b4;stroke:#1f77b4;\" x=\"100.209582\" xlink:href=\"#m2468d9ad80\" y=\"200.155924\"/>\n     <use style=\"fill:#1f77b4;stroke:#1f77b4;\" x=\"64.88857\" xlink:href=\"#m2468d9ad80\" y=\"214.725388\"/>\n     <use style=\"fill:#1f77b4;stroke:#1f77b4;\" x=\"93.885421\" xlink:href=\"#m2468d9ad80\" y=\"202.447007\"/>\n     <use style=\"fill:#1f77b4;stroke:#1f77b4;\" x=\"110.937997\" xlink:href=\"#m2468d9ad80\" y=\"193.444964\"/>\n     <use style=\"fill:#1f77b4;stroke:#1f77b4;\" x=\"297.129264\" xlink:href=\"#m2468d9ad80\" y=\"109.327239\"/>\n     <use style=\"fill:#1f77b4;stroke:#1f77b4;\" x=\"146.726498\" xlink:href=\"#m2468d9ad80\" y=\"176.788776\"/>\n     <use style=\"fill:#1f77b4;stroke:#1f77b4;\" x=\"70.514473\" xlink:href=\"#m2468d9ad80\" y=\"194.812996\"/>\n     <use style=\"fill:#1f77b4;stroke:#1f77b4;\" x=\"308.618626\" xlink:href=\"#m2468d9ad80\" y=\"106.436577\"/>\n     <use style=\"fill:#1f77b4;stroke:#1f77b4;\" x=\"80.206411\" xlink:href=\"#m2468d9ad80\" y=\"159.779711\"/>\n     <use style=\"fill:#1f77b4;stroke:#1f77b4;\" x=\"125.878377\" xlink:href=\"#m2468d9ad80\" y=\"186.645945\"/>\n     <use style=\"fill:#1f77b4;stroke:#1f77b4;\" x=\"71.781294\" xlink:href=\"#m2468d9ad80\" y=\"208.994797\"/>\n     <use style=\"fill:#1f77b4;stroke:#1f77b4;\" x=\"155.143853\" xlink:href=\"#m2468d9ad80\" y=\"128.512985\"/>\n     <use style=\"fill:#1f77b4;stroke:#1f77b4;\" x=\"86.671707\" xlink:href=\"#m2468d9ad80\" y=\"204.729729\"/>\n     <use style=\"fill:#1f77b4;stroke:#1f77b4;\" x=\"78.057288\" xlink:href=\"#m2468d9ad80\" y=\"210.334238\"/>\n     <use style=\"fill:#1f77b4;stroke:#1f77b4;\" x=\"339.788929\" xlink:href=\"#m2468d9ad80\" y=\"80.858732\"/>\n     <use style=\"fill:#1f77b4;stroke:#1f77b4;\" x=\"73.50086\" xlink:href=\"#m2468d9ad80\" y=\"210.454242\"/>\n     <use style=\"fill:#1f77b4;stroke:#1f77b4;\" x=\"91.662695\" xlink:href=\"#m2468d9ad80\" y=\"202.273056\"/>\n     <use style=\"fill:#1f77b4;stroke:#1f77b4;\" x=\"303.716348\" xlink:href=\"#m2468d9ad80\" y=\"109.349412\"/>\n     <use style=\"fill:#1f77b4;stroke:#1f77b4;\" x=\"338.180759\" xlink:href=\"#m2468d9ad80\" y=\"84.345912\"/>\n     <use style=\"fill:#1f77b4;stroke:#1f77b4;\" x=\"78.572395\" xlink:href=\"#m2468d9ad80\" y=\"210.329813\"/>\n     <use style=\"fill:#1f77b4;stroke:#1f77b4;\" x=\"76.58556\" xlink:href=\"#m2468d9ad80\" y=\"177.814279\"/>\n     <use style=\"fill:#1f77b4;stroke:#1f77b4;\" x=\"309.958666\" xlink:href=\"#m2468d9ad80\" y=\"103.931193\"/>\n     <use style=\"fill:#1f77b4;stroke:#1f77b4;\" x=\"89.490781\" xlink:href=\"#m2468d9ad80\" y=\"204.000635\"/>\n     <use style=\"fill:#1f77b4;stroke:#1f77b4;\" x=\"81.555573\" xlink:href=\"#m2468d9ad80\" y=\"207.880136\"/>\n     <use style=\"fill:#1f77b4;stroke:#1f77b4;\" x=\"71.72992\" xlink:href=\"#m2468d9ad80\" y=\"211.270193\"/>\n     <use style=\"fill:#1f77b4;stroke:#1f77b4;\" x=\"127.816216\" xlink:href=\"#m2468d9ad80\" y=\"185.826094\"/>\n     <use style=\"fill:#1f77b4;stroke:#1f77b4;\" x=\"126.326352\" xlink:href=\"#m2468d9ad80\" y=\"186.616267\"/>\n     <use style=\"fill:#1f77b4;stroke:#1f77b4;\" x=\"111.290635\" xlink:href=\"#m2468d9ad80\" y=\"193.816172\"/>\n     <use style=\"fill:#1f77b4;stroke:#1f77b4;\" x=\"121.111325\" xlink:href=\"#m2468d9ad80\" y=\"188.620314\"/>\n     <use style=\"fill:#1f77b4;stroke:#1f77b4;\" x=\"69.620469\" xlink:href=\"#m2468d9ad80\" y=\"148.919558\"/>\n     <use style=\"fill:#1f77b4;stroke:#1f77b4;\" x=\"129.487259\" xlink:href=\"#m2468d9ad80\" y=\"184.618526\"/>\n     <use style=\"fill:#1f77b4;stroke:#1f77b4;\" x=\"153.97212\" xlink:href=\"#m2468d9ad80\" y=\"172.334845\"/>\n     <use style=\"fill:#1f77b4;stroke:#1f77b4;\" x=\"97.038953\" xlink:href=\"#m2468d9ad80\" y=\"210.52391\"/>\n     <use style=\"fill:#1f77b4;stroke:#1f77b4;\" x=\"103.254723\" xlink:href=\"#m2468d9ad80\" y=\"197.284795\"/>\n     <use style=\"fill:#1f77b4;stroke:#1f77b4;\" x=\"71.674621\" xlink:href=\"#m2468d9ad80\" y=\"210.461375\"/>\n     <use style=\"fill:#1f77b4;stroke:#1f77b4;\" x=\"78.781406\" xlink:href=\"#m2468d9ad80\" y=\"208.48916\"/>\n     <use style=\"fill:#1f77b4;stroke:#1f77b4;\" x=\"71.765923\" xlink:href=\"#m2468d9ad80\" y=\"211.996656\"/>\n     <use style=\"fill:#1f77b4;stroke:#1f77b4;\" x=\"331.859401\" xlink:href=\"#m2468d9ad80\" y=\"139.513995\"/>\n     <use style=\"fill:#1f77b4;stroke:#1f77b4;\" x=\"87.32177\" xlink:href=\"#m2468d9ad80\" y=\"207.397378\"/>\n     <use style=\"fill:#1f77b4;stroke:#1f77b4;\" x=\"140.224258\" xlink:href=\"#m2468d9ad80\" y=\"179.471683\"/>\n     <use style=\"fill:#1f77b4;stroke:#1f77b4;\" x=\"93.093161\" xlink:href=\"#m2468d9ad80\" y=\"202.642271\"/>\n     <use style=\"fill:#1f77b4;stroke:#1f77b4;\" x=\"78.467851\" xlink:href=\"#m2468d9ad80\" y=\"208.197671\"/>\n     <use style=\"fill:#1f77b4;stroke:#1f77b4;\" x=\"115.512855\" xlink:href=\"#m2468d9ad80\" y=\"191.890227\"/>\n     <use style=\"fill:#1f77b4;stroke:#1f77b4;\" x=\"102.478009\" xlink:href=\"#m2468d9ad80\" y=\"199.562007\"/>\n     <use style=\"fill:#1f77b4;stroke:#1f77b4;\" x=\"74.512412\" xlink:href=\"#m2468d9ad80\" y=\"209.877593\"/>\n     <use style=\"fill:#1f77b4;stroke:#1f77b4;\" x=\"85.457601\" xlink:href=\"#m2468d9ad80\" y=\"153.478502\"/>\n     <use style=\"fill:#1f77b4;stroke:#1f77b4;\" x=\"82.011008\" xlink:href=\"#m2468d9ad80\" y=\"205.947462\"/>\n     <use style=\"fill:#1f77b4;stroke:#1f77b4;\" x=\"87.640522\" xlink:href=\"#m2468d9ad80\" y=\"204.353005\"/>\n     <use style=\"fill:#1f77b4;stroke:#1f77b4;\" x=\"361.992007\" xlink:href=\"#m2468d9ad80\" y=\"61.844074\"/>\n     <use style=\"fill:#1f77b4;stroke:#1f77b4;\" x=\"72.670697\" xlink:href=\"#m2468d9ad80\" y=\"137.708363\"/>\n     <use style=\"fill:#1f77b4;stroke:#1f77b4;\" x=\"117.776266\" xlink:href=\"#m2468d9ad80\" y=\"190.688907\"/>\n     <use style=\"fill:#1f77b4;stroke:#1f77b4;\" x=\"309.286656\" xlink:href=\"#m2468d9ad80\" y=\"154.699237\"/>\n     <use style=\"fill:#1f77b4;stroke:#1f77b4;\" x=\"79.04095\" xlink:href=\"#m2468d9ad80\" y=\"207.816885\"/>\n     <use style=\"fill:#1f77b4;stroke:#1f77b4;\" x=\"66.275448\" xlink:href=\"#m2468d9ad80\" y=\"214.324092\"/>\n     <use style=\"fill:#1f77b4;stroke:#1f77b4;\" x=\"94.546629\" xlink:href=\"#m2468d9ad80\" y=\"201.494231\"/>\n     <use style=\"fill:#1f77b4;stroke:#1f77b4;\" x=\"118.231495\" xlink:href=\"#m2468d9ad80\" y=\"190.177508\"/>\n     <use style=\"fill:#1f77b4;stroke:#1f77b4;\" x=\"123.867523\" xlink:href=\"#m2468d9ad80\" y=\"188.707436\"/>\n     <use style=\"fill:#1f77b4;stroke:#1f77b4;\" x=\"142.231382\" xlink:href=\"#m2468d9ad80\" y=\"178.989156\"/>\n     <use style=\"fill:#1f77b4;stroke:#1f77b4;\" x=\"131.883174\" xlink:href=\"#m2468d9ad80\" y=\"184.269817\"/>\n     <use style=\"fill:#1f77b4;stroke:#1f77b4;\" x=\"133.088879\" xlink:href=\"#m2468d9ad80\" y=\"183.121986\"/>\n     <use style=\"fill:#1f77b4;stroke:#1f77b4;\" x=\"121.583806\" xlink:href=\"#m2468d9ad80\" y=\"188.451817\"/>\n     <use style=\"fill:#1f77b4;stroke:#1f77b4;\" x=\"318.003605\" xlink:href=\"#m2468d9ad80\" y=\"97.824972\"/>\n     <use style=\"fill:#1f77b4;stroke:#1f77b4;\" x=\"77.266268\" xlink:href=\"#m2468d9ad80\" y=\"208.574683\"/>\n     <use style=\"fill:#1f77b4;stroke:#1f77b4;\" x=\"91.941419\" xlink:href=\"#m2468d9ad80\" y=\"203.344571\"/>\n     <use style=\"fill:#1f77b4;stroke:#1f77b4;\" x=\"71.308889\" xlink:href=\"#m2468d9ad80\" y=\"211.597769\"/>\n     <use style=\"fill:#1f77b4;stroke:#1f77b4;\" x=\"133.531872\" xlink:href=\"#m2468d9ad80\" y=\"183.102319\"/>\n     <use style=\"fill:#1f77b4;stroke:#1f77b4;\" x=\"151.634511\" xlink:href=\"#m2468d9ad80\" y=\"173.704343\"/>\n     <use style=\"fill:#1f77b4;stroke:#1f77b4;\" x=\"78.019231\" xlink:href=\"#m2468d9ad80\" y=\"209.029084\"/>\n     <use style=\"fill:#1f77b4;stroke:#1f77b4;\" x=\"63.442085\" xlink:href=\"#m2468d9ad80\" y=\"213.150226\"/>\n     <use style=\"fill:#1f77b4;stroke:#1f77b4;\" x=\"306.965768\" xlink:href=\"#m2468d9ad80\" y=\"155.58705\"/>\n     <use style=\"fill:#1f77b4;stroke:#1f77b4;\" x=\"85.629739\" xlink:href=\"#m2468d9ad80\" y=\"205.958558\"/>\n     <use style=\"fill:#1f77b4;stroke:#1f77b4;\" x=\"143.641446\" xlink:href=\"#m2468d9ad80\" y=\"177.706582\"/>\n     <use style=\"fill:#1f77b4;stroke:#1f77b4;\" x=\"87.092324\" xlink:href=\"#m2468d9ad80\" y=\"205.255161\"/>\n     <use style=\"fill:#1f77b4;stroke:#1f77b4;\" x=\"75.973338\" xlink:href=\"#m2468d9ad80\" y=\"209.613011\"/>\n     <use style=\"fill:#1f77b4;stroke:#1f77b4;\" x=\"87.381098\" xlink:href=\"#m2468d9ad80\" y=\"204.738624\"/>\n     <use style=\"fill:#1f77b4;stroke:#1f77b4;\" x=\"108.517054\" xlink:href=\"#m2468d9ad80\" y=\"139.247785\"/>\n     <use style=\"fill:#1f77b4;stroke:#1f77b4;\" x=\"72.23425\" xlink:href=\"#m2468d9ad80\" y=\"209.651847\"/>\n     <use style=\"fill:#1f77b4;stroke:#1f77b4;\" x=\"123.323815\" xlink:href=\"#m2468d9ad80\" y=\"188.442786\"/>\n     <use style=\"fill:#1f77b4;stroke:#1f77b4;\" x=\"274.667992\" xlink:href=\"#m2468d9ad80\" y=\"172.43256\"/>\n     <use style=\"fill:#1f77b4;stroke:#1f77b4;\" x=\"89.566533\" xlink:href=\"#m2468d9ad80\" y=\"203.691218\"/>\n     <use style=\"fill:#1f77b4;stroke:#1f77b4;\" x=\"135.395486\" xlink:href=\"#m2468d9ad80\" y=\"181.714889\"/>\n     <use style=\"fill:#1f77b4;stroke:#1f77b4;\" x=\"70.484878\" xlink:href=\"#m2468d9ad80\" y=\"212.318227\"/>\n     <use style=\"fill:#1f77b4;stroke:#1f77b4;\" x=\"143.451818\" xlink:href=\"#m2468d9ad80\" y=\"177.424816\"/>\n     <use style=\"fill:#1f77b4;stroke:#1f77b4;\" x=\"84.590011\" xlink:href=\"#m2468d9ad80\" y=\"160.870674\"/>\n     <use style=\"fill:#1f77b4;stroke:#1f77b4;\" x=\"64.101952\" xlink:href=\"#m2468d9ad80\" y=\"212.914013\"/>\n     <use style=\"fill:#1f77b4;stroke:#1f77b4;\" x=\"358.550319\" xlink:href=\"#m2468d9ad80\" y=\"66.243977\"/>\n     <use style=\"fill:#1f77b4;stroke:#1f77b4;\" x=\"73.05975\" xlink:href=\"#m2468d9ad80\" y=\"213.116522\"/>\n     <use style=\"fill:#1f77b4;stroke:#1f77b4;\" x=\"347.199665\" xlink:href=\"#m2468d9ad80\" y=\"121.298067\"/>\n     <use style=\"fill:#1f77b4;stroke:#1f77b4;\" x=\"118.19945\" xlink:href=\"#m2468d9ad80\" y=\"190.280474\"/>\n     <use style=\"fill:#1f77b4;stroke:#1f77b4;\" x=\"354.178441\" xlink:href=\"#m2468d9ad80\" y=\"118.862956\"/>\n     <use style=\"fill:#1f77b4;stroke:#1f77b4;\" x=\"103.056055\" xlink:href=\"#m2468d9ad80\" y=\"198.137972\"/>\n     <use style=\"fill:#1f77b4;stroke:#1f77b4;\" x=\"94.596478\" xlink:href=\"#m2468d9ad80\" y=\"203.049726\"/>\n     <use style=\"fill:#1f77b4;stroke:#1f77b4;\" x=\"70.298229\" xlink:href=\"#m2468d9ad80\" y=\"214.693428\"/>\n     <use style=\"fill:#1f77b4;stroke:#1f77b4;\" x=\"68.024092\" xlink:href=\"#m2468d9ad80\" y=\"213.091627\"/>\n     <use style=\"fill:#1f77b4;stroke:#1f77b4;\" x=\"92.740139\" xlink:href=\"#m2468d9ad80\" y=\"202.276498\"/>\n     <use style=\"fill:#1f77b4;stroke:#1f77b4;\" x=\"347.595254\" xlink:href=\"#m2468d9ad80\" y=\"25.352744\"/>\n     <use style=\"fill:#1f77b4;stroke:#1f77b4;\" x=\"93.265368\" xlink:href=\"#m2468d9ad80\" y=\"203.354323\"/>\n     <use style=\"fill:#1f77b4;stroke:#1f77b4;\" x=\"71.77016\" xlink:href=\"#m2468d9ad80\" y=\"176.152432\"/>\n     <use style=\"fill:#1f77b4;stroke:#1f77b4;\" x=\"105.646147\" xlink:href=\"#m2468d9ad80\" y=\"196.33952\"/>\n     <use style=\"fill:#1f77b4;stroke:#1f77b4;\" x=\"132.896985\" xlink:href=\"#m2468d9ad80\" y=\"183.120814\"/>\n     <use style=\"fill:#1f77b4;stroke:#1f77b4;\" x=\"134.239982\" xlink:href=\"#m2468d9ad80\" y=\"182.94711\"/>\n     <use style=\"fill:#1f77b4;stroke:#1f77b4;\" x=\"324.927523\" xlink:href=\"#m2468d9ad80\" y=\"112.929119\"/>\n     <use style=\"fill:#1f77b4;stroke:#1f77b4;\" x=\"126.770948\" xlink:href=\"#m2468d9ad80\" y=\"185.702742\"/>\n     <use style=\"fill:#1f77b4;stroke:#1f77b4;\" x=\"98.98888\" xlink:href=\"#m2468d9ad80\" y=\"199.533114\"/>\n     <use style=\"fill:#1f77b4;stroke:#1f77b4;\" x=\"107.416166\" xlink:href=\"#m2468d9ad80\" y=\"195.388196\"/>\n     <use style=\"fill:#1f77b4;stroke:#1f77b4;\" x=\"130.458131\" xlink:href=\"#m2468d9ad80\" y=\"185.117006\"/>\n     <use style=\"fill:#1f77b4;stroke:#1f77b4;\" x=\"341.629522\" xlink:href=\"#m2468d9ad80\" y=\"80.185522\"/>\n     <use style=\"fill:#1f77b4;stroke:#1f77b4;\" x=\"89.716129\" xlink:href=\"#m2468d9ad80\" y=\"202.505249\"/>\n     <use style=\"fill:#1f77b4;stroke:#1f77b4;\" x=\"80.768183\" xlink:href=\"#m2468d9ad80\" y=\"209.504641\"/>\n     <use style=\"fill:#1f77b4;stroke:#1f77b4;\" x=\"102.418936\" xlink:href=\"#m2468d9ad80\" y=\"197.603818\"/>\n     <use style=\"fill:#1f77b4;stroke:#1f77b4;\" x=\"291.61094\" xlink:href=\"#m2468d9ad80\" y=\"113.100427\"/>\n     <use style=\"fill:#1f77b4;stroke:#1f77b4;\" x=\"143.934449\" xlink:href=\"#m2468d9ad80\" y=\"177.982401\"/>\n     <use style=\"fill:#1f77b4;stroke:#1f77b4;\" x=\"116.452137\" xlink:href=\"#m2468d9ad80\" y=\"191.726091\"/>\n     <use style=\"fill:#1f77b4;stroke:#1f77b4;\" x=\"336.025165\" xlink:href=\"#m2468d9ad80\" y=\"82.943367\"/>\n     <use style=\"fill:#1f77b4;stroke:#1f77b4;\" x=\"63.228264\" xlink:href=\"#m2468d9ad80\" y=\"212.804355\"/>\n     <use style=\"fill:#1f77b4;stroke:#1f77b4;\" x=\"139.022373\" xlink:href=\"#m2468d9ad80\" y=\"180.310004\"/>\n     <use style=\"fill:#1f77b4;stroke:#1f77b4;\" x=\"154.299903\" xlink:href=\"#m2468d9ad80\" y=\"121.356974\"/>\n     <use style=\"fill:#1f77b4;stroke:#1f77b4;\" x=\"85.669943\" xlink:href=\"#m2468d9ad80\" y=\"205.682534\"/>\n     <use style=\"fill:#1f77b4;stroke:#1f77b4;\" x=\"134.206349\" xlink:href=\"#m2468d9ad80\" y=\"183.220004\"/>\n     <use style=\"fill:#1f77b4;stroke:#1f77b4;\" x=\"141.814527\" xlink:href=\"#m2468d9ad80\" y=\"178.702003\"/>\n     <use style=\"fill:#1f77b4;stroke:#1f77b4;\" x=\"321.399996\" xlink:href=\"#m2468d9ad80\" y=\"53.737275\"/>\n     <use style=\"fill:#1f77b4;stroke:#1f77b4;\" x=\"141.291968\" xlink:href=\"#m2468d9ad80\" y=\"178.908257\"/>\n     <use style=\"fill:#1f77b4;stroke:#1f77b4;\" x=\"71.854794\" xlink:href=\"#m2468d9ad80\" y=\"210.797524\"/>\n     <use style=\"fill:#1f77b4;stroke:#1f77b4;\" x=\"340.978295\" xlink:href=\"#m2468d9ad80\" y=\"131.41797\"/>\n     <use style=\"fill:#1f77b4;stroke:#1f77b4;\" x=\"289.079876\" xlink:href=\"#m2468d9ad80\" y=\"166.46645\"/>\n     <use style=\"fill:#1f77b4;stroke:#1f77b4;\" x=\"91.61117\" xlink:href=\"#m2468d9ad80\" y=\"203.878307\"/>\n     <use style=\"fill:#1f77b4;stroke:#1f77b4;\" x=\"68.17503\" xlink:href=\"#m2468d9ad80\" y=\"212.857961\"/>\n     <use style=\"fill:#1f77b4;stroke:#1f77b4;\" x=\"100.869798\" xlink:href=\"#m2468d9ad80\" y=\"199.134918\"/>\n     <use style=\"fill:#1f77b4;stroke:#1f77b4;\" x=\"340.699166\" xlink:href=\"#m2468d9ad80\" y=\"128.939267\"/>\n     <use style=\"fill:#1f77b4;stroke:#1f77b4;\" x=\"96.613869\" xlink:href=\"#m2468d9ad80\" y=\"203.776701\"/>\n     <use style=\"fill:#1f77b4;stroke:#1f77b4;\" x=\"71.693725\" xlink:href=\"#m2468d9ad80\" y=\"212.808719\"/>\n     <use style=\"fill:#1f77b4;stroke:#1f77b4;\" x=\"88.481333\" xlink:href=\"#m2468d9ad80\" y=\"204.385228\"/>\n     <use style=\"fill:#1f77b4;stroke:#1f77b4;\" x=\"86.889634\" xlink:href=\"#m2468d9ad80\" y=\"143.47361\"/>\n     <use style=\"fill:#1f77b4;stroke:#1f77b4;\" x=\"162.940284\" xlink:href=\"#m2468d9ad80\" y=\"166.690512\"/>\n     <use style=\"fill:#1f77b4;stroke:#1f77b4;\" x=\"71.996263\" xlink:href=\"#m2468d9ad80\" y=\"182.115466\"/>\n     <use style=\"fill:#1f77b4;stroke:#1f77b4;\" x=\"132.782715\" xlink:href=\"#m2468d9ad80\" y=\"136.308419\"/>\n     <use style=\"fill:#1f77b4;stroke:#1f77b4;\" x=\"136.940645\" xlink:href=\"#m2468d9ad80\" y=\"181.822991\"/>\n     <use style=\"fill:#1f77b4;stroke:#1f77b4;\" x=\"75.425846\" xlink:href=\"#m2468d9ad80\" y=\"209.39519\"/>\n     <use style=\"fill:#1f77b4;stroke:#1f77b4;\" x=\"86.79539\" xlink:href=\"#m2468d9ad80\" y=\"205.312351\"/>\n     <use style=\"fill:#1f77b4;stroke:#1f77b4;\" x=\"95.250486\" xlink:href=\"#m2468d9ad80\" y=\"201.496868\"/>\n     <use style=\"fill:#1f77b4;stroke:#1f77b4;\" x=\"333.672302\" xlink:href=\"#m2468d9ad80\" y=\"90.611612\"/>\n     <use style=\"fill:#1f77b4;stroke:#1f77b4;\" x=\"126.181267\" xlink:href=\"#m2468d9ad80\" y=\"186.322483\"/>\n     <use style=\"fill:#1f77b4;stroke:#1f77b4;\" x=\"89.284378\" xlink:href=\"#m2468d9ad80\" y=\"204.091826\"/>\n     <use style=\"fill:#1f77b4;stroke:#1f77b4;\" x=\"73.582367\" xlink:href=\"#m2468d9ad80\" y=\"129.21079\"/>\n     <use style=\"fill:#1f77b4;stroke:#1f77b4;\" x=\"358.687507\" xlink:href=\"#m2468d9ad80\" y=\"66.289801\"/>\n     <use style=\"fill:#1f77b4;stroke:#1f77b4;\" x=\"311.168041\" xlink:href=\"#m2468d9ad80\" y=\"155.836918\"/>\n     <use style=\"fill:#1f77b4;stroke:#1f77b4;\" x=\"108.677663\" xlink:href=\"#m2468d9ad80\" y=\"195.137617\"/>\n     <use style=\"fill:#1f77b4;stroke:#1f77b4;\" x=\"128.85705\" xlink:href=\"#m2468d9ad80\" y=\"185.516704\"/>\n     <use style=\"fill:#1f77b4;stroke:#1f77b4;\" x=\"101.303318\" xlink:href=\"#m2468d9ad80\" y=\"198.813539\"/>\n     <use style=\"fill:#1f77b4;stroke:#1f77b4;\" x=\"128.736216\" xlink:href=\"#m2468d9ad80\" y=\"185.895084\"/>\n     <use style=\"fill:#1f77b4;stroke:#1f77b4;\" x=\"115.031019\" xlink:href=\"#m2468d9ad80\" y=\"191.933429\"/>\n     <use style=\"fill:#1f77b4;stroke:#1f77b4;\" x=\"140.847759\" xlink:href=\"#m2468d9ad80\" y=\"179.030695\"/>\n     <use style=\"fill:#1f77b4;stroke:#1f77b4;\" x=\"117.10123\" xlink:href=\"#m2468d9ad80\" y=\"190.976354\"/>\n     <use style=\"fill:#1f77b4;stroke:#1f77b4;\" x=\"141.823819\" xlink:href=\"#m2468d9ad80\" y=\"178.389677\"/>\n     <use style=\"fill:#1f77b4;stroke:#1f77b4;\" x=\"290.339825\" xlink:href=\"#m2468d9ad80\" y=\"162.188846\"/>\n     <use style=\"fill:#1f77b4;stroke:#1f77b4;\" x=\"316.301001\" xlink:href=\"#m2468d9ad80\" y=\"150.517212\"/>\n     <use style=\"fill:#1f77b4;stroke:#1f77b4;\" x=\"68.024092\" xlink:href=\"#m2468d9ad80\" y=\"213.091627\"/>\n     <use style=\"fill:#1f77b4;stroke:#1f77b4;\" x=\"362.466775\" xlink:href=\"#m2468d9ad80\" y=\"63.452563\"/>\n     <use style=\"fill:#1f77b4;stroke:#1f77b4;\" x=\"108.698108\" xlink:href=\"#m2468d9ad80\" y=\"194.658522\"/>\n     <use style=\"fill:#1f77b4;stroke:#1f77b4;\" x=\"134.752143\" xlink:href=\"#m2468d9ad80\" y=\"182.069779\"/>\n     <use style=\"fill:#1f77b4;stroke:#1f77b4;\" x=\"107.931705\" xlink:href=\"#m2468d9ad80\" y=\"194.948792\"/>\n     <use style=\"fill:#1f77b4;stroke:#1f77b4;\" x=\"89.019882\" xlink:href=\"#m2468d9ad80\" y=\"203.663656\"/>\n     <use style=\"fill:#1f77b4;stroke:#1f77b4;\" x=\"89.570105\" xlink:href=\"#m2468d9ad80\" y=\"203.696535\"/>\n     <use style=\"fill:#1f77b4;stroke:#1f77b4;\" x=\"115.298575\" xlink:href=\"#m2468d9ad80\" y=\"191.562383\"/>\n     <use style=\"fill:#1f77b4;stroke:#1f77b4;\" x=\"114.656312\" xlink:href=\"#m2468d9ad80\" y=\"192.115077\"/>\n     <use style=\"fill:#1f77b4;stroke:#1f77b4;\" x=\"83.875461\" xlink:href=\"#m2468d9ad80\" y=\"206.268768\"/>\n     <use style=\"fill:#1f77b4;stroke:#1f77b4;\" x=\"77.828378\" xlink:href=\"#m2468d9ad80\" y=\"208.535533\"/>\n     <use style=\"fill:#1f77b4;stroke:#1f77b4;\" x=\"66.829971\" xlink:href=\"#m2468d9ad80\" y=\"212.871549\"/>\n     <use style=\"fill:#1f77b4;stroke:#1f77b4;\" x=\"94.937793\" xlink:href=\"#m2468d9ad80\" y=\"201.232623\"/>\n     <use style=\"fill:#1f77b4;stroke:#1f77b4;\" x=\"113.556078\" xlink:href=\"#m2468d9ad80\" y=\"193.314797\"/>\n     <use style=\"fill:#1f77b4;stroke:#1f77b4;\" x=\"85.11848\" xlink:href=\"#m2468d9ad80\" y=\"205.670257\"/>\n     <use style=\"fill:#1f77b4;stroke:#1f77b4;\" x=\"108.839745\" xlink:href=\"#m2468d9ad80\" y=\"195.363085\"/>\n     <use style=\"fill:#1f77b4;stroke:#1f77b4;\" x=\"82.378712\" xlink:href=\"#m2468d9ad80\" y=\"205.990989\"/>\n     <use style=\"fill:#1f77b4;stroke:#1f77b4;\" x=\"315.78102\" xlink:href=\"#m2468d9ad80\" y=\"149.314779\"/>\n     <use style=\"fill:#1f77b4;stroke:#1f77b4;\" x=\"91.742633\" xlink:href=\"#m2468d9ad80\" y=\"202.623889\"/>\n     <use style=\"fill:#1f77b4;stroke:#1f77b4;\" x=\"104.733792\" xlink:href=\"#m2468d9ad80\" y=\"196.971398\"/>\n     <use style=\"fill:#1f77b4;stroke:#1f77b4;\" x=\"75.128721\" xlink:href=\"#m2468d9ad80\" y=\"210.377014\"/>\n     <use style=\"fill:#1f77b4;stroke:#1f77b4;\" x=\"129.045178\" xlink:href=\"#m2468d9ad80\" y=\"185.063273\"/>\n     <use style=\"fill:#1f77b4;stroke:#1f77b4;\" x=\"149.115442\" xlink:href=\"#m2468d9ad80\" y=\"174.08338\"/>\n     <use style=\"fill:#1f77b4;stroke:#1f77b4;\" x=\"307.70405\" xlink:href=\"#m2468d9ad80\" y=\"106.868512\"/>\n     <use style=\"fill:#1f77b4;stroke:#1f77b4;\" x=\"98.067613\" xlink:href=\"#m2468d9ad80\" y=\"200.99601\"/>\n     <use style=\"fill:#1f77b4;stroke:#1f77b4;\" x=\"126.743242\" xlink:href=\"#m2468d9ad80\" y=\"185.865614\"/>\n     <use style=\"fill:#1f77b4;stroke:#1f77b4;\" x=\"118.515543\" xlink:href=\"#m2468d9ad80\" y=\"189.98509\"/>\n     <use style=\"fill:#1f77b4;stroke:#1f77b4;\" x=\"106.129202\" xlink:href=\"#m2468d9ad80\" y=\"195.368164\"/>\n     <use style=\"fill:#1f77b4;stroke:#1f77b4;\" x=\"101.729076\" xlink:href=\"#m2468d9ad80\" y=\"199.176219\"/>\n     <use style=\"fill:#1f77b4;stroke:#1f77b4;\" x=\"125.476135\" xlink:href=\"#m2468d9ad80\" y=\"186.606686\"/>\n     <use style=\"fill:#1f77b4;stroke:#1f77b4;\" x=\"312.014824\" xlink:href=\"#m2468d9ad80\" y=\"156.622586\"/>\n     <use style=\"fill:#1f77b4;stroke:#1f77b4;\" x=\"95.879698\" xlink:href=\"#m2468d9ad80\" y=\"201.071652\"/>\n     <use style=\"fill:#1f77b4;stroke:#1f77b4;\" x=\"96.310185\" xlink:href=\"#m2468d9ad80\" y=\"200.74822\"/>\n     <use style=\"fill:#1f77b4;stroke:#1f77b4;\" x=\"347.102799\" xlink:href=\"#m2468d9ad80\" y=\"73.628365\"/>\n     <use style=\"fill:#1f77b4;stroke:#1f77b4;\" x=\"74.674483\" xlink:href=\"#m2468d9ad80\" y=\"210.631062\"/>\n     <use style=\"fill:#1f77b4;stroke:#1f77b4;\" x=\"148.728454\" xlink:href=\"#m2468d9ad80\" y=\"175.256173\"/>\n     <use style=\"fill:#1f77b4;stroke:#1f77b4;\" x=\"93.699182\" xlink:href=\"#m2468d9ad80\" y=\"201.611502\"/>\n     <use style=\"fill:#1f77b4;stroke:#1f77b4;\" x=\"105.797046\" xlink:href=\"#m2468d9ad80\" y=\"197.107805\"/>\n     <use style=\"fill:#1f77b4;stroke:#1f77b4;\" x=\"140.565203\" xlink:href=\"#m2468d9ad80\" y=\"179.058721\"/>\n     <use style=\"fill:#1f77b4;stroke:#1f77b4;\" x=\"316.136978\" xlink:href=\"#m2468d9ad80\" y=\"146.132628\"/>\n     <use style=\"fill:#1f77b4;stroke:#1f77b4;\" x=\"136.21388\" xlink:href=\"#m2468d9ad80\" y=\"181.420919\"/>\n     <use style=\"fill:#1f77b4;stroke:#1f77b4;\" x=\"110.345514\" xlink:href=\"#m2468d9ad80\" y=\"193.848981\"/>\n     <use style=\"fill:#1f77b4;stroke:#1f77b4;\" x=\"150.023143\" xlink:href=\"#m2468d9ad80\" y=\"173.913896\"/>\n     <use style=\"fill:#1f77b4;stroke:#1f77b4;\" x=\"333.77464\" xlink:href=\"#m2468d9ad80\" y=\"82.327699\"/>\n     <use style=\"fill:#1f77b4;stroke:#1f77b4;\" x=\"135.14389\" xlink:href=\"#m2468d9ad80\" y=\"182.007408\"/>\n     <use style=\"fill:#1f77b4;stroke:#1f77b4;\" x=\"102.613822\" xlink:href=\"#m2468d9ad80\" y=\"197.817614\"/>\n     <use style=\"fill:#1f77b4;stroke:#1f77b4;\" x=\"151.901314\" xlink:href=\"#m2468d9ad80\" y=\"172.0753\"/>\n     <use style=\"fill:#1f77b4;stroke:#1f77b4;\" x=\"75.263559\" xlink:href=\"#m2468d9ad80\" y=\"213.107672\"/>\n     <use style=\"fill:#1f77b4;stroke:#1f77b4;\" x=\"93.576518\" xlink:href=\"#m2468d9ad80\" y=\"201.281599\"/>\n     <use style=\"fill:#1f77b4;stroke:#1f77b4;\" x=\"327.046388\" xlink:href=\"#m2468d9ad80\" y=\"140.843212\"/>\n     <use style=\"fill:#1f77b4;stroke:#1f77b4;\" x=\"136.43994\" xlink:href=\"#m2468d9ad80\" y=\"182.028604\"/>\n     <use style=\"fill:#1f77b4;stroke:#1f77b4;\" x=\"109.817798\" xlink:href=\"#m2468d9ad80\" y=\"194.412096\"/>\n     <use style=\"fill:#1f77b4;stroke:#1f77b4;\" x=\"89.132501\" xlink:href=\"#m2468d9ad80\" y=\"204.105807\"/>\n     <use style=\"fill:#1f77b4;stroke:#1f77b4;\" x=\"67.861409\" xlink:href=\"#m2468d9ad80\" y=\"211.601092\"/>\n     <use style=\"fill:#1f77b4;stroke:#1f77b4;\" x=\"333.876701\" xlink:href=\"#m2468d9ad80\" y=\"86.603069\"/>\n     <use style=\"fill:#1f77b4;stroke:#1f77b4;\" x=\"84.026923\" xlink:href=\"#m2468d9ad80\" y=\"143.626207\"/>\n     <use style=\"fill:#1f77b4;stroke:#1f77b4;\" x=\"150.314459\" xlink:href=\"#m2468d9ad80\" y=\"173.544529\"/>\n     <use style=\"fill:#1f77b4;stroke:#1f77b4;\" x=\"329.901104\" xlink:href=\"#m2468d9ad80\" y=\"138.389871\"/>\n     <use style=\"fill:#1f77b4;stroke:#1f77b4;\" x=\"97.612771\" xlink:href=\"#m2468d9ad80\" y=\"200.727541\"/>\n     <use style=\"fill:#1f77b4;stroke:#1f77b4;\" x=\"95.8868\" xlink:href=\"#m2468d9ad80\" y=\"200.918695\"/>\n     <use style=\"fill:#1f77b4;stroke:#1f77b4;\" x=\"152.701724\" xlink:href=\"#m2468d9ad80\" y=\"173.320859\"/>\n     <use style=\"fill:#1f77b4;stroke:#1f77b4;\" x=\"72.770748\" xlink:href=\"#m2468d9ad80\" y=\"210.658839\"/>\n     <use style=\"fill:#1f77b4;stroke:#1f77b4;\" x=\"134.637762\" xlink:href=\"#m2468d9ad80\" y=\"183.047474\"/>\n     <use style=\"fill:#1f77b4;stroke:#1f77b4;\" x=\"274.230768\" xlink:href=\"#m2468d9ad80\" y=\"174.154851\"/>\n     <use style=\"fill:#1f77b4;stroke:#1f77b4;\" x=\"70.785125\" xlink:href=\"#m2468d9ad80\" y=\"212.223501\"/>\n     <use style=\"fill:#1f77b4;stroke:#1f77b4;\" x=\"144.607087\" xlink:href=\"#m2468d9ad80\" y=\"177.689456\"/>\n     <use style=\"fill:#1f77b4;stroke:#1f77b4;\" x=\"84.74709\" xlink:href=\"#m2468d9ad80\" y=\"205.895707\"/>\n     <use style=\"fill:#1f77b4;stroke:#1f77b4;\" x=\"303.97077\" xlink:href=\"#m2468d9ad80\" y=\"108.055044\"/>\n     <use style=\"fill:#1f77b4;stroke:#1f77b4;\" x=\"117.11111\" xlink:href=\"#m2468d9ad80\" y=\"190.979796\"/>\n     <use style=\"fill:#1f77b4;stroke:#1f77b4;\" x=\"70.182349\" xlink:href=\"#m2468d9ad80\" y=\"212.316886\"/>\n     <use style=\"fill:#1f77b4;stroke:#1f77b4;\" x=\"86.195001\" xlink:href=\"#m2468d9ad80\" y=\"205.588219\"/>\n     <use style=\"fill:#1f77b4;stroke:#1f77b4;\" x=\"130.093826\" xlink:href=\"#m2468d9ad80\" y=\"184.390408\"/>\n     <use style=\"fill:#1f77b4;stroke:#1f77b4;\" x=\"124.829288\" xlink:href=\"#m2468d9ad80\" y=\"187.409842\"/>\n     <use style=\"fill:#1f77b4;stroke:#1f77b4;\" x=\"165.227953\" xlink:href=\"#m2468d9ad80\" y=\"166.638923\"/>\n     <use style=\"fill:#1f77b4;stroke:#1f77b4;\" x=\"127.106407\" xlink:href=\"#m2468d9ad80\" y=\"185.837076\"/>\n     <use style=\"fill:#1f77b4;stroke:#1f77b4;\" x=\"113.513669\" xlink:href=\"#m2468d9ad80\" y=\"192.681816\"/>\n     <use style=\"fill:#1f77b4;stroke:#1f77b4;\" x=\"323.930038\" xlink:href=\"#m2468d9ad80\" y=\"74.990215\"/>\n     <use style=\"fill:#1f77b4;stroke:#1f77b4;\" x=\"291.600548\" xlink:href=\"#m2468d9ad80\" y=\"162.562845\"/>\n     <use style=\"fill:#1f77b4;stroke:#1f77b4;\" x=\"110.281408\" xlink:href=\"#m2468d9ad80\" y=\"193.837806\"/>\n     <use style=\"fill:#1f77b4;stroke:#1f77b4;\" x=\"150.642325\" xlink:href=\"#m2468d9ad80\" y=\"173.402446\"/>\n     <use style=\"fill:#1f77b4;stroke:#1f77b4;\" x=\"138.985175\" xlink:href=\"#m2468d9ad80\" y=\"179.681319\"/>\n     <use style=\"fill:#1f77b4;stroke:#1f77b4;\" x=\"101.335411\" xlink:href=\"#m2468d9ad80\" y=\"203.293928\"/>\n     <use style=\"fill:#1f77b4;stroke:#1f77b4;\" x=\"114.603564\" xlink:href=\"#m2468d9ad80\" y=\"191.638757\"/>\n     <use style=\"fill:#1f77b4;stroke:#1f77b4;\" x=\"145.777349\" xlink:href=\"#m2468d9ad80\" y=\"176.424984\"/>\n     <use style=\"fill:#1f77b4;stroke:#1f77b4;\" x=\"305.030907\" xlink:href=\"#m2468d9ad80\" y=\"156.918959\"/>\n     <use style=\"fill:#1f77b4;stroke:#1f77b4;\" x=\"284.405322\" xlink:href=\"#m2468d9ad80\" y=\"170.107218\"/>\n     <use style=\"fill:#1f77b4;stroke:#1f77b4;\" x=\"100.835052\" xlink:href=\"#m2468d9ad80\" y=\"199.280754\"/>\n     <use style=\"fill:#1f77b4;stroke:#1f77b4;\" x=\"314.501062\" xlink:href=\"#m2468d9ad80\" y=\"97.429188\"/>\n     <use style=\"fill:#1f77b4;stroke:#1f77b4;\" x=\"67.251036\" xlink:href=\"#m2468d9ad80\" y=\"213.147498\"/>\n     <use style=\"fill:#1f77b4;stroke:#1f77b4;\" x=\"100.542056\" xlink:href=\"#m2468d9ad80\" y=\"199.103428\"/>\n     <use style=\"fill:#1f77b4;stroke:#1f77b4;\" x=\"125.624018\" xlink:href=\"#m2468d9ad80\" y=\"187.092742\"/>\n     <use style=\"fill:#1f77b4;stroke:#1f77b4;\" x=\"320.015848\" xlink:href=\"#m2468d9ad80\" y=\"150.56993\"/>\n     <use style=\"fill:#1f77b4;stroke:#1f77b4;\" x=\"115.30006\" xlink:href=\"#m2468d9ad80\" y=\"191.562807\"/>\n     <use style=\"fill:#1f77b4;stroke:#1f77b4;\" x=\"353.624909\" xlink:href=\"#m2468d9ad80\" y=\"69.795147\"/>\n     <use style=\"fill:#1f77b4;stroke:#1f77b4;\" x=\"65.257854\" xlink:href=\"#m2468d9ad80\" y=\"212.889384\"/>\n     <use style=\"fill:#1f77b4;stroke:#1f77b4;\" x=\"90.500219\" xlink:href=\"#m2468d9ad80\" y=\"204.055815\"/>\n     <use style=\"fill:#1f77b4;stroke:#1f77b4;\" x=\"313.173955\" xlink:href=\"#m2468d9ad80\" y=\"149.712796\"/>\n     <use style=\"fill:#1f77b4;stroke:#1f77b4;\" x=\"84.210247\" xlink:href=\"#m2468d9ad80\" y=\"204.548432\"/>\n     <use style=\"fill:#1f77b4;stroke:#1f77b4;\" x=\"91.703901\" xlink:href=\"#m2468d9ad80\" y=\"202.027881\"/>\n     <use style=\"fill:#1f77b4;stroke:#1f77b4;\" x=\"97.363738\" xlink:href=\"#m2468d9ad80\" y=\"200.258078\"/>\n     <use style=\"fill:#1f77b4;stroke:#1f77b4;\" x=\"106.326227\" xlink:href=\"#m2468d9ad80\" y=\"196.044049\"/>\n     <use style=\"fill:#1f77b4;stroke:#1f77b4;\" x=\"149.577386\" xlink:href=\"#m2468d9ad80\" y=\"177.870079\"/>\n     <use style=\"fill:#1f77b4;stroke:#1f77b4;\" x=\"122.186296\" xlink:href=\"#m2468d9ad80\" y=\"187.984392\"/>\n     <use style=\"fill:#1f77b4;stroke:#1f77b4;\" x=\"116.518382\" xlink:href=\"#m2468d9ad80\" y=\"191.521946\"/>\n     <use style=\"fill:#1f77b4;stroke:#1f77b4;\" x=\"112.836899\" xlink:href=\"#m2468d9ad80\" y=\"192.583461\"/>\n     <use style=\"fill:#1f77b4;stroke:#1f77b4;\" x=\"86.942728\" xlink:href=\"#m2468d9ad80\" y=\"164.351641\"/>\n     <use style=\"fill:#1f77b4;stroke:#1f77b4;\" x=\"73.829042\" xlink:href=\"#m2468d9ad80\" y=\"210.767745\"/>\n     <use style=\"fill:#1f77b4;stroke:#1f77b4;\" x=\"66.84112\" xlink:href=\"#m2468d9ad80\" y=\"213.103941\"/>\n     <use style=\"fill:#1f77b4;stroke:#1f77b4;\" x=\"95.874972\" xlink:href=\"#m2468d9ad80\" y=\"200.777258\"/>\n     <use style=\"fill:#1f77b4;stroke:#1f77b4;\" x=\"72.258087\" xlink:href=\"#m2468d9ad80\" y=\"212.003908\"/>\n     <use style=\"fill:#1f77b4;stroke:#1f77b4;\" x=\"84.714728\" xlink:href=\"#m2468d9ad80\" y=\"204.241715\"/>\n     <use style=\"fill:#1f77b4;stroke:#1f77b4;\" x=\"131.937569\" xlink:href=\"#m2468d9ad80\" y=\"183.479559\"/>\n     <use style=\"fill:#1f77b4;stroke:#1f77b4;\" x=\"72.580947\" xlink:href=\"#m2468d9ad80\" y=\"209.646751\"/>\n     <use style=\"fill:#1f77b4;stroke:#1f77b4;\" x=\"95.636503\" xlink:href=\"#m2468d9ad80\" y=\"200.055577\"/>\n     <use style=\"fill:#1f77b4;stroke:#1f77b4;\" x=\"72.389996\" xlink:href=\"#m2468d9ad80\" y=\"211.754659\"/>\n     <use style=\"fill:#1f77b4;stroke:#1f77b4;\" x=\"86.804835\" xlink:href=\"#m2468d9ad80\" y=\"207.200945\"/>\n     <use style=\"fill:#1f77b4;stroke:#1f77b4;\" x=\"285.573905\" xlink:href=\"#m2468d9ad80\" y=\"134.351464\"/>\n     <use style=\"fill:#1f77b4;stroke:#1f77b4;\" x=\"307.188988\" xlink:href=\"#m2468d9ad80\" y=\"107.509423\"/>\n     <use style=\"fill:#1f77b4;stroke:#1f77b4;\" x=\"106.457687\" xlink:href=\"#m2468d9ad80\" y=\"197.295472\"/>\n     <use style=\"fill:#1f77b4;stroke:#1f77b4;\" x=\"307.213806\" xlink:href=\"#m2468d9ad80\" y=\"153.294616\"/>\n     <use style=\"fill:#1f77b4;stroke:#1f77b4;\" x=\"75.65596\" xlink:href=\"#m2468d9ad80\" y=\"211.226896\"/>\n     <use style=\"fill:#1f77b4;stroke:#1f77b4;\" x=\"89.874957\" xlink:href=\"#m2468d9ad80\" y=\"203.892209\"/>\n     <use style=\"fill:#1f77b4;stroke:#1f77b4;\" x=\"105.516397\" xlink:href=\"#m2468d9ad80\" y=\"196.557133\"/>\n     <use style=\"fill:#1f77b4;stroke:#1f77b4;\" x=\"103.205444\" xlink:href=\"#m2468d9ad80\" y=\"198.193532\"/>\n     <use style=\"fill:#1f77b4;stroke:#1f77b4;\" x=\"127.968535\" xlink:href=\"#m2468d9ad80\" y=\"185.930855\"/>\n     <use style=\"fill:#1f77b4;stroke:#1f77b4;\" x=\"100.693995\" xlink:href=\"#m2468d9ad80\" y=\"198.414051\"/>\n     <use style=\"fill:#1f77b4;stroke:#1f77b4;\" x=\"302.40212\" xlink:href=\"#m2468d9ad80\" y=\"158.018423\"/>\n     <use style=\"fill:#1f77b4;stroke:#1f77b4;\" x=\"132.230668\" xlink:href=\"#m2468d9ad80\" y=\"184.296055\"/>\n     <use style=\"fill:#1f77b4;stroke:#1f77b4;\" x=\"121.175075\" xlink:href=\"#m2468d9ad80\" y=\"190.719101\"/>\n     <use style=\"fill:#1f77b4;stroke:#1f77b4;\" x=\"74.27219\" xlink:href=\"#m2468d9ad80\" y=\"211.396406\"/>\n     <use style=\"fill:#1f77b4;stroke:#1f77b4;\" x=\"146.650733\" xlink:href=\"#m2468d9ad80\" y=\"176.798118\"/>\n     <use style=\"fill:#1f77b4;stroke:#1f77b4;\" x=\"143.798836\" xlink:href=\"#m2468d9ad80\" y=\"177.929523\"/>\n     <use style=\"fill:#1f77b4;stroke:#1f77b4;\" x=\"84.261114\" xlink:href=\"#m2468d9ad80\" y=\"146.345828\"/>\n     <use style=\"fill:#1f77b4;stroke:#1f77b4;\" x=\"114.324795\" xlink:href=\"#m2468d9ad80\" y=\"192.419062\"/>\n     <use style=\"fill:#1f77b4;stroke:#1f77b4;\" x=\"91.975499\" xlink:href=\"#m2468d9ad80\" y=\"201.796228\"/>\n     <use style=\"fill:#1f77b4;stroke:#1f77b4;\" x=\"139.245808\" xlink:href=\"#m2468d9ad80\" y=\"181.259799\"/>\n     <use style=\"fill:#1f77b4;stroke:#1f77b4;\" x=\"151.828105\" xlink:href=\"#m2468d9ad80\" y=\"175.902867\"/>\n     <use style=\"fill:#1f77b4;stroke:#1f77b4;\" x=\"89.017817\" xlink:href=\"#m2468d9ad80\" y=\"204.107505\"/>\n     <use style=\"fill:#1f77b4;stroke:#1f77b4;\" x=\"137.845285\" xlink:href=\"#m2468d9ad80\" y=\"180.624832\"/>\n     <use style=\"fill:#1f77b4;stroke:#1f77b4;\" x=\"294.417789\" xlink:href=\"#m2468d9ad80\" y=\"109.889542\"/>\n     <use style=\"fill:#1f77b4;stroke:#1f77b4;\" x=\"76.870499\" xlink:href=\"#m2468d9ad80\" y=\"210.343937\"/>\n     <use style=\"fill:#1f77b4;stroke:#1f77b4;\" x=\"61.230682\" xlink:href=\"#m2468d9ad80\" y=\"214.371472\"/>\n     <use style=\"fill:#1f77b4;stroke:#1f77b4;\" x=\"127.341227\" xlink:href=\"#m2468d9ad80\" y=\"185.996562\"/>\n     <use style=\"fill:#1f77b4;stroke:#1f77b4;\" x=\"365.594318\" xlink:href=\"#m2468d9ad80\" y=\"58.936742\"/>\n     <use style=\"fill:#1f77b4;stroke:#1f77b4;\" x=\"317.541771\" xlink:href=\"#m2468d9ad80\" y=\"95.377356\"/>\n     <use style=\"fill:#1f77b4;stroke:#1f77b4;\" x=\"143.745553\" xlink:href=\"#m2468d9ad80\" y=\"177.749933\"/>\n     <use style=\"fill:#1f77b4;stroke:#1f77b4;\" x=\"107.484442\" xlink:href=\"#m2468d9ad80\" y=\"195.703787\"/>\n     <use style=\"fill:#1f77b4;stroke:#1f77b4;\" x=\"69.699263\" xlink:href=\"#m2468d9ad80\" y=\"212.325111\"/>\n     <use style=\"fill:#1f77b4;stroke:#1f77b4;\" x=\"95.674662\" xlink:href=\"#m2468d9ad80\" y=\"200.005937\"/>\n     <use style=\"fill:#1f77b4;stroke:#1f77b4;\" x=\"146.973762\" xlink:href=\"#m2468d9ad80\" y=\"175.839288\"/>\n     <use style=\"fill:#1f77b4;stroke:#1f77b4;\" x=\"86.660624\" xlink:href=\"#m2468d9ad80\" y=\"204.662677\"/>\n     <use style=\"fill:#1f77b4;stroke:#1f77b4;\" x=\"147.161152\" xlink:href=\"#m2468d9ad80\" y=\"175.42754\"/>\n     <use style=\"fill:#1f77b4;stroke:#1f77b4;\" x=\"74.474934\" xlink:href=\"#m2468d9ad80\" y=\"146.030961\"/>\n     <use style=\"fill:#1f77b4;stroke:#1f77b4;\" x=\"69.211559\" xlink:href=\"#m2468d9ad80\" y=\"180.148362\"/>\n     <use style=\"fill:#1f77b4;stroke:#1f77b4;\" x=\"355.459643\" xlink:href=\"#m2468d9ad80\" y=\"67.047174\"/>\n     <use style=\"fill:#1f77b4;stroke:#1f77b4;\" x=\"102.239226\" xlink:href=\"#m2468d9ad80\" y=\"198.43802\"/>\n     <use style=\"fill:#1f77b4;stroke:#1f77b4;\" x=\"350.460444\" xlink:href=\"#m2468d9ad80\" y=\"71.399665\"/>\n     <use style=\"fill:#1f77b4;stroke:#1f77b4;\" x=\"75.416623\" xlink:href=\"#m2468d9ad80\" y=\"209.89705\"/>\n     <use style=\"fill:#1f77b4;stroke:#1f77b4;\" x=\"69.945077\" xlink:href=\"#m2468d9ad80\" y=\"211.519571\"/>\n     <use style=\"fill:#1f77b4;stroke:#1f77b4;\" x=\"334.987635\" xlink:href=\"#m2468d9ad80\" y=\"89.401618\"/>\n     <use style=\"fill:#1f77b4;stroke:#1f77b4;\" x=\"312.528725\" xlink:href=\"#m2468d9ad80\" y=\"101.320039\"/>\n     <use style=\"fill:#1f77b4;stroke:#1f77b4;\" x=\"77.646801\" xlink:href=\"#m2468d9ad80\" y=\"209.593478\"/>\n     <use style=\"fill:#1f77b4;stroke:#1f77b4;\" x=\"84.322469\" xlink:href=\"#m2468d9ad80\" y=\"206.283787\"/>\n     <use style=\"fill:#1f77b4;stroke:#1f77b4;\" x=\"115.714967\" xlink:href=\"#m2468d9ad80\" y=\"191.773158\"/>\n     <use style=\"fill:#1f77b4;stroke:#1f77b4;\" x=\"87.040243\" xlink:href=\"#m2468d9ad80\" y=\"204.406395\"/>\n     <use style=\"fill:#1f77b4;stroke:#1f77b4;\" x=\"136.842425\" xlink:href=\"#m2468d9ad80\" y=\"180.644768\"/>\n     <use style=\"fill:#1f77b4;stroke:#1f77b4;\" x=\"123.812215\" xlink:href=\"#m2468d9ad80\" y=\"187.436396\"/>\n     <use style=\"fill:#1f77b4;stroke:#1f77b4;\" x=\"144.129418\" xlink:href=\"#m2468d9ad80\" y=\"178.213303\"/>\n     <use style=\"fill:#1f77b4;stroke:#1f77b4;\" x=\"133.676936\" xlink:href=\"#m2468d9ad80\" y=\"182.715982\"/>\n     <use style=\"fill:#1f77b4;stroke:#1f77b4;\" x=\"331.587181\" xlink:href=\"#m2468d9ad80\" y=\"90.261405\"/>\n     <use style=\"fill:#1f77b4;stroke:#1f77b4;\" x=\"92.080974\" xlink:href=\"#m2468d9ad80\" y=\"203.421366\"/>\n     <use style=\"fill:#1f77b4;stroke:#1f77b4;\" x=\"341.31687\" xlink:href=\"#m2468d9ad80\" y=\"125.267753\"/>\n     <use style=\"fill:#1f77b4;stroke:#1f77b4;\" x=\"120.621398\" xlink:href=\"#m2468d9ad80\" y=\"189.116906\"/>\n     <use style=\"fill:#1f77b4;stroke:#1f77b4;\" x=\"68.573104\" xlink:href=\"#m2468d9ad80\" y=\"211.285898\"/>\n     <use style=\"fill:#1f77b4;stroke:#1f77b4;\" x=\"339.764498\" xlink:href=\"#m2468d9ad80\" y=\"131.776198\"/>\n     <use style=\"fill:#1f77b4;stroke:#1f77b4;\" x=\"122.185488\" xlink:href=\"#m2468d9ad80\" y=\"187.983967\"/>\n     <use style=\"fill:#1f77b4;stroke:#1f77b4;\" x=\"92.485051\" xlink:href=\"#m2468d9ad80\" y=\"202.309961\"/>\n     <use style=\"fill:#1f77b4;stroke:#1f77b4;\" x=\"99.925385\" xlink:href=\"#m2468d9ad80\" y=\"199.15211\"/>\n     <use style=\"fill:#1f77b4;stroke:#1f77b4;\" x=\"81.355177\" xlink:href=\"#m2468d9ad80\" y=\"206.987765\"/>\n     <use style=\"fill:#1f77b4;stroke:#1f77b4;\" x=\"326.175865\" xlink:href=\"#m2468d9ad80\" y=\"141.806869\"/>\n     <use style=\"fill:#1f77b4;stroke:#1f77b4;\" x=\"322.002031\" xlink:href=\"#m2468d9ad80\" y=\"30.016563\"/>\n     <use style=\"fill:#1f77b4;stroke:#1f77b4;\" x=\"107.215508\" xlink:href=\"#m2468d9ad80\" y=\"195.205421\"/>\n     <use style=\"fill:#1f77b4;stroke:#1f77b4;\" x=\"74.430891\" xlink:href=\"#m2468d9ad80\" y=\"209.713363\"/>\n     <use style=\"fill:#1f77b4;stroke:#1f77b4;\" x=\"67.448525\" xlink:href=\"#m2468d9ad80\" y=\"211.55524\"/>\n     <use style=\"fill:#1f77b4;stroke:#1f77b4;\" x=\"104.317469\" xlink:href=\"#m2468d9ad80\" y=\"196.574476\"/>\n     <use style=\"fill:#1f77b4;stroke:#1f77b4;\" x=\"77.222943\" xlink:href=\"#m2468d9ad80\" y=\"209.68296\"/>\n     <use style=\"fill:#1f77b4;stroke:#1f77b4;\" x=\"67.206911\" xlink:href=\"#m2468d9ad80\" y=\"214.707687\"/>\n     <use style=\"fill:#1f77b4;stroke:#1f77b4;\" x=\"127.578079\" xlink:href=\"#m2468d9ad80\" y=\"136.899404\"/>\n     <use style=\"fill:#1f77b4;stroke:#1f77b4;\" x=\"130.004601\" xlink:href=\"#m2468d9ad80\" y=\"184.980187\"/>\n     <use style=\"fill:#1f77b4;stroke:#1f77b4;\" x=\"88.487264\" xlink:href=\"#m2468d9ad80\" y=\"205.709596\"/>\n     <use style=\"fill:#1f77b4;stroke:#1f77b4;\" x=\"160.932345\" xlink:href=\"#m2468d9ad80\" y=\"168.343051\"/>\n     <use style=\"fill:#1f77b4;stroke:#1f77b4;\" x=\"79.444282\" xlink:href=\"#m2468d9ad80\" y=\"208.029914\"/>\n     <use style=\"fill:#1f77b4;stroke:#1f77b4;\" x=\"339.034728\" xlink:href=\"#m2468d9ad80\" y=\"78.226878\"/>\n     <use style=\"fill:#1f77b4;stroke:#1f77b4;\" x=\"135.837519\" xlink:href=\"#m2468d9ad80\" y=\"183.064501\"/>\n     <use style=\"fill:#1f77b4;stroke:#1f77b4;\" x=\"127.577022\" xlink:href=\"#m2468d9ad80\" y=\"185.753058\"/>\n     <use style=\"fill:#1f77b4;stroke:#1f77b4;\" x=\"90.526854\" xlink:href=\"#m2468d9ad80\" y=\"172.191688\"/>\n     <use style=\"fill:#1f77b4;stroke:#1f77b4;\" x=\"354.552668\" xlink:href=\"#m2468d9ad80\" y=\"67.581852\"/>\n     <use style=\"fill:#1f77b4;stroke:#1f77b4;\" x=\"85.064592\" xlink:href=\"#m2468d9ad80\" y=\"204.893021\"/>\n     <use style=\"fill:#1f77b4;stroke:#1f77b4;\" x=\"97.287661\" xlink:href=\"#m2468d9ad80\" y=\"206.486999\"/>\n     <use style=\"fill:#1f77b4;stroke:#1f77b4;\" x=\"142.058212\" xlink:href=\"#m2468d9ad80\" y=\"178.659093\"/>\n     <use style=\"fill:#1f77b4;stroke:#1f77b4;\" x=\"116.441373\" xlink:href=\"#m2468d9ad80\" y=\"191.735924\"/>\n     <use style=\"fill:#1f77b4;stroke:#1f77b4;\" x=\"143.567408\" xlink:href=\"#m2468d9ad80\" y=\"177.153264\"/>\n     <use style=\"fill:#1f77b4;stroke:#1f77b4;\" x=\"91.19552\" xlink:href=\"#m2468d9ad80\" y=\"203.101129\"/>\n     <use style=\"fill:#1f77b4;stroke:#1f77b4;\" x=\"78.333924\" xlink:href=\"#m2468d9ad80\" y=\"208.052845\"/>\n     <use style=\"fill:#1f77b4;stroke:#1f77b4;\" x=\"94.072811\" xlink:href=\"#m2468d9ad80\" y=\"201.807744\"/>\n     <use style=\"fill:#1f77b4;stroke:#1f77b4;\" x=\"323.34862\" xlink:href=\"#m2468d9ad80\" y=\"90.46156\"/>\n     <use style=\"fill:#1f77b4;stroke:#1f77b4;\" x=\"342.177306\" xlink:href=\"#m2468d9ad80\" y=\"75.26052\"/>\n     <use style=\"fill:#1f77b4;stroke:#1f77b4;\" x=\"159.873355\" xlink:href=\"#m2468d9ad80\" y=\"169.608928\"/>\n     <use style=\"fill:#1f77b4;stroke:#1f77b4;\" x=\"135.260696\" xlink:href=\"#m2468d9ad80\" y=\"181.880116\"/>\n     <use style=\"fill:#1f77b4;stroke:#1f77b4;\" x=\"84.346789\" xlink:href=\"#m2468d9ad80\" y=\"206.279853\"/>\n     <use style=\"fill:#1f77b4;stroke:#1f77b4;\" x=\"120.855293\" xlink:href=\"#m2468d9ad80\" y=\"189.532609\"/>\n     <use style=\"fill:#1f77b4;stroke:#1f77b4;\" x=\"65.834042\" xlink:href=\"#m2468d9ad80\" y=\"212.455965\"/>\n     <use style=\"fill:#1f77b4;stroke:#1f77b4;\" x=\"123.013388\" xlink:href=\"#m2468d9ad80\" y=\"135.859951\"/>\n     <use style=\"fill:#1f77b4;stroke:#1f77b4;\" x=\"86.441\" xlink:href=\"#m2468d9ad80\" y=\"205.05892\"/>\n     <use style=\"fill:#1f77b4;stroke:#1f77b4;\" x=\"75.999045\" xlink:href=\"#m2468d9ad80\" y=\"210.410464\"/>\n     <use style=\"fill:#1f77b4;stroke:#1f77b4;\" x=\"85.098782\" xlink:href=\"#m2468d9ad80\" y=\"205.53998\"/>\n     <use style=\"fill:#1f77b4;stroke:#1f77b4;\" x=\"122.630871\" xlink:href=\"#m2468d9ad80\" y=\"188.088357\"/>\n     <use style=\"fill:#1f77b4;stroke:#1f77b4;\" x=\"105.46414\" xlink:href=\"#m2468d9ad80\" y=\"197.994588\"/>\n     <use style=\"fill:#1f77b4;stroke:#1f77b4;\" x=\"312.198441\" xlink:href=\"#m2468d9ad80\" y=\"155.607716\"/>\n     <use style=\"fill:#1f77b4;stroke:#1f77b4;\" x=\"119.729401\" xlink:href=\"#m2468d9ad80\" y=\"189.460696\"/>\n     <use style=\"fill:#1f77b4;stroke:#1f77b4;\" x=\"335.523507\" xlink:href=\"#m2468d9ad80\" y=\"86.7088\"/>\n     <use style=\"fill:#1f77b4;stroke:#1f77b4;\" x=\"309.455377\" xlink:href=\"#m2468d9ad80\" y=\"157.353995\"/>\n     <use style=\"fill:#1f77b4;stroke:#1f77b4;\" x=\"83.316571\" xlink:href=\"#m2468d9ad80\" y=\"205.483716\"/>\n     <use style=\"fill:#1f77b4;stroke:#1f77b4;\" x=\"77.90033\" xlink:href=\"#m2468d9ad80\" y=\"209.025285\"/>\n     <use style=\"fill:#1f77b4;stroke:#1f77b4;\" x=\"112.823323\" xlink:href=\"#m2468d9ad80\" y=\"150.087503\"/>\n     <use style=\"fill:#1f77b4;stroke:#1f77b4;\" x=\"127.969986\" xlink:href=\"#m2468d9ad80\" y=\"185.356542\"/>\n     <use style=\"fill:#1f77b4;stroke:#1f77b4;\" x=\"72.317726\" xlink:href=\"#m2468d9ad80\" y=\"211.264673\"/>\n     <use style=\"fill:#1f77b4;stroke:#1f77b4;\" x=\"116.283852\" xlink:href=\"#m2468d9ad80\" y=\"151.223927\"/>\n     <use style=\"fill:#1f77b4;stroke:#1f77b4;\" x=\"73.05975\" xlink:href=\"#m2468d9ad80\" y=\"172.916272\"/>\n     <use style=\"fill:#1f77b4;stroke:#1f77b4;\" x=\"326.1592\" xlink:href=\"#m2468d9ad80\" y=\"93.88661\"/>\n     <use style=\"fill:#1f77b4;stroke:#1f77b4;\" x=\"84.068734\" xlink:href=\"#m2468d9ad80\" y=\"206.596597\"/>\n     <use style=\"fill:#1f77b4;stroke:#1f77b4;\" x=\"302.141784\" xlink:href=\"#m2468d9ad80\" y=\"162.100986\"/>\n     <use style=\"fill:#1f77b4;stroke:#1f77b4;\" x=\"117.335463\" xlink:href=\"#m2468d9ad80\" y=\"190.694482\"/>\n     <use style=\"fill:#1f77b4;stroke:#1f77b4;\" x=\"98.360657\" xlink:href=\"#m2468d9ad80\" y=\"199.941179\"/>\n     <use style=\"fill:#1f77b4;stroke:#1f77b4;\" x=\"117.68311\" xlink:href=\"#m2468d9ad80\" y=\"190.423157\"/>\n     <use style=\"fill:#1f77b4;stroke:#1f77b4;\" x=\"326.86208\" xlink:href=\"#m2468d9ad80\" y=\"89.788996\"/>\n     <use style=\"fill:#1f77b4;stroke:#1f77b4;\" x=\"140.579768\" xlink:href=\"#m2468d9ad80\" y=\"179.302881\"/>\n     <use style=\"fill:#1f77b4;stroke:#1f77b4;\" x=\"137.594933\" xlink:href=\"#m2468d9ad80\" y=\"124.508804\"/>\n     <use style=\"fill:#1f77b4;stroke:#1f77b4;\" x=\"115.161511\" xlink:href=\"#m2468d9ad80\" y=\"191.959488\"/>\n     <use style=\"fill:#1f77b4;stroke:#1f77b4;\" x=\"309.242604\" xlink:href=\"#m2468d9ad80\" y=\"151.56208\"/>\n     <use style=\"fill:#1f77b4;stroke:#1f77b4;\" x=\"116.417301\" xlink:href=\"#m2468d9ad80\" y=\"190.918977\"/>\n     <use style=\"fill:#1f77b4;stroke:#1f77b4;\" x=\"94.167532\" xlink:href=\"#m2468d9ad80\" y=\"201.552301\"/>\n     <use style=\"fill:#1f77b4;stroke:#1f77b4;\" x=\"333.005211\" xlink:href=\"#m2468d9ad80\" y=\"86.737278\"/>\n     <use style=\"fill:#1f77b4;stroke:#1f77b4;\" x=\"129.923315\" xlink:href=\"#m2468d9ad80\" y=\"185.479247\"/>\n     <use style=\"fill:#1f77b4;stroke:#1f77b4;\" x=\"104.746419\" xlink:href=\"#m2468d9ad80\" y=\"138.244491\"/>\n     <use style=\"fill:#1f77b4;stroke:#1f77b4;\" x=\"70.931293\" xlink:href=\"#m2468d9ad80\" y=\"211.278261\"/>\n     <use style=\"fill:#1f77b4;stroke:#1f77b4;\" x=\"71.789571\" xlink:href=\"#m2468d9ad80\" y=\"211.091439\"/>\n     <use style=\"fill:#1f77b4;stroke:#1f77b4;\" x=\"137.088079\" xlink:href=\"#m2468d9ad80\" y=\"180.874049\"/>\n     <use style=\"fill:#1f77b4;stroke:#1f77b4;\" x=\"68.950021\" xlink:href=\"#m2468d9ad80\" y=\"214.306213\"/>\n     <use style=\"fill:#1f77b4;stroke:#1f77b4;\" x=\"86.563371\" xlink:href=\"#m2468d9ad80\" y=\"203.79851\"/>\n     <use style=\"fill:#1f77b4;stroke:#1f77b4;\" x=\"119.478213\" xlink:href=\"#m2468d9ad80\" y=\"189.772681\"/>\n     <use style=\"fill:#1f77b4;stroke:#1f77b4;\" x=\"75.992782\" xlink:href=\"#m2468d9ad80\" y=\"209.54668\"/>\n     <use style=\"fill:#1f77b4;stroke:#1f77b4;\" x=\"297.861438\" xlink:href=\"#m2468d9ad80\" y=\"107.043146\"/>\n     <use style=\"fill:#1f77b4;stroke:#1f77b4;\" x=\"111.648097\" xlink:href=\"#m2468d9ad80\" y=\"193.507705\"/>\n     <use style=\"fill:#1f77b4;stroke:#1f77b4;\" x=\"85.22136\" xlink:href=\"#m2468d9ad80\" y=\"205.929308\"/>\n     <use style=\"fill:#1f77b4;stroke:#1f77b4;\" x=\"82.71071\" xlink:href=\"#m2468d9ad80\" y=\"206.814834\"/>\n     <use style=\"fill:#1f77b4;stroke:#1f77b4;\" x=\"70.654353\" xlink:href=\"#m2468d9ad80\" y=\"211.104602\"/>\n     <use style=\"fill:#1f77b4;stroke:#1f77b4;\" x=\"87.81989\" xlink:href=\"#m2468d9ad80\" y=\"204.121975\"/>\n     <use style=\"fill:#1f77b4;stroke:#1f77b4;\" x=\"141.284223\" xlink:href=\"#m2468d9ad80\" y=\"178.911654\"/>\n     <use style=\"fill:#1f77b4;stroke:#1f77b4;\" x=\"294.039168\" xlink:href=\"#m2468d9ad80\" y=\"160.372023\"/>\n     <use style=\"fill:#1f77b4;stroke:#1f77b4;\" x=\"71.250836\" xlink:href=\"#m2468d9ad80\" y=\"210.235257\"/>\n     <use style=\"fill:#1f77b4;stroke:#1f77b4;\" x=\"299.469332\" xlink:href=\"#m2468d9ad80\" y=\"159.425736\"/>\n     <use style=\"fill:#1f77b4;stroke:#1f77b4;\" x=\"293.00324\" xlink:href=\"#m2468d9ad80\" y=\"164.067012\"/>\n     <use style=\"fill:#1f77b4;stroke:#1f77b4;\" x=\"345.912963\" xlink:href=\"#m2468d9ad80\" y=\"75.510044\"/>\n     <use style=\"fill:#1f77b4;stroke:#1f77b4;\" x=\"90.404949\" xlink:href=\"#m2468d9ad80\" y=\"203.37465\"/>\n     <use style=\"fill:#1f77b4;stroke:#1f77b4;\" x=\"115.879425\" xlink:href=\"#m2468d9ad80\" y=\"192.238264\"/>\n     <use style=\"fill:#1f77b4;stroke:#1f77b4;\" x=\"88.444435\" xlink:href=\"#m2468d9ad80\" y=\"204.039927\"/>\n     <use style=\"fill:#1f77b4;stroke:#1f77b4;\" x=\"82.355825\" xlink:href=\"#m2468d9ad80\" y=\"206.360953\"/>\n     <use style=\"fill:#1f77b4;stroke:#1f77b4;\" x=\"63.578398\" xlink:href=\"#m2468d9ad80\" y=\"212.795415\"/>\n     <use style=\"fill:#1f77b4;stroke:#1f77b4;\" x=\"108.544659\" xlink:href=\"#m2468d9ad80\" y=\"194.808772\"/>\n     <use style=\"fill:#1f77b4;stroke:#1f77b4;\" x=\"126.140724\" xlink:href=\"#m2468d9ad80\" y=\"186.342866\"/>\n     <use style=\"fill:#1f77b4;stroke:#1f77b4;\" x=\"126.484246\" xlink:href=\"#m2468d9ad80\" y=\"120.977441\"/>\n     <use style=\"fill:#1f77b4;stroke:#1f77b4;\" x=\"100.812542\" xlink:href=\"#m2468d9ad80\" y=\"198.691911\"/>\n     <use style=\"fill:#1f77b4;stroke:#1f77b4;\" x=\"295.922238\" xlink:href=\"#m2468d9ad80\" y=\"158.39612\"/>\n     <use style=\"fill:#1f77b4;stroke:#1f77b4;\" x=\"138.519762\" xlink:href=\"#m2468d9ad80\" y=\"180.164262\"/>\n     <use style=\"fill:#1f77b4;stroke:#1f77b4;\" x=\"340.862056\" xlink:href=\"#m2468d9ad80\" y=\"82.625326\"/>\n     <use style=\"fill:#1f77b4;stroke:#1f77b4;\" x=\"99.229729\" xlink:href=\"#m2468d9ad80\" y=\"199.356117\"/>\n     <use style=\"fill:#1f77b4;stroke:#1f77b4;\" x=\"324.278313\" xlink:href=\"#m2468d9ad80\" y=\"141.548255\"/>\n     <use style=\"fill:#1f77b4;stroke:#1f77b4;\" x=\"94.529038\" xlink:href=\"#m2468d9ad80\" y=\"201.146846\"/>\n     <use style=\"fill:#1f77b4;stroke:#1f77b4;\" x=\"113.524455\" xlink:href=\"#m2468d9ad80\" y=\"192.68394\"/>\n     <use style=\"fill:#1f77b4;stroke:#1f77b4;\" x=\"115.30111\" xlink:href=\"#m2468d9ad80\" y=\"115.111927\"/>\n     <use style=\"fill:#1f77b4;stroke:#1f77b4;\" x=\"77.497223\" xlink:href=\"#m2468d9ad80\" y=\"208.149971\"/>\n     <use style=\"fill:#1f77b4;stroke:#1f77b4;\" x=\"303.678486\" xlink:href=\"#m2468d9ad80\" y=\"108.495256\"/>\n     <use style=\"fill:#1f77b4;stroke:#1f77b4;\" x=\"315.355694\" xlink:href=\"#m2468d9ad80\" y=\"94.521866\"/>\n     <use style=\"fill:#1f77b4;stroke:#1f77b4;\" x=\"333.071511\" xlink:href=\"#m2468d9ad80\" y=\"88.855735\"/>\n     <use style=\"fill:#1f77b4;stroke:#1f77b4;\" x=\"132.251755\" xlink:href=\"#m2468d9ad80\" y=\"183.553137\"/>\n     <use style=\"fill:#1f77b4;stroke:#1f77b4;\" x=\"67.134967\" xlink:href=\"#m2468d9ad80\" y=\"213.148482\"/>\n     <use style=\"fill:#1f77b4;stroke:#1f77b4;\" x=\"126.35289\" xlink:href=\"#m2468d9ad80\" y=\"186.592577\"/>\n     <use style=\"fill:#1f77b4;stroke:#1f77b4;\" x=\"102.758755\" xlink:href=\"#m2468d9ad80\" y=\"197.762841\"/>\n     <use style=\"fill:#1f77b4;stroke:#1f77b4;\" x=\"121.467055\" xlink:href=\"#m2468d9ad80\" y=\"188.862649\"/>\n     <use style=\"fill:#1f77b4;stroke:#1f77b4;\" x=\"120.991237\" xlink:href=\"#m2468d9ad80\" y=\"189.492768\"/>\n     <use style=\"fill:#1f77b4;stroke:#1f77b4;\" x=\"130.198167\" xlink:href=\"#m2468d9ad80\" y=\"185.161143\"/>\n     <use style=\"fill:#1f77b4;stroke:#1f77b4;\" x=\"89.578852\" xlink:href=\"#m2468d9ad80\" y=\"204.166124\"/>\n     <use style=\"fill:#1f77b4;stroke:#1f77b4;\" x=\"143.268768\" xlink:href=\"#m2468d9ad80\" y=\"121.0567\"/>\n     <use style=\"fill:#1f77b4;stroke:#1f77b4;\" x=\"144.367983\" xlink:href=\"#m2468d9ad80\" y=\"177.752284\"/>\n     <use style=\"fill:#1f77b4;stroke:#1f77b4;\" x=\"115.513179\" xlink:href=\"#m2468d9ad80\" y=\"191.888752\"/>\n     <use style=\"fill:#1f77b4;stroke:#1f77b4;\" x=\"362.039376\" xlink:href=\"#m2468d9ad80\" y=\"61.358852\"/>\n     <use style=\"fill:#1f77b4;stroke:#1f77b4;\" x=\"72.167484\" xlink:href=\"#m2468d9ad80\" y=\"211.498764\"/>\n     <use style=\"fill:#1f77b4;stroke:#1f77b4;\" x=\"65.472015\" xlink:href=\"#m2468d9ad80\" y=\"212.86182\"/>\n     <use style=\"fill:#1f77b4;stroke:#1f77b4;\" x=\"125.699977\" xlink:href=\"#m2468d9ad80\" y=\"131.160457\"/>\n     <use style=\"fill:#1f77b4;stroke:#1f77b4;\" x=\"329.842542\" xlink:href=\"#m2468d9ad80\" y=\"88.388256\"/>\n     <use style=\"fill:#1f77b4;stroke:#1f77b4;\" x=\"272.507589\" xlink:href=\"#m2468d9ad80\" y=\"177.108212\"/>\n     <use style=\"fill:#1f77b4;stroke:#1f77b4;\" x=\"121.966337\" xlink:href=\"#m2468d9ad80\" y=\"188.260697\"/>\n     <use style=\"fill:#1f77b4;stroke:#1f77b4;\" x=\"136.497258\" xlink:href=\"#m2468d9ad80\" y=\"181.527156\"/>\n     <use style=\"fill:#1f77b4;stroke:#1f77b4;\" x=\"115.884283\" xlink:href=\"#m2468d9ad80\" y=\"192.233839\"/>\n     <use style=\"fill:#1f77b4;stroke:#1f77b4;\" x=\"337.619959\" xlink:href=\"#m2468d9ad80\" y=\"61.163705\"/>\n     <use style=\"fill:#1f77b4;stroke:#1f77b4;\" x=\"134.281271\" xlink:href=\"#m2468d9ad80\" y=\"182.205359\"/>\n     <use style=\"fill:#1f77b4;stroke:#1f77b4;\" x=\"77.538011\" xlink:href=\"#m2468d9ad80\" y=\"208.568738\"/>\n     <use style=\"fill:#1f77b4;stroke:#1f77b4;\" x=\"126.31556\" xlink:href=\"#m2468d9ad80\" y=\"186.653814\"/>\n     <use style=\"fill:#1f77b4;stroke:#1f77b4;\" x=\"105.734014\" xlink:href=\"#m2468d9ad80\" y=\"196.252905\"/>\n     <use style=\"fill:#1f77b4;stroke:#1f77b4;\" x=\"289.797403\" xlink:href=\"#m2468d9ad80\" y=\"164.797642\"/>\n     <use style=\"fill:#1f77b4;stroke:#1f77b4;\" x=\"75.386542\" xlink:href=\"#m2468d9ad80\" y=\"209.355954\"/>\n     <use style=\"fill:#1f77b4;stroke:#1f77b4;\" x=\"69.622958\" xlink:href=\"#m2468d9ad80\" y=\"211.220081\"/>\n     <use style=\"fill:#1f77b4;stroke:#1f77b4;\" x=\"297.177655\" xlink:href=\"#m2468d9ad80\" y=\"160.788267\"/>\n     <use style=\"fill:#1f77b4;stroke:#1f77b4;\" x=\"75.318998\" xlink:href=\"#m2468d9ad80\" y=\"176.913332\"/>\n     <use style=\"fill:#1f77b4;stroke:#1f77b4;\" x=\"120.185301\" xlink:href=\"#m2468d9ad80\" y=\"188.79929\"/>\n    </g>\n   </g>\n   <g id=\"matplotlib.axis_1\">\n    <g id=\"xtick_1\">\n     <g id=\"line2d_1\">\n      <defs>\n       <path d=\"M 0 0 \nL 0 3.5 \n\" id=\"mce4bf0ab6f\" style=\"stroke:#000000;stroke-width:0.8;\"/>\n      </defs>\n      <g>\n       <use style=\"stroke:#000000;stroke-width:0.8;\" x=\"56.925393\" xlink:href=\"#mce4bf0ab6f\" y=\"224.64\"/>\n      </g>\n     </g>\n     <g id=\"text_1\">\n      <!-- 0 -->\n      <defs>\n       <path d=\"M 31.78125 66.40625 \nQ 24.171875 66.40625 20.328125 58.90625 \nQ 16.5 51.421875 16.5 36.375 \nQ 16.5 21.390625 20.328125 13.890625 \nQ 24.171875 6.390625 31.78125 6.390625 \nQ 39.453125 6.390625 43.28125 13.890625 \nQ 47.125 21.390625 47.125 36.375 \nQ 47.125 51.421875 43.28125 58.90625 \nQ 39.453125 66.40625 31.78125 66.40625 \nz\nM 31.78125 74.21875 \nQ 44.046875 74.21875 50.515625 64.515625 \nQ 56.984375 54.828125 56.984375 36.375 \nQ 56.984375 17.96875 50.515625 8.265625 \nQ 44.046875 -1.421875 31.78125 -1.421875 \nQ 19.53125 -1.421875 13.0625 8.265625 \nQ 6.59375 17.96875 6.59375 36.375 \nQ 6.59375 54.828125 13.0625 64.515625 \nQ 19.53125 74.21875 31.78125 74.21875 \nz\n\" id=\"DejaVuSans-48\"/>\n      </defs>\n      <g transform=\"translate(53.744143 239.238437)scale(0.1 -0.1)\">\n       <use xlink:href=\"#DejaVuSans-48\"/>\n      </g>\n     </g>\n    </g>\n    <g id=\"xtick_2\">\n     <g id=\"line2d_2\">\n      <g>\n       <use style=\"stroke:#000000;stroke-width:0.8;\" x=\"127.674911\" xlink:href=\"#mce4bf0ab6f\" y=\"224.64\"/>\n      </g>\n     </g>\n     <g id=\"text_2\">\n      <!-- 10000 -->\n      <defs>\n       <path d=\"M 12.40625 8.296875 \nL 28.515625 8.296875 \nL 28.515625 63.921875 \nL 10.984375 60.40625 \nL 10.984375 69.390625 \nL 28.421875 72.90625 \nL 38.28125 72.90625 \nL 38.28125 8.296875 \nL 54.390625 8.296875 \nL 54.390625 0 \nL 12.40625 0 \nz\n\" id=\"DejaVuSans-49\"/>\n      </defs>\n      <g transform=\"translate(111.768661 239.238437)scale(0.1 -0.1)\">\n       <use xlink:href=\"#DejaVuSans-49\"/>\n       <use x=\"63.623047\" xlink:href=\"#DejaVuSans-48\"/>\n       <use x=\"127.246094\" xlink:href=\"#DejaVuSans-48\"/>\n       <use x=\"190.869141\" xlink:href=\"#DejaVuSans-48\"/>\n       <use x=\"254.492188\" xlink:href=\"#DejaVuSans-48\"/>\n      </g>\n     </g>\n    </g>\n    <g id=\"xtick_3\">\n     <g id=\"line2d_3\">\n      <g>\n       <use style=\"stroke:#000000;stroke-width:0.8;\" x=\"198.424428\" xlink:href=\"#mce4bf0ab6f\" y=\"224.64\"/>\n      </g>\n     </g>\n     <g id=\"text_3\">\n      <!-- 20000 -->\n      <defs>\n       <path d=\"M 19.1875 8.296875 \nL 53.609375 8.296875 \nL 53.609375 0 \nL 7.328125 0 \nL 7.328125 8.296875 \nQ 12.9375 14.109375 22.625 23.890625 \nQ 32.328125 33.6875 34.8125 36.53125 \nQ 39.546875 41.84375 41.421875 45.53125 \nQ 43.3125 49.21875 43.3125 52.78125 \nQ 43.3125 58.59375 39.234375 62.25 \nQ 35.15625 65.921875 28.609375 65.921875 \nQ 23.96875 65.921875 18.8125 64.3125 \nQ 13.671875 62.703125 7.8125 59.421875 \nL 7.8125 69.390625 \nQ 13.765625 71.78125 18.9375 73 \nQ 24.125 74.21875 28.421875 74.21875 \nQ 39.75 74.21875 46.484375 68.546875 \nQ 53.21875 62.890625 53.21875 53.421875 \nQ 53.21875 48.921875 51.53125 44.890625 \nQ 49.859375 40.875 45.40625 35.40625 \nQ 44.1875 33.984375 37.640625 27.21875 \nQ 31.109375 20.453125 19.1875 8.296875 \nz\n\" id=\"DejaVuSans-50\"/>\n      </defs>\n      <g transform=\"translate(182.518178 239.238437)scale(0.1 -0.1)\">\n       <use xlink:href=\"#DejaVuSans-50\"/>\n       <use x=\"63.623047\" xlink:href=\"#DejaVuSans-48\"/>\n       <use x=\"127.246094\" xlink:href=\"#DejaVuSans-48\"/>\n       <use x=\"190.869141\" xlink:href=\"#DejaVuSans-48\"/>\n       <use x=\"254.492188\" xlink:href=\"#DejaVuSans-48\"/>\n      </g>\n     </g>\n    </g>\n    <g id=\"xtick_4\">\n     <g id=\"line2d_4\">\n      <g>\n       <use style=\"stroke:#000000;stroke-width:0.8;\" x=\"269.173946\" xlink:href=\"#mce4bf0ab6f\" y=\"224.64\"/>\n      </g>\n     </g>\n     <g id=\"text_4\">\n      <!-- 30000 -->\n      <defs>\n       <path d=\"M 40.578125 39.3125 \nQ 47.65625 37.796875 51.625 33 \nQ 55.609375 28.21875 55.609375 21.1875 \nQ 55.609375 10.40625 48.1875 4.484375 \nQ 40.765625 -1.421875 27.09375 -1.421875 \nQ 22.515625 -1.421875 17.65625 -0.515625 \nQ 12.796875 0.390625 7.625 2.203125 \nL 7.625 11.71875 \nQ 11.71875 9.328125 16.59375 8.109375 \nQ 21.484375 6.890625 26.8125 6.890625 \nQ 36.078125 6.890625 40.9375 10.546875 \nQ 45.796875 14.203125 45.796875 21.1875 \nQ 45.796875 27.640625 41.28125 31.265625 \nQ 36.765625 34.90625 28.71875 34.90625 \nL 20.21875 34.90625 \nL 20.21875 43.015625 \nL 29.109375 43.015625 \nQ 36.375 43.015625 40.234375 45.921875 \nQ 44.09375 48.828125 44.09375 54.296875 \nQ 44.09375 59.90625 40.109375 62.90625 \nQ 36.140625 65.921875 28.71875 65.921875 \nQ 24.65625 65.921875 20.015625 65.03125 \nQ 15.375 64.15625 9.8125 62.3125 \nL 9.8125 71.09375 \nQ 15.4375 72.65625 20.34375 73.4375 \nQ 25.25 74.21875 29.59375 74.21875 \nQ 40.828125 74.21875 47.359375 69.109375 \nQ 53.90625 64.015625 53.90625 55.328125 \nQ 53.90625 49.265625 50.4375 45.09375 \nQ 46.96875 40.921875 40.578125 39.3125 \nz\n\" id=\"DejaVuSans-51\"/>\n      </defs>\n      <g transform=\"translate(253.267696 239.238437)scale(0.1 -0.1)\">\n       <use xlink:href=\"#DejaVuSans-51\"/>\n       <use x=\"63.623047\" xlink:href=\"#DejaVuSans-48\"/>\n       <use x=\"127.246094\" xlink:href=\"#DejaVuSans-48\"/>\n       <use x=\"190.869141\" xlink:href=\"#DejaVuSans-48\"/>\n       <use x=\"254.492188\" xlink:href=\"#DejaVuSans-48\"/>\n      </g>\n     </g>\n    </g>\n    <g id=\"xtick_5\">\n     <g id=\"line2d_5\">\n      <g>\n       <use style=\"stroke:#000000;stroke-width:0.8;\" x=\"339.923464\" xlink:href=\"#mce4bf0ab6f\" y=\"224.64\"/>\n      </g>\n     </g>\n     <g id=\"text_5\">\n      <!-- 40000 -->\n      <defs>\n       <path d=\"M 37.796875 64.3125 \nL 12.890625 25.390625 \nL 37.796875 25.390625 \nz\nM 35.203125 72.90625 \nL 47.609375 72.90625 \nL 47.609375 25.390625 \nL 58.015625 25.390625 \nL 58.015625 17.1875 \nL 47.609375 17.1875 \nL 47.609375 0 \nL 37.796875 0 \nL 37.796875 17.1875 \nL 4.890625 17.1875 \nL 4.890625 26.703125 \nz\n\" id=\"DejaVuSans-52\"/>\n      </defs>\n      <g transform=\"translate(324.017214 239.238437)scale(0.1 -0.1)\">\n       <use xlink:href=\"#DejaVuSans-52\"/>\n       <use x=\"63.623047\" xlink:href=\"#DejaVuSans-48\"/>\n       <use x=\"127.246094\" xlink:href=\"#DejaVuSans-48\"/>\n       <use x=\"190.869141\" xlink:href=\"#DejaVuSans-48\"/>\n       <use x=\"254.492188\" xlink:href=\"#DejaVuSans-48\"/>\n      </g>\n     </g>\n    </g>\n   </g>\n   <g id=\"matplotlib.axis_2\">\n    <g id=\"ytick_1\">\n     <g id=\"line2d_6\">\n      <defs>\n       <path d=\"M 0 0 \nL -3.5 0 \n\" id=\"mde01990f6b\" style=\"stroke:#000000;stroke-width:0.8;\"/>\n      </defs>\n      <g>\n       <use style=\"stroke:#000000;stroke-width:0.8;\" x=\"46.0125\" xlink:href=\"#mde01990f6b\" y=\"218.363981\"/>\n      </g>\n     </g>\n     <g id=\"text_6\">\n      <!-- 0 -->\n      <g transform=\"translate(32.65 222.1632)scale(0.1 -0.1)\">\n       <use xlink:href=\"#DejaVuSans-48\"/>\n      </g>\n     </g>\n    </g>\n    <g id=\"ytick_2\">\n     <g id=\"line2d_7\">\n      <g>\n       <use style=\"stroke:#000000;stroke-width:0.8;\" x=\"46.0125\" xlink:href=\"#mde01990f6b\" y=\"186.206911\"/>\n      </g>\n     </g>\n     <g id=\"text_7\">\n      <!-- 10000 -->\n      <g transform=\"translate(7.2 190.006129)scale(0.1 -0.1)\">\n       <use xlink:href=\"#DejaVuSans-49\"/>\n       <use x=\"63.623047\" xlink:href=\"#DejaVuSans-48\"/>\n       <use x=\"127.246094\" xlink:href=\"#DejaVuSans-48\"/>\n       <use x=\"190.869141\" xlink:href=\"#DejaVuSans-48\"/>\n       <use x=\"254.492188\" xlink:href=\"#DejaVuSans-48\"/>\n      </g>\n     </g>\n    </g>\n    <g id=\"ytick_3\">\n     <g id=\"line2d_8\">\n      <g>\n       <use style=\"stroke:#000000;stroke-width:0.8;\" x=\"46.0125\" xlink:href=\"#mde01990f6b\" y=\"154.04984\"/>\n      </g>\n     </g>\n     <g id=\"text_8\">\n      <!-- 20000 -->\n      <g transform=\"translate(7.2 157.849059)scale(0.1 -0.1)\">\n       <use xlink:href=\"#DejaVuSans-50\"/>\n       <use x=\"63.623047\" xlink:href=\"#DejaVuSans-48\"/>\n       <use x=\"127.246094\" xlink:href=\"#DejaVuSans-48\"/>\n       <use x=\"190.869141\" xlink:href=\"#DejaVuSans-48\"/>\n       <use x=\"254.492188\" xlink:href=\"#DejaVuSans-48\"/>\n      </g>\n     </g>\n    </g>\n    <g id=\"ytick_4\">\n     <g id=\"line2d_9\">\n      <g>\n       <use style=\"stroke:#000000;stroke-width:0.8;\" x=\"46.0125\" xlink:href=\"#mde01990f6b\" y=\"121.892769\"/>\n      </g>\n     </g>\n     <g id=\"text_9\">\n      <!-- 30000 -->\n      <g transform=\"translate(7.2 125.691988)scale(0.1 -0.1)\">\n       <use xlink:href=\"#DejaVuSans-51\"/>\n       <use x=\"63.623047\" xlink:href=\"#DejaVuSans-48\"/>\n       <use x=\"127.246094\" xlink:href=\"#DejaVuSans-48\"/>\n       <use x=\"190.869141\" xlink:href=\"#DejaVuSans-48\"/>\n       <use x=\"254.492188\" xlink:href=\"#DejaVuSans-48\"/>\n      </g>\n     </g>\n    </g>\n    <g id=\"ytick_5\">\n     <g id=\"line2d_10\">\n      <g>\n       <use style=\"stroke:#000000;stroke-width:0.8;\" x=\"46.0125\" xlink:href=\"#mde01990f6b\" y=\"89.735698\"/>\n      </g>\n     </g>\n     <g id=\"text_10\">\n      <!-- 40000 -->\n      <g transform=\"translate(7.2 93.534917)scale(0.1 -0.1)\">\n       <use xlink:href=\"#DejaVuSans-52\"/>\n       <use x=\"63.623047\" xlink:href=\"#DejaVuSans-48\"/>\n       <use x=\"127.246094\" xlink:href=\"#DejaVuSans-48\"/>\n       <use x=\"190.869141\" xlink:href=\"#DejaVuSans-48\"/>\n       <use x=\"254.492188\" xlink:href=\"#DejaVuSans-48\"/>\n      </g>\n     </g>\n    </g>\n    <g id=\"ytick_6\">\n     <g id=\"line2d_11\">\n      <g>\n       <use style=\"stroke:#000000;stroke-width:0.8;\" x=\"46.0125\" xlink:href=\"#mde01990f6b\" y=\"57.578628\"/>\n      </g>\n     </g>\n     <g id=\"text_11\">\n      <!-- 50000 -->\n      <defs>\n       <path d=\"M 10.796875 72.90625 \nL 49.515625 72.90625 \nL 49.515625 64.59375 \nL 19.828125 64.59375 \nL 19.828125 46.734375 \nQ 21.96875 47.46875 24.109375 47.828125 \nQ 26.265625 48.1875 28.421875 48.1875 \nQ 40.625 48.1875 47.75 41.5 \nQ 54.890625 34.8125 54.890625 23.390625 \nQ 54.890625 11.625 47.5625 5.09375 \nQ 40.234375 -1.421875 26.90625 -1.421875 \nQ 22.3125 -1.421875 17.546875 -0.640625 \nQ 12.796875 0.140625 7.71875 1.703125 \nL 7.71875 11.625 \nQ 12.109375 9.234375 16.796875 8.0625 \nQ 21.484375 6.890625 26.703125 6.890625 \nQ 35.15625 6.890625 40.078125 11.328125 \nQ 45.015625 15.765625 45.015625 23.390625 \nQ 45.015625 31 40.078125 35.4375 \nQ 35.15625 39.890625 26.703125 39.890625 \nQ 22.75 39.890625 18.8125 39.015625 \nQ 14.890625 38.140625 10.796875 36.28125 \nz\n\" id=\"DejaVuSans-53\"/>\n      </defs>\n      <g transform=\"translate(7.2 61.377846)scale(0.1 -0.1)\">\n       <use xlink:href=\"#DejaVuSans-53\"/>\n       <use x=\"63.623047\" xlink:href=\"#DejaVuSans-48\"/>\n       <use x=\"127.246094\" xlink:href=\"#DejaVuSans-48\"/>\n       <use x=\"190.869141\" xlink:href=\"#DejaVuSans-48\"/>\n       <use x=\"254.492188\" xlink:href=\"#DejaVuSans-48\"/>\n      </g>\n     </g>\n    </g>\n    <g id=\"ytick_7\">\n     <g id=\"line2d_12\">\n      <g>\n       <use style=\"stroke:#000000;stroke-width:0.8;\" x=\"46.0125\" xlink:href=\"#mde01990f6b\" y=\"25.421557\"/>\n      </g>\n     </g>\n     <g id=\"text_12\">\n      <!-- 60000 -->\n      <defs>\n       <path d=\"M 33.015625 40.375 \nQ 26.375 40.375 22.484375 35.828125 \nQ 18.609375 31.296875 18.609375 23.390625 \nQ 18.609375 15.53125 22.484375 10.953125 \nQ 26.375 6.390625 33.015625 6.390625 \nQ 39.65625 6.390625 43.53125 10.953125 \nQ 47.40625 15.53125 47.40625 23.390625 \nQ 47.40625 31.296875 43.53125 35.828125 \nQ 39.65625 40.375 33.015625 40.375 \nz\nM 52.59375 71.296875 \nL 52.59375 62.3125 \nQ 48.875 64.0625 45.09375 64.984375 \nQ 41.3125 65.921875 37.59375 65.921875 \nQ 27.828125 65.921875 22.671875 59.328125 \nQ 17.53125 52.734375 16.796875 39.40625 \nQ 19.671875 43.65625 24.015625 45.921875 \nQ 28.375 48.1875 33.59375 48.1875 \nQ 44.578125 48.1875 50.953125 41.515625 \nQ 57.328125 34.859375 57.328125 23.390625 \nQ 57.328125 12.15625 50.6875 5.359375 \nQ 44.046875 -1.421875 33.015625 -1.421875 \nQ 20.359375 -1.421875 13.671875 8.265625 \nQ 6.984375 17.96875 6.984375 36.375 \nQ 6.984375 53.65625 15.1875 63.9375 \nQ 23.390625 74.21875 37.203125 74.21875 \nQ 40.921875 74.21875 44.703125 73.484375 \nQ 48.484375 72.75 52.59375 71.296875 \nz\n\" id=\"DejaVuSans-54\"/>\n      </defs>\n      <g transform=\"translate(7.2 29.220775)scale(0.1 -0.1)\">\n       <use xlink:href=\"#DejaVuSans-54\"/>\n       <use x=\"63.623047\" xlink:href=\"#DejaVuSans-48\"/>\n       <use x=\"127.246094\" xlink:href=\"#DejaVuSans-48\"/>\n       <use x=\"190.869141\" xlink:href=\"#DejaVuSans-48\"/>\n       <use x=\"254.492188\" xlink:href=\"#DejaVuSans-48\"/>\n      </g>\n     </g>\n    </g>\n   </g>\n   <g id=\"patch_3\">\n    <path d=\"M 46.0125 224.64 \nL 46.0125 7.2 \n\" style=\"fill:none;stroke:#000000;stroke-linecap:square;stroke-linejoin:miter;stroke-width:0.8;\"/>\n   </g>\n   <g id=\"patch_4\">\n    <path d=\"M 380.8125 224.64 \nL 380.8125 7.2 \n\" style=\"fill:none;stroke:#000000;stroke-linecap:square;stroke-linejoin:miter;stroke-width:0.8;\"/>\n   </g>\n   <g id=\"patch_5\">\n    <path d=\"M 46.0125 224.64 \nL 380.8125 224.64 \n\" style=\"fill:none;stroke:#000000;stroke-linecap:square;stroke-linejoin:miter;stroke-width:0.8;\"/>\n   </g>\n   <g id=\"patch_6\">\n    <path d=\"M 46.0125 7.2 \nL 380.8125 7.2 \n\" style=\"fill:none;stroke:#000000;stroke-linecap:square;stroke-linejoin:miter;stroke-width:0.8;\"/>\n   </g>\n  </g>\n </g>\n <defs>\n  <clipPath id=\"pc3f7244790\">\n   <rect height=\"217.44\" width=\"334.8\" x=\"46.0125\" y=\"7.2\"/>\n  </clipPath>\n </defs>\n</svg>\n"
          },
          "metadata": {
            "needs_background": "light"
          }
        }
      ]
    },
    {
      "cell_type": "code",
      "source": [
        "np.corrcoef(y_test_pred.squeeze(),y_test.to_numpy())[0][1]"
      ],
      "metadata": {
        "colab": {
          "base_uri": "https://localhost:8080/"
        },
        "id": "ihHljActIrsU",
        "outputId": "408e035b-e2b3-4e64-b2c2-cbba5ddefc4b"
      },
      "execution_count": null,
      "outputs": [
        {
          "output_type": "execute_result",
          "data": {
            "text/plain": [
              "0.8600869551994196"
            ]
          },
          "metadata": {},
          "execution_count": 138
        }
      ]
    },
    {
      "cell_type": "code",
      "source": [
        "plt.scatter(y_test_pred,y_test)"
      ],
      "metadata": {
        "colab": {
          "base_uri": "https://localhost:8080/",
          "height": 369
        },
        "id": "0zCtxURXGvhE",
        "outputId": "010ada62-5581-4bed-dcaa-2f54afec707a"
      },
      "execution_count": null,
      "outputs": [
        {
          "output_type": "execute_result",
          "data": {
            "text/plain": [
              "<matplotlib.collections.PathCollection at 0x7f15d1000cd0>"
            ]
          },
          "metadata": {},
          "execution_count": 139
        },
        {
          "output_type": "display_data",
          "data": {
            "text/plain": [
              "<Figure size 432x288 with 1 Axes>"
            ],
            "image/svg+xml": "<?xml version=\"1.0\" encoding=\"utf-8\" standalone=\"no\"?>\n<!DOCTYPE svg PUBLIC \"-//W3C//DTD SVG 1.1//EN\"\n  \"http://www.w3.org/Graphics/SVG/1.1/DTD/svg11.dtd\">\n<!-- Created with matplotlib (https://matplotlib.org/) -->\n<svg height=\"248.518125pt\" version=\"1.1\" viewBox=\"0 0 388.0125 248.518125\" width=\"388.0125pt\" xmlns=\"http://www.w3.org/2000/svg\" xmlns:xlink=\"http://www.w3.org/1999/xlink\">\n <defs>\n  <style type=\"text/css\">\n*{stroke-linecap:butt;stroke-linejoin:round;}\n  </style>\n </defs>\n <g id=\"figure_1\">\n  <g id=\"patch_1\">\n   <path d=\"M 0 248.518125 \nL 388.0125 248.518125 \nL 388.0125 0 \nL 0 0 \nz\n\" style=\"fill:none;\"/>\n  </g>\n  <g id=\"axes_1\">\n   <g id=\"patch_2\">\n    <path d=\"M 46.0125 224.64 \nL 380.8125 224.64 \nL 380.8125 7.2 \nL 46.0125 7.2 \nz\n\" style=\"fill:#ffffff;\"/>\n   </g>\n   <g id=\"PathCollection_1\">\n    <defs>\n     <path d=\"M 0 3 \nC 0.795609 3 1.55874 2.683901 2.12132 2.12132 \nC 2.683901 1.55874 3 0.795609 3 0 \nC 3 -0.795609 2.683901 -1.55874 2.12132 -2.12132 \nC 1.55874 -2.683901 0.795609 -3 0 -3 \nC -0.795609 -3 -1.55874 -2.683901 -2.12132 -2.12132 \nC -2.683901 -1.55874 -3 -0.795609 -3 0 \nC -3 0.795609 -2.683901 1.55874 -2.12132 2.12132 \nC -1.55874 2.683901 -0.795609 3 0 3 \nz\n\" id=\"m527e3bfe6b\" style=\"stroke:#1f77b4;\"/>\n    </defs>\n    <g clip-path=\"url(#p8f9eebb916)\">\n     <use style=\"fill:#1f77b4;stroke:#1f77b4;\" x=\"81.752548\" xlink:href=\"#m527e3bfe6b\" y=\"207.048157\"/>\n     <use style=\"fill:#1f77b4;stroke:#1f77b4;\" x=\"161.151729\" xlink:href=\"#m527e3bfe6b\" y=\"169.073417\"/>\n     <use style=\"fill:#1f77b4;stroke:#1f77b4;\" x=\"88.161747\" xlink:href=\"#m527e3bfe6b\" y=\"161.039116\"/>\n     <use style=\"fill:#1f77b4;stroke:#1f77b4;\" x=\"90.344315\" xlink:href=\"#m527e3bfe6b\" y=\"204.452609\"/>\n     <use style=\"fill:#1f77b4;stroke:#1f77b4;\" x=\"125.035077\" xlink:href=\"#m527e3bfe6b\" y=\"188.350199\"/>\n     <use style=\"fill:#1f77b4;stroke:#1f77b4;\" x=\"109.327189\" xlink:href=\"#m527e3bfe6b\" y=\"194.846587\"/>\n     <use style=\"fill:#1f77b4;stroke:#1f77b4;\" x=\"66.34925\" xlink:href=\"#m527e3bfe6b\" y=\"212.844605\"/>\n     <use style=\"fill:#1f77b4;stroke:#1f77b4;\" x=\"128.24821\" xlink:href=\"#m527e3bfe6b\" y=\"141.097293\"/>\n     <use style=\"fill:#1f77b4;stroke:#1f77b4;\" x=\"89.994062\" xlink:href=\"#m527e3bfe6b\" y=\"204.710843\"/>\n     <use style=\"fill:#1f77b4;stroke:#1f77b4;\" x=\"72.320328\" xlink:href=\"#m527e3bfe6b\" y=\"210.786994\"/>\n     <use style=\"fill:#1f77b4;stroke:#1f77b4;\" x=\"89.89824\" xlink:href=\"#m527e3bfe6b\" y=\"203.109167\"/>\n     <use style=\"fill:#1f77b4;stroke:#1f77b4;\" x=\"70.790645\" xlink:href=\"#m527e3bfe6b\" y=\"211.542837\"/>\n     <use style=\"fill:#1f77b4;stroke:#1f77b4;\" x=\"75.460595\" xlink:href=\"#m527e3bfe6b\" y=\"212.075414\"/>\n     <use style=\"fill:#1f77b4;stroke:#1f77b4;\" x=\"134.603716\" xlink:href=\"#m527e3bfe6b\" y=\"183.113499\"/>\n     <use style=\"fill:#1f77b4;stroke:#1f77b4;\" x=\"93.450778\" xlink:href=\"#m527e3bfe6b\" y=\"157.703709\"/>\n     <use style=\"fill:#1f77b4;stroke:#1f77b4;\" x=\"365.594318\" xlink:href=\"#m527e3bfe6b\" y=\"17.083636\"/>\n     <use style=\"fill:#1f77b4;stroke:#1f77b4;\" x=\"64.906001\" xlink:href=\"#m527e3bfe6b\" y=\"213.246835\"/>\n     <use style=\"fill:#1f77b4;stroke:#1f77b4;\" x=\"288.693303\" xlink:href=\"#m527e3bfe6b\" y=\"166.426434\"/>\n     <use style=\"fill:#1f77b4;stroke:#1f77b4;\" x=\"77.895681\" xlink:href=\"#m527e3bfe6b\" y=\"211.015965\"/>\n     <use style=\"fill:#1f77b4;stroke:#1f77b4;\" x=\"105.826942\" xlink:href=\"#m527e3bfe6b\" y=\"196.295912\"/>\n     <use style=\"fill:#1f77b4;stroke:#1f77b4;\" x=\"102.608479\" xlink:href=\"#m527e3bfe6b\" y=\"198.27766\"/>\n     <use style=\"fill:#1f77b4;stroke:#1f77b4;\" x=\"75.892315\" xlink:href=\"#m527e3bfe6b\" y=\"212.793716\"/>\n     <use style=\"fill:#1f77b4;stroke:#1f77b4;\" x=\"127.769589\" xlink:href=\"#m527e3bfe6b\" y=\"185.935349\"/>\n     <use style=\"fill:#1f77b4;stroke:#1f77b4;\" x=\"98.451992\" xlink:href=\"#m527e3bfe6b\" y=\"202.17408\"/>\n     <use style=\"fill:#1f77b4;stroke:#1f77b4;\" x=\"101.695806\" xlink:href=\"#m527e3bfe6b\" y=\"198.519229\"/>\n     <use style=\"fill:#1f77b4;stroke:#1f77b4;\" x=\"74.560477\" xlink:href=\"#m527e3bfe6b\" y=\"214.726927\"/>\n     <use style=\"fill:#1f77b4;stroke:#1f77b4;\" x=\"143.381613\" xlink:href=\"#m527e3bfe6b\" y=\"178.439324\"/>\n     <use style=\"fill:#1f77b4;stroke:#1f77b4;\" x=\"313.94458\" xlink:href=\"#m527e3bfe6b\" y=\"147.866741\"/>\n     <use style=\"fill:#1f77b4;stroke:#1f77b4;\" x=\"147.509527\" xlink:href=\"#m527e3bfe6b\" y=\"177.478097\"/>\n     <use style=\"fill:#1f77b4;stroke:#1f77b4;\" x=\"87.57992\" xlink:href=\"#m527e3bfe6b\" y=\"205.137898\"/>\n     <use style=\"fill:#1f77b4;stroke:#1f77b4;\" x=\"104.116388\" xlink:href=\"#m527e3bfe6b\" y=\"197.388385\"/>\n     <use style=\"fill:#1f77b4;stroke:#1f77b4;\" x=\"80.705604\" xlink:href=\"#m527e3bfe6b\" y=\"207.637871\"/>\n     <use style=\"fill:#1f77b4;stroke:#1f77b4;\" x=\"118.584391\" xlink:href=\"#m527e3bfe6b\" y=\"190.159801\"/>\n     <use style=\"fill:#1f77b4;stroke:#1f77b4;\" x=\"144.626328\" xlink:href=\"#m527e3bfe6b\" y=\"127.063418\"/>\n     <use style=\"fill:#1f77b4;stroke:#1f77b4;\" x=\"128.747773\" xlink:href=\"#m527e3bfe6b\" y=\"153.236075\"/>\n     <use style=\"fill:#1f77b4;stroke:#1f77b4;\" x=\"321.144351\" xlink:href=\"#m527e3bfe6b\" y=\"95.111104\"/>\n     <use style=\"fill:#1f77b4;stroke:#1f77b4;\" x=\"313.671889\" xlink:href=\"#m527e3bfe6b\" y=\"151.250622\"/>\n     <use style=\"fill:#1f77b4;stroke:#1f77b4;\" x=\"93.288681\" xlink:href=\"#m527e3bfe6b\" y=\"202.170839\"/>\n     <use style=\"fill:#1f77b4;stroke:#1f77b4;\" x=\"100.794618\" xlink:href=\"#m527e3bfe6b\" y=\"199.003485\"/>\n     <use style=\"fill:#1f77b4;stroke:#1f77b4;\" x=\"103.728958\" xlink:href=\"#m527e3bfe6b\" y=\"214.674328\"/>\n     <use style=\"fill:#1f77b4;stroke:#1f77b4;\" x=\"135.868993\" xlink:href=\"#m527e3bfe6b\" y=\"181.988267\"/>\n     <use style=\"fill:#1f77b4;stroke:#1f77b4;\" x=\"113.580469\" xlink:href=\"#m527e3bfe6b\" y=\"193.715956\"/>\n     <use style=\"fill:#1f77b4;stroke:#1f77b4;\" x=\"116.72404\" xlink:href=\"#m527e3bfe6b\" y=\"157.92504\"/>\n     <use style=\"fill:#1f77b4;stroke:#1f77b4;\" x=\"74.614483\" xlink:href=\"#m527e3bfe6b\" y=\"209.37438\"/>\n     <use style=\"fill:#1f77b4;stroke:#1f77b4;\" x=\"136.867034\" xlink:href=\"#m527e3bfe6b\" y=\"181.552684\"/>\n     <use style=\"fill:#1f77b4;stroke:#1f77b4;\" x=\"140.05966\" xlink:href=\"#m527e3bfe6b\" y=\"180.846188\"/>\n     <use style=\"fill:#1f77b4;stroke:#1f77b4;\" x=\"294.048481\" xlink:href=\"#m527e3bfe6b\" y=\"166.025979\"/>\n     <use style=\"fill:#1f77b4;stroke:#1f77b4;\" x=\"138.625762\" xlink:href=\"#m527e3bfe6b\" y=\"180.668546\"/>\n     <use style=\"fill:#1f77b4;stroke:#1f77b4;\" x=\"148.119916\" xlink:href=\"#m527e3bfe6b\" y=\"175.831571\"/>\n     <use style=\"fill:#1f77b4;stroke:#1f77b4;\" x=\"137.94375\" xlink:href=\"#m527e3bfe6b\" y=\"180.691051\"/>\n     <use style=\"fill:#1f77b4;stroke:#1f77b4;\" x=\"71.939782\" xlink:href=\"#m527e3bfe6b\" y=\"209.796183\"/>\n     <use style=\"fill:#1f77b4;stroke:#1f77b4;\" x=\"312.059884\" xlink:href=\"#m527e3bfe6b\" y=\"100.719826\"/>\n     <use style=\"fill:#1f77b4;stroke:#1f77b4;\" x=\"134.012687\" xlink:href=\"#m527e3bfe6b\" y=\"183.037474\"/>\n     <use style=\"fill:#1f77b4;stroke:#1f77b4;\" x=\"154.089645\" xlink:href=\"#m527e3bfe6b\" y=\"173.057421\"/>\n     <use style=\"fill:#1f77b4;stroke:#1f77b4;\" x=\"108.501983\" xlink:href=\"#m527e3bfe6b\" y=\"195.164825\"/>\n     <use style=\"fill:#1f77b4;stroke:#1f77b4;\" x=\"131.608232\" xlink:href=\"#m527e3bfe6b\" y=\"184.562436\"/>\n     <use style=\"fill:#1f77b4;stroke:#1f77b4;\" x=\"130.067235\" xlink:href=\"#m527e3bfe6b\" y=\"185.409437\"/>\n     <use style=\"fill:#1f77b4;stroke:#1f77b4;\" x=\"102.333734\" xlink:href=\"#m527e3bfe6b\" y=\"198.167744\"/>\n     <use style=\"fill:#1f77b4;stroke:#1f77b4;\" x=\"72.308256\" xlink:href=\"#m527e3bfe6b\" y=\"213.503933\"/>\n     <use style=\"fill:#1f77b4;stroke:#1f77b4;\" x=\"127.453104\" xlink:href=\"#m527e3bfe6b\" y=\"186.814063\"/>\n     <use style=\"fill:#1f77b4;stroke:#1f77b4;\" x=\"83.319463\" xlink:href=\"#m527e3bfe6b\" y=\"207.329928\"/>\n     <use style=\"fill:#1f77b4;stroke:#1f77b4;\" x=\"88.87313\" xlink:href=\"#m527e3bfe6b\" y=\"204.004444\"/>\n     <use style=\"fill:#1f77b4;stroke:#1f77b4;\" x=\"315.790584\" xlink:href=\"#m527e3bfe6b\" y=\"104.459531\"/>\n     <use style=\"fill:#1f77b4;stroke:#1f77b4;\" x=\"301.938028\" xlink:href=\"#m527e3bfe6b\" y=\"160.759428\"/>\n     <use style=\"fill:#1f77b4;stroke:#1f77b4;\" x=\"305.328086\" xlink:href=\"#m527e3bfe6b\" y=\"155.336544\"/>\n     <use style=\"fill:#1f77b4;stroke:#1f77b4;\" x=\"151.297089\" xlink:href=\"#m527e3bfe6b\" y=\"173.358023\"/>\n     <use style=\"fill:#1f77b4;stroke:#1f77b4;\" x=\"132.055137\" xlink:href=\"#m527e3bfe6b\" y=\"184.568204\"/>\n     <use style=\"fill:#1f77b4;stroke:#1f77b4;\" x=\"135.308482\" xlink:href=\"#m527e3bfe6b\" y=\"182.514924\"/>\n     <use style=\"fill:#1f77b4;stroke:#1f77b4;\" x=\"96.867433\" xlink:href=\"#m527e3bfe6b\" y=\"203.100566\"/>\n     <use style=\"fill:#1f77b4;stroke:#1f77b4;\" x=\"138.6229\" xlink:href=\"#m527e3bfe6b\" y=\"180.970939\"/>\n     <use style=\"fill:#1f77b4;stroke:#1f77b4;\" x=\"97.130411\" xlink:href=\"#m527e3bfe6b\" y=\"200.688664\"/>\n     <use style=\"fill:#1f77b4;stroke:#1f77b4;\" x=\"132.212163\" xlink:href=\"#m527e3bfe6b\" y=\"183.869799\"/>\n     <use style=\"fill:#1f77b4;stroke:#1f77b4;\" x=\"321.981813\" xlink:href=\"#m527e3bfe6b\" y=\"92.979315\"/>\n     <use style=\"fill:#1f77b4;stroke:#1f77b4;\" x=\"314.778252\" xlink:href=\"#m527e3bfe6b\" y=\"149.625432\"/>\n     <use style=\"fill:#1f77b4;stroke:#1f77b4;\" x=\"291.3633\" xlink:href=\"#m527e3bfe6b\" y=\"162.331107\"/>\n     <use style=\"fill:#1f77b4;stroke:#1f77b4;\" x=\"158.541788\" xlink:href=\"#m527e3bfe6b\" y=\"170.278615\"/>\n     <use style=\"fill:#1f77b4;stroke:#1f77b4;\" x=\"359.578238\" xlink:href=\"#m527e3bfe6b\" y=\"69.160267\"/>\n     <use style=\"fill:#1f77b4;stroke:#1f77b4;\" x=\"72.21693\" xlink:href=\"#m527e3bfe6b\" y=\"210.185201\"/>\n     <use style=\"fill:#1f77b4;stroke:#1f77b4;\" x=\"90.987024\" xlink:href=\"#m527e3bfe6b\" y=\"204.084634\"/>\n     <use style=\"fill:#1f77b4;stroke:#1f77b4;\" x=\"148.682916\" xlink:href=\"#m527e3bfe6b\" y=\"175.311524\"/>\n     <use style=\"fill:#1f77b4;stroke:#1f77b4;\" x=\"108.715172\" xlink:href=\"#m527e3bfe6b\" y=\"195.484439\"/>\n     <use style=\"fill:#1f77b4;stroke:#1f77b4;\" x=\"145.027787\" xlink:href=\"#m527e3bfe6b\" y=\"176.962242\"/>\n     <use style=\"fill:#1f77b4;stroke:#1f77b4;\" x=\"98.343742\" xlink:href=\"#m527e3bfe6b\" y=\"199.640854\"/>\n     <use style=\"fill:#1f77b4;stroke:#1f77b4;\" x=\"148.641646\" xlink:href=\"#m527e3bfe6b\" y=\"175.37237\"/>\n     <use style=\"fill:#1f77b4;stroke:#1f77b4;\" x=\"293.628851\" xlink:href=\"#m527e3bfe6b\" y=\"113.22599\"/>\n     <use style=\"fill:#1f77b4;stroke:#1f77b4;\" x=\"82.678312\" xlink:href=\"#m527e3bfe6b\" y=\"208.242986\"/>\n     <use style=\"fill:#1f77b4;stroke:#1f77b4;\" x=\"76.452161\" xlink:href=\"#m527e3bfe6b\" y=\"208.959785\"/>\n     <use style=\"fill:#1f77b4;stroke:#1f77b4;\" x=\"348.326455\" xlink:href=\"#m527e3bfe6b\" y=\"72.362842\"/>\n     <use style=\"fill:#1f77b4;stroke:#1f77b4;\" x=\"93.635557\" xlink:href=\"#m527e3bfe6b\" y=\"202.477194\"/>\n     <use style=\"fill:#1f77b4;stroke:#1f77b4;\" x=\"85.586637\" xlink:href=\"#m527e3bfe6b\" y=\"206.655148\"/>\n     <use style=\"fill:#1f77b4;stroke:#1f77b4;\" x=\"101.406915\" xlink:href=\"#m527e3bfe6b\" y=\"200.175592\"/>\n     <use style=\"fill:#1f77b4;stroke:#1f77b4;\" x=\"114.467176\" xlink:href=\"#m527e3bfe6b\" y=\"128.903231\"/>\n     <use style=\"fill:#1f77b4;stroke:#1f77b4;\" x=\"318.949435\" xlink:href=\"#m527e3bfe6b\" y=\"151.3633\"/>\n     <use style=\"fill:#1f77b4;stroke:#1f77b4;\" x=\"97.083457\" xlink:href=\"#m527e3bfe6b\" y=\"201.311128\"/>\n     <use style=\"fill:#1f77b4;stroke:#1f77b4;\" x=\"293.241828\" xlink:href=\"#m527e3bfe6b\" y=\"164.424321\"/>\n     <use style=\"fill:#1f77b4;stroke:#1f77b4;\" x=\"72.613627\" xlink:href=\"#m527e3bfe6b\" y=\"211.080101\"/>\n     <use style=\"fill:#1f77b4;stroke:#1f77b4;\" x=\"77.998452\" xlink:href=\"#m527e3bfe6b\" y=\"211.347832\"/>\n     <use style=\"fill:#1f77b4;stroke:#1f77b4;\" x=\"155.053454\" xlink:href=\"#m527e3bfe6b\" y=\"172.916839\"/>\n     <use style=\"fill:#1f77b4;stroke:#1f77b4;\" x=\"363.979548\" xlink:href=\"#m527e3bfe6b\" y=\"63.793741\"/>\n     <use style=\"fill:#1f77b4;stroke:#1f77b4;\" x=\"135.333664\" xlink:href=\"#m527e3bfe6b\" y=\"182.504089\"/>\n     <use style=\"fill:#1f77b4;stroke:#1f77b4;\" x=\"101.803932\" xlink:href=\"#m527e3bfe6b\" y=\"198.825095\"/>\n     <use style=\"fill:#1f77b4;stroke:#1f77b4;\" x=\"140.444338\" xlink:href=\"#m527e3bfe6b\" y=\"180.371656\"/>\n     <use style=\"fill:#1f77b4;stroke:#1f77b4;\" x=\"79.601556\" xlink:href=\"#m527e3bfe6b\" y=\"207.002893\"/>\n     <use style=\"fill:#1f77b4;stroke:#1f77b4;\" x=\"332.572056\" xlink:href=\"#m527e3bfe6b\" y=\"139.844636\"/>\n     <use style=\"fill:#1f77b4;stroke:#1f77b4;\" x=\"108.877497\" xlink:href=\"#m527e3bfe6b\" y=\"194.930034\"/>\n     <use style=\"fill:#1f77b4;stroke:#1f77b4;\" x=\"116.812236\" xlink:href=\"#m527e3bfe6b\" y=\"135.542325\"/>\n     <use style=\"fill:#1f77b4;stroke:#1f77b4;\" x=\"130.624559\" xlink:href=\"#m527e3bfe6b\" y=\"184.886997\"/>\n     <use style=\"fill:#1f77b4;stroke:#1f77b4;\" x=\"95.196124\" xlink:href=\"#m527e3bfe6b\" y=\"201.38767\"/>\n     <use style=\"fill:#1f77b4;stroke:#1f77b4;\" x=\"87.708868\" xlink:href=\"#m527e3bfe6b\" y=\"204.615835\"/>\n     <use style=\"fill:#1f77b4;stroke:#1f77b4;\" x=\"121.133786\" xlink:href=\"#m527e3bfe6b\" y=\"189.36689\"/>\n     <use style=\"fill:#1f77b4;stroke:#1f77b4;\" x=\"133.566113\" xlink:href=\"#m527e3bfe6b\" y=\"183.107662\"/>\n     <use style=\"fill:#1f77b4;stroke:#1f77b4;\" x=\"126.381864\" xlink:href=\"#m527e3bfe6b\" y=\"186.649282\"/>\n     <use style=\"fill:#1f77b4;stroke:#1f77b4;\" x=\"119.924084\" xlink:href=\"#m527e3bfe6b\" y=\"190.348479\"/>\n     <use style=\"fill:#1f77b4;stroke:#1f77b4;\" x=\"323.460652\" xlink:href=\"#m527e3bfe6b\" y=\"145.550661\"/>\n     <use style=\"fill:#1f77b4;stroke:#1f77b4;\" x=\"157.130223\" xlink:href=\"#m527e3bfe6b\" y=\"170.943166\"/>\n     <use style=\"fill:#1f77b4;stroke:#1f77b4;\" x=\"143.394909\" xlink:href=\"#m527e3bfe6b\" y=\"179.326306\"/>\n     <use style=\"fill:#1f77b4;stroke:#1f77b4;\" x=\"88.984523\" xlink:href=\"#m527e3bfe6b\" y=\"203.771385\"/>\n     <use style=\"fill:#1f77b4;stroke:#1f77b4;\" x=\"140.424108\" xlink:href=\"#m527e3bfe6b\" y=\"180.64213\"/>\n     <use style=\"fill:#1f77b4;stroke:#1f77b4;\" x=\"306.377311\" xlink:href=\"#m527e3bfe6b\" y=\"104.036032\"/>\n     <use style=\"fill:#1f77b4;stroke:#1f77b4;\" x=\"104.496452\" xlink:href=\"#m527e3bfe6b\" y=\"197.536835\"/>\n     <use style=\"fill:#1f77b4;stroke:#1f77b4;\" x=\"115.097087\" xlink:href=\"#m527e3bfe6b\" y=\"192.01564\"/>\n     <use style=\"fill:#1f77b4;stroke:#1f77b4;\" x=\"152.821547\" xlink:href=\"#m527e3bfe6b\" y=\"173.154701\"/>\n     <use style=\"fill:#1f77b4;stroke:#1f77b4;\" x=\"330.681193\" xlink:href=\"#m527e3bfe6b\" y=\"139.7126\"/>\n     <use style=\"fill:#1f77b4;stroke:#1f77b4;\" x=\"78.235899\" xlink:href=\"#m527e3bfe6b\" y=\"209.300749\"/>\n     <use style=\"fill:#1f77b4;stroke:#1f77b4;\" x=\"63.279967\" xlink:href=\"#m527e3bfe6b\" y=\"213.272893\"/>\n     <use style=\"fill:#1f77b4;stroke:#1f77b4;\" x=\"68.732773\" xlink:href=\"#m527e3bfe6b\" y=\"211.559288\"/>\n     <use style=\"fill:#1f77b4;stroke:#1f77b4;\" x=\"65.803406\" xlink:href=\"#m527e3bfe6b\" y=\"212.963239\"/>\n     <use style=\"fill:#1f77b4;stroke:#1f77b4;\" x=\"281.51025\" xlink:href=\"#m527e3bfe6b\" y=\"174.652326\"/>\n     <use style=\"fill:#1f77b4;stroke:#1f77b4;\" x=\"95.4955\" xlink:href=\"#m527e3bfe6b\" y=\"201.355568\"/>\n     <use style=\"fill:#1f77b4;stroke:#1f77b4;\" x=\"100.394583\" xlink:href=\"#m527e3bfe6b\" y=\"201.181312\"/>\n     <use style=\"fill:#1f77b4;stroke:#1f77b4;\" x=\"140.822628\" xlink:href=\"#m527e3bfe6b\" y=\"181.941644\"/>\n     <use style=\"fill:#1f77b4;stroke:#1f77b4;\" x=\"137.994783\" xlink:href=\"#m527e3bfe6b\" y=\"182.33043\"/>\n     <use style=\"fill:#1f77b4;stroke:#1f77b4;\" x=\"341.846992\" xlink:href=\"#m527e3bfe6b\" y=\"77.456438\"/>\n     <use style=\"fill:#1f77b4;stroke:#1f77b4;\" x=\"110.060272\" xlink:href=\"#m527e3bfe6b\" y=\"177.957645\"/>\n     <use style=\"fill:#1f77b4;stroke:#1f77b4;\" x=\"80.565799\" xlink:href=\"#m527e3bfe6b\" y=\"207.661787\"/>\n     <use style=\"fill:#1f77b4;stroke:#1f77b4;\" x=\"138.682941\" xlink:href=\"#m527e3bfe6b\" y=\"181.28384\"/>\n     <use style=\"fill:#1f77b4;stroke:#1f77b4;\" x=\"110.08547\" xlink:href=\"#m527e3bfe6b\" y=\"194.282564\"/>\n     <use style=\"fill:#1f77b4;stroke:#1f77b4;\" x=\"316.790029\" xlink:href=\"#m527e3bfe6b\" y=\"101.729429\"/>\n     <use style=\"fill:#1f77b4;stroke:#1f77b4;\" x=\"74.185791\" xlink:href=\"#m527e3bfe6b\" y=\"209.764093\"/>\n     <use style=\"fill:#1f77b4;stroke:#1f77b4;\" x=\"312.59202\" xlink:href=\"#m527e3bfe6b\" y=\"79.657219\"/>\n     <use style=\"fill:#1f77b4;stroke:#1f77b4;\" x=\"103.377162\" xlink:href=\"#m527e3bfe6b\" y=\"197.243565\"/>\n     <use style=\"fill:#1f77b4;stroke:#1f77b4;\" x=\"92.423853\" xlink:href=\"#m527e3bfe6b\" y=\"202.526667\"/>\n     <use style=\"fill:#1f77b4;stroke:#1f77b4;\" x=\"108.371151\" xlink:href=\"#m527e3bfe6b\" y=\"195.123507\"/>\n     <use style=\"fill:#1f77b4;stroke:#1f77b4;\" x=\"330.549051\" xlink:href=\"#m527e3bfe6b\" y=\"92.509195\"/>\n     <use style=\"fill:#1f77b4;stroke:#1f77b4;\" x=\"123.550471\" xlink:href=\"#m527e3bfe6b\" y=\"190.118203\"/>\n     <use style=\"fill:#1f77b4;stroke:#1f77b4;\" x=\"100.120052\" xlink:href=\"#m527e3bfe6b\" y=\"199.198121\"/>\n     <use style=\"fill:#1f77b4;stroke:#1f77b4;\" x=\"61.230682\" xlink:href=\"#m527e3bfe6b\" y=\"214.423885\"/>\n     <use style=\"fill:#1f77b4;stroke:#1f77b4;\" x=\"112.354485\" xlink:href=\"#m527e3bfe6b\" y=\"193.024861\"/>\n     <use style=\"fill:#1f77b4;stroke:#1f77b4;\" x=\"108.625555\" xlink:href=\"#m527e3bfe6b\" y=\"195.742608\"/>\n     <use style=\"fill:#1f77b4;stroke:#1f77b4;\" x=\"115.180844\" xlink:href=\"#m527e3bfe6b\" y=\"192.301655\"/>\n     <use style=\"fill:#1f77b4;stroke:#1f77b4;\" x=\"101.232072\" xlink:href=\"#m527e3bfe6b\" y=\"199.052614\"/>\n     <use style=\"fill:#1f77b4;stroke:#1f77b4;\" x=\"62.855392\" xlink:href=\"#m527e3bfe6b\" y=\"212.893299\"/>\n     <use style=\"fill:#1f77b4;stroke:#1f77b4;\" x=\"74.341046\" xlink:href=\"#m527e3bfe6b\" y=\"209.885065\"/>\n     <use style=\"fill:#1f77b4;stroke:#1f77b4;\" x=\"119.838612\" xlink:href=\"#m527e3bfe6b\" y=\"191.299365\"/>\n     <use style=\"fill:#1f77b4;stroke:#1f77b4;\" x=\"70.748928\" xlink:href=\"#m527e3bfe6b\" y=\"211.391174\"/>\n     <use style=\"fill:#1f77b4;stroke:#1f77b4;\" x=\"306.896421\" xlink:href=\"#m527e3bfe6b\" y=\"156.504082\"/>\n     <use style=\"fill:#1f77b4;stroke:#1f77b4;\" x=\"318.356372\" xlink:href=\"#m527e3bfe6b\" y=\"98.017947\"/>\n     <use style=\"fill:#1f77b4;stroke:#1f77b4;\" x=\"65.508963\" xlink:href=\"#m527e3bfe6b\" y=\"212.966156\"/>\n     <use style=\"fill:#1f77b4;stroke:#1f77b4;\" x=\"144.634514\" xlink:href=\"#m527e3bfe6b\" y=\"176.908594\"/>\n     <use style=\"fill:#1f77b4;stroke:#1f77b4;\" x=\"108.151508\" xlink:href=\"#m527e3bfe6b\" y=\"195.415357\"/>\n     <use style=\"fill:#1f77b4;stroke:#1f77b4;\" x=\"68.49268\" xlink:href=\"#m527e3bfe6b\" y=\"182.106509\"/>\n     <use style=\"fill:#1f77b4;stroke:#1f77b4;\" x=\"131.567418\" xlink:href=\"#m527e3bfe6b\" y=\"184.272457\"/>\n     <use style=\"fill:#1f77b4;stroke:#1f77b4;\" x=\"142.139139\" xlink:href=\"#m527e3bfe6b\" y=\"178.973446\"/>\n     <use style=\"fill:#1f77b4;stroke:#1f77b4;\" x=\"133.386064\" xlink:href=\"#m527e3bfe6b\" y=\"184.237311\"/>\n     <use style=\"fill:#1f77b4;stroke:#1f77b4;\" x=\"87.548634\" xlink:href=\"#m527e3bfe6b\" y=\"204.656167\"/>\n     <use style=\"fill:#1f77b4;stroke:#1f77b4;\" x=\"92.619961\" xlink:href=\"#m527e3bfe6b\" y=\"181.301041\"/>\n     <use style=\"fill:#1f77b4;stroke:#1f77b4;\" x=\"125.126211\" xlink:href=\"#m527e3bfe6b\" y=\"187.908535\"/>\n     <use style=\"fill:#1f77b4;stroke:#1f77b4;\" x=\"146.153731\" xlink:href=\"#m527e3bfe6b\" y=\"177.371677\"/>\n     <use style=\"fill:#1f77b4;stroke:#1f77b4;\" x=\"347.024754\" xlink:href=\"#m527e3bfe6b\" y=\"80.067537\"/>\n     <use style=\"fill:#1f77b4;stroke:#1f77b4;\" x=\"121.332953\" xlink:href=\"#m527e3bfe6b\" y=\"189.050305\"/>\n     <use style=\"fill:#1f77b4;stroke:#1f77b4;\" x=\"320.517438\" xlink:href=\"#m527e3bfe6b\" y=\"147.610843\"/>\n     <use style=\"fill:#1f77b4;stroke:#1f77b4;\" x=\"67.20749\" xlink:href=\"#m527e3bfe6b\" y=\"214.756364\"/>\n     <use style=\"fill:#1f77b4;stroke:#1f77b4;\" x=\"81.705266\" xlink:href=\"#m527e3bfe6b\" y=\"207.129033\"/>\n     <use style=\"fill:#1f77b4;stroke:#1f77b4;\" x=\"109.013767\" xlink:href=\"#m527e3bfe6b\" y=\"195.162797\"/>\n     <use style=\"fill:#1f77b4;stroke:#1f77b4;\" x=\"109.675372\" xlink:href=\"#m527e3bfe6b\" y=\"194.558611\"/>\n     <use style=\"fill:#1f77b4;stroke:#1f77b4;\" x=\"94.085027\" xlink:href=\"#m527e3bfe6b\" y=\"201.382388\"/>\n     <use style=\"fill:#1f77b4;stroke:#1f77b4;\" x=\"95.722351\" xlink:href=\"#m527e3bfe6b\" y=\"201.120409\"/>\n     <use style=\"fill:#1f77b4;stroke:#1f77b4;\" x=\"108.465218\" xlink:href=\"#m527e3bfe6b\" y=\"195.789656\"/>\n     <use style=\"fill:#1f77b4;stroke:#1f77b4;\" x=\"87.266249\" xlink:href=\"#m527e3bfe6b\" y=\"205.245422\"/>\n     <use style=\"fill:#1f77b4;stroke:#1f77b4;\" x=\"124.36533\" xlink:href=\"#m527e3bfe6b\" y=\"187.682598\"/>\n     <use style=\"fill:#1f77b4;stroke:#1f77b4;\" x=\"76.598186\" xlink:href=\"#m527e3bfe6b\" y=\"210.718244\"/>\n     <use style=\"fill:#1f77b4;stroke:#1f77b4;\" x=\"71.918331\" xlink:href=\"#m527e3bfe6b\" y=\"211.970496\"/>\n     <use style=\"fill:#1f77b4;stroke:#1f77b4;\" x=\"326.115797\" xlink:href=\"#m527e3bfe6b\" y=\"144.984562\"/>\n     <use style=\"fill:#1f77b4;stroke:#1f77b4;\" x=\"279.723665\" xlink:href=\"#m527e3bfe6b\" y=\"171.91528\"/>\n     <use style=\"fill:#1f77b4;stroke:#1f77b4;\" x=\"133.660539\" xlink:href=\"#m527e3bfe6b\" y=\"136.31164\"/>\n     <use style=\"fill:#1f77b4;stroke:#1f77b4;\" x=\"153.286367\" xlink:href=\"#m527e3bfe6b\" y=\"172.95373\"/>\n     <use style=\"fill:#1f77b4;stroke:#1f77b4;\" x=\"344.352877\" xlink:href=\"#m527e3bfe6b\" y=\"74.082588\"/>\n     <use style=\"fill:#1f77b4;stroke:#1f77b4;\" x=\"108.325671\" xlink:href=\"#m527e3bfe6b\" y=\"195.632605\"/>\n     <use style=\"fill:#1f77b4;stroke:#1f77b4;\" x=\"64.122805\" xlink:href=\"#m527e3bfe6b\" y=\"213.21049\"/>\n     <use style=\"fill:#1f77b4;stroke:#1f77b4;\" x=\"112.793581\" xlink:href=\"#m527e3bfe6b\" y=\"193.013716\"/>\n     <use style=\"fill:#1f77b4;stroke:#1f77b4;\" x=\"314.424417\" xlink:href=\"#m527e3bfe6b\" y=\"101.149847\"/>\n     <use style=\"fill:#1f77b4;stroke:#1f77b4;\" x=\"92.013185\" xlink:href=\"#m527e3bfe6b\" y=\"202.932551\"/>\n     <use style=\"fill:#1f77b4;stroke:#1f77b4;\" x=\"87.153093\" xlink:href=\"#m527e3bfe6b\" y=\"205.487096\"/>\n     <use style=\"fill:#1f77b4;stroke:#1f77b4;\" x=\"145.346471\" xlink:href=\"#m527e3bfe6b\" y=\"177.257156\"/>\n     <use style=\"fill:#1f77b4;stroke:#1f77b4;\" x=\"70.260918\" xlink:href=\"#m527e3bfe6b\" y=\"211.074729\"/>\n     <use style=\"fill:#1f77b4;stroke:#1f77b4;\" x=\"69.692622\" xlink:href=\"#m527e3bfe6b\" y=\"214.359398\"/>\n     <use style=\"fill:#1f77b4;stroke:#1f77b4;\" x=\"293.658969\" xlink:href=\"#m527e3bfe6b\" y=\"164.437538\"/>\n     <use style=\"fill:#1f77b4;stroke:#1f77b4;\" x=\"138.253065\" xlink:href=\"#m527e3bfe6b\" y=\"180.9762\"/>\n     <use style=\"fill:#1f77b4;stroke:#1f77b4;\" x=\"147.427333\" xlink:href=\"#m527e3bfe6b\" y=\"176.085005\"/>\n     <use style=\"fill:#1f77b4;stroke:#1f77b4;\" x=\"78.760292\" xlink:href=\"#m527e3bfe6b\" y=\"209.297503\"/>\n     <use style=\"fill:#1f77b4;stroke:#1f77b4;\" x=\"141.47352\" xlink:href=\"#m527e3bfe6b\" y=\"132.114369\"/>\n     <use style=\"fill:#1f77b4;stroke:#1f77b4;\" x=\"90.857361\" xlink:href=\"#m527e3bfe6b\" y=\"203.261612\"/>\n     <use style=\"fill:#1f77b4;stroke:#1f77b4;\" x=\"139.18805\" xlink:href=\"#m527e3bfe6b\" y=\"153.764038\"/>\n     <use style=\"fill:#1f77b4;stroke:#1f77b4;\" x=\"96.20653\" xlink:href=\"#m527e3bfe6b\" y=\"201.025047\"/>\n     <use style=\"fill:#1f77b4;stroke:#1f77b4;\" x=\"69.380328\" xlink:href=\"#m527e3bfe6b\" y=\"211.408678\"/>\n     <use style=\"fill:#1f77b4;stroke:#1f77b4;\" x=\"152.619849\" xlink:href=\"#m527e3bfe6b\" y=\"174.157518\"/>\n     <use style=\"fill:#1f77b4;stroke:#1f77b4;\" x=\"107.976406\" xlink:href=\"#m527e3bfe6b\" y=\"195.187977\"/>\n     <use style=\"fill:#1f77b4;stroke:#1f77b4;\" x=\"88.95592\" xlink:href=\"#m527e3bfe6b\" y=\"162.716987\"/>\n     <use style=\"fill:#1f77b4;stroke:#1f77b4;\" x=\"137.438946\" xlink:href=\"#m527e3bfe6b\" y=\"181.008291\"/>\n     <use style=\"fill:#1f77b4;stroke:#1f77b4;\" x=\"106.053793\" xlink:href=\"#m527e3bfe6b\" y=\"196.094098\"/>\n     <use style=\"fill:#1f77b4;stroke:#1f77b4;\" x=\"127.003668\" xlink:href=\"#m527e3bfe6b\" y=\"188.575494\"/>\n     <use style=\"fill:#1f77b4;stroke:#1f77b4;\" x=\"107.737434\" xlink:href=\"#m527e3bfe6b\" y=\"195.427859\"/>\n     <use style=\"fill:#1f77b4;stroke:#1f77b4;\" x=\"135.759412\" xlink:href=\"#m527e3bfe6b\" y=\"182.474765\"/>\n     <use style=\"fill:#1f77b4;stroke:#1f77b4;\" x=\"125.888323\" xlink:href=\"#m527e3bfe6b\" y=\"187.196663\"/>\n     <use style=\"fill:#1f77b4;stroke:#1f77b4;\" x=\"64.371833\" xlink:href=\"#m527e3bfe6b\" y=\"213.206739\"/>\n     <use style=\"fill:#1f77b4;stroke:#1f77b4;\" x=\"100.352995\" xlink:href=\"#m527e3bfe6b\" y=\"198.657896\"/>\n     <use style=\"fill:#1f77b4;stroke:#1f77b4;\" x=\"115.105799\" xlink:href=\"#m527e3bfe6b\" y=\"192.14306\"/>\n     <use style=\"fill:#1f77b4;stroke:#1f77b4;\" x=\"129.655737\" xlink:href=\"#m527e3bfe6b\" y=\"185.327748\"/>\n     <use style=\"fill:#1f77b4;stroke:#1f77b4;\" x=\"90.731089\" xlink:href=\"#m527e3bfe6b\" y=\"202.951124\"/>\n     <use style=\"fill:#1f77b4;stroke:#1f77b4;\" x=\"65.138975\" xlink:href=\"#m527e3bfe6b\" y=\"214.38879\"/>\n     <use style=\"fill:#1f77b4;stroke:#1f77b4;\" x=\"109.80154\" xlink:href=\"#m527e3bfe6b\" y=\"194.637187\"/>\n     <use style=\"fill:#1f77b4;stroke:#1f77b4;\" x=\"92.160652\" xlink:href=\"#m527e3bfe6b\" y=\"204.260178\"/>\n     <use style=\"fill:#1f77b4;stroke:#1f77b4;\" x=\"63.735427\" xlink:href=\"#m527e3bfe6b\" y=\"213.216325\"/>\n     <use style=\"fill:#1f77b4;stroke:#1f77b4;\" x=\"139.966485\" xlink:href=\"#m527e3bfe6b\" y=\"180.06461\"/>\n     <use style=\"fill:#1f77b4;stroke:#1f77b4;\" x=\"148.058768\" xlink:href=\"#m527e3bfe6b\" y=\"175.857893\"/>\n     <use style=\"fill:#1f77b4;stroke:#1f77b4;\" x=\"325.690609\" xlink:href=\"#m527e3bfe6b\" y=\"93.374891\"/>\n     <use style=\"fill:#1f77b4;stroke:#1f77b4;\" x=\"106.611649\" xlink:href=\"#m527e3bfe6b\" y=\"195.769303\"/>\n     <use style=\"fill:#1f77b4;stroke:#1f77b4;\" x=\"138.266631\" xlink:href=\"#m527e3bfe6b\" y=\"180.970366\"/>\n     <use style=\"fill:#1f77b4;stroke:#1f77b4;\" x=\"76.879437\" xlink:href=\"#m527e3bfe6b\" y=\"213.035915\"/>\n     <use style=\"fill:#1f77b4;stroke:#1f77b4;\" x=\"72.427529\" xlink:href=\"#m527e3bfe6b\" y=\"211.969311\"/>\n     <use style=\"fill:#1f77b4;stroke:#1f77b4;\" x=\"140.913756\" xlink:href=\"#m527e3bfe6b\" y=\"180.514176\"/>\n     <use style=\"fill:#1f77b4;stroke:#1f77b4;\" x=\"101.750033\" xlink:href=\"#m527e3bfe6b\" y=\"198.140325\"/>\n     <use style=\"fill:#1f77b4;stroke:#1f77b4;\" x=\"126.983721\" xlink:href=\"#m527e3bfe6b\" y=\"186.161599\"/>\n     <use style=\"fill:#1f77b4;stroke:#1f77b4;\" x=\"313.485181\" xlink:href=\"#m527e3bfe6b\" y=\"99.357279\"/>\n     <use style=\"fill:#1f77b4;stroke:#1f77b4;\" x=\"298.618274\" xlink:href=\"#m527e3bfe6b\" y=\"160.832157\"/>\n     <use style=\"fill:#1f77b4;stroke:#1f77b4;\" x=\"76.198245\" xlink:href=\"#m527e3bfe6b\" y=\"211.949044\"/>\n     <use style=\"fill:#1f77b4;stroke:#1f77b4;\" x=\"308.016668\" xlink:href=\"#m527e3bfe6b\" y=\"108.393061\"/>\n     <use style=\"fill:#1f77b4;stroke:#1f77b4;\" x=\"123.263018\" xlink:href=\"#m527e3bfe6b\" y=\"188.232209\"/>\n     <use style=\"fill:#1f77b4;stroke:#1f77b4;\" x=\"342.945114\" xlink:href=\"#m527e3bfe6b\" y=\"125.776235\"/>\n     <use style=\"fill:#1f77b4;stroke:#1f77b4;\" x=\"297.068026\" xlink:href=\"#m527e3bfe6b\" y=\"164.556643\"/>\n     <use style=\"fill:#1f77b4;stroke:#1f77b4;\" x=\"97.261501\" xlink:href=\"#m527e3bfe6b\" y=\"200.515493\"/>\n     <use style=\"fill:#1f77b4;stroke:#1f77b4;\" x=\"94.990845\" xlink:href=\"#m527e3bfe6b\" y=\"201.074954\"/>\n     <use style=\"fill:#1f77b4;stroke:#1f77b4;\" x=\"139.736101\" xlink:href=\"#m527e3bfe6b\" y=\"141.883595\"/>\n     <use style=\"fill:#1f77b4;stroke:#1f77b4;\" x=\"71.257141\" xlink:href=\"#m527e3bfe6b\" y=\"213.202439\"/>\n     <use style=\"fill:#1f77b4;stroke:#1f77b4;\" x=\"130.499352\" xlink:href=\"#m527e3bfe6b\" y=\"185.363813\"/>\n     <use style=\"fill:#1f77b4;stroke:#1f77b4;\" x=\"68.971655\" xlink:href=\"#m527e3bfe6b\" y=\"165.998464\"/>\n     <use style=\"fill:#1f77b4;stroke:#1f77b4;\" x=\"323.606262\" xlink:href=\"#m527e3bfe6b\" y=\"97.524016\"/>\n     <use style=\"fill:#1f77b4;stroke:#1f77b4;\" x=\"152.795716\" xlink:href=\"#m527e3bfe6b\" y=\"172.864657\"/>\n     <use style=\"fill:#1f77b4;stroke:#1f77b4;\" x=\"144.365943\" xlink:href=\"#m527e3bfe6b\" y=\"177.279098\"/>\n     <use style=\"fill:#1f77b4;stroke:#1f77b4;\" x=\"342.184565\" xlink:href=\"#m527e3bfe6b\" y=\"127.235337\"/>\n     <use style=\"fill:#1f77b4;stroke:#1f77b4;\" x=\"89.837334\" xlink:href=\"#m527e3bfe6b\" y=\"179.19586\"/>\n     <use style=\"fill:#1f77b4;stroke:#1f77b4;\" x=\"113.132347\" xlink:href=\"#m527e3bfe6b\" y=\"192.909527\"/>\n     <use style=\"fill:#1f77b4;stroke:#1f77b4;\" x=\"70.208361\" xlink:href=\"#m527e3bfe6b\" y=\"212.900346\"/>\n     <use style=\"fill:#1f77b4;stroke:#1f77b4;\" x=\"313.852208\" xlink:href=\"#m527e3bfe6b\" y=\"149.986459\"/>\n     <use style=\"fill:#1f77b4;stroke:#1f77b4;\" x=\"91.708644\" xlink:href=\"#m527e3bfe6b\" y=\"153.897832\"/>\n     <use style=\"fill:#1f77b4;stroke:#1f77b4;\" x=\"135.198853\" xlink:href=\"#m527e3bfe6b\" y=\"183.52349\"/>\n     <use style=\"fill:#1f77b4;stroke:#1f77b4;\" x=\"111.160852\" xlink:href=\"#m527e3bfe6b\" y=\"193.95994\"/>\n     <use style=\"fill:#1f77b4;stroke:#1f77b4;\" x=\"118.422318\" xlink:href=\"#m527e3bfe6b\" y=\"190.877735\"/>\n     <use style=\"fill:#1f77b4;stroke:#1f77b4;\" x=\"69.340826\" xlink:href=\"#m527e3bfe6b\" y=\"210.987885\"/>\n     <use style=\"fill:#1f77b4;stroke:#1f77b4;\" x=\"310.360348\" xlink:href=\"#m527e3bfe6b\" y=\"152.119433\"/>\n     <use style=\"fill:#1f77b4;stroke:#1f77b4;\" x=\"88.494335\" xlink:href=\"#m527e3bfe6b\" y=\"203.450552\"/>\n     <use style=\"fill:#1f77b4;stroke:#1f77b4;\" x=\"150.319963\" xlink:href=\"#m527e3bfe6b\" y=\"174.242199\"/>\n     <use style=\"fill:#1f77b4;stroke:#1f77b4;\" x=\"66.808064\" xlink:href=\"#m527e3bfe6b\" y=\"212.840656\"/>\n     <use style=\"fill:#1f77b4;stroke:#1f77b4;\" x=\"106.651032\" xlink:href=\"#m527e3bfe6b\" y=\"196.010313\"/>\n     <use style=\"fill:#1f77b4;stroke:#1f77b4;\" x=\"90.662408\" xlink:href=\"#m527e3bfe6b\" y=\"204.460505\"/>\n     <use style=\"fill:#1f77b4;stroke:#1f77b4;\" x=\"145.773581\" xlink:href=\"#m527e3bfe6b\" y=\"129.068264\"/>\n     <use style=\"fill:#1f77b4;stroke:#1f77b4;\" x=\"350.101631\" xlink:href=\"#m527e3bfe6b\" y=\"52.367005\"/>\n     <use style=\"fill:#1f77b4;stroke:#1f77b4;\" x=\"147.035996\" xlink:href=\"#m527e3bfe6b\" y=\"176.608487\"/>\n    </g>\n   </g>\n   <g id=\"matplotlib.axis_1\">\n    <g id=\"xtick_1\">\n     <g id=\"line2d_1\">\n      <defs>\n       <path d=\"M 0 0 \nL 0 3.5 \n\" id=\"me2267004ff\" style=\"stroke:#000000;stroke-width:0.8;\"/>\n      </defs>\n      <g>\n       <use style=\"stroke:#000000;stroke-width:0.8;\" x=\"56.648871\" xlink:href=\"#me2267004ff\" y=\"224.64\"/>\n      </g>\n     </g>\n     <g id=\"text_1\">\n      <!-- 0 -->\n      <defs>\n       <path d=\"M 31.78125 66.40625 \nQ 24.171875 66.40625 20.328125 58.90625 \nQ 16.5 51.421875 16.5 36.375 \nQ 16.5 21.390625 20.328125 13.890625 \nQ 24.171875 6.390625 31.78125 6.390625 \nQ 39.453125 6.390625 43.28125 13.890625 \nQ 47.125 21.390625 47.125 36.375 \nQ 47.125 51.421875 43.28125 58.90625 \nQ 39.453125 66.40625 31.78125 66.40625 \nz\nM 31.78125 74.21875 \nQ 44.046875 74.21875 50.515625 64.515625 \nQ 56.984375 54.828125 56.984375 36.375 \nQ 56.984375 17.96875 50.515625 8.265625 \nQ 44.046875 -1.421875 31.78125 -1.421875 \nQ 19.53125 -1.421875 13.0625 8.265625 \nQ 6.59375 17.96875 6.59375 36.375 \nQ 6.59375 54.828125 13.0625 64.515625 \nQ 19.53125 74.21875 31.78125 74.21875 \nz\n\" id=\"DejaVuSans-48\"/>\n      </defs>\n      <g transform=\"translate(53.467621 239.238437)scale(0.1 -0.1)\">\n       <use xlink:href=\"#DejaVuSans-48\"/>\n      </g>\n     </g>\n    </g>\n    <g id=\"xtick_2\">\n     <g id=\"line2d_2\">\n      <g>\n       <use style=\"stroke:#000000;stroke-width:0.8;\" x=\"127.449066\" xlink:href=\"#me2267004ff\" y=\"224.64\"/>\n      </g>\n     </g>\n     <g id=\"text_2\">\n      <!-- 10000 -->\n      <defs>\n       <path d=\"M 12.40625 8.296875 \nL 28.515625 8.296875 \nL 28.515625 63.921875 \nL 10.984375 60.40625 \nL 10.984375 69.390625 \nL 28.421875 72.90625 \nL 38.28125 72.90625 \nL 38.28125 8.296875 \nL 54.390625 8.296875 \nL 54.390625 0 \nL 12.40625 0 \nz\n\" id=\"DejaVuSans-49\"/>\n      </defs>\n      <g transform=\"translate(111.542816 239.238437)scale(0.1 -0.1)\">\n       <use xlink:href=\"#DejaVuSans-49\"/>\n       <use x=\"63.623047\" xlink:href=\"#DejaVuSans-48\"/>\n       <use x=\"127.246094\" xlink:href=\"#DejaVuSans-48\"/>\n       <use x=\"190.869141\" xlink:href=\"#DejaVuSans-48\"/>\n       <use x=\"254.492188\" xlink:href=\"#DejaVuSans-48\"/>\n      </g>\n     </g>\n    </g>\n    <g id=\"xtick_3\">\n     <g id=\"line2d_3\">\n      <g>\n       <use style=\"stroke:#000000;stroke-width:0.8;\" x=\"198.249262\" xlink:href=\"#me2267004ff\" y=\"224.64\"/>\n      </g>\n     </g>\n     <g id=\"text_3\">\n      <!-- 20000 -->\n      <defs>\n       <path d=\"M 19.1875 8.296875 \nL 53.609375 8.296875 \nL 53.609375 0 \nL 7.328125 0 \nL 7.328125 8.296875 \nQ 12.9375 14.109375 22.625 23.890625 \nQ 32.328125 33.6875 34.8125 36.53125 \nQ 39.546875 41.84375 41.421875 45.53125 \nQ 43.3125 49.21875 43.3125 52.78125 \nQ 43.3125 58.59375 39.234375 62.25 \nQ 35.15625 65.921875 28.609375 65.921875 \nQ 23.96875 65.921875 18.8125 64.3125 \nQ 13.671875 62.703125 7.8125 59.421875 \nL 7.8125 69.390625 \nQ 13.765625 71.78125 18.9375 73 \nQ 24.125 74.21875 28.421875 74.21875 \nQ 39.75 74.21875 46.484375 68.546875 \nQ 53.21875 62.890625 53.21875 53.421875 \nQ 53.21875 48.921875 51.53125 44.890625 \nQ 49.859375 40.875 45.40625 35.40625 \nQ 44.1875 33.984375 37.640625 27.21875 \nQ 31.109375 20.453125 19.1875 8.296875 \nz\n\" id=\"DejaVuSans-50\"/>\n      </defs>\n      <g transform=\"translate(182.343012 239.238437)scale(0.1 -0.1)\">\n       <use xlink:href=\"#DejaVuSans-50\"/>\n       <use x=\"63.623047\" xlink:href=\"#DejaVuSans-48\"/>\n       <use x=\"127.246094\" xlink:href=\"#DejaVuSans-48\"/>\n       <use x=\"190.869141\" xlink:href=\"#DejaVuSans-48\"/>\n       <use x=\"254.492188\" xlink:href=\"#DejaVuSans-48\"/>\n      </g>\n     </g>\n    </g>\n    <g id=\"xtick_4\">\n     <g id=\"line2d_4\">\n      <g>\n       <use style=\"stroke:#000000;stroke-width:0.8;\" x=\"269.049457\" xlink:href=\"#me2267004ff\" y=\"224.64\"/>\n      </g>\n     </g>\n     <g id=\"text_4\">\n      <!-- 30000 -->\n      <defs>\n       <path d=\"M 40.578125 39.3125 \nQ 47.65625 37.796875 51.625 33 \nQ 55.609375 28.21875 55.609375 21.1875 \nQ 55.609375 10.40625 48.1875 4.484375 \nQ 40.765625 -1.421875 27.09375 -1.421875 \nQ 22.515625 -1.421875 17.65625 -0.515625 \nQ 12.796875 0.390625 7.625 2.203125 \nL 7.625 11.71875 \nQ 11.71875 9.328125 16.59375 8.109375 \nQ 21.484375 6.890625 26.8125 6.890625 \nQ 36.078125 6.890625 40.9375 10.546875 \nQ 45.796875 14.203125 45.796875 21.1875 \nQ 45.796875 27.640625 41.28125 31.265625 \nQ 36.765625 34.90625 28.71875 34.90625 \nL 20.21875 34.90625 \nL 20.21875 43.015625 \nL 29.109375 43.015625 \nQ 36.375 43.015625 40.234375 45.921875 \nQ 44.09375 48.828125 44.09375 54.296875 \nQ 44.09375 59.90625 40.109375 62.90625 \nQ 36.140625 65.921875 28.71875 65.921875 \nQ 24.65625 65.921875 20.015625 65.03125 \nQ 15.375 64.15625 9.8125 62.3125 \nL 9.8125 71.09375 \nQ 15.4375 72.65625 20.34375 73.4375 \nQ 25.25 74.21875 29.59375 74.21875 \nQ 40.828125 74.21875 47.359375 69.109375 \nQ 53.90625 64.015625 53.90625 55.328125 \nQ 53.90625 49.265625 50.4375 45.09375 \nQ 46.96875 40.921875 40.578125 39.3125 \nz\n\" id=\"DejaVuSans-51\"/>\n      </defs>\n      <g transform=\"translate(253.143207 239.238437)scale(0.1 -0.1)\">\n       <use xlink:href=\"#DejaVuSans-51\"/>\n       <use x=\"63.623047\" xlink:href=\"#DejaVuSans-48\"/>\n       <use x=\"127.246094\" xlink:href=\"#DejaVuSans-48\"/>\n       <use x=\"190.869141\" xlink:href=\"#DejaVuSans-48\"/>\n       <use x=\"254.492188\" xlink:href=\"#DejaVuSans-48\"/>\n      </g>\n     </g>\n    </g>\n    <g id=\"xtick_5\">\n     <g id=\"line2d_5\">\n      <g>\n       <use style=\"stroke:#000000;stroke-width:0.8;\" x=\"339.849652\" xlink:href=\"#me2267004ff\" y=\"224.64\"/>\n      </g>\n     </g>\n     <g id=\"text_5\">\n      <!-- 40000 -->\n      <defs>\n       <path d=\"M 37.796875 64.3125 \nL 12.890625 25.390625 \nL 37.796875 25.390625 \nz\nM 35.203125 72.90625 \nL 47.609375 72.90625 \nL 47.609375 25.390625 \nL 58.015625 25.390625 \nL 58.015625 17.1875 \nL 47.609375 17.1875 \nL 47.609375 0 \nL 37.796875 0 \nL 37.796875 17.1875 \nL 4.890625 17.1875 \nL 4.890625 26.703125 \nz\n\" id=\"DejaVuSans-52\"/>\n      </defs>\n      <g transform=\"translate(323.943402 239.238437)scale(0.1 -0.1)\">\n       <use xlink:href=\"#DejaVuSans-52\"/>\n       <use x=\"63.623047\" xlink:href=\"#DejaVuSans-48\"/>\n       <use x=\"127.246094\" xlink:href=\"#DejaVuSans-48\"/>\n       <use x=\"190.869141\" xlink:href=\"#DejaVuSans-48\"/>\n       <use x=\"254.492188\" xlink:href=\"#DejaVuSans-48\"/>\n      </g>\n     </g>\n    </g>\n   </g>\n   <g id=\"matplotlib.axis_2\">\n    <g id=\"ytick_1\">\n     <g id=\"line2d_6\">\n      <defs>\n       <path d=\"M 0 0 \nL -3.5 0 \n\" id=\"m5101885734\" style=\"stroke:#000000;stroke-width:0.8;\"/>\n      </defs>\n      <g>\n       <use style=\"stroke:#000000;stroke-width:0.8;\" x=\"46.0125\" xlink:href=\"#m5101885734\" y=\"218.346275\"/>\n      </g>\n     </g>\n     <g id=\"text_6\">\n      <!-- 0 -->\n      <g transform=\"translate(32.65 222.145493)scale(0.1 -0.1)\">\n       <use xlink:href=\"#DejaVuSans-48\"/>\n      </g>\n     </g>\n    </g>\n    <g id=\"ytick_2\">\n     <g id=\"line2d_7\">\n      <g>\n       <use style=\"stroke:#000000;stroke-width:0.8;\" x=\"46.0125\" xlink:href=\"#m5101885734\" y=\"186.785778\"/>\n      </g>\n     </g>\n     <g id=\"text_7\">\n      <!-- 10000 -->\n      <g transform=\"translate(7.2 190.584997)scale(0.1 -0.1)\">\n       <use xlink:href=\"#DejaVuSans-49\"/>\n       <use x=\"63.623047\" xlink:href=\"#DejaVuSans-48\"/>\n       <use x=\"127.246094\" xlink:href=\"#DejaVuSans-48\"/>\n       <use x=\"190.869141\" xlink:href=\"#DejaVuSans-48\"/>\n       <use x=\"254.492188\" xlink:href=\"#DejaVuSans-48\"/>\n      </g>\n     </g>\n    </g>\n    <g id=\"ytick_3\">\n     <g id=\"line2d_8\">\n      <g>\n       <use style=\"stroke:#000000;stroke-width:0.8;\" x=\"46.0125\" xlink:href=\"#m5101885734\" y=\"155.225281\"/>\n      </g>\n     </g>\n     <g id=\"text_8\">\n      <!-- 20000 -->\n      <g transform=\"translate(7.2 159.0245)scale(0.1 -0.1)\">\n       <use xlink:href=\"#DejaVuSans-50\"/>\n       <use x=\"63.623047\" xlink:href=\"#DejaVuSans-48\"/>\n       <use x=\"127.246094\" xlink:href=\"#DejaVuSans-48\"/>\n       <use x=\"190.869141\" xlink:href=\"#DejaVuSans-48\"/>\n       <use x=\"254.492188\" xlink:href=\"#DejaVuSans-48\"/>\n      </g>\n     </g>\n    </g>\n    <g id=\"ytick_4\">\n     <g id=\"line2d_9\">\n      <g>\n       <use style=\"stroke:#000000;stroke-width:0.8;\" x=\"46.0125\" xlink:href=\"#m5101885734\" y=\"123.664784\"/>\n      </g>\n     </g>\n     <g id=\"text_9\">\n      <!-- 30000 -->\n      <g transform=\"translate(7.2 127.464003)scale(0.1 -0.1)\">\n       <use xlink:href=\"#DejaVuSans-51\"/>\n       <use x=\"63.623047\" xlink:href=\"#DejaVuSans-48\"/>\n       <use x=\"127.246094\" xlink:href=\"#DejaVuSans-48\"/>\n       <use x=\"190.869141\" xlink:href=\"#DejaVuSans-48\"/>\n       <use x=\"254.492188\" xlink:href=\"#DejaVuSans-48\"/>\n      </g>\n     </g>\n    </g>\n    <g id=\"ytick_5\">\n     <g id=\"line2d_10\">\n      <g>\n       <use style=\"stroke:#000000;stroke-width:0.8;\" x=\"46.0125\" xlink:href=\"#m5101885734\" y=\"92.104288\"/>\n      </g>\n     </g>\n     <g id=\"text_10\">\n      <!-- 40000 -->\n      <g transform=\"translate(7.2 95.903507)scale(0.1 -0.1)\">\n       <use xlink:href=\"#DejaVuSans-52\"/>\n       <use x=\"63.623047\" xlink:href=\"#DejaVuSans-48\"/>\n       <use x=\"127.246094\" xlink:href=\"#DejaVuSans-48\"/>\n       <use x=\"190.869141\" xlink:href=\"#DejaVuSans-48\"/>\n       <use x=\"254.492188\" xlink:href=\"#DejaVuSans-48\"/>\n      </g>\n     </g>\n    </g>\n    <g id=\"ytick_6\">\n     <g id=\"line2d_11\">\n      <g>\n       <use style=\"stroke:#000000;stroke-width:0.8;\" x=\"46.0125\" xlink:href=\"#m5101885734\" y=\"60.543791\"/>\n      </g>\n     </g>\n     <g id=\"text_11\">\n      <!-- 50000 -->\n      <defs>\n       <path d=\"M 10.796875 72.90625 \nL 49.515625 72.90625 \nL 49.515625 64.59375 \nL 19.828125 64.59375 \nL 19.828125 46.734375 \nQ 21.96875 47.46875 24.109375 47.828125 \nQ 26.265625 48.1875 28.421875 48.1875 \nQ 40.625 48.1875 47.75 41.5 \nQ 54.890625 34.8125 54.890625 23.390625 \nQ 54.890625 11.625 47.5625 5.09375 \nQ 40.234375 -1.421875 26.90625 -1.421875 \nQ 22.3125 -1.421875 17.546875 -0.640625 \nQ 12.796875 0.140625 7.71875 1.703125 \nL 7.71875 11.625 \nQ 12.109375 9.234375 16.796875 8.0625 \nQ 21.484375 6.890625 26.703125 6.890625 \nQ 35.15625 6.890625 40.078125 11.328125 \nQ 45.015625 15.765625 45.015625 23.390625 \nQ 45.015625 31 40.078125 35.4375 \nQ 35.15625 39.890625 26.703125 39.890625 \nQ 22.75 39.890625 18.8125 39.015625 \nQ 14.890625 38.140625 10.796875 36.28125 \nz\n\" id=\"DejaVuSans-53\"/>\n      </defs>\n      <g transform=\"translate(7.2 64.34301)scale(0.1 -0.1)\">\n       <use xlink:href=\"#DejaVuSans-53\"/>\n       <use x=\"63.623047\" xlink:href=\"#DejaVuSans-48\"/>\n       <use x=\"127.246094\" xlink:href=\"#DejaVuSans-48\"/>\n       <use x=\"190.869141\" xlink:href=\"#DejaVuSans-48\"/>\n       <use x=\"254.492188\" xlink:href=\"#DejaVuSans-48\"/>\n      </g>\n     </g>\n    </g>\n    <g id=\"ytick_7\">\n     <g id=\"line2d_12\">\n      <g>\n       <use style=\"stroke:#000000;stroke-width:0.8;\" x=\"46.0125\" xlink:href=\"#m5101885734\" y=\"28.983294\"/>\n      </g>\n     </g>\n     <g id=\"text_12\">\n      <!-- 60000 -->\n      <defs>\n       <path d=\"M 33.015625 40.375 \nQ 26.375 40.375 22.484375 35.828125 \nQ 18.609375 31.296875 18.609375 23.390625 \nQ 18.609375 15.53125 22.484375 10.953125 \nQ 26.375 6.390625 33.015625 6.390625 \nQ 39.65625 6.390625 43.53125 10.953125 \nQ 47.40625 15.53125 47.40625 23.390625 \nQ 47.40625 31.296875 43.53125 35.828125 \nQ 39.65625 40.375 33.015625 40.375 \nz\nM 52.59375 71.296875 \nL 52.59375 62.3125 \nQ 48.875 64.0625 45.09375 64.984375 \nQ 41.3125 65.921875 37.59375 65.921875 \nQ 27.828125 65.921875 22.671875 59.328125 \nQ 17.53125 52.734375 16.796875 39.40625 \nQ 19.671875 43.65625 24.015625 45.921875 \nQ 28.375 48.1875 33.59375 48.1875 \nQ 44.578125 48.1875 50.953125 41.515625 \nQ 57.328125 34.859375 57.328125 23.390625 \nQ 57.328125 12.15625 50.6875 5.359375 \nQ 44.046875 -1.421875 33.015625 -1.421875 \nQ 20.359375 -1.421875 13.671875 8.265625 \nQ 6.984375 17.96875 6.984375 36.375 \nQ 6.984375 53.65625 15.1875 63.9375 \nQ 23.390625 74.21875 37.203125 74.21875 \nQ 40.921875 74.21875 44.703125 73.484375 \nQ 48.484375 72.75 52.59375 71.296875 \nz\n\" id=\"DejaVuSans-54\"/>\n      </defs>\n      <g transform=\"translate(7.2 32.782513)scale(0.1 -0.1)\">\n       <use xlink:href=\"#DejaVuSans-54\"/>\n       <use x=\"63.623047\" xlink:href=\"#DejaVuSans-48\"/>\n       <use x=\"127.246094\" xlink:href=\"#DejaVuSans-48\"/>\n       <use x=\"190.869141\" xlink:href=\"#DejaVuSans-48\"/>\n       <use x=\"254.492188\" xlink:href=\"#DejaVuSans-48\"/>\n      </g>\n     </g>\n    </g>\n   </g>\n   <g id=\"patch_3\">\n    <path d=\"M 46.0125 224.64 \nL 46.0125 7.2 \n\" style=\"fill:none;stroke:#000000;stroke-linecap:square;stroke-linejoin:miter;stroke-width:0.8;\"/>\n   </g>\n   <g id=\"patch_4\">\n    <path d=\"M 380.8125 224.64 \nL 380.8125 7.2 \n\" style=\"fill:none;stroke:#000000;stroke-linecap:square;stroke-linejoin:miter;stroke-width:0.8;\"/>\n   </g>\n   <g id=\"patch_5\">\n    <path d=\"M 46.0125 224.64 \nL 380.8125 224.64 \n\" style=\"fill:none;stroke:#000000;stroke-linecap:square;stroke-linejoin:miter;stroke-width:0.8;\"/>\n   </g>\n   <g id=\"patch_6\">\n    <path d=\"M 46.0125 7.2 \nL 380.8125 7.2 \n\" style=\"fill:none;stroke:#000000;stroke-linecap:square;stroke-linejoin:miter;stroke-width:0.8;\"/>\n   </g>\n  </g>\n </g>\n <defs>\n  <clipPath id=\"p8f9eebb916\">\n   <rect height=\"217.44\" width=\"334.8\" x=\"46.0125\" y=\"7.2\"/>\n  </clipPath>\n </defs>\n</svg>\n"
          },
          "metadata": {
            "needs_background": "light"
          }
        }
      ]
    },
    {
      "cell_type": "code",
      "source": [
        ""
      ],
      "metadata": {
        "id": "4ZZVt7_KJfiW"
      },
      "execution_count": null,
      "outputs": []
    },
    {
      "cell_type": "markdown",
      "source": [
        "## normalization and standardization"
      ],
      "metadata": {
        "id": "XSOx2fbmUsM_"
      }
    },
    {
      "cell_type": "code",
      "source": [
        "data = pd.read_csv('https://raw.githubusercontent.com/stedy/Machine-Learning-with-R-datasets/master/insurance.csv')\n",
        "data"
      ],
      "metadata": {
        "colab": {
          "base_uri": "https://localhost:8080/",
          "height": 423
        },
        "id": "NYGLMa4DUrIX",
        "outputId": "9ba6251b-e3b6-4276-c6a1-e11e53a40c88"
      },
      "execution_count": 2,
      "outputs": [
        {
          "output_type": "execute_result",
          "data": {
            "text/html": [
              "\n",
              "  <div id=\"df-df475da3-d7ee-4afb-a6bf-a593f37006c2\">\n",
              "    <div class=\"colab-df-container\">\n",
              "      <div>\n",
              "<style scoped>\n",
              "    .dataframe tbody tr th:only-of-type {\n",
              "        vertical-align: middle;\n",
              "    }\n",
              "\n",
              "    .dataframe tbody tr th {\n",
              "        vertical-align: top;\n",
              "    }\n",
              "\n",
              "    .dataframe thead th {\n",
              "        text-align: right;\n",
              "    }\n",
              "</style>\n",
              "<table border=\"1\" class=\"dataframe\">\n",
              "  <thead>\n",
              "    <tr style=\"text-align: right;\">\n",
              "      <th></th>\n",
              "      <th>age</th>\n",
              "      <th>sex</th>\n",
              "      <th>bmi</th>\n",
              "      <th>children</th>\n",
              "      <th>smoker</th>\n",
              "      <th>region</th>\n",
              "      <th>charges</th>\n",
              "    </tr>\n",
              "  </thead>\n",
              "  <tbody>\n",
              "    <tr>\n",
              "      <th>0</th>\n",
              "      <td>19</td>\n",
              "      <td>female</td>\n",
              "      <td>27.900</td>\n",
              "      <td>0</td>\n",
              "      <td>yes</td>\n",
              "      <td>southwest</td>\n",
              "      <td>16884.92400</td>\n",
              "    </tr>\n",
              "    <tr>\n",
              "      <th>1</th>\n",
              "      <td>18</td>\n",
              "      <td>male</td>\n",
              "      <td>33.770</td>\n",
              "      <td>1</td>\n",
              "      <td>no</td>\n",
              "      <td>southeast</td>\n",
              "      <td>1725.55230</td>\n",
              "    </tr>\n",
              "    <tr>\n",
              "      <th>2</th>\n",
              "      <td>28</td>\n",
              "      <td>male</td>\n",
              "      <td>33.000</td>\n",
              "      <td>3</td>\n",
              "      <td>no</td>\n",
              "      <td>southeast</td>\n",
              "      <td>4449.46200</td>\n",
              "    </tr>\n",
              "    <tr>\n",
              "      <th>3</th>\n",
              "      <td>33</td>\n",
              "      <td>male</td>\n",
              "      <td>22.705</td>\n",
              "      <td>0</td>\n",
              "      <td>no</td>\n",
              "      <td>northwest</td>\n",
              "      <td>21984.47061</td>\n",
              "    </tr>\n",
              "    <tr>\n",
              "      <th>4</th>\n",
              "      <td>32</td>\n",
              "      <td>male</td>\n",
              "      <td>28.880</td>\n",
              "      <td>0</td>\n",
              "      <td>no</td>\n",
              "      <td>northwest</td>\n",
              "      <td>3866.85520</td>\n",
              "    </tr>\n",
              "    <tr>\n",
              "      <th>...</th>\n",
              "      <td>...</td>\n",
              "      <td>...</td>\n",
              "      <td>...</td>\n",
              "      <td>...</td>\n",
              "      <td>...</td>\n",
              "      <td>...</td>\n",
              "      <td>...</td>\n",
              "    </tr>\n",
              "    <tr>\n",
              "      <th>1333</th>\n",
              "      <td>50</td>\n",
              "      <td>male</td>\n",
              "      <td>30.970</td>\n",
              "      <td>3</td>\n",
              "      <td>no</td>\n",
              "      <td>northwest</td>\n",
              "      <td>10600.54830</td>\n",
              "    </tr>\n",
              "    <tr>\n",
              "      <th>1334</th>\n",
              "      <td>18</td>\n",
              "      <td>female</td>\n",
              "      <td>31.920</td>\n",
              "      <td>0</td>\n",
              "      <td>no</td>\n",
              "      <td>northeast</td>\n",
              "      <td>2205.98080</td>\n",
              "    </tr>\n",
              "    <tr>\n",
              "      <th>1335</th>\n",
              "      <td>18</td>\n",
              "      <td>female</td>\n",
              "      <td>36.850</td>\n",
              "      <td>0</td>\n",
              "      <td>no</td>\n",
              "      <td>southeast</td>\n",
              "      <td>1629.83350</td>\n",
              "    </tr>\n",
              "    <tr>\n",
              "      <th>1336</th>\n",
              "      <td>21</td>\n",
              "      <td>female</td>\n",
              "      <td>25.800</td>\n",
              "      <td>0</td>\n",
              "      <td>no</td>\n",
              "      <td>southwest</td>\n",
              "      <td>2007.94500</td>\n",
              "    </tr>\n",
              "    <tr>\n",
              "      <th>1337</th>\n",
              "      <td>61</td>\n",
              "      <td>female</td>\n",
              "      <td>29.070</td>\n",
              "      <td>0</td>\n",
              "      <td>yes</td>\n",
              "      <td>northwest</td>\n",
              "      <td>29141.36030</td>\n",
              "    </tr>\n",
              "  </tbody>\n",
              "</table>\n",
              "<p>1338 rows × 7 columns</p>\n",
              "</div>\n",
              "      <button class=\"colab-df-convert\" onclick=\"convertToInteractive('df-df475da3-d7ee-4afb-a6bf-a593f37006c2')\"\n",
              "              title=\"Convert this dataframe to an interactive table.\"\n",
              "              style=\"display:none;\">\n",
              "        \n",
              "  <svg xmlns=\"http://www.w3.org/2000/svg\" height=\"24px\"viewBox=\"0 0 24 24\"\n",
              "       width=\"24px\">\n",
              "    <path d=\"M0 0h24v24H0V0z\" fill=\"none\"/>\n",
              "    <path d=\"M18.56 5.44l.94 2.06.94-2.06 2.06-.94-2.06-.94-.94-2.06-.94 2.06-2.06.94zm-11 1L8.5 8.5l.94-2.06 2.06-.94-2.06-.94L8.5 2.5l-.94 2.06-2.06.94zm10 10l.94 2.06.94-2.06 2.06-.94-2.06-.94-.94-2.06-.94 2.06-2.06.94z\"/><path d=\"M17.41 7.96l-1.37-1.37c-.4-.4-.92-.59-1.43-.59-.52 0-1.04.2-1.43.59L10.3 9.45l-7.72 7.72c-.78.78-.78 2.05 0 2.83L4 21.41c.39.39.9.59 1.41.59.51 0 1.02-.2 1.41-.59l7.78-7.78 2.81-2.81c.8-.78.8-2.07 0-2.86zM5.41 20L4 18.59l7.72-7.72 1.47 1.35L5.41 20z\"/>\n",
              "  </svg>\n",
              "      </button>\n",
              "      \n",
              "  <style>\n",
              "    .colab-df-container {\n",
              "      display:flex;\n",
              "      flex-wrap:wrap;\n",
              "      gap: 12px;\n",
              "    }\n",
              "\n",
              "    .colab-df-convert {\n",
              "      background-color: #E8F0FE;\n",
              "      border: none;\n",
              "      border-radius: 50%;\n",
              "      cursor: pointer;\n",
              "      display: none;\n",
              "      fill: #1967D2;\n",
              "      height: 32px;\n",
              "      padding: 0 0 0 0;\n",
              "      width: 32px;\n",
              "    }\n",
              "\n",
              "    .colab-df-convert:hover {\n",
              "      background-color: #E2EBFA;\n",
              "      box-shadow: 0px 1px 2px rgba(60, 64, 67, 0.3), 0px 1px 3px 1px rgba(60, 64, 67, 0.15);\n",
              "      fill: #174EA6;\n",
              "    }\n",
              "\n",
              "    [theme=dark] .colab-df-convert {\n",
              "      background-color: #3B4455;\n",
              "      fill: #D2E3FC;\n",
              "    }\n",
              "\n",
              "    [theme=dark] .colab-df-convert:hover {\n",
              "      background-color: #434B5C;\n",
              "      box-shadow: 0px 1px 3px 1px rgba(0, 0, 0, 0.15);\n",
              "      filter: drop-shadow(0px 1px 2px rgba(0, 0, 0, 0.3));\n",
              "      fill: #FFFFFF;\n",
              "    }\n",
              "  </style>\n",
              "\n",
              "      <script>\n",
              "        const buttonEl =\n",
              "          document.querySelector('#df-df475da3-d7ee-4afb-a6bf-a593f37006c2 button.colab-df-convert');\n",
              "        buttonEl.style.display =\n",
              "          google.colab.kernel.accessAllowed ? 'block' : 'none';\n",
              "\n",
              "        async function convertToInteractive(key) {\n",
              "          const element = document.querySelector('#df-df475da3-d7ee-4afb-a6bf-a593f37006c2');\n",
              "          const dataTable =\n",
              "            await google.colab.kernel.invokeFunction('convertToInteractive',\n",
              "                                                     [key], {});\n",
              "          if (!dataTable) return;\n",
              "\n",
              "          const docLinkHtml = 'Like what you see? Visit the ' +\n",
              "            '<a target=\"_blank\" href=https://colab.research.google.com/notebooks/data_table.ipynb>data table notebook</a>'\n",
              "            + ' to learn more about interactive tables.';\n",
              "          element.innerHTML = '';\n",
              "          dataTable['output_type'] = 'display_data';\n",
              "          await google.colab.output.renderOutput(dataTable, element);\n",
              "          const docLink = document.createElement('div');\n",
              "          docLink.innerHTML = docLinkHtml;\n",
              "          element.appendChild(docLink);\n",
              "        }\n",
              "      </script>\n",
              "    </div>\n",
              "  </div>\n",
              "  "
            ],
            "text/plain": [
              "      age     sex     bmi  children smoker     region      charges\n",
              "0      19  female  27.900         0    yes  southwest  16884.92400\n",
              "1      18    male  33.770         1     no  southeast   1725.55230\n",
              "2      28    male  33.000         3     no  southeast   4449.46200\n",
              "3      33    male  22.705         0     no  northwest  21984.47061\n",
              "4      32    male  28.880         0     no  northwest   3866.85520\n",
              "...   ...     ...     ...       ...    ...        ...          ...\n",
              "1333   50    male  30.970         3     no  northwest  10600.54830\n",
              "1334   18  female  31.920         0     no  northeast   2205.98080\n",
              "1335   18  female  36.850         0     no  southeast   1629.83350\n",
              "1336   21  female  25.800         0     no  southwest   2007.94500\n",
              "1337   61  female  29.070         0    yes  northwest  29141.36030\n",
              "\n",
              "[1338 rows x 7 columns]"
            ]
          },
          "metadata": {},
          "execution_count": 2
        }
      ]
    },
    {
      "cell_type": "code",
      "source": [
        "data['age'].plot(kind='hist',bins=20)"
      ],
      "metadata": {
        "colab": {
          "base_uri": "https://localhost:8080/",
          "height": 369
        },
        "id": "JY5-Y0TSUrF2",
        "outputId": "128a5470-c874-4356-e815-6800cc4ffc47"
      },
      "execution_count": 3,
      "outputs": [
        {
          "output_type": "execute_result",
          "data": {
            "text/plain": [
              "<matplotlib.axes._subplots.AxesSubplot at 0x7fe298c33ad0>"
            ]
          },
          "metadata": {},
          "execution_count": 3
        },
        {
          "output_type": "display_data",
          "data": {
            "text/plain": [
              "<Figure size 432x288 with 1 Axes>"
            ],
            "image/svg+xml": "<?xml version=\"1.0\" encoding=\"utf-8\" standalone=\"no\"?>\n<!DOCTYPE svg PUBLIC \"-//W3C//DTD SVG 1.1//EN\"\n  \"http://www.w3.org/Graphics/SVG/1.1/DTD/svg11.dtd\">\n<!-- Created with matplotlib (https://matplotlib.org/) -->\n<svg height=\"248.518125pt\" version=\"1.1\" viewBox=\"0 0 388.965625 248.518125\" width=\"388.965625pt\" xmlns=\"http://www.w3.org/2000/svg\" xmlns:xlink=\"http://www.w3.org/1999/xlink\">\n <defs>\n  <style type=\"text/css\">\n*{stroke-linecap:butt;stroke-linejoin:round;}\n  </style>\n </defs>\n <g id=\"figure_1\">\n  <g id=\"patch_1\">\n   <path d=\"M 0 248.518125 \nL 388.965625 248.518125 \nL 388.965625 0 \nL 0 0 \nz\n\" style=\"fill:none;\"/>\n  </g>\n  <g id=\"axes_1\">\n   <g id=\"patch_2\">\n    <path d=\"M 46.965625 224.64 \nL 381.765625 224.64 \nL 381.765625 7.2 \nL 46.965625 7.2 \nz\n\" style=\"fill:#ffffff;\"/>\n   </g>\n   <g id=\"patch_3\">\n    <path clip-path=\"url(#pe7fd2a29fe)\" d=\"M 62.183807 224.64 \nL 77.401989 224.64 \nL 77.401989 17.554286 \nL 62.183807 17.554286 \nz\n\" style=\"fill:#1f77b4;\"/>\n   </g>\n   <g id=\"patch_4\">\n    <path clip-path=\"url(#pe7fd2a29fe)\" d=\"M 77.401989 224.64 \nL 92.62017 224.64 \nL 92.62017 154.779759 \nL 77.401989 154.779759 \nz\n\" style=\"fill:#1f77b4;\"/>\n   </g>\n   <g id=\"patch_5\">\n    <path clip-path=\"url(#pe7fd2a29fe)\" d=\"M 92.62017 224.64 \nL 107.838352 224.64 \nL 107.838352 154.779759 \nL 92.62017 154.779759 \nz\n\" style=\"fill:#1f77b4;\"/>\n   </g>\n   <g id=\"patch_6\">\n    <path clip-path=\"url(#pe7fd2a29fe)\" d=\"M 107.838352 224.64 \nL 123.056534 224.64 \nL 123.056534 119.849639 \nL 107.838352 119.849639 \nz\n\" style=\"fill:#1f77b4;\"/>\n   </g>\n   <g id=\"patch_7\">\n    <path clip-path=\"url(#pe7fd2a29fe)\" d=\"M 123.056534 224.64 \nL 138.274716 224.64 \nL 138.274716 156.027263 \nL 123.056534 156.027263 \nz\n\" style=\"fill:#1f77b4;\"/>\n   </g>\n   <g id=\"patch_8\">\n    <path clip-path=\"url(#pe7fd2a29fe)\" d=\"M 138.274716 224.64 \nL 153.492898 224.64 \nL 153.492898 157.274768 \nL 138.274716 157.274768 \nz\n\" style=\"fill:#1f77b4;\"/>\n   </g>\n   <g id=\"patch_9\">\n    <path clip-path=\"url(#pe7fd2a29fe)\" d=\"M 153.492898 224.64 \nL 168.71108 224.64 \nL 168.71108 127.334664 \nL 153.492898 127.334664 \nz\n\" style=\"fill:#1f77b4;\"/>\n   </g>\n   <g id=\"patch_10\">\n    <path clip-path=\"url(#pe7fd2a29fe)\" d=\"M 168.71108 224.64 \nL 183.929261 224.64 \nL 183.929261 162.264785 \nL 168.71108 162.264785 \nz\n\" style=\"fill:#1f77b4;\"/>\n   </g>\n   <g id=\"patch_11\">\n    <path clip-path=\"url(#pe7fd2a29fe)\" d=\"M 183.929261 224.64 \nL 199.147443 224.64 \nL 199.147443 162.264785 \nL 183.929261 162.264785 \nz\n\" style=\"fill:#1f77b4;\"/>\n   </g>\n   <g id=\"patch_12\">\n    <path clip-path=\"url(#pe7fd2a29fe)\" d=\"M 199.147443 224.64 \nL 214.365625 224.64 \nL 214.365625 159.769776 \nL 199.147443 159.769776 \nz\n\" style=\"fill:#1f77b4;\"/>\n   </g>\n   <g id=\"patch_13\">\n    <path clip-path=\"url(#pe7fd2a29fe)\" d=\"M 214.365625 224.64 \nL 229.583807 224.64 \nL 229.583807 123.592151 \nL 214.365625 123.592151 \nz\n\" style=\"fill:#1f77b4;\"/>\n   </g>\n   <g id=\"patch_14\">\n    <path clip-path=\"url(#pe7fd2a29fe)\" d=\"M 229.583807 224.64 \nL 244.801989 224.64 \nL 244.801989 154.779759 \nL 229.583807 154.779759 \nz\n\" style=\"fill:#1f77b4;\"/>\n   </g>\n   <g id=\"patch_15\">\n    <path clip-path=\"url(#pe7fd2a29fe)\" d=\"M 244.801989 224.64 \nL 260.02017 224.64 \nL 260.02017 152.28475 \nL 244.801989 152.28475 \nz\n\" style=\"fill:#1f77b4;\"/>\n   </g>\n   <g id=\"patch_16\">\n    <path clip-path=\"url(#pe7fd2a29fe)\" d=\"M 260.02017 224.64 \nL 275.238352 224.64 \nL 275.238352 117.35463 \nL 260.02017 117.35463 \nz\n\" style=\"fill:#1f77b4;\"/>\n   </g>\n   <g id=\"patch_17\">\n    <path clip-path=\"url(#pe7fd2a29fe)\" d=\"M 275.238352 224.64 \nL 290.456534 224.64 \nL 290.456534 152.28475 \nL 275.238352 152.28475 \nz\n\" style=\"fill:#1f77b4;\"/>\n   </g>\n   <g id=\"patch_18\">\n    <path clip-path=\"url(#pe7fd2a29fe)\" d=\"M 290.456534 224.64 \nL 305.674716 224.64 \nL 305.674716 154.779759 \nL 290.456534 154.779759 \nz\n\" style=\"fill:#1f77b4;\"/>\n   </g>\n   <g id=\"patch_19\">\n    <path clip-path=\"url(#pe7fd2a29fe)\" d=\"M 305.674716 224.64 \nL 320.892898 224.64 \nL 320.892898 127.334664 \nL 305.674716 127.334664 \nz\n\" style=\"fill:#1f77b4;\"/>\n   </g>\n   <g id=\"patch_20\">\n    <path clip-path=\"url(#pe7fd2a29fe)\" d=\"M 320.892898 224.64 \nL 336.11108 224.64 \nL 336.11108 162.264785 \nL 320.892898 162.264785 \nz\n\" style=\"fill:#1f77b4;\"/>\n   </g>\n   <g id=\"patch_21\">\n    <path clip-path=\"url(#pe7fd2a29fe)\" d=\"M 336.11108 224.64 \nL 351.329261 224.64 \nL 351.329261 167.254802 \nL 336.11108 167.254802 \nz\n\" style=\"fill:#1f77b4;\"/>\n   </g>\n   <g id=\"patch_22\">\n    <path clip-path=\"url(#pe7fd2a29fe)\" d=\"M 351.329261 224.64 \nL 366.547443 224.64 \nL 366.547443 139.809707 \nL 351.329261 139.809707 \nz\n\" style=\"fill:#1f77b4;\"/>\n   </g>\n   <g id=\"matplotlib.axis_1\">\n    <g id=\"xtick_1\">\n     <g id=\"line2d_1\">\n      <defs>\n       <path d=\"M 0 0 \nL 0 3.5 \n\" id=\"m17ba22aa51\" style=\"stroke:#000000;stroke-width:0.8;\"/>\n      </defs>\n      <g>\n       <use style=\"stroke:#000000;stroke-width:0.8;\" x=\"75.417008\" xlink:href=\"#m17ba22aa51\" y=\"224.64\"/>\n      </g>\n     </g>\n     <g id=\"text_1\">\n      <!-- 20 -->\n      <defs>\n       <path d=\"M 19.1875 8.296875 \nL 53.609375 8.296875 \nL 53.609375 0 \nL 7.328125 0 \nL 7.328125 8.296875 \nQ 12.9375 14.109375 22.625 23.890625 \nQ 32.328125 33.6875 34.8125 36.53125 \nQ 39.546875 41.84375 41.421875 45.53125 \nQ 43.3125 49.21875 43.3125 52.78125 \nQ 43.3125 58.59375 39.234375 62.25 \nQ 35.15625 65.921875 28.609375 65.921875 \nQ 23.96875 65.921875 18.8125 64.3125 \nQ 13.671875 62.703125 7.8125 59.421875 \nL 7.8125 69.390625 \nQ 13.765625 71.78125 18.9375 73 \nQ 24.125 74.21875 28.421875 74.21875 \nQ 39.75 74.21875 46.484375 68.546875 \nQ 53.21875 62.890625 53.21875 53.421875 \nQ 53.21875 48.921875 51.53125 44.890625 \nQ 49.859375 40.875 45.40625 35.40625 \nQ 44.1875 33.984375 37.640625 27.21875 \nQ 31.109375 20.453125 19.1875 8.296875 \nz\n\" id=\"DejaVuSans-50\"/>\n       <path d=\"M 31.78125 66.40625 \nQ 24.171875 66.40625 20.328125 58.90625 \nQ 16.5 51.421875 16.5 36.375 \nQ 16.5 21.390625 20.328125 13.890625 \nQ 24.171875 6.390625 31.78125 6.390625 \nQ 39.453125 6.390625 43.28125 13.890625 \nQ 47.125 21.390625 47.125 36.375 \nQ 47.125 51.421875 43.28125 58.90625 \nQ 39.453125 66.40625 31.78125 66.40625 \nz\nM 31.78125 74.21875 \nQ 44.046875 74.21875 50.515625 64.515625 \nQ 56.984375 54.828125 56.984375 36.375 \nQ 56.984375 17.96875 50.515625 8.265625 \nQ 44.046875 -1.421875 31.78125 -1.421875 \nQ 19.53125 -1.421875 13.0625 8.265625 \nQ 6.59375 17.96875 6.59375 36.375 \nQ 6.59375 54.828125 13.0625 64.515625 \nQ 19.53125 74.21875 31.78125 74.21875 \nz\n\" id=\"DejaVuSans-48\"/>\n      </defs>\n      <g transform=\"translate(69.054508 239.238437)scale(0.1 -0.1)\">\n       <use xlink:href=\"#DejaVuSans-50\"/>\n       <use x=\"63.623047\" xlink:href=\"#DejaVuSans-48\"/>\n      </g>\n     </g>\n    </g>\n    <g id=\"xtick_2\">\n     <g id=\"line2d_2\">\n      <g>\n       <use style=\"stroke:#000000;stroke-width:0.8;\" x=\"141.583016\" xlink:href=\"#m17ba22aa51\" y=\"224.64\"/>\n      </g>\n     </g>\n     <g id=\"text_2\">\n      <!-- 30 -->\n      <defs>\n       <path d=\"M 40.578125 39.3125 \nQ 47.65625 37.796875 51.625 33 \nQ 55.609375 28.21875 55.609375 21.1875 \nQ 55.609375 10.40625 48.1875 4.484375 \nQ 40.765625 -1.421875 27.09375 -1.421875 \nQ 22.515625 -1.421875 17.65625 -0.515625 \nQ 12.796875 0.390625 7.625 2.203125 \nL 7.625 11.71875 \nQ 11.71875 9.328125 16.59375 8.109375 \nQ 21.484375 6.890625 26.8125 6.890625 \nQ 36.078125 6.890625 40.9375 10.546875 \nQ 45.796875 14.203125 45.796875 21.1875 \nQ 45.796875 27.640625 41.28125 31.265625 \nQ 36.765625 34.90625 28.71875 34.90625 \nL 20.21875 34.90625 \nL 20.21875 43.015625 \nL 29.109375 43.015625 \nQ 36.375 43.015625 40.234375 45.921875 \nQ 44.09375 48.828125 44.09375 54.296875 \nQ 44.09375 59.90625 40.109375 62.90625 \nQ 36.140625 65.921875 28.71875 65.921875 \nQ 24.65625 65.921875 20.015625 65.03125 \nQ 15.375 64.15625 9.8125 62.3125 \nL 9.8125 71.09375 \nQ 15.4375 72.65625 20.34375 73.4375 \nQ 25.25 74.21875 29.59375 74.21875 \nQ 40.828125 74.21875 47.359375 69.109375 \nQ 53.90625 64.015625 53.90625 55.328125 \nQ 53.90625 49.265625 50.4375 45.09375 \nQ 46.96875 40.921875 40.578125 39.3125 \nz\n\" id=\"DejaVuSans-51\"/>\n      </defs>\n      <g transform=\"translate(135.220516 239.238437)scale(0.1 -0.1)\">\n       <use xlink:href=\"#DejaVuSans-51\"/>\n       <use x=\"63.623047\" xlink:href=\"#DejaVuSans-48\"/>\n      </g>\n     </g>\n    </g>\n    <g id=\"xtick_3\">\n     <g id=\"line2d_3\">\n      <g>\n       <use style=\"stroke:#000000;stroke-width:0.8;\" x=\"207.749024\" xlink:href=\"#m17ba22aa51\" y=\"224.64\"/>\n      </g>\n     </g>\n     <g id=\"text_3\">\n      <!-- 40 -->\n      <defs>\n       <path d=\"M 37.796875 64.3125 \nL 12.890625 25.390625 \nL 37.796875 25.390625 \nz\nM 35.203125 72.90625 \nL 47.609375 72.90625 \nL 47.609375 25.390625 \nL 58.015625 25.390625 \nL 58.015625 17.1875 \nL 47.609375 17.1875 \nL 47.609375 0 \nL 37.796875 0 \nL 37.796875 17.1875 \nL 4.890625 17.1875 \nL 4.890625 26.703125 \nz\n\" id=\"DejaVuSans-52\"/>\n      </defs>\n      <g transform=\"translate(201.386524 239.238437)scale(0.1 -0.1)\">\n       <use xlink:href=\"#DejaVuSans-52\"/>\n       <use x=\"63.623047\" xlink:href=\"#DejaVuSans-48\"/>\n      </g>\n     </g>\n    </g>\n    <g id=\"xtick_4\">\n     <g id=\"line2d_4\">\n      <g>\n       <use style=\"stroke:#000000;stroke-width:0.8;\" x=\"273.915032\" xlink:href=\"#m17ba22aa51\" y=\"224.64\"/>\n      </g>\n     </g>\n     <g id=\"text_4\">\n      <!-- 50 -->\n      <defs>\n       <path d=\"M 10.796875 72.90625 \nL 49.515625 72.90625 \nL 49.515625 64.59375 \nL 19.828125 64.59375 \nL 19.828125 46.734375 \nQ 21.96875 47.46875 24.109375 47.828125 \nQ 26.265625 48.1875 28.421875 48.1875 \nQ 40.625 48.1875 47.75 41.5 \nQ 54.890625 34.8125 54.890625 23.390625 \nQ 54.890625 11.625 47.5625 5.09375 \nQ 40.234375 -1.421875 26.90625 -1.421875 \nQ 22.3125 -1.421875 17.546875 -0.640625 \nQ 12.796875 0.140625 7.71875 1.703125 \nL 7.71875 11.625 \nQ 12.109375 9.234375 16.796875 8.0625 \nQ 21.484375 6.890625 26.703125 6.890625 \nQ 35.15625 6.890625 40.078125 11.328125 \nQ 45.015625 15.765625 45.015625 23.390625 \nQ 45.015625 31 40.078125 35.4375 \nQ 35.15625 39.890625 26.703125 39.890625 \nQ 22.75 39.890625 18.8125 39.015625 \nQ 14.890625 38.140625 10.796875 36.28125 \nz\n\" id=\"DejaVuSans-53\"/>\n      </defs>\n      <g transform=\"translate(267.552532 239.238437)scale(0.1 -0.1)\">\n       <use xlink:href=\"#DejaVuSans-53\"/>\n       <use x=\"63.623047\" xlink:href=\"#DejaVuSans-48\"/>\n      </g>\n     </g>\n    </g>\n    <g id=\"xtick_5\">\n     <g id=\"line2d_5\">\n      <g>\n       <use style=\"stroke:#000000;stroke-width:0.8;\" x=\"340.08104\" xlink:href=\"#m17ba22aa51\" y=\"224.64\"/>\n      </g>\n     </g>\n     <g id=\"text_5\">\n      <!-- 60 -->\n      <defs>\n       <path d=\"M 33.015625 40.375 \nQ 26.375 40.375 22.484375 35.828125 \nQ 18.609375 31.296875 18.609375 23.390625 \nQ 18.609375 15.53125 22.484375 10.953125 \nQ 26.375 6.390625 33.015625 6.390625 \nQ 39.65625 6.390625 43.53125 10.953125 \nQ 47.40625 15.53125 47.40625 23.390625 \nQ 47.40625 31.296875 43.53125 35.828125 \nQ 39.65625 40.375 33.015625 40.375 \nz\nM 52.59375 71.296875 \nL 52.59375 62.3125 \nQ 48.875 64.0625 45.09375 64.984375 \nQ 41.3125 65.921875 37.59375 65.921875 \nQ 27.828125 65.921875 22.671875 59.328125 \nQ 17.53125 52.734375 16.796875 39.40625 \nQ 19.671875 43.65625 24.015625 45.921875 \nQ 28.375 48.1875 33.59375 48.1875 \nQ 44.578125 48.1875 50.953125 41.515625 \nQ 57.328125 34.859375 57.328125 23.390625 \nQ 57.328125 12.15625 50.6875 5.359375 \nQ 44.046875 -1.421875 33.015625 -1.421875 \nQ 20.359375 -1.421875 13.671875 8.265625 \nQ 6.984375 17.96875 6.984375 36.375 \nQ 6.984375 53.65625 15.1875 63.9375 \nQ 23.390625 74.21875 37.203125 74.21875 \nQ 40.921875 74.21875 44.703125 73.484375 \nQ 48.484375 72.75 52.59375 71.296875 \nz\n\" id=\"DejaVuSans-54\"/>\n      </defs>\n      <g transform=\"translate(333.71854 239.238437)scale(0.1 -0.1)\">\n       <use xlink:href=\"#DejaVuSans-54\"/>\n       <use x=\"63.623047\" xlink:href=\"#DejaVuSans-48\"/>\n      </g>\n     </g>\n    </g>\n   </g>\n   <g id=\"matplotlib.axis_2\">\n    <g id=\"ytick_1\">\n     <g id=\"line2d_6\">\n      <defs>\n       <path d=\"M 0 0 \nL -3.5 0 \n\" id=\"m73355f7ba5\" style=\"stroke:#000000;stroke-width:0.8;\"/>\n      </defs>\n      <g>\n       <use style=\"stroke:#000000;stroke-width:0.8;\" x=\"46.965625\" xlink:href=\"#m73355f7ba5\" y=\"224.64\"/>\n      </g>\n     </g>\n     <g id=\"text_6\">\n      <!-- 0 -->\n      <g transform=\"translate(33.603125 228.439219)scale(0.1 -0.1)\">\n       <use xlink:href=\"#DejaVuSans-48\"/>\n      </g>\n     </g>\n    </g>\n    <g id=\"ytick_2\">\n     <g id=\"line2d_7\">\n      <g>\n       <use style=\"stroke:#000000;stroke-width:0.8;\" x=\"46.965625\" xlink:href=\"#m73355f7ba5\" y=\"199.689914\"/>\n      </g>\n     </g>\n     <g id=\"text_7\">\n      <!-- 20 -->\n      <g transform=\"translate(27.240625 203.489133)scale(0.1 -0.1)\">\n       <use xlink:href=\"#DejaVuSans-50\"/>\n       <use x=\"63.623047\" xlink:href=\"#DejaVuSans-48\"/>\n      </g>\n     </g>\n    </g>\n    <g id=\"ytick_3\">\n     <g id=\"line2d_8\">\n      <g>\n       <use style=\"stroke:#000000;stroke-width:0.8;\" x=\"46.965625\" xlink:href=\"#m73355f7ba5\" y=\"174.739828\"/>\n      </g>\n     </g>\n     <g id=\"text_8\">\n      <!-- 40 -->\n      <g transform=\"translate(27.240625 178.539047)scale(0.1 -0.1)\">\n       <use xlink:href=\"#DejaVuSans-52\"/>\n       <use x=\"63.623047\" xlink:href=\"#DejaVuSans-48\"/>\n      </g>\n     </g>\n    </g>\n    <g id=\"ytick_4\">\n     <g id=\"line2d_9\">\n      <g>\n       <use style=\"stroke:#000000;stroke-width:0.8;\" x=\"46.965625\" xlink:href=\"#m73355f7ba5\" y=\"149.789742\"/>\n      </g>\n     </g>\n     <g id=\"text_9\">\n      <!-- 60 -->\n      <g transform=\"translate(27.240625 153.588961)scale(0.1 -0.1)\">\n       <use xlink:href=\"#DejaVuSans-54\"/>\n       <use x=\"63.623047\" xlink:href=\"#DejaVuSans-48\"/>\n      </g>\n     </g>\n    </g>\n    <g id=\"ytick_5\">\n     <g id=\"line2d_10\">\n      <g>\n       <use style=\"stroke:#000000;stroke-width:0.8;\" x=\"46.965625\" xlink:href=\"#m73355f7ba5\" y=\"124.839656\"/>\n      </g>\n     </g>\n     <g id=\"text_10\">\n      <!-- 80 -->\n      <defs>\n       <path d=\"M 31.78125 34.625 \nQ 24.75 34.625 20.71875 30.859375 \nQ 16.703125 27.09375 16.703125 20.515625 \nQ 16.703125 13.921875 20.71875 10.15625 \nQ 24.75 6.390625 31.78125 6.390625 \nQ 38.8125 6.390625 42.859375 10.171875 \nQ 46.921875 13.96875 46.921875 20.515625 \nQ 46.921875 27.09375 42.890625 30.859375 \nQ 38.875 34.625 31.78125 34.625 \nz\nM 21.921875 38.8125 \nQ 15.578125 40.375 12.03125 44.71875 \nQ 8.5 49.078125 8.5 55.328125 \nQ 8.5 64.0625 14.71875 69.140625 \nQ 20.953125 74.21875 31.78125 74.21875 \nQ 42.671875 74.21875 48.875 69.140625 \nQ 55.078125 64.0625 55.078125 55.328125 \nQ 55.078125 49.078125 51.53125 44.71875 \nQ 48 40.375 41.703125 38.8125 \nQ 48.828125 37.15625 52.796875 32.3125 \nQ 56.78125 27.484375 56.78125 20.515625 \nQ 56.78125 9.90625 50.3125 4.234375 \nQ 43.84375 -1.421875 31.78125 -1.421875 \nQ 19.734375 -1.421875 13.25 4.234375 \nQ 6.78125 9.90625 6.78125 20.515625 \nQ 6.78125 27.484375 10.78125 32.3125 \nQ 14.796875 37.15625 21.921875 38.8125 \nz\nM 18.3125 54.390625 \nQ 18.3125 48.734375 21.84375 45.5625 \nQ 25.390625 42.390625 31.78125 42.390625 \nQ 38.140625 42.390625 41.71875 45.5625 \nQ 45.3125 48.734375 45.3125 54.390625 \nQ 45.3125 60.0625 41.71875 63.234375 \nQ 38.140625 66.40625 31.78125 66.40625 \nQ 25.390625 66.40625 21.84375 63.234375 \nQ 18.3125 60.0625 18.3125 54.390625 \nz\n\" id=\"DejaVuSans-56\"/>\n      </defs>\n      <g transform=\"translate(27.240625 128.638875)scale(0.1 -0.1)\">\n       <use xlink:href=\"#DejaVuSans-56\"/>\n       <use x=\"63.623047\" xlink:href=\"#DejaVuSans-48\"/>\n      </g>\n     </g>\n    </g>\n    <g id=\"ytick_6\">\n     <g id=\"line2d_11\">\n      <g>\n       <use style=\"stroke:#000000;stroke-width:0.8;\" x=\"46.965625\" xlink:href=\"#m73355f7ba5\" y=\"99.88957\"/>\n      </g>\n     </g>\n     <g id=\"text_11\">\n      <!-- 100 -->\n      <defs>\n       <path d=\"M 12.40625 8.296875 \nL 28.515625 8.296875 \nL 28.515625 63.921875 \nL 10.984375 60.40625 \nL 10.984375 69.390625 \nL 28.421875 72.90625 \nL 38.28125 72.90625 \nL 38.28125 8.296875 \nL 54.390625 8.296875 \nL 54.390625 0 \nL 12.40625 0 \nz\n\" id=\"DejaVuSans-49\"/>\n      </defs>\n      <g transform=\"translate(20.878125 103.688788)scale(0.1 -0.1)\">\n       <use xlink:href=\"#DejaVuSans-49\"/>\n       <use x=\"63.623047\" xlink:href=\"#DejaVuSans-48\"/>\n       <use x=\"127.246094\" xlink:href=\"#DejaVuSans-48\"/>\n      </g>\n     </g>\n    </g>\n    <g id=\"ytick_7\">\n     <g id=\"line2d_12\">\n      <g>\n       <use style=\"stroke:#000000;stroke-width:0.8;\" x=\"46.965625\" xlink:href=\"#m73355f7ba5\" y=\"74.939484\"/>\n      </g>\n     </g>\n     <g id=\"text_12\">\n      <!-- 120 -->\n      <g transform=\"translate(20.878125 78.738702)scale(0.1 -0.1)\">\n       <use xlink:href=\"#DejaVuSans-49\"/>\n       <use x=\"63.623047\" xlink:href=\"#DejaVuSans-50\"/>\n       <use x=\"127.246094\" xlink:href=\"#DejaVuSans-48\"/>\n      </g>\n     </g>\n    </g>\n    <g id=\"ytick_8\">\n     <g id=\"line2d_13\">\n      <g>\n       <use style=\"stroke:#000000;stroke-width:0.8;\" x=\"46.965625\" xlink:href=\"#m73355f7ba5\" y=\"49.989398\"/>\n      </g>\n     </g>\n     <g id=\"text_13\">\n      <!-- 140 -->\n      <g transform=\"translate(20.878125 53.788616)scale(0.1 -0.1)\">\n       <use xlink:href=\"#DejaVuSans-49\"/>\n       <use x=\"63.623047\" xlink:href=\"#DejaVuSans-52\"/>\n       <use x=\"127.246094\" xlink:href=\"#DejaVuSans-48\"/>\n      </g>\n     </g>\n    </g>\n    <g id=\"ytick_9\">\n     <g id=\"line2d_14\">\n      <g>\n       <use style=\"stroke:#000000;stroke-width:0.8;\" x=\"46.965625\" xlink:href=\"#m73355f7ba5\" y=\"25.039312\"/>\n      </g>\n     </g>\n     <g id=\"text_14\">\n      <!-- 160 -->\n      <g transform=\"translate(20.878125 28.83853)scale(0.1 -0.1)\">\n       <use xlink:href=\"#DejaVuSans-49\"/>\n       <use x=\"63.623047\" xlink:href=\"#DejaVuSans-54\"/>\n       <use x=\"127.246094\" xlink:href=\"#DejaVuSans-48\"/>\n      </g>\n     </g>\n    </g>\n    <g id=\"text_15\">\n     <!-- Frequency -->\n     <defs>\n      <path d=\"M 9.8125 72.90625 \nL 51.703125 72.90625 \nL 51.703125 64.59375 \nL 19.671875 64.59375 \nL 19.671875 43.109375 \nL 48.578125 43.109375 \nL 48.578125 34.8125 \nL 19.671875 34.8125 \nL 19.671875 0 \nL 9.8125 0 \nz\n\" id=\"DejaVuSans-70\"/>\n      <path d=\"M 41.109375 46.296875 \nQ 39.59375 47.171875 37.8125 47.578125 \nQ 36.03125 48 33.890625 48 \nQ 26.265625 48 22.1875 43.046875 \nQ 18.109375 38.09375 18.109375 28.8125 \nL 18.109375 0 \nL 9.078125 0 \nL 9.078125 54.6875 \nL 18.109375 54.6875 \nL 18.109375 46.1875 \nQ 20.953125 51.171875 25.484375 53.578125 \nQ 30.03125 56 36.53125 56 \nQ 37.453125 56 38.578125 55.875 \nQ 39.703125 55.765625 41.0625 55.515625 \nz\n\" id=\"DejaVuSans-114\"/>\n      <path d=\"M 56.203125 29.59375 \nL 56.203125 25.203125 \nL 14.890625 25.203125 \nQ 15.484375 15.921875 20.484375 11.0625 \nQ 25.484375 6.203125 34.421875 6.203125 \nQ 39.59375 6.203125 44.453125 7.46875 \nQ 49.3125 8.734375 54.109375 11.28125 \nL 54.109375 2.78125 \nQ 49.265625 0.734375 44.1875 -0.34375 \nQ 39.109375 -1.421875 33.890625 -1.421875 \nQ 20.796875 -1.421875 13.15625 6.1875 \nQ 5.515625 13.8125 5.515625 26.8125 \nQ 5.515625 40.234375 12.765625 48.109375 \nQ 20.015625 56 32.328125 56 \nQ 43.359375 56 49.78125 48.890625 \nQ 56.203125 41.796875 56.203125 29.59375 \nz\nM 47.21875 32.234375 \nQ 47.125 39.59375 43.09375 43.984375 \nQ 39.0625 48.390625 32.421875 48.390625 \nQ 24.90625 48.390625 20.390625 44.140625 \nQ 15.875 39.890625 15.1875 32.171875 \nz\n\" id=\"DejaVuSans-101\"/>\n      <path d=\"M 14.796875 27.296875 \nQ 14.796875 17.390625 18.875 11.75 \nQ 22.953125 6.109375 30.078125 6.109375 \nQ 37.203125 6.109375 41.296875 11.75 \nQ 45.40625 17.390625 45.40625 27.296875 \nQ 45.40625 37.203125 41.296875 42.84375 \nQ 37.203125 48.484375 30.078125 48.484375 \nQ 22.953125 48.484375 18.875 42.84375 \nQ 14.796875 37.203125 14.796875 27.296875 \nz\nM 45.40625 8.203125 \nQ 42.578125 3.328125 38.25 0.953125 \nQ 33.9375 -1.421875 27.875 -1.421875 \nQ 17.96875 -1.421875 11.734375 6.484375 \nQ 5.515625 14.40625 5.515625 27.296875 \nQ 5.515625 40.1875 11.734375 48.09375 \nQ 17.96875 56 27.875 56 \nQ 33.9375 56 38.25 53.625 \nQ 42.578125 51.265625 45.40625 46.390625 \nL 45.40625 54.6875 \nL 54.390625 54.6875 \nL 54.390625 -20.796875 \nL 45.40625 -20.796875 \nz\n\" id=\"DejaVuSans-113\"/>\n      <path d=\"M 8.5 21.578125 \nL 8.5 54.6875 \nL 17.484375 54.6875 \nL 17.484375 21.921875 \nQ 17.484375 14.15625 20.5 10.265625 \nQ 23.53125 6.390625 29.59375 6.390625 \nQ 36.859375 6.390625 41.078125 11.03125 \nQ 45.3125 15.671875 45.3125 23.6875 \nL 45.3125 54.6875 \nL 54.296875 54.6875 \nL 54.296875 0 \nL 45.3125 0 \nL 45.3125 8.40625 \nQ 42.046875 3.421875 37.71875 1 \nQ 33.40625 -1.421875 27.6875 -1.421875 \nQ 18.265625 -1.421875 13.375 4.4375 \nQ 8.5 10.296875 8.5 21.578125 \nz\nM 31.109375 56 \nz\n\" id=\"DejaVuSans-117\"/>\n      <path d=\"M 54.890625 33.015625 \nL 54.890625 0 \nL 45.90625 0 \nL 45.90625 32.71875 \nQ 45.90625 40.484375 42.875 44.328125 \nQ 39.84375 48.1875 33.796875 48.1875 \nQ 26.515625 48.1875 22.3125 43.546875 \nQ 18.109375 38.921875 18.109375 30.90625 \nL 18.109375 0 \nL 9.078125 0 \nL 9.078125 54.6875 \nL 18.109375 54.6875 \nL 18.109375 46.1875 \nQ 21.34375 51.125 25.703125 53.5625 \nQ 30.078125 56 35.796875 56 \nQ 45.21875 56 50.046875 50.171875 \nQ 54.890625 44.34375 54.890625 33.015625 \nz\n\" id=\"DejaVuSans-110\"/>\n      <path d=\"M 48.78125 52.59375 \nL 48.78125 44.1875 \nQ 44.96875 46.296875 41.140625 47.34375 \nQ 37.3125 48.390625 33.40625 48.390625 \nQ 24.65625 48.390625 19.8125 42.84375 \nQ 14.984375 37.3125 14.984375 27.296875 \nQ 14.984375 17.28125 19.8125 11.734375 \nQ 24.65625 6.203125 33.40625 6.203125 \nQ 37.3125 6.203125 41.140625 7.25 \nQ 44.96875 8.296875 48.78125 10.40625 \nL 48.78125 2.09375 \nQ 45.015625 0.34375 40.984375 -0.53125 \nQ 36.96875 -1.421875 32.421875 -1.421875 \nQ 20.0625 -1.421875 12.78125 6.34375 \nQ 5.515625 14.109375 5.515625 27.296875 \nQ 5.515625 40.671875 12.859375 48.328125 \nQ 20.21875 56 33.015625 56 \nQ 37.15625 56 41.109375 55.140625 \nQ 45.0625 54.296875 48.78125 52.59375 \nz\n\" id=\"DejaVuSans-99\"/>\n      <path d=\"M 32.171875 -5.078125 \nQ 28.375 -14.84375 24.75 -17.8125 \nQ 21.140625 -20.796875 15.09375 -20.796875 \nL 7.90625 -20.796875 \nL 7.90625 -13.28125 \nL 13.1875 -13.28125 \nQ 16.890625 -13.28125 18.9375 -11.515625 \nQ 21 -9.765625 23.484375 -3.21875 \nL 25.09375 0.875 \nL 2.984375 54.6875 \nL 12.5 54.6875 \nL 29.59375 11.921875 \nL 46.6875 54.6875 \nL 56.203125 54.6875 \nz\n\" id=\"DejaVuSans-121\"/>\n     </defs>\n     <g transform=\"translate(14.798438 141.749687)rotate(-90)scale(0.1 -0.1)\">\n      <use xlink:href=\"#DejaVuSans-70\"/>\n      <use x=\"50.269531\" xlink:href=\"#DejaVuSans-114\"/>\n      <use x=\"89.132812\" xlink:href=\"#DejaVuSans-101\"/>\n      <use x=\"150.65625\" xlink:href=\"#DejaVuSans-113\"/>\n      <use x=\"214.132812\" xlink:href=\"#DejaVuSans-117\"/>\n      <use x=\"277.511719\" xlink:href=\"#DejaVuSans-101\"/>\n      <use x=\"339.035156\" xlink:href=\"#DejaVuSans-110\"/>\n      <use x=\"402.414062\" xlink:href=\"#DejaVuSans-99\"/>\n      <use x=\"457.394531\" xlink:href=\"#DejaVuSans-121\"/>\n     </g>\n    </g>\n   </g>\n   <g id=\"patch_23\">\n    <path d=\"M 46.965625 224.64 \nL 46.965625 7.2 \n\" style=\"fill:none;stroke:#000000;stroke-linecap:square;stroke-linejoin:miter;stroke-width:0.8;\"/>\n   </g>\n   <g id=\"patch_24\">\n    <path d=\"M 381.765625 224.64 \nL 381.765625 7.2 \n\" style=\"fill:none;stroke:#000000;stroke-linecap:square;stroke-linejoin:miter;stroke-width:0.8;\"/>\n   </g>\n   <g id=\"patch_25\">\n    <path d=\"M 46.965625 224.64 \nL 381.765625 224.64 \n\" style=\"fill:none;stroke:#000000;stroke-linecap:square;stroke-linejoin:miter;stroke-width:0.8;\"/>\n   </g>\n   <g id=\"patch_26\">\n    <path d=\"M 46.965625 7.2 \nL 381.765625 7.2 \n\" style=\"fill:none;stroke:#000000;stroke-linecap:square;stroke-linejoin:miter;stroke-width:0.8;\"/>\n   </g>\n  </g>\n </g>\n <defs>\n  <clipPath id=\"pe7fd2a29fe\">\n   <rect height=\"217.44\" width=\"334.8\" x=\"46.965625\" y=\"7.2\"/>\n  </clipPath>\n </defs>\n</svg>\n"
          },
          "metadata": {
            "needs_background": "light"
          }
        }
      ]
    },
    {
      "cell_type": "code",
      "source": [
        "data['bmi'].plot(kind='hist',bins=20)"
      ],
      "metadata": {
        "colab": {
          "base_uri": "https://localhost:8080/",
          "height": 369
        },
        "id": "4ByYS826U6SE",
        "outputId": "d88e13d9-0d73-493f-eb79-5afd307ade17"
      },
      "execution_count": 4,
      "outputs": [
        {
          "output_type": "execute_result",
          "data": {
            "text/plain": [
              "<matplotlib.axes._subplots.AxesSubplot at 0x7fe298b0a710>"
            ]
          },
          "metadata": {},
          "execution_count": 4
        },
        {
          "output_type": "display_data",
          "data": {
            "text/plain": [
              "<Figure size 432x288 with 1 Axes>"
            ],
            "image/svg+xml": "<?xml version=\"1.0\" encoding=\"utf-8\" standalone=\"no\"?>\n<!DOCTYPE svg PUBLIC \"-//W3C//DTD SVG 1.1//EN\"\n  \"http://www.w3.org/Graphics/SVG/1.1/DTD/svg11.dtd\">\n<!-- Created with matplotlib (https://matplotlib.org/) -->\n<svg height=\"248.518125pt\" version=\"1.1\" viewBox=\"0 0 388.965625 248.518125\" width=\"388.965625pt\" xmlns=\"http://www.w3.org/2000/svg\" xmlns:xlink=\"http://www.w3.org/1999/xlink\">\n <defs>\n  <style type=\"text/css\">\n*{stroke-linecap:butt;stroke-linejoin:round;}\n  </style>\n </defs>\n <g id=\"figure_1\">\n  <g id=\"patch_1\">\n   <path d=\"M 0 248.518125 \nL 388.965625 248.518125 \nL 388.965625 0 \nL 0 0 \nz\n\" style=\"fill:none;\"/>\n  </g>\n  <g id=\"axes_1\">\n   <g id=\"patch_2\">\n    <path d=\"M 46.965625 224.64 \nL 381.765625 224.64 \nL 381.765625 7.2 \nL 46.965625 7.2 \nz\n\" style=\"fill:#ffffff;\"/>\n   </g>\n   <g id=\"patch_3\">\n    <path clip-path=\"url(#paf1371cdd2)\" d=\"M 62.183807 224.64 \nL 77.401989 224.64 \nL 77.401989 208.022011 \nL 62.183807 208.022011 \nz\n\" style=\"fill:#1f77b4;\"/>\n   </g>\n   <g id=\"patch_4\">\n    <path clip-path=\"url(#paf1371cdd2)\" d=\"M 77.401989 224.64 \nL 92.62017 224.64 \nL 92.62017 202.908783 \nL 77.401989 202.908783 \nz\n\" style=\"fill:#1f77b4;\"/>\n   </g>\n   <g id=\"patch_5\">\n    <path clip-path=\"url(#paf1371cdd2)\" d=\"M 92.62017 224.64 \nL 107.838352 224.64 \nL 107.838352 164.559577 \nL 92.62017 164.559577 \nz\n\" style=\"fill:#1f77b4;\"/>\n   </g>\n   <g id=\"patch_6\">\n    <path clip-path=\"url(#paf1371cdd2)\" d=\"M 107.838352 224.64 \nL 123.056534 224.64 \nL 123.056534 122.37545 \nL 107.838352 122.37545 \nz\n\" style=\"fill:#1f77b4;\"/>\n   </g>\n   <g id=\"patch_7\">\n    <path clip-path=\"url(#paf1371cdd2)\" d=\"M 123.056534 224.64 \nL 138.274716 224.64 \nL 138.274716 92.974392 \nL 123.056534 92.974392 \nz\n\" style=\"fill:#1f77b4;\"/>\n   </g>\n   <g id=\"patch_8\">\n    <path clip-path=\"url(#paf1371cdd2)\" d=\"M 138.274716 224.64 \nL 153.492898 224.64 \nL 153.492898 57.181799 \nL 138.274716 57.181799 \nz\n\" style=\"fill:#1f77b4;\"/>\n   </g>\n   <g id=\"patch_9\">\n    <path clip-path=\"url(#paf1371cdd2)\" d=\"M 153.492898 224.64 \nL 168.71108 224.64 \nL 168.71108 17.554286 \nL 153.492898 17.554286 \nz\n\" style=\"fill:#1f77b4;\"/>\n   </g>\n   <g id=\"patch_10\">\n    <path clip-path=\"url(#paf1371cdd2)\" d=\"M 168.71108 224.64 \nL 183.929261 224.64 \nL 183.929261 23.94582 \nL 168.71108 23.94582 \nz\n\" style=\"fill:#1f77b4;\"/>\n   </g>\n   <g id=\"patch_11\">\n    <path clip-path=\"url(#paf1371cdd2)\" d=\"M 183.929261 224.64 \nL 199.147443 224.64 \nL 199.147443 39.285503 \nL 183.929261 39.285503 \nz\n\" style=\"fill:#1f77b4;\"/>\n   </g>\n   <g id=\"patch_12\">\n    <path clip-path=\"url(#paf1371cdd2)\" d=\"M 199.147443 224.64 \nL 214.365625 224.64 \nL 214.365625 41.842116 \nL 199.147443 41.842116 \nz\n\" style=\"fill:#1f77b4;\"/>\n   </g>\n   <g id=\"patch_13\">\n    <path clip-path=\"url(#paf1371cdd2)\" d=\"M 214.365625 224.64 \nL 229.583807 224.64 \nL 229.583807 90.417778 \nL 214.365625 90.417778 \nz\n\" style=\"fill:#1f77b4;\"/>\n   </g>\n   <g id=\"patch_14\">\n    <path clip-path=\"url(#paf1371cdd2)\" d=\"M 229.583807 224.64 \nL 244.801989 224.64 \nL 244.801989 109.592381 \nL 229.583807 109.592381 \nz\n\" style=\"fill:#1f77b4;\"/>\n   </g>\n   <g id=\"patch_15\">\n    <path clip-path=\"url(#paf1371cdd2)\" d=\"M 244.801989 224.64 \nL 260.02017 224.64 \nL 260.02017 155.611429 \nL 244.801989 155.611429 \nz\n\" style=\"fill:#1f77b4;\"/>\n   </g>\n   <g id=\"patch_16\">\n    <path clip-path=\"url(#paf1371cdd2)\" d=\"M 260.02017 224.64 \nL 275.238352 224.64 \nL 275.238352 170.951111 \nL 260.02017 170.951111 \nz\n\" style=\"fill:#1f77b4;\"/>\n   </g>\n   <g id=\"patch_17\">\n    <path clip-path=\"url(#paf1371cdd2)\" d=\"M 275.238352 224.64 \nL 290.456534 224.64 \nL 290.456534 199.073862 \nL 275.238352 199.073862 \nz\n\" style=\"fill:#1f77b4;\"/>\n   </g>\n   <g id=\"patch_18\">\n    <path clip-path=\"url(#paf1371cdd2)\" d=\"M 290.456534 224.64 \nL 305.674716 224.64 \nL 305.674716 209.300317 \nL 290.456534 209.300317 \nz\n\" style=\"fill:#1f77b4;\"/>\n   </g>\n   <g id=\"patch_19\">\n    <path clip-path=\"url(#paf1371cdd2)\" d=\"M 305.674716 224.64 \nL 320.892898 224.64 \nL 320.892898 211.856931 \nL 305.674716 211.856931 \nz\n\" style=\"fill:#1f77b4;\"/>\n   </g>\n   <g id=\"patch_20\">\n    <path clip-path=\"url(#paf1371cdd2)\" d=\"M 320.892898 224.64 \nL 336.11108 224.64 \nL 336.11108 219.526772 \nL 320.892898 219.526772 \nz\n\" style=\"fill:#1f77b4;\"/>\n   </g>\n   <g id=\"patch_21\">\n    <path clip-path=\"url(#paf1371cdd2)\" d=\"M 336.11108 224.64 \nL 351.329261 224.64 \nL 351.329261 223.361693 \nL 336.11108 223.361693 \nz\n\" style=\"fill:#1f77b4;\"/>\n   </g>\n   <g id=\"patch_22\">\n    <path clip-path=\"url(#paf1371cdd2)\" d=\"M 351.329261 224.64 \nL 366.547443 224.64 \nL 366.547443 222.083386 \nL 351.329261 222.083386 \nz\n\" style=\"fill:#1f77b4;\"/>\n   </g>\n   <g id=\"matplotlib.axis_1\">\n    <g id=\"xtick_1\">\n     <g id=\"line2d_1\">\n      <defs>\n       <path d=\"M 0 0 \nL 0 3.5 \n\" id=\"m11d851f114\" style=\"stroke:#000000;stroke-width:0.8;\"/>\n      </defs>\n      <g>\n       <use style=\"stroke:#000000;stroke-width:0.8;\" x=\"54.322922\" xlink:href=\"#m11d851f114\" y=\"224.64\"/>\n      </g>\n     </g>\n     <g id=\"text_1\">\n      <!-- 15 -->\n      <defs>\n       <path d=\"M 12.40625 8.296875 \nL 28.515625 8.296875 \nL 28.515625 63.921875 \nL 10.984375 60.40625 \nL 10.984375 69.390625 \nL 28.421875 72.90625 \nL 38.28125 72.90625 \nL 38.28125 8.296875 \nL 54.390625 8.296875 \nL 54.390625 0 \nL 12.40625 0 \nz\n\" id=\"DejaVuSans-49\"/>\n       <path d=\"M 10.796875 72.90625 \nL 49.515625 72.90625 \nL 49.515625 64.59375 \nL 19.828125 64.59375 \nL 19.828125 46.734375 \nQ 21.96875 47.46875 24.109375 47.828125 \nQ 26.265625 48.1875 28.421875 48.1875 \nQ 40.625 48.1875 47.75 41.5 \nQ 54.890625 34.8125 54.890625 23.390625 \nQ 54.890625 11.625 47.5625 5.09375 \nQ 40.234375 -1.421875 26.90625 -1.421875 \nQ 22.3125 -1.421875 17.546875 -0.640625 \nQ 12.796875 0.140625 7.71875 1.703125 \nL 7.71875 11.625 \nQ 12.109375 9.234375 16.796875 8.0625 \nQ 21.484375 6.890625 26.703125 6.890625 \nQ 35.15625 6.890625 40.078125 11.328125 \nQ 45.015625 15.765625 45.015625 23.390625 \nQ 45.015625 31 40.078125 35.4375 \nQ 35.15625 39.890625 26.703125 39.890625 \nQ 22.75 39.890625 18.8125 39.015625 \nQ 14.890625 38.140625 10.796875 36.28125 \nz\n\" id=\"DejaVuSans-53\"/>\n      </defs>\n      <g transform=\"translate(47.960422 239.238437)scale(0.1 -0.1)\">\n       <use xlink:href=\"#DejaVuSans-49\"/>\n       <use x=\"63.623047\" xlink:href=\"#DejaVuSans-53\"/>\n      </g>\n     </g>\n    </g>\n    <g id=\"xtick_2\">\n     <g id=\"line2d_2\">\n      <g>\n       <use style=\"stroke:#000000;stroke-width:0.8;\" x=\"95.265031\" xlink:href=\"#m11d851f114\" y=\"224.64\"/>\n      </g>\n     </g>\n     <g id=\"text_2\">\n      <!-- 20 -->\n      <defs>\n       <path d=\"M 19.1875 8.296875 \nL 53.609375 8.296875 \nL 53.609375 0 \nL 7.328125 0 \nL 7.328125 8.296875 \nQ 12.9375 14.109375 22.625 23.890625 \nQ 32.328125 33.6875 34.8125 36.53125 \nQ 39.546875 41.84375 41.421875 45.53125 \nQ 43.3125 49.21875 43.3125 52.78125 \nQ 43.3125 58.59375 39.234375 62.25 \nQ 35.15625 65.921875 28.609375 65.921875 \nQ 23.96875 65.921875 18.8125 64.3125 \nQ 13.671875 62.703125 7.8125 59.421875 \nL 7.8125 69.390625 \nQ 13.765625 71.78125 18.9375 73 \nQ 24.125 74.21875 28.421875 74.21875 \nQ 39.75 74.21875 46.484375 68.546875 \nQ 53.21875 62.890625 53.21875 53.421875 \nQ 53.21875 48.921875 51.53125 44.890625 \nQ 49.859375 40.875 45.40625 35.40625 \nQ 44.1875 33.984375 37.640625 27.21875 \nQ 31.109375 20.453125 19.1875 8.296875 \nz\n\" id=\"DejaVuSans-50\"/>\n       <path d=\"M 31.78125 66.40625 \nQ 24.171875 66.40625 20.328125 58.90625 \nQ 16.5 51.421875 16.5 36.375 \nQ 16.5 21.390625 20.328125 13.890625 \nQ 24.171875 6.390625 31.78125 6.390625 \nQ 39.453125 6.390625 43.28125 13.890625 \nQ 47.125 21.390625 47.125 36.375 \nQ 47.125 51.421875 43.28125 58.90625 \nQ 39.453125 66.40625 31.78125 66.40625 \nz\nM 31.78125 74.21875 \nQ 44.046875 74.21875 50.515625 64.515625 \nQ 56.984375 54.828125 56.984375 36.375 \nQ 56.984375 17.96875 50.515625 8.265625 \nQ 44.046875 -1.421875 31.78125 -1.421875 \nQ 19.53125 -1.421875 13.0625 8.265625 \nQ 6.59375 17.96875 6.59375 36.375 \nQ 6.59375 54.828125 13.0625 64.515625 \nQ 19.53125 74.21875 31.78125 74.21875 \nz\n\" id=\"DejaVuSans-48\"/>\n      </defs>\n      <g transform=\"translate(88.902531 239.238437)scale(0.1 -0.1)\">\n       <use xlink:href=\"#DejaVuSans-50\"/>\n       <use x=\"63.623047\" xlink:href=\"#DejaVuSans-48\"/>\n      </g>\n     </g>\n    </g>\n    <g id=\"xtick_3\">\n     <g id=\"line2d_3\">\n      <g>\n       <use style=\"stroke:#000000;stroke-width:0.8;\" x=\"136.207139\" xlink:href=\"#m11d851f114\" y=\"224.64\"/>\n      </g>\n     </g>\n     <g id=\"text_3\">\n      <!-- 25 -->\n      <g transform=\"translate(129.844639 239.238437)scale(0.1 -0.1)\">\n       <use xlink:href=\"#DejaVuSans-50\"/>\n       <use x=\"63.623047\" xlink:href=\"#DejaVuSans-53\"/>\n      </g>\n     </g>\n    </g>\n    <g id=\"xtick_4\">\n     <g id=\"line2d_4\">\n      <g>\n       <use style=\"stroke:#000000;stroke-width:0.8;\" x=\"177.149248\" xlink:href=\"#m11d851f114\" y=\"224.64\"/>\n      </g>\n     </g>\n     <g id=\"text_4\">\n      <!-- 30 -->\n      <defs>\n       <path d=\"M 40.578125 39.3125 \nQ 47.65625 37.796875 51.625 33 \nQ 55.609375 28.21875 55.609375 21.1875 \nQ 55.609375 10.40625 48.1875 4.484375 \nQ 40.765625 -1.421875 27.09375 -1.421875 \nQ 22.515625 -1.421875 17.65625 -0.515625 \nQ 12.796875 0.390625 7.625 2.203125 \nL 7.625 11.71875 \nQ 11.71875 9.328125 16.59375 8.109375 \nQ 21.484375 6.890625 26.8125 6.890625 \nQ 36.078125 6.890625 40.9375 10.546875 \nQ 45.796875 14.203125 45.796875 21.1875 \nQ 45.796875 27.640625 41.28125 31.265625 \nQ 36.765625 34.90625 28.71875 34.90625 \nL 20.21875 34.90625 \nL 20.21875 43.015625 \nL 29.109375 43.015625 \nQ 36.375 43.015625 40.234375 45.921875 \nQ 44.09375 48.828125 44.09375 54.296875 \nQ 44.09375 59.90625 40.109375 62.90625 \nQ 36.140625 65.921875 28.71875 65.921875 \nQ 24.65625 65.921875 20.015625 65.03125 \nQ 15.375 64.15625 9.8125 62.3125 \nL 9.8125 71.09375 \nQ 15.4375 72.65625 20.34375 73.4375 \nQ 25.25 74.21875 29.59375 74.21875 \nQ 40.828125 74.21875 47.359375 69.109375 \nQ 53.90625 64.015625 53.90625 55.328125 \nQ 53.90625 49.265625 50.4375 45.09375 \nQ 46.96875 40.921875 40.578125 39.3125 \nz\n\" id=\"DejaVuSans-51\"/>\n      </defs>\n      <g transform=\"translate(170.786748 239.238437)scale(0.1 -0.1)\">\n       <use xlink:href=\"#DejaVuSans-51\"/>\n       <use x=\"63.623047\" xlink:href=\"#DejaVuSans-48\"/>\n      </g>\n     </g>\n    </g>\n    <g id=\"xtick_5\">\n     <g id=\"line2d_5\">\n      <g>\n       <use style=\"stroke:#000000;stroke-width:0.8;\" x=\"218.091357\" xlink:href=\"#m11d851f114\" y=\"224.64\"/>\n      </g>\n     </g>\n     <g id=\"text_5\">\n      <!-- 35 -->\n      <g transform=\"translate(211.728857 239.238437)scale(0.1 -0.1)\">\n       <use xlink:href=\"#DejaVuSans-51\"/>\n       <use x=\"63.623047\" xlink:href=\"#DejaVuSans-53\"/>\n      </g>\n     </g>\n    </g>\n    <g id=\"xtick_6\">\n     <g id=\"line2d_6\">\n      <g>\n       <use style=\"stroke:#000000;stroke-width:0.8;\" x=\"259.033466\" xlink:href=\"#m11d851f114\" y=\"224.64\"/>\n      </g>\n     </g>\n     <g id=\"text_6\">\n      <!-- 40 -->\n      <defs>\n       <path d=\"M 37.796875 64.3125 \nL 12.890625 25.390625 \nL 37.796875 25.390625 \nz\nM 35.203125 72.90625 \nL 47.609375 72.90625 \nL 47.609375 25.390625 \nL 58.015625 25.390625 \nL 58.015625 17.1875 \nL 47.609375 17.1875 \nL 47.609375 0 \nL 37.796875 0 \nL 37.796875 17.1875 \nL 4.890625 17.1875 \nL 4.890625 26.703125 \nz\n\" id=\"DejaVuSans-52\"/>\n      </defs>\n      <g transform=\"translate(252.670966 239.238437)scale(0.1 -0.1)\">\n       <use xlink:href=\"#DejaVuSans-52\"/>\n       <use x=\"63.623047\" xlink:href=\"#DejaVuSans-48\"/>\n      </g>\n     </g>\n    </g>\n    <g id=\"xtick_7\">\n     <g id=\"line2d_7\">\n      <g>\n       <use style=\"stroke:#000000;stroke-width:0.8;\" x=\"299.975574\" xlink:href=\"#m11d851f114\" y=\"224.64\"/>\n      </g>\n     </g>\n     <g id=\"text_7\">\n      <!-- 45 -->\n      <g transform=\"translate(293.613074 239.238437)scale(0.1 -0.1)\">\n       <use xlink:href=\"#DejaVuSans-52\"/>\n       <use x=\"63.623047\" xlink:href=\"#DejaVuSans-53\"/>\n      </g>\n     </g>\n    </g>\n    <g id=\"xtick_8\">\n     <g id=\"line2d_8\">\n      <g>\n       <use style=\"stroke:#000000;stroke-width:0.8;\" x=\"340.917683\" xlink:href=\"#m11d851f114\" y=\"224.64\"/>\n      </g>\n     </g>\n     <g id=\"text_8\">\n      <!-- 50 -->\n      <g transform=\"translate(334.555183 239.238437)scale(0.1 -0.1)\">\n       <use xlink:href=\"#DejaVuSans-53\"/>\n       <use x=\"63.623047\" xlink:href=\"#DejaVuSans-48\"/>\n      </g>\n     </g>\n    </g>\n   </g>\n   <g id=\"matplotlib.axis_2\">\n    <g id=\"ytick_1\">\n     <g id=\"line2d_9\">\n      <defs>\n       <path d=\"M 0 0 \nL -3.5 0 \n\" id=\"ma9d5ce74b5\" style=\"stroke:#000000;stroke-width:0.8;\"/>\n      </defs>\n      <g>\n       <use style=\"stroke:#000000;stroke-width:0.8;\" x=\"46.965625\" xlink:href=\"#ma9d5ce74b5\" y=\"224.64\"/>\n      </g>\n     </g>\n     <g id=\"text_9\">\n      <!-- 0 -->\n      <g transform=\"translate(33.603125 228.439219)scale(0.1 -0.1)\">\n       <use xlink:href=\"#DejaVuSans-48\"/>\n      </g>\n     </g>\n    </g>\n    <g id=\"ytick_2\">\n     <g id=\"line2d_10\">\n      <g>\n       <use style=\"stroke:#000000;stroke-width:0.8;\" x=\"46.965625\" xlink:href=\"#ma9d5ce74b5\" y=\"199.073862\"/>\n      </g>\n     </g>\n     <g id=\"text_10\">\n      <!-- 20 -->\n      <g transform=\"translate(27.240625 202.873081)scale(0.1 -0.1)\">\n       <use xlink:href=\"#DejaVuSans-50\"/>\n       <use x=\"63.623047\" xlink:href=\"#DejaVuSans-48\"/>\n      </g>\n     </g>\n    </g>\n    <g id=\"ytick_3\">\n     <g id=\"line2d_11\">\n      <g>\n       <use style=\"stroke:#000000;stroke-width:0.8;\" x=\"46.965625\" xlink:href=\"#ma9d5ce74b5\" y=\"173.507725\"/>\n      </g>\n     </g>\n     <g id=\"text_11\">\n      <!-- 40 -->\n      <g transform=\"translate(27.240625 177.306944)scale(0.1 -0.1)\">\n       <use xlink:href=\"#DejaVuSans-52\"/>\n       <use x=\"63.623047\" xlink:href=\"#DejaVuSans-48\"/>\n      </g>\n     </g>\n    </g>\n    <g id=\"ytick_4\">\n     <g id=\"line2d_12\">\n      <g>\n       <use style=\"stroke:#000000;stroke-width:0.8;\" x=\"46.965625\" xlink:href=\"#ma9d5ce74b5\" y=\"147.941587\"/>\n      </g>\n     </g>\n     <g id=\"text_12\">\n      <!-- 60 -->\n      <defs>\n       <path d=\"M 33.015625 40.375 \nQ 26.375 40.375 22.484375 35.828125 \nQ 18.609375 31.296875 18.609375 23.390625 \nQ 18.609375 15.53125 22.484375 10.953125 \nQ 26.375 6.390625 33.015625 6.390625 \nQ 39.65625 6.390625 43.53125 10.953125 \nQ 47.40625 15.53125 47.40625 23.390625 \nQ 47.40625 31.296875 43.53125 35.828125 \nQ 39.65625 40.375 33.015625 40.375 \nz\nM 52.59375 71.296875 \nL 52.59375 62.3125 \nQ 48.875 64.0625 45.09375 64.984375 \nQ 41.3125 65.921875 37.59375 65.921875 \nQ 27.828125 65.921875 22.671875 59.328125 \nQ 17.53125 52.734375 16.796875 39.40625 \nQ 19.671875 43.65625 24.015625 45.921875 \nQ 28.375 48.1875 33.59375 48.1875 \nQ 44.578125 48.1875 50.953125 41.515625 \nQ 57.328125 34.859375 57.328125 23.390625 \nQ 57.328125 12.15625 50.6875 5.359375 \nQ 44.046875 -1.421875 33.015625 -1.421875 \nQ 20.359375 -1.421875 13.671875 8.265625 \nQ 6.984375 17.96875 6.984375 36.375 \nQ 6.984375 53.65625 15.1875 63.9375 \nQ 23.390625 74.21875 37.203125 74.21875 \nQ 40.921875 74.21875 44.703125 73.484375 \nQ 48.484375 72.75 52.59375 71.296875 \nz\n\" id=\"DejaVuSans-54\"/>\n      </defs>\n      <g transform=\"translate(27.240625 151.740806)scale(0.1 -0.1)\">\n       <use xlink:href=\"#DejaVuSans-54\"/>\n       <use x=\"63.623047\" xlink:href=\"#DejaVuSans-48\"/>\n      </g>\n     </g>\n    </g>\n    <g id=\"ytick_5\">\n     <g id=\"line2d_13\">\n      <g>\n       <use style=\"stroke:#000000;stroke-width:0.8;\" x=\"46.965625\" xlink:href=\"#ma9d5ce74b5\" y=\"122.37545\"/>\n      </g>\n     </g>\n     <g id=\"text_13\">\n      <!-- 80 -->\n      <defs>\n       <path d=\"M 31.78125 34.625 \nQ 24.75 34.625 20.71875 30.859375 \nQ 16.703125 27.09375 16.703125 20.515625 \nQ 16.703125 13.921875 20.71875 10.15625 \nQ 24.75 6.390625 31.78125 6.390625 \nQ 38.8125 6.390625 42.859375 10.171875 \nQ 46.921875 13.96875 46.921875 20.515625 \nQ 46.921875 27.09375 42.890625 30.859375 \nQ 38.875 34.625 31.78125 34.625 \nz\nM 21.921875 38.8125 \nQ 15.578125 40.375 12.03125 44.71875 \nQ 8.5 49.078125 8.5 55.328125 \nQ 8.5 64.0625 14.71875 69.140625 \nQ 20.953125 74.21875 31.78125 74.21875 \nQ 42.671875 74.21875 48.875 69.140625 \nQ 55.078125 64.0625 55.078125 55.328125 \nQ 55.078125 49.078125 51.53125 44.71875 \nQ 48 40.375 41.703125 38.8125 \nQ 48.828125 37.15625 52.796875 32.3125 \nQ 56.78125 27.484375 56.78125 20.515625 \nQ 56.78125 9.90625 50.3125 4.234375 \nQ 43.84375 -1.421875 31.78125 -1.421875 \nQ 19.734375 -1.421875 13.25 4.234375 \nQ 6.78125 9.90625 6.78125 20.515625 \nQ 6.78125 27.484375 10.78125 32.3125 \nQ 14.796875 37.15625 21.921875 38.8125 \nz\nM 18.3125 54.390625 \nQ 18.3125 48.734375 21.84375 45.5625 \nQ 25.390625 42.390625 31.78125 42.390625 \nQ 38.140625 42.390625 41.71875 45.5625 \nQ 45.3125 48.734375 45.3125 54.390625 \nQ 45.3125 60.0625 41.71875 63.234375 \nQ 38.140625 66.40625 31.78125 66.40625 \nQ 25.390625 66.40625 21.84375 63.234375 \nQ 18.3125 60.0625 18.3125 54.390625 \nz\n\" id=\"DejaVuSans-56\"/>\n      </defs>\n      <g transform=\"translate(27.240625 126.174668)scale(0.1 -0.1)\">\n       <use xlink:href=\"#DejaVuSans-56\"/>\n       <use x=\"63.623047\" xlink:href=\"#DejaVuSans-48\"/>\n      </g>\n     </g>\n    </g>\n    <g id=\"ytick_6\">\n     <g id=\"line2d_14\">\n      <g>\n       <use style=\"stroke:#000000;stroke-width:0.8;\" x=\"46.965625\" xlink:href=\"#ma9d5ce74b5\" y=\"96.809312\"/>\n      </g>\n     </g>\n     <g id=\"text_14\">\n      <!-- 100 -->\n      <g transform=\"translate(20.878125 100.608531)scale(0.1 -0.1)\">\n       <use xlink:href=\"#DejaVuSans-49\"/>\n       <use x=\"63.623047\" xlink:href=\"#DejaVuSans-48\"/>\n       <use x=\"127.246094\" xlink:href=\"#DejaVuSans-48\"/>\n      </g>\n     </g>\n    </g>\n    <g id=\"ytick_7\">\n     <g id=\"line2d_15\">\n      <g>\n       <use style=\"stroke:#000000;stroke-width:0.8;\" x=\"46.965625\" xlink:href=\"#ma9d5ce74b5\" y=\"71.243175\"/>\n      </g>\n     </g>\n     <g id=\"text_15\">\n      <!-- 120 -->\n      <g transform=\"translate(20.878125 75.042393)scale(0.1 -0.1)\">\n       <use xlink:href=\"#DejaVuSans-49\"/>\n       <use x=\"63.623047\" xlink:href=\"#DejaVuSans-50\"/>\n       <use x=\"127.246094\" xlink:href=\"#DejaVuSans-48\"/>\n      </g>\n     </g>\n    </g>\n    <g id=\"ytick_8\">\n     <g id=\"line2d_16\">\n      <g>\n       <use style=\"stroke:#000000;stroke-width:0.8;\" x=\"46.965625\" xlink:href=\"#ma9d5ce74b5\" y=\"45.677037\"/>\n      </g>\n     </g>\n     <g id=\"text_16\">\n      <!-- 140 -->\n      <g transform=\"translate(20.878125 49.476256)scale(0.1 -0.1)\">\n       <use xlink:href=\"#DejaVuSans-49\"/>\n       <use x=\"63.623047\" xlink:href=\"#DejaVuSans-52\"/>\n       <use x=\"127.246094\" xlink:href=\"#DejaVuSans-48\"/>\n      </g>\n     </g>\n    </g>\n    <g id=\"ytick_9\">\n     <g id=\"line2d_17\">\n      <g>\n       <use style=\"stroke:#000000;stroke-width:0.8;\" x=\"46.965625\" xlink:href=\"#ma9d5ce74b5\" y=\"20.110899\"/>\n      </g>\n     </g>\n     <g id=\"text_17\">\n      <!-- 160 -->\n      <g transform=\"translate(20.878125 23.910118)scale(0.1 -0.1)\">\n       <use xlink:href=\"#DejaVuSans-49\"/>\n       <use x=\"63.623047\" xlink:href=\"#DejaVuSans-54\"/>\n       <use x=\"127.246094\" xlink:href=\"#DejaVuSans-48\"/>\n      </g>\n     </g>\n    </g>\n    <g id=\"text_18\">\n     <!-- Frequency -->\n     <defs>\n      <path d=\"M 9.8125 72.90625 \nL 51.703125 72.90625 \nL 51.703125 64.59375 \nL 19.671875 64.59375 \nL 19.671875 43.109375 \nL 48.578125 43.109375 \nL 48.578125 34.8125 \nL 19.671875 34.8125 \nL 19.671875 0 \nL 9.8125 0 \nz\n\" id=\"DejaVuSans-70\"/>\n      <path d=\"M 41.109375 46.296875 \nQ 39.59375 47.171875 37.8125 47.578125 \nQ 36.03125 48 33.890625 48 \nQ 26.265625 48 22.1875 43.046875 \nQ 18.109375 38.09375 18.109375 28.8125 \nL 18.109375 0 \nL 9.078125 0 \nL 9.078125 54.6875 \nL 18.109375 54.6875 \nL 18.109375 46.1875 \nQ 20.953125 51.171875 25.484375 53.578125 \nQ 30.03125 56 36.53125 56 \nQ 37.453125 56 38.578125 55.875 \nQ 39.703125 55.765625 41.0625 55.515625 \nz\n\" id=\"DejaVuSans-114\"/>\n      <path d=\"M 56.203125 29.59375 \nL 56.203125 25.203125 \nL 14.890625 25.203125 \nQ 15.484375 15.921875 20.484375 11.0625 \nQ 25.484375 6.203125 34.421875 6.203125 \nQ 39.59375 6.203125 44.453125 7.46875 \nQ 49.3125 8.734375 54.109375 11.28125 \nL 54.109375 2.78125 \nQ 49.265625 0.734375 44.1875 -0.34375 \nQ 39.109375 -1.421875 33.890625 -1.421875 \nQ 20.796875 -1.421875 13.15625 6.1875 \nQ 5.515625 13.8125 5.515625 26.8125 \nQ 5.515625 40.234375 12.765625 48.109375 \nQ 20.015625 56 32.328125 56 \nQ 43.359375 56 49.78125 48.890625 \nQ 56.203125 41.796875 56.203125 29.59375 \nz\nM 47.21875 32.234375 \nQ 47.125 39.59375 43.09375 43.984375 \nQ 39.0625 48.390625 32.421875 48.390625 \nQ 24.90625 48.390625 20.390625 44.140625 \nQ 15.875 39.890625 15.1875 32.171875 \nz\n\" id=\"DejaVuSans-101\"/>\n      <path d=\"M 14.796875 27.296875 \nQ 14.796875 17.390625 18.875 11.75 \nQ 22.953125 6.109375 30.078125 6.109375 \nQ 37.203125 6.109375 41.296875 11.75 \nQ 45.40625 17.390625 45.40625 27.296875 \nQ 45.40625 37.203125 41.296875 42.84375 \nQ 37.203125 48.484375 30.078125 48.484375 \nQ 22.953125 48.484375 18.875 42.84375 \nQ 14.796875 37.203125 14.796875 27.296875 \nz\nM 45.40625 8.203125 \nQ 42.578125 3.328125 38.25 0.953125 \nQ 33.9375 -1.421875 27.875 -1.421875 \nQ 17.96875 -1.421875 11.734375 6.484375 \nQ 5.515625 14.40625 5.515625 27.296875 \nQ 5.515625 40.1875 11.734375 48.09375 \nQ 17.96875 56 27.875 56 \nQ 33.9375 56 38.25 53.625 \nQ 42.578125 51.265625 45.40625 46.390625 \nL 45.40625 54.6875 \nL 54.390625 54.6875 \nL 54.390625 -20.796875 \nL 45.40625 -20.796875 \nz\n\" id=\"DejaVuSans-113\"/>\n      <path d=\"M 8.5 21.578125 \nL 8.5 54.6875 \nL 17.484375 54.6875 \nL 17.484375 21.921875 \nQ 17.484375 14.15625 20.5 10.265625 \nQ 23.53125 6.390625 29.59375 6.390625 \nQ 36.859375 6.390625 41.078125 11.03125 \nQ 45.3125 15.671875 45.3125 23.6875 \nL 45.3125 54.6875 \nL 54.296875 54.6875 \nL 54.296875 0 \nL 45.3125 0 \nL 45.3125 8.40625 \nQ 42.046875 3.421875 37.71875 1 \nQ 33.40625 -1.421875 27.6875 -1.421875 \nQ 18.265625 -1.421875 13.375 4.4375 \nQ 8.5 10.296875 8.5 21.578125 \nz\nM 31.109375 56 \nz\n\" id=\"DejaVuSans-117\"/>\n      <path d=\"M 54.890625 33.015625 \nL 54.890625 0 \nL 45.90625 0 \nL 45.90625 32.71875 \nQ 45.90625 40.484375 42.875 44.328125 \nQ 39.84375 48.1875 33.796875 48.1875 \nQ 26.515625 48.1875 22.3125 43.546875 \nQ 18.109375 38.921875 18.109375 30.90625 \nL 18.109375 0 \nL 9.078125 0 \nL 9.078125 54.6875 \nL 18.109375 54.6875 \nL 18.109375 46.1875 \nQ 21.34375 51.125 25.703125 53.5625 \nQ 30.078125 56 35.796875 56 \nQ 45.21875 56 50.046875 50.171875 \nQ 54.890625 44.34375 54.890625 33.015625 \nz\n\" id=\"DejaVuSans-110\"/>\n      <path d=\"M 48.78125 52.59375 \nL 48.78125 44.1875 \nQ 44.96875 46.296875 41.140625 47.34375 \nQ 37.3125 48.390625 33.40625 48.390625 \nQ 24.65625 48.390625 19.8125 42.84375 \nQ 14.984375 37.3125 14.984375 27.296875 \nQ 14.984375 17.28125 19.8125 11.734375 \nQ 24.65625 6.203125 33.40625 6.203125 \nQ 37.3125 6.203125 41.140625 7.25 \nQ 44.96875 8.296875 48.78125 10.40625 \nL 48.78125 2.09375 \nQ 45.015625 0.34375 40.984375 -0.53125 \nQ 36.96875 -1.421875 32.421875 -1.421875 \nQ 20.0625 -1.421875 12.78125 6.34375 \nQ 5.515625 14.109375 5.515625 27.296875 \nQ 5.515625 40.671875 12.859375 48.328125 \nQ 20.21875 56 33.015625 56 \nQ 37.15625 56 41.109375 55.140625 \nQ 45.0625 54.296875 48.78125 52.59375 \nz\n\" id=\"DejaVuSans-99\"/>\n      <path d=\"M 32.171875 -5.078125 \nQ 28.375 -14.84375 24.75 -17.8125 \nQ 21.140625 -20.796875 15.09375 -20.796875 \nL 7.90625 -20.796875 \nL 7.90625 -13.28125 \nL 13.1875 -13.28125 \nQ 16.890625 -13.28125 18.9375 -11.515625 \nQ 21 -9.765625 23.484375 -3.21875 \nL 25.09375 0.875 \nL 2.984375 54.6875 \nL 12.5 54.6875 \nL 29.59375 11.921875 \nL 46.6875 54.6875 \nL 56.203125 54.6875 \nz\n\" id=\"DejaVuSans-121\"/>\n     </defs>\n     <g transform=\"translate(14.798438 141.749687)rotate(-90)scale(0.1 -0.1)\">\n      <use xlink:href=\"#DejaVuSans-70\"/>\n      <use x=\"50.269531\" xlink:href=\"#DejaVuSans-114\"/>\n      <use x=\"89.132812\" xlink:href=\"#DejaVuSans-101\"/>\n      <use x=\"150.65625\" xlink:href=\"#DejaVuSans-113\"/>\n      <use x=\"214.132812\" xlink:href=\"#DejaVuSans-117\"/>\n      <use x=\"277.511719\" xlink:href=\"#DejaVuSans-101\"/>\n      <use x=\"339.035156\" xlink:href=\"#DejaVuSans-110\"/>\n      <use x=\"402.414062\" xlink:href=\"#DejaVuSans-99\"/>\n      <use x=\"457.394531\" xlink:href=\"#DejaVuSans-121\"/>\n     </g>\n    </g>\n   </g>\n   <g id=\"patch_23\">\n    <path d=\"M 46.965625 224.64 \nL 46.965625 7.2 \n\" style=\"fill:none;stroke:#000000;stroke-linecap:square;stroke-linejoin:miter;stroke-width:0.8;\"/>\n   </g>\n   <g id=\"patch_24\">\n    <path d=\"M 381.765625 224.64 \nL 381.765625 7.2 \n\" style=\"fill:none;stroke:#000000;stroke-linecap:square;stroke-linejoin:miter;stroke-width:0.8;\"/>\n   </g>\n   <g id=\"patch_25\">\n    <path d=\"M 46.965625 224.64 \nL 381.765625 224.64 \n\" style=\"fill:none;stroke:#000000;stroke-linecap:square;stroke-linejoin:miter;stroke-width:0.8;\"/>\n   </g>\n   <g id=\"patch_26\">\n    <path d=\"M 46.965625 7.2 \nL 381.765625 7.2 \n\" style=\"fill:none;stroke:#000000;stroke-linecap:square;stroke-linejoin:miter;stroke-width:0.8;\"/>\n   </g>\n  </g>\n </g>\n <defs>\n  <clipPath id=\"paf1371cdd2\">\n   <rect height=\"217.44\" width=\"334.8\" x=\"46.965625\" y=\"7.2\"/>\n  </clipPath>\n </defs>\n</svg>\n"
          },
          "metadata": {
            "needs_background": "light"
          }
        }
      ]
    },
    {
      "cell_type": "code",
      "source": [
        "data['charges'].plot(kind='hist',bins=20)"
      ],
      "metadata": {
        "colab": {
          "base_uri": "https://localhost:8080/",
          "height": 373
        },
        "id": "It-2Jac2YgMF",
        "outputId": "39a99246-850f-440a-81ea-185b550b9139"
      },
      "execution_count": 5,
      "outputs": [
        {
          "output_type": "execute_result",
          "data": {
            "text/plain": [
              "<matplotlib.axes._subplots.AxesSubplot at 0x7fe298649d90>"
            ]
          },
          "metadata": {},
          "execution_count": 5
        },
        {
          "output_type": "display_data",
          "data": {
            "text/plain": [
              "<Figure size 432x288 with 1 Axes>"
            ],
            "image/svg+xml": "<?xml version=\"1.0\" encoding=\"utf-8\" standalone=\"no\"?>\n<!DOCTYPE svg PUBLIC \"-//W3C//DTD SVG 1.1//EN\"\n  \"http://www.w3.org/Graphics/SVG/1.1/DTD/svg11.dtd\">\n<!-- Created with matplotlib (https://matplotlib.org/) -->\n<svg height=\"251.343247pt\" version=\"1.1\" viewBox=\"0 0 388.965625 251.343247\" width=\"388.965625pt\" xmlns=\"http://www.w3.org/2000/svg\" xmlns:xlink=\"http://www.w3.org/1999/xlink\">\n <defs>\n  <style type=\"text/css\">\n*{stroke-linecap:butt;stroke-linejoin:round;}\n  </style>\n </defs>\n <g id=\"figure_1\">\n  <g id=\"patch_1\">\n   <path d=\"M 0 251.343247 \nL 388.965625 251.343247 \nL 388.965625 0 \nL 0 0 \nz\n\" style=\"fill:none;\"/>\n  </g>\n  <g id=\"axes_1\">\n   <g id=\"patch_2\">\n    <path d=\"M 46.965625 227.465122 \nL 381.765625 227.465122 \nL 381.765625 10.025122 \nL 46.965625 10.025122 \nz\n\" style=\"fill:#ffffff;\"/>\n   </g>\n   <g id=\"patch_3\">\n    <path clip-path=\"url(#p10e2841970)\" d=\"M 62.183807 227.465122 \nL 77.401989 227.465122 \nL 77.401989 20.379408 \nL 62.183807 20.379408 \nz\n\" style=\"fill:#1f77b4;\"/>\n   </g>\n   <g id=\"patch_4\">\n    <path clip-path=\"url(#p10e2841970)\" d=\"M 77.401989 227.465122 \nL 92.62017 227.465122 \nL 92.62017 47.798422 \nL 77.401989 47.798422 \nz\n\" style=\"fill:#1f77b4;\"/>\n   </g>\n   <g id=\"patch_5\">\n    <path clip-path=\"url(#p10e2841970)\" d=\"M 92.62017 227.465122 \nL 107.838352 227.465122 \nL 107.838352 79.546755 \nL 92.62017 79.546755 \nz\n\" style=\"fill:#1f77b4;\"/>\n   </g>\n   <g id=\"patch_6\">\n    <path clip-path=\"url(#p10e2841970)\" d=\"M 107.838352 227.465122 \nL 123.056534 227.465122 \nL 123.056534 88.205391 \nL 107.838352 88.205391 \nz\n\" style=\"fill:#1f77b4;\"/>\n   </g>\n   <g id=\"patch_7\">\n    <path clip-path=\"url(#p10e2841970)\" d=\"M 123.056534 227.465122 \nL 138.274716 227.465122 \nL 138.274716 176.234858 \nL 123.056534 176.234858 \nz\n\" style=\"fill:#1f77b4;\"/>\n   </g>\n   <g id=\"patch_8\">\n    <path clip-path=\"url(#p10e2841970)\" d=\"M 138.274716 227.465122 \nL 153.492898 227.465122 \nL 153.492898 185.615048 \nL 138.274716 185.615048 \nz\n\" style=\"fill:#1f77b4;\"/>\n   </g>\n   <g id=\"patch_9\">\n    <path clip-path=\"url(#p10e2841970)\" d=\"M 153.492898 227.465122 \nL 168.71108 227.465122 \nL 168.71108 194.273684 \nL 153.492898 194.273684 \nz\n\" style=\"fill:#1f77b4;\"/>\n   </g>\n   <g id=\"patch_10\">\n    <path clip-path=\"url(#p10e2841970)\" d=\"M 168.71108 227.465122 \nL 183.929261 227.465122 \nL 183.929261 198.603002 \nL 168.71108 198.603002 \nz\n\" style=\"fill:#1f77b4;\"/>\n   </g>\n   <g id=\"patch_11\">\n    <path clip-path=\"url(#p10e2841970)\" d=\"M 183.929261 227.465122 \nL 199.147443 227.465122 \nL 199.147443 209.426297 \nL 183.929261 209.426297 \nz\n\" style=\"fill:#1f77b4;\"/>\n   </g>\n   <g id=\"patch_12\">\n    <path clip-path=\"url(#p10e2841970)\" d=\"M 199.147443 227.465122 \nL 214.365625 227.465122 \nL 214.365625 220.249592 \nL 199.147443 220.249592 \nz\n\" style=\"fill:#1f77b4;\"/>\n   </g>\n   <g id=\"patch_13\">\n    <path clip-path=\"url(#p10e2841970)\" d=\"M 214.365625 227.465122 \nL 229.583807 227.465122 \nL 229.583807 209.426297 \nL 214.365625 209.426297 \nz\n\" style=\"fill:#1f77b4;\"/>\n   </g>\n   <g id=\"patch_14\">\n    <path clip-path=\"url(#p10e2841970)\" d=\"M 229.583807 227.465122 \nL 244.801989 227.465122 \nL 244.801989 202.93232 \nL 229.583807 202.93232 \nz\n\" style=\"fill:#1f77b4;\"/>\n   </g>\n   <g id=\"patch_15\">\n    <path clip-path=\"url(#p10e2841970)\" d=\"M 244.801989 227.465122 \nL 260.02017 227.465122 \nL 260.02017 205.818532 \nL 244.801989 205.818532 \nz\n\" style=\"fill:#1f77b4;\"/>\n   </g>\n   <g id=\"patch_16\">\n    <path clip-path=\"url(#p10e2841970)\" d=\"M 260.02017 227.465122 \nL 275.238352 227.465122 \nL 275.238352 207.983191 \nL 260.02017 207.983191 \nz\n\" style=\"fill:#1f77b4;\"/>\n   </g>\n   <g id=\"patch_17\">\n    <path clip-path=\"url(#p10e2841970)\" d=\"M 275.238352 227.465122 \nL 290.456534 227.465122 \nL 290.456534 211.590956 \nL 275.238352 211.590956 \nz\n\" style=\"fill:#1f77b4;\"/>\n   </g>\n   <g id=\"patch_18\">\n    <path clip-path=\"url(#p10e2841970)\" d=\"M 290.456534 227.465122 \nL 305.674716 227.465122 \nL 305.674716 220.249592 \nL 290.456534 220.249592 \nz\n\" style=\"fill:#1f77b4;\"/>\n   </g>\n   <g id=\"patch_19\">\n    <path clip-path=\"url(#p10e2841970)\" d=\"M 305.674716 227.465122 \nL 320.892898 227.465122 \nL 320.892898 226.743569 \nL 305.674716 226.743569 \nz\n\" style=\"fill:#1f77b4;\"/>\n   </g>\n   <g id=\"patch_20\">\n    <path clip-path=\"url(#p10e2841970)\" d=\"M 320.892898 227.465122 \nL 336.11108 227.465122 \nL 336.11108 226.743569 \nL 320.892898 226.743569 \nz\n\" style=\"fill:#1f77b4;\"/>\n   </g>\n   <g id=\"patch_21\">\n    <path clip-path=\"url(#p10e2841970)\" d=\"M 336.11108 227.465122 \nL 351.329261 227.465122 \nL 351.329261 226.022016 \nL 336.11108 226.022016 \nz\n\" style=\"fill:#1f77b4;\"/>\n   </g>\n   <g id=\"patch_22\">\n    <path clip-path=\"url(#p10e2841970)\" d=\"M 351.329261 227.465122 \nL 366.547443 227.465122 \nL 366.547443 226.022016 \nL 351.329261 226.022016 \nz\n\" style=\"fill:#1f77b4;\"/>\n   </g>\n   <g id=\"matplotlib.axis_1\">\n    <g id=\"xtick_1\">\n     <g id=\"line2d_1\">\n      <defs>\n       <path d=\"M 0 0 \nL 0 3.5 \n\" id=\"mffc23c701a\" style=\"stroke:#000000;stroke-width:0.8;\"/>\n      </defs>\n      <g>\n       <use style=\"stroke:#000000;stroke-width:0.8;\" x=\"56.73344\" xlink:href=\"#mffc23c701a\" y=\"227.465122\"/>\n      </g>\n     </g>\n     <g id=\"text_1\">\n      <!-- 0 -->\n      <defs>\n       <path d=\"M 31.78125 66.40625 \nQ 24.171875 66.40625 20.328125 58.90625 \nQ 16.5 51.421875 16.5 36.375 \nQ 16.5 21.390625 20.328125 13.890625 \nQ 24.171875 6.390625 31.78125 6.390625 \nQ 39.453125 6.390625 43.28125 13.890625 \nQ 47.125 21.390625 47.125 36.375 \nQ 47.125 51.421875 43.28125 58.90625 \nQ 39.453125 66.40625 31.78125 66.40625 \nz\nM 31.78125 74.21875 \nQ 44.046875 74.21875 50.515625 64.515625 \nQ 56.984375 54.828125 56.984375 36.375 \nQ 56.984375 17.96875 50.515625 8.265625 \nQ 44.046875 -1.421875 31.78125 -1.421875 \nQ 19.53125 -1.421875 13.0625 8.265625 \nQ 6.59375 17.96875 6.59375 36.375 \nQ 6.59375 54.828125 13.0625 64.515625 \nQ 19.53125 74.21875 31.78125 74.21875 \nz\n\" id=\"DejaVuSans-48\"/>\n      </defs>\n      <g transform=\"translate(53.55219 242.06356)scale(0.1 -0.1)\">\n       <use xlink:href=\"#DejaVuSans-48\"/>\n      </g>\n     </g>\n    </g>\n    <g id=\"xtick_2\">\n     <g id=\"line2d_2\">\n      <g>\n       <use style=\"stroke:#000000;stroke-width:0.8;\" x=\"105.316147\" xlink:href=\"#mffc23c701a\" y=\"227.465122\"/>\n      </g>\n     </g>\n     <g id=\"text_2\">\n      <!-- 10000 -->\n      <defs>\n       <path d=\"M 12.40625 8.296875 \nL 28.515625 8.296875 \nL 28.515625 63.921875 \nL 10.984375 60.40625 \nL 10.984375 69.390625 \nL 28.421875 72.90625 \nL 38.28125 72.90625 \nL 38.28125 8.296875 \nL 54.390625 8.296875 \nL 54.390625 0 \nL 12.40625 0 \nz\n\" id=\"DejaVuSans-49\"/>\n      </defs>\n      <g transform=\"translate(89.409897 242.06356)scale(0.1 -0.1)\">\n       <use xlink:href=\"#DejaVuSans-49\"/>\n       <use x=\"63.623047\" xlink:href=\"#DejaVuSans-48\"/>\n       <use x=\"127.246094\" xlink:href=\"#DejaVuSans-48\"/>\n       <use x=\"190.869141\" xlink:href=\"#DejaVuSans-48\"/>\n       <use x=\"254.492188\" xlink:href=\"#DejaVuSans-48\"/>\n      </g>\n     </g>\n    </g>\n    <g id=\"xtick_3\">\n     <g id=\"line2d_3\">\n      <g>\n       <use style=\"stroke:#000000;stroke-width:0.8;\" x=\"153.898854\" xlink:href=\"#mffc23c701a\" y=\"227.465122\"/>\n      </g>\n     </g>\n     <g id=\"text_3\">\n      <!-- 20000 -->\n      <defs>\n       <path d=\"M 19.1875 8.296875 \nL 53.609375 8.296875 \nL 53.609375 0 \nL 7.328125 0 \nL 7.328125 8.296875 \nQ 12.9375 14.109375 22.625 23.890625 \nQ 32.328125 33.6875 34.8125 36.53125 \nQ 39.546875 41.84375 41.421875 45.53125 \nQ 43.3125 49.21875 43.3125 52.78125 \nQ 43.3125 58.59375 39.234375 62.25 \nQ 35.15625 65.921875 28.609375 65.921875 \nQ 23.96875 65.921875 18.8125 64.3125 \nQ 13.671875 62.703125 7.8125 59.421875 \nL 7.8125 69.390625 \nQ 13.765625 71.78125 18.9375 73 \nQ 24.125 74.21875 28.421875 74.21875 \nQ 39.75 74.21875 46.484375 68.546875 \nQ 53.21875 62.890625 53.21875 53.421875 \nQ 53.21875 48.921875 51.53125 44.890625 \nQ 49.859375 40.875 45.40625 35.40625 \nQ 44.1875 33.984375 37.640625 27.21875 \nQ 31.109375 20.453125 19.1875 8.296875 \nz\n\" id=\"DejaVuSans-50\"/>\n      </defs>\n      <g transform=\"translate(137.992604 242.06356)scale(0.1 -0.1)\">\n       <use xlink:href=\"#DejaVuSans-50\"/>\n       <use x=\"63.623047\" xlink:href=\"#DejaVuSans-48\"/>\n       <use x=\"127.246094\" xlink:href=\"#DejaVuSans-48\"/>\n       <use x=\"190.869141\" xlink:href=\"#DejaVuSans-48\"/>\n       <use x=\"254.492188\" xlink:href=\"#DejaVuSans-48\"/>\n      </g>\n     </g>\n    </g>\n    <g id=\"xtick_4\">\n     <g id=\"line2d_4\">\n      <g>\n       <use style=\"stroke:#000000;stroke-width:0.8;\" x=\"202.481561\" xlink:href=\"#mffc23c701a\" y=\"227.465122\"/>\n      </g>\n     </g>\n     <g id=\"text_4\">\n      <!-- 30000 -->\n      <defs>\n       <path d=\"M 40.578125 39.3125 \nQ 47.65625 37.796875 51.625 33 \nQ 55.609375 28.21875 55.609375 21.1875 \nQ 55.609375 10.40625 48.1875 4.484375 \nQ 40.765625 -1.421875 27.09375 -1.421875 \nQ 22.515625 -1.421875 17.65625 -0.515625 \nQ 12.796875 0.390625 7.625 2.203125 \nL 7.625 11.71875 \nQ 11.71875 9.328125 16.59375 8.109375 \nQ 21.484375 6.890625 26.8125 6.890625 \nQ 36.078125 6.890625 40.9375 10.546875 \nQ 45.796875 14.203125 45.796875 21.1875 \nQ 45.796875 27.640625 41.28125 31.265625 \nQ 36.765625 34.90625 28.71875 34.90625 \nL 20.21875 34.90625 \nL 20.21875 43.015625 \nL 29.109375 43.015625 \nQ 36.375 43.015625 40.234375 45.921875 \nQ 44.09375 48.828125 44.09375 54.296875 \nQ 44.09375 59.90625 40.109375 62.90625 \nQ 36.140625 65.921875 28.71875 65.921875 \nQ 24.65625 65.921875 20.015625 65.03125 \nQ 15.375 64.15625 9.8125 62.3125 \nL 9.8125 71.09375 \nQ 15.4375 72.65625 20.34375 73.4375 \nQ 25.25 74.21875 29.59375 74.21875 \nQ 40.828125 74.21875 47.359375 69.109375 \nQ 53.90625 64.015625 53.90625 55.328125 \nQ 53.90625 49.265625 50.4375 45.09375 \nQ 46.96875 40.921875 40.578125 39.3125 \nz\n\" id=\"DejaVuSans-51\"/>\n      </defs>\n      <g transform=\"translate(186.575311 242.06356)scale(0.1 -0.1)\">\n       <use xlink:href=\"#DejaVuSans-51\"/>\n       <use x=\"63.623047\" xlink:href=\"#DejaVuSans-48\"/>\n       <use x=\"127.246094\" xlink:href=\"#DejaVuSans-48\"/>\n       <use x=\"190.869141\" xlink:href=\"#DejaVuSans-48\"/>\n       <use x=\"254.492188\" xlink:href=\"#DejaVuSans-48\"/>\n      </g>\n     </g>\n    </g>\n    <g id=\"xtick_5\">\n     <g id=\"line2d_5\">\n      <g>\n       <use style=\"stroke:#000000;stroke-width:0.8;\" x=\"251.064269\" xlink:href=\"#mffc23c701a\" y=\"227.465122\"/>\n      </g>\n     </g>\n     <g id=\"text_5\">\n      <!-- 40000 -->\n      <defs>\n       <path d=\"M 37.796875 64.3125 \nL 12.890625 25.390625 \nL 37.796875 25.390625 \nz\nM 35.203125 72.90625 \nL 47.609375 72.90625 \nL 47.609375 25.390625 \nL 58.015625 25.390625 \nL 58.015625 17.1875 \nL 47.609375 17.1875 \nL 47.609375 0 \nL 37.796875 0 \nL 37.796875 17.1875 \nL 4.890625 17.1875 \nL 4.890625 26.703125 \nz\n\" id=\"DejaVuSans-52\"/>\n      </defs>\n      <g transform=\"translate(235.158019 242.06356)scale(0.1 -0.1)\">\n       <use xlink:href=\"#DejaVuSans-52\"/>\n       <use x=\"63.623047\" xlink:href=\"#DejaVuSans-48\"/>\n       <use x=\"127.246094\" xlink:href=\"#DejaVuSans-48\"/>\n       <use x=\"190.869141\" xlink:href=\"#DejaVuSans-48\"/>\n       <use x=\"254.492188\" xlink:href=\"#DejaVuSans-48\"/>\n      </g>\n     </g>\n    </g>\n    <g id=\"xtick_6\">\n     <g id=\"line2d_6\">\n      <g>\n       <use style=\"stroke:#000000;stroke-width:0.8;\" x=\"299.646976\" xlink:href=\"#mffc23c701a\" y=\"227.465122\"/>\n      </g>\n     </g>\n     <g id=\"text_6\">\n      <!-- 50000 -->\n      <defs>\n       <path d=\"M 10.796875 72.90625 \nL 49.515625 72.90625 \nL 49.515625 64.59375 \nL 19.828125 64.59375 \nL 19.828125 46.734375 \nQ 21.96875 47.46875 24.109375 47.828125 \nQ 26.265625 48.1875 28.421875 48.1875 \nQ 40.625 48.1875 47.75 41.5 \nQ 54.890625 34.8125 54.890625 23.390625 \nQ 54.890625 11.625 47.5625 5.09375 \nQ 40.234375 -1.421875 26.90625 -1.421875 \nQ 22.3125 -1.421875 17.546875 -0.640625 \nQ 12.796875 0.140625 7.71875 1.703125 \nL 7.71875 11.625 \nQ 12.109375 9.234375 16.796875 8.0625 \nQ 21.484375 6.890625 26.703125 6.890625 \nQ 35.15625 6.890625 40.078125 11.328125 \nQ 45.015625 15.765625 45.015625 23.390625 \nQ 45.015625 31 40.078125 35.4375 \nQ 35.15625 39.890625 26.703125 39.890625 \nQ 22.75 39.890625 18.8125 39.015625 \nQ 14.890625 38.140625 10.796875 36.28125 \nz\n\" id=\"DejaVuSans-53\"/>\n      </defs>\n      <g transform=\"translate(283.740726 242.06356)scale(0.1 -0.1)\">\n       <use xlink:href=\"#DejaVuSans-53\"/>\n       <use x=\"63.623047\" xlink:href=\"#DejaVuSans-48\"/>\n       <use x=\"127.246094\" xlink:href=\"#DejaVuSans-48\"/>\n       <use x=\"190.869141\" xlink:href=\"#DejaVuSans-48\"/>\n       <use x=\"254.492188\" xlink:href=\"#DejaVuSans-48\"/>\n      </g>\n     </g>\n    </g>\n    <g id=\"xtick_7\">\n     <g id=\"line2d_7\">\n      <g>\n       <use style=\"stroke:#000000;stroke-width:0.8;\" x=\"348.229683\" xlink:href=\"#mffc23c701a\" y=\"227.465122\"/>\n      </g>\n     </g>\n     <g id=\"text_7\">\n      <!-- 60000 -->\n      <defs>\n       <path d=\"M 33.015625 40.375 \nQ 26.375 40.375 22.484375 35.828125 \nQ 18.609375 31.296875 18.609375 23.390625 \nQ 18.609375 15.53125 22.484375 10.953125 \nQ 26.375 6.390625 33.015625 6.390625 \nQ 39.65625 6.390625 43.53125 10.953125 \nQ 47.40625 15.53125 47.40625 23.390625 \nQ 47.40625 31.296875 43.53125 35.828125 \nQ 39.65625 40.375 33.015625 40.375 \nz\nM 52.59375 71.296875 \nL 52.59375 62.3125 \nQ 48.875 64.0625 45.09375 64.984375 \nQ 41.3125 65.921875 37.59375 65.921875 \nQ 27.828125 65.921875 22.671875 59.328125 \nQ 17.53125 52.734375 16.796875 39.40625 \nQ 19.671875 43.65625 24.015625 45.921875 \nQ 28.375 48.1875 33.59375 48.1875 \nQ 44.578125 48.1875 50.953125 41.515625 \nQ 57.328125 34.859375 57.328125 23.390625 \nQ 57.328125 12.15625 50.6875 5.359375 \nQ 44.046875 -1.421875 33.015625 -1.421875 \nQ 20.359375 -1.421875 13.671875 8.265625 \nQ 6.984375 17.96875 6.984375 36.375 \nQ 6.984375 53.65625 15.1875 63.9375 \nQ 23.390625 74.21875 37.203125 74.21875 \nQ 40.921875 74.21875 44.703125 73.484375 \nQ 48.484375 72.75 52.59375 71.296875 \nz\n\" id=\"DejaVuSans-54\"/>\n      </defs>\n      <g transform=\"translate(332.323433 242.06356)scale(0.1 -0.1)\">\n       <use xlink:href=\"#DejaVuSans-54\"/>\n       <use x=\"63.623047\" xlink:href=\"#DejaVuSans-48\"/>\n       <use x=\"127.246094\" xlink:href=\"#DejaVuSans-48\"/>\n       <use x=\"190.869141\" xlink:href=\"#DejaVuSans-48\"/>\n       <use x=\"254.492188\" xlink:href=\"#DejaVuSans-48\"/>\n      </g>\n     </g>\n    </g>\n   </g>\n   <g id=\"matplotlib.axis_2\">\n    <g id=\"ytick_1\">\n     <g id=\"line2d_8\">\n      <defs>\n       <path d=\"M 0 0 \nL -3.5 0 \n\" id=\"m1e9620231f\" style=\"stroke:#000000;stroke-width:0.8;\"/>\n      </defs>\n      <g>\n       <use style=\"stroke:#000000;stroke-width:0.8;\" x=\"46.965625\" xlink:href=\"#m1e9620231f\" y=\"227.465122\"/>\n      </g>\n     </g>\n     <g id=\"text_8\">\n      <!-- 0 -->\n      <g transform=\"translate(33.603125 231.264341)scale(0.1 -0.1)\">\n       <use xlink:href=\"#DejaVuSans-48\"/>\n      </g>\n     </g>\n    </g>\n    <g id=\"ytick_2\">\n     <g id=\"line2d_9\">\n      <g>\n       <use style=\"stroke:#000000;stroke-width:0.8;\" x=\"46.965625\" xlink:href=\"#m1e9620231f\" y=\"191.387472\"/>\n      </g>\n     </g>\n     <g id=\"text_9\">\n      <!-- 50 -->\n      <g transform=\"translate(27.240625 195.18669)scale(0.1 -0.1)\">\n       <use xlink:href=\"#DejaVuSans-53\"/>\n       <use x=\"63.623047\" xlink:href=\"#DejaVuSans-48\"/>\n      </g>\n     </g>\n    </g>\n    <g id=\"ytick_3\">\n     <g id=\"line2d_10\">\n      <g>\n       <use style=\"stroke:#000000;stroke-width:0.8;\" x=\"46.965625\" xlink:href=\"#m1e9620231f\" y=\"155.309821\"/>\n      </g>\n     </g>\n     <g id=\"text_10\">\n      <!-- 100 -->\n      <g transform=\"translate(20.878125 159.10904)scale(0.1 -0.1)\">\n       <use xlink:href=\"#DejaVuSans-49\"/>\n       <use x=\"63.623047\" xlink:href=\"#DejaVuSans-48\"/>\n       <use x=\"127.246094\" xlink:href=\"#DejaVuSans-48\"/>\n      </g>\n     </g>\n    </g>\n    <g id=\"ytick_4\">\n     <g id=\"line2d_11\">\n      <g>\n       <use style=\"stroke:#000000;stroke-width:0.8;\" x=\"46.965625\" xlink:href=\"#m1e9620231f\" y=\"119.23217\"/>\n      </g>\n     </g>\n     <g id=\"text_11\">\n      <!-- 150 -->\n      <g transform=\"translate(20.878125 123.031389)scale(0.1 -0.1)\">\n       <use xlink:href=\"#DejaVuSans-49\"/>\n       <use x=\"63.623047\" xlink:href=\"#DejaVuSans-53\"/>\n       <use x=\"127.246094\" xlink:href=\"#DejaVuSans-48\"/>\n      </g>\n     </g>\n    </g>\n    <g id=\"ytick_5\">\n     <g id=\"line2d_12\">\n      <g>\n       <use style=\"stroke:#000000;stroke-width:0.8;\" x=\"46.965625\" xlink:href=\"#m1e9620231f\" y=\"83.15452\"/>\n      </g>\n     </g>\n     <g id=\"text_12\">\n      <!-- 200 -->\n      <g transform=\"translate(20.878125 86.953739)scale(0.1 -0.1)\">\n       <use xlink:href=\"#DejaVuSans-50\"/>\n       <use x=\"63.623047\" xlink:href=\"#DejaVuSans-48\"/>\n       <use x=\"127.246094\" xlink:href=\"#DejaVuSans-48\"/>\n      </g>\n     </g>\n    </g>\n    <g id=\"ytick_6\">\n     <g id=\"line2d_13\">\n      <g>\n       <use style=\"stroke:#000000;stroke-width:0.8;\" x=\"46.965625\" xlink:href=\"#m1e9620231f\" y=\"47.076869\"/>\n      </g>\n     </g>\n     <g id=\"text_13\">\n      <!-- 250 -->\n      <g transform=\"translate(20.878125 50.876088)scale(0.1 -0.1)\">\n       <use xlink:href=\"#DejaVuSans-50\"/>\n       <use x=\"63.623047\" xlink:href=\"#DejaVuSans-53\"/>\n       <use x=\"127.246094\" xlink:href=\"#DejaVuSans-48\"/>\n      </g>\n     </g>\n    </g>\n    <g id=\"ytick_7\">\n     <g id=\"line2d_14\">\n      <g>\n       <use style=\"stroke:#000000;stroke-width:0.8;\" x=\"46.965625\" xlink:href=\"#m1e9620231f\" y=\"10.999219\"/>\n      </g>\n     </g>\n     <g id=\"text_14\">\n      <!-- 300 -->\n      <g transform=\"translate(20.878125 14.798437)scale(0.1 -0.1)\">\n       <use xlink:href=\"#DejaVuSans-51\"/>\n       <use x=\"63.623047\" xlink:href=\"#DejaVuSans-48\"/>\n       <use x=\"127.246094\" xlink:href=\"#DejaVuSans-48\"/>\n      </g>\n     </g>\n    </g>\n    <g id=\"text_15\">\n     <!-- Frequency -->\n     <defs>\n      <path d=\"M 9.8125 72.90625 \nL 51.703125 72.90625 \nL 51.703125 64.59375 \nL 19.671875 64.59375 \nL 19.671875 43.109375 \nL 48.578125 43.109375 \nL 48.578125 34.8125 \nL 19.671875 34.8125 \nL 19.671875 0 \nL 9.8125 0 \nz\n\" id=\"DejaVuSans-70\"/>\n      <path d=\"M 41.109375 46.296875 \nQ 39.59375 47.171875 37.8125 47.578125 \nQ 36.03125 48 33.890625 48 \nQ 26.265625 48 22.1875 43.046875 \nQ 18.109375 38.09375 18.109375 28.8125 \nL 18.109375 0 \nL 9.078125 0 \nL 9.078125 54.6875 \nL 18.109375 54.6875 \nL 18.109375 46.1875 \nQ 20.953125 51.171875 25.484375 53.578125 \nQ 30.03125 56 36.53125 56 \nQ 37.453125 56 38.578125 55.875 \nQ 39.703125 55.765625 41.0625 55.515625 \nz\n\" id=\"DejaVuSans-114\"/>\n      <path d=\"M 56.203125 29.59375 \nL 56.203125 25.203125 \nL 14.890625 25.203125 \nQ 15.484375 15.921875 20.484375 11.0625 \nQ 25.484375 6.203125 34.421875 6.203125 \nQ 39.59375 6.203125 44.453125 7.46875 \nQ 49.3125 8.734375 54.109375 11.28125 \nL 54.109375 2.78125 \nQ 49.265625 0.734375 44.1875 -0.34375 \nQ 39.109375 -1.421875 33.890625 -1.421875 \nQ 20.796875 -1.421875 13.15625 6.1875 \nQ 5.515625 13.8125 5.515625 26.8125 \nQ 5.515625 40.234375 12.765625 48.109375 \nQ 20.015625 56 32.328125 56 \nQ 43.359375 56 49.78125 48.890625 \nQ 56.203125 41.796875 56.203125 29.59375 \nz\nM 47.21875 32.234375 \nQ 47.125 39.59375 43.09375 43.984375 \nQ 39.0625 48.390625 32.421875 48.390625 \nQ 24.90625 48.390625 20.390625 44.140625 \nQ 15.875 39.890625 15.1875 32.171875 \nz\n\" id=\"DejaVuSans-101\"/>\n      <path d=\"M 14.796875 27.296875 \nQ 14.796875 17.390625 18.875 11.75 \nQ 22.953125 6.109375 30.078125 6.109375 \nQ 37.203125 6.109375 41.296875 11.75 \nQ 45.40625 17.390625 45.40625 27.296875 \nQ 45.40625 37.203125 41.296875 42.84375 \nQ 37.203125 48.484375 30.078125 48.484375 \nQ 22.953125 48.484375 18.875 42.84375 \nQ 14.796875 37.203125 14.796875 27.296875 \nz\nM 45.40625 8.203125 \nQ 42.578125 3.328125 38.25 0.953125 \nQ 33.9375 -1.421875 27.875 -1.421875 \nQ 17.96875 -1.421875 11.734375 6.484375 \nQ 5.515625 14.40625 5.515625 27.296875 \nQ 5.515625 40.1875 11.734375 48.09375 \nQ 17.96875 56 27.875 56 \nQ 33.9375 56 38.25 53.625 \nQ 42.578125 51.265625 45.40625 46.390625 \nL 45.40625 54.6875 \nL 54.390625 54.6875 \nL 54.390625 -20.796875 \nL 45.40625 -20.796875 \nz\n\" id=\"DejaVuSans-113\"/>\n      <path d=\"M 8.5 21.578125 \nL 8.5 54.6875 \nL 17.484375 54.6875 \nL 17.484375 21.921875 \nQ 17.484375 14.15625 20.5 10.265625 \nQ 23.53125 6.390625 29.59375 6.390625 \nQ 36.859375 6.390625 41.078125 11.03125 \nQ 45.3125 15.671875 45.3125 23.6875 \nL 45.3125 54.6875 \nL 54.296875 54.6875 \nL 54.296875 0 \nL 45.3125 0 \nL 45.3125 8.40625 \nQ 42.046875 3.421875 37.71875 1 \nQ 33.40625 -1.421875 27.6875 -1.421875 \nQ 18.265625 -1.421875 13.375 4.4375 \nQ 8.5 10.296875 8.5 21.578125 \nz\nM 31.109375 56 \nz\n\" id=\"DejaVuSans-117\"/>\n      <path d=\"M 54.890625 33.015625 \nL 54.890625 0 \nL 45.90625 0 \nL 45.90625 32.71875 \nQ 45.90625 40.484375 42.875 44.328125 \nQ 39.84375 48.1875 33.796875 48.1875 \nQ 26.515625 48.1875 22.3125 43.546875 \nQ 18.109375 38.921875 18.109375 30.90625 \nL 18.109375 0 \nL 9.078125 0 \nL 9.078125 54.6875 \nL 18.109375 54.6875 \nL 18.109375 46.1875 \nQ 21.34375 51.125 25.703125 53.5625 \nQ 30.078125 56 35.796875 56 \nQ 45.21875 56 50.046875 50.171875 \nQ 54.890625 44.34375 54.890625 33.015625 \nz\n\" id=\"DejaVuSans-110\"/>\n      <path d=\"M 48.78125 52.59375 \nL 48.78125 44.1875 \nQ 44.96875 46.296875 41.140625 47.34375 \nQ 37.3125 48.390625 33.40625 48.390625 \nQ 24.65625 48.390625 19.8125 42.84375 \nQ 14.984375 37.3125 14.984375 27.296875 \nQ 14.984375 17.28125 19.8125 11.734375 \nQ 24.65625 6.203125 33.40625 6.203125 \nQ 37.3125 6.203125 41.140625 7.25 \nQ 44.96875 8.296875 48.78125 10.40625 \nL 48.78125 2.09375 \nQ 45.015625 0.34375 40.984375 -0.53125 \nQ 36.96875 -1.421875 32.421875 -1.421875 \nQ 20.0625 -1.421875 12.78125 6.34375 \nQ 5.515625 14.109375 5.515625 27.296875 \nQ 5.515625 40.671875 12.859375 48.328125 \nQ 20.21875 56 33.015625 56 \nQ 37.15625 56 41.109375 55.140625 \nQ 45.0625 54.296875 48.78125 52.59375 \nz\n\" id=\"DejaVuSans-99\"/>\n      <path d=\"M 32.171875 -5.078125 \nQ 28.375 -14.84375 24.75 -17.8125 \nQ 21.140625 -20.796875 15.09375 -20.796875 \nL 7.90625 -20.796875 \nL 7.90625 -13.28125 \nL 13.1875 -13.28125 \nQ 16.890625 -13.28125 18.9375 -11.515625 \nQ 21 -9.765625 23.484375 -3.21875 \nL 25.09375 0.875 \nL 2.984375 54.6875 \nL 12.5 54.6875 \nL 29.59375 11.921875 \nL 46.6875 54.6875 \nL 56.203125 54.6875 \nz\n\" id=\"DejaVuSans-121\"/>\n     </defs>\n     <g transform=\"translate(14.798438 144.57481)rotate(-90)scale(0.1 -0.1)\">\n      <use xlink:href=\"#DejaVuSans-70\"/>\n      <use x=\"50.269531\" xlink:href=\"#DejaVuSans-114\"/>\n      <use x=\"89.132812\" xlink:href=\"#DejaVuSans-101\"/>\n      <use x=\"150.65625\" xlink:href=\"#DejaVuSans-113\"/>\n      <use x=\"214.132812\" xlink:href=\"#DejaVuSans-117\"/>\n      <use x=\"277.511719\" xlink:href=\"#DejaVuSans-101\"/>\n      <use x=\"339.035156\" xlink:href=\"#DejaVuSans-110\"/>\n      <use x=\"402.414062\" xlink:href=\"#DejaVuSans-99\"/>\n      <use x=\"457.394531\" xlink:href=\"#DejaVuSans-121\"/>\n     </g>\n    </g>\n   </g>\n   <g id=\"patch_23\">\n    <path d=\"M 46.965625 227.465122 \nL 46.965625 10.025122 \n\" style=\"fill:none;stroke:#000000;stroke-linecap:square;stroke-linejoin:miter;stroke-width:0.8;\"/>\n   </g>\n   <g id=\"patch_24\">\n    <path d=\"M 381.765625 227.465122 \nL 381.765625 10.025122 \n\" style=\"fill:none;stroke:#000000;stroke-linecap:square;stroke-linejoin:miter;stroke-width:0.8;\"/>\n   </g>\n   <g id=\"patch_25\">\n    <path d=\"M 46.965625 227.465122 \nL 381.765625 227.465122 \n\" style=\"fill:none;stroke:#000000;stroke-linecap:square;stroke-linejoin:miter;stroke-width:0.8;\"/>\n   </g>\n   <g id=\"patch_26\">\n    <path d=\"M 46.965625 10.025122 \nL 381.765625 10.025122 \n\" style=\"fill:none;stroke:#000000;stroke-linecap:square;stroke-linejoin:miter;stroke-width:0.8;\"/>\n   </g>\n  </g>\n </g>\n <defs>\n  <clipPath id=\"p10e2841970\">\n   <rect height=\"217.44\" width=\"334.8\" x=\"46.965625\" y=\"10.025122\"/>\n  </clipPath>\n </defs>\n</svg>\n"
          },
          "metadata": {
            "needs_background": "light"
          }
        }
      ]
    },
    {
      "cell_type": "code",
      "source": [
        "from sklearn.preprocessing import MinMaxScaler, OneHotEncoder\n",
        "from sklearn.compose import make_column_transformer"
      ],
      "metadata": {
        "id": "IUkl8l9QYwPE"
      },
      "execution_count": 9,
      "outputs": []
    },
    {
      "cell_type": "code",
      "source": [
        "ct = make_column_transformer(\n",
        "      (MinMaxScaler(),['age','bmi','children']),\n",
        "      (OneHotEncoder(handle_unknown=\"ignore\"),['sex','smoker','region'])\n",
        ")"
      ],
      "metadata": {
        "id": "22PHBWniaCI0"
      },
      "execution_count": 10,
      "outputs": []
    },
    {
      "cell_type": "code",
      "source": [
        "X = data.iloc[:,:-1]\n",
        "y = data.iloc[:,-1]"
      ],
      "metadata": {
        "id": "feaieE0qggW1"
      },
      "execution_count": 12,
      "outputs": []
    },
    {
      "cell_type": "code",
      "source": [
        "X_train, X_test, y_train, y_test = train_test_split(X, y, test_size=0.2) "
      ],
      "metadata": {
        "id": "fVZEfwIsggW1"
      },
      "execution_count": 13,
      "outputs": []
    },
    {
      "cell_type": "code",
      "source": [
        "ct.fit(X_train)"
      ],
      "metadata": {
        "colab": {
          "base_uri": "https://localhost:8080/"
        },
        "id": "vcgndm1S-sqA",
        "outputId": "88e9c2f3-bfde-454e-b473-2537029fd0e9"
      },
      "execution_count": 14,
      "outputs": [
        {
          "output_type": "execute_result",
          "data": {
            "text/plain": [
              "ColumnTransformer(transformers=[('minmaxscaler', MinMaxScaler(),\n",
              "                                 ['age', 'bmi', 'children']),\n",
              "                                ('onehotencoder',\n",
              "                                 OneHotEncoder(handle_unknown='ignore'),\n",
              "                                 ['sex', 'smoker', 'region'])])"
            ]
          },
          "metadata": {},
          "execution_count": 14
        }
      ]
    },
    {
      "cell_type": "code",
      "source": [
        "X_train_normal = ct.transform(X_train)"
      ],
      "metadata": {
        "id": "BRMvJdMj-snh"
      },
      "execution_count": 15,
      "outputs": []
    },
    {
      "cell_type": "code",
      "source": [
        "X_test_normal = ct.transform(X_test)"
      ],
      "metadata": {
        "id": "oLC4LJFO-slF"
      },
      "execution_count": 16,
      "outputs": []
    },
    {
      "cell_type": "code",
      "source": [
        "tf.keras.layers.Dense??"
      ],
      "metadata": {
        "id": "RwBinGFIo8L6"
      },
      "execution_count": 80,
      "outputs": []
    },
    {
      "cell_type": "code",
      "source": [
        "regmodel = tf.keras.Sequential([\n",
        "                             tf.keras.layers.Dense(256,activation='relu'),\n",
        "                             tf.keras.layers.Dense(512,activation='relu'),\n",
        "                             tf.keras.layers.Dense(512,activation='relu'),\n",
        "                             tf.keras.layers.Dense(256,activation='relu'),\n",
        "                             tf.keras.layers.Dense(128,activation='relu'),\n",
        "                             tf.keras.layers.Dense(1)\n",
        "])\n",
        "\n",
        "regmodel.compile(loss = tf.keras.losses.mae,\n",
        "              optimizer = tf.keras.optimizers.Adam(learning_rate = 0.001),\n",
        "              metrics= ['mae'])\n",
        "\n",
        "history = regmodel.fit(X_train_normal, y_train, epochs = 100,verbose=0)"
      ],
      "metadata": {
        "id": "m3Wnom97hL_O"
      },
      "execution_count": 111,
      "outputs": []
    },
    {
      "cell_type": "code",
      "source": [
        "regmodel.summary()"
      ],
      "metadata": {
        "colab": {
          "base_uri": "https://localhost:8080/"
        },
        "outputId": "bc103312-75fc-47e5-dfc8-6b9cf161a7a9",
        "id": "4JSwWaLohL_P"
      },
      "execution_count": 112,
      "outputs": [
        {
          "output_type": "stream",
          "name": "stdout",
          "text": [
            "Model: \"sequential_9\"\n",
            "_________________________________________________________________\n",
            " Layer (type)                Output Shape              Param #   \n",
            "=================================================================\n",
            " dense_38 (Dense)            (None, 256)               3072      \n",
            "                                                                 \n",
            " dense_39 (Dense)            (None, 512)               131584    \n",
            "                                                                 \n",
            " dense_40 (Dense)            (None, 512)               262656    \n",
            "                                                                 \n",
            " dense_41 (Dense)            (None, 256)               131328    \n",
            "                                                                 \n",
            " dense_42 (Dense)            (None, 128)               32896     \n",
            "                                                                 \n",
            " dense_43 (Dense)            (None, 1)                 129       \n",
            "                                                                 \n",
            "=================================================================\n",
            "Total params: 561,665\n",
            "Trainable params: 561,665\n",
            "Non-trainable params: 0\n",
            "_________________________________________________________________\n"
          ]
        }
      ]
    },
    {
      "cell_type": "code",
      "source": [
        "regmodel.evaluate(X_train_normal,y_train)"
      ],
      "metadata": {
        "colab": {
          "base_uri": "https://localhost:8080/"
        },
        "outputId": "be47c5f9-d819-460b-8621-ac1a675bb553",
        "id": "HCh7zmDohL_P"
      },
      "execution_count": 113,
      "outputs": [
        {
          "output_type": "stream",
          "name": "stdout",
          "text": [
            "34/34 [==============================] - 0s 4ms/step - loss: 1647.2174 - mae: 1647.2174\n"
          ]
        },
        {
          "output_type": "execute_result",
          "data": {
            "text/plain": [
              "[1647.2174072265625, 1647.2174072265625]"
            ]
          },
          "metadata": {},
          "execution_count": 113
        }
      ]
    },
    {
      "cell_type": "code",
      "source": [
        "regmodel.evaluate(X_test_normal,y_test)"
      ],
      "metadata": {
        "colab": {
          "base_uri": "https://localhost:8080/"
        },
        "outputId": "f1dab851-ecf1-4a4c-97cd-2dac1a2c1d35",
        "id": "c_H2MtAEhL_P"
      },
      "execution_count": 114,
      "outputs": [
        {
          "output_type": "stream",
          "name": "stdout",
          "text": [
            "9/9 [==============================] - 0s 4ms/step - loss: 1590.6648 - mae: 1590.6648\n"
          ]
        },
        {
          "output_type": "execute_result",
          "data": {
            "text/plain": [
              "[1590.664794921875, 1590.664794921875]"
            ]
          },
          "metadata": {},
          "execution_count": 114
        }
      ]
    },
    {
      "cell_type": "code",
      "source": [
        ""
      ],
      "metadata": {
        "id": "GH_XET_MhL_P"
      },
      "execution_count": 114,
      "outputs": []
    },
    {
      "cell_type": "code",
      "source": [
        "y_test_pred = regmodel.predict(X_test_normal)\n",
        "y_train_pred = regmodel.predict(X_train_normal)"
      ],
      "metadata": {
        "id": "VQ2mu3ajhL_P"
      },
      "execution_count": 115,
      "outputs": []
    },
    {
      "cell_type": "code",
      "source": [
        "y_train.to_numpy()"
      ],
      "metadata": {
        "colab": {
          "base_uri": "https://localhost:8080/"
        },
        "outputId": "7106d8fb-e2ec-409d-9e74-ee669cafeac7",
        "id": "fN2T2AYKhL_Q"
      },
      "execution_count": 116,
      "outputs": [
        {
          "output_type": "execute_result",
          "data": {
            "text/plain": [
              "array([12629.1656 , 22412.6485 ,  1631.8212 , ..., 11482.63485,\n",
              "       39983.42595, 19107.7796 ])"
            ]
          },
          "metadata": {},
          "execution_count": 116
        }
      ]
    },
    {
      "cell_type": "code",
      "source": [
        "np.corrcoef(y_train_pred.squeeze(),y_train.to_numpy())[0][1]"
      ],
      "metadata": {
        "colab": {
          "base_uri": "https://localhost:8080/"
        },
        "outputId": "6e27a6e3-a218-4c67-b85b-5f4e5f0975c6",
        "id": "QX-jovGRhL_Q"
      },
      "execution_count": 117,
      "outputs": [
        {
          "output_type": "execute_result",
          "data": {
            "text/plain": [
              "0.9271694903404035"
            ]
          },
          "metadata": {},
          "execution_count": 117
        }
      ]
    },
    {
      "cell_type": "code",
      "source": [
        "plt.scatter(y_train_pred,y_train)"
      ],
      "metadata": {
        "colab": {
          "base_uri": "https://localhost:8080/",
          "height": 369
        },
        "outputId": "2198bded-fe1d-4a8a-ff87-3dda1b8d2f8e",
        "id": "ylVijr-JhL_Q"
      },
      "execution_count": 118,
      "outputs": [
        {
          "output_type": "execute_result",
          "data": {
            "text/plain": [
              "<matplotlib.collections.PathCollection at 0x7fe285aab710>"
            ]
          },
          "metadata": {},
          "execution_count": 118
        },
        {
          "output_type": "display_data",
          "data": {
            "text/plain": [
              "<Figure size 432x288 with 1 Axes>"
            ],
            "image/svg+xml": "<?xml version=\"1.0\" encoding=\"utf-8\" standalone=\"no\"?>\n<!DOCTYPE svg PUBLIC \"-//W3C//DTD SVG 1.1//EN\"\n  \"http://www.w3.org/Graphics/SVG/1.1/DTD/svg11.dtd\">\n<!-- Created with matplotlib (https://matplotlib.org/) -->\n<svg height=\"248.518125pt\" version=\"1.1\" viewBox=\"0 0 388.0125 248.518125\" width=\"388.0125pt\" xmlns=\"http://www.w3.org/2000/svg\" xmlns:xlink=\"http://www.w3.org/1999/xlink\">\n <defs>\n  <style type=\"text/css\">\n*{stroke-linecap:butt;stroke-linejoin:round;}\n  </style>\n </defs>\n <g id=\"figure_1\">\n  <g id=\"patch_1\">\n   <path d=\"M 0 248.518125 \nL 388.0125 248.518125 \nL 388.0125 0 \nL 0 0 \nz\n\" style=\"fill:none;\"/>\n  </g>\n  <g id=\"axes_1\">\n   <g id=\"patch_2\">\n    <path d=\"M 46.0125 224.64 \nL 380.8125 224.64 \nL 380.8125 7.2 \nL 46.0125 7.2 \nz\n\" style=\"fill:#ffffff;\"/>\n   </g>\n   <g id=\"PathCollection_1\">\n    <defs>\n     <path d=\"M 0 3 \nC 0.795609 3 1.55874 2.683901 2.12132 2.12132 \nC 2.683901 1.55874 3 0.795609 3 0 \nC 3 -0.795609 2.683901 -1.55874 2.12132 -2.12132 \nC 1.55874 -2.683901 0.795609 -3 0 -3 \nC -0.795609 -3 -1.55874 -2.683901 -2.12132 -2.12132 \nC -2.683901 -1.55874 -3 -0.795609 -3 0 \nC -3 0.795609 -2.683901 1.55874 -2.12132 2.12132 \nC -1.55874 2.683901 -0.795609 3 0 3 \nz\n\" id=\"m34174a6854\" style=\"stroke:#1f77b4;\"/>\n    </defs>\n    <g clip-path=\"url(#p0cf492368a)\">\n     <use style=\"fill:#1f77b4;stroke:#1f77b4;\" x=\"130.498286\" xlink:href=\"#m34174a6854\" y=\"178.44782\"/>\n     <use style=\"fill:#1f77b4;stroke:#1f77b4;\" x=\"186.380154\" xlink:href=\"#m34174a6854\" y=\"147.578349\"/>\n     <use style=\"fill:#1f77b4;stroke:#1f77b4;\" x=\"64.61727\" xlink:href=\"#m34174a6854\" y=\"213.147345\"/>\n     <use style=\"fill:#1f77b4;stroke:#1f77b4;\" x=\"322.411824\" xlink:href=\"#m34174a6854\" y=\"67.169151\"/>\n     <use style=\"fill:#1f77b4;stroke:#1f77b4;\" x=\"78.604524\" xlink:href=\"#m34174a6854\" y=\"205.813722\"/>\n     <use style=\"fill:#1f77b4;stroke:#1f77b4;\" x=\"88.007318\" xlink:href=\"#m34174a6854\" y=\"200.46983\"/>\n     <use style=\"fill:#1f77b4;stroke:#1f77b4;\" x=\"68.910318\" xlink:href=\"#m34174a6854\" y=\"210.871935\"/>\n     <use style=\"fill:#1f77b4;stroke:#1f77b4;\" x=\"82.003928\" xlink:href=\"#m34174a6854\" y=\"203.504935\"/>\n     <use style=\"fill:#1f77b4;stroke:#1f77b4;\" x=\"65.036436\" xlink:href=\"#m34174a6854\" y=\"212.515432\"/>\n     <use style=\"fill:#1f77b4;stroke:#1f77b4;\" x=\"124.913868\" xlink:href=\"#m34174a6854\" y=\"180.601413\"/>\n     <use style=\"fill:#1f77b4;stroke:#1f77b4;\" x=\"83.401228\" xlink:href=\"#m34174a6854\" y=\"202.886285\"/>\n     <use style=\"fill:#1f77b4;stroke:#1f77b4;\" x=\"151.037667\" xlink:href=\"#m34174a6854\" y=\"165.988901\"/>\n     <use style=\"fill:#1f77b4;stroke:#1f77b4;\" x=\"128.755399\" xlink:href=\"#m34174a6854\" y=\"178.469863\"/>\n     <use style=\"fill:#1f77b4;stroke:#1f77b4;\" x=\"74.794911\" xlink:href=\"#m34174a6854\" y=\"207.67344\"/>\n     <use style=\"fill:#1f77b4;stroke:#1f77b4;\" x=\"120.417184\" xlink:href=\"#m34174a6854\" y=\"183.292863\"/>\n     <use style=\"fill:#1f77b4;stroke:#1f77b4;\" x=\"120.608447\" xlink:href=\"#m34174a6854\" y=\"182.44368\"/>\n     <use style=\"fill:#1f77b4;stroke:#1f77b4;\" x=\"83.734935\" xlink:href=\"#m34174a6854\" y=\"202.851933\"/>\n     <use style=\"fill:#1f77b4;stroke:#1f77b4;\" x=\"76.794389\" xlink:href=\"#m34174a6854\" y=\"207.000867\"/>\n     <use style=\"fill:#1f77b4;stroke:#1f77b4;\" x=\"71.230293\" xlink:href=\"#m34174a6854\" y=\"209.716126\"/>\n     <use style=\"fill:#1f77b4;stroke:#1f77b4;\" x=\"196.610766\" xlink:href=\"#m34174a6854\" y=\"141.998943\"/>\n     <use style=\"fill:#1f77b4;stroke:#1f77b4;\" x=\"75.556306\" xlink:href=\"#m34174a6854\" y=\"206.794953\"/>\n     <use style=\"fill:#1f77b4;stroke:#1f77b4;\" x=\"74.738379\" xlink:href=\"#m34174a6854\" y=\"207.309959\"/>\n     <use style=\"fill:#1f77b4;stroke:#1f77b4;\" x=\"165.34144\" xlink:href=\"#m34174a6854\" y=\"159.084881\"/>\n     <use style=\"fill:#1f77b4;stroke:#1f77b4;\" x=\"100.839394\" xlink:href=\"#m34174a6854\" y=\"193.845538\"/>\n     <use style=\"fill:#1f77b4;stroke:#1f77b4;\" x=\"209.813112\" xlink:href=\"#m34174a6854\" y=\"132.984415\"/>\n     <use style=\"fill:#1f77b4;stroke:#1f77b4;\" x=\"67.462244\" xlink:href=\"#m34174a6854\" y=\"211.343637\"/>\n     <use style=\"fill:#1f77b4;stroke:#1f77b4;\" x=\"74.408853\" xlink:href=\"#m34174a6854\" y=\"207.432396\"/>\n     <use style=\"fill:#1f77b4;stroke:#1f77b4;\" x=\"88.564277\" xlink:href=\"#m34174a6854\" y=\"200.219648\"/>\n     <use style=\"fill:#1f77b4;stroke:#1f77b4;\" x=\"131.021569\" xlink:href=\"#m34174a6854\" y=\"129.040387\"/>\n     <use style=\"fill:#1f77b4;stroke:#1f77b4;\" x=\"133.156395\" xlink:href=\"#m34174a6854\" y=\"175.818367\"/>\n     <use style=\"fill:#1f77b4;stroke:#1f77b4;\" x=\"131.126208\" xlink:href=\"#m34174a6854\" y=\"176.823808\"/>\n     <use style=\"fill:#1f77b4;stroke:#1f77b4;\" x=\"139.992664\" xlink:href=\"#m34174a6854\" y=\"171.936921\"/>\n     <use style=\"fill:#1f77b4;stroke:#1f77b4;\" x=\"104.599593\" xlink:href=\"#m34174a6854\" y=\"191.703388\"/>\n     <use style=\"fill:#1f77b4;stroke:#1f77b4;\" x=\"107.202084\" xlink:href=\"#m34174a6854\" y=\"190.113089\"/>\n     <use style=\"fill:#1f77b4;stroke:#1f77b4;\" x=\"92.525396\" xlink:href=\"#m34174a6854\" y=\"198.29787\"/>\n     <use style=\"fill:#1f77b4;stroke:#1f77b4;\" x=\"131.881516\" xlink:href=\"#m34174a6854\" y=\"176.035336\"/>\n     <use style=\"fill:#1f77b4;stroke:#1f77b4;\" x=\"94.587532\" xlink:href=\"#m34174a6854\" y=\"196.916226\"/>\n     <use style=\"fill:#1f77b4;stroke:#1f77b4;\" x=\"71.330399\" xlink:href=\"#m34174a6854\" y=\"209.49596\"/>\n     <use style=\"fill:#1f77b4;stroke:#1f77b4;\" x=\"128.669772\" xlink:href=\"#m34174a6854\" y=\"178.41933\"/>\n     <use style=\"fill:#1f77b4;stroke:#1f77b4;\" x=\"139.770254\" xlink:href=\"#m34174a6854\" y=\"118.526721\"/>\n     <use style=\"fill:#1f77b4;stroke:#1f77b4;\" x=\"136.698106\" xlink:href=\"#m34174a6854\" y=\"172.684799\"/>\n     <use style=\"fill:#1f77b4;stroke:#1f77b4;\" x=\"61.230682\" xlink:href=\"#m34174a6854\" y=\"214.707155\"/>\n     <use style=\"fill:#1f77b4;stroke:#1f77b4;\" x=\"131.252839\" xlink:href=\"#m34174a6854\" y=\"177.438168\"/>\n     <use style=\"fill:#1f77b4;stroke:#1f77b4;\" x=\"83.863357\" xlink:href=\"#m34174a6854\" y=\"164.251466\"/>\n     <use style=\"fill:#1f77b4;stroke:#1f77b4;\" x=\"77.281267\" xlink:href=\"#m34174a6854\" y=\"206.155745\"/>\n     <use style=\"fill:#1f77b4;stroke:#1f77b4;\" x=\"117.471886\" xlink:href=\"#m34174a6854\" y=\"184.914391\"/>\n     <use style=\"fill:#1f77b4;stroke:#1f77b4;\" x=\"85.150046\" xlink:href=\"#m34174a6854\" y=\"202.124763\"/>\n     <use style=\"fill:#1f77b4;stroke:#1f77b4;\" x=\"115.301181\" xlink:href=\"#m34174a6854\" y=\"185.321921\"/>\n     <use style=\"fill:#1f77b4;stroke:#1f77b4;\" x=\"73.627725\" xlink:href=\"#m34174a6854\" y=\"207.955864\"/>\n     <use style=\"fill:#1f77b4;stroke:#1f77b4;\" x=\"93.92778\" xlink:href=\"#m34174a6854\" y=\"197.262415\"/>\n     <use style=\"fill:#1f77b4;stroke:#1f77b4;\" x=\"100.066146\" xlink:href=\"#m34174a6854\" y=\"194.209768\"/>\n     <use style=\"fill:#1f77b4;stroke:#1f77b4;\" x=\"78.46143\" xlink:href=\"#m34174a6854\" y=\"205.760546\"/>\n     <use style=\"fill:#1f77b4;stroke:#1f77b4;\" x=\"71.129115\" xlink:href=\"#m34174a6854\" y=\"209.103093\"/>\n     <use style=\"fill:#1f77b4;stroke:#1f77b4;\" x=\"73.58368\" xlink:href=\"#m34174a6854\" y=\"207.982098\"/>\n     <use style=\"fill:#1f77b4;stroke:#1f77b4;\" x=\"82.747019\" xlink:href=\"#m34174a6854\" y=\"203.258114\"/>\n     <use style=\"fill:#1f77b4;stroke:#1f77b4;\" x=\"75.783763\" xlink:href=\"#m34174a6854\" y=\"207.133785\"/>\n     <use style=\"fill:#1f77b4;stroke:#1f77b4;\" x=\"133.570479\" xlink:href=\"#m34174a6854\" y=\"175.332966\"/>\n     <use style=\"fill:#1f77b4;stroke:#1f77b4;\" x=\"227.796152\" xlink:href=\"#m34174a6854\" y=\"105.982689\"/>\n     <use style=\"fill:#1f77b4;stroke:#1f77b4;\" x=\"91.159788\" xlink:href=\"#m34174a6854\" y=\"199.010085\"/>\n     <use style=\"fill:#1f77b4;stroke:#1f77b4;\" x=\"111.300486\" xlink:href=\"#m34174a6854\" y=\"187.612713\"/>\n     <use style=\"fill:#1f77b4;stroke:#1f77b4;\" x=\"130.691882\" xlink:href=\"#m34174a6854\" y=\"176.633165\"/>\n     <use style=\"fill:#1f77b4;stroke:#1f77b4;\" x=\"70.876401\" xlink:href=\"#m34174a6854\" y=\"209.808153\"/>\n     <use style=\"fill:#1f77b4;stroke:#1f77b4;\" x=\"228.02665\" xlink:href=\"#m34174a6854\" y=\"20.799133\"/>\n     <use style=\"fill:#1f77b4;stroke:#1f77b4;\" x=\"80.435098\" xlink:href=\"#m34174a6854\" y=\"204.321862\"/>\n     <use style=\"fill:#1f77b4;stroke:#1f77b4;\" x=\"151.801765\" xlink:href=\"#m34174a6854\" y=\"165.736676\"/>\n     <use style=\"fill:#1f77b4;stroke:#1f77b4;\" x=\"84.199209\" xlink:href=\"#m34174a6854\" y=\"202.815154\"/>\n     <use style=\"fill:#1f77b4;stroke:#1f77b4;\" x=\"182.840216\" xlink:href=\"#m34174a6854\" y=\"150.544833\"/>\n     <use style=\"fill:#1f77b4;stroke:#1f77b4;\" x=\"64.540627\" xlink:href=\"#m34174a6854\" y=\"213.178704\"/>\n     <use style=\"fill:#1f77b4;stroke:#1f77b4;\" x=\"120.0959\" xlink:href=\"#m34174a6854\" y=\"183.812768\"/>\n     <use style=\"fill:#1f77b4;stroke:#1f77b4;\" x=\"131.635077\" xlink:href=\"#m34174a6854\" y=\"176.59275\"/>\n     <use style=\"fill:#1f77b4;stroke:#1f77b4;\" x=\"101.36926\" xlink:href=\"#m34174a6854\" y=\"193.197571\"/>\n     <use style=\"fill:#1f77b4;stroke:#1f77b4;\" x=\"124.768214\" xlink:href=\"#m34174a6854\" y=\"141.852527\"/>\n     <use style=\"fill:#1f77b4;stroke:#1f77b4;\" x=\"124.46029\" xlink:href=\"#m34174a6854\" y=\"180.814463\"/>\n     <use style=\"fill:#1f77b4;stroke:#1f77b4;\" x=\"114.419568\" xlink:href=\"#m34174a6854\" y=\"186.437566\"/>\n     <use style=\"fill:#1f77b4;stroke:#1f77b4;\" x=\"115.202433\" xlink:href=\"#m34174a6854\" y=\"141.066421\"/>\n     <use style=\"fill:#1f77b4;stroke:#1f77b4;\" x=\"180.573142\" xlink:href=\"#m34174a6854\" y=\"156.075329\"/>\n     <use style=\"fill:#1f77b4;stroke:#1f77b4;\" x=\"90.407059\" xlink:href=\"#m34174a6854\" y=\"199.104578\"/>\n     <use style=\"fill:#1f77b4;stroke:#1f77b4;\" x=\"65.805539\" xlink:href=\"#m34174a6854\" y=\"212.089696\"/>\n     <use style=\"fill:#1f77b4;stroke:#1f77b4;\" x=\"93.508594\" xlink:href=\"#m34174a6854\" y=\"197.470291\"/>\n     <use style=\"fill:#1f77b4;stroke:#1f77b4;\" x=\"87.084121\" xlink:href=\"#m34174a6854\" y=\"201.534874\"/>\n     <use style=\"fill:#1f77b4;stroke:#1f77b4;\" x=\"73.002972\" xlink:href=\"#m34174a6854\" y=\"208.32095\"/>\n     <use style=\"fill:#1f77b4;stroke:#1f77b4;\" x=\"99.569617\" xlink:href=\"#m34174a6854\" y=\"194.155961\"/>\n     <use style=\"fill:#1f77b4;stroke:#1f77b4;\" x=\"71.117835\" xlink:href=\"#m34174a6854\" y=\"209.252898\"/>\n     <use style=\"fill:#1f77b4;stroke:#1f77b4;\" x=\"126.838883\" xlink:href=\"#m34174a6854\" y=\"179.729701\"/>\n     <use style=\"fill:#1f77b4;stroke:#1f77b4;\" x=\"122.968669\" xlink:href=\"#m34174a6854\" y=\"181.46121\"/>\n     <use style=\"fill:#1f77b4;stroke:#1f77b4;\" x=\"120.765483\" xlink:href=\"#m34174a6854\" y=\"182.289293\"/>\n     <use style=\"fill:#1f77b4;stroke:#1f77b4;\" x=\"122.927951\" xlink:href=\"#m34174a6854\" y=\"181.84371\"/>\n     <use style=\"fill:#1f77b4;stroke:#1f77b4;\" x=\"134.30057\" xlink:href=\"#m34174a6854\" y=\"175.832753\"/>\n     <use style=\"fill:#1f77b4;stroke:#1f77b4;\" x=\"114.086964\" xlink:href=\"#m34174a6854\" y=\"186.369873\"/>\n     <use style=\"fill:#1f77b4;stroke:#1f77b4;\" x=\"71.043982\" xlink:href=\"#m34174a6854\" y=\"209.837069\"/>\n     <use style=\"fill:#1f77b4;stroke:#1f77b4;\" x=\"132.145171\" xlink:href=\"#m34174a6854\" y=\"176.570781\"/>\n     <use style=\"fill:#1f77b4;stroke:#1f77b4;\" x=\"97.229576\" xlink:href=\"#m34174a6854\" y=\"195.698133\"/>\n     <use style=\"fill:#1f77b4;stroke:#1f77b4;\" x=\"365.594318\" xlink:href=\"#m34174a6854\" y=\"17.083636\"/>\n     <use style=\"fill:#1f77b4;stroke:#1f77b4;\" x=\"68.174448\" xlink:href=\"#m34174a6854\" y=\"210.738773\"/>\n     <use style=\"fill:#1f77b4;stroke:#1f77b4;\" x=\"201.301606\" xlink:href=\"#m34174a6854\" y=\"154.449863\"/>\n     <use style=\"fill:#1f77b4;stroke:#1f77b4;\" x=\"270.390504\" xlink:href=\"#m34174a6854\" y=\"102.064239\"/>\n     <use style=\"fill:#1f77b4;stroke:#1f77b4;\" x=\"186.676965\" xlink:href=\"#m34174a6854\" y=\"150.935369\"/>\n     <use style=\"fill:#1f77b4;stroke:#1f77b4;\" x=\"73.341168\" xlink:href=\"#m34174a6854\" y=\"208.156346\"/>\n     <use style=\"fill:#1f77b4;stroke:#1f77b4;\" x=\"120.922107\" xlink:href=\"#m34174a6854\" y=\"182.684163\"/>\n     <use style=\"fill:#1f77b4;stroke:#1f77b4;\" x=\"108.884224\" xlink:href=\"#m34174a6854\" y=\"188.983329\"/>\n     <use style=\"fill:#1f77b4;stroke:#1f77b4;\" x=\"94.92319\" xlink:href=\"#m34174a6854\" y=\"197.301712\"/>\n     <use style=\"fill:#1f77b4;stroke:#1f77b4;\" x=\"106.252414\" xlink:href=\"#m34174a6854\" y=\"191.156707\"/>\n     <use style=\"fill:#1f77b4;stroke:#1f77b4;\" x=\"95.959594\" xlink:href=\"#m34174a6854\" y=\"196.051494\"/>\n     <use style=\"fill:#1f77b4;stroke:#1f77b4;\" x=\"179.995158\" xlink:href=\"#m34174a6854\" y=\"152.085817\"/>\n     <use style=\"fill:#1f77b4;stroke:#1f77b4;\" x=\"178.243051\" xlink:href=\"#m34174a6854\" y=\"151.724664\"/>\n     <use style=\"fill:#1f77b4;stroke:#1f77b4;\" x=\"82.947278\" xlink:href=\"#m34174a6854\" y=\"203.345685\"/>\n     <use style=\"fill:#1f77b4;stroke:#1f77b4;\" x=\"104.662885\" xlink:href=\"#m34174a6854\" y=\"191.146754\"/>\n     <use style=\"fill:#1f77b4;stroke:#1f77b4;\" x=\"84.034377\" xlink:href=\"#m34174a6854\" y=\"202.86997\"/>\n     <use style=\"fill:#1f77b4;stroke:#1f77b4;\" x=\"269.946025\" xlink:href=\"#m34174a6854\" y=\"84.816855\"/>\n     <use style=\"fill:#1f77b4;stroke:#1f77b4;\" x=\"262.628192\" xlink:href=\"#m34174a6854\" y=\"101.030269\"/>\n     <use style=\"fill:#1f77b4;stroke:#1f77b4;\" x=\"92.542094\" xlink:href=\"#m34174a6854\" y=\"198.135998\"/>\n     <use style=\"fill:#1f77b4;stroke:#1f77b4;\" x=\"111.023471\" xlink:href=\"#m34174a6854\" y=\"188.164773\"/>\n     <use style=\"fill:#1f77b4;stroke:#1f77b4;\" x=\"91.759953\" xlink:href=\"#m34174a6854\" y=\"198.380297\"/>\n     <use style=\"fill:#1f77b4;stroke:#1f77b4;\" x=\"94.983262\" xlink:href=\"#m34174a6854\" y=\"196.899209\"/>\n     <use style=\"fill:#1f77b4;stroke:#1f77b4;\" x=\"76.792445\" xlink:href=\"#m34174a6854\" y=\"136.199514\"/>\n     <use style=\"fill:#1f77b4;stroke:#1f77b4;\" x=\"137.738866\" xlink:href=\"#m34174a6854\" y=\"172.877542\"/>\n     <use style=\"fill:#1f77b4;stroke:#1f77b4;\" x=\"92.41506\" xlink:href=\"#m34174a6854\" y=\"198.057747\"/>\n     <use style=\"fill:#1f77b4;stroke:#1f77b4;\" x=\"94.584555\" xlink:href=\"#m34174a6854\" y=\"196.685687\"/>\n     <use style=\"fill:#1f77b4;stroke:#1f77b4;\" x=\"201.174586\" xlink:href=\"#m34174a6854\" y=\"140.879566\"/>\n     <use style=\"fill:#1f77b4;stroke:#1f77b4;\" x=\"118.870953\" xlink:href=\"#m34174a6854\" y=\"184.52651\"/>\n     <use style=\"fill:#1f77b4;stroke:#1f77b4;\" x=\"120.138974\" xlink:href=\"#m34174a6854\" y=\"183.540388\"/>\n     <use style=\"fill:#1f77b4;stroke:#1f77b4;\" x=\"66.116562\" xlink:href=\"#m34174a6854\" y=\"212.281108\"/>\n     <use style=\"fill:#1f77b4;stroke:#1f77b4;\" x=\"84.524309\" xlink:href=\"#m34174a6854\" y=\"202.431042\"/>\n     <use style=\"fill:#1f77b4;stroke:#1f77b4;\" x=\"126.888558\" xlink:href=\"#m34174a6854\" y=\"178.621728\"/>\n     <use style=\"fill:#1f77b4;stroke:#1f77b4;\" x=\"92.943267\" xlink:href=\"#m34174a6854\" y=\"197.439531\"/>\n     <use style=\"fill:#1f77b4;stroke:#1f77b4;\" x=\"78.398472\" xlink:href=\"#m34174a6854\" y=\"205.433748\"/>\n     <use style=\"fill:#1f77b4;stroke:#1f77b4;\" x=\"101.520728\" xlink:href=\"#m34174a6854\" y=\"192.856023\"/>\n     <use style=\"fill:#1f77b4;stroke:#1f77b4;\" x=\"81.937426\" xlink:href=\"#m34174a6854\" y=\"203.899201\"/>\n     <use style=\"fill:#1f77b4;stroke:#1f77b4;\" x=\"120.971719\" xlink:href=\"#m34174a6854\" y=\"182.643762\"/>\n     <use style=\"fill:#1f77b4;stroke:#1f77b4;\" x=\"89.320412\" xlink:href=\"#m34174a6854\" y=\"199.880409\"/>\n     <use style=\"fill:#1f77b4;stroke:#1f77b4;\" x=\"66.362556\" xlink:href=\"#m34174a6854\" y=\"212.026873\"/>\n     <use style=\"fill:#1f77b4;stroke:#1f77b4;\" x=\"130.700907\" xlink:href=\"#m34174a6854\" y=\"177.502423\"/>\n     <use style=\"fill:#1f77b4;stroke:#1f77b4;\" x=\"138.774375\" xlink:href=\"#m34174a6854\" y=\"172.31801\"/>\n     <use style=\"fill:#1f77b4;stroke:#1f77b4;\" x=\"70.177339\" xlink:href=\"#m34174a6854\" y=\"209.69052\"/>\n     <use style=\"fill:#1f77b4;stroke:#1f77b4;\" x=\"116.975611\" xlink:href=\"#m34174a6854\" y=\"185.185003\"/>\n     <use style=\"fill:#1f77b4;stroke:#1f77b4;\" x=\"168.844395\" xlink:href=\"#m34174a6854\" y=\"157.71528\"/>\n     <use style=\"fill:#1f77b4;stroke:#1f77b4;\" x=\"68.851405\" xlink:href=\"#m34174a6854\" y=\"210.426874\"/>\n     <use style=\"fill:#1f77b4;stroke:#1f77b4;\" x=\"122.148038\" xlink:href=\"#m34174a6854\" y=\"181.80144\"/>\n     <use style=\"fill:#1f77b4;stroke:#1f77b4;\" x=\"101.679909\" xlink:href=\"#m34174a6854\" y=\"192.838918\"/>\n     <use style=\"fill:#1f77b4;stroke:#1f77b4;\" x=\"337.954705\" xlink:href=\"#m34174a6854\" y=\"64.718244\"/>\n     <use style=\"fill:#1f77b4;stroke:#1f77b4;\" x=\"67.641535\" xlink:href=\"#m34174a6854\" y=\"211.319471\"/>\n     <use style=\"fill:#1f77b4;stroke:#1f77b4;\" x=\"101.359696\" xlink:href=\"#m34174a6854\" y=\"193.258233\"/>\n     <use style=\"fill:#1f77b4;stroke:#1f77b4;\" x=\"294.086641\" xlink:href=\"#m34174a6854\" y=\"85.108887\"/>\n     <use style=\"fill:#1f77b4;stroke:#1f77b4;\" x=\"69.569743\" xlink:href=\"#m34174a6854\" y=\"210.49215\"/>\n     <use style=\"fill:#1f77b4;stroke:#1f77b4;\" x=\"249.208617\" xlink:href=\"#m34174a6854\" y=\"111.308907\"/>\n     <use style=\"fill:#1f77b4;stroke:#1f77b4;\" x=\"92.963056\" xlink:href=\"#m34174a6854\" y=\"197.796781\"/>\n     <use style=\"fill:#1f77b4;stroke:#1f77b4;\" x=\"121.62265\" xlink:href=\"#m34174a6854\" y=\"181.770426\"/>\n     <use style=\"fill:#1f77b4;stroke:#1f77b4;\" x=\"64.437335\" xlink:href=\"#m34174a6854\" y=\"213.012265\"/>\n     <use style=\"fill:#1f77b4;stroke:#1f77b4;\" x=\"281.8102\" xlink:href=\"#m34174a6854\" y=\"91.510578\"/>\n     <use style=\"fill:#1f77b4;stroke:#1f77b4;\" x=\"100.882531\" xlink:href=\"#m34174a6854\" y=\"193.671985\"/>\n     <use style=\"fill:#1f77b4;stroke:#1f77b4;\" x=\"262.356421\" xlink:href=\"#m34174a6854\" y=\"93.484989\"/>\n     <use style=\"fill:#1f77b4;stroke:#1f77b4;\" x=\"79.867695\" xlink:href=\"#m34174a6854\" y=\"204.918191\"/>\n     <use style=\"fill:#1f77b4;stroke:#1f77b4;\" x=\"73.634769\" xlink:href=\"#m34174a6854\" y=\"208.009383\"/>\n     <use style=\"fill:#1f77b4;stroke:#1f77b4;\" x=\"130.777755\" xlink:href=\"#m34174a6854\" y=\"177.511589\"/>\n     <use style=\"fill:#1f77b4;stroke:#1f77b4;\" x=\"190.453408\" xlink:href=\"#m34174a6854\" y=\"144.952722\"/>\n     <use style=\"fill:#1f77b4;stroke:#1f77b4;\" x=\"144.785987\" xlink:href=\"#m34174a6854\" y=\"169.215445\"/>\n     <use style=\"fill:#1f77b4;stroke:#1f77b4;\" x=\"81.505285\" xlink:href=\"#m34174a6854\" y=\"204.740302\"/>\n     <use style=\"fill:#1f77b4;stroke:#1f77b4;\" x=\"101.532822\" xlink:href=\"#m34174a6854\" y=\"192.965814\"/>\n     <use style=\"fill:#1f77b4;stroke:#1f77b4;\" x=\"90.306401\" xlink:href=\"#m34174a6854\" y=\"199.469067\"/>\n     <use style=\"fill:#1f77b4;stroke:#1f77b4;\" x=\"134.264914\" xlink:href=\"#m34174a6854\" y=\"175.361331\"/>\n     <use style=\"fill:#1f77b4;stroke:#1f77b4;\" x=\"316.473639\" xlink:href=\"#m34174a6854\" y=\"70.348174\"/>\n     <use style=\"fill:#1f77b4;stroke:#1f77b4;\" x=\"81.094172\" xlink:href=\"#m34174a6854\" y=\"204.413859\"/>\n     <use style=\"fill:#1f77b4;stroke:#1f77b4;\" x=\"79.960655\" xlink:href=\"#m34174a6854\" y=\"205.091083\"/>\n     <use style=\"fill:#1f77b4;stroke:#1f77b4;\" x=\"65.420472\" xlink:href=\"#m34174a6854\" y=\"212.499063\"/>\n     <use style=\"fill:#1f77b4;stroke:#1f77b4;\" x=\"97.993175\" xlink:href=\"#m34174a6854\" y=\"194.802335\"/>\n     <use style=\"fill:#1f77b4;stroke:#1f77b4;\" x=\"240.32002\" xlink:href=\"#m34174a6854\" y=\"95.245464\"/>\n     <use style=\"fill:#1f77b4;stroke:#1f77b4;\" x=\"285.675456\" xlink:href=\"#m34174a6854\" y=\"86.030354\"/>\n     <use style=\"fill:#1f77b4;stroke:#1f77b4;\" x=\"126.138803\" xlink:href=\"#m34174a6854\" y=\"179.983131\"/>\n     <use style=\"fill:#1f77b4;stroke:#1f77b4;\" x=\"256.762897\" xlink:href=\"#m34174a6854\" y=\"109.067746\"/>\n     <use style=\"fill:#1f77b4;stroke:#1f77b4;\" x=\"135.986856\" xlink:href=\"#m34174a6854\" y=\"174.319155\"/>\n     <use style=\"fill:#1f77b4;stroke:#1f77b4;\" x=\"126.843945\" xlink:href=\"#m34174a6854\" y=\"148.273174\"/>\n     <use style=\"fill:#1f77b4;stroke:#1f77b4;\" x=\"107.988455\" xlink:href=\"#m34174a6854\" y=\"189.713486\"/>\n     <use style=\"fill:#1f77b4;stroke:#1f77b4;\" x=\"169.668538\" xlink:href=\"#m34174a6854\" y=\"157.203954\"/>\n     <use style=\"fill:#1f77b4;stroke:#1f77b4;\" x=\"128.324922\" xlink:href=\"#m34174a6854\" y=\"178.870231\"/>\n     <use style=\"fill:#1f77b4;stroke:#1f77b4;\" x=\"114.668134\" xlink:href=\"#m34174a6854\" y=\"186.380649\"/>\n     <use style=\"fill:#1f77b4;stroke:#1f77b4;\" x=\"63.582468\" xlink:href=\"#m34174a6854\" y=\"213.460825\"/>\n     <use style=\"fill:#1f77b4;stroke:#1f77b4;\" x=\"64.621396\" xlink:href=\"#m34174a6854\" y=\"213.153617\"/>\n     <use style=\"fill:#1f77b4;stroke:#1f77b4;\" x=\"65.372019\" xlink:href=\"#m34174a6854\" y=\"212.566604\"/>\n     <use style=\"fill:#1f77b4;stroke:#1f77b4;\" x=\"83.103473\" xlink:href=\"#m34174a6854\" y=\"203.317967\"/>\n     <use style=\"fill:#1f77b4;stroke:#1f77b4;\" x=\"87.993099\" xlink:href=\"#m34174a6854\" y=\"200.676213\"/>\n     <use style=\"fill:#1f77b4;stroke:#1f77b4;\" x=\"99.571565\" xlink:href=\"#m34174a6854\" y=\"194.547426\"/>\n     <use style=\"fill:#1f77b4;stroke:#1f77b4;\" x=\"338.050244\" xlink:href=\"#m34174a6854\" y=\"63.782113\"/>\n     <use style=\"fill:#1f77b4;stroke:#1f77b4;\" x=\"105.147464\" xlink:href=\"#m34174a6854\" y=\"135.512836\"/>\n     <use style=\"fill:#1f77b4;stroke:#1f77b4;\" x=\"113.097412\" xlink:href=\"#m34174a6854\" y=\"187.174315\"/>\n     <use style=\"fill:#1f77b4;stroke:#1f77b4;\" x=\"145.311506\" xlink:href=\"#m34174a6854\" y=\"169.332217\"/>\n     <use style=\"fill:#1f77b4;stroke:#1f77b4;\" x=\"136.752774\" xlink:href=\"#m34174a6854\" y=\"154.662903\"/>\n     <use style=\"fill:#1f77b4;stroke:#1f77b4;\" x=\"78.061977\" xlink:href=\"#m34174a6854\" y=\"205.70717\"/>\n     <use style=\"fill:#1f77b4;stroke:#1f77b4;\" x=\"116.448113\" xlink:href=\"#m34174a6854\" y=\"185.674113\"/>\n     <use style=\"fill:#1f77b4;stroke:#1f77b4;\" x=\"142.339194\" xlink:href=\"#m34174a6854\" y=\"169.834143\"/>\n     <use style=\"fill:#1f77b4;stroke:#1f77b4;\" x=\"115.553934\" xlink:href=\"#m34174a6854\" y=\"185.367534\"/>\n     <use style=\"fill:#1f77b4;stroke:#1f77b4;\" x=\"118.8908\" xlink:href=\"#m34174a6854\" y=\"155.981654\"/>\n     <use style=\"fill:#1f77b4;stroke:#1f77b4;\" x=\"67.518178\" xlink:href=\"#m34174a6854\" y=\"211.330304\"/>\n     <use style=\"fill:#1f77b4;stroke:#1f77b4;\" x=\"61.824558\" xlink:href=\"#m34174a6854\" y=\"214.378707\"/>\n     <use style=\"fill:#1f77b4;stroke:#1f77b4;\" x=\"284.593704\" xlink:href=\"#m34174a6854\" y=\"92.79783\"/>\n     <use style=\"fill:#1f77b4;stroke:#1f77b4;\" x=\"76.833671\" xlink:href=\"#m34174a6854\" y=\"206.123923\"/>\n     <use style=\"fill:#1f77b4;stroke:#1f77b4;\" x=\"80.734323\" xlink:href=\"#m34174a6854\" y=\"203.983077\"/>\n     <use style=\"fill:#1f77b4;stroke:#1f77b4;\" x=\"135.392148\" xlink:href=\"#m34174a6854\" y=\"174.612182\"/>\n     <use style=\"fill:#1f77b4;stroke:#1f77b4;\" x=\"82.066654\" xlink:href=\"#m34174a6854\" y=\"203.872157\"/>\n     <use style=\"fill:#1f77b4;stroke:#1f77b4;\" x=\"71.434255\" xlink:href=\"#m34174a6854\" y=\"209.147518\"/>\n     <use style=\"fill:#1f77b4;stroke:#1f77b4;\" x=\"68.953133\" xlink:href=\"#m34174a6854\" y=\"158.487448\"/>\n     <use style=\"fill:#1f77b4;stroke:#1f77b4;\" x=\"92.521323\" xlink:href=\"#m34174a6854\" y=\"198.232554\"/>\n     <use style=\"fill:#1f77b4;stroke:#1f77b4;\" x=\"135.45965\" xlink:href=\"#m34174a6854\" y=\"174.498113\"/>\n     <use style=\"fill:#1f77b4;stroke:#1f77b4;\" x=\"137.492284\" xlink:href=\"#m34174a6854\" y=\"173.115849\"/>\n     <use style=\"fill:#1f77b4;stroke:#1f77b4;\" x=\"71.144188\" xlink:href=\"#m34174a6854\" y=\"209.154351\"/>\n     <use style=\"fill:#1f77b4;stroke:#1f77b4;\" x=\"109.858087\" xlink:href=\"#m34174a6854\" y=\"188.601967\"/>\n     <use style=\"fill:#1f77b4;stroke:#1f77b4;\" x=\"74.0883\" xlink:href=\"#m34174a6854\" y=\"208.195398\"/>\n     <use style=\"fill:#1f77b4;stroke:#1f77b4;\" x=\"89.540237\" xlink:href=\"#m34174a6854\" y=\"199.46012\"/>\n     <use style=\"fill:#1f77b4;stroke:#1f77b4;\" x=\"92.862141\" xlink:href=\"#m34174a6854\" y=\"197.919971\"/>\n     <use style=\"fill:#1f77b4;stroke:#1f77b4;\" x=\"272.596584\" xlink:href=\"#m34174a6854\" y=\"97.08521\"/>\n     <use style=\"fill:#1f77b4;stroke:#1f77b4;\" x=\"124.309888\" xlink:href=\"#m34174a6854\" y=\"180.607823\"/>\n     <use style=\"fill:#1f77b4;stroke:#1f77b4;\" x=\"245.79754\" xlink:href=\"#m34174a6854\" y=\"126.347487\"/>\n     <use style=\"fill:#1f77b4;stroke:#1f77b4;\" x=\"105.100958\" xlink:href=\"#m34174a6854\" y=\"191.112626\"/>\n     <use style=\"fill:#1f77b4;stroke:#1f77b4;\" x=\"107.07654\" xlink:href=\"#m34174a6854\" y=\"190.418579\"/>\n     <use style=\"fill:#1f77b4;stroke:#1f77b4;\" x=\"85.238516\" xlink:href=\"#m34174a6854\" y=\"202.267128\"/>\n     <use style=\"fill:#1f77b4;stroke:#1f77b4;\" x=\"222.546591\" xlink:href=\"#m34174a6854\" y=\"127.207916\"/>\n     <use style=\"fill:#1f77b4;stroke:#1f77b4;\" x=\"129.616851\" xlink:href=\"#m34174a6854\" y=\"177.549117\"/>\n     <use style=\"fill:#1f77b4;stroke:#1f77b4;\" x=\"133.327421\" xlink:href=\"#m34174a6854\" y=\"175.92014\"/>\n     <use style=\"fill:#1f77b4;stroke:#1f77b4;\" x=\"68.103953\" xlink:href=\"#m34174a6854\" y=\"184.23214\"/>\n     <use style=\"fill:#1f77b4;stroke:#1f77b4;\" x=\"67.62735\" xlink:href=\"#m34174a6854\" y=\"211.559994\"/>\n     <use style=\"fill:#1f77b4;stroke:#1f77b4;\" x=\"281.868814\" xlink:href=\"#m34174a6854\" y=\"92.490419\"/>\n     <use style=\"fill:#1f77b4;stroke:#1f77b4;\" x=\"128.13024\" xlink:href=\"#m34174a6854\" y=\"178.780893\"/>\n     <use style=\"fill:#1f77b4;stroke:#1f77b4;\" x=\"263.962405\" xlink:href=\"#m34174a6854\" y=\"99.208382\"/>\n     <use style=\"fill:#1f77b4;stroke:#1f77b4;\" x=\"255.746143\" xlink:href=\"#m34174a6854\" y=\"103.735483\"/>\n     <use style=\"fill:#1f77b4;stroke:#1f77b4;\" x=\"67.467331\" xlink:href=\"#m34174a6854\" y=\"211.342803\"/>\n     <use style=\"fill:#1f77b4;stroke:#1f77b4;\" x=\"112.166239\" xlink:href=\"#m34174a6854\" y=\"187.866009\"/>\n     <use style=\"fill:#1f77b4;stroke:#1f77b4;\" x=\"121.215052\" xlink:href=\"#m34174a6854\" y=\"107.356665\"/>\n     <use style=\"fill:#1f77b4;stroke:#1f77b4;\" x=\"134.757134\" xlink:href=\"#m34174a6854\" y=\"174.847878\"/>\n     <use style=\"fill:#1f77b4;stroke:#1f77b4;\" x=\"158.934354\" xlink:href=\"#m34174a6854\" y=\"162.888538\"/>\n     <use style=\"fill:#1f77b4;stroke:#1f77b4;\" x=\"75.236155\" xlink:href=\"#m34174a6854\" y=\"142.381529\"/>\n     <use style=\"fill:#1f77b4;stroke:#1f77b4;\" x=\"79.444653\" xlink:href=\"#m34174a6854\" y=\"205.198581\"/>\n     <use style=\"fill:#1f77b4;stroke:#1f77b4;\" x=\"274.860157\" xlink:href=\"#m34174a6854\" y=\"56.763823\"/>\n     <use style=\"fill:#1f77b4;stroke:#1f77b4;\" x=\"302.53466\" xlink:href=\"#m34174a6854\" y=\"78.641821\"/>\n     <use style=\"fill:#1f77b4;stroke:#1f77b4;\" x=\"102.66812\" xlink:href=\"#m34174a6854\" y=\"192.687201\"/>\n     <use style=\"fill:#1f77b4;stroke:#1f77b4;\" x=\"85.265392\" xlink:href=\"#m34174a6854\" y=\"202.128004\"/>\n     <use style=\"fill:#1f77b4;stroke:#1f77b4;\" x=\"248.33222\" xlink:href=\"#m34174a6854\" y=\"79.641642\"/>\n     <use style=\"fill:#1f77b4;stroke:#1f77b4;\" x=\"84.875793\" xlink:href=\"#m34174a6854\" y=\"181.26016\"/>\n     <use style=\"fill:#1f77b4;stroke:#1f77b4;\" x=\"74.117019\" xlink:href=\"#m34174a6854\" y=\"208.113753\"/>\n     <use style=\"fill:#1f77b4;stroke:#1f77b4;\" x=\"80.710472\" xlink:href=\"#m34174a6854\" y=\"182.557396\"/>\n     <use style=\"fill:#1f77b4;stroke:#1f77b4;\" x=\"111.255582\" xlink:href=\"#m34174a6854\" y=\"187.618267\"/>\n     <use style=\"fill:#1f77b4;stroke:#1f77b4;\" x=\"99.578302\" xlink:href=\"#m34174a6854\" y=\"194.230996\"/>\n     <use style=\"fill:#1f77b4;stroke:#1f77b4;\" x=\"69.525761\" xlink:href=\"#m34174a6854\" y=\"210.459329\"/>\n     <use style=\"fill:#1f77b4;stroke:#1f77b4;\" x=\"282.02489\" xlink:href=\"#m34174a6854\" y=\"97.308943\"/>\n     <use style=\"fill:#1f77b4;stroke:#1f77b4;\" x=\"76.757976\" xlink:href=\"#m34174a6854\" y=\"158.462358\"/>\n     <use style=\"fill:#1f77b4;stroke:#1f77b4;\" x=\"165.852368\" xlink:href=\"#m34174a6854\" y=\"159.079005\"/>\n     <use style=\"fill:#1f77b4;stroke:#1f77b4;\" x=\"77.297336\" xlink:href=\"#m34174a6854\" y=\"206.443039\"/>\n     <use style=\"fill:#1f77b4;stroke:#1f77b4;\" x=\"96.35773\" xlink:href=\"#m34174a6854\" y=\"195.745169\"/>\n     <use style=\"fill:#1f77b4;stroke:#1f77b4;\" x=\"97.122915\" xlink:href=\"#m34174a6854\" y=\"195.727605\"/>\n     <use style=\"fill:#1f77b4;stroke:#1f77b4;\" x=\"70.70653\" xlink:href=\"#m34174a6854\" y=\"209.603354\"/>\n     <use style=\"fill:#1f77b4;stroke:#1f77b4;\" x=\"112.26704\" xlink:href=\"#m34174a6854\" y=\"187.442905\"/>\n     <use style=\"fill:#1f77b4;stroke:#1f77b4;\" x=\"338.61218\" xlink:href=\"#m34174a6854\" y=\"64.712063\"/>\n     <use style=\"fill:#1f77b4;stroke:#1f77b4;\" x=\"124.496695\" xlink:href=\"#m34174a6854\" y=\"180.929568\"/>\n     <use style=\"fill:#1f77b4;stroke:#1f77b4;\" x=\"77.258775\" xlink:href=\"#m34174a6854\" y=\"206.43918\"/>\n     <use style=\"fill:#1f77b4;stroke:#1f77b4;\" x=\"115.048754\" xlink:href=\"#m34174a6854\" y=\"186.24884\"/>\n     <use style=\"fill:#1f77b4;stroke:#1f77b4;\" x=\"64.118987\" xlink:href=\"#m34174a6854\" y=\"212.924476\"/>\n     <use style=\"fill:#1f77b4;stroke:#1f77b4;\" x=\"138.316507\" xlink:href=\"#m34174a6854\" y=\"174.118416\"/>\n     <use style=\"fill:#1f77b4;stroke:#1f77b4;\" x=\"136.028998\" xlink:href=\"#m34174a6854\" y=\"173.985296\"/>\n     <use style=\"fill:#1f77b4;stroke:#1f77b4;\" x=\"100.911266\" xlink:href=\"#m34174a6854\" y=\"193.900119\"/>\n     <use style=\"fill:#1f77b4;stroke:#1f77b4;\" x=\"81.137835\" xlink:href=\"#m34174a6854\" y=\"204.305997\"/>\n     <use style=\"fill:#1f77b4;stroke:#1f77b4;\" x=\"61.231145\" xlink:href=\"#m34174a6854\" y=\"214.708602\"/>\n     <use style=\"fill:#1f77b4;stroke:#1f77b4;\" x=\"79.209116\" xlink:href=\"#m34174a6854\" y=\"148.929363\"/>\n     <use style=\"fill:#1f77b4;stroke:#1f77b4;\" x=\"83.281357\" xlink:href=\"#m34174a6854\" y=\"203.164609\"/>\n     <use style=\"fill:#1f77b4;stroke:#1f77b4;\" x=\"98.862823\" xlink:href=\"#m34174a6854\" y=\"158.957818\"/>\n     <use style=\"fill:#1f77b4;stroke:#1f77b4;\" x=\"77.773532\" xlink:href=\"#m34174a6854\" y=\"206.062253\"/>\n     <use style=\"fill:#1f77b4;stroke:#1f77b4;\" x=\"86.47473\" xlink:href=\"#m34174a6854\" y=\"201.674815\"/>\n     <use style=\"fill:#1f77b4;stroke:#1f77b4;\" x=\"120.13092\" xlink:href=\"#m34174a6854\" y=\"182.788658\"/>\n     <use style=\"fill:#1f77b4;stroke:#1f77b4;\" x=\"96.692364\" xlink:href=\"#m34174a6854\" y=\"195.732589\"/>\n     <use style=\"fill:#1f77b4;stroke:#1f77b4;\" x=\"61.925891\" xlink:href=\"#m34174a6854\" y=\"214.310288\"/>\n     <use style=\"fill:#1f77b4;stroke:#1f77b4;\" x=\"100.351899\" xlink:href=\"#m34174a6854\" y=\"194.05532\"/>\n     <use style=\"fill:#1f77b4;stroke:#1f77b4;\" x=\"73.885629\" xlink:href=\"#m34174a6854\" y=\"208.274146\"/>\n     <use style=\"fill:#1f77b4;stroke:#1f77b4;\" x=\"85.90161\" xlink:href=\"#m34174a6854\" y=\"201.402653\"/>\n     <use style=\"fill:#1f77b4;stroke:#1f77b4;\" x=\"81.60965\" xlink:href=\"#m34174a6854\" y=\"203.904418\"/>\n     <use style=\"fill:#1f77b4;stroke:#1f77b4;\" x=\"74.12609\" xlink:href=\"#m34174a6854\" y=\"160.813063\"/>\n     <use style=\"fill:#1f77b4;stroke:#1f77b4;\" x=\"84.826668\" xlink:href=\"#m34174a6854\" y=\"202.051129\"/>\n     <use style=\"fill:#1f77b4;stroke:#1f77b4;\" x=\"114.458198\" xlink:href=\"#m34174a6854\" y=\"138.362819\"/>\n     <use style=\"fill:#1f77b4;stroke:#1f77b4;\" x=\"286.626321\" xlink:href=\"#m34174a6854\" y=\"91.757812\"/>\n     <use style=\"fill:#1f77b4;stroke:#1f77b4;\" x=\"89.512715\" xlink:href=\"#m34174a6854\" y=\"140.450561\"/>\n     <use style=\"fill:#1f77b4;stroke:#1f77b4;\" x=\"89.496145\" xlink:href=\"#m34174a6854\" y=\"199.645583\"/>\n     <use style=\"fill:#1f77b4;stroke:#1f77b4;\" x=\"275.564647\" xlink:href=\"#m34174a6854\" y=\"96.041193\"/>\n     <use style=\"fill:#1f77b4;stroke:#1f77b4;\" x=\"79.12618\" xlink:href=\"#m34174a6854\" y=\"158.650666\"/>\n     <use style=\"fill:#1f77b4;stroke:#1f77b4;\" x=\"255.423948\" xlink:href=\"#m34174a6854\" y=\"108.37033\"/>\n     <use style=\"fill:#1f77b4;stroke:#1f77b4;\" x=\"69.093437\" xlink:href=\"#m34174a6854\" y=\"210.603464\"/>\n     <use style=\"fill:#1f77b4;stroke:#1f77b4;\" x=\"135.619912\" xlink:href=\"#m34174a6854\" y=\"174.203075\"/>\n     <use style=\"fill:#1f77b4;stroke:#1f77b4;\" x=\"97.268081\" xlink:href=\"#m34174a6854\" y=\"156.778876\"/>\n     <use style=\"fill:#1f77b4;stroke:#1f77b4;\" x=\"309.911885\" xlink:href=\"#m34174a6854\" y=\"78.82513\"/>\n     <use style=\"fill:#1f77b4;stroke:#1f77b4;\" x=\"61.868487\" xlink:href=\"#m34174a6854\" y=\"145.463354\"/>\n     <use style=\"fill:#1f77b4;stroke:#1f77b4;\" x=\"99.551183\" xlink:href=\"#m34174a6854\" y=\"194.51443\"/>\n     <use style=\"fill:#1f77b4;stroke:#1f77b4;\" x=\"112.743525\" xlink:href=\"#m34174a6854\" y=\"186.876932\"/>\n     <use style=\"fill:#1f77b4;stroke:#1f77b4;\" x=\"122.853002\" xlink:href=\"#m34174a6854\" y=\"181.947216\"/>\n     <use style=\"fill:#1f77b4;stroke:#1f77b4;\" x=\"128.644646\" xlink:href=\"#m34174a6854\" y=\"122.817897\"/>\n     <use style=\"fill:#1f77b4;stroke:#1f77b4;\" x=\"75.36246\" xlink:href=\"#m34174a6854\" y=\"207.067786\"/>\n     <use style=\"fill:#1f77b4;stroke:#1f77b4;\" x=\"198.207667\" xlink:href=\"#m34174a6854\" y=\"143.932052\"/>\n     <use style=\"fill:#1f77b4;stroke:#1f77b4;\" x=\"173.113875\" xlink:href=\"#m34174a6854\" y=\"156.699209\"/>\n     <use style=\"fill:#1f77b4;stroke:#1f77b4;\" x=\"123.033128\" xlink:href=\"#m34174a6854\" y=\"181.510908\"/>\n     <use style=\"fill:#1f77b4;stroke:#1f77b4;\" x=\"291.834507\" xlink:href=\"#m34174a6854\" y=\"86.842819\"/>\n     <use style=\"fill:#1f77b4;stroke:#1f77b4;\" x=\"110.048423\" xlink:href=\"#m34174a6854\" y=\"188.706407\"/>\n     <use style=\"fill:#1f77b4;stroke:#1f77b4;\" x=\"203.627076\" xlink:href=\"#m34174a6854\" y=\"139.682073\"/>\n     <use style=\"fill:#1f77b4;stroke:#1f77b4;\" x=\"303.178568\" xlink:href=\"#m34174a6854\" y=\"79.713242\"/>\n     <use style=\"fill:#1f77b4;stroke:#1f77b4;\" x=\"105.001735\" xlink:href=\"#m34174a6854\" y=\"191.355618\"/>\n     <use style=\"fill:#1f77b4;stroke:#1f77b4;\" x=\"64.184444\" xlink:href=\"#m34174a6854\" y=\"212.917393\"/>\n     <use style=\"fill:#1f77b4;stroke:#1f77b4;\" x=\"85.55228\" xlink:href=\"#m34174a6854\" y=\"201.743509\"/>\n     <use style=\"fill:#1f77b4;stroke:#1f77b4;\" x=\"119.968965\" xlink:href=\"#m34174a6854\" y=\"183.482056\"/>\n     <use style=\"fill:#1f77b4;stroke:#1f77b4;\" x=\"138.169452\" xlink:href=\"#m34174a6854\" y=\"173.31912\"/>\n     <use style=\"fill:#1f77b4;stroke:#1f77b4;\" x=\"251.942704\" xlink:href=\"#m34174a6854\" y=\"110.492561\"/>\n     <use style=\"fill:#1f77b4;stroke:#1f77b4;\" x=\"170.995373\" xlink:href=\"#m34174a6854\" y=\"160.520947\"/>\n     <use style=\"fill:#1f77b4;stroke:#1f77b4;\" x=\"107.669189\" xlink:href=\"#m34174a6854\" y=\"189.442655\"/>\n     <use style=\"fill:#1f77b4;stroke:#1f77b4;\" x=\"123.695447\" xlink:href=\"#m34174a6854\" y=\"181.24096\"/>\n     <use style=\"fill:#1f77b4;stroke:#1f77b4;\" x=\"93.411896\" xlink:href=\"#m34174a6854\" y=\"197.561216\"/>\n     <use style=\"fill:#1f77b4;stroke:#1f77b4;\" x=\"120.612347\" xlink:href=\"#m34174a6854\" y=\"182.498064\"/>\n     <use style=\"fill:#1f77b4;stroke:#1f77b4;\" x=\"140.722881\" xlink:href=\"#m34174a6854\" y=\"135.862771\"/>\n     <use style=\"fill:#1f77b4;stroke:#1f77b4;\" x=\"133.306259\" xlink:href=\"#m34174a6854\" y=\"175.854331\"/>\n     <use style=\"fill:#1f77b4;stroke:#1f77b4;\" x=\"92.936827\" xlink:href=\"#m34174a6854\" y=\"197.99008\"/>\n     <use style=\"fill:#1f77b4;stroke:#1f77b4;\" x=\"145.741062\" xlink:href=\"#m34174a6854\" y=\"168.386251\"/>\n     <use style=\"fill:#1f77b4;stroke:#1f77b4;\" x=\"86.422448\" xlink:href=\"#m34174a6854\" y=\"201.167103\"/>\n     <use style=\"fill:#1f77b4;stroke:#1f77b4;\" x=\"271.998753\" xlink:href=\"#m34174a6854\" y=\"97.997799\"/>\n     <use style=\"fill:#1f77b4;stroke:#1f77b4;\" x=\"61.790033\" xlink:href=\"#m34174a6854\" y=\"214.62514\"/>\n     <use style=\"fill:#1f77b4;stroke:#1f77b4;\" x=\"172.349307\" xlink:href=\"#m34174a6854\" y=\"155.302127\"/>\n     <use style=\"fill:#1f77b4;stroke:#1f77b4;\" x=\"119.406464\" xlink:href=\"#m34174a6854\" y=\"183.663219\"/>\n     <use style=\"fill:#1f77b4;stroke:#1f77b4;\" x=\"123.709672\" xlink:href=\"#m34174a6854\" y=\"181.266375\"/>\n     <use style=\"fill:#1f77b4;stroke:#1f77b4;\" x=\"92.098671\" xlink:href=\"#m34174a6854\" y=\"198.50485\"/>\n     <use style=\"fill:#1f77b4;stroke:#1f77b4;\" x=\"79.56938\" xlink:href=\"#m34174a6854\" y=\"179.155504\"/>\n     <use style=\"fill:#1f77b4;stroke:#1f77b4;\" x=\"125.54922\" xlink:href=\"#m34174a6854\" y=\"180.128044\"/>\n     <use style=\"fill:#1f77b4;stroke:#1f77b4;\" x=\"94.024918\" xlink:href=\"#m34174a6854\" y=\"197.002585\"/>\n     <use style=\"fill:#1f77b4;stroke:#1f77b4;\" x=\"148.548829\" xlink:href=\"#m34174a6854\" y=\"168.37769\"/>\n     <use style=\"fill:#1f77b4;stroke:#1f77b4;\" x=\"86.073858\" xlink:href=\"#m34174a6854\" y=\"201.336508\"/>\n     <use style=\"fill:#1f77b4;stroke:#1f77b4;\" x=\"125.918852\" xlink:href=\"#m34174a6854\" y=\"180.03862\"/>\n     <use style=\"fill:#1f77b4;stroke:#1f77b4;\" x=\"107.553013\" xlink:href=\"#m34174a6854\" y=\"190.075128\"/>\n     <use style=\"fill:#1f77b4;stroke:#1f77b4;\" x=\"119.675403\" xlink:href=\"#m34174a6854\" y=\"183.066332\"/>\n     <use style=\"fill:#1f77b4;stroke:#1f77b4;\" x=\"86.47902\" xlink:href=\"#m34174a6854\" y=\"201.328873\"/>\n     <use style=\"fill:#1f77b4;stroke:#1f77b4;\" x=\"64.426944\" xlink:href=\"#m34174a6854\" y=\"212.844554\"/>\n     <use style=\"fill:#1f77b4;stroke:#1f77b4;\" x=\"108.397163\" xlink:href=\"#m34174a6854\" y=\"189.188053\"/>\n     <use style=\"fill:#1f77b4;stroke:#1f77b4;\" x=\"92.950359\" xlink:href=\"#m34174a6854\" y=\"197.613194\"/>\n     <use style=\"fill:#1f77b4;stroke:#1f77b4;\" x=\"104.734506\" xlink:href=\"#m34174a6854\" y=\"191.657329\"/>\n     <use style=\"fill:#1f77b4;stroke:#1f77b4;\" x=\"283.862127\" xlink:href=\"#m34174a6854\" y=\"89.011865\"/>\n     <use style=\"fill:#1f77b4;stroke:#1f77b4;\" x=\"256.30762\" xlink:href=\"#m34174a6854\" y=\"104.43778\"/>\n     <use style=\"fill:#1f77b4;stroke:#1f77b4;\" x=\"130.283368\" xlink:href=\"#m34174a6854\" y=\"177.076172\"/>\n     <use style=\"fill:#1f77b4;stroke:#1f77b4;\" x=\"117.27976\" xlink:href=\"#m34174a6854\" y=\"184.848644\"/>\n     <use style=\"fill:#1f77b4;stroke:#1f77b4;\" x=\"69.874037\" xlink:href=\"#m34174a6854\" y=\"210.299491\"/>\n     <use style=\"fill:#1f77b4;stroke:#1f77b4;\" x=\"127.78781\" xlink:href=\"#m34174a6854\" y=\"179.59526\"/>\n     <use style=\"fill:#1f77b4;stroke:#1f77b4;\" x=\"194.259203\" xlink:href=\"#m34174a6854\" y=\"142.92429\"/>\n     <use style=\"fill:#1f77b4;stroke:#1f77b4;\" x=\"108.034326\" xlink:href=\"#m34174a6854\" y=\"189.747257\"/>\n     <use style=\"fill:#1f77b4;stroke:#1f77b4;\" x=\"103.827709\" xlink:href=\"#m34174a6854\" y=\"191.651627\"/>\n     <use style=\"fill:#1f77b4;stroke:#1f77b4;\" x=\"333.666568\" xlink:href=\"#m34174a6854\" y=\"61.865559\"/>\n     <use style=\"fill:#1f77b4;stroke:#1f77b4;\" x=\"107.018692\" xlink:href=\"#m34174a6854\" y=\"190.012194\"/>\n     <use style=\"fill:#1f77b4;stroke:#1f77b4;\" x=\"80.204654\" xlink:href=\"#m34174a6854\" y=\"144.813455\"/>\n     <use style=\"fill:#1f77b4;stroke:#1f77b4;\" x=\"89.961969\" xlink:href=\"#m34174a6854\" y=\"199.616681\"/>\n     <use style=\"fill:#1f77b4;stroke:#1f77b4;\" x=\"257.167728\" xlink:href=\"#m34174a6854\" y=\"100.699006\"/>\n     <use style=\"fill:#1f77b4;stroke:#1f77b4;\" x=\"121.622525\" xlink:href=\"#m34174a6854\" y=\"182.335943\"/>\n     <use style=\"fill:#1f77b4;stroke:#1f77b4;\" x=\"168.236223\" xlink:href=\"#m34174a6854\" y=\"160.465742\"/>\n     <use style=\"fill:#1f77b4;stroke:#1f77b4;\" x=\"80.127217\" xlink:href=\"#m34174a6854\" y=\"154.630293\"/>\n     <use style=\"fill:#1f77b4;stroke:#1f77b4;\" x=\"64.563289\" xlink:href=\"#m34174a6854\" y=\"212.795872\"/>\n     <use style=\"fill:#1f77b4;stroke:#1f77b4;\" x=\"64.720837\" xlink:href=\"#m34174a6854\" y=\"213.224053\"/>\n     <use style=\"fill:#1f77b4;stroke:#1f77b4;\" x=\"96.045433\" xlink:href=\"#m34174a6854\" y=\"196.371186\"/>\n     <use style=\"fill:#1f77b4;stroke:#1f77b4;\" x=\"92.852881\" xlink:href=\"#m34174a6854\" y=\"198.225558\"/>\n     <use style=\"fill:#1f77b4;stroke:#1f77b4;\" x=\"90.454283\" xlink:href=\"#m34174a6854\" y=\"199.445411\"/>\n     <use style=\"fill:#1f77b4;stroke:#1f77b4;\" x=\"91.102558\" xlink:href=\"#m34174a6854\" y=\"198.744743\"/>\n     <use style=\"fill:#1f77b4;stroke:#1f77b4;\" x=\"94.854372\" xlink:href=\"#m34174a6854\" y=\"197.198716\"/>\n     <use style=\"fill:#1f77b4;stroke:#1f77b4;\" x=\"125.305166\" xlink:href=\"#m34174a6854\" y=\"180.957465\"/>\n     <use style=\"fill:#1f77b4;stroke:#1f77b4;\" x=\"85.099253\" xlink:href=\"#m34174a6854\" y=\"202.152262\"/>\n     <use style=\"fill:#1f77b4;stroke:#1f77b4;\" x=\"68.173574\" xlink:href=\"#m34174a6854\" y=\"210.735857\"/>\n     <use style=\"fill:#1f77b4;stroke:#1f77b4;\" x=\"72.427674\" xlink:href=\"#m34174a6854\" y=\"208.685042\"/>\n     <use style=\"fill:#1f77b4;stroke:#1f77b4;\" x=\"153.854035\" xlink:href=\"#m34174a6854\" y=\"164.387642\"/>\n     <use style=\"fill:#1f77b4;stroke:#1f77b4;\" x=\"78.535598\" xlink:href=\"#m34174a6854\" y=\"205.731984\"/>\n     <use style=\"fill:#1f77b4;stroke:#1f77b4;\" x=\"115.623307\" xlink:href=\"#m34174a6854\" y=\"185.459069\"/>\n     <use style=\"fill:#1f77b4;stroke:#1f77b4;\" x=\"133.848959\" xlink:href=\"#m34174a6854\" y=\"175.272135\"/>\n     <use style=\"fill:#1f77b4;stroke:#1f77b4;\" x=\"80.832693\" xlink:href=\"#m34174a6854\" y=\"204.038082\"/>\n     <use style=\"fill:#1f77b4;stroke:#1f77b4;\" x=\"65.327239\" xlink:href=\"#m34174a6854\" y=\"212.712832\"/>\n     <use style=\"fill:#1f77b4;stroke:#1f77b4;\" x=\"169.880116\" xlink:href=\"#m34174a6854\" y=\"155.828083\"/>\n     <use style=\"fill:#1f77b4;stroke:#1f77b4;\" x=\"97.68268\" xlink:href=\"#m34174a6854\" y=\"195.079185\"/>\n     <use style=\"fill:#1f77b4;stroke:#1f77b4;\" x=\"125.945048\" xlink:href=\"#m34174a6854\" y=\"180.805421\"/>\n     <use style=\"fill:#1f77b4;stroke:#1f77b4;\" x=\"103.603772\" xlink:href=\"#m34174a6854\" y=\"191.972092\"/>\n     <use style=\"fill:#1f77b4;stroke:#1f77b4;\" x=\"75.385194\" xlink:href=\"#m34174a6854\" y=\"207.006641\"/>\n     <use style=\"fill:#1f77b4;stroke:#1f77b4;\" x=\"112.519307\" xlink:href=\"#m34174a6854\" y=\"187.371782\"/>\n     <use style=\"fill:#1f77b4;stroke:#1f77b4;\" x=\"182.193928\" xlink:href=\"#m34174a6854\" y=\"152.837099\"/>\n     <use style=\"fill:#1f77b4;stroke:#1f77b4;\" x=\"140.295309\" xlink:href=\"#m34174a6854\" y=\"171.277953\"/>\n     <use style=\"fill:#1f77b4;stroke:#1f77b4;\" x=\"251.794567\" xlink:href=\"#m34174a6854\" y=\"104.313605\"/>\n     <use style=\"fill:#1f77b4;stroke:#1f77b4;\" x=\"124.259413\" xlink:href=\"#m34174a6854\" y=\"180.946807\"/>\n     <use style=\"fill:#1f77b4;stroke:#1f77b4;\" x=\"104.116942\" xlink:href=\"#m34174a6854\" y=\"192.07328\"/>\n     <use style=\"fill:#1f77b4;stroke:#1f77b4;\" x=\"73.052829\" xlink:href=\"#m34174a6854\" y=\"208.63315\"/>\n     <use style=\"fill:#1f77b4;stroke:#1f77b4;\" x=\"156.012574\" xlink:href=\"#m34174a6854\" y=\"164.51993\"/>\n     <use style=\"fill:#1f77b4;stroke:#1f77b4;\" x=\"100.792636\" xlink:href=\"#m34174a6854\" y=\"193.914648\"/>\n     <use style=\"fill:#1f77b4;stroke:#1f77b4;\" x=\"149.576977\" xlink:href=\"#m34174a6854\" y=\"167.448132\"/>\n     <use style=\"fill:#1f77b4;stroke:#1f77b4;\" x=\"67.437427\" xlink:href=\"#m34174a6854\" y=\"195.187855\"/>\n     <use style=\"fill:#1f77b4;stroke:#1f77b4;\" x=\"106.543648\" xlink:href=\"#m34174a6854\" y=\"190.740528\"/>\n     <use style=\"fill:#1f77b4;stroke:#1f77b4;\" x=\"112.002385\" xlink:href=\"#m34174a6854\" y=\"187.535785\"/>\n     <use style=\"fill:#1f77b4;stroke:#1f77b4;\" x=\"64.969652\" xlink:href=\"#m34174a6854\" y=\"212.897431\"/>\n     <use style=\"fill:#1f77b4;stroke:#1f77b4;\" x=\"68.344517\" xlink:href=\"#m34174a6854\" y=\"210.670041\"/>\n     <use style=\"fill:#1f77b4;stroke:#1f77b4;\" x=\"96.255421\" xlink:href=\"#m34174a6854\" y=\"195.662328\"/>\n     <use style=\"fill:#1f77b4;stroke:#1f77b4;\" x=\"133.152448\" xlink:href=\"#m34174a6854\" y=\"175.92402\"/>\n     <use style=\"fill:#1f77b4;stroke:#1f77b4;\" x=\"86.562019\" xlink:href=\"#m34174a6854\" y=\"201.679398\"/>\n     <use style=\"fill:#1f77b4;stroke:#1f77b4;\" x=\"233.840628\" xlink:href=\"#m34174a6854\" y=\"132.414817\"/>\n     <use style=\"fill:#1f77b4;stroke:#1f77b4;\" x=\"92.522221\" xlink:href=\"#m34174a6854\" y=\"143.948635\"/>\n     <use style=\"fill:#1f77b4;stroke:#1f77b4;\" x=\"72.174785\" xlink:href=\"#m34174a6854\" y=\"208.60696\"/>\n     <use style=\"fill:#1f77b4;stroke:#1f77b4;\" x=\"112.300265\" xlink:href=\"#m34174a6854\" y=\"187.121949\"/>\n     <use style=\"fill:#1f77b4;stroke:#1f77b4;\" x=\"78.30247\" xlink:href=\"#m34174a6854\" y=\"205.841042\"/>\n     <use style=\"fill:#1f77b4;stroke:#1f77b4;\" x=\"300.588042\" xlink:href=\"#m34174a6854\" y=\"76.281035\"/>\n     <use style=\"fill:#1f77b4;stroke:#1f77b4;\" x=\"81.039087\" xlink:href=\"#m34174a6854\" y=\"204.241356\"/>\n     <use style=\"fill:#1f77b4;stroke:#1f77b4;\" x=\"233.139182\" xlink:href=\"#m34174a6854\" y=\"138.438053\"/>\n     <use style=\"fill:#1f77b4;stroke:#1f77b4;\" x=\"120.494158\" xlink:href=\"#m34174a6854\" y=\"183.112517\"/>\n     <use style=\"fill:#1f77b4;stroke:#1f77b4;\" x=\"119.98001\" xlink:href=\"#m34174a6854\" y=\"183.072168\"/>\n     <use style=\"fill:#1f77b4;stroke:#1f77b4;\" x=\"136.506432\" xlink:href=\"#m34174a6854\" y=\"174.375456\"/>\n     <use style=\"fill:#1f77b4;stroke:#1f77b4;\" x=\"89.75382\" xlink:href=\"#m34174a6854\" y=\"199.152785\"/>\n     <use style=\"fill:#1f77b4;stroke:#1f77b4;\" x=\"92.98228\" xlink:href=\"#m34174a6854\" y=\"198.185916\"/>\n     <use style=\"fill:#1f77b4;stroke:#1f77b4;\" x=\"99.290463\" xlink:href=\"#m34174a6854\" y=\"194.191793\"/>\n     <use style=\"fill:#1f77b4;stroke:#1f77b4;\" x=\"65.82324\" xlink:href=\"#m34174a6854\" y=\"212.055643\"/>\n     <use style=\"fill:#1f77b4;stroke:#1f77b4;\" x=\"106.133968\" xlink:href=\"#m34174a6854\" y=\"191.143985\"/>\n     <use style=\"fill:#1f77b4;stroke:#1f77b4;\" x=\"86.948453\" xlink:href=\"#m34174a6854\" y=\"201.254653\"/>\n     <use style=\"fill:#1f77b4;stroke:#1f77b4;\" x=\"192.320055\" xlink:href=\"#m34174a6854\" y=\"151.776392\"/>\n     <use style=\"fill:#1f77b4;stroke:#1f77b4;\" x=\"91.157197\" xlink:href=\"#m34174a6854\" y=\"198.574399\"/>\n     <use style=\"fill:#1f77b4;stroke:#1f77b4;\" x=\"91.462661\" xlink:href=\"#m34174a6854\" y=\"198.474062\"/>\n     <use style=\"fill:#1f77b4;stroke:#1f77b4;\" x=\"65.905034\" xlink:href=\"#m34174a6854\" y=\"177.624637\"/>\n     <use style=\"fill:#1f77b4;stroke:#1f77b4;\" x=\"64.572285\" xlink:href=\"#m34174a6854\" y=\"213.101252\"/>\n     <use style=\"fill:#1f77b4;stroke:#1f77b4;\" x=\"160.204543\" xlink:href=\"#m34174a6854\" y=\"160.796372\"/>\n     <use style=\"fill:#1f77b4;stroke:#1f77b4;\" x=\"301.090311\" xlink:href=\"#m34174a6854\" y=\"82.714943\"/>\n     <use style=\"fill:#1f77b4;stroke:#1f77b4;\" x=\"94.299932\" xlink:href=\"#m34174a6854\" y=\"197.305687\"/>\n     <use style=\"fill:#1f77b4;stroke:#1f77b4;\" x=\"277.022128\" xlink:href=\"#m34174a6854\" y=\"80.051858\"/>\n     <use style=\"fill:#1f77b4;stroke:#1f77b4;\" x=\"182.667737\" xlink:href=\"#m34174a6854\" y=\"149.89862\"/>\n     <use style=\"fill:#1f77b4;stroke:#1f77b4;\" x=\"68.876602\" xlink:href=\"#m34174a6854\" y=\"210.543022\"/>\n     <use style=\"fill:#1f77b4;stroke:#1f77b4;\" x=\"107.807179\" xlink:href=\"#m34174a6854\" y=\"190.116716\"/>\n     <use style=\"fill:#1f77b4;stroke:#1f77b4;\" x=\"119.557695\" xlink:href=\"#m34174a6854\" y=\"183.660188\"/>\n     <use style=\"fill:#1f77b4;stroke:#1f77b4;\" x=\"67.495545\" xlink:href=\"#m34174a6854\" y=\"211.33572\"/>\n     <use style=\"fill:#1f77b4;stroke:#1f77b4;\" x=\"79.055846\" xlink:href=\"#m34174a6854\" y=\"204.926919\"/>\n     <use style=\"fill:#1f77b4;stroke:#1f77b4;\" x=\"81.128066\" xlink:href=\"#m34174a6854\" y=\"156.950414\"/>\n     <use style=\"fill:#1f77b4;stroke:#1f77b4;\" x=\"118.258971\" xlink:href=\"#m34174a6854\" y=\"184.227726\"/>\n     <use style=\"fill:#1f77b4;stroke:#1f77b4;\" x=\"338.830118\" xlink:href=\"#m34174a6854\" y=\"73.585652\"/>\n     <use style=\"fill:#1f77b4;stroke:#1f77b4;\" x=\"66.170167\" xlink:href=\"#m34174a6854\" y=\"211.960575\"/>\n     <use style=\"fill:#1f77b4;stroke:#1f77b4;\" x=\"78.67915\" xlink:href=\"#m34174a6854\" y=\"205.693487\"/>\n     <use style=\"fill:#1f77b4;stroke:#1f77b4;\" x=\"96.296445\" xlink:href=\"#m34174a6854\" y=\"196.419962\"/>\n     <use style=\"fill:#1f77b4;stroke:#1f77b4;\" x=\"67.729922\" xlink:href=\"#m34174a6854\" y=\"210.939614\"/>\n     <use style=\"fill:#1f77b4;stroke:#1f77b4;\" x=\"143.305228\" xlink:href=\"#m34174a6854\" y=\"170.457528\"/>\n     <use style=\"fill:#1f77b4;stroke:#1f77b4;\" x=\"73.062491\" xlink:href=\"#m34174a6854\" y=\"156.221604\"/>\n     <use style=\"fill:#1f77b4;stroke:#1f77b4;\" x=\"138.888503\" xlink:href=\"#m34174a6854\" y=\"172.914928\"/>\n     <use style=\"fill:#1f77b4;stroke:#1f77b4;\" x=\"143.225188\" xlink:href=\"#m34174a6854\" y=\"170.240479\"/>\n     <use style=\"fill:#1f77b4;stroke:#1f77b4;\" x=\"106.225366\" xlink:href=\"#m34174a6854\" y=\"191.216743\"/>\n     <use style=\"fill:#1f77b4;stroke:#1f77b4;\" x=\"147.719298\" xlink:href=\"#m34174a6854\" y=\"167.593967\"/>\n     <use style=\"fill:#1f77b4;stroke:#1f77b4;\" x=\"161.808662\" xlink:href=\"#m34174a6854\" y=\"160.683525\"/>\n     <use style=\"fill:#1f77b4;stroke:#1f77b4;\" x=\"86.482726\" xlink:href=\"#m34174a6854\" y=\"201.040012\"/>\n     <use style=\"fill:#1f77b4;stroke:#1f77b4;\" x=\"70.560727\" xlink:href=\"#m34174a6854\" y=\"209.644602\"/>\n     <use style=\"fill:#1f77b4;stroke:#1f77b4;\" x=\"85.869627\" xlink:href=\"#m34174a6854\" y=\"201.492337\"/>\n     <use style=\"fill:#1f77b4;stroke:#1f77b4;\" x=\"81.922015\" xlink:href=\"#m34174a6854\" y=\"203.634421\"/>\n     <use style=\"fill:#1f77b4;stroke:#1f77b4;\" x=\"82.548767\" xlink:href=\"#m34174a6854\" y=\"203.550386\"/>\n     <use style=\"fill:#1f77b4;stroke:#1f77b4;\" x=\"149.630077\" xlink:href=\"#m34174a6854\" y=\"166.485177\"/>\n     <use style=\"fill:#1f77b4;stroke:#1f77b4;\" x=\"261.601004\" xlink:href=\"#m34174a6854\" y=\"92.951675\"/>\n     <use style=\"fill:#1f77b4;stroke:#1f77b4;\" x=\"128.222147\" xlink:href=\"#m34174a6854\" y=\"178.39405\"/>\n     <use style=\"fill:#1f77b4;stroke:#1f77b4;\" x=\"126.494806\" xlink:href=\"#m34174a6854\" y=\"179.688869\"/>\n     <use style=\"fill:#1f77b4;stroke:#1f77b4;\" x=\"121.54491\" xlink:href=\"#m34174a6854\" y=\"182.462909\"/>\n     <use style=\"fill:#1f77b4;stroke:#1f77b4;\" x=\"244.794741\" xlink:href=\"#m34174a6854\" y=\"120.665388\"/>\n     <use style=\"fill:#1f77b4;stroke:#1f77b4;\" x=\"71.809957\" xlink:href=\"#m34174a6854\" y=\"209.286513\"/>\n     <use style=\"fill:#1f77b4;stroke:#1f77b4;\" x=\"109.011272\" xlink:href=\"#m34174a6854\" y=\"189.324002\"/>\n     <use style=\"fill:#1f77b4;stroke:#1f77b4;\" x=\"83.816225\" xlink:href=\"#m34174a6854\" y=\"202.866933\"/>\n     <use style=\"fill:#1f77b4;stroke:#1f77b4;\" x=\"175.213217\" xlink:href=\"#m34174a6854\" y=\"154.254209\"/>\n     <use style=\"fill:#1f77b4;stroke:#1f77b4;\" x=\"97.072254\" xlink:href=\"#m34174a6854\" y=\"195.744008\"/>\n     <use style=\"fill:#1f77b4;stroke:#1f77b4;\" x=\"102.749218\" xlink:href=\"#m34174a6854\" y=\"192.865757\"/>\n     <use style=\"fill:#1f77b4;stroke:#1f77b4;\" x=\"111.799203\" xlink:href=\"#m34174a6854\" y=\"187.675382\"/>\n     <use style=\"fill:#1f77b4;stroke:#1f77b4;\" x=\"125.156538\" xlink:href=\"#m34174a6854\" y=\"180.331007\"/>\n     <use style=\"fill:#1f77b4;stroke:#1f77b4;\" x=\"67.863424\" xlink:href=\"#m34174a6854\" y=\"211.031808\"/>\n     <use style=\"fill:#1f77b4;stroke:#1f77b4;\" x=\"289.985671\" xlink:href=\"#m34174a6854\" y=\"90.763496\"/>\n     <use style=\"fill:#1f77b4;stroke:#1f77b4;\" x=\"136.357987\" xlink:href=\"#m34174a6854\" y=\"174.475965\"/>\n     <use style=\"fill:#1f77b4;stroke:#1f77b4;\" x=\"104.457027\" xlink:href=\"#m34174a6854\" y=\"191.749475\"/>\n     <use style=\"fill:#1f77b4;stroke:#1f77b4;\" x=\"65.872028\" xlink:href=\"#m34174a6854\" y=\"212.096772\"/>\n     <use style=\"fill:#1f77b4;stroke:#1f77b4;\" x=\"172.157496\" xlink:href=\"#m34174a6854\" y=\"156.644702\"/>\n     <use style=\"fill:#1f77b4;stroke:#1f77b4;\" x=\"179.505438\" xlink:href=\"#m34174a6854\" y=\"97.621228\"/>\n     <use style=\"fill:#1f77b4;stroke:#1f77b4;\" x=\"137.977423\" xlink:href=\"#m34174a6854\" y=\"172.825877\"/>\n     <use style=\"fill:#1f77b4;stroke:#1f77b4;\" x=\"110.465533\" xlink:href=\"#m34174a6854\" y=\"188.532802\"/>\n     <use style=\"fill:#1f77b4;stroke:#1f77b4;\" x=\"122.740321\" xlink:href=\"#m34174a6854\" y=\"149.520881\"/>\n     <use style=\"fill:#1f77b4;stroke:#1f77b4;\" x=\"132.966151\" xlink:href=\"#m34174a6854\" y=\"175.792052\"/>\n     <use style=\"fill:#1f77b4;stroke:#1f77b4;\" x=\"70.380458\" xlink:href=\"#m34174a6854\" y=\"209.969295\"/>\n     <use style=\"fill:#1f77b4;stroke:#1f77b4;\" x=\"97.722408\" xlink:href=\"#m34174a6854\" y=\"195.183711\"/>\n     <use style=\"fill:#1f77b4;stroke:#1f77b4;\" x=\"114.757445\" xlink:href=\"#m34174a6854\" y=\"145.581327\"/>\n     <use style=\"fill:#1f77b4;stroke:#1f77b4;\" x=\"133.357677\" xlink:href=\"#m34174a6854\" y=\"175.526553\"/>\n     <use style=\"fill:#1f77b4;stroke:#1f77b4;\" x=\"120.993876\" xlink:href=\"#m34174a6854\" y=\"112.683264\"/>\n     <use style=\"fill:#1f77b4;stroke:#1f77b4;\" x=\"152.085044\" xlink:href=\"#m34174a6854\" y=\"165.362504\"/>\n     <use style=\"fill:#1f77b4;stroke:#1f77b4;\" x=\"91.094639\" xlink:href=\"#m34174a6854\" y=\"198.777308\"/>\n     <use style=\"fill:#1f77b4;stroke:#1f77b4;\" x=\"67.622605\" xlink:href=\"#m34174a6854\" y=\"182.728991\"/>\n     <use style=\"fill:#1f77b4;stroke:#1f77b4;\" x=\"69.880863\" xlink:href=\"#m34174a6854\" y=\"210.334906\"/>\n     <use style=\"fill:#1f77b4;stroke:#1f77b4;\" x=\"77.885233\" xlink:href=\"#m34174a6854\" y=\"205.909368\"/>\n     <use style=\"fill:#1f77b4;stroke:#1f77b4;\" x=\"304.753391\" xlink:href=\"#m34174a6854\" y=\"81.817064\"/>\n     <use style=\"fill:#1f77b4;stroke:#1f77b4;\" x=\"102.562531\" xlink:href=\"#m34174a6854\" y=\"192.789271\"/>\n     <use style=\"fill:#1f77b4;stroke:#1f77b4;\" x=\"191.322472\" xlink:href=\"#m34174a6854\" y=\"144.458874\"/>\n     <use style=\"fill:#1f77b4;stroke:#1f77b4;\" x=\"119.743546\" xlink:href=\"#m34174a6854\" y=\"183.770857\"/>\n     <use style=\"fill:#1f77b4;stroke:#1f77b4;\" x=\"109.145773\" xlink:href=\"#m34174a6854\" y=\"189.287184\"/>\n     <use style=\"fill:#1f77b4;stroke:#1f77b4;\" x=\"96.88044\" xlink:href=\"#m34174a6854\" y=\"195.588157\"/>\n     <use style=\"fill:#1f77b4;stroke:#1f77b4;\" x=\"108.89099\" xlink:href=\"#m34174a6854\" y=\"135.816434\"/>\n     <use style=\"fill:#1f77b4;stroke:#1f77b4;\" x=\"102.725047\" xlink:href=\"#m34174a6854\" y=\"193.000228\"/>\n     <use style=\"fill:#1f77b4;stroke:#1f77b4;\" x=\"94.466197\" xlink:href=\"#m34174a6854\" y=\"197.123745\"/>\n     <use style=\"fill:#1f77b4;stroke:#1f77b4;\" x=\"149.8591\" xlink:href=\"#m34174a6854\" y=\"167.374117\"/>\n     <use style=\"fill:#1f77b4;stroke:#1f77b4;\" x=\"124.477775\" xlink:href=\"#m34174a6854\" y=\"180.807351\"/>\n     <use style=\"fill:#1f77b4;stroke:#1f77b4;\" x=\"115.201821\" xlink:href=\"#m34174a6854\" y=\"186.013089\"/>\n     <use style=\"fill:#1f77b4;stroke:#1f77b4;\" x=\"131.441167\" xlink:href=\"#m34174a6854\" y=\"177.239218\"/>\n     <use style=\"fill:#1f77b4;stroke:#1f77b4;\" x=\"81.737539\" xlink:href=\"#m34174a6854\" y=\"204.082773\"/>\n     <use style=\"fill:#1f77b4;stroke:#1f77b4;\" x=\"74.882834\" xlink:href=\"#m34174a6854\" y=\"207.715088\"/>\n     <use style=\"fill:#1f77b4;stroke:#1f77b4;\" x=\"104.817388\" xlink:href=\"#m34174a6854\" y=\"191.141284\"/>\n     <use style=\"fill:#1f77b4;stroke:#1f77b4;\" x=\"121.29079\" xlink:href=\"#m34174a6854\" y=\"182.442014\"/>\n     <use style=\"fill:#1f77b4;stroke:#1f77b4;\" x=\"168.515384\" xlink:href=\"#m34174a6854\" y=\"156.94438\"/>\n     <use style=\"fill:#1f77b4;stroke:#1f77b4;\" x=\"131.299202\" xlink:href=\"#m34174a6854\" y=\"127.036039\"/>\n     <use style=\"fill:#1f77b4;stroke:#1f77b4;\" x=\"103.014073\" xlink:href=\"#m34174a6854\" y=\"192.258036\"/>\n     <use style=\"fill:#1f77b4;stroke:#1f77b4;\" x=\"136.951523\" xlink:href=\"#m34174a6854\" y=\"173.380762\"/>\n     <use style=\"fill:#1f77b4;stroke:#1f77b4;\" x=\"332.267678\" xlink:href=\"#m34174a6854\" y=\"74.094226\"/>\n     <use style=\"fill:#1f77b4;stroke:#1f77b4;\" x=\"69.630814\" xlink:href=\"#m34174a6854\" y=\"210.468028\"/>\n     <use style=\"fill:#1f77b4;stroke:#1f77b4;\" x=\"91.651235\" xlink:href=\"#m34174a6854\" y=\"198.082255\"/>\n     <use style=\"fill:#1f77b4;stroke:#1f77b4;\" x=\"105.466198\" xlink:href=\"#m34174a6854\" y=\"191.423328\"/>\n     <use style=\"fill:#1f77b4;stroke:#1f77b4;\" x=\"94.1349\" xlink:href=\"#m34174a6854\" y=\"197.267328\"/>\n     <use style=\"fill:#1f77b4;stroke:#1f77b4;\" x=\"85.846794\" xlink:href=\"#m34174a6854\" y=\"201.694847\"/>\n     <use style=\"fill:#1f77b4;stroke:#1f77b4;\" x=\"104.68212\" xlink:href=\"#m34174a6854\" y=\"157.889979\"/>\n     <use style=\"fill:#1f77b4;stroke:#1f77b4;\" x=\"137.670889\" xlink:href=\"#m34174a6854\" y=\"173.018593\"/>\n     <use style=\"fill:#1f77b4;stroke:#1f77b4;\" x=\"103.409375\" xlink:href=\"#m34174a6854\" y=\"191.998758\"/>\n     <use style=\"fill:#1f77b4;stroke:#1f77b4;\" x=\"74.382844\" xlink:href=\"#m34174a6854\" y=\"207.535699\"/>\n     <use style=\"fill:#1f77b4;stroke:#1f77b4;\" x=\"80.434532\" xlink:href=\"#m34174a6854\" y=\"204.439351\"/>\n     <use style=\"fill:#1f77b4;stroke:#1f77b4;\" x=\"174.973464\" xlink:href=\"#m34174a6854\" y=\"107.643037\"/>\n     <use style=\"fill:#1f77b4;stroke:#1f77b4;\" x=\"122.684407\" xlink:href=\"#m34174a6854\" y=\"182.15571\"/>\n     <use style=\"fill:#1f77b4;stroke:#1f77b4;\" x=\"64.419016\" xlink:href=\"#m34174a6854\" y=\"213.042659\"/>\n     <use style=\"fill:#1f77b4;stroke:#1f77b4;\" x=\"96.375789\" xlink:href=\"#m34174a6854\" y=\"195.752244\"/>\n     <use style=\"fill:#1f77b4;stroke:#1f77b4;\" x=\"86.102916\" xlink:href=\"#m34174a6854\" y=\"158.962214\"/>\n     <use style=\"fill:#1f77b4;stroke:#1f77b4;\" x=\"68.018508\" xlink:href=\"#m34174a6854\" y=\"176.878039\"/>\n     <use style=\"fill:#1f77b4;stroke:#1f77b4;\" x=\"125.884272\" xlink:href=\"#m34174a6854\" y=\"180.024037\"/>\n     <use style=\"fill:#1f77b4;stroke:#1f77b4;\" x=\"110.939759\" xlink:href=\"#m34174a6854\" y=\"172.613218\"/>\n     <use style=\"fill:#1f77b4;stroke:#1f77b4;\" x=\"82.03224\" xlink:href=\"#m34174a6854\" y=\"162.680733\"/>\n     <use style=\"fill:#1f77b4;stroke:#1f77b4;\" x=\"141.385566\" xlink:href=\"#m34174a6854\" y=\"171.003712\"/>\n     <use style=\"fill:#1f77b4;stroke:#1f77b4;\" x=\"66.500398\" xlink:href=\"#m34174a6854\" y=\"211.662972\"/>\n     <use style=\"fill:#1f77b4;stroke:#1f77b4;\" x=\"280.782075\" xlink:href=\"#m34174a6854\" y=\"96.152747\"/>\n     <use style=\"fill:#1f77b4;stroke:#1f77b4;\" x=\"84.234127\" xlink:href=\"#m34174a6854\" y=\"202.904854\"/>\n     <use style=\"fill:#1f77b4;stroke:#1f77b4;\" x=\"241.031774\" xlink:href=\"#m34174a6854\" y=\"131.419408\"/>\n     <use style=\"fill:#1f77b4;stroke:#1f77b4;\" x=\"130.869486\" xlink:href=\"#m34174a6854\" y=\"177.217282\"/>\n     <use style=\"fill:#1f77b4;stroke:#1f77b4;\" x=\"99.971974\" xlink:href=\"#m34174a6854\" y=\"151.303032\"/>\n     <use style=\"fill:#1f77b4;stroke:#1f77b4;\" x=\"128.575828\" xlink:href=\"#m34174a6854\" y=\"178.900174\"/>\n     <use style=\"fill:#1f77b4;stroke:#1f77b4;\" x=\"216.487106\" xlink:href=\"#m34174a6854\" y=\"159.455478\"/>\n     <use style=\"fill:#1f77b4;stroke:#1f77b4;\" x=\"61.264354\" xlink:href=\"#m34174a6854\" y=\"214.72597\"/>\n     <use style=\"fill:#1f77b4;stroke:#1f77b4;\" x=\"86.058266\" xlink:href=\"#m34174a6854\" y=\"201.746096\"/>\n     <use style=\"fill:#1f77b4;stroke:#1f77b4;\" x=\"103.133784\" xlink:href=\"#m34174a6854\" y=\"116.984864\"/>\n     <use style=\"fill:#1f77b4;stroke:#1f77b4;\" x=\"124.586229\" xlink:href=\"#m34174a6854\" y=\"153.730012\"/>\n     <use style=\"fill:#1f77b4;stroke:#1f77b4;\" x=\"128.554808\" xlink:href=\"#m34174a6854\" y=\"178.919396\"/>\n     <use style=\"fill:#1f77b4;stroke:#1f77b4;\" x=\"139.016461\" xlink:href=\"#m34174a6854\" y=\"172.878046\"/>\n     <use style=\"fill:#1f77b4;stroke:#1f77b4;\" x=\"99.539878\" xlink:href=\"#m34174a6854\" y=\"177.917597\"/>\n     <use style=\"fill:#1f77b4;stroke:#1f77b4;\" x=\"110.610044\" xlink:href=\"#m34174a6854\" y=\"132.01219\"/>\n     <use style=\"fill:#1f77b4;stroke:#1f77b4;\" x=\"67.853623\" xlink:href=\"#m34174a6854\" y=\"211.494428\"/>\n     <use style=\"fill:#1f77b4;stroke:#1f77b4;\" x=\"82.580356\" xlink:href=\"#m34174a6854\" y=\"203.305292\"/>\n     <use style=\"fill:#1f77b4;stroke:#1f77b4;\" x=\"132.977767\" xlink:href=\"#m34174a6854\" y=\"175.968185\"/>\n     <use style=\"fill:#1f77b4;stroke:#1f77b4;\" x=\"74.718723\" xlink:href=\"#m34174a6854\" y=\"207.282568\"/>\n     <use style=\"fill:#1f77b4;stroke:#1f77b4;\" x=\"68.815332\" xlink:href=\"#m34174a6854\" y=\"180.798861\"/>\n     <use style=\"fill:#1f77b4;stroke:#1f77b4;\" x=\"74.098558\" xlink:href=\"#m34174a6854\" y=\"208.078052\"/>\n     <use style=\"fill:#1f77b4;stroke:#1f77b4;\" x=\"279.530223\" xlink:href=\"#m34174a6854\" y=\"92.601438\"/>\n     <use style=\"fill:#1f77b4;stroke:#1f77b4;\" x=\"71.226937\" xlink:href=\"#m34174a6854\" y=\"209.457461\"/>\n     <use style=\"fill:#1f77b4;stroke:#1f77b4;\" x=\"117.431843\" xlink:href=\"#m34174a6854\" y=\"184.520743\"/>\n     <use style=\"fill:#1f77b4;stroke:#1f77b4;\" x=\"131.931505\" xlink:href=\"#m34174a6854\" y=\"176.045423\"/>\n     <use style=\"fill:#1f77b4;stroke:#1f77b4;\" x=\"135.187959\" xlink:href=\"#m34174a6854\" y=\"174.613101\"/>\n     <use style=\"fill:#1f77b4;stroke:#1f77b4;\" x=\"118.952508\" xlink:href=\"#m34174a6854\" y=\"184.067444\"/>\n     <use style=\"fill:#1f77b4;stroke:#1f77b4;\" x=\"80.316872\" xlink:href=\"#m34174a6854\" y=\"204.664135\"/>\n     <use style=\"fill:#1f77b4;stroke:#1f77b4;\" x=\"82.644338\" xlink:href=\"#m34174a6854\" y=\"203.320204\"/>\n     <use style=\"fill:#1f77b4;stroke:#1f77b4;\" x=\"73.688182\" xlink:href=\"#m34174a6854\" y=\"161.88352\"/>\n     <use style=\"fill:#1f77b4;stroke:#1f77b4;\" x=\"77.776847\" xlink:href=\"#m34174a6854\" y=\"205.713213\"/>\n     <use style=\"fill:#1f77b4;stroke:#1f77b4;\" x=\"114.030289\" xlink:href=\"#m34174a6854\" y=\"186.066299\"/>\n     <use style=\"fill:#1f77b4;stroke:#1f77b4;\" x=\"171.430792\" xlink:href=\"#m34174a6854\" y=\"156.719486\"/>\n     <use style=\"fill:#1f77b4;stroke:#1f77b4;\" x=\"67.461274\" xlink:href=\"#m34174a6854\" y=\"211.194193\"/>\n     <use style=\"fill:#1f77b4;stroke:#1f77b4;\" x=\"71.91145\" xlink:href=\"#m34174a6854\" y=\"209.136736\"/>\n     <use style=\"fill:#1f77b4;stroke:#1f77b4;\" x=\"100.575202\" xlink:href=\"#m34174a6854\" y=\"193.717817\"/>\n     <use style=\"fill:#1f77b4;stroke:#1f77b4;\" x=\"61.75738\" xlink:href=\"#m34174a6854\" y=\"214.344497\"/>\n     <use style=\"fill:#1f77b4;stroke:#1f77b4;\" x=\"64.414418\" xlink:href=\"#m34174a6854\" y=\"212.841046\"/>\n     <use style=\"fill:#1f77b4;stroke:#1f77b4;\" x=\"90.444454\" xlink:href=\"#m34174a6854\" y=\"199.437692\"/>\n     <use style=\"fill:#1f77b4;stroke:#1f77b4;\" x=\"106.506002\" xlink:href=\"#m34174a6854\" y=\"128.469217\"/>\n     <use style=\"fill:#1f77b4;stroke:#1f77b4;\" x=\"192.645063\" xlink:href=\"#m34174a6854\" y=\"115.597565\"/>\n     <use style=\"fill:#1f77b4;stroke:#1f77b4;\" x=\"176.817004\" xlink:href=\"#m34174a6854\" y=\"160.723662\"/>\n     <use style=\"fill:#1f77b4;stroke:#1f77b4;\" x=\"97.588816\" xlink:href=\"#m34174a6854\" y=\"195.724821\"/>\n     <use style=\"fill:#1f77b4;stroke:#1f77b4;\" x=\"61.80292\" xlink:href=\"#m34174a6854\" y=\"214.332217\"/>\n     <use style=\"fill:#1f77b4;stroke:#1f77b4;\" x=\"81.850626\" xlink:href=\"#m34174a6854\" y=\"203.55907\"/>\n     <use style=\"fill:#1f77b4;stroke:#1f77b4;\" x=\"70.867441\" xlink:href=\"#m34174a6854\" y=\"209.810104\"/>\n     <use style=\"fill:#1f77b4;stroke:#1f77b4;\" x=\"266.141237\" xlink:href=\"#m34174a6854\" y=\"104.014386\"/>\n     <use style=\"fill:#1f77b4;stroke:#1f77b4;\" x=\"90.326522\" xlink:href=\"#m34174a6854\" y=\"199.177882\"/>\n     <use style=\"fill:#1f77b4;stroke:#1f77b4;\" x=\"67.398362\" xlink:href=\"#m34174a6854\" y=\"211.551311\"/>\n     <use style=\"fill:#1f77b4;stroke:#1f77b4;\" x=\"134.117424\" xlink:href=\"#m34174a6854\" y=\"174.681579\"/>\n     <use style=\"fill:#1f77b4;stroke:#1f77b4;\" x=\"118.434831\" xlink:href=\"#m34174a6854\" y=\"183.697295\"/>\n     <use style=\"fill:#1f77b4;stroke:#1f77b4;\" x=\"97.696736\" xlink:href=\"#m34174a6854\" y=\"195.110844\"/>\n     <use style=\"fill:#1f77b4;stroke:#1f77b4;\" x=\"89.384571\" xlink:href=\"#m34174a6854\" y=\"199.819254\"/>\n     <use style=\"fill:#1f77b4;stroke:#1f77b4;\" x=\"297.05404\" xlink:href=\"#m34174a6854\" y=\"33.488969\"/>\n     <use style=\"fill:#1f77b4;stroke:#1f77b4;\" x=\"114.380961\" xlink:href=\"#m34174a6854\" y=\"187.409716\"/>\n     <use style=\"fill:#1f77b4;stroke:#1f77b4;\" x=\"138.155679\" xlink:href=\"#m34174a6854\" y=\"172.696817\"/>\n     <use style=\"fill:#1f77b4;stroke:#1f77b4;\" x=\"83.693863\" xlink:href=\"#m34174a6854\" y=\"202.735524\"/>\n     <use style=\"fill:#1f77b4;stroke:#1f77b4;\" x=\"75.437859\" xlink:href=\"#m34174a6854\" y=\"207.250816\"/>\n     <use style=\"fill:#1f77b4;stroke:#1f77b4;\" x=\"105.045221\" xlink:href=\"#m34174a6854\" y=\"152.418095\"/>\n     <use style=\"fill:#1f77b4;stroke:#1f77b4;\" x=\"64.509299\" xlink:href=\"#m34174a6854\" y=\"213.135\"/>\n     <use style=\"fill:#1f77b4;stroke:#1f77b4;\" x=\"80.419106\" xlink:href=\"#m34174a6854\" y=\"205.078414\"/>\n     <use style=\"fill:#1f77b4;stroke:#1f77b4;\" x=\"78.783987\" xlink:href=\"#m34174a6854\" y=\"205.202659\"/>\n     <use style=\"fill:#1f77b4;stroke:#1f77b4;\" x=\"130.684092\" xlink:href=\"#m34174a6854\" y=\"176.868807\"/>\n     <use style=\"fill:#1f77b4;stroke:#1f77b4;\" x=\"97.892748\" xlink:href=\"#m34174a6854\" y=\"195.14364\"/>\n     <use style=\"fill:#1f77b4;stroke:#1f77b4;\" x=\"79.807757\" xlink:href=\"#m34174a6854\" y=\"204.906525\"/>\n     <use style=\"fill:#1f77b4;stroke:#1f77b4;\" x=\"81.817636\" xlink:href=\"#m34174a6854\" y=\"203.894943\"/>\n     <use style=\"fill:#1f77b4;stroke:#1f77b4;\" x=\"76.561546\" xlink:href=\"#m34174a6854\" y=\"206.955614\"/>\n     <use style=\"fill:#1f77b4;stroke:#1f77b4;\" x=\"99.454683\" xlink:href=\"#m34174a6854\" y=\"194.88576\"/>\n     <use style=\"fill:#1f77b4;stroke:#1f77b4;\" x=\"84.042728\" xlink:href=\"#m34174a6854\" y=\"202.480503\"/>\n     <use style=\"fill:#1f77b4;stroke:#1f77b4;\" x=\"203.087458\" xlink:href=\"#m34174a6854\" y=\"137.272847\"/>\n     <use style=\"fill:#1f77b4;stroke:#1f77b4;\" x=\"136.20373\" xlink:href=\"#m34174a6854\" y=\"174.099689\"/>\n     <use style=\"fill:#1f77b4;stroke:#1f77b4;\" x=\"87.529066\" xlink:href=\"#m34174a6854\" y=\"200.642957\"/>\n     <use style=\"fill:#1f77b4;stroke:#1f77b4;\" x=\"80.696945\" xlink:href=\"#m34174a6854\" y=\"204.569151\"/>\n     <use style=\"fill:#1f77b4;stroke:#1f77b4;\" x=\"86.352\" xlink:href=\"#m34174a6854\" y=\"201.074595\"/>\n     <use style=\"fill:#1f77b4;stroke:#1f77b4;\" x=\"73.406534\" xlink:href=\"#m34174a6854\" y=\"208.178845\"/>\n     <use style=\"fill:#1f77b4;stroke:#1f77b4;\" x=\"68.072964\" xlink:href=\"#m34174a6854\" y=\"211.35113\"/>\n     <use style=\"fill:#1f77b4;stroke:#1f77b4;\" x=\"65.347112\" xlink:href=\"#m34174a6854\" y=\"212.54007\"/>\n     <use style=\"fill:#1f77b4;stroke:#1f77b4;\" x=\"157.849685\" xlink:href=\"#m34174a6854\" y=\"162.564289\"/>\n     <use style=\"fill:#1f77b4;stroke:#1f77b4;\" x=\"69.139819\" xlink:href=\"#m34174a6854\" y=\"210.708602\"/>\n     <use style=\"fill:#1f77b4;stroke:#1f77b4;\" x=\"135.78912\" xlink:href=\"#m34174a6854\" y=\"173.228087\"/>\n     <use style=\"fill:#1f77b4;stroke:#1f77b4;\" x=\"303.413825\" xlink:href=\"#m34174a6854\" y=\"77.441409\"/>\n     <use style=\"fill:#1f77b4;stroke:#1f77b4;\" x=\"103.738473\" xlink:href=\"#m34174a6854\" y=\"191.609523\"/>\n     <use style=\"fill:#1f77b4;stroke:#1f77b4;\" x=\"107.588006\" xlink:href=\"#m34174a6854\" y=\"190.305346\"/>\n     <use style=\"fill:#1f77b4;stroke:#1f77b4;\" x=\"79.598838\" xlink:href=\"#m34174a6854\" y=\"205.253441\"/>\n     <use style=\"fill:#1f77b4;stroke:#1f77b4;\" x=\"156.398587\" xlink:href=\"#m34174a6854\" y=\"164.092894\"/>\n     <use style=\"fill:#1f77b4;stroke:#1f77b4;\" x=\"87.057925\" xlink:href=\"#m34174a6854\" y=\"201.178791\"/>\n     <use style=\"fill:#1f77b4;stroke:#1f77b4;\" x=\"119.665966\" xlink:href=\"#m34174a6854\" y=\"136.28196\"/>\n     <use style=\"fill:#1f77b4;stroke:#1f77b4;\" x=\"85.160467\" xlink:href=\"#m34174a6854\" y=\"202.083616\"/>\n     <use style=\"fill:#1f77b4;stroke:#1f77b4;\" x=\"73.55994\" xlink:href=\"#m34174a6854\" y=\"207.947321\"/>\n     <use style=\"fill:#1f77b4;stroke:#1f77b4;\" x=\"71.411181\" xlink:href=\"#m34174a6854\" y=\"209.539708\"/>\n     <use style=\"fill:#1f77b4;stroke:#1f77b4;\" x=\"106.072768\" xlink:href=\"#m34174a6854\" y=\"191.170911\"/>\n     <use style=\"fill:#1f77b4;stroke:#1f77b4;\" x=\"139.846747\" xlink:href=\"#m34174a6854\" y=\"172.258876\"/>\n     <use style=\"fill:#1f77b4;stroke:#1f77b4;\" x=\"86.416488\" xlink:href=\"#m34174a6854\" y=\"201.341789\"/>\n     <use style=\"fill:#1f77b4;stroke:#1f77b4;\" x=\"117.511688\" xlink:href=\"#m34174a6854\" y=\"184.230837\"/>\n     <use style=\"fill:#1f77b4;stroke:#1f77b4;\" x=\"80.305647\" xlink:href=\"#m34174a6854\" y=\"204.292279\"/>\n     <use style=\"fill:#1f77b4;stroke:#1f77b4;\" x=\"66.345288\" xlink:href=\"#m34174a6854\" y=\"212.043758\"/>\n     <use style=\"fill:#1f77b4;stroke:#1f77b4;\" x=\"280.653499\" xlink:href=\"#m34174a6854\" y=\"96.781818\"/>\n     <use style=\"fill:#1f77b4;stroke:#1f77b4;\" x=\"81.143663\" xlink:href=\"#m34174a6854\" y=\"161.00328\"/>\n     <use style=\"fill:#1f77b4;stroke:#1f77b4;\" x=\"108.271053\" xlink:href=\"#m34174a6854\" y=\"189.936158\"/>\n     <use style=\"fill:#1f77b4;stroke:#1f77b4;\" x=\"80.577707\" xlink:href=\"#m34174a6854\" y=\"204.572471\"/>\n     <use style=\"fill:#1f77b4;stroke:#1f77b4;\" x=\"238.867378\" xlink:href=\"#m34174a6854\" y=\"113.202056\"/>\n     <use style=\"fill:#1f77b4;stroke:#1f77b4;\" x=\"86.577188\" xlink:href=\"#m34174a6854\" y=\"201.486818\"/>\n     <use style=\"fill:#1f77b4;stroke:#1f77b4;\" x=\"269.313671\" xlink:href=\"#m34174a6854\" y=\"97.503991\"/>\n     <use style=\"fill:#1f77b4;stroke:#1f77b4;\" x=\"251.972423\" xlink:href=\"#m34174a6854\" y=\"108.402574\"/>\n     <use style=\"fill:#1f77b4;stroke:#1f77b4;\" x=\"80.455071\" xlink:href=\"#m34174a6854\" y=\"204.405965\"/>\n     <use style=\"fill:#1f77b4;stroke:#1f77b4;\" x=\"61.233184\" xlink:href=\"#m34174a6854\" y=\"214.711979\"/>\n     <use style=\"fill:#1f77b4;stroke:#1f77b4;\" x=\"245.708258\" xlink:href=\"#m34174a6854\" y=\"106.310678\"/>\n     <use style=\"fill:#1f77b4;stroke:#1f77b4;\" x=\"110.067618\" xlink:href=\"#m34174a6854\" y=\"188.319356\"/>\n     <use style=\"fill:#1f77b4;stroke:#1f77b4;\" x=\"242.876629\" xlink:href=\"#m34174a6854\" y=\"104.110002\"/>\n     <use style=\"fill:#1f77b4;stroke:#1f77b4;\" x=\"67.088006\" xlink:href=\"#m34174a6854\" y=\"211.498594\"/>\n     <use style=\"fill:#1f77b4;stroke:#1f77b4;\" x=\"109.21188\" xlink:href=\"#m34174a6854\" y=\"189.063292\"/>\n     <use style=\"fill:#1f77b4;stroke:#1f77b4;\" x=\"333.194521\" xlink:href=\"#m34174a6854\" y=\"64.242143\"/>\n     <use style=\"fill:#1f77b4;stroke:#1f77b4;\" x=\"69.797329\" xlink:href=\"#m34174a6854\" y=\"210.198279\"/>\n     <use style=\"fill:#1f77b4;stroke:#1f77b4;\" x=\"107.721065\" xlink:href=\"#m34174a6854\" y=\"189.967628\"/>\n     <use style=\"fill:#1f77b4;stroke:#1f77b4;\" x=\"133.917045\" xlink:href=\"#m34174a6854\" y=\"175.792228\"/>\n     <use style=\"fill:#1f77b4;stroke:#1f77b4;\" x=\"167.48147\" xlink:href=\"#m34174a6854\" y=\"158.272765\"/>\n     <use style=\"fill:#1f77b4;stroke:#1f77b4;\" x=\"101.436991\" xlink:href=\"#m34174a6854\" y=\"193.098817\"/>\n     <use style=\"fill:#1f77b4;stroke:#1f77b4;\" x=\"106.522326\" xlink:href=\"#m34174a6854\" y=\"190.456397\"/>\n     <use style=\"fill:#1f77b4;stroke:#1f77b4;\" x=\"83.250048\" xlink:href=\"#m34174a6854\" y=\"203.215265\"/>\n     <use style=\"fill:#1f77b4;stroke:#1f77b4;\" x=\"99.907412\" xlink:href=\"#m34174a6854\" y=\"193.915908\"/>\n     <use style=\"fill:#1f77b4;stroke:#1f77b4;\" x=\"267.166045\" xlink:href=\"#m34174a6854\" y=\"99.336797\"/>\n     <use style=\"fill:#1f77b4;stroke:#1f77b4;\" x=\"75.36231\" xlink:href=\"#m34174a6854\" y=\"206.944807\"/>\n     <use style=\"fill:#1f77b4;stroke:#1f77b4;\" x=\"81.201491\" xlink:href=\"#m34174a6854\" y=\"204.36518\"/>\n     <use style=\"fill:#1f77b4;stroke:#1f77b4;\" x=\"64.562794\" xlink:href=\"#m34174a6854\" y=\"213.122918\"/>\n     <use style=\"fill:#1f77b4;stroke:#1f77b4;\" x=\"63.562498\" xlink:href=\"#m34174a6854\" y=\"165.961393\"/>\n     <use style=\"fill:#1f77b4;stroke:#1f77b4;\" x=\"76.023586\" xlink:href=\"#m34174a6854\" y=\"207.073143\"/>\n     <use style=\"fill:#1f77b4;stroke:#1f77b4;\" x=\"71.899999\" xlink:href=\"#m34174a6854\" y=\"209.249653\"/>\n     <use style=\"fill:#1f77b4;stroke:#1f77b4;\" x=\"92.538333\" xlink:href=\"#m34174a6854\" y=\"198.122665\"/>\n     <use style=\"fill:#1f77b4;stroke:#1f77b4;\" x=\"188.593887\" xlink:href=\"#m34174a6854\" y=\"147.370255\"/>\n     <use style=\"fill:#1f77b4;stroke:#1f77b4;\" x=\"61.23181\" xlink:href=\"#m34174a6854\" y=\"214.710532\"/>\n     <use style=\"fill:#1f77b4;stroke:#1f77b4;\" x=\"76.960307\" xlink:href=\"#m34174a6854\" y=\"206.607956\"/>\n     <use style=\"fill:#1f77b4;stroke:#1f77b4;\" x=\"222.765856\" xlink:href=\"#m34174a6854\" y=\"125.749177\"/>\n     <use style=\"fill:#1f77b4;stroke:#1f77b4;\" x=\"244.897098\" xlink:href=\"#m34174a6854\" y=\"89.812083\"/>\n     <use style=\"fill:#1f77b4;stroke:#1f77b4;\" x=\"116.433768\" xlink:href=\"#m34174a6854\" y=\"185.621391\"/>\n     <use style=\"fill:#1f77b4;stroke:#1f77b4;\" x=\"104.139271\" xlink:href=\"#m34174a6854\" y=\"192.168621\"/>\n     <use style=\"fill:#1f77b4;stroke:#1f77b4;\" x=\"108.473805\" xlink:href=\"#m34174a6854\" y=\"189.454058\"/>\n     <use style=\"fill:#1f77b4;stroke:#1f77b4;\" x=\"94.231678\" xlink:href=\"#m34174a6854\" y=\"197.562855\"/>\n     <use style=\"fill:#1f77b4;stroke:#1f77b4;\" x=\"291.417391\" xlink:href=\"#m34174a6854\" y=\"86.797134\"/>\n     <use style=\"fill:#1f77b4;stroke:#1f77b4;\" x=\"276.746422\" xlink:href=\"#m34174a6854\" y=\"89.115608\"/>\n     <use style=\"fill:#1f77b4;stroke:#1f77b4;\" x=\"235.966703\" xlink:href=\"#m34174a6854\" y=\"123.054728\"/>\n     <use style=\"fill:#1f77b4;stroke:#1f77b4;\" x=\"127.018249\" xlink:href=\"#m34174a6854\" y=\"179.582065\"/>\n     <use style=\"fill:#1f77b4;stroke:#1f77b4;\" x=\"80.362837\" xlink:href=\"#m34174a6854\" y=\"204.302279\"/>\n     <use style=\"fill:#1f77b4;stroke:#1f77b4;\" x=\"64.787318\" xlink:href=\"#m34174a6854\" y=\"212.868002\"/>\n     <use style=\"fill:#1f77b4;stroke:#1f77b4;\" x=\"90.457906\" xlink:href=\"#m34174a6854\" y=\"199.397644\"/>\n     <use style=\"fill:#1f77b4;stroke:#1f77b4;\" x=\"66.198833\" xlink:href=\"#m34174a6854\" y=\"212.246526\"/>\n     <use style=\"fill:#1f77b4;stroke:#1f77b4;\" x=\"105.650007\" xlink:href=\"#m34174a6854\" y=\"190.534288\"/>\n     <use style=\"fill:#1f77b4;stroke:#1f77b4;\" x=\"103.620433\" xlink:href=\"#m34174a6854\" y=\"192.362414\"/>\n     <use style=\"fill:#1f77b4;stroke:#1f77b4;\" x=\"104.087829\" xlink:href=\"#m34174a6854\" y=\"192.158972\"/>\n     <use style=\"fill:#1f77b4;stroke:#1f77b4;\" x=\"109.305441\" xlink:href=\"#m34174a6854\" y=\"188.663996\"/>\n     <use style=\"fill:#1f77b4;stroke:#1f77b4;\" x=\"67.860385\" xlink:href=\"#m34174a6854\" y=\"211.299055\"/>\n     <use style=\"fill:#1f77b4;stroke:#1f77b4;\" x=\"91.548146\" xlink:href=\"#m34174a6854\" y=\"198.779852\"/>\n     <use style=\"fill:#1f77b4;stroke:#1f77b4;\" x=\"110.792778\" xlink:href=\"#m34174a6854\" y=\"188.189604\"/>\n     <use style=\"fill:#1f77b4;stroke:#1f77b4;\" x=\"185.567348\" xlink:href=\"#m34174a6854\" y=\"148.947644\"/>\n     <use style=\"fill:#1f77b4;stroke:#1f77b4;\" x=\"95.264353\" xlink:href=\"#m34174a6854\" y=\"196.842087\"/>\n     <use style=\"fill:#1f77b4;stroke:#1f77b4;\" x=\"109.925733\" xlink:href=\"#m34174a6854\" y=\"188.946242\"/>\n     <use style=\"fill:#1f77b4;stroke:#1f77b4;\" x=\"64.803485\" xlink:href=\"#m34174a6854\" y=\"212.870897\"/>\n     <use style=\"fill:#1f77b4;stroke:#1f77b4;\" x=\"123.631085\" xlink:href=\"#m34174a6854\" y=\"126.205115\"/>\n     <use style=\"fill:#1f77b4;stroke:#1f77b4;\" x=\"296.572362\" xlink:href=\"#m34174a6854\" y=\"83.071534\"/>\n     <use style=\"fill:#1f77b4;stroke:#1f77b4;\" x=\"67.678575\" xlink:href=\"#m34174a6854\" y=\"211.549994\"/>\n     <use style=\"fill:#1f77b4;stroke:#1f77b4;\" x=\"126.779692\" xlink:href=\"#m34174a6854\" y=\"179.725118\"/>\n     <use style=\"fill:#1f77b4;stroke:#1f77b4;\" x=\"73.064654\" xlink:href=\"#m34174a6854\" y=\"208.287618\"/>\n     <use style=\"fill:#1f77b4;stroke:#1f77b4;\" x=\"80.982323\" xlink:href=\"#m34174a6854\" y=\"204.256945\"/>\n     <use style=\"fill:#1f77b4;stroke:#1f77b4;\" x=\"110.187374\" xlink:href=\"#m34174a6854\" y=\"188.487603\"/>\n     <use style=\"fill:#1f77b4;stroke:#1f77b4;\" x=\"138.670005\" xlink:href=\"#m34174a6854\" y=\"173.132208\"/>\n     <use style=\"fill:#1f77b4;stroke:#1f77b4;\" x=\"330.793312\" xlink:href=\"#m34174a6854\" y=\"68.432193\"/>\n     <use style=\"fill:#1f77b4;stroke:#1f77b4;\" x=\"109.164425\" xlink:href=\"#m34174a6854\" y=\"188.758715\"/>\n     <use style=\"fill:#1f77b4;stroke:#1f77b4;\" x=\"96.894573\" xlink:href=\"#m34174a6854\" y=\"196.061903\"/>\n     <use style=\"fill:#1f77b4;stroke:#1f77b4;\" x=\"67.548167\" xlink:href=\"#m34174a6854\" y=\"211.58041\"/>\n     <use style=\"fill:#1f77b4;stroke:#1f77b4;\" x=\"97.262604\" xlink:href=\"#m34174a6854\" y=\"195.489243\"/>\n     <use style=\"fill:#1f77b4;stroke:#1f77b4;\" x=\"203.11601\" xlink:href=\"#m34174a6854\" y=\"138.208324\"/>\n     <use style=\"fill:#1f77b4;stroke:#1f77b4;\" x=\"129.456428\" xlink:href=\"#m34174a6854\" y=\"177.86006\"/>\n     <use style=\"fill:#1f77b4;stroke:#1f77b4;\" x=\"194.348806\" xlink:href=\"#m34174a6854\" y=\"147.834183\"/>\n     <use style=\"fill:#1f77b4;stroke:#1f77b4;\" x=\"96.00817\" xlink:href=\"#m34174a6854\" y=\"196.251298\"/>\n     <use style=\"fill:#1f77b4;stroke:#1f77b4;\" x=\"96.105194\" xlink:href=\"#m34174a6854\" y=\"195.965771\"/>\n     <use style=\"fill:#1f77b4;stroke:#1f77b4;\" x=\"223.359043\" xlink:href=\"#m34174a6854\" y=\"125.14279\"/>\n     <use style=\"fill:#1f77b4;stroke:#1f77b4;\" x=\"113.312233\" xlink:href=\"#m34174a6854\" y=\"186.472665\"/>\n     <use style=\"fill:#1f77b4;stroke:#1f77b4;\" x=\"115.315177\" xlink:href=\"#m34174a6854\" y=\"186.405223\"/>\n     <use style=\"fill:#1f77b4;stroke:#1f77b4;\" x=\"72.290859\" xlink:href=\"#m34174a6854\" y=\"178.508649\"/>\n     <use style=\"fill:#1f77b4;stroke:#1f77b4;\" x=\"128.585488\" xlink:href=\"#m34174a6854\" y=\"178.399156\"/>\n     <use style=\"fill:#1f77b4;stroke:#1f77b4;\" x=\"246.995834\" xlink:href=\"#m34174a6854\" y=\"111.86064\"/>\n     <use style=\"fill:#1f77b4;stroke:#1f77b4;\" x=\"75.380709\" xlink:href=\"#m34174a6854\" y=\"206.964104\"/>\n     <use style=\"fill:#1f77b4;stroke:#1f77b4;\" x=\"73.316434\" xlink:href=\"#m34174a6854\" y=\"208.302013\"/>\n     <use style=\"fill:#1f77b4;stroke:#1f77b4;\" x=\"262.306272\" xlink:href=\"#m34174a6854\" y=\"101.12892\"/>\n     <use style=\"fill:#1f77b4;stroke:#1f77b4;\" x=\"78.829132\" xlink:href=\"#m34174a6854\" y=\"205.573388\"/>\n     <use style=\"fill:#1f77b4;stroke:#1f77b4;\" x=\"271.530641\" xlink:href=\"#m34174a6854\" y=\"101.300964\"/>\n     <use style=\"fill:#1f77b4;stroke:#1f77b4;\" x=\"195.135154\" xlink:href=\"#m34174a6854\" y=\"157.24065\"/>\n     <use style=\"fill:#1f77b4;stroke:#1f77b4;\" x=\"170.353547\" xlink:href=\"#m34174a6854\" y=\"158.217181\"/>\n     <use style=\"fill:#1f77b4;stroke:#1f77b4;\" x=\"161.60095\" xlink:href=\"#m34174a6854\" y=\"163.090708\"/>\n     <use style=\"fill:#1f77b4;stroke:#1f77b4;\" x=\"319.43207\" xlink:href=\"#m34174a6854\" y=\"69.823546\"/>\n     <use style=\"fill:#1f77b4;stroke:#1f77b4;\" x=\"75.070616\" xlink:href=\"#m34174a6854\" y=\"207.302188\"/>\n     <use style=\"fill:#1f77b4;stroke:#1f77b4;\" x=\"65.903211\" xlink:href=\"#m34174a6854\" y=\"212.08152\"/>\n     <use style=\"fill:#1f77b4;stroke:#1f77b4;\" x=\"134.701517\" xlink:href=\"#m34174a6854\" y=\"174.655352\"/>\n     <use style=\"fill:#1f77b4;stroke:#1f77b4;\" x=\"67.851896\" xlink:href=\"#m34174a6854\" y=\"211.299471\"/>\n     <use style=\"fill:#1f77b4;stroke:#1f77b4;\" x=\"129.102388\" xlink:href=\"#m34174a6854\" y=\"178.402977\"/>\n     <use style=\"fill:#1f77b4;stroke:#1f77b4;\" x=\"80.140346\" xlink:href=\"#m34174a6854\" y=\"204.835293\"/>\n     <use style=\"fill:#1f77b4;stroke:#1f77b4;\" x=\"102.837053\" xlink:href=\"#m34174a6854\" y=\"192.96992\"/>\n     <use style=\"fill:#1f77b4;stroke:#1f77b4;\" x=\"67.246757\" xlink:href=\"#m34174a6854\" y=\"211.45956\"/>\n     <use style=\"fill:#1f77b4;stroke:#1f77b4;\" x=\"127.272901\" xlink:href=\"#m34174a6854\" y=\"179.073232\"/>\n     <use style=\"fill:#1f77b4;stroke:#1f77b4;\" x=\"141.676846\" xlink:href=\"#m34174a6854\" y=\"171.876736\"/>\n     <use style=\"fill:#1f77b4;stroke:#1f77b4;\" x=\"124.047166\" xlink:href=\"#m34174a6854\" y=\"180.650322\"/>\n     <use style=\"fill:#1f77b4;stroke:#1f77b4;\" x=\"161.94115\" xlink:href=\"#m34174a6854\" y=\"161.802662\"/>\n     <use style=\"fill:#1f77b4;stroke:#1f77b4;\" x=\"114.142169\" xlink:href=\"#m34174a6854\" y=\"186.771811\"/>\n     <use style=\"fill:#1f77b4;stroke:#1f77b4;\" x=\"112.825292\" xlink:href=\"#m34174a6854\" y=\"187.165375\"/>\n     <use style=\"fill:#1f77b4;stroke:#1f77b4;\" x=\"300.958807\" xlink:href=\"#m34174a6854\" y=\"64.050664\"/>\n     <use style=\"fill:#1f77b4;stroke:#1f77b4;\" x=\"71.319269\" xlink:href=\"#m34174a6854\" y=\"209.742792\"/>\n     <use style=\"fill:#1f77b4;stroke:#1f77b4;\" x=\"61.890208\" xlink:href=\"#m34174a6854\" y=\"214.315989\"/>\n     <use style=\"fill:#1f77b4;stroke:#1f77b4;\" x=\"70.031743\" xlink:href=\"#m34174a6854\" y=\"210.320237\"/>\n     <use style=\"fill:#1f77b4;stroke:#1f77b4;\" x=\"72.805616\" xlink:href=\"#m34174a6854\" y=\"208.652461\"/>\n     <use style=\"fill:#1f77b4;stroke:#1f77b4;\" x=\"118.813557\" xlink:href=\"#m34174a6854\" y=\"183.643481\"/>\n     <use style=\"fill:#1f77b4;stroke:#1f77b4;\" x=\"314.050696\" xlink:href=\"#m34174a6854\" y=\"78.201168\"/>\n     <use style=\"fill:#1f77b4;stroke:#1f77b4;\" x=\"113.293444\" xlink:href=\"#m34174a6854\" y=\"186.516179\"/>\n     <use style=\"fill:#1f77b4;stroke:#1f77b4;\" x=\"148.932119\" xlink:href=\"#m34174a6854\" y=\"166.389256\"/>\n     <use style=\"fill:#1f77b4;stroke:#1f77b4;\" x=\"86.862883\" xlink:href=\"#m34174a6854\" y=\"201.029151\"/>\n     <use style=\"fill:#1f77b4;stroke:#1f77b4;\" x=\"198.387799\" xlink:href=\"#m34174a6854\" y=\"140.463953\"/>\n     <use style=\"fill:#1f77b4;stroke:#1f77b4;\" x=\"92.748802\" xlink:href=\"#m34174a6854\" y=\"197.868952\"/>\n     <use style=\"fill:#1f77b4;stroke:#1f77b4;\" x=\"233.559535\" xlink:href=\"#m34174a6854\" y=\"112.671131\"/>\n     <use style=\"fill:#1f77b4;stroke:#1f77b4;\" x=\"70.920717\" xlink:href=\"#m34174a6854\" y=\"209.778321\"/>\n     <use style=\"fill:#1f77b4;stroke:#1f77b4;\" x=\"105.815565\" xlink:href=\"#m34174a6854\" y=\"190.585164\"/>\n     <use style=\"fill:#1f77b4;stroke:#1f77b4;\" x=\"251.43547\" xlink:href=\"#m34174a6854\" y=\"108.557305\"/>\n     <use style=\"fill:#1f77b4;stroke:#1f77b4;\" x=\"116.024288\" xlink:href=\"#m34174a6854\" y=\"184.842848\"/>\n     <use style=\"fill:#1f77b4;stroke:#1f77b4;\" x=\"97.576113\" xlink:href=\"#m34174a6854\" y=\"195.399295\"/>\n     <use style=\"fill:#1f77b4;stroke:#1f77b4;\" x=\"81.116029\" xlink:href=\"#m34174a6854\" y=\"172.991742\"/>\n     <use style=\"fill:#1f77b4;stroke:#1f77b4;\" x=\"104.56587\" xlink:href=\"#m34174a6854\" y=\"191.760254\"/>\n     <use style=\"fill:#1f77b4;stroke:#1f77b4;\" x=\"64.069206\" xlink:href=\"#m34174a6854\" y=\"212.987134\"/>\n     <use style=\"fill:#1f77b4;stroke:#1f77b4;\" x=\"104.63586\" xlink:href=\"#m34174a6854\" y=\"191.407003\"/>\n     <use style=\"fill:#1f77b4;stroke:#1f77b4;\" x=\"62.72988\" xlink:href=\"#m34174a6854\" y=\"213.905532\"/>\n     <use style=\"fill:#1f77b4;stroke:#1f77b4;\" x=\"127.187439\" xlink:href=\"#m34174a6854\" y=\"132.085734\"/>\n     <use style=\"fill:#1f77b4;stroke:#1f77b4;\" x=\"132.340637\" xlink:href=\"#m34174a6854\" y=\"175.998627\"/>\n     <use style=\"fill:#1f77b4;stroke:#1f77b4;\" x=\"92.040737\" xlink:href=\"#m34174a6854\" y=\"198.095253\"/>\n     <use style=\"fill:#1f77b4;stroke:#1f77b4;\" x=\"97.898021\" xlink:href=\"#m34174a6854\" y=\"194.817685\"/>\n     <use style=\"fill:#1f77b4;stroke:#1f77b4;\" x=\"92.304609\" xlink:href=\"#m34174a6854\" y=\"198.374596\"/>\n     <use style=\"fill:#1f77b4;stroke:#1f77b4;\" x=\"97.255309\" xlink:href=\"#m34174a6854\" y=\"195.70344\"/>\n     <use style=\"fill:#1f77b4;stroke:#1f77b4;\" x=\"69.895215\" xlink:href=\"#m34174a6854\" y=\"139.156573\"/>\n     <use style=\"fill:#1f77b4;stroke:#1f77b4;\" x=\"86.952502\" xlink:href=\"#m34174a6854\" y=\"201.265266\"/>\n     <use style=\"fill:#1f77b4;stroke:#1f77b4;\" x=\"307.641449\" xlink:href=\"#m34174a6854\" y=\"78.127346\"/>\n     <use style=\"fill:#1f77b4;stroke:#1f77b4;\" x=\"69.685626\" xlink:href=\"#m34174a6854\" y=\"210.519649\"/>\n     <use style=\"fill:#1f77b4;stroke:#1f77b4;\" x=\"82.866966\" xlink:href=\"#m34174a6854\" y=\"203.002859\"/>\n     <use style=\"fill:#1f77b4;stroke:#1f77b4;\" x=\"64.562407\" xlink:href=\"#m34174a6854\" y=\"213.157916\"/>\n     <use style=\"fill:#1f77b4;stroke:#1f77b4;\" x=\"191.181656\" xlink:href=\"#m34174a6854\" y=\"98.933405\"/>\n     <use style=\"fill:#1f77b4;stroke:#1f77b4;\" x=\"89.487817\" xlink:href=\"#m34174a6854\" y=\"199.595408\"/>\n     <use style=\"fill:#1f77b4;stroke:#1f77b4;\" x=\"239.116774\" xlink:href=\"#m34174a6854\" y=\"148.425905\"/>\n     <use style=\"fill:#1f77b4;stroke:#1f77b4;\" x=\"106.581924\" xlink:href=\"#m34174a6854\" y=\"190.639497\"/>\n     <use style=\"fill:#1f77b4;stroke:#1f77b4;\" x=\"103.4672\" xlink:href=\"#m34174a6854\" y=\"192.205155\"/>\n     <use style=\"fill:#1f77b4;stroke:#1f77b4;\" x=\"79.070205\" xlink:href=\"#m34174a6854\" y=\"205.440195\"/>\n     <use style=\"fill:#1f77b4;stroke:#1f77b4;\" x=\"71.785157\" xlink:href=\"#m34174a6854\" y=\"209.301512\"/>\n     <use style=\"fill:#1f77b4;stroke:#1f77b4;\" x=\"84.38136\" xlink:href=\"#m34174a6854\" y=\"202.763073\"/>\n     <use style=\"fill:#1f77b4;stroke:#1f77b4;\" x=\"134.114558\" xlink:href=\"#m34174a6854\" y=\"133.100937\"/>\n     <use style=\"fill:#1f77b4;stroke:#1f77b4;\" x=\"181.164591\" xlink:href=\"#m34174a6854\" y=\"152.749892\"/>\n     <use style=\"fill:#1f77b4;stroke:#1f77b4;\" x=\"94.103617\" xlink:href=\"#m34174a6854\" y=\"197.491913\"/>\n     <use style=\"fill:#1f77b4;stroke:#1f77b4;\" x=\"121.335191\" xlink:href=\"#m34174a6854\" y=\"181.900604\"/>\n     <use style=\"fill:#1f77b4;stroke:#1f77b4;\" x=\"71.935253\" xlink:href=\"#m34174a6854\" y=\"208.912019\"/>\n     <use style=\"fill:#1f77b4;stroke:#1f77b4;\" x=\"124.177726\" xlink:href=\"#m34174a6854\" y=\"180.627823\"/>\n     <use style=\"fill:#1f77b4;stroke:#1f77b4;\" x=\"110.683946\" xlink:href=\"#m34174a6854\" y=\"188.36015\"/>\n     <use style=\"fill:#1f77b4;stroke:#1f77b4;\" x=\"158.09955\" xlink:href=\"#m34174a6854\" y=\"161.684091\"/>\n     <use style=\"fill:#1f77b4;stroke:#1f77b4;\" x=\"114.864624\" xlink:href=\"#m34174a6854\" y=\"152.725088\"/>\n     <use style=\"fill:#1f77b4;stroke:#1f77b4;\" x=\"97.81103\" xlink:href=\"#m34174a6854\" y=\"195.572905\"/>\n     <use style=\"fill:#1f77b4;stroke:#1f77b4;\" x=\"126.422025\" xlink:href=\"#m34174a6854\" y=\"179.285917\"/>\n     <use style=\"fill:#1f77b4;stroke:#1f77b4;\" x=\"118.042011\" xlink:href=\"#m34174a6854\" y=\"184.197742\"/>\n     <use style=\"fill:#1f77b4;stroke:#1f77b4;\" x=\"64.741933\" xlink:href=\"#m34174a6854\" y=\"212.851599\"/>\n     <use style=\"fill:#1f77b4;stroke:#1f77b4;\" x=\"118.852507\" xlink:href=\"#m34174a6854\" y=\"183.828279\"/>\n     <use style=\"fill:#1f77b4;stroke:#1f77b4;\" x=\"61.288841\" xlink:href=\"#m34174a6854\" y=\"214.669524\"/>\n     <use style=\"fill:#1f77b4;stroke:#1f77b4;\" x=\"64.503803\" xlink:href=\"#m34174a6854\" y=\"213.146667\"/>\n     <use style=\"fill:#1f77b4;stroke:#1f77b4;\" x=\"279.145732\" xlink:href=\"#m34174a6854\" y=\"95.895008\"/>\n     <use style=\"fill:#1f77b4;stroke:#1f77b4;\" x=\"64.635014\" xlink:href=\"#m34174a6854\" y=\"213.198001\"/>\n     <use style=\"fill:#1f77b4;stroke:#1f77b4;\" x=\"259.768046\" xlink:href=\"#m34174a6854\" y=\"106.014285\"/>\n     <use style=\"fill:#1f77b4;stroke:#1f77b4;\" x=\"61.813406\" xlink:href=\"#m34174a6854\" y=\"214.376514\"/>\n     <use style=\"fill:#1f77b4;stroke:#1f77b4;\" x=\"96.103798\" xlink:href=\"#m34174a6854\" y=\"128.444555\"/>\n     <use style=\"fill:#1f77b4;stroke:#1f77b4;\" x=\"277.203049\" xlink:href=\"#m34174a6854\" y=\"70.888033\"/>\n     <use style=\"fill:#1f77b4;stroke:#1f77b4;\" x=\"102.567479\" xlink:href=\"#m34174a6854\" y=\"192.661519\"/>\n     <use style=\"fill:#1f77b4;stroke:#1f77b4;\" x=\"81.335468\" xlink:href=\"#m34174a6854\" y=\"204.004476\"/>\n     <use style=\"fill:#1f77b4;stroke:#1f77b4;\" x=\"84.969142\" xlink:href=\"#m34174a6854\" y=\"201.858575\"/>\n     <use style=\"fill:#1f77b4;stroke:#1f77b4;\" x=\"97.677072\" xlink:href=\"#m34174a6854\" y=\"195.120493\"/>\n     <use style=\"fill:#1f77b4;stroke:#1f77b4;\" x=\"181.810684\" xlink:href=\"#m34174a6854\" y=\"149.953374\"/>\n     <use style=\"fill:#1f77b4;stroke:#1f77b4;\" x=\"110.95817\" xlink:href=\"#m34174a6854\" y=\"187.896661\"/>\n     <use style=\"fill:#1f77b4;stroke:#1f77b4;\" x=\"113.383647\" xlink:href=\"#m34174a6854\" y=\"186.537137\"/>\n     <use style=\"fill:#1f77b4;stroke:#1f77b4;\" x=\"108.320144\" xlink:href=\"#m34174a6854\" y=\"189.577596\"/>\n     <use style=\"fill:#1f77b4;stroke:#1f77b4;\" x=\"91.403887\" xlink:href=\"#m34174a6854\" y=\"198.721224\"/>\n     <use style=\"fill:#1f77b4;stroke:#1f77b4;\" x=\"122.339071\" xlink:href=\"#m34174a6854\" y=\"182.210244\"/>\n     <use style=\"fill:#1f77b4;stroke:#1f77b4;\" x=\"105.455021\" xlink:href=\"#m34174a6854\" y=\"191.255996\"/>\n     <use style=\"fill:#1f77b4;stroke:#1f77b4;\" x=\"123.802512\" xlink:href=\"#m34174a6854\" y=\"181.247927\"/>\n     <use style=\"fill:#1f77b4;stroke:#1f77b4;\" x=\"331.005531\" xlink:href=\"#m34174a6854\" y=\"69.147303\"/>\n     <use style=\"fill:#1f77b4;stroke:#1f77b4;\" x=\"121.424004\" xlink:href=\"#m34174a6854\" y=\"181.889408\"/>\n     <use style=\"fill:#1f77b4;stroke:#1f77b4;\" x=\"195.980859\" xlink:href=\"#m34174a6854\" y=\"114.843084\"/>\n     <use style=\"fill:#1f77b4;stroke:#1f77b4;\" x=\"61.249082\" xlink:href=\"#m34174a6854\" y=\"214.677726\"/>\n     <use style=\"fill:#1f77b4;stroke:#1f77b4;\" x=\"67.825405\" xlink:href=\"#m34174a6854\" y=\"211.491051\"/>\n     <use style=\"fill:#1f77b4;stroke:#1f77b4;\" x=\"124.996665\" xlink:href=\"#m34174a6854\" y=\"180.340597\"/>\n     <use style=\"fill:#1f77b4;stroke:#1f77b4;\" x=\"284.812214\" xlink:href=\"#m34174a6854\" y=\"93.310619\"/>\n     <use style=\"fill:#1f77b4;stroke:#1f77b4;\" x=\"85.454501\" xlink:href=\"#m34174a6854\" y=\"201.760175\"/>\n     <use style=\"fill:#1f77b4;stroke:#1f77b4;\" x=\"64.537903\" xlink:href=\"#m34174a6854\" y=\"213.177739\"/>\n     <use style=\"fill:#1f77b4;stroke:#1f77b4;\" x=\"104.641797\" xlink:href=\"#m34174a6854\" y=\"191.074002\"/>\n     <use style=\"fill:#1f77b4;stroke:#1f77b4;\" x=\"298.276196\" xlink:href=\"#m34174a6854\" y=\"85.422752\"/>\n     <use style=\"fill:#1f77b4;stroke:#1f77b4;\" x=\"82.906709\" xlink:href=\"#m34174a6854\" y=\"203.054259\"/>\n     <use style=\"fill:#1f77b4;stroke:#1f77b4;\" x=\"180.220921\" xlink:href=\"#m34174a6854\" y=\"151.417771\"/>\n     <use style=\"fill:#1f77b4;stroke:#1f77b4;\" x=\"127.336239\" xlink:href=\"#m34174a6854\" y=\"179.661444\"/>\n     <use style=\"fill:#1f77b4;stroke:#1f77b4;\" x=\"92.87867\" xlink:href=\"#m34174a6854\" y=\"197.926221\"/>\n     <use style=\"fill:#1f77b4;stroke:#1f77b4;\" x=\"75.146673\" xlink:href=\"#m34174a6854\" y=\"207.592364\"/>\n     <use style=\"fill:#1f77b4;stroke:#1f77b4;\" x=\"84.62497\" xlink:href=\"#m34174a6854\" y=\"202.511072\"/>\n     <use style=\"fill:#1f77b4;stroke:#1f77b4;\" x=\"117.288059\" xlink:href=\"#m34174a6854\" y=\"184.845223\"/>\n     <use style=\"fill:#1f77b4;stroke:#1f77b4;\" x=\"146.105353\" xlink:href=\"#m34174a6854\" y=\"102.875725\"/>\n     <use style=\"fill:#1f77b4;stroke:#1f77b4;\" x=\"75.502105\" xlink:href=\"#m34174a6854\" y=\"207.342958\"/>\n     <use style=\"fill:#1f77b4;stroke:#1f77b4;\" x=\"78.627854\" xlink:href=\"#m34174a6854\" y=\"172.778101\"/>\n     <use style=\"fill:#1f77b4;stroke:#1f77b4;\" x=\"77.447323\" xlink:href=\"#m34174a6854\" y=\"205.97131\"/>\n     <use style=\"fill:#1f77b4;stroke:#1f77b4;\" x=\"109.669353\" xlink:href=\"#m34174a6854\" y=\"189.111573\"/>\n     <use style=\"fill:#1f77b4;stroke:#1f77b4;\" x=\"274.243634\" xlink:href=\"#m34174a6854\" y=\"95.091679\"/>\n     <use style=\"fill:#1f77b4;stroke:#1f77b4;\" x=\"64.49718\" xlink:href=\"#m34174a6854\" y=\"212.893644\"/>\n     <use style=\"fill:#1f77b4;stroke:#1f77b4;\" x=\"342.905236\" xlink:href=\"#m34174a6854\" y=\"72.795871\"/>\n     <use style=\"fill:#1f77b4;stroke:#1f77b4;\" x=\"81.801896\" xlink:href=\"#m34174a6854\" y=\"204.011715\"/>\n     <use style=\"fill:#1f77b4;stroke:#1f77b4;\" x=\"109.99546\" xlink:href=\"#m34174a6854\" y=\"188.680355\"/>\n     <use style=\"fill:#1f77b4;stroke:#1f77b4;\" x=\"273.927068\" xlink:href=\"#m34174a6854\" y=\"77.617288\"/>\n     <use style=\"fill:#1f77b4;stroke:#1f77b4;\" x=\"131.275735\" xlink:href=\"#m34174a6854\" y=\"174.918005\"/>\n     <use style=\"fill:#1f77b4;stroke:#1f77b4;\" x=\"68.327781\" xlink:href=\"#m34174a6854\" y=\"211.173242\"/>\n     <use style=\"fill:#1f77b4;stroke:#1f77b4;\" x=\"71.230982\" xlink:href=\"#m34174a6854\" y=\"209.681961\"/>\n     <use style=\"fill:#1f77b4;stroke:#1f77b4;\" x=\"63.561592\" xlink:href=\"#m34174a6854\" y=\"213.514859\"/>\n     <use style=\"fill:#1f77b4;stroke:#1f77b4;\" x=\"99.168968\" xlink:href=\"#m34174a6854\" y=\"194.809513\"/>\n     <use style=\"fill:#1f77b4;stroke:#1f77b4;\" x=\"151.033011\" xlink:href=\"#m34174a6854\" y=\"167.077254\"/>\n     <use style=\"fill:#1f77b4;stroke:#1f77b4;\" x=\"118.486347\" xlink:href=\"#m34174a6854\" y=\"183.716593\"/>\n     <use style=\"fill:#1f77b4;stroke:#1f77b4;\" x=\"67.379775\" xlink:href=\"#m34174a6854\" y=\"211.360303\"/>\n     <use style=\"fill:#1f77b4;stroke:#1f77b4;\" x=\"67.028681\" xlink:href=\"#m34174a6854\" y=\"211.811079\"/>\n     <use style=\"fill:#1f77b4;stroke:#1f77b4;\" x=\"131.119991\" xlink:href=\"#m34174a6854\" y=\"176.825475\"/>\n     <use style=\"fill:#1f77b4;stroke:#1f77b4;\" x=\"128.202741\" xlink:href=\"#m34174a6854\" y=\"178.673612\"/>\n     <use style=\"fill:#1f77b4;stroke:#1f77b4;\" x=\"132.237536\" xlink:href=\"#m34174a6854\" y=\"140.950898\"/>\n     <use style=\"fill:#1f77b4;stroke:#1f77b4;\" x=\"104.896037\" xlink:href=\"#m34174a6854\" y=\"191.314415\"/>\n     <use style=\"fill:#1f77b4;stroke:#1f77b4;\" x=\"192.381975\" xlink:href=\"#m34174a6854\" y=\"144.757863\"/>\n     <use style=\"fill:#1f77b4;stroke:#1f77b4;\" x=\"198.608768\" xlink:href=\"#m34174a6854\" y=\"139.825271\"/>\n     <use style=\"fill:#1f77b4;stroke:#1f77b4;\" x=\"86.38622\" xlink:href=\"#m34174a6854\" y=\"201.309695\"/>\n     <use style=\"fill:#1f77b4;stroke:#1f77b4;\" x=\"254.158484\" xlink:href=\"#m34174a6854\" y=\"104.235008\"/>\n     <use style=\"fill:#1f77b4;stroke:#1f77b4;\" x=\"346.053121\" xlink:href=\"#m34174a6854\" y=\"66.2965\"/>\n     <use style=\"fill:#1f77b4;stroke:#1f77b4;\" x=\"89.89668\" xlink:href=\"#m34174a6854\" y=\"199.571637\"/>\n     <use style=\"fill:#1f77b4;stroke:#1f77b4;\" x=\"239.827189\" xlink:href=\"#m34174a6854\" y=\"111.330662\"/>\n     <use style=\"fill:#1f77b4;stroke:#1f77b4;\" x=\"182.437742\" xlink:href=\"#m34174a6854\" y=\"149.601839\"/>\n     <use style=\"fill:#1f77b4;stroke:#1f77b4;\" x=\"184.086691\" xlink:href=\"#m34174a6854\" y=\"149.256408\"/>\n     <use style=\"fill:#1f77b4;stroke:#1f77b4;\" x=\"81.123173\" xlink:href=\"#m34174a6854\" y=\"204.215107\"/>\n     <use style=\"fill:#1f77b4;stroke:#1f77b4;\" x=\"89.366603\" xlink:href=\"#m34174a6854\" y=\"199.847603\"/>\n     <use style=\"fill:#1f77b4;stroke:#1f77b4;\" x=\"119.572445\" xlink:href=\"#m34174a6854\" y=\"183.715442\"/>\n     <use style=\"fill:#1f77b4;stroke:#1f77b4;\" x=\"137.005047\" xlink:href=\"#m34174a6854\" y=\"173.458179\"/>\n     <use style=\"fill:#1f77b4;stroke:#1f77b4;\" x=\"81.669802\" xlink:href=\"#m34174a6854\" y=\"203.568638\"/>\n     <use style=\"fill:#1f77b4;stroke:#1f77b4;\" x=\"329.026884\" xlink:href=\"#m34174a6854\" y=\"65.110697\"/>\n     <use style=\"fill:#1f77b4;stroke:#1f77b4;\" x=\"63.147484\" xlink:href=\"#m34174a6854\" y=\"213.480255\"/>\n     <use style=\"fill:#1f77b4;stroke:#1f77b4;\" x=\"106.549414\" xlink:href=\"#m34174a6854\" y=\"190.454167\"/>\n     <use style=\"fill:#1f77b4;stroke:#1f77b4;\" x=\"88.010392\" xlink:href=\"#m34174a6854\" y=\"200.130013\"/>\n     <use style=\"fill:#1f77b4;stroke:#1f77b4;\" x=\"93.397869\" xlink:href=\"#m34174a6854\" y=\"197.786212\"/>\n     <use style=\"fill:#1f77b4;stroke:#1f77b4;\" x=\"81.287335\" xlink:href=\"#m34174a6854\" y=\"204.213582\"/>\n     <use style=\"fill:#1f77b4;stroke:#1f77b4;\" x=\"64.133822\" xlink:href=\"#m34174a6854\" y=\"212.948642\"/>\n     <use style=\"fill:#1f77b4;stroke:#1f77b4;\" x=\"92.476024\" xlink:href=\"#m34174a6854\" y=\"139.682624\"/>\n     <use style=\"fill:#1f77b4;stroke:#1f77b4;\" x=\"70.049996\" xlink:href=\"#m34174a6854\" y=\"209.709686\"/>\n     <use style=\"fill:#1f77b4;stroke:#1f77b4;\" x=\"198.006636\" xlink:href=\"#m34174a6854\" y=\"139.814076\"/>\n     <use style=\"fill:#1f77b4;stroke:#1f77b4;\" x=\"98.131691\" xlink:href=\"#m34174a6854\" y=\"195.321099\"/>\n     <use style=\"fill:#1f77b4;stroke:#1f77b4;\" x=\"87.883452\" xlink:href=\"#m34174a6854\" y=\"131.917965\"/>\n     <use style=\"fill:#1f77b4;stroke:#1f77b4;\" x=\"65.351127\" xlink:href=\"#m34174a6854\" y=\"212.378967\"/>\n     <use style=\"fill:#1f77b4;stroke:#1f77b4;\" x=\"110.083833\" xlink:href=\"#m34174a6854\" y=\"189.004083\"/>\n     <use style=\"fill:#1f77b4;stroke:#1f77b4;\" x=\"114.69274\" xlink:href=\"#m34174a6854\" y=\"186.119508\"/>\n     <use style=\"fill:#1f77b4;stroke:#1f77b4;\" x=\"123.036709\" xlink:href=\"#m34174a6854\" y=\"181.512991\"/>\n     <use style=\"fill:#1f77b4;stroke:#1f77b4;\" x=\"67.86531\" xlink:href=\"#m34174a6854\" y=\"211.28655\"/>\n     <use style=\"fill:#1f77b4;stroke:#1f77b4;\" x=\"82.411412\" xlink:href=\"#m34174a6854\" y=\"203.404828\"/>\n     <use style=\"fill:#1f77b4;stroke:#1f77b4;\" x=\"80.276357\" xlink:href=\"#m34174a6854\" y=\"204.282972\"/>\n     <use style=\"fill:#1f77b4;stroke:#1f77b4;\" x=\"61.897311\" xlink:href=\"#m34174a6854\" y=\"214.314674\"/>\n     <use style=\"fill:#1f77b4;stroke:#1f77b4;\" x=\"67.374028\" xlink:href=\"#m34174a6854\" y=\"211.365719\"/>\n     <use style=\"fill:#1f77b4;stroke:#1f77b4;\" x=\"120.025738\" xlink:href=\"#m34174a6854\" y=\"183.545003\"/>\n     <use style=\"fill:#1f77b4;stroke:#1f77b4;\" x=\"221.500117\" xlink:href=\"#m34174a6854\" y=\"108.472578\"/>\n     <use style=\"fill:#1f77b4;stroke:#1f77b4;\" x=\"128.295192\" xlink:href=\"#m34174a6854\" y=\"178.933145\"/>\n     <use style=\"fill:#1f77b4;stroke:#1f77b4;\" x=\"115.391916\" xlink:href=\"#m34174a6854\" y=\"185.409118\"/>\n     <use style=\"fill:#1f77b4;stroke:#1f77b4;\" x=\"115.412409\" xlink:href=\"#m34174a6854\" y=\"185.370786\"/>\n     <use style=\"fill:#1f77b4;stroke:#1f77b4;\" x=\"110.504552\" xlink:href=\"#m34174a6854\" y=\"188.307564\"/>\n     <use style=\"fill:#1f77b4;stroke:#1f77b4;\" x=\"129.427619\" xlink:href=\"#m34174a6854\" y=\"177.342871\"/>\n     <use style=\"fill:#1f77b4;stroke:#1f77b4;\" x=\"99.418604\" xlink:href=\"#m34174a6854\" y=\"194.574817\"/>\n     <use style=\"fill:#1f77b4;stroke:#1f77b4;\" x=\"129.171434\" xlink:href=\"#m34174a6854\" y=\"177.413044\"/>\n     <use style=\"fill:#1f77b4;stroke:#1f77b4;\" x=\"104.986241\" xlink:href=\"#m34174a6854\" y=\"191.367029\"/>\n     <use style=\"fill:#1f77b4;stroke:#1f77b4;\" x=\"64.541461\" xlink:href=\"#m34174a6854\" y=\"213.167499\"/>\n     <use style=\"fill:#1f77b4;stroke:#1f77b4;\" x=\"117.524311\" xlink:href=\"#m34174a6854\" y=\"184.244689\"/>\n     <use style=\"fill:#1f77b4;stroke:#1f77b4;\" x=\"136.37947\" xlink:href=\"#m34174a6854\" y=\"174.478377\"/>\n     <use style=\"fill:#1f77b4;stroke:#1f77b4;\" x=\"77.864758\" xlink:href=\"#m34174a6854\" y=\"154.314336\"/>\n     <use style=\"fill:#1f77b4;stroke:#1f77b4;\" x=\"116.150147\" xlink:href=\"#m34174a6854\" y=\"184.92267\"/>\n     <use style=\"fill:#1f77b4;stroke:#1f77b4;\" x=\"67.649967\" xlink:href=\"#m34174a6854\" y=\"211.615409\"/>\n     <use style=\"fill:#1f77b4;stroke:#1f77b4;\" x=\"80.529911\" xlink:href=\"#m34174a6854\" y=\"204.096414\"/>\n     <use style=\"fill:#1f77b4;stroke:#1f77b4;\" x=\"64.617798\" xlink:href=\"#m34174a6854\" y=\"213.147828\"/>\n     <use style=\"fill:#1f77b4;stroke:#1f77b4;\" x=\"91.499553\" xlink:href=\"#m34174a6854\" y=\"198.737474\"/>\n     <use style=\"fill:#1f77b4;stroke:#1f77b4;\" x=\"129.106626\" xlink:href=\"#m34174a6854\" y=\"178.563401\"/>\n     <use style=\"fill:#1f77b4;stroke:#1f77b4;\" x=\"69.940541\" xlink:href=\"#m34174a6854\" y=\"209.988387\"/>\n     <use style=\"fill:#1f77b4;stroke:#1f77b4;\" x=\"66.122999\" xlink:href=\"#m34174a6854\" y=\"212.370809\"/>\n     <use style=\"fill:#1f77b4;stroke:#1f77b4;\" x=\"80.663995\" xlink:href=\"#m34174a6854\" y=\"204.548549\"/>\n     <use style=\"fill:#1f77b4;stroke:#1f77b4;\" x=\"108.78559\" xlink:href=\"#m34174a6854\" y=\"190.006719\"/>\n     <use style=\"fill:#1f77b4;stroke:#1f77b4;\" x=\"101.828766\" xlink:href=\"#m34174a6854\" y=\"192.685904\"/>\n     <use style=\"fill:#1f77b4;stroke:#1f77b4;\" x=\"199.080575\" xlink:href=\"#m34174a6854\" y=\"163.176916\"/>\n     <use style=\"fill:#1f77b4;stroke:#1f77b4;\" x=\"68.655193\" xlink:href=\"#m34174a6854\" y=\"210.842716\"/>\n     <use style=\"fill:#1f77b4;stroke:#1f77b4;\" x=\"103.84357\" xlink:href=\"#m34174a6854\" y=\"192.320023\"/>\n     <use style=\"fill:#1f77b4;stroke:#1f77b4;\" x=\"113.615512\" xlink:href=\"#m34174a6854\" y=\"187.200631\"/>\n     <use style=\"fill:#1f77b4;stroke:#1f77b4;\" x=\"261.747974\" xlink:href=\"#m34174a6854\" y=\"103.452211\"/>\n     <use style=\"fill:#1f77b4;stroke:#1f77b4;\" x=\"304.557737\" xlink:href=\"#m34174a6854\" y=\"85.420951\"/>\n     <use style=\"fill:#1f77b4;stroke:#1f77b4;\" x=\"67.656752\" xlink:href=\"#m34174a6854\" y=\"211.553744\"/>\n     <use style=\"fill:#1f77b4;stroke:#1f77b4;\" x=\"101.463135\" xlink:href=\"#m34174a6854\" y=\"193.096734\"/>\n     <use style=\"fill:#1f77b4;stroke:#1f77b4;\" x=\"99.39193\" xlink:href=\"#m34174a6854\" y=\"194.880344\"/>\n     <use style=\"fill:#1f77b4;stroke:#1f77b4;\" x=\"223.384827\" xlink:href=\"#m34174a6854\" y=\"147.422494\"/>\n     <use style=\"fill:#1f77b4;stroke:#1f77b4;\" x=\"126.469932\" xlink:href=\"#m34174a6854\" y=\"179.695215\"/>\n     <use style=\"fill:#1f77b4;stroke:#1f77b4;\" x=\"73.438914\" xlink:href=\"#m34174a6854\" y=\"208.171602\"/>\n     <use style=\"fill:#1f77b4;stroke:#1f77b4;\" x=\"99.785977\" xlink:href=\"#m34174a6854\" y=\"193.873365\"/>\n     <use style=\"fill:#1f77b4;stroke:#1f77b4;\" x=\"83.703135\" xlink:href=\"#m34174a6854\" y=\"202.787861\"/>\n     <use style=\"fill:#1f77b4;stroke:#1f77b4;\" x=\"81.931667\" xlink:href=\"#m34174a6854\" y=\"153.863773\"/>\n     <use style=\"fill:#1f77b4;stroke:#1f77b4;\" x=\"104.810936\" xlink:href=\"#m34174a6854\" y=\"191.296871\"/>\n     <use style=\"fill:#1f77b4;stroke:#1f77b4;\" x=\"64.611431\" xlink:href=\"#m34174a6854\" y=\"213.140591\"/>\n     <use style=\"fill:#1f77b4;stroke:#1f77b4;\" x=\"138.377478\" xlink:href=\"#m34174a6854\" y=\"172.802691\"/>\n     <use style=\"fill:#1f77b4;stroke:#1f77b4;\" x=\"65.845301\" xlink:href=\"#m34174a6854\" y=\"212.070994\"/>\n     <use style=\"fill:#1f77b4;stroke:#1f77b4;\" x=\"94.985579\" xlink:href=\"#m34174a6854\" y=\"196.6007\"/>\n     <use style=\"fill:#1f77b4;stroke:#1f77b4;\" x=\"81.697742\" xlink:href=\"#m34174a6854\" y=\"203.588583\"/>\n     <use style=\"fill:#1f77b4;stroke:#1f77b4;\" x=\"103.413196\" xlink:href=\"#m34174a6854\" y=\"191.998341\"/>\n     <use style=\"fill:#1f77b4;stroke:#1f77b4;\" x=\"100.553833\" xlink:href=\"#m34174a6854\" y=\"193.867772\"/>\n     <use style=\"fill:#1f77b4;stroke:#1f77b4;\" x=\"80.190698\" xlink:href=\"#m34174a6854\" y=\"204.609472\"/>\n     <use style=\"fill:#1f77b4;stroke:#1f77b4;\" x=\"148.768483\" xlink:href=\"#m34174a6854\" y=\"167.543348\"/>\n     <use style=\"fill:#1f77b4;stroke:#1f77b4;\" x=\"64.417575\" xlink:href=\"#m34174a6854\" y=\"212.832274\"/>\n     <use style=\"fill:#1f77b4;stroke:#1f77b4;\" x=\"218.104472\" xlink:href=\"#m34174a6854\" y=\"129.629048\"/>\n     <use style=\"fill:#1f77b4;stroke:#1f77b4;\" x=\"61.470981\" xlink:href=\"#m34174a6854\" y=\"214.756364\"/>\n     <use style=\"fill:#1f77b4;stroke:#1f77b4;\" x=\"138.313659\" xlink:href=\"#m34174a6854\" y=\"174.118899\"/>\n     <use style=\"fill:#1f77b4;stroke:#1f77b4;\" x=\"71.441955\" xlink:href=\"#m34174a6854\" y=\"209.449765\"/>\n     <use style=\"fill:#1f77b4;stroke:#1f77b4;\" x=\"64.61727\" xlink:href=\"#m34174a6854\" y=\"173.702707\"/>\n     <use style=\"fill:#1f77b4;stroke:#1f77b4;\" x=\"109.633212\" xlink:href=\"#m34174a6854\" y=\"188.937381\"/>\n     <use style=\"fill:#1f77b4;stroke:#1f77b4;\" x=\"78.774596\" xlink:href=\"#m34174a6854\" y=\"205.241196\"/>\n     <use style=\"fill:#1f77b4;stroke:#1f77b4;\" x=\"73.898196\" xlink:href=\"#m34174a6854\" y=\"208.272479\"/>\n     <use style=\"fill:#1f77b4;stroke:#1f77b4;\" x=\"103.961702\" xlink:href=\"#m34174a6854\" y=\"191.958665\"/>\n     <use style=\"fill:#1f77b4;stroke:#1f77b4;\" x=\"64.727165\" xlink:href=\"#m34174a6854\" y=\"212.845327\"/>\n     <use style=\"fill:#1f77b4;stroke:#1f77b4;\" x=\"66.980737\" xlink:href=\"#m34174a6854\" y=\"211.841495\"/>\n     <use style=\"fill:#1f77b4;stroke:#1f77b4;\" x=\"106.418504\" xlink:href=\"#m34174a6854\" y=\"190.24228\"/>\n     <use style=\"fill:#1f77b4;stroke:#1f77b4;\" x=\"92.787083\" xlink:href=\"#m34174a6854\" y=\"197.47078\"/>\n     <use style=\"fill:#1f77b4;stroke:#1f77b4;\" x=\"88.773393\" xlink:href=\"#m34174a6854\" y=\"200.282251\"/>\n     <use style=\"fill:#1f77b4;stroke:#1f77b4;\" x=\"306.906096\" xlink:href=\"#m34174a6854\" y=\"69.035446\"/>\n     <use style=\"fill:#1f77b4;stroke:#1f77b4;\" x=\"103.71262\" xlink:href=\"#m34174a6854\" y=\"192.294936\"/>\n     <use style=\"fill:#1f77b4;stroke:#1f77b4;\" x=\"92.463687\" xlink:href=\"#m34174a6854\" y=\"198.24046\"/>\n     <use style=\"fill:#1f77b4;stroke:#1f77b4;\" x=\"269.386058\" xlink:href=\"#m34174a6854\" y=\"92.945062\"/>\n     <use style=\"fill:#1f77b4;stroke:#1f77b4;\" x=\"107.969981\" xlink:href=\"#m34174a6854\" y=\"189.598831\"/>\n     <use style=\"fill:#1f77b4;stroke:#1f77b4;\" x=\"97.711412\" xlink:href=\"#m34174a6854\" y=\"195.383462\"/>\n     <use style=\"fill:#1f77b4;stroke:#1f77b4;\" x=\"304.872839\" xlink:href=\"#m34174a6854\" y=\"83.375499\"/>\n     <use style=\"fill:#1f77b4;stroke:#1f77b4;\" x=\"96.079156\" xlink:href=\"#m34174a6854\" y=\"195.786826\"/>\n     <use style=\"fill:#1f77b4;stroke:#1f77b4;\" x=\"175.258047\" xlink:href=\"#m34174a6854\" y=\"155.160495\"/>\n     <use style=\"fill:#1f77b4;stroke:#1f77b4;\" x=\"116.823162\" xlink:href=\"#m34174a6854\" y=\"184.961172\"/>\n     <use style=\"fill:#1f77b4;stroke:#1f77b4;\" x=\"88.526394\" xlink:href=\"#m34174a6854\" y=\"200.283189\"/>\n     <use style=\"fill:#1f77b4;stroke:#1f77b4;\" x=\"149.843028\" xlink:href=\"#m34174a6854\" y=\"166.374069\"/>\n     <use style=\"fill:#1f77b4;stroke:#1f77b4;\" x=\"116.421088\" xlink:href=\"#m34174a6854\" y=\"185.285865\"/>\n     <use style=\"fill:#1f77b4;stroke:#1f77b4;\" x=\"73.622467\" xlink:href=\"#m34174a6854\" y=\"207.852903\"/>\n     <use style=\"fill:#1f77b4;stroke:#1f77b4;\" x=\"302.566826\" xlink:href=\"#m34174a6854\" y=\"44.329423\"/>\n     <use style=\"fill:#1f77b4;stroke:#1f77b4;\" x=\"110.747096\" xlink:href=\"#m34174a6854\" y=\"187.909727\"/>\n     <use style=\"fill:#1f77b4;stroke:#1f77b4;\" x=\"327.113485\" xlink:href=\"#m34174a6854\" y=\"68.724416\"/>\n     <use style=\"fill:#1f77b4;stroke:#1f77b4;\" x=\"69.461282\" xlink:href=\"#m34174a6854\" y=\"210.099493\"/>\n     <use style=\"fill:#1f77b4;stroke:#1f77b4;\" x=\"66.187689\" xlink:href=\"#m34174a6854\" y=\"130.818722\"/>\n     <use style=\"fill:#1f77b4;stroke:#1f77b4;\" x=\"153.192476\" xlink:href=\"#m34174a6854\" y=\"163.515216\"/>\n     <use style=\"fill:#1f77b4;stroke:#1f77b4;\" x=\"96.244013\" xlink:href=\"#m34174a6854\" y=\"196.049535\"/>\n     <use style=\"fill:#1f77b4;stroke:#1f77b4;\" x=\"66.934526\" xlink:href=\"#m34174a6854\" y=\"211.920796\"/>\n     <use style=\"fill:#1f77b4;stroke:#1f77b4;\" x=\"126.632607\" xlink:href=\"#m34174a6854\" y=\"179.379689\"/>\n     <use style=\"fill:#1f77b4;stroke:#1f77b4;\" x=\"97.907301\" xlink:href=\"#m34174a6854\" y=\"195.440028\"/>\n     <use style=\"fill:#1f77b4;stroke:#1f77b4;\" x=\"290.507569\" xlink:href=\"#m34174a6854\" y=\"92.075098\"/>\n     <use style=\"fill:#1f77b4;stroke:#1f77b4;\" x=\"66.739283\" xlink:href=\"#m34174a6854\" y=\"211.660399\"/>\n     <use style=\"fill:#1f77b4;stroke:#1f77b4;\" x=\"244.594282\" xlink:href=\"#m34174a6854\" y=\"110.215591\"/>\n     <use style=\"fill:#1f77b4;stroke:#1f77b4;\" x=\"116.340471\" xlink:href=\"#m34174a6854\" y=\"185.539866\"/>\n     <use style=\"fill:#1f77b4;stroke:#1f77b4;\" x=\"312.826733\" xlink:href=\"#m34174a6854\" y=\"89.232624\"/>\n     <use style=\"fill:#1f77b4;stroke:#1f77b4;\" x=\"125.731571\" xlink:href=\"#m34174a6854\" y=\"180.100692\"/>\n     <use style=\"fill:#1f77b4;stroke:#1f77b4;\" x=\"68.307649\" xlink:href=\"#m34174a6854\" y=\"211.160325\"/>\n     <use style=\"fill:#1f77b4;stroke:#1f77b4;\" x=\"67.804631\" xlink:href=\"#m34174a6854\" y=\"211.293237\"/>\n     <use style=\"fill:#1f77b4;stroke:#1f77b4;\" x=\"111.576106\" xlink:href=\"#m34174a6854\" y=\"188.056458\"/>\n     <use style=\"fill:#1f77b4;stroke:#1f77b4;\" x=\"83.648819\" xlink:href=\"#m34174a6854\" y=\"202.543906\"/>\n     <use style=\"fill:#1f77b4;stroke:#1f77b4;\" x=\"126.398048\" xlink:href=\"#m34174a6854\" y=\"179.337585\"/>\n     <use style=\"fill:#1f77b4;stroke:#1f77b4;\" x=\"80.768263\" xlink:href=\"#m34174a6854\" y=\"204.600935\"/>\n     <use style=\"fill:#1f77b4;stroke:#1f77b4;\" x=\"311.003132\" xlink:href=\"#m34174a6854\" y=\"28.912813\"/>\n     <use style=\"fill:#1f77b4;stroke:#1f77b4;\" x=\"99.596797\" xlink:href=\"#m34174a6854\" y=\"194.238451\"/>\n     <use style=\"fill:#1f77b4;stroke:#1f77b4;\" x=\"132.514019\" xlink:href=\"#m34174a6854\" y=\"176.166772\"/>\n     <use style=\"fill:#1f77b4;stroke:#1f77b4;\" x=\"130.151755\" xlink:href=\"#m34174a6854\" y=\"177.336599\"/>\n     <use style=\"fill:#1f77b4;stroke:#1f77b4;\" x=\"64.71119\" xlink:href=\"#m34174a6854\" y=\"212.778328\"/>\n     <use style=\"fill:#1f77b4;stroke:#1f77b4;\" x=\"65.003565\" xlink:href=\"#m34174a6854\" y=\"212.499204\"/>\n     <use style=\"fill:#1f77b4;stroke:#1f77b4;\" x=\"95.083074\" xlink:href=\"#m34174a6854\" y=\"196.850274\"/>\n     <use style=\"fill:#1f77b4;stroke:#1f77b4;\" x=\"68.663383\" xlink:href=\"#m34174a6854\" y=\"211.026437\"/>\n     <use style=\"fill:#1f77b4;stroke:#1f77b4;\" x=\"74.265936\" xlink:href=\"#m34174a6854\" y=\"207.907371\"/>\n     <use style=\"fill:#1f77b4;stroke:#1f77b4;\" x=\"71.919042\" xlink:href=\"#m34174a6854\" y=\"209.326511\"/>\n     <use style=\"fill:#1f77b4;stroke:#1f77b4;\" x=\"179.008191\" xlink:href=\"#m34174a6854\" y=\"151.217222\"/>\n     <use style=\"fill:#1f77b4;stroke:#1f77b4;\" x=\"68.021903\" xlink:href=\"#m34174a6854\" y=\"150.15704\"/>\n     <use style=\"fill:#1f77b4;stroke:#1f77b4;\" x=\"128.683344\" xlink:href=\"#m34174a6854\" y=\"178.126507\"/>\n     <use style=\"fill:#1f77b4;stroke:#1f77b4;\" x=\"130.014229\" xlink:href=\"#m34174a6854\" y=\"178.445514\"/>\n     <use style=\"fill:#1f77b4;stroke:#1f77b4;\" x=\"79.127395\" xlink:href=\"#m34174a6854\" y=\"165.299058\"/>\n     <use style=\"fill:#1f77b4;stroke:#1f77b4;\" x=\"118.339737\" xlink:href=\"#m34174a6854\" y=\"184.1957\"/>\n     <use style=\"fill:#1f77b4;stroke:#1f77b4;\" x=\"111.60054\" xlink:href=\"#m34174a6854\" y=\"187.640129\"/>\n     <use style=\"fill:#1f77b4;stroke:#1f77b4;\" x=\"74.369047\" xlink:href=\"#m34174a6854\" y=\"207.589237\"/>\n     <use style=\"fill:#1f77b4;stroke:#1f77b4;\" x=\"111.66079\" xlink:href=\"#m34174a6854\" y=\"187.941489\"/>\n     <use style=\"fill:#1f77b4;stroke:#1f77b4;\" x=\"91.483146\" xlink:href=\"#m34174a6854\" y=\"198.612695\"/>\n     <use style=\"fill:#1f77b4;stroke:#1f77b4;\" x=\"79.134759\" xlink:href=\"#m34174a6854\" y=\"158.855089\"/>\n     <use style=\"fill:#1f77b4;stroke:#1f77b4;\" x=\"68.881896\" xlink:href=\"#m34174a6854\" y=\"210.535106\"/>\n     <use style=\"fill:#1f77b4;stroke:#1f77b4;\" x=\"108.802108\" xlink:href=\"#m34174a6854\" y=\"188.989996\"/>\n     <use style=\"fill:#1f77b4;stroke:#1f77b4;\" x=\"120.52287\" xlink:href=\"#m34174a6854\" y=\"183.327715\"/>\n     <use style=\"fill:#1f77b4;stroke:#1f77b4;\" x=\"112.761725\" xlink:href=\"#m34174a6854\" y=\"186.856932\"/>\n     <use style=\"fill:#1f77b4;stroke:#1f77b4;\" x=\"167.562082\" xlink:href=\"#m34174a6854\" y=\"158.432942\"/>\n     <use style=\"fill:#1f77b4;stroke:#1f77b4;\" x=\"91.389686\" xlink:href=\"#m34174a6854\" y=\"198.958198\"/>\n     <use style=\"fill:#1f77b4;stroke:#1f77b4;\" x=\"78.878417\" xlink:href=\"#m34174a6854\" y=\"205.489863\"/>\n     <use style=\"fill:#1f77b4;stroke:#1f77b4;\" x=\"295.593974\" xlink:href=\"#m34174a6854\" y=\"85.935232\"/>\n     <use style=\"fill:#1f77b4;stroke:#1f77b4;\" x=\"168.801556\" xlink:href=\"#m34174a6854\" y=\"156.469375\"/>\n     <use style=\"fill:#1f77b4;stroke:#1f77b4;\" x=\"92.083657\" xlink:href=\"#m34174a6854\" y=\"198.309646\"/>\n     <use style=\"fill:#1f77b4;stroke:#1f77b4;\" x=\"73.20439\" xlink:href=\"#m34174a6854\" y=\"208.587123\"/>\n     <use style=\"fill:#1f77b4;stroke:#1f77b4;\" x=\"121.939686\" xlink:href=\"#m34174a6854\" y=\"182.151739\"/>\n     <use style=\"fill:#1f77b4;stroke:#1f77b4;\" x=\"251.100075\" xlink:href=\"#m34174a6854\" y=\"104.640372\"/>\n     <use style=\"fill:#1f77b4;stroke:#1f77b4;\" x=\"71.40964\" xlink:href=\"#m34174a6854\" y=\"147.322738\"/>\n     <use style=\"fill:#1f77b4;stroke:#1f77b4;\" x=\"146.379377\" xlink:href=\"#m34174a6854\" y=\"115.011172\"/>\n     <use style=\"fill:#1f77b4;stroke:#1f77b4;\" x=\"310.57071\" xlink:href=\"#m34174a6854\" y=\"80.242843\"/>\n     <use style=\"fill:#1f77b4;stroke:#1f77b4;\" x=\"120.870202\" xlink:href=\"#m34174a6854\" y=\"182.385086\"/>\n     <use style=\"fill:#1f77b4;stroke:#1f77b4;\" x=\"92.190896\" xlink:href=\"#m34174a6854\" y=\"198.450335\"/>\n     <use style=\"fill:#1f77b4;stroke:#1f77b4;\" x=\"103.168124\" xlink:href=\"#m34174a6854\" y=\"192.178402\"/>\n     <use style=\"fill:#1f77b4;stroke:#1f77b4;\" x=\"310.12296\" xlink:href=\"#m34174a6854\" y=\"52.358221\"/>\n     <use style=\"fill:#1f77b4;stroke:#1f77b4;\" x=\"64.301331\" xlink:href=\"#m34174a6854\" y=\"212.90406\"/>\n     <use style=\"fill:#1f77b4;stroke:#1f77b4;\" x=\"118.868974\" xlink:href=\"#m34174a6854\" y=\"137.782942\"/>\n     <use style=\"fill:#1f77b4;stroke:#1f77b4;\" x=\"106.281475\" xlink:href=\"#m34174a6854\" y=\"190.936274\"/>\n     <use style=\"fill:#1f77b4;stroke:#1f77b4;\" x=\"102.557544\" xlink:href=\"#m34174a6854\" y=\"192.981062\"/>\n     <use style=\"fill:#1f77b4;stroke:#1f77b4;\" x=\"237.18569\" xlink:href=\"#m34174a6854\" y=\"111.805091\"/>\n     <use style=\"fill:#1f77b4;stroke:#1f77b4;\" x=\"99.610535\" xlink:href=\"#m34174a6854\" y=\"194.24196\"/>\n     <use style=\"fill:#1f77b4;stroke:#1f77b4;\" x=\"90.969315\" xlink:href=\"#m34174a6854\" y=\"198.993862\"/>\n     <use style=\"fill:#1f77b4;stroke:#1f77b4;\" x=\"289.424559\" xlink:href=\"#m34174a6854\" y=\"80.793113\"/>\n     <use style=\"fill:#1f77b4;stroke:#1f77b4;\" x=\"76.536815\" xlink:href=\"#m34174a6854\" y=\"206.428303\"/>\n     <use style=\"fill:#1f77b4;stroke:#1f77b4;\" x=\"131.180001\" xlink:href=\"#m34174a6854\" y=\"177.128394\"/>\n     <use style=\"fill:#1f77b4;stroke:#1f77b4;\" x=\"80.059272\" xlink:href=\"#m34174a6854\" y=\"204.580166\"/>\n     <use style=\"fill:#1f77b4;stroke:#1f77b4;\" x=\"67.059114\" xlink:href=\"#m34174a6854\" y=\"211.510875\"/>\n     <use style=\"fill:#1f77b4;stroke:#1f77b4;\" x=\"104.615007\" xlink:href=\"#m34174a6854\" y=\"191.148838\"/>\n     <use style=\"fill:#1f77b4;stroke:#1f77b4;\" x=\"85.912912\" xlink:href=\"#m34174a6854\" y=\"201.707346\"/>\n     <use style=\"fill:#1f77b4;stroke:#1f77b4;\" x=\"114.040195\" xlink:href=\"#m34174a6854\" y=\"186.29821\"/>\n     <use style=\"fill:#1f77b4;stroke:#1f77b4;\" x=\"124.883818\" xlink:href=\"#m34174a6854\" y=\"180.606125\"/>\n     <use style=\"fill:#1f77b4;stroke:#1f77b4;\" x=\"315.889786\" xlink:href=\"#m34174a6854\" y=\"72.349081\"/>\n     <use style=\"fill:#1f77b4;stroke:#1f77b4;\" x=\"131.649788\" xlink:href=\"#m34174a6854\" y=\"176.555667\"/>\n     <use style=\"fill:#1f77b4;stroke:#1f77b4;\" x=\"74.301934\" xlink:href=\"#m34174a6854\" y=\"207.614344\"/>\n     <use style=\"fill:#1f77b4;stroke:#1f77b4;\" x=\"121.083164\" xlink:href=\"#m34174a6854\" y=\"182.676052\"/>\n     <use style=\"fill:#1f77b4;stroke:#1f77b4;\" x=\"112.547196\" xlink:href=\"#m34174a6854\" y=\"132.731743\"/>\n     <use style=\"fill:#1f77b4;stroke:#1f77b4;\" x=\"83.202356\" xlink:href=\"#m34174a6854\" y=\"203.032323\"/>\n     <use style=\"fill:#1f77b4;stroke:#1f77b4;\" x=\"194.821184\" xlink:href=\"#m34174a6854\" y=\"142.232499\"/>\n     <use style=\"fill:#1f77b4;stroke:#1f77b4;\" x=\"195.037715\" xlink:href=\"#m34174a6854\" y=\"142.672751\"/>\n     <use style=\"fill:#1f77b4;stroke:#1f77b4;\" x=\"98.167719\" xlink:href=\"#m34174a6854\" y=\"195.036285\"/>\n     <use style=\"fill:#1f77b4;stroke:#1f77b4;\" x=\"268.696965\" xlink:href=\"#m34174a6854\" y=\"100.083122\"/>\n     <use style=\"fill:#1f77b4;stroke:#1f77b4;\" x=\"70.324154\" xlink:href=\"#m34174a6854\" y=\"209.955962\"/>\n     <use style=\"fill:#1f77b4;stroke:#1f77b4;\" x=\"75.859496\" xlink:href=\"#m34174a6854\" y=\"206.749969\"/>\n     <use style=\"fill:#1f77b4;stroke:#1f77b4;\" x=\"79.51338\" xlink:href=\"#m34174a6854\" y=\"204.8524\"/>\n     <use style=\"fill:#1f77b4;stroke:#1f77b4;\" x=\"91.479448\" xlink:href=\"#m34174a6854\" y=\"198.783075\"/>\n     <use style=\"fill:#1f77b4;stroke:#1f77b4;\" x=\"110.494057\" xlink:href=\"#m34174a6854\" y=\"135.021623\"/>\n     <use style=\"fill:#1f77b4;stroke:#1f77b4;\" x=\"118.518434\" xlink:href=\"#m34174a6854\" y=\"184.139639\"/>\n     <use style=\"fill:#1f77b4;stroke:#1f77b4;\" x=\"141.949028\" xlink:href=\"#m34174a6854\" y=\"170.430599\"/>\n     <use style=\"fill:#1f77b4;stroke:#1f77b4;\" x=\"121.547095\" xlink:href=\"#m34174a6854\" y=\"182.473742\"/>\n     <use style=\"fill:#1f77b4;stroke:#1f77b4;\" x=\"97.801615\" xlink:href=\"#m34174a6854\" y=\"195.370962\"/>\n     <use style=\"fill:#1f77b4;stroke:#1f77b4;\" x=\"125.358278\" xlink:href=\"#m34174a6854\" y=\"180.473492\"/>\n     <use style=\"fill:#1f77b4;stroke:#1f77b4;\" x=\"307.825276\" xlink:href=\"#m34174a6854\" y=\"74.068399\"/>\n     <use style=\"fill:#1f77b4;stroke:#1f77b4;\" x=\"66.314588\" xlink:href=\"#m34174a6854\" y=\"211.92198\"/>\n     <use style=\"fill:#1f77b4;stroke:#1f77b4;\" x=\"95.097362\" xlink:href=\"#m34174a6854\" y=\"196.934427\"/>\n     <use style=\"fill:#1f77b4;stroke:#1f77b4;\" x=\"64.26079\" xlink:href=\"#m34174a6854\" y=\"212.906977\"/>\n     <use style=\"fill:#1f77b4;stroke:#1f77b4;\" x=\"210.116431\" xlink:href=\"#m34174a6854\" y=\"133.335911\"/>\n     <use style=\"fill:#1f77b4;stroke:#1f77b4;\" x=\"99.525622\" xlink:href=\"#m34174a6854\" y=\"193.907099\"/>\n     <use style=\"fill:#1f77b4;stroke:#1f77b4;\" x=\"83.885932\" xlink:href=\"#m34174a6854\" y=\"202.421188\"/>\n     <use style=\"fill:#1f77b4;stroke:#1f77b4;\" x=\"117.370066\" xlink:href=\"#m34174a6854\" y=\"184.491797\"/>\n     <use style=\"fill:#1f77b4;stroke:#1f77b4;\" x=\"156.291849\" xlink:href=\"#m34174a6854\" y=\"166.872165\"/>\n     <use style=\"fill:#1f77b4;stroke:#1f77b4;\" x=\"163.805074\" xlink:href=\"#m34174a6854\" y=\"159.582193\"/>\n     <use style=\"fill:#1f77b4;stroke:#1f77b4;\" x=\"94.420266\" xlink:href=\"#m34174a6854\" y=\"196.722469\"/>\n     <use style=\"fill:#1f77b4;stroke:#1f77b4;\" x=\"292.892923\" xlink:href=\"#m34174a6854\" y=\"89.143551\"/>\n     <use style=\"fill:#1f77b4;stroke:#1f77b4;\" x=\"287.052657\" xlink:href=\"#m34174a6854\" y=\"94.479063\"/>\n     <use style=\"fill:#1f77b4;stroke:#1f77b4;\" x=\"102.609872\" xlink:href=\"#m34174a6854\" y=\"192.657177\"/>\n     <use style=\"fill:#1f77b4;stroke:#1f77b4;\" x=\"64.564124\" xlink:href=\"#m34174a6854\" y=\"182.065428\"/>\n     <use style=\"fill:#1f77b4;stroke:#1f77b4;\" x=\"294.155825\" xlink:href=\"#m34174a6854\" y=\"92.137908\"/>\n     <use style=\"fill:#1f77b4;stroke:#1f77b4;\" x=\"169.481268\" xlink:href=\"#m34174a6854\" y=\"158.006083\"/>\n    </g>\n   </g>\n   <g id=\"matplotlib.axis_1\">\n    <g id=\"xtick_1\">\n     <g id=\"line2d_1\">\n      <defs>\n       <path d=\"M 0 0 \nL 0 3.5 \n\" id=\"mac7c0d3d3f\" style=\"stroke:#000000;stroke-width:0.8;\"/>\n      </defs>\n      <g>\n       <use style=\"stroke:#000000;stroke-width:0.8;\" x=\"54.5781\" xlink:href=\"#mac7c0d3d3f\" y=\"224.64\"/>\n      </g>\n     </g>\n     <g id=\"text_1\">\n      <!-- 0 -->\n      <defs>\n       <path d=\"M 31.78125 66.40625 \nQ 24.171875 66.40625 20.328125 58.90625 \nQ 16.5 51.421875 16.5 36.375 \nQ 16.5 21.390625 20.328125 13.890625 \nQ 24.171875 6.390625 31.78125 6.390625 \nQ 39.453125 6.390625 43.28125 13.890625 \nQ 47.125 21.390625 47.125 36.375 \nQ 47.125 51.421875 43.28125 58.90625 \nQ 39.453125 66.40625 31.78125 66.40625 \nz\nM 31.78125 74.21875 \nQ 44.046875 74.21875 50.515625 64.515625 \nQ 56.984375 54.828125 56.984375 36.375 \nQ 56.984375 17.96875 50.515625 8.265625 \nQ 44.046875 -1.421875 31.78125 -1.421875 \nQ 19.53125 -1.421875 13.0625 8.265625 \nQ 6.59375 17.96875 6.59375 36.375 \nQ 6.59375 54.828125 13.0625 64.515625 \nQ 19.53125 74.21875 31.78125 74.21875 \nz\n\" id=\"DejaVuSans-48\"/>\n      </defs>\n      <g transform=\"translate(51.39685 239.238437)scale(0.1 -0.1)\">\n       <use xlink:href=\"#DejaVuSans-48\"/>\n      </g>\n     </g>\n    </g>\n    <g id=\"xtick_2\">\n     <g id=\"line2d_2\">\n      <g>\n       <use style=\"stroke:#000000;stroke-width:0.8;\" x=\"113.146394\" xlink:href=\"#mac7c0d3d3f\" y=\"224.64\"/>\n      </g>\n     </g>\n     <g id=\"text_2\">\n      <!-- 10000 -->\n      <defs>\n       <path d=\"M 12.40625 8.296875 \nL 28.515625 8.296875 \nL 28.515625 63.921875 \nL 10.984375 60.40625 \nL 10.984375 69.390625 \nL 28.421875 72.90625 \nL 38.28125 72.90625 \nL 38.28125 8.296875 \nL 54.390625 8.296875 \nL 54.390625 0 \nL 12.40625 0 \nz\n\" id=\"DejaVuSans-49\"/>\n      </defs>\n      <g transform=\"translate(97.240144 239.238437)scale(0.1 -0.1)\">\n       <use xlink:href=\"#DejaVuSans-49\"/>\n       <use x=\"63.623047\" xlink:href=\"#DejaVuSans-48\"/>\n       <use x=\"127.246094\" xlink:href=\"#DejaVuSans-48\"/>\n       <use x=\"190.869141\" xlink:href=\"#DejaVuSans-48\"/>\n       <use x=\"254.492188\" xlink:href=\"#DejaVuSans-48\"/>\n      </g>\n     </g>\n    </g>\n    <g id=\"xtick_3\">\n     <g id=\"line2d_3\">\n      <g>\n       <use style=\"stroke:#000000;stroke-width:0.8;\" x=\"171.714688\" xlink:href=\"#mac7c0d3d3f\" y=\"224.64\"/>\n      </g>\n     </g>\n     <g id=\"text_3\">\n      <!-- 20000 -->\n      <defs>\n       <path d=\"M 19.1875 8.296875 \nL 53.609375 8.296875 \nL 53.609375 0 \nL 7.328125 0 \nL 7.328125 8.296875 \nQ 12.9375 14.109375 22.625 23.890625 \nQ 32.328125 33.6875 34.8125 36.53125 \nQ 39.546875 41.84375 41.421875 45.53125 \nQ 43.3125 49.21875 43.3125 52.78125 \nQ 43.3125 58.59375 39.234375 62.25 \nQ 35.15625 65.921875 28.609375 65.921875 \nQ 23.96875 65.921875 18.8125 64.3125 \nQ 13.671875 62.703125 7.8125 59.421875 \nL 7.8125 69.390625 \nQ 13.765625 71.78125 18.9375 73 \nQ 24.125 74.21875 28.421875 74.21875 \nQ 39.75 74.21875 46.484375 68.546875 \nQ 53.21875 62.890625 53.21875 53.421875 \nQ 53.21875 48.921875 51.53125 44.890625 \nQ 49.859375 40.875 45.40625 35.40625 \nQ 44.1875 33.984375 37.640625 27.21875 \nQ 31.109375 20.453125 19.1875 8.296875 \nz\n\" id=\"DejaVuSans-50\"/>\n      </defs>\n      <g transform=\"translate(155.808438 239.238437)scale(0.1 -0.1)\">\n       <use xlink:href=\"#DejaVuSans-50\"/>\n       <use x=\"63.623047\" xlink:href=\"#DejaVuSans-48\"/>\n       <use x=\"127.246094\" xlink:href=\"#DejaVuSans-48\"/>\n       <use x=\"190.869141\" xlink:href=\"#DejaVuSans-48\"/>\n       <use x=\"254.492188\" xlink:href=\"#DejaVuSans-48\"/>\n      </g>\n     </g>\n    </g>\n    <g id=\"xtick_4\">\n     <g id=\"line2d_4\">\n      <g>\n       <use style=\"stroke:#000000;stroke-width:0.8;\" x=\"230.282982\" xlink:href=\"#mac7c0d3d3f\" y=\"224.64\"/>\n      </g>\n     </g>\n     <g id=\"text_4\">\n      <!-- 30000 -->\n      <defs>\n       <path d=\"M 40.578125 39.3125 \nQ 47.65625 37.796875 51.625 33 \nQ 55.609375 28.21875 55.609375 21.1875 \nQ 55.609375 10.40625 48.1875 4.484375 \nQ 40.765625 -1.421875 27.09375 -1.421875 \nQ 22.515625 -1.421875 17.65625 -0.515625 \nQ 12.796875 0.390625 7.625 2.203125 \nL 7.625 11.71875 \nQ 11.71875 9.328125 16.59375 8.109375 \nQ 21.484375 6.890625 26.8125 6.890625 \nQ 36.078125 6.890625 40.9375 10.546875 \nQ 45.796875 14.203125 45.796875 21.1875 \nQ 45.796875 27.640625 41.28125 31.265625 \nQ 36.765625 34.90625 28.71875 34.90625 \nL 20.21875 34.90625 \nL 20.21875 43.015625 \nL 29.109375 43.015625 \nQ 36.375 43.015625 40.234375 45.921875 \nQ 44.09375 48.828125 44.09375 54.296875 \nQ 44.09375 59.90625 40.109375 62.90625 \nQ 36.140625 65.921875 28.71875 65.921875 \nQ 24.65625 65.921875 20.015625 65.03125 \nQ 15.375 64.15625 9.8125 62.3125 \nL 9.8125 71.09375 \nQ 15.4375 72.65625 20.34375 73.4375 \nQ 25.25 74.21875 29.59375 74.21875 \nQ 40.828125 74.21875 47.359375 69.109375 \nQ 53.90625 64.015625 53.90625 55.328125 \nQ 53.90625 49.265625 50.4375 45.09375 \nQ 46.96875 40.921875 40.578125 39.3125 \nz\n\" id=\"DejaVuSans-51\"/>\n      </defs>\n      <g transform=\"translate(214.376732 239.238437)scale(0.1 -0.1)\">\n       <use xlink:href=\"#DejaVuSans-51\"/>\n       <use x=\"63.623047\" xlink:href=\"#DejaVuSans-48\"/>\n       <use x=\"127.246094\" xlink:href=\"#DejaVuSans-48\"/>\n       <use x=\"190.869141\" xlink:href=\"#DejaVuSans-48\"/>\n       <use x=\"254.492188\" xlink:href=\"#DejaVuSans-48\"/>\n      </g>\n     </g>\n    </g>\n    <g id=\"xtick_5\">\n     <g id=\"line2d_5\">\n      <g>\n       <use style=\"stroke:#000000;stroke-width:0.8;\" x=\"288.851276\" xlink:href=\"#mac7c0d3d3f\" y=\"224.64\"/>\n      </g>\n     </g>\n     <g id=\"text_5\">\n      <!-- 40000 -->\n      <defs>\n       <path d=\"M 37.796875 64.3125 \nL 12.890625 25.390625 \nL 37.796875 25.390625 \nz\nM 35.203125 72.90625 \nL 47.609375 72.90625 \nL 47.609375 25.390625 \nL 58.015625 25.390625 \nL 58.015625 17.1875 \nL 47.609375 17.1875 \nL 47.609375 0 \nL 37.796875 0 \nL 37.796875 17.1875 \nL 4.890625 17.1875 \nL 4.890625 26.703125 \nz\n\" id=\"DejaVuSans-52\"/>\n      </defs>\n      <g transform=\"translate(272.945026 239.238437)scale(0.1 -0.1)\">\n       <use xlink:href=\"#DejaVuSans-52\"/>\n       <use x=\"63.623047\" xlink:href=\"#DejaVuSans-48\"/>\n       <use x=\"127.246094\" xlink:href=\"#DejaVuSans-48\"/>\n       <use x=\"190.869141\" xlink:href=\"#DejaVuSans-48\"/>\n       <use x=\"254.492188\" xlink:href=\"#DejaVuSans-48\"/>\n      </g>\n     </g>\n    </g>\n    <g id=\"xtick_6\">\n     <g id=\"line2d_6\">\n      <g>\n       <use style=\"stroke:#000000;stroke-width:0.8;\" x=\"347.41957\" xlink:href=\"#mac7c0d3d3f\" y=\"224.64\"/>\n      </g>\n     </g>\n     <g id=\"text_6\">\n      <!-- 50000 -->\n      <defs>\n       <path d=\"M 10.796875 72.90625 \nL 49.515625 72.90625 \nL 49.515625 64.59375 \nL 19.828125 64.59375 \nL 19.828125 46.734375 \nQ 21.96875 47.46875 24.109375 47.828125 \nQ 26.265625 48.1875 28.421875 48.1875 \nQ 40.625 48.1875 47.75 41.5 \nQ 54.890625 34.8125 54.890625 23.390625 \nQ 54.890625 11.625 47.5625 5.09375 \nQ 40.234375 -1.421875 26.90625 -1.421875 \nQ 22.3125 -1.421875 17.546875 -0.640625 \nQ 12.796875 0.140625 7.71875 1.703125 \nL 7.71875 11.625 \nQ 12.109375 9.234375 16.796875 8.0625 \nQ 21.484375 6.890625 26.703125 6.890625 \nQ 35.15625 6.890625 40.078125 11.328125 \nQ 45.015625 15.765625 45.015625 23.390625 \nQ 45.015625 31 40.078125 35.4375 \nQ 35.15625 39.890625 26.703125 39.890625 \nQ 22.75 39.890625 18.8125 39.015625 \nQ 14.890625 38.140625 10.796875 36.28125 \nz\n\" id=\"DejaVuSans-53\"/>\n      </defs>\n      <g transform=\"translate(331.51332 239.238437)scale(0.1 -0.1)\">\n       <use xlink:href=\"#DejaVuSans-53\"/>\n       <use x=\"63.623047\" xlink:href=\"#DejaVuSans-48\"/>\n       <use x=\"127.246094\" xlink:href=\"#DejaVuSans-48\"/>\n       <use x=\"190.869141\" xlink:href=\"#DejaVuSans-48\"/>\n       <use x=\"254.492188\" xlink:href=\"#DejaVuSans-48\"/>\n      </g>\n     </g>\n    </g>\n   </g>\n   <g id=\"matplotlib.axis_2\">\n    <g id=\"ytick_1\">\n     <g id=\"line2d_7\">\n      <defs>\n       <path d=\"M 0 0 \nL -3.5 0 \n\" id=\"mdd8b8438ca\" style=\"stroke:#000000;stroke-width:0.8;\"/>\n      </defs>\n      <g>\n       <use style=\"stroke:#000000;stroke-width:0.8;\" x=\"46.0125\" xlink:href=\"#mdd8b8438ca\" y=\"218.296172\"/>\n      </g>\n     </g>\n     <g id=\"text_7\">\n      <!-- 0 -->\n      <g transform=\"translate(32.65 222.095391)scale(0.1 -0.1)\">\n       <use xlink:href=\"#DejaVuSans-48\"/>\n      </g>\n     </g>\n    </g>\n    <g id=\"ytick_2\">\n     <g id=\"line2d_8\">\n      <g>\n       <use style=\"stroke:#000000;stroke-width:0.8;\" x=\"46.0125\" xlink:href=\"#mdd8b8438ca\" y=\"186.743532\"/>\n      </g>\n     </g>\n     <g id=\"text_8\">\n      <!-- 10000 -->\n      <g transform=\"translate(7.2 190.542751)scale(0.1 -0.1)\">\n       <use xlink:href=\"#DejaVuSans-49\"/>\n       <use x=\"63.623047\" xlink:href=\"#DejaVuSans-48\"/>\n       <use x=\"127.246094\" xlink:href=\"#DejaVuSans-48\"/>\n       <use x=\"190.869141\" xlink:href=\"#DejaVuSans-48\"/>\n       <use x=\"254.492188\" xlink:href=\"#DejaVuSans-48\"/>\n      </g>\n     </g>\n    </g>\n    <g id=\"ytick_3\">\n     <g id=\"line2d_9\">\n      <g>\n       <use style=\"stroke:#000000;stroke-width:0.8;\" x=\"46.0125\" xlink:href=\"#mdd8b8438ca\" y=\"155.190892\"/>\n      </g>\n     </g>\n     <g id=\"text_9\">\n      <!-- 20000 -->\n      <g transform=\"translate(7.2 158.990111)scale(0.1 -0.1)\">\n       <use xlink:href=\"#DejaVuSans-50\"/>\n       <use x=\"63.623047\" xlink:href=\"#DejaVuSans-48\"/>\n       <use x=\"127.246094\" xlink:href=\"#DejaVuSans-48\"/>\n       <use x=\"190.869141\" xlink:href=\"#DejaVuSans-48\"/>\n       <use x=\"254.492188\" xlink:href=\"#DejaVuSans-48\"/>\n      </g>\n     </g>\n    </g>\n    <g id=\"ytick_4\">\n     <g id=\"line2d_10\">\n      <g>\n       <use style=\"stroke:#000000;stroke-width:0.8;\" x=\"46.0125\" xlink:href=\"#mdd8b8438ca\" y=\"123.638252\"/>\n      </g>\n     </g>\n     <g id=\"text_10\">\n      <!-- 30000 -->\n      <g transform=\"translate(7.2 127.437471)scale(0.1 -0.1)\">\n       <use xlink:href=\"#DejaVuSans-51\"/>\n       <use x=\"63.623047\" xlink:href=\"#DejaVuSans-48\"/>\n       <use x=\"127.246094\" xlink:href=\"#DejaVuSans-48\"/>\n       <use x=\"190.869141\" xlink:href=\"#DejaVuSans-48\"/>\n       <use x=\"254.492188\" xlink:href=\"#DejaVuSans-48\"/>\n      </g>\n     </g>\n    </g>\n    <g id=\"ytick_5\">\n     <g id=\"line2d_11\">\n      <g>\n       <use style=\"stroke:#000000;stroke-width:0.8;\" x=\"46.0125\" xlink:href=\"#mdd8b8438ca\" y=\"92.085612\"/>\n      </g>\n     </g>\n     <g id=\"text_11\">\n      <!-- 40000 -->\n      <g transform=\"translate(7.2 95.884831)scale(0.1 -0.1)\">\n       <use xlink:href=\"#DejaVuSans-52\"/>\n       <use x=\"63.623047\" xlink:href=\"#DejaVuSans-48\"/>\n       <use x=\"127.246094\" xlink:href=\"#DejaVuSans-48\"/>\n       <use x=\"190.869141\" xlink:href=\"#DejaVuSans-48\"/>\n       <use x=\"254.492188\" xlink:href=\"#DejaVuSans-48\"/>\n      </g>\n     </g>\n    </g>\n    <g id=\"ytick_6\">\n     <g id=\"line2d_12\">\n      <g>\n       <use style=\"stroke:#000000;stroke-width:0.8;\" x=\"46.0125\" xlink:href=\"#mdd8b8438ca\" y=\"60.532972\"/>\n      </g>\n     </g>\n     <g id=\"text_12\">\n      <!-- 50000 -->\n      <g transform=\"translate(7.2 64.332191)scale(0.1 -0.1)\">\n       <use xlink:href=\"#DejaVuSans-53\"/>\n       <use x=\"63.623047\" xlink:href=\"#DejaVuSans-48\"/>\n       <use x=\"127.246094\" xlink:href=\"#DejaVuSans-48\"/>\n       <use x=\"190.869141\" xlink:href=\"#DejaVuSans-48\"/>\n       <use x=\"254.492188\" xlink:href=\"#DejaVuSans-48\"/>\n      </g>\n     </g>\n    </g>\n    <g id=\"ytick_7\">\n     <g id=\"line2d_13\">\n      <g>\n       <use style=\"stroke:#000000;stroke-width:0.8;\" x=\"46.0125\" xlink:href=\"#mdd8b8438ca\" y=\"28.980332\"/>\n      </g>\n     </g>\n     <g id=\"text_13\">\n      <!-- 60000 -->\n      <defs>\n       <path d=\"M 33.015625 40.375 \nQ 26.375 40.375 22.484375 35.828125 \nQ 18.609375 31.296875 18.609375 23.390625 \nQ 18.609375 15.53125 22.484375 10.953125 \nQ 26.375 6.390625 33.015625 6.390625 \nQ 39.65625 6.390625 43.53125 10.953125 \nQ 47.40625 15.53125 47.40625 23.390625 \nQ 47.40625 31.296875 43.53125 35.828125 \nQ 39.65625 40.375 33.015625 40.375 \nz\nM 52.59375 71.296875 \nL 52.59375 62.3125 \nQ 48.875 64.0625 45.09375 64.984375 \nQ 41.3125 65.921875 37.59375 65.921875 \nQ 27.828125 65.921875 22.671875 59.328125 \nQ 17.53125 52.734375 16.796875 39.40625 \nQ 19.671875 43.65625 24.015625 45.921875 \nQ 28.375 48.1875 33.59375 48.1875 \nQ 44.578125 48.1875 50.953125 41.515625 \nQ 57.328125 34.859375 57.328125 23.390625 \nQ 57.328125 12.15625 50.6875 5.359375 \nQ 44.046875 -1.421875 33.015625 -1.421875 \nQ 20.359375 -1.421875 13.671875 8.265625 \nQ 6.984375 17.96875 6.984375 36.375 \nQ 6.984375 53.65625 15.1875 63.9375 \nQ 23.390625 74.21875 37.203125 74.21875 \nQ 40.921875 74.21875 44.703125 73.484375 \nQ 48.484375 72.75 52.59375 71.296875 \nz\n\" id=\"DejaVuSans-54\"/>\n      </defs>\n      <g transform=\"translate(7.2 32.779551)scale(0.1 -0.1)\">\n       <use xlink:href=\"#DejaVuSans-54\"/>\n       <use x=\"63.623047\" xlink:href=\"#DejaVuSans-48\"/>\n       <use x=\"127.246094\" xlink:href=\"#DejaVuSans-48\"/>\n       <use x=\"190.869141\" xlink:href=\"#DejaVuSans-48\"/>\n       <use x=\"254.492188\" xlink:href=\"#DejaVuSans-48\"/>\n      </g>\n     </g>\n    </g>\n   </g>\n   <g id=\"patch_3\">\n    <path d=\"M 46.0125 224.64 \nL 46.0125 7.2 \n\" style=\"fill:none;stroke:#000000;stroke-linecap:square;stroke-linejoin:miter;stroke-width:0.8;\"/>\n   </g>\n   <g id=\"patch_4\">\n    <path d=\"M 380.8125 224.64 \nL 380.8125 7.2 \n\" style=\"fill:none;stroke:#000000;stroke-linecap:square;stroke-linejoin:miter;stroke-width:0.8;\"/>\n   </g>\n   <g id=\"patch_5\">\n    <path d=\"M 46.0125 224.64 \nL 380.8125 224.64 \n\" style=\"fill:none;stroke:#000000;stroke-linecap:square;stroke-linejoin:miter;stroke-width:0.8;\"/>\n   </g>\n   <g id=\"patch_6\">\n    <path d=\"M 46.0125 7.2 \nL 380.8125 7.2 \n\" style=\"fill:none;stroke:#000000;stroke-linecap:square;stroke-linejoin:miter;stroke-width:0.8;\"/>\n   </g>\n  </g>\n </g>\n <defs>\n  <clipPath id=\"p0cf492368a\">\n   <rect height=\"217.44\" width=\"334.8\" x=\"46.0125\" y=\"7.2\"/>\n  </clipPath>\n </defs>\n</svg>\n"
          },
          "metadata": {
            "needs_background": "light"
          }
        }
      ]
    },
    {
      "cell_type": "code",
      "source": [
        "np.corrcoef(y_test_pred.squeeze(),y_test.to_numpy())[0][1]"
      ],
      "metadata": {
        "colab": {
          "base_uri": "https://localhost:8080/"
        },
        "outputId": "19cf6558-8771-4cb3-b888-5b1c5dfba420",
        "id": "9xX4FIiphL_Q"
      },
      "execution_count": 119,
      "outputs": [
        {
          "output_type": "execute_result",
          "data": {
            "text/plain": [
              "0.935364728617303"
            ]
          },
          "metadata": {},
          "execution_count": 119
        }
      ]
    },
    {
      "cell_type": "code",
      "source": [
        "plt.scatter(y_test_pred,y_test)"
      ],
      "metadata": {
        "colab": {
          "base_uri": "https://localhost:8080/",
          "height": 370
        },
        "outputId": "a7786c0c-5e99-4419-e9e7-a7ea864bdcad",
        "id": "TVkduikRhL_Q"
      },
      "execution_count": 120,
      "outputs": [
        {
          "output_type": "execute_result",
          "data": {
            "text/plain": [
              "<matplotlib.collections.PathCollection at 0x7fe28a71b750>"
            ]
          },
          "metadata": {},
          "execution_count": 120
        },
        {
          "output_type": "display_data",
          "data": {
            "text/plain": [
              "<Figure size 432x288 with 1 Axes>"
            ],
            "image/svg+xml": "<?xml version=\"1.0\" encoding=\"utf-8\" standalone=\"no\"?>\n<!DOCTYPE svg PUBLIC \"-//W3C//DTD SVG 1.1//EN\"\n  \"http://www.w3.org/Graphics/SVG/1.1/DTD/svg11.dtd\">\n<!-- Created with matplotlib (https://matplotlib.org/) -->\n<svg height=\"248.619046pt\" version=\"1.1\" viewBox=\"0 0 403.369954 248.619046\" width=\"403.369954pt\" xmlns=\"http://www.w3.org/2000/svg\" xmlns:xlink=\"http://www.w3.org/1999/xlink\">\n <defs>\n  <style type=\"text/css\">\n*{stroke-linecap:butt;stroke-linejoin:round;}\n  </style>\n </defs>\n <g id=\"figure_1\">\n  <g id=\"patch_1\">\n   <path d=\"M 0 248.619046 \nL 403.369954 248.619046 \nL 403.369954 0 \nL 0 0 \nz\n\" style=\"fill:none;\"/>\n  </g>\n  <g id=\"axes_1\">\n   <g id=\"patch_2\">\n    <path d=\"M 46.0125 224.740921 \nL 380.8125 224.740921 \nL 380.8125 7.300921 \nL 46.0125 7.300921 \nz\n\" style=\"fill:#ffffff;\"/>\n   </g>\n   <g id=\"PathCollection_1\">\n    <defs>\n     <path d=\"M 0 3 \nC 0.795609 3 1.55874 2.683901 2.12132 2.12132 \nC 2.683901 1.55874 3 0.795609 3 0 \nC 3 -0.795609 2.683901 -1.55874 2.12132 -2.12132 \nC 1.55874 -2.683901 0.795609 -3 0 -3 \nC -0.795609 -3 -1.55874 -2.683901 -2.12132 -2.12132 \nC -2.683901 -1.55874 -3 -0.795609 -3 0 \nC -3 0.795609 -2.683901 1.55874 -2.12132 2.12132 \nC -1.55874 2.683901 -0.795609 3 0 3 \nz\n\" id=\"mc6f6074c30\" style=\"stroke:#1f77b4;\"/>\n    </defs>\n    <g clip-path=\"url(#p0a7df4a29e)\">\n     <use style=\"fill:#1f77b4;stroke:#1f77b4;\" x=\"97.059087\" xlink:href=\"#mc6f6074c30\" y=\"192.283258\"/>\n     <use style=\"fill:#1f77b4;stroke:#1f77b4;\" x=\"255.736048\" xlink:href=\"#mc6f6074c30\" y=\"54.403131\"/>\n     <use style=\"fill:#1f77b4;stroke:#1f77b4;\" x=\"296.287795\" xlink:href=\"#mc6f6074c30\" y=\"65.663114\"/>\n     <use style=\"fill:#1f77b4;stroke:#1f77b4;\" x=\"128.310391\" xlink:href=\"#mc6f6074c30\" y=\"166.090081\"/>\n     <use style=\"fill:#1f77b4;stroke:#1f77b4;\" x=\"87.506616\" xlink:href=\"#mc6f6074c30\" y=\"198.123034\"/>\n     <use style=\"fill:#1f77b4;stroke:#1f77b4;\" x=\"66.725484\" xlink:href=\"#mc6f6074c30\" y=\"211.652528\"/>\n     <use style=\"fill:#1f77b4;stroke:#1f77b4;\" x=\"94.274381\" xlink:href=\"#mc6f6074c30\" y=\"194.112941\"/>\n     <use style=\"fill:#1f77b4;stroke:#1f77b4;\" x=\"127.071648\" xlink:href=\"#mc6f6074c30\" y=\"172.703681\"/>\n     <use style=\"fill:#1f77b4;stroke:#1f77b4;\" x=\"115.81503\" xlink:href=\"#mc6f6074c30\" y=\"180.201485\"/>\n     <use style=\"fill:#1f77b4;stroke:#1f77b4;\" x=\"68.131002\" xlink:href=\"#mc6f6074c30\" y=\"210.43709\"/>\n     <use style=\"fill:#1f77b4;stroke:#1f77b4;\" x=\"92.911881\" xlink:href=\"#mc6f6074c30\" y=\"194.252965\"/>\n     <use style=\"fill:#1f77b4;stroke:#1f77b4;\" x=\"89.176444\" xlink:href=\"#mc6f6074c30\" y=\"197.622171\"/>\n     <use style=\"fill:#1f77b4;stroke:#1f77b4;\" x=\"204.113479\" xlink:href=\"#mc6f6074c30\" y=\"128.768402\"/>\n     <use style=\"fill:#1f77b4;stroke:#1f77b4;\" x=\"138.982675\" xlink:href=\"#mc6f6074c30\" y=\"165.203585\"/>\n     <use style=\"fill:#1f77b4;stroke:#1f77b4;\" x=\"73.35741\" xlink:href=\"#mc6f6074c30\" y=\"207.406942\"/>\n     <use style=\"fill:#1f77b4;stroke:#1f77b4;\" x=\"126.886259\" xlink:href=\"#mc6f6074c30\" y=\"172.619549\"/>\n     <use style=\"fill:#1f77b4;stroke:#1f77b4;\" x=\"138.197358\" xlink:href=\"#mc6f6074c30\" y=\"165.586821\"/>\n     <use style=\"fill:#1f77b4;stroke:#1f77b4;\" x=\"129.992416\" xlink:href=\"#mc6f6074c30\" y=\"171.410873\"/>\n     <use style=\"fill:#1f77b4;stroke:#1f77b4;\" x=\"61.879507\" xlink:href=\"#mc6f6074c30\" y=\"214.434323\"/>\n     <use style=\"fill:#1f77b4;stroke:#1f77b4;\" x=\"127.298747\" xlink:href=\"#mc6f6074c30\" y=\"173.344811\"/>\n     <use style=\"fill:#1f77b4;stroke:#1f77b4;\" x=\"138.01329\" xlink:href=\"#mc6f6074c30\" y=\"165.449951\"/>\n     <use style=\"fill:#1f77b4;stroke:#1f77b4;\" x=\"100.552531\" xlink:href=\"#mc6f6074c30\" y=\"189.744996\"/>\n     <use style=\"fill:#1f77b4;stroke:#1f77b4;\" x=\"115.538105\" xlink:href=\"#mc6f6074c30\" y=\"181.140193\"/>\n     <use style=\"fill:#1f77b4;stroke:#1f77b4;\" x=\"99.851186\" xlink:href=\"#mc6f6074c30\" y=\"190.659523\"/>\n     <use style=\"fill:#1f77b4;stroke:#1f77b4;\" x=\"136.609363\" xlink:href=\"#mc6f6074c30\" y=\"166.458453\"/>\n     <use style=\"fill:#1f77b4;stroke:#1f77b4;\" x=\"74.196232\" xlink:href=\"#mc6f6074c30\" y=\"207.011629\"/>\n     <use style=\"fill:#1f77b4;stroke:#1f77b4;\" x=\"70.712346\" xlink:href=\"#mc6f6074c30\" y=\"208.830628\"/>\n     <use style=\"fill:#1f77b4;stroke:#1f77b4;\" x=\"72.526245\" xlink:href=\"#mc6f6074c30\" y=\"207.502811\"/>\n     <use style=\"fill:#1f77b4;stroke:#1f77b4;\" x=\"64.564694\" xlink:href=\"#mc6f6074c30\" y=\"212.503295\"/>\n     <use style=\"fill:#1f77b4;stroke:#1f77b4;\" x=\"114.227946\" xlink:href=\"#mc6f6074c30\" y=\"180.889523\"/>\n     <use style=\"fill:#1f77b4;stroke:#1f77b4;\" x=\"65.007711\" xlink:href=\"#mc6f6074c30\" y=\"212.79975\"/>\n     <use style=\"fill:#1f77b4;stroke:#1f77b4;\" x=\"347.961931\" xlink:href=\"#mc6f6074c30\" y=\"25.189143\"/>\n     <use style=\"fill:#1f77b4;stroke:#1f77b4;\" x=\"90.178729\" xlink:href=\"#mc6f6074c30\" y=\"197.02349\"/>\n     <use style=\"fill:#1f77b4;stroke:#1f77b4;\" x=\"257.719106\" xlink:href=\"#mc6f6074c30\" y=\"75.922565\"/>\n     <use style=\"fill:#1f77b4;stroke:#1f77b4;\" x=\"112.122844\" xlink:href=\"#mc6f6074c30\" y=\"182.200289\"/>\n     <use style=\"fill:#1f77b4;stroke:#1f77b4;\" x=\"120.071843\" xlink:href=\"#mc6f6074c30\" y=\"93.259829\"/>\n     <use style=\"fill:#1f77b4;stroke:#1f77b4;\" x=\"130.576049\" xlink:href=\"#mc6f6074c30\" y=\"170.678799\"/>\n     <use style=\"fill:#1f77b4;stroke:#1f77b4;\" x=\"83.434675\" xlink:href=\"#mc6f6074c30\" y=\"201.121941\"/>\n     <use style=\"fill:#1f77b4;stroke:#1f77b4;\" x=\"120.812944\" xlink:href=\"#mc6f6074c30\" y=\"176.951585\"/>\n     <use style=\"fill:#1f77b4;stroke:#1f77b4;\" x=\"146.839487\" xlink:href=\"#mc6f6074c30\" y=\"160.137142\"/>\n     <use style=\"fill:#1f77b4;stroke:#1f77b4;\" x=\"94.365255\" xlink:href=\"#mc6f6074c30\" y=\"194.069807\"/>\n     <use style=\"fill:#1f77b4;stroke:#1f77b4;\" x=\"288.647422\" xlink:href=\"#mc6f6074c30\" y=\"62.70573\"/>\n     <use style=\"fill:#1f77b4;stroke:#1f77b4;\" x=\"110.219643\" xlink:href=\"#mc6f6074c30\" y=\"183.988831\"/>\n     <use style=\"fill:#1f77b4;stroke:#1f77b4;\" x=\"108.523074\" xlink:href=\"#mc6f6074c30\" y=\"185.561642\"/>\n     <use style=\"fill:#1f77b4;stroke:#1f77b4;\" x=\"65.352308\" xlink:href=\"#mc6f6074c30\" y=\"211.932115\"/>\n     <use style=\"fill:#1f77b4;stroke:#1f77b4;\" x=\"76.747392\" xlink:href=\"#mc6f6074c30\" y=\"205.462965\"/>\n     <use style=\"fill:#1f77b4;stroke:#1f77b4;\" x=\"268.269396\" xlink:href=\"#mc6f6074c30\" y=\"75.784938\"/>\n     <use style=\"fill:#1f77b4;stroke:#1f77b4;\" x=\"79.982801\" xlink:href=\"#mc6f6074c30\" y=\"203.448702\"/>\n     <use style=\"fill:#1f77b4;stroke:#1f77b4;\" x=\"71.743447\" xlink:href=\"#mc6f6074c30\" y=\"208.221199\"/>\n     <use style=\"fill:#1f77b4;stroke:#1f77b4;\" x=\"122.340924\" xlink:href=\"#mc6f6074c30\" y=\"175.386397\"/>\n     <use style=\"fill:#1f77b4;stroke:#1f77b4;\" x=\"88.212032\" xlink:href=\"#mc6f6074c30\" y=\"197.699994\"/>\n     <use style=\"fill:#1f77b4;stroke:#1f77b4;\" x=\"72.513643\" xlink:href=\"#mc6f6074c30\" y=\"208.315781\"/>\n     <use style=\"fill:#1f77b4;stroke:#1f77b4;\" x=\"81.305482\" xlink:href=\"#mc6f6074c30\" y=\"201.950001\"/>\n     <use style=\"fill:#1f77b4;stroke:#1f77b4;\" x=\"110.336249\" xlink:href=\"#mc6f6074c30\" y=\"183.305453\"/>\n     <use style=\"fill:#1f77b4;stroke:#1f77b4;\" x=\"120.027773\" xlink:href=\"#mc6f6074c30\" y=\"133.541803\"/>\n     <use style=\"fill:#1f77b4;stroke:#1f77b4;\" x=\"102.564771\" xlink:href=\"#mc6f6074c30\" y=\"188.666728\"/>\n     <use style=\"fill:#1f77b4;stroke:#1f77b4;\" x=\"312.214076\" xlink:href=\"#mc6f6074c30\" y=\"53.880165\"/>\n     <use style=\"fill:#1f77b4;stroke:#1f77b4;\" x=\"199.217827\" xlink:href=\"#mc6f6074c30\" y=\"149.16899\"/>\n     <use style=\"fill:#1f77b4;stroke:#1f77b4;\" x=\"123.720891\" xlink:href=\"#mc6f6074c30\" y=\"175.557133\"/>\n     <use style=\"fill:#1f77b4;stroke:#1f77b4;\" x=\"114.585883\" xlink:href=\"#mc6f6074c30\" y=\"181.341583\"/>\n     <use style=\"fill:#1f77b4;stroke:#1f77b4;\" x=\"244.594711\" xlink:href=\"#mc6f6074c30\" y=\"76.492887\"/>\n     <use style=\"fill:#1f77b4;stroke:#1f77b4;\" x=\"89.87222\" xlink:href=\"#mc6f6074c30\" y=\"196.72057\"/>\n     <use style=\"fill:#1f77b4;stroke:#1f77b4;\" x=\"120.205166\" xlink:href=\"#mc6f6074c30\" y=\"177.4529\"/>\n     <use style=\"fill:#1f77b4;stroke:#1f77b4;\" x=\"119.108909\" xlink:href=\"#mc6f6074c30\" y=\"178.438941\"/>\n     <use style=\"fill:#1f77b4;stroke:#1f77b4;\" x=\"341.301591\" xlink:href=\"#mc6f6074c30\" y=\"36.466057\"/>\n     <use style=\"fill:#1f77b4;stroke:#1f77b4;\" x=\"210.177965\" xlink:href=\"#mc6f6074c30\" y=\"120.286227\"/>\n     <use style=\"fill:#1f77b4;stroke:#1f77b4;\" x=\"70.570632\" xlink:href=\"#mc6f6074c30\" y=\"209.195448\"/>\n     <use style=\"fill:#1f77b4;stroke:#1f77b4;\" x=\"154.991956\" xlink:href=\"#mc6f6074c30\" y=\"154.479348\"/>\n     <use style=\"fill:#1f77b4;stroke:#1f77b4;\" x=\"226.453319\" xlink:href=\"#mc6f6074c30\" y=\"136.449247\"/>\n     <use style=\"fill:#1f77b4;stroke:#1f77b4;\" x=\"353.514569\" xlink:href=\"#mc6f6074c30\" y=\"17.184557\"/>\n     <use style=\"fill:#1f77b4;stroke:#1f77b4;\" x=\"78.680846\" xlink:href=\"#mc6f6074c30\" y=\"203.509304\"/>\n     <use style=\"fill:#1f77b4;stroke:#1f77b4;\" x=\"128.65124\" xlink:href=\"#mc6f6074c30\" y=\"172.446838\"/>\n     <use style=\"fill:#1f77b4;stroke:#1f77b4;\" x=\"209.18759\" xlink:href=\"#mc6f6074c30\" y=\"148.350546\"/>\n     <use style=\"fill:#1f77b4;stroke:#1f77b4;\" x=\"233.043143\" xlink:href=\"#mc6f6074c30\" y=\"103.590381\"/>\n     <use style=\"fill:#1f77b4;stroke:#1f77b4;\" x=\"84.817017\" xlink:href=\"#mc6f6074c30\" y=\"199.933572\"/>\n     <use style=\"fill:#1f77b4;stroke:#1f77b4;\" x=\"363.171982\" xlink:href=\"#mc6f6074c30\" y=\"26.850278\"/>\n     <use style=\"fill:#1f77b4;stroke:#1f77b4;\" x=\"110.297739\" xlink:href=\"#mc6f6074c30\" y=\"183.366358\"/>\n     <use style=\"fill:#1f77b4;stroke:#1f77b4;\" x=\"218.433141\" xlink:href=\"#mc6f6074c30\" y=\"117.311199\"/>\n     <use style=\"fill:#1f77b4;stroke:#1f77b4;\" x=\"129.406616\" xlink:href=\"#mc6f6074c30\" y=\"171.585358\"/>\n     <use style=\"fill:#1f77b4;stroke:#1f77b4;\" x=\"119.489275\" xlink:href=\"#mc6f6074c30\" y=\"178.406407\"/>\n     <use style=\"fill:#1f77b4;stroke:#1f77b4;\" x=\"83.192919\" xlink:href=\"#mc6f6074c30\" y=\"200.659441\"/>\n     <use style=\"fill:#1f77b4;stroke:#1f77b4;\" x=\"110.187917\" xlink:href=\"#mc6f6074c30\" y=\"184.03948\"/>\n     <use style=\"fill:#1f77b4;stroke:#1f77b4;\" x=\"100.310762\" xlink:href=\"#mc6f6074c30\" y=\"190.223134\"/>\n     <use style=\"fill:#1f77b4;stroke:#1f77b4;\" x=\"86.194956\" xlink:href=\"#mc6f6074c30\" y=\"199.030238\"/>\n     <use style=\"fill:#1f77b4;stroke:#1f77b4;\" x=\"274.532856\" xlink:href=\"#mc6f6074c30\" y=\"44.380525\"/>\n     <use style=\"fill:#1f77b4;stroke:#1f77b4;\" x=\"112.380846\" xlink:href=\"#mc6f6074c30\" y=\"182.7891\"/>\n     <use style=\"fill:#1f77b4;stroke:#1f77b4;\" x=\"91.46435\" xlink:href=\"#mc6f6074c30\" y=\"196.12727\"/>\n     <use style=\"fill:#1f77b4;stroke:#1f77b4;\" x=\"87.823798\" xlink:href=\"#mc6f6074c30\" y=\"197.806537\"/>\n     <use style=\"fill:#1f77b4;stroke:#1f77b4;\" x=\"69.828116\" xlink:href=\"#mc6f6074c30\" y=\"209.366152\"/>\n     <use style=\"fill:#1f77b4;stroke:#1f77b4;\" x=\"64.527997\" xlink:href=\"#mc6f6074c30\" y=\"212.507703\"/>\n     <use style=\"fill:#1f77b4;stroke:#1f77b4;\" x=\"119.697674\" xlink:href=\"#mc6f6074c30\" y=\"177.715283\"/>\n     <use style=\"fill:#1f77b4;stroke:#1f77b4;\" x=\"81.785425\" xlink:href=\"#mc6f6074c30\" y=\"202.370766\"/>\n     <use style=\"fill:#1f77b4;stroke:#1f77b4;\" x=\"105.150614\" xlink:href=\"#mc6f6074c30\" y=\"187.361159\"/>\n     <use style=\"fill:#1f77b4;stroke:#1f77b4;\" x=\"239.537802\" xlink:href=\"#mc6f6074c30\" y=\"98.826553\"/>\n     <use style=\"fill:#1f77b4;stroke:#1f77b4;\" x=\"123.706354\" xlink:href=\"#mc6f6074c30\" y=\"175.41523\"/>\n     <use style=\"fill:#1f77b4;stroke:#1f77b4;\" x=\"360.051371\" xlink:href=\"#mc6f6074c30\" y=\"24.92906\"/>\n     <use style=\"fill:#1f77b4;stroke:#1f77b4;\" x=\"66.144958\" xlink:href=\"#mc6f6074c30\" y=\"211.358195\"/>\n     <use style=\"fill:#1f77b4;stroke:#1f77b4;\" x=\"117.528246\" xlink:href=\"#mc6f6074c30\" y=\"179.702429\"/>\n     <use style=\"fill:#1f77b4;stroke:#1f77b4;\" x=\"140.934804\" xlink:href=\"#mc6f6074c30\" y=\"65.613567\"/>\n     <use style=\"fill:#1f77b4;stroke:#1f77b4;\" x=\"287.172832\" xlink:href=\"#mc6f6074c30\" y=\"68.588118\"/>\n     <use style=\"fill:#1f77b4;stroke:#1f77b4;\" x=\"61.230682\" xlink:href=\"#mc6f6074c30\" y=\"214.857285\"/>\n     <use style=\"fill:#1f77b4;stroke:#1f77b4;\" x=\"102.384238\" xlink:href=\"#mc6f6074c30\" y=\"188.57085\"/>\n     <use style=\"fill:#1f77b4;stroke:#1f77b4;\" x=\"80.321594\" xlink:href=\"#mc6f6074c30\" y=\"203.20067\"/>\n     <use style=\"fill:#1f77b4;stroke:#1f77b4;\" x=\"64.879244\" xlink:href=\"#mc6f6074c30\" y=\"212.808132\"/>\n     <use style=\"fill:#1f77b4;stroke:#1f77b4;\" x=\"282.062163\" xlink:href=\"#mc6f6074c30\" y=\"65.448136\"/>\n     <use style=\"fill:#1f77b4;stroke:#1f77b4;\" x=\"93.033135\" xlink:href=\"#mc6f6074c30\" y=\"194.700638\"/>\n     <use style=\"fill:#1f77b4;stroke:#1f77b4;\" x=\"75.982544\" xlink:href=\"#mc6f6074c30\" y=\"205.521657\"/>\n     <use style=\"fill:#1f77b4;stroke:#1f77b4;\" x=\"216.374582\" xlink:href=\"#mc6f6074c30\" y=\"117.8396\"/>\n     <use style=\"fill:#1f77b4;stroke:#1f77b4;\" x=\"68.07636\" xlink:href=\"#mc6f6074c30\" y=\"211.339906\"/>\n     <use style=\"fill:#1f77b4;stroke:#1f77b4;\" x=\"223.516216\" xlink:href=\"#mc6f6074c30\" y=\"110.680963\"/>\n     <use style=\"fill:#1f77b4;stroke:#1f77b4;\" x=\"357.908728\" xlink:href=\"#mc6f6074c30\" y=\"33.941656\"/>\n     <use style=\"fill:#1f77b4;stroke:#1f77b4;\" x=\"146.662062\" xlink:href=\"#mc6f6074c30\" y=\"159.329106\"/>\n     <use style=\"fill:#1f77b4;stroke:#1f77b4;\" x=\"99.568159\" xlink:href=\"#mc6f6074c30\" y=\"190.473446\"/>\n     <use style=\"fill:#1f77b4;stroke:#1f77b4;\" x=\"92.290673\" xlink:href=\"#mc6f6074c30\" y=\"195.864522\"/>\n     <use style=\"fill:#1f77b4;stroke:#1f77b4;\" x=\"90.491149\" xlink:href=\"#mc6f6074c30\" y=\"196.736403\"/>\n     <use style=\"fill:#1f77b4;stroke:#1f77b4;\" x=\"79.080757\" xlink:href=\"#mc6f6074c30\" y=\"122.646836\"/>\n     <use style=\"fill:#1f77b4;stroke:#1f77b4;\" x=\"123.394138\" xlink:href=\"#mc6f6074c30\" y=\"175.416381\"/>\n     <use style=\"fill:#1f77b4;stroke:#1f77b4;\" x=\"120.903091\" xlink:href=\"#mc6f6074c30\" y=\"176.538842\"/>\n     <use style=\"fill:#1f77b4;stroke:#1f77b4;\" x=\"97.367583\" xlink:href=\"#mc6f6074c30\" y=\"191.91277\"/>\n     <use style=\"fill:#1f77b4;stroke:#1f77b4;\" x=\"77.585248\" xlink:href=\"#mc6f6074c30\" y=\"204.209358\"/>\n     <use style=\"fill:#1f77b4;stroke:#1f77b4;\" x=\"84.756237\" xlink:href=\"#mc6f6074c30\" y=\"200.983276\"/>\n     <use style=\"fill:#1f77b4;stroke:#1f77b4;\" x=\"130.281462\" xlink:href=\"#mc6f6074c30\" y=\"170.539768\"/>\n     <use style=\"fill:#1f77b4;stroke:#1f77b4;\" x=\"110.58859\" xlink:href=\"#mc6f6074c30\" y=\"184.088603\"/>\n     <use style=\"fill:#1f77b4;stroke:#1f77b4;\" x=\"132.137349\" xlink:href=\"#mc6f6074c30\" y=\"170.257687\"/>\n     <use style=\"fill:#1f77b4;stroke:#1f77b4;\" x=\"72.516047\" xlink:href=\"#mc6f6074c30\" y=\"208.316331\"/>\n     <use style=\"fill:#1f77b4;stroke:#1f77b4;\" x=\"127.298135\" xlink:href=\"#mc6f6074c30\" y=\"172.19642\"/>\n     <use style=\"fill:#1f77b4;stroke:#1f77b4;\" x=\"144.268124\" xlink:href=\"#mc6f6074c30\" y=\"161.281812\"/>\n     <use style=\"fill:#1f77b4;stroke:#1f77b4;\" x=\"126.432942\" xlink:href=\"#mc6f6074c30\" y=\"173.418002\"/>\n     <use style=\"fill:#1f77b4;stroke:#1f77b4;\" x=\"133.751906\" xlink:href=\"#mc6f6074c30\" y=\"168.199315\"/>\n     <use style=\"fill:#1f77b4;stroke:#1f77b4;\" x=\"66.684797\" xlink:href=\"#mc6f6074c30\" y=\"211.775437\"/>\n     <use style=\"fill:#1f77b4;stroke:#1f77b4;\" x=\"124.379132\" xlink:href=\"#mc6f6074c30\" y=\"174.821207\"/>\n     <use style=\"fill:#1f77b4;stroke:#1f77b4;\" x=\"102.449561\" xlink:href=\"#mc6f6074c30\" y=\"188.97046\"/>\n     <use style=\"fill:#1f77b4;stroke:#1f77b4;\" x=\"313.054709\" xlink:href=\"#mc6f6074c30\" y=\"48.145536\"/>\n     <use style=\"fill:#1f77b4;stroke:#1f77b4;\" x=\"75.6242\" xlink:href=\"#mc6f6074c30\" y=\"205.628579\"/>\n     <use style=\"fill:#1f77b4;stroke:#1f77b4;\" x=\"217.495966\" xlink:href=\"#mc6f6074c30\" y=\"144.374704\"/>\n     <use style=\"fill:#1f77b4;stroke:#1f77b4;\" x=\"102.410053\" xlink:href=\"#mc6f6074c30\" y=\"188.542048\"/>\n     <use style=\"fill:#1f77b4;stroke:#1f77b4;\" x=\"116.137013\" xlink:href=\"#mc6f6074c30\" y=\"179.718959\"/>\n     <use style=\"fill:#1f77b4;stroke:#1f77b4;\" x=\"194.953427\" xlink:href=\"#mc6f6074c30\" y=\"131.065926\"/>\n     <use style=\"fill:#1f77b4;stroke:#1f77b4;\" x=\"192.696326\" xlink:href=\"#mc6f6074c30\" y=\"147.217317\"/>\n     <use style=\"fill:#1f77b4;stroke:#1f77b4;\" x=\"287.450536\" xlink:href=\"#mc6f6074c30\" y=\"63.219264\"/>\n     <use style=\"fill:#1f77b4;stroke:#1f77b4;\" x=\"131.338853\" xlink:href=\"#mc6f6074c30\" y=\"170.184528\"/>\n     <use style=\"fill:#1f77b4;stroke:#1f77b4;\" x=\"64.954222\" xlink:href=\"#mc6f6074c30\" y=\"212.778931\"/>\n     <use style=\"fill:#1f77b4;stroke:#1f77b4;\" x=\"363.311969\" xlink:href=\"#mc6f6074c30\" y=\"40.275127\"/>\n     <use style=\"fill:#1f77b4;stroke:#1f77b4;\" x=\"132.231972\" xlink:href=\"#mc6f6074c30\" y=\"170.15002\"/>\n     <use style=\"fill:#1f77b4;stroke:#1f77b4;\" x=\"63.857699\" xlink:href=\"#mc6f6074c30\" y=\"213.218113\"/>\n     <use style=\"fill:#1f77b4;stroke:#1f77b4;\" x=\"134.584493\" xlink:href=\"#mc6f6074c30\" y=\"168.430065\"/>\n     <use style=\"fill:#1f77b4;stroke:#1f77b4;\" x=\"200.500353\" xlink:href=\"#mc6f6074c30\" y=\"126.916715\"/>\n     <use style=\"fill:#1f77b4;stroke:#1f77b4;\" x=\"79.077551\" xlink:href=\"#mc6f6074c30\" y=\"203.90287\"/>\n     <use style=\"fill:#1f77b4;stroke:#1f77b4;\" x=\"85.244879\" xlink:href=\"#mc6f6074c30\" y=\"200.066316\"/>\n     <use style=\"fill:#1f77b4;stroke:#1f77b4;\" x=\"121.548421\" xlink:href=\"#mc6f6074c30\" y=\"176.771437\"/>\n     <use style=\"fill:#1f77b4;stroke:#1f77b4;\" x=\"68.309584\" xlink:href=\"#mc6f6074c30\" y=\"210.729805\"/>\n     <use style=\"fill:#1f77b4;stroke:#1f77b4;\" x=\"140.077817\" xlink:href=\"#mc6f6074c30\" y=\"164.440985\"/>\n     <use style=\"fill:#1f77b4;stroke:#1f77b4;\" x=\"102.817736\" xlink:href=\"#mc6f6074c30\" y=\"144.811408\"/>\n     <use style=\"fill:#1f77b4;stroke:#1f77b4;\" x=\"149.180041\" xlink:href=\"#mc6f6074c30\" y=\"159.225544\"/>\n     <use style=\"fill:#1f77b4;stroke:#1f77b4;\" x=\"118.881319\" xlink:href=\"#mc6f6074c30\" y=\"178.475597\"/>\n     <use style=\"fill:#1f77b4;stroke:#1f77b4;\" x=\"65.048759\" xlink:href=\"#mc6f6074c30\" y=\"212.854964\"/>\n     <use style=\"fill:#1f77b4;stroke:#1f77b4;\" x=\"78.077845\" xlink:href=\"#mc6f6074c30\" y=\"204.758194\"/>\n     <use style=\"fill:#1f77b4;stroke:#1f77b4;\" x=\"117.683649\" xlink:href=\"#mc6f6074c30\" y=\"178.519795\"/>\n     <use style=\"fill:#1f77b4;stroke:#1f77b4;\" x=\"102.093505\" xlink:href=\"#mc6f6074c30\" y=\"189.483418\"/>\n     <use style=\"fill:#1f77b4;stroke:#1f77b4;\" x=\"130.134462\" xlink:href=\"#mc6f6074c30\" y=\"170.977395\"/>\n     <use style=\"fill:#1f77b4;stroke:#1f77b4;\" x=\"85.247994\" xlink:href=\"#mc6f6074c30\" y=\"199.475852\"/>\n     <use style=\"fill:#1f77b4;stroke:#1f77b4;\" x=\"90.250355\" xlink:href=\"#mc6f6074c30\" y=\"196.927158\"/>\n     <use style=\"fill:#1f77b4;stroke:#1f77b4;\" x=\"108.758665\" xlink:href=\"#mc6f6074c30\" y=\"185.359764\"/>\n     <use style=\"fill:#1f77b4;stroke:#1f77b4;\" x=\"127.250469\" xlink:href=\"#mc6f6074c30\" y=\"173.366219\"/>\n     <use style=\"fill:#1f77b4;stroke:#1f77b4;\" x=\"92.862854\" xlink:href=\"#mc6f6074c30\" y=\"194.669958\"/>\n     <use style=\"fill:#1f77b4;stroke:#1f77b4;\" x=\"128.729063\" xlink:href=\"#mc6f6074c30\" y=\"171.685863\"/>\n     <use style=\"fill:#1f77b4;stroke:#1f77b4;\" x=\"133.536895\" xlink:href=\"#mc6f6074c30\" y=\"169.156709\"/>\n     <use style=\"fill:#1f77b4;stroke:#1f77b4;\" x=\"98.590052\" xlink:href=\"#mc6f6074c30\" y=\"190.922092\"/>\n     <use style=\"fill:#1f77b4;stroke:#1f77b4;\" x=\"319.758608\" xlink:href=\"#mc6f6074c30\" y=\"43.858993\"/>\n     <use style=\"fill:#1f77b4;stroke:#1f77b4;\" x=\"310.010455\" xlink:href=\"#mc6f6074c30\" y=\"27.14426\"/>\n     <use style=\"fill:#1f77b4;stroke:#1f77b4;\" x=\"124.162898\" xlink:href=\"#mc6f6074c30\" y=\"109.188206\"/>\n     <use style=\"fill:#1f77b4;stroke:#1f77b4;\" x=\"139.573181\" xlink:href=\"#mc6f6074c30\" y=\"164.908663\"/>\n     <use style=\"fill:#1f77b4;stroke:#1f77b4;\" x=\"132.496636\" xlink:href=\"#mc6f6074c30\" y=\"168.937686\"/>\n     <use style=\"fill:#1f77b4;stroke:#1f77b4;\" x=\"65.645714\" xlink:href=\"#mc6f6074c30\" y=\"212.27918\"/>\n     <use style=\"fill:#1f77b4;stroke:#1f77b4;\" x=\"75.47493\" xlink:href=\"#mc6f6074c30\" y=\"206.349464\"/>\n     <use style=\"fill:#1f77b4;stroke:#1f77b4;\" x=\"314.222573\" xlink:href=\"#mc6f6074c30\" y=\"48.408149\"/>\n     <use style=\"fill:#1f77b4;stroke:#1f77b4;\" x=\"127.660298\" xlink:href=\"#mc6f6074c30\" y=\"172.940342\"/>\n     <use style=\"fill:#1f77b4;stroke:#1f77b4;\" x=\"61.845663\" xlink:href=\"#mc6f6074c30\" y=\"214.387926\"/>\n     <use style=\"fill:#1f77b4;stroke:#1f77b4;\" x=\"101.871271\" xlink:href=\"#mc6f6074c30\" y=\"162.351529\"/>\n     <use style=\"fill:#1f77b4;stroke:#1f77b4;\" x=\"68.186331\" xlink:href=\"#mc6f6074c30\" y=\"130.560351\"/>\n     <use style=\"fill:#1f77b4;stroke:#1f77b4;\" x=\"149.412693\" xlink:href=\"#mc6f6074c30\" y=\"157.006219\"/>\n     <use style=\"fill:#1f77b4;stroke:#1f77b4;\" x=\"151.467471\" xlink:href=\"#mc6f6074c30\" y=\"156.951224\"/>\n     <use style=\"fill:#1f77b4;stroke:#1f77b4;\" x=\"109.670503\" xlink:href=\"#mc6f6074c30\" y=\"184.070798\"/>\n     <use style=\"fill:#1f77b4;stroke:#1f77b4;\" x=\"101.879209\" xlink:href=\"#mc6f6074c30\" y=\"189.538888\"/>\n     <use style=\"fill:#1f77b4;stroke:#1f77b4;\" x=\"365.594318\" xlink:href=\"#mc6f6074c30\" y=\"21.585073\"/>\n     <use style=\"fill:#1f77b4;stroke:#1f77b4;\" x=\"133.417579\" xlink:href=\"#mc6f6074c30\" y=\"169.365897\"/>\n     <use style=\"fill:#1f77b4;stroke:#1f77b4;\" x=\"76.917475\" xlink:href=\"#mc6f6074c30\" y=\"204.790262\"/>\n     <use style=\"fill:#1f77b4;stroke:#1f77b4;\" x=\"65.010658\" xlink:href=\"#mc6f6074c30\" y=\"212.806129\"/>\n     <use style=\"fill:#1f77b4;stroke:#1f77b4;\" x=\"134.031987\" xlink:href=\"#mc6f6074c30\" y=\"168.584522\"/>\n     <use style=\"fill:#1f77b4;stroke:#1f77b4;\" x=\"344.885313\" xlink:href=\"#mc6f6074c30\" y=\"19.644333\"/>\n     <use style=\"fill:#1f77b4;stroke:#1f77b4;\" x=\"121.881211\" xlink:href=\"#mc6f6074c30\" y=\"176.348135\"/>\n     <use style=\"fill:#1f77b4;stroke:#1f77b4;\" x=\"326.673316\" xlink:href=\"#mc6f6074c30\" y=\"42.040175\"/>\n     <use style=\"fill:#1f77b4;stroke:#1f77b4;\" x=\"98.347134\" xlink:href=\"#mc6f6074c30\" y=\"191.443402\"/>\n     <use style=\"fill:#1f77b4;stroke:#1f77b4;\" x=\"80.722382\" xlink:href=\"#mc6f6074c30\" y=\"202.687729\"/>\n     <use style=\"fill:#1f77b4;stroke:#1f77b4;\" x=\"70.541398\" xlink:href=\"#mc6f6074c30\" y=\"209.20119\"/>\n     <use style=\"fill:#1f77b4;stroke:#1f77b4;\" x=\"70.375744\" xlink:href=\"#mc6f6074c30\" y=\"208.833055\"/>\n     <use style=\"fill:#1f77b4;stroke:#1f77b4;\" x=\"108.731607\" xlink:href=\"#mc6f6074c30\" y=\"185.267983\"/>\n     <use style=\"fill:#1f77b4;stroke:#1f77b4;\" x=\"131.832873\" xlink:href=\"#mc6f6074c30\" y=\"170.215262\"/>\n     <use style=\"fill:#1f77b4;stroke:#1f77b4;\" x=\"85.276318\" xlink:href=\"#mc6f6074c30\" y=\"199.785729\"/>\n     <use style=\"fill:#1f77b4;stroke:#1f77b4;\" x=\"98.32495\" xlink:href=\"#mc6f6074c30\" y=\"191.003456\"/>\n     <use style=\"fill:#1f77b4;stroke:#1f77b4;\" x=\"295.844602\" xlink:href=\"#mc6f6074c30\" y=\"58.109199\"/>\n     <use style=\"fill:#1f77b4;stroke:#1f77b4;\" x=\"79.792826\" xlink:href=\"#mc6f6074c30\" y=\"202.760988\"/>\n     <use style=\"fill:#1f77b4;stroke:#1f77b4;\" x=\"68.50555\" xlink:href=\"#mc6f6074c30\" y=\"210.211922\"/>\n     <use style=\"fill:#1f77b4;stroke:#1f77b4;\" x=\"126.523554\" xlink:href=\"#mc6f6074c30\" y=\"173.429022\"/>\n     <use style=\"fill:#1f77b4;stroke:#1f77b4;\" x=\"116.760749\" xlink:href=\"#mc6f6074c30\" y=\"179.456552\"/>\n     <use style=\"fill:#1f77b4;stroke:#1f77b4;\" x=\"134.808238\" xlink:href=\"#mc6f6074c30\" y=\"94.182193\"/>\n     <use style=\"fill:#1f77b4;stroke:#1f77b4;\" x=\"323.385532\" xlink:href=\"#mc6f6074c30\" y=\"22.302056\"/>\n     <use style=\"fill:#1f77b4;stroke:#1f77b4;\" x=\"118.736659\" xlink:href=\"#mc6f6074c30\" y=\"178.414448\"/>\n     <use style=\"fill:#1f77b4;stroke:#1f77b4;\" x=\"91.696142\" xlink:href=\"#mc6f6074c30\" y=\"195.994724\"/>\n     <use style=\"fill:#1f77b4;stroke:#1f77b4;\" x=\"65.954804\" xlink:href=\"#mc6f6074c30\" y=\"211.773697\"/>\n     <use style=\"fill:#1f77b4;stroke:#1f77b4;\" x=\"85.880952\" xlink:href=\"#mc6f6074c30\" y=\"200.351329\"/>\n     <use style=\"fill:#1f77b4;stroke:#1f77b4;\" x=\"107.50288\" xlink:href=\"#mc6f6074c30\" y=\"184.978258\"/>\n     <use style=\"fill:#1f77b4;stroke:#1f77b4;\" x=\"64.980874\" xlink:href=\"#mc6f6074c30\" y=\"212.341237\"/>\n     <use style=\"fill:#1f77b4;stroke:#1f77b4;\" x=\"119.540294\" xlink:href=\"#mc6f6074c30\" y=\"178.269751\"/>\n     <use style=\"fill:#1f77b4;stroke:#1f77b4;\" x=\"85.834451\" xlink:href=\"#mc6f6074c30\" y=\"199.927175\"/>\n     <use style=\"fill:#1f77b4;stroke:#1f77b4;\" x=\"295.742845\" xlink:href=\"#mc6f6074c30\" y=\"56.372823\"/>\n     <use style=\"fill:#1f77b4;stroke:#1f77b4;\" x=\"229.700693\" xlink:href=\"#mc6f6074c30\" y=\"145.565768\"/>\n     <use style=\"fill:#1f77b4;stroke:#1f77b4;\" x=\"250.565293\" xlink:href=\"#mc6f6074c30\" y=\"74.95335\"/>\n     <use style=\"fill:#1f77b4;stroke:#1f77b4;\" x=\"86.655166\" xlink:href=\"#mc6f6074c30\" y=\"198.741724\"/>\n     <use style=\"fill:#1f77b4;stroke:#1f77b4;\" x=\"65.377478\" xlink:href=\"#mc6f6074c30\" y=\"211.997522\"/>\n     <use style=\"fill:#1f77b4;stroke:#1f77b4;\" x=\"85.062028\" xlink:href=\"#mc6f6074c30\" y=\"139.448179\"/>\n     <use style=\"fill:#1f77b4;stroke:#1f77b4;\" x=\"131.062916\" xlink:href=\"#mc6f6074c30\" y=\"170.621972\"/>\n     <use style=\"fill:#1f77b4;stroke:#1f77b4;\" x=\"131.42089\" xlink:href=\"#mc6f6074c30\" y=\"170.208307\"/>\n     <use style=\"fill:#1f77b4;stroke:#1f77b4;\" x=\"127.968739\" xlink:href=\"#mc6f6074c30\" y=\"172.079119\"/>\n     <use style=\"fill:#1f77b4;stroke:#1f77b4;\" x=\"149.550333\" xlink:href=\"#mc6f6074c30\" y=\"93.752277\"/>\n     <use style=\"fill:#1f77b4;stroke:#1f77b4;\" x=\"80.878295\" xlink:href=\"#mc6f6074c30\" y=\"126.175572\"/>\n     <use style=\"fill:#1f77b4;stroke:#1f77b4;\" x=\"121.679412\" xlink:href=\"#mc6f6074c30\" y=\"176.792374\"/>\n     <use style=\"fill:#1f77b4;stroke:#1f77b4;\" x=\"91.5136\" xlink:href=\"#mc6f6074c30\" y=\"196.190227\"/>\n     <use style=\"fill:#1f77b4;stroke:#1f77b4;\" x=\"67.147634\" xlink:href=\"#mc6f6074c30\" y=\"210.840635\"/>\n     <use style=\"fill:#1f77b4;stroke:#1f77b4;\" x=\"190.344863\" xlink:href=\"#mc6f6074c30\" y=\"135.54857\"/>\n     <use style=\"fill:#1f77b4;stroke:#1f77b4;\" x=\"116.411038\" xlink:href=\"#mc6f6074c30\" y=\"179.491006\"/>\n     <use style=\"fill:#1f77b4;stroke:#1f77b4;\" x=\"110.750483\" xlink:href=\"#mc6f6074c30\" y=\"183.955367\"/>\n     <use style=\"fill:#1f77b4;stroke:#1f77b4;\" x=\"145.734571\" xlink:href=\"#mc6f6074c30\" y=\"160.70698\"/>\n     <use style=\"fill:#1f77b4;stroke:#1f77b4;\" x=\"97.318005\" xlink:href=\"#mc6f6074c30\" y=\"192.298091\"/>\n     <use style=\"fill:#1f77b4;stroke:#1f77b4;\" x=\"116.410164\" xlink:href=\"#mc6f6074c30\" y=\"112.570039\"/>\n     <use style=\"fill:#1f77b4;stroke:#1f77b4;\" x=\"64.944022\" xlink:href=\"#mc6f6074c30\" y=\"212.830171\"/>\n     <use style=\"fill:#1f77b4;stroke:#1f77b4;\" x=\"64.887608\" xlink:href=\"#mc6f6074c30\" y=\"212.370815\"/>\n     <use style=\"fill:#1f77b4;stroke:#1f77b4;\" x=\"115.453473\" xlink:href=\"#mc6f6074c30\" y=\"180.336931\"/>\n     <use style=\"fill:#1f77b4;stroke:#1f77b4;\" x=\"69.35137\" xlink:href=\"#mc6f6074c30\" y=\"209.928928\"/>\n     <use style=\"fill:#1f77b4;stroke:#1f77b4;\" x=\"78.145233\" xlink:href=\"#mc6f6074c30\" y=\"204.045812\"/>\n     <use style=\"fill:#1f77b4;stroke:#1f77b4;\" x=\"84.805066\" xlink:href=\"#mc6f6074c30\" y=\"199.749462\"/>\n     <use style=\"fill:#1f77b4;stroke:#1f77b4;\" x=\"111.660727\" xlink:href=\"#mc6f6074c30\" y=\"182.797962\"/>\n     <use style=\"fill:#1f77b4;stroke:#1f77b4;\" x=\"146.348456\" xlink:href=\"#mc6f6074c30\" y=\"103.037276\"/>\n     <use style=\"fill:#1f77b4;stroke:#1f77b4;\" x=\"78.876883\" xlink:href=\"#mc6f6074c30\" y=\"204.029791\"/>\n     <use style=\"fill:#1f77b4;stroke:#1f77b4;\" x=\"73.748442\" xlink:href=\"#mc6f6074c30\" y=\"206.91815\"/>\n     <use style=\"fill:#1f77b4;stroke:#1f77b4;\" x=\"103.420693\" xlink:href=\"#mc6f6074c30\" y=\"188.275585\"/>\n     <use style=\"fill:#1f77b4;stroke:#1f77b4;\" x=\"79.440881\" xlink:href=\"#mc6f6074c30\" y=\"203.485748\"/>\n     <use style=\"fill:#1f77b4;stroke:#1f77b4;\" x=\"89.737449\" xlink:href=\"#mc6f6074c30\" y=\"197.150012\"/>\n     <use style=\"fill:#1f77b4;stroke:#1f77b4;\" x=\"86.668708\" xlink:href=\"#mc6f6074c30\" y=\"198.967428\"/>\n     <use style=\"fill:#1f77b4;stroke:#1f77b4;\" x=\"129.132802\" xlink:href=\"#mc6f6074c30\" y=\"133.213281\"/>\n     <use style=\"fill:#1f77b4;stroke:#1f77b4;\" x=\"91.86722\" xlink:href=\"#mc6f6074c30\" y=\"195.837789\"/>\n     <use style=\"fill:#1f77b4;stroke:#1f77b4;\" x=\"200.238104\" xlink:href=\"#mc6f6074c30\" y=\"72.969863\"/>\n     <use style=\"fill:#1f77b4;stroke:#1f77b4;\" x=\"100.340645\" xlink:href=\"#mc6f6074c30\" y=\"116.965788\"/>\n     <use style=\"fill:#1f77b4;stroke:#1f77b4;\" x=\"118.471701\" xlink:href=\"#mc6f6074c30\" y=\"178.42688\"/>\n     <use style=\"fill:#1f77b4;stroke:#1f77b4;\" x=\"90.536531\" xlink:href=\"#mc6f6074c30\" y=\"196.763233\"/>\n     <use style=\"fill:#1f77b4;stroke:#1f77b4;\" x=\"307.831673\" xlink:href=\"#mc6f6074c30\" y=\"51.581586\"/>\n     <use style=\"fill:#1f77b4;stroke:#1f77b4;\" x=\"166.985868\" xlink:href=\"#mc6f6074c30\" y=\"147.939805\"/>\n     <use style=\"fill:#1f77b4;stroke:#1f77b4;\" x=\"356.826376\" xlink:href=\"#mc6f6074c30\" y=\"27.058317\"/>\n     <use style=\"fill:#1f77b4;stroke:#1f77b4;\" x=\"209.080974\" xlink:href=\"#mc6f6074c30\" y=\"123.381406\"/>\n     <use style=\"fill:#1f77b4;stroke:#1f77b4;\" x=\"79.694263\" xlink:href=\"#mc6f6074c30\" y=\"202.907588\"/>\n     <use style=\"fill:#1f77b4;stroke:#1f77b4;\" x=\"79.617151\" xlink:href=\"#mc6f6074c30\" y=\"203.165557\"/>\n     <use style=\"fill:#1f77b4;stroke:#1f77b4;\" x=\"75.090477\" xlink:href=\"#mc6f6074c30\" y=\"206.386578\"/>\n     <use style=\"fill:#1f77b4;stroke:#1f77b4;\" x=\"109.253477\" xlink:href=\"#mc6f6074c30\" y=\"101.372895\"/>\n     <use style=\"fill:#1f77b4;stroke:#1f77b4;\" x=\"137.308792\" xlink:href=\"#mc6f6074c30\" y=\"166.844251\"/>\n     <use style=\"fill:#1f77b4;stroke:#1f77b4;\" x=\"97.817496\" xlink:href=\"#mc6f6074c30\" y=\"191.469669\"/>\n     <use style=\"fill:#1f77b4;stroke:#1f77b4;\" x=\"67.612798\" xlink:href=\"#mc6f6074c30\" y=\"211.162492\"/>\n     <use style=\"fill:#1f77b4;stroke:#1f77b4;\" x=\"108.1217\" xlink:href=\"#mc6f6074c30\" y=\"153.575485\"/>\n     <use style=\"fill:#1f77b4;stroke:#1f77b4;\" x=\"104.600824\" xlink:href=\"#mc6f6074c30\" y=\"187.74134\"/>\n    </g>\n   </g>\n   <g id=\"matplotlib.axis_1\">\n    <g id=\"xtick_1\">\n     <g id=\"line2d_1\">\n      <defs>\n       <path d=\"M 0 0 \nL 0 3.5 \n\" id=\"me23e71648c\" style=\"stroke:#000000;stroke-width:0.8;\"/>\n      </defs>\n      <g>\n       <use style=\"stroke:#000000;stroke-width:0.8;\" x=\"53.823964\" xlink:href=\"#me23e71648c\" y=\"224.740921\"/>\n      </g>\n     </g>\n     <g id=\"text_1\">\n      <!-- 0 -->\n      <defs>\n       <path d=\"M 31.78125 66.40625 \nQ 24.171875 66.40625 20.328125 58.90625 \nQ 16.5 51.421875 16.5 36.375 \nQ 16.5 21.390625 20.328125 13.890625 \nQ 24.171875 6.390625 31.78125 6.390625 \nQ 39.453125 6.390625 43.28125 13.890625 \nQ 47.125 21.390625 47.125 36.375 \nQ 47.125 51.421875 43.28125 58.90625 \nQ 39.453125 66.40625 31.78125 66.40625 \nz\nM 31.78125 74.21875 \nQ 44.046875 74.21875 50.515625 64.515625 \nQ 56.984375 54.828125 56.984375 36.375 \nQ 56.984375 17.96875 50.515625 8.265625 \nQ 44.046875 -1.421875 31.78125 -1.421875 \nQ 19.53125 -1.421875 13.0625 8.265625 \nQ 6.59375 17.96875 6.59375 36.375 \nQ 6.59375 54.828125 13.0625 64.515625 \nQ 19.53125 74.21875 31.78125 74.21875 \nz\n\" id=\"DejaVuSans-48\"/>\n      </defs>\n      <g transform=\"translate(50.642714 239.339359)scale(0.1 -0.1)\">\n       <use xlink:href=\"#DejaVuSans-48\"/>\n      </g>\n     </g>\n    </g>\n    <g id=\"xtick_2\">\n     <g id=\"line2d_2\">\n      <g>\n       <use style=\"stroke:#000000;stroke-width:0.8;\" x=\"119.111912\" xlink:href=\"#me23e71648c\" y=\"224.740921\"/>\n      </g>\n     </g>\n     <g id=\"text_2\">\n      <!-- 10000 -->\n      <defs>\n       <path d=\"M 12.40625 8.296875 \nL 28.515625 8.296875 \nL 28.515625 63.921875 \nL 10.984375 60.40625 \nL 10.984375 69.390625 \nL 28.421875 72.90625 \nL 38.28125 72.90625 \nL 38.28125 8.296875 \nL 54.390625 8.296875 \nL 54.390625 0 \nL 12.40625 0 \nz\n\" id=\"DejaVuSans-49\"/>\n      </defs>\n      <g transform=\"translate(103.205662 239.339359)scale(0.1 -0.1)\">\n       <use xlink:href=\"#DejaVuSans-49\"/>\n       <use x=\"63.623047\" xlink:href=\"#DejaVuSans-48\"/>\n       <use x=\"127.246094\" xlink:href=\"#DejaVuSans-48\"/>\n       <use x=\"190.869141\" xlink:href=\"#DejaVuSans-48\"/>\n       <use x=\"254.492188\" xlink:href=\"#DejaVuSans-48\"/>\n      </g>\n     </g>\n    </g>\n    <g id=\"xtick_3\">\n     <g id=\"line2d_3\">\n      <g>\n       <use style=\"stroke:#000000;stroke-width:0.8;\" x=\"184.39986\" xlink:href=\"#me23e71648c\" y=\"224.740921\"/>\n      </g>\n     </g>\n     <g id=\"text_3\">\n      <!-- 20000 -->\n      <defs>\n       <path d=\"M 19.1875 8.296875 \nL 53.609375 8.296875 \nL 53.609375 0 \nL 7.328125 0 \nL 7.328125 8.296875 \nQ 12.9375 14.109375 22.625 23.890625 \nQ 32.328125 33.6875 34.8125 36.53125 \nQ 39.546875 41.84375 41.421875 45.53125 \nQ 43.3125 49.21875 43.3125 52.78125 \nQ 43.3125 58.59375 39.234375 62.25 \nQ 35.15625 65.921875 28.609375 65.921875 \nQ 23.96875 65.921875 18.8125 64.3125 \nQ 13.671875 62.703125 7.8125 59.421875 \nL 7.8125 69.390625 \nQ 13.765625 71.78125 18.9375 73 \nQ 24.125 74.21875 28.421875 74.21875 \nQ 39.75 74.21875 46.484375 68.546875 \nQ 53.21875 62.890625 53.21875 53.421875 \nQ 53.21875 48.921875 51.53125 44.890625 \nQ 49.859375 40.875 45.40625 35.40625 \nQ 44.1875 33.984375 37.640625 27.21875 \nQ 31.109375 20.453125 19.1875 8.296875 \nz\n\" id=\"DejaVuSans-50\"/>\n      </defs>\n      <g transform=\"translate(168.49361 239.339359)scale(0.1 -0.1)\">\n       <use xlink:href=\"#DejaVuSans-50\"/>\n       <use x=\"63.623047\" xlink:href=\"#DejaVuSans-48\"/>\n       <use x=\"127.246094\" xlink:href=\"#DejaVuSans-48\"/>\n       <use x=\"190.869141\" xlink:href=\"#DejaVuSans-48\"/>\n       <use x=\"254.492188\" xlink:href=\"#DejaVuSans-48\"/>\n      </g>\n     </g>\n    </g>\n    <g id=\"xtick_4\">\n     <g id=\"line2d_4\">\n      <g>\n       <use style=\"stroke:#000000;stroke-width:0.8;\" x=\"249.687808\" xlink:href=\"#me23e71648c\" y=\"224.740921\"/>\n      </g>\n     </g>\n     <g id=\"text_4\">\n      <!-- 30000 -->\n      <defs>\n       <path d=\"M 40.578125 39.3125 \nQ 47.65625 37.796875 51.625 33 \nQ 55.609375 28.21875 55.609375 21.1875 \nQ 55.609375 10.40625 48.1875 4.484375 \nQ 40.765625 -1.421875 27.09375 -1.421875 \nQ 22.515625 -1.421875 17.65625 -0.515625 \nQ 12.796875 0.390625 7.625 2.203125 \nL 7.625 11.71875 \nQ 11.71875 9.328125 16.59375 8.109375 \nQ 21.484375 6.890625 26.8125 6.890625 \nQ 36.078125 6.890625 40.9375 10.546875 \nQ 45.796875 14.203125 45.796875 21.1875 \nQ 45.796875 27.640625 41.28125 31.265625 \nQ 36.765625 34.90625 28.71875 34.90625 \nL 20.21875 34.90625 \nL 20.21875 43.015625 \nL 29.109375 43.015625 \nQ 36.375 43.015625 40.234375 45.921875 \nQ 44.09375 48.828125 44.09375 54.296875 \nQ 44.09375 59.90625 40.109375 62.90625 \nQ 36.140625 65.921875 28.71875 65.921875 \nQ 24.65625 65.921875 20.015625 65.03125 \nQ 15.375 64.15625 9.8125 62.3125 \nL 9.8125 71.09375 \nQ 15.4375 72.65625 20.34375 73.4375 \nQ 25.25 74.21875 29.59375 74.21875 \nQ 40.828125 74.21875 47.359375 69.109375 \nQ 53.90625 64.015625 53.90625 55.328125 \nQ 53.90625 49.265625 50.4375 45.09375 \nQ 46.96875 40.921875 40.578125 39.3125 \nz\n\" id=\"DejaVuSans-51\"/>\n      </defs>\n      <g transform=\"translate(233.781558 239.339359)scale(0.1 -0.1)\">\n       <use xlink:href=\"#DejaVuSans-51\"/>\n       <use x=\"63.623047\" xlink:href=\"#DejaVuSans-48\"/>\n       <use x=\"127.246094\" xlink:href=\"#DejaVuSans-48\"/>\n       <use x=\"190.869141\" xlink:href=\"#DejaVuSans-48\"/>\n       <use x=\"254.492188\" xlink:href=\"#DejaVuSans-48\"/>\n      </g>\n     </g>\n    </g>\n    <g id=\"xtick_5\">\n     <g id=\"line2d_5\">\n      <g>\n       <use style=\"stroke:#000000;stroke-width:0.8;\" x=\"314.975756\" xlink:href=\"#me23e71648c\" y=\"224.740921\"/>\n      </g>\n     </g>\n     <g id=\"text_5\">\n      <!-- 40000 -->\n      <defs>\n       <path d=\"M 37.796875 64.3125 \nL 12.890625 25.390625 \nL 37.796875 25.390625 \nz\nM 35.203125 72.90625 \nL 47.609375 72.90625 \nL 47.609375 25.390625 \nL 58.015625 25.390625 \nL 58.015625 17.1875 \nL 47.609375 17.1875 \nL 47.609375 0 \nL 37.796875 0 \nL 37.796875 17.1875 \nL 4.890625 17.1875 \nL 4.890625 26.703125 \nz\n\" id=\"DejaVuSans-52\"/>\n      </defs>\n      <g transform=\"translate(299.069506 239.339359)scale(0.1 -0.1)\">\n       <use xlink:href=\"#DejaVuSans-52\"/>\n       <use x=\"63.623047\" xlink:href=\"#DejaVuSans-48\"/>\n       <use x=\"127.246094\" xlink:href=\"#DejaVuSans-48\"/>\n       <use x=\"190.869141\" xlink:href=\"#DejaVuSans-48\"/>\n       <use x=\"254.492188\" xlink:href=\"#DejaVuSans-48\"/>\n      </g>\n     </g>\n    </g>\n    <g id=\"xtick_6\">\n     <g id=\"line2d_6\">\n      <g>\n       <use style=\"stroke:#000000;stroke-width:0.8;\" x=\"380.263704\" xlink:href=\"#me23e71648c\" y=\"224.740921\"/>\n      </g>\n     </g>\n     <g id=\"text_6\">\n      <!-- 50000 -->\n      <defs>\n       <path d=\"M 10.796875 72.90625 \nL 49.515625 72.90625 \nL 49.515625 64.59375 \nL 19.828125 64.59375 \nL 19.828125 46.734375 \nQ 21.96875 47.46875 24.109375 47.828125 \nQ 26.265625 48.1875 28.421875 48.1875 \nQ 40.625 48.1875 47.75 41.5 \nQ 54.890625 34.8125 54.890625 23.390625 \nQ 54.890625 11.625 47.5625 5.09375 \nQ 40.234375 -1.421875 26.90625 -1.421875 \nQ 22.3125 -1.421875 17.546875 -0.640625 \nQ 12.796875 0.140625 7.71875 1.703125 \nL 7.71875 11.625 \nQ 12.109375 9.234375 16.796875 8.0625 \nQ 21.484375 6.890625 26.703125 6.890625 \nQ 35.15625 6.890625 40.078125 11.328125 \nQ 45.015625 15.765625 45.015625 23.390625 \nQ 45.015625 31 40.078125 35.4375 \nQ 35.15625 39.890625 26.703125 39.890625 \nQ 22.75 39.890625 18.8125 39.015625 \nQ 14.890625 38.140625 10.796875 36.28125 \nz\n\" id=\"DejaVuSans-53\"/>\n      </defs>\n      <g transform=\"translate(364.357454 239.339359)scale(0.1 -0.1)\">\n       <use xlink:href=\"#DejaVuSans-53\"/>\n       <use x=\"63.623047\" xlink:href=\"#DejaVuSans-48\"/>\n       <use x=\"127.246094\" xlink:href=\"#DejaVuSans-48\"/>\n       <use x=\"190.869141\" xlink:href=\"#DejaVuSans-48\"/>\n       <use x=\"254.492188\" xlink:href=\"#DejaVuSans-48\"/>\n      </g>\n     </g>\n    </g>\n   </g>\n   <g id=\"matplotlib.axis_2\">\n    <g id=\"ytick_1\">\n     <g id=\"line2d_7\">\n      <defs>\n       <path d=\"M 0 0 \nL -3.5 0 \n\" id=\"m264b05c693\" style=\"stroke:#000000;stroke-width:0.8;\"/>\n      </defs>\n      <g>\n       <use style=\"stroke:#000000;stroke-width:0.8;\" x=\"46.0125\" xlink:href=\"#m264b05c693\" y=\"219.619865\"/>\n      </g>\n     </g>\n     <g id=\"text_7\">\n      <!-- 0 -->\n      <g transform=\"translate(32.65 223.419084)scale(0.1 -0.1)\">\n       <use xlink:href=\"#DejaVuSans-48\"/>\n      </g>\n     </g>\n    </g>\n    <g id=\"ytick_2\">\n     <g id=\"line2d_8\">\n      <g>\n       <use style=\"stroke:#000000;stroke-width:0.8;\" x=\"46.0125\" xlink:href=\"#m264b05c693\" y=\"177.895736\"/>\n      </g>\n     </g>\n     <g id=\"text_8\">\n      <!-- 10000 -->\n      <g transform=\"translate(7.2 181.694954)scale(0.1 -0.1)\">\n       <use xlink:href=\"#DejaVuSans-49\"/>\n       <use x=\"63.623047\" xlink:href=\"#DejaVuSans-48\"/>\n       <use x=\"127.246094\" xlink:href=\"#DejaVuSans-48\"/>\n       <use x=\"190.869141\" xlink:href=\"#DejaVuSans-48\"/>\n       <use x=\"254.492188\" xlink:href=\"#DejaVuSans-48\"/>\n      </g>\n     </g>\n    </g>\n    <g id=\"ytick_3\">\n     <g id=\"line2d_9\">\n      <g>\n       <use style=\"stroke:#000000;stroke-width:0.8;\" x=\"46.0125\" xlink:href=\"#m264b05c693\" y=\"136.171606\"/>\n      </g>\n     </g>\n     <g id=\"text_9\">\n      <!-- 20000 -->\n      <g transform=\"translate(7.2 139.970825)scale(0.1 -0.1)\">\n       <use xlink:href=\"#DejaVuSans-50\"/>\n       <use x=\"63.623047\" xlink:href=\"#DejaVuSans-48\"/>\n       <use x=\"127.246094\" xlink:href=\"#DejaVuSans-48\"/>\n       <use x=\"190.869141\" xlink:href=\"#DejaVuSans-48\"/>\n       <use x=\"254.492188\" xlink:href=\"#DejaVuSans-48\"/>\n      </g>\n     </g>\n    </g>\n    <g id=\"ytick_4\">\n     <g id=\"line2d_10\">\n      <g>\n       <use style=\"stroke:#000000;stroke-width:0.8;\" x=\"46.0125\" xlink:href=\"#m264b05c693\" y=\"94.447477\"/>\n      </g>\n     </g>\n     <g id=\"text_10\">\n      <!-- 30000 -->\n      <g transform=\"translate(7.2 98.246696)scale(0.1 -0.1)\">\n       <use xlink:href=\"#DejaVuSans-51\"/>\n       <use x=\"63.623047\" xlink:href=\"#DejaVuSans-48\"/>\n       <use x=\"127.246094\" xlink:href=\"#DejaVuSans-48\"/>\n       <use x=\"190.869141\" xlink:href=\"#DejaVuSans-48\"/>\n       <use x=\"254.492188\" xlink:href=\"#DejaVuSans-48\"/>\n      </g>\n     </g>\n    </g>\n    <g id=\"ytick_5\">\n     <g id=\"line2d_11\">\n      <g>\n       <use style=\"stroke:#000000;stroke-width:0.8;\" x=\"46.0125\" xlink:href=\"#m264b05c693\" y=\"52.723348\"/>\n      </g>\n     </g>\n     <g id=\"text_11\">\n      <!-- 40000 -->\n      <g transform=\"translate(7.2 56.522567)scale(0.1 -0.1)\">\n       <use xlink:href=\"#DejaVuSans-52\"/>\n       <use x=\"63.623047\" xlink:href=\"#DejaVuSans-48\"/>\n       <use x=\"127.246094\" xlink:href=\"#DejaVuSans-48\"/>\n       <use x=\"190.869141\" xlink:href=\"#DejaVuSans-48\"/>\n       <use x=\"254.492188\" xlink:href=\"#DejaVuSans-48\"/>\n      </g>\n     </g>\n    </g>\n    <g id=\"ytick_6\">\n     <g id=\"line2d_12\">\n      <g>\n       <use style=\"stroke:#000000;stroke-width:0.8;\" x=\"46.0125\" xlink:href=\"#m264b05c693\" y=\"10.999219\"/>\n      </g>\n     </g>\n     <g id=\"text_12\">\n      <!-- 50000 -->\n      <g transform=\"translate(7.2 14.798437)scale(0.1 -0.1)\">\n       <use xlink:href=\"#DejaVuSans-53\"/>\n       <use x=\"63.623047\" xlink:href=\"#DejaVuSans-48\"/>\n       <use x=\"127.246094\" xlink:href=\"#DejaVuSans-48\"/>\n       <use x=\"190.869141\" xlink:href=\"#DejaVuSans-48\"/>\n       <use x=\"254.492188\" xlink:href=\"#DejaVuSans-48\"/>\n      </g>\n     </g>\n    </g>\n   </g>\n   <g id=\"patch_3\">\n    <path d=\"M 46.0125 224.740921 \nL 46.0125 7.300921 \n\" style=\"fill:none;stroke:#000000;stroke-linecap:square;stroke-linejoin:miter;stroke-width:0.8;\"/>\n   </g>\n   <g id=\"patch_4\">\n    <path d=\"M 380.8125 224.740921 \nL 380.8125 7.300921 \n\" style=\"fill:none;stroke:#000000;stroke-linecap:square;stroke-linejoin:miter;stroke-width:0.8;\"/>\n   </g>\n   <g id=\"patch_5\">\n    <path d=\"M 46.0125 224.740921 \nL 380.8125 224.740921 \n\" style=\"fill:none;stroke:#000000;stroke-linecap:square;stroke-linejoin:miter;stroke-width:0.8;\"/>\n   </g>\n   <g id=\"patch_6\">\n    <path d=\"M 46.0125 7.300921 \nL 380.8125 7.300921 \n\" style=\"fill:none;stroke:#000000;stroke-linecap:square;stroke-linejoin:miter;stroke-width:0.8;\"/>\n   </g>\n  </g>\n </g>\n <defs>\n  <clipPath id=\"p0a7df4a29e\">\n   <rect height=\"217.44\" width=\"334.8\" x=\"46.0125\" y=\"7.300921\"/>\n  </clipPath>\n </defs>\n</svg>\n"
          },
          "metadata": {
            "needs_background": "light"
          }
        }
      ]
    },
    {
      "cell_type": "code",
      "source": [
        "plt.plot(history.history['loss'])"
      ],
      "metadata": {
        "colab": {
          "base_uri": "https://localhost:8080/",
          "height": 369
        },
        "id": "oZnJMKwMhL_Q",
        "outputId": "65815bdf-d7c4-43ea-fd1c-711e9da811e9"
      },
      "execution_count": 126,
      "outputs": [
        {
          "output_type": "execute_result",
          "data": {
            "text/plain": [
              "[<matplotlib.lines.Line2D at 0x7fe28b939410>]"
            ]
          },
          "metadata": {},
          "execution_count": 126
        },
        {
          "output_type": "display_data",
          "data": {
            "text/plain": [
              "<Figure size 432x288 with 1 Axes>"
            ],
            "image/svg+xml": "<?xml version=\"1.0\" encoding=\"utf-8\" standalone=\"no\"?>\n<!DOCTYPE svg PUBLIC \"-//W3C//DTD SVG 1.1//EN\"\n  \"http://www.w3.org/Graphics/SVG/1.1/DTD/svg11.dtd\">\n<!-- Created with matplotlib (https://matplotlib.org/) -->\n<svg height=\"248.518125pt\" version=\"1.1\" viewBox=\"0 0 388.0125 248.518125\" width=\"388.0125pt\" xmlns=\"http://www.w3.org/2000/svg\" xmlns:xlink=\"http://www.w3.org/1999/xlink\">\n <defs>\n  <style type=\"text/css\">\n*{stroke-linecap:butt;stroke-linejoin:round;}\n  </style>\n </defs>\n <g id=\"figure_1\">\n  <g id=\"patch_1\">\n   <path d=\"M 0 248.518125 \nL 388.0125 248.518125 \nL 388.0125 0 \nL 0 0 \nz\n\" style=\"fill:none;\"/>\n  </g>\n  <g id=\"axes_1\">\n   <g id=\"patch_2\">\n    <path d=\"M 46.0125 224.64 \nL 380.8125 224.64 \nL 380.8125 7.2 \nL 46.0125 7.2 \nz\n\" style=\"fill:#ffffff;\"/>\n   </g>\n   <g id=\"matplotlib.axis_1\">\n    <g id=\"xtick_1\">\n     <g id=\"line2d_1\">\n      <defs>\n       <path d=\"M 0 0 \nL 0 3.5 \n\" id=\"m5794e1d7cd\" style=\"stroke:#000000;stroke-width:0.8;\"/>\n      </defs>\n      <g>\n       <use style=\"stroke:#000000;stroke-width:0.8;\" x=\"61.230682\" xlink:href=\"#m5794e1d7cd\" y=\"224.64\"/>\n      </g>\n     </g>\n     <g id=\"text_1\">\n      <!-- 0 -->\n      <defs>\n       <path d=\"M 31.78125 66.40625 \nQ 24.171875 66.40625 20.328125 58.90625 \nQ 16.5 51.421875 16.5 36.375 \nQ 16.5 21.390625 20.328125 13.890625 \nQ 24.171875 6.390625 31.78125 6.390625 \nQ 39.453125 6.390625 43.28125 13.890625 \nQ 47.125 21.390625 47.125 36.375 \nQ 47.125 51.421875 43.28125 58.90625 \nQ 39.453125 66.40625 31.78125 66.40625 \nz\nM 31.78125 74.21875 \nQ 44.046875 74.21875 50.515625 64.515625 \nQ 56.984375 54.828125 56.984375 36.375 \nQ 56.984375 17.96875 50.515625 8.265625 \nQ 44.046875 -1.421875 31.78125 -1.421875 \nQ 19.53125 -1.421875 13.0625 8.265625 \nQ 6.59375 17.96875 6.59375 36.375 \nQ 6.59375 54.828125 13.0625 64.515625 \nQ 19.53125 74.21875 31.78125 74.21875 \nz\n\" id=\"DejaVuSans-48\"/>\n      </defs>\n      <g transform=\"translate(58.049432 239.238438)scale(0.1 -0.1)\">\n       <use xlink:href=\"#DejaVuSans-48\"/>\n      </g>\n     </g>\n    </g>\n    <g id=\"xtick_2\">\n     <g id=\"line2d_2\">\n      <g>\n       <use style=\"stroke:#000000;stroke-width:0.8;\" x=\"122.718285\" xlink:href=\"#m5794e1d7cd\" y=\"224.64\"/>\n      </g>\n     </g>\n     <g id=\"text_2\">\n      <!-- 20 -->\n      <defs>\n       <path d=\"M 19.1875 8.296875 \nL 53.609375 8.296875 \nL 53.609375 0 \nL 7.328125 0 \nL 7.328125 8.296875 \nQ 12.9375 14.109375 22.625 23.890625 \nQ 32.328125 33.6875 34.8125 36.53125 \nQ 39.546875 41.84375 41.421875 45.53125 \nQ 43.3125 49.21875 43.3125 52.78125 \nQ 43.3125 58.59375 39.234375 62.25 \nQ 35.15625 65.921875 28.609375 65.921875 \nQ 23.96875 65.921875 18.8125 64.3125 \nQ 13.671875 62.703125 7.8125 59.421875 \nL 7.8125 69.390625 \nQ 13.765625 71.78125 18.9375 73 \nQ 24.125 74.21875 28.421875 74.21875 \nQ 39.75 74.21875 46.484375 68.546875 \nQ 53.21875 62.890625 53.21875 53.421875 \nQ 53.21875 48.921875 51.53125 44.890625 \nQ 49.859375 40.875 45.40625 35.40625 \nQ 44.1875 33.984375 37.640625 27.21875 \nQ 31.109375 20.453125 19.1875 8.296875 \nz\n\" id=\"DejaVuSans-50\"/>\n      </defs>\n      <g transform=\"translate(116.355785 239.238438)scale(0.1 -0.1)\">\n       <use xlink:href=\"#DejaVuSans-50\"/>\n       <use x=\"63.623047\" xlink:href=\"#DejaVuSans-48\"/>\n      </g>\n     </g>\n    </g>\n    <g id=\"xtick_3\">\n     <g id=\"line2d_3\">\n      <g>\n       <use style=\"stroke:#000000;stroke-width:0.8;\" x=\"184.205888\" xlink:href=\"#m5794e1d7cd\" y=\"224.64\"/>\n      </g>\n     </g>\n     <g id=\"text_3\">\n      <!-- 40 -->\n      <defs>\n       <path d=\"M 37.796875 64.3125 \nL 12.890625 25.390625 \nL 37.796875 25.390625 \nz\nM 35.203125 72.90625 \nL 47.609375 72.90625 \nL 47.609375 25.390625 \nL 58.015625 25.390625 \nL 58.015625 17.1875 \nL 47.609375 17.1875 \nL 47.609375 0 \nL 37.796875 0 \nL 37.796875 17.1875 \nL 4.890625 17.1875 \nL 4.890625 26.703125 \nz\n\" id=\"DejaVuSans-52\"/>\n      </defs>\n      <g transform=\"translate(177.843388 239.238438)scale(0.1 -0.1)\">\n       <use xlink:href=\"#DejaVuSans-52\"/>\n       <use x=\"63.623047\" xlink:href=\"#DejaVuSans-48\"/>\n      </g>\n     </g>\n    </g>\n    <g id=\"xtick_4\">\n     <g id=\"line2d_4\">\n      <g>\n       <use style=\"stroke:#000000;stroke-width:0.8;\" x=\"245.693492\" xlink:href=\"#m5794e1d7cd\" y=\"224.64\"/>\n      </g>\n     </g>\n     <g id=\"text_4\">\n      <!-- 60 -->\n      <defs>\n       <path d=\"M 33.015625 40.375 \nQ 26.375 40.375 22.484375 35.828125 \nQ 18.609375 31.296875 18.609375 23.390625 \nQ 18.609375 15.53125 22.484375 10.953125 \nQ 26.375 6.390625 33.015625 6.390625 \nQ 39.65625 6.390625 43.53125 10.953125 \nQ 47.40625 15.53125 47.40625 23.390625 \nQ 47.40625 31.296875 43.53125 35.828125 \nQ 39.65625 40.375 33.015625 40.375 \nz\nM 52.59375 71.296875 \nL 52.59375 62.3125 \nQ 48.875 64.0625 45.09375 64.984375 \nQ 41.3125 65.921875 37.59375 65.921875 \nQ 27.828125 65.921875 22.671875 59.328125 \nQ 17.53125 52.734375 16.796875 39.40625 \nQ 19.671875 43.65625 24.015625 45.921875 \nQ 28.375 48.1875 33.59375 48.1875 \nQ 44.578125 48.1875 50.953125 41.515625 \nQ 57.328125 34.859375 57.328125 23.390625 \nQ 57.328125 12.15625 50.6875 5.359375 \nQ 44.046875 -1.421875 33.015625 -1.421875 \nQ 20.359375 -1.421875 13.671875 8.265625 \nQ 6.984375 17.96875 6.984375 36.375 \nQ 6.984375 53.65625 15.1875 63.9375 \nQ 23.390625 74.21875 37.203125 74.21875 \nQ 40.921875 74.21875 44.703125 73.484375 \nQ 48.484375 72.75 52.59375 71.296875 \nz\n\" id=\"DejaVuSans-54\"/>\n      </defs>\n      <g transform=\"translate(239.330992 239.238438)scale(0.1 -0.1)\">\n       <use xlink:href=\"#DejaVuSans-54\"/>\n       <use x=\"63.623047\" xlink:href=\"#DejaVuSans-48\"/>\n      </g>\n     </g>\n    </g>\n    <g id=\"xtick_5\">\n     <g id=\"line2d_5\">\n      <g>\n       <use style=\"stroke:#000000;stroke-width:0.8;\" x=\"307.181095\" xlink:href=\"#m5794e1d7cd\" y=\"224.64\"/>\n      </g>\n     </g>\n     <g id=\"text_5\">\n      <!-- 80 -->\n      <defs>\n       <path d=\"M 31.78125 34.625 \nQ 24.75 34.625 20.71875 30.859375 \nQ 16.703125 27.09375 16.703125 20.515625 \nQ 16.703125 13.921875 20.71875 10.15625 \nQ 24.75 6.390625 31.78125 6.390625 \nQ 38.8125 6.390625 42.859375 10.171875 \nQ 46.921875 13.96875 46.921875 20.515625 \nQ 46.921875 27.09375 42.890625 30.859375 \nQ 38.875 34.625 31.78125 34.625 \nz\nM 21.921875 38.8125 \nQ 15.578125 40.375 12.03125 44.71875 \nQ 8.5 49.078125 8.5 55.328125 \nQ 8.5 64.0625 14.71875 69.140625 \nQ 20.953125 74.21875 31.78125 74.21875 \nQ 42.671875 74.21875 48.875 69.140625 \nQ 55.078125 64.0625 55.078125 55.328125 \nQ 55.078125 49.078125 51.53125 44.71875 \nQ 48 40.375 41.703125 38.8125 \nQ 48.828125 37.15625 52.796875 32.3125 \nQ 56.78125 27.484375 56.78125 20.515625 \nQ 56.78125 9.90625 50.3125 4.234375 \nQ 43.84375 -1.421875 31.78125 -1.421875 \nQ 19.734375 -1.421875 13.25 4.234375 \nQ 6.78125 9.90625 6.78125 20.515625 \nQ 6.78125 27.484375 10.78125 32.3125 \nQ 14.796875 37.15625 21.921875 38.8125 \nz\nM 18.3125 54.390625 \nQ 18.3125 48.734375 21.84375 45.5625 \nQ 25.390625 42.390625 31.78125 42.390625 \nQ 38.140625 42.390625 41.71875 45.5625 \nQ 45.3125 48.734375 45.3125 54.390625 \nQ 45.3125 60.0625 41.71875 63.234375 \nQ 38.140625 66.40625 31.78125 66.40625 \nQ 25.390625 66.40625 21.84375 63.234375 \nQ 18.3125 60.0625 18.3125 54.390625 \nz\n\" id=\"DejaVuSans-56\"/>\n      </defs>\n      <g transform=\"translate(300.818595 239.238438)scale(0.1 -0.1)\">\n       <use xlink:href=\"#DejaVuSans-56\"/>\n       <use x=\"63.623047\" xlink:href=\"#DejaVuSans-48\"/>\n      </g>\n     </g>\n    </g>\n    <g id=\"xtick_6\">\n     <g id=\"line2d_6\">\n      <g>\n       <use style=\"stroke:#000000;stroke-width:0.8;\" x=\"368.668698\" xlink:href=\"#m5794e1d7cd\" y=\"224.64\"/>\n      </g>\n     </g>\n     <g id=\"text_6\">\n      <!-- 100 -->\n      <defs>\n       <path d=\"M 12.40625 8.296875 \nL 28.515625 8.296875 \nL 28.515625 63.921875 \nL 10.984375 60.40625 \nL 10.984375 69.390625 \nL 28.421875 72.90625 \nL 38.28125 72.90625 \nL 38.28125 8.296875 \nL 54.390625 8.296875 \nL 54.390625 0 \nL 12.40625 0 \nz\n\" id=\"DejaVuSans-49\"/>\n      </defs>\n      <g transform=\"translate(359.124948 239.238438)scale(0.1 -0.1)\">\n       <use xlink:href=\"#DejaVuSans-49\"/>\n       <use x=\"63.623047\" xlink:href=\"#DejaVuSans-48\"/>\n       <use x=\"127.246094\" xlink:href=\"#DejaVuSans-48\"/>\n      </g>\n     </g>\n    </g>\n   </g>\n   <g id=\"matplotlib.axis_2\">\n    <g id=\"ytick_1\">\n     <g id=\"line2d_7\">\n      <defs>\n       <path d=\"M 0 0 \nL -3.5 0 \n\" id=\"mda09f91981\" style=\"stroke:#000000;stroke-width:0.8;\"/>\n      </defs>\n      <g>\n       <use style=\"stroke:#000000;stroke-width:0.8;\" x=\"46.0125\" xlink:href=\"#mda09f91981\" y=\"209.007089\"/>\n      </g>\n     </g>\n     <g id=\"text_7\">\n      <!-- 2000 -->\n      <g transform=\"translate(13.5625 212.806308)scale(0.1 -0.1)\">\n       <use xlink:href=\"#DejaVuSans-50\"/>\n       <use x=\"63.623047\" xlink:href=\"#DejaVuSans-48\"/>\n       <use x=\"127.246094\" xlink:href=\"#DejaVuSans-48\"/>\n       <use x=\"190.869141\" xlink:href=\"#DejaVuSans-48\"/>\n      </g>\n     </g>\n    </g>\n    <g id=\"ytick_2\">\n     <g id=\"line2d_8\">\n      <g>\n       <use style=\"stroke:#000000;stroke-width:0.8;\" x=\"46.0125\" xlink:href=\"#mda09f91981\" y=\"172.335215\"/>\n      </g>\n     </g>\n     <g id=\"text_8\">\n      <!-- 4000 -->\n      <g transform=\"translate(13.5625 176.134434)scale(0.1 -0.1)\">\n       <use xlink:href=\"#DejaVuSans-52\"/>\n       <use x=\"63.623047\" xlink:href=\"#DejaVuSans-48\"/>\n       <use x=\"127.246094\" xlink:href=\"#DejaVuSans-48\"/>\n       <use x=\"190.869141\" xlink:href=\"#DejaVuSans-48\"/>\n      </g>\n     </g>\n    </g>\n    <g id=\"ytick_3\">\n     <g id=\"line2d_9\">\n      <g>\n       <use style=\"stroke:#000000;stroke-width:0.8;\" x=\"46.0125\" xlink:href=\"#mda09f91981\" y=\"135.663341\"/>\n      </g>\n     </g>\n     <g id=\"text_9\">\n      <!-- 6000 -->\n      <g transform=\"translate(13.5625 139.46256)scale(0.1 -0.1)\">\n       <use xlink:href=\"#DejaVuSans-54\"/>\n       <use x=\"63.623047\" xlink:href=\"#DejaVuSans-48\"/>\n       <use x=\"127.246094\" xlink:href=\"#DejaVuSans-48\"/>\n       <use x=\"190.869141\" xlink:href=\"#DejaVuSans-48\"/>\n      </g>\n     </g>\n    </g>\n    <g id=\"ytick_4\">\n     <g id=\"line2d_10\">\n      <g>\n       <use style=\"stroke:#000000;stroke-width:0.8;\" x=\"46.0125\" xlink:href=\"#mda09f91981\" y=\"98.991467\"/>\n      </g>\n     </g>\n     <g id=\"text_10\">\n      <!-- 8000 -->\n      <g transform=\"translate(13.5625 102.790686)scale(0.1 -0.1)\">\n       <use xlink:href=\"#DejaVuSans-56\"/>\n       <use x=\"63.623047\" xlink:href=\"#DejaVuSans-48\"/>\n       <use x=\"127.246094\" xlink:href=\"#DejaVuSans-48\"/>\n       <use x=\"190.869141\" xlink:href=\"#DejaVuSans-48\"/>\n      </g>\n     </g>\n    </g>\n    <g id=\"ytick_5\">\n     <g id=\"line2d_11\">\n      <g>\n       <use style=\"stroke:#000000;stroke-width:0.8;\" x=\"46.0125\" xlink:href=\"#mda09f91981\" y=\"62.319593\"/>\n      </g>\n     </g>\n     <g id=\"text_11\">\n      <!-- 10000 -->\n      <g transform=\"translate(7.2 66.118812)scale(0.1 -0.1)\">\n       <use xlink:href=\"#DejaVuSans-49\"/>\n       <use x=\"63.623047\" xlink:href=\"#DejaVuSans-48\"/>\n       <use x=\"127.246094\" xlink:href=\"#DejaVuSans-48\"/>\n       <use x=\"190.869141\" xlink:href=\"#DejaVuSans-48\"/>\n       <use x=\"254.492188\" xlink:href=\"#DejaVuSans-48\"/>\n      </g>\n     </g>\n    </g>\n    <g id=\"ytick_6\">\n     <g id=\"line2d_12\">\n      <g>\n       <use style=\"stroke:#000000;stroke-width:0.8;\" x=\"46.0125\" xlink:href=\"#mda09f91981\" y=\"25.647719\"/>\n      </g>\n     </g>\n     <g id=\"text_12\">\n      <!-- 12000 -->\n      <g transform=\"translate(7.2 29.446937)scale(0.1 -0.1)\">\n       <use xlink:href=\"#DejaVuSans-49\"/>\n       <use x=\"63.623047\" xlink:href=\"#DejaVuSans-50\"/>\n       <use x=\"127.246094\" xlink:href=\"#DejaVuSans-48\"/>\n       <use x=\"190.869141\" xlink:href=\"#DejaVuSans-48\"/>\n       <use x=\"254.492188\" xlink:href=\"#DejaVuSans-48\"/>\n      </g>\n     </g>\n    </g>\n   </g>\n   <g id=\"line2d_13\">\n    <path clip-path=\"url(#p7e05921c3c)\" d=\"M 61.230682 17.083636 \nL 64.305062 111.71393 \nL 67.379442 161.220898 \nL 70.453822 180.62168 \nL 73.528202 183.639979 \nL 76.602583 186.361983 \nL 79.676963 186.903874 \nL 82.751343 186.695468 \nL 85.825723 188.767143 \nL 88.900103 189.95687 \nL 91.974483 190.237773 \nL 95.048864 191.270844 \nL 98.123244 193.53958 \nL 101.197624 195.39592 \nL 104.272004 196.822461 \nL 107.346384 198.643628 \nL 110.420764 199.847371 \nL 113.495145 201.778818 \nL 116.569525 202.661732 \nL 119.643905 201.800784 \nL 122.718285 204.414976 \nL 125.792665 205.157031 \nL 128.867045 205.25136 \nL 131.941426 206.035669 \nL 135.015806 208.133699 \nL 138.090186 207.750648 \nL 141.164566 207.745455 \nL 144.238946 208.425266 \nL 147.313326 207.657661 \nL 150.387707 207.131998 \nL 153.462087 208.439383 \nL 156.536467 209.290274 \nL 159.610847 208.507975 \nL 162.685227 208.806865 \nL 165.759607 209.535962 \nL 168.833988 208.593289 \nL 171.908368 209.861174 \nL 174.982748 209.145518 \nL 178.057128 210.438503 \nL 181.131508 210.481751 \nL 184.205888 210.490521 \nL 187.280269 209.14841 \nL 190.354649 209.288901 \nL 193.429029 209.503033 \nL 196.503409 207.515191 \nL 199.577789 209.79292 \nL 202.652169 210.651419 \nL 205.72655 210.308144 \nL 208.80093 209.971606 \nL 211.87531 209.851308 \nL 214.94969 210.069222 \nL 218.02407 209.197848 \nL 221.09845 211.171196 \nL 224.172831 210.790297 \nL 227.247211 210.232387 \nL 230.321591 210.015964 \nL 233.395971 209.492598 \nL 236.470351 209.763552 \nL 239.544731 210.449688 \nL 242.619112 210.714603 \nL 245.693492 209.850292 \nL 248.767872 210.595082 \nL 251.842252 212.053559 \nL 254.916632 211.785358 \nL 257.991012 212.129611 \nL 261.065393 209.888971 \nL 264.139773 212.221662 \nL 267.214153 211.207675 \nL 270.288533 211.559424 \nL 273.362913 212.580811 \nL 276.437293 211.038184 \nL 279.511674 210.956798 \nL 282.586054 212.104312 \nL 285.660434 211.831296 \nL 288.734814 212.015971 \nL 291.809194 212.787751 \nL 294.883574 212.595626 \nL 297.957955 212.77929 \nL 301.032335 211.868337 \nL 304.106715 212.656051 \nL 307.181095 211.929554 \nL 310.255475 211.965272 \nL 313.329855 211.652821 \nL 316.404236 213.051095 \nL 319.478616 211.914132 \nL 322.552996 213.168082 \nL 325.627376 212.202995 \nL 328.701756 213.370006 \nL 331.776136 213.254484 \nL 334.850517 214.246971 \nL 337.924897 213.991317 \nL 340.999277 212.939465 \nL 344.073657 214.34885 \nL 347.148037 214.25416 \nL 350.222417 214.756364 \nL 353.296798 214.551062 \nL 356.371178 214.137092 \nL 359.445558 214.229268 \nL 362.519938 214.287369 \nL 365.594318 214.150221 \n\" style=\"fill:none;stroke:#1f77b4;stroke-linecap:square;stroke-width:1.5;\"/>\n   </g>\n   <g id=\"patch_3\">\n    <path d=\"M 46.0125 224.64 \nL 46.0125 7.2 \n\" style=\"fill:none;stroke:#000000;stroke-linecap:square;stroke-linejoin:miter;stroke-width:0.8;\"/>\n   </g>\n   <g id=\"patch_4\">\n    <path d=\"M 380.8125 224.64 \nL 380.8125 7.2 \n\" style=\"fill:none;stroke:#000000;stroke-linecap:square;stroke-linejoin:miter;stroke-width:0.8;\"/>\n   </g>\n   <g id=\"patch_5\">\n    <path d=\"M 46.0125 224.64 \nL 380.8125 224.64 \n\" style=\"fill:none;stroke:#000000;stroke-linecap:square;stroke-linejoin:miter;stroke-width:0.8;\"/>\n   </g>\n   <g id=\"patch_6\">\n    <path d=\"M 46.0125 7.2 \nL 380.8125 7.2 \n\" style=\"fill:none;stroke:#000000;stroke-linecap:square;stroke-linejoin:miter;stroke-width:0.8;\"/>\n   </g>\n  </g>\n </g>\n <defs>\n  <clipPath id=\"p7e05921c3c\">\n   <rect height=\"217.44\" width=\"334.8\" x=\"46.0125\" y=\"7.2\"/>\n  </clipPath>\n </defs>\n</svg>\n"
          },
          "metadata": {
            "needs_background": "light"
          }
        }
      ]
    },
    {
      "cell_type": "code",
      "source": [
        ""
      ],
      "metadata": {
        "id": "A-_OQmkBhEOU"
      },
      "execution_count": 120,
      "outputs": []
    },
    {
      "cell_type": "code",
      "source": [
        ""
      ],
      "metadata": {
        "id": "c-aBIEo6hF8S"
      },
      "execution_count": 120,
      "outputs": []
    },
    {
      "cell_type": "code",
      "source": [
        ""
      ],
      "metadata": {
        "id": "-Bz1m89vhF53"
      },
      "execution_count": 120,
      "outputs": []
    },
    {
      "cell_type": "code",
      "source": [
        ""
      ],
      "metadata": {
        "id": "V2OVp-pDhF3M"
      },
      "execution_count": 120,
      "outputs": []
    },
    {
      "cell_type": "code",
      "source": [
        ""
      ],
      "metadata": {
        "id": "_W0uXDMLhF0v"
      },
      "execution_count": 120,
      "outputs": []
    },
    {
      "cell_type": "code",
      "source": [
        ""
      ],
      "metadata": {
        "id": "4QByd7g4hFwg"
      },
      "execution_count": 120,
      "outputs": []
    },
    {
      "cell_type": "code",
      "source": [
        ""
      ],
      "metadata": {
        "id": "kHHehlE3hFsp"
      },
      "execution_count": 120,
      "outputs": []
    }
  ]
}