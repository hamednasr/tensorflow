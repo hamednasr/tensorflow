{
  "nbformat": 4,
  "nbformat_minor": 0,
  "metadata": {
    "colab": {
      "name": "01_regression with tensorflow.ipynb",
      "provenance": [],
      "collapsed_sections": [],
      "authorship_tag": "ABX9TyOSGrEwLmwXaIdGLh8Niw48",
      "include_colab_link": true
    },
    "kernelspec": {
      "name": "python3",
      "display_name": "Python 3"
    },
    "language_info": {
      "name": "python"
    }
  },
  "cells": [
    {
      "cell_type": "markdown",
      "metadata": {
        "id": "view-in-github",
        "colab_type": "text"
      },
      "source": [
        "<a href=\"https://colab.research.google.com/github/hamednasr/tensorflow/blob/main/01_regression_with_tensorflow.ipynb\" target=\"_parent\"><img src=\"https://colab.research.google.com/assets/colab-badge.svg\" alt=\"Open In Colab\"/></a>"
      ]
    },
    {
      "cell_type": "code",
      "execution_count": 32,
      "metadata": {
        "id": "RebmLDRF8ijO"
      },
      "outputs": [],
      "source": [
        "import tensorflow as tf\n",
        "import numpy as np\n",
        "import matplotlib.pyplot as plt\n",
        "import pandas as pd\n",
        "from IPython import display\n",
        "display.set_matplotlib_formats('svg')\n",
        "from sklearn.model_selection import train_test_split\n",
        "import scipy.stats as stats\n",
        "from sklearn.preprocessing import Normalizer"
      ]
    },
    {
      "cell_type": "code",
      "source": [
        "X = tf.expand_dims(tf.range(3,18,3),axis=-1)"
      ],
      "metadata": {
        "colab": {
          "base_uri": "https://localhost:8080/"
        },
        "id": "H_oUwoOS9r8N",
        "outputId": "02df516f-1395-441d-c9d4-6fb6a32f039b"
      },
      "execution_count": null,
      "outputs": [
        {
          "output_type": "execute_result",
          "data": {
            "text/plain": [
              "<tf.Tensor: shape=(5, 1), dtype=int32, numpy=\n",
              "array([[ 3],\n",
              "       [ 6],\n",
              "       [ 9],\n",
              "       [12],\n",
              "       [15]], dtype=int32)>"
            ]
          },
          "metadata": {},
          "execution_count": 3
        }
      ]
    },
    {
      "cell_type": "code",
      "source": [
        "y = tf.range(3,18,3)+5\n",
        "y"
      ],
      "metadata": {
        "colab": {
          "base_uri": "https://localhost:8080/"
        },
        "id": "D2C2cHQVJYbm",
        "outputId": "e96fd1a2-5a51-4b1e-e92d-67dd2da0ce03"
      },
      "execution_count": null,
      "outputs": [
        {
          "output_type": "execute_result",
          "data": {
            "text/plain": [
              "<tf.Tensor: shape=(5,), dtype=int32, numpy=array([ 8, 11, 14, 17, 20], dtype=int32)>"
            ]
          },
          "metadata": {},
          "execution_count": 4
        }
      ]
    },
    {
      "cell_type": "code",
      "source": [
        ""
      ],
      "metadata": {
        "id": "ApxqzaQiJYZT"
      },
      "execution_count": null,
      "outputs": []
    },
    {
      "cell_type": "code",
      "source": [
        "tf.random.set_seed(10)"
      ],
      "metadata": {
        "id": "PJibAqFtJYW-"
      },
      "execution_count": null,
      "outputs": []
    },
    {
      "cell_type": "code",
      "source": [
        "model.fit?"
      ],
      "metadata": {
        "id": "uhgn6mj1Ulcd",
        "colab": {
          "base_uri": "https://localhost:8080/"
        },
        "outputId": "108daa7c-c2f4-4bb9-a19b-73a474d3796d"
      },
      "execution_count": null,
      "outputs": [
        {
          "output_type": "stream",
          "name": "stdout",
          "text": [
            "Object `model.fit` not found.\n"
          ]
        }
      ]
    },
    {
      "cell_type": "code",
      "source": [
        "model = tf.keras.Sequential([\n",
        "                              tf.keras.layers.Dense(1)\n",
        "                              ])\n",
        "\n",
        "model.compile(loss=tf.keras.losses.mse,\n",
        "              optimizer=tf.keras.optimizers.SGD(),\n",
        "              metrics = ['mae'])\n",
        "\n",
        "model.fit(X,y,epochs=200)"
      ],
      "metadata": {
        "colab": {
          "base_uri": "https://localhost:8080/"
        },
        "id": "xPXqcc-DJdCG",
        "outputId": "fcb31041-c0d4-4e97-99e7-12fa962f1393"
      },
      "execution_count": null,
      "outputs": [
        {
          "output_type": "stream",
          "name": "stdout",
          "text": [
            "Epoch 1/200\n",
            "1/1 [==============================] - 1s 911ms/step - loss: 94.8722 - mae: 9.5058\n",
            "Epoch 2/200\n",
            "1/1 [==============================] - 0s 55ms/step - loss: 94.1892 - mae: 7.9610\n",
            "Epoch 3/200\n",
            "1/1 [==============================] - 0s 18ms/step - loss: 93.5110 - mae: 9.4374\n",
            "Epoch 4/200\n",
            "1/1 [==============================] - 0s 21ms/step - loss: 92.8377 - mae: 7.9037\n",
            "Epoch 5/200\n",
            "1/1 [==============================] - 0s 19ms/step - loss: 92.1693 - mae: 9.3694\n",
            "Epoch 6/200\n",
            "1/1 [==============================] - 0s 13ms/step - loss: 91.5057 - mae: 7.8468\n",
            "Epoch 7/200\n",
            "1/1 [==============================] - 0s 15ms/step - loss: 90.8468 - mae: 9.3020\n",
            "Epoch 8/200\n",
            "1/1 [==============================] - 0s 40ms/step - loss: 90.1928 - mae: 7.7903\n",
            "Epoch 9/200\n",
            "1/1 [==============================] - 0s 19ms/step - loss: 89.5434 - mae: 9.2350\n",
            "Epoch 10/200\n",
            "1/1 [==============================] - 0s 25ms/step - loss: 88.8986 - mae: 7.7342\n",
            "Epoch 11/200\n",
            "1/1 [==============================] - 0s 20ms/step - loss: 88.2586 - mae: 9.1685\n",
            "Epoch 12/200\n",
            "1/1 [==============================] - 0s 17ms/step - loss: 87.6231 - mae: 7.6785\n",
            "Epoch 13/200\n",
            "1/1 [==============================] - 0s 22ms/step - loss: 86.9922 - mae: 9.1025\n",
            "Epoch 14/200\n",
            "1/1 [==============================] - 0s 15ms/step - loss: 86.3659 - mae: 7.6232\n",
            "Epoch 15/200\n",
            "1/1 [==============================] - 0s 8ms/step - loss: 85.7440 - mae: 9.0370\n",
            "Epoch 16/200\n",
            "1/1 [==============================] - 0s 32ms/step - loss: 85.1267 - mae: 7.5683\n",
            "Epoch 17/200\n",
            "1/1 [==============================] - 0s 14ms/step - loss: 84.5137 - mae: 8.9719\n",
            "Epoch 18/200\n",
            "1/1 [==============================] - 0s 15ms/step - loss: 83.9053 - mae: 7.5138\n",
            "Epoch 19/200\n",
            "1/1 [==============================] - 0s 10ms/step - loss: 83.3012 - mae: 8.9073\n",
            "Epoch 20/200\n",
            "1/1 [==============================] - 0s 8ms/step - loss: 82.7014 - mae: 7.4598\n",
            "Epoch 21/200\n",
            "1/1 [==============================] - 0s 16ms/step - loss: 82.1060 - mae: 8.8432\n",
            "Epoch 22/200\n",
            "1/1 [==============================] - 0s 20ms/step - loss: 81.5148 - mae: 7.4060\n",
            "Epoch 23/200\n",
            "1/1 [==============================] - 0s 13ms/step - loss: 80.9279 - mae: 8.7795\n",
            "Epoch 24/200\n",
            "1/1 [==============================] - 0s 17ms/step - loss: 80.3452 - mae: 7.3527\n",
            "Epoch 25/200\n",
            "1/1 [==============================] - 0s 35ms/step - loss: 79.7667 - mae: 8.7163\n",
            "Epoch 26/200\n",
            "1/1 [==============================] - 0s 17ms/step - loss: 79.1924 - mae: 7.2998\n",
            "Epoch 27/200\n",
            "1/1 [==============================] - 0s 13ms/step - loss: 78.6222 - mae: 8.6535\n",
            "Epoch 28/200\n",
            "1/1 [==============================] - 0s 10ms/step - loss: 78.0561 - mae: 7.2472\n",
            "Epoch 29/200\n",
            "1/1 [==============================] - 0s 19ms/step - loss: 77.4941 - mae: 8.5912\n",
            "Epoch 30/200\n",
            "1/1 [==============================] - 0s 10ms/step - loss: 76.9361 - mae: 7.1950\n",
            "Epoch 31/200\n",
            "1/1 [==============================] - 0s 20ms/step - loss: 76.3822 - mae: 8.5294\n",
            "Epoch 32/200\n",
            "1/1 [==============================] - 0s 14ms/step - loss: 75.8322 - mae: 7.1432\n",
            "Epoch 33/200\n",
            "1/1 [==============================] - 0s 17ms/step - loss: 75.2862 - mae: 8.4679\n",
            "Epoch 34/200\n",
            "1/1 [==============================] - 0s 21ms/step - loss: 74.7442 - mae: 7.0918\n",
            "Epoch 35/200\n",
            "1/1 [==============================] - 0s 24ms/step - loss: 74.2060 - mae: 8.4070\n",
            "Epoch 36/200\n",
            "1/1 [==============================] - 0s 25ms/step - loss: 73.6717 - mae: 7.0407\n",
            "Epoch 37/200\n",
            "1/1 [==============================] - 0s 20ms/step - loss: 73.1413 - mae: 8.3464\n",
            "Epoch 38/200\n",
            "1/1 [==============================] - 0s 13ms/step - loss: 72.6147 - mae: 6.9900\n",
            "Epoch 39/200\n",
            "1/1 [==============================] - 0s 21ms/step - loss: 72.0918 - mae: 8.2863\n",
            "Epoch 40/200\n",
            "1/1 [==============================] - 0s 21ms/step - loss: 71.5727 - mae: 6.9397\n",
            "Epoch 41/200\n",
            "1/1 [==============================] - 0s 19ms/step - loss: 71.0574 - mae: 8.2267\n",
            "Epoch 42/200\n",
            "1/1 [==============================] - 0s 21ms/step - loss: 70.5458 - mae: 6.8897\n",
            "Epoch 43/200\n",
            "1/1 [==============================] - 0s 16ms/step - loss: 70.0378 - mae: 8.1674\n",
            "Epoch 44/200\n",
            "1/1 [==============================] - 0s 13ms/step - loss: 69.5335 - mae: 6.8401\n",
            "Epoch 45/200\n",
            "1/1 [==============================] - 0s 24ms/step - loss: 69.0329 - mae: 8.1086\n",
            "Epoch 46/200\n",
            "1/1 [==============================] - 0s 25ms/step - loss: 68.5359 - mae: 6.7909\n",
            "Epoch 47/200\n",
            "1/1 [==============================] - 0s 8ms/step - loss: 68.0424 - mae: 8.0503\n",
            "Epoch 48/200\n",
            "1/1 [==============================] - 0s 15ms/step - loss: 67.5525 - mae: 6.7420\n",
            "Epoch 49/200\n",
            "1/1 [==============================] - 0s 16ms/step - loss: 67.0661 - mae: 7.9923\n",
            "Epoch 50/200\n",
            "1/1 [==============================] - 0s 22ms/step - loss: 66.5833 - mae: 6.6935\n",
            "Epoch 51/200\n",
            "1/1 [==============================] - 0s 16ms/step - loss: 66.1039 - mae: 7.9348\n",
            "Epoch 52/200\n",
            "1/1 [==============================] - 0s 13ms/step - loss: 65.6280 - mae: 6.6453\n",
            "Epoch 53/200\n",
            "1/1 [==============================] - 0s 30ms/step - loss: 65.1554 - mae: 7.8776\n",
            "Epoch 54/200\n",
            "1/1 [==============================] - 0s 17ms/step - loss: 64.6863 - mae: 6.5974\n",
            "Epoch 55/200\n",
            "1/1 [==============================] - 0s 10ms/step - loss: 64.2206 - mae: 7.8209\n",
            "Epoch 56/200\n",
            "1/1 [==============================] - 0s 17ms/step - loss: 63.7582 - mae: 6.5499\n",
            "Epoch 57/200\n",
            "1/1 [==============================] - 0s 14ms/step - loss: 63.2991 - mae: 7.7646\n",
            "Epoch 58/200\n",
            "1/1 [==============================] - 0s 19ms/step - loss: 62.8433 - mae: 6.5028\n",
            "Epoch 59/200\n",
            "1/1 [==============================] - 0s 23ms/step - loss: 62.3909 - mae: 7.7087\n",
            "Epoch 60/200\n",
            "1/1 [==============================] - 0s 24ms/step - loss: 61.9417 - mae: 6.4559\n",
            "Epoch 61/200\n",
            "1/1 [==============================] - 0s 9ms/step - loss: 61.4957 - mae: 7.6532\n",
            "Epoch 62/200\n",
            "1/1 [==============================] - 0s 17ms/step - loss: 61.0529 - mae: 6.4095\n",
            "Epoch 63/200\n",
            "1/1 [==============================] - 0s 19ms/step - loss: 60.6133 - mae: 7.5981\n",
            "Epoch 64/200\n",
            "1/1 [==============================] - 0s 27ms/step - loss: 60.1769 - mae: 6.3633\n",
            "Epoch 65/200\n",
            "1/1 [==============================] - 0s 21ms/step - loss: 59.7436 - mae: 7.5434\n",
            "Epoch 66/200\n",
            "1/1 [==============================] - 0s 17ms/step - loss: 59.3135 - mae: 6.3175\n",
            "Epoch 67/200\n",
            "1/1 [==============================] - 0s 18ms/step - loss: 58.8864 - mae: 7.4891\n",
            "Epoch 68/200\n",
            "1/1 [==============================] - 0s 11ms/step - loss: 58.4625 - mae: 6.2720\n",
            "Epoch 69/200\n",
            "1/1 [==============================] - 0s 17ms/step - loss: 58.0415 - mae: 7.4351\n",
            "Epoch 70/200\n",
            "1/1 [==============================] - 0s 6ms/step - loss: 57.6236 - mae: 6.2268\n",
            "Epoch 71/200\n",
            "1/1 [==============================] - 0s 8ms/step - loss: 57.2087 - mae: 7.3816\n",
            "Epoch 72/200\n",
            "1/1 [==============================] - 0s 13ms/step - loss: 56.7968 - mae: 6.1820\n",
            "Epoch 73/200\n",
            "1/1 [==============================] - 0s 14ms/step - loss: 56.3879 - mae: 7.3285\n",
            "Epoch 74/200\n",
            "1/1 [==============================] - 0s 12ms/step - loss: 55.9819 - mae: 6.1375\n",
            "Epoch 75/200\n",
            "1/1 [==============================] - 0s 8ms/step - loss: 55.5789 - mae: 7.2757\n",
            "Epoch 76/200\n",
            "1/1 [==============================] - 0s 11ms/step - loss: 55.1787 - mae: 6.0933\n",
            "Epoch 77/200\n",
            "1/1 [==============================] - 0s 17ms/step - loss: 54.7814 - mae: 7.2233\n",
            "Epoch 78/200\n",
            "1/1 [==============================] - 0s 9ms/step - loss: 54.3870 - mae: 6.0494\n",
            "Epoch 79/200\n",
            "1/1 [==============================] - 0s 10ms/step - loss: 53.9954 - mae: 7.1713\n",
            "Epoch 80/200\n",
            "1/1 [==============================] - 0s 6ms/step - loss: 53.6066 - mae: 6.0059\n",
            "Epoch 81/200\n",
            "1/1 [==============================] - 0s 6ms/step - loss: 53.2207 - mae: 7.1197\n",
            "Epoch 82/200\n",
            "1/1 [==============================] - 0s 7ms/step - loss: 52.8375 - mae: 5.9626\n",
            "Epoch 83/200\n",
            "1/1 [==============================] - 0s 6ms/step - loss: 52.4571 - mae: 7.0684\n",
            "Epoch 84/200\n",
            "1/1 [==============================] - 0s 7ms/step - loss: 52.0794 - mae: 5.9197\n",
            "Epoch 85/200\n",
            "1/1 [==============================] - 0s 6ms/step - loss: 51.7044 - mae: 7.0175\n",
            "Epoch 86/200\n",
            "1/1 [==============================] - 0s 7ms/step - loss: 51.3322 - mae: 5.8771\n",
            "Epoch 87/200\n",
            "1/1 [==============================] - 0s 11ms/step - loss: 50.9626 - mae: 6.9670\n",
            "Epoch 88/200\n",
            "1/1 [==============================] - 0s 9ms/step - loss: 50.5957 - mae: 5.8348\n",
            "Epoch 89/200\n",
            "1/1 [==============================] - 0s 14ms/step - loss: 50.2314 - mae: 6.9168\n",
            "Epoch 90/200\n",
            "1/1 [==============================] - 0s 15ms/step - loss: 49.8697 - mae: 5.7928\n",
            "Epoch 91/200\n",
            "1/1 [==============================] - 0s 11ms/step - loss: 49.5106 - mae: 6.8670\n",
            "Epoch 92/200\n",
            "1/1 [==============================] - 0s 12ms/step - loss: 49.1542 - mae: 5.7511\n",
            "Epoch 93/200\n",
            "1/1 [==============================] - 0s 22ms/step - loss: 48.8003 - mae: 6.8176\n",
            "Epoch 94/200\n",
            "1/1 [==============================] - 0s 12ms/step - loss: 48.4489 - mae: 5.7097\n",
            "Epoch 95/200\n",
            "1/1 [==============================] - 0s 23ms/step - loss: 48.1001 - mae: 6.7685\n",
            "Epoch 96/200\n",
            "1/1 [==============================] - 0s 18ms/step - loss: 47.7537 - mae: 5.6685\n",
            "Epoch 97/200\n",
            "1/1 [==============================] - 0s 38ms/step - loss: 47.4099 - mae: 6.7198\n",
            "Epoch 98/200\n",
            "1/1 [==============================] - 0s 14ms/step - loss: 47.0685 - mae: 5.6277\n",
            "Epoch 99/200\n",
            "1/1 [==============================] - 0s 31ms/step - loss: 46.7296 - mae: 6.6714\n",
            "Epoch 100/200\n",
            "1/1 [==============================] - 0s 30ms/step - loss: 46.3932 - mae: 5.5872\n",
            "Epoch 101/200\n",
            "1/1 [==============================] - 0s 11ms/step - loss: 46.0591 - mae: 6.6234\n",
            "Epoch 102/200\n",
            "1/1 [==============================] - 0s 14ms/step - loss: 45.7275 - mae: 5.5470\n",
            "Epoch 103/200\n",
            "1/1 [==============================] - 0s 12ms/step - loss: 45.3983 - mae: 6.5757\n",
            "Epoch 104/200\n",
            "1/1 [==============================] - 0s 19ms/step - loss: 45.0714 - mae: 5.5070\n",
            "Epoch 105/200\n",
            "1/1 [==============================] - 0s 23ms/step - loss: 44.7469 - mae: 6.5283\n",
            "Epoch 106/200\n",
            "1/1 [==============================] - 0s 9ms/step - loss: 44.4247 - mae: 5.4674\n",
            "Epoch 107/200\n",
            "1/1 [==============================] - 0s 13ms/step - loss: 44.1048 - mae: 6.4813\n",
            "Epoch 108/200\n",
            "1/1 [==============================] - 0s 16ms/step - loss: 43.7873 - mae: 5.4280\n",
            "Epoch 109/200\n",
            "1/1 [==============================] - 0s 40ms/step - loss: 43.4720 - mae: 6.4346\n",
            "Epoch 110/200\n",
            "1/1 [==============================] - 0s 51ms/step - loss: 43.1590 - mae: 5.3889\n",
            "Epoch 111/200\n",
            "1/1 [==============================] - 0s 29ms/step - loss: 42.8483 - mae: 6.3883\n",
            "Epoch 112/200\n",
            "1/1 [==============================] - 0s 27ms/step - loss: 42.5398 - mae: 5.3501\n",
            "Epoch 113/200\n",
            "1/1 [==============================] - 0s 27ms/step - loss: 42.2335 - mae: 6.3423\n",
            "Epoch 114/200\n",
            "1/1 [==============================] - 0s 22ms/step - loss: 41.9294 - mae: 5.3116\n",
            "Epoch 115/200\n",
            "1/1 [==============================] - 0s 16ms/step - loss: 41.6275 - mae: 6.2967\n",
            "Epoch 116/200\n",
            "1/1 [==============================] - 0s 16ms/step - loss: 41.3278 - mae: 5.2734\n",
            "Epoch 117/200\n",
            "1/1 [==============================] - 0s 17ms/step - loss: 41.0302 - mae: 6.2513\n",
            "Epoch 118/200\n",
            "1/1 [==============================] - 0s 22ms/step - loss: 40.7348 - mae: 5.2354\n",
            "Epoch 119/200\n",
            "1/1 [==============================] - 0s 16ms/step - loss: 40.4415 - mae: 6.2063\n",
            "Epoch 120/200\n",
            "1/1 [==============================] - 0s 11ms/step - loss: 40.1504 - mae: 5.1977\n",
            "Epoch 121/200\n",
            "1/1 [==============================] - 0s 43ms/step - loss: 39.8613 - mae: 6.1616\n",
            "Epoch 122/200\n",
            "1/1 [==============================] - 0s 24ms/step - loss: 39.5743 - mae: 5.1603\n",
            "Epoch 123/200\n",
            "1/1 [==============================] - 0s 20ms/step - loss: 39.2893 - mae: 6.1173\n",
            "Epoch 124/200\n",
            "1/1 [==============================] - 0s 25ms/step - loss: 39.0064 - mae: 5.1231\n",
            "Epoch 125/200\n",
            "1/1 [==============================] - 0s 20ms/step - loss: 38.7256 - mae: 6.0732\n",
            "Epoch 126/200\n",
            "1/1 [==============================] - 0s 21ms/step - loss: 38.4467 - mae: 5.0862\n",
            "Epoch 127/200\n",
            "1/1 [==============================] - 0s 33ms/step - loss: 38.1699 - mae: 6.0295\n",
            "Epoch 128/200\n",
            "1/1 [==============================] - 0s 26ms/step - loss: 37.8951 - mae: 5.0496\n",
            "Epoch 129/200\n",
            "1/1 [==============================] - 0s 21ms/step - loss: 37.6223 - mae: 5.9861\n",
            "Epoch 130/200\n",
            "1/1 [==============================] - 0s 22ms/step - loss: 37.3514 - mae: 5.0133\n",
            "Epoch 131/200\n",
            "1/1 [==============================] - 0s 40ms/step - loss: 37.0825 - mae: 5.9430\n",
            "Epoch 132/200\n",
            "1/1 [==============================] - 0s 17ms/step - loss: 36.8155 - mae: 4.9772\n",
            "Epoch 133/200\n",
            "1/1 [==============================] - 0s 18ms/step - loss: 36.5504 - mae: 5.9002\n",
            "Epoch 134/200\n",
            "1/1 [==============================] - 0s 11ms/step - loss: 36.2872 - mae: 4.9413\n",
            "Epoch 135/200\n",
            "1/1 [==============================] - 0s 16ms/step - loss: 36.0260 - mae: 5.8577\n",
            "Epoch 136/200\n",
            "1/1 [==============================] - 0s 13ms/step - loss: 35.7666 - mae: 4.9058\n",
            "Epoch 137/200\n",
            "1/1 [==============================] - 0s 32ms/step - loss: 35.5091 - mae: 5.8155\n",
            "Epoch 138/200\n",
            "1/1 [==============================] - 0s 28ms/step - loss: 35.2534 - mae: 4.8704\n",
            "Epoch 139/200\n",
            "1/1 [==============================] - 0s 29ms/step - loss: 34.9996 - mae: 5.7737\n",
            "Epoch 140/200\n",
            "1/1 [==============================] - 0s 15ms/step - loss: 34.7476 - mae: 4.8354\n",
            "Epoch 141/200\n",
            "1/1 [==============================] - 0s 10ms/step - loss: 34.4974 - mae: 5.7321\n",
            "Epoch 142/200\n",
            "1/1 [==============================] - 0s 6ms/step - loss: 34.2490 - mae: 4.8006\n",
            "Epoch 143/200\n",
            "1/1 [==============================] - 0s 14ms/step - loss: 34.0024 - mae: 5.6908\n",
            "Epoch 144/200\n",
            "1/1 [==============================] - 0s 19ms/step - loss: 33.7576 - mae: 4.7660\n",
            "Epoch 145/200\n",
            "1/1 [==============================] - 0s 14ms/step - loss: 33.5145 - mae: 5.6498\n",
            "Epoch 146/200\n",
            "1/1 [==============================] - 0s 10ms/step - loss: 33.2733 - mae: 4.7317\n",
            "Epoch 147/200\n",
            "1/1 [==============================] - 0s 10ms/step - loss: 33.0337 - mae: 5.6092\n",
            "Epoch 148/200\n",
            "1/1 [==============================] - 0s 8ms/step - loss: 32.7959 - mae: 4.6976\n",
            "Epoch 149/200\n",
            "1/1 [==============================] - 0s 8ms/step - loss: 32.5598 - mae: 5.5688\n",
            "Epoch 150/200\n",
            "1/1 [==============================] - 0s 12ms/step - loss: 32.3253 - mae: 4.6638\n",
            "Epoch 151/200\n",
            "1/1 [==============================] - 0s 10ms/step - loss: 32.0926 - mae: 5.5287\n",
            "Epoch 152/200\n",
            "1/1 [==============================] - 0s 21ms/step - loss: 31.8615 - mae: 4.6302\n",
            "Epoch 153/200\n",
            "1/1 [==============================] - 0s 23ms/step - loss: 31.6321 - mae: 5.4889\n",
            "Epoch 154/200\n",
            "1/1 [==============================] - 0s 27ms/step - loss: 31.4043 - mae: 4.5969\n",
            "Epoch 155/200\n",
            "1/1 [==============================] - 0s 21ms/step - loss: 31.1782 - mae: 5.4494\n",
            "Epoch 156/200\n",
            "1/1 [==============================] - 0s 23ms/step - loss: 30.9537 - mae: 4.5638\n",
            "Epoch 157/200\n",
            "1/1 [==============================] - 0s 18ms/step - loss: 30.7309 - mae: 5.4101\n",
            "Epoch 158/200\n",
            "1/1 [==============================] - 0s 17ms/step - loss: 30.5096 - mae: 4.5309\n",
            "Epoch 159/200\n",
            "1/1 [==============================] - 0s 21ms/step - loss: 30.2899 - mae: 5.3712\n",
            "Epoch 160/200\n",
            "1/1 [==============================] - 0s 21ms/step - loss: 30.0718 - mae: 4.4983\n",
            "Epoch 161/200\n",
            "1/1 [==============================] - 0s 12ms/step - loss: 29.8553 - mae: 5.3325\n",
            "Epoch 162/200\n",
            "1/1 [==============================] - 0s 20ms/step - loss: 29.6404 - mae: 4.4659\n",
            "Epoch 163/200\n",
            "1/1 [==============================] - 0s 12ms/step - loss: 29.4270 - mae: 5.2941\n",
            "Epoch 164/200\n",
            "1/1 [==============================] - 0s 14ms/step - loss: 29.2151 - mae: 4.4338\n",
            "Epoch 165/200\n",
            "1/1 [==============================] - 0s 24ms/step - loss: 29.0047 - mae: 5.2560\n",
            "Epoch 166/200\n",
            "1/1 [==============================] - 0s 16ms/step - loss: 28.7959 - mae: 4.4018\n",
            "Epoch 167/200\n",
            "1/1 [==============================] - 0s 13ms/step - loss: 28.5885 - mae: 5.2181\n",
            "Epoch 168/200\n",
            "1/1 [==============================] - 0s 17ms/step - loss: 28.3827 - mae: 4.3701\n",
            "Epoch 169/200\n",
            "1/1 [==============================] - 0s 27ms/step - loss: 28.1784 - mae: 5.1806\n",
            "Epoch 170/200\n",
            "1/1 [==============================] - 0s 37ms/step - loss: 27.9755 - mae: 4.3387\n",
            "Epoch 171/200\n",
            "1/1 [==============================] - 0s 15ms/step - loss: 27.7740 - mae: 5.1433\n",
            "Epoch 172/200\n",
            "1/1 [==============================] - 0s 15ms/step - loss: 27.5741 - mae: 4.3074\n",
            "Epoch 173/200\n",
            "1/1 [==============================] - 0s 12ms/step - loss: 27.3755 - mae: 5.1062\n",
            "Epoch 174/200\n",
            "1/1 [==============================] - 0s 14ms/step - loss: 27.1784 - mae: 4.2764\n",
            "Epoch 175/200\n",
            "1/1 [==============================] - 0s 25ms/step - loss: 26.9827 - mae: 5.0695\n",
            "Epoch 176/200\n",
            "1/1 [==============================] - 0s 14ms/step - loss: 26.7884 - mae: 4.2456\n",
            "Epoch 177/200\n",
            "1/1 [==============================] - 0s 12ms/step - loss: 26.5956 - mae: 5.0330\n",
            "Epoch 178/200\n",
            "1/1 [==============================] - 0s 8ms/step - loss: 26.4041 - mae: 4.2151\n",
            "Epoch 179/200\n",
            "1/1 [==============================] - 0s 10ms/step - loss: 26.2140 - mae: 4.9967\n",
            "Epoch 180/200\n",
            "1/1 [==============================] - 0s 30ms/step - loss: 26.0252 - mae: 4.1847\n",
            "Epoch 181/200\n",
            "1/1 [==============================] - 0s 17ms/step - loss: 25.8378 - mae: 4.9608\n",
            "Epoch 182/200\n",
            "1/1 [==============================] - 0s 13ms/step - loss: 25.6518 - mae: 4.1546\n",
            "Epoch 183/200\n",
            "1/1 [==============================] - 0s 10ms/step - loss: 25.4671 - mae: 4.9250\n",
            "Epoch 184/200\n",
            "1/1 [==============================] - 0s 11ms/step - loss: 25.2838 - mae: 4.1247\n",
            "Epoch 185/200\n",
            "1/1 [==============================] - 0s 8ms/step - loss: 25.1017 - mae: 4.8896\n",
            "Epoch 186/200\n",
            "1/1 [==============================] - 0s 7ms/step - loss: 24.9210 - mae: 4.0950\n",
            "Epoch 187/200\n",
            "1/1 [==============================] - 0s 8ms/step - loss: 24.7416 - mae: 4.8544\n",
            "Epoch 188/200\n",
            "1/1 [==============================] - 0s 7ms/step - loss: 24.5634 - mae: 4.0655\n",
            "Epoch 189/200\n",
            "1/1 [==============================] - 0s 13ms/step - loss: 24.3865 - mae: 4.8194\n",
            "Epoch 190/200\n",
            "1/1 [==============================] - 0s 19ms/step - loss: 24.2110 - mae: 4.0362\n",
            "Epoch 191/200\n",
            "1/1 [==============================] - 0s 14ms/step - loss: 24.0366 - mae: 4.7847\n",
            "Epoch 192/200\n",
            "1/1 [==============================] - 0s 9ms/step - loss: 23.8636 - mae: 4.0072\n",
            "Epoch 193/200\n",
            "1/1 [==============================] - 0s 7ms/step - loss: 23.6918 - mae: 4.7503\n",
            "Epoch 194/200\n",
            "1/1 [==============================] - 0s 7ms/step - loss: 23.5212 - mae: 3.9783\n",
            "Epoch 195/200\n",
            "1/1 [==============================] - 0s 6ms/step - loss: 23.3518 - mae: 4.7161\n",
            "Epoch 196/200\n",
            "1/1 [==============================] - 0s 9ms/step - loss: 23.1837 - mae: 3.9497\n",
            "Epoch 197/200\n",
            "1/1 [==============================] - 0s 7ms/step - loss: 23.0168 - mae: 4.6821\n",
            "Epoch 198/200\n",
            "1/1 [==============================] - 0s 7ms/step - loss: 22.8510 - mae: 3.9212\n",
            "Epoch 199/200\n",
            "1/1 [==============================] - 0s 6ms/step - loss: 22.6865 - mae: 4.6484\n",
            "Epoch 200/200\n",
            "1/1 [==============================] - 0s 6ms/step - loss: 22.5232 - mae: 3.8930\n"
          ]
        },
        {
          "output_type": "execute_result",
          "data": {
            "text/plain": [
              "<keras.callbacks.History at 0x7f730163e650>"
            ]
          },
          "metadata": {},
          "execution_count": 7
        }
      ]
    },
    {
      "cell_type": "code",
      "source": [
        "model.predict(X)"
      ],
      "metadata": {
        "colab": {
          "base_uri": "https://localhost:8080/"
        },
        "id": "u_WbS8XDRE-5",
        "outputId": "6501e689-ec0a-4b0c-d9f5-8c2d1b0e4f8f"
      },
      "execution_count": null,
      "outputs": [
        {
          "output_type": "execute_result",
          "data": {
            "text/plain": [
              "array([[ 4.843402],\n",
              "       [ 7.114233],\n",
              "       [ 9.385065],\n",
              "       [11.655896],\n",
              "       [13.926728]], dtype=float32)"
            ]
          },
          "metadata": {},
          "execution_count": 8
        }
      ]
    },
    {
      "cell_type": "code",
      "source": [
        "plt.scatter(X,y)"
      ],
      "metadata": {
        "colab": {
          "base_uri": "https://localhost:8080/",
          "height": 282
        },
        "id": "jjMIq-w3TpKS",
        "outputId": "2507a7e4-5f9e-4800-cecb-d0a51a17cc42"
      },
      "execution_count": null,
      "outputs": [
        {
          "output_type": "execute_result",
          "data": {
            "text/plain": [
              "<matplotlib.collections.PathCollection at 0x7f73015bb1d0>"
            ]
          },
          "metadata": {},
          "execution_count": 9
        },
        {
          "output_type": "display_data",
          "data": {
            "image/png": "[encoded data removed]",
            "text/plain": [
              "<Figure size 432x288 with 1 Axes>"
            ]
          },
          "metadata": {
            "needs_background": "light"
          }
        }
      ]
    },
    {
      "cell_type": "code",
      "source": [
        "plt.scatter(X,model.predict(X))"
      ],
      "metadata": {
        "colab": {
          "base_uri": "https://localhost:8080/",
          "height": 282
        },
        "id": "qHYemA34SHEW",
        "outputId": "06ecb37c-e360-4b46-f1dc-18a11864b214"
      },
      "execution_count": null,
      "outputs": [
        {
          "output_type": "execute_result",
          "data": {
            "text/plain": [
              "<matplotlib.collections.PathCollection at 0x7f73015167d0>"
            ]
          },
          "metadata": {},
          "execution_count": 10
        },
        {
          "output_type": "display_data",
          "data": {
            "image/png": "[encoded data removed]",
            "text/plain": [
              "<Figure size 432x288 with 1 Axes>"
            ]
          },
          "metadata": {
            "needs_background": "light"
          }
        }
      ]
    },
    {
      "cell_type": "code",
      "source": [
        "model = tf.keras.Sequential([ \n",
        "                              tf.keras.layers.Dense(256,activation='relu'),\n",
        "                              tf.keras.layers.Dense(512,activation='relu'),\n",
        "                             tf.keras.layers.Dense(512,activation='relu'),\n",
        "                              tf.keras.layers.Dense(128,activation='relu'),\n",
        "                              tf.keras.layers.Dense(1)\n",
        "                           ])\n",
        "\n",
        "model.compile(loss=tf.keras.losses.mse,\n",
        "              optimizer=tf.keras.optimizers.Adam(lr=0.001),\n",
        "              metrics = ['mae'])\n",
        "\n",
        "model.fit(X,y,epochs=200)"
      ],
      "metadata": {
        "id": "bsRyLS4ZTm2h",
        "colab": {
          "base_uri": "https://localhost:8080/"
        },
        "outputId": "31978f7c-e544-4019-fde0-4398f641d394"
      },
      "execution_count": null,
      "outputs": [
        {
          "output_type": "stream",
          "name": "stdout",
          "text": [
            "Epoch 1/200\n"
          ]
        },
        {
          "output_type": "stream",
          "name": "stderr",
          "text": [
            "/usr/local/lib/python3.7/dist-packages/keras/optimizer_v2/adam.py:105: UserWarning: The `lr` argument is deprecated, use `learning_rate` instead.\n",
            "  super(Adam, self).__init__(name, **kwargs)\n"
          ]
        },
        {
          "output_type": "stream",
          "name": "stdout",
          "text": [
            "1/1 [==============================] - 2s 2s/step - loss: 214.4284 - mae: 14.0134\n",
            "Epoch 2/200\n",
            "1/1 [==============================] - 0s 21ms/step - loss: 172.8761 - mae: 12.6429\n",
            "Epoch 3/200\n",
            "1/1 [==============================] - 0s 19ms/step - loss: 139.4823 - mae: 11.4132\n",
            "Epoch 4/200\n",
            "1/1 [==============================] - 0s 34ms/step - loss: 106.8457 - mae: 10.0529\n",
            "Epoch 5/200\n",
            "1/1 [==============================] - 0s 29ms/step - loss: 72.1000 - mae: 8.3371\n",
            "Epoch 6/200\n",
            "1/1 [==============================] - 0s 18ms/step - loss: 38.3194 - mae: 6.1608\n",
            "Epoch 7/200\n",
            "1/1 [==============================] - 0s 17ms/step - loss: 12.1188 - mae: 3.4172\n",
            "Epoch 8/200\n",
            "1/1 [==============================] - 0s 17ms/step - loss: 4.6523 - mae: 1.8631\n",
            "Epoch 9/200\n",
            "1/1 [==============================] - 0s 17ms/step - loss: 21.4887 - mae: 3.7900\n",
            "Epoch 10/200\n",
            "1/1 [==============================] - 0s 16ms/step - loss: 40.6020 - mae: 5.2545\n",
            "Epoch 11/200\n",
            "1/1 [==============================] - 0s 14ms/step - loss: 40.2469 - mae: 5.2314\n",
            "Epoch 12/200\n",
            "1/1 [==============================] - 0s 21ms/step - loss: 26.8906 - mae: 4.2634\n",
            "Epoch 13/200\n",
            "1/1 [==============================] - 0s 13ms/step - loss: 13.0264 - mae: 2.9934\n",
            "Epoch 14/200\n",
            "1/1 [==============================] - 0s 14ms/step - loss: 5.3101 - mae: 1.9836\n",
            "Epoch 15/200\n",
            "1/1 [==============================] - 0s 16ms/step - loss: 4.3609 - mae: 1.7107\n",
            "Epoch 16/200\n",
            "1/1 [==============================] - 0s 16ms/step - loss: 7.5170 - mae: 2.5348\n",
            "Epoch 17/200\n",
            "1/1 [==============================] - 0s 19ms/step - loss: 11.8296 - mae: 3.3769\n",
            "Epoch 18/200\n",
            "1/1 [==============================] - 0s 16ms/step - loss: 15.2482 - mae: 3.8827\n",
            "Epoch 19/200\n",
            "1/1 [==============================] - 0s 40ms/step - loss: 16.7225 - mae: 4.0766\n",
            "Epoch 20/200\n",
            "1/1 [==============================] - 0s 20ms/step - loss: 16.1170 - mae: 3.9990\n",
            "Epoch 21/200\n",
            "1/1 [==============================] - 0s 18ms/step - loss: 13.8244 - mae: 3.6851\n",
            "Epoch 22/200\n",
            "1/1 [==============================] - 0s 18ms/step - loss: 10.5534 - mae: 3.1656\n",
            "Epoch 23/200\n",
            "1/1 [==============================] - 0s 19ms/step - loss: 7.2177 - mae: 2.4760\n",
            "Epoch 24/200\n",
            "1/1 [==============================] - 0s 18ms/step - loss: 4.7621 - mae: 1.7970\n",
            "Epoch 25/200\n",
            "1/1 [==============================] - 0s 18ms/step - loss: 3.8943 - mae: 1.6908\n",
            "Epoch 26/200\n",
            "1/1 [==============================] - 0s 17ms/step - loss: 4.7377 - mae: 1.8512\n",
            "Epoch 27/200\n",
            "1/1 [==============================] - 0s 41ms/step - loss: 6.5992 - mae: 2.2378\n",
            "Epoch 28/200\n",
            "1/1 [==============================] - 0s 28ms/step - loss: 8.2139 - mae: 2.4680\n",
            "Epoch 29/200\n",
            "1/1 [==============================] - 0s 20ms/step - loss: 8.6054 - mae: 2.5160\n",
            "Epoch 30/200\n",
            "1/1 [==============================] - 0s 28ms/step - loss: 7.6459 - mae: 2.3913\n",
            "Epoch 31/200\n",
            "1/1 [==============================] - 0s 37ms/step - loss: 5.9947 - mae: 2.1344\n",
            "Epoch 32/200\n",
            "1/1 [==============================] - 0s 23ms/step - loss: 4.5257 - mae: 1.8084\n",
            "Epoch 33/200\n",
            "1/1 [==============================] - 0s 32ms/step - loss: 3.7977 - mae: 1.6928\n",
            "Epoch 34/200\n",
            "1/1 [==============================] - 0s 24ms/step - loss: 3.8755 - mae: 1.5936\n",
            "Epoch 35/200\n",
            "1/1 [==============================] - 0s 30ms/step - loss: 4.4606 - mae: 1.7405\n",
            "Epoch 36/200\n",
            "1/1 [==============================] - 0s 16ms/step - loss: 5.1347 - mae: 1.8904\n",
            "Epoch 37/200\n",
            "1/1 [==============================] - 0s 15ms/step - loss: 5.5568 - mae: 2.0442\n",
            "Epoch 38/200\n",
            "1/1 [==============================] - 0s 20ms/step - loss: 5.5627 - mae: 2.0501\n",
            "Epoch 39/200\n",
            "1/1 [==============================] - 0s 17ms/step - loss: 5.1770 - mae: 1.9207\n",
            "Epoch 40/200\n",
            "1/1 [==============================] - 0s 18ms/step - loss: 4.5704 - mae: 1.7562\n",
            "Epoch 41/200\n",
            "1/1 [==============================] - 0s 14ms/step - loss: 3.9819 - mae: 1.6414\n",
            "Epoch 42/200\n",
            "1/1 [==============================] - 0s 12ms/step - loss: 3.6236 - mae: 1.5807\n",
            "Epoch 43/200\n",
            "1/1 [==============================] - 0s 16ms/step - loss: 3.5920 - mae: 1.6445\n",
            "Epoch 44/200\n",
            "1/1 [==============================] - 0s 14ms/step - loss: 3.8236 - mae: 1.6990\n",
            "Epoch 45/200\n",
            "1/1 [==============================] - 0s 13ms/step - loss: 4.1292 - mae: 1.7361\n",
            "Epoch 46/200\n",
            "1/1 [==============================] - 0s 16ms/step - loss: 4.3022 - mae: 1.7684\n",
            "Epoch 47/200\n",
            "1/1 [==============================] - 0s 17ms/step - loss: 4.2374 - mae: 1.7513\n",
            "Epoch 48/200\n",
            "1/1 [==============================] - 0s 20ms/step - loss: 3.9792 - mae: 1.7121\n",
            "Epoch 49/200\n",
            "1/1 [==============================] - 0s 18ms/step - loss: 3.6717 - mae: 1.6673\n",
            "Epoch 50/200\n",
            "1/1 [==============================] - 0s 21ms/step - loss: 3.4580 - mae: 1.6153\n",
            "Epoch 51/200\n",
            "1/1 [==============================] - 0s 13ms/step - loss: 3.4033 - mae: 1.5637\n",
            "Epoch 52/200\n",
            "1/1 [==============================] - 0s 14ms/step - loss: 3.4788 - mae: 1.5188\n",
            "Epoch 53/200\n",
            "1/1 [==============================] - 0s 15ms/step - loss: 3.5991 - mae: 1.5516\n",
            "Epoch 54/200\n",
            "1/1 [==============================] - 0s 20ms/step - loss: 3.6759 - mae: 1.5757\n",
            "Epoch 55/200\n",
            "1/1 [==============================] - 0s 21ms/step - loss: 3.6601 - mae: 1.5727\n",
            "Epoch 56/200\n",
            "1/1 [==============================] - 0s 16ms/step - loss: 3.5568 - mae: 1.5446\n",
            "Epoch 57/200\n",
            "1/1 [==============================] - 0s 13ms/step - loss: 3.4135 - mae: 1.4965\n",
            "Epoch 58/200\n",
            "1/1 [==============================] - 0s 17ms/step - loss: 3.2916 - mae: 1.5120\n",
            "Epoch 59/200\n",
            "1/1 [==============================] - 0s 14ms/step - loss: 3.2341 - mae: 1.5392\n",
            "Epoch 60/200\n",
            "1/1 [==============================] - 0s 28ms/step - loss: 3.2447 - mae: 1.5635\n",
            "Epoch 61/200\n",
            "1/1 [==============================] - 0s 20ms/step - loss: 3.2895 - mae: 1.5809\n",
            "Epoch 62/200\n",
            "1/1 [==============================] - 0s 29ms/step - loss: 3.3207 - mae: 1.5882\n",
            "Epoch 63/200\n",
            "1/1 [==============================] - 0s 19ms/step - loss: 3.3055 - mae: 1.5844\n",
            "Epoch 64/200\n",
            "1/1 [==============================] - 0s 38ms/step - loss: 3.2443 - mae: 1.5703\n",
            "Epoch 65/200\n",
            "1/1 [==============================] - 0s 23ms/step - loss: 3.1648 - mae: 1.5482\n",
            "Epoch 66/200\n",
            "1/1 [==============================] - 0s 23ms/step - loss: 3.1007 - mae: 1.5219\n",
            "Epoch 67/200\n",
            "1/1 [==============================] - 0s 13ms/step - loss: 3.0707 - mae: 1.4950\n",
            "Epoch 68/200\n",
            "1/1 [==============================] - 0s 21ms/step - loss: 3.0706 - mae: 1.4712\n",
            "Epoch 69/200\n",
            "1/1 [==============================] - 0s 19ms/step - loss: 3.0803 - mae: 1.4530\n",
            "Epoch 70/200\n",
            "1/1 [==============================] - 0s 19ms/step - loss: 3.0784 - mae: 1.4419\n",
            "Epoch 71/200\n",
            "1/1 [==============================] - 0s 18ms/step - loss: 3.0540 - mae: 1.4381\n",
            "Epoch 72/200\n",
            "1/1 [==============================] - 0s 37ms/step - loss: 3.0112 - mae: 1.4408\n",
            "Epoch 73/200\n",
            "1/1 [==============================] - 0s 27ms/step - loss: 2.9642 - mae: 1.4483\n",
            "Epoch 74/200\n",
            "1/1 [==============================] - 0s 29ms/step - loss: 2.9274 - mae: 1.4582\n",
            "Epoch 75/200\n",
            "1/1 [==============================] - 0s 21ms/step - loss: 2.9074 - mae: 1.4678\n",
            "Epoch 76/200\n",
            "1/1 [==============================] - 0s 25ms/step - loss: 2.8995 - mae: 1.4747\n",
            "Epoch 77/200\n",
            "1/1 [==============================] - 0s 19ms/step - loss: 2.8926 - mae: 1.4771\n",
            "Epoch 78/200\n",
            "1/1 [==============================] - 0s 20ms/step - loss: 2.8768 - mae: 1.4741\n",
            "Epoch 79/200\n",
            "1/1 [==============================] - 0s 30ms/step - loss: 2.8496 - mae: 1.4658\n",
            "Epoch 80/200\n",
            "1/1 [==============================] - 0s 20ms/step - loss: 2.8163 - mae: 1.4532\n",
            "Epoch 81/200\n",
            "1/1 [==============================] - 0s 23ms/step - loss: 2.7852 - mae: 1.4381\n",
            "Epoch 82/200\n",
            "1/1 [==============================] - 0s 19ms/step - loss: 2.7618 - mae: 1.4224\n",
            "Epoch 83/200\n",
            "1/1 [==============================] - 0s 38ms/step - loss: 2.7459 - mae: 1.4080\n",
            "Epoch 84/200\n",
            "1/1 [==============================] - 0s 36ms/step - loss: 2.7325 - mae: 1.3964\n",
            "Epoch 85/200\n",
            "1/1 [==============================] - 0s 22ms/step - loss: 2.7162 - mae: 1.3884\n",
            "Epoch 86/200\n",
            "1/1 [==============================] - 0s 15ms/step - loss: 2.6943 - mae: 1.3842\n",
            "Epoch 87/200\n",
            "1/1 [==============================] - 0s 16ms/step - loss: 2.6684 - mae: 1.3832\n",
            "Epoch 88/200\n",
            "1/1 [==============================] - 0s 15ms/step - loss: 2.6423 - mae: 1.3844\n",
            "Epoch 89/200\n",
            "1/1 [==============================] - 0s 18ms/step - loss: 2.6195 - mae: 1.3865\n",
            "Epoch 90/200\n",
            "1/1 [==============================] - 0s 18ms/step - loss: 2.6006 - mae: 1.3880\n",
            "Epoch 91/200\n",
            "1/1 [==============================] - 0s 17ms/step - loss: 2.5839 - mae: 1.3878\n",
            "Epoch 92/200\n",
            "1/1 [==============================] - 0s 35ms/step - loss: 2.5662 - mae: 1.3850\n",
            "Epoch 93/200\n",
            "1/1 [==============================] - 0s 26ms/step - loss: 2.5459 - mae: 1.3794\n",
            "Epoch 94/200\n",
            "1/1 [==============================] - 0s 18ms/step - loss: 2.5232 - mae: 1.3713\n",
            "Epoch 95/200\n",
            "1/1 [==============================] - 0s 18ms/step - loss: 2.5002 - mae: 1.3615\n",
            "Epoch 96/200\n",
            "1/1 [==============================] - 0s 29ms/step - loss: 2.4787 - mae: 1.3510\n",
            "Epoch 97/200\n",
            "1/1 [==============================] - 0s 16ms/step - loss: 2.4593 - mae: 1.3408\n",
            "Epoch 98/200\n",
            "1/1 [==============================] - 0s 24ms/step - loss: 2.4411 - mae: 1.3318\n",
            "Epoch 99/200\n",
            "1/1 [==============================] - 0s 22ms/step - loss: 2.4224 - mae: 1.3246\n",
            "Epoch 100/200\n",
            "1/1 [==============================] - 0s 16ms/step - loss: 2.4025 - mae: 1.3193\n",
            "Epoch 101/200\n",
            "1/1 [==============================] - 0s 32ms/step - loss: 2.3814 - mae: 1.3157\n",
            "Epoch 102/200\n",
            "1/1 [==============================] - 0s 32ms/step - loss: 2.3602 - mae: 1.3134\n",
            "Epoch 103/200\n",
            "1/1 [==============================] - 0s 17ms/step - loss: 2.3397 - mae: 1.3116\n",
            "Epoch 104/200\n",
            "1/1 [==============================] - 0s 18ms/step - loss: 2.3203 - mae: 1.3095\n",
            "Epoch 105/200\n",
            "1/1 [==============================] - 0s 17ms/step - loss: 2.3015 - mae: 1.3065\n",
            "Epoch 106/200\n",
            "1/1 [==============================] - 0s 20ms/step - loss: 2.2825 - mae: 1.3022\n",
            "Epoch 107/200\n",
            "1/1 [==============================] - 0s 17ms/step - loss: 2.2628 - mae: 1.2965\n",
            "Epoch 108/200\n",
            "1/1 [==============================] - 0s 25ms/step - loss: 2.2426 - mae: 1.2895\n",
            "Epoch 109/200\n",
            "1/1 [==============================] - 0s 20ms/step - loss: 2.2223 - mae: 1.2816\n",
            "Epoch 110/200\n",
            "1/1 [==============================] - 0s 19ms/step - loss: 2.2026 - mae: 1.2735\n",
            "Epoch 111/200\n",
            "1/1 [==============================] - 0s 18ms/step - loss: 2.1834 - mae: 1.2656\n",
            "Epoch 112/200\n",
            "1/1 [==============================] - 0s 16ms/step - loss: 2.1645 - mae: 1.2585\n",
            "Epoch 113/200\n",
            "1/1 [==============================] - 0s 16ms/step - loss: 2.1454 - mae: 1.2523\n",
            "Epoch 114/200\n",
            "1/1 [==============================] - 0s 18ms/step - loss: 2.1259 - mae: 1.2471\n",
            "Epoch 115/200\n",
            "1/1 [==============================] - 0s 19ms/step - loss: 2.1063 - mae: 1.2427\n",
            "Epoch 116/200\n",
            "1/1 [==============================] - 0s 18ms/step - loss: 2.0868 - mae: 1.2388\n",
            "Epoch 117/200\n",
            "1/1 [==============================] - 0s 19ms/step - loss: 2.0676 - mae: 1.2350\n",
            "Epoch 118/200\n",
            "1/1 [==============================] - 0s 17ms/step - loss: 2.0486 - mae: 1.2308\n",
            "Epoch 119/200\n",
            "1/1 [==============================] - 0s 18ms/step - loss: 2.0297 - mae: 1.2261\n",
            "Epoch 120/200\n",
            "1/1 [==============================] - 0s 19ms/step - loss: 2.0107 - mae: 1.2205\n",
            "Epoch 121/200\n",
            "1/1 [==============================] - 0s 20ms/step - loss: 1.9916 - mae: 1.2143\n",
            "Epoch 122/200\n",
            "1/1 [==============================] - 0s 24ms/step - loss: 1.9724 - mae: 1.2075\n",
            "Epoch 123/200\n",
            "1/1 [==============================] - 0s 23ms/step - loss: 1.9534 - mae: 1.2005\n",
            "Epoch 124/200\n",
            "1/1 [==============================] - 0s 17ms/step - loss: 1.9345 - mae: 1.1935\n",
            "Epoch 125/200\n",
            "1/1 [==============================] - 0s 21ms/step - loss: 1.9158 - mae: 1.1868\n",
            "Epoch 126/200\n",
            "1/1 [==============================] - 0s 17ms/step - loss: 1.8971 - mae: 1.1806\n",
            "Epoch 127/200\n",
            "1/1 [==============================] - 0s 12ms/step - loss: 1.8783 - mae: 1.1749\n",
            "Epoch 128/200\n",
            "1/1 [==============================] - 0s 33ms/step - loss: 1.8595 - mae: 1.1697\n",
            "Epoch 129/200\n",
            "1/1 [==============================] - 0s 20ms/step - loss: 1.8407 - mae: 1.1647\n",
            "Epoch 130/200\n",
            "1/1 [==============================] - 0s 21ms/step - loss: 1.8220 - mae: 1.1598\n",
            "Epoch 131/200\n",
            "1/1 [==============================] - 0s 25ms/step - loss: 1.8035 - mae: 1.1547\n",
            "Epoch 132/200\n",
            "1/1 [==============================] - 0s 22ms/step - loss: 1.7849 - mae: 1.1493\n",
            "Epoch 133/200\n",
            "1/1 [==============================] - 0s 22ms/step - loss: 1.7664 - mae: 1.1434\n",
            "Epoch 134/200\n",
            "1/1 [==============================] - 0s 38ms/step - loss: 1.7479 - mae: 1.1372\n",
            "Epoch 135/200\n",
            "1/1 [==============================] - 0s 24ms/step - loss: 1.7294 - mae: 1.1307\n",
            "Epoch 136/200\n",
            "1/1 [==============================] - 0s 21ms/step - loss: 1.7109 - mae: 1.1240\n",
            "Epoch 137/200\n",
            "1/1 [==============================] - 0s 21ms/step - loss: 1.6925 - mae: 1.1174\n",
            "Epoch 138/200\n",
            "1/1 [==============================] - 0s 23ms/step - loss: 1.6742 - mae: 1.1109\n",
            "Epoch 139/200\n",
            "1/1 [==============================] - 0s 24ms/step - loss: 1.6559 - mae: 1.1047\n",
            "Epoch 140/200\n",
            "1/1 [==============================] - 0s 23ms/step - loss: 1.6377 - mae: 1.0988\n",
            "Epoch 141/200\n",
            "1/1 [==============================] - 0s 61ms/step - loss: 1.6194 - mae: 1.0931\n",
            "Epoch 142/200\n",
            "1/1 [==============================] - 0s 35ms/step - loss: 1.6012 - mae: 1.0875\n",
            "Epoch 143/200\n",
            "1/1 [==============================] - 0s 50ms/step - loss: 1.5831 - mae: 1.0818\n",
            "Epoch 144/200\n",
            "1/1 [==============================] - 0s 26ms/step - loss: 1.5650 - mae: 1.0760\n",
            "Epoch 145/200\n",
            "1/1 [==============================] - 0s 23ms/step - loss: 1.5466 - mae: 1.0695\n",
            "Epoch 146/200\n",
            "1/1 [==============================] - 0s 18ms/step - loss: 1.5285 - mae: 1.0628\n",
            "Epoch 147/200\n",
            "1/1 [==============================] - 0s 19ms/step - loss: 1.5104 - mae: 1.0557\n",
            "Epoch 148/200\n",
            "1/1 [==============================] - 0s 19ms/step - loss: 1.4923 - mae: 1.0486\n",
            "Epoch 149/200\n",
            "1/1 [==============================] - 0s 19ms/step - loss: 1.4740 - mae: 1.0418\n",
            "Epoch 150/200\n",
            "1/1 [==============================] - 0s 20ms/step - loss: 1.4556 - mae: 1.0354\n",
            "Epoch 151/200\n",
            "1/1 [==============================] - 0s 34ms/step - loss: 1.4370 - mae: 1.0296\n",
            "Epoch 152/200\n",
            "1/1 [==============================] - 0s 23ms/step - loss: 1.4183 - mae: 1.0241\n",
            "Epoch 153/200\n",
            "1/1 [==============================] - 0s 37ms/step - loss: 1.3996 - mae: 1.0185\n",
            "Epoch 154/200\n",
            "1/1 [==============================] - 0s 37ms/step - loss: 1.3807 - mae: 1.0122\n",
            "Epoch 155/200\n",
            "1/1 [==============================] - 0s 24ms/step - loss: 1.3616 - mae: 1.0049\n",
            "Epoch 156/200\n",
            "1/1 [==============================] - 0s 30ms/step - loss: 1.3422 - mae: 0.9968\n",
            "Epoch 157/200\n",
            "1/1 [==============================] - 0s 29ms/step - loss: 1.3227 - mae: 0.9885\n",
            "Epoch 158/200\n",
            "1/1 [==============================] - 0s 34ms/step - loss: 1.3029 - mae: 0.9808\n",
            "Epoch 159/200\n",
            "1/1 [==============================] - 0s 29ms/step - loss: 1.2828 - mae: 0.9740\n",
            "Epoch 160/200\n",
            "1/1 [==============================] - 0s 21ms/step - loss: 1.2625 - mae: 0.9675\n",
            "Epoch 161/200\n",
            "1/1 [==============================] - 0s 55ms/step - loss: 1.2420 - mae: 0.9603\n",
            "Epoch 162/200\n",
            "1/1 [==============================] - 0s 29ms/step - loss: 1.2211 - mae: 0.9517\n",
            "Epoch 163/200\n",
            "1/1 [==============================] - 0s 23ms/step - loss: 1.1999 - mae: 0.9424\n",
            "Epoch 164/200\n",
            "1/1 [==============================] - 0s 18ms/step - loss: 1.1786 - mae: 0.9334\n",
            "Epoch 165/200\n",
            "1/1 [==============================] - 0s 31ms/step - loss: 1.1580 - mae: 0.9257\n",
            "Epoch 166/200\n",
            "1/1 [==============================] - 0s 24ms/step - loss: 1.1377 - mae: 0.9120\n",
            "Epoch 167/200\n",
            "1/1 [==============================] - 0s 22ms/step - loss: 1.1180 - mae: 0.9018\n",
            "Epoch 168/200\n",
            "1/1 [==============================] - 0s 17ms/step - loss: 1.0951 - mae: 0.8959\n",
            "Epoch 169/200\n",
            "1/1 [==============================] - 0s 20ms/step - loss: 1.0728 - mae: 0.8923\n",
            "Epoch 170/200\n",
            "1/1 [==============================] - 0s 18ms/step - loss: 1.0526 - mae: 0.8877\n",
            "Epoch 171/200\n",
            "1/1 [==============================] - 0s 21ms/step - loss: 1.0302 - mae: 0.8752\n",
            "Epoch 172/200\n",
            "1/1 [==============================] - 0s 42ms/step - loss: 1.0093 - mae: 0.8618\n",
            "Epoch 173/200\n",
            "1/1 [==============================] - 0s 24ms/step - loss: 0.9889 - mae: 0.8501\n",
            "Epoch 174/200\n",
            "1/1 [==============================] - 0s 18ms/step - loss: 0.9668 - mae: 0.8414\n",
            "Epoch 175/200\n",
            "1/1 [==============================] - 0s 24ms/step - loss: 0.9437 - mae: 0.8353\n",
            "Epoch 176/200\n",
            "1/1 [==============================] - 0s 18ms/step - loss: 0.9219 - mae: 0.8293\n",
            "Epoch 177/200\n",
            "1/1 [==============================] - 0s 19ms/step - loss: 0.9002 - mae: 0.8211\n",
            "Epoch 178/200\n",
            "1/1 [==============================] - 0s 24ms/step - loss: 0.8771 - mae: 0.8095\n",
            "Epoch 179/200\n",
            "1/1 [==============================] - 0s 19ms/step - loss: 0.8539 - mae: 0.7955\n",
            "Epoch 180/200\n",
            "1/1 [==============================] - 0s 20ms/step - loss: 0.8316 - mae: 0.7819\n",
            "Epoch 181/200\n",
            "1/1 [==============================] - 0s 24ms/step - loss: 0.8087 - mae: 0.7709\n",
            "Epoch 182/200\n",
            "1/1 [==============================] - 0s 26ms/step - loss: 0.7849 - mae: 0.7628\n",
            "Epoch 183/200\n",
            "1/1 [==============================] - 0s 26ms/step - loss: 0.7624 - mae: 0.7547\n",
            "Epoch 184/200\n",
            "1/1 [==============================] - 0s 22ms/step - loss: 0.7397 - mae: 0.7376\n",
            "Epoch 185/200\n",
            "1/1 [==============================] - 0s 21ms/step - loss: 0.7187 - mae: 0.7229\n",
            "Epoch 186/200\n",
            "1/1 [==============================] - 0s 20ms/step - loss: 0.6948 - mae: 0.7130\n",
            "Epoch 187/200\n",
            "1/1 [==============================] - 0s 28ms/step - loss: 0.6707 - mae: 0.7061\n",
            "Epoch 188/200\n",
            "1/1 [==============================] - 0s 25ms/step - loss: 0.6532 - mae: 0.6997\n",
            "Epoch 189/200\n",
            "1/1 [==============================] - 0s 24ms/step - loss: 0.6253 - mae: 0.6802\n",
            "Epoch 190/200\n",
            "1/1 [==============================] - 0s 31ms/step - loss: 0.6049 - mae: 0.6635\n",
            "Epoch 191/200\n",
            "1/1 [==============================] - 0s 25ms/step - loss: 0.5817 - mae: 0.6511\n",
            "Epoch 192/200\n",
            "1/1 [==============================] - 0s 24ms/step - loss: 0.5576 - mae: 0.6427\n",
            "Epoch 193/200\n",
            "1/1 [==============================] - 0s 26ms/step - loss: 0.5392 - mae: 0.6356\n",
            "Epoch 194/200\n",
            "1/1 [==============================] - 0s 23ms/step - loss: 0.5132 - mae: 0.6171\n",
            "Epoch 195/200\n",
            "1/1 [==============================] - 0s 23ms/step - loss: 0.4923 - mae: 0.6001\n",
            "Epoch 196/200\n",
            "1/1 [==============================] - 0s 24ms/step - loss: 0.4706 - mae: 0.5863\n",
            "Epoch 197/200\n",
            "1/1 [==============================] - 0s 29ms/step - loss: 0.4478 - mae: 0.5758\n",
            "Epoch 198/200\n",
            "1/1 [==============================] - 0s 20ms/step - loss: 0.4283 - mae: 0.5663\n",
            "Epoch 199/200\n",
            "1/1 [==============================] - 0s 23ms/step - loss: 0.4054 - mae: 0.5468\n",
            "Epoch 200/200\n",
            "1/1 [==============================] - 0s 16ms/step - loss: 0.3860 - mae: 0.5301\n"
          ]
        },
        {
          "output_type": "execute_result",
          "data": {
            "text/plain": [
              "<keras.callbacks.History at 0x7f73015d47d0>"
            ]
          },
          "metadata": {},
          "execution_count": 11
        }
      ]
    },
    {
      "cell_type": "code",
      "source": [
        "model.predict(X)"
      ],
      "metadata": {
        "colab": {
          "base_uri": "https://localhost:8080/"
        },
        "outputId": "9130cf72-df14-4439-ec95-12d1b8c8a563",
        "id": "Fm9i9fUuLdPH"
      },
      "execution_count": null,
      "outputs": [
        {
          "output_type": "execute_result",
          "data": {
            "text/plain": [
              "array([[ 6.9751687],\n",
              "       [10.365131 ],\n",
              "       [13.75506  ],\n",
              "       [17.144989 ],\n",
              "       [20.536743 ]], dtype=float32)"
            ]
          },
          "metadata": {},
          "execution_count": 12
        }
      ]
    },
    {
      "cell_type": "code",
      "source": [
        "plt.scatter(X,y)"
      ],
      "metadata": {
        "colab": {
          "base_uri": "https://localhost:8080/",
          "height": 282
        },
        "outputId": "a37d7b90-289c-4c63-e121-a64413445c92",
        "id": "rI1rwu7KLdPs"
      },
      "execution_count": null,
      "outputs": [
        {
          "output_type": "execute_result",
          "data": {
            "text/plain": [
              "<matplotlib.collections.PathCollection at 0x7f72fec609d0>"
            ]
          },
          "metadata": {},
          "execution_count": 13
        },
        {
          "output_type": "display_data",
          "data": {
            "image/png": "[encoded data removed]",
            "text/plain": [
              "<Figure size 432x288 with 1 Axes>"
            ]
          },
          "metadata": {
            "needs_background": "light"
          }
        }
      ]
    },
    {
      "cell_type": "code",
      "source": [
        "plt.scatter(X,model.predict(X))"
      ],
      "metadata": {
        "colab": {
          "base_uri": "https://localhost:8080/",
          "height": 282
        },
        "outputId": "ac664db9-2c16-4440-eaa2-7ed1bbc99891",
        "id": "ECl7F199LdPu"
      },
      "execution_count": null,
      "outputs": [
        {
          "output_type": "execute_result",
          "data": {
            "text/plain": [
              "<matplotlib.collections.PathCollection at 0x7f72febc6f50>"
            ]
          },
          "metadata": {},
          "execution_count": 14
        },
        {
          "output_type": "display_data",
          "data": {
            "image/png": "[encoded data removed]",
            "text/plain": [
              "<Figure size 432x288 with 1 Axes>"
            ]
          },
          "metadata": {
            "needs_background": "light"
          }
        }
      ]
    },
    {
      "cell_type": "markdown",
      "source": [
        "## increasing the data"
      ],
      "metadata": {
        "id": "91QdaDf-R4Gj"
      }
    },
    {
      "cell_type": "code",
      "source": [
        "X = np.expand_dims(np.arange(3,55,3),axis=-1)\n",
        "X"
      ],
      "metadata": {
        "colab": {
          "base_uri": "https://localhost:8080/"
        },
        "id": "0buHeqHnBGCE",
        "outputId": "6bf047fa-207d-46fa-a18a-3ef7a4367b16"
      },
      "execution_count": null,
      "outputs": [
        {
          "output_type": "execute_result",
          "data": {
            "text/plain": [
              "array([[ 3],\n",
              "       [ 6],\n",
              "       [ 9],\n",
              "       [12],\n",
              "       [15],\n",
              "       [18],\n",
              "       [21],\n",
              "       [24],\n",
              "       [27],\n",
              "       [30],\n",
              "       [33],\n",
              "       [36],\n",
              "       [39],\n",
              "       [42],\n",
              "       [45],\n",
              "       [48],\n",
              "       [51],\n",
              "       [54]])"
            ]
          },
          "metadata": {},
          "execution_count": 15
        }
      ]
    },
    {
      "cell_type": "code",
      "source": [
        "y = np.squeeze(X + 5)\n",
        "y"
      ],
      "metadata": {
        "colab": {
          "base_uri": "https://localhost:8080/"
        },
        "id": "dCDfU_QQIwh3",
        "outputId": "73fafaca-f0b5-408b-fb62-1b70db952848"
      },
      "execution_count": null,
      "outputs": [
        {
          "output_type": "execute_result",
          "data": {
            "text/plain": [
              "array([ 8, 11, 14, 17, 20, 23, 26, 29, 32, 35, 38, 41, 44, 47, 50, 53, 56,\n",
              "       59])"
            ]
          },
          "metadata": {},
          "execution_count": 16
        }
      ]
    },
    {
      "cell_type": "code",
      "source": [
        "from sklearn.model_selection import train_test_split\n",
        "X_train, X_test, y_train, y_test = train_test_split(X, y, test_size=.1)"
      ],
      "metadata": {
        "id": "3NNDLynUAsSc"
      },
      "execution_count": null,
      "outputs": []
    },
    {
      "cell_type": "code",
      "source": [
        "model = tf.keras.Sequential([ \n",
        "                              tf.keras.layers.Dense(256,input_shape=[1],activation='relu',name='input_layer'),\n",
        "                              tf.keras.layers.Dense(128,activation='relu',name='hidden_layer'),\n",
        "                              tf.keras.layers.Dense(1,name='output_layer')\n",
        "                           ],name='model_22')\n",
        "\n",
        "model.compile(loss=tf.keras.losses.mse,\n",
        "              optimizer=tf.keras.optimizers.Adam(learning_rate=0.001),\n",
        "              metrics = ['mae'])\n",
        "\n",
        "model.fit(X_train,y_train,epochs=200,verbose=0)"
      ],
      "metadata": {
        "colab": {
          "base_uri": "https://localhost:8080/"
        },
        "id": "no4w2jGWTXHl",
        "outputId": "a6db13ee-3e1c-45b6-9a18-9e9db3a7dfc7"
      },
      "execution_count": null,
      "outputs": [
        {
          "output_type": "execute_result",
          "data": {
            "text/plain": [
              "<keras.callbacks.History at 0x7f72fbd6e510>"
            ]
          },
          "metadata": {},
          "execution_count": 18
        }
      ]
    },
    {
      "cell_type": "code",
      "source": [
        "model.summary()"
      ],
      "metadata": {
        "colab": {
          "base_uri": "https://localhost:8080/"
        },
        "id": "KUUnq3P5Tdnh",
        "outputId": "ef0cdc31-5f26-460e-d0b5-ffce2cc15252"
      },
      "execution_count": null,
      "outputs": [
        {
          "output_type": "stream",
          "name": "stdout",
          "text": [
            "Model: \"model_22\"\n",
            "_________________________________________________________________\n",
            " Layer (type)                Output Shape              Param #   \n",
            "=================================================================\n",
            " input_layer (Dense)         (None, 256)               512       \n",
            "                                                                 \n",
            " hidden_layer (Dense)        (None, 128)               32896     \n",
            "                                                                 \n",
            " output_layer (Dense)        (None, 1)                 129       \n",
            "                                                                 \n",
            "=================================================================\n",
            "Total params: 33,537\n",
            "Trainable params: 33,537\n",
            "Non-trainable params: 0\n",
            "_________________________________________________________________\n"
          ]
        }
      ]
    },
    {
      "cell_type": "code",
      "source": [
        "from tensorflow.keras.utils import plot_model"
      ],
      "metadata": {
        "id": "AQB0u5lkZO50"
      },
      "execution_count": null,
      "outputs": []
    },
    {
      "cell_type": "code",
      "source": [
        "plot_model(model,show_shapes=True)"
      ],
      "metadata": {
        "colab": {
          "base_uri": "https://localhost:8080/",
          "height": 422
        },
        "id": "GblArPzxlc6J",
        "outputId": "288c9a48-5b52-4339-a6c5-f8eaf742b9a3"
      },
      "execution_count": null,
      "outputs": [
        {
          "output_type": "execute_result",
          "data": {
            "image/png": "[encoded data removed]",
            "text/plain": [
              "<IPython.core.display.Image object>"
            ]
          },
          "metadata": {},
          "execution_count": 21
        }
      ]
    },
    {
      "cell_type": "code",
      "source": [
        "model.evaluate(X_train,y_train)"
      ],
      "metadata": {
        "colab": {
          "base_uri": "https://localhost:8080/"
        },
        "id": "ehJYuNG4KIJO",
        "outputId": "6cb68492-f18e-410a-b244-3ad121cb9fbe"
      },
      "execution_count": null,
      "outputs": [
        {
          "output_type": "stream",
          "name": "stdout",
          "text": [
            "1/1 [==============================] - 0s 142ms/step - loss: 4.2847 - mae: 1.7669\n"
          ]
        },
        {
          "output_type": "execute_result",
          "data": {
            "text/plain": [
              "[4.284698486328125, 1.7668753862380981]"
            ]
          },
          "metadata": {},
          "execution_count": 22
        }
      ]
    },
    {
      "cell_type": "code",
      "source": [
        "model.evaluate(X_test,y_test)"
      ],
      "metadata": {
        "colab": {
          "base_uri": "https://localhost:8080/"
        },
        "id": "HUl8K2Ouqbd3",
        "outputId": "10f40210-d288-4c0a-dff2-218ff16d01b2"
      },
      "execution_count": null,
      "outputs": [
        {
          "output_type": "stream",
          "name": "stdout",
          "text": [
            "1/1 [==============================] - 0s 18ms/step - loss: 0.4547 - mae: 0.6691\n"
          ]
        },
        {
          "output_type": "execute_result",
          "data": {
            "text/plain": [
              "[0.45471274852752686, 0.6691398620605469]"
            ]
          },
          "metadata": {},
          "execution_count": 23
        }
      ]
    },
    {
      "cell_type": "code",
      "source": [
        "model.predict(X_test)"
      ],
      "metadata": {
        "colab": {
          "base_uri": "https://localhost:8080/"
        },
        "id": "gnnIRr8XLGwA",
        "outputId": "dfc9538b-248f-4327-e8c7-a41d29149e4a"
      },
      "execution_count": null,
      "outputs": [
        {
          "output_type": "execute_result",
          "data": {
            "text/plain": [
              "array([[47.585682],\n",
              "       [34.247406]], dtype=float32)"
            ]
          },
          "metadata": {},
          "execution_count": 24
        }
      ]
    },
    {
      "cell_type": "code",
      "source": [
        "y_test"
      ],
      "metadata": {
        "colab": {
          "base_uri": "https://localhost:8080/"
        },
        "id": "JuW3nuacLOE9",
        "outputId": "1a3947a0-f084-454e-a94c-998c6fb5598e"
      },
      "execution_count": null,
      "outputs": [
        {
          "output_type": "execute_result",
          "data": {
            "text/plain": [
              "array([47, 35])"
            ]
          },
          "metadata": {},
          "execution_count": 25
        }
      ]
    },
    {
      "cell_type": "code",
      "source": [
        "tf.metrics.mean_squared_error(y_test,np.squeeze(model.predict(X_test)))"
      ],
      "metadata": {
        "colab": {
          "base_uri": "https://localhost:8080/"
        },
        "id": "6L1LeSl1KF2k",
        "outputId": "0ffb8267-d22f-41c6-eda2-1ac7df085caf"
      },
      "execution_count": null,
      "outputs": [
        {
          "output_type": "execute_result",
          "data": {
            "text/plain": [
              "<tf.Tensor: shape=(), dtype=float32, numpy=0.4547105>"
            ]
          },
          "metadata": {},
          "execution_count": 26
        }
      ]
    },
    {
      "cell_type": "code",
      "source": [
        "tf.metrics.mean_absolute_error(y_test,np.squeeze(model.predict(X_test)))"
      ],
      "metadata": {
        "colab": {
          "base_uri": "https://localhost:8080/"
        },
        "id": "llPFYzEBKfWU",
        "outputId": "1e1dc8e0-4081-4aa1-b14e-e7ca26dbd383"
      },
      "execution_count": null,
      "outputs": [
        {
          "output_type": "execute_result",
          "data": {
            "text/plain": [
              "<tf.Tensor: shape=(), dtype=float32, numpy=0.66913795>"
            ]
          },
          "metadata": {},
          "execution_count": 27
        }
      ]
    },
    {
      "cell_type": "code",
      "source": [
        "tf.metrics.mean_absolute_percentage_error(y_test,np.squeeze(model.predict(X_test)))"
      ],
      "metadata": {
        "colab": {
          "base_uri": "https://localhost:8080/"
        },
        "id": "kQrz9iFlMkgp",
        "outputId": "971b28a5-047d-46ea-b178-2048d5634f0d"
      },
      "execution_count": null,
      "outputs": [
        {
          "output_type": "execute_result",
          "data": {
            "text/plain": [
              "<tf.Tensor: shape=(), dtype=float32, numpy=1.6982>"
            ]
          },
          "metadata": {},
          "execution_count": 28
        }
      ]
    },
    {
      "cell_type": "code",
      "source": [
        "model2 = tf.keras.Sequential([  \n",
        "                            tf.keras.layers.Dense(10),\n",
        "                            tf.keras.layers.Dense(10),\n",
        "                            tf.keras.layers.Dense(10),\n",
        "                            tf.keras.layers.Dense(1)                          \n",
        "])\n",
        "\n",
        "model2.compile(loss = tf.keras.losses.MSE,\n",
        "               optimizer = tf.keras.optimizers.Adam(),\n",
        "               metrics = ['mse'])\n",
        "\n",
        "model2.fit(X_train,y_train,epochs=200)"
      ],
      "metadata": {
        "colab": {
          "base_uri": "https://localhost:8080/"
        },
        "id": "f7uvhGQaMoZ5",
        "outputId": "40282dd0-6d1e-4651-f59e-83fdd0a5dee0"
      },
      "execution_count": null,
      "outputs": [
        {
          "output_type": "stream",
          "name": "stdout",
          "text": [
            "Epoch 1/200\n",
            "1/1 [==============================] - 0s 469ms/step - loss: 6.3774 - mse: 6.3774\n",
            "Epoch 2/200\n",
            "1/1 [==============================] - 0s 8ms/step - loss: 9.2443 - mse: 9.2443\n",
            "Epoch 3/200\n",
            "1/1 [==============================] - 0s 9ms/step - loss: 6.4660 - mse: 6.4660\n",
            "Epoch 4/200\n",
            "1/1 [==============================] - 0s 9ms/step - loss: 6.9439 - mse: 6.9439\n",
            "Epoch 5/200\n",
            "1/1 [==============================] - 0s 9ms/step - loss: 7.9457 - mse: 7.9457\n",
            "Epoch 6/200\n",
            "1/1 [==============================] - 0s 6ms/step - loss: 7.4359 - mse: 7.4359\n",
            "Epoch 7/200\n",
            "1/1 [==============================] - 0s 7ms/step - loss: 6.4884 - mse: 6.4884\n",
            "Epoch 8/200\n",
            "1/1 [==============================] - 0s 8ms/step - loss: 6.1423 - mse: 6.1423\n",
            "Epoch 9/200\n",
            "1/1 [==============================] - 0s 10ms/step - loss: 6.5001 - mse: 6.5001\n",
            "Epoch 10/200\n",
            "1/1 [==============================] - 0s 9ms/step - loss: 6.8841 - mse: 6.8841\n",
            "Epoch 11/200\n",
            "1/1 [==============================] - 0s 6ms/step - loss: 6.7864 - mse: 6.7864\n",
            "Epoch 12/200\n",
            "1/1 [==============================] - 0s 17ms/step - loss: 6.3507 - mse: 6.3507\n",
            "Epoch 13/200\n",
            "1/1 [==============================] - 0s 11ms/step - loss: 5.9994 - mse: 5.9994\n",
            "Epoch 14/200\n",
            "1/1 [==============================] - 0s 7ms/step - loss: 5.9829 - mse: 5.9829\n",
            "Epoch 15/200\n",
            "1/1 [==============================] - 0s 6ms/step - loss: 6.1907 - mse: 6.1907\n",
            "Epoch 16/200\n",
            "1/1 [==============================] - 0s 6ms/step - loss: 6.3163 - mse: 6.3163\n",
            "Epoch 17/200\n",
            "1/1 [==============================] - 0s 9ms/step - loss: 6.1999 - mse: 6.1999\n",
            "Epoch 18/200\n",
            "1/1 [==============================] - 0s 7ms/step - loss: 5.9471 - mse: 5.9471\n",
            "Epoch 19/200\n",
            "1/1 [==============================] - 0s 8ms/step - loss: 5.7687 - mse: 5.7687\n",
            "Epoch 20/200\n",
            "1/1 [==============================] - 0s 9ms/step - loss: 5.7690 - mse: 5.7690\n",
            "Epoch 21/200\n",
            "1/1 [==============================] - 0s 9ms/step - loss: 5.8680 - mse: 5.8680\n",
            "Epoch 22/200\n",
            "1/1 [==============================] - 0s 9ms/step - loss: 5.9056 - mse: 5.9056\n",
            "Epoch 23/200\n",
            "1/1 [==============================] - 0s 10ms/step - loss: 5.8113 - mse: 5.8113\n",
            "Epoch 24/200\n",
            "1/1 [==============================] - 0s 10ms/step - loss: 5.6554 - mse: 5.6554\n",
            "Epoch 25/200\n",
            "1/1 [==============================] - 0s 9ms/step - loss: 5.5555 - mse: 5.5555\n",
            "Epoch 26/200\n",
            "1/1 [==============================] - 0s 16ms/step - loss: 5.5570 - mse: 5.5570\n",
            "Epoch 27/200\n",
            "1/1 [==============================] - 0s 9ms/step - loss: 5.5992 - mse: 5.5992\n",
            "Epoch 28/200\n",
            "1/1 [==============================] - 0s 10ms/step - loss: 5.5913 - mse: 5.5913\n",
            "Epoch 29/200\n",
            "1/1 [==============================] - 0s 11ms/step - loss: 5.5089 - mse: 5.5089\n",
            "Epoch 30/200\n",
            "1/1 [==============================] - 0s 9ms/step - loss: 5.4072 - mse: 5.4072\n",
            "Epoch 31/200\n",
            "1/1 [==============================] - 0s 12ms/step - loss: 5.3522 - mse: 5.3522\n",
            "Epoch 32/200\n",
            "1/1 [==============================] - 0s 10ms/step - loss: 5.3522 - mse: 5.3522\n",
            "Epoch 33/200\n",
            "1/1 [==============================] - 0s 8ms/step - loss: 5.3577 - mse: 5.3577\n",
            "Epoch 34/200\n",
            "1/1 [==============================] - 0s 10ms/step - loss: 5.3220 - mse: 5.3220\n",
            "Epoch 35/200\n",
            "1/1 [==============================] - 0s 8ms/step - loss: 5.2503 - mse: 5.2503\n",
            "Epoch 36/200\n",
            "1/1 [==============================] - 0s 18ms/step - loss: 5.1855 - mse: 5.1855\n",
            "Epoch 37/200\n",
            "1/1 [==============================] - 0s 8ms/step - loss: 5.1569 - mse: 5.1569\n",
            "Epoch 38/200\n",
            "1/1 [==============================] - 0s 9ms/step - loss: 5.1500 - mse: 5.1500\n",
            "Epoch 39/200\n",
            "1/1 [==============================] - 0s 9ms/step - loss: 5.1294 - mse: 5.1294\n",
            "Epoch 40/200\n",
            "1/1 [==============================] - 0s 12ms/step - loss: 5.0807 - mse: 5.0807\n",
            "Epoch 41/200\n",
            "1/1 [==============================] - 0s 9ms/step - loss: 5.0239 - mse: 5.0239\n",
            "Epoch 42/200\n",
            "1/1 [==============================] - 0s 9ms/step - loss: 4.9848 - mse: 4.9848\n",
            "Epoch 43/200\n",
            "1/1 [==============================] - 0s 15ms/step - loss: 4.9654 - mse: 4.9654\n",
            "Epoch 44/200\n",
            "1/1 [==============================] - 0s 14ms/step - loss: 4.9450 - mse: 4.9450\n",
            "Epoch 45/200\n",
            "1/1 [==============================] - 0s 13ms/step - loss: 4.9077 - mse: 4.9077\n",
            "Epoch 46/200\n",
            "1/1 [==============================] - 0s 11ms/step - loss: 4.8603 - mse: 4.8603\n",
            "Epoch 47/200\n",
            "1/1 [==============================] - 0s 10ms/step - loss: 4.8208 - mse: 4.8208\n",
            "Epoch 48/200\n",
            "1/1 [==============================] - 0s 15ms/step - loss: 4.7949 - mse: 4.7949\n",
            "Epoch 49/200\n",
            "1/1 [==============================] - 0s 8ms/step - loss: 4.7715 - mse: 4.7715\n",
            "Epoch 50/200\n",
            "1/1 [==============================] - 0s 9ms/step - loss: 4.7384 - mse: 4.7384\n",
            "Epoch 51/200\n",
            "1/1 [==============================] - 0s 11ms/step - loss: 4.6974 - mse: 4.6974\n",
            "Epoch 52/200\n",
            "1/1 [==============================] - 0s 8ms/step - loss: 4.6602 - mse: 4.6602\n",
            "Epoch 53/200\n",
            "1/1 [==============================] - 0s 9ms/step - loss: 4.6318 - mse: 4.6318\n",
            "Epoch 54/200\n",
            "1/1 [==============================] - 0s 7ms/step - loss: 4.6057 - mse: 4.6057\n",
            "Epoch 55/200\n",
            "1/1 [==============================] - 0s 11ms/step - loss: 4.5737 - mse: 4.5737\n",
            "Epoch 56/200\n",
            "1/1 [==============================] - 0s 7ms/step - loss: 4.5367 - mse: 4.5367\n",
            "Epoch 57/200\n",
            "1/1 [==============================] - 0s 7ms/step - loss: 4.5022 - mse: 4.5022\n",
            "Epoch 58/200\n",
            "1/1 [==============================] - 0s 12ms/step - loss: 4.4733 - mse: 4.4733\n",
            "Epoch 59/200\n",
            "1/1 [==============================] - 0s 10ms/step - loss: 4.4455 - mse: 4.4455\n",
            "Epoch 60/200\n",
            "1/1 [==============================] - 0s 7ms/step - loss: 4.4138 - mse: 4.4138\n",
            "Epoch 61/200\n",
            "1/1 [==============================] - 0s 12ms/step - loss: 4.3794 - mse: 4.3794\n",
            "Epoch 62/200\n",
            "1/1 [==============================] - 0s 7ms/step - loss: 4.3470 - mse: 4.3470\n",
            "Epoch 63/200\n",
            "1/1 [==============================] - 0s 7ms/step - loss: 4.3181 - mse: 4.3181\n",
            "Epoch 64/200\n",
            "1/1 [==============================] - 0s 8ms/step - loss: 4.2893 - mse: 4.2893\n",
            "Epoch 65/200\n",
            "1/1 [==============================] - 0s 18ms/step - loss: 4.2579 - mse: 4.2579\n",
            "Epoch 66/200\n",
            "1/1 [==============================] - 0s 7ms/step - loss: 4.2253 - mse: 4.2253\n",
            "Epoch 67/200\n",
            "1/1 [==============================] - 0s 11ms/step - loss: 4.1947 - mse: 4.1947\n",
            "Epoch 68/200\n",
            "1/1 [==============================] - 0s 12ms/step - loss: 4.1659 - mse: 4.1659\n",
            "Epoch 69/200\n",
            "1/1 [==============================] - 0s 7ms/step - loss: 4.1366 - mse: 4.1366\n",
            "Epoch 70/200\n",
            "1/1 [==============================] - 0s 7ms/step - loss: 4.1056 - mse: 4.1056\n",
            "Epoch 71/200\n",
            "1/1 [==============================] - 0s 7ms/step - loss: 4.0746 - mse: 4.0746\n",
            "Epoch 72/200\n",
            "1/1 [==============================] - 0s 13ms/step - loss: 4.0452 - mse: 4.0452\n",
            "Epoch 73/200\n",
            "1/1 [==============================] - 0s 7ms/step - loss: 4.0165 - mse: 4.0165\n",
            "Epoch 74/200\n",
            "1/1 [==============================] - 0s 7ms/step - loss: 3.9870 - mse: 3.9870\n",
            "Epoch 75/200\n",
            "1/1 [==============================] - 0s 7ms/step - loss: 3.9567 - mse: 3.9567\n",
            "Epoch 76/200\n",
            "1/1 [==============================] - 0s 8ms/step - loss: 3.9270 - mse: 3.9270\n",
            "Epoch 77/200\n",
            "1/1 [==============================] - 0s 11ms/step - loss: 3.8983 - mse: 3.8983\n",
            "Epoch 78/200\n",
            "1/1 [==============================] - 0s 7ms/step - loss: 3.8697 - mse: 3.8697\n",
            "Epoch 79/200\n",
            "1/1 [==============================] - 0s 10ms/step - loss: 3.8404 - mse: 3.8404\n",
            "Epoch 80/200\n",
            "1/1 [==============================] - 0s 9ms/step - loss: 3.8110 - mse: 3.8110\n",
            "Epoch 81/200\n",
            "1/1 [==============================] - 0s 9ms/step - loss: 3.7823 - mse: 3.7823\n",
            "Epoch 82/200\n",
            "1/1 [==============================] - 0s 9ms/step - loss: 3.7541 - mse: 3.7541\n",
            "Epoch 83/200\n",
            "1/1 [==============================] - 0s 10ms/step - loss: 3.7255 - mse: 3.7255\n",
            "Epoch 84/200\n",
            "1/1 [==============================] - 0s 13ms/step - loss: 3.6967 - mse: 3.6967\n",
            "Epoch 85/200\n",
            "1/1 [==============================] - 0s 8ms/step - loss: 3.6683 - mse: 3.6683\n",
            "Epoch 86/200\n",
            "1/1 [==============================] - 0s 18ms/step - loss: 3.6403 - mse: 3.6403\n",
            "Epoch 87/200\n",
            "1/1 [==============================] - 0s 14ms/step - loss: 3.6123 - mse: 3.6123\n",
            "Epoch 88/200\n",
            "1/1 [==============================] - 0s 12ms/step - loss: 3.5841 - mse: 3.5841\n",
            "Epoch 89/200\n",
            "1/1 [==============================] - 0s 20ms/step - loss: 3.5560 - mse: 3.5560\n",
            "Epoch 90/200\n",
            "1/1 [==============================] - 0s 8ms/step - loss: 3.5283 - mse: 3.5283\n",
            "Epoch 91/200\n",
            "1/1 [==============================] - 0s 7ms/step - loss: 3.5007 - mse: 3.5007\n",
            "Epoch 92/200\n",
            "1/1 [==============================] - 0s 6ms/step - loss: 3.4731 - mse: 3.4731\n",
            "Epoch 93/200\n",
            "1/1 [==============================] - 0s 6ms/step - loss: 3.4455 - mse: 3.4455\n",
            "Epoch 94/200\n",
            "1/1 [==============================] - 0s 6ms/step - loss: 3.4181 - mse: 3.4181\n",
            "Epoch 95/200\n",
            "1/1 [==============================] - 0s 6ms/step - loss: 3.3909 - mse: 3.3909\n",
            "Epoch 96/200\n",
            "1/1 [==============================] - 0s 7ms/step - loss: 3.3637 - mse: 3.3637\n",
            "Epoch 97/200\n",
            "1/1 [==============================] - 0s 7ms/step - loss: 3.3365 - mse: 3.3365\n",
            "Epoch 98/200\n",
            "1/1 [==============================] - 0s 7ms/step - loss: 3.3095 - mse: 3.3095\n",
            "Epoch 99/200\n",
            "1/1 [==============================] - 0s 8ms/step - loss: 3.2827 - mse: 3.2827\n",
            "Epoch 100/200\n",
            "1/1 [==============================] - 0s 6ms/step - loss: 3.2560 - mse: 3.2560\n",
            "Epoch 101/200\n",
            "1/1 [==============================] - 0s 7ms/step - loss: 3.2292 - mse: 3.2292\n",
            "Epoch 102/200\n",
            "1/1 [==============================] - 0s 6ms/step - loss: 3.2026 - mse: 3.2026\n",
            "Epoch 103/200\n",
            "1/1 [==============================] - 0s 7ms/step - loss: 3.1762 - mse: 3.1762\n",
            "Epoch 104/200\n",
            "1/1 [==============================] - 0s 7ms/step - loss: 3.1498 - mse: 3.1498\n",
            "Epoch 105/200\n",
            "1/1 [==============================] - 0s 7ms/step - loss: 3.1235 - mse: 3.1235\n",
            "Epoch 106/200\n",
            "1/1 [==============================] - 0s 6ms/step - loss: 3.0973 - mse: 3.0973\n",
            "Epoch 107/200\n",
            "1/1 [==============================] - 0s 6ms/step - loss: 3.0713 - mse: 3.0713\n",
            "Epoch 108/200\n",
            "1/1 [==============================] - 0s 6ms/step - loss: 3.0453 - mse: 3.0453\n",
            "Epoch 109/200\n",
            "1/1 [==============================] - 0s 6ms/step - loss: 3.0194 - mse: 3.0194\n",
            "Epoch 110/200\n",
            "1/1 [==============================] - 0s 6ms/step - loss: 2.9936 - mse: 2.9936\n",
            "Epoch 111/200\n",
            "1/1 [==============================] - 0s 6ms/step - loss: 2.9680 - mse: 2.9680\n",
            "Epoch 112/200\n",
            "1/1 [==============================] - 0s 6ms/step - loss: 2.9424 - mse: 2.9424\n",
            "Epoch 113/200\n",
            "1/1 [==============================] - 0s 7ms/step - loss: 2.9169 - mse: 2.9169\n",
            "Epoch 114/200\n",
            "1/1 [==============================] - 0s 6ms/step - loss: 2.8915 - mse: 2.8915\n",
            "Epoch 115/200\n",
            "1/1 [==============================] - 0s 6ms/step - loss: 2.8662 - mse: 2.8662\n",
            "Epoch 116/200\n",
            "1/1 [==============================] - 0s 6ms/step - loss: 2.8410 - mse: 2.8410\n",
            "Epoch 117/200\n",
            "1/1 [==============================] - 0s 6ms/step - loss: 2.8160 - mse: 2.8160\n",
            "Epoch 118/200\n",
            "1/1 [==============================] - 0s 6ms/step - loss: 2.7910 - mse: 2.7910\n",
            "Epoch 119/200\n",
            "1/1 [==============================] - 0s 6ms/step - loss: 2.7661 - mse: 2.7661\n",
            "Epoch 120/200\n",
            "1/1 [==============================] - 0s 6ms/step - loss: 2.7413 - mse: 2.7413\n",
            "Epoch 121/200\n",
            "1/1 [==============================] - 0s 6ms/step - loss: 2.7166 - mse: 2.7166\n",
            "Epoch 122/200\n",
            "1/1 [==============================] - 0s 6ms/step - loss: 2.6920 - mse: 2.6920\n",
            "Epoch 123/200\n",
            "1/1 [==============================] - 0s 6ms/step - loss: 2.6675 - mse: 2.6675\n",
            "Epoch 124/200\n",
            "1/1 [==============================] - 0s 6ms/step - loss: 2.6431 - mse: 2.6431\n",
            "Epoch 125/200\n",
            "1/1 [==============================] - 0s 5ms/step - loss: 2.6188 - mse: 2.6188\n",
            "Epoch 126/200\n",
            "1/1 [==============================] - 0s 7ms/step - loss: 2.5946 - mse: 2.5946\n",
            "Epoch 127/200\n",
            "1/1 [==============================] - 0s 6ms/step - loss: 2.5705 - mse: 2.5705\n",
            "Epoch 128/200\n",
            "1/1 [==============================] - 0s 10ms/step - loss: 2.5464 - mse: 2.5464\n",
            "Epoch 129/200\n",
            "1/1 [==============================] - 0s 6ms/step - loss: 2.5225 - mse: 2.5225\n",
            "Epoch 130/200\n",
            "1/1 [==============================] - 0s 7ms/step - loss: 2.4987 - mse: 2.4987\n",
            "Epoch 131/200\n",
            "1/1 [==============================] - 0s 7ms/step - loss: 2.4750 - mse: 2.4750\n",
            "Epoch 132/200\n",
            "1/1 [==============================] - 0s 9ms/step - loss: 2.4514 - mse: 2.4514\n",
            "Epoch 133/200\n",
            "1/1 [==============================] - 0s 7ms/step - loss: 2.4279 - mse: 2.4279\n",
            "Epoch 134/200\n",
            "1/1 [==============================] - 0s 7ms/step - loss: 2.4044 - mse: 2.4044\n",
            "Epoch 135/200\n",
            "1/1 [==============================] - 0s 10ms/step - loss: 2.3811 - mse: 2.3811\n",
            "Epoch 136/200\n",
            "1/1 [==============================] - 0s 13ms/step - loss: 2.3579 - mse: 2.3579\n",
            "Epoch 137/200\n",
            "1/1 [==============================] - 0s 11ms/step - loss: 2.3347 - mse: 2.3347\n",
            "Epoch 138/200\n",
            "1/1 [==============================] - 0s 8ms/step - loss: 2.3117 - mse: 2.3117\n",
            "Epoch 139/200\n",
            "1/1 [==============================] - 0s 11ms/step - loss: 2.2888 - mse: 2.2888\n",
            "Epoch 140/200\n",
            "1/1 [==============================] - 0s 7ms/step - loss: 2.2660 - mse: 2.2660\n",
            "Epoch 141/200\n",
            "1/1 [==============================] - 0s 15ms/step - loss: 2.2432 - mse: 2.2432\n",
            "Epoch 142/200\n",
            "1/1 [==============================] - 0s 11ms/step - loss: 2.2206 - mse: 2.2206\n",
            "Epoch 143/200\n",
            "1/1 [==============================] - 0s 11ms/step - loss: 2.1981 - mse: 2.1981\n",
            "Epoch 144/200\n",
            "1/1 [==============================] - 0s 8ms/step - loss: 2.1756 - mse: 2.1756\n",
            "Epoch 145/200\n",
            "1/1 [==============================] - 0s 10ms/step - loss: 2.1533 - mse: 2.1533\n",
            "Epoch 146/200\n",
            "1/1 [==============================] - 0s 7ms/step - loss: 2.1311 - mse: 2.1311\n",
            "Epoch 147/200\n",
            "1/1 [==============================] - 0s 8ms/step - loss: 2.1089 - mse: 2.1089\n",
            "Epoch 148/200\n",
            "1/1 [==============================] - 0s 8ms/step - loss: 2.0869 - mse: 2.0869\n",
            "Epoch 149/200\n",
            "1/1 [==============================] - 0s 24ms/step - loss: 2.0650 - mse: 2.0650\n",
            "Epoch 150/200\n",
            "1/1 [==============================] - 0s 12ms/step - loss: 2.0431 - mse: 2.0431\n",
            "Epoch 151/200\n",
            "1/1 [==============================] - 0s 13ms/step - loss: 2.0214 - mse: 2.0214\n",
            "Epoch 152/200\n",
            "1/1 [==============================] - 0s 12ms/step - loss: 1.9998 - mse: 1.9998\n",
            "Epoch 153/200\n",
            "1/1 [==============================] - 0s 14ms/step - loss: 1.9783 - mse: 1.9783\n",
            "Epoch 154/200\n",
            "1/1 [==============================] - 0s 18ms/step - loss: 1.9569 - mse: 1.9569\n",
            "Epoch 155/200\n",
            "1/1 [==============================] - 0s 7ms/step - loss: 1.9355 - mse: 1.9355\n",
            "Epoch 156/200\n",
            "1/1 [==============================] - 0s 8ms/step - loss: 1.9143 - mse: 1.9143\n",
            "Epoch 157/200\n",
            "1/1 [==============================] - 0s 6ms/step - loss: 1.8932 - mse: 1.8932\n",
            "Epoch 158/200\n",
            "1/1 [==============================] - 0s 14ms/step - loss: 1.8722 - mse: 1.8722\n",
            "Epoch 159/200\n",
            "1/1 [==============================] - 0s 7ms/step - loss: 1.8513 - mse: 1.8513\n",
            "Epoch 160/200\n",
            "1/1 [==============================] - 0s 7ms/step - loss: 1.8305 - mse: 1.8305\n",
            "Epoch 161/200\n",
            "1/1 [==============================] - 0s 6ms/step - loss: 1.8098 - mse: 1.8098\n",
            "Epoch 162/200\n",
            "1/1 [==============================] - 0s 9ms/step - loss: 1.7893 - mse: 1.7893\n",
            "Epoch 163/200\n",
            "1/1 [==============================] - 0s 8ms/step - loss: 1.7688 - mse: 1.7688\n",
            "Epoch 164/200\n",
            "1/1 [==============================] - 0s 6ms/step - loss: 1.7484 - mse: 1.7484\n",
            "Epoch 165/200\n",
            "1/1 [==============================] - 0s 9ms/step - loss: 1.7281 - mse: 1.7281\n",
            "Epoch 166/200\n",
            "1/1 [==============================] - 0s 6ms/step - loss: 1.7080 - mse: 1.7080\n",
            "Epoch 167/200\n",
            "1/1 [==============================] - 0s 10ms/step - loss: 1.6880 - mse: 1.6880\n",
            "Epoch 168/200\n",
            "1/1 [==============================] - 0s 7ms/step - loss: 1.6680 - mse: 1.6680\n",
            "Epoch 169/200\n",
            "1/1 [==============================] - 0s 16ms/step - loss: 1.6482 - mse: 1.6482\n",
            "Epoch 170/200\n",
            "1/1 [==============================] - 0s 9ms/step - loss: 1.6285 - mse: 1.6285\n",
            "Epoch 171/200\n",
            "1/1 [==============================] - 0s 7ms/step - loss: 1.6089 - mse: 1.6089\n",
            "Epoch 172/200\n",
            "1/1 [==============================] - 0s 7ms/step - loss: 1.5894 - mse: 1.5894\n",
            "Epoch 173/200\n",
            "1/1 [==============================] - 0s 8ms/step - loss: 1.5700 - mse: 1.5700\n",
            "Epoch 174/200\n",
            "1/1 [==============================] - 0s 7ms/step - loss: 1.5507 - mse: 1.5507\n",
            "Epoch 175/200\n",
            "1/1 [==============================] - 0s 18ms/step - loss: 1.5316 - mse: 1.5316\n",
            "Epoch 176/200\n",
            "1/1 [==============================] - 0s 8ms/step - loss: 1.5125 - mse: 1.5125\n",
            "Epoch 177/200\n",
            "1/1 [==============================] - 0s 12ms/step - loss: 1.4936 - mse: 1.4936\n",
            "Epoch 178/200\n",
            "1/1 [==============================] - 0s 9ms/step - loss: 1.4748 - mse: 1.4748\n",
            "Epoch 179/200\n",
            "1/1 [==============================] - 0s 12ms/step - loss: 1.4560 - mse: 1.4560\n",
            "Epoch 180/200\n",
            "1/1 [==============================] - 0s 9ms/step - loss: 1.4375 - mse: 1.4375\n",
            "Epoch 181/200\n",
            "1/1 [==============================] - 0s 8ms/step - loss: 1.4190 - mse: 1.4190\n",
            "Epoch 182/200\n",
            "1/1 [==============================] - 0s 9ms/step - loss: 1.4006 - mse: 1.4006\n",
            "Epoch 183/200\n",
            "1/1 [==============================] - 0s 13ms/step - loss: 1.3824 - mse: 1.3824\n",
            "Epoch 184/200\n",
            "1/1 [==============================] - 0s 14ms/step - loss: 1.3642 - mse: 1.3642\n",
            "Epoch 185/200\n",
            "1/1 [==============================] - 0s 12ms/step - loss: 1.3462 - mse: 1.3462\n",
            "Epoch 186/200\n",
            "1/1 [==============================] - 0s 10ms/step - loss: 1.3283 - mse: 1.3283\n",
            "Epoch 187/200\n",
            "1/1 [==============================] - 0s 12ms/step - loss: 1.3106 - mse: 1.3106\n",
            "Epoch 188/200\n",
            "1/1 [==============================] - 0s 9ms/step - loss: 1.2929 - mse: 1.2929\n",
            "Epoch 189/200\n",
            "1/1 [==============================] - 0s 14ms/step - loss: 1.2754 - mse: 1.2754\n",
            "Epoch 190/200\n",
            "1/1 [==============================] - 0s 8ms/step - loss: 1.2580 - mse: 1.2580\n",
            "Epoch 191/200\n",
            "1/1 [==============================] - 0s 11ms/step - loss: 1.2407 - mse: 1.2407\n",
            "Epoch 192/200\n",
            "1/1 [==============================] - 0s 10ms/step - loss: 1.2235 - mse: 1.2235\n",
            "Epoch 193/200\n",
            "1/1 [==============================] - 0s 8ms/step - loss: 1.2065 - mse: 1.2065\n",
            "Epoch 194/200\n",
            "1/1 [==============================] - 0s 10ms/step - loss: 1.1895 - mse: 1.1895\n",
            "Epoch 195/200\n",
            "1/1 [==============================] - 0s 11ms/step - loss: 1.1727 - mse: 1.1727\n",
            "Epoch 196/200\n",
            "1/1 [==============================] - 0s 14ms/step - loss: 1.1561 - mse: 1.1561\n",
            "Epoch 197/200\n",
            "1/1 [==============================] - 0s 17ms/step - loss: 1.1395 - mse: 1.1395\n",
            "Epoch 198/200\n",
            "1/1 [==============================] - 0s 9ms/step - loss: 1.1231 - mse: 1.1231\n",
            "Epoch 199/200\n",
            "1/1 [==============================] - 0s 10ms/step - loss: 1.1068 - mse: 1.1068\n",
            "Epoch 200/200\n",
            "1/1 [==============================] - 0s 17ms/step - loss: 1.0906 - mse: 1.0906\n"
          ]
        },
        {
          "output_type": "execute_result",
          "data": {
            "text/plain": [
              "<keras.callbacks.History at 0x7f72ffdce110>"
            ]
          },
          "metadata": {},
          "execution_count": 29
        }
      ]
    },
    {
      "cell_type": "code",
      "source": [
        "np.squeeze(model2.predict(X_train))"
      ],
      "metadata": {
        "colab": {
          "base_uri": "https://localhost:8080/"
        },
        "id": "a2S8LkNhMyVR",
        "outputId": "aec5b269-4a7d-481c-c991-c2bd7a371792"
      },
      "execution_count": null,
      "outputs": [
        {
          "output_type": "execute_result",
          "data": {
            "text/plain": [
              "array([50.447304 , 12.447468 , 59.947258 , 15.614119 , 37.780697 ,\n",
              "       40.947346 ,  6.1141634, 44.114002 , 25.11408  , 56.780624 ,\n",
              "       31.44739  , 18.780777 , 53.613968 , 21.947426 ,  9.280815 ,\n",
              "       28.280733 ], dtype=float32)"
            ]
          },
          "metadata": {},
          "execution_count": 30
        }
      ]
    },
    {
      "cell_type": "code",
      "source": [
        "model2.evaluate(X_test,y_test)"
      ],
      "metadata": {
        "colab": {
          "base_uri": "https://localhost:8080/"
        },
        "id": "XHQMExQcgFyZ",
        "outputId": "f647fee5-58d5-4055-ab22-5bd65aa956cd"
      },
      "execution_count": null,
      "outputs": [
        {
          "output_type": "stream",
          "name": "stdout",
          "text": [
            "1/1 [==============================] - 0s 178ms/step - loss: 0.1139 - mse: 0.1139\n"
          ]
        },
        {
          "output_type": "execute_result",
          "data": {
            "text/plain": [
              "[0.11386279761791229, 0.11386279761791229]"
            ]
          },
          "metadata": {},
          "execution_count": 31
        }
      ]
    },
    {
      "cell_type": "code",
      "source": [
        "model2.save('mymodel')"
      ],
      "metadata": {
        "colab": {
          "base_uri": "https://localhost:8080/"
        },
        "id": "4gs9Is-ggRoY",
        "outputId": "0d0fccff-3410-408a-8198-137e247627ca"
      },
      "execution_count": null,
      "outputs": [
        {
          "output_type": "stream",
          "name": "stdout",
          "text": [
            "INFO:tensorflow:Assets written to: mymodel/assets\n"
          ]
        }
      ]
    },
    {
      "cell_type": "code",
      "source": [
        "model2.save('mymodel.h5')"
      ],
      "metadata": {
        "id": "y4cCHX-vnwCk"
      },
      "execution_count": null,
      "outputs": []
    },
    {
      "cell_type": "code",
      "source": [
        ""
      ],
      "metadata": {
        "id": "YAbiaJyjpN87"
      },
      "execution_count": null,
      "outputs": []
    },
    {
      "cell_type": "code",
      "source": [
        "loadedsavemodel = tf.keras.models.load_model('mymodel')"
      ],
      "metadata": {
        "id": "mDBa3_6Jpq-x"
      },
      "execution_count": null,
      "outputs": []
    },
    {
      "cell_type": "code",
      "source": [
        "loadedsavemodel.summary()"
      ],
      "metadata": {
        "colab": {
          "base_uri": "https://localhost:8080/"
        },
        "id": "EBjDZVXrqnrK",
        "outputId": "338a9d12-a67a-49a6-b064-8fa26deeda71"
      },
      "execution_count": null,
      "outputs": [
        {
          "output_type": "stream",
          "name": "stdout",
          "text": [
            "Model: \"sequential_2\"\n",
            "_________________________________________________________________\n",
            " Layer (type)                Output Shape              Param #   \n",
            "=================================================================\n",
            " dense_6 (Dense)             (None, 10)                20        \n",
            "                                                                 \n",
            " dense_7 (Dense)             (None, 10)                110       \n",
            "                                                                 \n",
            " dense_8 (Dense)             (None, 10)                110       \n",
            "                                                                 \n",
            " dense_9 (Dense)             (None, 1)                 11        \n",
            "                                                                 \n",
            "=================================================================\n",
            "Total params: 251\n",
            "Trainable params: 251\n",
            "Non-trainable params: 0\n",
            "_________________________________________________________________\n"
          ]
        }
      ]
    },
    {
      "cell_type": "code",
      "source": [
        "loadedh5model = tf.keras.models.load_model('mymodel.h5')"
      ],
      "metadata": {
        "id": "dBkHGiqEqtQ_"
      },
      "execution_count": null,
      "outputs": []
    },
    {
      "cell_type": "code",
      "source": [
        "loadedh5model.summary()"
      ],
      "metadata": {
        "id": "1z1Yn4kprPk_",
        "outputId": "f2c4addc-020f-42d7-bd0a-60831c2a1f74",
        "colab": {
          "base_uri": "https://localhost:8080/"
        }
      },
      "execution_count": null,
      "outputs": [
        {
          "output_type": "stream",
          "name": "stdout",
          "text": [
            "Model: \"sequential_2\"\n",
            "_________________________________________________________________\n",
            " Layer (type)                Output Shape              Param #   \n",
            "=================================================================\n",
            " dense_6 (Dense)             (None, 10)                20        \n",
            "                                                                 \n",
            " dense_7 (Dense)             (None, 10)                110       \n",
            "                                                                 \n",
            " dense_8 (Dense)             (None, 10)                110       \n",
            "                                                                 \n",
            " dense_9 (Dense)             (None, 1)                 11        \n",
            "                                                                 \n",
            "=================================================================\n",
            "Total params: 251\n",
            "Trainable params: 251\n",
            "Non-trainable params: 0\n",
            "_________________________________________________________________\n"
          ]
        }
      ]
    },
    {
      "cell_type": "code",
      "source": [
        "data = pd.read_csv('https://raw.githubusercontent.com/stedy/Machine-Learning-with-R-datasets/master/insurance.csv')"
      ],
      "metadata": {
        "id": "s7LlFkFPrTlo"
      },
      "execution_count": 117,
      "outputs": []
    },
    {
      "cell_type": "code",
      "source": [
        "data"
      ],
      "metadata": {
        "colab": {
          "base_uri": "https://localhost:8080/",
          "height": 423
        },
        "id": "KZMrYa4W6RL1",
        "outputId": "a44bf398-080b-45cc-8713-ee4d5f329c00"
      },
      "execution_count": 118,
      "outputs": [
        {
          "output_type": "execute_result",
          "data": {
            "text/html": [
              "\n",
              "  <div id=\"df-97a0dd7f-1e4a-4fd5-bea6-04c2d8dc8090\">\n",
              "    <div class=\"colab-df-container\">\n",
              "      <div>\n",
              "<style scoped>\n",
              "    .dataframe tbody tr th:only-of-type {\n",
              "        vertical-align: middle;\n",
              "    }\n",
              "\n",
              "    .dataframe tbody tr th {\n",
              "        vertical-align: top;\n",
              "    }\n",
              "\n",
              "    .dataframe thead th {\n",
              "        text-align: right;\n",
              "    }\n",
              "</style>\n",
              "<table border=\"1\" class=\"dataframe\">\n",
              "  <thead>\n",
              "    <tr style=\"text-align: right;\">\n",
              "      <th></th>\n",
              "      <th>age</th>\n",
              "      <th>sex</th>\n",
              "      <th>bmi</th>\n",
              "      <th>children</th>\n",
              "      <th>smoker</th>\n",
              "      <th>region</th>\n",
              "      <th>charges</th>\n",
              "    </tr>\n",
              "  </thead>\n",
              "  <tbody>\n",
              "    <tr>\n",
              "      <th>0</th>\n",
              "      <td>19</td>\n",
              "      <td>female</td>\n",
              "      <td>27.900</td>\n",
              "      <td>0</td>\n",
              "      <td>yes</td>\n",
              "      <td>southwest</td>\n",
              "      <td>16884.92400</td>\n",
              "    </tr>\n",
              "    <tr>\n",
              "      <th>1</th>\n",
              "      <td>18</td>\n",
              "      <td>male</td>\n",
              "      <td>33.770</td>\n",
              "      <td>1</td>\n",
              "      <td>no</td>\n",
              "      <td>southeast</td>\n",
              "      <td>1725.55230</td>\n",
              "    </tr>\n",
              "    <tr>\n",
              "      <th>2</th>\n",
              "      <td>28</td>\n",
              "      <td>male</td>\n",
              "      <td>33.000</td>\n",
              "      <td>3</td>\n",
              "      <td>no</td>\n",
              "      <td>southeast</td>\n",
              "      <td>4449.46200</td>\n",
              "    </tr>\n",
              "    <tr>\n",
              "      <th>3</th>\n",
              "      <td>33</td>\n",
              "      <td>male</td>\n",
              "      <td>22.705</td>\n",
              "      <td>0</td>\n",
              "      <td>no</td>\n",
              "      <td>northwest</td>\n",
              "      <td>21984.47061</td>\n",
              "    </tr>\n",
              "    <tr>\n",
              "      <th>4</th>\n",
              "      <td>32</td>\n",
              "      <td>male</td>\n",
              "      <td>28.880</td>\n",
              "      <td>0</td>\n",
              "      <td>no</td>\n",
              "      <td>northwest</td>\n",
              "      <td>3866.85520</td>\n",
              "    </tr>\n",
              "    <tr>\n",
              "      <th>...</th>\n",
              "      <td>...</td>\n",
              "      <td>...</td>\n",
              "      <td>...</td>\n",
              "      <td>...</td>\n",
              "      <td>...</td>\n",
              "      <td>...</td>\n",
              "      <td>...</td>\n",
              "    </tr>\n",
              "    <tr>\n",
              "      <th>1333</th>\n",
              "      <td>50</td>\n",
              "      <td>male</td>\n",
              "      <td>30.970</td>\n",
              "      <td>3</td>\n",
              "      <td>no</td>\n",
              "      <td>northwest</td>\n",
              "      <td>10600.54830</td>\n",
              "    </tr>\n",
              "    <tr>\n",
              "      <th>1334</th>\n",
              "      <td>18</td>\n",
              "      <td>female</td>\n",
              "      <td>31.920</td>\n",
              "      <td>0</td>\n",
              "      <td>no</td>\n",
              "      <td>northeast</td>\n",
              "      <td>2205.98080</td>\n",
              "    </tr>\n",
              "    <tr>\n",
              "      <th>1335</th>\n",
              "      <td>18</td>\n",
              "      <td>female</td>\n",
              "      <td>36.850</td>\n",
              "      <td>0</td>\n",
              "      <td>no</td>\n",
              "      <td>southeast</td>\n",
              "      <td>1629.83350</td>\n",
              "    </tr>\n",
              "    <tr>\n",
              "      <th>1336</th>\n",
              "      <td>21</td>\n",
              "      <td>female</td>\n",
              "      <td>25.800</td>\n",
              "      <td>0</td>\n",
              "      <td>no</td>\n",
              "      <td>southwest</td>\n",
              "      <td>2007.94500</td>\n",
              "    </tr>\n",
              "    <tr>\n",
              "      <th>1337</th>\n",
              "      <td>61</td>\n",
              "      <td>female</td>\n",
              "      <td>29.070</td>\n",
              "      <td>0</td>\n",
              "      <td>yes</td>\n",
              "      <td>northwest</td>\n",
              "      <td>29141.36030</td>\n",
              "    </tr>\n",
              "  </tbody>\n",
              "</table>\n",
              "<p>1338 rows × 7 columns</p>\n",
              "</div>\n",
              "      <button class=\"colab-df-convert\" onclick=\"convertToInteractive('df-97a0dd7f-1e4a-4fd5-bea6-04c2d8dc8090')\"\n",
              "              title=\"Convert this dataframe to an interactive table.\"\n",
              "              style=\"display:none;\">\n",
              "        \n",
              "  <svg xmlns=\"http://www.w3.org/2000/svg\" height=\"24px\"viewBox=\"0 0 24 24\"\n",
              "       width=\"24px\">\n",
              "    <path d=\"M0 0h24v24H0V0z\" fill=\"none\"/>\n",
              "    <path d=\"M18.56 5.44l.94 2.06.94-2.06 2.06-.94-2.06-.94-.94-2.06-.94 2.06-2.06.94zm-11 1L8.5 8.5l.94-2.06 2.06-.94-2.06-.94L8.5 2.5l-.94 2.06-2.06.94zm10 10l.94 2.06.94-2.06 2.06-.94-2.06-.94-.94-2.06-.94 2.06-2.06.94z\"/><path d=\"M17.41 7.96l-1.37-1.37c-.4-.4-.92-.59-1.43-.59-.52 0-1.04.2-1.43.59L10.3 9.45l-7.72 7.72c-.78.78-.78 2.05 0 2.83L4 21.41c.39.39.9.59 1.41.59.51 0 1.02-.2 1.41-.59l7.78-7.78 2.81-2.81c.8-.78.8-2.07 0-2.86zM5.41 20L4 18.59l7.72-7.72 1.47 1.35L5.41 20z\"/>\n",
              "  </svg>\n",
              "      </button>\n",
              "      \n",
              "  <style>\n",
              "    .colab-df-container {\n",
              "      display:flex;\n",
              "      flex-wrap:wrap;\n",
              "      gap: 12px;\n",
              "    }\n",
              "\n",
              "    .colab-df-convert {\n",
              "      background-color: #E8F0FE;\n",
              "      border: none;\n",
              "      border-radius: 50%;\n",
              "      cursor: pointer;\n",
              "      display: none;\n",
              "      fill: #1967D2;\n",
              "      height: 32px;\n",
              "      padding: 0 0 0 0;\n",
              "      width: 32px;\n",
              "    }\n",
              "\n",
              "    .colab-df-convert:hover {\n",
              "      background-color: #E2EBFA;\n",
              "      box-shadow: 0px 1px 2px rgba(60, 64, 67, 0.3), 0px 1px 3px 1px rgba(60, 64, 67, 0.15);\n",
              "      fill: #174EA6;\n",
              "    }\n",
              "\n",
              "    [theme=dark] .colab-df-convert {\n",
              "      background-color: #3B4455;\n",
              "      fill: #D2E3FC;\n",
              "    }\n",
              "\n",
              "    [theme=dark] .colab-df-convert:hover {\n",
              "      background-color: #434B5C;\n",
              "      box-shadow: 0px 1px 3px 1px rgba(0, 0, 0, 0.15);\n",
              "      filter: drop-shadow(0px 1px 2px rgba(0, 0, 0, 0.3));\n",
              "      fill: #FFFFFF;\n",
              "    }\n",
              "  </style>\n",
              "\n",
              "      <script>\n",
              "        const buttonEl =\n",
              "          document.querySelector('#df-97a0dd7f-1e4a-4fd5-bea6-04c2d8dc8090 button.colab-df-convert');\n",
              "        buttonEl.style.display =\n",
              "          google.colab.kernel.accessAllowed ? 'block' : 'none';\n",
              "\n",
              "        async function convertToInteractive(key) {\n",
              "          const element = document.querySelector('#df-97a0dd7f-1e4a-4fd5-bea6-04c2d8dc8090');\n",
              "          const dataTable =\n",
              "            await google.colab.kernel.invokeFunction('convertToInteractive',\n",
              "                                                     [key], {});\n",
              "          if (!dataTable) return;\n",
              "\n",
              "          const docLinkHtml = 'Like what you see? Visit the ' +\n",
              "            '<a target=\"_blank\" href=https://colab.research.google.com/notebooks/data_table.ipynb>data table notebook</a>'\n",
              "            + ' to learn more about interactive tables.';\n",
              "          element.innerHTML = '';\n",
              "          dataTable['output_type'] = 'display_data';\n",
              "          await google.colab.output.renderOutput(dataTable, element);\n",
              "          const docLink = document.createElement('div');\n",
              "          docLink.innerHTML = docLinkHtml;\n",
              "          element.appendChild(docLink);\n",
              "        }\n",
              "      </script>\n",
              "    </div>\n",
              "  </div>\n",
              "  "
            ],
            "text/plain": [
              "      age     sex     bmi  children smoker     region      charges\n",
              "0      19  female  27.900         0    yes  southwest  16884.92400\n",
              "1      18    male  33.770         1     no  southeast   1725.55230\n",
              "2      28    male  33.000         3     no  southeast   4449.46200\n",
              "3      33    male  22.705         0     no  northwest  21984.47061\n",
              "4      32    male  28.880         0     no  northwest   3866.85520\n",
              "...   ...     ...     ...       ...    ...        ...          ...\n",
              "1333   50    male  30.970         3     no  northwest  10600.54830\n",
              "1334   18  female  31.920         0     no  northeast   2205.98080\n",
              "1335   18  female  36.850         0     no  southeast   1629.83350\n",
              "1336   21  female  25.800         0     no  southwest   2007.94500\n",
              "1337   61  female  29.070         0    yes  northwest  29141.36030\n",
              "\n",
              "[1338 rows x 7 columns]"
            ]
          },
          "metadata": {},
          "execution_count": 118
        }
      ]
    },
    {
      "cell_type": "code",
      "source": [
        "data.sex.unique()"
      ],
      "metadata": {
        "colab": {
          "base_uri": "https://localhost:8080/"
        },
        "id": "1-Thg8696V1b",
        "outputId": "21756185-ef8c-45e4-e2dc-e0a46dce85aa"
      },
      "execution_count": 119,
      "outputs": [
        {
          "output_type": "execute_result",
          "data": {
            "text/plain": [
              "array(['female', 'male'], dtype=object)"
            ]
          },
          "metadata": {},
          "execution_count": 119
        }
      ]
    },
    {
      "cell_type": "code",
      "source": [
        "data['sex'] = data['sex'].map({'female':1 , 'male':0})"
      ],
      "metadata": {
        "id": "a0vsXj0L8iq3"
      },
      "execution_count": 120,
      "outputs": []
    },
    {
      "cell_type": "code",
      "source": [
        "data.region.unique()"
      ],
      "metadata": {
        "colab": {
          "base_uri": "https://localhost:8080/"
        },
        "id": "8l_UTv2Z6xpF",
        "outputId": "9694c920-887f-4144-da38-6441bb873dbb"
      },
      "execution_count": 121,
      "outputs": [
        {
          "output_type": "execute_result",
          "data": {
            "text/plain": [
              "array(['southwest', 'southeast', 'northwest', 'northeast'], dtype=object)"
            ]
          },
          "metadata": {},
          "execution_count": 121
        }
      ]
    },
    {
      "cell_type": "code",
      "source": [
        "data['region'] = data['region'].map({'southwest':0, 'southeast':1, 'northwest':2, 'northeast':3})"
      ],
      "metadata": {
        "id": "cjqPdZyA8pf9"
      },
      "execution_count": 122,
      "outputs": []
    },
    {
      "cell_type": "code",
      "source": [
        "data.smoker.unique()"
      ],
      "metadata": {
        "colab": {
          "base_uri": "https://localhost:8080/"
        },
        "id": "n5prMfjo7t0l",
        "outputId": "9eff1a83-38c0-4d8f-87ee-5b754e05ba63"
      },
      "execution_count": 123,
      "outputs": [
        {
          "output_type": "execute_result",
          "data": {
            "text/plain": [
              "array(['yes', 'no'], dtype=object)"
            ]
          },
          "metadata": {},
          "execution_count": 123
        }
      ]
    },
    {
      "cell_type": "code",
      "source": [
        "data['smoker'] = data['smoker'].map({'yes':1 , 'no':0})"
      ],
      "metadata": {
        "id": "W782TkO58p_v"
      },
      "execution_count": 124,
      "outputs": []
    },
    {
      "cell_type": "code",
      "source": [
        "data"
      ],
      "metadata": {
        "colab": {
          "base_uri": "https://localhost:8080/",
          "height": 423
        },
        "id": "kf9g4Bdv7w9t",
        "outputId": "0671a3e5-8214-4d58-9667-efc76b2d067a"
      },
      "execution_count": 125,
      "outputs": [
        {
          "output_type": "execute_result",
          "data": {
            "text/html": [
              "\n",
              "  <div id=\"df-797461fc-2e5a-49bd-af22-a36fd8702722\">\n",
              "    <div class=\"colab-df-container\">\n",
              "      <div>\n",
              "<style scoped>\n",
              "    .dataframe tbody tr th:only-of-type {\n",
              "        vertical-align: middle;\n",
              "    }\n",
              "\n",
              "    .dataframe tbody tr th {\n",
              "        vertical-align: top;\n",
              "    }\n",
              "\n",
              "    .dataframe thead th {\n",
              "        text-align: right;\n",
              "    }\n",
              "</style>\n",
              "<table border=\"1\" class=\"dataframe\">\n",
              "  <thead>\n",
              "    <tr style=\"text-align: right;\">\n",
              "      <th></th>\n",
              "      <th>age</th>\n",
              "      <th>sex</th>\n",
              "      <th>bmi</th>\n",
              "      <th>children</th>\n",
              "      <th>smoker</th>\n",
              "      <th>region</th>\n",
              "      <th>charges</th>\n",
              "    </tr>\n",
              "  </thead>\n",
              "  <tbody>\n",
              "    <tr>\n",
              "      <th>0</th>\n",
              "      <td>19</td>\n",
              "      <td>1</td>\n",
              "      <td>27.900</td>\n",
              "      <td>0</td>\n",
              "      <td>1</td>\n",
              "      <td>0</td>\n",
              "      <td>16884.92400</td>\n",
              "    </tr>\n",
              "    <tr>\n",
              "      <th>1</th>\n",
              "      <td>18</td>\n",
              "      <td>0</td>\n",
              "      <td>33.770</td>\n",
              "      <td>1</td>\n",
              "      <td>0</td>\n",
              "      <td>1</td>\n",
              "      <td>1725.55230</td>\n",
              "    </tr>\n",
              "    <tr>\n",
              "      <th>2</th>\n",
              "      <td>28</td>\n",
              "      <td>0</td>\n",
              "      <td>33.000</td>\n",
              "      <td>3</td>\n",
              "      <td>0</td>\n",
              "      <td>1</td>\n",
              "      <td>4449.46200</td>\n",
              "    </tr>\n",
              "    <tr>\n",
              "      <th>3</th>\n",
              "      <td>33</td>\n",
              "      <td>0</td>\n",
              "      <td>22.705</td>\n",
              "      <td>0</td>\n",
              "      <td>0</td>\n",
              "      <td>2</td>\n",
              "      <td>21984.47061</td>\n",
              "    </tr>\n",
              "    <tr>\n",
              "      <th>4</th>\n",
              "      <td>32</td>\n",
              "      <td>0</td>\n",
              "      <td>28.880</td>\n",
              "      <td>0</td>\n",
              "      <td>0</td>\n",
              "      <td>2</td>\n",
              "      <td>3866.85520</td>\n",
              "    </tr>\n",
              "    <tr>\n",
              "      <th>...</th>\n",
              "      <td>...</td>\n",
              "      <td>...</td>\n",
              "      <td>...</td>\n",
              "      <td>...</td>\n",
              "      <td>...</td>\n",
              "      <td>...</td>\n",
              "      <td>...</td>\n",
              "    </tr>\n",
              "    <tr>\n",
              "      <th>1333</th>\n",
              "      <td>50</td>\n",
              "      <td>0</td>\n",
              "      <td>30.970</td>\n",
              "      <td>3</td>\n",
              "      <td>0</td>\n",
              "      <td>2</td>\n",
              "      <td>10600.54830</td>\n",
              "    </tr>\n",
              "    <tr>\n",
              "      <th>1334</th>\n",
              "      <td>18</td>\n",
              "      <td>1</td>\n",
              "      <td>31.920</td>\n",
              "      <td>0</td>\n",
              "      <td>0</td>\n",
              "      <td>3</td>\n",
              "      <td>2205.98080</td>\n",
              "    </tr>\n",
              "    <tr>\n",
              "      <th>1335</th>\n",
              "      <td>18</td>\n",
              "      <td>1</td>\n",
              "      <td>36.850</td>\n",
              "      <td>0</td>\n",
              "      <td>0</td>\n",
              "      <td>1</td>\n",
              "      <td>1629.83350</td>\n",
              "    </tr>\n",
              "    <tr>\n",
              "      <th>1336</th>\n",
              "      <td>21</td>\n",
              "      <td>1</td>\n",
              "      <td>25.800</td>\n",
              "      <td>0</td>\n",
              "      <td>0</td>\n",
              "      <td>0</td>\n",
              "      <td>2007.94500</td>\n",
              "    </tr>\n",
              "    <tr>\n",
              "      <th>1337</th>\n",
              "      <td>61</td>\n",
              "      <td>1</td>\n",
              "      <td>29.070</td>\n",
              "      <td>0</td>\n",
              "      <td>1</td>\n",
              "      <td>2</td>\n",
              "      <td>29141.36030</td>\n",
              "    </tr>\n",
              "  </tbody>\n",
              "</table>\n",
              "<p>1338 rows × 7 columns</p>\n",
              "</div>\n",
              "      <button class=\"colab-df-convert\" onclick=\"convertToInteractive('df-797461fc-2e5a-49bd-af22-a36fd8702722')\"\n",
              "              title=\"Convert this dataframe to an interactive table.\"\n",
              "              style=\"display:none;\">\n",
              "        \n",
              "  <svg xmlns=\"http://www.w3.org/2000/svg\" height=\"24px\"viewBox=\"0 0 24 24\"\n",
              "       width=\"24px\">\n",
              "    <path d=\"M0 0h24v24H0V0z\" fill=\"none\"/>\n",
              "    <path d=\"M18.56 5.44l.94 2.06.94-2.06 2.06-.94-2.06-.94-.94-2.06-.94 2.06-2.06.94zm-11 1L8.5 8.5l.94-2.06 2.06-.94-2.06-.94L8.5 2.5l-.94 2.06-2.06.94zm10 10l.94 2.06.94-2.06 2.06-.94-2.06-.94-.94-2.06-.94 2.06-2.06.94z\"/><path d=\"M17.41 7.96l-1.37-1.37c-.4-.4-.92-.59-1.43-.59-.52 0-1.04.2-1.43.59L10.3 9.45l-7.72 7.72c-.78.78-.78 2.05 0 2.83L4 21.41c.39.39.9.59 1.41.59.51 0 1.02-.2 1.41-.59l7.78-7.78 2.81-2.81c.8-.78.8-2.07 0-2.86zM5.41 20L4 18.59l7.72-7.72 1.47 1.35L5.41 20z\"/>\n",
              "  </svg>\n",
              "      </button>\n",
              "      \n",
              "  <style>\n",
              "    .colab-df-container {\n",
              "      display:flex;\n",
              "      flex-wrap:wrap;\n",
              "      gap: 12px;\n",
              "    }\n",
              "\n",
              "    .colab-df-convert {\n",
              "      background-color: #E8F0FE;\n",
              "      border: none;\n",
              "      border-radius: 50%;\n",
              "      cursor: pointer;\n",
              "      display: none;\n",
              "      fill: #1967D2;\n",
              "      height: 32px;\n",
              "      padding: 0 0 0 0;\n",
              "      width: 32px;\n",
              "    }\n",
              "\n",
              "    .colab-df-convert:hover {\n",
              "      background-color: #E2EBFA;\n",
              "      box-shadow: 0px 1px 2px rgba(60, 64, 67, 0.3), 0px 1px 3px 1px rgba(60, 64, 67, 0.15);\n",
              "      fill: #174EA6;\n",
              "    }\n",
              "\n",
              "    [theme=dark] .colab-df-convert {\n",
              "      background-color: #3B4455;\n",
              "      fill: #D2E3FC;\n",
              "    }\n",
              "\n",
              "    [theme=dark] .colab-df-convert:hover {\n",
              "      background-color: #434B5C;\n",
              "      box-shadow: 0px 1px 3px 1px rgba(0, 0, 0, 0.15);\n",
              "      filter: drop-shadow(0px 1px 2px rgba(0, 0, 0, 0.3));\n",
              "      fill: #FFFFFF;\n",
              "    }\n",
              "  </style>\n",
              "\n",
              "      <script>\n",
              "        const buttonEl =\n",
              "          document.querySelector('#df-797461fc-2e5a-49bd-af22-a36fd8702722 button.colab-df-convert');\n",
              "        buttonEl.style.display =\n",
              "          google.colab.kernel.accessAllowed ? 'block' : 'none';\n",
              "\n",
              "        async function convertToInteractive(key) {\n",
              "          const element = document.querySelector('#df-797461fc-2e5a-49bd-af22-a36fd8702722');\n",
              "          const dataTable =\n",
              "            await google.colab.kernel.invokeFunction('convertToInteractive',\n",
              "                                                     [key], {});\n",
              "          if (!dataTable) return;\n",
              "\n",
              "          const docLinkHtml = 'Like what you see? Visit the ' +\n",
              "            '<a target=\"_blank\" href=https://colab.research.google.com/notebooks/data_table.ipynb>data table notebook</a>'\n",
              "            + ' to learn more about interactive tables.';\n",
              "          element.innerHTML = '';\n",
              "          dataTable['output_type'] = 'display_data';\n",
              "          await google.colab.output.renderOutput(dataTable, element);\n",
              "          const docLink = document.createElement('div');\n",
              "          docLink.innerHTML = docLinkHtml;\n",
              "          element.appendChild(docLink);\n",
              "        }\n",
              "      </script>\n",
              "    </div>\n",
              "  </div>\n",
              "  "
            ],
            "text/plain": [
              "      age  sex     bmi  children  smoker  region      charges\n",
              "0      19    1  27.900         0       1       0  16884.92400\n",
              "1      18    0  33.770         1       0       1   1725.55230\n",
              "2      28    0  33.000         3       0       1   4449.46200\n",
              "3      33    0  22.705         0       0       2  21984.47061\n",
              "4      32    0  28.880         0       0       2   3866.85520\n",
              "...   ...  ...     ...       ...     ...     ...          ...\n",
              "1333   50    0  30.970         3       0       2  10600.54830\n",
              "1334   18    1  31.920         0       0       3   2205.98080\n",
              "1335   18    1  36.850         0       0       1   1629.83350\n",
              "1336   21    1  25.800         0       0       0   2007.94500\n",
              "1337   61    1  29.070         0       1       2  29141.36030\n",
              "\n",
              "[1338 rows x 7 columns]"
            ]
          },
          "metadata": {},
          "execution_count": 125
        }
      ]
    },
    {
      "cell_type": "code",
      "source": [
        "# for i in ['age','bmi']:\n",
        "#   data[i] = stats.zscore(data[i])\n",
        "\n",
        "# data"
      ],
      "metadata": {
        "id": "kI-kqJVj_1Og"
      },
      "execution_count": 126,
      "outputs": []
    },
    {
      "cell_type": "code",
      "source": [
        "X = data.iloc[:,:-1]\n",
        "y = data.iloc[:,-1]"
      ],
      "metadata": {
        "id": "sVGiYny8-Do1"
      },
      "execution_count": 127,
      "outputs": []
    },
    {
      "cell_type": "code",
      "source": [
        "X_train, X_test, y_train, y_test = train_test_split(X, y, test_size=0.2) "
      ],
      "metadata": {
        "id": "Q-MuS-GL98yp"
      },
      "execution_count": 128,
      "outputs": []
    },
    {
      "cell_type": "code",
      "source": [
        "# X_trainT = tf.constant(X_train)\n",
        "# X_testT = tf.constant(X_test)\n",
        "# y_trainT = tf.constant(y_train)\n",
        "# y_testT = tf.constant(y_test)"
      ],
      "metadata": {
        "id": "NcaNyB309wf2"
      },
      "execution_count": 129,
      "outputs": []
    },
    {
      "cell_type": "code",
      "source": [
        "regmodel = tf.keras.Sequential([\n",
        "                             tf.keras.layers.Dense(128,activation='relu'),\n",
        "                             tf.keras.layers.Dense(256,activation='relu'),\n",
        "                             tf.keras.layers.Dense(128,activation='relu'),\n",
        "                             tf.keras.layers.Dense(1)\n",
        "])\n",
        "\n",
        "regmodel.compile(loss = tf.keras.losses.mae,\n",
        "              optimizer = tf.keras.optimizers.Adam(learning_rate = 0.001),\n",
        "              metrics= ['mae'])\n",
        "\n",
        "history = regmodel.fit(X_train, y_train, epochs = 100,verbose=0)"
      ],
      "metadata": {
        "id": "neKn4__l86eF"
      },
      "execution_count": 130,
      "outputs": []
    },
    {
      "cell_type": "code",
      "source": [
        "regmodel.summary()"
      ],
      "metadata": {
        "colab": {
          "base_uri": "https://localhost:8080/"
        },
        "id": "sZIycPiv-8_f",
        "outputId": "92ec53dc-95a8-4e86-b23e-a70b5bef6d78"
      },
      "execution_count": 131,
      "outputs": [
        {
          "output_type": "stream",
          "name": "stdout",
          "text": [
            "Model: \"sequential_6\"\n",
            "_________________________________________________________________\n",
            " Layer (type)                Output Shape              Param #   \n",
            "=================================================================\n",
            " dense_24 (Dense)            (None, 128)               896       \n",
            "                                                                 \n",
            " dense_25 (Dense)            (None, 256)               33024     \n",
            "                                                                 \n",
            " dense_26 (Dense)            (None, 128)               32896     \n",
            "                                                                 \n",
            " dense_27 (Dense)            (None, 1)                 129       \n",
            "                                                                 \n",
            "=================================================================\n",
            "Total params: 66,945\n",
            "Trainable params: 66,945\n",
            "Non-trainable params: 0\n",
            "_________________________________________________________________\n"
          ]
        }
      ]
    },
    {
      "cell_type": "code",
      "source": [
        "regmodel.evaluate(X_train,y_train)"
      ],
      "metadata": {
        "colab": {
          "base_uri": "https://localhost:8080/"
        },
        "id": "c3fUNuaYDnvK",
        "outputId": "a6dad034-be03-4f0d-c197-bfa5a29a7491"
      },
      "execution_count": 132,
      "outputs": [
        {
          "output_type": "stream",
          "name": "stdout",
          "text": [
            "34/34 [==============================] - 0s 4ms/step - loss: 3079.5310 - mae: 3079.5310\n"
          ]
        },
        {
          "output_type": "execute_result",
          "data": {
            "text/plain": [
              "[3079.531005859375, 3079.531005859375]"
            ]
          },
          "metadata": {},
          "execution_count": 132
        }
      ]
    },
    {
      "cell_type": "code",
      "source": [
        "regmodel.evaluate(X_test,y_test)"
      ],
      "metadata": {
        "colab": {
          "base_uri": "https://localhost:8080/"
        },
        "id": "KAao1YxDGk9s",
        "outputId": "2c27884c-0505-4ab8-bf59-344545a01cf5"
      },
      "execution_count": 133,
      "outputs": [
        {
          "output_type": "stream",
          "name": "stdout",
          "text": [
            "9/9 [==============================] - 0s 4ms/step - loss: 2916.0037 - mae: 2916.0037\n"
          ]
        },
        {
          "output_type": "execute_result",
          "data": {
            "text/plain": [
              "[2916.003662109375, 2916.003662109375]"
            ]
          },
          "metadata": {},
          "execution_count": 133
        }
      ]
    },
    {
      "cell_type": "code",
      "source": [
        ""
      ],
      "metadata": {
        "id": "IP4AHP70_GPB"
      },
      "execution_count": 133,
      "outputs": []
    },
    {
      "cell_type": "code",
      "source": [
        "y_test_pred = regmodel.predict(X_test)\n",
        "y_train_pred = regmodel.predict(X_train)"
      ],
      "metadata": {
        "id": "KgkU_iHXHbck"
      },
      "execution_count": 134,
      "outputs": []
    },
    {
      "cell_type": "code",
      "source": [
        "y_train.to_numpy()"
      ],
      "metadata": {
        "colab": {
          "base_uri": "https://localhost:8080/"
        },
        "id": "MUHvRsbEITDO",
        "outputId": "b7d34324-90de-4fc0-b6f9-26f720f2ada5"
      },
      "execution_count": 135,
      "outputs": [
        {
          "output_type": "execute_result",
          "data": {
            "text/plain": [
              "array([18767.7377 ,  1708.92575,  2007.945  , ..., 17904.52705,\n",
              "       12890.05765,  9193.8385 ])"
            ]
          },
          "metadata": {},
          "execution_count": 135
        }
      ]
    },
    {
      "cell_type": "code",
      "source": [
        "np.corrcoef(y_train_pred.squeeze(),y_train.to_numpy())[0][1]"
      ],
      "metadata": {
        "colab": {
          "base_uri": "https://localhost:8080/"
        },
        "id": "qpsA_z6rIADV",
        "outputId": "6aeead1b-7b3b-48e3-a58f-f84a65008974"
      },
      "execution_count": 136,
      "outputs": [
        {
          "output_type": "execute_result",
          "data": {
            "text/plain": [
              "0.8637755890140719"
            ]
          },
          "metadata": {},
          "execution_count": 136
        }
      ]
    },
    {
      "cell_type": "code",
      "source": [
        "plt.scatter(y_train_pred,y_train)"
      ],
      "metadata": {
        "colab": {
          "base_uri": "https://localhost:8080/",
          "height": 369
        },
        "id": "5p08m77WH5kq",
        "outputId": "9130618d-f7d5-459f-92aa-05e24269185d"
      },
      "execution_count": 137,
      "outputs": [
        {
          "output_type": "execute_result",
          "data": {
            "text/plain": [
              "<matplotlib.collections.PathCollection at 0x7f15d1000dd0>"
            ]
          },
          "metadata": {},
          "execution_count": 137
        },
        {
          "output_type": "display_data",
          "data": {
            "text/plain": [
              "<Figure size 432x288 with 1 Axes>"
            ],
            "image/svg+xml": "<?xml version=\"1.0\" encoding=\"utf-8\" standalone=\"no\"?>\n<!DOCTYPE svg PUBLIC \"-//W3C//DTD SVG 1.1//EN\"\n  \"http://www.w3.org/Graphics/SVG/1.1/DTD/svg11.dtd\">\n<!-- Created with matplotlib (https://matplotlib.org/) -->\n<svg height=\"248.518125pt\" version=\"1.1\" viewBox=\"0 0 388.0125 248.518125\" width=\"388.0125pt\" xmlns=\"http://www.w3.org/2000/svg\" xmlns:xlink=\"http://www.w3.org/1999/xlink\">\n <defs>\n  <style type=\"text/css\">\n*{stroke-linecap:butt;stroke-linejoin:round;}\n  </style>\n </defs>\n <g id=\"figure_1\">\n  <g id=\"patch_1\">\n   <path d=\"M 0 248.518125 \nL 388.0125 248.518125 \nL 388.0125 0 \nL 0 0 \nz\n\" style=\"fill:none;\"/>\n  </g>\n  <g id=\"axes_1\">\n   <g id=\"patch_2\">\n    <path d=\"M 46.0125 224.64 \nL 380.8125 224.64 \nL 380.8125 7.2 \nL 46.0125 7.2 \nz\n\" style=\"fill:#ffffff;\"/>\n   </g>\n   <g id=\"PathCollection_1\">\n    <defs>\n     <path d=\"M 0 3 \nC 0.795609 3 1.55874 2.683901 2.12132 2.12132 \nC 2.683901 1.55874 3 0.795609 3 0 \nC 3 -0.795609 2.683901 -1.55874 2.12132 -2.12132 \nC 1.55874 -2.683901 0.795609 -3 0 -3 \nC -0.795609 -3 -1.55874 -2.683901 -2.12132 -2.12132 \nC -2.683901 -1.55874 -3 -0.795609 -3 0 \nC -3 0.795609 -2.683901 1.55874 -2.12132 2.12132 \nC -1.55874 2.683901 -0.795609 3 0 3 \nz\n\" id=\"m2468d9ad80\" style=\"stroke:#1f77b4;\"/>\n    </defs>\n    <g clip-path=\"url(#pc3f7244790)\">\n     <use style=\"fill:#1f77b4;stroke:#1f77b4;\" x=\"311.348535\" xlink:href=\"#m2468d9ad80\" y=\"158.012434\"/>\n     <use style=\"fill:#1f77b4;stroke:#1f77b4;\" x=\"67.124204\" xlink:href=\"#m2468d9ad80\" y=\"212.868577\"/>\n     <use style=\"fill:#1f77b4;stroke:#1f77b4;\" x=\"68.160809\" xlink:href=\"#m2468d9ad80\" y=\"211.907019\"/>\n     <use style=\"fill:#1f77b4;stroke:#1f77b4;\" x=\"124.254932\" xlink:href=\"#m2468d9ad80\" y=\"188.180836\"/>\n     <use style=\"fill:#1f77b4;stroke:#1f77b4;\" x=\"328.110782\" xlink:href=\"#m2468d9ad80\" y=\"94.83107\"/>\n     <use style=\"fill:#1f77b4;stroke:#1f77b4;\" x=\"115.05129\" xlink:href=\"#m2468d9ad80\" y=\"192.263116\"/>\n     <use style=\"fill:#1f77b4;stroke:#1f77b4;\" x=\"112.79275\" xlink:href=\"#m2468d9ad80\" y=\"193.467624\"/>\n     <use style=\"fill:#1f77b4;stroke:#1f77b4;\" x=\"81.465774\" xlink:href=\"#m2468d9ad80\" y=\"171.973954\"/>\n     <use style=\"fill:#1f77b4;stroke:#1f77b4;\" x=\"160.043492\" xlink:href=\"#m2468d9ad80\" y=\"169.581483\"/>\n     <use style=\"fill:#1f77b4;stroke:#1f77b4;\" x=\"329.654005\" xlink:href=\"#m2468d9ad80\" y=\"86.409945\"/>\n     <use style=\"fill:#1f77b4;stroke:#1f77b4;\" x=\"359.316459\" xlink:href=\"#m2468d9ad80\" y=\"64.241476\"/>\n     <use style=\"fill:#1f77b4;stroke:#1f77b4;\" x=\"331.194687\" xlink:href=\"#m2468d9ad80\" y=\"82.945203\"/>\n     <use style=\"fill:#1f77b4;stroke:#1f77b4;\" x=\"61.712522\" xlink:href=\"#m2468d9ad80\" y=\"214.756364\"/>\n     <use style=\"fill:#1f77b4;stroke:#1f77b4;\" x=\"137.904324\" xlink:href=\"#m2468d9ad80\" y=\"180.598929\"/>\n     <use style=\"fill:#1f77b4;stroke:#1f77b4;\" x=\"144.984713\" xlink:href=\"#m2468d9ad80\" y=\"176.720346\"/>\n     <use style=\"fill:#1f77b4;stroke:#1f77b4;\" x=\"122.102488\" xlink:href=\"#m2468d9ad80\" y=\"188.957739\"/>\n     <use style=\"fill:#1f77b4;stroke:#1f77b4;\" x=\"78.494867\" xlink:href=\"#m2468d9ad80\" y=\"140.995098\"/>\n     <use style=\"fill:#1f77b4;stroke:#1f77b4;\" x=\"149.311467\" xlink:href=\"#m2468d9ad80\" y=\"175.04582\"/>\n     <use style=\"fill:#1f77b4;stroke:#1f77b4;\" x=\"105.814826\" xlink:href=\"#m2468d9ad80\" y=\"196.30912\"/>\n     <use style=\"fill:#1f77b4;stroke:#1f77b4;\" x=\"77.381362\" xlink:href=\"#m2468d9ad80\" y=\"209.181731\"/>\n     <use style=\"fill:#1f77b4;stroke:#1f77b4;\" x=\"107.550853\" xlink:href=\"#m2468d9ad80\" y=\"196.498916\"/>\n     <use style=\"fill:#1f77b4;stroke:#1f77b4;\" x=\"80.701649\" xlink:href=\"#m2468d9ad80\" y=\"207.986505\"/>\n     <use style=\"fill:#1f77b4;stroke:#1f77b4;\" x=\"109.094941\" xlink:href=\"#m2468d9ad80\" y=\"194.499594\"/>\n     <use style=\"fill:#1f77b4;stroke:#1f77b4;\" x=\"338.948668\" xlink:href=\"#m2468d9ad80\" y=\"129.822983\"/>\n     <use style=\"fill:#1f77b4;stroke:#1f77b4;\" x=\"118.152661\" xlink:href=\"#m2468d9ad80\" y=\"191.214837\"/>\n     <use style=\"fill:#1f77b4;stroke:#1f77b4;\" x=\"151.667882\" xlink:href=\"#m2468d9ad80\" y=\"172.520241\"/>\n     <use style=\"fill:#1f77b4;stroke:#1f77b4;\" x=\"80.846905\" xlink:href=\"#m2468d9ad80\" y=\"207.455129\"/>\n     <use style=\"fill:#1f77b4;stroke:#1f77b4;\" x=\"147.470647\" xlink:href=\"#m2468d9ad80\" y=\"175.109113\"/>\n     <use style=\"fill:#1f77b4;stroke:#1f77b4;\" x=\"75.164197\" xlink:href=\"#m2468d9ad80\" y=\"210.110963\"/>\n     <use style=\"fill:#1f77b4;stroke:#1f77b4;\" x=\"89.289169\" xlink:href=\"#m2468d9ad80\" y=\"205.314269\"/>\n     <use style=\"fill:#1f77b4;stroke:#1f77b4;\" x=\"117.047518\" xlink:href=\"#m2468d9ad80\" y=\"190.902901\"/>\n     <use style=\"fill:#1f77b4;stroke:#1f77b4;\" x=\"108.076458\" xlink:href=\"#m2468d9ad80\" y=\"195.120157\"/>\n     <use style=\"fill:#1f77b4;stroke:#1f77b4;\" x=\"298.738732\" xlink:href=\"#m2468d9ad80\" y=\"159.481999\"/>\n     <use style=\"fill:#1f77b4;stroke:#1f77b4;\" x=\"336.470003\" xlink:href=\"#m2468d9ad80\" y=\"89.149649\"/>\n     <use style=\"fill:#1f77b4;stroke:#1f77b4;\" x=\"94.245232\" xlink:href=\"#m2468d9ad80\" y=\"181.940584\"/>\n     <use style=\"fill:#1f77b4;stroke:#1f77b4;\" x=\"323.086129\" xlink:href=\"#m2468d9ad80\" y=\"93.767053\"/>\n     <use style=\"fill:#1f77b4;stroke:#1f77b4;\" x=\"81.711977\" xlink:href=\"#m2468d9ad80\" y=\"134.694658\"/>\n     <use style=\"fill:#1f77b4;stroke:#1f77b4;\" x=\"333.151077\" xlink:href=\"#m2468d9ad80\" y=\"134.404027\"/>\n     <use style=\"fill:#1f77b4;stroke:#1f77b4;\" x=\"96.022226\" xlink:href=\"#m2468d9ad80\" y=\"203.077678\"/>\n     <use style=\"fill:#1f77b4;stroke:#1f77b4;\" x=\"73.999224\" xlink:href=\"#m2468d9ad80\" y=\"211.253633\"/>\n     <use style=\"fill:#1f77b4;stroke:#1f77b4;\" x=\"93.874108\" xlink:href=\"#m2468d9ad80\" y=\"202.639175\"/>\n     <use style=\"fill:#1f77b4;stroke:#1f77b4;\" x=\"94.315442\" xlink:href=\"#m2468d9ad80\" y=\"201.410208\"/>\n     <use style=\"fill:#1f77b4;stroke:#1f77b4;\" x=\"101.367628\" xlink:href=\"#m2468d9ad80\" y=\"200.004981\"/>\n     <use style=\"fill:#1f77b4;stroke:#1f77b4;\" x=\"150.021395\" xlink:href=\"#m2468d9ad80\" y=\"131.536724\"/>\n     <use style=\"fill:#1f77b4;stroke:#1f77b4;\" x=\"73.199306\" xlink:href=\"#m2468d9ad80\" y=\"211.125955\"/>\n     <use style=\"fill:#1f77b4;stroke:#1f77b4;\" x=\"319.492164\" xlink:href=\"#m2468d9ad80\" y=\"143.112237\"/>\n     <use style=\"fill:#1f77b4;stroke:#1f77b4;\" x=\"315.846822\" xlink:href=\"#m2468d9ad80\" y=\"101.962785\"/>\n     <use style=\"fill:#1f77b4;stroke:#1f77b4;\" x=\"100.735332\" xlink:href=\"#m2468d9ad80\" y=\"199.167101\"/>\n     <use style=\"fill:#1f77b4;stroke:#1f77b4;\" x=\"103.338859\" xlink:href=\"#m2468d9ad80\" y=\"197.233492\"/>\n     <use style=\"fill:#1f77b4;stroke:#1f77b4;\" x=\"338.211712\" xlink:href=\"#m2468d9ad80\" y=\"136.741949\"/>\n     <use style=\"fill:#1f77b4;stroke:#1f77b4;\" x=\"94.34994\" xlink:href=\"#m2468d9ad80\" y=\"201.424221\"/>\n     <use style=\"fill:#1f77b4;stroke:#1f77b4;\" x=\"128.475417\" xlink:href=\"#m2468d9ad80\" y=\"185.462475\"/>\n     <use style=\"fill:#1f77b4;stroke:#1f77b4;\" x=\"118.726513\" xlink:href=\"#m2468d9ad80\" y=\"190.704626\"/>\n     <use style=\"fill:#1f77b4;stroke:#1f77b4;\" x=\"116.311682\" xlink:href=\"#m2468d9ad80\" y=\"190.959716\"/>\n     <use style=\"fill:#1f77b4;stroke:#1f77b4;\" x=\"77.771319\" xlink:href=\"#m2468d9ad80\" y=\"207.498397\"/>\n     <use style=\"fill:#1f77b4;stroke:#1f77b4;\" x=\"121.539656\" xlink:href=\"#m2468d9ad80\" y=\"188.489614\"/>\n     <use style=\"fill:#1f77b4;stroke:#1f77b4;\" x=\"310.452144\" xlink:href=\"#m2468d9ad80\" y=\"154.95122\"/>\n     <use style=\"fill:#1f77b4;stroke:#1f77b4;\" x=\"82.133783\" xlink:href=\"#m2468d9ad80\" y=\"157.784229\"/>\n     <use style=\"fill:#1f77b4;stroke:#1f77b4;\" x=\"282.916156\" xlink:href=\"#m2468d9ad80\" y=\"153.511736\"/>\n     <use style=\"fill:#1f77b4;stroke:#1f77b4;\" x=\"312.973591\" xlink:href=\"#m2468d9ad80\" y=\"148.353722\"/>\n     <use style=\"fill:#1f77b4;stroke:#1f77b4;\" x=\"96.13517\" xlink:href=\"#m2468d9ad80\" y=\"200.3066\"/>\n     <use style=\"fill:#1f77b4;stroke:#1f77b4;\" x=\"139.543702\" xlink:href=\"#m2468d9ad80\" y=\"179.632906\"/>\n     <use style=\"fill:#1f77b4;stroke:#1f77b4;\" x=\"340.143119\" xlink:href=\"#m2468d9ad80\" y=\"83.305828\"/>\n     <use style=\"fill:#1f77b4;stroke:#1f77b4;\" x=\"127.723054\" xlink:href=\"#m2468d9ad80\" y=\"144.256191\"/>\n     <use style=\"fill:#1f77b4;stroke:#1f77b4;\" x=\"308.537043\" xlink:href=\"#m2468d9ad80\" y=\"101.990431\"/>\n     <use style=\"fill:#1f77b4;stroke:#1f77b4;\" x=\"129.48245\" xlink:href=\"#m2468d9ad80\" y=\"184.807868\"/>\n     <use style=\"fill:#1f77b4;stroke:#1f77b4;\" x=\"69.816669\" xlink:href=\"#m2468d9ad80\" y=\"212.03028\"/>\n     <use style=\"fill:#1f77b4;stroke:#1f77b4;\" x=\"81.132038\" xlink:href=\"#m2468d9ad80\" y=\"155.100296\"/>\n     <use style=\"fill:#1f77b4;stroke:#1f77b4;\" x=\"318.597348\" xlink:href=\"#m2468d9ad80\" y=\"99.905478\"/>\n     <use style=\"fill:#1f77b4;stroke:#1f77b4;\" x=\"66.899395\" xlink:href=\"#m2468d9ad80\" y=\"214.709654\"/>\n     <use style=\"fill:#1f77b4;stroke:#1f77b4;\" x=\"130.634279\" xlink:href=\"#m2468d9ad80\" y=\"184.351168\"/>\n     <use style=\"fill:#1f77b4;stroke:#1f77b4;\" x=\"124.846823\" xlink:href=\"#m2468d9ad80\" y=\"187.382129\"/>\n     <use style=\"fill:#1f77b4;stroke:#1f77b4;\" x=\"124.794127\" xlink:href=\"#m2468d9ad80\" y=\"187.098403\"/>\n     <use style=\"fill:#1f77b4;stroke:#1f77b4;\" x=\"93.500476\" xlink:href=\"#m2468d9ad80\" y=\"201.511216\"/>\n     <use style=\"fill:#1f77b4;stroke:#1f77b4;\" x=\"161.871441\" xlink:href=\"#m2468d9ad80\" y=\"100.732509\"/>\n     <use style=\"fill:#1f77b4;stroke:#1f77b4;\" x=\"297.260482\" xlink:href=\"#m2468d9ad80\" y=\"109.832929\"/>\n     <use style=\"fill:#1f77b4;stroke:#1f77b4;\" x=\"73.747709\" xlink:href=\"#m2468d9ad80\" y=\"210.438489\"/>\n     <use style=\"fill:#1f77b4;stroke:#1f77b4;\" x=\"126.529957\" xlink:href=\"#m2468d9ad80\" y=\"186.672766\"/>\n     <use style=\"fill:#1f77b4;stroke:#1f77b4;\" x=\"89.645549\" xlink:href=\"#m2468d9ad80\" y=\"203.187375\"/>\n     <use style=\"fill:#1f77b4;stroke:#1f77b4;\" x=\"114.060949\" xlink:href=\"#m2468d9ad80\" y=\"192.436494\"/>\n     <use style=\"fill:#1f77b4;stroke:#1f77b4;\" x=\"326.687887\" xlink:href=\"#m2468d9ad80\" y=\"139.921237\"/>\n     <use style=\"fill:#1f77b4;stroke:#1f77b4;\" x=\"135.259991\" xlink:href=\"#m2468d9ad80\" y=\"182.69014\"/>\n     <use style=\"fill:#1f77b4;stroke:#1f77b4;\" x=\"70.737799\" xlink:href=\"#m2468d9ad80\" y=\"211.603714\"/>\n     <use style=\"fill:#1f77b4;stroke:#1f77b4;\" x=\"61.372411\" xlink:href=\"#m2468d9ad80\" y=\"214.369237\"/>\n     <use style=\"fill:#1f77b4;stroke:#1f77b4;\" x=\"85.23056\" xlink:href=\"#m2468d9ad80\" y=\"207.107038\"/>\n     <use style=\"fill:#1f77b4;stroke:#1f77b4;\" x=\"81.082056\" xlink:href=\"#m2468d9ad80\" y=\"206.90999\"/>\n     <use style=\"fill:#1f77b4;stroke:#1f77b4;\" x=\"108.050356\" xlink:href=\"#m2468d9ad80\" y=\"195.339217\"/>\n     <use style=\"fill:#1f77b4;stroke:#1f77b4;\" x=\"353.250959\" xlink:href=\"#m2468d9ad80\" y=\"68.132053\"/>\n     <use style=\"fill:#1f77b4;stroke:#1f77b4;\" x=\"79.946086\" xlink:href=\"#m2468d9ad80\" y=\"207.720658\"/>\n     <use style=\"fill:#1f77b4;stroke:#1f77b4;\" x=\"332.188386\" xlink:href=\"#m2468d9ad80\" y=\"92.956081\"/>\n     <use style=\"fill:#1f77b4;stroke:#1f77b4;\" x=\"117.718409\" xlink:href=\"#m2468d9ad80\" y=\"190.6597\"/>\n     <use style=\"fill:#1f77b4;stroke:#1f77b4;\" x=\"145.901437\" xlink:href=\"#m2468d9ad80\" y=\"176.407582\"/>\n     <use style=\"fill:#1f77b4;stroke:#1f77b4;\" x=\"135.032854\" xlink:href=\"#m2468d9ad80\" y=\"182.061513\"/>\n     <use style=\"fill:#1f77b4;stroke:#1f77b4;\" x=\"115.689176\" xlink:href=\"#m2468d9ad80\" y=\"191.319734\"/>\n     <use style=\"fill:#1f77b4;stroke:#1f77b4;\" x=\"117.081089\" xlink:href=\"#m2468d9ad80\" y=\"190.620336\"/>\n     <use style=\"fill:#1f77b4;stroke:#1f77b4;\" x=\"102.864644\" xlink:href=\"#m2468d9ad80\" y=\"197.982587\"/>\n     <use style=\"fill:#1f77b4;stroke:#1f77b4;\" x=\"90.066457\" xlink:href=\"#m2468d9ad80\" y=\"203.037851\"/>\n     <use style=\"fill:#1f77b4;stroke:#1f77b4;\" x=\"139.008776\" xlink:href=\"#m2468d9ad80\" y=\"181.764973\"/>\n     <use style=\"fill:#1f77b4;stroke:#1f77b4;\" x=\"108.67424\" xlink:href=\"#m2468d9ad80\" y=\"194.508188\"/>\n     <use style=\"fill:#1f77b4;stroke:#1f77b4;\" x=\"116.222574\" xlink:href=\"#m2468d9ad80\" y=\"190.966074\"/>\n     <use style=\"fill:#1f77b4;stroke:#1f77b4;\" x=\"83.39899\" xlink:href=\"#m2468d9ad80\" y=\"207.537758\"/>\n     <use style=\"fill:#1f77b4;stroke:#1f77b4;\" x=\"64.959658\" xlink:href=\"#m2468d9ad80\" y=\"212.777089\"/>\n     <use style=\"fill:#1f77b4;stroke:#1f77b4;\" x=\"324.617054\" xlink:href=\"#m2468d9ad80\" y=\"91.161882\"/>\n     <use style=\"fill:#1f77b4;stroke:#1f77b4;\" x=\"74.423067\" xlink:href=\"#m2468d9ad80\" y=\"211.113216\"/>\n     <use style=\"fill:#1f77b4;stroke:#1f77b4;\" x=\"146.955502\" xlink:href=\"#m2468d9ad80\" y=\"176.697685\"/>\n     <use style=\"fill:#1f77b4;stroke:#1f77b4;\" x=\"84.897039\" xlink:href=\"#m2468d9ad80\" y=\"205.071401\"/>\n     <use style=\"fill:#1f77b4;stroke:#1f77b4;\" x=\"115.533078\" xlink:href=\"#m2468d9ad80\" y=\"191.864659\"/>\n     <use style=\"fill:#1f77b4;stroke:#1f77b4;\" x=\"118.515902\" xlink:href=\"#m2468d9ad80\" y=\"189.990901\"/>\n     <use style=\"fill:#1f77b4;stroke:#1f77b4;\" x=\"130.79587\" xlink:href=\"#m2468d9ad80\" y=\"184.295168\"/>\n     <use style=\"fill:#1f77b4;stroke:#1f77b4;\" x=\"101.833221\" xlink:href=\"#m2468d9ad80\" y=\"198.060782\"/>\n     <use style=\"fill:#1f77b4;stroke:#1f77b4;\" x=\"124.097514\" xlink:href=\"#m2468d9ad80\" y=\"188.164164\"/>\n     <use style=\"fill:#1f77b4;stroke:#1f77b4;\" x=\"136.72727\" xlink:href=\"#m2468d9ad80\" y=\"182.140517\"/>\n     <use style=\"fill:#1f77b4;stroke:#1f77b4;\" x=\"125.097666\" xlink:href=\"#m2468d9ad80\" y=\"187.395446\"/>\n     <use style=\"fill:#1f77b4;stroke:#1f77b4;\" x=\"88.750291\" xlink:href=\"#m2468d9ad80\" y=\"204.082341\"/>\n     <use style=\"fill:#1f77b4;stroke:#1f77b4;\" x=\"91.38009\" xlink:href=\"#m2468d9ad80\" y=\"203.085932\"/>\n     <use style=\"fill:#1f77b4;stroke:#1f77b4;\" x=\"149.295183\" xlink:href=\"#m2468d9ad80\" y=\"174.606669\"/>\n     <use style=\"fill:#1f77b4;stroke:#1f77b4;\" x=\"87.487485\" xlink:href=\"#m2468d9ad80\" y=\"157.57589\"/>\n     <use style=\"fill:#1f77b4;stroke:#1f77b4;\" x=\"78.354443\" xlink:href=\"#m2468d9ad80\" y=\"211.232826\"/>\n     <use style=\"fill:#1f77b4;stroke:#1f77b4;\" x=\"71.646577\" xlink:href=\"#m2468d9ad80\" y=\"213.436008\"/>\n     <use style=\"fill:#1f77b4;stroke:#1f77b4;\" x=\"78.112271\" xlink:href=\"#m2468d9ad80\" y=\"214.667861\"/>\n     <use style=\"fill:#1f77b4;stroke:#1f77b4;\" x=\"100.967925\" xlink:href=\"#m2468d9ad80\" y=\"198.471209\"/>\n     <use style=\"fill:#1f77b4;stroke:#1f77b4;\" x=\"121.923514\" xlink:href=\"#m2468d9ad80\" y=\"189.268176\"/>\n     <use style=\"fill:#1f77b4;stroke:#1f77b4;\" x=\"65.862112\" xlink:href=\"#m2468d9ad80\" y=\"213.114132\"/>\n     <use style=\"fill:#1f77b4;stroke:#1f77b4;\" x=\"89.869554\" xlink:href=\"#m2468d9ad80\" y=\"202.495416\"/>\n     <use style=\"fill:#1f77b4;stroke:#1f77b4;\" x=\"108.226058\" xlink:href=\"#m2468d9ad80\" y=\"196.967346\"/>\n     <use style=\"fill:#1f77b4;stroke:#1f77b4;\" x=\"139.878864\" xlink:href=\"#m2468d9ad80\" y=\"179.464695\"/>\n     <use style=\"fill:#1f77b4;stroke:#1f77b4;\" x=\"119.1228\" xlink:href=\"#m2468d9ad80\" y=\"189.97826\"/>\n     <use style=\"fill:#1f77b4;stroke:#1f77b4;\" x=\"115.664109\" xlink:href=\"#m2468d9ad80\" y=\"191.261779\"/>\n     <use style=\"fill:#1f77b4;stroke:#1f77b4;\" x=\"134.292865\" xlink:href=\"#m2468d9ad80\" y=\"110.727925\"/>\n     <use style=\"fill:#1f77b4;stroke:#1f77b4;\" x=\"99.526386\" xlink:href=\"#m2468d9ad80\" y=\"199.595442\"/>\n     <use style=\"fill:#1f77b4;stroke:#1f77b4;\" x=\"133.742207\" xlink:href=\"#m2468d9ad80\" y=\"182.72566\"/>\n     <use style=\"fill:#1f77b4;stroke:#1f77b4;\" x=\"146.458998\" xlink:href=\"#m2468d9ad80\" y=\"176.35436\"/>\n     <use style=\"fill:#1f77b4;stroke:#1f77b4;\" x=\"138.248834\" xlink:href=\"#m2468d9ad80\" y=\"181.208983\"/>\n     <use style=\"fill:#1f77b4;stroke:#1f77b4;\" x=\"119.699423\" xlink:href=\"#m2468d9ad80\" y=\"190.122134\"/>\n     <use style=\"fill:#1f77b4;stroke:#1f77b4;\" x=\"137.999587\" xlink:href=\"#m2468d9ad80\" y=\"180.823399\"/>\n     <use style=\"fill:#1f77b4;stroke:#1f77b4;\" x=\"76.149343\" xlink:href=\"#m2468d9ad80\" y=\"208.136393\"/>\n     <use style=\"fill:#1f77b4;stroke:#1f77b4;\" x=\"74.076964\" xlink:href=\"#m2468d9ad80\" y=\"209.578952\"/>\n     <use style=\"fill:#1f77b4;stroke:#1f77b4;\" x=\"79.160238\" xlink:href=\"#m2468d9ad80\" y=\"208.646728\"/>\n     <use style=\"fill:#1f77b4;stroke:#1f77b4;\" x=\"125.159558\" xlink:href=\"#m2468d9ad80\" y=\"130.42712\"/>\n     <use style=\"fill:#1f77b4;stroke:#1f77b4;\" x=\"77.755032\" xlink:href=\"#m2468d9ad80\" y=\"210.214114\"/>\n     <use style=\"fill:#1f77b4;stroke:#1f77b4;\" x=\"139.484954\" xlink:href=\"#m2468d9ad80\" y=\"180.157014\"/>\n     <use style=\"fill:#1f77b4;stroke:#1f77b4;\" x=\"115.586126\" xlink:href=\"#m2468d9ad80\" y=\"191.745892\"/>\n     <use style=\"fill:#1f77b4;stroke:#1f77b4;\" x=\"136.605407\" xlink:href=\"#m2468d9ad80\" y=\"181.170147\"/>\n     <use style=\"fill:#1f77b4;stroke:#1f77b4;\" x=\"308.736717\" xlink:href=\"#m2468d9ad80\" y=\"154.018861\"/>\n     <use style=\"fill:#1f77b4;stroke:#1f77b4;\" x=\"322.894939\" xlink:href=\"#m2468d9ad80\" y=\"86.828058\"/>\n     <use style=\"fill:#1f77b4;stroke:#1f77b4;\" x=\"287.090184\" xlink:href=\"#m2468d9ad80\" y=\"166.541883\"/>\n     <use style=\"fill:#1f77b4;stroke:#1f77b4;\" x=\"318.064903\" xlink:href=\"#m2468d9ad80\" y=\"41.064679\"/>\n     <use style=\"fill:#1f77b4;stroke:#1f77b4;\" x=\"99.738137\" xlink:href=\"#m2468d9ad80\" y=\"200.034974\"/>\n     <use style=\"fill:#1f77b4;stroke:#1f77b4;\" x=\"353.62958\" xlink:href=\"#m2468d9ad80\" y=\"70.076438\"/>\n     <use style=\"fill:#1f77b4;stroke:#1f77b4;\" x=\"144.05178\" xlink:href=\"#m2468d9ad80\" y=\"176.836365\"/>\n     <use style=\"fill:#1f77b4;stroke:#1f77b4;\" x=\"88.317776\" xlink:href=\"#m2468d9ad80\" y=\"203.805887\"/>\n     <use style=\"fill:#1f77b4;stroke:#1f77b4;\" x=\"333.467017\" xlink:href=\"#m2468d9ad80\" y=\"83.564444\"/>\n     <use style=\"fill:#1f77b4;stroke:#1f77b4;\" x=\"68.284032\" xlink:href=\"#m2468d9ad80\" y=\"212.333425\"/>\n     <use style=\"fill:#1f77b4;stroke:#1f77b4;\" x=\"281.399988\" xlink:href=\"#m2468d9ad80\" y=\"168.462059\"/>\n     <use style=\"fill:#1f77b4;stroke:#1f77b4;\" x=\"112.225793\" xlink:href=\"#m2468d9ad80\" y=\"192.84641\"/>\n     <use style=\"fill:#1f77b4;stroke:#1f77b4;\" x=\"112.37047\" xlink:href=\"#m2468d9ad80\" y=\"193.501977\"/>\n     <use style=\"fill:#1f77b4;stroke:#1f77b4;\" x=\"136.598636\" xlink:href=\"#m2468d9ad80\" y=\"151.769838\"/>\n     <use style=\"fill:#1f77b4;stroke:#1f77b4;\" x=\"64.849048\" xlink:href=\"#m2468d9ad80\" y=\"214.336607\"/>\n     <use style=\"fill:#1f77b4;stroke:#1f77b4;\" x=\"69.107535\" xlink:href=\"#m2468d9ad80\" y=\"213.889233\"/>\n     <use style=\"fill:#1f77b4;stroke:#1f77b4;\" x=\"315.219169\" xlink:href=\"#m2468d9ad80\" y=\"97.88641\"/>\n     <use style=\"fill:#1f77b4;stroke:#1f77b4;\" x=\"331.417271\" xlink:href=\"#m2468d9ad80\" y=\"135.788552\"/>\n     <use style=\"fill:#1f77b4;stroke:#1f77b4;\" x=\"155.96814\" xlink:href=\"#m2468d9ad80\" y=\"170.445069\"/>\n     <use style=\"fill:#1f77b4;stroke:#1f77b4;\" x=\"137.083236\" xlink:href=\"#m2468d9ad80\" y=\"180.876172\"/>\n     <use style=\"fill:#1f77b4;stroke:#1f77b4;\" x=\"110.18601\" xlink:href=\"#m2468d9ad80\" y=\"194.188214\"/>\n     <use style=\"fill:#1f77b4;stroke:#1f77b4;\" x=\"124.194988\" xlink:href=\"#m2468d9ad80\" y=\"188.207387\"/>\n     <use style=\"fill:#1f77b4;stroke:#1f77b4;\" x=\"68.692618\" xlink:href=\"#m2468d9ad80\" y=\"212.740437\"/>\n     <use style=\"fill:#1f77b4;stroke:#1f77b4;\" x=\"354.411749\" xlink:href=\"#m2468d9ad80\" y=\"68.514899\"/>\n     <use style=\"fill:#1f77b4;stroke:#1f77b4;\" x=\"140.332704\" xlink:href=\"#m2468d9ad80\" y=\"178.733813\"/>\n     <use style=\"fill:#1f77b4;stroke:#1f77b4;\" x=\"100.764883\" xlink:href=\"#m2468d9ad80\" y=\"198.672378\"/>\n     <use style=\"fill:#1f77b4;stroke:#1f77b4;\" x=\"145.916244\" xlink:href=\"#m2468d9ad80\" y=\"176.098861\"/>\n     <use style=\"fill:#1f77b4;stroke:#1f77b4;\" x=\"156.37448\" xlink:href=\"#m2468d9ad80\" y=\"170.165575\"/>\n     <use style=\"fill:#1f77b4;stroke:#1f77b4;\" x=\"153.502423\" xlink:href=\"#m2468d9ad80\" y=\"172.58816\"/>\n     <use style=\"fill:#1f77b4;stroke:#1f77b4;\" x=\"106.664398\" xlink:href=\"#m2468d9ad80\" y=\"195.900637\"/>\n     <use style=\"fill:#1f77b4;stroke:#1f77b4;\" x=\"74.145669\" xlink:href=\"#m2468d9ad80\" y=\"183.647409\"/>\n     <use style=\"fill:#1f77b4;stroke:#1f77b4;\" x=\"119.151155\" xlink:href=\"#m2468d9ad80\" y=\"189.952357\"/>\n     <use style=\"fill:#1f77b4;stroke:#1f77b4;\" x=\"151.197571\" xlink:href=\"#m2468d9ad80\" y=\"173.204274\"/>\n     <use style=\"fill:#1f77b4;stroke:#1f77b4;\" x=\"88.076219\" xlink:href=\"#m2468d9ad80\" y=\"157.383975\"/>\n     <use style=\"fill:#1f77b4;stroke:#1f77b4;\" x=\"103.621933\" xlink:href=\"#m2468d9ad80\" y=\"197.461127\"/>\n     <use style=\"fill:#1f77b4;stroke:#1f77b4;\" x=\"300.383438\" xlink:href=\"#m2468d9ad80\" y=\"167.489248\"/>\n     <use style=\"fill:#1f77b4;stroke:#1f77b4;\" x=\"93.697227\" xlink:href=\"#m2468d9ad80\" y=\"201.238248\"/>\n     <use style=\"fill:#1f77b4;stroke:#1f77b4;\" x=\"132.466083\" xlink:href=\"#m2468d9ad80\" y=\"183.17729\"/>\n     <use style=\"fill:#1f77b4;stroke:#1f77b4;\" x=\"327.600418\" xlink:href=\"#m2468d9ad80\" y=\"93.880745\"/>\n     <use style=\"fill:#1f77b4;stroke:#1f77b4;\" x=\"306.993045\" xlink:href=\"#m2468d9ad80\" y=\"102.117831\"/>\n     <use style=\"fill:#1f77b4;stroke:#1f77b4;\" x=\"85.335769\" xlink:href=\"#m2468d9ad80\" y=\"206.795167\"/>\n     <use style=\"fill:#1f77b4;stroke:#1f77b4;\" x=\"329.216132\" xlink:href=\"#m2468d9ad80\" y=\"92.174999\"/>\n     <use style=\"fill:#1f77b4;stroke:#1f77b4;\" x=\"132.486866\" xlink:href=\"#m2468d9ad80\" y=\"183.612353\"/>\n     <use style=\"fill:#1f77b4;stroke:#1f77b4;\" x=\"109.601387\" xlink:href=\"#m2468d9ad80\" y=\"194.435735\"/>\n     <use style=\"fill:#1f77b4;stroke:#1f77b4;\" x=\"337.97846\" xlink:href=\"#m2468d9ad80\" y=\"136.976079\"/>\n     <use style=\"fill:#1f77b4;stroke:#1f77b4;\" x=\"138.882512\" xlink:href=\"#m2468d9ad80\" y=\"180.263831\"/>\n     <use style=\"fill:#1f77b4;stroke:#1f77b4;\" x=\"99.980641\" xlink:href=\"#m2468d9ad80\" y=\"198.708445\"/>\n     <use style=\"fill:#1f77b4;stroke:#1f77b4;\" x=\"342.329832\" xlink:href=\"#m2468d9ad80\" y=\"77.12632\"/>\n     <use style=\"fill:#1f77b4;stroke:#1f77b4;\" x=\"127.22599\" xlink:href=\"#m2468d9ad80\" y=\"186.600488\"/>\n     <use style=\"fill:#1f77b4;stroke:#1f77b4;\" x=\"125.015088\" xlink:href=\"#m2468d9ad80\" y=\"187.612081\"/>\n     <use style=\"fill:#1f77b4;stroke:#1f77b4;\" x=\"72.285024\" xlink:href=\"#m2468d9ad80\" y=\"211.489914\"/>\n     <use style=\"fill:#1f77b4;stroke:#1f77b4;\" x=\"112.795776\" xlink:href=\"#m2468d9ad80\" y=\"155.668244\"/>\n     <use style=\"fill:#1f77b4;stroke:#1f77b4;\" x=\"321.7428\" xlink:href=\"#m2468d9ad80\" y=\"95.059089\"/>\n     <use style=\"fill:#1f77b4;stroke:#1f77b4;\" x=\"136.172204\" xlink:href=\"#m2468d9ad80\" y=\"181.343459\"/>\n     <use style=\"fill:#1f77b4;stroke:#1f77b4;\" x=\"112.153161\" xlink:href=\"#m2468d9ad80\" y=\"192.784585\"/>\n     <use style=\"fill:#1f77b4;stroke:#1f77b4;\" x=\"66.675318\" xlink:href=\"#m2468d9ad80\" y=\"214.711129\"/>\n     <use style=\"fill:#1f77b4;stroke:#1f77b4;\" x=\"141.858559\" xlink:href=\"#m2468d9ad80\" y=\"178.232893\"/>\n     <use style=\"fill:#1f77b4;stroke:#1f77b4;\" x=\"107.871471\" xlink:href=\"#m2468d9ad80\" y=\"195.028486\"/>\n     <use style=\"fill:#1f77b4;stroke:#1f77b4;\" x=\"142.122916\" xlink:href=\"#m2468d9ad80\" y=\"121.688313\"/>\n     <use style=\"fill:#1f77b4;stroke:#1f77b4;\" x=\"333.517896\" xlink:href=\"#m2468d9ad80\" y=\"87.418617\"/>\n     <use style=\"fill:#1f77b4;stroke:#1f77b4;\" x=\"110.379155\" xlink:href=\"#m2468d9ad80\" y=\"194.160298\"/>\n     <use style=\"fill:#1f77b4;stroke:#1f77b4;\" x=\"100.430709\" xlink:href=\"#m2468d9ad80\" y=\"198.066593\"/>\n     <use style=\"fill:#1f77b4;stroke:#1f77b4;\" x=\"134.001762\" xlink:href=\"#m2468d9ad80\" y=\"182.942406\"/>\n     <use style=\"fill:#1f77b4;stroke:#1f77b4;\" x=\"129.869528\" xlink:href=\"#m2468d9ad80\" y=\"151.5368\"/>\n     <use style=\"fill:#1f77b4;stroke:#1f77b4;\" x=\"103.510206\" xlink:href=\"#m2468d9ad80\" y=\"197.545452\"/>\n     <use style=\"fill:#1f77b4;stroke:#1f77b4;\" x=\"301.210184\" xlink:href=\"#m2468d9ad80\" y=\"107.615493\"/>\n     <use style=\"fill:#1f77b4;stroke:#1f77b4;\" x=\"82.575149\" xlink:href=\"#m2468d9ad80\" y=\"206.348605\"/>\n     <use style=\"fill:#1f77b4;stroke:#1f77b4;\" x=\"134.161094\" xlink:href=\"#m2468d9ad80\" y=\"182.755891\"/>\n     <use style=\"fill:#1f77b4;stroke:#1f77b4;\" x=\"109.58029\" xlink:href=\"#m2468d9ad80\" y=\"194.434294\"/>\n     <use style=\"fill:#1f77b4;stroke:#1f77b4;\" x=\"99.004636\" xlink:href=\"#m2468d9ad80\" y=\"200.906783\"/>\n     <use style=\"fill:#1f77b4;stroke:#1f77b4;\" x=\"105.565915\" xlink:href=\"#m2468d9ad80\" y=\"196.246412\"/>\n     <use style=\"fill:#1f77b4;stroke:#1f77b4;\" x=\"312.016842\" xlink:href=\"#m2468d9ad80\" y=\"154.263819\"/>\n     <use style=\"fill:#1f77b4;stroke:#1f77b4;\" x=\"356.179879\" xlink:href=\"#m2468d9ad80\" y=\"65.629168\"/>\n     <use style=\"fill:#1f77b4;stroke:#1f77b4;\" x=\"152.828023\" xlink:href=\"#m2468d9ad80\" y=\"173.601908\"/>\n     <use style=\"fill:#1f77b4;stroke:#1f77b4;\" x=\"104.252188\" xlink:href=\"#m2468d9ad80\" y=\"196.78597\"/>\n     <use style=\"fill:#1f77b4;stroke:#1f77b4;\" x=\"346.043408\" xlink:href=\"#m2468d9ad80\" y=\"75.58528\"/>\n     <use style=\"fill:#1f77b4;stroke:#1f77b4;\" x=\"86.948269\" xlink:href=\"#m2468d9ad80\" y=\"204.717839\"/>\n     <use style=\"fill:#1f77b4;stroke:#1f77b4;\" x=\"98.081479\" xlink:href=\"#m2468d9ad80\" y=\"200.948801\"/>\n     <use style=\"fill:#1f77b4;stroke:#1f77b4;\" x=\"138.78083\" xlink:href=\"#m2468d9ad80\" y=\"181.213226\"/>\n     <use style=\"fill:#1f77b4;stroke:#1f77b4;\" x=\"123.492426\" xlink:href=\"#m2468d9ad80\" y=\"187.544988\"/>\n     <use style=\"fill:#1f77b4;stroke:#1f77b4;\" x=\"298.419586\" xlink:href=\"#m2468d9ad80\" y=\"162.533627\"/>\n     <use style=\"fill:#1f77b4;stroke:#1f77b4;\" x=\"321.09348\" xlink:href=\"#m2468d9ad80\" y=\"96.71467\"/>\n     <use style=\"fill:#1f77b4;stroke:#1f77b4;\" x=\"135.791324\" xlink:href=\"#m2468d9ad80\" y=\"181.531203\"/>\n     <use style=\"fill:#1f77b4;stroke:#1f77b4;\" x=\"67.861004\" xlink:href=\"#m2468d9ad80\" y=\"144.135959\"/>\n     <use style=\"fill:#1f77b4;stroke:#1f77b4;\" x=\"152.019613\" xlink:href=\"#m2468d9ad80\" y=\"172.66706\"/>\n     <use style=\"fill:#1f77b4;stroke:#1f77b4;\" x=\"105.537428\" xlink:href=\"#m2468d9ad80\" y=\"196.068705\"/>\n     <use style=\"fill:#1f77b4;stroke:#1f77b4;\" x=\"88.659087\" xlink:href=\"#m2468d9ad80\" y=\"204.102018\"/>\n     <use style=\"fill:#1f77b4;stroke:#1f77b4;\" x=\"333.192089\" xlink:href=\"#m2468d9ad80\" y=\"130.83746\"/>\n     <use style=\"fill:#1f77b4;stroke:#1f77b4;\" x=\"149.197301\" xlink:href=\"#m2468d9ad80\" y=\"175.087122\"/>\n     <use style=\"fill:#1f77b4;stroke:#1f77b4;\" x=\"131.860228\" xlink:href=\"#m2468d9ad80\" y=\"183.660199\"/>\n     <use style=\"fill:#1f77b4;stroke:#1f77b4;\" x=\"322.417656\" xlink:href=\"#m2468d9ad80\" y=\"147.686995\"/>\n     <use style=\"fill:#1f77b4;stroke:#1f77b4;\" x=\"165.361852\" xlink:href=\"#m2468d9ad80\" y=\"165.447245\"/>\n     <use style=\"fill:#1f77b4;stroke:#1f77b4;\" x=\"70.225561\" xlink:href=\"#m2468d9ad80\" y=\"211.286754\"/>\n     <use style=\"fill:#1f77b4;stroke:#1f77b4;\" x=\"131.938205\" xlink:href=\"#m2468d9ad80\" y=\"184.34273\"/>\n     <use style=\"fill:#1f77b4;stroke:#1f77b4;\" x=\"319.483154\" xlink:href=\"#m2468d9ad80\" y=\"150.204439\"/>\n     <use style=\"fill:#1f77b4;stroke:#1f77b4;\" x=\"70.315896\" xlink:href=\"#m2468d9ad80\" y=\"212.038613\"/>\n     <use style=\"fill:#1f77b4;stroke:#1f77b4;\" x=\"119.373367\" xlink:href=\"#m2468d9ad80\" y=\"189.538189\"/>\n     <use style=\"fill:#1f77b4;stroke:#1f77b4;\" x=\"99.410852\" xlink:href=\"#m2468d9ad80\" y=\"139.027139\"/>\n     <use style=\"fill:#1f77b4;stroke:#1f77b4;\" x=\"138.641867\" xlink:href=\"#m2468d9ad80\" y=\"180.60603\"/>\n     <use style=\"fill:#1f77b4;stroke:#1f77b4;\" x=\"92.025514\" xlink:href=\"#m2468d9ad80\" y=\"202.533326\"/>\n     <use style=\"fill:#1f77b4;stroke:#1f77b4;\" x=\"84.375674\" xlink:href=\"#m2468d9ad80\" y=\"207.825592\"/>\n     <use style=\"fill:#1f77b4;stroke:#1f77b4;\" x=\"125.787218\" xlink:href=\"#m2468d9ad80\" y=\"186.495167\"/>\n     <use style=\"fill:#1f77b4;stroke:#1f77b4;\" x=\"105.177055\" xlink:href=\"#m2468d9ad80\" y=\"196.668434\"/>\n     <use style=\"fill:#1f77b4;stroke:#1f77b4;\" x=\"323.693137\" xlink:href=\"#m2468d9ad80\" y=\"147.155261\"/>\n     <use style=\"fill:#1f77b4;stroke:#1f77b4;\" x=\"125.140503\" xlink:href=\"#m2468d9ad80\" y=\"187.854497\"/>\n     <use style=\"fill:#1f77b4;stroke:#1f77b4;\" x=\"330.327397\" xlink:href=\"#m2468d9ad80\" y=\"142.575322\"/>\n     <use style=\"fill:#1f77b4;stroke:#1f77b4;\" x=\"72.675495\" xlink:href=\"#m2468d9ad80\" y=\"212.497614\"/>\n     <use style=\"fill:#1f77b4;stroke:#1f77b4;\" x=\"119.92817\" xlink:href=\"#m2468d9ad80\" y=\"190.070284\"/>\n     <use style=\"fill:#1f77b4;stroke:#1f77b4;\" x=\"89.992108\" xlink:href=\"#m2468d9ad80\" y=\"205.533822\"/>\n     <use style=\"fill:#1f77b4;stroke:#1f77b4;\" x=\"135.238698\" xlink:href=\"#m2468d9ad80\" y=\"182.699482\"/>\n     <use style=\"fill:#1f77b4;stroke:#1f77b4;\" x=\"309.240807\" xlink:href=\"#m2468d9ad80\" y=\"158.525262\"/>\n     <use style=\"fill:#1f77b4;stroke:#1f77b4;\" x=\"310.879515\" xlink:href=\"#m2468d9ad80\" y=\"102.530961\"/>\n     <use style=\"fill:#1f77b4;stroke:#1f77b4;\" x=\"152.40575\" xlink:href=\"#m2468d9ad80\" y=\"172.959419\"/>\n     <use style=\"fill:#1f77b4;stroke:#1f77b4;\" x=\"80.286671\" xlink:href=\"#m2468d9ad80\" y=\"209.584754\"/>\n     <use style=\"fill:#1f77b4;stroke:#1f77b4;\" x=\"81.000976\" xlink:href=\"#m2468d9ad80\" y=\"208.164997\"/>\n     <use style=\"fill:#1f77b4;stroke:#1f77b4;\" x=\"325.696206\" xlink:href=\"#m2468d9ad80\" y=\"17.083636\"/>\n     <use style=\"fill:#1f77b4;stroke:#1f77b4;\" x=\"309.763552\" xlink:href=\"#m2468d9ad80\" y=\"103.898991\"/>\n     <use style=\"fill:#1f77b4;stroke:#1f77b4;\" x=\"104.443436\" xlink:href=\"#m2468d9ad80\" y=\"196.932304\"/>\n     <use style=\"fill:#1f77b4;stroke:#1f77b4;\" x=\"74.766224\" xlink:href=\"#m2468d9ad80\" y=\"213.109639\"/>\n     <use style=\"fill:#1f77b4;stroke:#1f77b4;\" x=\"128.209954\" xlink:href=\"#m2468d9ad80\" y=\"185.862121\"/>\n     <use style=\"fill:#1f77b4;stroke:#1f77b4;\" x=\"323.403396\" xlink:href=\"#m2468d9ad80\" y=\"146.917032\"/>\n     <use style=\"fill:#1f77b4;stroke:#1f77b4;\" x=\"104.505176\" xlink:href=\"#m2468d9ad80\" y=\"196.648189\"/>\n     <use style=\"fill:#1f77b4;stroke:#1f77b4;\" x=\"123.166729\" xlink:href=\"#m2468d9ad80\" y=\"189.233758\"/>\n     <use style=\"fill:#1f77b4;stroke:#1f77b4;\" x=\"94.750158\" xlink:href=\"#m2468d9ad80\" y=\"163.28398\"/>\n     <use style=\"fill:#1f77b4;stroke:#1f77b4;\" x=\"304.296604\" xlink:href=\"#m2468d9ad80\" y=\"163.119671\"/>\n     <use style=\"fill:#1f77b4;stroke:#1f77b4;\" x=\"82.786328\" xlink:href=\"#m2468d9ad80\" y=\"206.858185\"/>\n     <use style=\"fill:#1f77b4;stroke:#1f77b4;\" x=\"68.571134\" xlink:href=\"#m2468d9ad80\" y=\"213.00983\"/>\n     <use style=\"fill:#1f77b4;stroke:#1f77b4;\" x=\"94.083454\" xlink:href=\"#m2468d9ad80\" y=\"201.470187\"/>\n     <use style=\"fill:#1f77b4;stroke:#1f77b4;\" x=\"102.910027\" xlink:href=\"#m2468d9ad80\" y=\"197.231821\"/>\n     <use style=\"fill:#1f77b4;stroke:#1f77b4;\" x=\"111.594893\" xlink:href=\"#m2468d9ad80\" y=\"193.658765\"/>\n     <use style=\"fill:#1f77b4;stroke:#1f77b4;\" x=\"75.566936\" xlink:href=\"#m2468d9ad80\" y=\"208.178371\"/>\n     <use style=\"fill:#1f77b4;stroke:#1f77b4;\" x=\"84.91197\" xlink:href=\"#m2468d9ad80\" y=\"205.397477\"/>\n     <use style=\"fill:#1f77b4;stroke:#1f77b4;\" x=\"341.776438\" xlink:href=\"#m2468d9ad80\" y=\"123.426129\"/>\n     <use style=\"fill:#1f77b4;stroke:#1f77b4;\" x=\"356.373362\" xlink:href=\"#m2468d9ad80\" y=\"69.955484\"/>\n     <use style=\"fill:#1f77b4;stroke:#1f77b4;\" x=\"305.710793\" xlink:href=\"#m2468d9ad80\" y=\"106.365232\"/>\n     <use style=\"fill:#1f77b4;stroke:#1f77b4;\" x=\"100.702776\" xlink:href=\"#m2468d9ad80\" y=\"198.430611\"/>\n     <use style=\"fill:#1f77b4;stroke:#1f77b4;\" x=\"134.045228\" xlink:href=\"#m2468d9ad80\" y=\"182.764384\"/>\n     <use style=\"fill:#1f77b4;stroke:#1f77b4;\" x=\"324.751617\" xlink:href=\"#m2468d9ad80\" y=\"146.079388\"/>\n     <use style=\"fill:#1f77b4;stroke:#1f77b4;\" x=\"148.248318\" xlink:href=\"#m2468d9ad80\" y=\"174.775056\"/>\n     <use style=\"fill:#1f77b4;stroke:#1f77b4;\" x=\"310.721407\" xlink:href=\"#m2468d9ad80\" y=\"157.134102\"/>\n     <use style=\"fill:#1f77b4;stroke:#1f77b4;\" x=\"326.746753\" xlink:href=\"#m2468d9ad80\" y=\"141.291898\"/>\n     <use style=\"fill:#1f77b4;stroke:#1f77b4;\" x=\"76.321888\" xlink:href=\"#m2468d9ad80\" y=\"209.197018\"/>\n     <use style=\"fill:#1f77b4;stroke:#1f77b4;\" x=\"75.927195\" xlink:href=\"#m2468d9ad80\" y=\"208.468944\"/>\n     <use style=\"fill:#1f77b4;stroke:#1f77b4;\" x=\"72.934055\" xlink:href=\"#m2468d9ad80\" y=\"210.46231\"/>\n     <use style=\"fill:#1f77b4;stroke:#1f77b4;\" x=\"131.463561\" xlink:href=\"#m2468d9ad80\" y=\"183.642911\"/>\n     <use style=\"fill:#1f77b4;stroke:#1f77b4;\" x=\"73.209412\" xlink:href=\"#m2468d9ad80\" y=\"209.439776\"/>\n     <use style=\"fill:#1f77b4;stroke:#1f77b4;\" x=\"147.864281\" xlink:href=\"#m2468d9ad80\" y=\"175.180137\"/>\n     <use style=\"fill:#1f77b4;stroke:#1f77b4;\" x=\"340.496424\" xlink:href=\"#m2468d9ad80\" y=\"77.666066\"/>\n     <use style=\"fill:#1f77b4;stroke:#1f77b4;\" x=\"118.254813\" xlink:href=\"#m2468d9ad80\" y=\"126.816277\"/>\n     <use style=\"fill:#1f77b4;stroke:#1f77b4;\" x=\"93.22791\" xlink:href=\"#m2468d9ad80\" y=\"157.893406\"/>\n     <use style=\"fill:#1f77b4;stroke:#1f77b4;\" x=\"65.737111\" xlink:href=\"#m2468d9ad80\" y=\"212.88259\"/>\n     <use style=\"fill:#1f77b4;stroke:#1f77b4;\" x=\"117.02668\" xlink:href=\"#m2468d9ad80\" y=\"190.865354\"/>\n     <use style=\"fill:#1f77b4;stroke:#1f77b4;\" x=\"281.115083\" xlink:href=\"#m2468d9ad80\" y=\"168.9736\"/>\n     <use style=\"fill:#1f77b4;stroke:#1f77b4;\" x=\"120.218962\" xlink:href=\"#m2468d9ad80\" y=\"189.641016\"/>\n     <use style=\"fill:#1f77b4;stroke:#1f77b4;\" x=\"73.317029\" xlink:href=\"#m2468d9ad80\" y=\"211.492394\"/>\n     <use style=\"fill:#1f77b4;stroke:#1f77b4;\" x=\"117.410323\" xlink:href=\"#m2468d9ad80\" y=\"191.209027\"/>\n     <use style=\"fill:#1f77b4;stroke:#1f77b4;\" x=\"143.549182\" xlink:href=\"#m2468d9ad80\" y=\"177.723248\"/>\n     <use style=\"fill:#1f77b4;stroke:#1f77b4;\" x=\"318.729893\" xlink:href=\"#m2468d9ad80\" y=\"99.127582\"/>\n     <use style=\"fill:#1f77b4;stroke:#1f77b4;\" x=\"141.147104\" xlink:href=\"#m2468d9ad80\" y=\"179.023574\"/>\n     <use style=\"fill:#1f77b4;stroke:#1f77b4;\" x=\"142.710102\" xlink:href=\"#m2468d9ad80\" y=\"178.182786\"/>\n     <use style=\"fill:#1f77b4;stroke:#1f77b4;\" x=\"155.359183\" xlink:href=\"#m2468d9ad80\" y=\"171.817667\"/>\n     <use style=\"fill:#1f77b4;stroke:#1f77b4;\" x=\"112.283263\" xlink:href=\"#m2468d9ad80\" y=\"193.473325\"/>\n     <use style=\"fill:#1f77b4;stroke:#1f77b4;\" x=\"123.096097\" xlink:href=\"#m2468d9ad80\" y=\"187.599341\"/>\n     <use style=\"fill:#1f77b4;stroke:#1f77b4;\" x=\"70.931293\" xlink:href=\"#m2468d9ad80\" y=\"149.725207\"/>\n     <use style=\"fill:#1f77b4;stroke:#1f77b4;\" x=\"136.109234\" xlink:href=\"#m2468d9ad80\" y=\"182.176276\"/>\n     <use style=\"fill:#1f77b4;stroke:#1f77b4;\" x=\"288.667069\" xlink:href=\"#m2468d9ad80\" y=\"167.497973\"/>\n     <use style=\"fill:#1f77b4;stroke:#1f77b4;\" x=\"117.813851\" xlink:href=\"#m2468d9ad80\" y=\"190.87711\"/>\n     <use style=\"fill:#1f77b4;stroke:#1f77b4;\" x=\"146.095708\" xlink:href=\"#m2468d9ad80\" y=\"139.53706\"/>\n     <use style=\"fill:#1f77b4;stroke:#1f77b4;\" x=\"126.803116\" xlink:href=\"#m2468d9ad80\" y=\"186.847196\"/>\n     <use style=\"fill:#1f77b4;stroke:#1f77b4;\" x=\"74.183254\" xlink:href=\"#m2468d9ad80\" y=\"211.488572\"/>\n     <use style=\"fill:#1f77b4;stroke:#1f77b4;\" x=\"340.126205\" xlink:href=\"#m2468d9ad80\" y=\"83.4675\"/>\n     <use style=\"fill:#1f77b4;stroke:#1f77b4;\" x=\"110.3393\" xlink:href=\"#m2468d9ad80\" y=\"157.888926\"/>\n     <use style=\"fill:#1f77b4;stroke:#1f77b4;\" x=\"79.904907\" xlink:href=\"#m2468d9ad80\" y=\"208.515852\"/>\n     <use style=\"fill:#1f77b4;stroke:#1f77b4;\" x=\"360.327044\" xlink:href=\"#m2468d9ad80\" y=\"65.737217\"/>\n     <use style=\"fill:#1f77b4;stroke:#1f77b4;\" x=\"90.814516\" xlink:href=\"#m2468d9ad80\" y=\"203.127099\"/>\n     <use style=\"fill:#1f77b4;stroke:#1f77b4;\" x=\"153.198435\" xlink:href=\"#m2468d9ad80\" y=\"171.891113\"/>\n     <use style=\"fill:#1f77b4;stroke:#1f77b4;\" x=\"121.540112\" xlink:href=\"#m2468d9ad80\" y=\"188.496408\"/>\n     <use style=\"fill:#1f77b4;stroke:#1f77b4;\" x=\"79.056464\" xlink:href=\"#m2468d9ad80\" y=\"210.385879\"/>\n     <use style=\"fill:#1f77b4;stroke:#1f77b4;\" x=\"69.522395\" xlink:href=\"#m2468d9ad80\" y=\"211.785657\"/>\n     <use style=\"fill:#1f77b4;stroke:#1f77b4;\" x=\"131.805591\" xlink:href=\"#m2468d9ad80\" y=\"184.404534\"/>\n     <use style=\"fill:#1f77b4;stroke:#1f77b4;\" x=\"82.873112\" xlink:href=\"#m2468d9ad80\" y=\"205.803021\"/>\n     <use style=\"fill:#1f77b4;stroke:#1f77b4;\" x=\"140.473733\" xlink:href=\"#m2468d9ad80\" y=\"146.999604\"/>\n     <use style=\"fill:#1f77b4;stroke:#1f77b4;\" x=\"278.795936\" xlink:href=\"#m2468d9ad80\" y=\"171.505049\"/>\n     <use style=\"fill:#1f77b4;stroke:#1f77b4;\" x=\"144.16701\" xlink:href=\"#m2468d9ad80\" y=\"177.697484\"/>\n     <use style=\"fill:#1f77b4;stroke:#1f77b4;\" x=\"311.524138\" xlink:href=\"#m2468d9ad80\" y=\"151.650957\"/>\n     <use style=\"fill:#1f77b4;stroke:#1f77b4;\" x=\"308.372164\" xlink:href=\"#m2468d9ad80\" y=\"105.591146\"/>\n     <use style=\"fill:#1f77b4;stroke:#1f77b4;\" x=\"298.37487\" xlink:href=\"#m2468d9ad80\" y=\"108.21298\"/>\n     <use style=\"fill:#1f77b4;stroke:#1f77b4;\" x=\"97.328819\" xlink:href=\"#m2468d9ad80\" y=\"130.331091\"/>\n     <use style=\"fill:#1f77b4;stroke:#1f77b4;\" x=\"128.780476\" xlink:href=\"#m2468d9ad80\" y=\"185.014165\"/>\n     <use style=\"fill:#1f77b4;stroke:#1f77b4;\" x=\"81.932524\" xlink:href=\"#m2468d9ad80\" y=\"207.77617\"/>\n     <use style=\"fill:#1f77b4;stroke:#1f77b4;\" x=\"102.698466\" xlink:href=\"#m2468d9ad80\" y=\"198.264413\"/>\n     <use style=\"fill:#1f77b4;stroke:#1f77b4;\" x=\"346.322979\" xlink:href=\"#m2468d9ad80\" y=\"80.548944\"/>\n     <use style=\"fill:#1f77b4;stroke:#1f77b4;\" x=\"65.698942\" xlink:href=\"#m2468d9ad80\" y=\"213.115831\"/>\n     <use style=\"fill:#1f77b4;stroke:#1f77b4;\" x=\"305.992962\" xlink:href=\"#m2468d9ad80\" y=\"153.095214\"/>\n     <use style=\"fill:#1f77b4;stroke:#1f77b4;\" x=\"107.274108\" xlink:href=\"#m2468d9ad80\" y=\"197.908889\"/>\n     <use style=\"fill:#1f77b4;stroke:#1f77b4;\" x=\"108.821173\" xlink:href=\"#m2468d9ad80\" y=\"194.427406\"/>\n     <use style=\"fill:#1f77b4;stroke:#1f77b4;\" x=\"298.564235\" xlink:href=\"#m2468d9ad80\" y=\"99.708464\"/>\n     <use style=\"fill:#1f77b4;stroke:#1f77b4;\" x=\"151.06495\" xlink:href=\"#m2468d9ad80\" y=\"173.887166\"/>\n     <use style=\"fill:#1f77b4;stroke:#1f77b4;\" x=\"111.035149\" xlink:href=\"#m2468d9ad80\" y=\"193.794985\"/>\n     <use style=\"fill:#1f77b4;stroke:#1f77b4;\" x=\"96.744718\" xlink:href=\"#m2468d9ad80\" y=\"201.840853\"/>\n     <use style=\"fill:#1f77b4;stroke:#1f77b4;\" x=\"83.547898\" xlink:href=\"#m2468d9ad80\" y=\"207.852328\"/>\n     <use style=\"fill:#1f77b4;stroke:#1f77b4;\" x=\"292.532176\" xlink:href=\"#m2468d9ad80\" y=\"165.560481\"/>\n     <use style=\"fill:#1f77b4;stroke:#1f77b4;\" x=\"154.439122\" xlink:href=\"#m2468d9ad80\" y=\"171.897482\"/>\n     <use style=\"fill:#1f77b4;stroke:#1f77b4;\" x=\"108.578144\" xlink:href=\"#m2468d9ad80\" y=\"195.338457\"/>\n     <use style=\"fill:#1f77b4;stroke:#1f77b4;\" x=\"102.540806\" xlink:href=\"#m2468d9ad80\" y=\"197.471899\"/>\n     <use style=\"fill:#1f77b4;stroke:#1f77b4;\" x=\"138.513419\" xlink:href=\"#m2468d9ad80\" y=\"180.299142\"/>\n     <use style=\"fill:#1f77b4;stroke:#1f77b4;\" x=\"94.364642\" xlink:href=\"#m2468d9ad80\" y=\"201.428892\"/>\n     <use style=\"fill:#1f77b4;stroke:#1f77b4;\" x=\"349.797803\" xlink:href=\"#m2468d9ad80\" y=\"70.881348\"/>\n     <use style=\"fill:#1f77b4;stroke:#1f77b4;\" x=\"309.152951\" xlink:href=\"#m2468d9ad80\" y=\"101.608737\"/>\n     <use style=\"fill:#1f77b4;stroke:#1f77b4;\" x=\"88.698566\" xlink:href=\"#m2468d9ad80\" y=\"204.377386\"/>\n     <use style=\"fill:#1f77b4;stroke:#1f77b4;\" x=\"79.142115\" xlink:href=\"#m2468d9ad80\" y=\"207.159394\"/>\n     <use style=\"fill:#1f77b4;stroke:#1f77b4;\" x=\"81.563498\" xlink:href=\"#m2468d9ad80\" y=\"206.920501\"/>\n     <use style=\"fill:#1f77b4;stroke:#1f77b4;\" x=\"83.236032\" xlink:href=\"#m2468d9ad80\" y=\"206.925961\"/>\n     <use style=\"fill:#1f77b4;stroke:#1f77b4;\" x=\"77.825604\" xlink:href=\"#m2468d9ad80\" y=\"211.982561\"/>\n     <use style=\"fill:#1f77b4;stroke:#1f77b4;\" x=\"122.840991\" xlink:href=\"#m2468d9ad80\" y=\"188.969361\"/>\n     <use style=\"fill:#1f77b4;stroke:#1f77b4;\" x=\"326.388445\" xlink:href=\"#m2468d9ad80\" y=\"90.618352\"/>\n     <use style=\"fill:#1f77b4;stroke:#1f77b4;\" x=\"142.698143\" xlink:href=\"#m2468d9ad80\" y=\"178.921704\"/>\n     <use style=\"fill:#1f77b4;stroke:#1f77b4;\" x=\"146.354981\" xlink:href=\"#m2468d9ad80\" y=\"176.619776\"/>\n     <use style=\"fill:#1f77b4;stroke:#1f77b4;\" x=\"68.661837\" xlink:href=\"#m2468d9ad80\" y=\"214.307554\"/>\n     <use style=\"fill:#1f77b4;stroke:#1f77b4;\" x=\"353.458399\" xlink:href=\"#m2468d9ad80\" y=\"62.34571\"/>\n     <use style=\"fill:#1f77b4;stroke:#1f77b4;\" x=\"108.888876\" xlink:href=\"#m2468d9ad80\" y=\"194.734509\"/>\n     <use style=\"fill:#1f77b4;stroke:#1f77b4;\" x=\"89.775831\" xlink:href=\"#m2468d9ad80\" y=\"205.900756\"/>\n     <use style=\"fill:#1f77b4;stroke:#1f77b4;\" x=\"138.319784\" xlink:href=\"#m2468d9ad80\" y=\"148.271213\"/>\n     <use style=\"fill:#1f77b4;stroke:#1f77b4;\" x=\"108.028056\" xlink:href=\"#m2468d9ad80\" y=\"195.296557\"/>\n     <use style=\"fill:#1f77b4;stroke:#1f77b4;\" x=\"316.203748\" xlink:href=\"#m2468d9ad80\" y=\"157.19075\"/>\n     <use style=\"fill:#1f77b4;stroke:#1f77b4;\" x=\"143.173056\" xlink:href=\"#m2468d9ad80\" y=\"177.77475\"/>\n     <use style=\"fill:#1f77b4;stroke:#1f77b4;\" x=\"140.748254\" xlink:href=\"#m2468d9ad80\" y=\"179.05405\"/>\n     <use style=\"fill:#1f77b4;stroke:#1f77b4;\" x=\"117.457036\" xlink:href=\"#m2468d9ad80\" y=\"190.47997\"/>\n     <use style=\"fill:#1f77b4;stroke:#1f77b4;\" x=\"109.682452\" xlink:href=\"#m2468d9ad80\" y=\"160.708594\"/>\n     <use style=\"fill:#1f77b4;stroke:#1f77b4;\" x=\"85.649029\" xlink:href=\"#m2468d9ad80\" y=\"205.069983\"/>\n     <use style=\"fill:#1f77b4;stroke:#1f77b4;\" x=\"94.41966\" xlink:href=\"#m2468d9ad80\" y=\"201.046312\"/>\n     <use style=\"fill:#1f77b4;stroke:#1f77b4;\" x=\"348.677335\" xlink:href=\"#m2468d9ad80\" y=\"76.221195\"/>\n     <use style=\"fill:#1f77b4;stroke:#1f77b4;\" x=\"322.266927\" xlink:href=\"#m2468d9ad80\" y=\"92.548374\"/>\n     <use style=\"fill:#1f77b4;stroke:#1f77b4;\" x=\"110.615675\" xlink:href=\"#m2468d9ad80\" y=\"193.515399\"/>\n     <use style=\"fill:#1f77b4;stroke:#1f77b4;\" x=\"89.746198\" xlink:href=\"#m2468d9ad80\" y=\"202.586405\"/>\n     <use style=\"fill:#1f77b4;stroke:#1f77b4;\" x=\"340.785558\" xlink:href=\"#m2468d9ad80\" y=\"124.653903\"/>\n     <use style=\"fill:#1f77b4;stroke:#1f77b4;\" x=\"107.355877\" xlink:href=\"#m2468d9ad80\" y=\"195.180368\"/>\n     <use style=\"fill:#1f77b4;stroke:#1f77b4;\" x=\"85.645719\" xlink:href=\"#m2468d9ad80\" y=\"207.451941\"/>\n     <use style=\"fill:#1f77b4;stroke:#1f77b4;\" x=\"112.8599\" xlink:href=\"#m2468d9ad80\" y=\"196.927297\"/>\n     <use style=\"fill:#1f77b4;stroke:#1f77b4;\" x=\"118.091516\" xlink:href=\"#m2468d9ad80\" y=\"190.69166\"/>\n     <use style=\"fill:#1f77b4;stroke:#1f77b4;\" x=\"329.786799\" xlink:href=\"#m2468d9ad80\" y=\"86.207547\"/>\n     <use style=\"fill:#1f77b4;stroke:#1f77b4;\" x=\"127.112632\" xlink:href=\"#m2468d9ad80\" y=\"185.975203\"/>\n     <use style=\"fill:#1f77b4;stroke:#1f77b4;\" x=\"135.88665\" xlink:href=\"#m2468d9ad80\" y=\"181.586782\"/>\n     <use style=\"fill:#1f77b4;stroke:#1f77b4;\" x=\"131.728071\" xlink:href=\"#m2468d9ad80\" y=\"184.272946\"/>\n     <use style=\"fill:#1f77b4;stroke:#1f77b4;\" x=\"139.291484\" xlink:href=\"#m2468d9ad80\" y=\"179.951934\"/>\n     <use style=\"fill:#1f77b4;stroke:#1f77b4;\" x=\"66.288328\" xlink:href=\"#m2468d9ad80\" y=\"212.045825\"/>\n     <use style=\"fill:#1f77b4;stroke:#1f77b4;\" x=\"308.199546\" xlink:href=\"#m2468d9ad80\" y=\"159.647691\"/>\n     <use style=\"fill:#1f77b4;stroke:#1f77b4;\" x=\"102.458007\" xlink:href=\"#m2468d9ad80\" y=\"197.597449\"/>\n     <use style=\"fill:#1f77b4;stroke:#1f77b4;\" x=\"132.572429\" xlink:href=\"#m2468d9ad80\" y=\"183.83735\"/>\n     <use style=\"fill:#1f77b4;stroke:#1f77b4;\" x=\"85.125705\" xlink:href=\"#m2468d9ad80\" y=\"205.55911\"/>\n     <use style=\"fill:#1f77b4;stroke:#1f77b4;\" x=\"129.277788\" xlink:href=\"#m2468d9ad80\" y=\"187.014341\"/>\n     <use style=\"fill:#1f77b4;stroke:#1f77b4;\" x=\"135.653798\" xlink:href=\"#m2468d9ad80\" y=\"105.299288\"/>\n     <use style=\"fill:#1f77b4;stroke:#1f77b4;\" x=\"288.979666\" xlink:href=\"#m2468d9ad80\" y=\"163.122371\"/>\n     <use style=\"fill:#1f77b4;stroke:#1f77b4;\" x=\"101.270334\" xlink:href=\"#m2468d9ad80\" y=\"199.158563\"/>\n     <use style=\"fill:#1f77b4;stroke:#1f77b4;\" x=\"141.038956\" xlink:href=\"#m2468d9ad80\" y=\"179.317006\"/>\n     <use style=\"fill:#1f77b4;stroke:#1f77b4;\" x=\"85.205566\" xlink:href=\"#m2468d9ad80\" y=\"204.745697\"/>\n     <use style=\"fill:#1f77b4;stroke:#1f77b4;\" x=\"68.894708\" xlink:href=\"#m2468d9ad80\" y=\"212.673686\"/>\n     <use style=\"fill:#1f77b4;stroke:#1f77b4;\" x=\"341.60136\" xlink:href=\"#m2468d9ad80\" y=\"82.903879\"/>\n     <use style=\"fill:#1f77b4;stroke:#1f77b4;\" x=\"113.680684\" xlink:href=\"#m2468d9ad80\" y=\"192.264438\"/>\n     <use style=\"fill:#1f77b4;stroke:#1f77b4;\" x=\"145.920127\" xlink:href=\"#m2468d9ad80\" y=\"176.097162\"/>\n     <use style=\"fill:#1f77b4;stroke:#1f77b4;\" x=\"106.08327\" xlink:href=\"#m2468d9ad80\" y=\"196.377007\"/>\n     <use style=\"fill:#1f77b4;stroke:#1f77b4;\" x=\"313.740974\" xlink:href=\"#m2468d9ad80\" y=\"102.197934\"/>\n     <use style=\"fill:#1f77b4;stroke:#1f77b4;\" x=\"309.040802\" xlink:href=\"#m2468d9ad80\" y=\"155.531499\"/>\n     <use style=\"fill:#1f77b4;stroke:#1f77b4;\" x=\"146.004273\" xlink:href=\"#m2468d9ad80\" y=\"175.861677\"/>\n     <use style=\"fill:#1f77b4;stroke:#1f77b4;\" x=\"331.356885\" xlink:href=\"#m2468d9ad80\" y=\"139.040788\"/>\n     <use style=\"fill:#1f77b4;stroke:#1f77b4;\" x=\"103.075338\" xlink:href=\"#m2468d9ad80\" y=\"197.868488\"/>\n     <use style=\"fill:#1f77b4;stroke:#1f77b4;\" x=\"292.946309\" xlink:href=\"#m2468d9ad80\" y=\"166.1639\"/>\n     <use style=\"fill:#1f77b4;stroke:#1f77b4;\" x=\"128.947145\" xlink:href=\"#m2468d9ad80\" y=\"184.846935\"/>\n     <use style=\"fill:#1f77b4;stroke:#1f77b4;\" x=\"107.492312\" xlink:href=\"#m2468d9ad80\" y=\"195.423441\"/>\n     <use style=\"fill:#1f77b4;stroke:#1f77b4;\" x=\"139.600958\" xlink:href=\"#m2468d9ad80\" y=\"179.373558\"/>\n     <use style=\"fill:#1f77b4;stroke:#1f77b4;\" x=\"93.042932\" xlink:href=\"#m2468d9ad80\" y=\"203.335721\"/>\n     <use style=\"fill:#1f77b4;stroke:#1f77b4;\" x=\"150.226347\" xlink:href=\"#m2468d9ad80\" y=\"173.843169\"/>\n     <use style=\"fill:#1f77b4;stroke:#1f77b4;\" x=\"315.506755\" xlink:href=\"#m2468d9ad80\" y=\"98.851701\"/>\n     <use style=\"fill:#1f77b4;stroke:#1f77b4;\" x=\"122.197903\" xlink:href=\"#m2468d9ad80\" y=\"188.571108\"/>\n     <use style=\"fill:#1f77b4;stroke:#1f77b4;\" x=\"131.883512\" xlink:href=\"#m2468d9ad80\" y=\"183.912041\"/>\n     <use style=\"fill:#1f77b4;stroke:#1f77b4;\" x=\"137.910321\" xlink:href=\"#m2468d9ad80\" y=\"180.537616\"/>\n     <use style=\"fill:#1f77b4;stroke:#1f77b4;\" x=\"294.017612\" xlink:href=\"#m2468d9ad80\" y=\"164.416302\"/>\n     <use style=\"fill:#1f77b4;stroke:#1f77b4;\" x=\"105.527721\" xlink:href=\"#m2468d9ad80\" y=\"196.593026\"/>\n     <use style=\"fill:#1f77b4;stroke:#1f77b4;\" x=\"109.468535\" xlink:href=\"#m2468d9ad80\" y=\"197.924077\"/>\n     <use style=\"fill:#1f77b4;stroke:#1f77b4;\" x=\"122.481882\" xlink:href=\"#m2468d9ad80\" y=\"188.100946\"/>\n     <use style=\"fill:#1f77b4;stroke:#1f77b4;\" x=\"70.601762\" xlink:href=\"#m2468d9ad80\" y=\"212.019552\"/>\n     <use style=\"fill:#1f77b4;stroke:#1f77b4;\" x=\"339.146324\" xlink:href=\"#m2468d9ad80\" y=\"84.392473\"/>\n     <use style=\"fill:#1f77b4;stroke:#1f77b4;\" x=\"294.10171\" xlink:href=\"#m2468d9ad80\" y=\"110.715559\"/>\n     <use style=\"fill:#1f77b4;stroke:#1f77b4;\" x=\"86.242501\" xlink:href=\"#m2468d9ad80\" y=\"206.250787\"/>\n     <use style=\"fill:#1f77b4;stroke:#1f77b4;\" x=\"132.277264\" xlink:href=\"#m2468d9ad80\" y=\"154.85575\"/>\n     <use style=\"fill:#1f77b4;stroke:#1f77b4;\" x=\"89.505235\" xlink:href=\"#m2468d9ad80\" y=\"155.843068\"/>\n     <use style=\"fill:#1f77b4;stroke:#1f77b4;\" x=\"126.692101\" xlink:href=\"#m2468d9ad80\" y=\"187.156612\"/>\n     <use style=\"fill:#1f77b4;stroke:#1f77b4;\" x=\"69.806118\" xlink:href=\"#m2468d9ad80\" y=\"212.233692\"/>\n     <use style=\"fill:#1f77b4;stroke:#1f77b4;\" x=\"75.81776\" xlink:href=\"#m2468d9ad80\" y=\"209.864004\"/>\n     <use style=\"fill:#1f77b4;stroke:#1f77b4;\" x=\"81.12316\" xlink:href=\"#m2468d9ad80\" y=\"207.167314\"/>\n     <use style=\"fill:#1f77b4;stroke:#1f77b4;\" x=\"65.801848\" xlink:href=\"#m2468d9ad80\" y=\"213.491076\"/>\n     <use style=\"fill:#1f77b4;stroke:#1f77b4;\" x=\"99.906672\" xlink:href=\"#m2468d9ad80\" y=\"199.144243\"/>\n     <use style=\"fill:#1f77b4;stroke:#1f77b4;\" x=\"139.924029\" xlink:href=\"#m2468d9ad80\" y=\"180.237235\"/>\n     <use style=\"fill:#1f77b4;stroke:#1f77b4;\" x=\"70.039707\" xlink:href=\"#m2468d9ad80\" y=\"211.436188\"/>\n     <use style=\"fill:#1f77b4;stroke:#1f77b4;\" x=\"351.734073\" xlink:href=\"#m2468d9ad80\" y=\"64.34193\"/>\n     <use style=\"fill:#1f77b4;stroke:#1f77b4;\" x=\"316.835796\" xlink:href=\"#m2468d9ad80\" y=\"148.001674\"/>\n     <use style=\"fill:#1f77b4;stroke:#1f77b4;\" x=\"148.39323\" xlink:href=\"#m2468d9ad80\" y=\"175.225148\"/>\n     <use style=\"fill:#1f77b4;stroke:#1f77b4;\" x=\"93.397333\" xlink:href=\"#m2468d9ad80\" y=\"202.777706\"/>\n     <use style=\"fill:#1f77b4;stroke:#1f77b4;\" x=\"105.359259\" xlink:href=\"#m2468d9ad80\" y=\"196.662489\"/>\n     <use style=\"fill:#1f77b4;stroke:#1f77b4;\" x=\"103.102664\" xlink:href=\"#m2468d9ad80\" y=\"197.306904\"/>\n     <use style=\"fill:#1f77b4;stroke:#1f77b4;\" x=\"86.226886\" xlink:href=\"#m2468d9ad80\" y=\"205.019646\"/>\n     <use style=\"fill:#1f77b4;stroke:#1f77b4;\" x=\"73.720462\" xlink:href=\"#m2468d9ad80\" y=\"211.991795\"/>\n     <use style=\"fill:#1f77b4;stroke:#1f77b4;\" x=\"69.249255\" xlink:href=\"#m2468d9ad80\" y=\"213.455809\"/>\n     <use style=\"fill:#1f77b4;stroke:#1f77b4;\" x=\"351.69143\" xlink:href=\"#m2468d9ad80\" y=\"70.021721\"/>\n     <use style=\"fill:#1f77b4;stroke:#1f77b4;\" x=\"71.486703\" xlink:href=\"#m2468d9ad80\" y=\"210.010285\"/>\n     <use style=\"fill:#1f77b4;stroke:#1f77b4;\" x=\"115.696935\" xlink:href=\"#m2468d9ad80\" y=\"191.308749\"/>\n     <use style=\"fill:#1f77b4;stroke:#1f77b4;\" x=\"125.407423\" xlink:href=\"#m2468d9ad80\" y=\"186.636835\"/>\n     <use style=\"fill:#1f77b4;stroke:#1f77b4;\" x=\"93.061279\" xlink:href=\"#m2468d9ad80\" y=\"202.184892\"/>\n     <use style=\"fill:#1f77b4;stroke:#1f77b4;\" x=\"68.338551\" xlink:href=\"#m2468d9ad80\" y=\"212.831828\"/>\n     <use style=\"fill:#1f77b4;stroke:#1f77b4;\" x=\"93.560972\" xlink:href=\"#m2468d9ad80\" y=\"201.910815\"/>\n     <use style=\"fill:#1f77b4;stroke:#1f77b4;\" x=\"293.366882\" xlink:href=\"#m2468d9ad80\" y=\"105.339825\"/>\n     <use style=\"fill:#1f77b4;stroke:#1f77b4;\" x=\"307.189486\" xlink:href=\"#m2468d9ad80\" y=\"153.569661\"/>\n     <use style=\"fill:#1f77b4;stroke:#1f77b4;\" x=\"80.756432\" xlink:href=\"#m2468d9ad80\" y=\"208.163701\"/>\n     <use style=\"fill:#1f77b4;stroke:#1f77b4;\" x=\"98.159421\" xlink:href=\"#m2468d9ad80\" y=\"200.40649\"/>\n     <use style=\"fill:#1f77b4;stroke:#1f77b4;\" x=\"324.855668\" xlink:href=\"#m2468d9ad80\" y=\"90.984172\"/>\n     <use style=\"fill:#1f77b4;stroke:#1f77b4;\" x=\"121.141746\" xlink:href=\"#m2468d9ad80\" y=\"188.698259\"/>\n     <use style=\"fill:#1f77b4;stroke:#1f77b4;\" x=\"67.990347\" xlink:href=\"#m2468d9ad80\" y=\"212.834778\"/>\n     <use style=\"fill:#1f77b4;stroke:#1f77b4;\" x=\"86.44319\" xlink:href=\"#m2468d9ad80\" y=\"153.156492\"/>\n     <use style=\"fill:#1f77b4;stroke:#1f77b4;\" x=\"114.77583\" xlink:href=\"#m2468d9ad80\" y=\"167.463127\"/>\n     <use style=\"fill:#1f77b4;stroke:#1f77b4;\" x=\"302.978729\" xlink:href=\"#m2468d9ad80\" y=\"161.564484\"/>\n     <use style=\"fill:#1f77b4;stroke:#1f77b4;\" x=\"104.021461\" xlink:href=\"#m2468d9ad80\" y=\"197.139652\"/>\n     <use style=\"fill:#1f77b4;stroke:#1f77b4;\" x=\"88.323193\" xlink:href=\"#m2468d9ad80\" y=\"203.289399\"/>\n     <use style=\"fill:#1f77b4;stroke:#1f77b4;\" x=\"106.509982\" xlink:href=\"#m2468d9ad80\" y=\"126.791143\"/>\n     <use style=\"fill:#1f77b4;stroke:#1f77b4;\" x=\"78.463871\" xlink:href=\"#m2468d9ad80\" y=\"209.047038\"/>\n     <use style=\"fill:#1f77b4;stroke:#1f77b4;\" x=\"133.204386\" xlink:href=\"#m2468d9ad80\" y=\"183.06759\"/>\n     <use style=\"fill:#1f77b4;stroke:#1f77b4;\" x=\"83.150263\" xlink:href=\"#m2468d9ad80\" y=\"206.642442\"/>\n     <use style=\"fill:#1f77b4;stroke:#1f77b4;\" x=\"305.530576\" xlink:href=\"#m2468d9ad80\" y=\"106.522927\"/>\n     <use style=\"fill:#1f77b4;stroke:#1f77b4;\" x=\"138.598208\" xlink:href=\"#m2468d9ad80\" y=\"181.138538\"/>\n     <use style=\"fill:#1f77b4;stroke:#1f77b4;\" x=\"117.960961\" xlink:href=\"#m2468d9ad80\" y=\"189.988628\"/>\n     <use style=\"fill:#1f77b4;stroke:#1f77b4;\" x=\"84.795651\" xlink:href=\"#m2468d9ad80\" y=\"205.642415\"/>\n     <use style=\"fill:#1f77b4;stroke:#1f77b4;\" x=\"348.907436\" xlink:href=\"#m2468d9ad80\" y=\"76.034375\"/>\n     <use style=\"fill:#1f77b4;stroke:#1f77b4;\" x=\"143.604517\" xlink:href=\"#m2468d9ad80\" y=\"177.392119\"/>\n     <use style=\"fill:#1f77b4;stroke:#1f77b4;\" x=\"148.82845\" xlink:href=\"#m2468d9ad80\" y=\"99.670278\"/>\n     <use style=\"fill:#1f77b4;stroke:#1f77b4;\" x=\"360.2802\" xlink:href=\"#m2468d9ad80\" y=\"65.926989\"/>\n     <use style=\"fill:#1f77b4;stroke:#1f77b4;\" x=\"281.96948\" xlink:href=\"#m2468d9ad80\" y=\"171.878865\"/>\n     <use style=\"fill:#1f77b4;stroke:#1f77b4;\" x=\"71.263544\" xlink:href=\"#m2468d9ad80\" y=\"211.428499\"/>\n     <use style=\"fill:#1f77b4;stroke:#1f77b4;\" x=\"93.96792\" xlink:href=\"#m2468d9ad80\" y=\"201.444637\"/>\n     <use style=\"fill:#1f77b4;stroke:#1f77b4;\" x=\"113.502021\" xlink:href=\"#m2468d9ad80\" y=\"192.548388\"/>\n     <use style=\"fill:#1f77b4;stroke:#1f77b4;\" x=\"78.975233\" xlink:href=\"#m2468d9ad80\" y=\"207.580203\"/>\n     <use style=\"fill:#1f77b4;stroke:#1f77b4;\" x=\"315.758441\" xlink:href=\"#m2468d9ad80\" y=\"148.656188\"/>\n     <use style=\"fill:#1f77b4;stroke:#1f77b4;\" x=\"106.825667\" xlink:href=\"#m2468d9ad80\" y=\"196.018995\"/>\n     <use style=\"fill:#1f77b4;stroke:#1f77b4;\" x=\"130.321302\" xlink:href=\"#m2468d9ad80\" y=\"184.275723\"/>\n     <use style=\"fill:#1f77b4;stroke:#1f77b4;\" x=\"345.096912\" xlink:href=\"#m2468d9ad80\" y=\"77.206093\"/>\n     <use style=\"fill:#1f77b4;stroke:#1f77b4;\" x=\"89.760835\" xlink:href=\"#m2468d9ad80\" y=\"204.013175\"/>\n     <use style=\"fill:#1f77b4;stroke:#1f77b4;\" x=\"106.385079\" xlink:href=\"#m2468d9ad80\" y=\"195.70772\"/>\n     <use style=\"fill:#1f77b4;stroke:#1f77b4;\" x=\"363.344318\" xlink:href=\"#m2468d9ad80\" y=\"61.837775\"/>\n     <use style=\"fill:#1f77b4;stroke:#1f77b4;\" x=\"111.92556\" xlink:href=\"#m2468d9ad80\" y=\"197.668901\"/>\n     <use style=\"fill:#1f77b4;stroke:#1f77b4;\" x=\"67.932492\" xlink:href=\"#m2468d9ad80\" y=\"212.43898\"/>\n     <use style=\"fill:#1f77b4;stroke:#1f77b4;\" x=\"79.694063\" xlink:href=\"#m2468d9ad80\" y=\"212.455821\"/>\n     <use style=\"fill:#1f77b4;stroke:#1f77b4;\" x=\"74.428525\" xlink:href=\"#m2468d9ad80\" y=\"210.250207\"/>\n     <use style=\"fill:#1f77b4;stroke:#1f77b4;\" x=\"72.38105\" xlink:href=\"#m2468d9ad80\" y=\"209.34811\"/>\n     <use style=\"fill:#1f77b4;stroke:#1f77b4;\" x=\"337.32306\" xlink:href=\"#m2468d9ad80\" y=\"79.270443\"/>\n     <use style=\"fill:#1f77b4;stroke:#1f77b4;\" x=\"72.938073\" xlink:href=\"#m2468d9ad80\" y=\"213.117014\"/>\n     <use style=\"fill:#1f77b4;stroke:#1f77b4;\" x=\"82.192891\" xlink:href=\"#m2468d9ad80\" y=\"209.715352\"/>\n     <use style=\"fill:#1f77b4;stroke:#1f77b4;\" x=\"330.212816\" xlink:href=\"#m2468d9ad80\" y=\"140.605182\"/>\n     <use style=\"fill:#1f77b4;stroke:#1f77b4;\" x=\"86.075331\" xlink:href=\"#m2468d9ad80\" y=\"205.739893\"/>\n     <use style=\"fill:#1f77b4;stroke:#1f77b4;\" x=\"124.44\" xlink:href=\"#m2468d9ad80\" y=\"186.919681\"/>\n     <use style=\"fill:#1f77b4;stroke:#1f77b4;\" x=\"117.547408\" xlink:href=\"#m2468d9ad80\" y=\"191.166116\"/>\n     <use style=\"fill:#1f77b4;stroke:#1f77b4;\" x=\"73.610114\" xlink:href=\"#m2468d9ad80\" y=\"212.48939\"/>\n     <use style=\"fill:#1f77b4;stroke:#1f77b4;\" x=\"312.008965\" xlink:href=\"#m2468d9ad80\" y=\"156.101465\"/>\n     <use style=\"fill:#1f77b4;stroke:#1f77b4;\" x=\"127.518495\" xlink:href=\"#m2468d9ad80\" y=\"186.885856\"/>\n     <use style=\"fill:#1f77b4;stroke:#1f77b4;\" x=\"73.018198\" xlink:href=\"#m2468d9ad80\" y=\"157.409546\"/>\n     <use style=\"fill:#1f77b4;stroke:#1f77b4;\" x=\"95.755447\" xlink:href=\"#m2468d9ad80\" y=\"204.645242\"/>\n     <use style=\"fill:#1f77b4;stroke:#1f77b4;\" x=\"315.449216\" xlink:href=\"#m2468d9ad80\" y=\"104.233263\"/>\n     <use style=\"fill:#1f77b4;stroke:#1f77b4;\" x=\"117.025561\" xlink:href=\"#m2468d9ad80\" y=\"190.847475\"/>\n     <use style=\"fill:#1f77b4;stroke:#1f77b4;\" x=\"73.571983\" xlink:href=\"#m2468d9ad80\" y=\"212.198447\"/>\n     <use style=\"fill:#1f77b4;stroke:#1f77b4;\" x=\"131.332004\" xlink:href=\"#m2468d9ad80\" y=\"133.253549\"/>\n     <use style=\"fill:#1f77b4;stroke:#1f77b4;\" x=\"321.901544\" xlink:href=\"#m2468d9ad80\" y=\"96.994914\"/>\n     <use style=\"fill:#1f77b4;stroke:#1f77b4;\" x=\"154.9913\" xlink:href=\"#m2468d9ad80\" y=\"116.68332\"/>\n     <use style=\"fill:#1f77b4;stroke:#1f77b4;\" x=\"104.971867\" xlink:href=\"#m2468d9ad80\" y=\"196.50726\"/>\n     <use style=\"fill:#1f77b4;stroke:#1f77b4;\" x=\"352.70359\" xlink:href=\"#m2468d9ad80\" y=\"68.314451\"/>\n     <use style=\"fill:#1f77b4;stroke:#1f77b4;\" x=\"336.929184\" xlink:href=\"#m2468d9ad80\" y=\"80.14177\"/>\n     <use style=\"fill:#1f77b4;stroke:#1f77b4;\" x=\"126.527788\" xlink:href=\"#m2468d9ad80\" y=\"186.687878\"/>\n     <use style=\"fill:#1f77b4;stroke:#1f77b4;\" x=\"123.603774\" xlink:href=\"#m2468d9ad80\" y=\"187.812921\"/>\n     <use style=\"fill:#1f77b4;stroke:#1f77b4;\" x=\"71.973926\" xlink:href=\"#m2468d9ad80\" y=\"212.978855\"/>\n     <use style=\"fill:#1f77b4;stroke:#1f77b4;\" x=\"307.898556\" xlink:href=\"#m2468d9ad80\" y=\"156.138863\"/>\n     <use style=\"fill:#1f77b4;stroke:#1f77b4;\" x=\"69.272152\" xlink:href=\"#m2468d9ad80\" y=\"211.300767\"/>\n     <use style=\"fill:#1f77b4;stroke:#1f77b4;\" x=\"64.535681\" xlink:href=\"#m2468d9ad80\" y=\"212.472504\"/>\n     <use style=\"fill:#1f77b4;stroke:#1f77b4;\" x=\"111.73254\" xlink:href=\"#m2468d9ad80\" y=\"193.761334\"/>\n     <use style=\"fill:#1f77b4;stroke:#1f77b4;\" x=\"106.534402\" xlink:href=\"#m2468d9ad80\" y=\"195.693178\"/>\n     <use style=\"fill:#1f77b4;stroke:#1f77b4;\" x=\"92.335458\" xlink:href=\"#m2468d9ad80\" y=\"208.951399\"/>\n     <use style=\"fill:#1f77b4;stroke:#1f77b4;\" x=\"295.529744\" xlink:href=\"#m2468d9ad80\" y=\"113.698053\"/>\n     <use style=\"fill:#1f77b4;stroke:#1f77b4;\" x=\"78.963604\" xlink:href=\"#m2468d9ad80\" y=\"209.040073\"/>\n     <use style=\"fill:#1f77b4;stroke:#1f77b4;\" x=\"140.878733\" xlink:href=\"#m2468d9ad80\" y=\"179.017107\"/>\n     <use style=\"fill:#1f77b4;stroke:#1f77b4;\" x=\"77.547437\" xlink:href=\"#m2468d9ad80\" y=\"208.148272\"/>\n     <use style=\"fill:#1f77b4;stroke:#1f77b4;\" x=\"82.753753\" xlink:href=\"#m2468d9ad80\" y=\"207.292096\"/>\n     <use style=\"fill:#1f77b4;stroke:#1f77b4;\" x=\"154.922409\" xlink:href=\"#m2468d9ad80\" y=\"171.116661\"/>\n     <use style=\"fill:#1f77b4;stroke:#1f77b4;\" x=\"70.659642\" xlink:href=\"#m2468d9ad80\" y=\"211.512352\"/>\n     <use style=\"fill:#1f77b4;stroke:#1f77b4;\" x=\"293.645292\" xlink:href=\"#m2468d9ad80\" y=\"161.894944\"/>\n     <use style=\"fill:#1f77b4;stroke:#1f77b4;\" x=\"100.911391\" xlink:href=\"#m2468d9ad80\" y=\"197.737864\"/>\n     <use style=\"fill:#1f77b4;stroke:#1f77b4;\" x=\"123.447523\" xlink:href=\"#m2468d9ad80\" y=\"188.510765\"/>\n     <use style=\"fill:#1f77b4;stroke:#1f77b4;\" x=\"93.795623\" xlink:href=\"#m2468d9ad80\" y=\"201.457376\"/>\n     <use style=\"fill:#1f77b4;stroke:#1f77b4;\" x=\"70.561814\" xlink:href=\"#m2468d9ad80\" y=\"213.069546\"/>\n     <use style=\"fill:#1f77b4;stroke:#1f77b4;\" x=\"330.253497\" xlink:href=\"#m2468d9ad80\" y=\"143.416953\"/>\n     <use style=\"fill:#1f77b4;stroke:#1f77b4;\" x=\"147.662299\" xlink:href=\"#m2468d9ad80\" y=\"175.293585\"/>\n     <use style=\"fill:#1f77b4;stroke:#1f77b4;\" x=\"327.184405\" xlink:href=\"#m2468d9ad80\" y=\"89.724983\"/>\n     <use style=\"fill:#1f77b4;stroke:#1f77b4;\" x=\"141.066786\" xlink:href=\"#m2468d9ad80\" y=\"179.436818\"/>\n     <use style=\"fill:#1f77b4;stroke:#1f77b4;\" x=\"117.045715\" xlink:href=\"#m2468d9ad80\" y=\"190.941936\"/>\n     <use style=\"fill:#1f77b4;stroke:#1f77b4;\" x=\"155.511737\" xlink:href=\"#m2468d9ad80\" y=\"171.444783\"/>\n     <use style=\"fill:#1f77b4;stroke:#1f77b4;\" x=\"86.862374\" xlink:href=\"#m2468d9ad80\" y=\"147.668364\"/>\n     <use style=\"fill:#1f77b4;stroke:#1f77b4;\" x=\"154.792994\" xlink:href=\"#m2468d9ad80\" y=\"171.999015\"/>\n     <use style=\"fill:#1f77b4;stroke:#1f77b4;\" x=\"146.547953\" xlink:href=\"#m2468d9ad80\" y=\"175.823885\"/>\n     <use style=\"fill:#1f77b4;stroke:#1f77b4;\" x=\"117.345841\" xlink:href=\"#m2468d9ad80\" y=\"190.696606\"/>\n     <use style=\"fill:#1f77b4;stroke:#1f77b4;\" x=\"122.174827\" xlink:href=\"#m2468d9ad80\" y=\"133.494203\"/>\n     <use style=\"fill:#1f77b4;stroke:#1f77b4;\" x=\"92.236243\" xlink:href=\"#m2468d9ad80\" y=\"203.09885\"/>\n     <use style=\"fill:#1f77b4;stroke:#1f77b4;\" x=\"148.932626\" xlink:href=\"#m2468d9ad80\" y=\"175.176183\"/>\n     <use style=\"fill:#1f77b4;stroke:#1f77b4;\" x=\"76.150352\" xlink:href=\"#m2468d9ad80\" y=\"208.045462\"/>\n     <use style=\"fill:#1f77b4;stroke:#1f77b4;\" x=\"151.628908\" xlink:href=\"#m2468d9ad80\" y=\"173.706801\"/>\n     <use style=\"fill:#1f77b4;stroke:#1f77b4;\" x=\"292.564124\" xlink:href=\"#m2468d9ad80\" y=\"165.954883\"/>\n     <use style=\"fill:#1f77b4;stroke:#1f77b4;\" x=\"74.033184\" xlink:href=\"#m2468d9ad80\" y=\"213.112589\"/>\n     <use style=\"fill:#1f77b4;stroke:#1f77b4;\" x=\"89.558809\" xlink:href=\"#m2468d9ad80\" y=\"203.686879\"/>\n     <use style=\"fill:#1f77b4;stroke:#1f77b4;\" x=\"135.955879\" xlink:href=\"#m2468d9ad80\" y=\"181.82469\"/>\n     <use style=\"fill:#1f77b4;stroke:#1f77b4;\" x=\"130.186975\" xlink:href=\"#m2468d9ad80\" y=\"184.897842\"/>\n     <use style=\"fill:#1f77b4;stroke:#1f77b4;\" x=\"99.802337\" xlink:href=\"#m2468d9ad80\" y=\"198.879456\"/>\n     <use style=\"fill:#1f77b4;stroke:#1f77b4;\" x=\"101.011449\" xlink:href=\"#m2468d9ad80\" y=\"198.804749\"/>\n     <use style=\"fill:#1f77b4;stroke:#1f77b4;\" x=\"135.595679\" xlink:href=\"#m2468d9ad80\" y=\"181.724004\"/>\n     <use style=\"fill:#1f77b4;stroke:#1f77b4;\" x=\"150.602176\" xlink:href=\"#m2468d9ad80\" y=\"173.726916\"/>\n     <use style=\"fill:#1f77b4;stroke:#1f77b4;\" x=\"100.980952\" xlink:href=\"#m2468d9ad80\" y=\"198.477086\"/>\n     <use style=\"fill:#1f77b4;stroke:#1f77b4;\" x=\"358.268703\" xlink:href=\"#m2468d9ad80\" y=\"62.244045\"/>\n     <use style=\"fill:#1f77b4;stroke:#1f77b4;\" x=\"69.795247\" xlink:href=\"#m2468d9ad80\" y=\"212.524656\"/>\n     <use style=\"fill:#1f77b4;stroke:#1f77b4;\" x=\"110.447541\" xlink:href=\"#m2468d9ad80\" y=\"193.797853\"/>\n     <use style=\"fill:#1f77b4;stroke:#1f77b4;\" x=\"145.359513\" xlink:href=\"#m2468d9ad80\" y=\"176.626168\"/>\n     <use style=\"fill:#1f77b4;stroke:#1f77b4;\" x=\"86.242487\" xlink:href=\"#m2468d9ad80\" y=\"205.37073\"/>\n     <use style=\"fill:#1f77b4;stroke:#1f77b4;\" x=\"326.720443\" xlink:href=\"#m2468d9ad80\" y=\"139.464362\"/>\n     <use style=\"fill:#1f77b4;stroke:#1f77b4;\" x=\"342.342738\" xlink:href=\"#m2468d9ad80\" y=\"81.502104\"/>\n     <use style=\"fill:#1f77b4;stroke:#1f77b4;\" x=\"117.849793\" xlink:href=\"#m2468d9ad80\" y=\"190.907347\"/>\n     <use style=\"fill:#1f77b4;stroke:#1f77b4;\" x=\"121.660615\" xlink:href=\"#m2468d9ad80\" y=\"134.30424\"/>\n     <use style=\"fill:#1f77b4;stroke:#1f77b4;\" x=\"152.808407\" xlink:href=\"#m2468d9ad80\" y=\"173.340436\"/>\n     <use style=\"fill:#1f77b4;stroke:#1f77b4;\" x=\"120.555589\" xlink:href=\"#m2468d9ad80\" y=\"192.368463\"/>\n     <use style=\"fill:#1f77b4;stroke:#1f77b4;\" x=\"123.563894\" xlink:href=\"#m2468d9ad80\" y=\"187.427816\"/>\n     <use style=\"fill:#1f77b4;stroke:#1f77b4;\" x=\"108.82365\" xlink:href=\"#m2468d9ad80\" y=\"174.226885\"/>\n     <use style=\"fill:#1f77b4;stroke:#1f77b4;\" x=\"103.076361\" xlink:href=\"#m2468d9ad80\" y=\"142.592224\"/>\n     <use style=\"fill:#1f77b4;stroke:#1f77b4;\" x=\"337.561922\" xlink:href=\"#m2468d9ad80\" y=\"127.998326\"/>\n     <use style=\"fill:#1f77b4;stroke:#1f77b4;\" x=\"108.691869\" xlink:href=\"#m2468d9ad80\" y=\"195.379803\"/>\n     <use style=\"fill:#1f77b4;stroke:#1f77b4;\" x=\"126.148981\" xlink:href=\"#m2468d9ad80\" y=\"187.655377\"/>\n     <use style=\"fill:#1f77b4;stroke:#1f77b4;\" x=\"103.807654\" xlink:href=\"#m2468d9ad80\" y=\"197.139154\"/>\n     <use style=\"fill:#1f77b4;stroke:#1f77b4;\" x=\"92.474891\" xlink:href=\"#m2468d9ad80\" y=\"205.519876\"/>\n     <use style=\"fill:#1f77b4;stroke:#1f77b4;\" x=\"118.804959\" xlink:href=\"#m2468d9ad80\" y=\"190.765811\"/>\n     <use style=\"fill:#1f77b4;stroke:#1f77b4;\" x=\"100.29122\" xlink:href=\"#m2468d9ad80\" y=\"199.326661\"/>\n     <use style=\"fill:#1f77b4;stroke:#1f77b4;\" x=\"93.916298\" xlink:href=\"#m2468d9ad80\" y=\"202.942554\"/>\n     <use style=\"fill:#1f77b4;stroke:#1f77b4;\" x=\"134.812625\" xlink:href=\"#m2468d9ad80\" y=\"182.506339\"/>\n     <use style=\"fill:#1f77b4;stroke:#1f77b4;\" x=\"89.518055\" xlink:href=\"#m2468d9ad80\" y=\"203.191621\"/>\n     <use style=\"fill:#1f77b4;stroke:#1f77b4;\" x=\"69.642711\" xlink:href=\"#m2468d9ad80\" y=\"210.050514\"/>\n     <use style=\"fill:#1f77b4;stroke:#1f77b4;\" x=\"123.450253\" xlink:href=\"#m2468d9ad80\" y=\"171.805913\"/>\n     <use style=\"fill:#1f77b4;stroke:#1f77b4;\" x=\"92.702395\" xlink:href=\"#m2468d9ad80\" y=\"202.807734\"/>\n     <use style=\"fill:#1f77b4;stroke:#1f77b4;\" x=\"138.890064\" xlink:href=\"#m2468d9ad80\" y=\"179.953665\"/>\n     <use style=\"fill:#1f77b4;stroke:#1f77b4;\" x=\"316.595994\" xlink:href=\"#m2468d9ad80\" y=\"93.618068\"/>\n     <use style=\"fill:#1f77b4;stroke:#1f77b4;\" x=\"85.86248\" xlink:href=\"#m2468d9ad80\" y=\"207.950121\"/>\n     <use style=\"fill:#1f77b4;stroke:#1f77b4;\" x=\"110.907424\" xlink:href=\"#m2468d9ad80\" y=\"193.500591\"/>\n     <use style=\"fill:#1f77b4;stroke:#1f77b4;\" x=\"141.655085\" xlink:href=\"#m2468d9ad80\" y=\"178.091737\"/>\n     <use style=\"fill:#1f77b4;stroke:#1f77b4;\" x=\"80.140129\" xlink:href=\"#m2468d9ad80\" y=\"207.580802\"/>\n     <use style=\"fill:#1f77b4;stroke:#1f77b4;\" x=\"120.34553\" xlink:href=\"#m2468d9ad80\" y=\"189.524459\"/>\n     <use style=\"fill:#1f77b4;stroke:#1f77b4;\" x=\"303.545996\" xlink:href=\"#m2468d9ad80\" y=\"160.667424\"/>\n     <use style=\"fill:#1f77b4;stroke:#1f77b4;\" x=\"120.080613\" xlink:href=\"#m2468d9ad80\" y=\"189.095265\"/>\n     <use style=\"fill:#1f77b4;stroke:#1f77b4;\" x=\"93.516339\" xlink:href=\"#m2468d9ad80\" y=\"202.558589\"/>\n     <use style=\"fill:#1f77b4;stroke:#1f77b4;\" x=\"100.209582\" xlink:href=\"#m2468d9ad80\" y=\"200.155924\"/>\n     <use style=\"fill:#1f77b4;stroke:#1f77b4;\" x=\"64.88857\" xlink:href=\"#m2468d9ad80\" y=\"214.725388\"/>\n     <use style=\"fill:#1f77b4;stroke:#1f77b4;\" x=\"93.885421\" xlink:href=\"#m2468d9ad80\" y=\"202.447007\"/>\n     <use style=\"fill:#1f77b4;stroke:#1f77b4;\" x=\"110.937997\" xlink:href=\"#m2468d9ad80\" y=\"193.444964\"/>\n     <use style=\"fill:#1f77b4;stroke:#1f77b4;\" x=\"297.129264\" xlink:href=\"#m2468d9ad80\" y=\"109.327239\"/>\n     <use style=\"fill:#1f77b4;stroke:#1f77b4;\" x=\"146.726498\" xlink:href=\"#m2468d9ad80\" y=\"176.788776\"/>\n     <use style=\"fill:#1f77b4;stroke:#1f77b4;\" x=\"70.514473\" xlink:href=\"#m2468d9ad80\" y=\"194.812996\"/>\n     <use style=\"fill:#1f77b4;stroke:#1f77b4;\" x=\"308.618626\" xlink:href=\"#m2468d9ad80\" y=\"106.436577\"/>\n     <use style=\"fill:#1f77b4;stroke:#1f77b4;\" x=\"80.206411\" xlink:href=\"#m2468d9ad80\" y=\"159.779711\"/>\n     <use style=\"fill:#1f77b4;stroke:#1f77b4;\" x=\"125.878377\" xlink:href=\"#m2468d9ad80\" y=\"186.645945\"/>\n     <use style=\"fill:#1f77b4;stroke:#1f77b4;\" x=\"71.781294\" xlink:href=\"#m2468d9ad80\" y=\"208.994797\"/>\n     <use style=\"fill:#1f77b4;stroke:#1f77b4;\" x=\"155.143853\" xlink:href=\"#m2468d9ad80\" y=\"128.512985\"/>\n     <use style=\"fill:#1f77b4;stroke:#1f77b4;\" x=\"86.671707\" xlink:href=\"#m2468d9ad80\" y=\"204.729729\"/>\n     <use style=\"fill:#1f77b4;stroke:#1f77b4;\" x=\"78.057288\" xlink:href=\"#m2468d9ad80\" y=\"210.334238\"/>\n     <use style=\"fill:#1f77b4;stroke:#1f77b4;\" x=\"339.788929\" xlink:href=\"#m2468d9ad80\" y=\"80.858732\"/>\n     <use style=\"fill:#1f77b4;stroke:#1f77b4;\" x=\"73.50086\" xlink:href=\"#m2468d9ad80\" y=\"210.454242\"/>\n     <use style=\"fill:#1f77b4;stroke:#1f77b4;\" x=\"91.662695\" xlink:href=\"#m2468d9ad80\" y=\"202.273056\"/>\n     <use style=\"fill:#1f77b4;stroke:#1f77b4;\" x=\"303.716348\" xlink:href=\"#m2468d9ad80\" y=\"109.349412\"/>\n     <use style=\"fill:#1f77b4;stroke:#1f77b4;\" x=\"338.180759\" xlink:href=\"#m2468d9ad80\" y=\"84.345912\"/>\n     <use style=\"fill:#1f77b4;stroke:#1f77b4;\" x=\"78.572395\" xlink:href=\"#m2468d9ad80\" y=\"210.329813\"/>\n     <use style=\"fill:#1f77b4;stroke:#1f77b4;\" x=\"76.58556\" xlink:href=\"#m2468d9ad80\" y=\"177.814279\"/>\n     <use style=\"fill:#1f77b4;stroke:#1f77b4;\" x=\"309.958666\" xlink:href=\"#m2468d9ad80\" y=\"103.931193\"/>\n     <use style=\"fill:#1f77b4;stroke:#1f77b4;\" x=\"89.490781\" xlink:href=\"#m2468d9ad80\" y=\"204.000635\"/>\n     <use style=\"fill:#1f77b4;stroke:#1f77b4;\" x=\"81.555573\" xlink:href=\"#m2468d9ad80\" y=\"207.880136\"/>\n     <use style=\"fill:#1f77b4;stroke:#1f77b4;\" x=\"71.72992\" xlink:href=\"#m2468d9ad80\" y=\"211.270193\"/>\n     <use style=\"fill:#1f77b4;stroke:#1f77b4;\" x=\"127.816216\" xlink:href=\"#m2468d9ad80\" y=\"185.826094\"/>\n     <use style=\"fill:#1f77b4;stroke:#1f77b4;\" x=\"126.326352\" xlink:href=\"#m2468d9ad80\" y=\"186.616267\"/>\n     <use style=\"fill:#1f77b4;stroke:#1f77b4;\" x=\"111.290635\" xlink:href=\"#m2468d9ad80\" y=\"193.816172\"/>\n     <use style=\"fill:#1f77b4;stroke:#1f77b4;\" x=\"121.111325\" xlink:href=\"#m2468d9ad80\" y=\"188.620314\"/>\n     <use style=\"fill:#1f77b4;stroke:#1f77b4;\" x=\"69.620469\" xlink:href=\"#m2468d9ad80\" y=\"148.919558\"/>\n     <use style=\"fill:#1f77b4;stroke:#1f77b4;\" x=\"129.487259\" xlink:href=\"#m2468d9ad80\" y=\"184.618526\"/>\n     <use style=\"fill:#1f77b4;stroke:#1f77b4;\" x=\"153.97212\" xlink:href=\"#m2468d9ad80\" y=\"172.334845\"/>\n     <use style=\"fill:#1f77b4;stroke:#1f77b4;\" x=\"97.038953\" xlink:href=\"#m2468d9ad80\" y=\"210.52391\"/>\n     <use style=\"fill:#1f77b4;stroke:#1f77b4;\" x=\"103.254723\" xlink:href=\"#m2468d9ad80\" y=\"197.284795\"/>\n     <use style=\"fill:#1f77b4;stroke:#1f77b4;\" x=\"71.674621\" xlink:href=\"#m2468d9ad80\" y=\"210.461375\"/>\n     <use style=\"fill:#1f77b4;stroke:#1f77b4;\" x=\"78.781406\" xlink:href=\"#m2468d9ad80\" y=\"208.48916\"/>\n     <use style=\"fill:#1f77b4;stroke:#1f77b4;\" x=\"71.765923\" xlink:href=\"#m2468d9ad80\" y=\"211.996656\"/>\n     <use style=\"fill:#1f77b4;stroke:#1f77b4;\" x=\"331.859401\" xlink:href=\"#m2468d9ad80\" y=\"139.513995\"/>\n     <use style=\"fill:#1f77b4;stroke:#1f77b4;\" x=\"87.32177\" xlink:href=\"#m2468d9ad80\" y=\"207.397378\"/>\n     <use style=\"fill:#1f77b4;stroke:#1f77b4;\" x=\"140.224258\" xlink:href=\"#m2468d9ad80\" y=\"179.471683\"/>\n     <use style=\"fill:#1f77b4;stroke:#1f77b4;\" x=\"93.093161\" xlink:href=\"#m2468d9ad80\" y=\"202.642271\"/>\n     <use style=\"fill:#1f77b4;stroke:#1f77b4;\" x=\"78.467851\" xlink:href=\"#m2468d9ad80\" y=\"208.197671\"/>\n     <use style=\"fill:#1f77b4;stroke:#1f77b4;\" x=\"115.512855\" xlink:href=\"#m2468d9ad80\" y=\"191.890227\"/>\n     <use style=\"fill:#1f77b4;stroke:#1f77b4;\" x=\"102.478009\" xlink:href=\"#m2468d9ad80\" y=\"199.562007\"/>\n     <use style=\"fill:#1f77b4;stroke:#1f77b4;\" x=\"74.512412\" xlink:href=\"#m2468d9ad80\" y=\"209.877593\"/>\n     <use style=\"fill:#1f77b4;stroke:#1f77b4;\" x=\"85.457601\" xlink:href=\"#m2468d9ad80\" y=\"153.478502\"/>\n     <use style=\"fill:#1f77b4;stroke:#1f77b4;\" x=\"82.011008\" xlink:href=\"#m2468d9ad80\" y=\"205.947462\"/>\n     <use style=\"fill:#1f77b4;stroke:#1f77b4;\" x=\"87.640522\" xlink:href=\"#m2468d9ad80\" y=\"204.353005\"/>\n     <use style=\"fill:#1f77b4;stroke:#1f77b4;\" x=\"361.992007\" xlink:href=\"#m2468d9ad80\" y=\"61.844074\"/>\n     <use style=\"fill:#1f77b4;stroke:#1f77b4;\" x=\"72.670697\" xlink:href=\"#m2468d9ad80\" y=\"137.708363\"/>\n     <use style=\"fill:#1f77b4;stroke:#1f77b4;\" x=\"117.776266\" xlink:href=\"#m2468d9ad80\" y=\"190.688907\"/>\n     <use style=\"fill:#1f77b4;stroke:#1f77b4;\" x=\"309.286656\" xlink:href=\"#m2468d9ad80\" y=\"154.699237\"/>\n     <use style=\"fill:#1f77b4;stroke:#1f77b4;\" x=\"79.04095\" xlink:href=\"#m2468d9ad80\" y=\"207.816885\"/>\n     <use style=\"fill:#1f77b4;stroke:#1f77b4;\" x=\"66.275448\" xlink:href=\"#m2468d9ad80\" y=\"214.324092\"/>\n     <use style=\"fill:#1f77b4;stroke:#1f77b4;\" x=\"94.546629\" xlink:href=\"#m2468d9ad80\" y=\"201.494231\"/>\n     <use style=\"fill:#1f77b4;stroke:#1f77b4;\" x=\"118.231495\" xlink:href=\"#m2468d9ad80\" y=\"190.177508\"/>\n     <use style=\"fill:#1f77b4;stroke:#1f77b4;\" x=\"123.867523\" xlink:href=\"#m2468d9ad80\" y=\"188.707436\"/>\n     <use style=\"fill:#1f77b4;stroke:#1f77b4;\" x=\"142.231382\" xlink:href=\"#m2468d9ad80\" y=\"178.989156\"/>\n     <use style=\"fill:#1f77b4;stroke:#1f77b4;\" x=\"131.883174\" xlink:href=\"#m2468d9ad80\" y=\"184.269817\"/>\n     <use style=\"fill:#1f77b4;stroke:#1f77b4;\" x=\"133.088879\" xlink:href=\"#m2468d9ad80\" y=\"183.121986\"/>\n     <use style=\"fill:#1f77b4;stroke:#1f77b4;\" x=\"121.583806\" xlink:href=\"#m2468d9ad80\" y=\"188.451817\"/>\n     <use style=\"fill:#1f77b4;stroke:#1f77b4;\" x=\"318.003605\" xlink:href=\"#m2468d9ad80\" y=\"97.824972\"/>\n     <use style=\"fill:#1f77b4;stroke:#1f77b4;\" x=\"77.266268\" xlink:href=\"#m2468d9ad80\" y=\"208.574683\"/>\n     <use style=\"fill:#1f77b4;stroke:#1f77b4;\" x=\"91.941419\" xlink:href=\"#m2468d9ad80\" y=\"203.344571\"/>\n     <use style=\"fill:#1f77b4;stroke:#1f77b4;\" x=\"71.308889\" xlink:href=\"#m2468d9ad80\" y=\"211.597769\"/>\n     <use style=\"fill:#1f77b4;stroke:#1f77b4;\" x=\"133.531872\" xlink:href=\"#m2468d9ad80\" y=\"183.102319\"/>\n     <use style=\"fill:#1f77b4;stroke:#1f77b4;\" x=\"151.634511\" xlink:href=\"#m2468d9ad80\" y=\"173.704343\"/>\n     <use style=\"fill:#1f77b4;stroke:#1f77b4;\" x=\"78.019231\" xlink:href=\"#m2468d9ad80\" y=\"209.029084\"/>\n     <use style=\"fill:#1f77b4;stroke:#1f77b4;\" x=\"63.442085\" xlink:href=\"#m2468d9ad80\" y=\"213.150226\"/>\n     <use style=\"fill:#1f77b4;stroke:#1f77b4;\" x=\"306.965768\" xlink:href=\"#m2468d9ad80\" y=\"155.58705\"/>\n     <use style=\"fill:#1f77b4;stroke:#1f77b4;\" x=\"85.629739\" xlink:href=\"#m2468d9ad80\" y=\"205.958558\"/>\n     <use style=\"fill:#1f77b4;stroke:#1f77b4;\" x=\"143.641446\" xlink:href=\"#m2468d9ad80\" y=\"177.706582\"/>\n     <use style=\"fill:#1f77b4;stroke:#1f77b4;\" x=\"87.092324\" xlink:href=\"#m2468d9ad80\" y=\"205.255161\"/>\n     <use style=\"fill:#1f77b4;stroke:#1f77b4;\" x=\"75.973338\" xlink:href=\"#m2468d9ad80\" y=\"209.613011\"/>\n     <use style=\"fill:#1f77b4;stroke:#1f77b4;\" x=\"87.381098\" xlink:href=\"#m2468d9ad80\" y=\"204.738624\"/>\n     <use style=\"fill:#1f77b4;stroke:#1f77b4;\" x=\"108.517054\" xlink:href=\"#m2468d9ad80\" y=\"139.247785\"/>\n     <use style=\"fill:#1f77b4;stroke:#1f77b4;\" x=\"72.23425\" xlink:href=\"#m2468d9ad80\" y=\"209.651847\"/>\n     <use style=\"fill:#1f77b4;stroke:#1f77b4;\" x=\"123.323815\" xlink:href=\"#m2468d9ad80\" y=\"188.442786\"/>\n     <use style=\"fill:#1f77b4;stroke:#1f77b4;\" x=\"274.667992\" xlink:href=\"#m2468d9ad80\" y=\"172.43256\"/>\n     <use style=\"fill:#1f77b4;stroke:#1f77b4;\" x=\"89.566533\" xlink:href=\"#m2468d9ad80\" y=\"203.691218\"/>\n     <use style=\"fill:#1f77b4;stroke:#1f77b4;\" x=\"135.395486\" xlink:href=\"#m2468d9ad80\" y=\"181.714889\"/>\n     <use style=\"fill:#1f77b4;stroke:#1f77b4;\" x=\"70.484878\" xlink:href=\"#m2468d9ad80\" y=\"212.318227\"/>\n     <use style=\"fill:#1f77b4;stroke:#1f77b4;\" x=\"143.451818\" xlink:href=\"#m2468d9ad80\" y=\"177.424816\"/>\n     <use style=\"fill:#1f77b4;stroke:#1f77b4;\" x=\"84.590011\" xlink:href=\"#m2468d9ad80\" y=\"160.870674\"/>\n     <use style=\"fill:#1f77b4;stroke:#1f77b4;\" x=\"64.101952\" xlink:href=\"#m2468d9ad80\" y=\"212.914013\"/>\n     <use style=\"fill:#1f77b4;stroke:#1f77b4;\" x=\"358.550319\" xlink:href=\"#m2468d9ad80\" y=\"66.243977\"/>\n     <use style=\"fill:#1f77b4;stroke:#1f77b4;\" x=\"73.05975\" xlink:href=\"#m2468d9ad80\" y=\"213.116522\"/>\n     <use style=\"fill:#1f77b4;stroke:#1f77b4;\" x=\"347.199665\" xlink:href=\"#m2468d9ad80\" y=\"121.298067\"/>\n     <use style=\"fill:#1f77b4;stroke:#1f77b4;\" x=\"118.19945\" xlink:href=\"#m2468d9ad80\" y=\"190.280474\"/>\n     <use style=\"fill:#1f77b4;stroke:#1f77b4;\" x=\"354.178441\" xlink:href=\"#m2468d9ad80\" y=\"118.862956\"/>\n     <use style=\"fill:#1f77b4;stroke:#1f77b4;\" x=\"103.056055\" xlink:href=\"#m2468d9ad80\" y=\"198.137972\"/>\n     <use style=\"fill:#1f77b4;stroke:#1f77b4;\" x=\"94.596478\" xlink:href=\"#m2468d9ad80\" y=\"203.049726\"/>\n     <use style=\"fill:#1f77b4;stroke:#1f77b4;\" x=\"70.298229\" xlink:href=\"#m2468d9ad80\" y=\"214.693428\"/>\n     <use style=\"fill:#1f77b4;stroke:#1f77b4;\" x=\"68.024092\" xlink:href=\"#m2468d9ad80\" y=\"213.091627\"/>\n     <use style=\"fill:#1f77b4;stroke:#1f77b4;\" x=\"92.740139\" xlink:href=\"#m2468d9ad80\" y=\"202.276498\"/>\n     <use style=\"fill:#1f77b4;stroke:#1f77b4;\" x=\"347.595254\" xlink:href=\"#m2468d9ad80\" y=\"25.352744\"/>\n     <use style=\"fill:#1f77b4;stroke:#1f77b4;\" x=\"93.265368\" xlink:href=\"#m2468d9ad80\" y=\"203.354323\"/>\n     <use style=\"fill:#1f77b4;stroke:#1f77b4;\" x=\"71.77016\" xlink:href=\"#m2468d9ad80\" y=\"176.152432\"/>\n     <use style=\"fill:#1f77b4;stroke:#1f77b4;\" x=\"105.646147\" xlink:href=\"#m2468d9ad80\" y=\"196.33952\"/>\n     <use style=\"fill:#1f77b4;stroke:#1f77b4;\" x=\"132.896985\" xlink:href=\"#m2468d9ad80\" y=\"183.120814\"/>\n     <use style=\"fill:#1f77b4;stroke:#1f77b4;\" x=\"134.239982\" xlink:href=\"#m2468d9ad80\" y=\"182.94711\"/>\n     <use style=\"fill:#1f77b4;stroke:#1f77b4;\" x=\"324.927523\" xlink:href=\"#m2468d9ad80\" y=\"112.929119\"/>\n     <use style=\"fill:#1f77b4;stroke:#1f77b4;\" x=\"126.770948\" xlink:href=\"#m2468d9ad80\" y=\"185.702742\"/>\n     <use style=\"fill:#1f77b4;stroke:#1f77b4;\" x=\"98.98888\" xlink:href=\"#m2468d9ad80\" y=\"199.533114\"/>\n     <use style=\"fill:#1f77b4;stroke:#1f77b4;\" x=\"107.416166\" xlink:href=\"#m2468d9ad80\" y=\"195.388196\"/>\n     <use style=\"fill:#1f77b4;stroke:#1f77b4;\" x=\"130.458131\" xlink:href=\"#m2468d9ad80\" y=\"185.117006\"/>\n     <use style=\"fill:#1f77b4;stroke:#1f77b4;\" x=\"341.629522\" xlink:href=\"#m2468d9ad80\" y=\"80.185522\"/>\n     <use style=\"fill:#1f77b4;stroke:#1f77b4;\" x=\"89.716129\" xlink:href=\"#m2468d9ad80\" y=\"202.505249\"/>\n     <use style=\"fill:#1f77b4;stroke:#1f77b4;\" x=\"80.768183\" xlink:href=\"#m2468d9ad80\" y=\"209.504641\"/>\n     <use style=\"fill:#1f77b4;stroke:#1f77b4;\" x=\"102.418936\" xlink:href=\"#m2468d9ad80\" y=\"197.603818\"/>\n     <use style=\"fill:#1f77b4;stroke:#1f77b4;\" x=\"291.61094\" xlink:href=\"#m2468d9ad80\" y=\"113.100427\"/>\n     <use style=\"fill:#1f77b4;stroke:#1f77b4;\" x=\"143.934449\" xlink:href=\"#m2468d9ad80\" y=\"177.982401\"/>\n     <use style=\"fill:#1f77b4;stroke:#1f77b4;\" x=\"116.452137\" xlink:href=\"#m2468d9ad80\" y=\"191.726091\"/>\n     <use style=\"fill:#1f77b4;stroke:#1f77b4;\" x=\"336.025165\" xlink:href=\"#m2468d9ad80\" y=\"82.943367\"/>\n     <use style=\"fill:#1f77b4;stroke:#1f77b4;\" x=\"63.228264\" xlink:href=\"#m2468d9ad80\" y=\"212.804355\"/>\n     <use style=\"fill:#1f77b4;stroke:#1f77b4;\" x=\"139.022373\" xlink:href=\"#m2468d9ad80\" y=\"180.310004\"/>\n     <use style=\"fill:#1f77b4;stroke:#1f77b4;\" x=\"154.299903\" xlink:href=\"#m2468d9ad80\" y=\"121.356974\"/>\n     <use style=\"fill:#1f77b4;stroke:#1f77b4;\" x=\"85.669943\" xlink:href=\"#m2468d9ad80\" y=\"205.682534\"/>\n     <use style=\"fill:#1f77b4;stroke:#1f77b4;\" x=\"134.206349\" xlink:href=\"#m2468d9ad80\" y=\"183.220004\"/>\n     <use style=\"fill:#1f77b4;stroke:#1f77b4;\" x=\"141.814527\" xlink:href=\"#m2468d9ad80\" y=\"178.702003\"/>\n     <use style=\"fill:#1f77b4;stroke:#1f77b4;\" x=\"321.399996\" xlink:href=\"#m2468d9ad80\" y=\"53.737275\"/>\n     <use style=\"fill:#1f77b4;stroke:#1f77b4;\" x=\"141.291968\" xlink:href=\"#m2468d9ad80\" y=\"178.908257\"/>\n     <use style=\"fill:#1f77b4;stroke:#1f77b4;\" x=\"71.854794\" xlink:href=\"#m2468d9ad80\" y=\"210.797524\"/>\n     <use style=\"fill:#1f77b4;stroke:#1f77b4;\" x=\"340.978295\" xlink:href=\"#m2468d9ad80\" y=\"131.41797\"/>\n     <use style=\"fill:#1f77b4;stroke:#1f77b4;\" x=\"289.079876\" xlink:href=\"#m2468d9ad80\" y=\"166.46645\"/>\n     <use style=\"fill:#1f77b4;stroke:#1f77b4;\" x=\"91.61117\" xlink:href=\"#m2468d9ad80\" y=\"203.878307\"/>\n     <use style=\"fill:#1f77b4;stroke:#1f77b4;\" x=\"68.17503\" xlink:href=\"#m2468d9ad80\" y=\"212.857961\"/>\n     <use style=\"fill:#1f77b4;stroke:#1f77b4;\" x=\"100.869798\" xlink:href=\"#m2468d9ad80\" y=\"199.134918\"/>\n     <use style=\"fill:#1f77b4;stroke:#1f77b4;\" x=\"340.699166\" xlink:href=\"#m2468d9ad80\" y=\"128.939267\"/>\n     <use style=\"fill:#1f77b4;stroke:#1f77b4;\" x=\"96.613869\" xlink:href=\"#m2468d9ad80\" y=\"203.776701\"/>\n     <use style=\"fill:#1f77b4;stroke:#1f77b4;\" x=\"71.693725\" xlink:href=\"#m2468d9ad80\" y=\"212.808719\"/>\n     <use style=\"fill:#1f77b4;stroke:#1f77b4;\" x=\"88.481333\" xlink:href=\"#m2468d9ad80\" y=\"204.385228\"/>\n     <use style=\"fill:#1f77b4;stroke:#1f77b4;\" x=\"86.889634\" xlink:href=\"#m2468d9ad80\" y=\"143.47361\"/>\n     <use style=\"fill:#1f77b4;stroke:#1f77b4;\" x=\"162.940284\" xlink:href=\"#m2468d9ad80\" y=\"166.690512\"/>\n     <use style=\"fill:#1f77b4;stroke:#1f77b4;\" x=\"71.996263\" xlink:href=\"#m2468d9ad80\" y=\"182.115466\"/>\n     <use style=\"fill:#1f77b4;stroke:#1f77b4;\" x=\"132.782715\" xlink:href=\"#m2468d9ad80\" y=\"136.308419\"/>\n     <use style=\"fill:#1f77b4;stroke:#1f77b4;\" x=\"136.940645\" xlink:href=\"#m2468d9ad80\" y=\"181.822991\"/>\n     <use style=\"fill:#1f77b4;stroke:#1f77b4;\" x=\"75.425846\" xlink:href=\"#m2468d9ad80\" y=\"209.39519\"/>\n     <use style=\"fill:#1f77b4;stroke:#1f77b4;\" x=\"86.79539\" xlink:href=\"#m2468d9ad80\" y=\"205.312351\"/>\n     <use style=\"fill:#1f77b4;stroke:#1f77b4;\" x=\"95.250486\" xlink:href=\"#m2468d9ad80\" y=\"201.496868\"/>\n     <use style=\"fill:#1f77b4;stroke:#1f77b4;\" x=\"333.672302\" xlink:href=\"#m2468d9ad80\" y=\"90.611612\"/>\n     <use style=\"fill:#1f77b4;stroke:#1f77b4;\" x=\"126.181267\" xlink:href=\"#m2468d9ad80\" y=\"186.322483\"/>\n     <use style=\"fill:#1f77b4;stroke:#1f77b4;\" x=\"89.284378\" xlink:href=\"#m2468d9ad80\" y=\"204.091826\"/>\n     <use style=\"fill:#1f77b4;stroke:#1f77b4;\" x=\"73.582367\" xlink:href=\"#m2468d9ad80\" y=\"129.21079\"/>\n     <use style=\"fill:#1f77b4;stroke:#1f77b4;\" x=\"358.687507\" xlink:href=\"#m2468d9ad80\" y=\"66.289801\"/>\n     <use style=\"fill:#1f77b4;stroke:#1f77b4;\" x=\"311.168041\" xlink:href=\"#m2468d9ad80\" y=\"155.836918\"/>\n     <use style=\"fill:#1f77b4;stroke:#1f77b4;\" x=\"108.677663\" xlink:href=\"#m2468d9ad80\" y=\"195.137617\"/>\n     <use style=\"fill:#1f77b4;stroke:#1f77b4;\" x=\"128.85705\" xlink:href=\"#m2468d9ad80\" y=\"185.516704\"/>\n     <use style=\"fill:#1f77b4;stroke:#1f77b4;\" x=\"101.303318\" xlink:href=\"#m2468d9ad80\" y=\"198.813539\"/>\n     <use style=\"fill:#1f77b4;stroke:#1f77b4;\" x=\"128.736216\" xlink:href=\"#m2468d9ad80\" y=\"185.895084\"/>\n     <use style=\"fill:#1f77b4;stroke:#1f77b4;\" x=\"115.031019\" xlink:href=\"#m2468d9ad80\" y=\"191.933429\"/>\n     <use style=\"fill:#1f77b4;stroke:#1f77b4;\" x=\"140.847759\" xlink:href=\"#m2468d9ad80\" y=\"179.030695\"/>\n     <use style=\"fill:#1f77b4;stroke:#1f77b4;\" x=\"117.10123\" xlink:href=\"#m2468d9ad80\" y=\"190.976354\"/>\n     <use style=\"fill:#1f77b4;stroke:#1f77b4;\" x=\"141.823819\" xlink:href=\"#m2468d9ad80\" y=\"178.389677\"/>\n     <use style=\"fill:#1f77b4;stroke:#1f77b4;\" x=\"290.339825\" xlink:href=\"#m2468d9ad80\" y=\"162.188846\"/>\n     <use style=\"fill:#1f77b4;stroke:#1f77b4;\" x=\"316.301001\" xlink:href=\"#m2468d9ad80\" y=\"150.517212\"/>\n     <use style=\"fill:#1f77b4;stroke:#1f77b4;\" x=\"68.024092\" xlink:href=\"#m2468d9ad80\" y=\"213.091627\"/>\n     <use style=\"fill:#1f77b4;stroke:#1f77b4;\" x=\"362.466775\" xlink:href=\"#m2468d9ad80\" y=\"63.452563\"/>\n     <use style=\"fill:#1f77b4;stroke:#1f77b4;\" x=\"108.698108\" xlink:href=\"#m2468d9ad80\" y=\"194.658522\"/>\n     <use style=\"fill:#1f77b4;stroke:#1f77b4;\" x=\"134.752143\" xlink:href=\"#m2468d9ad80\" y=\"182.069779\"/>\n     <use style=\"fill:#1f77b4;stroke:#1f77b4;\" x=\"107.931705\" xlink:href=\"#m2468d9ad80\" y=\"194.948792\"/>\n     <use style=\"fill:#1f77b4;stroke:#1f77b4;\" x=\"89.019882\" xlink:href=\"#m2468d9ad80\" y=\"203.663656\"/>\n     <use style=\"fill:#1f77b4;stroke:#1f77b4;\" x=\"89.570105\" xlink:href=\"#m2468d9ad80\" y=\"203.696535\"/>\n     <use style=\"fill:#1f77b4;stroke:#1f77b4;\" x=\"115.298575\" xlink:href=\"#m2468d9ad80\" y=\"191.562383\"/>\n     <use style=\"fill:#1f77b4;stroke:#1f77b4;\" x=\"114.656312\" xlink:href=\"#m2468d9ad80\" y=\"192.115077\"/>\n     <use style=\"fill:#1f77b4;stroke:#1f77b4;\" x=\"83.875461\" xlink:href=\"#m2468d9ad80\" y=\"206.268768\"/>\n     <use style=\"fill:#1f77b4;stroke:#1f77b4;\" x=\"77.828378\" xlink:href=\"#m2468d9ad80\" y=\"208.535533\"/>\n     <use style=\"fill:#1f77b4;stroke:#1f77b4;\" x=\"66.829971\" xlink:href=\"#m2468d9ad80\" y=\"212.871549\"/>\n     <use style=\"fill:#1f77b4;stroke:#1f77b4;\" x=\"94.937793\" xlink:href=\"#m2468d9ad80\" y=\"201.232623\"/>\n     <use style=\"fill:#1f77b4;stroke:#1f77b4;\" x=\"113.556078\" xlink:href=\"#m2468d9ad80\" y=\"193.314797\"/>\n     <use style=\"fill:#1f77b4;stroke:#1f77b4;\" x=\"85.11848\" xlink:href=\"#m2468d9ad80\" y=\"205.670257\"/>\n     <use style=\"fill:#1f77b4;stroke:#1f77b4;\" x=\"108.839745\" xlink:href=\"#m2468d9ad80\" y=\"195.363085\"/>\n     <use style=\"fill:#1f77b4;stroke:#1f77b4;\" x=\"82.378712\" xlink:href=\"#m2468d9ad80\" y=\"205.990989\"/>\n     <use style=\"fill:#1f77b4;stroke:#1f77b4;\" x=\"315.78102\" xlink:href=\"#m2468d9ad80\" y=\"149.314779\"/>\n     <use style=\"fill:#1f77b4;stroke:#1f77b4;\" x=\"91.742633\" xlink:href=\"#m2468d9ad80\" y=\"202.623889\"/>\n     <use style=\"fill:#1f77b4;stroke:#1f77b4;\" x=\"104.733792\" xlink:href=\"#m2468d9ad80\" y=\"196.971398\"/>\n     <use style=\"fill:#1f77b4;stroke:#1f77b4;\" x=\"75.128721\" xlink:href=\"#m2468d9ad80\" y=\"210.377014\"/>\n     <use style=\"fill:#1f77b4;stroke:#1f77b4;\" x=\"129.045178\" xlink:href=\"#m2468d9ad80\" y=\"185.063273\"/>\n     <use style=\"fill:#1f77b4;stroke:#1f77b4;\" x=\"149.115442\" xlink:href=\"#m2468d9ad80\" y=\"174.08338\"/>\n     <use style=\"fill:#1f77b4;stroke:#1f77b4;\" x=\"307.70405\" xlink:href=\"#m2468d9ad80\" y=\"106.868512\"/>\n     <use style=\"fill:#1f77b4;stroke:#1f77b4;\" x=\"98.067613\" xlink:href=\"#m2468d9ad80\" y=\"200.99601\"/>\n     <use style=\"fill:#1f77b4;stroke:#1f77b4;\" x=\"126.743242\" xlink:href=\"#m2468d9ad80\" y=\"185.865614\"/>\n     <use style=\"fill:#1f77b4;stroke:#1f77b4;\" x=\"118.515543\" xlink:href=\"#m2468d9ad80\" y=\"189.98509\"/>\n     <use style=\"fill:#1f77b4;stroke:#1f77b4;\" x=\"106.129202\" xlink:href=\"#m2468d9ad80\" y=\"195.368164\"/>\n     <use style=\"fill:#1f77b4;stroke:#1f77b4;\" x=\"101.729076\" xlink:href=\"#m2468d9ad80\" y=\"199.176219\"/>\n     <use style=\"fill:#1f77b4;stroke:#1f77b4;\" x=\"125.476135\" xlink:href=\"#m2468d9ad80\" y=\"186.606686\"/>\n     <use style=\"fill:#1f77b4;stroke:#1f77b4;\" x=\"312.014824\" xlink:href=\"#m2468d9ad80\" y=\"156.622586\"/>\n     <use style=\"fill:#1f77b4;stroke:#1f77b4;\" x=\"95.879698\" xlink:href=\"#m2468d9ad80\" y=\"201.071652\"/>\n     <use style=\"fill:#1f77b4;stroke:#1f77b4;\" x=\"96.310185\" xlink:href=\"#m2468d9ad80\" y=\"200.74822\"/>\n     <use style=\"fill:#1f77b4;stroke:#1f77b4;\" x=\"347.102799\" xlink:href=\"#m2468d9ad80\" y=\"73.628365\"/>\n     <use style=\"fill:#1f77b4;stroke:#1f77b4;\" x=\"74.674483\" xlink:href=\"#m2468d9ad80\" y=\"210.631062\"/>\n     <use style=\"fill:#1f77b4;stroke:#1f77b4;\" x=\"148.728454\" xlink:href=\"#m2468d9ad80\" y=\"175.256173\"/>\n     <use style=\"fill:#1f77b4;stroke:#1f77b4;\" x=\"93.699182\" xlink:href=\"#m2468d9ad80\" y=\"201.611502\"/>\n     <use style=\"fill:#1f77b4;stroke:#1f77b4;\" x=\"105.797046\" xlink:href=\"#m2468d9ad80\" y=\"197.107805\"/>\n     <use style=\"fill:#1f77b4;stroke:#1f77b4;\" x=\"140.565203\" xlink:href=\"#m2468d9ad80\" y=\"179.058721\"/>\n     <use style=\"fill:#1f77b4;stroke:#1f77b4;\" x=\"316.136978\" xlink:href=\"#m2468d9ad80\" y=\"146.132628\"/>\n     <use style=\"fill:#1f77b4;stroke:#1f77b4;\" x=\"136.21388\" xlink:href=\"#m2468d9ad80\" y=\"181.420919\"/>\n     <use style=\"fill:#1f77b4;stroke:#1f77b4;\" x=\"110.345514\" xlink:href=\"#m2468d9ad80\" y=\"193.848981\"/>\n     <use style=\"fill:#1f77b4;stroke:#1f77b4;\" x=\"150.023143\" xlink:href=\"#m2468d9ad80\" y=\"173.913896\"/>\n     <use style=\"fill:#1f77b4;stroke:#1f77b4;\" x=\"333.77464\" xlink:href=\"#m2468d9ad80\" y=\"82.327699\"/>\n     <use style=\"fill:#1f77b4;stroke:#1f77b4;\" x=\"135.14389\" xlink:href=\"#m2468d9ad80\" y=\"182.007408\"/>\n     <use style=\"fill:#1f77b4;stroke:#1f77b4;\" x=\"102.613822\" xlink:href=\"#m2468d9ad80\" y=\"197.817614\"/>\n     <use style=\"fill:#1f77b4;stroke:#1f77b4;\" x=\"151.901314\" xlink:href=\"#m2468d9ad80\" y=\"172.0753\"/>\n     <use style=\"fill:#1f77b4;stroke:#1f77b4;\" x=\"75.263559\" xlink:href=\"#m2468d9ad80\" y=\"213.107672\"/>\n     <use style=\"fill:#1f77b4;stroke:#1f77b4;\" x=\"93.576518\" xlink:href=\"#m2468d9ad80\" y=\"201.281599\"/>\n     <use style=\"fill:#1f77b4;stroke:#1f77b4;\" x=\"327.046388\" xlink:href=\"#m2468d9ad80\" y=\"140.843212\"/>\n     <use style=\"fill:#1f77b4;stroke:#1f77b4;\" x=\"136.43994\" xlink:href=\"#m2468d9ad80\" y=\"182.028604\"/>\n     <use style=\"fill:#1f77b4;stroke:#1f77b4;\" x=\"109.817798\" xlink:href=\"#m2468d9ad80\" y=\"194.412096\"/>\n     <use style=\"fill:#1f77b4;stroke:#1f77b4;\" x=\"89.132501\" xlink:href=\"#m2468d9ad80\" y=\"204.105807\"/>\n     <use style=\"fill:#1f77b4;stroke:#1f77b4;\" x=\"67.861409\" xlink:href=\"#m2468d9ad80\" y=\"211.601092\"/>\n     <use style=\"fill:#1f77b4;stroke:#1f77b4;\" x=\"333.876701\" xlink:href=\"#m2468d9ad80\" y=\"86.603069\"/>\n     <use style=\"fill:#1f77b4;stroke:#1f77b4;\" x=\"84.026923\" xlink:href=\"#m2468d9ad80\" y=\"143.626207\"/>\n     <use style=\"fill:#1f77b4;stroke:#1f77b4;\" x=\"150.314459\" xlink:href=\"#m2468d9ad80\" y=\"173.544529\"/>\n     <use style=\"fill:#1f77b4;stroke:#1f77b4;\" x=\"329.901104\" xlink:href=\"#m2468d9ad80\" y=\"138.389871\"/>\n     <use style=\"fill:#1f77b4;stroke:#1f77b4;\" x=\"97.612771\" xlink:href=\"#m2468d9ad80\" y=\"200.727541\"/>\n     <use style=\"fill:#1f77b4;stroke:#1f77b4;\" x=\"95.8868\" xlink:href=\"#m2468d9ad80\" y=\"200.918695\"/>\n     <use style=\"fill:#1f77b4;stroke:#1f77b4;\" x=\"152.701724\" xlink:href=\"#m2468d9ad80\" y=\"173.320859\"/>\n     <use style=\"fill:#1f77b4;stroke:#1f77b4;\" x=\"72.770748\" xlink:href=\"#m2468d9ad80\" y=\"210.658839\"/>\n     <use style=\"fill:#1f77b4;stroke:#1f77b4;\" x=\"134.637762\" xlink:href=\"#m2468d9ad80\" y=\"183.047474\"/>\n     <use style=\"fill:#1f77b4;stroke:#1f77b4;\" x=\"274.230768\" xlink:href=\"#m2468d9ad80\" y=\"174.154851\"/>\n     <use style=\"fill:#1f77b4;stroke:#1f77b4;\" x=\"70.785125\" xlink:href=\"#m2468d9ad80\" y=\"212.223501\"/>\n     <use style=\"fill:#1f77b4;stroke:#1f77b4;\" x=\"144.607087\" xlink:href=\"#m2468d9ad80\" y=\"177.689456\"/>\n     <use style=\"fill:#1f77b4;stroke:#1f77b4;\" x=\"84.74709\" xlink:href=\"#m2468d9ad80\" y=\"205.895707\"/>\n     <use style=\"fill:#1f77b4;stroke:#1f77b4;\" x=\"303.97077\" xlink:href=\"#m2468d9ad80\" y=\"108.055044\"/>\n     <use style=\"fill:#1f77b4;stroke:#1f77b4;\" x=\"117.11111\" xlink:href=\"#m2468d9ad80\" y=\"190.979796\"/>\n     <use style=\"fill:#1f77b4;stroke:#1f77b4;\" x=\"70.182349\" xlink:href=\"#m2468d9ad80\" y=\"212.316886\"/>\n     <use style=\"fill:#1f77b4;stroke:#1f77b4;\" x=\"86.195001\" xlink:href=\"#m2468d9ad80\" y=\"205.588219\"/>\n     <use style=\"fill:#1f77b4;stroke:#1f77b4;\" x=\"130.093826\" xlink:href=\"#m2468d9ad80\" y=\"184.390408\"/>\n     <use style=\"fill:#1f77b4;stroke:#1f77b4;\" x=\"124.829288\" xlink:href=\"#m2468d9ad80\" y=\"187.409842\"/>\n     <use style=\"fill:#1f77b4;stroke:#1f77b4;\" x=\"165.227953\" xlink:href=\"#m2468d9ad80\" y=\"166.638923\"/>\n     <use style=\"fill:#1f77b4;stroke:#1f77b4;\" x=\"127.106407\" xlink:href=\"#m2468d9ad80\" y=\"185.837076\"/>\n     <use style=\"fill:#1f77b4;stroke:#1f77b4;\" x=\"113.513669\" xlink:href=\"#m2468d9ad80\" y=\"192.681816\"/>\n     <use style=\"fill:#1f77b4;stroke:#1f77b4;\" x=\"323.930038\" xlink:href=\"#m2468d9ad80\" y=\"74.990215\"/>\n     <use style=\"fill:#1f77b4;stroke:#1f77b4;\" x=\"291.600548\" xlink:href=\"#m2468d9ad80\" y=\"162.562845\"/>\n     <use style=\"fill:#1f77b4;stroke:#1f77b4;\" x=\"110.281408\" xlink:href=\"#m2468d9ad80\" y=\"193.837806\"/>\n     <use style=\"fill:#1f77b4;stroke:#1f77b4;\" x=\"150.642325\" xlink:href=\"#m2468d9ad80\" y=\"173.402446\"/>\n     <use style=\"fill:#1f77b4;stroke:#1f77b4;\" x=\"138.985175\" xlink:href=\"#m2468d9ad80\" y=\"179.681319\"/>\n     <use style=\"fill:#1f77b4;stroke:#1f77b4;\" x=\"101.335411\" xlink:href=\"#m2468d9ad80\" y=\"203.293928\"/>\n     <use style=\"fill:#1f77b4;stroke:#1f77b4;\" x=\"114.603564\" xlink:href=\"#m2468d9ad80\" y=\"191.638757\"/>\n     <use style=\"fill:#1f77b4;stroke:#1f77b4;\" x=\"145.777349\" xlink:href=\"#m2468d9ad80\" y=\"176.424984\"/>\n     <use style=\"fill:#1f77b4;stroke:#1f77b4;\" x=\"305.030907\" xlink:href=\"#m2468d9ad80\" y=\"156.918959\"/>\n     <use style=\"fill:#1f77b4;stroke:#1f77b4;\" x=\"284.405322\" xlink:href=\"#m2468d9ad80\" y=\"170.107218\"/>\n     <use style=\"fill:#1f77b4;stroke:#1f77b4;\" x=\"100.835052\" xlink:href=\"#m2468d9ad80\" y=\"199.280754\"/>\n     <use style=\"fill:#1f77b4;stroke:#1f77b4;\" x=\"314.501062\" xlink:href=\"#m2468d9ad80\" y=\"97.429188\"/>\n     <use style=\"fill:#1f77b4;stroke:#1f77b4;\" x=\"67.251036\" xlink:href=\"#m2468d9ad80\" y=\"213.147498\"/>\n     <use style=\"fill:#1f77b4;stroke:#1f77b4;\" x=\"100.542056\" xlink:href=\"#m2468d9ad80\" y=\"199.103428\"/>\n     <use style=\"fill:#1f77b4;stroke:#1f77b4;\" x=\"125.624018\" xlink:href=\"#m2468d9ad80\" y=\"187.092742\"/>\n     <use style=\"fill:#1f77b4;stroke:#1f77b4;\" x=\"320.015848\" xlink:href=\"#m2468d9ad80\" y=\"150.56993\"/>\n     <use style=\"fill:#1f77b4;stroke:#1f77b4;\" x=\"115.30006\" xlink:href=\"#m2468d9ad80\" y=\"191.562807\"/>\n     <use style=\"fill:#1f77b4;stroke:#1f77b4;\" x=\"353.624909\" xlink:href=\"#m2468d9ad80\" y=\"69.795147\"/>\n     <use style=\"fill:#1f77b4;stroke:#1f77b4;\" x=\"65.257854\" xlink:href=\"#m2468d9ad80\" y=\"212.889384\"/>\n     <use style=\"fill:#1f77b4;stroke:#1f77b4;\" x=\"90.500219\" xlink:href=\"#m2468d9ad80\" y=\"204.055815\"/>\n     <use style=\"fill:#1f77b4;stroke:#1f77b4;\" x=\"313.173955\" xlink:href=\"#m2468d9ad80\" y=\"149.712796\"/>\n     <use style=\"fill:#1f77b4;stroke:#1f77b4;\" x=\"84.210247\" xlink:href=\"#m2468d9ad80\" y=\"204.548432\"/>\n     <use style=\"fill:#1f77b4;stroke:#1f77b4;\" x=\"91.703901\" xlink:href=\"#m2468d9ad80\" y=\"202.027881\"/>\n     <use style=\"fill:#1f77b4;stroke:#1f77b4;\" x=\"97.363738\" xlink:href=\"#m2468d9ad80\" y=\"200.258078\"/>\n     <use style=\"fill:#1f77b4;stroke:#1f77b4;\" x=\"106.326227\" xlink:href=\"#m2468d9ad80\" y=\"196.044049\"/>\n     <use style=\"fill:#1f77b4;stroke:#1f77b4;\" x=\"149.577386\" xlink:href=\"#m2468d9ad80\" y=\"177.870079\"/>\n     <use style=\"fill:#1f77b4;stroke:#1f77b4;\" x=\"122.186296\" xlink:href=\"#m2468d9ad80\" y=\"187.984392\"/>\n     <use style=\"fill:#1f77b4;stroke:#1f77b4;\" x=\"116.518382\" xlink:href=\"#m2468d9ad80\" y=\"191.521946\"/>\n     <use style=\"fill:#1f77b4;stroke:#1f77b4;\" x=\"112.836899\" xlink:href=\"#m2468d9ad80\" y=\"192.583461\"/>\n     <use style=\"fill:#1f77b4;stroke:#1f77b4;\" x=\"86.942728\" xlink:href=\"#m2468d9ad80\" y=\"164.351641\"/>\n     <use style=\"fill:#1f77b4;stroke:#1f77b4;\" x=\"73.829042\" xlink:href=\"#m2468d9ad80\" y=\"210.767745\"/>\n     <use style=\"fill:#1f77b4;stroke:#1f77b4;\" x=\"66.84112\" xlink:href=\"#m2468d9ad80\" y=\"213.103941\"/>\n     <use style=\"fill:#1f77b4;stroke:#1f77b4;\" x=\"95.874972\" xlink:href=\"#m2468d9ad80\" y=\"200.777258\"/>\n     <use style=\"fill:#1f77b4;stroke:#1f77b4;\" x=\"72.258087\" xlink:href=\"#m2468d9ad80\" y=\"212.003908\"/>\n     <use style=\"fill:#1f77b4;stroke:#1f77b4;\" x=\"84.714728\" xlink:href=\"#m2468d9ad80\" y=\"204.241715\"/>\n     <use style=\"fill:#1f77b4;stroke:#1f77b4;\" x=\"131.937569\" xlink:href=\"#m2468d9ad80\" y=\"183.479559\"/>\n     <use style=\"fill:#1f77b4;stroke:#1f77b4;\" x=\"72.580947\" xlink:href=\"#m2468d9ad80\" y=\"209.646751\"/>\n     <use style=\"fill:#1f77b4;stroke:#1f77b4;\" x=\"95.636503\" xlink:href=\"#m2468d9ad80\" y=\"200.055577\"/>\n     <use style=\"fill:#1f77b4;stroke:#1f77b4;\" x=\"72.389996\" xlink:href=\"#m2468d9ad80\" y=\"211.754659\"/>\n     <use style=\"fill:#1f77b4;stroke:#1f77b4;\" x=\"86.804835\" xlink:href=\"#m2468d9ad80\" y=\"207.200945\"/>\n     <use style=\"fill:#1f77b4;stroke:#1f77b4;\" x=\"285.573905\" xlink:href=\"#m2468d9ad80\" y=\"134.351464\"/>\n     <use style=\"fill:#1f77b4;stroke:#1f77b4;\" x=\"307.188988\" xlink:href=\"#m2468d9ad80\" y=\"107.509423\"/>\n     <use style=\"fill:#1f77b4;stroke:#1f77b4;\" x=\"106.457687\" xlink:href=\"#m2468d9ad80\" y=\"197.295472\"/>\n     <use style=\"fill:#1f77b4;stroke:#1f77b4;\" x=\"307.213806\" xlink:href=\"#m2468d9ad80\" y=\"153.294616\"/>\n     <use style=\"fill:#1f77b4;stroke:#1f77b4;\" x=\"75.65596\" xlink:href=\"#m2468d9ad80\" y=\"211.226896\"/>\n     <use style=\"fill:#1f77b4;stroke:#1f77b4;\" x=\"89.874957\" xlink:href=\"#m2468d9ad80\" y=\"203.892209\"/>\n     <use style=\"fill:#1f77b4;stroke:#1f77b4;\" x=\"105.516397\" xlink:href=\"#m2468d9ad80\" y=\"196.557133\"/>\n     <use style=\"fill:#1f77b4;stroke:#1f77b4;\" x=\"103.205444\" xlink:href=\"#m2468d9ad80\" y=\"198.193532\"/>\n     <use style=\"fill:#1f77b4;stroke:#1f77b4;\" x=\"127.968535\" xlink:href=\"#m2468d9ad80\" y=\"185.930855\"/>\n     <use style=\"fill:#1f77b4;stroke:#1f77b4;\" x=\"100.693995\" xlink:href=\"#m2468d9ad80\" y=\"198.414051\"/>\n     <use style=\"fill:#1f77b4;stroke:#1f77b4;\" x=\"302.40212\" xlink:href=\"#m2468d9ad80\" y=\"158.018423\"/>\n     <use style=\"fill:#1f77b4;stroke:#1f77b4;\" x=\"132.230668\" xlink:href=\"#m2468d9ad80\" y=\"184.296055\"/>\n     <use style=\"fill:#1f77b4;stroke:#1f77b4;\" x=\"121.175075\" xlink:href=\"#m2468d9ad80\" y=\"190.719101\"/>\n     <use style=\"fill:#1f77b4;stroke:#1f77b4;\" x=\"74.27219\" xlink:href=\"#m2468d9ad80\" y=\"211.396406\"/>\n     <use style=\"fill:#1f77b4;stroke:#1f77b4;\" x=\"146.650733\" xlink:href=\"#m2468d9ad80\" y=\"176.798118\"/>\n     <use style=\"fill:#1f77b4;stroke:#1f77b4;\" x=\"143.798836\" xlink:href=\"#m2468d9ad80\" y=\"177.929523\"/>\n     <use style=\"fill:#1f77b4;stroke:#1f77b4;\" x=\"84.261114\" xlink:href=\"#m2468d9ad80\" y=\"146.345828\"/>\n     <use style=\"fill:#1f77b4;stroke:#1f77b4;\" x=\"114.324795\" xlink:href=\"#m2468d9ad80\" y=\"192.419062\"/>\n     <use style=\"fill:#1f77b4;stroke:#1f77b4;\" x=\"91.975499\" xlink:href=\"#m2468d9ad80\" y=\"201.796228\"/>\n     <use style=\"fill:#1f77b4;stroke:#1f77b4;\" x=\"139.245808\" xlink:href=\"#m2468d9ad80\" y=\"181.259799\"/>\n     <use style=\"fill:#1f77b4;stroke:#1f77b4;\" x=\"151.828105\" xlink:href=\"#m2468d9ad80\" y=\"175.902867\"/>\n     <use style=\"fill:#1f77b4;stroke:#1f77b4;\" x=\"89.017817\" xlink:href=\"#m2468d9ad80\" y=\"204.107505\"/>\n     <use style=\"fill:#1f77b4;stroke:#1f77b4;\" x=\"137.845285\" xlink:href=\"#m2468d9ad80\" y=\"180.624832\"/>\n     <use style=\"fill:#1f77b4;stroke:#1f77b4;\" x=\"294.417789\" xlink:href=\"#m2468d9ad80\" y=\"109.889542\"/>\n     <use style=\"fill:#1f77b4;stroke:#1f77b4;\" x=\"76.870499\" xlink:href=\"#m2468d9ad80\" y=\"210.343937\"/>\n     <use style=\"fill:#1f77b4;stroke:#1f77b4;\" x=\"61.230682\" xlink:href=\"#m2468d9ad80\" y=\"214.371472\"/>\n     <use style=\"fill:#1f77b4;stroke:#1f77b4;\" x=\"127.341227\" xlink:href=\"#m2468d9ad80\" y=\"185.996562\"/>\n     <use style=\"fill:#1f77b4;stroke:#1f77b4;\" x=\"365.594318\" xlink:href=\"#m2468d9ad80\" y=\"58.936742\"/>\n     <use style=\"fill:#1f77b4;stroke:#1f77b4;\" x=\"317.541771\" xlink:href=\"#m2468d9ad80\" y=\"95.377356\"/>\n     <use style=\"fill:#1f77b4;stroke:#1f77b4;\" x=\"143.745553\" xlink:href=\"#m2468d9ad80\" y=\"177.749933\"/>\n     <use style=\"fill:#1f77b4;stroke:#1f77b4;\" x=\"107.484442\" xlink:href=\"#m2468d9ad80\" y=\"195.703787\"/>\n     <use style=\"fill:#1f77b4;stroke:#1f77b4;\" x=\"69.699263\" xlink:href=\"#m2468d9ad80\" y=\"212.325111\"/>\n     <use style=\"fill:#1f77b4;stroke:#1f77b4;\" x=\"95.674662\" xlink:href=\"#m2468d9ad80\" y=\"200.005937\"/>\n     <use style=\"fill:#1f77b4;stroke:#1f77b4;\" x=\"146.973762\" xlink:href=\"#m2468d9ad80\" y=\"175.839288\"/>\n     <use style=\"fill:#1f77b4;stroke:#1f77b4;\" x=\"86.660624\" xlink:href=\"#m2468d9ad80\" y=\"204.662677\"/>\n     <use style=\"fill:#1f77b4;stroke:#1f77b4;\" x=\"147.161152\" xlink:href=\"#m2468d9ad80\" y=\"175.42754\"/>\n     <use style=\"fill:#1f77b4;stroke:#1f77b4;\" x=\"74.474934\" xlink:href=\"#m2468d9ad80\" y=\"146.030961\"/>\n     <use style=\"fill:#1f77b4;stroke:#1f77b4;\" x=\"69.211559\" xlink:href=\"#m2468d9ad80\" y=\"180.148362\"/>\n     <use style=\"fill:#1f77b4;stroke:#1f77b4;\" x=\"355.459643\" xlink:href=\"#m2468d9ad80\" y=\"67.047174\"/>\n     <use style=\"fill:#1f77b4;stroke:#1f77b4;\" x=\"102.239226\" xlink:href=\"#m2468d9ad80\" y=\"198.43802\"/>\n     <use style=\"fill:#1f77b4;stroke:#1f77b4;\" x=\"350.460444\" xlink:href=\"#m2468d9ad80\" y=\"71.399665\"/>\n     <use style=\"fill:#1f77b4;stroke:#1f77b4;\" x=\"75.416623\" xlink:href=\"#m2468d9ad80\" y=\"209.89705\"/>\n     <use style=\"fill:#1f77b4;stroke:#1f77b4;\" x=\"69.945077\" xlink:href=\"#m2468d9ad80\" y=\"211.519571\"/>\n     <use style=\"fill:#1f77b4;stroke:#1f77b4;\" x=\"334.987635\" xlink:href=\"#m2468d9ad80\" y=\"89.401618\"/>\n     <use style=\"fill:#1f77b4;stroke:#1f77b4;\" x=\"312.528725\" xlink:href=\"#m2468d9ad80\" y=\"101.320039\"/>\n     <use style=\"fill:#1f77b4;stroke:#1f77b4;\" x=\"77.646801\" xlink:href=\"#m2468d9ad80\" y=\"209.593478\"/>\n     <use style=\"fill:#1f77b4;stroke:#1f77b4;\" x=\"84.322469\" xlink:href=\"#m2468d9ad80\" y=\"206.283787\"/>\n     <use style=\"fill:#1f77b4;stroke:#1f77b4;\" x=\"115.714967\" xlink:href=\"#m2468d9ad80\" y=\"191.773158\"/>\n     <use style=\"fill:#1f77b4;stroke:#1f77b4;\" x=\"87.040243\" xlink:href=\"#m2468d9ad80\" y=\"204.406395\"/>\n     <use style=\"fill:#1f77b4;stroke:#1f77b4;\" x=\"136.842425\" xlink:href=\"#m2468d9ad80\" y=\"180.644768\"/>\n     <use style=\"fill:#1f77b4;stroke:#1f77b4;\" x=\"123.812215\" xlink:href=\"#m2468d9ad80\" y=\"187.436396\"/>\n     <use style=\"fill:#1f77b4;stroke:#1f77b4;\" x=\"144.129418\" xlink:href=\"#m2468d9ad80\" y=\"178.213303\"/>\n     <use style=\"fill:#1f77b4;stroke:#1f77b4;\" x=\"133.676936\" xlink:href=\"#m2468d9ad80\" y=\"182.715982\"/>\n     <use style=\"fill:#1f77b4;stroke:#1f77b4;\" x=\"331.587181\" xlink:href=\"#m2468d9ad80\" y=\"90.261405\"/>\n     <use style=\"fill:#1f77b4;stroke:#1f77b4;\" x=\"92.080974\" xlink:href=\"#m2468d9ad80\" y=\"203.421366\"/>\n     <use style=\"fill:#1f77b4;stroke:#1f77b4;\" x=\"341.31687\" xlink:href=\"#m2468d9ad80\" y=\"125.267753\"/>\n     <use style=\"fill:#1f77b4;stroke:#1f77b4;\" x=\"120.621398\" xlink:href=\"#m2468d9ad80\" y=\"189.116906\"/>\n     <use style=\"fill:#1f77b4;stroke:#1f77b4;\" x=\"68.573104\" xlink:href=\"#m2468d9ad80\" y=\"211.285898\"/>\n     <use style=\"fill:#1f77b4;stroke:#1f77b4;\" x=\"339.764498\" xlink:href=\"#m2468d9ad80\" y=\"131.776198\"/>\n     <use style=\"fill:#1f77b4;stroke:#1f77b4;\" x=\"122.185488\" xlink:href=\"#m2468d9ad80\" y=\"187.983967\"/>\n     <use style=\"fill:#1f77b4;stroke:#1f77b4;\" x=\"92.485051\" xlink:href=\"#m2468d9ad80\" y=\"202.309961\"/>\n     <use style=\"fill:#1f77b4;stroke:#1f77b4;\" x=\"99.925385\" xlink:href=\"#m2468d9ad80\" y=\"199.15211\"/>\n     <use style=\"fill:#1f77b4;stroke:#1f77b4;\" x=\"81.355177\" xlink:href=\"#m2468d9ad80\" y=\"206.987765\"/>\n     <use style=\"fill:#1f77b4;stroke:#1f77b4;\" x=\"326.175865\" xlink:href=\"#m2468d9ad80\" y=\"141.806869\"/>\n     <use style=\"fill:#1f77b4;stroke:#1f77b4;\" x=\"322.002031\" xlink:href=\"#m2468d9ad80\" y=\"30.016563\"/>\n     <use style=\"fill:#1f77b4;stroke:#1f77b4;\" x=\"107.215508\" xlink:href=\"#m2468d9ad80\" y=\"195.205421\"/>\n     <use style=\"fill:#1f77b4;stroke:#1f77b4;\" x=\"74.430891\" xlink:href=\"#m2468d9ad80\" y=\"209.713363\"/>\n     <use style=\"fill:#1f77b4;stroke:#1f77b4;\" x=\"67.448525\" xlink:href=\"#m2468d9ad80\" y=\"211.55524\"/>\n     <use style=\"fill:#1f77b4;stroke:#1f77b4;\" x=\"104.317469\" xlink:href=\"#m2468d9ad80\" y=\"196.574476\"/>\n     <use style=\"fill:#1f77b4;stroke:#1f77b4;\" x=\"77.222943\" xlink:href=\"#m2468d9ad80\" y=\"209.68296\"/>\n     <use style=\"fill:#1f77b4;stroke:#1f77b4;\" x=\"67.206911\" xlink:href=\"#m2468d9ad80\" y=\"214.707687\"/>\n     <use style=\"fill:#1f77b4;stroke:#1f77b4;\" x=\"127.578079\" xlink:href=\"#m2468d9ad80\" y=\"136.899404\"/>\n     <use style=\"fill:#1f77b4;stroke:#1f77b4;\" x=\"130.004601\" xlink:href=\"#m2468d9ad80\" y=\"184.980187\"/>\n     <use style=\"fill:#1f77b4;stroke:#1f77b4;\" x=\"88.487264\" xlink:href=\"#m2468d9ad80\" y=\"205.709596\"/>\n     <use style=\"fill:#1f77b4;stroke:#1f77b4;\" x=\"160.932345\" xlink:href=\"#m2468d9ad80\" y=\"168.343051\"/>\n     <use style=\"fill:#1f77b4;stroke:#1f77b4;\" x=\"79.444282\" xlink:href=\"#m2468d9ad80\" y=\"208.029914\"/>\n     <use style=\"fill:#1f77b4;stroke:#1f77b4;\" x=\"339.034728\" xlink:href=\"#m2468d9ad80\" y=\"78.226878\"/>\n     <use style=\"fill:#1f77b4;stroke:#1f77b4;\" x=\"135.837519\" xlink:href=\"#m2468d9ad80\" y=\"183.064501\"/>\n     <use style=\"fill:#1f77b4;stroke:#1f77b4;\" x=\"127.577022\" xlink:href=\"#m2468d9ad80\" y=\"185.753058\"/>\n     <use style=\"fill:#1f77b4;stroke:#1f77b4;\" x=\"90.526854\" xlink:href=\"#m2468d9ad80\" y=\"172.191688\"/>\n     <use style=\"fill:#1f77b4;stroke:#1f77b4;\" x=\"354.552668\" xlink:href=\"#m2468d9ad80\" y=\"67.581852\"/>\n     <use style=\"fill:#1f77b4;stroke:#1f77b4;\" x=\"85.064592\" xlink:href=\"#m2468d9ad80\" y=\"204.893021\"/>\n     <use style=\"fill:#1f77b4;stroke:#1f77b4;\" x=\"97.287661\" xlink:href=\"#m2468d9ad80\" y=\"206.486999\"/>\n     <use style=\"fill:#1f77b4;stroke:#1f77b4;\" x=\"142.058212\" xlink:href=\"#m2468d9ad80\" y=\"178.659093\"/>\n     <use style=\"fill:#1f77b4;stroke:#1f77b4;\" x=\"116.441373\" xlink:href=\"#m2468d9ad80\" y=\"191.735924\"/>\n     <use style=\"fill:#1f77b4;stroke:#1f77b4;\" x=\"143.567408\" xlink:href=\"#m2468d9ad80\" y=\"177.153264\"/>\n     <use style=\"fill:#1f77b4;stroke:#1f77b4;\" x=\"91.19552\" xlink:href=\"#m2468d9ad80\" y=\"203.101129\"/>\n     <use style=\"fill:#1f77b4;stroke:#1f77b4;\" x=\"78.333924\" xlink:href=\"#m2468d9ad80\" y=\"208.052845\"/>\n     <use style=\"fill:#1f77b4;stroke:#1f77b4;\" x=\"94.072811\" xlink:href=\"#m2468d9ad80\" y=\"201.807744\"/>\n     <use style=\"fill:#1f77b4;stroke:#1f77b4;\" x=\"323.34862\" xlink:href=\"#m2468d9ad80\" y=\"90.46156\"/>\n     <use style=\"fill:#1f77b4;stroke:#1f77b4;\" x=\"342.177306\" xlink:href=\"#m2468d9ad80\" y=\"75.26052\"/>\n     <use style=\"fill:#1f77b4;stroke:#1f77b4;\" x=\"159.873355\" xlink:href=\"#m2468d9ad80\" y=\"169.608928\"/>\n     <use style=\"fill:#1f77b4;stroke:#1f77b4;\" x=\"135.260696\" xlink:href=\"#m2468d9ad80\" y=\"181.880116\"/>\n     <use style=\"fill:#1f77b4;stroke:#1f77b4;\" x=\"84.346789\" xlink:href=\"#m2468d9ad80\" y=\"206.279853\"/>\n     <use style=\"fill:#1f77b4;stroke:#1f77b4;\" x=\"120.855293\" xlink:href=\"#m2468d9ad80\" y=\"189.532609\"/>\n     <use style=\"fill:#1f77b4;stroke:#1f77b4;\" x=\"65.834042\" xlink:href=\"#m2468d9ad80\" y=\"212.455965\"/>\n     <use style=\"fill:#1f77b4;stroke:#1f77b4;\" x=\"123.013388\" xlink:href=\"#m2468d9ad80\" y=\"135.859951\"/>\n     <use style=\"fill:#1f77b4;stroke:#1f77b4;\" x=\"86.441\" xlink:href=\"#m2468d9ad80\" y=\"205.05892\"/>\n     <use style=\"fill:#1f77b4;stroke:#1f77b4;\" x=\"75.999045\" xlink:href=\"#m2468d9ad80\" y=\"210.410464\"/>\n     <use style=\"fill:#1f77b4;stroke:#1f77b4;\" x=\"85.098782\" xlink:href=\"#m2468d9ad80\" y=\"205.53998\"/>\n     <use style=\"fill:#1f77b4;stroke:#1f77b4;\" x=\"122.630871\" xlink:href=\"#m2468d9ad80\" y=\"188.088357\"/>\n     <use style=\"fill:#1f77b4;stroke:#1f77b4;\" x=\"105.46414\" xlink:href=\"#m2468d9ad80\" y=\"197.994588\"/>\n     <use style=\"fill:#1f77b4;stroke:#1f77b4;\" x=\"312.198441\" xlink:href=\"#m2468d9ad80\" y=\"155.607716\"/>\n     <use style=\"fill:#1f77b4;stroke:#1f77b4;\" x=\"119.729401\" xlink:href=\"#m2468d9ad80\" y=\"189.460696\"/>\n     <use style=\"fill:#1f77b4;stroke:#1f77b4;\" x=\"335.523507\" xlink:href=\"#m2468d9ad80\" y=\"86.7088\"/>\n     <use style=\"fill:#1f77b4;stroke:#1f77b4;\" x=\"309.455377\" xlink:href=\"#m2468d9ad80\" y=\"157.353995\"/>\n     <use style=\"fill:#1f77b4;stroke:#1f77b4;\" x=\"83.316571\" xlink:href=\"#m2468d9ad80\" y=\"205.483716\"/>\n     <use style=\"fill:#1f77b4;stroke:#1f77b4;\" x=\"77.90033\" xlink:href=\"#m2468d9ad80\" y=\"209.025285\"/>\n     <use style=\"fill:#1f77b4;stroke:#1f77b4;\" x=\"112.823323\" xlink:href=\"#m2468d9ad80\" y=\"150.087503\"/>\n     <use style=\"fill:#1f77b4;stroke:#1f77b4;\" x=\"127.969986\" xlink:href=\"#m2468d9ad80\" y=\"185.356542\"/>\n     <use style=\"fill:#1f77b4;stroke:#1f77b4;\" x=\"72.317726\" xlink:href=\"#m2468d9ad80\" y=\"211.264673\"/>\n     <use style=\"fill:#1f77b4;stroke:#1f77b4;\" x=\"116.283852\" xlink:href=\"#m2468d9ad80\" y=\"151.223927\"/>\n     <use style=\"fill:#1f77b4;stroke:#1f77b4;\" x=\"73.05975\" xlink:href=\"#m2468d9ad80\" y=\"172.916272\"/>\n     <use style=\"fill:#1f77b4;stroke:#1f77b4;\" x=\"326.1592\" xlink:href=\"#m2468d9ad80\" y=\"93.88661\"/>\n     <use style=\"fill:#1f77b4;stroke:#1f77b4;\" x=\"84.068734\" xlink:href=\"#m2468d9ad80\" y=\"206.596597\"/>\n     <use style=\"fill:#1f77b4;stroke:#1f77b4;\" x=\"302.141784\" xlink:href=\"#m2468d9ad80\" y=\"162.100986\"/>\n     <use style=\"fill:#1f77b4;stroke:#1f77b4;\" x=\"117.335463\" xlink:href=\"#m2468d9ad80\" y=\"190.694482\"/>\n     <use style=\"fill:#1f77b4;stroke:#1f77b4;\" x=\"98.360657\" xlink:href=\"#m2468d9ad80\" y=\"199.941179\"/>\n     <use style=\"fill:#1f77b4;stroke:#1f77b4;\" x=\"117.68311\" xlink:href=\"#m2468d9ad80\" y=\"190.423157\"/>\n     <use style=\"fill:#1f77b4;stroke:#1f77b4;\" x=\"326.86208\" xlink:href=\"#m2468d9ad80\" y=\"89.788996\"/>\n     <use style=\"fill:#1f77b4;stroke:#1f77b4;\" x=\"140.579768\" xlink:href=\"#m2468d9ad80\" y=\"179.302881\"/>\n     <use style=\"fill:#1f77b4;stroke:#1f77b4;\" x=\"137.594933\" xlink:href=\"#m2468d9ad80\" y=\"124.508804\"/>\n     <use style=\"fill:#1f77b4;stroke:#1f77b4;\" x=\"115.161511\" xlink:href=\"#m2468d9ad80\" y=\"191.959488\"/>\n     <use style=\"fill:#1f77b4;stroke:#1f77b4;\" x=\"309.242604\" xlink:href=\"#m2468d9ad80\" y=\"151.56208\"/>\n     <use style=\"fill:#1f77b4;stroke:#1f77b4;\" x=\"116.417301\" xlink:href=\"#m2468d9ad80\" y=\"190.918977\"/>\n     <use style=\"fill:#1f77b4;stroke:#1f77b4;\" x=\"94.167532\" xlink:href=\"#m2468d9ad80\" y=\"201.552301\"/>\n     <use style=\"fill:#1f77b4;stroke:#1f77b4;\" x=\"333.005211\" xlink:href=\"#m2468d9ad80\" y=\"86.737278\"/>\n     <use style=\"fill:#1f77b4;stroke:#1f77b4;\" x=\"129.923315\" xlink:href=\"#m2468d9ad80\" y=\"185.479247\"/>\n     <use style=\"fill:#1f77b4;stroke:#1f77b4;\" x=\"104.746419\" xlink:href=\"#m2468d9ad80\" y=\"138.244491\"/>\n     <use style=\"fill:#1f77b4;stroke:#1f77b4;\" x=\"70.931293\" xlink:href=\"#m2468d9ad80\" y=\"211.278261\"/>\n     <use style=\"fill:#1f77b4;stroke:#1f77b4;\" x=\"71.789571\" xlink:href=\"#m2468d9ad80\" y=\"211.091439\"/>\n     <use style=\"fill:#1f77b4;stroke:#1f77b4;\" x=\"137.088079\" xlink:href=\"#m2468d9ad80\" y=\"180.874049\"/>\n     <use style=\"fill:#1f77b4;stroke:#1f77b4;\" x=\"68.950021\" xlink:href=\"#m2468d9ad80\" y=\"214.306213\"/>\n     <use style=\"fill:#1f77b4;stroke:#1f77b4;\" x=\"86.563371\" xlink:href=\"#m2468d9ad80\" y=\"203.79851\"/>\n     <use style=\"fill:#1f77b4;stroke:#1f77b4;\" x=\"119.478213\" xlink:href=\"#m2468d9ad80\" y=\"189.772681\"/>\n     <use style=\"fill:#1f77b4;stroke:#1f77b4;\" x=\"75.992782\" xlink:href=\"#m2468d9ad80\" y=\"209.54668\"/>\n     <use style=\"fill:#1f77b4;stroke:#1f77b4;\" x=\"297.861438\" xlink:href=\"#m2468d9ad80\" y=\"107.043146\"/>\n     <use style=\"fill:#1f77b4;stroke:#1f77b4;\" x=\"111.648097\" xlink:href=\"#m2468d9ad80\" y=\"193.507705\"/>\n     <use style=\"fill:#1f77b4;stroke:#1f77b4;\" x=\"85.22136\" xlink:href=\"#m2468d9ad80\" y=\"205.929308\"/>\n     <use style=\"fill:#1f77b4;stroke:#1f77b4;\" x=\"82.71071\" xlink:href=\"#m2468d9ad80\" y=\"206.814834\"/>\n     <use style=\"fill:#1f77b4;stroke:#1f77b4;\" x=\"70.654353\" xlink:href=\"#m2468d9ad80\" y=\"211.104602\"/>\n     <use style=\"fill:#1f77b4;stroke:#1f77b4;\" x=\"87.81989\" xlink:href=\"#m2468d9ad80\" y=\"204.121975\"/>\n     <use style=\"fill:#1f77b4;stroke:#1f77b4;\" x=\"141.284223\" xlink:href=\"#m2468d9ad80\" y=\"178.911654\"/>\n     <use style=\"fill:#1f77b4;stroke:#1f77b4;\" x=\"294.039168\" xlink:href=\"#m2468d9ad80\" y=\"160.372023\"/>\n     <use style=\"fill:#1f77b4;stroke:#1f77b4;\" x=\"71.250836\" xlink:href=\"#m2468d9ad80\" y=\"210.235257\"/>\n     <use style=\"fill:#1f77b4;stroke:#1f77b4;\" x=\"299.469332\" xlink:href=\"#m2468d9ad80\" y=\"159.425736\"/>\n     <use style=\"fill:#1f77b4;stroke:#1f77b4;\" x=\"293.00324\" xlink:href=\"#m2468d9ad80\" y=\"164.067012\"/>\n     <use style=\"fill:#1f77b4;stroke:#1f77b4;\" x=\"345.912963\" xlink:href=\"#m2468d9ad80\" y=\"75.510044\"/>\n     <use style=\"fill:#1f77b4;stroke:#1f77b4;\" x=\"90.404949\" xlink:href=\"#m2468d9ad80\" y=\"203.37465\"/>\n     <use style=\"fill:#1f77b4;stroke:#1f77b4;\" x=\"115.879425\" xlink:href=\"#m2468d9ad80\" y=\"192.238264\"/>\n     <use style=\"fill:#1f77b4;stroke:#1f77b4;\" x=\"88.444435\" xlink:href=\"#m2468d9ad80\" y=\"204.039927\"/>\n     <use style=\"fill:#1f77b4;stroke:#1f77b4;\" x=\"82.355825\" xlink:href=\"#m2468d9ad80\" y=\"206.360953\"/>\n     <use style=\"fill:#1f77b4;stroke:#1f77b4;\" x=\"63.578398\" xlink:href=\"#m2468d9ad80\" y=\"212.795415\"/>\n     <use style=\"fill:#1f77b4;stroke:#1f77b4;\" x=\"108.544659\" xlink:href=\"#m2468d9ad80\" y=\"194.808772\"/>\n     <use style=\"fill:#1f77b4;stroke:#1f77b4;\" x=\"126.140724\" xlink:href=\"#m2468d9ad80\" y=\"186.342866\"/>\n     <use style=\"fill:#1f77b4;stroke:#1f77b4;\" x=\"126.484246\" xlink:href=\"#m2468d9ad80\" y=\"120.977441\"/>\n     <use style=\"fill:#1f77b4;stroke:#1f77b4;\" x=\"100.812542\" xlink:href=\"#m2468d9ad80\" y=\"198.691911\"/>\n     <use style=\"fill:#1f77b4;stroke:#1f77b4;\" x=\"295.922238\" xlink:href=\"#m2468d9ad80\" y=\"158.39612\"/>\n     <use style=\"fill:#1f77b4;stroke:#1f77b4;\" x=\"138.519762\" xlink:href=\"#m2468d9ad80\" y=\"180.164262\"/>\n     <use style=\"fill:#1f77b4;stroke:#1f77b4;\" x=\"340.862056\" xlink:href=\"#m2468d9ad80\" y=\"82.625326\"/>\n     <use style=\"fill:#1f77b4;stroke:#1f77b4;\" x=\"99.229729\" xlink:href=\"#m2468d9ad80\" y=\"199.356117\"/>\n     <use style=\"fill:#1f77b4;stroke:#1f77b4;\" x=\"324.278313\" xlink:href=\"#m2468d9ad80\" y=\"141.548255\"/>\n     <use style=\"fill:#1f77b4;stroke:#1f77b4;\" x=\"94.529038\" xlink:href=\"#m2468d9ad80\" y=\"201.146846\"/>\n     <use style=\"fill:#1f77b4;stroke:#1f77b4;\" x=\"113.524455\" xlink:href=\"#m2468d9ad80\" y=\"192.68394\"/>\n     <use style=\"fill:#1f77b4;stroke:#1f77b4;\" x=\"115.30111\" xlink:href=\"#m2468d9ad80\" y=\"115.111927\"/>\n     <use style=\"fill:#1f77b4;stroke:#1f77b4;\" x=\"77.497223\" xlink:href=\"#m2468d9ad80\" y=\"208.149971\"/>\n     <use style=\"fill:#1f77b4;stroke:#1f77b4;\" x=\"303.678486\" xlink:href=\"#m2468d9ad80\" y=\"108.495256\"/>\n     <use style=\"fill:#1f77b4;stroke:#1f77b4;\" x=\"315.355694\" xlink:href=\"#m2468d9ad80\" y=\"94.521866\"/>\n     <use style=\"fill:#1f77b4;stroke:#1f77b4;\" x=\"333.071511\" xlink:href=\"#m2468d9ad80\" y=\"88.855735\"/>\n     <use style=\"fill:#1f77b4;stroke:#1f77b4;\" x=\"132.251755\" xlink:href=\"#m2468d9ad80\" y=\"183.553137\"/>\n     <use style=\"fill:#1f77b4;stroke:#1f77b4;\" x=\"67.134967\" xlink:href=\"#m2468d9ad80\" y=\"213.148482\"/>\n     <use style=\"fill:#1f77b4;stroke:#1f77b4;\" x=\"126.35289\" xlink:href=\"#m2468d9ad80\" y=\"186.592577\"/>\n     <use style=\"fill:#1f77b4;stroke:#1f77b4;\" x=\"102.758755\" xlink:href=\"#m2468d9ad80\" y=\"197.762841\"/>\n     <use style=\"fill:#1f77b4;stroke:#1f77b4;\" x=\"121.467055\" xlink:href=\"#m2468d9ad80\" y=\"188.862649\"/>\n     <use style=\"fill:#1f77b4;stroke:#1f77b4;\" x=\"120.991237\" xlink:href=\"#m2468d9ad80\" y=\"189.492768\"/>\n     <use style=\"fill:#1f77b4;stroke:#1f77b4;\" x=\"130.198167\" xlink:href=\"#m2468d9ad80\" y=\"185.161143\"/>\n     <use style=\"fill:#1f77b4;stroke:#1f77b4;\" x=\"89.578852\" xlink:href=\"#m2468d9ad80\" y=\"204.166124\"/>\n     <use style=\"fill:#1f77b4;stroke:#1f77b4;\" x=\"143.268768\" xlink:href=\"#m2468d9ad80\" y=\"121.0567\"/>\n     <use style=\"fill:#1f77b4;stroke:#1f77b4;\" x=\"144.367983\" xlink:href=\"#m2468d9ad80\" y=\"177.752284\"/>\n     <use style=\"fill:#1f77b4;stroke:#1f77b4;\" x=\"115.513179\" xlink:href=\"#m2468d9ad80\" y=\"191.888752\"/>\n     <use style=\"fill:#1f77b4;stroke:#1f77b4;\" x=\"362.039376\" xlink:href=\"#m2468d9ad80\" y=\"61.358852\"/>\n     <use style=\"fill:#1f77b4;stroke:#1f77b4;\" x=\"72.167484\" xlink:href=\"#m2468d9ad80\" y=\"211.498764\"/>\n     <use style=\"fill:#1f77b4;stroke:#1f77b4;\" x=\"65.472015\" xlink:href=\"#m2468d9ad80\" y=\"212.86182\"/>\n     <use style=\"fill:#1f77b4;stroke:#1f77b4;\" x=\"125.699977\" xlink:href=\"#m2468d9ad80\" y=\"131.160457\"/>\n     <use style=\"fill:#1f77b4;stroke:#1f77b4;\" x=\"329.842542\" xlink:href=\"#m2468d9ad80\" y=\"88.388256\"/>\n     <use style=\"fill:#1f77b4;stroke:#1f77b4;\" x=\"272.507589\" xlink:href=\"#m2468d9ad80\" y=\"177.108212\"/>\n     <use style=\"fill:#1f77b4;stroke:#1f77b4;\" x=\"121.966337\" xlink:href=\"#m2468d9ad80\" y=\"188.260697\"/>\n     <use style=\"fill:#1f77b4;stroke:#1f77b4;\" x=\"136.497258\" xlink:href=\"#m2468d9ad80\" y=\"181.527156\"/>\n     <use style=\"fill:#1f77b4;stroke:#1f77b4;\" x=\"115.884283\" xlink:href=\"#m2468d9ad80\" y=\"192.233839\"/>\n     <use style=\"fill:#1f77b4;stroke:#1f77b4;\" x=\"337.619959\" xlink:href=\"#m2468d9ad80\" y=\"61.163705\"/>\n     <use style=\"fill:#1f77b4;stroke:#1f77b4;\" x=\"134.281271\" xlink:href=\"#m2468d9ad80\" y=\"182.205359\"/>\n     <use style=\"fill:#1f77b4;stroke:#1f77b4;\" x=\"77.538011\" xlink:href=\"#m2468d9ad80\" y=\"208.568738\"/>\n     <use style=\"fill:#1f77b4;stroke:#1f77b4;\" x=\"126.31556\" xlink:href=\"#m2468d9ad80\" y=\"186.653814\"/>\n     <use style=\"fill:#1f77b4;stroke:#1f77b4;\" x=\"105.734014\" xlink:href=\"#m2468d9ad80\" y=\"196.252905\"/>\n     <use style=\"fill:#1f77b4;stroke:#1f77b4;\" x=\"289.797403\" xlink:href=\"#m2468d9ad80\" y=\"164.797642\"/>\n     <use style=\"fill:#1f77b4;stroke:#1f77b4;\" x=\"75.386542\" xlink:href=\"#m2468d9ad80\" y=\"209.355954\"/>\n     <use style=\"fill:#1f77b4;stroke:#1f77b4;\" x=\"69.622958\" xlink:href=\"#m2468d9ad80\" y=\"211.220081\"/>\n     <use style=\"fill:#1f77b4;stroke:#1f77b4;\" x=\"297.177655\" xlink:href=\"#m2468d9ad80\" y=\"160.788267\"/>\n     <use style=\"fill:#1f77b4;stroke:#1f77b4;\" x=\"75.318998\" xlink:href=\"#m2468d9ad80\" y=\"176.913332\"/>\n     <use style=\"fill:#1f77b4;stroke:#1f77b4;\" x=\"120.185301\" xlink:href=\"#m2468d9ad80\" y=\"188.79929\"/>\n    </g>\n   </g>\n   <g id=\"matplotlib.axis_1\">\n    <g id=\"xtick_1\">\n     <g id=\"line2d_1\">\n      <defs>\n       <path d=\"M 0 0 \nL 0 3.5 \n\" id=\"mce4bf0ab6f\" style=\"stroke:#000000;stroke-width:0.8;\"/>\n      </defs>\n      <g>\n       <use style=\"stroke:#000000;stroke-width:0.8;\" x=\"56.925393\" xlink:href=\"#mce4bf0ab6f\" y=\"224.64\"/>\n      </g>\n     </g>\n     <g id=\"text_1\">\n      <!-- 0 -->\n      <defs>\n       <path d=\"M 31.78125 66.40625 \nQ 24.171875 66.40625 20.328125 58.90625 \nQ 16.5 51.421875 16.5 36.375 \nQ 16.5 21.390625 20.328125 13.890625 \nQ 24.171875 6.390625 31.78125 6.390625 \nQ 39.453125 6.390625 43.28125 13.890625 \nQ 47.125 21.390625 47.125 36.375 \nQ 47.125 51.421875 43.28125 58.90625 \nQ 39.453125 66.40625 31.78125 66.40625 \nz\nM 31.78125 74.21875 \nQ 44.046875 74.21875 50.515625 64.515625 \nQ 56.984375 54.828125 56.984375 36.375 \nQ 56.984375 17.96875 50.515625 8.265625 \nQ 44.046875 -1.421875 31.78125 -1.421875 \nQ 19.53125 -1.421875 13.0625 8.265625 \nQ 6.59375 17.96875 6.59375 36.375 \nQ 6.59375 54.828125 13.0625 64.515625 \nQ 19.53125 74.21875 31.78125 74.21875 \nz\n\" id=\"DejaVuSans-48\"/>\n      </defs>\n      <g transform=\"translate(53.744143 239.238437)scale(0.1 -0.1)\">\n       <use xlink:href=\"#DejaVuSans-48\"/>\n      </g>\n     </g>\n    </g>\n    <g id=\"xtick_2\">\n     <g id=\"line2d_2\">\n      <g>\n       <use style=\"stroke:#000000;stroke-width:0.8;\" x=\"127.674911\" xlink:href=\"#mce4bf0ab6f\" y=\"224.64\"/>\n      </g>\n     </g>\n     <g id=\"text_2\">\n      <!-- 10000 -->\n      <defs>\n       <path d=\"M 12.40625 8.296875 \nL 28.515625 8.296875 \nL 28.515625 63.921875 \nL 10.984375 60.40625 \nL 10.984375 69.390625 \nL 28.421875 72.90625 \nL 38.28125 72.90625 \nL 38.28125 8.296875 \nL 54.390625 8.296875 \nL 54.390625 0 \nL 12.40625 0 \nz\n\" id=\"DejaVuSans-49\"/>\n      </defs>\n      <g transform=\"translate(111.768661 239.238437)scale(0.1 -0.1)\">\n       <use xlink:href=\"#DejaVuSans-49\"/>\n       <use x=\"63.623047\" xlink:href=\"#DejaVuSans-48\"/>\n       <use x=\"127.246094\" xlink:href=\"#DejaVuSans-48\"/>\n       <use x=\"190.869141\" xlink:href=\"#DejaVuSans-48\"/>\n       <use x=\"254.492188\" xlink:href=\"#DejaVuSans-48\"/>\n      </g>\n     </g>\n    </g>\n    <g id=\"xtick_3\">\n     <g id=\"line2d_3\">\n      <g>\n       <use style=\"stroke:#000000;stroke-width:0.8;\" x=\"198.424428\" xlink:href=\"#mce4bf0ab6f\" y=\"224.64\"/>\n      </g>\n     </g>\n     <g id=\"text_3\">\n      <!-- 20000 -->\n      <defs>\n       <path d=\"M 19.1875 8.296875 \nL 53.609375 8.296875 \nL 53.609375 0 \nL 7.328125 0 \nL 7.328125 8.296875 \nQ 12.9375 14.109375 22.625 23.890625 \nQ 32.328125 33.6875 34.8125 36.53125 \nQ 39.546875 41.84375 41.421875 45.53125 \nQ 43.3125 49.21875 43.3125 52.78125 \nQ 43.3125 58.59375 39.234375 62.25 \nQ 35.15625 65.921875 28.609375 65.921875 \nQ 23.96875 65.921875 18.8125 64.3125 \nQ 13.671875 62.703125 7.8125 59.421875 \nL 7.8125 69.390625 \nQ 13.765625 71.78125 18.9375 73 \nQ 24.125 74.21875 28.421875 74.21875 \nQ 39.75 74.21875 46.484375 68.546875 \nQ 53.21875 62.890625 53.21875 53.421875 \nQ 53.21875 48.921875 51.53125 44.890625 \nQ 49.859375 40.875 45.40625 35.40625 \nQ 44.1875 33.984375 37.640625 27.21875 \nQ 31.109375 20.453125 19.1875 8.296875 \nz\n\" id=\"DejaVuSans-50\"/>\n      </defs>\n      <g transform=\"translate(182.518178 239.238437)scale(0.1 -0.1)\">\n       <use xlink:href=\"#DejaVuSans-50\"/>\n       <use x=\"63.623047\" xlink:href=\"#DejaVuSans-48\"/>\n       <use x=\"127.246094\" xlink:href=\"#DejaVuSans-48\"/>\n       <use x=\"190.869141\" xlink:href=\"#DejaVuSans-48\"/>\n       <use x=\"254.492188\" xlink:href=\"#DejaVuSans-48\"/>\n      </g>\n     </g>\n    </g>\n    <g id=\"xtick_4\">\n     <g id=\"line2d_4\">\n      <g>\n       <use style=\"stroke:#000000;stroke-width:0.8;\" x=\"269.173946\" xlink:href=\"#mce4bf0ab6f\" y=\"224.64\"/>\n      </g>\n     </g>\n     <g id=\"text_4\">\n      <!-- 30000 -->\n      <defs>\n       <path d=\"M 40.578125 39.3125 \nQ 47.65625 37.796875 51.625 33 \nQ 55.609375 28.21875 55.609375 21.1875 \nQ 55.609375 10.40625 48.1875 4.484375 \nQ 40.765625 -1.421875 27.09375 -1.421875 \nQ 22.515625 -1.421875 17.65625 -0.515625 \nQ 12.796875 0.390625 7.625 2.203125 \nL 7.625 11.71875 \nQ 11.71875 9.328125 16.59375 8.109375 \nQ 21.484375 6.890625 26.8125 6.890625 \nQ 36.078125 6.890625 40.9375 10.546875 \nQ 45.796875 14.203125 45.796875 21.1875 \nQ 45.796875 27.640625 41.28125 31.265625 \nQ 36.765625 34.90625 28.71875 34.90625 \nL 20.21875 34.90625 \nL 20.21875 43.015625 \nL 29.109375 43.015625 \nQ 36.375 43.015625 40.234375 45.921875 \nQ 44.09375 48.828125 44.09375 54.296875 \nQ 44.09375 59.90625 40.109375 62.90625 \nQ 36.140625 65.921875 28.71875 65.921875 \nQ 24.65625 65.921875 20.015625 65.03125 \nQ 15.375 64.15625 9.8125 62.3125 \nL 9.8125 71.09375 \nQ 15.4375 72.65625 20.34375 73.4375 \nQ 25.25 74.21875 29.59375 74.21875 \nQ 40.828125 74.21875 47.359375 69.109375 \nQ 53.90625 64.015625 53.90625 55.328125 \nQ 53.90625 49.265625 50.4375 45.09375 \nQ 46.96875 40.921875 40.578125 39.3125 \nz\n\" id=\"DejaVuSans-51\"/>\n      </defs>\n      <g transform=\"translate(253.267696 239.238437)scale(0.1 -0.1)\">\n       <use xlink:href=\"#DejaVuSans-51\"/>\n       <use x=\"63.623047\" xlink:href=\"#DejaVuSans-48\"/>\n       <use x=\"127.246094\" xlink:href=\"#DejaVuSans-48\"/>\n       <use x=\"190.869141\" xlink:href=\"#DejaVuSans-48\"/>\n       <use x=\"254.492188\" xlink:href=\"#DejaVuSans-48\"/>\n      </g>\n     </g>\n    </g>\n    <g id=\"xtick_5\">\n     <g id=\"line2d_5\">\n      <g>\n       <use style=\"stroke:#000000;stroke-width:0.8;\" x=\"339.923464\" xlink:href=\"#mce4bf0ab6f\" y=\"224.64\"/>\n      </g>\n     </g>\n     <g id=\"text_5\">\n      <!-- 40000 -->\n      <defs>\n       <path d=\"M 37.796875 64.3125 \nL 12.890625 25.390625 \nL 37.796875 25.390625 \nz\nM 35.203125 72.90625 \nL 47.609375 72.90625 \nL 47.609375 25.390625 \nL 58.015625 25.390625 \nL 58.015625 17.1875 \nL 47.609375 17.1875 \nL 47.609375 0 \nL 37.796875 0 \nL 37.796875 17.1875 \nL 4.890625 17.1875 \nL 4.890625 26.703125 \nz\n\" id=\"DejaVuSans-52\"/>\n      </defs>\n      <g transform=\"translate(324.017214 239.238437)scale(0.1 -0.1)\">\n       <use xlink:href=\"#DejaVuSans-52\"/>\n       <use x=\"63.623047\" xlink:href=\"#DejaVuSans-48\"/>\n       <use x=\"127.246094\" xlink:href=\"#DejaVuSans-48\"/>\n       <use x=\"190.869141\" xlink:href=\"#DejaVuSans-48\"/>\n       <use x=\"254.492188\" xlink:href=\"#DejaVuSans-48\"/>\n      </g>\n     </g>\n    </g>\n   </g>\n   <g id=\"matplotlib.axis_2\">\n    <g id=\"ytick_1\">\n     <g id=\"line2d_6\">\n      <defs>\n       <path d=\"M 0 0 \nL -3.5 0 \n\" id=\"mde01990f6b\" style=\"stroke:#000000;stroke-width:0.8;\"/>\n      </defs>\n      <g>\n       <use style=\"stroke:#000000;stroke-width:0.8;\" x=\"46.0125\" xlink:href=\"#mde01990f6b\" y=\"218.363981\"/>\n      </g>\n     </g>\n     <g id=\"text_6\">\n      <!-- 0 -->\n      <g transform=\"translate(32.65 222.1632)scale(0.1 -0.1)\">\n       <use xlink:href=\"#DejaVuSans-48\"/>\n      </g>\n     </g>\n    </g>\n    <g id=\"ytick_2\">\n     <g id=\"line2d_7\">\n      <g>\n       <use style=\"stroke:#000000;stroke-width:0.8;\" x=\"46.0125\" xlink:href=\"#mde01990f6b\" y=\"186.206911\"/>\n      </g>\n     </g>\n     <g id=\"text_7\">\n      <!-- 10000 -->\n      <g transform=\"translate(7.2 190.006129)scale(0.1 -0.1)\">\n       <use xlink:href=\"#DejaVuSans-49\"/>\n       <use x=\"63.623047\" xlink:href=\"#DejaVuSans-48\"/>\n       <use x=\"127.246094\" xlink:href=\"#DejaVuSans-48\"/>\n       <use x=\"190.869141\" xlink:href=\"#DejaVuSans-48\"/>\n       <use x=\"254.492188\" xlink:href=\"#DejaVuSans-48\"/>\n      </g>\n     </g>\n    </g>\n    <g id=\"ytick_3\">\n     <g id=\"line2d_8\">\n      <g>\n       <use style=\"stroke:#000000;stroke-width:0.8;\" x=\"46.0125\" xlink:href=\"#mde01990f6b\" y=\"154.04984\"/>\n      </g>\n     </g>\n     <g id=\"text_8\">\n      <!-- 20000 -->\n      <g transform=\"translate(7.2 157.849059)scale(0.1 -0.1)\">\n       <use xlink:href=\"#DejaVuSans-50\"/>\n       <use x=\"63.623047\" xlink:href=\"#DejaVuSans-48\"/>\n       <use x=\"127.246094\" xlink:href=\"#DejaVuSans-48\"/>\n       <use x=\"190.869141\" xlink:href=\"#DejaVuSans-48\"/>\n       <use x=\"254.492188\" xlink:href=\"#DejaVuSans-48\"/>\n      </g>\n     </g>\n    </g>\n    <g id=\"ytick_4\">\n     <g id=\"line2d_9\">\n      <g>\n       <use style=\"stroke:#000000;stroke-width:0.8;\" x=\"46.0125\" xlink:href=\"#mde01990f6b\" y=\"121.892769\"/>\n      </g>\n     </g>\n     <g id=\"text_9\">\n      <!-- 30000 -->\n      <g transform=\"translate(7.2 125.691988)scale(0.1 -0.1)\">\n       <use xlink:href=\"#DejaVuSans-51\"/>\n       <use x=\"63.623047\" xlink:href=\"#DejaVuSans-48\"/>\n       <use x=\"127.246094\" xlink:href=\"#DejaVuSans-48\"/>\n       <use x=\"190.869141\" xlink:href=\"#DejaVuSans-48\"/>\n       <use x=\"254.492188\" xlink:href=\"#DejaVuSans-48\"/>\n      </g>\n     </g>\n    </g>\n    <g id=\"ytick_5\">\n     <g id=\"line2d_10\">\n      <g>\n       <use style=\"stroke:#000000;stroke-width:0.8;\" x=\"46.0125\" xlink:href=\"#mde01990f6b\" y=\"89.735698\"/>\n      </g>\n     </g>\n     <g id=\"text_10\">\n      <!-- 40000 -->\n      <g transform=\"translate(7.2 93.534917)scale(0.1 -0.1)\">\n       <use xlink:href=\"#DejaVuSans-52\"/>\n       <use x=\"63.623047\" xlink:href=\"#DejaVuSans-48\"/>\n       <use x=\"127.246094\" xlink:href=\"#DejaVuSans-48\"/>\n       <use x=\"190.869141\" xlink:href=\"#DejaVuSans-48\"/>\n       <use x=\"254.492188\" xlink:href=\"#DejaVuSans-48\"/>\n      </g>\n     </g>\n    </g>\n    <g id=\"ytick_6\">\n     <g id=\"line2d_11\">\n      <g>\n       <use style=\"stroke:#000000;stroke-width:0.8;\" x=\"46.0125\" xlink:href=\"#mde01990f6b\" y=\"57.578628\"/>\n      </g>\n     </g>\n     <g id=\"text_11\">\n      <!-- 50000 -->\n      <defs>\n       <path d=\"M 10.796875 72.90625 \nL 49.515625 72.90625 \nL 49.515625 64.59375 \nL 19.828125 64.59375 \nL 19.828125 46.734375 \nQ 21.96875 47.46875 24.109375 47.828125 \nQ 26.265625 48.1875 28.421875 48.1875 \nQ 40.625 48.1875 47.75 41.5 \nQ 54.890625 34.8125 54.890625 23.390625 \nQ 54.890625 11.625 47.5625 5.09375 \nQ 40.234375 -1.421875 26.90625 -1.421875 \nQ 22.3125 -1.421875 17.546875 -0.640625 \nQ 12.796875 0.140625 7.71875 1.703125 \nL 7.71875 11.625 \nQ 12.109375 9.234375 16.796875 8.0625 \nQ 21.484375 6.890625 26.703125 6.890625 \nQ 35.15625 6.890625 40.078125 11.328125 \nQ 45.015625 15.765625 45.015625 23.390625 \nQ 45.015625 31 40.078125 35.4375 \nQ 35.15625 39.890625 26.703125 39.890625 \nQ 22.75 39.890625 18.8125 39.015625 \nQ 14.890625 38.140625 10.796875 36.28125 \nz\n\" id=\"DejaVuSans-53\"/>\n      </defs>\n      <g transform=\"translate(7.2 61.377846)scale(0.1 -0.1)\">\n       <use xlink:href=\"#DejaVuSans-53\"/>\n       <use x=\"63.623047\" xlink:href=\"#DejaVuSans-48\"/>\n       <use x=\"127.246094\" xlink:href=\"#DejaVuSans-48\"/>\n       <use x=\"190.869141\" xlink:href=\"#DejaVuSans-48\"/>\n       <use x=\"254.492188\" xlink:href=\"#DejaVuSans-48\"/>\n      </g>\n     </g>\n    </g>\n    <g id=\"ytick_7\">\n     <g id=\"line2d_12\">\n      <g>\n       <use style=\"stroke:#000000;stroke-width:0.8;\" x=\"46.0125\" xlink:href=\"#mde01990f6b\" y=\"25.421557\"/>\n      </g>\n     </g>\n     <g id=\"text_12\">\n      <!-- 60000 -->\n      <defs>\n       <path d=\"M 33.015625 40.375 \nQ 26.375 40.375 22.484375 35.828125 \nQ 18.609375 31.296875 18.609375 23.390625 \nQ 18.609375 15.53125 22.484375 10.953125 \nQ 26.375 6.390625 33.015625 6.390625 \nQ 39.65625 6.390625 43.53125 10.953125 \nQ 47.40625 15.53125 47.40625 23.390625 \nQ 47.40625 31.296875 43.53125 35.828125 \nQ 39.65625 40.375 33.015625 40.375 \nz\nM 52.59375 71.296875 \nL 52.59375 62.3125 \nQ 48.875 64.0625 45.09375 64.984375 \nQ 41.3125 65.921875 37.59375 65.921875 \nQ 27.828125 65.921875 22.671875 59.328125 \nQ 17.53125 52.734375 16.796875 39.40625 \nQ 19.671875 43.65625 24.015625 45.921875 \nQ 28.375 48.1875 33.59375 48.1875 \nQ 44.578125 48.1875 50.953125 41.515625 \nQ 57.328125 34.859375 57.328125 23.390625 \nQ 57.328125 12.15625 50.6875 5.359375 \nQ 44.046875 -1.421875 33.015625 -1.421875 \nQ 20.359375 -1.421875 13.671875 8.265625 \nQ 6.984375 17.96875 6.984375 36.375 \nQ 6.984375 53.65625 15.1875 63.9375 \nQ 23.390625 74.21875 37.203125 74.21875 \nQ 40.921875 74.21875 44.703125 73.484375 \nQ 48.484375 72.75 52.59375 71.296875 \nz\n\" id=\"DejaVuSans-54\"/>\n      </defs>\n      <g transform=\"translate(7.2 29.220775)scale(0.1 -0.1)\">\n       <use xlink:href=\"#DejaVuSans-54\"/>\n       <use x=\"63.623047\" xlink:href=\"#DejaVuSans-48\"/>\n       <use x=\"127.246094\" xlink:href=\"#DejaVuSans-48\"/>\n       <use x=\"190.869141\" xlink:href=\"#DejaVuSans-48\"/>\n       <use x=\"254.492188\" xlink:href=\"#DejaVuSans-48\"/>\n      </g>\n     </g>\n    </g>\n   </g>\n   <g id=\"patch_3\">\n    <path d=\"M 46.0125 224.64 \nL 46.0125 7.2 \n\" style=\"fill:none;stroke:#000000;stroke-linecap:square;stroke-linejoin:miter;stroke-width:0.8;\"/>\n   </g>\n   <g id=\"patch_4\">\n    <path d=\"M 380.8125 224.64 \nL 380.8125 7.2 \n\" style=\"fill:none;stroke:#000000;stroke-linecap:square;stroke-linejoin:miter;stroke-width:0.8;\"/>\n   </g>\n   <g id=\"patch_5\">\n    <path d=\"M 46.0125 224.64 \nL 380.8125 224.64 \n\" style=\"fill:none;stroke:#000000;stroke-linecap:square;stroke-linejoin:miter;stroke-width:0.8;\"/>\n   </g>\n   <g id=\"patch_6\">\n    <path d=\"M 46.0125 7.2 \nL 380.8125 7.2 \n\" style=\"fill:none;stroke:#000000;stroke-linecap:square;stroke-linejoin:miter;stroke-width:0.8;\"/>\n   </g>\n  </g>\n </g>\n <defs>\n  <clipPath id=\"pc3f7244790\">\n   <rect height=\"217.44\" width=\"334.8\" x=\"46.0125\" y=\"7.2\"/>\n  </clipPath>\n </defs>\n</svg>\n"
          },
          "metadata": {
            "needs_background": "light"
          }
        }
      ]
    },
    {
      "cell_type": "code",
      "source": [
        "np.corrcoef(y_test_pred.squeeze(),y_test.to_numpy())[0][1]"
      ],
      "metadata": {
        "colab": {
          "base_uri": "https://localhost:8080/"
        },
        "id": "ihHljActIrsU",
        "outputId": "408e035b-e2b3-4e64-b2c2-cbba5ddefc4b"
      },
      "execution_count": 138,
      "outputs": [
        {
          "output_type": "execute_result",
          "data": {
            "text/plain": [
              "0.8600869551994196"
            ]
          },
          "metadata": {},
          "execution_count": 138
        }
      ]
    },
    {
      "cell_type": "code",
      "source": [
        "plt.scatter(y_test_pred,y_test)"
      ],
      "metadata": {
        "colab": {
          "base_uri": "https://localhost:8080/",
          "height": 369
        },
        "id": "0zCtxURXGvhE",
        "outputId": "010ada62-5581-4bed-dcaa-2f54afec707a"
      },
      "execution_count": 139,
      "outputs": [
        {
          "output_type": "execute_result",
          "data": {
            "text/plain": [
              "<matplotlib.collections.PathCollection at 0x7f15d1000cd0>"
            ]
          },
          "metadata": {},
          "execution_count": 139
        },
        {
          "output_type": "display_data",
          "data": {
            "text/plain": [
              "<Figure size 432x288 with 1 Axes>"
            ],
            "image/svg+xml": "<?xml version=\"1.0\" encoding=\"utf-8\" standalone=\"no\"?>\n<!DOCTYPE svg PUBLIC \"-//W3C//DTD SVG 1.1//EN\"\n  \"http://www.w3.org/Graphics/SVG/1.1/DTD/svg11.dtd\">\n<!-- Created with matplotlib (https://matplotlib.org/) -->\n<svg height=\"248.518125pt\" version=\"1.1\" viewBox=\"0 0 388.0125 248.518125\" width=\"388.0125pt\" xmlns=\"http://www.w3.org/2000/svg\" xmlns:xlink=\"http://www.w3.org/1999/xlink\">\n <defs>\n  <style type=\"text/css\">\n*{stroke-linecap:butt;stroke-linejoin:round;}\n  </style>\n </defs>\n <g id=\"figure_1\">\n  <g id=\"patch_1\">\n   <path d=\"M 0 248.518125 \nL 388.0125 248.518125 \nL 388.0125 0 \nL 0 0 \nz\n\" style=\"fill:none;\"/>\n  </g>\n  <g id=\"axes_1\">\n   <g id=\"patch_2\">\n    <path d=\"M 46.0125 224.64 \nL 380.8125 224.64 \nL 380.8125 7.2 \nL 46.0125 7.2 \nz\n\" style=\"fill:#ffffff;\"/>\n   </g>\n   <g id=\"PathCollection_1\">\n    <defs>\n     <path d=\"M 0 3 \nC 0.795609 3 1.55874 2.683901 2.12132 2.12132 \nC 2.683901 1.55874 3 0.795609 3 0 \nC 3 -0.795609 2.683901 -1.55874 2.12132 -2.12132 \nC 1.55874 -2.683901 0.795609 -3 0 -3 \nC -0.795609 -3 -1.55874 -2.683901 -2.12132 -2.12132 \nC -2.683901 -1.55874 -3 -0.795609 -3 0 \nC -3 0.795609 -2.683901 1.55874 -2.12132 2.12132 \nC -1.55874 2.683901 -0.795609 3 0 3 \nz\n\" id=\"m527e3bfe6b\" style=\"stroke:#1f77b4;\"/>\n    </defs>\n    <g clip-path=\"url(#p8f9eebb916)\">\n     <use style=\"fill:#1f77b4;stroke:#1f77b4;\" x=\"81.752548\" xlink:href=\"#m527e3bfe6b\" y=\"207.048157\"/>\n     <use style=\"fill:#1f77b4;stroke:#1f77b4;\" x=\"161.151729\" xlink:href=\"#m527e3bfe6b\" y=\"169.073417\"/>\n     <use style=\"fill:#1f77b4;stroke:#1f77b4;\" x=\"88.161747\" xlink:href=\"#m527e3bfe6b\" y=\"161.039116\"/>\n     <use style=\"fill:#1f77b4;stroke:#1f77b4;\" x=\"90.344315\" xlink:href=\"#m527e3bfe6b\" y=\"204.452609\"/>\n     <use style=\"fill:#1f77b4;stroke:#1f77b4;\" x=\"125.035077\" xlink:href=\"#m527e3bfe6b\" y=\"188.350199\"/>\n     <use style=\"fill:#1f77b4;stroke:#1f77b4;\" x=\"109.327189\" xlink:href=\"#m527e3bfe6b\" y=\"194.846587\"/>\n     <use style=\"fill:#1f77b4;stroke:#1f77b4;\" x=\"66.34925\" xlink:href=\"#m527e3bfe6b\" y=\"212.844605\"/>\n     <use style=\"fill:#1f77b4;stroke:#1f77b4;\" x=\"128.24821\" xlink:href=\"#m527e3bfe6b\" y=\"141.097293\"/>\n     <use style=\"fill:#1f77b4;stroke:#1f77b4;\" x=\"89.994062\" xlink:href=\"#m527e3bfe6b\" y=\"204.710843\"/>\n     <use style=\"fill:#1f77b4;stroke:#1f77b4;\" x=\"72.320328\" xlink:href=\"#m527e3bfe6b\" y=\"210.786994\"/>\n     <use style=\"fill:#1f77b4;stroke:#1f77b4;\" x=\"89.89824\" xlink:href=\"#m527e3bfe6b\" y=\"203.109167\"/>\n     <use style=\"fill:#1f77b4;stroke:#1f77b4;\" x=\"70.790645\" xlink:href=\"#m527e3bfe6b\" y=\"211.542837\"/>\n     <use style=\"fill:#1f77b4;stroke:#1f77b4;\" x=\"75.460595\" xlink:href=\"#m527e3bfe6b\" y=\"212.075414\"/>\n     <use style=\"fill:#1f77b4;stroke:#1f77b4;\" x=\"134.603716\" xlink:href=\"#m527e3bfe6b\" y=\"183.113499\"/>\n     <use style=\"fill:#1f77b4;stroke:#1f77b4;\" x=\"93.450778\" xlink:href=\"#m527e3bfe6b\" y=\"157.703709\"/>\n     <use style=\"fill:#1f77b4;stroke:#1f77b4;\" x=\"365.594318\" xlink:href=\"#m527e3bfe6b\" y=\"17.083636\"/>\n     <use style=\"fill:#1f77b4;stroke:#1f77b4;\" x=\"64.906001\" xlink:href=\"#m527e3bfe6b\" y=\"213.246835\"/>\n     <use style=\"fill:#1f77b4;stroke:#1f77b4;\" x=\"288.693303\" xlink:href=\"#m527e3bfe6b\" y=\"166.426434\"/>\n     <use style=\"fill:#1f77b4;stroke:#1f77b4;\" x=\"77.895681\" xlink:href=\"#m527e3bfe6b\" y=\"211.015965\"/>\n     <use style=\"fill:#1f77b4;stroke:#1f77b4;\" x=\"105.826942\" xlink:href=\"#m527e3bfe6b\" y=\"196.295912\"/>\n     <use style=\"fill:#1f77b4;stroke:#1f77b4;\" x=\"102.608479\" xlink:href=\"#m527e3bfe6b\" y=\"198.27766\"/>\n     <use style=\"fill:#1f77b4;stroke:#1f77b4;\" x=\"75.892315\" xlink:href=\"#m527e3bfe6b\" y=\"212.793716\"/>\n     <use style=\"fill:#1f77b4;stroke:#1f77b4;\" x=\"127.769589\" xlink:href=\"#m527e3bfe6b\" y=\"185.935349\"/>\n     <use style=\"fill:#1f77b4;stroke:#1f77b4;\" x=\"98.451992\" xlink:href=\"#m527e3bfe6b\" y=\"202.17408\"/>\n     <use style=\"fill:#1f77b4;stroke:#1f77b4;\" x=\"101.695806\" xlink:href=\"#m527e3bfe6b\" y=\"198.519229\"/>\n     <use style=\"fill:#1f77b4;stroke:#1f77b4;\" x=\"74.560477\" xlink:href=\"#m527e3bfe6b\" y=\"214.726927\"/>\n     <use style=\"fill:#1f77b4;stroke:#1f77b4;\" x=\"143.381613\" xlink:href=\"#m527e3bfe6b\" y=\"178.439324\"/>\n     <use style=\"fill:#1f77b4;stroke:#1f77b4;\" x=\"313.94458\" xlink:href=\"#m527e3bfe6b\" y=\"147.866741\"/>\n     <use style=\"fill:#1f77b4;stroke:#1f77b4;\" x=\"147.509527\" xlink:href=\"#m527e3bfe6b\" y=\"177.478097\"/>\n     <use style=\"fill:#1f77b4;stroke:#1f77b4;\" x=\"87.57992\" xlink:href=\"#m527e3bfe6b\" y=\"205.137898\"/>\n     <use style=\"fill:#1f77b4;stroke:#1f77b4;\" x=\"104.116388\" xlink:href=\"#m527e3bfe6b\" y=\"197.388385\"/>\n     <use style=\"fill:#1f77b4;stroke:#1f77b4;\" x=\"80.705604\" xlink:href=\"#m527e3bfe6b\" y=\"207.637871\"/>\n     <use style=\"fill:#1f77b4;stroke:#1f77b4;\" x=\"118.584391\" xlink:href=\"#m527e3bfe6b\" y=\"190.159801\"/>\n     <use style=\"fill:#1f77b4;stroke:#1f77b4;\" x=\"144.626328\" xlink:href=\"#m527e3bfe6b\" y=\"127.063418\"/>\n     <use style=\"fill:#1f77b4;stroke:#1f77b4;\" x=\"128.747773\" xlink:href=\"#m527e3bfe6b\" y=\"153.236075\"/>\n     <use style=\"fill:#1f77b4;stroke:#1f77b4;\" x=\"321.144351\" xlink:href=\"#m527e3bfe6b\" y=\"95.111104\"/>\n     <use style=\"fill:#1f77b4;stroke:#1f77b4;\" x=\"313.671889\" xlink:href=\"#m527e3bfe6b\" y=\"151.250622\"/>\n     <use style=\"fill:#1f77b4;stroke:#1f77b4;\" x=\"93.288681\" xlink:href=\"#m527e3bfe6b\" y=\"202.170839\"/>\n     <use style=\"fill:#1f77b4;stroke:#1f77b4;\" x=\"100.794618\" xlink:href=\"#m527e3bfe6b\" y=\"199.003485\"/>\n     <use style=\"fill:#1f77b4;stroke:#1f77b4;\" x=\"103.728958\" xlink:href=\"#m527e3bfe6b\" y=\"214.674328\"/>\n     <use style=\"fill:#1f77b4;stroke:#1f77b4;\" x=\"135.868993\" xlink:href=\"#m527e3bfe6b\" y=\"181.988267\"/>\n     <use style=\"fill:#1f77b4;stroke:#1f77b4;\" x=\"113.580469\" xlink:href=\"#m527e3bfe6b\" y=\"193.715956\"/>\n     <use style=\"fill:#1f77b4;stroke:#1f77b4;\" x=\"116.72404\" xlink:href=\"#m527e3bfe6b\" y=\"157.92504\"/>\n     <use style=\"fill:#1f77b4;stroke:#1f77b4;\" x=\"74.614483\" xlink:href=\"#m527e3bfe6b\" y=\"209.37438\"/>\n     <use style=\"fill:#1f77b4;stroke:#1f77b4;\" x=\"136.867034\" xlink:href=\"#m527e3bfe6b\" y=\"181.552684\"/>\n     <use style=\"fill:#1f77b4;stroke:#1f77b4;\" x=\"140.05966\" xlink:href=\"#m527e3bfe6b\" y=\"180.846188\"/>\n     <use style=\"fill:#1f77b4;stroke:#1f77b4;\" x=\"294.048481\" xlink:href=\"#m527e3bfe6b\" y=\"166.025979\"/>\n     <use style=\"fill:#1f77b4;stroke:#1f77b4;\" x=\"138.625762\" xlink:href=\"#m527e3bfe6b\" y=\"180.668546\"/>\n     <use style=\"fill:#1f77b4;stroke:#1f77b4;\" x=\"148.119916\" xlink:href=\"#m527e3bfe6b\" y=\"175.831571\"/>\n     <use style=\"fill:#1f77b4;stroke:#1f77b4;\" x=\"137.94375\" xlink:href=\"#m527e3bfe6b\" y=\"180.691051\"/>\n     <use style=\"fill:#1f77b4;stroke:#1f77b4;\" x=\"71.939782\" xlink:href=\"#m527e3bfe6b\" y=\"209.796183\"/>\n     <use style=\"fill:#1f77b4;stroke:#1f77b4;\" x=\"312.059884\" xlink:href=\"#m527e3bfe6b\" y=\"100.719826\"/>\n     <use style=\"fill:#1f77b4;stroke:#1f77b4;\" x=\"134.012687\" xlink:href=\"#m527e3bfe6b\" y=\"183.037474\"/>\n     <use style=\"fill:#1f77b4;stroke:#1f77b4;\" x=\"154.089645\" xlink:href=\"#m527e3bfe6b\" y=\"173.057421\"/>\n     <use style=\"fill:#1f77b4;stroke:#1f77b4;\" x=\"108.501983\" xlink:href=\"#m527e3bfe6b\" y=\"195.164825\"/>\n     <use style=\"fill:#1f77b4;stroke:#1f77b4;\" x=\"131.608232\" xlink:href=\"#m527e3bfe6b\" y=\"184.562436\"/>\n     <use style=\"fill:#1f77b4;stroke:#1f77b4;\" x=\"130.067235\" xlink:href=\"#m527e3bfe6b\" y=\"185.409437\"/>\n     <use style=\"fill:#1f77b4;stroke:#1f77b4;\" x=\"102.333734\" xlink:href=\"#m527e3bfe6b\" y=\"198.167744\"/>\n     <use style=\"fill:#1f77b4;stroke:#1f77b4;\" x=\"72.308256\" xlink:href=\"#m527e3bfe6b\" y=\"213.503933\"/>\n     <use style=\"fill:#1f77b4;stroke:#1f77b4;\" x=\"127.453104\" xlink:href=\"#m527e3bfe6b\" y=\"186.814063\"/>\n     <use style=\"fill:#1f77b4;stroke:#1f77b4;\" x=\"83.319463\" xlink:href=\"#m527e3bfe6b\" y=\"207.329928\"/>\n     <use style=\"fill:#1f77b4;stroke:#1f77b4;\" x=\"88.87313\" xlink:href=\"#m527e3bfe6b\" y=\"204.004444\"/>\n     <use style=\"fill:#1f77b4;stroke:#1f77b4;\" x=\"315.790584\" xlink:href=\"#m527e3bfe6b\" y=\"104.459531\"/>\n     <use style=\"fill:#1f77b4;stroke:#1f77b4;\" x=\"301.938028\" xlink:href=\"#m527e3bfe6b\" y=\"160.759428\"/>\n     <use style=\"fill:#1f77b4;stroke:#1f77b4;\" x=\"305.328086\" xlink:href=\"#m527e3bfe6b\" y=\"155.336544\"/>\n     <use style=\"fill:#1f77b4;stroke:#1f77b4;\" x=\"151.297089\" xlink:href=\"#m527e3bfe6b\" y=\"173.358023\"/>\n     <use style=\"fill:#1f77b4;stroke:#1f77b4;\" x=\"132.055137\" xlink:href=\"#m527e3bfe6b\" y=\"184.568204\"/>\n     <use style=\"fill:#1f77b4;stroke:#1f77b4;\" x=\"135.308482\" xlink:href=\"#m527e3bfe6b\" y=\"182.514924\"/>\n     <use style=\"fill:#1f77b4;stroke:#1f77b4;\" x=\"96.867433\" xlink:href=\"#m527e3bfe6b\" y=\"203.100566\"/>\n     <use style=\"fill:#1f77b4;stroke:#1f77b4;\" x=\"138.6229\" xlink:href=\"#m527e3bfe6b\" y=\"180.970939\"/>\n     <use style=\"fill:#1f77b4;stroke:#1f77b4;\" x=\"97.130411\" xlink:href=\"#m527e3bfe6b\" y=\"200.688664\"/>\n     <use style=\"fill:#1f77b4;stroke:#1f77b4;\" x=\"132.212163\" xlink:href=\"#m527e3bfe6b\" y=\"183.869799\"/>\n     <use style=\"fill:#1f77b4;stroke:#1f77b4;\" x=\"321.981813\" xlink:href=\"#m527e3bfe6b\" y=\"92.979315\"/>\n     <use style=\"fill:#1f77b4;stroke:#1f77b4;\" x=\"314.778252\" xlink:href=\"#m527e3bfe6b\" y=\"149.625432\"/>\n     <use style=\"fill:#1f77b4;stroke:#1f77b4;\" x=\"291.3633\" xlink:href=\"#m527e3bfe6b\" y=\"162.331107\"/>\n     <use style=\"fill:#1f77b4;stroke:#1f77b4;\" x=\"158.541788\" xlink:href=\"#m527e3bfe6b\" y=\"170.278615\"/>\n     <use style=\"fill:#1f77b4;stroke:#1f77b4;\" x=\"359.578238\" xlink:href=\"#m527e3bfe6b\" y=\"69.160267\"/>\n     <use style=\"fill:#1f77b4;stroke:#1f77b4;\" x=\"72.21693\" xlink:href=\"#m527e3bfe6b\" y=\"210.185201\"/>\n     <use style=\"fill:#1f77b4;stroke:#1f77b4;\" x=\"90.987024\" xlink:href=\"#m527e3bfe6b\" y=\"204.084634\"/>\n     <use style=\"fill:#1f77b4;stroke:#1f77b4;\" x=\"148.682916\" xlink:href=\"#m527e3bfe6b\" y=\"175.311524\"/>\n     <use style=\"fill:#1f77b4;stroke:#1f77b4;\" x=\"108.715172\" xlink:href=\"#m527e3bfe6b\" y=\"195.484439\"/>\n     <use style=\"fill:#1f77b4;stroke:#1f77b4;\" x=\"145.027787\" xlink:href=\"#m527e3bfe6b\" y=\"176.962242\"/>\n     <use style=\"fill:#1f77b4;stroke:#1f77b4;\" x=\"98.343742\" xlink:href=\"#m527e3bfe6b\" y=\"199.640854\"/>\n     <use style=\"fill:#1f77b4;stroke:#1f77b4;\" x=\"148.641646\" xlink:href=\"#m527e3bfe6b\" y=\"175.37237\"/>\n     <use style=\"fill:#1f77b4;stroke:#1f77b4;\" x=\"293.628851\" xlink:href=\"#m527e3bfe6b\" y=\"113.22599\"/>\n     <use style=\"fill:#1f77b4;stroke:#1f77b4;\" x=\"82.678312\" xlink:href=\"#m527e3bfe6b\" y=\"208.242986\"/>\n     <use style=\"fill:#1f77b4;stroke:#1f77b4;\" x=\"76.452161\" xlink:href=\"#m527e3bfe6b\" y=\"208.959785\"/>\n     <use style=\"fill:#1f77b4;stroke:#1f77b4;\" x=\"348.326455\" xlink:href=\"#m527e3bfe6b\" y=\"72.362842\"/>\n     <use style=\"fill:#1f77b4;stroke:#1f77b4;\" x=\"93.635557\" xlink:href=\"#m527e3bfe6b\" y=\"202.477194\"/>\n     <use style=\"fill:#1f77b4;stroke:#1f77b4;\" x=\"85.586637\" xlink:href=\"#m527e3bfe6b\" y=\"206.655148\"/>\n     <use style=\"fill:#1f77b4;stroke:#1f77b4;\" x=\"101.406915\" xlink:href=\"#m527e3bfe6b\" y=\"200.175592\"/>\n     <use style=\"fill:#1f77b4;stroke:#1f77b4;\" x=\"114.467176\" xlink:href=\"#m527e3bfe6b\" y=\"128.903231\"/>\n     <use style=\"fill:#1f77b4;stroke:#1f77b4;\" x=\"318.949435\" xlink:href=\"#m527e3bfe6b\" y=\"151.3633\"/>\n     <use style=\"fill:#1f77b4;stroke:#1f77b4;\" x=\"97.083457\" xlink:href=\"#m527e3bfe6b\" y=\"201.311128\"/>\n     <use style=\"fill:#1f77b4;stroke:#1f77b4;\" x=\"293.241828\" xlink:href=\"#m527e3bfe6b\" y=\"164.424321\"/>\n     <use style=\"fill:#1f77b4;stroke:#1f77b4;\" x=\"72.613627\" xlink:href=\"#m527e3bfe6b\" y=\"211.080101\"/>\n     <use style=\"fill:#1f77b4;stroke:#1f77b4;\" x=\"77.998452\" xlink:href=\"#m527e3bfe6b\" y=\"211.347832\"/>\n     <use style=\"fill:#1f77b4;stroke:#1f77b4;\" x=\"155.053454\" xlink:href=\"#m527e3bfe6b\" y=\"172.916839\"/>\n     <use style=\"fill:#1f77b4;stroke:#1f77b4;\" x=\"363.979548\" xlink:href=\"#m527e3bfe6b\" y=\"63.793741\"/>\n     <use style=\"fill:#1f77b4;stroke:#1f77b4;\" x=\"135.333664\" xlink:href=\"#m527e3bfe6b\" y=\"182.504089\"/>\n     <use style=\"fill:#1f77b4;stroke:#1f77b4;\" x=\"101.803932\" xlink:href=\"#m527e3bfe6b\" y=\"198.825095\"/>\n     <use style=\"fill:#1f77b4;stroke:#1f77b4;\" x=\"140.444338\" xlink:href=\"#m527e3bfe6b\" y=\"180.371656\"/>\n     <use style=\"fill:#1f77b4;stroke:#1f77b4;\" x=\"79.601556\" xlink:href=\"#m527e3bfe6b\" y=\"207.002893\"/>\n     <use style=\"fill:#1f77b4;stroke:#1f77b4;\" x=\"332.572056\" xlink:href=\"#m527e3bfe6b\" y=\"139.844636\"/>\n     <use style=\"fill:#1f77b4;stroke:#1f77b4;\" x=\"108.877497\" xlink:href=\"#m527e3bfe6b\" y=\"194.930034\"/>\n     <use style=\"fill:#1f77b4;stroke:#1f77b4;\" x=\"116.812236\" xlink:href=\"#m527e3bfe6b\" y=\"135.542325\"/>\n     <use style=\"fill:#1f77b4;stroke:#1f77b4;\" x=\"130.624559\" xlink:href=\"#m527e3bfe6b\" y=\"184.886997\"/>\n     <use style=\"fill:#1f77b4;stroke:#1f77b4;\" x=\"95.196124\" xlink:href=\"#m527e3bfe6b\" y=\"201.38767\"/>\n     <use style=\"fill:#1f77b4;stroke:#1f77b4;\" x=\"87.708868\" xlink:href=\"#m527e3bfe6b\" y=\"204.615835\"/>\n     <use style=\"fill:#1f77b4;stroke:#1f77b4;\" x=\"121.133786\" xlink:href=\"#m527e3bfe6b\" y=\"189.36689\"/>\n     <use style=\"fill:#1f77b4;stroke:#1f77b4;\" x=\"133.566113\" xlink:href=\"#m527e3bfe6b\" y=\"183.107662\"/>\n     <use style=\"fill:#1f77b4;stroke:#1f77b4;\" x=\"126.381864\" xlink:href=\"#m527e3bfe6b\" y=\"186.649282\"/>\n     <use style=\"fill:#1f77b4;stroke:#1f77b4;\" x=\"119.924084\" xlink:href=\"#m527e3bfe6b\" y=\"190.348479\"/>\n     <use style=\"fill:#1f77b4;stroke:#1f77b4;\" x=\"323.460652\" xlink:href=\"#m527e3bfe6b\" y=\"145.550661\"/>\n     <use style=\"fill:#1f77b4;stroke:#1f77b4;\" x=\"157.130223\" xlink:href=\"#m527e3bfe6b\" y=\"170.943166\"/>\n     <use style=\"fill:#1f77b4;stroke:#1f77b4;\" x=\"143.394909\" xlink:href=\"#m527e3bfe6b\" y=\"179.326306\"/>\n     <use style=\"fill:#1f77b4;stroke:#1f77b4;\" x=\"88.984523\" xlink:href=\"#m527e3bfe6b\" y=\"203.771385\"/>\n     <use style=\"fill:#1f77b4;stroke:#1f77b4;\" x=\"140.424108\" xlink:href=\"#m527e3bfe6b\" y=\"180.64213\"/>\n     <use style=\"fill:#1f77b4;stroke:#1f77b4;\" x=\"306.377311\" xlink:href=\"#m527e3bfe6b\" y=\"104.036032\"/>\n     <use style=\"fill:#1f77b4;stroke:#1f77b4;\" x=\"104.496452\" xlink:href=\"#m527e3bfe6b\" y=\"197.536835\"/>\n     <use style=\"fill:#1f77b4;stroke:#1f77b4;\" x=\"115.097087\" xlink:href=\"#m527e3bfe6b\" y=\"192.01564\"/>\n     <use style=\"fill:#1f77b4;stroke:#1f77b4;\" x=\"152.821547\" xlink:href=\"#m527e3bfe6b\" y=\"173.154701\"/>\n     <use style=\"fill:#1f77b4;stroke:#1f77b4;\" x=\"330.681193\" xlink:href=\"#m527e3bfe6b\" y=\"139.7126\"/>\n     <use style=\"fill:#1f77b4;stroke:#1f77b4;\" x=\"78.235899\" xlink:href=\"#m527e3bfe6b\" y=\"209.300749\"/>\n     <use style=\"fill:#1f77b4;stroke:#1f77b4;\" x=\"63.279967\" xlink:href=\"#m527e3bfe6b\" y=\"213.272893\"/>\n     <use style=\"fill:#1f77b4;stroke:#1f77b4;\" x=\"68.732773\" xlink:href=\"#m527e3bfe6b\" y=\"211.559288\"/>\n     <use style=\"fill:#1f77b4;stroke:#1f77b4;\" x=\"65.803406\" xlink:href=\"#m527e3bfe6b\" y=\"212.963239\"/>\n     <use style=\"fill:#1f77b4;stroke:#1f77b4;\" x=\"281.51025\" xlink:href=\"#m527e3bfe6b\" y=\"174.652326\"/>\n     <use style=\"fill:#1f77b4;stroke:#1f77b4;\" x=\"95.4955\" xlink:href=\"#m527e3bfe6b\" y=\"201.355568\"/>\n     <use style=\"fill:#1f77b4;stroke:#1f77b4;\" x=\"100.394583\" xlink:href=\"#m527e3bfe6b\" y=\"201.181312\"/>\n     <use style=\"fill:#1f77b4;stroke:#1f77b4;\" x=\"140.822628\" xlink:href=\"#m527e3bfe6b\" y=\"181.941644\"/>\n     <use style=\"fill:#1f77b4;stroke:#1f77b4;\" x=\"137.994783\" xlink:href=\"#m527e3bfe6b\" y=\"182.33043\"/>\n     <use style=\"fill:#1f77b4;stroke:#1f77b4;\" x=\"341.846992\" xlink:href=\"#m527e3bfe6b\" y=\"77.456438\"/>\n     <use style=\"fill:#1f77b4;stroke:#1f77b4;\" x=\"110.060272\" xlink:href=\"#m527e3bfe6b\" y=\"177.957645\"/>\n     <use style=\"fill:#1f77b4;stroke:#1f77b4;\" x=\"80.565799\" xlink:href=\"#m527e3bfe6b\" y=\"207.661787\"/>\n     <use style=\"fill:#1f77b4;stroke:#1f77b4;\" x=\"138.682941\" xlink:href=\"#m527e3bfe6b\" y=\"181.28384\"/>\n     <use style=\"fill:#1f77b4;stroke:#1f77b4;\" x=\"110.08547\" xlink:href=\"#m527e3bfe6b\" y=\"194.282564\"/>\n     <use style=\"fill:#1f77b4;stroke:#1f77b4;\" x=\"316.790029\" xlink:href=\"#m527e3bfe6b\" y=\"101.729429\"/>\n     <use style=\"fill:#1f77b4;stroke:#1f77b4;\" x=\"74.185791\" xlink:href=\"#m527e3bfe6b\" y=\"209.764093\"/>\n     <use style=\"fill:#1f77b4;stroke:#1f77b4;\" x=\"312.59202\" xlink:href=\"#m527e3bfe6b\" y=\"79.657219\"/>\n     <use style=\"fill:#1f77b4;stroke:#1f77b4;\" x=\"103.377162\" xlink:href=\"#m527e3bfe6b\" y=\"197.243565\"/>\n     <use style=\"fill:#1f77b4;stroke:#1f77b4;\" x=\"92.423853\" xlink:href=\"#m527e3bfe6b\" y=\"202.526667\"/>\n     <use style=\"fill:#1f77b4;stroke:#1f77b4;\" x=\"108.371151\" xlink:href=\"#m527e3bfe6b\" y=\"195.123507\"/>\n     <use style=\"fill:#1f77b4;stroke:#1f77b4;\" x=\"330.549051\" xlink:href=\"#m527e3bfe6b\" y=\"92.509195\"/>\n     <use style=\"fill:#1f77b4;stroke:#1f77b4;\" x=\"123.550471\" xlink:href=\"#m527e3bfe6b\" y=\"190.118203\"/>\n     <use style=\"fill:#1f77b4;stroke:#1f77b4;\" x=\"100.120052\" xlink:href=\"#m527e3bfe6b\" y=\"199.198121\"/>\n     <use style=\"fill:#1f77b4;stroke:#1f77b4;\" x=\"61.230682\" xlink:href=\"#m527e3bfe6b\" y=\"214.423885\"/>\n     <use style=\"fill:#1f77b4;stroke:#1f77b4;\" x=\"112.354485\" xlink:href=\"#m527e3bfe6b\" y=\"193.024861\"/>\n     <use style=\"fill:#1f77b4;stroke:#1f77b4;\" x=\"108.625555\" xlink:href=\"#m527e3bfe6b\" y=\"195.742608\"/>\n     <use style=\"fill:#1f77b4;stroke:#1f77b4;\" x=\"115.180844\" xlink:href=\"#m527e3bfe6b\" y=\"192.301655\"/>\n     <use style=\"fill:#1f77b4;stroke:#1f77b4;\" x=\"101.232072\" xlink:href=\"#m527e3bfe6b\" y=\"199.052614\"/>\n     <use style=\"fill:#1f77b4;stroke:#1f77b4;\" x=\"62.855392\" xlink:href=\"#m527e3bfe6b\" y=\"212.893299\"/>\n     <use style=\"fill:#1f77b4;stroke:#1f77b4;\" x=\"74.341046\" xlink:href=\"#m527e3bfe6b\" y=\"209.885065\"/>\n     <use style=\"fill:#1f77b4;stroke:#1f77b4;\" x=\"119.838612\" xlink:href=\"#m527e3bfe6b\" y=\"191.299365\"/>\n     <use style=\"fill:#1f77b4;stroke:#1f77b4;\" x=\"70.748928\" xlink:href=\"#m527e3bfe6b\" y=\"211.391174\"/>\n     <use style=\"fill:#1f77b4;stroke:#1f77b4;\" x=\"306.896421\" xlink:href=\"#m527e3bfe6b\" y=\"156.504082\"/>\n     <use style=\"fill:#1f77b4;stroke:#1f77b4;\" x=\"318.356372\" xlink:href=\"#m527e3bfe6b\" y=\"98.017947\"/>\n     <use style=\"fill:#1f77b4;stroke:#1f77b4;\" x=\"65.508963\" xlink:href=\"#m527e3bfe6b\" y=\"212.966156\"/>\n     <use style=\"fill:#1f77b4;stroke:#1f77b4;\" x=\"144.634514\" xlink:href=\"#m527e3bfe6b\" y=\"176.908594\"/>\n     <use style=\"fill:#1f77b4;stroke:#1f77b4;\" x=\"108.151508\" xlink:href=\"#m527e3bfe6b\" y=\"195.415357\"/>\n     <use style=\"fill:#1f77b4;stroke:#1f77b4;\" x=\"68.49268\" xlink:href=\"#m527e3bfe6b\" y=\"182.106509\"/>\n     <use style=\"fill:#1f77b4;stroke:#1f77b4;\" x=\"131.567418\" xlink:href=\"#m527e3bfe6b\" y=\"184.272457\"/>\n     <use style=\"fill:#1f77b4;stroke:#1f77b4;\" x=\"142.139139\" xlink:href=\"#m527e3bfe6b\" y=\"178.973446\"/>\n     <use style=\"fill:#1f77b4;stroke:#1f77b4;\" x=\"133.386064\" xlink:href=\"#m527e3bfe6b\" y=\"184.237311\"/>\n     <use style=\"fill:#1f77b4;stroke:#1f77b4;\" x=\"87.548634\" xlink:href=\"#m527e3bfe6b\" y=\"204.656167\"/>\n     <use style=\"fill:#1f77b4;stroke:#1f77b4;\" x=\"92.619961\" xlink:href=\"#m527e3bfe6b\" y=\"181.301041\"/>\n     <use style=\"fill:#1f77b4;stroke:#1f77b4;\" x=\"125.126211\" xlink:href=\"#m527e3bfe6b\" y=\"187.908535\"/>\n     <use style=\"fill:#1f77b4;stroke:#1f77b4;\" x=\"146.153731\" xlink:href=\"#m527e3bfe6b\" y=\"177.371677\"/>\n     <use style=\"fill:#1f77b4;stroke:#1f77b4;\" x=\"347.024754\" xlink:href=\"#m527e3bfe6b\" y=\"80.067537\"/>\n     <use style=\"fill:#1f77b4;stroke:#1f77b4;\" x=\"121.332953\" xlink:href=\"#m527e3bfe6b\" y=\"189.050305\"/>\n     <use style=\"fill:#1f77b4;stroke:#1f77b4;\" x=\"320.517438\" xlink:href=\"#m527e3bfe6b\" y=\"147.610843\"/>\n     <use style=\"fill:#1f77b4;stroke:#1f77b4;\" x=\"67.20749\" xlink:href=\"#m527e3bfe6b\" y=\"214.756364\"/>\n     <use style=\"fill:#1f77b4;stroke:#1f77b4;\" x=\"81.705266\" xlink:href=\"#m527e3bfe6b\" y=\"207.129033\"/>\n     <use style=\"fill:#1f77b4;stroke:#1f77b4;\" x=\"109.013767\" xlink:href=\"#m527e3bfe6b\" y=\"195.162797\"/>\n     <use style=\"fill:#1f77b4;stroke:#1f77b4;\" x=\"109.675372\" xlink:href=\"#m527e3bfe6b\" y=\"194.558611\"/>\n     <use style=\"fill:#1f77b4;stroke:#1f77b4;\" x=\"94.085027\" xlink:href=\"#m527e3bfe6b\" y=\"201.382388\"/>\n     <use style=\"fill:#1f77b4;stroke:#1f77b4;\" x=\"95.722351\" xlink:href=\"#m527e3bfe6b\" y=\"201.120409\"/>\n     <use style=\"fill:#1f77b4;stroke:#1f77b4;\" x=\"108.465218\" xlink:href=\"#m527e3bfe6b\" y=\"195.789656\"/>\n     <use style=\"fill:#1f77b4;stroke:#1f77b4;\" x=\"87.266249\" xlink:href=\"#m527e3bfe6b\" y=\"205.245422\"/>\n     <use style=\"fill:#1f77b4;stroke:#1f77b4;\" x=\"124.36533\" xlink:href=\"#m527e3bfe6b\" y=\"187.682598\"/>\n     <use style=\"fill:#1f77b4;stroke:#1f77b4;\" x=\"76.598186\" xlink:href=\"#m527e3bfe6b\" y=\"210.718244\"/>\n     <use style=\"fill:#1f77b4;stroke:#1f77b4;\" x=\"71.918331\" xlink:href=\"#m527e3bfe6b\" y=\"211.970496\"/>\n     <use style=\"fill:#1f77b4;stroke:#1f77b4;\" x=\"326.115797\" xlink:href=\"#m527e3bfe6b\" y=\"144.984562\"/>\n     <use style=\"fill:#1f77b4;stroke:#1f77b4;\" x=\"279.723665\" xlink:href=\"#m527e3bfe6b\" y=\"171.91528\"/>\n     <use style=\"fill:#1f77b4;stroke:#1f77b4;\" x=\"133.660539\" xlink:href=\"#m527e3bfe6b\" y=\"136.31164\"/>\n     <use style=\"fill:#1f77b4;stroke:#1f77b4;\" x=\"153.286367\" xlink:href=\"#m527e3bfe6b\" y=\"172.95373\"/>\n     <use style=\"fill:#1f77b4;stroke:#1f77b4;\" x=\"344.352877\" xlink:href=\"#m527e3bfe6b\" y=\"74.082588\"/>\n     <use style=\"fill:#1f77b4;stroke:#1f77b4;\" x=\"108.325671\" xlink:href=\"#m527e3bfe6b\" y=\"195.632605\"/>\n     <use style=\"fill:#1f77b4;stroke:#1f77b4;\" x=\"64.122805\" xlink:href=\"#m527e3bfe6b\" y=\"213.21049\"/>\n     <use style=\"fill:#1f77b4;stroke:#1f77b4;\" x=\"112.793581\" xlink:href=\"#m527e3bfe6b\" y=\"193.013716\"/>\n     <use style=\"fill:#1f77b4;stroke:#1f77b4;\" x=\"314.424417\" xlink:href=\"#m527e3bfe6b\" y=\"101.149847\"/>\n     <use style=\"fill:#1f77b4;stroke:#1f77b4;\" x=\"92.013185\" xlink:href=\"#m527e3bfe6b\" y=\"202.932551\"/>\n     <use style=\"fill:#1f77b4;stroke:#1f77b4;\" x=\"87.153093\" xlink:href=\"#m527e3bfe6b\" y=\"205.487096\"/>\n     <use style=\"fill:#1f77b4;stroke:#1f77b4;\" x=\"145.346471\" xlink:href=\"#m527e3bfe6b\" y=\"177.257156\"/>\n     <use style=\"fill:#1f77b4;stroke:#1f77b4;\" x=\"70.260918\" xlink:href=\"#m527e3bfe6b\" y=\"211.074729\"/>\n     <use style=\"fill:#1f77b4;stroke:#1f77b4;\" x=\"69.692622\" xlink:href=\"#m527e3bfe6b\" y=\"214.359398\"/>\n     <use style=\"fill:#1f77b4;stroke:#1f77b4;\" x=\"293.658969\" xlink:href=\"#m527e3bfe6b\" y=\"164.437538\"/>\n     <use style=\"fill:#1f77b4;stroke:#1f77b4;\" x=\"138.253065\" xlink:href=\"#m527e3bfe6b\" y=\"180.9762\"/>\n     <use style=\"fill:#1f77b4;stroke:#1f77b4;\" x=\"147.427333\" xlink:href=\"#m527e3bfe6b\" y=\"176.085005\"/>\n     <use style=\"fill:#1f77b4;stroke:#1f77b4;\" x=\"78.760292\" xlink:href=\"#m527e3bfe6b\" y=\"209.297503\"/>\n     <use style=\"fill:#1f77b4;stroke:#1f77b4;\" x=\"141.47352\" xlink:href=\"#m527e3bfe6b\" y=\"132.114369\"/>\n     <use style=\"fill:#1f77b4;stroke:#1f77b4;\" x=\"90.857361\" xlink:href=\"#m527e3bfe6b\" y=\"203.261612\"/>\n     <use style=\"fill:#1f77b4;stroke:#1f77b4;\" x=\"139.18805\" xlink:href=\"#m527e3bfe6b\" y=\"153.764038\"/>\n     <use style=\"fill:#1f77b4;stroke:#1f77b4;\" x=\"96.20653\" xlink:href=\"#m527e3bfe6b\" y=\"201.025047\"/>\n     <use style=\"fill:#1f77b4;stroke:#1f77b4;\" x=\"69.380328\" xlink:href=\"#m527e3bfe6b\" y=\"211.408678\"/>\n     <use style=\"fill:#1f77b4;stroke:#1f77b4;\" x=\"152.619849\" xlink:href=\"#m527e3bfe6b\" y=\"174.157518\"/>\n     <use style=\"fill:#1f77b4;stroke:#1f77b4;\" x=\"107.976406\" xlink:href=\"#m527e3bfe6b\" y=\"195.187977\"/>\n     <use style=\"fill:#1f77b4;stroke:#1f77b4;\" x=\"88.95592\" xlink:href=\"#m527e3bfe6b\" y=\"162.716987\"/>\n     <use style=\"fill:#1f77b4;stroke:#1f77b4;\" x=\"137.438946\" xlink:href=\"#m527e3bfe6b\" y=\"181.008291\"/>\n     <use style=\"fill:#1f77b4;stroke:#1f77b4;\" x=\"106.053793\" xlink:href=\"#m527e3bfe6b\" y=\"196.094098\"/>\n     <use style=\"fill:#1f77b4;stroke:#1f77b4;\" x=\"127.003668\" xlink:href=\"#m527e3bfe6b\" y=\"188.575494\"/>\n     <use style=\"fill:#1f77b4;stroke:#1f77b4;\" x=\"107.737434\" xlink:href=\"#m527e3bfe6b\" y=\"195.427859\"/>\n     <use style=\"fill:#1f77b4;stroke:#1f77b4;\" x=\"135.759412\" xlink:href=\"#m527e3bfe6b\" y=\"182.474765\"/>\n     <use style=\"fill:#1f77b4;stroke:#1f77b4;\" x=\"125.888323\" xlink:href=\"#m527e3bfe6b\" y=\"187.196663\"/>\n     <use style=\"fill:#1f77b4;stroke:#1f77b4;\" x=\"64.371833\" xlink:href=\"#m527e3bfe6b\" y=\"213.206739\"/>\n     <use style=\"fill:#1f77b4;stroke:#1f77b4;\" x=\"100.352995\" xlink:href=\"#m527e3bfe6b\" y=\"198.657896\"/>\n     <use style=\"fill:#1f77b4;stroke:#1f77b4;\" x=\"115.105799\" xlink:href=\"#m527e3bfe6b\" y=\"192.14306\"/>\n     <use style=\"fill:#1f77b4;stroke:#1f77b4;\" x=\"129.655737\" xlink:href=\"#m527e3bfe6b\" y=\"185.327748\"/>\n     <use style=\"fill:#1f77b4;stroke:#1f77b4;\" x=\"90.731089\" xlink:href=\"#m527e3bfe6b\" y=\"202.951124\"/>\n     <use style=\"fill:#1f77b4;stroke:#1f77b4;\" x=\"65.138975\" xlink:href=\"#m527e3bfe6b\" y=\"214.38879\"/>\n     <use style=\"fill:#1f77b4;stroke:#1f77b4;\" x=\"109.80154\" xlink:href=\"#m527e3bfe6b\" y=\"194.637187\"/>\n     <use style=\"fill:#1f77b4;stroke:#1f77b4;\" x=\"92.160652\" xlink:href=\"#m527e3bfe6b\" y=\"204.260178\"/>\n     <use style=\"fill:#1f77b4;stroke:#1f77b4;\" x=\"63.735427\" xlink:href=\"#m527e3bfe6b\" y=\"213.216325\"/>\n     <use style=\"fill:#1f77b4;stroke:#1f77b4;\" x=\"139.966485\" xlink:href=\"#m527e3bfe6b\" y=\"180.06461\"/>\n     <use style=\"fill:#1f77b4;stroke:#1f77b4;\" x=\"148.058768\" xlink:href=\"#m527e3bfe6b\" y=\"175.857893\"/>\n     <use style=\"fill:#1f77b4;stroke:#1f77b4;\" x=\"325.690609\" xlink:href=\"#m527e3bfe6b\" y=\"93.374891\"/>\n     <use style=\"fill:#1f77b4;stroke:#1f77b4;\" x=\"106.611649\" xlink:href=\"#m527e3bfe6b\" y=\"195.769303\"/>\n     <use style=\"fill:#1f77b4;stroke:#1f77b4;\" x=\"138.266631\" xlink:href=\"#m527e3bfe6b\" y=\"180.970366\"/>\n     <use style=\"fill:#1f77b4;stroke:#1f77b4;\" x=\"76.879437\" xlink:href=\"#m527e3bfe6b\" y=\"213.035915\"/>\n     <use style=\"fill:#1f77b4;stroke:#1f77b4;\" x=\"72.427529\" xlink:href=\"#m527e3bfe6b\" y=\"211.969311\"/>\n     <use style=\"fill:#1f77b4;stroke:#1f77b4;\" x=\"140.913756\" xlink:href=\"#m527e3bfe6b\" y=\"180.514176\"/>\n     <use style=\"fill:#1f77b4;stroke:#1f77b4;\" x=\"101.750033\" xlink:href=\"#m527e3bfe6b\" y=\"198.140325\"/>\n     <use style=\"fill:#1f77b4;stroke:#1f77b4;\" x=\"126.983721\" xlink:href=\"#m527e3bfe6b\" y=\"186.161599\"/>\n     <use style=\"fill:#1f77b4;stroke:#1f77b4;\" x=\"313.485181\" xlink:href=\"#m527e3bfe6b\" y=\"99.357279\"/>\n     <use style=\"fill:#1f77b4;stroke:#1f77b4;\" x=\"298.618274\" xlink:href=\"#m527e3bfe6b\" y=\"160.832157\"/>\n     <use style=\"fill:#1f77b4;stroke:#1f77b4;\" x=\"76.198245\" xlink:href=\"#m527e3bfe6b\" y=\"211.949044\"/>\n     <use style=\"fill:#1f77b4;stroke:#1f77b4;\" x=\"308.016668\" xlink:href=\"#m527e3bfe6b\" y=\"108.393061\"/>\n     <use style=\"fill:#1f77b4;stroke:#1f77b4;\" x=\"123.263018\" xlink:href=\"#m527e3bfe6b\" y=\"188.232209\"/>\n     <use style=\"fill:#1f77b4;stroke:#1f77b4;\" x=\"342.945114\" xlink:href=\"#m527e3bfe6b\" y=\"125.776235\"/>\n     <use style=\"fill:#1f77b4;stroke:#1f77b4;\" x=\"297.068026\" xlink:href=\"#m527e3bfe6b\" y=\"164.556643\"/>\n     <use style=\"fill:#1f77b4;stroke:#1f77b4;\" x=\"97.261501\" xlink:href=\"#m527e3bfe6b\" y=\"200.515493\"/>\n     <use style=\"fill:#1f77b4;stroke:#1f77b4;\" x=\"94.990845\" xlink:href=\"#m527e3bfe6b\" y=\"201.074954\"/>\n     <use style=\"fill:#1f77b4;stroke:#1f77b4;\" x=\"139.736101\" xlink:href=\"#m527e3bfe6b\" y=\"141.883595\"/>\n     <use style=\"fill:#1f77b4;stroke:#1f77b4;\" x=\"71.257141\" xlink:href=\"#m527e3bfe6b\" y=\"213.202439\"/>\n     <use style=\"fill:#1f77b4;stroke:#1f77b4;\" x=\"130.499352\" xlink:href=\"#m527e3bfe6b\" y=\"185.363813\"/>\n     <use style=\"fill:#1f77b4;stroke:#1f77b4;\" x=\"68.971655\" xlink:href=\"#m527e3bfe6b\" y=\"165.998464\"/>\n     <use style=\"fill:#1f77b4;stroke:#1f77b4;\" x=\"323.606262\" xlink:href=\"#m527e3bfe6b\" y=\"97.524016\"/>\n     <use style=\"fill:#1f77b4;stroke:#1f77b4;\" x=\"152.795716\" xlink:href=\"#m527e3bfe6b\" y=\"172.864657\"/>\n     <use style=\"fill:#1f77b4;stroke:#1f77b4;\" x=\"144.365943\" xlink:href=\"#m527e3bfe6b\" y=\"177.279098\"/>\n     <use style=\"fill:#1f77b4;stroke:#1f77b4;\" x=\"342.184565\" xlink:href=\"#m527e3bfe6b\" y=\"127.235337\"/>\n     <use style=\"fill:#1f77b4;stroke:#1f77b4;\" x=\"89.837334\" xlink:href=\"#m527e3bfe6b\" y=\"179.19586\"/>\n     <use style=\"fill:#1f77b4;stroke:#1f77b4;\" x=\"113.132347\" xlink:href=\"#m527e3bfe6b\" y=\"192.909527\"/>\n     <use style=\"fill:#1f77b4;stroke:#1f77b4;\" x=\"70.208361\" xlink:href=\"#m527e3bfe6b\" y=\"212.900346\"/>\n     <use style=\"fill:#1f77b4;stroke:#1f77b4;\" x=\"313.852208\" xlink:href=\"#m527e3bfe6b\" y=\"149.986459\"/>\n     <use style=\"fill:#1f77b4;stroke:#1f77b4;\" x=\"91.708644\" xlink:href=\"#m527e3bfe6b\" y=\"153.897832\"/>\n     <use style=\"fill:#1f77b4;stroke:#1f77b4;\" x=\"135.198853\" xlink:href=\"#m527e3bfe6b\" y=\"183.52349\"/>\n     <use style=\"fill:#1f77b4;stroke:#1f77b4;\" x=\"111.160852\" xlink:href=\"#m527e3bfe6b\" y=\"193.95994\"/>\n     <use style=\"fill:#1f77b4;stroke:#1f77b4;\" x=\"118.422318\" xlink:href=\"#m527e3bfe6b\" y=\"190.877735\"/>\n     <use style=\"fill:#1f77b4;stroke:#1f77b4;\" x=\"69.340826\" xlink:href=\"#m527e3bfe6b\" y=\"210.987885\"/>\n     <use style=\"fill:#1f77b4;stroke:#1f77b4;\" x=\"310.360348\" xlink:href=\"#m527e3bfe6b\" y=\"152.119433\"/>\n     <use style=\"fill:#1f77b4;stroke:#1f77b4;\" x=\"88.494335\" xlink:href=\"#m527e3bfe6b\" y=\"203.450552\"/>\n     <use style=\"fill:#1f77b4;stroke:#1f77b4;\" x=\"150.319963\" xlink:href=\"#m527e3bfe6b\" y=\"174.242199\"/>\n     <use style=\"fill:#1f77b4;stroke:#1f77b4;\" x=\"66.808064\" xlink:href=\"#m527e3bfe6b\" y=\"212.840656\"/>\n     <use style=\"fill:#1f77b4;stroke:#1f77b4;\" x=\"106.651032\" xlink:href=\"#m527e3bfe6b\" y=\"196.010313\"/>\n     <use style=\"fill:#1f77b4;stroke:#1f77b4;\" x=\"90.662408\" xlink:href=\"#m527e3bfe6b\" y=\"204.460505\"/>\n     <use style=\"fill:#1f77b4;stroke:#1f77b4;\" x=\"145.773581\" xlink:href=\"#m527e3bfe6b\" y=\"129.068264\"/>\n     <use style=\"fill:#1f77b4;stroke:#1f77b4;\" x=\"350.101631\" xlink:href=\"#m527e3bfe6b\" y=\"52.367005\"/>\n     <use style=\"fill:#1f77b4;stroke:#1f77b4;\" x=\"147.035996\" xlink:href=\"#m527e3bfe6b\" y=\"176.608487\"/>\n    </g>\n   </g>\n   <g id=\"matplotlib.axis_1\">\n    <g id=\"xtick_1\">\n     <g id=\"line2d_1\">\n      <defs>\n       <path d=\"M 0 0 \nL 0 3.5 \n\" id=\"me2267004ff\" style=\"stroke:#000000;stroke-width:0.8;\"/>\n      </defs>\n      <g>\n       <use style=\"stroke:#000000;stroke-width:0.8;\" x=\"56.648871\" xlink:href=\"#me2267004ff\" y=\"224.64\"/>\n      </g>\n     </g>\n     <g id=\"text_1\">\n      <!-- 0 -->\n      <defs>\n       <path d=\"M 31.78125 66.40625 \nQ 24.171875 66.40625 20.328125 58.90625 \nQ 16.5 51.421875 16.5 36.375 \nQ 16.5 21.390625 20.328125 13.890625 \nQ 24.171875 6.390625 31.78125 6.390625 \nQ 39.453125 6.390625 43.28125 13.890625 \nQ 47.125 21.390625 47.125 36.375 \nQ 47.125 51.421875 43.28125 58.90625 \nQ 39.453125 66.40625 31.78125 66.40625 \nz\nM 31.78125 74.21875 \nQ 44.046875 74.21875 50.515625 64.515625 \nQ 56.984375 54.828125 56.984375 36.375 \nQ 56.984375 17.96875 50.515625 8.265625 \nQ 44.046875 -1.421875 31.78125 -1.421875 \nQ 19.53125 -1.421875 13.0625 8.265625 \nQ 6.59375 17.96875 6.59375 36.375 \nQ 6.59375 54.828125 13.0625 64.515625 \nQ 19.53125 74.21875 31.78125 74.21875 \nz\n\" id=\"DejaVuSans-48\"/>\n      </defs>\n      <g transform=\"translate(53.467621 239.238437)scale(0.1 -0.1)\">\n       <use xlink:href=\"#DejaVuSans-48\"/>\n      </g>\n     </g>\n    </g>\n    <g id=\"xtick_2\">\n     <g id=\"line2d_2\">\n      <g>\n       <use style=\"stroke:#000000;stroke-width:0.8;\" x=\"127.449066\" xlink:href=\"#me2267004ff\" y=\"224.64\"/>\n      </g>\n     </g>\n     <g id=\"text_2\">\n      <!-- 10000 -->\n      <defs>\n       <path d=\"M 12.40625 8.296875 \nL 28.515625 8.296875 \nL 28.515625 63.921875 \nL 10.984375 60.40625 \nL 10.984375 69.390625 \nL 28.421875 72.90625 \nL 38.28125 72.90625 \nL 38.28125 8.296875 \nL 54.390625 8.296875 \nL 54.390625 0 \nL 12.40625 0 \nz\n\" id=\"DejaVuSans-49\"/>\n      </defs>\n      <g transform=\"translate(111.542816 239.238437)scale(0.1 -0.1)\">\n       <use xlink:href=\"#DejaVuSans-49\"/>\n       <use x=\"63.623047\" xlink:href=\"#DejaVuSans-48\"/>\n       <use x=\"127.246094\" xlink:href=\"#DejaVuSans-48\"/>\n       <use x=\"190.869141\" xlink:href=\"#DejaVuSans-48\"/>\n       <use x=\"254.492188\" xlink:href=\"#DejaVuSans-48\"/>\n      </g>\n     </g>\n    </g>\n    <g id=\"xtick_3\">\n     <g id=\"line2d_3\">\n      <g>\n       <use style=\"stroke:#000000;stroke-width:0.8;\" x=\"198.249262\" xlink:href=\"#me2267004ff\" y=\"224.64\"/>\n      </g>\n     </g>\n     <g id=\"text_3\">\n      <!-- 20000 -->\n      <defs>\n       <path d=\"M 19.1875 8.296875 \nL 53.609375 8.296875 \nL 53.609375 0 \nL 7.328125 0 \nL 7.328125 8.296875 \nQ 12.9375 14.109375 22.625 23.890625 \nQ 32.328125 33.6875 34.8125 36.53125 \nQ 39.546875 41.84375 41.421875 45.53125 \nQ 43.3125 49.21875 43.3125 52.78125 \nQ 43.3125 58.59375 39.234375 62.25 \nQ 35.15625 65.921875 28.609375 65.921875 \nQ 23.96875 65.921875 18.8125 64.3125 \nQ 13.671875 62.703125 7.8125 59.421875 \nL 7.8125 69.390625 \nQ 13.765625 71.78125 18.9375 73 \nQ 24.125 74.21875 28.421875 74.21875 \nQ 39.75 74.21875 46.484375 68.546875 \nQ 53.21875 62.890625 53.21875 53.421875 \nQ 53.21875 48.921875 51.53125 44.890625 \nQ 49.859375 40.875 45.40625 35.40625 \nQ 44.1875 33.984375 37.640625 27.21875 \nQ 31.109375 20.453125 19.1875 8.296875 \nz\n\" id=\"DejaVuSans-50\"/>\n      </defs>\n      <g transform=\"translate(182.343012 239.238437)scale(0.1 -0.1)\">\n       <use xlink:href=\"#DejaVuSans-50\"/>\n       <use x=\"63.623047\" xlink:href=\"#DejaVuSans-48\"/>\n       <use x=\"127.246094\" xlink:href=\"#DejaVuSans-48\"/>\n       <use x=\"190.869141\" xlink:href=\"#DejaVuSans-48\"/>\n       <use x=\"254.492188\" xlink:href=\"#DejaVuSans-48\"/>\n      </g>\n     </g>\n    </g>\n    <g id=\"xtick_4\">\n     <g id=\"line2d_4\">\n      <g>\n       <use style=\"stroke:#000000;stroke-width:0.8;\" x=\"269.049457\" xlink:href=\"#me2267004ff\" y=\"224.64\"/>\n      </g>\n     </g>\n     <g id=\"text_4\">\n      <!-- 30000 -->\n      <defs>\n       <path d=\"M 40.578125 39.3125 \nQ 47.65625 37.796875 51.625 33 \nQ 55.609375 28.21875 55.609375 21.1875 \nQ 55.609375 10.40625 48.1875 4.484375 \nQ 40.765625 -1.421875 27.09375 -1.421875 \nQ 22.515625 -1.421875 17.65625 -0.515625 \nQ 12.796875 0.390625 7.625 2.203125 \nL 7.625 11.71875 \nQ 11.71875 9.328125 16.59375 8.109375 \nQ 21.484375 6.890625 26.8125 6.890625 \nQ 36.078125 6.890625 40.9375 10.546875 \nQ 45.796875 14.203125 45.796875 21.1875 \nQ 45.796875 27.640625 41.28125 31.265625 \nQ 36.765625 34.90625 28.71875 34.90625 \nL 20.21875 34.90625 \nL 20.21875 43.015625 \nL 29.109375 43.015625 \nQ 36.375 43.015625 40.234375 45.921875 \nQ 44.09375 48.828125 44.09375 54.296875 \nQ 44.09375 59.90625 40.109375 62.90625 \nQ 36.140625 65.921875 28.71875 65.921875 \nQ 24.65625 65.921875 20.015625 65.03125 \nQ 15.375 64.15625 9.8125 62.3125 \nL 9.8125 71.09375 \nQ 15.4375 72.65625 20.34375 73.4375 \nQ 25.25 74.21875 29.59375 74.21875 \nQ 40.828125 74.21875 47.359375 69.109375 \nQ 53.90625 64.015625 53.90625 55.328125 \nQ 53.90625 49.265625 50.4375 45.09375 \nQ 46.96875 40.921875 40.578125 39.3125 \nz\n\" id=\"DejaVuSans-51\"/>\n      </defs>\n      <g transform=\"translate(253.143207 239.238437)scale(0.1 -0.1)\">\n       <use xlink:href=\"#DejaVuSans-51\"/>\n       <use x=\"63.623047\" xlink:href=\"#DejaVuSans-48\"/>\n       <use x=\"127.246094\" xlink:href=\"#DejaVuSans-48\"/>\n       <use x=\"190.869141\" xlink:href=\"#DejaVuSans-48\"/>\n       <use x=\"254.492188\" xlink:href=\"#DejaVuSans-48\"/>\n      </g>\n     </g>\n    </g>\n    <g id=\"xtick_5\">\n     <g id=\"line2d_5\">\n      <g>\n       <use style=\"stroke:#000000;stroke-width:0.8;\" x=\"339.849652\" xlink:href=\"#me2267004ff\" y=\"224.64\"/>\n      </g>\n     </g>\n     <g id=\"text_5\">\n      <!-- 40000 -->\n      <defs>\n       <path d=\"M 37.796875 64.3125 \nL 12.890625 25.390625 \nL 37.796875 25.390625 \nz\nM 35.203125 72.90625 \nL 47.609375 72.90625 \nL 47.609375 25.390625 \nL 58.015625 25.390625 \nL 58.015625 17.1875 \nL 47.609375 17.1875 \nL 47.609375 0 \nL 37.796875 0 \nL 37.796875 17.1875 \nL 4.890625 17.1875 \nL 4.890625 26.703125 \nz\n\" id=\"DejaVuSans-52\"/>\n      </defs>\n      <g transform=\"translate(323.943402 239.238437)scale(0.1 -0.1)\">\n       <use xlink:href=\"#DejaVuSans-52\"/>\n       <use x=\"63.623047\" xlink:href=\"#DejaVuSans-48\"/>\n       <use x=\"127.246094\" xlink:href=\"#DejaVuSans-48\"/>\n       <use x=\"190.869141\" xlink:href=\"#DejaVuSans-48\"/>\n       <use x=\"254.492188\" xlink:href=\"#DejaVuSans-48\"/>\n      </g>\n     </g>\n    </g>\n   </g>\n   <g id=\"matplotlib.axis_2\">\n    <g id=\"ytick_1\">\n     <g id=\"line2d_6\">\n      <defs>\n       <path d=\"M 0 0 \nL -3.5 0 \n\" id=\"m5101885734\" style=\"stroke:#000000;stroke-width:0.8;\"/>\n      </defs>\n      <g>\n       <use style=\"stroke:#000000;stroke-width:0.8;\" x=\"46.0125\" xlink:href=\"#m5101885734\" y=\"218.346275\"/>\n      </g>\n     </g>\n     <g id=\"text_6\">\n      <!-- 0 -->\n      <g transform=\"translate(32.65 222.145493)scale(0.1 -0.1)\">\n       <use xlink:href=\"#DejaVuSans-48\"/>\n      </g>\n     </g>\n    </g>\n    <g id=\"ytick_2\">\n     <g id=\"line2d_7\">\n      <g>\n       <use style=\"stroke:#000000;stroke-width:0.8;\" x=\"46.0125\" xlink:href=\"#m5101885734\" y=\"186.785778\"/>\n      </g>\n     </g>\n     <g id=\"text_7\">\n      <!-- 10000 -->\n      <g transform=\"translate(7.2 190.584997)scale(0.1 -0.1)\">\n       <use xlink:href=\"#DejaVuSans-49\"/>\n       <use x=\"63.623047\" xlink:href=\"#DejaVuSans-48\"/>\n       <use x=\"127.246094\" xlink:href=\"#DejaVuSans-48\"/>\n       <use x=\"190.869141\" xlink:href=\"#DejaVuSans-48\"/>\n       <use x=\"254.492188\" xlink:href=\"#DejaVuSans-48\"/>\n      </g>\n     </g>\n    </g>\n    <g id=\"ytick_3\">\n     <g id=\"line2d_8\">\n      <g>\n       <use style=\"stroke:#000000;stroke-width:0.8;\" x=\"46.0125\" xlink:href=\"#m5101885734\" y=\"155.225281\"/>\n      </g>\n     </g>\n     <g id=\"text_8\">\n      <!-- 20000 -->\n      <g transform=\"translate(7.2 159.0245)scale(0.1 -0.1)\">\n       <use xlink:href=\"#DejaVuSans-50\"/>\n       <use x=\"63.623047\" xlink:href=\"#DejaVuSans-48\"/>\n       <use x=\"127.246094\" xlink:href=\"#DejaVuSans-48\"/>\n       <use x=\"190.869141\" xlink:href=\"#DejaVuSans-48\"/>\n       <use x=\"254.492188\" xlink:href=\"#DejaVuSans-48\"/>\n      </g>\n     </g>\n    </g>\n    <g id=\"ytick_4\">\n     <g id=\"line2d_9\">\n      <g>\n       <use style=\"stroke:#000000;stroke-width:0.8;\" x=\"46.0125\" xlink:href=\"#m5101885734\" y=\"123.664784\"/>\n      </g>\n     </g>\n     <g id=\"text_9\">\n      <!-- 30000 -->\n      <g transform=\"translate(7.2 127.464003)scale(0.1 -0.1)\">\n       <use xlink:href=\"#DejaVuSans-51\"/>\n       <use x=\"63.623047\" xlink:href=\"#DejaVuSans-48\"/>\n       <use x=\"127.246094\" xlink:href=\"#DejaVuSans-48\"/>\n       <use x=\"190.869141\" xlink:href=\"#DejaVuSans-48\"/>\n       <use x=\"254.492188\" xlink:href=\"#DejaVuSans-48\"/>\n      </g>\n     </g>\n    </g>\n    <g id=\"ytick_5\">\n     <g id=\"line2d_10\">\n      <g>\n       <use style=\"stroke:#000000;stroke-width:0.8;\" x=\"46.0125\" xlink:href=\"#m5101885734\" y=\"92.104288\"/>\n      </g>\n     </g>\n     <g id=\"text_10\">\n      <!-- 40000 -->\n      <g transform=\"translate(7.2 95.903507)scale(0.1 -0.1)\">\n       <use xlink:href=\"#DejaVuSans-52\"/>\n       <use x=\"63.623047\" xlink:href=\"#DejaVuSans-48\"/>\n       <use x=\"127.246094\" xlink:href=\"#DejaVuSans-48\"/>\n       <use x=\"190.869141\" xlink:href=\"#DejaVuSans-48\"/>\n       <use x=\"254.492188\" xlink:href=\"#DejaVuSans-48\"/>\n      </g>\n     </g>\n    </g>\n    <g id=\"ytick_6\">\n     <g id=\"line2d_11\">\n      <g>\n       <use style=\"stroke:#000000;stroke-width:0.8;\" x=\"46.0125\" xlink:href=\"#m5101885734\" y=\"60.543791\"/>\n      </g>\n     </g>\n     <g id=\"text_11\">\n      <!-- 50000 -->\n      <defs>\n       <path d=\"M 10.796875 72.90625 \nL 49.515625 72.90625 \nL 49.515625 64.59375 \nL 19.828125 64.59375 \nL 19.828125 46.734375 \nQ 21.96875 47.46875 24.109375 47.828125 \nQ 26.265625 48.1875 28.421875 48.1875 \nQ 40.625 48.1875 47.75 41.5 \nQ 54.890625 34.8125 54.890625 23.390625 \nQ 54.890625 11.625 47.5625 5.09375 \nQ 40.234375 -1.421875 26.90625 -1.421875 \nQ 22.3125 -1.421875 17.546875 -0.640625 \nQ 12.796875 0.140625 7.71875 1.703125 \nL 7.71875 11.625 \nQ 12.109375 9.234375 16.796875 8.0625 \nQ 21.484375 6.890625 26.703125 6.890625 \nQ 35.15625 6.890625 40.078125 11.328125 \nQ 45.015625 15.765625 45.015625 23.390625 \nQ 45.015625 31 40.078125 35.4375 \nQ 35.15625 39.890625 26.703125 39.890625 \nQ 22.75 39.890625 18.8125 39.015625 \nQ 14.890625 38.140625 10.796875 36.28125 \nz\n\" id=\"DejaVuSans-53\"/>\n      </defs>\n      <g transform=\"translate(7.2 64.34301)scale(0.1 -0.1)\">\n       <use xlink:href=\"#DejaVuSans-53\"/>\n       <use x=\"63.623047\" xlink:href=\"#DejaVuSans-48\"/>\n       <use x=\"127.246094\" xlink:href=\"#DejaVuSans-48\"/>\n       <use x=\"190.869141\" xlink:href=\"#DejaVuSans-48\"/>\n       <use x=\"254.492188\" xlink:href=\"#DejaVuSans-48\"/>\n      </g>\n     </g>\n    </g>\n    <g id=\"ytick_7\">\n     <g id=\"line2d_12\">\n      <g>\n       <use style=\"stroke:#000000;stroke-width:0.8;\" x=\"46.0125\" xlink:href=\"#m5101885734\" y=\"28.983294\"/>\n      </g>\n     </g>\n     <g id=\"text_12\">\n      <!-- 60000 -->\n      <defs>\n       <path d=\"M 33.015625 40.375 \nQ 26.375 40.375 22.484375 35.828125 \nQ 18.609375 31.296875 18.609375 23.390625 \nQ 18.609375 15.53125 22.484375 10.953125 \nQ 26.375 6.390625 33.015625 6.390625 \nQ 39.65625 6.390625 43.53125 10.953125 \nQ 47.40625 15.53125 47.40625 23.390625 \nQ 47.40625 31.296875 43.53125 35.828125 \nQ 39.65625 40.375 33.015625 40.375 \nz\nM 52.59375 71.296875 \nL 52.59375 62.3125 \nQ 48.875 64.0625 45.09375 64.984375 \nQ 41.3125 65.921875 37.59375 65.921875 \nQ 27.828125 65.921875 22.671875 59.328125 \nQ 17.53125 52.734375 16.796875 39.40625 \nQ 19.671875 43.65625 24.015625 45.921875 \nQ 28.375 48.1875 33.59375 48.1875 \nQ 44.578125 48.1875 50.953125 41.515625 \nQ 57.328125 34.859375 57.328125 23.390625 \nQ 57.328125 12.15625 50.6875 5.359375 \nQ 44.046875 -1.421875 33.015625 -1.421875 \nQ 20.359375 -1.421875 13.671875 8.265625 \nQ 6.984375 17.96875 6.984375 36.375 \nQ 6.984375 53.65625 15.1875 63.9375 \nQ 23.390625 74.21875 37.203125 74.21875 \nQ 40.921875 74.21875 44.703125 73.484375 \nQ 48.484375 72.75 52.59375 71.296875 \nz\n\" id=\"DejaVuSans-54\"/>\n      </defs>\n      <g transform=\"translate(7.2 32.782513)scale(0.1 -0.1)\">\n       <use xlink:href=\"#DejaVuSans-54\"/>\n       <use x=\"63.623047\" xlink:href=\"#DejaVuSans-48\"/>\n       <use x=\"127.246094\" xlink:href=\"#DejaVuSans-48\"/>\n       <use x=\"190.869141\" xlink:href=\"#DejaVuSans-48\"/>\n       <use x=\"254.492188\" xlink:href=\"#DejaVuSans-48\"/>\n      </g>\n     </g>\n    </g>\n   </g>\n   <g id=\"patch_3\">\n    <path d=\"M 46.0125 224.64 \nL 46.0125 7.2 \n\" style=\"fill:none;stroke:#000000;stroke-linecap:square;stroke-linejoin:miter;stroke-width:0.8;\"/>\n   </g>\n   <g id=\"patch_4\">\n    <path d=\"M 380.8125 224.64 \nL 380.8125 7.2 \n\" style=\"fill:none;stroke:#000000;stroke-linecap:square;stroke-linejoin:miter;stroke-width:0.8;\"/>\n   </g>\n   <g id=\"patch_5\">\n    <path d=\"M 46.0125 224.64 \nL 380.8125 224.64 \n\" style=\"fill:none;stroke:#000000;stroke-linecap:square;stroke-linejoin:miter;stroke-width:0.8;\"/>\n   </g>\n   <g id=\"patch_6\">\n    <path d=\"M 46.0125 7.2 \nL 380.8125 7.2 \n\" style=\"fill:none;stroke:#000000;stroke-linecap:square;stroke-linejoin:miter;stroke-width:0.8;\"/>\n   </g>\n  </g>\n </g>\n <defs>\n  <clipPath id=\"p8f9eebb916\">\n   <rect height=\"217.44\" width=\"334.8\" x=\"46.0125\" y=\"7.2\"/>\n  </clipPath>\n </defs>\n</svg>\n"
          },
          "metadata": {
            "needs_background": "light"
          }
        }
      ]
    },
    {
      "cell_type": "code",
      "source": [
        ""
      ],
      "metadata": {
        "id": "4ZZVt7_KJfiW"
      },
      "execution_count": 139,
      "outputs": []
    }
  ]
}